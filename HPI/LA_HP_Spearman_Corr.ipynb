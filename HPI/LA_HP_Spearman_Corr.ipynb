{
 "cells": [
  {
   "cell_type": "markdown",
   "source": "## Author: Mei Teng",
   "metadata": {
    "tags": [],
    "cell_id": "00000-e68b78cb-4506-42a4-8b1f-09eda1a8344d",
    "deepnote_cell_type": "markdown"
   }
  },
  {
   "cell_type": "markdown",
   "source": "### Spearman Correlation between Re-weighted Redlining Index and California Healthy Places Index (LA)",
   "metadata": {
    "cell_id": "00000-ea60ad7a-794d-43e0-a895-8b32857a92d9",
    "output_cleared": false,
    "tags": [],
    "deepnote_cell_type": "markdown"
   }
  },
  {
   "cell_type": "code",
   "metadata": {
    "cell_id": "00001-8d75f694-a44c-41c8-bce0-bfc341101b07",
    "output_cleared": false,
    "deepnote_cell_type": "code"
   },
   "source": "#Loading needed libraries\nimport geopandas as gpd\nimport matplotlib.pyplot as plt\nimport pandas as pd",
   "execution_count": null,
   "outputs": []
  },
  {
   "cell_type": "code",
   "metadata": {
    "cell_id": "00002-7efb35e9-007d-4b7b-bea3-b65e7cc7ffb7",
    "output_cleared": false,
    "tags": [],
    "deepnote_cell_type": "code"
   },
   "source": "#Reading the California Redline data prepared by the Akash\ncali_redline_data = gpd.read_file('./data/cali_redlined_numerical_values.geojson')\ncali_redline_data.head()",
   "execution_count": null,
   "outputs": [
    {
     "output_type": "execute_result",
     "execution_count": 8,
     "data": {
      "application/vnd.deepnote.dataframe.v2+json": {
       "error": "Traceback (most recent call last):\n  File \"/home/jovyan/.deepnote/variable_explorer.py\", line 270, in dataframe_formatter\n    return { MIME_TYPE: describe_pd_dataframe(df) }\n  File \"/home/jovyan/.deepnote/variable_explorer_helpers.py\", line 126, in describe_pd_dataframe\n    if (is_type_numeric(column.dtype)):\n  File \"/home/jovyan/.deepnote/variable_explorer_helpers.py\", line 11, in is_type_numeric\n    return np.issubdtype(dtype, np.number)\n  File \"/opt/venv/lib/python3.7/site-packages/numpy/core/numerictypes.py\", line 388, in issubdtype\n    arg1 = dtype(arg1).type\nTypeError: Cannot interpret '<geopandas.array.GeometryDtype object at 0x7f24c2a42518>' as a data type\n"
      },
      "text/plain": "  STATEFP COUNTYFP TRACTCE         GEOID     NAME              NAMELSAD  \\\n0      06      037  139301  6.037139e+09  1393.01  Census Tract 1393.01   \n1      06      037  139302  6.037139e+09  1393.02  Census Tract 1393.02   \n2      06      037  139502  6.037140e+09  1395.02  Census Tract 1395.02   \n3      06      037  139600  6.037140e+09     1396     Census Tract 1396   \n4      06      037  139701  6.037140e+09  1397.01  Census Tract 1397.01   \n\n   MTFCC FUNCSTAT    ALAND  AWATER     INTPTLAT      INTPTLON  \\\n0  G5020        S  2865657       0  +34.1781538  -118.5581265   \n1  G5020        S   338289       0  +34.1767230  -118.5383655   \n2  G5020        S  1047548       0  +34.1628402  -118.5263110   \n3  G5020        S  2477482       0  +34.1640599  -118.5101001   \n4  G5020        S  3396396    2411  +34.1574290  -118.4954117   \n\n   reweighted_redline_index  ordinal_value  \\\n0                       NaN            NaN   \n1                       NaN            NaN   \n2                       NaN            NaN   \n3                       NaN            NaN   \n4                       NaN            NaN   \n\n                                            geometry  \n0  POLYGON ((-118.57150 34.17758, -118.57148 34.1...  \n1  POLYGON ((-118.54073 34.18019, -118.54070 34.1...  \n2  POLYGON ((-118.53225 34.16201, -118.53177 34.1...  \n3  POLYGON ((-118.51858 34.15858, -118.51858 34.1...  \n4  POLYGON ((-118.50980 34.15691, -118.50848 34.1...  ",
      "text/html": "<div>\n<style scoped>\n    .dataframe tbody tr th:only-of-type {\n        vertical-align: middle;\n    }\n\n    .dataframe tbody tr th {\n        vertical-align: top;\n    }\n\n    .dataframe thead th {\n        text-align: right;\n    }\n</style>\n<table border=\"1\" class=\"dataframe\">\n  <thead>\n    <tr style=\"text-align: right;\">\n      <th></th>\n      <th>STATEFP</th>\n      <th>COUNTYFP</th>\n      <th>TRACTCE</th>\n      <th>GEOID</th>\n      <th>NAME</th>\n      <th>NAMELSAD</th>\n      <th>MTFCC</th>\n      <th>FUNCSTAT</th>\n      <th>ALAND</th>\n      <th>AWATER</th>\n      <th>INTPTLAT</th>\n      <th>INTPTLON</th>\n      <th>reweighted_redline_index</th>\n      <th>ordinal_value</th>\n      <th>geometry</th>\n    </tr>\n  </thead>\n  <tbody>\n    <tr>\n      <th>0</th>\n      <td>06</td>\n      <td>037</td>\n      <td>139301</td>\n      <td>6.037139e+09</td>\n      <td>1393.01</td>\n      <td>Census Tract 1393.01</td>\n      <td>G5020</td>\n      <td>S</td>\n      <td>2865657</td>\n      <td>0</td>\n      <td>+34.1781538</td>\n      <td>-118.5581265</td>\n      <td>NaN</td>\n      <td>NaN</td>\n      <td>POLYGON ((-118.57150 34.17758, -118.57148 34.1...</td>\n    </tr>\n    <tr>\n      <th>1</th>\n      <td>06</td>\n      <td>037</td>\n      <td>139302</td>\n      <td>6.037139e+09</td>\n      <td>1393.02</td>\n      <td>Census Tract 1393.02</td>\n      <td>G5020</td>\n      <td>S</td>\n      <td>338289</td>\n      <td>0</td>\n      <td>+34.1767230</td>\n      <td>-118.5383655</td>\n      <td>NaN</td>\n      <td>NaN</td>\n      <td>POLYGON ((-118.54073 34.18019, -118.54070 34.1...</td>\n    </tr>\n    <tr>\n      <th>2</th>\n      <td>06</td>\n      <td>037</td>\n      <td>139502</td>\n      <td>6.037140e+09</td>\n      <td>1395.02</td>\n      <td>Census Tract 1395.02</td>\n      <td>G5020</td>\n      <td>S</td>\n      <td>1047548</td>\n      <td>0</td>\n      <td>+34.1628402</td>\n      <td>-118.5263110</td>\n      <td>NaN</td>\n      <td>NaN</td>\n      <td>POLYGON ((-118.53225 34.16201, -118.53177 34.1...</td>\n    </tr>\n    <tr>\n      <th>3</th>\n      <td>06</td>\n      <td>037</td>\n      <td>139600</td>\n      <td>6.037140e+09</td>\n      <td>1396</td>\n      <td>Census Tract 1396</td>\n      <td>G5020</td>\n      <td>S</td>\n      <td>2477482</td>\n      <td>0</td>\n      <td>+34.1640599</td>\n      <td>-118.5101001</td>\n      <td>NaN</td>\n      <td>NaN</td>\n      <td>POLYGON ((-118.51858 34.15858, -118.51858 34.1...</td>\n    </tr>\n    <tr>\n      <th>4</th>\n      <td>06</td>\n      <td>037</td>\n      <td>139701</td>\n      <td>6.037140e+09</td>\n      <td>1397.01</td>\n      <td>Census Tract 1397.01</td>\n      <td>G5020</td>\n      <td>S</td>\n      <td>3396396</td>\n      <td>2411</td>\n      <td>+34.1574290</td>\n      <td>-118.4954117</td>\n      <td>NaN</td>\n      <td>NaN</td>\n      <td>POLYGON ((-118.50980 34.15691, -118.50848 34.1...</td>\n    </tr>\n  </tbody>\n</table>\n</div>"
     },
     "metadata": {}
    }
   ]
  },
  {
   "cell_type": "code",
   "metadata": {
    "cell_id": "00003-e4428741-b92a-4c43-a444-baafa532cb8a",
    "output_cleared": false,
    "tags": [],
    "deepnote_cell_type": "code"
   },
   "source": "#Reading the HPI csv file downloaded from California Healthy Places Index website\nHPI_data = pd.read_csv('./data/HPI.csv')\nHPI_data.head()",
   "execution_count": null,
   "outputs": [
    {
     "output_type": "execute_result",
     "execution_count": 12,
     "data": {
      "application/vnd.deepnote.dataframe.v2+json": {
       "row_count": 5,
       "column_count": 91,
       "columns": [
        {
         "name": "CensusTract",
         "dtype": "int64",
         "stats": {
          "unique_count": 5,
          "nan_count": 0,
          "min": 6001400100,
          "max": 6001400500,
          "histogram": [
           {
            "bin_start": 6001400100,
            "bin_end": 6001400140,
            "count": 1
           },
           {
            "bin_start": 6001400140,
            "bin_end": 6001400180,
            "count": 0
           },
           {
            "bin_start": 6001400180,
            "bin_end": 6001400220,
            "count": 1
           },
           {
            "bin_start": 6001400220,
            "bin_end": 6001400260,
            "count": 0
           },
           {
            "bin_start": 6001400260,
            "bin_end": 6001400300,
            "count": 0
           },
           {
            "bin_start": 6001400300,
            "bin_end": 6001400340,
            "count": 1
           },
           {
            "bin_start": 6001400340,
            "bin_end": 6001400380,
            "count": 0
           },
           {
            "bin_start": 6001400380,
            "bin_end": 6001400420,
            "count": 1
           },
           {
            "bin_start": 6001400420,
            "bin_end": 6001400460,
            "count": 0
           },
           {
            "bin_start": 6001400460,
            "bin_end": 6001400500,
            "count": 1
           }
          ]
         }
        },
        {
         "name": "pop2010",
         "dtype": "int64",
         "stats": {
          "unique_count": 5,
          "nan_count": 0,
          "min": 1974,
          "max": 4865,
          "histogram": [
           {
            "bin_start": 1974,
            "bin_end": 2263.1,
            "count": 1
           },
           {
            "bin_start": 2263.1,
            "bin_end": 2552.2,
            "count": 0
           },
           {
            "bin_start": 2552.2,
            "bin_end": 2841.3,
            "count": 0
           },
           {
            "bin_start": 2841.3,
            "bin_end": 3130.4,
            "count": 1
           },
           {
            "bin_start": 3130.4,
            "bin_end": 3419.5,
            "count": 0
           },
           {
            "bin_start": 3419.5,
            "bin_end": 3708.6000000000004,
            "count": 2
           },
           {
            "bin_start": 3708.6000000000004,
            "bin_end": 3997.7000000000003,
            "count": 0
           },
           {
            "bin_start": 3997.7000000000003,
            "bin_end": 4286.8,
            "count": 0
           },
           {
            "bin_start": 4286.8,
            "bin_end": 4575.9,
            "count": 0
           },
           {
            "bin_start": 4575.9,
            "bin_end": 4865,
            "count": 1
           }
          ]
         }
        },
        {
         "name": "pct2010gq",
         "dtype": "float64",
         "stats": {
          "unique_count": 5,
          "nan_count": 0,
          "min": 0.1,
          "max": 3.6,
          "histogram": [
           {
            "bin_start": 0.1,
            "bin_end": 0.44999999999999996,
            "count": 1
           },
           {
            "bin_start": 0.44999999999999996,
            "bin_end": 0.7999999999999999,
            "count": 0
           },
           {
            "bin_start": 0.7999999999999999,
            "bin_end": 1.15,
            "count": 2
           },
           {
            "bin_start": 1.15,
            "bin_end": 1.5,
            "count": 0
           },
           {
            "bin_start": 1.5,
            "bin_end": 1.85,
            "count": 0
           },
           {
            "bin_start": 1.85,
            "bin_end": 2.1999999999999997,
            "count": 0
           },
           {
            "bin_start": 2.1999999999999997,
            "bin_end": 2.55,
            "count": 0
           },
           {
            "bin_start": 2.55,
            "bin_end": 2.9,
            "count": 0
           },
           {
            "bin_start": 2.9,
            "bin_end": 3.25,
            "count": 0
           },
           {
            "bin_start": 3.25,
            "bin_end": 3.6,
            "count": 2
           }
          ]
         }
        },
        {
         "name": "City",
         "dtype": "object",
         "stats": {
          "unique_count": 1,
          "nan_count": 0,
          "categories": [
           {
            "name": "Oakland",
            "count": 5
           }
          ]
         }
        },
        {
         "name": "ZIP",
         "dtype": "float64",
         "stats": {
          "unique_count": 3,
          "nan_count": 0,
          "min": 94609,
          "max": 94704,
          "histogram": [
           {
            "bin_start": 94609,
            "bin_end": 94618.5,
            "count": 4
           },
           {
            "bin_start": 94618.5,
            "bin_end": 94628,
            "count": 0
           },
           {
            "bin_start": 94628,
            "bin_end": 94637.5,
            "count": 0
           },
           {
            "bin_start": 94637.5,
            "bin_end": 94647,
            "count": 0
           },
           {
            "bin_start": 94647,
            "bin_end": 94656.5,
            "count": 0
           },
           {
            "bin_start": 94656.5,
            "bin_end": 94666,
            "count": 0
           },
           {
            "bin_start": 94666,
            "bin_end": 94675.5,
            "count": 0
           },
           {
            "bin_start": 94675.5,
            "bin_end": 94685,
            "count": 0
           },
           {
            "bin_start": 94685,
            "bin_end": 94694.5,
            "count": 0
           },
           {
            "bin_start": 94694.5,
            "bin_end": 94704,
            "count": 1
           }
          ]
         }
        },
        {
         "name": "County_FIPS",
         "dtype": "int64",
         "stats": {
          "unique_count": 1,
          "nan_count": 0,
          "min": 6001,
          "max": 6001,
          "histogram": [
           {
            "bin_start": 6000.5,
            "bin_end": 6000.6,
            "count": 0
           },
           {
            "bin_start": 6000.6,
            "bin_end": 6000.7,
            "count": 0
           },
           {
            "bin_start": 6000.7,
            "bin_end": 6000.8,
            "count": 0
           },
           {
            "bin_start": 6000.8,
            "bin_end": 6000.9,
            "count": 0
           },
           {
            "bin_start": 6000.9,
            "bin_end": 6001,
            "count": 0
           },
           {
            "bin_start": 6001,
            "bin_end": 6001.1,
            "count": 5
           },
           {
            "bin_start": 6001.1,
            "bin_end": 6001.2,
            "count": 0
           },
           {
            "bin_start": 6001.2,
            "bin_end": 6001.3,
            "count": 0
           },
           {
            "bin_start": 6001.3,
            "bin_end": 6001.4,
            "count": 0
           },
           {
            "bin_start": 6001.4,
            "bin_end": 6001.5,
            "count": 0
           }
          ]
         }
        },
        {
         "name": "County_Name",
         "dtype": "object",
         "stats": {
          "unique_count": 1,
          "nan_count": 0,
          "categories": [
           {
            "name": "Alameda",
            "count": 5
           }
          ]
         }
        },
        {
         "name": "UrbanType",
         "dtype": "object",
         "stats": {
          "unique_count": 1,
          "nan_count": 0,
          "categories": [
           {
            "name": "urban_area",
            "count": 5
           }
          ]
         }
        },
        {
         "name": "hpi2score",
         "dtype": "float64",
         "stats": {
          "unique_count": 5,
          "nan_count": 0,
          "min": 0.56279906,
          "max": 1.325873799,
          "histogram": [
           {
            "bin_start": 0.56279906,
            "bin_end": 0.6391065339,
            "count": 1
           },
           {
            "bin_start": 0.6391065339,
            "bin_end": 0.7154140078,
            "count": 0
           },
           {
            "bin_start": 0.7154140078,
            "bin_end": 0.7917214817,
            "count": 0
           },
           {
            "bin_start": 0.7917214817,
            "bin_end": 0.8680289556,
            "count": 0
           },
           {
            "bin_start": 0.8680289556,
            "bin_end": 0.9443364295000001,
            "count": 1
           },
           {
            "bin_start": 0.9443364295000001,
            "bin_end": 1.0206439034,
            "count": 0
           },
           {
            "bin_start": 1.0206439034,
            "bin_end": 1.0969513773,
            "count": 0
           },
           {
            "bin_start": 1.0969513773,
            "bin_end": 1.1732588512,
            "count": 1
           },
           {
            "bin_start": 1.1732588512,
            "bin_end": 1.2495663251,
            "count": 1
           },
           {
            "bin_start": 1.2495663251,
            "bin_end": 1.325873799,
            "count": 1
           }
          ]
         }
        },
        {
         "name": "hpi2_pctile_pos",
         "dtype": "float64",
         "stats": {
          "unique_count": 5,
          "nan_count": 0,
          "min": 83.31836263,
          "max": 99.70486334,
          "histogram": [
           {
            "bin_start": 83.31836263,
            "bin_end": 84.957012701,
            "count": 1
           },
           {
            "bin_start": 84.957012701,
            "bin_end": 86.595662772,
            "count": 0
           },
           {
            "bin_start": 86.595662772,
            "bin_end": 88.234312843,
            "count": 0
           },
           {
            "bin_start": 88.234312843,
            "bin_end": 89.872962914,
            "count": 0
           },
           {
            "bin_start": 89.872962914,
            "bin_end": 91.511612985,
            "count": 0
           },
           {
            "bin_start": 91.511612985,
            "bin_end": 93.150263056,
            "count": 0
           },
           {
            "bin_start": 93.150263056,
            "bin_end": 94.788913127,
            "count": 0
           },
           {
            "bin_start": 94.788913127,
            "bin_end": 96.427563198,
            "count": 1
           },
           {
            "bin_start": 96.427563198,
            "bin_end": 98.066213269,
            "count": 0
           },
           {
            "bin_start": 98.066213269,
            "bin_end": 99.70486334,
            "count": 3
           }
          ]
         }
        },
        {
         "name": "hpi2_pctile_neg",
         "dtype": "float64",
         "stats": {
          "unique_count": 5,
          "nan_count": 0,
          "min": 0.295136661,
          "max": 16.68163737,
          "histogram": [
           {
            "bin_start": 0.295136661,
            "bin_end": 1.9337867319000002,
            "count": 3
           },
           {
            "bin_start": 1.9337867319000002,
            "bin_end": 3.5724368028,
            "count": 0
           },
           {
            "bin_start": 3.5724368028,
            "bin_end": 5.2110868737,
            "count": 1
           },
           {
            "bin_start": 5.2110868737,
            "bin_end": 6.8497369446,
            "count": 0
           },
           {
            "bin_start": 6.8497369446,
            "bin_end": 8.4883870155,
            "count": 0
           },
           {
            "bin_start": 8.4883870155,
            "bin_end": 10.127037086400001,
            "count": 0
           },
           {
            "bin_start": 10.127037086400001,
            "bin_end": 11.7656871573,
            "count": 0
           },
           {
            "bin_start": 11.7656871573,
            "bin_end": 13.404337228200001,
            "count": 0
           },
           {
            "bin_start": 13.404337228200001,
            "bin_end": 15.042987299100002,
            "count": 0
           },
           {
            "bin_start": 15.042987299100002,
            "bin_end": 16.68163737,
            "count": 1
           }
          ]
         }
        },
        {
         "name": "hpi_top25pct",
         "dtype": "object",
         "stats": {
          "unique_count": 1,
          "nan_count": 0,
          "categories": [
           {
            "name": "Yes",
            "count": 5
           }
          ]
         }
        },
        {
         "name": "quintiles",
         "dtype": "float64",
         "stats": {
          "unique_count": 1,
          "nan_count": 0,
          "min": 1,
          "max": 1,
          "histogram": [
           {
            "bin_start": 0.5,
            "bin_end": 0.6,
            "count": 0
           },
           {
            "bin_start": 0.6,
            "bin_end": 0.7,
            "count": 0
           },
           {
            "bin_start": 0.7,
            "bin_end": 0.8,
            "count": 0
           },
           {
            "bin_start": 0.8,
            "bin_end": 0.9,
            "count": 0
           },
           {
            "bin_start": 0.9,
            "bin_end": 1,
            "count": 0
           },
           {
            "bin_start": 1,
            "bin_end": 1.1,
            "count": 5
           },
           {
            "bin_start": 1.1,
            "bin_end": 1.2000000000000002,
            "count": 0
           },
           {
            "bin_start": 1.2000000000000002,
            "bin_end": 1.3,
            "count": 0
           },
           {
            "bin_start": 1.3,
            "bin_end": 1.4,
            "count": 0
           },
           {
            "bin_start": 1.4,
            "bin_end": 1.5,
            "count": 0
           }
          ]
         }
        },
        {
         "name": "quartiles",
         "dtype": "float64",
         "stats": {
          "unique_count": 1,
          "nan_count": 0,
          "min": 1,
          "max": 1,
          "histogram": [
           {
            "bin_start": 0.5,
            "bin_end": 0.6,
            "count": 0
           },
           {
            "bin_start": 0.6,
            "bin_end": 0.7,
            "count": 0
           },
           {
            "bin_start": 0.7,
            "bin_end": 0.8,
            "count": 0
           },
           {
            "bin_start": 0.8,
            "bin_end": 0.9,
            "count": 0
           },
           {
            "bin_start": 0.9,
            "bin_end": 1,
            "count": 0
           },
           {
            "bin_start": 1,
            "bin_end": 1.1,
            "count": 5
           },
           {
            "bin_start": 1.1,
            "bin_end": 1.2000000000000002,
            "count": 0
           },
           {
            "bin_start": 1.2000000000000002,
            "bin_end": 1.3,
            "count": 0
           },
           {
            "bin_start": 1.3,
            "bin_end": 1.4,
            "count": 0
           },
           {
            "bin_start": 1.4,
            "bin_end": 1.5,
            "count": 0
           }
          ]
         }
        },
        {
         "name": "economic",
         "dtype": "float64",
         "stats": {
          "unique_count": 5,
          "nan_count": 0,
          "min": 0.577803305,
          "max": 1.808760851,
          "histogram": [
           {
            "bin_start": 0.577803305,
            "bin_end": 0.7008990596,
            "count": 1
           },
           {
            "bin_start": 0.7008990596,
            "bin_end": 0.8239948142,
            "count": 0
           },
           {
            "bin_start": 0.8239948142,
            "bin_end": 0.9470905688,
            "count": 0
           },
           {
            "bin_start": 0.9470905688,
            "bin_end": 1.0701863234,
            "count": 1
           },
           {
            "bin_start": 1.0701863234,
            "bin_end": 1.193282078,
            "count": 0
           },
           {
            "bin_start": 1.193282078,
            "bin_end": 1.3163778326,
            "count": 1
           },
           {
            "bin_start": 1.3163778326,
            "bin_end": 1.4394735872,
            "count": 0
           },
           {
            "bin_start": 1.4394735872,
            "bin_end": 1.5625693418,
            "count": 0
           },
           {
            "bin_start": 1.5625693418,
            "bin_end": 1.6856650964,
            "count": 0
           },
           {
            "bin_start": 1.6856650964,
            "bin_end": 1.808760851,
            "count": 2
           }
          ]
         }
        },
        {
         "name": "economic_pctile",
         "dtype": "float64",
         "stats": {
          "unique_count": 5,
          "nan_count": 0,
          "min": 71.85936096,
          "max": 99.03759784,
          "histogram": [
           {
            "bin_start": 71.85936096,
            "bin_end": 74.577184648,
            "count": 1
           },
           {
            "bin_start": 74.577184648,
            "bin_end": 77.29500833600001,
            "count": 0
           },
           {
            "bin_start": 77.29500833600001,
            "bin_end": 80.012832024,
            "count": 0
           },
           {
            "bin_start": 80.012832024,
            "bin_end": 82.730655712,
            "count": 0
           },
           {
            "bin_start": 82.730655712,
            "bin_end": 85.4484794,
            "count": 0
           },
           {
            "bin_start": 85.4484794,
            "bin_end": 88.166303088,
            "count": 1
           },
           {
            "bin_start": 88.166303088,
            "bin_end": 90.884126776,
            "count": 0
           },
           {
            "bin_start": 90.884126776,
            "bin_end": 93.601950464,
            "count": 0
           },
           {
            "bin_start": 93.601950464,
            "bin_end": 96.31977415200001,
            "count": 1
           },
           {
            "bin_start": 96.31977415200001,
            "bin_end": 99.03759784,
            "count": 2
           }
          ]
         }
        },
        {
         "name": "education",
         "dtype": "float64",
         "stats": {
          "unique_count": 5,
          "nan_count": 0,
          "min": 0.486144516,
          "max": 1.348314049,
          "histogram": [
           {
            "bin_start": 0.486144516,
            "bin_end": 0.5723614693000001,
            "count": 1
           },
           {
            "bin_start": 0.5723614693000001,
            "bin_end": 0.6585784226,
            "count": 0
           },
           {
            "bin_start": 0.6585784226,
            "bin_end": 0.7447953759000001,
            "count": 0
           },
           {
            "bin_start": 0.7447953759000001,
            "bin_end": 0.8310123292,
            "count": 0
           },
           {
            "bin_start": 0.8310123292,
            "bin_end": 0.9172292825000001,
            "count": 0
           },
           {
            "bin_start": 0.9172292825000001,
            "bin_end": 1.0034462358,
            "count": 2
           },
           {
            "bin_start": 1.0034462358,
            "bin_end": 1.0896631891000002,
            "count": 0
           },
           {
            "bin_start": 1.0896631891000002,
            "bin_end": 1.1758801424,
            "count": 1
           },
           {
            "bin_start": 1.1758801424,
            "bin_end": 1.2620970957000002,
            "count": 0
           },
           {
            "bin_start": 1.2620970957000002,
            "bin_end": 1.348314049,
            "count": 1
           }
          ]
         }
        },
        {
         "name": "education_pctile",
         "dtype": "float64",
         "stats": {
          "unique_count": 5,
          "nan_count": 0,
          "min": 75.37533684,
          "max": 98.16501989,
          "histogram": [
           {
            "bin_start": 75.37533684,
            "bin_end": 77.654305145,
            "count": 1
           },
           {
            "bin_start": 77.654305145,
            "bin_end": 79.93327345,
            "count": 0
           },
           {
            "bin_start": 79.93327345,
            "bin_end": 82.21224175500001,
            "count": 0
           },
           {
            "bin_start": 82.21224175500001,
            "bin_end": 84.49121006,
            "count": 0
           },
           {
            "bin_start": 84.49121006,
            "bin_end": 86.77017836499999,
            "count": 0
           },
           {
            "bin_start": 86.77017836499999,
            "bin_end": 89.04914667,
            "count": 0
           },
           {
            "bin_start": 89.04914667,
            "bin_end": 91.328114975,
            "count": 2
           },
           {
            "bin_start": 91.328114975,
            "bin_end": 93.60708328,
            "count": 0
           },
           {
            "bin_start": 93.60708328,
            "bin_end": 95.88605158499999,
            "count": 1
           },
           {
            "bin_start": 95.88605158499999,
            "bin_end": 98.16501989,
            "count": 1
           }
          ]
         }
        },
        {
         "name": "housing",
         "dtype": "float64",
         "stats": {
          "unique_count": 5,
          "nan_count": 0,
          "min": 0.029925628,
          "max": 0.9597282540000001,
          "histogram": [
           {
            "bin_start": 0.029925628,
            "bin_end": 0.1229058906,
            "count": 1
           },
           {
            "bin_start": 0.1229058906,
            "bin_end": 0.2158861532,
            "count": 0
           },
           {
            "bin_start": 0.2158861532,
            "bin_end": 0.30886641579999996,
            "count": 0
           },
           {
            "bin_start": 0.30886641579999996,
            "bin_end": 0.4018466784,
            "count": 1
           },
           {
            "bin_start": 0.4018466784,
            "bin_end": 0.494826941,
            "count": 0
           },
           {
            "bin_start": 0.494826941,
            "bin_end": 0.5878072035999999,
            "count": 0
           },
           {
            "bin_start": 0.5878072035999999,
            "bin_end": 0.6807874662,
            "count": 1
           },
           {
            "bin_start": 0.6807874662,
            "bin_end": 0.7737677288,
            "count": 1
           },
           {
            "bin_start": 0.7737677288,
            "bin_end": 0.8667479914,
            "count": 0
           },
           {
            "bin_start": 0.8667479914,
            "bin_end": 0.9597282540000001,
            "count": 1
           }
          ]
         }
        },
        {
         "name": "housing_pctile",
         "dtype": "float64",
         "stats": {
          "unique_count": 5,
          "nan_count": 0,
          "min": 45.95149493,
          "max": 96.8304889,
          "histogram": [
           {
            "bin_start": 45.95149493,
            "bin_end": 51.039394327000004,
            "count": 1
           },
           {
            "bin_start": 51.039394327000004,
            "bin_end": 56.127293724000005,
            "count": 0
           },
           {
            "bin_start": 56.127293724000005,
            "bin_end": 61.215193121,
            "count": 0
           },
           {
            "bin_start": 61.215193121,
            "bin_end": 66.303092518,
            "count": 0
           },
           {
            "bin_start": 66.303092518,
            "bin_end": 71.390991915,
            "count": 1
           },
           {
            "bin_start": 71.390991915,
            "bin_end": 76.478891312,
            "count": 0
           },
           {
            "bin_start": 76.478891312,
            "bin_end": 81.566790709,
            "count": 0
           },
           {
            "bin_start": 81.566790709,
            "bin_end": 86.654690106,
            "count": 1
           },
           {
            "bin_start": 86.654690106,
            "bin_end": 91.742589503,
            "count": 1
           },
           {
            "bin_start": 91.742589503,
            "bin_end": 96.8304889,
            "count": 1
           }
          ]
         }
        },
        {
         "name": "healthcareaccess",
         "dtype": "float64",
         "stats": {
          "unique_count": 5,
          "nan_count": 0,
          "min": 0.485643275,
          "max": 1.301728974,
          "histogram": [
           {
            "bin_start": 0.485643275,
            "bin_end": 0.5672518449,
            "count": 1
           },
           {
            "bin_start": 0.5672518449,
            "bin_end": 0.6488604148,
            "count": 0
           },
           {
            "bin_start": 0.6488604148,
            "bin_end": 0.7304689847,
            "count": 0
           },
           {
            "bin_start": 0.7304689847,
            "bin_end": 0.8120775546000001,
            "count": 0
           },
           {
            "bin_start": 0.8120775546000001,
            "bin_end": 0.8936861245000001,
            "count": 0
           },
           {
            "bin_start": 0.8936861245000001,
            "bin_end": 0.9752946944,
            "count": 0
           },
           {
            "bin_start": 0.9752946944,
            "bin_end": 1.0569032643,
            "count": 1
           },
           {
            "bin_start": 1.0569032643,
            "bin_end": 1.1385118342,
            "count": 0
           },
           {
            "bin_start": 1.1385118342,
            "bin_end": 1.2201204041,
            "count": 0
           },
           {
            "bin_start": 1.2201204041,
            "bin_end": 1.301728974,
            "count": 3
           }
          ]
         }
        },
        {
         "name": "healthcareaccess_pctile",
         "dtype": "float64",
         "stats": {
          "unique_count": 5,
          "nan_count": 0,
          "min": 62.95393302,
          "max": 94.43089953,
          "histogram": [
           {
            "bin_start": 62.95393302,
            "bin_end": 66.101629671,
            "count": 1
           },
           {
            "bin_start": 66.101629671,
            "bin_end": 69.249326322,
            "count": 0
           },
           {
            "bin_start": 69.249326322,
            "bin_end": 72.397022973,
            "count": 0
           },
           {
            "bin_start": 72.397022973,
            "bin_end": 75.54471962400001,
            "count": 0
           },
           {
            "bin_start": 75.54471962400001,
            "bin_end": 78.692416275,
            "count": 0
           },
           {
            "bin_start": 78.692416275,
            "bin_end": 81.840112926,
            "count": 0
           },
           {
            "bin_start": 81.840112926,
            "bin_end": 84.98780957700001,
            "count": 1
           },
           {
            "bin_start": 84.98780957700001,
            "bin_end": 88.135506228,
            "count": 0
           },
           {
            "bin_start": 88.135506228,
            "bin_end": 91.283202879,
            "count": 0
           },
           {
            "bin_start": 91.283202879,
            "bin_end": 94.43089953,
            "count": 3
           }
          ]
         }
        },
        {
         "name": "neighborhood",
         "dtype": "float64",
         "stats": {
          "unique_count": 5,
          "nan_count": 0,
          "min": -0.291977182,
          "max": 0.832169913,
          "histogram": [
           {
            "bin_start": -0.291977182,
            "bin_end": -0.1795624725,
            "count": 1
           },
           {
            "bin_start": -0.1795624725,
            "bin_end": -0.06714776299999997,
            "count": 1
           },
           {
            "bin_start": -0.06714776299999997,
            "bin_end": 0.04526694650000007,
            "count": 0
           },
           {
            "bin_start": 0.04526694650000007,
            "bin_end": 0.15768165600000006,
            "count": 1
           },
           {
            "bin_start": 0.15768165600000006,
            "bin_end": 0.27009636550000005,
            "count": 0
           },
           {
            "bin_start": 0.27009636550000005,
            "bin_end": 0.38251107500000014,
            "count": 0
           },
           {
            "bin_start": 0.38251107500000014,
            "bin_end": 0.49492578450000013,
            "count": 0
           },
           {
            "bin_start": 0.49492578450000013,
            "bin_end": 0.6073404940000001,
            "count": 1
           },
           {
            "bin_start": 0.6073404940000001,
            "bin_end": 0.7197552035000002,
            "count": 0
           },
           {
            "bin_start": 0.7197552035000002,
            "bin_end": 0.832169913,
            "count": 1
           }
          ]
         }
        },
        {
         "name": "neighborhood_pctile",
         "dtype": "float64",
         "stats": {
          "unique_count": 5,
          "nan_count": 0,
          "min": 19.94097267,
          "max": 98.39599641,
          "histogram": [
           {
            "bin_start": 19.94097267,
            "bin_end": 27.786475044,
            "count": 1
           },
           {
            "bin_start": 27.786475044,
            "bin_end": 35.631977418000005,
            "count": 1
           },
           {
            "bin_start": 35.631977418000005,
            "bin_end": 43.477479792000004,
            "count": 0
           },
           {
            "bin_start": 43.477479792000004,
            "bin_end": 51.322982166,
            "count": 0
           },
           {
            "bin_start": 51.322982166,
            "bin_end": 59.16848454,
            "count": 1
           },
           {
            "bin_start": 59.16848454,
            "bin_end": 67.01398691400001,
            "count": 0
           },
           {
            "bin_start": 67.01398691400001,
            "bin_end": 74.859489288,
            "count": 0
           },
           {
            "bin_start": 74.859489288,
            "bin_end": 82.704991662,
            "count": 0
           },
           {
            "bin_start": 82.704991662,
            "bin_end": 90.550494036,
            "count": 0
           },
           {
            "bin_start": 90.550494036,
            "bin_end": 98.39599641,
            "count": 2
           }
          ]
         }
        },
        {
         "name": "pollution",
         "dtype": "float64",
         "stats": {
          "unique_count": 2,
          "nan_count": 0,
          "min": 0.6572610560000001,
          "max": 0.878124826,
          "histogram": [
           {
            "bin_start": 0.6572610560000001,
            "bin_end": 0.679347433,
            "count": 4
           },
           {
            "bin_start": 0.679347433,
            "bin_end": 0.70143381,
            "count": 0
           },
           {
            "bin_start": 0.70143381,
            "bin_end": 0.7235201870000001,
            "count": 0
           },
           {
            "bin_start": 0.7235201870000001,
            "bin_end": 0.745606564,
            "count": 0
           },
           {
            "bin_start": 0.745606564,
            "bin_end": 0.767692941,
            "count": 0
           },
           {
            "bin_start": 0.767692941,
            "bin_end": 0.789779318,
            "count": 0
           },
           {
            "bin_start": 0.789779318,
            "bin_end": 0.811865695,
            "count": 0
           },
           {
            "bin_start": 0.811865695,
            "bin_end": 0.833952072,
            "count": 0
           },
           {
            "bin_start": 0.833952072,
            "bin_end": 0.8560384489999999,
            "count": 0
           },
           {
            "bin_start": 0.8560384489999999,
            "bin_end": 0.878124826,
            "count": 1
           }
          ]
         }
        },
        {
         "name": "pollution_pctile",
         "dtype": "float64",
         "stats": {
          "unique_count": 2,
          "nan_count": 0,
          "min": 85.62812781,
          "max": 92.37777493,
          "histogram": [
           {
            "bin_start": 85.62812781,
            "bin_end": 86.303092522,
            "count": 4
           },
           {
            "bin_start": 86.303092522,
            "bin_end": 86.97805723399999,
            "count": 0
           },
           {
            "bin_start": 86.97805723399999,
            "bin_end": 87.653021946,
            "count": 0
           },
           {
            "bin_start": 87.653021946,
            "bin_end": 88.327986658,
            "count": 0
           },
           {
            "bin_start": 88.327986658,
            "bin_end": 89.00295137,
            "count": 0
           },
           {
            "bin_start": 89.00295137,
            "bin_end": 89.677916082,
            "count": 0
           },
           {
            "bin_start": 89.677916082,
            "bin_end": 90.352880794,
            "count": 0
           },
           {
            "bin_start": 90.352880794,
            "bin_end": 91.027845506,
            "count": 0
           },
           {
            "bin_start": 91.027845506,
            "bin_end": 91.702810218,
            "count": 0
           },
           {
            "bin_start": 91.702810218,
            "bin_end": 92.37777493,
            "count": 1
           }
          ]
         }
        },
        {
         "name": "transportation",
         "dtype": "float64",
         "stats": {
          "unique_count": 5,
          "nan_count": 0,
          "min": 0.616855445,
          "max": 1.7566567069999999,
          "histogram": [
           {
            "bin_start": 0.616855445,
            "bin_end": 0.7308355712,
            "count": 1
           },
           {
            "bin_start": 0.7308355712,
            "bin_end": 0.8448156974,
            "count": 1
           },
           {
            "bin_start": 0.8448156974,
            "bin_end": 0.9587958235999999,
            "count": 1
           },
           {
            "bin_start": 0.9587958235999999,
            "bin_end": 1.0727759498,
            "count": 0
           },
           {
            "bin_start": 1.0727759498,
            "bin_end": 1.186756076,
            "count": 0
           },
           {
            "bin_start": 1.186756076,
            "bin_end": 1.3007362022,
            "count": 0
           },
           {
            "bin_start": 1.3007362022,
            "bin_end": 1.4147163284,
            "count": 0
           },
           {
            "bin_start": 1.4147163284,
            "bin_end": 1.5286964546,
            "count": 1
           },
           {
            "bin_start": 1.5286964546,
            "bin_end": 1.6426765808,
            "count": 0
           },
           {
            "bin_start": 1.6426765808,
            "bin_end": 1.7566567069999999,
            "count": 1
           }
          ]
         }
        },
        {
         "name": "transportation_pctile",
         "dtype": "float64",
         "stats": {
          "unique_count": 5,
          "nan_count": 0,
          "min": 95.22648531,
          "max": 99.91017579999999,
          "histogram": [
           {
            "bin_start": 95.22648531,
            "bin_end": 95.694854359,
            "count": 1
           },
           {
            "bin_start": 95.694854359,
            "bin_end": 96.163223408,
            "count": 0
           },
           {
            "bin_start": 96.163223408,
            "bin_end": 96.631592457,
            "count": 0
           },
           {
            "bin_start": 96.631592457,
            "bin_end": 97.099961506,
            "count": 0
           },
           {
            "bin_start": 97.099961506,
            "bin_end": 97.56833055499999,
            "count": 2
           },
           {
            "bin_start": 97.56833055499999,
            "bin_end": 98.03669960399999,
            "count": 0
           },
           {
            "bin_start": 98.03669960399999,
            "bin_end": 98.505068653,
            "count": 0
           },
           {
            "bin_start": 98.505068653,
            "bin_end": 98.973437702,
            "count": 0
           },
           {
            "bin_start": 98.973437702,
            "bin_end": 99.44180675099999,
            "count": 0
           },
           {
            "bin_start": 99.44180675099999,
            "bin_end": 99.91017579999999,
            "count": 2
           }
          ]
         }
        },
        {
         "name": "social",
         "dtype": "float64",
         "stats": {
          "unique_count": 5,
          "nan_count": 0,
          "min": 0.949500193,
          "max": 1.3366018640000001,
          "histogram": [
           {
            "bin_start": 0.949500193,
            "bin_end": 0.9882103601,
            "count": 1
           },
           {
            "bin_start": 0.9882103601,
            "bin_end": 1.0269205272,
            "count": 0
           },
           {
            "bin_start": 1.0269205272,
            "bin_end": 1.0656306943,
            "count": 0
           },
           {
            "bin_start": 1.0656306943,
            "bin_end": 1.1043408614,
            "count": 1
           },
           {
            "bin_start": 1.1043408614,
            "bin_end": 1.1430510285,
            "count": 0
           },
           {
            "bin_start": 1.1430510285,
            "bin_end": 1.1817611956,
            "count": 0
           },
           {
            "bin_start": 1.1817611956,
            "bin_end": 1.2204713627000001,
            "count": 0
           },
           {
            "bin_start": 1.2204713627000001,
            "bin_end": 1.2591815298000002,
            "count": 1
           },
           {
            "bin_start": 1.2591815298000002,
            "bin_end": 1.2978916969,
            "count": 1
           },
           {
            "bin_start": 1.2978916969,
            "bin_end": 1.3366018640000001,
            "count": 1
           }
          ]
         }
        },
        {
         "name": "social_pctile",
         "dtype": "float64",
         "stats": {
          "unique_count": 5,
          "nan_count": 0,
          "min": 86.82150648,
          "max": 96.88181702,
          "histogram": [
           {
            "bin_start": 86.82150648,
            "bin_end": 87.827537534,
            "count": 1
           },
           {
            "bin_start": 87.827537534,
            "bin_end": 88.83356858799999,
            "count": 0
           },
           {
            "bin_start": 88.83356858799999,
            "bin_end": 89.839599642,
            "count": 0
           },
           {
            "bin_start": 89.839599642,
            "bin_end": 90.845630696,
            "count": 0
           },
           {
            "bin_start": 90.845630696,
            "bin_end": 91.85166175,
            "count": 1
           },
           {
            "bin_start": 91.85166175,
            "bin_end": 92.857692804,
            "count": 0
           },
           {
            "bin_start": 92.857692804,
            "bin_end": 93.863723858,
            "count": 0
           },
           {
            "bin_start": 93.863723858,
            "bin_end": 94.869754912,
            "count": 1
           },
           {
            "bin_start": 94.869754912,
            "bin_end": 95.875785966,
            "count": 0
           },
           {
            "bin_start": 95.875785966,
            "bin_end": 96.88181702,
            "count": 2
           }
          ]
         }
        },
        {
         "name": "insured",
         "dtype": "float64",
         "stats": {
          "unique_count": 5,
          "nan_count": 0,
          "min": 85.3,
          "max": 95.2,
          "histogram": [
           {
            "bin_start": 85.3,
            "bin_end": 86.28999999999999,
            "count": 1
           },
           {
            "bin_start": 86.28999999999999,
            "bin_end": 87.28,
            "count": 0
           },
           {
            "bin_start": 87.28,
            "bin_end": 88.27,
            "count": 0
           },
           {
            "bin_start": 88.27,
            "bin_end": 89.26,
            "count": 0
           },
           {
            "bin_start": 89.26,
            "bin_end": 90.25,
            "count": 0
           },
           {
            "bin_start": 90.25,
            "bin_end": 91.24,
            "count": 0
           },
           {
            "bin_start": 91.24,
            "bin_end": 92.23,
            "count": 1
           },
           {
            "bin_start": 92.23,
            "bin_end": 93.22,
            "count": 0
           },
           {
            "bin_start": 93.22,
            "bin_end": 94.21000000000001,
            "count": 0
           },
           {
            "bin_start": 94.21000000000001,
            "bin_end": 95.2,
            "count": 3
           }
          ]
         }
        },
        {
         "name": "insured_pctile",
         "dtype": "float64",
         "stats": {
          "unique_count": 5,
          "nan_count": 0,
          "min": 62.95393302,
          "max": 94.43089953,
          "histogram": [
           {
            "bin_start": 62.95393302,
            "bin_end": 66.101629671,
            "count": 1
           },
           {
            "bin_start": 66.101629671,
            "bin_end": 69.249326322,
            "count": 0
           },
           {
            "bin_start": 69.249326322,
            "bin_end": 72.397022973,
            "count": 0
           },
           {
            "bin_start": 72.397022973,
            "bin_end": 75.54471962400001,
            "count": 0
           },
           {
            "bin_start": 75.54471962400001,
            "bin_end": 78.692416275,
            "count": 0
           },
           {
            "bin_start": 78.692416275,
            "bin_end": 81.840112926,
            "count": 0
           },
           {
            "bin_start": 81.840112926,
            "bin_end": 84.98780957700001,
            "count": 1
           },
           {
            "bin_start": 84.98780957700001,
            "bin_end": 88.135506228,
            "count": 0
           },
           {
            "bin_start": 88.135506228,
            "bin_end": 91.283202879,
            "count": 0
           },
           {
            "bin_start": 91.283202879,
            "bin_end": 94.43089953,
            "count": 3
           }
          ]
         }
        },
        {
         "name": "uncrowded",
         "dtype": "float64",
         "stats": {
          "unique_count": 4,
          "nan_count": 0,
          "min": 97.5,
          "max": 100,
          "histogram": [
           {
            "bin_start": 97.5,
            "bin_end": 97.75,
            "count": 1
           },
           {
            "bin_start": 97.75,
            "bin_end": 98,
            "count": 0
           },
           {
            "bin_start": 98,
            "bin_end": 98.25,
            "count": 0
           },
           {
            "bin_start": 98.25,
            "bin_end": 98.5,
            "count": 0
           },
           {
            "bin_start": 98.5,
            "bin_end": 98.75,
            "count": 0
           },
           {
            "bin_start": 98.75,
            "bin_end": 99,
            "count": 0
           },
           {
            "bin_start": 99,
            "bin_end": 99.25,
            "count": 1
           },
           {
            "bin_start": 99.25,
            "bin_end": 99.5,
            "count": 1
           },
           {
            "bin_start": 99.5,
            "bin_end": 99.75,
            "count": 0
           },
           {
            "bin_start": 99.75,
            "bin_end": 100,
            "count": 2
           }
          ]
         }
        },
        {
         "name": "uncrowded_pctile",
         "dtype": "float64",
         "stats": {
          "unique_count": 4,
          "nan_count": 0,
          "min": 71.88502502,
          "max": 96.93314513,
          "histogram": [
           {
            "bin_start": 71.88502502,
            "bin_end": 74.389837031,
            "count": 1
           },
           {
            "bin_start": 74.389837031,
            "bin_end": 76.894649042,
            "count": 0
           },
           {
            "bin_start": 76.894649042,
            "bin_end": 79.399461053,
            "count": 0
           },
           {
            "bin_start": 79.399461053,
            "bin_end": 81.904273064,
            "count": 0
           },
           {
            "bin_start": 81.904273064,
            "bin_end": 84.40908507500001,
            "count": 0
           },
           {
            "bin_start": 84.40908507500001,
            "bin_end": 86.91389708599999,
            "count": 0
           },
           {
            "bin_start": 86.91389708599999,
            "bin_end": 89.418709097,
            "count": 1
           },
           {
            "bin_start": 89.418709097,
            "bin_end": 91.923521108,
            "count": 1
           },
           {
            "bin_start": 91.923521108,
            "bin_end": 94.428333119,
            "count": 0
           },
           {
            "bin_start": 94.428333119,
            "bin_end": 96.93314513,
            "count": 2
           }
          ]
         }
        },
        {
         "name": "homeownership",
         "dtype": "float64",
         "stats": {
          "unique_count": 5,
          "nan_count": 0,
          "min": 36.3,
          "max": 85.5,
          "histogram": [
           {
            "bin_start": 36.3,
            "bin_end": 41.22,
            "count": 2
           },
           {
            "bin_start": 41.22,
            "bin_end": 46.14,
            "count": 1
           },
           {
            "bin_start": 46.14,
            "bin_end": 51.059999999999995,
            "count": 0
           },
           {
            "bin_start": 51.059999999999995,
            "bin_end": 55.98,
            "count": 0
           },
           {
            "bin_start": 55.98,
            "bin_end": 60.9,
            "count": 0
           },
           {
            "bin_start": 60.9,
            "bin_end": 65.82,
            "count": 1
           },
           {
            "bin_start": 65.82,
            "bin_end": 70.74,
            "count": 0
           },
           {
            "bin_start": 70.74,
            "bin_end": 75.66,
            "count": 0
           },
           {
            "bin_start": 75.66,
            "bin_end": 80.58,
            "count": 0
           },
           {
            "bin_start": 80.58,
            "bin_end": 85.5,
            "count": 1
           }
          ]
         }
        },
        {
         "name": "homeownership_pctile",
         "dtype": "float64",
         "stats": {
          "unique_count": 5,
          "nan_count": 0,
          "min": 24.61183113,
          "max": 92.00564609,
          "histogram": [
           {
            "bin_start": 24.61183113,
            "bin_end": 31.351212626,
            "count": 2
           },
           {
            "bin_start": 31.351212626,
            "bin_end": 38.090594122,
            "count": 1
           },
           {
            "bin_start": 38.090594122,
            "bin_end": 44.829975618,
            "count": 0
           },
           {
            "bin_start": 44.829975618,
            "bin_end": 51.569357114,
            "count": 0
           },
           {
            "bin_start": 51.569357114,
            "bin_end": 58.30873861,
            "count": 0
           },
           {
            "bin_start": 58.30873861,
            "bin_end": 65.048120106,
            "count": 1
           },
           {
            "bin_start": 65.048120106,
            "bin_end": 71.78750160199999,
            "count": 0
           },
           {
            "bin_start": 71.78750160199999,
            "bin_end": 78.526883098,
            "count": 0
           },
           {
            "bin_start": 78.526883098,
            "bin_end": 85.266264594,
            "count": 0
           },
           {
            "bin_start": 85.266264594,
            "bin_end": 92.00564609,
            "count": 1
           }
          ]
         }
        },
        {
         "name": "automobile",
         "dtype": "float64",
         "stats": {
          "unique_count": 5,
          "nan_count": 0,
          "min": 85.4,
          "max": 98.6,
          "histogram": [
           {
            "bin_start": 85.4,
            "bin_end": 86.72,
            "count": 2
           },
           {
            "bin_start": 86.72,
            "bin_end": 88.04,
            "count": 0
           },
           {
            "bin_start": 88.04,
            "bin_end": 89.36,
            "count": 0
           },
           {
            "bin_start": 89.36,
            "bin_end": 90.68,
            "count": 0
           },
           {
            "bin_start": 90.68,
            "bin_end": 92,
            "count": 0
           },
           {
            "bin_start": 92,
            "bin_end": 93.32,
            "count": 1
           },
           {
            "bin_start": 93.32,
            "bin_end": 94.64,
            "count": 1
           },
           {
            "bin_start": 94.64,
            "bin_end": 95.96,
            "count": 0
           },
           {
            "bin_start": 95.96,
            "bin_end": 97.28,
            "count": 0
           },
           {
            "bin_start": 97.28,
            "bin_end": 98.6,
            "count": 1
           }
          ]
         }
        },
        {
         "name": "automobile_pctile",
         "dtype": "float64",
         "stats": {
          "unique_count": 5,
          "nan_count": 0,
          "min": 13.93558322,
          "max": 87.47593995,
          "histogram": [
           {
            "bin_start": 13.93558322,
            "bin_end": 21.289618893,
            "count": 2
           },
           {
            "bin_start": 21.289618893,
            "bin_end": 28.643654566000002,
            "count": 0
           },
           {
            "bin_start": 28.643654566000002,
            "bin_end": 35.997690239,
            "count": 0
           },
           {
            "bin_start": 35.997690239,
            "bin_end": 43.351725912,
            "count": 1
           },
           {
            "bin_start": 43.351725912,
            "bin_end": 50.705761585,
            "count": 1
           },
           {
            "bin_start": 50.705761585,
            "bin_end": 58.059797258,
            "count": 0
           },
           {
            "bin_start": 58.059797258,
            "bin_end": 65.413832931,
            "count": 0
           },
           {
            "bin_start": 65.413832931,
            "bin_end": 72.767868604,
            "count": 0
           },
           {
            "bin_start": 72.767868604,
            "bin_end": 80.121904277,
            "count": 0
           },
           {
            "bin_start": 80.121904277,
            "bin_end": 87.47593995,
            "count": 1
           }
          ]
         }
        },
        {
         "name": "commute",
         "dtype": "float64",
         "stats": {
          "unique_count": 5,
          "nan_count": 0,
          "min": 15.28455285,
          "max": 49.72451791,
          "histogram": [
           {
            "bin_start": 15.28455285,
            "bin_end": 18.728549356000002,
            "count": 1
           },
           {
            "bin_start": 18.728549356000002,
            "bin_end": 22.172545862,
            "count": 0
           },
           {
            "bin_start": 22.172545862,
            "bin_end": 25.616542368,
            "count": 0
           },
           {
            "bin_start": 25.616542368,
            "bin_end": 29.060538874000002,
            "count": 0
           },
           {
            "bin_start": 29.060538874000002,
            "bin_end": 32.50453538000001,
            "count": 0
           },
           {
            "bin_start": 32.50453538000001,
            "bin_end": 35.948531886,
            "count": 0
           },
           {
            "bin_start": 35.948531886,
            "bin_end": 39.392528392,
            "count": 2
           },
           {
            "bin_start": 39.392528392,
            "bin_end": 42.83652489800001,
            "count": 1
           },
           {
            "bin_start": 42.83652489800001,
            "bin_end": 46.280521404000005,
            "count": 0
           },
           {
            "bin_start": 46.280521404000005,
            "bin_end": 49.72451791,
            "count": 1
           }
          ]
         }
        },
        {
         "name": "commute_pctile",
         "dtype": "float64",
         "stats": {
          "unique_count": 5,
          "nan_count": 0,
          "min": 82.88207366,
          "max": 98.01103554,
          "histogram": [
           {
            "bin_start": 82.88207366,
            "bin_end": 84.394969848,
            "count": 1
           },
           {
            "bin_start": 84.394969848,
            "bin_end": 85.907866036,
            "count": 0
           },
           {
            "bin_start": 85.907866036,
            "bin_end": 87.420762224,
            "count": 0
           },
           {
            "bin_start": 87.420762224,
            "bin_end": 88.933658412,
            "count": 0
           },
           {
            "bin_start": 88.933658412,
            "bin_end": 90.4465546,
            "count": 0
           },
           {
            "bin_start": 90.4465546,
            "bin_end": 91.959450788,
            "count": 0
           },
           {
            "bin_start": 91.959450788,
            "bin_end": 93.472346976,
            "count": 0
           },
           {
            "bin_start": 93.472346976,
            "bin_end": 94.985243164,
            "count": 0
           },
           {
            "bin_start": 94.985243164,
            "bin_end": 96.498139352,
            "count": 2
           },
           {
            "bin_start": 96.498139352,
            "bin_end": 98.01103554,
            "count": 2
           }
          ]
         }
        },
        {
         "name": "inpreschool",
         "dtype": "float64",
         "stats": {
          "unique_count": 5,
          "nan_count": 0,
          "min": 39.7,
          "max": 100,
          "histogram": [
           {
            "bin_start": 39.7,
            "bin_end": 45.730000000000004,
            "count": 1
           },
           {
            "bin_start": 45.730000000000004,
            "bin_end": 51.760000000000005,
            "count": 0
           },
           {
            "bin_start": 51.760000000000005,
            "bin_end": 57.79,
            "count": 1
           },
           {
            "bin_start": 57.79,
            "bin_end": 63.82,
            "count": 0
           },
           {
            "bin_start": 63.82,
            "bin_end": 69.85,
            "count": 1
           },
           {
            "bin_start": 69.85,
            "bin_end": 75.88,
            "count": 1
           },
           {
            "bin_start": 75.88,
            "bin_end": 81.91,
            "count": 0
           },
           {
            "bin_start": 81.91,
            "bin_end": 87.94,
            "count": 0
           },
           {
            "bin_start": 87.94,
            "bin_end": 93.97,
            "count": 0
           },
           {
            "bin_start": 93.97,
            "bin_end": 100,
            "count": 1
           }
          ]
         }
        },
        {
         "name": "inpreschool_pctile",
         "dtype": "float64",
         "stats": {
          "unique_count": 5,
          "nan_count": 0,
          "min": 34.55665341,
          "max": 95.71410240000002,
          "histogram": [
           {
            "bin_start": 34.55665341,
            "bin_end": 40.672398309,
            "count": 1
           },
           {
            "bin_start": 40.672398309,
            "bin_end": 46.78814320800001,
            "count": 0
           },
           {
            "bin_start": 46.78814320800001,
            "bin_end": 52.90388810700001,
            "count": 0
           },
           {
            "bin_start": 52.90388810700001,
            "bin_end": 59.01963300600001,
            "count": 1
           },
           {
            "bin_start": 59.01963300600001,
            "bin_end": 65.13537790500001,
            "count": 0
           },
           {
            "bin_start": 65.13537790500001,
            "bin_end": 71.251122804,
            "count": 1
           },
           {
            "bin_start": 71.251122804,
            "bin_end": 77.36686770300001,
            "count": 1
           },
           {
            "bin_start": 77.36686770300001,
            "bin_end": 83.48261260200002,
            "count": 0
           },
           {
            "bin_start": 83.48261260200002,
            "bin_end": 89.59835750100001,
            "count": 0
           },
           {
            "bin_start": 89.59835750100001,
            "bin_end": 95.71410240000002,
            "count": 1
           }
          ]
         }
        },
        {
         "name": "inhighschool",
         "dtype": "float64",
         "stats": {
          "unique_count": 2,
          "nan_count": 0,
          "min": 97.2,
          "max": 100,
          "histogram": [
           {
            "bin_start": 97.2,
            "bin_end": 97.48,
            "count": 1
           },
           {
            "bin_start": 97.48,
            "bin_end": 97.76,
            "count": 0
           },
           {
            "bin_start": 97.76,
            "bin_end": 98.04,
            "count": 0
           },
           {
            "bin_start": 98.04,
            "bin_end": 98.32000000000001,
            "count": 0
           },
           {
            "bin_start": 98.32000000000001,
            "bin_end": 98.6,
            "count": 0
           },
           {
            "bin_start": 98.6,
            "bin_end": 98.88,
            "count": 0
           },
           {
            "bin_start": 98.88,
            "bin_end": 99.16,
            "count": 0
           },
           {
            "bin_start": 99.16,
            "bin_end": 99.44,
            "count": 0
           },
           {
            "bin_start": 99.44,
            "bin_end": 99.72,
            "count": 0
           },
           {
            "bin_start": 99.72,
            "bin_end": 100,
            "count": 4
           }
          ]
         }
        },
        {
         "name": "inhighschool_pctile",
         "dtype": "float64",
         "stats": {
          "unique_count": 2,
          "nan_count": 0,
          "min": 22.276401899999996,
          "max": 100,
          "histogram": [
           {
            "bin_start": 22.276401899999996,
            "bin_end": 30.048761709999997,
            "count": 1
           },
           {
            "bin_start": 30.048761709999997,
            "bin_end": 37.82112152,
            "count": 0
           },
           {
            "bin_start": 37.82112152,
            "bin_end": 45.593481329999996,
            "count": 0
           },
           {
            "bin_start": 45.593481329999996,
            "bin_end": 53.36584114,
            "count": 0
           },
           {
            "bin_start": 53.36584114,
            "bin_end": 61.13820095,
            "count": 0
           },
           {
            "bin_start": 61.13820095,
            "bin_end": 68.91056076,
            "count": 0
           },
           {
            "bin_start": 68.91056076,
            "bin_end": 76.68292057,
            "count": 0
           },
           {
            "bin_start": 76.68292057,
            "bin_end": 84.45528038,
            "count": 0
           },
           {
            "bin_start": 84.45528038,
            "bin_end": 92.22764019,
            "count": 0
           },
           {
            "bin_start": 92.22764019,
            "bin_end": 100,
            "count": 4
           }
          ]
         }
        },
        {
         "name": "bachelorsed",
         "dtype": "float64",
         "stats": {
          "unique_count": 5,
          "nan_count": 0,
          "min": 61.9,
          "max": 82.9,
          "histogram": [
           {
            "bin_start": 61.9,
            "bin_end": 64,
            "count": 1
           },
           {
            "bin_start": 64,
            "bin_end": 66.1,
            "count": 0
           },
           {
            "bin_start": 66.1,
            "bin_end": 68.2,
            "count": 0
           },
           {
            "bin_start": 68.2,
            "bin_end": 70.3,
            "count": 1
           },
           {
            "bin_start": 70.3,
            "bin_end": 72.4,
            "count": 0
           },
           {
            "bin_start": 72.4,
            "bin_end": 74.5,
            "count": 0
           },
           {
            "bin_start": 74.5,
            "bin_end": 76.6,
            "count": 1
           },
           {
            "bin_start": 76.6,
            "bin_end": 78.7,
            "count": 0
           },
           {
            "bin_start": 78.7,
            "bin_end": 80.80000000000001,
            "count": 1
           },
           {
            "bin_start": 80.80000000000001,
            "bin_end": 82.9,
            "count": 1
           }
          ]
         }
        },
        {
         "name": "bachelorsed_pctile",
         "dtype": "float64",
         "stats": {
          "unique_count": 5,
          "nan_count": 0,
          "min": 90.01668164,
          "max": 99.44822276,
          "histogram": [
           {
            "bin_start": 90.01668164,
            "bin_end": 90.959835752,
            "count": 1
           },
           {
            "bin_start": 90.959835752,
            "bin_end": 91.902989864,
            "count": 0
           },
           {
            "bin_start": 91.902989864,
            "bin_end": 92.846143976,
            "count": 0
           },
           {
            "bin_start": 92.846143976,
            "bin_end": 93.789298088,
            "count": 0
           },
           {
            "bin_start": 93.789298088,
            "bin_end": 94.7324522,
            "count": 1
           },
           {
            "bin_start": 94.7324522,
            "bin_end": 95.675606312,
            "count": 0
           },
           {
            "bin_start": 95.675606312,
            "bin_end": 96.618760424,
            "count": 0
           },
           {
            "bin_start": 96.618760424,
            "bin_end": 97.56191453599999,
            "count": 1
           },
           {
            "bin_start": 97.56191453599999,
            "bin_end": 98.50506864799999,
            "count": 0
           },
           {
            "bin_start": 98.50506864799999,
            "bin_end": 99.44822276,
            "count": 2
           }
          ]
         }
        },
        {
         "name": "employed",
         "dtype": "float64",
         "stats": {
          "unique_count": 5,
          "nan_count": 0,
          "min": 73.7,
          "max": 85.6,
          "histogram": [
           {
            "bin_start": 73.7,
            "bin_end": 74.89,
            "count": 1
           },
           {
            "bin_start": 74.89,
            "bin_end": 76.08,
            "count": 0
           },
           {
            "bin_start": 76.08,
            "bin_end": 77.27,
            "count": 1
           },
           {
            "bin_start": 77.27,
            "bin_end": 78.46,
            "count": 0
           },
           {
            "bin_start": 78.46,
            "bin_end": 79.65,
            "count": 0
           },
           {
            "bin_start": 79.65,
            "bin_end": 80.84,
            "count": 0
           },
           {
            "bin_start": 80.84,
            "bin_end": 82.03,
            "count": 1
           },
           {
            "bin_start": 82.03,
            "bin_end": 83.22,
            "count": 0
           },
           {
            "bin_start": 83.22,
            "bin_end": 84.41,
            "count": 0
           },
           {
            "bin_start": 84.41,
            "bin_end": 85.6,
            "count": 2
           }
          ]
         }
        },
        {
         "name": "employed_pctile",
         "dtype": "float64",
         "stats": {
          "unique_count": 5,
          "nan_count": 0,
          "min": 68.92082638,
          "max": 99.17875016,
          "histogram": [
           {
            "bin_start": 68.92082638,
            "bin_end": 71.946618758,
            "count": 1
           },
           {
            "bin_start": 71.946618758,
            "bin_end": 74.97241113599999,
            "count": 0
           },
           {
            "bin_start": 74.97241113599999,
            "bin_end": 77.998203514,
            "count": 0
           },
           {
            "bin_start": 77.998203514,
            "bin_end": 81.023995892,
            "count": 0
           },
           {
            "bin_start": 81.023995892,
            "bin_end": 84.04978827,
            "count": 1
           },
           {
            "bin_start": 84.04978827,
            "bin_end": 87.075580648,
            "count": 0
           },
           {
            "bin_start": 87.075580648,
            "bin_end": 90.101373026,
            "count": 0
           },
           {
            "bin_start": 90.101373026,
            "bin_end": 93.12716540400001,
            "count": 0
           },
           {
            "bin_start": 93.12716540400001,
            "bin_end": 96.152957782,
            "count": 1
           },
           {
            "bin_start": 96.152957782,
            "bin_end": 99.17875016,
            "count": 2
           }
          ]
         }
        },
        {
         "name": "abovepoverty",
         "dtype": "float64",
         "stats": {
          "unique_count": 5,
          "nan_count": 0,
          "min": 74.88308116,
          "max": 92.37804878,
          "histogram": [
           {
            "bin_start": 74.88308116,
            "bin_end": 76.632577922,
            "count": 1
           },
           {
            "bin_start": 76.632577922,
            "bin_end": 78.382074684,
            "count": 0
           },
           {
            "bin_start": 78.382074684,
            "bin_end": 80.13157144600001,
            "count": 0
           },
           {
            "bin_start": 80.13157144600001,
            "bin_end": 81.881068208,
            "count": 0
           },
           {
            "bin_start": 81.881068208,
            "bin_end": 83.63056497,
            "count": 1
           },
           {
            "bin_start": 83.63056497,
            "bin_end": 85.380061732,
            "count": 0
           },
           {
            "bin_start": 85.380061732,
            "bin_end": 87.12955849400001,
            "count": 1
           },
           {
            "bin_start": 87.12955849400001,
            "bin_end": 88.879055256,
            "count": 1
           },
           {
            "bin_start": 88.879055256,
            "bin_end": 90.628552018,
            "count": 0
           },
           {
            "bin_start": 90.628552018,
            "bin_end": 92.37804878,
            "count": 1
           }
          ]
         }
        },
        {
         "name": "abovepoverty_pctile",
         "dtype": "float64",
         "stats": {
          "unique_count": 5,
          "nan_count": 0,
          "min": 63.5698704,
          "max": 96.44552804,
          "histogram": [
           {
            "bin_start": 63.5698704,
            "bin_end": 66.857436164,
            "count": 1
           },
           {
            "bin_start": 66.857436164,
            "bin_end": 70.145001928,
            "count": 0
           },
           {
            "bin_start": 70.145001928,
            "bin_end": 73.43256769199999,
            "count": 0
           },
           {
            "bin_start": 73.43256769199999,
            "bin_end": 76.720133456,
            "count": 0
           },
           {
            "bin_start": 76.720133456,
            "bin_end": 80.00769922,
            "count": 0
           },
           {
            "bin_start": 80.00769922,
            "bin_end": 83.295264984,
            "count": 1
           },
           {
            "bin_start": 83.295264984,
            "bin_end": 86.58283074799999,
            "count": 1
           },
           {
            "bin_start": 86.58283074799999,
            "bin_end": 89.870396512,
            "count": 0
           },
           {
            "bin_start": 89.870396512,
            "bin_end": 93.157962276,
            "count": 1
           },
           {
            "bin_start": 93.157962276,
            "bin_end": 96.44552804,
            "count": 1
           }
          ]
         }
        },
        {
         "name": "income",
         "dtype": "float64",
         "stats": {
          "unique_count": 5,
          "nan_count": 0,
          "min": 76038,
          "max": 174113,
          "histogram": [
           {
            "bin_start": 76038,
            "bin_end": 85845.5,
            "count": 2
           },
           {
            "bin_start": 85845.5,
            "bin_end": 95653,
            "count": 0
           },
           {
            "bin_start": 95653,
            "bin_end": 105460.5,
            "count": 1
           },
           {
            "bin_start": 105460.5,
            "bin_end": 115268,
            "count": 0
           },
           {
            "bin_start": 115268,
            "bin_end": 125075.5,
            "count": 0
           },
           {
            "bin_start": 125075.5,
            "bin_end": 134883,
            "count": 0
           },
           {
            "bin_start": 134883,
            "bin_end": 144690.5,
            "count": 1
           },
           {
            "bin_start": 144690.5,
            "bin_end": 154498,
            "count": 0
           },
           {
            "bin_start": 154498,
            "bin_end": 164305.5,
            "count": 0
           },
           {
            "bin_start": 164305.5,
            "bin_end": 174113,
            "count": 1
           }
          ]
         }
        },
        {
         "name": "income_pctile",
         "dtype": "float64",
         "stats": {
          "unique_count": 5,
          "nan_count": 0,
          "min": 67.67611959,
          "max": 99.10175799,
          "histogram": [
           {
            "bin_start": 67.67611959,
            "bin_end": 70.81868343,
            "count": 1
           },
           {
            "bin_start": 70.81868343,
            "bin_end": 73.96124727,
            "count": 0
           },
           {
            "bin_start": 73.96124727,
            "bin_end": 77.10381111,
            "count": 1
           },
           {
            "bin_start": 77.10381111,
            "bin_end": 80.24637495,
            "count": 0
           },
           {
            "bin_start": 80.24637495,
            "bin_end": 83.38893879,
            "count": 0
           },
           {
            "bin_start": 83.38893879,
            "bin_end": 86.53150263,
            "count": 1
           },
           {
            "bin_start": 86.53150263,
            "bin_end": 89.67406647,
            "count": 0
           },
           {
            "bin_start": 89.67406647,
            "bin_end": 92.81663031,
            "count": 0
           },
           {
            "bin_start": 92.81663031,
            "bin_end": 95.95919415,
            "count": 0
           },
           {
            "bin_start": 95.95919415,
            "bin_end": 99.10175799,
            "count": 2
           }
          ]
         }
        },
        {
         "name": "retail",
         "dtype": "float64",
         "stats": {
          "unique_count": 5,
          "nan_count": 0,
          "min": 1.252350919,
          "max": 9.587563451,
          "histogram": [
           {
            "bin_start": 1.252350919,
            "bin_end": 2.0858721722,
            "count": 3
           },
           {
            "bin_start": 2.0858721722,
            "bin_end": 2.9193934254,
            "count": 1
           },
           {
            "bin_start": 2.9193934254,
            "bin_end": 3.7529146786000003,
            "count": 0
           },
           {
            "bin_start": 3.7529146786000003,
            "bin_end": 4.5864359318000005,
            "count": 0
           },
           {
            "bin_start": 4.5864359318000005,
            "bin_end": 5.4199571849999995,
            "count": 0
           },
           {
            "bin_start": 5.4199571849999995,
            "bin_end": 6.2534784382,
            "count": 0
           },
           {
            "bin_start": 6.2534784382,
            "bin_end": 7.086999691400001,
            "count": 0
           },
           {
            "bin_start": 7.086999691400001,
            "bin_end": 7.9205209446,
            "count": 0
           },
           {
            "bin_start": 7.9205209446,
            "bin_end": 8.7540421978,
            "count": 0
           },
           {
            "bin_start": 8.7540421978,
            "bin_end": 9.587563451,
            "count": 1
           }
          ]
         }
        },
        {
         "name": "retail_pctile",
         "dtype": "float64",
         "stats": {
          "unique_count": 5,
          "nan_count": 0,
          "min": 64.57076864,
          "max": 97.60041062,
          "histogram": [
           {
            "bin_start": 64.57076864,
            "bin_end": 67.873732838,
            "count": 1
           },
           {
            "bin_start": 67.873732838,
            "bin_end": 71.176697036,
            "count": 0
           },
           {
            "bin_start": 71.176697036,
            "bin_end": 74.47966123399999,
            "count": 0
           },
           {
            "bin_start": 74.47966123399999,
            "bin_end": 77.782625432,
            "count": 2
           },
           {
            "bin_start": 77.782625432,
            "bin_end": 81.08558963,
            "count": 0
           },
           {
            "bin_start": 81.08558963,
            "bin_end": 84.388553828,
            "count": 1
           },
           {
            "bin_start": 84.388553828,
            "bin_end": 87.691518026,
            "count": 0
           },
           {
            "bin_start": 87.691518026,
            "bin_end": 90.994482224,
            "count": 0
           },
           {
            "bin_start": 90.994482224,
            "bin_end": 94.29744642200001,
            "count": 0
           },
           {
            "bin_start": 94.29744642200001,
            "bin_end": 97.60041062,
            "count": 1
           }
          ]
         }
        },
        {
         "name": "parkaccess",
         "dtype": "float64",
         "stats": {
          "unique_count": 4,
          "nan_count": 0,
          "min": 33.25797,
          "max": 100,
          "histogram": [
           {
            "bin_start": 33.25797,
            "bin_end": 39.932173,
            "count": 1
           },
           {
            "bin_start": 39.932173,
            "bin_end": 46.606376,
            "count": 0
           },
           {
            "bin_start": 46.606376,
            "bin_end": 53.280579,
            "count": 0
           },
           {
            "bin_start": 53.280579,
            "bin_end": 59.954782,
            "count": 0
           },
           {
            "bin_start": 59.954782,
            "bin_end": 66.628985,
            "count": 0
           },
           {
            "bin_start": 66.628985,
            "bin_end": 73.303188,
            "count": 0
           },
           {
            "bin_start": 73.303188,
            "bin_end": 79.97739100000001,
            "count": 0
           },
           {
            "bin_start": 79.97739100000001,
            "bin_end": 86.651594,
            "count": 1
           },
           {
            "bin_start": 86.651594,
            "bin_end": 93.325797,
            "count": 1
           },
           {
            "bin_start": 93.325797,
            "bin_end": 100,
            "count": 2
           }
          ]
         }
        },
        {
         "name": "parkaccess_pctile",
         "dtype": "float64",
         "stats": {
          "unique_count": 4,
          "nan_count": 0,
          "min": 15.83472347,
          "max": 81.35506224,
          "histogram": [
           {
            "bin_start": 15.83472347,
            "bin_end": 22.386757347,
            "count": 1
           },
           {
            "bin_start": 22.386757347,
            "bin_end": 28.938791224,
            "count": 0
           },
           {
            "bin_start": 28.938791224,
            "bin_end": 35.490825101,
            "count": 0
           },
           {
            "bin_start": 35.490825101,
            "bin_end": 42.042858978,
            "count": 0
           },
           {
            "bin_start": 42.042858978,
            "bin_end": 48.594892855,
            "count": 1
           },
           {
            "bin_start": 48.594892855,
            "bin_end": 55.146926732,
            "count": 1
           },
           {
            "bin_start": 55.146926732,
            "bin_end": 61.698960609,
            "count": 0
           },
           {
            "bin_start": 61.698960609,
            "bin_end": 68.250994486,
            "count": 0
           },
           {
            "bin_start": 68.250994486,
            "bin_end": 74.803028363,
            "count": 0
           },
           {
            "bin_start": 74.803028363,
            "bin_end": 81.35506224,
            "count": 2
           }
          ]
         }
        },
        {
         "name": "treecanopy",
         "dtype": "float64",
         "stats": {
          "unique_count": 5,
          "nan_count": 0,
          "min": 5.6254528,
          "max": 36.43379829999999,
          "histogram": [
           {
            "bin_start": 5.6254528,
            "bin_end": 8.70628735,
            "count": 2
           },
           {
            "bin_start": 8.70628735,
            "bin_end": 11.787121899999999,
            "count": 1
           },
           {
            "bin_start": 11.787121899999999,
            "bin_end": 14.86795645,
            "count": 0
           },
           {
            "bin_start": 14.86795645,
            "bin_end": 17.948791,
            "count": 0
           },
           {
            "bin_start": 17.948791,
            "bin_end": 21.02962555,
            "count": 1
           },
           {
            "bin_start": 21.02962555,
            "bin_end": 24.110460099999997,
            "count": 0
           },
           {
            "bin_start": 24.110460099999997,
            "bin_end": 27.191294649999996,
            "count": 0
           },
           {
            "bin_start": 27.191294649999996,
            "bin_end": 30.272129199999995,
            "count": 0
           },
           {
            "bin_start": 30.272129199999995,
            "bin_end": 33.352963749999994,
            "count": 0
           },
           {
            "bin_start": 33.352963749999994,
            "bin_end": 36.43379829999999,
            "count": 1
           }
          ]
         }
        },
        {
         "name": "treecanopy_pctile",
         "dtype": "float64",
         "stats": {
          "unique_count": 5,
          "nan_count": 0,
          "min": 55.357372,
          "max": 97.42076222,
          "histogram": [
           {
            "bin_start": 55.357372,
            "bin_end": 59.563711022,
            "count": 2
           },
           {
            "bin_start": 59.563711022,
            "bin_end": 63.770050044,
            "count": 0
           },
           {
            "bin_start": 63.770050044,
            "bin_end": 67.976389066,
            "count": 0
           },
           {
            "bin_start": 67.976389066,
            "bin_end": 72.182728088,
            "count": 0
           },
           {
            "bin_start": 72.182728088,
            "bin_end": 76.38906711,
            "count": 0
           },
           {
            "bin_start": 76.38906711,
            "bin_end": 80.595406132,
            "count": 0
           },
           {
            "bin_start": 80.595406132,
            "bin_end": 84.801745154,
            "count": 1
           },
           {
            "bin_start": 84.801745154,
            "bin_end": 89.008084176,
            "count": 0
           },
           {
            "bin_start": 89.008084176,
            "bin_end": 93.21442319799999,
            "count": 1
           },
           {
            "bin_start": 93.21442319799999,
            "bin_end": 97.42076222,
            "count": 1
           }
          ]
         }
        },
        {
         "name": "alcoffsale",
         "dtype": "float64",
         "stats": {
          "unique_count": 4,
          "nan_count": 0,
          "min": 0,
          "max": 73.16990126,
          "histogram": [
           {
            "bin_start": 0,
            "bin_end": 7.316990126,
            "count": 2
           },
           {
            "bin_start": 7.316990126,
            "bin_end": 14.633980252,
            "count": 0
           },
           {
            "bin_start": 14.633980252,
            "bin_end": 21.950970378,
            "count": 1
           },
           {
            "bin_start": 21.950970378,
            "bin_end": 29.267960504,
            "count": 1
           },
           {
            "bin_start": 29.267960504,
            "bin_end": 36.58495063,
            "count": 0
           },
           {
            "bin_start": 36.58495063,
            "bin_end": 43.901940756,
            "count": 0
           },
           {
            "bin_start": 43.901940756,
            "bin_end": 51.218930882,
            "count": 0
           },
           {
            "bin_start": 51.218930882,
            "bin_end": 58.535921008,
            "count": 0
           },
           {
            "bin_start": 58.535921008,
            "bin_end": 65.85291113400001,
            "count": 0
           },
           {
            "bin_start": 65.85291113400001,
            "bin_end": 73.16990126,
            "count": 1
           }
          ]
         }
        },
        {
         "name": "alcoffsale_pctile",
         "dtype": "float64",
         "stats": {
          "unique_count": 4,
          "nan_count": 0,
          "min": 4.5168741180000005,
          "max": 64.12164763,
          "histogram": [
           {
            "bin_start": 4.5168741180000005,
            "bin_end": 10.4773514692,
            "count": 2
           },
           {
            "bin_start": 10.4773514692,
            "bin_end": 16.4378288204,
            "count": 0
           },
           {
            "bin_start": 16.4378288204,
            "bin_end": 22.3983061716,
            "count": 1
           },
           {
            "bin_start": 22.3983061716,
            "bin_end": 28.3587835228,
            "count": 1
           },
           {
            "bin_start": 28.3587835228,
            "bin_end": 34.319260873999994,
            "count": 0
           },
           {
            "bin_start": 34.319260873999994,
            "bin_end": 40.279738225200006,
            "count": 0
           },
           {
            "bin_start": 40.279738225200006,
            "bin_end": 46.240215576400004,
            "count": 0
           },
           {
            "bin_start": 46.240215576400004,
            "bin_end": 52.2006929276,
            "count": 0
           },
           {
            "bin_start": 52.2006929276,
            "bin_end": 58.1611702788,
            "count": 0
           },
           {
            "bin_start": 58.1611702788,
            "bin_end": 64.12164763,
            "count": 1
           }
          ]
         }
        },
        {
         "name": "voting",
         "dtype": "float64",
         "stats": {
          "unique_count": 5,
          "nan_count": 0,
          "min": 78.01067469,
          "max": 85.49257179,
          "histogram": [
           {
            "bin_start": 78.01067469,
            "bin_end": 78.75886440000001,
            "count": 1
           },
           {
            "bin_start": 78.75886440000001,
            "bin_end": 79.50705411,
            "count": 0
           },
           {
            "bin_start": 79.50705411,
            "bin_end": 80.25524382,
            "count": 0
           },
           {
            "bin_start": 80.25524382,
            "bin_end": 81.00343353,
            "count": 0
           },
           {
            "bin_start": 81.00343353,
            "bin_end": 81.75162324,
            "count": 0
           },
           {
            "bin_start": 81.75162324,
            "bin_end": 82.49981295,
            "count": 1
           },
           {
            "bin_start": 82.49981295,
            "bin_end": 83.24800266,
            "count": 1
           },
           {
            "bin_start": 83.24800266,
            "bin_end": 83.99619237,
            "count": 1
           },
           {
            "bin_start": 83.99619237,
            "bin_end": 84.74438208,
            "count": 0
           },
           {
            "bin_start": 84.74438208,
            "bin_end": 85.49257179,
            "count": 1
           }
          ]
         }
        },
        {
         "name": "voting_pctile",
         "dtype": "float64",
         "stats": {
          "unique_count": 5,
          "nan_count": 0,
          "min": 81.48338252,
          "max": 97.80572308,
          "histogram": [
           {
            "bin_start": 81.48338252,
            "bin_end": 83.11561657600001,
            "count": 1
           },
           {
            "bin_start": 83.11561657600001,
            "bin_end": 84.74785063200001,
            "count": 0
           },
           {
            "bin_start": 84.74785063200001,
            "bin_end": 86.38008468800001,
            "count": 0
           },
           {
            "bin_start": 86.38008468800001,
            "bin_end": 88.01231874400001,
            "count": 0
           },
           {
            "bin_start": 88.01231874400001,
            "bin_end": 89.64455280000001,
            "count": 0
           },
           {
            "bin_start": 89.64455280000001,
            "bin_end": 91.276786856,
            "count": 0
           },
           {
            "bin_start": 91.276786856,
            "bin_end": 92.909020912,
            "count": 1
           },
           {
            "bin_start": 92.909020912,
            "bin_end": 94.541254968,
            "count": 1
           },
           {
            "bin_start": 94.541254968,
            "bin_end": 96.173489024,
            "count": 1
           },
           {
            "bin_start": 96.173489024,
            "bin_end": 97.80572308,
            "count": 1
           }
          ]
         }
        },
        {
         "name": "ownsevere",
         "dtype": "float64",
         "stats": {
          "unique_count": 5,
          "nan_count": 0,
          "min": 3.8834951460000005,
          "max": 19.65811966,
          "histogram": [
           {
            "bin_start": 3.8834951460000005,
            "bin_end": 5.4609575974,
            "count": 2
           },
           {
            "bin_start": 5.4609575974,
            "bin_end": 7.038420048800001,
            "count": 0
           },
           {
            "bin_start": 7.038420048800001,
            "bin_end": 8.615882500200001,
            "count": 1
           },
           {
            "bin_start": 8.615882500200001,
            "bin_end": 10.1933449516,
            "count": 0
           },
           {
            "bin_start": 10.1933449516,
            "bin_end": 11.770807403,
            "count": 0
           },
           {
            "bin_start": 11.770807403,
            "bin_end": 13.348269854400002,
            "count": 1
           },
           {
            "bin_start": 13.348269854400002,
            "bin_end": 14.9257323058,
            "count": 0
           },
           {
            "bin_start": 14.9257323058,
            "bin_end": 16.5031947572,
            "count": 0
           },
           {
            "bin_start": 16.5031947572,
            "bin_end": 18.0806572086,
            "count": 0
           },
           {
            "bin_start": 18.0806572086,
            "bin_end": 19.65811966,
            "count": 1
           }
          ]
         }
        },
        {
         "name": "ownsevere_pctile",
         "dtype": "float64",
         "stats": {
          "unique_count": 5,
          "nan_count": 0,
          "min": 15.52675478,
          "max": 94.18709098,
          "histogram": [
           {
            "bin_start": 15.52675478,
            "bin_end": 23.392788399999997,
            "count": 1
           },
           {
            "bin_start": 23.392788399999997,
            "bin_end": 31.258822019999997,
            "count": 0
           },
           {
            "bin_start": 31.258822019999997,
            "bin_end": 39.12485563999999,
            "count": 0
           },
           {
            "bin_start": 39.12485563999999,
            "bin_end": 46.990889259999996,
            "count": 1
           },
           {
            "bin_start": 46.990889259999996,
            "bin_end": 54.85692287999999,
            "count": 0
           },
           {
            "bin_start": 54.85692287999999,
            "bin_end": 62.72295649999999,
            "count": 0
           },
           {
            "bin_start": 62.72295649999999,
            "bin_end": 70.58899011999999,
            "count": 0
           },
           {
            "bin_start": 70.58899011999999,
            "bin_end": 78.45502373999999,
            "count": 0
           },
           {
            "bin_start": 78.45502373999999,
            "bin_end": 86.32105736,
            "count": 1
           },
           {
            "bin_start": 86.32105736,
            "bin_end": 94.18709098,
            "count": 2
           }
          ]
         }
        },
        {
         "name": "rentsevere",
         "dtype": "float64",
         "stats": {
          "unique_count": 5,
          "nan_count": 0,
          "min": 2.666666667,
          "max": 27.27272727,
          "histogram": [
           {
            "bin_start": 2.666666667,
            "bin_end": 5.127272727299999,
            "count": 1
           },
           {
            "bin_start": 5.127272727299999,
            "bin_end": 7.587878787599999,
            "count": 0
           },
           {
            "bin_start": 7.587878787599999,
            "bin_end": 10.0484848479,
            "count": 0
           },
           {
            "bin_start": 10.0484848479,
            "bin_end": 12.5090909082,
            "count": 2
           },
           {
            "bin_start": 12.5090909082,
            "bin_end": 14.9696969685,
            "count": 0
           },
           {
            "bin_start": 14.9696969685,
            "bin_end": 17.4303030288,
            "count": 0
           },
           {
            "bin_start": 17.4303030288,
            "bin_end": 19.8909090891,
            "count": 0
           },
           {
            "bin_start": 19.8909090891,
            "bin_end": 22.3515151494,
            "count": 1
           },
           {
            "bin_start": 22.3515151494,
            "bin_end": 24.812121209700003,
            "count": 0
           },
           {
            "bin_start": 24.812121209700003,
            "bin_end": 27.27272727,
            "count": 1
           }
          ]
         }
        },
        {
         "name": "rentsevere_pctile",
         "dtype": "float64",
         "stats": {
          "unique_count": 5,
          "nan_count": 0,
          "min": 45.78467856,
          "max": 97.89554729,
          "histogram": [
           {
            "bin_start": 45.78467856,
            "bin_end": 50.995765433,
            "count": 1
           },
           {
            "bin_start": 50.995765433,
            "bin_end": 56.206852306,
            "count": 0
           },
           {
            "bin_start": 56.206852306,
            "bin_end": 61.417939179,
            "count": 0
           },
           {
            "bin_start": 61.417939179,
            "bin_end": 66.629026052,
            "count": 0
           },
           {
            "bin_start": 66.629026052,
            "bin_end": 71.840112925,
            "count": 1
           },
           {
            "bin_start": 71.840112925,
            "bin_end": 77.051199798,
            "count": 0
           },
           {
            "bin_start": 77.051199798,
            "bin_end": 82.262286671,
            "count": 0
           },
           {
            "bin_start": 82.262286671,
            "bin_end": 87.473373544,
            "count": 0
           },
           {
            "bin_start": 87.473373544,
            "bin_end": 92.684460417,
            "count": 2
           },
           {
            "bin_start": 92.684460417,
            "bin_end": 97.89554729,
            "count": 1
           }
          ]
         }
        },
        {
         "name": "houserepair",
         "dtype": "float64",
         "stats": {
          "unique_count": 4,
          "nan_count": 0,
          "min": 99.38650307,
          "max": 100,
          "histogram": [
           {
            "bin_start": 99.38650307,
            "bin_end": 99.447852763,
            "count": 1
           },
           {
            "bin_start": 99.447852763,
            "bin_end": 99.509202456,
            "count": 1
           },
           {
            "bin_start": 99.509202456,
            "bin_end": 99.57055214900001,
            "count": 0
           },
           {
            "bin_start": 99.57055214900001,
            "bin_end": 99.631901842,
            "count": 0
           },
           {
            "bin_start": 99.631901842,
            "bin_end": 99.693251535,
            "count": 1
           },
           {
            "bin_start": 99.693251535,
            "bin_end": 99.754601228,
            "count": 0
           },
           {
            "bin_start": 99.754601228,
            "bin_end": 99.815950921,
            "count": 0
           },
           {
            "bin_start": 99.815950921,
            "bin_end": 99.877300614,
            "count": 0
           },
           {
            "bin_start": 99.877300614,
            "bin_end": 99.938650307,
            "count": 0
           },
           {
            "bin_start": 99.938650307,
            "bin_end": 100,
            "count": 2
           }
          ]
         }
        },
        {
         "name": "houserepair_pctile",
         "dtype": "float64",
         "stats": {
          "unique_count": 4,
          "nan_count": 0,
          "min": 51.14846657,
          "max": 80.81611703,
          "histogram": [
           {
            "bin_start": 51.14846657,
            "bin_end": 54.115231615999996,
            "count": 2
           },
           {
            "bin_start": 54.115231615999996,
            "bin_end": 57.081996661999995,
            "count": 0
           },
           {
            "bin_start": 57.081996661999995,
            "bin_end": 60.048761708,
            "count": 1
           },
           {
            "bin_start": 60.048761708,
            "bin_end": 63.015526754,
            "count": 0
           },
           {
            "bin_start": 63.015526754,
            "bin_end": 65.9822918,
            "count": 0
           },
           {
            "bin_start": 65.9822918,
            "bin_end": 68.94905684599999,
            "count": 0
           },
           {
            "bin_start": 68.94905684599999,
            "bin_end": 71.915821892,
            "count": 0
           },
           {
            "bin_start": 71.915821892,
            "bin_end": 74.882586938,
            "count": 0
           },
           {
            "bin_start": 74.882586938,
            "bin_end": 77.849351984,
            "count": 0
           },
           {
            "bin_start": 77.849351984,
            "bin_end": 80.81611703,
            "count": 2
           }
          ]
         }
        },
        {
         "name": "twoparents",
         "dtype": "float64",
         "stats": {
          "unique_count": 5,
          "nan_count": 0,
          "min": 87.01298701,
          "max": 93.07479224,
          "histogram": [
           {
            "bin_start": 87.01298701,
            "bin_end": 87.619167533,
            "count": 2
           },
           {
            "bin_start": 87.619167533,
            "bin_end": 88.225348056,
            "count": 0
           },
           {
            "bin_start": 88.225348056,
            "bin_end": 88.83152857900001,
            "count": 1
           },
           {
            "bin_start": 88.83152857900001,
            "bin_end": 89.437709102,
            "count": 0
           },
           {
            "bin_start": 89.437709102,
            "bin_end": 90.04388962499999,
            "count": 0
           },
           {
            "bin_start": 90.04388962499999,
            "bin_end": 90.650070148,
            "count": 0
           },
           {
            "bin_start": 90.650070148,
            "bin_end": 91.256250671,
            "count": 1
           },
           {
            "bin_start": 91.256250671,
            "bin_end": 91.862431194,
            "count": 0
           },
           {
            "bin_start": 91.862431194,
            "bin_end": 92.46861171699999,
            "count": 0
           },
           {
            "bin_start": 92.46861171699999,
            "bin_end": 93.07479224,
            "count": 1
           }
          ]
         }
        },
        {
         "name": "twoparents_pctile",
         "dtype": "float64",
         "stats": {
          "unique_count": 5,
          "nan_count": 0,
          "min": 77.9930707,
          "max": 92.48043116,
          "histogram": [
           {
            "bin_start": 77.9930707,
            "bin_end": 79.441806746,
            "count": 2
           },
           {
            "bin_start": 79.441806746,
            "bin_end": 80.890542792,
            "count": 0
           },
           {
            "bin_start": 80.890542792,
            "bin_end": 82.339278838,
            "count": 0
           },
           {
            "bin_start": 82.339278838,
            "bin_end": 83.788014884,
            "count": 1
           },
           {
            "bin_start": 83.788014884,
            "bin_end": 85.23675093,
            "count": 0
           },
           {
            "bin_start": 85.23675093,
            "bin_end": 86.68548697599999,
            "count": 0
           },
           {
            "bin_start": 86.68548697599999,
            "bin_end": 88.134223022,
            "count": 0
           },
           {
            "bin_start": 88.134223022,
            "bin_end": 89.582959068,
            "count": 1
           },
           {
            "bin_start": 89.582959068,
            "bin_end": 91.031695114,
            "count": 0
           },
           {
            "bin_start": 91.031695114,
            "bin_end": 92.48043116,
            "count": 1
           }
          ]
         }
        },
        {
         "name": "supermkts",
         "dtype": "float64",
         "stats": {
          "unique_count": 5,
          "nan_count": 0,
          "min": 1.3192057879999999,
          "max": 100,
          "histogram": [
           {
            "bin_start": 1.3192057879999999,
            "bin_end": 11.187285209199999,
            "count": 1
           },
           {
            "bin_start": 11.187285209199999,
            "bin_end": 21.0553646304,
            "count": 0
           },
           {
            "bin_start": 21.0553646304,
            "bin_end": 30.923444051599997,
            "count": 0
           },
           {
            "bin_start": 30.923444051599997,
            "bin_end": 40.791523472799994,
            "count": 0
           },
           {
            "bin_start": 40.791523472799994,
            "bin_end": 50.659602893999995,
            "count": 0
           },
           {
            "bin_start": 50.659602893999995,
            "bin_end": 60.52768231519999,
            "count": 0
           },
           {
            "bin_start": 60.52768231519999,
            "bin_end": 70.3957617364,
            "count": 0
           },
           {
            "bin_start": 70.3957617364,
            "bin_end": 80.2638411576,
            "count": 1
           },
           {
            "bin_start": 80.2638411576,
            "bin_end": 90.13192057879999,
            "count": 0
           },
           {
            "bin_start": 90.13192057879999,
            "bin_end": 100,
            "count": 3
           }
          ]
         }
        },
        {
         "name": "supermkts_pctile",
         "dtype": "float64",
         "stats": {
          "unique_count": 5,
          "nan_count": 0,
          "min": 13.39663801,
          "max": 94.25125112,
          "histogram": [
           {
            "bin_start": 13.39663801,
            "bin_end": 21.482099321,
            "count": 1
           },
           {
            "bin_start": 21.482099321,
            "bin_end": 29.567560632,
            "count": 0
           },
           {
            "bin_start": 29.567560632,
            "bin_end": 37.653021943,
            "count": 0
           },
           {
            "bin_start": 37.653021943,
            "bin_end": 45.738483254,
            "count": 0
           },
           {
            "bin_start": 45.738483254,
            "bin_end": 53.823944565000005,
            "count": 0
           },
           {
            "bin_start": 53.823944565000005,
            "bin_end": 61.909405875999994,
            "count": 0
           },
           {
            "bin_start": 61.909405875999994,
            "bin_end": 69.994867187,
            "count": 1
           },
           {
            "bin_start": 69.994867187,
            "bin_end": 78.080328498,
            "count": 0
           },
           {
            "bin_start": 78.080328498,
            "bin_end": 86.165789809,
            "count": 2
           },
           {
            "bin_start": 86.165789809,
            "bin_end": 94.25125112,
            "count": 1
           }
          ]
         }
        },
        {
         "name": "ozone",
         "dtype": "float64",
         "stats": {
          "unique_count": 1,
          "nan_count": 0,
          "min": 0.029592333,
          "max": 0.029592333,
          "histogram": [
           {
            "bin_start": -0.47040766700000003,
            "bin_end": -0.37040766700000005,
            "count": 0
           },
           {
            "bin_start": -0.37040766700000005,
            "bin_end": -0.270407667,
            "count": 0
           },
           {
            "bin_start": -0.270407667,
            "bin_end": -0.17040766699999998,
            "count": 0
           },
           {
            "bin_start": -0.17040766699999998,
            "bin_end": -0.07040766700000001,
            "count": 0
           },
           {
            "bin_start": -0.07040766700000001,
            "bin_end": 0.02959233299999997,
            "count": 0
           },
           {
            "bin_start": 0.02959233299999997,
            "bin_end": 0.12959233300000006,
            "count": 5
           },
           {
            "bin_start": 0.12959233300000006,
            "bin_end": 0.22959233300000004,
            "count": 0
           },
           {
            "bin_start": 0.22959233300000004,
            "bin_end": 0.329592333,
            "count": 0
           },
           {
            "bin_start": 0.329592333,
            "bin_end": 0.429592333,
            "count": 0
           },
           {
            "bin_start": 0.429592333,
            "bin_end": 0.529592333,
            "count": 0
           }
          ]
         }
        },
        {
         "name": "ozone_pctile",
         "dtype": "float64",
         "stats": {
          "unique_count": 1,
          "nan_count": 0,
          "min": 96.08623123,
          "max": 96.08623123,
          "histogram": [
           {
            "bin_start": 95.58623123,
            "bin_end": 95.68623122999999,
            "count": 0
           },
           {
            "bin_start": 95.68623122999999,
            "bin_end": 95.78623123,
            "count": 0
           },
           {
            "bin_start": 95.78623123,
            "bin_end": 95.88623122999999,
            "count": 0
           },
           {
            "bin_start": 95.88623122999999,
            "bin_end": 95.98623123,
            "count": 0
           },
           {
            "bin_start": 95.98623123,
            "bin_end": 96.08623123,
            "count": 0
           },
           {
            "bin_start": 96.08623123,
            "bin_end": 96.18623122999999,
            "count": 5
           },
           {
            "bin_start": 96.18623122999999,
            "bin_end": 96.28623123,
            "count": 0
           },
           {
            "bin_start": 96.28623123,
            "bin_end": 96.38623122999999,
            "count": 0
           },
           {
            "bin_start": 96.38623122999999,
            "bin_end": 96.48623123,
            "count": 0
           },
           {
            "bin_start": 96.48623123,
            "bin_end": 96.58623123,
            "count": 0
           }
          ]
         }
        },
        {
         "name": "pm25",
         "dtype": "float64",
         "stats": {
          "unique_count": 1,
          "nan_count": 0,
          "min": 8.69794377,
          "max": 8.69794377,
          "histogram": [
           {
            "bin_start": 8.19794377,
            "bin_end": 8.29794377,
            "count": 0
           },
           {
            "bin_start": 8.29794377,
            "bin_end": 8.39794377,
            "count": 0
           },
           {
            "bin_start": 8.39794377,
            "bin_end": 8.497943770000001,
            "count": 0
           },
           {
            "bin_start": 8.497943770000001,
            "bin_end": 8.59794377,
            "count": 0
           },
           {
            "bin_start": 8.59794377,
            "bin_end": 8.69794377,
            "count": 0
           },
           {
            "bin_start": 8.69794377,
            "bin_end": 8.79794377,
            "count": 5
           },
           {
            "bin_start": 8.79794377,
            "bin_end": 8.89794377,
            "count": 0
           },
           {
            "bin_start": 8.89794377,
            "bin_end": 8.997943770000001,
            "count": 0
           },
           {
            "bin_start": 8.997943770000001,
            "bin_end": 9.09794377,
            "count": 0
           },
           {
            "bin_start": 9.09794377,
            "bin_end": 9.19794377,
            "count": 0
           }
          ]
         }
        },
        {
         "name": "pm25_pctile",
         "dtype": "float64",
         "stats": {
          "unique_count": 1,
          "nan_count": 0,
          "min": 74.75939946,
          "max": 74.75939946,
          "histogram": [
           {
            "bin_start": 74.25939946,
            "bin_end": 74.35939945999999,
            "count": 0
           },
           {
            "bin_start": 74.35939945999999,
            "bin_end": 74.45939946,
            "count": 0
           },
           {
            "bin_start": 74.45939946,
            "bin_end": 74.55939946,
            "count": 0
           },
           {
            "bin_start": 74.55939946,
            "bin_end": 74.65939946,
            "count": 0
           },
           {
            "bin_start": 74.65939946,
            "bin_end": 74.75939946,
            "count": 0
           },
           {
            "bin_start": 74.75939946,
            "bin_end": 74.85939945999999,
            "count": 5
           },
           {
            "bin_start": 74.85939945999999,
            "bin_end": 74.95939946,
            "count": 0
           },
           {
            "bin_start": 74.95939946,
            "bin_end": 75.05939946,
            "count": 0
           },
           {
            "bin_start": 75.05939946,
            "bin_end": 75.15939946,
            "count": 0
           },
           {
            "bin_start": 75.15939946,
            "bin_end": 75.25939946,
            "count": 0
           }
          ]
         }
        },
        {
         "name": "dieselpm",
         "dtype": "float64",
         "stats": {
          "unique_count": 2,
          "nan_count": 0,
          "min": 27.43693284,
          "max": 42.19,
          "histogram": [
           {
            "bin_start": 27.43693284,
            "bin_end": 28.912239556,
            "count": 1
           },
           {
            "bin_start": 28.912239556,
            "bin_end": 30.387546272,
            "count": 0
           },
           {
            "bin_start": 30.387546272,
            "bin_end": 31.862852988,
            "count": 0
           },
           {
            "bin_start": 31.862852988,
            "bin_end": 33.338159704,
            "count": 0
           },
           {
            "bin_start": 33.338159704,
            "bin_end": 34.81346642,
            "count": 0
           },
           {
            "bin_start": 34.81346642,
            "bin_end": 36.288773136,
            "count": 0
           },
           {
            "bin_start": 36.288773136,
            "bin_end": 37.764079851999995,
            "count": 0
           },
           {
            "bin_start": 37.764079851999995,
            "bin_end": 39.239386568,
            "count": 0
           },
           {
            "bin_start": 39.239386568,
            "bin_end": 40.714693284,
            "count": 0
           },
           {
            "bin_start": 40.714693284,
            "bin_end": 42.19,
            "count": 4
           }
          ]
         }
        },
        {
         "name": "dieselpm_pctile",
         "dtype": "float64",
         "stats": {
          "unique_count": 2,
          "nan_count": 0,
          "min": 5.569100475,
          "max": 18.9272424,
          "histogram": [
           {
            "bin_start": 5.569100475,
            "bin_end": 6.9049146675,
            "count": 4
           },
           {
            "bin_start": 6.9049146675,
            "bin_end": 8.24072886,
            "count": 0
           },
           {
            "bin_start": 8.24072886,
            "bin_end": 9.5765430525,
            "count": 0
           },
           {
            "bin_start": 9.5765430525,
            "bin_end": 10.912357245,
            "count": 0
           },
           {
            "bin_start": 10.912357245,
            "bin_end": 12.248171437500002,
            "count": 0
           },
           {
            "bin_start": 12.248171437500002,
            "bin_end": 13.58398563,
            "count": 0
           },
           {
            "bin_start": 13.58398563,
            "bin_end": 14.9197998225,
            "count": 0
           },
           {
            "bin_start": 14.9197998225,
            "bin_end": 16.255614015000003,
            "count": 0
           },
           {
            "bin_start": 16.255614015000003,
            "bin_end": 17.5914282075,
            "count": 0
           },
           {
            "bin_start": 17.5914282075,
            "bin_end": 18.9272424,
            "count": 1
           }
          ]
         }
        },
        {
         "name": "h20contam",
         "dtype": "float64",
         "stats": {
          "unique_count": 1,
          "nan_count": 0,
          "min": 70.5995829,
          "max": 70.5995829,
          "histogram": [
           {
            "bin_start": 70.0995829,
            "bin_end": 70.1995829,
            "count": 0
           },
           {
            "bin_start": 70.1995829,
            "bin_end": 70.2995829,
            "count": 0
           },
           {
            "bin_start": 70.2995829,
            "bin_end": 70.3995829,
            "count": 0
           },
           {
            "bin_start": 70.3995829,
            "bin_end": 70.49958290000001,
            "count": 0
           },
           {
            "bin_start": 70.49958290000001,
            "bin_end": 70.5995829,
            "count": 0
           },
           {
            "bin_start": 70.5995829,
            "bin_end": 70.6995829,
            "count": 5
           },
           {
            "bin_start": 70.6995829,
            "bin_end": 70.7995829,
            "count": 0
           },
           {
            "bin_start": 70.7995829,
            "bin_end": 70.8995829,
            "count": 0
           },
           {
            "bin_start": 70.8995829,
            "bin_end": 70.99958290000001,
            "count": 0
           },
           {
            "bin_start": 70.99958290000001,
            "bin_end": 71.0995829,
            "count": 0
           }
          ]
         }
        },
        {
         "name": "h20contam_pctile",
         "dtype": "float64",
         "stats": {
          "unique_count": 1,
          "nan_count": 0,
          "min": 97.20261773,
          "max": 97.20261773,
          "histogram": [
           {
            "bin_start": 96.70261773,
            "bin_end": 96.80261773,
            "count": 0
           },
           {
            "bin_start": 96.80261773,
            "bin_end": 96.90261773,
            "count": 0
           },
           {
            "bin_start": 96.90261773,
            "bin_end": 97.00261773,
            "count": 0
           },
           {
            "bin_start": 97.00261773,
            "bin_end": 97.10261773,
            "count": 0
           },
           {
            "bin_start": 97.10261773,
            "bin_end": 97.20261773,
            "count": 0
           },
           {
            "bin_start": 97.20261773,
            "bin_end": 97.30261773,
            "count": 5
           },
           {
            "bin_start": 97.30261773,
            "bin_end": 97.40261773,
            "count": 0
           },
           {
            "bin_start": 97.40261773,
            "bin_end": 97.50261773,
            "count": 0
           },
           {
            "bin_start": 97.50261773,
            "bin_end": 97.60261773,
            "count": 0
           },
           {
            "bin_start": 97.60261773,
            "bin_end": 97.70261773,
            "count": 0
           }
          ]
         }
        },
        {
         "name": "LEB",
         "dtype": "float64",
         "stats": {
          "unique_count": 5,
          "nan_count": 0,
          "min": 80.12323761,
          "max": 86.98550623,
          "histogram": [
           {
            "bin_start": 80.12323761,
            "bin_end": 80.809464472,
            "count": 1
           },
           {
            "bin_start": 80.809464472,
            "bin_end": 81.495691334,
            "count": 0
           },
           {
            "bin_start": 81.495691334,
            "bin_end": 82.181918196,
            "count": 0
           },
           {
            "bin_start": 82.181918196,
            "bin_end": 82.868145058,
            "count": 1
           },
           {
            "bin_start": 82.868145058,
            "bin_end": 83.55437192,
            "count": 0
           },
           {
            "bin_start": 83.55437192,
            "bin_end": 84.240598782,
            "count": 0
           },
           {
            "bin_start": 84.240598782,
            "bin_end": 84.926825644,
            "count": 0
           },
           {
            "bin_start": 84.926825644,
            "bin_end": 85.613052506,
            "count": 0
           },
           {
            "bin_start": 85.613052506,
            "bin_end": 86.299279368,
            "count": 0
           },
           {
            "bin_start": 86.299279368,
            "bin_end": 86.98550623,
            "count": 3
           }
          ]
         }
        },
        {
         "name": "LEB_pctile",
         "dtype": "float64",
         "stats": {
          "unique_count": 5,
          "nan_count": 0,
          "min": 38.85538304,
          "max": 96.66367253,
          "histogram": [
           {
            "bin_start": 38.85538304,
            "bin_end": 44.636211989,
            "count": 1
           },
           {
            "bin_start": 44.636211989,
            "bin_end": 50.417040938,
            "count": 0
           },
           {
            "bin_start": 50.417040938,
            "bin_end": 56.197869886999996,
            "count": 0
           },
           {
            "bin_start": 56.197869886999996,
            "bin_end": 61.978698836,
            "count": 0
           },
           {
            "bin_start": 61.978698836,
            "bin_end": 67.759527785,
            "count": 0
           },
           {
            "bin_start": 67.759527785,
            "bin_end": 73.540356734,
            "count": 1
           },
           {
            "bin_start": 73.540356734,
            "bin_end": 79.32118568300001,
            "count": 0
           },
           {
            "bin_start": 79.32118568300001,
            "bin_end": 85.10201463199999,
            "count": 0
           },
           {
            "bin_start": 85.10201463199999,
            "bin_end": 90.882843581,
            "count": 0
           },
           {
            "bin_start": 90.882843581,
            "bin_end": 96.66367253,
            "count": 3
           }
          ]
         }
        },
        {
         "name": "white_pct",
         "dtype": "float64",
         "stats": {
          "unique_count": 5,
          "nan_count": 0,
          "min": 50.55444982,
          "max": 78.31813576,
          "histogram": [
           {
            "bin_start": 50.55444982,
            "bin_end": 53.330818414,
            "count": 1
           },
           {
            "bin_start": 53.330818414,
            "bin_end": 56.107187008000004,
            "count": 0
           },
           {
            "bin_start": 56.107187008000004,
            "bin_end": 58.883555602,
            "count": 0
           },
           {
            "bin_start": 58.883555602,
            "bin_end": 61.659924196000006,
            "count": 0
           },
           {
            "bin_start": 61.659924196000006,
            "bin_end": 64.43629279000001,
            "count": 0
           },
           {
            "bin_start": 64.43629279000001,
            "bin_end": 67.212661384,
            "count": 2
           },
           {
            "bin_start": 67.212661384,
            "bin_end": 69.989029978,
            "count": 0
           },
           {
            "bin_start": 69.989029978,
            "bin_end": 72.76539857200001,
            "count": 1
           },
           {
            "bin_start": 72.76539857200001,
            "bin_end": 75.541767166,
            "count": 0
           },
           {
            "bin_start": 75.541767166,
            "bin_end": 78.31813576,
            "count": 1
           }
          ]
         }
        },
        {
         "name": "black_pct",
         "dtype": "float64",
         "stats": {
          "unique_count": 5,
          "nan_count": 0,
          "min": 1.5704154,
          "max": 26.52829116,
          "histogram": [
           {
            "bin_start": 1.5704154,
            "bin_end": 4.066202976,
            "count": 1
           },
           {
            "bin_start": 4.066202976,
            "bin_end": 6.561990552,
            "count": 1
           },
           {
            "bin_start": 6.561990552,
            "bin_end": 9.057778128,
            "count": 0
           },
           {
            "bin_start": 9.057778128,
            "bin_end": 11.553565704,
            "count": 1
           },
           {
            "bin_start": 11.553565704,
            "bin_end": 14.04935328,
            "count": 1
           },
           {
            "bin_start": 14.04935328,
            "bin_end": 16.545140856000003,
            "count": 0
           },
           {
            "bin_start": 16.545140856000003,
            "bin_end": 19.040928432,
            "count": 0
           },
           {
            "bin_start": 19.040928432,
            "bin_end": 21.536716008,
            "count": 0
           },
           {
            "bin_start": 21.536716008,
            "bin_end": 24.032503584000004,
            "count": 0
           },
           {
            "bin_start": 24.032503584000004,
            "bin_end": 26.52829116,
            "count": 1
           }
          ]
         }
        },
        {
         "name": "asian_pct",
         "dtype": "float64",
         "stats": {
          "unique_count": 5,
          "nan_count": 0,
          "min": 5.914131362000001,
          "max": 15.52604699,
          "histogram": [
           {
            "bin_start": 5.914131362000001,
            "bin_end": 6.875322924800001,
            "count": 1
           },
           {
            "bin_start": 6.875322924800001,
            "bin_end": 7.836514487600001,
            "count": 2
           },
           {
            "bin_start": 7.836514487600001,
            "bin_end": 8.7977060504,
            "count": 1
           },
           {
            "bin_start": 8.7977060504,
            "bin_end": 9.7588976132,
            "count": 0
           },
           {
            "bin_start": 9.7588976132,
            "bin_end": 10.720089176,
            "count": 0
           },
           {
            "bin_start": 10.720089176,
            "bin_end": 11.6812807388,
            "count": 0
           },
           {
            "bin_start": 11.6812807388,
            "bin_end": 12.6424723016,
            "count": 0
           },
           {
            "bin_start": 12.6424723016,
            "bin_end": 13.6036638644,
            "count": 0
           },
           {
            "bin_start": 13.6036638644,
            "bin_end": 14.5648554272,
            "count": 0
           },
           {
            "bin_start": 14.5648554272,
            "bin_end": 15.52604699,
            "count": 1
           }
          ]
         }
        },
        {
         "name": "latino_pct",
         "dtype": "float64",
         "stats": {
          "unique_count": 5,
          "nan_count": 0,
          "min": 3.983656793,
          "max": 9.667330111,
          "histogram": [
           {
            "bin_start": 3.983656793,
            "bin_end": 4.5520241248,
            "count": 1
           },
           {
            "bin_start": 4.5520241248,
            "bin_end": 5.1203914566,
            "count": 0
           },
           {
            "bin_start": 5.1203914566,
            "bin_end": 5.6887587884,
            "count": 0
           },
           {
            "bin_start": 5.6887587884,
            "bin_end": 6.257126120200001,
            "count": 0
           },
           {
            "bin_start": 6.257126120200001,
            "bin_end": 6.825493452,
            "count": 0
           },
           {
            "bin_start": 6.825493452,
            "bin_end": 7.3938607838,
            "count": 0
           },
           {
            "bin_start": 7.3938607838,
            "bin_end": 7.9622281156,
            "count": 1
           },
           {
            "bin_start": 7.9622281156,
            "bin_end": 8.5305954474,
            "count": 1
           },
           {
            "bin_start": 8.5305954474,
            "bin_end": 9.0989627792,
            "count": 1
           },
           {
            "bin_start": 9.0989627792,
            "bin_end": 9.667330111,
            "count": 1
           }
          ]
         }
        },
        {
         "name": "multiple_pct",
         "dtype": "float64",
         "stats": {
          "unique_count": 5,
          "nan_count": 0,
          "min": 3.7793667010000003,
          "max": 6.113164629,
          "histogram": [
           {
            "bin_start": 3.7793667010000003,
            "bin_end": 4.0127464938,
            "count": 1
           },
           {
            "bin_start": 4.0127464938,
            "bin_end": 4.2461262866,
            "count": 0
           },
           {
            "bin_start": 4.2461262866,
            "bin_end": 4.4795060794,
            "count": 0
           },
           {
            "bin_start": 4.4795060794,
            "bin_end": 4.7128858722,
            "count": 0
           },
           {
            "bin_start": 4.7128858722,
            "bin_end": 4.946265665,
            "count": 1
           },
           {
            "bin_start": 4.946265665,
            "bin_end": 5.1796454577999995,
            "count": 1
           },
           {
            "bin_start": 5.1796454577999995,
            "bin_end": 5.4130252506000005,
            "count": 1
           },
           {
            "bin_start": 5.4130252506000005,
            "bin_end": 5.6464050434,
            "count": 0
           },
           {
            "bin_start": 5.6464050434,
            "bin_end": 5.8797848362,
            "count": 0
           },
           {
            "bin_start": 5.8797848362,
            "bin_end": 6.113164629,
            "count": 1
           }
          ]
         }
        },
        {
         "name": "NativeAm_pct",
         "dtype": "float64",
         "stats": {
          "unique_count": 5,
          "nan_count": 0,
          "min": 0.068096697,
          "max": 0.45493318200000005,
          "histogram": [
           {
            "bin_start": 0.068096697,
            "bin_end": 0.10678034550000001,
            "count": 2
           },
           {
            "bin_start": 0.10678034550000001,
            "bin_end": 0.145463994,
            "count": 1
           },
           {
            "bin_start": 0.145463994,
            "bin_end": 0.18414764250000004,
            "count": 1
           },
           {
            "bin_start": 0.18414764250000004,
            "bin_end": 0.22283129100000004,
            "count": 0
           },
           {
            "bin_start": 0.22283129100000004,
            "bin_end": 0.26151493950000004,
            "count": 0
           },
           {
            "bin_start": 0.26151493950000004,
            "bin_end": 0.30019858800000004,
            "count": 0
           },
           {
            "bin_start": 0.30019858800000004,
            "bin_end": 0.33888223650000004,
            "count": 0
           },
           {
            "bin_start": 0.33888223650000004,
            "bin_end": 0.37756588500000005,
            "count": 0
           },
           {
            "bin_start": 0.37756588500000005,
            "bin_end": 0.41624953350000005,
            "count": 0
           },
           {
            "bin_start": 0.41624953350000005,
            "bin_end": 0.45493318200000005,
            "count": 1
           }
          ]
         }
        },
        {
         "name": "PacificIsl_pct",
         "dtype": "float64",
         "stats": {
          "unique_count": 5,
          "nan_count": 0,
          "min": 0,
          "max": 0.27238678899999996,
          "histogram": [
           {
            "bin_start": 0,
            "bin_end": 0.027238678899999997,
            "count": 1
           },
           {
            "bin_start": 0.027238678899999997,
            "bin_end": 0.054477357799999994,
            "count": 0
           },
           {
            "bin_start": 0.054477357799999994,
            "bin_end": 0.0817160367,
            "count": 0
           },
           {
            "bin_start": 0.0817160367,
            "bin_end": 0.10895471559999999,
            "count": 1
           },
           {
            "bin_start": 0.10895471559999999,
            "bin_end": 0.13619339449999998,
            "count": 1
           },
           {
            "bin_start": 0.13619339449999998,
            "bin_end": 0.1634320734,
            "count": 1
           },
           {
            "bin_start": 0.1634320734,
            "bin_end": 0.19067075229999997,
            "count": 0
           },
           {
            "bin_start": 0.19067075229999997,
            "bin_end": 0.21790943119999998,
            "count": 0
           },
           {
            "bin_start": 0.21790943119999998,
            "bin_end": 0.24514811009999998,
            "count": 0
           },
           {
            "bin_start": 0.24514811009999998,
            "bin_end": 0.27238678899999996,
            "count": 1
           }
          ]
         }
        },
        {
         "name": "other_pct",
         "dtype": "float64",
         "stats": {
          "unique_count": 5,
          "nan_count": 0,
          "min": 0.151975684,
          "max": 0.8512087159999999,
          "histogram": [
           {
            "bin_start": 0.151975684,
            "bin_end": 0.2218989872,
            "count": 1
           },
           {
            "bin_start": 0.2218989872,
            "bin_end": 0.29182229039999996,
            "count": 0
           },
           {
            "bin_start": 0.29182229039999996,
            "bin_end": 0.36174559359999997,
            "count": 0
           },
           {
            "bin_start": 0.36174559359999997,
            "bin_end": 0.4316688968,
            "count": 1
           },
           {
            "bin_start": 0.4316688968,
            "bin_end": 0.5015921999999999,
            "count": 0
           },
           {
            "bin_start": 0.5015921999999999,
            "bin_end": 0.5715155031999999,
            "count": 1
           },
           {
            "bin_start": 0.5715155031999999,
            "bin_end": 0.6414388064,
            "count": 0
           },
           {
            "bin_start": 0.6414388064,
            "bin_end": 0.7113621096,
            "count": 1
           },
           {
            "bin_start": 0.7113621096,
            "bin_end": 0.7812854128,
            "count": 0
           },
           {
            "bin_start": 0.7812854128,
            "bin_end": 0.8512087159999999,
            "count": 1
           }
          ]
         }
        },
        {
         "name": "version",
         "dtype": "object",
         "stats": {
          "unique_count": 1,
          "nan_count": 0,
          "categories": [
           {
            "name": "Wed13Dec17",
            "count": 5
           }
          ]
         }
        },
        {
         "name": "_deepnote_index_column",
         "dtype": "int64"
        }
       ],
       "rows_top": [
        {
         "CensusTract": 6001400100,
         "pop2010": 2937,
         "pct2010gq": 0.1,
         "City": "Oakland",
         "ZIP": 94704,
         "County_FIPS": 6001,
         "County_Name": "Alameda",
         "UrbanType": "urban_area",
         "hpi2score": 1.182028296,
         "hpi2_pctile_pos": 99.11459002,
         "hpi2_pctile_neg": 0.885409983,
         "hpi_top25pct": "Yes",
         "quintiles": 1,
         "quartiles": 1,
         "economic": 1.73596312,
         "economic_pctile": 98.69113307,
         "education": 0.9489684620000001,
         "education_pctile": 90.09367381,
         "housing": 0.730551597,
         "housing_pctile": 90.00384961,
         "healthcareaccess": 1.285242394,
         "healthcareaccess_pctile": 93.81496215,
         "neighborhood": 0.832169913,
         "neighborhood_pctile": 98.39599641,
         "pollution": 0.878124826,
         "pollution_pctile": 92.37777493,
         "transportation": 0.616855445,
         "transportation_pctile": 95.22648531,
         "social": 1.3366018640000001,
         "social_pctile": 96.88181702,
         "insured": 95,
         "insured_pctile": 93.81496215,
         "uncrowded": 99.3,
         "uncrowded_pctile": 89.46490440000001,
         "homeownership": 85.5,
         "homeownership_pctile": 92.00564609,
         "automobile": 98.6,
         "automobile_pctile": 87.47593995,
         "commute": 15.28455285,
         "commute_pctile": 82.88207366,
         "inpreschool": 53.7,
         "inpreschool_pctile": 53.71487232,
         "inhighschool": 100,
         "inhighschool_pctile": 100,
         "bachelorsed": 79.7,
         "bachelorsed_pctile": 98.67830104,
         "employed": 73.7,
         "employed_pctile": 68.92082638,
         "abovepoverty": 92.37804878,
         "abovepoverty_pctile": 96.44552804,
         "income": 174113,
         "income_pctile": 99.10175799,
         "retail": 9.587563451,
         "retail_pctile": 97.60041062,
         "parkaccess": 100,
         "parkaccess_pctile": 81.35506224,
         "treecanopy": 36.43379829999999,
         "treecanopy_pctile": 97.42076222,
         "alcoffsale": 73.16990126,
         "alcoffsale_pctile": 64.12164763,
         "voting": 82.78168224,
         "voting_pctile": 93.22468882,
         "ownsevere": 5.092592593,
         "ownsevere_pctile": 90.06800975,
         "rentsevere": 27.27272727,
         "rentsevere_pctile": 45.78467856,
         "houserepair": 100,
         "houserepair_pctile": 80.81611703,
         "twoparents": 93.07479224,
         "twoparents_pctile": 92.48043116,
         "supermkts": 1.3192057879999999,
         "supermkts_pctile": 13.39663801,
         "ozone": 0.029592333,
         "ozone_pctile": 96.08623123,
         "pm25": 8.69794377,
         "pm25_pctile": 74.75939946,
         "dieselpm": 27.43693284,
         "dieselpm_pctile": 18.9272424,
         "h20contam": 70.5995829,
         "h20contam_pctile": 97.20261773,
         "LEB": 86.98550623,
         "LEB_pctile": 96.66367253,
         "white_pct": 70.75246851,
         "black_pct": 4.766768812,
         "asian_pct": 15.52604699,
         "latino_pct": 3.983656793,
         "multiple_pct": 3.7793667010000003,
         "NativeAm_pct": 0.068096697,
         "PacificIsl_pct": 0.27238678899999996,
         "other_pct": 0.8512087159999999,
         "version": "Wed13Dec17",
         "_deepnote_index_column": 0
        },
        {
         "CensusTract": 6001400200,
         "pop2010": 1974,
         "pct2010gq": 3.5,
         "City": "Oakland",
         "ZIP": 94618,
         "County_FIPS": 6001,
         "County_Name": "Alameda",
         "UrbanType": "urban_area",
         "hpi2score": 1.325873799,
         "hpi2_pctile_pos": 99.70486334,
         "hpi2_pctile_neg": 0.295136661,
         "hpi_top25pct": "Yes",
         "quintiles": 1,
         "quartiles": 1,
         "economic": 1.808760851,
         "economic_pctile": 99.03759784,
         "education": 1.137724703,
         "education_pctile": 94.64904401,
         "housing": 0.9597282540000001,
         "housing_pctile": 96.8304889,
         "healthcareaccess": 1.004970538,
         "healthcareaccess_pctile": 83.98562813,
         "neighborhood": 0.503231709,
         "neighborhood_pctile": 94.37957141,
         "pollution": 0.6572610560000001,
         "pollution_pctile": 85.62812781,
         "transportation": 1.49436603,
         "transportation_pctile": 99.65353522,
         "social": 1.2271164079999999,
         "social_pctile": 94.68754009999999,
         "insured": 91.6,
         "insured_pctile": 83.98562813,
         "uncrowded": 100,
         "uncrowded_pctile": 96.93314513,
         "homeownership": 63.6,
         "homeownership_pctile": 59.50211728,
         "automobile": 94.1,
         "automobile_pctile": 46.02848710000001,
         "commute": 41.95075758,
         "commute_pctile": 96.79199281,
         "inpreschool": 64.7,
         "inpreschool_pctile": 67.79160785,
         "inhighschool": 100,
         "inhighschool_pctile": 100,
         "bachelorsed": 82.9,
         "bachelorsed_pctile": 99.44822276,
         "employed": 85.6,
         "employed_pctile": 99.17875016,
         "abovepoverty": 88.76008065,
         "abovepoverty_pctile": 90.96625176,
         "income": 141806,
         "income_pctile": 96.6508405,
         "retail": 2.448042558,
         "retail_pctile": 82.65109714,
         "parkaccess": 91.79330999999999,
         "parkaccess_pctile": 50.26305659,
         "treecanopy": 19.7083709,
         "treecanopy_pctile": 92.46759913,
         "alcoffsale": 28.41945289,
         "alcoffsale_pctile": 26.831772100000002,
         "voting": 85.49257179,
         "voting_pctile": 97.80572308,
         "ownsevere": 3.8834951460000005,
         "ownsevere_pctile": 94.18709098,
         "rentsevere": 2.666666667,
         "rentsevere_pctile": 97.89554729,
         "houserepair": 99.38650307,
         "houserepair_pctile": 51.14846657,
         "twoparents": 87.01298701,
         "twoparents_pctile": 77.9930707,
         "supermkts": 100,
         "supermkts_pctile": 94.25125112,
         "ozone": 0.029592333,
         "ozone_pctile": 96.08623123,
         "pm25": 8.69794377,
         "pm25_pctile": 74.75939946,
         "dieselpm": 42.19,
         "dieselpm_pctile": 5.569100475,
         "h20contam": 70.5995829,
         "h20contam_pctile": 97.20261773,
         "LEB": 86.95761586,
         "LEB_pctile": 96.61234441,
         "white_pct": 78.31813576,
         "black_pct": 1.5704154,
         "asian_pct": 7.396149949,
         "latino_pct": 7.649442756,
         "multiple_pct": 4.812563323,
         "NativeAm_pct": 0.10131712300000001,
         "PacificIsl_pct": 0,
         "other_pct": 0.151975684,
         "version": "Wed13Dec17",
         "_deepnote_index_column": 1
        },
        {
         "CensusTract": 6001400300,
         "pop2010": 4865,
         "pct2010gq": 0.8,
         "City": "Oakland",
         "ZIP": 94618,
         "County_FIPS": 6001,
         "County_Name": "Alameda",
         "UrbanType": "urban_area",
         "hpi2score": 0.925665702,
         "hpi2_pctile_pos": 95.93224689,
         "hpi2_pctile_neg": 4.067753112,
         "hpi_top25pct": "Yes",
         "quintiles": 1,
         "quartiles": 1,
         "economic": 1.014491555,
         "economic_pctile": 87.24496343,
         "education": 1.348314049,
         "education_pctile": 98.16501989,
         "housing": 0.603628313,
         "housing_pctile": 84.08828436,
         "healthcareaccess": 1.2687558140000001,
         "healthcareaccess_pctile": 93.18619274,
         "neighborhood": -0.291977182,
         "neighborhood_pctile": 19.94097267,
         "pollution": 0.6572610560000001,
         "pollution_pctile": 85.62812781,
         "transportation": 0.8222676990000001,
         "transportation_pctile": 97.20261773,
         "social": 1.078499777,
         "social_pctile": 90.96625176,
         "insured": 94.8,
         "insured_pctile": 93.18619274,
         "uncrowded": 100,
         "uncrowded_pctile": 96.93314513,
         "homeownership": 44.3,
         "homeownership_pctile": 33.85089183,
         "automobile": 85.5,
         "automobile_pctile": 14.11523162,
         "commute": 37.87398803,
         "commute_pctile": 96.04773515,
         "inpreschool": 100,
         "inpreschool_pctile": 95.71410240000002,
         "inhighschool": 100,
         "inhighschool_pctile": 100,
         "bachelorsed": 68.8,
         "bachelorsed_pctile": 94.35390735,
         "employed": 81.4,
         "employed_pctile": 95.27781342,
         "abovepoverty": 85.74387947,
         "abovepoverty_pctile": 85.30732709,
         "income": 84598,
         "income_pctile": 74.99037598,
         "retail": 1.890912421,
         "retail_pctile": 76.47889131,
         "parkaccess": 33.25797,
         "parkaccess_pctile": 15.83472347,
         "treecanopy": 5.8385298,
         "treecanopy_pctile": 57.32067239999999,
         "alcoffsale": 16.69064748,
         "alcoffsale_pctile": 19.31220326,
         "voting": 82.08659713,
         "voting_pctile": 91.81316566,
         "ownsevere": 7.359307359,
         "ownsevere_pctile": 79.07096112,
         "rentsevere": 12.17712177,
         "rentsevere_pctile": 88.77197485,
         "houserepair": 100,
         "houserepair_pctile": 80.81611703,
         "twoparents": 87.22157093,
         "twoparents_pctile": 78.42935968,
         "supermkts": 92.74517736,
         "supermkts_pctile": 80.35416399,
         "ozone": 0.029592333,
         "ozone_pctile": 96.08623123,
         "pm25": 8.69794377,
         "pm25_pctile": 74.75939946,
         "dieselpm": 42.19,
         "dieselpm_pctile": 5.569100475,
         "h20contam": 70.5995829,
         "h20contam_pctile": 97.20261773,
         "LEB": 86.46294163,
         "LEB_pctile": 95.13666111,
         "white_pct": 66.9270298,
         "black_pct": 10.52415211,
         "asian_pct": 8.612538541000001,
         "latino_pct": 8.201438849,
         "multiple_pct": 5.056526208,
         "NativeAm_pct": 0.16443987699999998,
         "PacificIsl_pct": 0.102774923,
         "other_pct": 0.411099692,
         "version": "Wed13Dec17",
         "_deepnote_index_column": 2
        },
        {
         "CensusTract": 6001400400,
         "pop2010": 3703,
         "pct2010gq": 0.9,
         "City": "Oakland",
         "ZIP": 94609,
         "County_FIPS": 6001,
         "County_Name": "Alameda",
         "UrbanType": "urban_area",
         "hpi2score": 1.117603414,
         "hpi2_pctile_pos": 98.53714872,
         "hpi2_pctile_neg": 1.462851277,
         "hpi_top25pct": "Yes",
         "quintiles": 1,
         "quartiles": 1,
         "economic": 1.277656808,
         "economic_pctile": 93.62248171,
         "education": 0.9395008979999999,
         "education_pctile": 89.91402541,
         "housing": 0.356477088,
         "housing_pctile": 68.38188118,
         "healthcareaccess": 1.301728974,
         "healthcareaccess_pctile": 94.43089953,
         "neighborhood": 0.07002686799999999,
         "neighborhood_pctile": 57.93660978,
         "pollution": 0.6572610560000001,
         "pollution_pctile": 85.62812781,
         "transportation": 1.7566567069999999,
         "transportation_pctile": 99.91017579999999,
         "social": 1.295416958,
         "social_pctile": 96.25304761,
         "insured": 95.2,
         "insured_pctile": 94.43089953,
         "uncrowded": 99.2,
         "uncrowded_pctile": 88.25869370000001,
         "homeownership": 37.9,
         "homeownership_pctile": 26.30565892,
         "automobile": 92.9,
         "automobile_pctile": 38.61157449,
         "commute": 49.72451791,
         "commute_pctile": 98.01103554,
         "inpreschool": 72.3,
         "inpreschool_pctile": 75.68330553,
         "inhighschool": 97.2,
         "inhighschool_pctile": 22.276401899999996,
         "bachelorsed": 75.5,
         "bachelorsed_pctile": 97.21544976,
         "employed": 84.6,
         "employed_pctile": 98.70396509999999,
         "abovepoverty": 83.21541839,
         "abovepoverty_pctile": 80.14885153,
         "income": 102386,
         "income_pctile": 86.50070576,
         "retail": 1.828020341,
         "retail_pctile": 75.61914539,
         "parkaccess": 84.229,
         "parkaccess_pctile": 42.73065572,
         "treecanopy": 11.378516099999999,
         "treecanopy_pctile": 82.99756191,
         "alcoffsale": 0,
         "alcoffsale_pctile": 4.5168741180000005,
         "voting": 83.73253947,
         "voting_pctile": 95.17515719,
         "ownsevere": 13.10344828,
         "ownsevere_pctile": 42.64083152,
         "rentsevere": 11.926605499999999,
         "rentsevere_pctile": 89.24675991,
         "houserepair": 99.44903581,
         "houserepair_pctile": 53.43256769,
         "twoparents": 90.8765653,
         "twoparents_pctile": 88.37418196,
         "supermkts": 97.84446589,
         "supermkts_pctile": 84.58873348,
         "ozone": 0.029592333,
         "ozone_pctile": 96.08623123,
         "pm25": 8.69794377,
         "pm25_pctile": 74.75939946,
         "dieselpm": 42.19,
         "dieselpm_pctile": 5.569100475,
         "h20contam": 70.5995829,
         "h20contam_pctile": 97.20261773,
         "LEB": 82.71089686,
         "LEB_pctile": 68.95932247,
         "white_pct": 65.46043748,
         "black_pct": 12.09829868,
         "asian_pct": 7.291385363,
         "latino_pct": 8.965703484,
         "multiple_pct": 5.320010802,
         "NativeAm_pct": 0.135025655,
         "PacificIsl_pct": 0.162030786,
         "other_pct": 0.56710775,
         "version": "Wed13Dec17",
         "_deepnote_index_column": 3
        },
        {
         "CensusTract": 6001400500,
         "pop2010": 3517,
         "pct2010gq": 3.6,
         "City": "Oakland",
         "ZIP": 94609,
         "County_FIPS": 6001,
         "County_Name": "Alameda",
         "UrbanType": "urban_area",
         "hpi2score": 0.56279906,
         "hpi2_pctile_pos": 83.31836263,
         "hpi2_pctile_neg": 16.68163737,
         "hpi_top25pct": "Yes",
         "quintiles": 1,
         "quartiles": 1,
         "economic": 0.577803305,
         "economic_pctile": 71.85936096,
         "education": 0.486144516,
         "education_pctile": 75.37533684,
         "housing": 0.029925628,
         "housing_pctile": 45.95149493,
         "healthcareaccess": 0.485643275,
         "healthcareaccess_pctile": 62.95393302,
         "neighborhood": -0.106063175,
         "neighborhood_pctile": 34.98011036,
         "pollution": 0.6572610560000001,
         "pollution_pctile": 85.62812781,
         "transportation": 0.8730715170000001,
         "transportation_pctile": 97.53625048,
         "social": 0.949500193,
         "social_pctile": 86.82150648,
         "insured": 85.3,
         "insured_pctile": 62.95393302,
         "uncrowded": 97.5,
         "uncrowded_pctile": 71.88502502,
         "homeownership": 36.3,
         "homeownership_pctile": 24.61183113,
         "automobile": 85.4,
         "automobile_pctile": 13.93558322,
         "commute": 39.2,
         "commute_pctile": 96.26587964,
         "inpreschool": 39.7,
         "inpreschool_pctile": 34.55665341,
         "inhighschool": 100,
         "inhighschool_pctile": 100,
         "bachelorsed": 61.9,
         "bachelorsed_pctile": 90.01668164,
         "employed": 77,
         "employed_pctile": 83.80597973,
         "abovepoverty": 74.88308116,
         "abovepoverty_pctile": 63.5698704,
         "income": 76038,
         "income_pctile": 67.67611959,
         "retail": 1.252350919,
         "retail_pctile": 64.57076864,
         "parkaccess": 100,
         "parkaccess_pctile": 81.35506224,
         "treecanopy": 5.6254528,
         "treecanopy_pctile": 55.357372,
         "alcoffsale": 0,
         "alcoffsale_pctile": 4.5168741180000005,
         "voting": 78.01067469,
         "voting_pctile": 81.48338252,
         "ownsevere": 19.65811966,
         "ownsevere_pctile": 15.52675478,
         "rentsevere": 20.39800995,
         "rentsevere_pctile": 69.31861927,
         "houserepair": 99.68553459,
         "houserepair_pctile": 59.96407032,
         "twoparents": 88.73563218,
         "twoparents_pctile": 82.6767612,
         "supermkts": 74.72266366,
         "supermkts_pctile": 68.09957654,
         "ozone": 0.029592333,
         "ozone_pctile": 96.08623123,
         "pm25": 8.69794377,
         "pm25_pctile": 74.75939946,
         "dieselpm": 42.19,
         "dieselpm_pctile": 5.569100475,
         "h20contam": 70.5995829,
         "h20contam_pctile": 97.20261773,
         "LEB": 80.12323761,
         "LEB_pctile": 38.85538304,
         "white_pct": 50.55444982,
         "black_pct": 26.52829116,
         "asian_pct": 5.914131362000001,
         "latino_pct": 9.667330111,
         "multiple_pct": 6.113164629,
         "NativeAm_pct": 0.45493318200000005,
         "PacificIsl_pct": 0.113733295,
         "other_pct": 0.653966449,
         "version": "Wed13Dec17",
         "_deepnote_index_column": 4
        }
       ],
       "rows_bottom": null
      },
      "text/plain": "   CensusTract  pop2010  pct2010gq     City      ZIP  County_FIPS County_Name  \\\n0   6001400100     2937        0.1  Oakland  94704.0         6001     Alameda   \n1   6001400200     1974        3.5  Oakland  94618.0         6001     Alameda   \n2   6001400300     4865        0.8  Oakland  94618.0         6001     Alameda   \n3   6001400400     3703        0.9  Oakland  94609.0         6001     Alameda   \n4   6001400500     3517        3.6  Oakland  94609.0         6001     Alameda   \n\n    UrbanType  hpi2score  hpi2_pctile_pos  ...  LEB_pctile  white_pct  \\\n0  urban_area   1.182028        99.114590  ...   96.663673  70.752469   \n1  urban_area   1.325874        99.704863  ...   96.612344  78.318136   \n2  urban_area   0.925666        95.932247  ...   95.136661  66.927030   \n3  urban_area   1.117603        98.537149  ...   68.959322  65.460437   \n4  urban_area   0.562799        83.318363  ...   38.855383  50.554450   \n\n   black_pct  asian_pct  latino_pct  multiple_pct  NativeAm_pct  \\\n0   4.766769  15.526047    3.983657      3.779367      0.068097   \n1   1.570415   7.396150    7.649443      4.812563      0.101317   \n2  10.524152   8.612539    8.201439      5.056526      0.164440   \n3  12.098299   7.291385    8.965703      5.320011      0.135026   \n4  26.528291   5.914131    9.667330      6.113165      0.454933   \n\n   PacificIsl_pct  other_pct     version  \n0        0.272387   0.851209  Wed13Dec17  \n1        0.000000   0.151976  Wed13Dec17  \n2        0.102775   0.411100  Wed13Dec17  \n3        0.162031   0.567108  Wed13Dec17  \n4        0.113733   0.653966  Wed13Dec17  \n\n[5 rows x 91 columns]",
      "text/html": "<div>\n<style scoped>\n    .dataframe tbody tr th:only-of-type {\n        vertical-align: middle;\n    }\n\n    .dataframe tbody tr th {\n        vertical-align: top;\n    }\n\n    .dataframe thead th {\n        text-align: right;\n    }\n</style>\n<table border=\"1\" class=\"dataframe\">\n  <thead>\n    <tr style=\"text-align: right;\">\n      <th></th>\n      <th>CensusTract</th>\n      <th>pop2010</th>\n      <th>pct2010gq</th>\n      <th>City</th>\n      <th>ZIP</th>\n      <th>County_FIPS</th>\n      <th>County_Name</th>\n      <th>UrbanType</th>\n      <th>hpi2score</th>\n      <th>hpi2_pctile_pos</th>\n      <th>...</th>\n      <th>LEB_pctile</th>\n      <th>white_pct</th>\n      <th>black_pct</th>\n      <th>asian_pct</th>\n      <th>latino_pct</th>\n      <th>multiple_pct</th>\n      <th>NativeAm_pct</th>\n      <th>PacificIsl_pct</th>\n      <th>other_pct</th>\n      <th>version</th>\n    </tr>\n  </thead>\n  <tbody>\n    <tr>\n      <th>0</th>\n      <td>6001400100</td>\n      <td>2937</td>\n      <td>0.1</td>\n      <td>Oakland</td>\n      <td>94704.0</td>\n      <td>6001</td>\n      <td>Alameda</td>\n      <td>urban_area</td>\n      <td>1.182028</td>\n      <td>99.114590</td>\n      <td>...</td>\n      <td>96.663673</td>\n      <td>70.752469</td>\n      <td>4.766769</td>\n      <td>15.526047</td>\n      <td>3.983657</td>\n      <td>3.779367</td>\n      <td>0.068097</td>\n      <td>0.272387</td>\n      <td>0.851209</td>\n      <td>Wed13Dec17</td>\n    </tr>\n    <tr>\n      <th>1</th>\n      <td>6001400200</td>\n      <td>1974</td>\n      <td>3.5</td>\n      <td>Oakland</td>\n      <td>94618.0</td>\n      <td>6001</td>\n      <td>Alameda</td>\n      <td>urban_area</td>\n      <td>1.325874</td>\n      <td>99.704863</td>\n      <td>...</td>\n      <td>96.612344</td>\n      <td>78.318136</td>\n      <td>1.570415</td>\n      <td>7.396150</td>\n      <td>7.649443</td>\n      <td>4.812563</td>\n      <td>0.101317</td>\n      <td>0.000000</td>\n      <td>0.151976</td>\n      <td>Wed13Dec17</td>\n    </tr>\n    <tr>\n      <th>2</th>\n      <td>6001400300</td>\n      <td>4865</td>\n      <td>0.8</td>\n      <td>Oakland</td>\n      <td>94618.0</td>\n      <td>6001</td>\n      <td>Alameda</td>\n      <td>urban_area</td>\n      <td>0.925666</td>\n      <td>95.932247</td>\n      <td>...</td>\n      <td>95.136661</td>\n      <td>66.927030</td>\n      <td>10.524152</td>\n      <td>8.612539</td>\n      <td>8.201439</td>\n      <td>5.056526</td>\n      <td>0.164440</td>\n      <td>0.102775</td>\n      <td>0.411100</td>\n      <td>Wed13Dec17</td>\n    </tr>\n    <tr>\n      <th>3</th>\n      <td>6001400400</td>\n      <td>3703</td>\n      <td>0.9</td>\n      <td>Oakland</td>\n      <td>94609.0</td>\n      <td>6001</td>\n      <td>Alameda</td>\n      <td>urban_area</td>\n      <td>1.117603</td>\n      <td>98.537149</td>\n      <td>...</td>\n      <td>68.959322</td>\n      <td>65.460437</td>\n      <td>12.098299</td>\n      <td>7.291385</td>\n      <td>8.965703</td>\n      <td>5.320011</td>\n      <td>0.135026</td>\n      <td>0.162031</td>\n      <td>0.567108</td>\n      <td>Wed13Dec17</td>\n    </tr>\n    <tr>\n      <th>4</th>\n      <td>6001400500</td>\n      <td>3517</td>\n      <td>3.6</td>\n      <td>Oakland</td>\n      <td>94609.0</td>\n      <td>6001</td>\n      <td>Alameda</td>\n      <td>urban_area</td>\n      <td>0.562799</td>\n      <td>83.318363</td>\n      <td>...</td>\n      <td>38.855383</td>\n      <td>50.554450</td>\n      <td>26.528291</td>\n      <td>5.914131</td>\n      <td>9.667330</td>\n      <td>6.113165</td>\n      <td>0.454933</td>\n      <td>0.113733</td>\n      <td>0.653966</td>\n      <td>Wed13Dec17</td>\n    </tr>\n  </tbody>\n</table>\n<p>5 rows × 91 columns</p>\n</div>"
     },
     "metadata": {}
    }
   ]
  },
  {
   "cell_type": "code",
   "metadata": {
    "cell_id": "00004-49fb9fc4-2b6e-46a3-994b-acd69f5ca6f5",
    "output_cleared": false,
    "tags": [],
    "deepnote_cell_type": "code"
   },
   "source": "#Rename the HPI dataset CensusTract column to GEOID, for joining with Cali Redlining dataset\nHPI_data = HPI_data.rename(columns = {'CensusTract':'GEOID'})\nHPI_data.head()",
   "execution_count": null,
   "outputs": [
    {
     "output_type": "execute_result",
     "execution_count": 15,
     "data": {
      "application/vnd.deepnote.dataframe.v2+json": {
       "row_count": 5,
       "column_count": 91,
       "columns": [
        {
         "name": "GEOID",
         "dtype": "int64",
         "stats": {
          "unique_count": 5,
          "nan_count": 0,
          "min": 6001400100,
          "max": 6001400500,
          "histogram": [
           {
            "bin_start": 6001400100,
            "bin_end": 6001400140,
            "count": 1
           },
           {
            "bin_start": 6001400140,
            "bin_end": 6001400180,
            "count": 0
           },
           {
            "bin_start": 6001400180,
            "bin_end": 6001400220,
            "count": 1
           },
           {
            "bin_start": 6001400220,
            "bin_end": 6001400260,
            "count": 0
           },
           {
            "bin_start": 6001400260,
            "bin_end": 6001400300,
            "count": 0
           },
           {
            "bin_start": 6001400300,
            "bin_end": 6001400340,
            "count": 1
           },
           {
            "bin_start": 6001400340,
            "bin_end": 6001400380,
            "count": 0
           },
           {
            "bin_start": 6001400380,
            "bin_end": 6001400420,
            "count": 1
           },
           {
            "bin_start": 6001400420,
            "bin_end": 6001400460,
            "count": 0
           },
           {
            "bin_start": 6001400460,
            "bin_end": 6001400500,
            "count": 1
           }
          ]
         }
        },
        {
         "name": "pop2010",
         "dtype": "int64",
         "stats": {
          "unique_count": 5,
          "nan_count": 0,
          "min": 1974,
          "max": 4865,
          "histogram": [
           {
            "bin_start": 1974,
            "bin_end": 2263.1,
            "count": 1
           },
           {
            "bin_start": 2263.1,
            "bin_end": 2552.2,
            "count": 0
           },
           {
            "bin_start": 2552.2,
            "bin_end": 2841.3,
            "count": 0
           },
           {
            "bin_start": 2841.3,
            "bin_end": 3130.4,
            "count": 1
           },
           {
            "bin_start": 3130.4,
            "bin_end": 3419.5,
            "count": 0
           },
           {
            "bin_start": 3419.5,
            "bin_end": 3708.6000000000004,
            "count": 2
           },
           {
            "bin_start": 3708.6000000000004,
            "bin_end": 3997.7000000000003,
            "count": 0
           },
           {
            "bin_start": 3997.7000000000003,
            "bin_end": 4286.8,
            "count": 0
           },
           {
            "bin_start": 4286.8,
            "bin_end": 4575.9,
            "count": 0
           },
           {
            "bin_start": 4575.9,
            "bin_end": 4865,
            "count": 1
           }
          ]
         }
        },
        {
         "name": "pct2010gq",
         "dtype": "float64",
         "stats": {
          "unique_count": 5,
          "nan_count": 0,
          "min": 0.1,
          "max": 3.6,
          "histogram": [
           {
            "bin_start": 0.1,
            "bin_end": 0.44999999999999996,
            "count": 1
           },
           {
            "bin_start": 0.44999999999999996,
            "bin_end": 0.7999999999999999,
            "count": 0
           },
           {
            "bin_start": 0.7999999999999999,
            "bin_end": 1.15,
            "count": 2
           },
           {
            "bin_start": 1.15,
            "bin_end": 1.5,
            "count": 0
           },
           {
            "bin_start": 1.5,
            "bin_end": 1.85,
            "count": 0
           },
           {
            "bin_start": 1.85,
            "bin_end": 2.1999999999999997,
            "count": 0
           },
           {
            "bin_start": 2.1999999999999997,
            "bin_end": 2.55,
            "count": 0
           },
           {
            "bin_start": 2.55,
            "bin_end": 2.9,
            "count": 0
           },
           {
            "bin_start": 2.9,
            "bin_end": 3.25,
            "count": 0
           },
           {
            "bin_start": 3.25,
            "bin_end": 3.6,
            "count": 2
           }
          ]
         }
        },
        {
         "name": "City",
         "dtype": "object",
         "stats": {
          "unique_count": 1,
          "nan_count": 0,
          "categories": [
           {
            "name": "Oakland",
            "count": 5
           }
          ]
         }
        },
        {
         "name": "ZIP",
         "dtype": "float64",
         "stats": {
          "unique_count": 3,
          "nan_count": 0,
          "min": 94609,
          "max": 94704,
          "histogram": [
           {
            "bin_start": 94609,
            "bin_end": 94618.5,
            "count": 4
           },
           {
            "bin_start": 94618.5,
            "bin_end": 94628,
            "count": 0
           },
           {
            "bin_start": 94628,
            "bin_end": 94637.5,
            "count": 0
           },
           {
            "bin_start": 94637.5,
            "bin_end": 94647,
            "count": 0
           },
           {
            "bin_start": 94647,
            "bin_end": 94656.5,
            "count": 0
           },
           {
            "bin_start": 94656.5,
            "bin_end": 94666,
            "count": 0
           },
           {
            "bin_start": 94666,
            "bin_end": 94675.5,
            "count": 0
           },
           {
            "bin_start": 94675.5,
            "bin_end": 94685,
            "count": 0
           },
           {
            "bin_start": 94685,
            "bin_end": 94694.5,
            "count": 0
           },
           {
            "bin_start": 94694.5,
            "bin_end": 94704,
            "count": 1
           }
          ]
         }
        },
        {
         "name": "County_FIPS",
         "dtype": "int64",
         "stats": {
          "unique_count": 1,
          "nan_count": 0,
          "min": 6001,
          "max": 6001,
          "histogram": [
           {
            "bin_start": 6000.5,
            "bin_end": 6000.6,
            "count": 0
           },
           {
            "bin_start": 6000.6,
            "bin_end": 6000.7,
            "count": 0
           },
           {
            "bin_start": 6000.7,
            "bin_end": 6000.8,
            "count": 0
           },
           {
            "bin_start": 6000.8,
            "bin_end": 6000.9,
            "count": 0
           },
           {
            "bin_start": 6000.9,
            "bin_end": 6001,
            "count": 0
           },
           {
            "bin_start": 6001,
            "bin_end": 6001.1,
            "count": 5
           },
           {
            "bin_start": 6001.1,
            "bin_end": 6001.2,
            "count": 0
           },
           {
            "bin_start": 6001.2,
            "bin_end": 6001.3,
            "count": 0
           },
           {
            "bin_start": 6001.3,
            "bin_end": 6001.4,
            "count": 0
           },
           {
            "bin_start": 6001.4,
            "bin_end": 6001.5,
            "count": 0
           }
          ]
         }
        },
        {
         "name": "County_Name",
         "dtype": "object",
         "stats": {
          "unique_count": 1,
          "nan_count": 0,
          "categories": [
           {
            "name": "Alameda",
            "count": 5
           }
          ]
         }
        },
        {
         "name": "UrbanType",
         "dtype": "object",
         "stats": {
          "unique_count": 1,
          "nan_count": 0,
          "categories": [
           {
            "name": "urban_area",
            "count": 5
           }
          ]
         }
        },
        {
         "name": "hpi2score",
         "dtype": "float64",
         "stats": {
          "unique_count": 5,
          "nan_count": 0,
          "min": 0.56279906,
          "max": 1.325873799,
          "histogram": [
           {
            "bin_start": 0.56279906,
            "bin_end": 0.6391065339,
            "count": 1
           },
           {
            "bin_start": 0.6391065339,
            "bin_end": 0.7154140078,
            "count": 0
           },
           {
            "bin_start": 0.7154140078,
            "bin_end": 0.7917214817,
            "count": 0
           },
           {
            "bin_start": 0.7917214817,
            "bin_end": 0.8680289556,
            "count": 0
           },
           {
            "bin_start": 0.8680289556,
            "bin_end": 0.9443364295000001,
            "count": 1
           },
           {
            "bin_start": 0.9443364295000001,
            "bin_end": 1.0206439034,
            "count": 0
           },
           {
            "bin_start": 1.0206439034,
            "bin_end": 1.0969513773,
            "count": 0
           },
           {
            "bin_start": 1.0969513773,
            "bin_end": 1.1732588512,
            "count": 1
           },
           {
            "bin_start": 1.1732588512,
            "bin_end": 1.2495663251,
            "count": 1
           },
           {
            "bin_start": 1.2495663251,
            "bin_end": 1.325873799,
            "count": 1
           }
          ]
         }
        },
        {
         "name": "hpi2_pctile_pos",
         "dtype": "float64",
         "stats": {
          "unique_count": 5,
          "nan_count": 0,
          "min": 83.31836263,
          "max": 99.70486334,
          "histogram": [
           {
            "bin_start": 83.31836263,
            "bin_end": 84.957012701,
            "count": 1
           },
           {
            "bin_start": 84.957012701,
            "bin_end": 86.595662772,
            "count": 0
           },
           {
            "bin_start": 86.595662772,
            "bin_end": 88.234312843,
            "count": 0
           },
           {
            "bin_start": 88.234312843,
            "bin_end": 89.872962914,
            "count": 0
           },
           {
            "bin_start": 89.872962914,
            "bin_end": 91.511612985,
            "count": 0
           },
           {
            "bin_start": 91.511612985,
            "bin_end": 93.150263056,
            "count": 0
           },
           {
            "bin_start": 93.150263056,
            "bin_end": 94.788913127,
            "count": 0
           },
           {
            "bin_start": 94.788913127,
            "bin_end": 96.427563198,
            "count": 1
           },
           {
            "bin_start": 96.427563198,
            "bin_end": 98.066213269,
            "count": 0
           },
           {
            "bin_start": 98.066213269,
            "bin_end": 99.70486334,
            "count": 3
           }
          ]
         }
        },
        {
         "name": "hpi2_pctile_neg",
         "dtype": "float64",
         "stats": {
          "unique_count": 5,
          "nan_count": 0,
          "min": 0.295136661,
          "max": 16.68163737,
          "histogram": [
           {
            "bin_start": 0.295136661,
            "bin_end": 1.9337867319000002,
            "count": 3
           },
           {
            "bin_start": 1.9337867319000002,
            "bin_end": 3.5724368028,
            "count": 0
           },
           {
            "bin_start": 3.5724368028,
            "bin_end": 5.2110868737,
            "count": 1
           },
           {
            "bin_start": 5.2110868737,
            "bin_end": 6.8497369446,
            "count": 0
           },
           {
            "bin_start": 6.8497369446,
            "bin_end": 8.4883870155,
            "count": 0
           },
           {
            "bin_start": 8.4883870155,
            "bin_end": 10.127037086400001,
            "count": 0
           },
           {
            "bin_start": 10.127037086400001,
            "bin_end": 11.7656871573,
            "count": 0
           },
           {
            "bin_start": 11.7656871573,
            "bin_end": 13.404337228200001,
            "count": 0
           },
           {
            "bin_start": 13.404337228200001,
            "bin_end": 15.042987299100002,
            "count": 0
           },
           {
            "bin_start": 15.042987299100002,
            "bin_end": 16.68163737,
            "count": 1
           }
          ]
         }
        },
        {
         "name": "hpi_top25pct",
         "dtype": "object",
         "stats": {
          "unique_count": 1,
          "nan_count": 0,
          "categories": [
           {
            "name": "Yes",
            "count": 5
           }
          ]
         }
        },
        {
         "name": "quintiles",
         "dtype": "float64",
         "stats": {
          "unique_count": 1,
          "nan_count": 0,
          "min": 1,
          "max": 1,
          "histogram": [
           {
            "bin_start": 0.5,
            "bin_end": 0.6,
            "count": 0
           },
           {
            "bin_start": 0.6,
            "bin_end": 0.7,
            "count": 0
           },
           {
            "bin_start": 0.7,
            "bin_end": 0.8,
            "count": 0
           },
           {
            "bin_start": 0.8,
            "bin_end": 0.9,
            "count": 0
           },
           {
            "bin_start": 0.9,
            "bin_end": 1,
            "count": 0
           },
           {
            "bin_start": 1,
            "bin_end": 1.1,
            "count": 5
           },
           {
            "bin_start": 1.1,
            "bin_end": 1.2000000000000002,
            "count": 0
           },
           {
            "bin_start": 1.2000000000000002,
            "bin_end": 1.3,
            "count": 0
           },
           {
            "bin_start": 1.3,
            "bin_end": 1.4,
            "count": 0
           },
           {
            "bin_start": 1.4,
            "bin_end": 1.5,
            "count": 0
           }
          ]
         }
        },
        {
         "name": "quartiles",
         "dtype": "float64",
         "stats": {
          "unique_count": 1,
          "nan_count": 0,
          "min": 1,
          "max": 1,
          "histogram": [
           {
            "bin_start": 0.5,
            "bin_end": 0.6,
            "count": 0
           },
           {
            "bin_start": 0.6,
            "bin_end": 0.7,
            "count": 0
           },
           {
            "bin_start": 0.7,
            "bin_end": 0.8,
            "count": 0
           },
           {
            "bin_start": 0.8,
            "bin_end": 0.9,
            "count": 0
           },
           {
            "bin_start": 0.9,
            "bin_end": 1,
            "count": 0
           },
           {
            "bin_start": 1,
            "bin_end": 1.1,
            "count": 5
           },
           {
            "bin_start": 1.1,
            "bin_end": 1.2000000000000002,
            "count": 0
           },
           {
            "bin_start": 1.2000000000000002,
            "bin_end": 1.3,
            "count": 0
           },
           {
            "bin_start": 1.3,
            "bin_end": 1.4,
            "count": 0
           },
           {
            "bin_start": 1.4,
            "bin_end": 1.5,
            "count": 0
           }
          ]
         }
        },
        {
         "name": "economic",
         "dtype": "float64",
         "stats": {
          "unique_count": 5,
          "nan_count": 0,
          "min": 0.577803305,
          "max": 1.808760851,
          "histogram": [
           {
            "bin_start": 0.577803305,
            "bin_end": 0.7008990596,
            "count": 1
           },
           {
            "bin_start": 0.7008990596,
            "bin_end": 0.8239948142,
            "count": 0
           },
           {
            "bin_start": 0.8239948142,
            "bin_end": 0.9470905688,
            "count": 0
           },
           {
            "bin_start": 0.9470905688,
            "bin_end": 1.0701863234,
            "count": 1
           },
           {
            "bin_start": 1.0701863234,
            "bin_end": 1.193282078,
            "count": 0
           },
           {
            "bin_start": 1.193282078,
            "bin_end": 1.3163778326,
            "count": 1
           },
           {
            "bin_start": 1.3163778326,
            "bin_end": 1.4394735872,
            "count": 0
           },
           {
            "bin_start": 1.4394735872,
            "bin_end": 1.5625693418,
            "count": 0
           },
           {
            "bin_start": 1.5625693418,
            "bin_end": 1.6856650964,
            "count": 0
           },
           {
            "bin_start": 1.6856650964,
            "bin_end": 1.808760851,
            "count": 2
           }
          ]
         }
        },
        {
         "name": "economic_pctile",
         "dtype": "float64",
         "stats": {
          "unique_count": 5,
          "nan_count": 0,
          "min": 71.85936096,
          "max": 99.03759784,
          "histogram": [
           {
            "bin_start": 71.85936096,
            "bin_end": 74.577184648,
            "count": 1
           },
           {
            "bin_start": 74.577184648,
            "bin_end": 77.29500833600001,
            "count": 0
           },
           {
            "bin_start": 77.29500833600001,
            "bin_end": 80.012832024,
            "count": 0
           },
           {
            "bin_start": 80.012832024,
            "bin_end": 82.730655712,
            "count": 0
           },
           {
            "bin_start": 82.730655712,
            "bin_end": 85.4484794,
            "count": 0
           },
           {
            "bin_start": 85.4484794,
            "bin_end": 88.166303088,
            "count": 1
           },
           {
            "bin_start": 88.166303088,
            "bin_end": 90.884126776,
            "count": 0
           },
           {
            "bin_start": 90.884126776,
            "bin_end": 93.601950464,
            "count": 0
           },
           {
            "bin_start": 93.601950464,
            "bin_end": 96.31977415200001,
            "count": 1
           },
           {
            "bin_start": 96.31977415200001,
            "bin_end": 99.03759784,
            "count": 2
           }
          ]
         }
        },
        {
         "name": "education",
         "dtype": "float64",
         "stats": {
          "unique_count": 5,
          "nan_count": 0,
          "min": 0.486144516,
          "max": 1.348314049,
          "histogram": [
           {
            "bin_start": 0.486144516,
            "bin_end": 0.5723614693000001,
            "count": 1
           },
           {
            "bin_start": 0.5723614693000001,
            "bin_end": 0.6585784226,
            "count": 0
           },
           {
            "bin_start": 0.6585784226,
            "bin_end": 0.7447953759000001,
            "count": 0
           },
           {
            "bin_start": 0.7447953759000001,
            "bin_end": 0.8310123292,
            "count": 0
           },
           {
            "bin_start": 0.8310123292,
            "bin_end": 0.9172292825000001,
            "count": 0
           },
           {
            "bin_start": 0.9172292825000001,
            "bin_end": 1.0034462358,
            "count": 2
           },
           {
            "bin_start": 1.0034462358,
            "bin_end": 1.0896631891000002,
            "count": 0
           },
           {
            "bin_start": 1.0896631891000002,
            "bin_end": 1.1758801424,
            "count": 1
           },
           {
            "bin_start": 1.1758801424,
            "bin_end": 1.2620970957000002,
            "count": 0
           },
           {
            "bin_start": 1.2620970957000002,
            "bin_end": 1.348314049,
            "count": 1
           }
          ]
         }
        },
        {
         "name": "education_pctile",
         "dtype": "float64",
         "stats": {
          "unique_count": 5,
          "nan_count": 0,
          "min": 75.37533684,
          "max": 98.16501989,
          "histogram": [
           {
            "bin_start": 75.37533684,
            "bin_end": 77.654305145,
            "count": 1
           },
           {
            "bin_start": 77.654305145,
            "bin_end": 79.93327345,
            "count": 0
           },
           {
            "bin_start": 79.93327345,
            "bin_end": 82.21224175500001,
            "count": 0
           },
           {
            "bin_start": 82.21224175500001,
            "bin_end": 84.49121006,
            "count": 0
           },
           {
            "bin_start": 84.49121006,
            "bin_end": 86.77017836499999,
            "count": 0
           },
           {
            "bin_start": 86.77017836499999,
            "bin_end": 89.04914667,
            "count": 0
           },
           {
            "bin_start": 89.04914667,
            "bin_end": 91.328114975,
            "count": 2
           },
           {
            "bin_start": 91.328114975,
            "bin_end": 93.60708328,
            "count": 0
           },
           {
            "bin_start": 93.60708328,
            "bin_end": 95.88605158499999,
            "count": 1
           },
           {
            "bin_start": 95.88605158499999,
            "bin_end": 98.16501989,
            "count": 1
           }
          ]
         }
        },
        {
         "name": "housing",
         "dtype": "float64",
         "stats": {
          "unique_count": 5,
          "nan_count": 0,
          "min": 0.029925628,
          "max": 0.9597282540000001,
          "histogram": [
           {
            "bin_start": 0.029925628,
            "bin_end": 0.1229058906,
            "count": 1
           },
           {
            "bin_start": 0.1229058906,
            "bin_end": 0.2158861532,
            "count": 0
           },
           {
            "bin_start": 0.2158861532,
            "bin_end": 0.30886641579999996,
            "count": 0
           },
           {
            "bin_start": 0.30886641579999996,
            "bin_end": 0.4018466784,
            "count": 1
           },
           {
            "bin_start": 0.4018466784,
            "bin_end": 0.494826941,
            "count": 0
           },
           {
            "bin_start": 0.494826941,
            "bin_end": 0.5878072035999999,
            "count": 0
           },
           {
            "bin_start": 0.5878072035999999,
            "bin_end": 0.6807874662,
            "count": 1
           },
           {
            "bin_start": 0.6807874662,
            "bin_end": 0.7737677288,
            "count": 1
           },
           {
            "bin_start": 0.7737677288,
            "bin_end": 0.8667479914,
            "count": 0
           },
           {
            "bin_start": 0.8667479914,
            "bin_end": 0.9597282540000001,
            "count": 1
           }
          ]
         }
        },
        {
         "name": "housing_pctile",
         "dtype": "float64",
         "stats": {
          "unique_count": 5,
          "nan_count": 0,
          "min": 45.95149493,
          "max": 96.8304889,
          "histogram": [
           {
            "bin_start": 45.95149493,
            "bin_end": 51.039394327000004,
            "count": 1
           },
           {
            "bin_start": 51.039394327000004,
            "bin_end": 56.127293724000005,
            "count": 0
           },
           {
            "bin_start": 56.127293724000005,
            "bin_end": 61.215193121,
            "count": 0
           },
           {
            "bin_start": 61.215193121,
            "bin_end": 66.303092518,
            "count": 0
           },
           {
            "bin_start": 66.303092518,
            "bin_end": 71.390991915,
            "count": 1
           },
           {
            "bin_start": 71.390991915,
            "bin_end": 76.478891312,
            "count": 0
           },
           {
            "bin_start": 76.478891312,
            "bin_end": 81.566790709,
            "count": 0
           },
           {
            "bin_start": 81.566790709,
            "bin_end": 86.654690106,
            "count": 1
           },
           {
            "bin_start": 86.654690106,
            "bin_end": 91.742589503,
            "count": 1
           },
           {
            "bin_start": 91.742589503,
            "bin_end": 96.8304889,
            "count": 1
           }
          ]
         }
        },
        {
         "name": "healthcareaccess",
         "dtype": "float64",
         "stats": {
          "unique_count": 5,
          "nan_count": 0,
          "min": 0.485643275,
          "max": 1.301728974,
          "histogram": [
           {
            "bin_start": 0.485643275,
            "bin_end": 0.5672518449,
            "count": 1
           },
           {
            "bin_start": 0.5672518449,
            "bin_end": 0.6488604148,
            "count": 0
           },
           {
            "bin_start": 0.6488604148,
            "bin_end": 0.7304689847,
            "count": 0
           },
           {
            "bin_start": 0.7304689847,
            "bin_end": 0.8120775546000001,
            "count": 0
           },
           {
            "bin_start": 0.8120775546000001,
            "bin_end": 0.8936861245000001,
            "count": 0
           },
           {
            "bin_start": 0.8936861245000001,
            "bin_end": 0.9752946944,
            "count": 0
           },
           {
            "bin_start": 0.9752946944,
            "bin_end": 1.0569032643,
            "count": 1
           },
           {
            "bin_start": 1.0569032643,
            "bin_end": 1.1385118342,
            "count": 0
           },
           {
            "bin_start": 1.1385118342,
            "bin_end": 1.2201204041,
            "count": 0
           },
           {
            "bin_start": 1.2201204041,
            "bin_end": 1.301728974,
            "count": 3
           }
          ]
         }
        },
        {
         "name": "healthcareaccess_pctile",
         "dtype": "float64",
         "stats": {
          "unique_count": 5,
          "nan_count": 0,
          "min": 62.95393302,
          "max": 94.43089953,
          "histogram": [
           {
            "bin_start": 62.95393302,
            "bin_end": 66.101629671,
            "count": 1
           },
           {
            "bin_start": 66.101629671,
            "bin_end": 69.249326322,
            "count": 0
           },
           {
            "bin_start": 69.249326322,
            "bin_end": 72.397022973,
            "count": 0
           },
           {
            "bin_start": 72.397022973,
            "bin_end": 75.54471962400001,
            "count": 0
           },
           {
            "bin_start": 75.54471962400001,
            "bin_end": 78.692416275,
            "count": 0
           },
           {
            "bin_start": 78.692416275,
            "bin_end": 81.840112926,
            "count": 0
           },
           {
            "bin_start": 81.840112926,
            "bin_end": 84.98780957700001,
            "count": 1
           },
           {
            "bin_start": 84.98780957700001,
            "bin_end": 88.135506228,
            "count": 0
           },
           {
            "bin_start": 88.135506228,
            "bin_end": 91.283202879,
            "count": 0
           },
           {
            "bin_start": 91.283202879,
            "bin_end": 94.43089953,
            "count": 3
           }
          ]
         }
        },
        {
         "name": "neighborhood",
         "dtype": "float64",
         "stats": {
          "unique_count": 5,
          "nan_count": 0,
          "min": -0.291977182,
          "max": 0.832169913,
          "histogram": [
           {
            "bin_start": -0.291977182,
            "bin_end": -0.1795624725,
            "count": 1
           },
           {
            "bin_start": -0.1795624725,
            "bin_end": -0.06714776299999997,
            "count": 1
           },
           {
            "bin_start": -0.06714776299999997,
            "bin_end": 0.04526694650000007,
            "count": 0
           },
           {
            "bin_start": 0.04526694650000007,
            "bin_end": 0.15768165600000006,
            "count": 1
           },
           {
            "bin_start": 0.15768165600000006,
            "bin_end": 0.27009636550000005,
            "count": 0
           },
           {
            "bin_start": 0.27009636550000005,
            "bin_end": 0.38251107500000014,
            "count": 0
           },
           {
            "bin_start": 0.38251107500000014,
            "bin_end": 0.49492578450000013,
            "count": 0
           },
           {
            "bin_start": 0.49492578450000013,
            "bin_end": 0.6073404940000001,
            "count": 1
           },
           {
            "bin_start": 0.6073404940000001,
            "bin_end": 0.7197552035000002,
            "count": 0
           },
           {
            "bin_start": 0.7197552035000002,
            "bin_end": 0.832169913,
            "count": 1
           }
          ]
         }
        },
        {
         "name": "neighborhood_pctile",
         "dtype": "float64",
         "stats": {
          "unique_count": 5,
          "nan_count": 0,
          "min": 19.94097267,
          "max": 98.39599641,
          "histogram": [
           {
            "bin_start": 19.94097267,
            "bin_end": 27.786475044,
            "count": 1
           },
           {
            "bin_start": 27.786475044,
            "bin_end": 35.631977418000005,
            "count": 1
           },
           {
            "bin_start": 35.631977418000005,
            "bin_end": 43.477479792000004,
            "count": 0
           },
           {
            "bin_start": 43.477479792000004,
            "bin_end": 51.322982166,
            "count": 0
           },
           {
            "bin_start": 51.322982166,
            "bin_end": 59.16848454,
            "count": 1
           },
           {
            "bin_start": 59.16848454,
            "bin_end": 67.01398691400001,
            "count": 0
           },
           {
            "bin_start": 67.01398691400001,
            "bin_end": 74.859489288,
            "count": 0
           },
           {
            "bin_start": 74.859489288,
            "bin_end": 82.704991662,
            "count": 0
           },
           {
            "bin_start": 82.704991662,
            "bin_end": 90.550494036,
            "count": 0
           },
           {
            "bin_start": 90.550494036,
            "bin_end": 98.39599641,
            "count": 2
           }
          ]
         }
        },
        {
         "name": "pollution",
         "dtype": "float64",
         "stats": {
          "unique_count": 2,
          "nan_count": 0,
          "min": 0.6572610560000001,
          "max": 0.878124826,
          "histogram": [
           {
            "bin_start": 0.6572610560000001,
            "bin_end": 0.679347433,
            "count": 4
           },
           {
            "bin_start": 0.679347433,
            "bin_end": 0.70143381,
            "count": 0
           },
           {
            "bin_start": 0.70143381,
            "bin_end": 0.7235201870000001,
            "count": 0
           },
           {
            "bin_start": 0.7235201870000001,
            "bin_end": 0.745606564,
            "count": 0
           },
           {
            "bin_start": 0.745606564,
            "bin_end": 0.767692941,
            "count": 0
           },
           {
            "bin_start": 0.767692941,
            "bin_end": 0.789779318,
            "count": 0
           },
           {
            "bin_start": 0.789779318,
            "bin_end": 0.811865695,
            "count": 0
           },
           {
            "bin_start": 0.811865695,
            "bin_end": 0.833952072,
            "count": 0
           },
           {
            "bin_start": 0.833952072,
            "bin_end": 0.8560384489999999,
            "count": 0
           },
           {
            "bin_start": 0.8560384489999999,
            "bin_end": 0.878124826,
            "count": 1
           }
          ]
         }
        },
        {
         "name": "pollution_pctile",
         "dtype": "float64",
         "stats": {
          "unique_count": 2,
          "nan_count": 0,
          "min": 85.62812781,
          "max": 92.37777493,
          "histogram": [
           {
            "bin_start": 85.62812781,
            "bin_end": 86.303092522,
            "count": 4
           },
           {
            "bin_start": 86.303092522,
            "bin_end": 86.97805723399999,
            "count": 0
           },
           {
            "bin_start": 86.97805723399999,
            "bin_end": 87.653021946,
            "count": 0
           },
           {
            "bin_start": 87.653021946,
            "bin_end": 88.327986658,
            "count": 0
           },
           {
            "bin_start": 88.327986658,
            "bin_end": 89.00295137,
            "count": 0
           },
           {
            "bin_start": 89.00295137,
            "bin_end": 89.677916082,
            "count": 0
           },
           {
            "bin_start": 89.677916082,
            "bin_end": 90.352880794,
            "count": 0
           },
           {
            "bin_start": 90.352880794,
            "bin_end": 91.027845506,
            "count": 0
           },
           {
            "bin_start": 91.027845506,
            "bin_end": 91.702810218,
            "count": 0
           },
           {
            "bin_start": 91.702810218,
            "bin_end": 92.37777493,
            "count": 1
           }
          ]
         }
        },
        {
         "name": "transportation",
         "dtype": "float64",
         "stats": {
          "unique_count": 5,
          "nan_count": 0,
          "min": 0.616855445,
          "max": 1.7566567069999999,
          "histogram": [
           {
            "bin_start": 0.616855445,
            "bin_end": 0.7308355712,
            "count": 1
           },
           {
            "bin_start": 0.7308355712,
            "bin_end": 0.8448156974,
            "count": 1
           },
           {
            "bin_start": 0.8448156974,
            "bin_end": 0.9587958235999999,
            "count": 1
           },
           {
            "bin_start": 0.9587958235999999,
            "bin_end": 1.0727759498,
            "count": 0
           },
           {
            "bin_start": 1.0727759498,
            "bin_end": 1.186756076,
            "count": 0
           },
           {
            "bin_start": 1.186756076,
            "bin_end": 1.3007362022,
            "count": 0
           },
           {
            "bin_start": 1.3007362022,
            "bin_end": 1.4147163284,
            "count": 0
           },
           {
            "bin_start": 1.4147163284,
            "bin_end": 1.5286964546,
            "count": 1
           },
           {
            "bin_start": 1.5286964546,
            "bin_end": 1.6426765808,
            "count": 0
           },
           {
            "bin_start": 1.6426765808,
            "bin_end": 1.7566567069999999,
            "count": 1
           }
          ]
         }
        },
        {
         "name": "transportation_pctile",
         "dtype": "float64",
         "stats": {
          "unique_count": 5,
          "nan_count": 0,
          "min": 95.22648531,
          "max": 99.91017579999999,
          "histogram": [
           {
            "bin_start": 95.22648531,
            "bin_end": 95.694854359,
            "count": 1
           },
           {
            "bin_start": 95.694854359,
            "bin_end": 96.163223408,
            "count": 0
           },
           {
            "bin_start": 96.163223408,
            "bin_end": 96.631592457,
            "count": 0
           },
           {
            "bin_start": 96.631592457,
            "bin_end": 97.099961506,
            "count": 0
           },
           {
            "bin_start": 97.099961506,
            "bin_end": 97.56833055499999,
            "count": 2
           },
           {
            "bin_start": 97.56833055499999,
            "bin_end": 98.03669960399999,
            "count": 0
           },
           {
            "bin_start": 98.03669960399999,
            "bin_end": 98.505068653,
            "count": 0
           },
           {
            "bin_start": 98.505068653,
            "bin_end": 98.973437702,
            "count": 0
           },
           {
            "bin_start": 98.973437702,
            "bin_end": 99.44180675099999,
            "count": 0
           },
           {
            "bin_start": 99.44180675099999,
            "bin_end": 99.91017579999999,
            "count": 2
           }
          ]
         }
        },
        {
         "name": "social",
         "dtype": "float64",
         "stats": {
          "unique_count": 5,
          "nan_count": 0,
          "min": 0.949500193,
          "max": 1.3366018640000001,
          "histogram": [
           {
            "bin_start": 0.949500193,
            "bin_end": 0.9882103601,
            "count": 1
           },
           {
            "bin_start": 0.9882103601,
            "bin_end": 1.0269205272,
            "count": 0
           },
           {
            "bin_start": 1.0269205272,
            "bin_end": 1.0656306943,
            "count": 0
           },
           {
            "bin_start": 1.0656306943,
            "bin_end": 1.1043408614,
            "count": 1
           },
           {
            "bin_start": 1.1043408614,
            "bin_end": 1.1430510285,
            "count": 0
           },
           {
            "bin_start": 1.1430510285,
            "bin_end": 1.1817611956,
            "count": 0
           },
           {
            "bin_start": 1.1817611956,
            "bin_end": 1.2204713627000001,
            "count": 0
           },
           {
            "bin_start": 1.2204713627000001,
            "bin_end": 1.2591815298000002,
            "count": 1
           },
           {
            "bin_start": 1.2591815298000002,
            "bin_end": 1.2978916969,
            "count": 1
           },
           {
            "bin_start": 1.2978916969,
            "bin_end": 1.3366018640000001,
            "count": 1
           }
          ]
         }
        },
        {
         "name": "social_pctile",
         "dtype": "float64",
         "stats": {
          "unique_count": 5,
          "nan_count": 0,
          "min": 86.82150648,
          "max": 96.88181702,
          "histogram": [
           {
            "bin_start": 86.82150648,
            "bin_end": 87.827537534,
            "count": 1
           },
           {
            "bin_start": 87.827537534,
            "bin_end": 88.83356858799999,
            "count": 0
           },
           {
            "bin_start": 88.83356858799999,
            "bin_end": 89.839599642,
            "count": 0
           },
           {
            "bin_start": 89.839599642,
            "bin_end": 90.845630696,
            "count": 0
           },
           {
            "bin_start": 90.845630696,
            "bin_end": 91.85166175,
            "count": 1
           },
           {
            "bin_start": 91.85166175,
            "bin_end": 92.857692804,
            "count": 0
           },
           {
            "bin_start": 92.857692804,
            "bin_end": 93.863723858,
            "count": 0
           },
           {
            "bin_start": 93.863723858,
            "bin_end": 94.869754912,
            "count": 1
           },
           {
            "bin_start": 94.869754912,
            "bin_end": 95.875785966,
            "count": 0
           },
           {
            "bin_start": 95.875785966,
            "bin_end": 96.88181702,
            "count": 2
           }
          ]
         }
        },
        {
         "name": "insured",
         "dtype": "float64",
         "stats": {
          "unique_count": 5,
          "nan_count": 0,
          "min": 85.3,
          "max": 95.2,
          "histogram": [
           {
            "bin_start": 85.3,
            "bin_end": 86.28999999999999,
            "count": 1
           },
           {
            "bin_start": 86.28999999999999,
            "bin_end": 87.28,
            "count": 0
           },
           {
            "bin_start": 87.28,
            "bin_end": 88.27,
            "count": 0
           },
           {
            "bin_start": 88.27,
            "bin_end": 89.26,
            "count": 0
           },
           {
            "bin_start": 89.26,
            "bin_end": 90.25,
            "count": 0
           },
           {
            "bin_start": 90.25,
            "bin_end": 91.24,
            "count": 0
           },
           {
            "bin_start": 91.24,
            "bin_end": 92.23,
            "count": 1
           },
           {
            "bin_start": 92.23,
            "bin_end": 93.22,
            "count": 0
           },
           {
            "bin_start": 93.22,
            "bin_end": 94.21000000000001,
            "count": 0
           },
           {
            "bin_start": 94.21000000000001,
            "bin_end": 95.2,
            "count": 3
           }
          ]
         }
        },
        {
         "name": "insured_pctile",
         "dtype": "float64",
         "stats": {
          "unique_count": 5,
          "nan_count": 0,
          "min": 62.95393302,
          "max": 94.43089953,
          "histogram": [
           {
            "bin_start": 62.95393302,
            "bin_end": 66.101629671,
            "count": 1
           },
           {
            "bin_start": 66.101629671,
            "bin_end": 69.249326322,
            "count": 0
           },
           {
            "bin_start": 69.249326322,
            "bin_end": 72.397022973,
            "count": 0
           },
           {
            "bin_start": 72.397022973,
            "bin_end": 75.54471962400001,
            "count": 0
           },
           {
            "bin_start": 75.54471962400001,
            "bin_end": 78.692416275,
            "count": 0
           },
           {
            "bin_start": 78.692416275,
            "bin_end": 81.840112926,
            "count": 0
           },
           {
            "bin_start": 81.840112926,
            "bin_end": 84.98780957700001,
            "count": 1
           },
           {
            "bin_start": 84.98780957700001,
            "bin_end": 88.135506228,
            "count": 0
           },
           {
            "bin_start": 88.135506228,
            "bin_end": 91.283202879,
            "count": 0
           },
           {
            "bin_start": 91.283202879,
            "bin_end": 94.43089953,
            "count": 3
           }
          ]
         }
        },
        {
         "name": "uncrowded",
         "dtype": "float64",
         "stats": {
          "unique_count": 4,
          "nan_count": 0,
          "min": 97.5,
          "max": 100,
          "histogram": [
           {
            "bin_start": 97.5,
            "bin_end": 97.75,
            "count": 1
           },
           {
            "bin_start": 97.75,
            "bin_end": 98,
            "count": 0
           },
           {
            "bin_start": 98,
            "bin_end": 98.25,
            "count": 0
           },
           {
            "bin_start": 98.25,
            "bin_end": 98.5,
            "count": 0
           },
           {
            "bin_start": 98.5,
            "bin_end": 98.75,
            "count": 0
           },
           {
            "bin_start": 98.75,
            "bin_end": 99,
            "count": 0
           },
           {
            "bin_start": 99,
            "bin_end": 99.25,
            "count": 1
           },
           {
            "bin_start": 99.25,
            "bin_end": 99.5,
            "count": 1
           },
           {
            "bin_start": 99.5,
            "bin_end": 99.75,
            "count": 0
           },
           {
            "bin_start": 99.75,
            "bin_end": 100,
            "count": 2
           }
          ]
         }
        },
        {
         "name": "uncrowded_pctile",
         "dtype": "float64",
         "stats": {
          "unique_count": 4,
          "nan_count": 0,
          "min": 71.88502502,
          "max": 96.93314513,
          "histogram": [
           {
            "bin_start": 71.88502502,
            "bin_end": 74.389837031,
            "count": 1
           },
           {
            "bin_start": 74.389837031,
            "bin_end": 76.894649042,
            "count": 0
           },
           {
            "bin_start": 76.894649042,
            "bin_end": 79.399461053,
            "count": 0
           },
           {
            "bin_start": 79.399461053,
            "bin_end": 81.904273064,
            "count": 0
           },
           {
            "bin_start": 81.904273064,
            "bin_end": 84.40908507500001,
            "count": 0
           },
           {
            "bin_start": 84.40908507500001,
            "bin_end": 86.91389708599999,
            "count": 0
           },
           {
            "bin_start": 86.91389708599999,
            "bin_end": 89.418709097,
            "count": 1
           },
           {
            "bin_start": 89.418709097,
            "bin_end": 91.923521108,
            "count": 1
           },
           {
            "bin_start": 91.923521108,
            "bin_end": 94.428333119,
            "count": 0
           },
           {
            "bin_start": 94.428333119,
            "bin_end": 96.93314513,
            "count": 2
           }
          ]
         }
        },
        {
         "name": "homeownership",
         "dtype": "float64",
         "stats": {
          "unique_count": 5,
          "nan_count": 0,
          "min": 36.3,
          "max": 85.5,
          "histogram": [
           {
            "bin_start": 36.3,
            "bin_end": 41.22,
            "count": 2
           },
           {
            "bin_start": 41.22,
            "bin_end": 46.14,
            "count": 1
           },
           {
            "bin_start": 46.14,
            "bin_end": 51.059999999999995,
            "count": 0
           },
           {
            "bin_start": 51.059999999999995,
            "bin_end": 55.98,
            "count": 0
           },
           {
            "bin_start": 55.98,
            "bin_end": 60.9,
            "count": 0
           },
           {
            "bin_start": 60.9,
            "bin_end": 65.82,
            "count": 1
           },
           {
            "bin_start": 65.82,
            "bin_end": 70.74,
            "count": 0
           },
           {
            "bin_start": 70.74,
            "bin_end": 75.66,
            "count": 0
           },
           {
            "bin_start": 75.66,
            "bin_end": 80.58,
            "count": 0
           },
           {
            "bin_start": 80.58,
            "bin_end": 85.5,
            "count": 1
           }
          ]
         }
        },
        {
         "name": "homeownership_pctile",
         "dtype": "float64",
         "stats": {
          "unique_count": 5,
          "nan_count": 0,
          "min": 24.61183113,
          "max": 92.00564609,
          "histogram": [
           {
            "bin_start": 24.61183113,
            "bin_end": 31.351212626,
            "count": 2
           },
           {
            "bin_start": 31.351212626,
            "bin_end": 38.090594122,
            "count": 1
           },
           {
            "bin_start": 38.090594122,
            "bin_end": 44.829975618,
            "count": 0
           },
           {
            "bin_start": 44.829975618,
            "bin_end": 51.569357114,
            "count": 0
           },
           {
            "bin_start": 51.569357114,
            "bin_end": 58.30873861,
            "count": 0
           },
           {
            "bin_start": 58.30873861,
            "bin_end": 65.048120106,
            "count": 1
           },
           {
            "bin_start": 65.048120106,
            "bin_end": 71.78750160199999,
            "count": 0
           },
           {
            "bin_start": 71.78750160199999,
            "bin_end": 78.526883098,
            "count": 0
           },
           {
            "bin_start": 78.526883098,
            "bin_end": 85.266264594,
            "count": 0
           },
           {
            "bin_start": 85.266264594,
            "bin_end": 92.00564609,
            "count": 1
           }
          ]
         }
        },
        {
         "name": "automobile",
         "dtype": "float64",
         "stats": {
          "unique_count": 5,
          "nan_count": 0,
          "min": 85.4,
          "max": 98.6,
          "histogram": [
           {
            "bin_start": 85.4,
            "bin_end": 86.72,
            "count": 2
           },
           {
            "bin_start": 86.72,
            "bin_end": 88.04,
            "count": 0
           },
           {
            "bin_start": 88.04,
            "bin_end": 89.36,
            "count": 0
           },
           {
            "bin_start": 89.36,
            "bin_end": 90.68,
            "count": 0
           },
           {
            "bin_start": 90.68,
            "bin_end": 92,
            "count": 0
           },
           {
            "bin_start": 92,
            "bin_end": 93.32,
            "count": 1
           },
           {
            "bin_start": 93.32,
            "bin_end": 94.64,
            "count": 1
           },
           {
            "bin_start": 94.64,
            "bin_end": 95.96,
            "count": 0
           },
           {
            "bin_start": 95.96,
            "bin_end": 97.28,
            "count": 0
           },
           {
            "bin_start": 97.28,
            "bin_end": 98.6,
            "count": 1
           }
          ]
         }
        },
        {
         "name": "automobile_pctile",
         "dtype": "float64",
         "stats": {
          "unique_count": 5,
          "nan_count": 0,
          "min": 13.93558322,
          "max": 87.47593995,
          "histogram": [
           {
            "bin_start": 13.93558322,
            "bin_end": 21.289618893,
            "count": 2
           },
           {
            "bin_start": 21.289618893,
            "bin_end": 28.643654566000002,
            "count": 0
           },
           {
            "bin_start": 28.643654566000002,
            "bin_end": 35.997690239,
            "count": 0
           },
           {
            "bin_start": 35.997690239,
            "bin_end": 43.351725912,
            "count": 1
           },
           {
            "bin_start": 43.351725912,
            "bin_end": 50.705761585,
            "count": 1
           },
           {
            "bin_start": 50.705761585,
            "bin_end": 58.059797258,
            "count": 0
           },
           {
            "bin_start": 58.059797258,
            "bin_end": 65.413832931,
            "count": 0
           },
           {
            "bin_start": 65.413832931,
            "bin_end": 72.767868604,
            "count": 0
           },
           {
            "bin_start": 72.767868604,
            "bin_end": 80.121904277,
            "count": 0
           },
           {
            "bin_start": 80.121904277,
            "bin_end": 87.47593995,
            "count": 1
           }
          ]
         }
        },
        {
         "name": "commute",
         "dtype": "float64",
         "stats": {
          "unique_count": 5,
          "nan_count": 0,
          "min": 15.28455285,
          "max": 49.72451791,
          "histogram": [
           {
            "bin_start": 15.28455285,
            "bin_end": 18.728549356000002,
            "count": 1
           },
           {
            "bin_start": 18.728549356000002,
            "bin_end": 22.172545862,
            "count": 0
           },
           {
            "bin_start": 22.172545862,
            "bin_end": 25.616542368,
            "count": 0
           },
           {
            "bin_start": 25.616542368,
            "bin_end": 29.060538874000002,
            "count": 0
           },
           {
            "bin_start": 29.060538874000002,
            "bin_end": 32.50453538000001,
            "count": 0
           },
           {
            "bin_start": 32.50453538000001,
            "bin_end": 35.948531886,
            "count": 0
           },
           {
            "bin_start": 35.948531886,
            "bin_end": 39.392528392,
            "count": 2
           },
           {
            "bin_start": 39.392528392,
            "bin_end": 42.83652489800001,
            "count": 1
           },
           {
            "bin_start": 42.83652489800001,
            "bin_end": 46.280521404000005,
            "count": 0
           },
           {
            "bin_start": 46.280521404000005,
            "bin_end": 49.72451791,
            "count": 1
           }
          ]
         }
        },
        {
         "name": "commute_pctile",
         "dtype": "float64",
         "stats": {
          "unique_count": 5,
          "nan_count": 0,
          "min": 82.88207366,
          "max": 98.01103554,
          "histogram": [
           {
            "bin_start": 82.88207366,
            "bin_end": 84.394969848,
            "count": 1
           },
           {
            "bin_start": 84.394969848,
            "bin_end": 85.907866036,
            "count": 0
           },
           {
            "bin_start": 85.907866036,
            "bin_end": 87.420762224,
            "count": 0
           },
           {
            "bin_start": 87.420762224,
            "bin_end": 88.933658412,
            "count": 0
           },
           {
            "bin_start": 88.933658412,
            "bin_end": 90.4465546,
            "count": 0
           },
           {
            "bin_start": 90.4465546,
            "bin_end": 91.959450788,
            "count": 0
           },
           {
            "bin_start": 91.959450788,
            "bin_end": 93.472346976,
            "count": 0
           },
           {
            "bin_start": 93.472346976,
            "bin_end": 94.985243164,
            "count": 0
           },
           {
            "bin_start": 94.985243164,
            "bin_end": 96.498139352,
            "count": 2
           },
           {
            "bin_start": 96.498139352,
            "bin_end": 98.01103554,
            "count": 2
           }
          ]
         }
        },
        {
         "name": "inpreschool",
         "dtype": "float64",
         "stats": {
          "unique_count": 5,
          "nan_count": 0,
          "min": 39.7,
          "max": 100,
          "histogram": [
           {
            "bin_start": 39.7,
            "bin_end": 45.730000000000004,
            "count": 1
           },
           {
            "bin_start": 45.730000000000004,
            "bin_end": 51.760000000000005,
            "count": 0
           },
           {
            "bin_start": 51.760000000000005,
            "bin_end": 57.79,
            "count": 1
           },
           {
            "bin_start": 57.79,
            "bin_end": 63.82,
            "count": 0
           },
           {
            "bin_start": 63.82,
            "bin_end": 69.85,
            "count": 1
           },
           {
            "bin_start": 69.85,
            "bin_end": 75.88,
            "count": 1
           },
           {
            "bin_start": 75.88,
            "bin_end": 81.91,
            "count": 0
           },
           {
            "bin_start": 81.91,
            "bin_end": 87.94,
            "count": 0
           },
           {
            "bin_start": 87.94,
            "bin_end": 93.97,
            "count": 0
           },
           {
            "bin_start": 93.97,
            "bin_end": 100,
            "count": 1
           }
          ]
         }
        },
        {
         "name": "inpreschool_pctile",
         "dtype": "float64",
         "stats": {
          "unique_count": 5,
          "nan_count": 0,
          "min": 34.55665341,
          "max": 95.71410240000002,
          "histogram": [
           {
            "bin_start": 34.55665341,
            "bin_end": 40.672398309,
            "count": 1
           },
           {
            "bin_start": 40.672398309,
            "bin_end": 46.78814320800001,
            "count": 0
           },
           {
            "bin_start": 46.78814320800001,
            "bin_end": 52.90388810700001,
            "count": 0
           },
           {
            "bin_start": 52.90388810700001,
            "bin_end": 59.01963300600001,
            "count": 1
           },
           {
            "bin_start": 59.01963300600001,
            "bin_end": 65.13537790500001,
            "count": 0
           },
           {
            "bin_start": 65.13537790500001,
            "bin_end": 71.251122804,
            "count": 1
           },
           {
            "bin_start": 71.251122804,
            "bin_end": 77.36686770300001,
            "count": 1
           },
           {
            "bin_start": 77.36686770300001,
            "bin_end": 83.48261260200002,
            "count": 0
           },
           {
            "bin_start": 83.48261260200002,
            "bin_end": 89.59835750100001,
            "count": 0
           },
           {
            "bin_start": 89.59835750100001,
            "bin_end": 95.71410240000002,
            "count": 1
           }
          ]
         }
        },
        {
         "name": "inhighschool",
         "dtype": "float64",
         "stats": {
          "unique_count": 2,
          "nan_count": 0,
          "min": 97.2,
          "max": 100,
          "histogram": [
           {
            "bin_start": 97.2,
            "bin_end": 97.48,
            "count": 1
           },
           {
            "bin_start": 97.48,
            "bin_end": 97.76,
            "count": 0
           },
           {
            "bin_start": 97.76,
            "bin_end": 98.04,
            "count": 0
           },
           {
            "bin_start": 98.04,
            "bin_end": 98.32000000000001,
            "count": 0
           },
           {
            "bin_start": 98.32000000000001,
            "bin_end": 98.6,
            "count": 0
           },
           {
            "bin_start": 98.6,
            "bin_end": 98.88,
            "count": 0
           },
           {
            "bin_start": 98.88,
            "bin_end": 99.16,
            "count": 0
           },
           {
            "bin_start": 99.16,
            "bin_end": 99.44,
            "count": 0
           },
           {
            "bin_start": 99.44,
            "bin_end": 99.72,
            "count": 0
           },
           {
            "bin_start": 99.72,
            "bin_end": 100,
            "count": 4
           }
          ]
         }
        },
        {
         "name": "inhighschool_pctile",
         "dtype": "float64",
         "stats": {
          "unique_count": 2,
          "nan_count": 0,
          "min": 22.276401899999996,
          "max": 100,
          "histogram": [
           {
            "bin_start": 22.276401899999996,
            "bin_end": 30.048761709999997,
            "count": 1
           },
           {
            "bin_start": 30.048761709999997,
            "bin_end": 37.82112152,
            "count": 0
           },
           {
            "bin_start": 37.82112152,
            "bin_end": 45.593481329999996,
            "count": 0
           },
           {
            "bin_start": 45.593481329999996,
            "bin_end": 53.36584114,
            "count": 0
           },
           {
            "bin_start": 53.36584114,
            "bin_end": 61.13820095,
            "count": 0
           },
           {
            "bin_start": 61.13820095,
            "bin_end": 68.91056076,
            "count": 0
           },
           {
            "bin_start": 68.91056076,
            "bin_end": 76.68292057,
            "count": 0
           },
           {
            "bin_start": 76.68292057,
            "bin_end": 84.45528038,
            "count": 0
           },
           {
            "bin_start": 84.45528038,
            "bin_end": 92.22764019,
            "count": 0
           },
           {
            "bin_start": 92.22764019,
            "bin_end": 100,
            "count": 4
           }
          ]
         }
        },
        {
         "name": "bachelorsed",
         "dtype": "float64",
         "stats": {
          "unique_count": 5,
          "nan_count": 0,
          "min": 61.9,
          "max": 82.9,
          "histogram": [
           {
            "bin_start": 61.9,
            "bin_end": 64,
            "count": 1
           },
           {
            "bin_start": 64,
            "bin_end": 66.1,
            "count": 0
           },
           {
            "bin_start": 66.1,
            "bin_end": 68.2,
            "count": 0
           },
           {
            "bin_start": 68.2,
            "bin_end": 70.3,
            "count": 1
           },
           {
            "bin_start": 70.3,
            "bin_end": 72.4,
            "count": 0
           },
           {
            "bin_start": 72.4,
            "bin_end": 74.5,
            "count": 0
           },
           {
            "bin_start": 74.5,
            "bin_end": 76.6,
            "count": 1
           },
           {
            "bin_start": 76.6,
            "bin_end": 78.7,
            "count": 0
           },
           {
            "bin_start": 78.7,
            "bin_end": 80.80000000000001,
            "count": 1
           },
           {
            "bin_start": 80.80000000000001,
            "bin_end": 82.9,
            "count": 1
           }
          ]
         }
        },
        {
         "name": "bachelorsed_pctile",
         "dtype": "float64",
         "stats": {
          "unique_count": 5,
          "nan_count": 0,
          "min": 90.01668164,
          "max": 99.44822276,
          "histogram": [
           {
            "bin_start": 90.01668164,
            "bin_end": 90.959835752,
            "count": 1
           },
           {
            "bin_start": 90.959835752,
            "bin_end": 91.902989864,
            "count": 0
           },
           {
            "bin_start": 91.902989864,
            "bin_end": 92.846143976,
            "count": 0
           },
           {
            "bin_start": 92.846143976,
            "bin_end": 93.789298088,
            "count": 0
           },
           {
            "bin_start": 93.789298088,
            "bin_end": 94.7324522,
            "count": 1
           },
           {
            "bin_start": 94.7324522,
            "bin_end": 95.675606312,
            "count": 0
           },
           {
            "bin_start": 95.675606312,
            "bin_end": 96.618760424,
            "count": 0
           },
           {
            "bin_start": 96.618760424,
            "bin_end": 97.56191453599999,
            "count": 1
           },
           {
            "bin_start": 97.56191453599999,
            "bin_end": 98.50506864799999,
            "count": 0
           },
           {
            "bin_start": 98.50506864799999,
            "bin_end": 99.44822276,
            "count": 2
           }
          ]
         }
        },
        {
         "name": "employed",
         "dtype": "float64",
         "stats": {
          "unique_count": 5,
          "nan_count": 0,
          "min": 73.7,
          "max": 85.6,
          "histogram": [
           {
            "bin_start": 73.7,
            "bin_end": 74.89,
            "count": 1
           },
           {
            "bin_start": 74.89,
            "bin_end": 76.08,
            "count": 0
           },
           {
            "bin_start": 76.08,
            "bin_end": 77.27,
            "count": 1
           },
           {
            "bin_start": 77.27,
            "bin_end": 78.46,
            "count": 0
           },
           {
            "bin_start": 78.46,
            "bin_end": 79.65,
            "count": 0
           },
           {
            "bin_start": 79.65,
            "bin_end": 80.84,
            "count": 0
           },
           {
            "bin_start": 80.84,
            "bin_end": 82.03,
            "count": 1
           },
           {
            "bin_start": 82.03,
            "bin_end": 83.22,
            "count": 0
           },
           {
            "bin_start": 83.22,
            "bin_end": 84.41,
            "count": 0
           },
           {
            "bin_start": 84.41,
            "bin_end": 85.6,
            "count": 2
           }
          ]
         }
        },
        {
         "name": "employed_pctile",
         "dtype": "float64",
         "stats": {
          "unique_count": 5,
          "nan_count": 0,
          "min": 68.92082638,
          "max": 99.17875016,
          "histogram": [
           {
            "bin_start": 68.92082638,
            "bin_end": 71.946618758,
            "count": 1
           },
           {
            "bin_start": 71.946618758,
            "bin_end": 74.97241113599999,
            "count": 0
           },
           {
            "bin_start": 74.97241113599999,
            "bin_end": 77.998203514,
            "count": 0
           },
           {
            "bin_start": 77.998203514,
            "bin_end": 81.023995892,
            "count": 0
           },
           {
            "bin_start": 81.023995892,
            "bin_end": 84.04978827,
            "count": 1
           },
           {
            "bin_start": 84.04978827,
            "bin_end": 87.075580648,
            "count": 0
           },
           {
            "bin_start": 87.075580648,
            "bin_end": 90.101373026,
            "count": 0
           },
           {
            "bin_start": 90.101373026,
            "bin_end": 93.12716540400001,
            "count": 0
           },
           {
            "bin_start": 93.12716540400001,
            "bin_end": 96.152957782,
            "count": 1
           },
           {
            "bin_start": 96.152957782,
            "bin_end": 99.17875016,
            "count": 2
           }
          ]
         }
        },
        {
         "name": "abovepoverty",
         "dtype": "float64",
         "stats": {
          "unique_count": 5,
          "nan_count": 0,
          "min": 74.88308116,
          "max": 92.37804878,
          "histogram": [
           {
            "bin_start": 74.88308116,
            "bin_end": 76.632577922,
            "count": 1
           },
           {
            "bin_start": 76.632577922,
            "bin_end": 78.382074684,
            "count": 0
           },
           {
            "bin_start": 78.382074684,
            "bin_end": 80.13157144600001,
            "count": 0
           },
           {
            "bin_start": 80.13157144600001,
            "bin_end": 81.881068208,
            "count": 0
           },
           {
            "bin_start": 81.881068208,
            "bin_end": 83.63056497,
            "count": 1
           },
           {
            "bin_start": 83.63056497,
            "bin_end": 85.380061732,
            "count": 0
           },
           {
            "bin_start": 85.380061732,
            "bin_end": 87.12955849400001,
            "count": 1
           },
           {
            "bin_start": 87.12955849400001,
            "bin_end": 88.879055256,
            "count": 1
           },
           {
            "bin_start": 88.879055256,
            "bin_end": 90.628552018,
            "count": 0
           },
           {
            "bin_start": 90.628552018,
            "bin_end": 92.37804878,
            "count": 1
           }
          ]
         }
        },
        {
         "name": "abovepoverty_pctile",
         "dtype": "float64",
         "stats": {
          "unique_count": 5,
          "nan_count": 0,
          "min": 63.5698704,
          "max": 96.44552804,
          "histogram": [
           {
            "bin_start": 63.5698704,
            "bin_end": 66.857436164,
            "count": 1
           },
           {
            "bin_start": 66.857436164,
            "bin_end": 70.145001928,
            "count": 0
           },
           {
            "bin_start": 70.145001928,
            "bin_end": 73.43256769199999,
            "count": 0
           },
           {
            "bin_start": 73.43256769199999,
            "bin_end": 76.720133456,
            "count": 0
           },
           {
            "bin_start": 76.720133456,
            "bin_end": 80.00769922,
            "count": 0
           },
           {
            "bin_start": 80.00769922,
            "bin_end": 83.295264984,
            "count": 1
           },
           {
            "bin_start": 83.295264984,
            "bin_end": 86.58283074799999,
            "count": 1
           },
           {
            "bin_start": 86.58283074799999,
            "bin_end": 89.870396512,
            "count": 0
           },
           {
            "bin_start": 89.870396512,
            "bin_end": 93.157962276,
            "count": 1
           },
           {
            "bin_start": 93.157962276,
            "bin_end": 96.44552804,
            "count": 1
           }
          ]
         }
        },
        {
         "name": "income",
         "dtype": "float64",
         "stats": {
          "unique_count": 5,
          "nan_count": 0,
          "min": 76038,
          "max": 174113,
          "histogram": [
           {
            "bin_start": 76038,
            "bin_end": 85845.5,
            "count": 2
           },
           {
            "bin_start": 85845.5,
            "bin_end": 95653,
            "count": 0
           },
           {
            "bin_start": 95653,
            "bin_end": 105460.5,
            "count": 1
           },
           {
            "bin_start": 105460.5,
            "bin_end": 115268,
            "count": 0
           },
           {
            "bin_start": 115268,
            "bin_end": 125075.5,
            "count": 0
           },
           {
            "bin_start": 125075.5,
            "bin_end": 134883,
            "count": 0
           },
           {
            "bin_start": 134883,
            "bin_end": 144690.5,
            "count": 1
           },
           {
            "bin_start": 144690.5,
            "bin_end": 154498,
            "count": 0
           },
           {
            "bin_start": 154498,
            "bin_end": 164305.5,
            "count": 0
           },
           {
            "bin_start": 164305.5,
            "bin_end": 174113,
            "count": 1
           }
          ]
         }
        },
        {
         "name": "income_pctile",
         "dtype": "float64",
         "stats": {
          "unique_count": 5,
          "nan_count": 0,
          "min": 67.67611959,
          "max": 99.10175799,
          "histogram": [
           {
            "bin_start": 67.67611959,
            "bin_end": 70.81868343,
            "count": 1
           },
           {
            "bin_start": 70.81868343,
            "bin_end": 73.96124727,
            "count": 0
           },
           {
            "bin_start": 73.96124727,
            "bin_end": 77.10381111,
            "count": 1
           },
           {
            "bin_start": 77.10381111,
            "bin_end": 80.24637495,
            "count": 0
           },
           {
            "bin_start": 80.24637495,
            "bin_end": 83.38893879,
            "count": 0
           },
           {
            "bin_start": 83.38893879,
            "bin_end": 86.53150263,
            "count": 1
           },
           {
            "bin_start": 86.53150263,
            "bin_end": 89.67406647,
            "count": 0
           },
           {
            "bin_start": 89.67406647,
            "bin_end": 92.81663031,
            "count": 0
           },
           {
            "bin_start": 92.81663031,
            "bin_end": 95.95919415,
            "count": 0
           },
           {
            "bin_start": 95.95919415,
            "bin_end": 99.10175799,
            "count": 2
           }
          ]
         }
        },
        {
         "name": "retail",
         "dtype": "float64",
         "stats": {
          "unique_count": 5,
          "nan_count": 0,
          "min": 1.252350919,
          "max": 9.587563451,
          "histogram": [
           {
            "bin_start": 1.252350919,
            "bin_end": 2.0858721722,
            "count": 3
           },
           {
            "bin_start": 2.0858721722,
            "bin_end": 2.9193934254,
            "count": 1
           },
           {
            "bin_start": 2.9193934254,
            "bin_end": 3.7529146786000003,
            "count": 0
           },
           {
            "bin_start": 3.7529146786000003,
            "bin_end": 4.5864359318000005,
            "count": 0
           },
           {
            "bin_start": 4.5864359318000005,
            "bin_end": 5.4199571849999995,
            "count": 0
           },
           {
            "bin_start": 5.4199571849999995,
            "bin_end": 6.2534784382,
            "count": 0
           },
           {
            "bin_start": 6.2534784382,
            "bin_end": 7.086999691400001,
            "count": 0
           },
           {
            "bin_start": 7.086999691400001,
            "bin_end": 7.9205209446,
            "count": 0
           },
           {
            "bin_start": 7.9205209446,
            "bin_end": 8.7540421978,
            "count": 0
           },
           {
            "bin_start": 8.7540421978,
            "bin_end": 9.587563451,
            "count": 1
           }
          ]
         }
        },
        {
         "name": "retail_pctile",
         "dtype": "float64",
         "stats": {
          "unique_count": 5,
          "nan_count": 0,
          "min": 64.57076864,
          "max": 97.60041062,
          "histogram": [
           {
            "bin_start": 64.57076864,
            "bin_end": 67.873732838,
            "count": 1
           },
           {
            "bin_start": 67.873732838,
            "bin_end": 71.176697036,
            "count": 0
           },
           {
            "bin_start": 71.176697036,
            "bin_end": 74.47966123399999,
            "count": 0
           },
           {
            "bin_start": 74.47966123399999,
            "bin_end": 77.782625432,
            "count": 2
           },
           {
            "bin_start": 77.782625432,
            "bin_end": 81.08558963,
            "count": 0
           },
           {
            "bin_start": 81.08558963,
            "bin_end": 84.388553828,
            "count": 1
           },
           {
            "bin_start": 84.388553828,
            "bin_end": 87.691518026,
            "count": 0
           },
           {
            "bin_start": 87.691518026,
            "bin_end": 90.994482224,
            "count": 0
           },
           {
            "bin_start": 90.994482224,
            "bin_end": 94.29744642200001,
            "count": 0
           },
           {
            "bin_start": 94.29744642200001,
            "bin_end": 97.60041062,
            "count": 1
           }
          ]
         }
        },
        {
         "name": "parkaccess",
         "dtype": "float64",
         "stats": {
          "unique_count": 4,
          "nan_count": 0,
          "min": 33.25797,
          "max": 100,
          "histogram": [
           {
            "bin_start": 33.25797,
            "bin_end": 39.932173,
            "count": 1
           },
           {
            "bin_start": 39.932173,
            "bin_end": 46.606376,
            "count": 0
           },
           {
            "bin_start": 46.606376,
            "bin_end": 53.280579,
            "count": 0
           },
           {
            "bin_start": 53.280579,
            "bin_end": 59.954782,
            "count": 0
           },
           {
            "bin_start": 59.954782,
            "bin_end": 66.628985,
            "count": 0
           },
           {
            "bin_start": 66.628985,
            "bin_end": 73.303188,
            "count": 0
           },
           {
            "bin_start": 73.303188,
            "bin_end": 79.97739100000001,
            "count": 0
           },
           {
            "bin_start": 79.97739100000001,
            "bin_end": 86.651594,
            "count": 1
           },
           {
            "bin_start": 86.651594,
            "bin_end": 93.325797,
            "count": 1
           },
           {
            "bin_start": 93.325797,
            "bin_end": 100,
            "count": 2
           }
          ]
         }
        },
        {
         "name": "parkaccess_pctile",
         "dtype": "float64",
         "stats": {
          "unique_count": 4,
          "nan_count": 0,
          "min": 15.83472347,
          "max": 81.35506224,
          "histogram": [
           {
            "bin_start": 15.83472347,
            "bin_end": 22.386757347,
            "count": 1
           },
           {
            "bin_start": 22.386757347,
            "bin_end": 28.938791224,
            "count": 0
           },
           {
            "bin_start": 28.938791224,
            "bin_end": 35.490825101,
            "count": 0
           },
           {
            "bin_start": 35.490825101,
            "bin_end": 42.042858978,
            "count": 0
           },
           {
            "bin_start": 42.042858978,
            "bin_end": 48.594892855,
            "count": 1
           },
           {
            "bin_start": 48.594892855,
            "bin_end": 55.146926732,
            "count": 1
           },
           {
            "bin_start": 55.146926732,
            "bin_end": 61.698960609,
            "count": 0
           },
           {
            "bin_start": 61.698960609,
            "bin_end": 68.250994486,
            "count": 0
           },
           {
            "bin_start": 68.250994486,
            "bin_end": 74.803028363,
            "count": 0
           },
           {
            "bin_start": 74.803028363,
            "bin_end": 81.35506224,
            "count": 2
           }
          ]
         }
        },
        {
         "name": "treecanopy",
         "dtype": "float64",
         "stats": {
          "unique_count": 5,
          "nan_count": 0,
          "min": 5.6254528,
          "max": 36.43379829999999,
          "histogram": [
           {
            "bin_start": 5.6254528,
            "bin_end": 8.70628735,
            "count": 2
           },
           {
            "bin_start": 8.70628735,
            "bin_end": 11.787121899999999,
            "count": 1
           },
           {
            "bin_start": 11.787121899999999,
            "bin_end": 14.86795645,
            "count": 0
           },
           {
            "bin_start": 14.86795645,
            "bin_end": 17.948791,
            "count": 0
           },
           {
            "bin_start": 17.948791,
            "bin_end": 21.02962555,
            "count": 1
           },
           {
            "bin_start": 21.02962555,
            "bin_end": 24.110460099999997,
            "count": 0
           },
           {
            "bin_start": 24.110460099999997,
            "bin_end": 27.191294649999996,
            "count": 0
           },
           {
            "bin_start": 27.191294649999996,
            "bin_end": 30.272129199999995,
            "count": 0
           },
           {
            "bin_start": 30.272129199999995,
            "bin_end": 33.352963749999994,
            "count": 0
           },
           {
            "bin_start": 33.352963749999994,
            "bin_end": 36.43379829999999,
            "count": 1
           }
          ]
         }
        },
        {
         "name": "treecanopy_pctile",
         "dtype": "float64",
         "stats": {
          "unique_count": 5,
          "nan_count": 0,
          "min": 55.357372,
          "max": 97.42076222,
          "histogram": [
           {
            "bin_start": 55.357372,
            "bin_end": 59.563711022,
            "count": 2
           },
           {
            "bin_start": 59.563711022,
            "bin_end": 63.770050044,
            "count": 0
           },
           {
            "bin_start": 63.770050044,
            "bin_end": 67.976389066,
            "count": 0
           },
           {
            "bin_start": 67.976389066,
            "bin_end": 72.182728088,
            "count": 0
           },
           {
            "bin_start": 72.182728088,
            "bin_end": 76.38906711,
            "count": 0
           },
           {
            "bin_start": 76.38906711,
            "bin_end": 80.595406132,
            "count": 0
           },
           {
            "bin_start": 80.595406132,
            "bin_end": 84.801745154,
            "count": 1
           },
           {
            "bin_start": 84.801745154,
            "bin_end": 89.008084176,
            "count": 0
           },
           {
            "bin_start": 89.008084176,
            "bin_end": 93.21442319799999,
            "count": 1
           },
           {
            "bin_start": 93.21442319799999,
            "bin_end": 97.42076222,
            "count": 1
           }
          ]
         }
        },
        {
         "name": "alcoffsale",
         "dtype": "float64",
         "stats": {
          "unique_count": 4,
          "nan_count": 0,
          "min": 0,
          "max": 73.16990126,
          "histogram": [
           {
            "bin_start": 0,
            "bin_end": 7.316990126,
            "count": 2
           },
           {
            "bin_start": 7.316990126,
            "bin_end": 14.633980252,
            "count": 0
           },
           {
            "bin_start": 14.633980252,
            "bin_end": 21.950970378,
            "count": 1
           },
           {
            "bin_start": 21.950970378,
            "bin_end": 29.267960504,
            "count": 1
           },
           {
            "bin_start": 29.267960504,
            "bin_end": 36.58495063,
            "count": 0
           },
           {
            "bin_start": 36.58495063,
            "bin_end": 43.901940756,
            "count": 0
           },
           {
            "bin_start": 43.901940756,
            "bin_end": 51.218930882,
            "count": 0
           },
           {
            "bin_start": 51.218930882,
            "bin_end": 58.535921008,
            "count": 0
           },
           {
            "bin_start": 58.535921008,
            "bin_end": 65.85291113400001,
            "count": 0
           },
           {
            "bin_start": 65.85291113400001,
            "bin_end": 73.16990126,
            "count": 1
           }
          ]
         }
        },
        {
         "name": "alcoffsale_pctile",
         "dtype": "float64",
         "stats": {
          "unique_count": 4,
          "nan_count": 0,
          "min": 4.5168741180000005,
          "max": 64.12164763,
          "histogram": [
           {
            "bin_start": 4.5168741180000005,
            "bin_end": 10.4773514692,
            "count": 2
           },
           {
            "bin_start": 10.4773514692,
            "bin_end": 16.4378288204,
            "count": 0
           },
           {
            "bin_start": 16.4378288204,
            "bin_end": 22.3983061716,
            "count": 1
           },
           {
            "bin_start": 22.3983061716,
            "bin_end": 28.3587835228,
            "count": 1
           },
           {
            "bin_start": 28.3587835228,
            "bin_end": 34.319260873999994,
            "count": 0
           },
           {
            "bin_start": 34.319260873999994,
            "bin_end": 40.279738225200006,
            "count": 0
           },
           {
            "bin_start": 40.279738225200006,
            "bin_end": 46.240215576400004,
            "count": 0
           },
           {
            "bin_start": 46.240215576400004,
            "bin_end": 52.2006929276,
            "count": 0
           },
           {
            "bin_start": 52.2006929276,
            "bin_end": 58.1611702788,
            "count": 0
           },
           {
            "bin_start": 58.1611702788,
            "bin_end": 64.12164763,
            "count": 1
           }
          ]
         }
        },
        {
         "name": "voting",
         "dtype": "float64",
         "stats": {
          "unique_count": 5,
          "nan_count": 0,
          "min": 78.01067469,
          "max": 85.49257179,
          "histogram": [
           {
            "bin_start": 78.01067469,
            "bin_end": 78.75886440000001,
            "count": 1
           },
           {
            "bin_start": 78.75886440000001,
            "bin_end": 79.50705411,
            "count": 0
           },
           {
            "bin_start": 79.50705411,
            "bin_end": 80.25524382,
            "count": 0
           },
           {
            "bin_start": 80.25524382,
            "bin_end": 81.00343353,
            "count": 0
           },
           {
            "bin_start": 81.00343353,
            "bin_end": 81.75162324,
            "count": 0
           },
           {
            "bin_start": 81.75162324,
            "bin_end": 82.49981295,
            "count": 1
           },
           {
            "bin_start": 82.49981295,
            "bin_end": 83.24800266,
            "count": 1
           },
           {
            "bin_start": 83.24800266,
            "bin_end": 83.99619237,
            "count": 1
           },
           {
            "bin_start": 83.99619237,
            "bin_end": 84.74438208,
            "count": 0
           },
           {
            "bin_start": 84.74438208,
            "bin_end": 85.49257179,
            "count": 1
           }
          ]
         }
        },
        {
         "name": "voting_pctile",
         "dtype": "float64",
         "stats": {
          "unique_count": 5,
          "nan_count": 0,
          "min": 81.48338252,
          "max": 97.80572308,
          "histogram": [
           {
            "bin_start": 81.48338252,
            "bin_end": 83.11561657600001,
            "count": 1
           },
           {
            "bin_start": 83.11561657600001,
            "bin_end": 84.74785063200001,
            "count": 0
           },
           {
            "bin_start": 84.74785063200001,
            "bin_end": 86.38008468800001,
            "count": 0
           },
           {
            "bin_start": 86.38008468800001,
            "bin_end": 88.01231874400001,
            "count": 0
           },
           {
            "bin_start": 88.01231874400001,
            "bin_end": 89.64455280000001,
            "count": 0
           },
           {
            "bin_start": 89.64455280000001,
            "bin_end": 91.276786856,
            "count": 0
           },
           {
            "bin_start": 91.276786856,
            "bin_end": 92.909020912,
            "count": 1
           },
           {
            "bin_start": 92.909020912,
            "bin_end": 94.541254968,
            "count": 1
           },
           {
            "bin_start": 94.541254968,
            "bin_end": 96.173489024,
            "count": 1
           },
           {
            "bin_start": 96.173489024,
            "bin_end": 97.80572308,
            "count": 1
           }
          ]
         }
        },
        {
         "name": "ownsevere",
         "dtype": "float64",
         "stats": {
          "unique_count": 5,
          "nan_count": 0,
          "min": 3.8834951460000005,
          "max": 19.65811966,
          "histogram": [
           {
            "bin_start": 3.8834951460000005,
            "bin_end": 5.4609575974,
            "count": 2
           },
           {
            "bin_start": 5.4609575974,
            "bin_end": 7.038420048800001,
            "count": 0
           },
           {
            "bin_start": 7.038420048800001,
            "bin_end": 8.615882500200001,
            "count": 1
           },
           {
            "bin_start": 8.615882500200001,
            "bin_end": 10.1933449516,
            "count": 0
           },
           {
            "bin_start": 10.1933449516,
            "bin_end": 11.770807403,
            "count": 0
           },
           {
            "bin_start": 11.770807403,
            "bin_end": 13.348269854400002,
            "count": 1
           },
           {
            "bin_start": 13.348269854400002,
            "bin_end": 14.9257323058,
            "count": 0
           },
           {
            "bin_start": 14.9257323058,
            "bin_end": 16.5031947572,
            "count": 0
           },
           {
            "bin_start": 16.5031947572,
            "bin_end": 18.0806572086,
            "count": 0
           },
           {
            "bin_start": 18.0806572086,
            "bin_end": 19.65811966,
            "count": 1
           }
          ]
         }
        },
        {
         "name": "ownsevere_pctile",
         "dtype": "float64",
         "stats": {
          "unique_count": 5,
          "nan_count": 0,
          "min": 15.52675478,
          "max": 94.18709098,
          "histogram": [
           {
            "bin_start": 15.52675478,
            "bin_end": 23.392788399999997,
            "count": 1
           },
           {
            "bin_start": 23.392788399999997,
            "bin_end": 31.258822019999997,
            "count": 0
           },
           {
            "bin_start": 31.258822019999997,
            "bin_end": 39.12485563999999,
            "count": 0
           },
           {
            "bin_start": 39.12485563999999,
            "bin_end": 46.990889259999996,
            "count": 1
           },
           {
            "bin_start": 46.990889259999996,
            "bin_end": 54.85692287999999,
            "count": 0
           },
           {
            "bin_start": 54.85692287999999,
            "bin_end": 62.72295649999999,
            "count": 0
           },
           {
            "bin_start": 62.72295649999999,
            "bin_end": 70.58899011999999,
            "count": 0
           },
           {
            "bin_start": 70.58899011999999,
            "bin_end": 78.45502373999999,
            "count": 0
           },
           {
            "bin_start": 78.45502373999999,
            "bin_end": 86.32105736,
            "count": 1
           },
           {
            "bin_start": 86.32105736,
            "bin_end": 94.18709098,
            "count": 2
           }
          ]
         }
        },
        {
         "name": "rentsevere",
         "dtype": "float64",
         "stats": {
          "unique_count": 5,
          "nan_count": 0,
          "min": 2.666666667,
          "max": 27.27272727,
          "histogram": [
           {
            "bin_start": 2.666666667,
            "bin_end": 5.127272727299999,
            "count": 1
           },
           {
            "bin_start": 5.127272727299999,
            "bin_end": 7.587878787599999,
            "count": 0
           },
           {
            "bin_start": 7.587878787599999,
            "bin_end": 10.0484848479,
            "count": 0
           },
           {
            "bin_start": 10.0484848479,
            "bin_end": 12.5090909082,
            "count": 2
           },
           {
            "bin_start": 12.5090909082,
            "bin_end": 14.9696969685,
            "count": 0
           },
           {
            "bin_start": 14.9696969685,
            "bin_end": 17.4303030288,
            "count": 0
           },
           {
            "bin_start": 17.4303030288,
            "bin_end": 19.8909090891,
            "count": 0
           },
           {
            "bin_start": 19.8909090891,
            "bin_end": 22.3515151494,
            "count": 1
           },
           {
            "bin_start": 22.3515151494,
            "bin_end": 24.812121209700003,
            "count": 0
           },
           {
            "bin_start": 24.812121209700003,
            "bin_end": 27.27272727,
            "count": 1
           }
          ]
         }
        },
        {
         "name": "rentsevere_pctile",
         "dtype": "float64",
         "stats": {
          "unique_count": 5,
          "nan_count": 0,
          "min": 45.78467856,
          "max": 97.89554729,
          "histogram": [
           {
            "bin_start": 45.78467856,
            "bin_end": 50.995765433,
            "count": 1
           },
           {
            "bin_start": 50.995765433,
            "bin_end": 56.206852306,
            "count": 0
           },
           {
            "bin_start": 56.206852306,
            "bin_end": 61.417939179,
            "count": 0
           },
           {
            "bin_start": 61.417939179,
            "bin_end": 66.629026052,
            "count": 0
           },
           {
            "bin_start": 66.629026052,
            "bin_end": 71.840112925,
            "count": 1
           },
           {
            "bin_start": 71.840112925,
            "bin_end": 77.051199798,
            "count": 0
           },
           {
            "bin_start": 77.051199798,
            "bin_end": 82.262286671,
            "count": 0
           },
           {
            "bin_start": 82.262286671,
            "bin_end": 87.473373544,
            "count": 0
           },
           {
            "bin_start": 87.473373544,
            "bin_end": 92.684460417,
            "count": 2
           },
           {
            "bin_start": 92.684460417,
            "bin_end": 97.89554729,
            "count": 1
           }
          ]
         }
        },
        {
         "name": "houserepair",
         "dtype": "float64",
         "stats": {
          "unique_count": 4,
          "nan_count": 0,
          "min": 99.38650307,
          "max": 100,
          "histogram": [
           {
            "bin_start": 99.38650307,
            "bin_end": 99.447852763,
            "count": 1
           },
           {
            "bin_start": 99.447852763,
            "bin_end": 99.509202456,
            "count": 1
           },
           {
            "bin_start": 99.509202456,
            "bin_end": 99.57055214900001,
            "count": 0
           },
           {
            "bin_start": 99.57055214900001,
            "bin_end": 99.631901842,
            "count": 0
           },
           {
            "bin_start": 99.631901842,
            "bin_end": 99.693251535,
            "count": 1
           },
           {
            "bin_start": 99.693251535,
            "bin_end": 99.754601228,
            "count": 0
           },
           {
            "bin_start": 99.754601228,
            "bin_end": 99.815950921,
            "count": 0
           },
           {
            "bin_start": 99.815950921,
            "bin_end": 99.877300614,
            "count": 0
           },
           {
            "bin_start": 99.877300614,
            "bin_end": 99.938650307,
            "count": 0
           },
           {
            "bin_start": 99.938650307,
            "bin_end": 100,
            "count": 2
           }
          ]
         }
        },
        {
         "name": "houserepair_pctile",
         "dtype": "float64",
         "stats": {
          "unique_count": 4,
          "nan_count": 0,
          "min": 51.14846657,
          "max": 80.81611703,
          "histogram": [
           {
            "bin_start": 51.14846657,
            "bin_end": 54.115231615999996,
            "count": 2
           },
           {
            "bin_start": 54.115231615999996,
            "bin_end": 57.081996661999995,
            "count": 0
           },
           {
            "bin_start": 57.081996661999995,
            "bin_end": 60.048761708,
            "count": 1
           },
           {
            "bin_start": 60.048761708,
            "bin_end": 63.015526754,
            "count": 0
           },
           {
            "bin_start": 63.015526754,
            "bin_end": 65.9822918,
            "count": 0
           },
           {
            "bin_start": 65.9822918,
            "bin_end": 68.94905684599999,
            "count": 0
           },
           {
            "bin_start": 68.94905684599999,
            "bin_end": 71.915821892,
            "count": 0
           },
           {
            "bin_start": 71.915821892,
            "bin_end": 74.882586938,
            "count": 0
           },
           {
            "bin_start": 74.882586938,
            "bin_end": 77.849351984,
            "count": 0
           },
           {
            "bin_start": 77.849351984,
            "bin_end": 80.81611703,
            "count": 2
           }
          ]
         }
        },
        {
         "name": "twoparents",
         "dtype": "float64",
         "stats": {
          "unique_count": 5,
          "nan_count": 0,
          "min": 87.01298701,
          "max": 93.07479224,
          "histogram": [
           {
            "bin_start": 87.01298701,
            "bin_end": 87.619167533,
            "count": 2
           },
           {
            "bin_start": 87.619167533,
            "bin_end": 88.225348056,
            "count": 0
           },
           {
            "bin_start": 88.225348056,
            "bin_end": 88.83152857900001,
            "count": 1
           },
           {
            "bin_start": 88.83152857900001,
            "bin_end": 89.437709102,
            "count": 0
           },
           {
            "bin_start": 89.437709102,
            "bin_end": 90.04388962499999,
            "count": 0
           },
           {
            "bin_start": 90.04388962499999,
            "bin_end": 90.650070148,
            "count": 0
           },
           {
            "bin_start": 90.650070148,
            "bin_end": 91.256250671,
            "count": 1
           },
           {
            "bin_start": 91.256250671,
            "bin_end": 91.862431194,
            "count": 0
           },
           {
            "bin_start": 91.862431194,
            "bin_end": 92.46861171699999,
            "count": 0
           },
           {
            "bin_start": 92.46861171699999,
            "bin_end": 93.07479224,
            "count": 1
           }
          ]
         }
        },
        {
         "name": "twoparents_pctile",
         "dtype": "float64",
         "stats": {
          "unique_count": 5,
          "nan_count": 0,
          "min": 77.9930707,
          "max": 92.48043116,
          "histogram": [
           {
            "bin_start": 77.9930707,
            "bin_end": 79.441806746,
            "count": 2
           },
           {
            "bin_start": 79.441806746,
            "bin_end": 80.890542792,
            "count": 0
           },
           {
            "bin_start": 80.890542792,
            "bin_end": 82.339278838,
            "count": 0
           },
           {
            "bin_start": 82.339278838,
            "bin_end": 83.788014884,
            "count": 1
           },
           {
            "bin_start": 83.788014884,
            "bin_end": 85.23675093,
            "count": 0
           },
           {
            "bin_start": 85.23675093,
            "bin_end": 86.68548697599999,
            "count": 0
           },
           {
            "bin_start": 86.68548697599999,
            "bin_end": 88.134223022,
            "count": 0
           },
           {
            "bin_start": 88.134223022,
            "bin_end": 89.582959068,
            "count": 1
           },
           {
            "bin_start": 89.582959068,
            "bin_end": 91.031695114,
            "count": 0
           },
           {
            "bin_start": 91.031695114,
            "bin_end": 92.48043116,
            "count": 1
           }
          ]
         }
        },
        {
         "name": "supermkts",
         "dtype": "float64",
         "stats": {
          "unique_count": 5,
          "nan_count": 0,
          "min": 1.3192057879999999,
          "max": 100,
          "histogram": [
           {
            "bin_start": 1.3192057879999999,
            "bin_end": 11.187285209199999,
            "count": 1
           },
           {
            "bin_start": 11.187285209199999,
            "bin_end": 21.0553646304,
            "count": 0
           },
           {
            "bin_start": 21.0553646304,
            "bin_end": 30.923444051599997,
            "count": 0
           },
           {
            "bin_start": 30.923444051599997,
            "bin_end": 40.791523472799994,
            "count": 0
           },
           {
            "bin_start": 40.791523472799994,
            "bin_end": 50.659602893999995,
            "count": 0
           },
           {
            "bin_start": 50.659602893999995,
            "bin_end": 60.52768231519999,
            "count": 0
           },
           {
            "bin_start": 60.52768231519999,
            "bin_end": 70.3957617364,
            "count": 0
           },
           {
            "bin_start": 70.3957617364,
            "bin_end": 80.2638411576,
            "count": 1
           },
           {
            "bin_start": 80.2638411576,
            "bin_end": 90.13192057879999,
            "count": 0
           },
           {
            "bin_start": 90.13192057879999,
            "bin_end": 100,
            "count": 3
           }
          ]
         }
        },
        {
         "name": "supermkts_pctile",
         "dtype": "float64",
         "stats": {
          "unique_count": 5,
          "nan_count": 0,
          "min": 13.39663801,
          "max": 94.25125112,
          "histogram": [
           {
            "bin_start": 13.39663801,
            "bin_end": 21.482099321,
            "count": 1
           },
           {
            "bin_start": 21.482099321,
            "bin_end": 29.567560632,
            "count": 0
           },
           {
            "bin_start": 29.567560632,
            "bin_end": 37.653021943,
            "count": 0
           },
           {
            "bin_start": 37.653021943,
            "bin_end": 45.738483254,
            "count": 0
           },
           {
            "bin_start": 45.738483254,
            "bin_end": 53.823944565000005,
            "count": 0
           },
           {
            "bin_start": 53.823944565000005,
            "bin_end": 61.909405875999994,
            "count": 0
           },
           {
            "bin_start": 61.909405875999994,
            "bin_end": 69.994867187,
            "count": 1
           },
           {
            "bin_start": 69.994867187,
            "bin_end": 78.080328498,
            "count": 0
           },
           {
            "bin_start": 78.080328498,
            "bin_end": 86.165789809,
            "count": 2
           },
           {
            "bin_start": 86.165789809,
            "bin_end": 94.25125112,
            "count": 1
           }
          ]
         }
        },
        {
         "name": "ozone",
         "dtype": "float64",
         "stats": {
          "unique_count": 1,
          "nan_count": 0,
          "min": 0.029592333,
          "max": 0.029592333,
          "histogram": [
           {
            "bin_start": -0.47040766700000003,
            "bin_end": -0.37040766700000005,
            "count": 0
           },
           {
            "bin_start": -0.37040766700000005,
            "bin_end": -0.270407667,
            "count": 0
           },
           {
            "bin_start": -0.270407667,
            "bin_end": -0.17040766699999998,
            "count": 0
           },
           {
            "bin_start": -0.17040766699999998,
            "bin_end": -0.07040766700000001,
            "count": 0
           },
           {
            "bin_start": -0.07040766700000001,
            "bin_end": 0.02959233299999997,
            "count": 0
           },
           {
            "bin_start": 0.02959233299999997,
            "bin_end": 0.12959233300000006,
            "count": 5
           },
           {
            "bin_start": 0.12959233300000006,
            "bin_end": 0.22959233300000004,
            "count": 0
           },
           {
            "bin_start": 0.22959233300000004,
            "bin_end": 0.329592333,
            "count": 0
           },
           {
            "bin_start": 0.329592333,
            "bin_end": 0.429592333,
            "count": 0
           },
           {
            "bin_start": 0.429592333,
            "bin_end": 0.529592333,
            "count": 0
           }
          ]
         }
        },
        {
         "name": "ozone_pctile",
         "dtype": "float64",
         "stats": {
          "unique_count": 1,
          "nan_count": 0,
          "min": 96.08623123,
          "max": 96.08623123,
          "histogram": [
           {
            "bin_start": 95.58623123,
            "bin_end": 95.68623122999999,
            "count": 0
           },
           {
            "bin_start": 95.68623122999999,
            "bin_end": 95.78623123,
            "count": 0
           },
           {
            "bin_start": 95.78623123,
            "bin_end": 95.88623122999999,
            "count": 0
           },
           {
            "bin_start": 95.88623122999999,
            "bin_end": 95.98623123,
            "count": 0
           },
           {
            "bin_start": 95.98623123,
            "bin_end": 96.08623123,
            "count": 0
           },
           {
            "bin_start": 96.08623123,
            "bin_end": 96.18623122999999,
            "count": 5
           },
           {
            "bin_start": 96.18623122999999,
            "bin_end": 96.28623123,
            "count": 0
           },
           {
            "bin_start": 96.28623123,
            "bin_end": 96.38623122999999,
            "count": 0
           },
           {
            "bin_start": 96.38623122999999,
            "bin_end": 96.48623123,
            "count": 0
           },
           {
            "bin_start": 96.48623123,
            "bin_end": 96.58623123,
            "count": 0
           }
          ]
         }
        },
        {
         "name": "pm25",
         "dtype": "float64",
         "stats": {
          "unique_count": 1,
          "nan_count": 0,
          "min": 8.69794377,
          "max": 8.69794377,
          "histogram": [
           {
            "bin_start": 8.19794377,
            "bin_end": 8.29794377,
            "count": 0
           },
           {
            "bin_start": 8.29794377,
            "bin_end": 8.39794377,
            "count": 0
           },
           {
            "bin_start": 8.39794377,
            "bin_end": 8.497943770000001,
            "count": 0
           },
           {
            "bin_start": 8.497943770000001,
            "bin_end": 8.59794377,
            "count": 0
           },
           {
            "bin_start": 8.59794377,
            "bin_end": 8.69794377,
            "count": 0
           },
           {
            "bin_start": 8.69794377,
            "bin_end": 8.79794377,
            "count": 5
           },
           {
            "bin_start": 8.79794377,
            "bin_end": 8.89794377,
            "count": 0
           },
           {
            "bin_start": 8.89794377,
            "bin_end": 8.997943770000001,
            "count": 0
           },
           {
            "bin_start": 8.997943770000001,
            "bin_end": 9.09794377,
            "count": 0
           },
           {
            "bin_start": 9.09794377,
            "bin_end": 9.19794377,
            "count": 0
           }
          ]
         }
        },
        {
         "name": "pm25_pctile",
         "dtype": "float64",
         "stats": {
          "unique_count": 1,
          "nan_count": 0,
          "min": 74.75939946,
          "max": 74.75939946,
          "histogram": [
           {
            "bin_start": 74.25939946,
            "bin_end": 74.35939945999999,
            "count": 0
           },
           {
            "bin_start": 74.35939945999999,
            "bin_end": 74.45939946,
            "count": 0
           },
           {
            "bin_start": 74.45939946,
            "bin_end": 74.55939946,
            "count": 0
           },
           {
            "bin_start": 74.55939946,
            "bin_end": 74.65939946,
            "count": 0
           },
           {
            "bin_start": 74.65939946,
            "bin_end": 74.75939946,
            "count": 0
           },
           {
            "bin_start": 74.75939946,
            "bin_end": 74.85939945999999,
            "count": 5
           },
           {
            "bin_start": 74.85939945999999,
            "bin_end": 74.95939946,
            "count": 0
           },
           {
            "bin_start": 74.95939946,
            "bin_end": 75.05939946,
            "count": 0
           },
           {
            "bin_start": 75.05939946,
            "bin_end": 75.15939946,
            "count": 0
           },
           {
            "bin_start": 75.15939946,
            "bin_end": 75.25939946,
            "count": 0
           }
          ]
         }
        },
        {
         "name": "dieselpm",
         "dtype": "float64",
         "stats": {
          "unique_count": 2,
          "nan_count": 0,
          "min": 27.43693284,
          "max": 42.19,
          "histogram": [
           {
            "bin_start": 27.43693284,
            "bin_end": 28.912239556,
            "count": 1
           },
           {
            "bin_start": 28.912239556,
            "bin_end": 30.387546272,
            "count": 0
           },
           {
            "bin_start": 30.387546272,
            "bin_end": 31.862852988,
            "count": 0
           },
           {
            "bin_start": 31.862852988,
            "bin_end": 33.338159704,
            "count": 0
           },
           {
            "bin_start": 33.338159704,
            "bin_end": 34.81346642,
            "count": 0
           },
           {
            "bin_start": 34.81346642,
            "bin_end": 36.288773136,
            "count": 0
           },
           {
            "bin_start": 36.288773136,
            "bin_end": 37.764079851999995,
            "count": 0
           },
           {
            "bin_start": 37.764079851999995,
            "bin_end": 39.239386568,
            "count": 0
           },
           {
            "bin_start": 39.239386568,
            "bin_end": 40.714693284,
            "count": 0
           },
           {
            "bin_start": 40.714693284,
            "bin_end": 42.19,
            "count": 4
           }
          ]
         }
        },
        {
         "name": "dieselpm_pctile",
         "dtype": "float64",
         "stats": {
          "unique_count": 2,
          "nan_count": 0,
          "min": 5.569100475,
          "max": 18.9272424,
          "histogram": [
           {
            "bin_start": 5.569100475,
            "bin_end": 6.9049146675,
            "count": 4
           },
           {
            "bin_start": 6.9049146675,
            "bin_end": 8.24072886,
            "count": 0
           },
           {
            "bin_start": 8.24072886,
            "bin_end": 9.5765430525,
            "count": 0
           },
           {
            "bin_start": 9.5765430525,
            "bin_end": 10.912357245,
            "count": 0
           },
           {
            "bin_start": 10.912357245,
            "bin_end": 12.248171437500002,
            "count": 0
           },
           {
            "bin_start": 12.248171437500002,
            "bin_end": 13.58398563,
            "count": 0
           },
           {
            "bin_start": 13.58398563,
            "bin_end": 14.9197998225,
            "count": 0
           },
           {
            "bin_start": 14.9197998225,
            "bin_end": 16.255614015000003,
            "count": 0
           },
           {
            "bin_start": 16.255614015000003,
            "bin_end": 17.5914282075,
            "count": 0
           },
           {
            "bin_start": 17.5914282075,
            "bin_end": 18.9272424,
            "count": 1
           }
          ]
         }
        },
        {
         "name": "h20contam",
         "dtype": "float64",
         "stats": {
          "unique_count": 1,
          "nan_count": 0,
          "min": 70.5995829,
          "max": 70.5995829,
          "histogram": [
           {
            "bin_start": 70.0995829,
            "bin_end": 70.1995829,
            "count": 0
           },
           {
            "bin_start": 70.1995829,
            "bin_end": 70.2995829,
            "count": 0
           },
           {
            "bin_start": 70.2995829,
            "bin_end": 70.3995829,
            "count": 0
           },
           {
            "bin_start": 70.3995829,
            "bin_end": 70.49958290000001,
            "count": 0
           },
           {
            "bin_start": 70.49958290000001,
            "bin_end": 70.5995829,
            "count": 0
           },
           {
            "bin_start": 70.5995829,
            "bin_end": 70.6995829,
            "count": 5
           },
           {
            "bin_start": 70.6995829,
            "bin_end": 70.7995829,
            "count": 0
           },
           {
            "bin_start": 70.7995829,
            "bin_end": 70.8995829,
            "count": 0
           },
           {
            "bin_start": 70.8995829,
            "bin_end": 70.99958290000001,
            "count": 0
           },
           {
            "bin_start": 70.99958290000001,
            "bin_end": 71.0995829,
            "count": 0
           }
          ]
         }
        },
        {
         "name": "h20contam_pctile",
         "dtype": "float64",
         "stats": {
          "unique_count": 1,
          "nan_count": 0,
          "min": 97.20261773,
          "max": 97.20261773,
          "histogram": [
           {
            "bin_start": 96.70261773,
            "bin_end": 96.80261773,
            "count": 0
           },
           {
            "bin_start": 96.80261773,
            "bin_end": 96.90261773,
            "count": 0
           },
           {
            "bin_start": 96.90261773,
            "bin_end": 97.00261773,
            "count": 0
           },
           {
            "bin_start": 97.00261773,
            "bin_end": 97.10261773,
            "count": 0
           },
           {
            "bin_start": 97.10261773,
            "bin_end": 97.20261773,
            "count": 0
           },
           {
            "bin_start": 97.20261773,
            "bin_end": 97.30261773,
            "count": 5
           },
           {
            "bin_start": 97.30261773,
            "bin_end": 97.40261773,
            "count": 0
           },
           {
            "bin_start": 97.40261773,
            "bin_end": 97.50261773,
            "count": 0
           },
           {
            "bin_start": 97.50261773,
            "bin_end": 97.60261773,
            "count": 0
           },
           {
            "bin_start": 97.60261773,
            "bin_end": 97.70261773,
            "count": 0
           }
          ]
         }
        },
        {
         "name": "LEB",
         "dtype": "float64",
         "stats": {
          "unique_count": 5,
          "nan_count": 0,
          "min": 80.12323761,
          "max": 86.98550623,
          "histogram": [
           {
            "bin_start": 80.12323761,
            "bin_end": 80.809464472,
            "count": 1
           },
           {
            "bin_start": 80.809464472,
            "bin_end": 81.495691334,
            "count": 0
           },
           {
            "bin_start": 81.495691334,
            "bin_end": 82.181918196,
            "count": 0
           },
           {
            "bin_start": 82.181918196,
            "bin_end": 82.868145058,
            "count": 1
           },
           {
            "bin_start": 82.868145058,
            "bin_end": 83.55437192,
            "count": 0
           },
           {
            "bin_start": 83.55437192,
            "bin_end": 84.240598782,
            "count": 0
           },
           {
            "bin_start": 84.240598782,
            "bin_end": 84.926825644,
            "count": 0
           },
           {
            "bin_start": 84.926825644,
            "bin_end": 85.613052506,
            "count": 0
           },
           {
            "bin_start": 85.613052506,
            "bin_end": 86.299279368,
            "count": 0
           },
           {
            "bin_start": 86.299279368,
            "bin_end": 86.98550623,
            "count": 3
           }
          ]
         }
        },
        {
         "name": "LEB_pctile",
         "dtype": "float64",
         "stats": {
          "unique_count": 5,
          "nan_count": 0,
          "min": 38.85538304,
          "max": 96.66367253,
          "histogram": [
           {
            "bin_start": 38.85538304,
            "bin_end": 44.636211989,
            "count": 1
           },
           {
            "bin_start": 44.636211989,
            "bin_end": 50.417040938,
            "count": 0
           },
           {
            "bin_start": 50.417040938,
            "bin_end": 56.197869886999996,
            "count": 0
           },
           {
            "bin_start": 56.197869886999996,
            "bin_end": 61.978698836,
            "count": 0
           },
           {
            "bin_start": 61.978698836,
            "bin_end": 67.759527785,
            "count": 0
           },
           {
            "bin_start": 67.759527785,
            "bin_end": 73.540356734,
            "count": 1
           },
           {
            "bin_start": 73.540356734,
            "bin_end": 79.32118568300001,
            "count": 0
           },
           {
            "bin_start": 79.32118568300001,
            "bin_end": 85.10201463199999,
            "count": 0
           },
           {
            "bin_start": 85.10201463199999,
            "bin_end": 90.882843581,
            "count": 0
           },
           {
            "bin_start": 90.882843581,
            "bin_end": 96.66367253,
            "count": 3
           }
          ]
         }
        },
        {
         "name": "white_pct",
         "dtype": "float64",
         "stats": {
          "unique_count": 5,
          "nan_count": 0,
          "min": 50.55444982,
          "max": 78.31813576,
          "histogram": [
           {
            "bin_start": 50.55444982,
            "bin_end": 53.330818414,
            "count": 1
           },
           {
            "bin_start": 53.330818414,
            "bin_end": 56.107187008000004,
            "count": 0
           },
           {
            "bin_start": 56.107187008000004,
            "bin_end": 58.883555602,
            "count": 0
           },
           {
            "bin_start": 58.883555602,
            "bin_end": 61.659924196000006,
            "count": 0
           },
           {
            "bin_start": 61.659924196000006,
            "bin_end": 64.43629279000001,
            "count": 0
           },
           {
            "bin_start": 64.43629279000001,
            "bin_end": 67.212661384,
            "count": 2
           },
           {
            "bin_start": 67.212661384,
            "bin_end": 69.989029978,
            "count": 0
           },
           {
            "bin_start": 69.989029978,
            "bin_end": 72.76539857200001,
            "count": 1
           },
           {
            "bin_start": 72.76539857200001,
            "bin_end": 75.541767166,
            "count": 0
           },
           {
            "bin_start": 75.541767166,
            "bin_end": 78.31813576,
            "count": 1
           }
          ]
         }
        },
        {
         "name": "black_pct",
         "dtype": "float64",
         "stats": {
          "unique_count": 5,
          "nan_count": 0,
          "min": 1.5704154,
          "max": 26.52829116,
          "histogram": [
           {
            "bin_start": 1.5704154,
            "bin_end": 4.066202976,
            "count": 1
           },
           {
            "bin_start": 4.066202976,
            "bin_end": 6.561990552,
            "count": 1
           },
           {
            "bin_start": 6.561990552,
            "bin_end": 9.057778128,
            "count": 0
           },
           {
            "bin_start": 9.057778128,
            "bin_end": 11.553565704,
            "count": 1
           },
           {
            "bin_start": 11.553565704,
            "bin_end": 14.04935328,
            "count": 1
           },
           {
            "bin_start": 14.04935328,
            "bin_end": 16.545140856000003,
            "count": 0
           },
           {
            "bin_start": 16.545140856000003,
            "bin_end": 19.040928432,
            "count": 0
           },
           {
            "bin_start": 19.040928432,
            "bin_end": 21.536716008,
            "count": 0
           },
           {
            "bin_start": 21.536716008,
            "bin_end": 24.032503584000004,
            "count": 0
           },
           {
            "bin_start": 24.032503584000004,
            "bin_end": 26.52829116,
            "count": 1
           }
          ]
         }
        },
        {
         "name": "asian_pct",
         "dtype": "float64",
         "stats": {
          "unique_count": 5,
          "nan_count": 0,
          "min": 5.914131362000001,
          "max": 15.52604699,
          "histogram": [
           {
            "bin_start": 5.914131362000001,
            "bin_end": 6.875322924800001,
            "count": 1
           },
           {
            "bin_start": 6.875322924800001,
            "bin_end": 7.836514487600001,
            "count": 2
           },
           {
            "bin_start": 7.836514487600001,
            "bin_end": 8.7977060504,
            "count": 1
           },
           {
            "bin_start": 8.7977060504,
            "bin_end": 9.7588976132,
            "count": 0
           },
           {
            "bin_start": 9.7588976132,
            "bin_end": 10.720089176,
            "count": 0
           },
           {
            "bin_start": 10.720089176,
            "bin_end": 11.6812807388,
            "count": 0
           },
           {
            "bin_start": 11.6812807388,
            "bin_end": 12.6424723016,
            "count": 0
           },
           {
            "bin_start": 12.6424723016,
            "bin_end": 13.6036638644,
            "count": 0
           },
           {
            "bin_start": 13.6036638644,
            "bin_end": 14.5648554272,
            "count": 0
           },
           {
            "bin_start": 14.5648554272,
            "bin_end": 15.52604699,
            "count": 1
           }
          ]
         }
        },
        {
         "name": "latino_pct",
         "dtype": "float64",
         "stats": {
          "unique_count": 5,
          "nan_count": 0,
          "min": 3.983656793,
          "max": 9.667330111,
          "histogram": [
           {
            "bin_start": 3.983656793,
            "bin_end": 4.5520241248,
            "count": 1
           },
           {
            "bin_start": 4.5520241248,
            "bin_end": 5.1203914566,
            "count": 0
           },
           {
            "bin_start": 5.1203914566,
            "bin_end": 5.6887587884,
            "count": 0
           },
           {
            "bin_start": 5.6887587884,
            "bin_end": 6.257126120200001,
            "count": 0
           },
           {
            "bin_start": 6.257126120200001,
            "bin_end": 6.825493452,
            "count": 0
           },
           {
            "bin_start": 6.825493452,
            "bin_end": 7.3938607838,
            "count": 0
           },
           {
            "bin_start": 7.3938607838,
            "bin_end": 7.9622281156,
            "count": 1
           },
           {
            "bin_start": 7.9622281156,
            "bin_end": 8.5305954474,
            "count": 1
           },
           {
            "bin_start": 8.5305954474,
            "bin_end": 9.0989627792,
            "count": 1
           },
           {
            "bin_start": 9.0989627792,
            "bin_end": 9.667330111,
            "count": 1
           }
          ]
         }
        },
        {
         "name": "multiple_pct",
         "dtype": "float64",
         "stats": {
          "unique_count": 5,
          "nan_count": 0,
          "min": 3.7793667010000003,
          "max": 6.113164629,
          "histogram": [
           {
            "bin_start": 3.7793667010000003,
            "bin_end": 4.0127464938,
            "count": 1
           },
           {
            "bin_start": 4.0127464938,
            "bin_end": 4.2461262866,
            "count": 0
           },
           {
            "bin_start": 4.2461262866,
            "bin_end": 4.4795060794,
            "count": 0
           },
           {
            "bin_start": 4.4795060794,
            "bin_end": 4.7128858722,
            "count": 0
           },
           {
            "bin_start": 4.7128858722,
            "bin_end": 4.946265665,
            "count": 1
           },
           {
            "bin_start": 4.946265665,
            "bin_end": 5.1796454577999995,
            "count": 1
           },
           {
            "bin_start": 5.1796454577999995,
            "bin_end": 5.4130252506000005,
            "count": 1
           },
           {
            "bin_start": 5.4130252506000005,
            "bin_end": 5.6464050434,
            "count": 0
           },
           {
            "bin_start": 5.6464050434,
            "bin_end": 5.8797848362,
            "count": 0
           },
           {
            "bin_start": 5.8797848362,
            "bin_end": 6.113164629,
            "count": 1
           }
          ]
         }
        },
        {
         "name": "NativeAm_pct",
         "dtype": "float64",
         "stats": {
          "unique_count": 5,
          "nan_count": 0,
          "min": 0.068096697,
          "max": 0.45493318200000005,
          "histogram": [
           {
            "bin_start": 0.068096697,
            "bin_end": 0.10678034550000001,
            "count": 2
           },
           {
            "bin_start": 0.10678034550000001,
            "bin_end": 0.145463994,
            "count": 1
           },
           {
            "bin_start": 0.145463994,
            "bin_end": 0.18414764250000004,
            "count": 1
           },
           {
            "bin_start": 0.18414764250000004,
            "bin_end": 0.22283129100000004,
            "count": 0
           },
           {
            "bin_start": 0.22283129100000004,
            "bin_end": 0.26151493950000004,
            "count": 0
           },
           {
            "bin_start": 0.26151493950000004,
            "bin_end": 0.30019858800000004,
            "count": 0
           },
           {
            "bin_start": 0.30019858800000004,
            "bin_end": 0.33888223650000004,
            "count": 0
           },
           {
            "bin_start": 0.33888223650000004,
            "bin_end": 0.37756588500000005,
            "count": 0
           },
           {
            "bin_start": 0.37756588500000005,
            "bin_end": 0.41624953350000005,
            "count": 0
           },
           {
            "bin_start": 0.41624953350000005,
            "bin_end": 0.45493318200000005,
            "count": 1
           }
          ]
         }
        },
        {
         "name": "PacificIsl_pct",
         "dtype": "float64",
         "stats": {
          "unique_count": 5,
          "nan_count": 0,
          "min": 0,
          "max": 0.27238678899999996,
          "histogram": [
           {
            "bin_start": 0,
            "bin_end": 0.027238678899999997,
            "count": 1
           },
           {
            "bin_start": 0.027238678899999997,
            "bin_end": 0.054477357799999994,
            "count": 0
           },
           {
            "bin_start": 0.054477357799999994,
            "bin_end": 0.0817160367,
            "count": 0
           },
           {
            "bin_start": 0.0817160367,
            "bin_end": 0.10895471559999999,
            "count": 1
           },
           {
            "bin_start": 0.10895471559999999,
            "bin_end": 0.13619339449999998,
            "count": 1
           },
           {
            "bin_start": 0.13619339449999998,
            "bin_end": 0.1634320734,
            "count": 1
           },
           {
            "bin_start": 0.1634320734,
            "bin_end": 0.19067075229999997,
            "count": 0
           },
           {
            "bin_start": 0.19067075229999997,
            "bin_end": 0.21790943119999998,
            "count": 0
           },
           {
            "bin_start": 0.21790943119999998,
            "bin_end": 0.24514811009999998,
            "count": 0
           },
           {
            "bin_start": 0.24514811009999998,
            "bin_end": 0.27238678899999996,
            "count": 1
           }
          ]
         }
        },
        {
         "name": "other_pct",
         "dtype": "float64",
         "stats": {
          "unique_count": 5,
          "nan_count": 0,
          "min": 0.151975684,
          "max": 0.8512087159999999,
          "histogram": [
           {
            "bin_start": 0.151975684,
            "bin_end": 0.2218989872,
            "count": 1
           },
           {
            "bin_start": 0.2218989872,
            "bin_end": 0.29182229039999996,
            "count": 0
           },
           {
            "bin_start": 0.29182229039999996,
            "bin_end": 0.36174559359999997,
            "count": 0
           },
           {
            "bin_start": 0.36174559359999997,
            "bin_end": 0.4316688968,
            "count": 1
           },
           {
            "bin_start": 0.4316688968,
            "bin_end": 0.5015921999999999,
            "count": 0
           },
           {
            "bin_start": 0.5015921999999999,
            "bin_end": 0.5715155031999999,
            "count": 1
           },
           {
            "bin_start": 0.5715155031999999,
            "bin_end": 0.6414388064,
            "count": 0
           },
           {
            "bin_start": 0.6414388064,
            "bin_end": 0.7113621096,
            "count": 1
           },
           {
            "bin_start": 0.7113621096,
            "bin_end": 0.7812854128,
            "count": 0
           },
           {
            "bin_start": 0.7812854128,
            "bin_end": 0.8512087159999999,
            "count": 1
           }
          ]
         }
        },
        {
         "name": "version",
         "dtype": "object",
         "stats": {
          "unique_count": 1,
          "nan_count": 0,
          "categories": [
           {
            "name": "Wed13Dec17",
            "count": 5
           }
          ]
         }
        },
        {
         "name": "_deepnote_index_column",
         "dtype": "int64"
        }
       ],
       "rows_top": [
        {
         "GEOID": 6001400100,
         "pop2010": 2937,
         "pct2010gq": 0.1,
         "City": "Oakland",
         "ZIP": 94704,
         "County_FIPS": 6001,
         "County_Name": "Alameda",
         "UrbanType": "urban_area",
         "hpi2score": 1.182028296,
         "hpi2_pctile_pos": 99.11459002,
         "hpi2_pctile_neg": 0.885409983,
         "hpi_top25pct": "Yes",
         "quintiles": 1,
         "quartiles": 1,
         "economic": 1.73596312,
         "economic_pctile": 98.69113307,
         "education": 0.9489684620000001,
         "education_pctile": 90.09367381,
         "housing": 0.730551597,
         "housing_pctile": 90.00384961,
         "healthcareaccess": 1.285242394,
         "healthcareaccess_pctile": 93.81496215,
         "neighborhood": 0.832169913,
         "neighborhood_pctile": 98.39599641,
         "pollution": 0.878124826,
         "pollution_pctile": 92.37777493,
         "transportation": 0.616855445,
         "transportation_pctile": 95.22648531,
         "social": 1.3366018640000001,
         "social_pctile": 96.88181702,
         "insured": 95,
         "insured_pctile": 93.81496215,
         "uncrowded": 99.3,
         "uncrowded_pctile": 89.46490440000001,
         "homeownership": 85.5,
         "homeownership_pctile": 92.00564609,
         "automobile": 98.6,
         "automobile_pctile": 87.47593995,
         "commute": 15.28455285,
         "commute_pctile": 82.88207366,
         "inpreschool": 53.7,
         "inpreschool_pctile": 53.71487232,
         "inhighschool": 100,
         "inhighschool_pctile": 100,
         "bachelorsed": 79.7,
         "bachelorsed_pctile": 98.67830104,
         "employed": 73.7,
         "employed_pctile": 68.92082638,
         "abovepoverty": 92.37804878,
         "abovepoverty_pctile": 96.44552804,
         "income": 174113,
         "income_pctile": 99.10175799,
         "retail": 9.587563451,
         "retail_pctile": 97.60041062,
         "parkaccess": 100,
         "parkaccess_pctile": 81.35506224,
         "treecanopy": 36.43379829999999,
         "treecanopy_pctile": 97.42076222,
         "alcoffsale": 73.16990126,
         "alcoffsale_pctile": 64.12164763,
         "voting": 82.78168224,
         "voting_pctile": 93.22468882,
         "ownsevere": 5.092592593,
         "ownsevere_pctile": 90.06800975,
         "rentsevere": 27.27272727,
         "rentsevere_pctile": 45.78467856,
         "houserepair": 100,
         "houserepair_pctile": 80.81611703,
         "twoparents": 93.07479224,
         "twoparents_pctile": 92.48043116,
         "supermkts": 1.3192057879999999,
         "supermkts_pctile": 13.39663801,
         "ozone": 0.029592333,
         "ozone_pctile": 96.08623123,
         "pm25": 8.69794377,
         "pm25_pctile": 74.75939946,
         "dieselpm": 27.43693284,
         "dieselpm_pctile": 18.9272424,
         "h20contam": 70.5995829,
         "h20contam_pctile": 97.20261773,
         "LEB": 86.98550623,
         "LEB_pctile": 96.66367253,
         "white_pct": 70.75246851,
         "black_pct": 4.766768812,
         "asian_pct": 15.52604699,
         "latino_pct": 3.983656793,
         "multiple_pct": 3.7793667010000003,
         "NativeAm_pct": 0.068096697,
         "PacificIsl_pct": 0.27238678899999996,
         "other_pct": 0.8512087159999999,
         "version": "Wed13Dec17",
         "_deepnote_index_column": 0
        },
        {
         "GEOID": 6001400200,
         "pop2010": 1974,
         "pct2010gq": 3.5,
         "City": "Oakland",
         "ZIP": 94618,
         "County_FIPS": 6001,
         "County_Name": "Alameda",
         "UrbanType": "urban_area",
         "hpi2score": 1.325873799,
         "hpi2_pctile_pos": 99.70486334,
         "hpi2_pctile_neg": 0.295136661,
         "hpi_top25pct": "Yes",
         "quintiles": 1,
         "quartiles": 1,
         "economic": 1.808760851,
         "economic_pctile": 99.03759784,
         "education": 1.137724703,
         "education_pctile": 94.64904401,
         "housing": 0.9597282540000001,
         "housing_pctile": 96.8304889,
         "healthcareaccess": 1.004970538,
         "healthcareaccess_pctile": 83.98562813,
         "neighborhood": 0.503231709,
         "neighborhood_pctile": 94.37957141,
         "pollution": 0.6572610560000001,
         "pollution_pctile": 85.62812781,
         "transportation": 1.49436603,
         "transportation_pctile": 99.65353522,
         "social": 1.2271164079999999,
         "social_pctile": 94.68754009999999,
         "insured": 91.6,
         "insured_pctile": 83.98562813,
         "uncrowded": 100,
         "uncrowded_pctile": 96.93314513,
         "homeownership": 63.6,
         "homeownership_pctile": 59.50211728,
         "automobile": 94.1,
         "automobile_pctile": 46.02848710000001,
         "commute": 41.95075758,
         "commute_pctile": 96.79199281,
         "inpreschool": 64.7,
         "inpreschool_pctile": 67.79160785,
         "inhighschool": 100,
         "inhighschool_pctile": 100,
         "bachelorsed": 82.9,
         "bachelorsed_pctile": 99.44822276,
         "employed": 85.6,
         "employed_pctile": 99.17875016,
         "abovepoverty": 88.76008065,
         "abovepoverty_pctile": 90.96625176,
         "income": 141806,
         "income_pctile": 96.6508405,
         "retail": 2.448042558,
         "retail_pctile": 82.65109714,
         "parkaccess": 91.79330999999999,
         "parkaccess_pctile": 50.26305659,
         "treecanopy": 19.7083709,
         "treecanopy_pctile": 92.46759913,
         "alcoffsale": 28.41945289,
         "alcoffsale_pctile": 26.831772100000002,
         "voting": 85.49257179,
         "voting_pctile": 97.80572308,
         "ownsevere": 3.8834951460000005,
         "ownsevere_pctile": 94.18709098,
         "rentsevere": 2.666666667,
         "rentsevere_pctile": 97.89554729,
         "houserepair": 99.38650307,
         "houserepair_pctile": 51.14846657,
         "twoparents": 87.01298701,
         "twoparents_pctile": 77.9930707,
         "supermkts": 100,
         "supermkts_pctile": 94.25125112,
         "ozone": 0.029592333,
         "ozone_pctile": 96.08623123,
         "pm25": 8.69794377,
         "pm25_pctile": 74.75939946,
         "dieselpm": 42.19,
         "dieselpm_pctile": 5.569100475,
         "h20contam": 70.5995829,
         "h20contam_pctile": 97.20261773,
         "LEB": 86.95761586,
         "LEB_pctile": 96.61234441,
         "white_pct": 78.31813576,
         "black_pct": 1.5704154,
         "asian_pct": 7.396149949,
         "latino_pct": 7.649442756,
         "multiple_pct": 4.812563323,
         "NativeAm_pct": 0.10131712300000001,
         "PacificIsl_pct": 0,
         "other_pct": 0.151975684,
         "version": "Wed13Dec17",
         "_deepnote_index_column": 1
        },
        {
         "GEOID": 6001400300,
         "pop2010": 4865,
         "pct2010gq": 0.8,
         "City": "Oakland",
         "ZIP": 94618,
         "County_FIPS": 6001,
         "County_Name": "Alameda",
         "UrbanType": "urban_area",
         "hpi2score": 0.925665702,
         "hpi2_pctile_pos": 95.93224689,
         "hpi2_pctile_neg": 4.067753112,
         "hpi_top25pct": "Yes",
         "quintiles": 1,
         "quartiles": 1,
         "economic": 1.014491555,
         "economic_pctile": 87.24496343,
         "education": 1.348314049,
         "education_pctile": 98.16501989,
         "housing": 0.603628313,
         "housing_pctile": 84.08828436,
         "healthcareaccess": 1.2687558140000001,
         "healthcareaccess_pctile": 93.18619274,
         "neighborhood": -0.291977182,
         "neighborhood_pctile": 19.94097267,
         "pollution": 0.6572610560000001,
         "pollution_pctile": 85.62812781,
         "transportation": 0.8222676990000001,
         "transportation_pctile": 97.20261773,
         "social": 1.078499777,
         "social_pctile": 90.96625176,
         "insured": 94.8,
         "insured_pctile": 93.18619274,
         "uncrowded": 100,
         "uncrowded_pctile": 96.93314513,
         "homeownership": 44.3,
         "homeownership_pctile": 33.85089183,
         "automobile": 85.5,
         "automobile_pctile": 14.11523162,
         "commute": 37.87398803,
         "commute_pctile": 96.04773515,
         "inpreschool": 100,
         "inpreschool_pctile": 95.71410240000002,
         "inhighschool": 100,
         "inhighschool_pctile": 100,
         "bachelorsed": 68.8,
         "bachelorsed_pctile": 94.35390735,
         "employed": 81.4,
         "employed_pctile": 95.27781342,
         "abovepoverty": 85.74387947,
         "abovepoverty_pctile": 85.30732709,
         "income": 84598,
         "income_pctile": 74.99037598,
         "retail": 1.890912421,
         "retail_pctile": 76.47889131,
         "parkaccess": 33.25797,
         "parkaccess_pctile": 15.83472347,
         "treecanopy": 5.8385298,
         "treecanopy_pctile": 57.32067239999999,
         "alcoffsale": 16.69064748,
         "alcoffsale_pctile": 19.31220326,
         "voting": 82.08659713,
         "voting_pctile": 91.81316566,
         "ownsevere": 7.359307359,
         "ownsevere_pctile": 79.07096112,
         "rentsevere": 12.17712177,
         "rentsevere_pctile": 88.77197485,
         "houserepair": 100,
         "houserepair_pctile": 80.81611703,
         "twoparents": 87.22157093,
         "twoparents_pctile": 78.42935968,
         "supermkts": 92.74517736,
         "supermkts_pctile": 80.35416399,
         "ozone": 0.029592333,
         "ozone_pctile": 96.08623123,
         "pm25": 8.69794377,
         "pm25_pctile": 74.75939946,
         "dieselpm": 42.19,
         "dieselpm_pctile": 5.569100475,
         "h20contam": 70.5995829,
         "h20contam_pctile": 97.20261773,
         "LEB": 86.46294163,
         "LEB_pctile": 95.13666111,
         "white_pct": 66.9270298,
         "black_pct": 10.52415211,
         "asian_pct": 8.612538541000001,
         "latino_pct": 8.201438849,
         "multiple_pct": 5.056526208,
         "NativeAm_pct": 0.16443987699999998,
         "PacificIsl_pct": 0.102774923,
         "other_pct": 0.411099692,
         "version": "Wed13Dec17",
         "_deepnote_index_column": 2
        },
        {
         "GEOID": 6001400400,
         "pop2010": 3703,
         "pct2010gq": 0.9,
         "City": "Oakland",
         "ZIP": 94609,
         "County_FIPS": 6001,
         "County_Name": "Alameda",
         "UrbanType": "urban_area",
         "hpi2score": 1.117603414,
         "hpi2_pctile_pos": 98.53714872,
         "hpi2_pctile_neg": 1.462851277,
         "hpi_top25pct": "Yes",
         "quintiles": 1,
         "quartiles": 1,
         "economic": 1.277656808,
         "economic_pctile": 93.62248171,
         "education": 0.9395008979999999,
         "education_pctile": 89.91402541,
         "housing": 0.356477088,
         "housing_pctile": 68.38188118,
         "healthcareaccess": 1.301728974,
         "healthcareaccess_pctile": 94.43089953,
         "neighborhood": 0.07002686799999999,
         "neighborhood_pctile": 57.93660978,
         "pollution": 0.6572610560000001,
         "pollution_pctile": 85.62812781,
         "transportation": 1.7566567069999999,
         "transportation_pctile": 99.91017579999999,
         "social": 1.295416958,
         "social_pctile": 96.25304761,
         "insured": 95.2,
         "insured_pctile": 94.43089953,
         "uncrowded": 99.2,
         "uncrowded_pctile": 88.25869370000001,
         "homeownership": 37.9,
         "homeownership_pctile": 26.30565892,
         "automobile": 92.9,
         "automobile_pctile": 38.61157449,
         "commute": 49.72451791,
         "commute_pctile": 98.01103554,
         "inpreschool": 72.3,
         "inpreschool_pctile": 75.68330553,
         "inhighschool": 97.2,
         "inhighschool_pctile": 22.276401899999996,
         "bachelorsed": 75.5,
         "bachelorsed_pctile": 97.21544976,
         "employed": 84.6,
         "employed_pctile": 98.70396509999999,
         "abovepoverty": 83.21541839,
         "abovepoverty_pctile": 80.14885153,
         "income": 102386,
         "income_pctile": 86.50070576,
         "retail": 1.828020341,
         "retail_pctile": 75.61914539,
         "parkaccess": 84.229,
         "parkaccess_pctile": 42.73065572,
         "treecanopy": 11.378516099999999,
         "treecanopy_pctile": 82.99756191,
         "alcoffsale": 0,
         "alcoffsale_pctile": 4.5168741180000005,
         "voting": 83.73253947,
         "voting_pctile": 95.17515719,
         "ownsevere": 13.10344828,
         "ownsevere_pctile": 42.64083152,
         "rentsevere": 11.926605499999999,
         "rentsevere_pctile": 89.24675991,
         "houserepair": 99.44903581,
         "houserepair_pctile": 53.43256769,
         "twoparents": 90.8765653,
         "twoparents_pctile": 88.37418196,
         "supermkts": 97.84446589,
         "supermkts_pctile": 84.58873348,
         "ozone": 0.029592333,
         "ozone_pctile": 96.08623123,
         "pm25": 8.69794377,
         "pm25_pctile": 74.75939946,
         "dieselpm": 42.19,
         "dieselpm_pctile": 5.569100475,
         "h20contam": 70.5995829,
         "h20contam_pctile": 97.20261773,
         "LEB": 82.71089686,
         "LEB_pctile": 68.95932247,
         "white_pct": 65.46043748,
         "black_pct": 12.09829868,
         "asian_pct": 7.291385363,
         "latino_pct": 8.965703484,
         "multiple_pct": 5.320010802,
         "NativeAm_pct": 0.135025655,
         "PacificIsl_pct": 0.162030786,
         "other_pct": 0.56710775,
         "version": "Wed13Dec17",
         "_deepnote_index_column": 3
        },
        {
         "GEOID": 6001400500,
         "pop2010": 3517,
         "pct2010gq": 3.6,
         "City": "Oakland",
         "ZIP": 94609,
         "County_FIPS": 6001,
         "County_Name": "Alameda",
         "UrbanType": "urban_area",
         "hpi2score": 0.56279906,
         "hpi2_pctile_pos": 83.31836263,
         "hpi2_pctile_neg": 16.68163737,
         "hpi_top25pct": "Yes",
         "quintiles": 1,
         "quartiles": 1,
         "economic": 0.577803305,
         "economic_pctile": 71.85936096,
         "education": 0.486144516,
         "education_pctile": 75.37533684,
         "housing": 0.029925628,
         "housing_pctile": 45.95149493,
         "healthcareaccess": 0.485643275,
         "healthcareaccess_pctile": 62.95393302,
         "neighborhood": -0.106063175,
         "neighborhood_pctile": 34.98011036,
         "pollution": 0.6572610560000001,
         "pollution_pctile": 85.62812781,
         "transportation": 0.8730715170000001,
         "transportation_pctile": 97.53625048,
         "social": 0.949500193,
         "social_pctile": 86.82150648,
         "insured": 85.3,
         "insured_pctile": 62.95393302,
         "uncrowded": 97.5,
         "uncrowded_pctile": 71.88502502,
         "homeownership": 36.3,
         "homeownership_pctile": 24.61183113,
         "automobile": 85.4,
         "automobile_pctile": 13.93558322,
         "commute": 39.2,
         "commute_pctile": 96.26587964,
         "inpreschool": 39.7,
         "inpreschool_pctile": 34.55665341,
         "inhighschool": 100,
         "inhighschool_pctile": 100,
         "bachelorsed": 61.9,
         "bachelorsed_pctile": 90.01668164,
         "employed": 77,
         "employed_pctile": 83.80597973,
         "abovepoverty": 74.88308116,
         "abovepoverty_pctile": 63.5698704,
         "income": 76038,
         "income_pctile": 67.67611959,
         "retail": 1.252350919,
         "retail_pctile": 64.57076864,
         "parkaccess": 100,
         "parkaccess_pctile": 81.35506224,
         "treecanopy": 5.6254528,
         "treecanopy_pctile": 55.357372,
         "alcoffsale": 0,
         "alcoffsale_pctile": 4.5168741180000005,
         "voting": 78.01067469,
         "voting_pctile": 81.48338252,
         "ownsevere": 19.65811966,
         "ownsevere_pctile": 15.52675478,
         "rentsevere": 20.39800995,
         "rentsevere_pctile": 69.31861927,
         "houserepair": 99.68553459,
         "houserepair_pctile": 59.96407032,
         "twoparents": 88.73563218,
         "twoparents_pctile": 82.6767612,
         "supermkts": 74.72266366,
         "supermkts_pctile": 68.09957654,
         "ozone": 0.029592333,
         "ozone_pctile": 96.08623123,
         "pm25": 8.69794377,
         "pm25_pctile": 74.75939946,
         "dieselpm": 42.19,
         "dieselpm_pctile": 5.569100475,
         "h20contam": 70.5995829,
         "h20contam_pctile": 97.20261773,
         "LEB": 80.12323761,
         "LEB_pctile": 38.85538304,
         "white_pct": 50.55444982,
         "black_pct": 26.52829116,
         "asian_pct": 5.914131362000001,
         "latino_pct": 9.667330111,
         "multiple_pct": 6.113164629,
         "NativeAm_pct": 0.45493318200000005,
         "PacificIsl_pct": 0.113733295,
         "other_pct": 0.653966449,
         "version": "Wed13Dec17",
         "_deepnote_index_column": 4
        }
       ],
       "rows_bottom": null
      },
      "text/plain": "        GEOID  pop2010  pct2010gq     City      ZIP  County_FIPS County_Name  \\\n0  6001400100     2937        0.1  Oakland  94704.0         6001     Alameda   \n1  6001400200     1974        3.5  Oakland  94618.0         6001     Alameda   \n2  6001400300     4865        0.8  Oakland  94618.0         6001     Alameda   \n3  6001400400     3703        0.9  Oakland  94609.0         6001     Alameda   \n4  6001400500     3517        3.6  Oakland  94609.0         6001     Alameda   \n\n    UrbanType  hpi2score  hpi2_pctile_pos  ...  LEB_pctile  white_pct  \\\n0  urban_area   1.182028        99.114590  ...   96.663673  70.752469   \n1  urban_area   1.325874        99.704863  ...   96.612344  78.318136   \n2  urban_area   0.925666        95.932247  ...   95.136661  66.927030   \n3  urban_area   1.117603        98.537149  ...   68.959322  65.460437   \n4  urban_area   0.562799        83.318363  ...   38.855383  50.554450   \n\n   black_pct  asian_pct  latino_pct  multiple_pct  NativeAm_pct  \\\n0   4.766769  15.526047    3.983657      3.779367      0.068097   \n1   1.570415   7.396150    7.649443      4.812563      0.101317   \n2  10.524152   8.612539    8.201439      5.056526      0.164440   \n3  12.098299   7.291385    8.965703      5.320011      0.135026   \n4  26.528291   5.914131    9.667330      6.113165      0.454933   \n\n   PacificIsl_pct  other_pct     version  \n0        0.272387   0.851209  Wed13Dec17  \n1        0.000000   0.151976  Wed13Dec17  \n2        0.102775   0.411100  Wed13Dec17  \n3        0.162031   0.567108  Wed13Dec17  \n4        0.113733   0.653966  Wed13Dec17  \n\n[5 rows x 91 columns]",
      "text/html": "<div>\n<style scoped>\n    .dataframe tbody tr th:only-of-type {\n        vertical-align: middle;\n    }\n\n    .dataframe tbody tr th {\n        vertical-align: top;\n    }\n\n    .dataframe thead th {\n        text-align: right;\n    }\n</style>\n<table border=\"1\" class=\"dataframe\">\n  <thead>\n    <tr style=\"text-align: right;\">\n      <th></th>\n      <th>GEOID</th>\n      <th>pop2010</th>\n      <th>pct2010gq</th>\n      <th>City</th>\n      <th>ZIP</th>\n      <th>County_FIPS</th>\n      <th>County_Name</th>\n      <th>UrbanType</th>\n      <th>hpi2score</th>\n      <th>hpi2_pctile_pos</th>\n      <th>...</th>\n      <th>LEB_pctile</th>\n      <th>white_pct</th>\n      <th>black_pct</th>\n      <th>asian_pct</th>\n      <th>latino_pct</th>\n      <th>multiple_pct</th>\n      <th>NativeAm_pct</th>\n      <th>PacificIsl_pct</th>\n      <th>other_pct</th>\n      <th>version</th>\n    </tr>\n  </thead>\n  <tbody>\n    <tr>\n      <th>0</th>\n      <td>6001400100</td>\n      <td>2937</td>\n      <td>0.1</td>\n      <td>Oakland</td>\n      <td>94704.0</td>\n      <td>6001</td>\n      <td>Alameda</td>\n      <td>urban_area</td>\n      <td>1.182028</td>\n      <td>99.114590</td>\n      <td>...</td>\n      <td>96.663673</td>\n      <td>70.752469</td>\n      <td>4.766769</td>\n      <td>15.526047</td>\n      <td>3.983657</td>\n      <td>3.779367</td>\n      <td>0.068097</td>\n      <td>0.272387</td>\n      <td>0.851209</td>\n      <td>Wed13Dec17</td>\n    </tr>\n    <tr>\n      <th>1</th>\n      <td>6001400200</td>\n      <td>1974</td>\n      <td>3.5</td>\n      <td>Oakland</td>\n      <td>94618.0</td>\n      <td>6001</td>\n      <td>Alameda</td>\n      <td>urban_area</td>\n      <td>1.325874</td>\n      <td>99.704863</td>\n      <td>...</td>\n      <td>96.612344</td>\n      <td>78.318136</td>\n      <td>1.570415</td>\n      <td>7.396150</td>\n      <td>7.649443</td>\n      <td>4.812563</td>\n      <td>0.101317</td>\n      <td>0.000000</td>\n      <td>0.151976</td>\n      <td>Wed13Dec17</td>\n    </tr>\n    <tr>\n      <th>2</th>\n      <td>6001400300</td>\n      <td>4865</td>\n      <td>0.8</td>\n      <td>Oakland</td>\n      <td>94618.0</td>\n      <td>6001</td>\n      <td>Alameda</td>\n      <td>urban_area</td>\n      <td>0.925666</td>\n      <td>95.932247</td>\n      <td>...</td>\n      <td>95.136661</td>\n      <td>66.927030</td>\n      <td>10.524152</td>\n      <td>8.612539</td>\n      <td>8.201439</td>\n      <td>5.056526</td>\n      <td>0.164440</td>\n      <td>0.102775</td>\n      <td>0.411100</td>\n      <td>Wed13Dec17</td>\n    </tr>\n    <tr>\n      <th>3</th>\n      <td>6001400400</td>\n      <td>3703</td>\n      <td>0.9</td>\n      <td>Oakland</td>\n      <td>94609.0</td>\n      <td>6001</td>\n      <td>Alameda</td>\n      <td>urban_area</td>\n      <td>1.117603</td>\n      <td>98.537149</td>\n      <td>...</td>\n      <td>68.959322</td>\n      <td>65.460437</td>\n      <td>12.098299</td>\n      <td>7.291385</td>\n      <td>8.965703</td>\n      <td>5.320011</td>\n      <td>0.135026</td>\n      <td>0.162031</td>\n      <td>0.567108</td>\n      <td>Wed13Dec17</td>\n    </tr>\n    <tr>\n      <th>4</th>\n      <td>6001400500</td>\n      <td>3517</td>\n      <td>3.6</td>\n      <td>Oakland</td>\n      <td>94609.0</td>\n      <td>6001</td>\n      <td>Alameda</td>\n      <td>urban_area</td>\n      <td>0.562799</td>\n      <td>83.318363</td>\n      <td>...</td>\n      <td>38.855383</td>\n      <td>50.554450</td>\n      <td>26.528291</td>\n      <td>5.914131</td>\n      <td>9.667330</td>\n      <td>6.113165</td>\n      <td>0.454933</td>\n      <td>0.113733</td>\n      <td>0.653966</td>\n      <td>Wed13Dec17</td>\n    </tr>\n  </tbody>\n</table>\n<p>5 rows × 91 columns</p>\n</div>"
     },
     "metadata": {}
    }
   ]
  },
  {
   "cell_type": "code",
   "metadata": {
    "cell_id": "00005-38ba19fe-87b8-47d6-8bb8-7837bbfd6f2b",
    "output_cleared": false,
    "scrolled": true,
    "tags": [],
    "deepnote_cell_type": "code"
   },
   "source": "#Merge the two datasets on \"GEOID\" column\ncali_redline_and_HPI = pd.merge(cali_redline_data, HPI_data, on='GEOID', how='left')\ncali_redline_and_HPI.head()",
   "execution_count": null,
   "outputs": [
    {
     "output_type": "execute_result",
     "execution_count": 16,
     "data": {
      "application/vnd.deepnote.dataframe.v2+json": {
       "error": "Traceback (most recent call last):\n  File \"/home/jovyan/.deepnote/variable_explorer.py\", line 270, in dataframe_formatter\n    return { MIME_TYPE: describe_pd_dataframe(df) }\n  File \"/home/jovyan/.deepnote/variable_explorer_helpers.py\", line 126, in describe_pd_dataframe\n    if (is_type_numeric(column.dtype)):\n  File \"/home/jovyan/.deepnote/variable_explorer_helpers.py\", line 11, in is_type_numeric\n    return np.issubdtype(dtype, np.number)\n  File \"/opt/venv/lib/python3.7/site-packages/numpy/core/numerictypes.py\", line 388, in issubdtype\n    arg1 = dtype(arg1).type\nTypeError: Cannot interpret '<geopandas.array.GeometryDtype object at 0x7f24c2a42518>' as a data type\n"
      },
      "text/plain": "  STATEFP COUNTYFP TRACTCE         GEOID     NAME              NAMELSAD  \\\n0      06      037  139301  6.037139e+09  1393.01  Census Tract 1393.01   \n1      06      037  139302  6.037139e+09  1393.02  Census Tract 1393.02   \n2      06      037  139502  6.037140e+09  1395.02  Census Tract 1395.02   \n3      06      037  139600  6.037140e+09     1396     Census Tract 1396   \n4      06      037  139701  6.037140e+09  1397.01  Census Tract 1397.01   \n\n   MTFCC FUNCSTAT    ALAND  AWATER  ... LEB_pctile  white_pct  black_pct  \\\n0  G5020        S  2865657       0  ...  85.025022  76.131779   3.585836   \n1  G5020        S   338289       0  ...  93.160529  49.412031   9.249209   \n2  G5020        S  1047548       0  ...  99.268574  77.319588   1.529764   \n3  G5020        S  2477482       0  ...  90.517131  77.573926   3.669329   \n4  G5020        S  3396396    2411  ...  95.264981  83.150406   1.849593   \n\n   asian_pct latino_pct  multiple_pct  NativeAm_pct PacificIsl_pct  other_pct  \\\n0   6.633797   9.547288      3.697893      0.134469       0.224115   0.044823   \n1   9.226594  27.069199      4.274084      0.293985       0.226142   0.248756   \n2   5.054872   8.613236      7.016960      0.000000       0.199534   0.266046   \n3   6.345780   8.482625      3.626160      0.151090       0.129506   0.021584   \n4   5.833333   6.483740      2.398374      0.060976       0.060976   0.162602   \n\n      version  \n0  Wed13Dec17  \n1  Wed13Dec17  \n2  Wed13Dec17  \n3  Wed13Dec17  \n4  Wed13Dec17  \n\n[5 rows x 105 columns]",
      "text/html": "<div>\n<style scoped>\n    .dataframe tbody tr th:only-of-type {\n        vertical-align: middle;\n    }\n\n    .dataframe tbody tr th {\n        vertical-align: top;\n    }\n\n    .dataframe thead th {\n        text-align: right;\n    }\n</style>\n<table border=\"1\" class=\"dataframe\">\n  <thead>\n    <tr style=\"text-align: right;\">\n      <th></th>\n      <th>STATEFP</th>\n      <th>COUNTYFP</th>\n      <th>TRACTCE</th>\n      <th>GEOID</th>\n      <th>NAME</th>\n      <th>NAMELSAD</th>\n      <th>MTFCC</th>\n      <th>FUNCSTAT</th>\n      <th>ALAND</th>\n      <th>AWATER</th>\n      <th>...</th>\n      <th>LEB_pctile</th>\n      <th>white_pct</th>\n      <th>black_pct</th>\n      <th>asian_pct</th>\n      <th>latino_pct</th>\n      <th>multiple_pct</th>\n      <th>NativeAm_pct</th>\n      <th>PacificIsl_pct</th>\n      <th>other_pct</th>\n      <th>version</th>\n    </tr>\n  </thead>\n  <tbody>\n    <tr>\n      <th>0</th>\n      <td>06</td>\n      <td>037</td>\n      <td>139301</td>\n      <td>6.037139e+09</td>\n      <td>1393.01</td>\n      <td>Census Tract 1393.01</td>\n      <td>G5020</td>\n      <td>S</td>\n      <td>2865657</td>\n      <td>0</td>\n      <td>...</td>\n      <td>85.025022</td>\n      <td>76.131779</td>\n      <td>3.585836</td>\n      <td>6.633797</td>\n      <td>9.547288</td>\n      <td>3.697893</td>\n      <td>0.134469</td>\n      <td>0.224115</td>\n      <td>0.044823</td>\n      <td>Wed13Dec17</td>\n    </tr>\n    <tr>\n      <th>1</th>\n      <td>06</td>\n      <td>037</td>\n      <td>139302</td>\n      <td>6.037139e+09</td>\n      <td>1393.02</td>\n      <td>Census Tract 1393.02</td>\n      <td>G5020</td>\n      <td>S</td>\n      <td>338289</td>\n      <td>0</td>\n      <td>...</td>\n      <td>93.160529</td>\n      <td>49.412031</td>\n      <td>9.249209</td>\n      <td>9.226594</td>\n      <td>27.069199</td>\n      <td>4.274084</td>\n      <td>0.293985</td>\n      <td>0.226142</td>\n      <td>0.248756</td>\n      <td>Wed13Dec17</td>\n    </tr>\n    <tr>\n      <th>2</th>\n      <td>06</td>\n      <td>037</td>\n      <td>139502</td>\n      <td>6.037140e+09</td>\n      <td>1395.02</td>\n      <td>Census Tract 1395.02</td>\n      <td>G5020</td>\n      <td>S</td>\n      <td>1047548</td>\n      <td>0</td>\n      <td>...</td>\n      <td>99.268574</td>\n      <td>77.319588</td>\n      <td>1.529764</td>\n      <td>5.054872</td>\n      <td>8.613236</td>\n      <td>7.016960</td>\n      <td>0.000000</td>\n      <td>0.199534</td>\n      <td>0.266046</td>\n      <td>Wed13Dec17</td>\n    </tr>\n    <tr>\n      <th>3</th>\n      <td>06</td>\n      <td>037</td>\n      <td>139600</td>\n      <td>6.037140e+09</td>\n      <td>1396</td>\n      <td>Census Tract 1396</td>\n      <td>G5020</td>\n      <td>S</td>\n      <td>2477482</td>\n      <td>0</td>\n      <td>...</td>\n      <td>90.517131</td>\n      <td>77.573926</td>\n      <td>3.669329</td>\n      <td>6.345780</td>\n      <td>8.482625</td>\n      <td>3.626160</td>\n      <td>0.151090</td>\n      <td>0.129506</td>\n      <td>0.021584</td>\n      <td>Wed13Dec17</td>\n    </tr>\n    <tr>\n      <th>4</th>\n      <td>06</td>\n      <td>037</td>\n      <td>139701</td>\n      <td>6.037140e+09</td>\n      <td>1397.01</td>\n      <td>Census Tract 1397.01</td>\n      <td>G5020</td>\n      <td>S</td>\n      <td>3396396</td>\n      <td>2411</td>\n      <td>...</td>\n      <td>95.264981</td>\n      <td>83.150406</td>\n      <td>1.849593</td>\n      <td>5.833333</td>\n      <td>6.483740</td>\n      <td>2.398374</td>\n      <td>0.060976</td>\n      <td>0.060976</td>\n      <td>0.162602</td>\n      <td>Wed13Dec17</td>\n    </tr>\n  </tbody>\n</table>\n<p>5 rows × 105 columns</p>\n</div>"
     },
     "metadata": {}
    }
   ]
  },
  {
   "cell_type": "code",
   "metadata": {
    "cell_id": "00006-31656ad3-3a9b-4e9f-a332-1fb04732921b",
    "output_cleared": false,
    "tags": [],
    "deepnote_cell_type": "code"
   },
   "source": "#cali_redline_and_HPI.drop('geometry', axis=1, inplace=True)\n#df.to_csv('cali_redline_and_HPI.csv', index=False)",
   "execution_count": null,
   "outputs": []
  },
  {
   "cell_type": "code",
   "metadata": {
    "cell_id": "00007-6c28257a-ae6f-4cf9-899a-65ab549c4d23",
    "output_cleared": false,
    "tags": [],
    "deepnote_cell_type": "code"
   },
   "source": "#List ALL columns\ncali_redline_and_HPI.columns.tolist()",
   "execution_count": null,
   "outputs": [
    {
     "output_type": "execute_result",
     "execution_count": 19,
     "data": {
      "text/plain": "['STATEFP',\n 'COUNTYFP',\n 'TRACTCE',\n 'GEOID',\n 'NAME',\n 'NAMELSAD',\n 'MTFCC',\n 'FUNCSTAT',\n 'ALAND',\n 'AWATER',\n 'INTPTLAT',\n 'INTPTLON',\n 'reweighted_redline_index',\n 'ordinal_value',\n 'geometry',\n 'pop2010',\n 'pct2010gq',\n 'City',\n 'ZIP',\n 'County_FIPS',\n 'County_Name',\n 'UrbanType',\n 'hpi2score',\n 'hpi2_pctile_pos',\n 'hpi2_pctile_neg',\n 'hpi_top25pct',\n 'quintiles',\n 'quartiles',\n 'economic',\n 'economic_pctile',\n 'education',\n 'education_pctile',\n 'housing',\n 'housing_pctile',\n 'healthcareaccess',\n 'healthcareaccess_pctile',\n 'neighborhood',\n 'neighborhood_pctile',\n 'pollution',\n 'pollution_pctile',\n 'transportation',\n 'transportation_pctile',\n 'social',\n 'social_pctile',\n 'insured',\n 'insured_pctile',\n 'uncrowded',\n 'uncrowded_pctile',\n 'homeownership',\n 'homeownership_pctile',\n 'automobile',\n 'automobile_pctile',\n 'commute',\n 'commute_pctile',\n 'inpreschool',\n 'inpreschool_pctile',\n 'inhighschool',\n 'inhighschool_pctile',\n 'bachelorsed',\n 'bachelorsed_pctile',\n 'employed',\n 'employed_pctile',\n 'abovepoverty',\n 'abovepoverty_pctile',\n 'income',\n 'income_pctile',\n 'retail',\n 'retail_pctile',\n 'parkaccess',\n 'parkaccess_pctile',\n 'treecanopy',\n 'treecanopy_pctile',\n 'alcoffsale',\n 'alcoffsale_pctile',\n 'voting',\n 'voting_pctile',\n 'ownsevere',\n 'ownsevere_pctile',\n 'rentsevere',\n 'rentsevere_pctile',\n 'houserepair',\n 'houserepair_pctile',\n 'twoparents',\n 'twoparents_pctile',\n 'supermkts',\n 'supermkts_pctile',\n 'ozone',\n 'ozone_pctile',\n 'pm25',\n 'pm25_pctile',\n 'dieselpm',\n 'dieselpm_pctile',\n 'h20contam',\n 'h20contam_pctile',\n 'LEB',\n 'LEB_pctile',\n 'white_pct',\n 'black_pct',\n 'asian_pct',\n 'latino_pct',\n 'multiple_pct',\n 'NativeAm_pct',\n 'PacificIsl_pct',\n 'other_pct',\n 'version']"
     },
     "metadata": {}
    }
   ]
  },
  {
   "cell_type": "code",
   "metadata": {
    "cell_id": "00008-2113efae-3a1f-4ef9-977c-5bdfc889a407",
    "output_cleared": false,
    "tags": [],
    "deepnote_cell_type": "code"
   },
   "source": "#Combine percentages of minority groups into 1 data field\n# Percent of non-whites in the total population \ncali_redline_and_HPI['non_white_pct'] = cali_redline_and_HPI['black_pct'] + cali_redline_and_HPI['asian_pct'] + cali_redline_and_HPI['latino_pct'] + cali_redline_and_HPI['multiple_pct'] + cali_redline_and_HPI['NativeAm_pct'] + cali_redline_and_HPI['PacificIsl_pct'] + cali_redline_and_HPI['other_pct']\ncali_redline_and_HPI.head()",
   "execution_count": null,
   "outputs": [
    {
     "output_type": "execute_result",
     "execution_count": 23,
     "data": {
      "application/vnd.deepnote.dataframe.v2+json": {
       "error": "Traceback (most recent call last):\n  File \"/home/jovyan/.deepnote/variable_explorer.py\", line 270, in dataframe_formatter\n    return { MIME_TYPE: describe_pd_dataframe(df) }\n  File \"/home/jovyan/.deepnote/variable_explorer_helpers.py\", line 126, in describe_pd_dataframe\n    if (is_type_numeric(column.dtype)):\n  File \"/home/jovyan/.deepnote/variable_explorer_helpers.py\", line 11, in is_type_numeric\n    return np.issubdtype(dtype, np.number)\n  File \"/opt/venv/lib/python3.7/site-packages/numpy/core/numerictypes.py\", line 388, in issubdtype\n    arg1 = dtype(arg1).type\nTypeError: Cannot interpret '<geopandas.array.GeometryDtype object at 0x7f24c2a42518>' as a data type\n"
      },
      "text/plain": "  STATEFP COUNTYFP TRACTCE         GEOID     NAME              NAMELSAD  \\\n0      06      037  139301  6.037139e+09  1393.01  Census Tract 1393.01   \n1      06      037  139302  6.037139e+09  1393.02  Census Tract 1393.02   \n2      06      037  139502  6.037140e+09  1395.02  Census Tract 1395.02   \n3      06      037  139600  6.037140e+09     1396     Census Tract 1396   \n4      06      037  139701  6.037140e+09  1397.01  Census Tract 1397.01   \n\n   MTFCC FUNCSTAT    ALAND  AWATER  ... black_pct asian_pct  latino_pct  \\\n0  G5020        S  2865657       0  ...  3.585836  6.633797    9.547288   \n1  G5020        S   338289       0  ...  9.249209  9.226594   27.069199   \n2  G5020        S  1047548       0  ...  1.529764  5.054872    8.613236   \n3  G5020        S  2477482       0  ...  3.669329  6.345780    8.482625   \n4  G5020        S  3396396    2411  ...  1.849593  5.833333    6.483740   \n\n   multiple_pct NativeAm_pct  PacificIsl_pct  other_pct     version  \\\n0      3.697893     0.134469        0.224115   0.044823  Wed13Dec17   \n1      4.274084     0.293985        0.226142   0.248756  Wed13Dec17   \n2      7.016960     0.000000        0.199534   0.266046  Wed13Dec17   \n3      3.626160     0.151090        0.129506   0.021584  Wed13Dec17   \n4      2.398374     0.060976        0.060976   0.162602  Wed13Dec17   \n\n   non_white_pct  non_white_pct_ordinal_values  \n0      23.868221                             3  \n1      50.587969                             6  \n2      22.680412                             3  \n3      22.426074                             3  \n4      16.849593                             2  \n\n[5 rows x 107 columns]",
      "text/html": "<div>\n<style scoped>\n    .dataframe tbody tr th:only-of-type {\n        vertical-align: middle;\n    }\n\n    .dataframe tbody tr th {\n        vertical-align: top;\n    }\n\n    .dataframe thead th {\n        text-align: right;\n    }\n</style>\n<table border=\"1\" class=\"dataframe\">\n  <thead>\n    <tr style=\"text-align: right;\">\n      <th></th>\n      <th>STATEFP</th>\n      <th>COUNTYFP</th>\n      <th>TRACTCE</th>\n      <th>GEOID</th>\n      <th>NAME</th>\n      <th>NAMELSAD</th>\n      <th>MTFCC</th>\n      <th>FUNCSTAT</th>\n      <th>ALAND</th>\n      <th>AWATER</th>\n      <th>...</th>\n      <th>black_pct</th>\n      <th>asian_pct</th>\n      <th>latino_pct</th>\n      <th>multiple_pct</th>\n      <th>NativeAm_pct</th>\n      <th>PacificIsl_pct</th>\n      <th>other_pct</th>\n      <th>version</th>\n      <th>non_white_pct</th>\n      <th>non_white_pct_ordinal_values</th>\n    </tr>\n  </thead>\n  <tbody>\n    <tr>\n      <th>0</th>\n      <td>06</td>\n      <td>037</td>\n      <td>139301</td>\n      <td>6.037139e+09</td>\n      <td>1393.01</td>\n      <td>Census Tract 1393.01</td>\n      <td>G5020</td>\n      <td>S</td>\n      <td>2865657</td>\n      <td>0</td>\n      <td>...</td>\n      <td>3.585836</td>\n      <td>6.633797</td>\n      <td>9.547288</td>\n      <td>3.697893</td>\n      <td>0.134469</td>\n      <td>0.224115</td>\n      <td>0.044823</td>\n      <td>Wed13Dec17</td>\n      <td>23.868221</td>\n      <td>3</td>\n    </tr>\n    <tr>\n      <th>1</th>\n      <td>06</td>\n      <td>037</td>\n      <td>139302</td>\n      <td>6.037139e+09</td>\n      <td>1393.02</td>\n      <td>Census Tract 1393.02</td>\n      <td>G5020</td>\n      <td>S</td>\n      <td>338289</td>\n      <td>0</td>\n      <td>...</td>\n      <td>9.249209</td>\n      <td>9.226594</td>\n      <td>27.069199</td>\n      <td>4.274084</td>\n      <td>0.293985</td>\n      <td>0.226142</td>\n      <td>0.248756</td>\n      <td>Wed13Dec17</td>\n      <td>50.587969</td>\n      <td>6</td>\n    </tr>\n    <tr>\n      <th>2</th>\n      <td>06</td>\n      <td>037</td>\n      <td>139502</td>\n      <td>6.037140e+09</td>\n      <td>1395.02</td>\n      <td>Census Tract 1395.02</td>\n      <td>G5020</td>\n      <td>S</td>\n      <td>1047548</td>\n      <td>0</td>\n      <td>...</td>\n      <td>1.529764</td>\n      <td>5.054872</td>\n      <td>8.613236</td>\n      <td>7.016960</td>\n      <td>0.000000</td>\n      <td>0.199534</td>\n      <td>0.266046</td>\n      <td>Wed13Dec17</td>\n      <td>22.680412</td>\n      <td>3</td>\n    </tr>\n    <tr>\n      <th>3</th>\n      <td>06</td>\n      <td>037</td>\n      <td>139600</td>\n      <td>6.037140e+09</td>\n      <td>1396</td>\n      <td>Census Tract 1396</td>\n      <td>G5020</td>\n      <td>S</td>\n      <td>2477482</td>\n      <td>0</td>\n      <td>...</td>\n      <td>3.669329</td>\n      <td>6.345780</td>\n      <td>8.482625</td>\n      <td>3.626160</td>\n      <td>0.151090</td>\n      <td>0.129506</td>\n      <td>0.021584</td>\n      <td>Wed13Dec17</td>\n      <td>22.426074</td>\n      <td>3</td>\n    </tr>\n    <tr>\n      <th>4</th>\n      <td>06</td>\n      <td>037</td>\n      <td>139701</td>\n      <td>6.037140e+09</td>\n      <td>1397.01</td>\n      <td>Census Tract 1397.01</td>\n      <td>G5020</td>\n      <td>S</td>\n      <td>3396396</td>\n      <td>2411</td>\n      <td>...</td>\n      <td>1.849593</td>\n      <td>5.833333</td>\n      <td>6.483740</td>\n      <td>2.398374</td>\n      <td>0.060976</td>\n      <td>0.060976</td>\n      <td>0.162602</td>\n      <td>Wed13Dec17</td>\n      <td>16.849593</td>\n      <td>2</td>\n    </tr>\n  </tbody>\n</table>\n<p>5 rows × 107 columns</p>\n</div>"
     },
     "metadata": {}
    }
   ]
  },
  {
   "cell_type": "code",
   "metadata": {
    "cell_id": "00009-f7d4e9b8-8954-4bd2-8be1-47666374ee1e",
    "output_cleared": false,
    "tags": [],
    "deepnote_cell_type": "code"
   },
   "source": "#Assign ordinal values, ranging from 1 to 10, for the minority group percentages for the computation of Spearman Correlation\ndef ordinal_values(row):\n    if row['non_white_pct'] > 0 and row['non_white_pct'] <= 10:\n      val = 1\n    elif row['non_white_pct'] > 10 and row['non_white_pct'] <= 20:\n      val = 2\n    elif row['non_white_pct'] > 20 and row['non_white_pct'] <= 30:\n      val = 3\n    elif row['non_white_pct'] > 30 and row['non_white_pct'] <= 40:\n      val = 4\n    elif row['non_white_pct'] > 40 and row['non_white_pct'] <= 50:\n      val = 5\n    elif row['non_white_pct'] > 50 and row['non_white_pct'] <= 60:\n      val = 6\n    elif row['non_white_pct'] > 60 and row['non_white_pct'] <= 70:\n      val = 7\n    elif row['non_white_pct'] > 70 and row['non_white_pct'] <= 80:\n      val = 8\n    elif row['non_white_pct'] > 80 and row['non_white_pct'] <= 90:\n      val = 9\n    elif row['non_white_pct'] > 90 and row['non_white_pct'] <= 100:\n      val = 10\n    else:\n      val = 0\n\n    return val\n\ncali_redline_and_HPI['non_white_pct_ordinal_values'] = cali_redline_and_HPI.apply(ordinal_values, axis=1)\ncali_redline_and_HPI.head(100)",
   "execution_count": null,
   "outputs": [
    {
     "output_type": "execute_result",
     "execution_count": 21,
     "data": {
      "application/vnd.deepnote.dataframe.v2+json": {
       "error": "Traceback (most recent call last):\n  File \"/home/jovyan/.deepnote/variable_explorer.py\", line 270, in dataframe_formatter\n    return { MIME_TYPE: describe_pd_dataframe(df) }\n  File \"/home/jovyan/.deepnote/variable_explorer_helpers.py\", line 126, in describe_pd_dataframe\n    if (is_type_numeric(column.dtype)):\n  File \"/home/jovyan/.deepnote/variable_explorer_helpers.py\", line 11, in is_type_numeric\n    return np.issubdtype(dtype, np.number)\n  File \"/opt/venv/lib/python3.7/site-packages/numpy/core/numerictypes.py\", line 388, in issubdtype\n    arg1 = dtype(arg1).type\nTypeError: Cannot interpret '<geopandas.array.GeometryDtype object at 0x7f24c2a42518>' as a data type\n"
      },
      "text/plain": "   STATEFP COUNTYFP TRACTCE         GEOID     NAME              NAMELSAD  \\\n0       06      037  139301  6.037139e+09  1393.01  Census Tract 1393.01   \n1       06      037  139302  6.037139e+09  1393.02  Census Tract 1393.02   \n2       06      037  139502  6.037140e+09  1395.02  Census Tract 1395.02   \n3       06      037  139600  6.037140e+09     1396     Census Tract 1396   \n4       06      037  139701  6.037140e+09  1397.01  Census Tract 1397.01   \n..     ...      ...     ...           ...      ...                   ...   \n95      06      065  043276  6.065043e+09   432.76   Census Tract 432.76   \n96      06      065  043512  6.065044e+09   435.12   Census Tract 435.12   \n97      06      065  043810  6.065044e+09   438.10   Census Tract 438.10   \n98      06      065  043811  6.065044e+09   438.11   Census Tract 438.11   \n99      06      085  503111  6.085503e+09  5031.11  Census Tract 5031.11   \n\n    MTFCC FUNCSTAT     ALAND  AWATER  ... black_pct  asian_pct  latino_pct  \\\n0   G5020        S   2865657       0  ...  3.585836   6.633797    9.547288   \n1   G5020        S    338289       0  ...  9.249209   9.226594   27.069199   \n2   G5020        S   1047548       0  ...  1.529764   5.054872    8.613236   \n3   G5020        S   2477482       0  ...  3.669329   6.345780    8.482625   \n4   G5020        S   3396396    2411  ...  1.849593   5.833333    6.483740   \n..    ...      ...       ...     ...  ...       ...        ...         ...   \n95  G5020        S   7922281       0  ...  4.558011  12.513812   26.298343   \n96  G5020        S   3096477       0  ...  7.021277   3.039514   50.212766   \n97  G5020        S   4302215       0  ...  5.736874   7.541050   25.724711   \n98  G5020        S  28658050       0  ...  1.212278   2.321383   21.176167   \n99  G5020        S    905170       0  ...  1.509508  43.246422   47.892570   \n\n    multiple_pct NativeAm_pct  PacificIsl_pct  other_pct     version  \\\n0       3.697893     0.134469        0.224115   0.044823  Wed13Dec17   \n1       4.274084     0.293985        0.226142   0.248756  Wed13Dec17   \n2       7.016960     0.000000        0.199534   0.266046  Wed13Dec17   \n3       3.626160     0.151090        0.129506   0.021584  Wed13Dec17   \n4       2.398374     0.060976        0.060976   0.162602  Wed13Dec17   \n..           ...          ...             ...        ...         ...   \n95      3.922652     0.248619        0.138122   0.220994  Wed13Dec17   \n96      2.720365     0.972644        0.243161   0.045593  Wed13Dec17   \n97      2.006892     0.425704        0.182445   0.081087  Wed13Dec17   \n98      2.115037     1.599175        0.077379   0.077379  Wed13Dec17   \n99      1.313468     0.117624        0.431288   0.019604  Wed13Dec17   \n\n    non_white_pct  non_white_pct_ordinal_values  \n0       23.868221                             3  \n1       50.587969                             6  \n2       22.680412                             3  \n3       22.426074                             3  \n4       16.849593                             2  \n..            ...                           ...  \n95      47.900552                             5  \n96      64.255319                             7  \n97      41.698763                             5  \n98      28.578798                             3  \n99      94.530484                            10  \n\n[100 rows x 107 columns]",
      "text/html": "<div>\n<style scoped>\n    .dataframe tbody tr th:only-of-type {\n        vertical-align: middle;\n    }\n\n    .dataframe tbody tr th {\n        vertical-align: top;\n    }\n\n    .dataframe thead th {\n        text-align: right;\n    }\n</style>\n<table border=\"1\" class=\"dataframe\">\n  <thead>\n    <tr style=\"text-align: right;\">\n      <th></th>\n      <th>STATEFP</th>\n      <th>COUNTYFP</th>\n      <th>TRACTCE</th>\n      <th>GEOID</th>\n      <th>NAME</th>\n      <th>NAMELSAD</th>\n      <th>MTFCC</th>\n      <th>FUNCSTAT</th>\n      <th>ALAND</th>\n      <th>AWATER</th>\n      <th>...</th>\n      <th>black_pct</th>\n      <th>asian_pct</th>\n      <th>latino_pct</th>\n      <th>multiple_pct</th>\n      <th>NativeAm_pct</th>\n      <th>PacificIsl_pct</th>\n      <th>other_pct</th>\n      <th>version</th>\n      <th>non_white_pct</th>\n      <th>non_white_pct_ordinal_values</th>\n    </tr>\n  </thead>\n  <tbody>\n    <tr>\n      <th>0</th>\n      <td>06</td>\n      <td>037</td>\n      <td>139301</td>\n      <td>6.037139e+09</td>\n      <td>1393.01</td>\n      <td>Census Tract 1393.01</td>\n      <td>G5020</td>\n      <td>S</td>\n      <td>2865657</td>\n      <td>0</td>\n      <td>...</td>\n      <td>3.585836</td>\n      <td>6.633797</td>\n      <td>9.547288</td>\n      <td>3.697893</td>\n      <td>0.134469</td>\n      <td>0.224115</td>\n      <td>0.044823</td>\n      <td>Wed13Dec17</td>\n      <td>23.868221</td>\n      <td>3</td>\n    </tr>\n    <tr>\n      <th>1</th>\n      <td>06</td>\n      <td>037</td>\n      <td>139302</td>\n      <td>6.037139e+09</td>\n      <td>1393.02</td>\n      <td>Census Tract 1393.02</td>\n      <td>G5020</td>\n      <td>S</td>\n      <td>338289</td>\n      <td>0</td>\n      <td>...</td>\n      <td>9.249209</td>\n      <td>9.226594</td>\n      <td>27.069199</td>\n      <td>4.274084</td>\n      <td>0.293985</td>\n      <td>0.226142</td>\n      <td>0.248756</td>\n      <td>Wed13Dec17</td>\n      <td>50.587969</td>\n      <td>6</td>\n    </tr>\n    <tr>\n      <th>2</th>\n      <td>06</td>\n      <td>037</td>\n      <td>139502</td>\n      <td>6.037140e+09</td>\n      <td>1395.02</td>\n      <td>Census Tract 1395.02</td>\n      <td>G5020</td>\n      <td>S</td>\n      <td>1047548</td>\n      <td>0</td>\n      <td>...</td>\n      <td>1.529764</td>\n      <td>5.054872</td>\n      <td>8.613236</td>\n      <td>7.016960</td>\n      <td>0.000000</td>\n      <td>0.199534</td>\n      <td>0.266046</td>\n      <td>Wed13Dec17</td>\n      <td>22.680412</td>\n      <td>3</td>\n    </tr>\n    <tr>\n      <th>3</th>\n      <td>06</td>\n      <td>037</td>\n      <td>139600</td>\n      <td>6.037140e+09</td>\n      <td>1396</td>\n      <td>Census Tract 1396</td>\n      <td>G5020</td>\n      <td>S</td>\n      <td>2477482</td>\n      <td>0</td>\n      <td>...</td>\n      <td>3.669329</td>\n      <td>6.345780</td>\n      <td>8.482625</td>\n      <td>3.626160</td>\n      <td>0.151090</td>\n      <td>0.129506</td>\n      <td>0.021584</td>\n      <td>Wed13Dec17</td>\n      <td>22.426074</td>\n      <td>3</td>\n    </tr>\n    <tr>\n      <th>4</th>\n      <td>06</td>\n      <td>037</td>\n      <td>139701</td>\n      <td>6.037140e+09</td>\n      <td>1397.01</td>\n      <td>Census Tract 1397.01</td>\n      <td>G5020</td>\n      <td>S</td>\n      <td>3396396</td>\n      <td>2411</td>\n      <td>...</td>\n      <td>1.849593</td>\n      <td>5.833333</td>\n      <td>6.483740</td>\n      <td>2.398374</td>\n      <td>0.060976</td>\n      <td>0.060976</td>\n      <td>0.162602</td>\n      <td>Wed13Dec17</td>\n      <td>16.849593</td>\n      <td>2</td>\n    </tr>\n    <tr>\n      <th>...</th>\n      <td>...</td>\n      <td>...</td>\n      <td>...</td>\n      <td>...</td>\n      <td>...</td>\n      <td>...</td>\n      <td>...</td>\n      <td>...</td>\n      <td>...</td>\n      <td>...</td>\n      <td>...</td>\n      <td>...</td>\n      <td>...</td>\n      <td>...</td>\n      <td>...</td>\n      <td>...</td>\n      <td>...</td>\n      <td>...</td>\n      <td>...</td>\n      <td>...</td>\n      <td>...</td>\n    </tr>\n    <tr>\n      <th>95</th>\n      <td>06</td>\n      <td>065</td>\n      <td>043276</td>\n      <td>6.065043e+09</td>\n      <td>432.76</td>\n      <td>Census Tract 432.76</td>\n      <td>G5020</td>\n      <td>S</td>\n      <td>7922281</td>\n      <td>0</td>\n      <td>...</td>\n      <td>4.558011</td>\n      <td>12.513812</td>\n      <td>26.298343</td>\n      <td>3.922652</td>\n      <td>0.248619</td>\n      <td>0.138122</td>\n      <td>0.220994</td>\n      <td>Wed13Dec17</td>\n      <td>47.900552</td>\n      <td>5</td>\n    </tr>\n    <tr>\n      <th>96</th>\n      <td>06</td>\n      <td>065</td>\n      <td>043512</td>\n      <td>6.065044e+09</td>\n      <td>435.12</td>\n      <td>Census Tract 435.12</td>\n      <td>G5020</td>\n      <td>S</td>\n      <td>3096477</td>\n      <td>0</td>\n      <td>...</td>\n      <td>7.021277</td>\n      <td>3.039514</td>\n      <td>50.212766</td>\n      <td>2.720365</td>\n      <td>0.972644</td>\n      <td>0.243161</td>\n      <td>0.045593</td>\n      <td>Wed13Dec17</td>\n      <td>64.255319</td>\n      <td>7</td>\n    </tr>\n    <tr>\n      <th>97</th>\n      <td>06</td>\n      <td>065</td>\n      <td>043810</td>\n      <td>6.065044e+09</td>\n      <td>438.10</td>\n      <td>Census Tract 438.10</td>\n      <td>G5020</td>\n      <td>S</td>\n      <td>4302215</td>\n      <td>0</td>\n      <td>...</td>\n      <td>5.736874</td>\n      <td>7.541050</td>\n      <td>25.724711</td>\n      <td>2.006892</td>\n      <td>0.425704</td>\n      <td>0.182445</td>\n      <td>0.081087</td>\n      <td>Wed13Dec17</td>\n      <td>41.698763</td>\n      <td>5</td>\n    </tr>\n    <tr>\n      <th>98</th>\n      <td>06</td>\n      <td>065</td>\n      <td>043811</td>\n      <td>6.065044e+09</td>\n      <td>438.11</td>\n      <td>Census Tract 438.11</td>\n      <td>G5020</td>\n      <td>S</td>\n      <td>28658050</td>\n      <td>0</td>\n      <td>...</td>\n      <td>1.212278</td>\n      <td>2.321383</td>\n      <td>21.176167</td>\n      <td>2.115037</td>\n      <td>1.599175</td>\n      <td>0.077379</td>\n      <td>0.077379</td>\n      <td>Wed13Dec17</td>\n      <td>28.578798</td>\n      <td>3</td>\n    </tr>\n    <tr>\n      <th>99</th>\n      <td>06</td>\n      <td>085</td>\n      <td>503111</td>\n      <td>6.085503e+09</td>\n      <td>5031.11</td>\n      <td>Census Tract 5031.11</td>\n      <td>G5020</td>\n      <td>S</td>\n      <td>905170</td>\n      <td>0</td>\n      <td>...</td>\n      <td>1.509508</td>\n      <td>43.246422</td>\n      <td>47.892570</td>\n      <td>1.313468</td>\n      <td>0.117624</td>\n      <td>0.431288</td>\n      <td>0.019604</td>\n      <td>Wed13Dec17</td>\n      <td>94.530484</td>\n      <td>10</td>\n    </tr>\n  </tbody>\n</table>\n<p>100 rows × 107 columns</p>\n</div>"
     },
     "metadata": {}
    }
   ]
  },
  {
   "cell_type": "code",
   "metadata": {
    "tags": [],
    "cell_id": "00010-1dccf7a9-c282-4f30-9dae-26d1c6ebc06e",
    "output_cleared": false,
    "deepnote_cell_type": "code"
   },
   "source": "",
   "execution_count": null,
   "outputs": []
  },
  {
   "cell_type": "markdown",
   "source": "### Los Angeles",
   "metadata": {
    "cell_id": "00010-3c4cb24d-c3d6-438d-9703-1dabaa4642ea",
    "output_cleared": false,
    "tags": [],
    "deepnote_cell_type": "markdown"
   }
  },
  {
   "cell_type": "code",
   "metadata": {
    "cell_id": "00011-d0778abf-e9ff-4962-9ccf-e65aa29fff73",
    "output_cleared": false,
    "deepnote_cell_type": "code"
   },
   "source": "#Create a subset for Los Angeles County; COUNTYFP == '037'\nla = cali_redline_and_HPI[cali_redline_and_HPI['COUNTYFP']=='037']\nla.head()",
   "execution_count": null,
   "outputs": [
    {
     "output_type": "execute_result",
     "execution_count": 18,
     "data": {
      "application/vnd.deepnote.dataframe.v2+json": {
       "error": "Traceback (most recent call last):\n  File \"/home/jovyan/.deepnote/variable_explorer.py\", line 270, in dataframe_formatter\n    return { MIME_TYPE: describe_pd_dataframe(df) }\n  File \"/home/jovyan/.deepnote/variable_explorer_helpers.py\", line 126, in describe_pd_dataframe\n    if (is_type_numeric(column.dtype)):\n  File \"/home/jovyan/.deepnote/variable_explorer_helpers.py\", line 11, in is_type_numeric\n    return np.issubdtype(dtype, np.number)\n  File \"/opt/venv/lib/python3.7/site-packages/numpy/core/numerictypes.py\", line 388, in issubdtype\n    arg1 = dtype(arg1).type\nTypeError: Cannot interpret '<geopandas.array.GeometryDtype object at 0x7f8352eb9208>' as a data type\n"
      },
      "text/plain": "  STATEFP COUNTYFP TRACTCE         GEOID     NAME              NAMELSAD  \\\n0      06      037  139301  6.037139e+09  1393.01  Census Tract 1393.01   \n1      06      037  139302  6.037139e+09  1393.02  Census Tract 1393.02   \n2      06      037  139502  6.037140e+09  1395.02  Census Tract 1395.02   \n3      06      037  139600  6.037140e+09     1396     Census Tract 1396   \n4      06      037  139701  6.037140e+09  1397.01  Census Tract 1397.01   \n\n   MTFCC FUNCSTAT    ALAND  AWATER  ... black_pct asian_pct  latino_pct  \\\n0  G5020        S  2865657       0  ...  3.585836  6.633797    9.547288   \n1  G5020        S   338289       0  ...  9.249209  9.226594   27.069199   \n2  G5020        S  1047548       0  ...  1.529764  5.054872    8.613236   \n3  G5020        S  2477482       0  ...  3.669329  6.345780    8.482625   \n4  G5020        S  3396396    2411  ...  1.849593  5.833333    6.483740   \n\n   multiple_pct NativeAm_pct  PacificIsl_pct  other_pct     version  \\\n0      3.697893     0.134469        0.224115   0.044823  Wed13Dec17   \n1      4.274084     0.293985        0.226142   0.248756  Wed13Dec17   \n2      7.016960     0.000000        0.199534   0.266046  Wed13Dec17   \n3      3.626160     0.151090        0.129506   0.021584  Wed13Dec17   \n4      2.398374     0.060976        0.060976   0.162602  Wed13Dec17   \n\n   non_white_pct  non_white_pct_ordinal_values  \n0      23.868221                             3  \n1      50.587969                             6  \n2      22.680412                             3  \n3      22.426074                             3  \n4      16.849593                             2  \n\n[5 rows x 107 columns]",
      "text/html": "<div>\n<style scoped>\n    .dataframe tbody tr th:only-of-type {\n        vertical-align: middle;\n    }\n\n    .dataframe tbody tr th {\n        vertical-align: top;\n    }\n\n    .dataframe thead th {\n        text-align: right;\n    }\n</style>\n<table border=\"1\" class=\"dataframe\">\n  <thead>\n    <tr style=\"text-align: right;\">\n      <th></th>\n      <th>STATEFP</th>\n      <th>COUNTYFP</th>\n      <th>TRACTCE</th>\n      <th>GEOID</th>\n      <th>NAME</th>\n      <th>NAMELSAD</th>\n      <th>MTFCC</th>\n      <th>FUNCSTAT</th>\n      <th>ALAND</th>\n      <th>AWATER</th>\n      <th>...</th>\n      <th>black_pct</th>\n      <th>asian_pct</th>\n      <th>latino_pct</th>\n      <th>multiple_pct</th>\n      <th>NativeAm_pct</th>\n      <th>PacificIsl_pct</th>\n      <th>other_pct</th>\n      <th>version</th>\n      <th>non_white_pct</th>\n      <th>non_white_pct_ordinal_values</th>\n    </tr>\n  </thead>\n  <tbody>\n    <tr>\n      <th>0</th>\n      <td>06</td>\n      <td>037</td>\n      <td>139301</td>\n      <td>6.037139e+09</td>\n      <td>1393.01</td>\n      <td>Census Tract 1393.01</td>\n      <td>G5020</td>\n      <td>S</td>\n      <td>2865657</td>\n      <td>0</td>\n      <td>...</td>\n      <td>3.585836</td>\n      <td>6.633797</td>\n      <td>9.547288</td>\n      <td>3.697893</td>\n      <td>0.134469</td>\n      <td>0.224115</td>\n      <td>0.044823</td>\n      <td>Wed13Dec17</td>\n      <td>23.868221</td>\n      <td>3</td>\n    </tr>\n    <tr>\n      <th>1</th>\n      <td>06</td>\n      <td>037</td>\n      <td>139302</td>\n      <td>6.037139e+09</td>\n      <td>1393.02</td>\n      <td>Census Tract 1393.02</td>\n      <td>G5020</td>\n      <td>S</td>\n      <td>338289</td>\n      <td>0</td>\n      <td>...</td>\n      <td>9.249209</td>\n      <td>9.226594</td>\n      <td>27.069199</td>\n      <td>4.274084</td>\n      <td>0.293985</td>\n      <td>0.226142</td>\n      <td>0.248756</td>\n      <td>Wed13Dec17</td>\n      <td>50.587969</td>\n      <td>6</td>\n    </tr>\n    <tr>\n      <th>2</th>\n      <td>06</td>\n      <td>037</td>\n      <td>139502</td>\n      <td>6.037140e+09</td>\n      <td>1395.02</td>\n      <td>Census Tract 1395.02</td>\n      <td>G5020</td>\n      <td>S</td>\n      <td>1047548</td>\n      <td>0</td>\n      <td>...</td>\n      <td>1.529764</td>\n      <td>5.054872</td>\n      <td>8.613236</td>\n      <td>7.016960</td>\n      <td>0.000000</td>\n      <td>0.199534</td>\n      <td>0.266046</td>\n      <td>Wed13Dec17</td>\n      <td>22.680412</td>\n      <td>3</td>\n    </tr>\n    <tr>\n      <th>3</th>\n      <td>06</td>\n      <td>037</td>\n      <td>139600</td>\n      <td>6.037140e+09</td>\n      <td>1396</td>\n      <td>Census Tract 1396</td>\n      <td>G5020</td>\n      <td>S</td>\n      <td>2477482</td>\n      <td>0</td>\n      <td>...</td>\n      <td>3.669329</td>\n      <td>6.345780</td>\n      <td>8.482625</td>\n      <td>3.626160</td>\n      <td>0.151090</td>\n      <td>0.129506</td>\n      <td>0.021584</td>\n      <td>Wed13Dec17</td>\n      <td>22.426074</td>\n      <td>3</td>\n    </tr>\n    <tr>\n      <th>4</th>\n      <td>06</td>\n      <td>037</td>\n      <td>139701</td>\n      <td>6.037140e+09</td>\n      <td>1397.01</td>\n      <td>Census Tract 1397.01</td>\n      <td>G5020</td>\n      <td>S</td>\n      <td>3396396</td>\n      <td>2411</td>\n      <td>...</td>\n      <td>1.849593</td>\n      <td>5.833333</td>\n      <td>6.483740</td>\n      <td>2.398374</td>\n      <td>0.060976</td>\n      <td>0.060976</td>\n      <td>0.162602</td>\n      <td>Wed13Dec17</td>\n      <td>16.849593</td>\n      <td>2</td>\n    </tr>\n  </tbody>\n</table>\n<p>5 rows × 107 columns</p>\n</div>"
     },
     "metadata": {}
    }
   ]
  },
  {
   "cell_type": "code",
   "metadata": {
    "cell_id": "00012-3a3c42bb-4832-4d32-8afe-cb4fad496488",
    "output_cleared": false,
    "tags": [],
    "deepnote_cell_type": "code"
   },
   "source": "from scipy.stats import spearmanr",
   "execution_count": null,
   "outputs": []
  },
  {
   "cell_type": "code",
   "metadata": {
    "cell_id": "00013-10fc1170-fef4-4d77-a46e-092b2b7bec62",
    "output_cleared": false,
    "tags": [],
    "deepnote_cell_type": "code"
   },
   "source": "# LA's Coef and P-value for Non-white population percentage vs. Redlining Index\n# 'ordinal value' was derived from re-weighted Redline index (from Akash's cali_redline file)\nla1 = la.dropna(subset=['ordinal_value'])\nla = la1.dropna(subset=['non_white_pct_ordinal_values'])\ncoef_non_white, p_non_white = spearmanr(la['non_white_pct_ordinal_values'], la['ordinal_value'])",
   "execution_count": null,
   "outputs": []
  },
  {
   "cell_type": "code",
   "metadata": {
    "cell_id": "00014-3df25213-ff6a-4648-b13b-37f7d5906aa7",
    "output_cleared": false,
    "tags": [],
    "deepnote_cell_type": "code"
   },
   "source": "coef_non_white",
   "execution_count": null,
   "outputs": [
    {
     "output_type": "execute_result",
     "execution_count": 21,
     "data": {
      "text/plain": "0.3350876067775402"
     },
     "metadata": {}
    }
   ]
  },
  {
   "cell_type": "code",
   "metadata": {
    "cell_id": "00015-03d97134-aa2e-4824-8a58-53c3b6061fb6",
    "output_cleared": false,
    "scrolled": true,
    "tags": [],
    "deepnote_cell_type": "code"
   },
   "source": "p_non_white",
   "execution_count": null,
   "outputs": [
    {
     "output_type": "execute_result",
     "execution_count": 22,
     "data": {
      "text/plain": "3.2523180602673183e-40"
     },
     "metadata": {}
    }
   ]
  },
  {
   "cell_type": "code",
   "metadata": {
    "cell_id": "00016-0bc9387e-78de-48a2-8920-e3b2fa74422c",
    "output_cleared": false,
    "tags": [],
    "deepnote_cell_type": "code"
   },
   "source": "# LA's Coef and P-value for HPI2 score percentile vs. Redlining Index\n# Percentile ranking of HPI score (positive frame)\nla = la1.dropna(subset=['hpi2_pctile_pos']) #0-100 (least to most advantaged)\ncoef_hpi_pctile, p_hpi_pctile = spearmanr(la['hpi2_pctile_pos'], la['ordinal_value'])",
   "execution_count": null,
   "outputs": []
  },
  {
   "cell_type": "code",
   "metadata": {
    "cell_id": "00017-f32d48b6-0994-4b43-a2ba-afaef4146b3c",
    "output_cleared": false,
    "tags": [],
    "deepnote_cell_type": "code"
   },
   "source": "coef_hpi_pctile",
   "execution_count": null,
   "outputs": [
    {
     "output_type": "execute_result",
     "execution_count": 24,
     "data": {
      "text/plain": "-0.33360054136005896"
     },
     "metadata": {}
    }
   ]
  },
  {
   "cell_type": "code",
   "metadata": {
    "cell_id": "00018-650aaa19-483c-4928-b852-b34c82d1537c",
    "output_cleared": false,
    "tags": [],
    "deepnote_cell_type": "code"
   },
   "source": "p_hpi_pctile",
   "execution_count": null,
   "outputs": [
    {
     "output_type": "execute_result",
     "execution_count": 25,
     "data": {
      "text/plain": "4.9937057251629645e-39"
     },
     "metadata": {}
    }
   ]
  },
  {
   "cell_type": "code",
   "metadata": {
    "cell_id": "00019-9702cf6a-3b06-4116-b81f-e05741e83fd4",
    "output_cleared": false,
    "tags": [],
    "deepnote_cell_type": "code"
   },
   "source": "# LA's Coef and P-value for economic percentile vs. Redlining Index\n# Percentile ranking ranking of \"economic\" policy action area z score\nla = la1.dropna(subset=['economic_pctile']) #0-100 (least to most advantaged)\ncoef_eco_pctile, p_eco_pctile = spearmanr(la['economic_pctile'], la['ordinal_value'])",
   "execution_count": null,
   "outputs": []
  },
  {
   "cell_type": "code",
   "metadata": {
    "cell_id": "00020-4eb049ce-99fa-4203-868f-56315d3836d6",
    "output_cleared": false,
    "deepnote_cell_type": "code"
   },
   "source": "coef_eco_pctile",
   "execution_count": null,
   "outputs": [
    {
     "output_type": "execute_result",
     "execution_count": 27,
     "data": {
      "text/plain": "-0.3496333354148998"
     },
     "metadata": {}
    }
   ]
  },
  {
   "cell_type": "code",
   "metadata": {
    "cell_id": "00021-44c74481-9e76-4133-b2f1-f84cc357f1d7",
    "output_cleared": false,
    "deepnote_cell_type": "code"
   },
   "source": "p_eco_pctile",
   "execution_count": null,
   "outputs": [
    {
     "output_type": "execute_result",
     "execution_count": 28,
     "data": {
      "text/plain": "6.00578196536421e-43"
     },
     "metadata": {}
    }
   ]
  },
  {
   "cell_type": "code",
   "metadata": {
    "cell_id": "00022-07906a03-c83f-4946-b5ff-6d9ce716883c",
    "output_cleared": false,
    "deepnote_cell_type": "code"
   },
   "source": "# LA's Coef and P-value for education percentile vs. Redlining Index\n# Percentile ranking of \"education\" policy action area z score\nla = la1.dropna(subset=['education_pctile']) #0-100 (least to most advantaged)\ncoef_edu_pctile, p_edu_pctile = spearmanr(la['education_pctile'], la['ordinal_value'])",
   "execution_count": null,
   "outputs": []
  },
  {
   "cell_type": "code",
   "metadata": {
    "cell_id": "00023-10127268-6d2b-418d-a071-be4fc6a533cc",
    "output_cleared": false,
    "deepnote_cell_type": "code"
   },
   "source": "coef_edu_pctile",
   "execution_count": null,
   "outputs": [
    {
     "output_type": "execute_result",
     "execution_count": 30,
     "data": {
      "text/plain": "-0.23679898971436067"
     },
     "metadata": {}
    }
   ]
  },
  {
   "cell_type": "code",
   "metadata": {
    "cell_id": "00024-fb9abf0d-598d-4007-bfa3-efe6be4e67a1",
    "output_cleared": false,
    "deepnote_cell_type": "code"
   },
   "source": "p_edu_pctile",
   "execution_count": null,
   "outputs": [
    {
     "output_type": "execute_result",
     "execution_count": 31,
     "data": {
      "text/plain": "6.271215331910565e-20"
     },
     "metadata": {}
    }
   ]
  },
  {
   "cell_type": "code",
   "metadata": {
    "cell_id": "00025-2b736dfa-9d98-43be-999d-814ea1d77ed1",
    "output_cleared": false,
    "deepnote_cell_type": "code"
   },
   "source": "# LA's Coef and P-value for housing percentile vs. Redlining Index\n# Percentile ranking of \"education\" policy action area z score\nla = la1.dropna(subset=['housing_pctile']) #0-100 (least to most advantaged)\ncoef_hse_pctile, p_hse_pctile = spearmanr(la['housing_pctile'], la['ordinal_value'])",
   "execution_count": null,
   "outputs": []
  },
  {
   "cell_type": "code",
   "metadata": {
    "cell_id": "00026-65812028-9fbc-47cb-a27d-ad4a5efc9546",
    "output_cleared": false,
    "deepnote_cell_type": "code"
   },
   "source": "coef_hse_pctile",
   "execution_count": null,
   "outputs": [
    {
     "output_type": "execute_result",
     "execution_count": 33,
     "data": {
      "text/plain": "-0.33584505800708137"
     },
     "metadata": {}
    }
   ]
  },
  {
   "cell_type": "code",
   "metadata": {
    "cell_id": "00027-584129a3-6746-45a2-a354-445e12dc243f",
    "output_cleared": false,
    "deepnote_cell_type": "code"
   },
   "source": "p_hse_pctile",
   "execution_count": null,
   "outputs": [
    {
     "output_type": "execute_result",
     "execution_count": 34,
     "data": {
      "text/plain": "1.4570571609534483e-39"
     },
     "metadata": {}
    }
   ]
  },
  {
   "cell_type": "code",
   "metadata": {
    "cell_id": "00028-fcc9d3f1-c45d-4b15-85b6-381354546ded",
    "output_cleared": false,
    "tags": [],
    "deepnote_cell_type": "code"
   },
   "source": "# LA's Coef and P-value for healthcare access percentile vs. Redlining Index\n# Percentile ranking of \"healthcare access\" policy action area z score\nla = la1.dropna(subset=['healthcareaccess_pctile']) #0-100 (least to most advantaged)\ncoef_healthcareaccess_pctile, p_healthcareaccess_pctile = spearmanr(la['healthcareaccess_pctile'], la['ordinal_value'])",
   "execution_count": null,
   "outputs": []
  },
  {
   "cell_type": "code",
   "metadata": {
    "cell_id": "00029-a3f56bf5-62e9-4d43-8666-8d01fbfde029",
    "output_cleared": false,
    "deepnote_cell_type": "code"
   },
   "source": "coef_healthcareaccess_pctile",
   "execution_count": null,
   "outputs": [
    {
     "output_type": "execute_result",
     "execution_count": 36,
     "data": {
      "text/plain": "-0.34399477169315124"
     },
     "metadata": {}
    }
   ]
  },
  {
   "cell_type": "code",
   "metadata": {
    "cell_id": "00030-bf97efbd-4d76-46ef-8481-403dbb389a56",
    "output_cleared": false,
    "deepnote_cell_type": "code"
   },
   "source": "p_healthcareaccess_pctile",
   "execution_count": null,
   "outputs": [
    {
     "output_type": "execute_result",
     "execution_count": 37,
     "data": {
      "text/plain": "1.5256620760496077e-41"
     },
     "metadata": {}
    }
   ]
  },
  {
   "cell_type": "code",
   "metadata": {
    "cell_id": "00031-a769ffdb-61f7-4d21-99e2-1071bfd3c69b",
    "output_cleared": false,
    "deepnote_cell_type": "code"
   },
   "source": "# LA's Coef and P-value for neighborhood percentile vs. Redlining Index\n# Percentile ranking of \"neighborhood\" policy action area z score\nla = la1.dropna(subset=['neighborhood_pctile']) #0-100 (least to most advantaged)\ncoef_neighborhood_pctile, p_neighborhood_pctile = spearmanr(la['neighborhood_pctile'], la['ordinal_value'])",
   "execution_count": null,
   "outputs": []
  },
  {
   "cell_type": "code",
   "metadata": {
    "cell_id": "00032-d3d32c72-d85c-4470-964a-8050967b164b",
    "output_cleared": false,
    "deepnote_cell_type": "code"
   },
   "source": "coef_neighborhood_pctile",
   "execution_count": null,
   "outputs": [
    {
     "output_type": "execute_result",
     "execution_count": 39,
     "data": {
      "text/plain": "-0.06855203827784562"
     },
     "metadata": {}
    }
   ]
  },
  {
   "cell_type": "code",
   "metadata": {
    "cell_id": "00033-251acd1b-ea6d-45c8-9b6c-eeeea6ff2dc7",
    "output_cleared": false,
    "deepnote_cell_type": "code"
   },
   "source": "p_neighborhood_pctile",
   "execution_count": null,
   "outputs": [
    {
     "output_type": "execute_result",
     "execution_count": 40,
     "data": {
      "text/plain": "0.00902238501355702"
     },
     "metadata": {}
    }
   ]
  },
  {
   "cell_type": "code",
   "metadata": {
    "cell_id": "00034-51d4ca2a-b170-46fb-81cf-89fab052138a",
    "output_cleared": false,
    "deepnote_cell_type": "code"
   },
   "source": "# LA's Coef and P-value for pollution percentile vs. Redlining Index\n# Percentile ranking of \"pollution\" policy action area z score\nla = la1.dropna(subset=['pollution_pctile']) #0-100 (least to most advantaged)\ncoef_pollution_pctile, p_pollution_pctile = spearmanr(la['pollution_pctile'], la['ordinal_value'])",
   "execution_count": null,
   "outputs": []
  },
  {
   "cell_type": "code",
   "metadata": {
    "cell_id": "00035-7e8fc406-051c-40c1-8e5a-06a090b71206",
    "output_cleared": false,
    "deepnote_cell_type": "code"
   },
   "source": "coef_pollution_pctile",
   "execution_count": null,
   "outputs": [
    {
     "output_type": "execute_result",
     "execution_count": 42,
     "data": {
      "text/plain": "-0.06635106023389127"
     },
     "metadata": {}
    }
   ]
  },
  {
   "cell_type": "code",
   "metadata": {
    "cell_id": "00036-50d56fe2-511d-4ca9-b6a0-97d6ce65ee65",
    "output_cleared": false,
    "deepnote_cell_type": "code"
   },
   "source": "p_pollution_pctile",
   "execution_count": null,
   "outputs": [
    {
     "output_type": "execute_result",
     "execution_count": 43,
     "data": {
      "text/plain": "0.0114982767518235"
     },
     "metadata": {}
    }
   ]
  },
  {
   "cell_type": "code",
   "metadata": {
    "cell_id": "00037-7e02b086-3065-40c0-9396-771ecc301b94",
    "output_cleared": false,
    "deepnote_cell_type": "code"
   },
   "source": "# LA's Coef and P-value for transportation percentile vs. Redlining Index\n# Percentile ranking of \"transportation\" policy action area z score\nla = la1.dropna(subset=['transportation_pctile']) #0-100 (least to most advantaged)\ncoef_transportation_pctile, p_transportation_pctile = spearmanr(la['transportation_pctile'], la['ordinal_value'])",
   "execution_count": null,
   "outputs": []
  },
  {
   "cell_type": "code",
   "metadata": {
    "cell_id": "00038-041ec54a-6a00-41ba-83b3-a47d2fedd7ef",
    "output_cleared": false,
    "deepnote_cell_type": "code"
   },
   "source": "coef_transportation_pctile",
   "execution_count": null,
   "outputs": [
    {
     "output_type": "execute_result",
     "execution_count": 45,
     "data": {
      "text/plain": "-0.02666913152621035"
     },
     "metadata": {}
    }
   ]
  },
  {
   "cell_type": "code",
   "metadata": {
    "cell_id": "00039-85e9717f-cfa4-40fe-bb76-eeb305ebc1c3",
    "output_cleared": false,
    "deepnote_cell_type": "code"
   },
   "source": "p_transportation_pctile",
   "execution_count": null,
   "outputs": [
    {
     "output_type": "execute_result",
     "execution_count": 46,
     "data": {
      "text/plain": "0.3101845034877754"
     },
     "metadata": {}
    }
   ]
  },
  {
   "cell_type": "code",
   "metadata": {
    "cell_id": "00040-0336285d-7699-4668-8f4a-ed7747764fef",
    "output_cleared": false,
    "deepnote_cell_type": "code"
   },
   "source": "# LA's Coef and P-value for social percentile vs. Redlining Index\n# Percentile ranking of \"social\" policy action area z score\nla = la1.dropna(subset=['social_pctile']) #0-100 (least to most advantaged)\ncoef_social_pctile, p_social_pctile = spearmanr(la['social_pctile'], la['ordinal_value'])",
   "execution_count": null,
   "outputs": []
  },
  {
   "cell_type": "code",
   "metadata": {
    "cell_id": "00041-012e7c32-5d59-44e1-9ee5-ab97a6f83be9",
    "output_cleared": false,
    "deepnote_cell_type": "code"
   },
   "source": "coef_social_pctile",
   "execution_count": null,
   "outputs": [
    {
     "output_type": "execute_result",
     "execution_count": 48,
     "data": {
      "text/plain": "-0.2419135981218253"
     },
     "metadata": {}
    }
   ]
  },
  {
   "cell_type": "code",
   "metadata": {
    "cell_id": "00042-24a9b8be-1eff-425e-be19-b1255503503d",
    "output_cleared": false,
    "deepnote_cell_type": "code"
   },
   "source": "p_social_pctile",
   "execution_count": null,
   "outputs": [
    {
     "output_type": "execute_result",
     "execution_count": 49,
     "data": {
      "text/plain": "9.367703523040439e-21"
     },
     "metadata": {}
    }
   ]
  },
  {
   "cell_type": "code",
   "metadata": {
    "cell_id": "00043-70f41d81-2a2a-4ce6-8851-8a4d106acd76",
    "output_cleared": false,
    "deepnote_cell_type": "code"
   },
   "source": "# LA's Coef and P-value for insured percentile vs. Redlining Index\n# Percentile ranking of percentage of adults aged 18 to 64 years currently insured\nla = la1.dropna(subset=['insured_pctile']) #0-100 (least to most advantaged)\ncoef_insured_pctile, p_insured_pctile = spearmanr(la['insured_pctile'], la['ordinal_value'])",
   "execution_count": null,
   "outputs": []
  },
  {
   "cell_type": "code",
   "metadata": {
    "cell_id": "00044-6dff9adf-7abc-4d1c-9462-1cf8ace42485",
    "output_cleared": false,
    "deepnote_cell_type": "code"
   },
   "source": "coef_insured_pctile",
   "execution_count": null,
   "outputs": [
    {
     "output_type": "execute_result",
     "execution_count": 51,
     "data": {
      "text/plain": "-0.34399477169315124"
     },
     "metadata": {}
    }
   ]
  },
  {
   "cell_type": "code",
   "metadata": {
    "cell_id": "00045-66ae4ffb-8d4b-4c16-ab11-ada87e3933b1",
    "output_cleared": false,
    "deepnote_cell_type": "code"
   },
   "source": "p_insured_pctile",
   "execution_count": null,
   "outputs": [
    {
     "output_type": "execute_result",
     "execution_count": 52,
     "data": {
      "text/plain": "1.5256620760496077e-41"
     },
     "metadata": {}
    }
   ]
  },
  {
   "cell_type": "code",
   "metadata": {
    "cell_id": "00046-1a91b0eb-394c-43ae-8be5-9dd263acd6d2",
    "output_cleared": false,
    "deepnote_cell_type": "code"
   },
   "source": "# LA's Coef and P-value for uncrowded percentile vs. Redlining Index\n# Percentile ranking of uncrowded households\nla = la1.dropna(subset=['uncrowded_pctile']) #0-100 (least to most advantaged)\ncoef_uncrowded_pctile, p_uncrowded_pctile = spearmanr(la['uncrowded_pctile'], la['ordinal_value'])",
   "execution_count": null,
   "outputs": []
  },
  {
   "cell_type": "code",
   "metadata": {
    "cell_id": "00047-d8174bda-74d0-478e-a772-5dd810ac9029",
    "output_cleared": false,
    "deepnote_cell_type": "code"
   },
   "source": "coef_uncrowded_pctile",
   "execution_count": null,
   "outputs": [
    {
     "output_type": "execute_result",
     "execution_count": 54,
     "data": {
      "text/plain": "-0.38151034912798726"
     },
     "metadata": {}
    }
   ]
  },
  {
   "cell_type": "code",
   "metadata": {
    "cell_id": "00048-294f5c7c-7f4e-4773-ac0e-4481ce57226e",
    "output_cleared": false,
    "deepnote_cell_type": "code"
   },
   "source": "p_uncrowded_pctile",
   "execution_count": null,
   "outputs": [
    {
     "output_type": "execute_result",
     "execution_count": 55,
     "data": {
      "text/plain": "1.9024676503798057e-51"
     },
     "metadata": {}
    }
   ]
  },
  {
   "cell_type": "code",
   "metadata": {
    "cell_id": "00049-fdeb4217-b5e2-4bb3-90c4-27eab4656b29",
    "output_cleared": false,
    "deepnote_cell_type": "code"
   },
   "source": "# LA's Coef and P-value for homeownership percentile vs. Redlining Index\n# Percentile ranking of percentage of occupied housing units occupied by property owners\nla = la1.dropna(subset=['homeownership_pctile']) #0-100 (least to most advantaged)\ncoef_homeownership_pctile, p_homeownership_pctile = spearmanr(la['homeownership_pctile'], la['ordinal_value'])",
   "execution_count": null,
   "outputs": []
  },
  {
   "cell_type": "code",
   "metadata": {
    "cell_id": "00050-84c7a2f5-bfcb-4ca4-bfe8-86ba7b770620",
    "output_cleared": false,
    "deepnote_cell_type": "code"
   },
   "source": "coef_homeownership_pctile",
   "execution_count": null,
   "outputs": [
    {
     "output_type": "execute_result",
     "execution_count": 57,
     "data": {
      "text/plain": "-0.2896903171223977"
     },
     "metadata": {}
    }
   ]
  },
  {
   "cell_type": "code",
   "metadata": {
    "cell_id": "00051-9db2f7ca-5235-4986-82c6-f541761af698",
    "output_cleared": false,
    "deepnote_cell_type": "code"
   },
   "source": "p_homeownership_pctile",
   "execution_count": null,
   "outputs": [
    {
     "output_type": "execute_result",
     "execution_count": 58,
     "data": {
      "text/plain": "1.9767634282365984e-29"
     },
     "metadata": {}
    }
   ]
  },
  {
   "cell_type": "code",
   "metadata": {
    "cell_id": "00052-cf396952-28aa-440e-b0bd-6542d962e618",
    "output_cleared": false,
    "deepnote_cell_type": "code"
   },
   "source": "# LA's Coef and P-value for automobile percentile vs. Redlining Index\n# Percentile ranking of households with access to an automobile\nla = la1.dropna(subset=['automobile_pctile']) #0-100 (least to most advantaged)\ncoef_automobile_pctile, p_automobile_pctile = spearmanr(la['automobile_pctile'], la['ordinal_value'])",
   "execution_count": null,
   "outputs": []
  },
  {
   "cell_type": "code",
   "metadata": {
    "cell_id": "00053-f93c357f-5d57-4d7e-be17-35c3fabeda09",
    "output_cleared": false,
    "deepnote_cell_type": "code"
   },
   "source": "coef_automobile_pctile",
   "execution_count": null,
   "outputs": [
    {
     "output_type": "execute_result",
     "execution_count": 60,
     "data": {
      "text/plain": "-0.3095068463585721"
     },
     "metadata": {}
    }
   ]
  },
  {
   "cell_type": "code",
   "metadata": {
    "cell_id": "00054-39b37009-3f53-48fa-974d-ac59941aeb6d",
    "output_cleared": false,
    "deepnote_cell_type": "code"
   },
   "source": "p_automobile_pctile",
   "execution_count": null,
   "outputs": [
    {
     "output_type": "execute_result",
     "execution_count": 61,
     "data": {
      "text/plain": "1.4636750862758701e-33"
     },
     "metadata": {}
    }
   ]
  },
  {
   "cell_type": "code",
   "metadata": {
    "cell_id": "00055-6aa894d1-21a9-4f8e-9ccf-6483535335ad",
    "output_cleared": false,
    "deepnote_cell_type": "code"
   },
   "source": "# LA's Coef and P-value for commute percentile vs. Redlining Index\n# Percentile ranking of percentage of workers (16 years and older) who commute to work by transit, walking, or cycling\nla = la1.dropna(subset=['commute_pctile']) #0-100 (least to most advantaged)\ncoef_commute_pctile, p_commute_pctile = spearmanr(la['commute_pctile'], la['ordinal_value'])",
   "execution_count": null,
   "outputs": []
  },
  {
   "cell_type": "code",
   "metadata": {
    "cell_id": "00056-13b54386-ef83-41ae-93cd-9f5505af0ceb",
    "output_cleared": false,
    "deepnote_cell_type": "code"
   },
   "source": "coef_commute_pctile",
   "execution_count": null,
   "outputs": [
    {
     "output_type": "execute_result",
     "execution_count": 63,
     "data": {
      "text/plain": "0.3426798096712953"
     },
     "metadata": {}
    }
   ]
  },
  {
   "cell_type": "code",
   "metadata": {
    "cell_id": "00057-317c6cd0-da20-4b65-9156-272d18ba2df7",
    "output_cleared": false,
    "deepnote_cell_type": "code"
   },
   "source": "p_commute_pctile",
   "execution_count": null,
   "outputs": [
    {
     "output_type": "execute_result",
     "execution_count": 64,
     "data": {
      "text/plain": "3.2133454588802124e-41"
     },
     "metadata": {}
    }
   ]
  },
  {
   "cell_type": "code",
   "metadata": {
    "cell_id": "00058-c8fd1354-3e38-4dd9-b938-26fdb4e2ceea",
    "output_cleared": false,
    "deepnote_cell_type": "code"
   },
   "source": "# LA's Coef and P-value for inpreschool percentile vs. Redlining Index\n# Percentile ranking of 3 and 4 year olds enrolled in school\nla = la1.dropna(subset=['inpreschool_pctile']) #0-100 (least to most advantaged)\ncoef_inpreschool_pctile, p_inpreschool_pctile = spearmanr(la['inpreschool_pctile'], la['ordinal_value'])",
   "execution_count": null,
   "outputs": []
  },
  {
   "cell_type": "code",
   "metadata": {
    "cell_id": "00059-5ea9908f-03fa-4c2d-bb93-4f831db88921",
    "output_cleared": false,
    "deepnote_cell_type": "code"
   },
   "source": "coef_inpreschool_pctile",
   "execution_count": null,
   "outputs": [
    {
     "output_type": "execute_result",
     "execution_count": 66,
     "data": {
      "text/plain": "-0.14966983553667834"
     },
     "metadata": {}
    }
   ]
  },
  {
   "cell_type": "code",
   "metadata": {
    "cell_id": "00060-f688bd64-d0a3-4d75-a95f-33c9560e0582",
    "output_cleared": false,
    "deepnote_cell_type": "code"
   },
   "source": "p_inpreschool_pctile",
   "execution_count": null,
   "outputs": [
    {
     "output_type": "execute_result",
     "execution_count": 67,
     "data": {
      "text/plain": "1.0244706738091708e-08"
     },
     "metadata": {}
    }
   ]
  },
  {
   "cell_type": "code",
   "metadata": {
    "cell_id": "00061-4520dec6-f54c-466f-98c5-7670c2b160a7",
    "output_cleared": false,
    "deepnote_cell_type": "code"
   },
   "source": "# LA's Coef and P-value for inhighschool percentile vs. Redlining Index\n# Percentile ranking of 15-17 year olds enrolled in school\nla = la1.dropna(subset=['inhighschool_pctile']) #0-100 (least to most advantaged)\ncoef_inhighschool_pctile, p_inhighschool_pctile = spearmanr(la['inhighschool_pctile'], la['ordinal_value'])",
   "execution_count": null,
   "outputs": []
  },
  {
   "cell_type": "code",
   "metadata": {
    "cell_id": "00062-4ea69e81-a0c5-4282-9aa9-c00834c07321",
    "output_cleared": false,
    "deepnote_cell_type": "code"
   },
   "source": "coef_inhighschool_pctile",
   "execution_count": null,
   "outputs": [
    {
     "output_type": "execute_result",
     "execution_count": 69,
     "data": {
      "text/plain": "-0.046797480438145724"
     },
     "metadata": {}
    }
   ]
  },
  {
   "cell_type": "code",
   "metadata": {
    "cell_id": "00063-0c94cddc-1a1d-4d29-b38d-02390821ccb7",
    "output_cleared": false,
    "deepnote_cell_type": "code"
   },
   "source": "p_inhighschool_pctile",
   "execution_count": null,
   "outputs": [
    {
     "output_type": "execute_result",
     "execution_count": 70,
     "data": {
      "text/plain": "0.07484155030430753"
     },
     "metadata": {}
    }
   ]
  },
  {
   "cell_type": "code",
   "metadata": {
    "cell_id": "00064-9a5a52f2-9968-498f-bd63-1ac68b773e52",
    "output_cleared": false,
    "deepnote_cell_type": "code"
   },
   "source": "# LA's Coef and P-value for bachelorsed percentile vs. Redlining Index\n# Percentile ranking of percentage of population over age 25 with a bachelor's education or higher\nla = la1.dropna(subset=['bachelorsed_pctile']) #0-100 (least to most advantaged)\ncoef_bachelorsed_pctile, p_bachelorsed_pctile = spearmanr(la['bachelorsed_pctile'], la['ordinal_value'])",
   "execution_count": null,
   "outputs": []
  },
  {
   "cell_type": "code",
   "metadata": {
    "cell_id": "00065-2b1e6c44-0da2-4860-a1a7-894effc7ca41",
    "output_cleared": false,
    "deepnote_cell_type": "code"
   },
   "source": "coef_bachelorsed_pctile",
   "execution_count": null,
   "outputs": [
    {
     "output_type": "execute_result",
     "execution_count": 72,
     "data": {
      "text/plain": "-0.3367087204609196"
     },
     "metadata": {}
    }
   ]
  },
  {
   "cell_type": "code",
   "metadata": {
    "cell_id": "00066-a51443d9-5868-4143-aeb2-c8a2cb514a3d",
    "output_cleared": false,
    "deepnote_cell_type": "code"
   },
   "source": "p_bachelorsed_pctile",
   "execution_count": null,
   "outputs": [
    {
     "output_type": "execute_result",
     "execution_count": 73,
     "data": {
      "text/plain": "9.045835691320842e-40"
     },
     "metadata": {}
    }
   ]
  },
  {
   "cell_type": "code",
   "metadata": {
    "cell_id": "00067-f82e97c2-fb85-4319-9e3c-5ed36bb01bb0",
    "output_cleared": false,
    "deepnote_cell_type": "code"
   },
   "source": "# LA's Coef and P-value for empdloyed percentile vs. Redlining Index\n# Percentile ranking of population aged 25-64 who are employed\nla = la1.dropna(subset=['employed_pctile']) #0-100 (least to most advantaged)\ncoef_employed_pctile, p_employed_pctile = spearmanr(la['employed_pctile'], la['ordinal_value'])",
   "execution_count": null,
   "outputs": []
  },
  {
   "cell_type": "code",
   "metadata": {
    "cell_id": "00068-32fb3214-e46d-4bf9-8262-a4db4ee430bd",
    "output_cleared": false,
    "deepnote_cell_type": "code"
   },
   "source": "coef_employed_pctile",
   "execution_count": null,
   "outputs": [
    {
     "output_type": "execute_result",
     "execution_count": 75,
     "data": {
      "text/plain": "-0.17020190450962724"
     },
     "metadata": {}
    }
   ]
  },
  {
   "cell_type": "code",
   "metadata": {
    "cell_id": "00069-c5b216cc-da11-4722-81cd-0f4172a2bb64",
    "output_cleared": false,
    "deepnote_cell_type": "code"
   },
   "source": "p_employed_pctile",
   "execution_count": null,
   "outputs": [
    {
     "output_type": "execute_result",
     "execution_count": 76,
     "data": {
      "text/plain": "6.884315026041056e-11"
     },
     "metadata": {}
    }
   ]
  },
  {
   "cell_type": "code",
   "metadata": {
    "cell_id": "00070-e6c00b6a-eed0-4d6d-b17f-e54c57c8ad1d",
    "output_cleared": false,
    "deepnote_cell_type": "code"
   },
   "source": "# LA's Coef and P-value for income percentile vs. Redlining Index\n# Percentile ranking of median annual household income\nla = la1.dropna(subset=['income_pctile']) #0-100 (least to most advantaged)\ncoef_income_pctile, p_income_pctile = spearmanr(la['income_pctile'], la['ordinal_value'])",
   "execution_count": null,
   "outputs": []
  },
  {
   "cell_type": "code",
   "metadata": {
    "cell_id": "00071-9e6966c5-5190-4437-bf74-4524192cb8a2",
    "output_cleared": false,
    "deepnote_cell_type": "code"
   },
   "source": "coef_income_pctile",
   "execution_count": null,
   "outputs": [
    {
     "output_type": "execute_result",
     "execution_count": 78,
     "data": {
      "text/plain": "-0.3410955833530376"
     },
     "metadata": {}
    }
   ]
  },
  {
   "cell_type": "code",
   "metadata": {
    "cell_id": "00072-8d8dae1a-7895-4c3a-8eab-d846f6c976fd",
    "output_cleared": false,
    "deepnote_cell_type": "code"
   },
   "source": "p_income_pctile",
   "execution_count": null,
   "outputs": [
    {
     "output_type": "execute_result",
     "execution_count": 79,
     "data": {
      "text/plain": "7.845780053979243e-41"
     },
     "metadata": {}
    }
   ]
  },
  {
   "cell_type": "code",
   "metadata": {
    "cell_id": "00073-48d06a9f-db49-4b0a-add5-ba557bb575e3",
    "output_cleared": false,
    "deepnote_cell_type": "code"
   },
   "source": "# LA's Coef and P-value for retail percentile vs. Redlining Index\n# Percentile ranking of employment density for retail, entertainment, and educational uses\nla = la1.dropna(subset=['retail_pctile']) #0-100 (least to most advantaged)\ncoef_retail_pctile, p_retail_pctile = spearmanr(la['retail_pctile'], la['ordinal_value'])",
   "execution_count": null,
   "outputs": []
  },
  {
   "cell_type": "code",
   "metadata": {
    "cell_id": "00074-de3fe780-65c3-431e-ad8e-b659b8e624b4",
    "output_cleared": false,
    "deepnote_cell_type": "code"
   },
   "source": "coef_retail_pctile",
   "execution_count": null,
   "outputs": [
    {
     "output_type": "execute_result",
     "execution_count": 81,
     "data": {
      "text/plain": "0.08053818527677971"
     },
     "metadata": {}
    }
   ]
  },
  {
   "cell_type": "code",
   "metadata": {
    "cell_id": "00075-81e86d61-da71-4e77-a89b-d3c2ccddf949",
    "output_cleared": false,
    "deepnote_cell_type": "code"
   },
   "source": "p_retail_pctile",
   "execution_count": null,
   "outputs": [
    {
     "output_type": "execute_result",
     "execution_count": 82,
     "data": {
      "text/plain": "0.0021467269962533214"
     },
     "metadata": {}
    }
   ]
  },
  {
   "cell_type": "code",
   "metadata": {
    "cell_id": "00076-b4512acd-b1eb-431d-9814-d7a5385e186d",
    "output_cleared": false,
    "deepnote_cell_type": "code"
   },
   "source": "# LA's Coef and P-value for parkaccess percentile vs. Redlining Index\n# Percentile ranking of the population living within a half-mile of a park, beach, or open space greater than 1 acre\nla = la1.dropna(subset=['parkaccess_pctile']) #0-100 (least to most advantaged)\ncoef_parkaccess_pctile, p_parkaccess_pctile = spearmanr(la['parkaccess_pctile'], la['ordinal_value'])",
   "execution_count": null,
   "outputs": []
  },
  {
   "cell_type": "code",
   "metadata": {
    "cell_id": "00077-79be41b2-e974-4eda-9343-976a21d9cc61",
    "output_cleared": false,
    "deepnote_cell_type": "code"
   },
   "source": "coef_parkaccess_pctile",
   "execution_count": null,
   "outputs": [
    {
     "output_type": "execute_result",
     "execution_count": 84,
     "data": {
      "text/plain": "0.12455918225471778"
     },
     "metadata": {}
    }
   ]
  },
  {
   "cell_type": "code",
   "metadata": {
    "cell_id": "00078-3853a8e3-34fa-4b0c-9051-8f0f4e411907",
    "output_cleared": false,
    "deepnote_cell_type": "code"
   },
   "source": "p_parkaccess_pctile",
   "execution_count": null,
   "outputs": [
    {
     "output_type": "execute_result",
     "execution_count": 85,
     "data": {
      "text/plain": "1.959854893528808e-06"
     },
     "metadata": {}
    }
   ]
  },
  {
   "cell_type": "code",
   "metadata": {
    "cell_id": "00079-0801b51d-ef62-4113-9089-c6bad59d2f6c",
    "output_cleared": false,
    "deepnote_cell_type": "code"
   },
   "source": "# LA's Coef and P-value for treecanopy percentile vs. Redlining Index\n# Percentile ranking of population-weighted percentage of the census tract area without tree canopy\nla = la1.dropna(subset=['treecanopy_pctile']) #0-100 (least to most advantaged)\ncoef_treecanopy_pctile, p_treecanopy_pctile = spearmanr(la['treecanopy_pctile'], la['ordinal_value'])",
   "execution_count": null,
   "outputs": []
  },
  {
   "cell_type": "code",
   "metadata": {
    "cell_id": "00080-7b488304-af3e-46e6-9181-44eda55cc74f",
    "output_cleared": false,
    "deepnote_cell_type": "code"
   },
   "source": "coef_treecanopy_pctile",
   "execution_count": null,
   "outputs": [
    {
     "output_type": "execute_result",
     "execution_count": 87,
     "data": {
      "text/plain": "-0.29074700090613087"
     },
     "metadata": {}
    }
   ]
  },
  {
   "cell_type": "code",
   "metadata": {
    "cell_id": "00081-693d8c24-5cca-4c2b-a5e1-7eb7aae9c28b",
    "output_cleared": false,
    "deepnote_cell_type": "code"
   },
   "source": "p_treecanopy_pctile",
   "execution_count": null,
   "outputs": [
    {
     "output_type": "execute_result",
     "execution_count": 88,
     "data": {
      "text/plain": "1.212856718101835e-29"
     },
     "metadata": {}
    }
   ]
  },
  {
   "cell_type": "code",
   "metadata": {
    "cell_id": "00082-ea3b748a-e657-4cb3-801e-10375686f8bf",
    "output_cleared": false,
    "deepnote_cell_type": "code"
   },
   "source": "# LA's Coef and P-value for alcoffsale percentile vs. Redlining Index\n# Percentile ranking of the opulation within 1/4 Mile of Off-Sale Alcohol Outlets\nla = la1.dropna(subset=['alcoffsale_pctile']) #0-100 (least to most advantaged)\ncoef_alcoffsale_pctile, p_alcoffsale_pctile = spearmanr(la['alcoffsale_pctile'], la['ordinal_value'])",
   "execution_count": null,
   "outputs": []
  },
  {
   "cell_type": "code",
   "metadata": {
    "cell_id": "00083-e49b7f06-99c2-41e3-b6d5-faac9b8049b5",
    "output_cleared": false,
    "deepnote_cell_type": "code"
   },
   "source": "coef_alcoffsale_pctile",
   "execution_count": null,
   "outputs": [
    {
     "output_type": "execute_result",
     "execution_count": 90,
     "data": {
      "text/plain": "-0.3266695949951648"
     },
     "metadata": {}
    }
   ]
  },
  {
   "cell_type": "code",
   "metadata": {
    "cell_id": "00084-539902c8-8add-4ee9-81e5-94a8f3ef51dc",
    "output_cleared": false,
    "deepnote_cell_type": "code"
   },
   "source": "p_alcoffsale_pctile",
   "execution_count": null,
   "outputs": [
    {
     "output_type": "execute_result",
     "execution_count": 91,
     "data": {
      "text/plain": "2.1008034558351494e-37"
     },
     "metadata": {}
    }
   ]
  },
  {
   "cell_type": "code",
   "metadata": {
    "cell_id": "00085-30b55775-ba14-4fa1-bbf1-c29e2ab728df",
    "output_cleared": false,
    "deepnote_cell_type": "code"
   },
   "source": "# LA's Coef and P-value for voting percentile vs. Redlining Index\n# Percentile ranking of registered voters voting in the 2012 general election\nla = la1.dropna(subset=['voting_pctile']) #0-100 (least to most advantaged)\ncoef_voting_pctile, p_voting_pctile = spearmanr(la['voting_pctile'], la['ordinal_value'])",
   "execution_count": null,
   "outputs": []
  },
  {
   "cell_type": "code",
   "metadata": {
    "cell_id": "00086-3eb60ecb-c1cf-4abc-adc2-a0014b1e0dce",
    "output_cleared": false,
    "deepnote_cell_type": "code"
   },
   "source": "coef_voting_pctile",
   "execution_count": null,
   "outputs": [
    {
     "output_type": "execute_result",
     "execution_count": 93,
     "data": {
      "text/plain": "-0.20697641504810027"
     },
     "metadata": {}
    }
   ]
  },
  {
   "cell_type": "code",
   "metadata": {
    "cell_id": "00087-e609d190-5124-40bb-a8ed-fe08fe7c73f8",
    "output_cleared": false,
    "deepnote_cell_type": "code"
   },
   "source": "p_voting_pctile",
   "execution_count": null,
   "outputs": [
    {
     "output_type": "execute_result",
     "execution_count": 94,
     "data": {
      "text/plain": "1.7067353362925086e-15"
     },
     "metadata": {}
    }
   ]
  },
  {
   "cell_type": "code",
   "metadata": {
    "cell_id": "00088-645aadf7-ee1b-45c3-adf7-34a7e925b2f0",
    "output_cleared": false,
    "deepnote_cell_type": "code"
   },
   "source": "# LA's Coef and P-value for housing (owned) costs exceeding 50% of income percentile vs. Redlining Index\n# Percentile ranking of low income owner households with housing costs exceeding 50% of income\nla = la1.dropna(subset=['ownsevere_pctile']) #0-100 (least to most advantaged)\ncoef_ownsevere_pctile, p_ownsevere_pctile = spearmanr(la['ownsevere_pctile'], la['ordinal_value'])",
   "execution_count": null,
   "outputs": []
  },
  {
   "cell_type": "code",
   "metadata": {
    "cell_id": "00089-aa131bd0-9faa-47bd-b31f-6a9265d5954b",
    "output_cleared": false,
    "deepnote_cell_type": "code"
   },
   "source": "coef_ownsevere_pctile",
   "execution_count": null,
   "outputs": [
    {
     "output_type": "execute_result",
     "execution_count": 96,
     "data": {
      "text/plain": "-0.161632603667017"
     },
     "metadata": {}
    }
   ]
  },
  {
   "cell_type": "code",
   "metadata": {
    "cell_id": "00090-931d9dac-894c-41d1-b36b-9c56929eea0d",
    "output_cleared": false,
    "deepnote_cell_type": "code"
   },
   "source": "coef_ownsevere_pctile",
   "execution_count": null,
   "outputs": [
    {
     "output_type": "execute_result",
     "execution_count": 97,
     "data": {
      "text/plain": "-0.161632603667017"
     },
     "metadata": {}
    }
   ]
  },
  {
   "cell_type": "code",
   "metadata": {
    "cell_id": "00091-9da04542-e04b-4bce-b7ab-a6a8e23d57e1",
    "output_cleared": false,
    "deepnote_cell_type": "code"
   },
   "source": "# LA's Coef and P-value for housing (rented) costs exceeding 50% of income percentile vs. Redlining Index\n# Percentile ranking of low income renter households with housing costs exceeding 50% of income\nla = la1.dropna(subset=['rentsevere_pctile']) #0-100 (least to most advantaged)\ncoef_rentsevere_pctile, p_rentsevere_pctile = spearmanr(la['rentsevere_pctile'], la['ordinal_value'])",
   "execution_count": null,
   "outputs": []
  },
  {
   "cell_type": "code",
   "metadata": {
    "cell_id": "00092-51c1e0f5-1442-4f61-b7d7-bffbe9f81f12",
    "output_cleared": false,
    "deepnote_cell_type": "code"
   },
   "source": "coef_rentsevere_pctile",
   "execution_count": null,
   "outputs": [
    {
     "output_type": "execute_result",
     "execution_count": 99,
     "data": {
      "text/plain": "-0.09471863072455192"
     },
     "metadata": {}
    }
   ]
  },
  {
   "cell_type": "code",
   "metadata": {
    "cell_id": "00093-aa5f9c87-19e3-4c69-94d6-dbc511a9fc9c",
    "output_cleared": false,
    "deepnote_cell_type": "code"
   },
   "source": "p_rentsevere_pctile",
   "execution_count": null,
   "outputs": [
    {
     "output_type": "execute_result",
     "execution_count": 100,
     "data": {
      "text/plain": "0.0003040906032604176"
     },
     "metadata": {}
    }
   ]
  },
  {
   "cell_type": "code",
   "metadata": {
    "cell_id": "00094-fed7e95f-138d-4672-ba23-e070e5903b0b",
    "output_cleared": false,
    "deepnote_cell_type": "code"
   },
   "source": "# LA's Coef and P-value for supermrkts percentile vs. Redlining Index\n# Percentile ranking of percentage of the urban population residing less than 1/2 mile from a supermarket/large grocery store, or the percent of the rural population living less than 1 mile from a supermarket/large grocery store\nla = la1.dropna(subset=['supermkts_pctile']) #0-100 (least to most advantaged)\ncoef_supermkts_pctile, p_supermkts_pctile = spearmanr(la['supermkts_pctile'], la['ordinal_value'])",
   "execution_count": null,
   "outputs": []
  },
  {
   "cell_type": "code",
   "metadata": {
    "cell_id": "00095-eb178ad5-f383-42e3-ba35-41c0c86dbdd7",
    "output_cleared": false,
    "deepnote_cell_type": "code"
   },
   "source": "coef_supermkts_pctile",
   "execution_count": null,
   "outputs": [
    {
     "output_type": "execute_result",
     "execution_count": 102,
     "data": {
      "text/plain": "0.18124651090475213"
     },
     "metadata": {}
    }
   ]
  },
  {
   "cell_type": "code",
   "metadata": {
    "cell_id": "00096-b99fc6b2-a659-48f5-8554-d8a605899604",
    "output_cleared": false,
    "deepnote_cell_type": "code"
   },
   "source": "p_supermkts_pctile",
   "execution_count": null,
   "outputs": [
    {
     "output_type": "execute_result",
     "execution_count": 103,
     "data": {
      "text/plain": "3.566493398254082e-12"
     },
     "metadata": {}
    }
   ]
  },
  {
   "cell_type": "code",
   "metadata": {
    "cell_id": "00097-d841cc67-1477-4826-8737-3bb8b12292c9",
    "output_cleared": false,
    "deepnote_cell_type": "code"
   },
   "source": "# LA's Coef and P-value for ozone percentile vs. Redlining Index\n# Percentile ranking of mean of summer months (May-October) of the daily maximum 8-hour ozone concentration (ppm), averaged over three years (2012 to 2014).\nla = la1.dropna(subset=['ozone_pctile']) #0-100 (least to most advantaged)\ncoef_ozone_pctile, p_ozone_pctile = spearmanr(la['ozone_pctile'], la['ordinal_value'])",
   "execution_count": null,
   "outputs": []
  },
  {
   "cell_type": "code",
   "metadata": {
    "cell_id": "00098-98eba7cb-e26c-4c3e-807c-48a7b67afe4f",
    "output_cleared": false,
    "deepnote_cell_type": "code"
   },
   "source": "coef_ozone_pctile",
   "execution_count": null,
   "outputs": [
    {
     "output_type": "execute_result",
     "execution_count": 105,
     "data": {
      "text/plain": "0.2721144799011642"
     },
     "metadata": {}
    }
   ]
  },
  {
   "cell_type": "code",
   "metadata": {
    "cell_id": "00099-aae6730a-a0a1-4493-94f5-a4e9aa771dcc",
    "output_cleared": false,
    "deepnote_cell_type": "code"
   },
   "source": "p_ozone_pctile",
   "execution_count": null,
   "outputs": [
    {
     "output_type": "execute_result",
     "execution_count": 106,
     "data": {
      "text/plain": "4.939658760419721e-26"
     },
     "metadata": {}
    }
   ]
  },
  {
   "cell_type": "code",
   "metadata": {
    "cell_id": "00100-00f4943a-679e-45d8-89a1-61a6b54e3cba",
    "output_cleared": false,
    "deepnote_cell_type": "code"
   },
   "source": "# LA's Coef and P-value for pm25 percentile vs. Redlining Index\n# Percentile ranking of annual mean PM 2.5 level\nla = la1.dropna(subset=['pm25_pctile']) #0-100 (least to most advantaged)\ncoef_pm25_pctile, p_pm25_pctile = spearmanr(la['pm25_pctile'], la['ordinal_value'])",
   "execution_count": null,
   "outputs": []
  },
  {
   "cell_type": "code",
   "metadata": {
    "cell_id": "00101-28c48ffc-1aba-42ad-8ca0-dbaf945bc845",
    "output_cleared": false,
    "deepnote_cell_type": "code"
   },
   "source": "coef_pm25_pctile",
   "execution_count": null,
   "outputs": [
    {
     "output_type": "execute_result",
     "execution_count": 108,
     "data": {
      "text/plain": "-0.241335955185531"
     },
     "metadata": {}
    }
   ]
  },
  {
   "cell_type": "code",
   "metadata": {
    "cell_id": "00102-4f08ef20-c4bf-4391-b3cc-4c080ffa07fc",
    "output_cleared": false,
    "deepnote_cell_type": "code"
   },
   "source": "p_pm25_pctile",
   "execution_count": null,
   "outputs": [
    {
     "output_type": "execute_result",
     "execution_count": 109,
     "data": {
      "text/plain": "1.1637554641875774e-20"
     },
     "metadata": {}
    }
   ]
  },
  {
   "cell_type": "code",
   "metadata": {
    "cell_id": "00103-adf3c145-5bff-4481-8e1c-1c0bc28eac6e",
    "output_cleared": false,
    "deepnote_cell_type": "code"
   },
   "source": "# LA's Coef and P-value for dieselpm percentile vs. Redlining Index\n# Percentile ranking of spatial distribution of gridded diesel PM emissions from on-road and non-road sources for a 2012 summer day in July (kg/day)\nla = la1.dropna(subset=['dieselpm_pctile']) #0-100 (least to most advantaged)\ncoef_dieselpm_pctile, p_dieselpm_pctile = spearmanr(la['dieselpm_pctile'], la['ordinal_value'])",
   "execution_count": null,
   "outputs": []
  },
  {
   "cell_type": "code",
   "metadata": {
    "cell_id": "00104-35764c06-855a-45c0-8019-648ccaa069b0",
    "output_cleared": false,
    "deepnote_cell_type": "code"
   },
   "source": "coef_dieselpm_pctile",
   "execution_count": null,
   "outputs": [
    {
     "output_type": "execute_result",
     "execution_count": 111,
     "data": {
      "text/plain": "-0.3200142599898852"
     },
     "metadata": {}
    }
   ]
  },
  {
   "cell_type": "code",
   "metadata": {
    "cell_id": "00105-e7aaffc6-2ee2-4374-af37-178a66a11ed5",
    "output_cleared": false,
    "deepnote_cell_type": "code"
   },
   "source": "p_dieselpm_pctile",
   "execution_count": null,
   "outputs": [
    {
     "output_type": "execute_result",
     "execution_count": 112,
     "data": {
      "text/plain": "6.958357077588864e-36"
     },
     "metadata": {}
    }
   ]
  },
  {
   "cell_type": "code",
   "metadata": {
    "cell_id": "00106-5ba321d8-eb25-441a-ae2e-0881aa3c179f",
    "output_cleared": false,
    "deepnote_cell_type": "code"
   },
   "source": "# LA's Coef and P-value for h20 contamination percentile vs. Redlining Index\n# Percentile ranking of Cal EnviroScreen 3.0 drinking water contaminant index for selected contaminants \nla = la1.dropna(subset=['h20contam_pctile']) #0-100 (least to most advantaged)\ncoef_h20contam_pctile, p_h20contam_pctile = spearmanr(la['h20contam_pctile'], la['ordinal_value'])",
   "execution_count": null,
   "outputs": []
  },
  {
   "cell_type": "code",
   "metadata": {
    "cell_id": "00107-cb423208-6b04-4d8f-a12b-90ef5336388d",
    "output_cleared": false,
    "deepnote_cell_type": "code"
   },
   "source": "coef_h20contam_pctile",
   "execution_count": null,
   "outputs": [
    {
     "output_type": "execute_result",
     "execution_count": 114,
     "data": {
      "text/plain": "0.11691656850919273"
     },
     "metadata": {}
    }
   ]
  },
  {
   "cell_type": "code",
   "metadata": {
    "cell_id": "00108-63cdcfb9-7a95-43e0-b78d-a5cbd8aa4342",
    "output_cleared": false,
    "deepnote_cell_type": "code"
   },
   "source": "p_h20contam_pctile",
   "execution_count": null,
   "outputs": [
    {
     "output_type": "execute_result",
     "execution_count": 115,
     "data": {
      "text/plain": "8.062163552270683e-06"
     },
     "metadata": {}
    }
   ]
  },
  {
   "cell_type": "code",
   "metadata": {
    "cell_id": "00109-080e1b77-6b56-4d8e-91e2-da29cb7c1083",
    "output_cleared": false,
    "deepnote_cell_type": "code"
   },
   "source": "# LA's Coef and P-value for life expectancy at birth percentile vs. Redlining Index\n# Percentile ranking of life expectancy at birth\nla = la1.dropna(subset=['LEB_pctile']) #0-100 (least to most advantaged)\ncoef_LEB_pctile, p_LEB_pctile = spearmanr(la['LEB_pctile'], la['ordinal_value'])",
   "execution_count": null,
   "outputs": []
  },
  {
   "cell_type": "code",
   "metadata": {
    "cell_id": "00110-dcc2e706-2869-42ce-a944-144317051a67",
    "output_cleared": false,
    "deepnote_cell_type": "code"
   },
   "source": "coef_LEB_pctile",
   "execution_count": null,
   "outputs": [
    {
     "output_type": "execute_result",
     "execution_count": 117,
     "data": {
      "text/plain": "-0.17744447073042827"
     },
     "metadata": {}
    }
   ]
  },
  {
   "cell_type": "code",
   "metadata": {
    "cell_id": "00111-5e727cfc-6047-4e67-8796-c4ae3ad9a843",
    "output_cleared": false,
    "deepnote_cell_type": "code"
   },
   "source": "p_LEB_pctile",
   "execution_count": null,
   "outputs": [
    {
     "output_type": "execute_result",
     "execution_count": 118,
     "data": {
      "text/plain": "1.0095947754077743e-11"
     },
     "metadata": {}
    }
   ]
  },
  {
   "cell_type": "code",
   "metadata": {
    "cell_id": "00112-b289d8ae-031c-4ca6-9c02-74c6ac6c294f",
    "output_cleared": false,
    "deepnote_cell_type": "code"
   },
   "source": "",
   "execution_count": null,
   "outputs": []
  },
  {
   "cell_type": "code",
   "metadata": {
    "cell_id": "00113-02cb2e22-3bf2-44c7-944c-a381de0b2b6b",
    "output_cleared": false,
    "deepnote_cell_type": "code"
   },
   "source": "",
   "execution_count": null,
   "outputs": []
  },
  {
   "cell_type": "code",
   "metadata": {
    "cell_id": "00114-b6449509-c841-4ee3-99e6-9ed3fdcc3da9",
    "output_cleared": false,
    "deepnote_cell_type": "code"
   },
   "source": "",
   "execution_count": null,
   "outputs": []
  },
  {
   "cell_type": "code",
   "metadata": {
    "cell_id": "00115-18b75c1a-20cb-4223-9f22-3ad66e1a9b60",
    "output_cleared": false,
    "deepnote_cell_type": "code"
   },
   "source": "",
   "execution_count": null,
   "outputs": []
  },
  {
   "cell_type": "code",
   "metadata": {
    "cell_id": "00116-a88e64f1-296f-46ca-871e-572b885a1ca4",
    "output_cleared": false,
    "deepnote_cell_type": "code"
   },
   "source": "",
   "execution_count": null,
   "outputs": []
  },
  {
   "cell_type": "code",
   "metadata": {
    "cell_id": "00117-ba657d8f-008a-4701-8e10-06e3415d336c",
    "output_cleared": false,
    "deepnote_cell_type": "code"
   },
   "source": "",
   "execution_count": null,
   "outputs": []
  },
  {
   "cell_type": "code",
   "metadata": {
    "cell_id": "00118-e0fc5b34-c5fd-4628-ac71-f691ced3b78d",
    "output_cleared": false,
    "tags": [],
    "deepnote_cell_type": "code"
   },
   "source": "",
   "execution_count": null,
   "outputs": []
  },
  {
   "cell_type": "code",
   "metadata": {
    "cell_id": "00119-dcdc9e94-2b00-4fc4-bfc9-24783e95894a",
    "output_cleared": false,
    "tags": [],
    "deepnote_cell_type": "code"
   },
   "source": "",
   "execution_count": null,
   "outputs": []
  },
  {
   "cell_type": "code",
   "metadata": {
    "cell_id": "00120-13cafaa5-8ee1-4ce9-8399-e5bbf2086205",
    "output_cleared": false,
    "tags": [],
    "deepnote_cell_type": "code"
   },
   "source": "",
   "execution_count": null,
   "outputs": []
  },
  {
   "cell_type": "code",
   "metadata": {
    "cell_id": "00121-dcdd3a6a-609c-4cbe-8a2d-1a9163666dba",
    "output_cleared": false,
    "tags": [],
    "deepnote_cell_type": "code"
   },
   "source": "",
   "execution_count": null,
   "outputs": []
  },
  {
   "cell_type": "code",
   "metadata": {
    "cell_id": "00122-12fa6ec7-5bb9-4efa-95ef-9c85d728e156",
    "output_cleared": false,
    "tags": [],
    "deepnote_cell_type": "code"
   },
   "source": "",
   "execution_count": null,
   "outputs": []
  },
  {
   "cell_type": "code",
   "metadata": {
    "cell_id": "00123-e0cd0ae2-650d-458f-a667-a294f8468dd7",
    "output_cleared": false,
    "tags": [],
    "deepnote_cell_type": "code"
   },
   "source": "",
   "execution_count": null,
   "outputs": []
  },
  {
   "cell_type": "code",
   "metadata": {
    "cell_id": "00124-26f9ee5d-9a84-48d8-bccf-fa0d8030fd6c",
    "output_cleared": false,
    "tags": [],
    "deepnote_cell_type": "code"
   },
   "source": "",
   "execution_count": null,
   "outputs": []
  },
  {
   "cell_type": "code",
   "metadata": {
    "cell_id": "00125-c4c84568-0000-49d2-a1c5-40fc86dd1599",
    "output_cleared": false,
    "tags": [],
    "deepnote_cell_type": "code"
   },
   "source": "",
   "execution_count": null,
   "outputs": []
  },
  {
   "cell_type": "code",
   "metadata": {
    "cell_id": "00126-4d563e2b-5a7a-4b16-b33b-d623dc6085ae",
    "output_cleared": false,
    "tags": [],
    "deepnote_cell_type": "code"
   },
   "source": "",
   "execution_count": null,
   "outputs": []
  },
  {
   "cell_type": "code",
   "metadata": {
    "cell_id": "00127-bff638ac-b2f5-4aa4-81b7-e5a06c7b9733",
    "output_cleared": false,
    "tags": [],
    "deepnote_cell_type": "code"
   },
   "source": "",
   "execution_count": null,
   "outputs": []
  },
  {
   "cell_type": "code",
   "metadata": {
    "cell_id": "00128-1c620927-9ee1-4abe-9831-25e1fac8835d",
    "output_cleared": false,
    "tags": [],
    "deepnote_cell_type": "code"
   },
   "source": "",
   "execution_count": null,
   "outputs": []
  },
  {
   "cell_type": "code",
   "metadata": {
    "cell_id": "00129-7e489cf1-2048-4680-a5c7-77041d9a97b3",
    "output_cleared": false,
    "tags": [],
    "deepnote_cell_type": "code"
   },
   "source": "",
   "execution_count": null,
   "outputs": []
  },
  {
   "cell_type": "code",
   "metadata": {
    "cell_id": "00130-3c524556-6a30-42db-bc5b-d6eb3738b7f9",
    "output_cleared": false,
    "tags": [],
    "deepnote_cell_type": "code"
   },
   "source": "",
   "execution_count": null,
   "outputs": []
  },
  {
   "cell_type": "code",
   "metadata": {
    "cell_id": "00131-32011d14-ca14-4f29-8ef2-dfe735e972e2",
    "output_cleared": false,
    "tags": [],
    "deepnote_cell_type": "code"
   },
   "source": "",
   "execution_count": null,
   "outputs": []
  },
  {
   "cell_type": "code",
   "metadata": {
    "cell_id": "00132-4da24902-ec37-4eb0-ada1-6ba4c5405182",
    "output_cleared": false,
    "tags": [],
    "deepnote_cell_type": "code"
   },
   "source": "",
   "execution_count": null,
   "outputs": []
  },
  {
   "cell_type": "code",
   "metadata": {
    "cell_id": "00133-e1055c45-ef86-4d84-bb25-dee0ce6cde91",
    "output_cleared": false,
    "tags": [],
    "deepnote_cell_type": "code"
   },
   "source": "",
   "execution_count": null,
   "outputs": []
  },
  {
   "cell_type": "code",
   "metadata": {
    "cell_id": "00134-03d50142-e208-443c-b3ac-26ba6ec2cf57",
    "output_cleared": false,
    "tags": [],
    "deepnote_cell_type": "code"
   },
   "source": "",
   "execution_count": null,
   "outputs": []
  },
  {
   "cell_type": "code",
   "metadata": {
    "cell_id": "00135-ccc04072-9ef1-4468-b237-1f2d0c7f9c63",
    "output_cleared": false,
    "tags": [],
    "deepnote_cell_type": "code"
   },
   "source": "",
   "execution_count": null,
   "outputs": []
  },
  {
   "cell_type": "code",
   "metadata": {
    "cell_id": "00136-95c5ee73-8dc4-4d18-8c9d-599b66b4036d",
    "output_cleared": false,
    "tags": [],
    "deepnote_cell_type": "code"
   },
   "source": "",
   "execution_count": null,
   "outputs": []
  },
  {
   "cell_type": "code",
   "metadata": {
    "cell_id": "00137-7d571060-7a43-4f7c-b70e-e3fb444880fd",
    "output_cleared": false,
    "tags": [],
    "deepnote_cell_type": "code"
   },
   "source": "",
   "execution_count": null,
   "outputs": []
  },
  {
   "cell_type": "code",
   "metadata": {
    "cell_id": "00138-5ce32bec-aa9a-48b9-881c-4ba140627160",
    "output_cleared": false,
    "tags": [],
    "deepnote_cell_type": "code"
   },
   "source": "",
   "execution_count": null,
   "outputs": []
  },
  {
   "cell_type": "code",
   "metadata": {
    "cell_id": "00139-378994ef-91f9-43ab-be41-39faa9cf17ad",
    "output_cleared": false,
    "tags": [],
    "deepnote_cell_type": "code"
   },
   "source": "",
   "execution_count": null,
   "outputs": []
  },
  {
   "cell_type": "code",
   "metadata": {
    "cell_id": "00140-7bbd3bfe-2b08-464c-b4b3-90749923ac22",
    "output_cleared": false,
    "tags": [],
    "deepnote_cell_type": "code"
   },
   "source": "",
   "execution_count": null,
   "outputs": []
  },
  {
   "cell_type": "code",
   "metadata": {
    "cell_id": "00141-78a2aa12-3053-4aa5-baf9-430d017d4bd8",
    "output_cleared": false,
    "tags": [],
    "deepnote_cell_type": "code"
   },
   "source": "",
   "execution_count": null,
   "outputs": []
  },
  {
   "cell_type": "code",
   "metadata": {
    "cell_id": "00142-2a4aa380-5a25-4401-a207-6cfbc2ead7a4",
    "output_cleared": false,
    "tags": [],
    "deepnote_cell_type": "code"
   },
   "source": "",
   "execution_count": null,
   "outputs": []
  },
  {
   "cell_type": "code",
   "metadata": {
    "cell_id": "00143-34bcd382-4726-4f92-9693-99069ca54736",
    "output_cleared": false,
    "tags": [],
    "deepnote_cell_type": "code"
   },
   "source": "",
   "execution_count": null,
   "outputs": []
  },
  {
   "cell_type": "code",
   "metadata": {
    "cell_id": "00144-3fe38e3a-9f1f-4bce-83c6-45b521ba94e2",
    "output_cleared": false,
    "tags": [],
    "deepnote_cell_type": "code"
   },
   "source": "",
   "execution_count": null,
   "outputs": []
  },
  {
   "cell_type": "code",
   "metadata": {
    "cell_id": "00145-4cb4988e-d206-4ec2-a1b3-cada7137c43d",
    "output_cleared": false,
    "tags": [],
    "deepnote_cell_type": "code"
   },
   "source": "",
   "execution_count": null,
   "outputs": []
  },
  {
   "cell_type": "code",
   "metadata": {
    "cell_id": "00146-6af9a3eb-ed2e-49f8-9454-17a2ffa15097",
    "output_cleared": false,
    "tags": [],
    "deepnote_cell_type": "code"
   },
   "source": "",
   "execution_count": null,
   "outputs": []
  },
  {
   "cell_type": "code",
   "metadata": {
    "cell_id": "00147-17eb7626-5302-4e5b-bcad-b87ad521968a",
    "output_cleared": false,
    "tags": [],
    "deepnote_cell_type": "code"
   },
   "source": "",
   "execution_count": null,
   "outputs": []
  },
  {
   "cell_type": "code",
   "metadata": {
    "cell_id": "00148-fa1d065a-6696-4546-8706-6b10792ae149",
    "output_cleared": false,
    "tags": [],
    "deepnote_cell_type": "code"
   },
   "source": "",
   "execution_count": null,
   "outputs": []
  },
  {
   "cell_type": "code",
   "metadata": {
    "cell_id": "00149-40946255-5c3a-47c8-955e-62010620feb5",
    "output_cleared": false,
    "tags": [],
    "deepnote_cell_type": "code"
   },
   "source": "",
   "execution_count": null,
   "outputs": []
  },
  {
   "cell_type": "code",
   "metadata": {
    "cell_id": "00150-0b368643-ec46-49cb-a4a7-ded919411253",
    "output_cleared": false,
    "tags": [],
    "deepnote_cell_type": "code"
   },
   "source": "",
   "execution_count": null,
   "outputs": []
  },
  {
   "cell_type": "code",
   "metadata": {
    "cell_id": "00151-efe28b77-e249-4281-82c4-6d5ca6d878a8",
    "output_cleared": false,
    "tags": [],
    "deepnote_cell_type": "code"
   },
   "source": "",
   "execution_count": null,
   "outputs": []
  },
  {
   "cell_type": "code",
   "metadata": {
    "cell_id": "00152-2e15cc8f-dff4-46ad-98eb-e2da733c5f3d",
    "output_cleared": false,
    "tags": [],
    "deepnote_cell_type": "code"
   },
   "source": "",
   "execution_count": null,
   "outputs": []
  },
  {
   "cell_type": "code",
   "metadata": {
    "cell_id": "00153-aaeb65f0-593c-4e18-ba70-3550205ae858",
    "output_cleared": false,
    "tags": [],
    "deepnote_cell_type": "code"
   },
   "source": "",
   "execution_count": null,
   "outputs": []
  },
  {
   "cell_type": "code",
   "metadata": {
    "cell_id": "00154-6919fc7b-6a81-41e8-b835-58fc3a68af4b",
    "output_cleared": false,
    "tags": [],
    "deepnote_cell_type": "code"
   },
   "source": "",
   "execution_count": null,
   "outputs": []
  },
  {
   "cell_type": "code",
   "metadata": {
    "cell_id": "00155-f9ab222b-a3e4-4b0c-8ec8-809231a7b55c",
    "output_cleared": false,
    "tags": [],
    "deepnote_cell_type": "code"
   },
   "source": "",
   "execution_count": null,
   "outputs": []
  },
  {
   "cell_type": "code",
   "metadata": {
    "cell_id": "00156-41c2708e-12ca-4911-9282-9f645f99aad4",
    "output_cleared": false,
    "tags": [],
    "deepnote_cell_type": "code"
   },
   "source": "",
   "execution_count": null,
   "outputs": []
  },
  {
   "cell_type": "code",
   "metadata": {
    "cell_id": "00157-fa871c91-39cd-4eb8-b9e2-14bc1ed0fc72",
    "output_cleared": false,
    "tags": [],
    "deepnote_cell_type": "code"
   },
   "source": "",
   "execution_count": null,
   "outputs": []
  },
  {
   "cell_type": "code",
   "metadata": {
    "cell_id": "00158-60f49e8b-ee84-4e7c-95ae-83f50d639855",
    "output_cleared": false,
    "tags": [],
    "deepnote_cell_type": "code"
   },
   "source": "",
   "execution_count": null,
   "outputs": []
  },
  {
   "cell_type": "code",
   "metadata": {
    "cell_id": "00159-c6a29515-d1e3-4817-b438-bf1c5b94ebd2",
    "output_cleared": false,
    "tags": [],
    "deepnote_cell_type": "code"
   },
   "source": "",
   "execution_count": null,
   "outputs": []
  },
  {
   "cell_type": "code",
   "metadata": {
    "cell_id": "00160-b55a4aa2-4118-4cf0-b9ec-39b440d48b3d",
    "output_cleared": false,
    "tags": [],
    "deepnote_cell_type": "code"
   },
   "source": "",
   "execution_count": null,
   "outputs": []
  },
  {
   "cell_type": "code",
   "metadata": {
    "cell_id": "00161-5f3f156c-f342-4ed4-90ec-a37247feafcb",
    "output_cleared": false,
    "tags": [],
    "deepnote_cell_type": "code"
   },
   "source": "",
   "execution_count": null,
   "outputs": []
  },
  {
   "cell_type": "code",
   "metadata": {
    "cell_id": "00162-627de6ec-e1c7-4450-ac69-be02f9cf04cb",
    "output_cleared": false,
    "tags": [],
    "deepnote_cell_type": "code"
   },
   "source": "",
   "execution_count": null,
   "outputs": []
  },
  {
   "cell_type": "code",
   "metadata": {
    "cell_id": "00163-3105158a-73cc-49f7-9fb5-700c82f1b8a5",
    "output_cleared": false,
    "tags": [],
    "deepnote_cell_type": "code"
   },
   "source": "",
   "execution_count": null,
   "outputs": []
  },
  {
   "cell_type": "markdown",
   "source": "<a style='text-decoration:none;line-height:16px;display:flex;color:#5B5B62;padding:10px;justify-content:end;' href='https://deepnote.com?utm_source=created-in-deepnote-cell&projectId=c9a4f701-31a5-4164-b3f3-c09cddf1309e' target=\"_blank\">\n<img alt='Created in deepnote.com' style='display:inline;max-height:16px;margin:0px;margin-right:7.5px;' src='data:image/svg+xml;base64,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' > </img>\nCreated in <span style='font-weight:600;margin-left:4px;'>Deepnote</span></a>",
   "metadata": {
    "tags": [],
    "created_in_deepnote_cell": true,
    "deepnote_cell_type": "markdown"
   }
  }
 ],
 "nbformat": 4,
 "nbformat_minor": 2,
 "metadata": {
  "deepnote_execution_queue": [],
  "deepnote_notebook_id": "16c6cd30-9176-4e32-ae78-4840a21ed02b",
  "kernelspec": {
   "display_name": "Python 3",
   "language": "python",
   "name": "python3"
  },
  "language_info": {
   "codemirror_mode": {
    "name": "ipython",
    "version": 3
   },
   "file_extension": ".py",
   "mimetype": "text/x-python",
   "name": "python",
   "nbconvert_exporter": "python",
   "pygments_lexer": "ipython3",
   "version": "3.7.4"
  },
  "deepnote": {}
 }
}