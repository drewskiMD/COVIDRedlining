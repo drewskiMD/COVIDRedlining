{
 "cells": [
  {
   "cell_type": "markdown",
   "source": "## Author: Meiteng",
   "metadata": {
    "tags": [],
    "cell_id": "00000-d71a1035-ba92-4fe0-90af-c70f96c696c9",
    "deepnote_cell_type": "markdown"
   }
  },
  {
   "cell_type": "markdown",
   "source": "### Spearman Correlation between Re-weighted Redlining Index and California Healthy Places Index (SF)",
   "metadata": {
    "output_cleared": false,
    "tags": [],
    "cell_id": "00000-38cb9268-2ce7-4496-82ea-b582d277899d",
    "deepnote_cell_type": "markdown"
   }
  },
  {
   "cell_type": "code",
   "metadata": {
    "cell_id": "00001-f20b3d4d-4116-4dde-9257-5b0eca2a32ab",
    "output_cleared": false,
    "deepnote_cell_type": "code"
   },
   "source": "#Loading needed libraries\nimport geopandas as gpd\nimport matplotlib.pyplot as plt\nimport pandas as pd",
   "execution_count": null,
   "outputs": []
  },
  {
   "cell_type": "code",
   "metadata": {
    "output_cleared": false,
    "tags": [],
    "cell_id": "00002-593dc153-21ec-4d1a-9809-8570093e3b5d",
    "deepnote_cell_type": "code"
   },
   "source": "#Reading the California Redline data prepared by the Akash\ncali_redline_data = gpd.read_file('./data/cali_redlined_numerical_values.geojson')\ncali_redline_data.head()",
   "execution_count": null,
   "outputs": [
    {
     "output_type": "execute_result",
     "execution_count": 2,
     "data": {
      "application/vnd.deepnote.dataframe.v2+json": {
       "error": "Traceback (most recent call last):\n  File \"/home/jovyan/.deepnote/variable_explorer.py\", line 270, in dataframe_formatter\n    return { MIME_TYPE: describe_pd_dataframe(df) }\n  File \"/home/jovyan/.deepnote/variable_explorer_helpers.py\", line 126, in describe_pd_dataframe\n    if (is_type_numeric(column.dtype)):\n  File \"/home/jovyan/.deepnote/variable_explorer_helpers.py\", line 11, in is_type_numeric\n    return np.issubdtype(dtype, np.number)\n  File \"/opt/venv/lib/python3.7/site-packages/numpy/core/numerictypes.py\", line 388, in issubdtype\n    arg1 = dtype(arg1).type\nTypeError: Cannot interpret '<geopandas.array.GeometryDtype object at 0x7fc61e041240>' as a data type\n"
      },
      "text/plain": "  STATEFP COUNTYFP TRACTCE         GEOID     NAME              NAMELSAD  \\\n0      06      037  139301  6.037139e+09  1393.01  Census Tract 1393.01   \n1      06      037  139302  6.037139e+09  1393.02  Census Tract 1393.02   \n2      06      037  139502  6.037140e+09  1395.02  Census Tract 1395.02   \n3      06      037  139600  6.037140e+09     1396     Census Tract 1396   \n4      06      037  139701  6.037140e+09  1397.01  Census Tract 1397.01   \n\n   MTFCC FUNCSTAT    ALAND  AWATER     INTPTLAT      INTPTLON  \\\n0  G5020        S  2865657       0  +34.1781538  -118.5581265   \n1  G5020        S   338289       0  +34.1767230  -118.5383655   \n2  G5020        S  1047548       0  +34.1628402  -118.5263110   \n3  G5020        S  2477482       0  +34.1640599  -118.5101001   \n4  G5020        S  3396396    2411  +34.1574290  -118.4954117   \n\n   reweighted_redline_index  ordinal_value  \\\n0                       NaN            NaN   \n1                       NaN            NaN   \n2                       NaN            NaN   \n3                       NaN            NaN   \n4                       NaN            NaN   \n\n                                            geometry  \n0  POLYGON ((-118.57150 34.17758, -118.57148 34.1...  \n1  POLYGON ((-118.54073 34.18019, -118.54070 34.1...  \n2  POLYGON ((-118.53225 34.16201, -118.53177 34.1...  \n3  POLYGON ((-118.51858 34.15858, -118.51858 34.1...  \n4  POLYGON ((-118.50980 34.15691, -118.50848 34.1...  ",
      "text/html": "<div>\n<style scoped>\n    .dataframe tbody tr th:only-of-type {\n        vertical-align: middle;\n    }\n\n    .dataframe tbody tr th {\n        vertical-align: top;\n    }\n\n    .dataframe thead th {\n        text-align: right;\n    }\n</style>\n<table border=\"1\" class=\"dataframe\">\n  <thead>\n    <tr style=\"text-align: right;\">\n      <th></th>\n      <th>STATEFP</th>\n      <th>COUNTYFP</th>\n      <th>TRACTCE</th>\n      <th>GEOID</th>\n      <th>NAME</th>\n      <th>NAMELSAD</th>\n      <th>MTFCC</th>\n      <th>FUNCSTAT</th>\n      <th>ALAND</th>\n      <th>AWATER</th>\n      <th>INTPTLAT</th>\n      <th>INTPTLON</th>\n      <th>reweighted_redline_index</th>\n      <th>ordinal_value</th>\n      <th>geometry</th>\n    </tr>\n  </thead>\n  <tbody>\n    <tr>\n      <th>0</th>\n      <td>06</td>\n      <td>037</td>\n      <td>139301</td>\n      <td>6.037139e+09</td>\n      <td>1393.01</td>\n      <td>Census Tract 1393.01</td>\n      <td>G5020</td>\n      <td>S</td>\n      <td>2865657</td>\n      <td>0</td>\n      <td>+34.1781538</td>\n      <td>-118.5581265</td>\n      <td>NaN</td>\n      <td>NaN</td>\n      <td>POLYGON ((-118.57150 34.17758, -118.57148 34.1...</td>\n    </tr>\n    <tr>\n      <th>1</th>\n      <td>06</td>\n      <td>037</td>\n      <td>139302</td>\n      <td>6.037139e+09</td>\n      <td>1393.02</td>\n      <td>Census Tract 1393.02</td>\n      <td>G5020</td>\n      <td>S</td>\n      <td>338289</td>\n      <td>0</td>\n      <td>+34.1767230</td>\n      <td>-118.5383655</td>\n      <td>NaN</td>\n      <td>NaN</td>\n      <td>POLYGON ((-118.54073 34.18019, -118.54070 34.1...</td>\n    </tr>\n    <tr>\n      <th>2</th>\n      <td>06</td>\n      <td>037</td>\n      <td>139502</td>\n      <td>6.037140e+09</td>\n      <td>1395.02</td>\n      <td>Census Tract 1395.02</td>\n      <td>G5020</td>\n      <td>S</td>\n      <td>1047548</td>\n      <td>0</td>\n      <td>+34.1628402</td>\n      <td>-118.5263110</td>\n      <td>NaN</td>\n      <td>NaN</td>\n      <td>POLYGON ((-118.53225 34.16201, -118.53177 34.1...</td>\n    </tr>\n    <tr>\n      <th>3</th>\n      <td>06</td>\n      <td>037</td>\n      <td>139600</td>\n      <td>6.037140e+09</td>\n      <td>1396</td>\n      <td>Census Tract 1396</td>\n      <td>G5020</td>\n      <td>S</td>\n      <td>2477482</td>\n      <td>0</td>\n      <td>+34.1640599</td>\n      <td>-118.5101001</td>\n      <td>NaN</td>\n      <td>NaN</td>\n      <td>POLYGON ((-118.51858 34.15858, -118.51858 34.1...</td>\n    </tr>\n    <tr>\n      <th>4</th>\n      <td>06</td>\n      <td>037</td>\n      <td>139701</td>\n      <td>6.037140e+09</td>\n      <td>1397.01</td>\n      <td>Census Tract 1397.01</td>\n      <td>G5020</td>\n      <td>S</td>\n      <td>3396396</td>\n      <td>2411</td>\n      <td>+34.1574290</td>\n      <td>-118.4954117</td>\n      <td>NaN</td>\n      <td>NaN</td>\n      <td>POLYGON ((-118.50980 34.15691, -118.50848 34.1...</td>\n    </tr>\n  </tbody>\n</table>\n</div>"
     },
     "metadata": {}
    }
   ]
  },
  {
   "cell_type": "code",
   "metadata": {
    "output_cleared": false,
    "tags": [],
    "cell_id": "00003-ffec0a30-eed6-4052-9542-b30f1566dcb5",
    "deepnote_cell_type": "code"
   },
   "source": "#Reading the HPI csv file downloaded from California Healthy Places Index website\nHPI_data = pd.read_csv('./data/HPI.csv')\nHPI_data.head()",
   "execution_count": null,
   "outputs": [
    {
     "output_type": "execute_result",
     "execution_count": 3,
     "data": {
      "application/vnd.deepnote.dataframe.v2+json": {
       "row_count": 5,
       "column_count": 91,
       "columns": [
        {
         "name": "CensusTract",
         "dtype": "int64",
         "stats": {
          "unique_count": 5,
          "nan_count": 0,
          "min": 6001400100,
          "max": 6001400500,
          "histogram": [
           {
            "bin_start": 6001400100,
            "bin_end": 6001400140,
            "count": 1
           },
           {
            "bin_start": 6001400140,
            "bin_end": 6001400180,
            "count": 0
           },
           {
            "bin_start": 6001400180,
            "bin_end": 6001400220,
            "count": 1
           },
           {
            "bin_start": 6001400220,
            "bin_end": 6001400260,
            "count": 0
           },
           {
            "bin_start": 6001400260,
            "bin_end": 6001400300,
            "count": 0
           },
           {
            "bin_start": 6001400300,
            "bin_end": 6001400340,
            "count": 1
           },
           {
            "bin_start": 6001400340,
            "bin_end": 6001400380,
            "count": 0
           },
           {
            "bin_start": 6001400380,
            "bin_end": 6001400420,
            "count": 1
           },
           {
            "bin_start": 6001400420,
            "bin_end": 6001400460,
            "count": 0
           },
           {
            "bin_start": 6001400460,
            "bin_end": 6001400500,
            "count": 1
           }
          ]
         }
        },
        {
         "name": "pop2010",
         "dtype": "int64",
         "stats": {
          "unique_count": 5,
          "nan_count": 0,
          "min": 1974,
          "max": 4865,
          "histogram": [
           {
            "bin_start": 1974,
            "bin_end": 2263.1,
            "count": 1
           },
           {
            "bin_start": 2263.1,
            "bin_end": 2552.2,
            "count": 0
           },
           {
            "bin_start": 2552.2,
            "bin_end": 2841.3,
            "count": 0
           },
           {
            "bin_start": 2841.3,
            "bin_end": 3130.4,
            "count": 1
           },
           {
            "bin_start": 3130.4,
            "bin_end": 3419.5,
            "count": 0
           },
           {
            "bin_start": 3419.5,
            "bin_end": 3708.6000000000004,
            "count": 2
           },
           {
            "bin_start": 3708.6000000000004,
            "bin_end": 3997.7000000000003,
            "count": 0
           },
           {
            "bin_start": 3997.7000000000003,
            "bin_end": 4286.8,
            "count": 0
           },
           {
            "bin_start": 4286.8,
            "bin_end": 4575.9,
            "count": 0
           },
           {
            "bin_start": 4575.9,
            "bin_end": 4865,
            "count": 1
           }
          ]
         }
        },
        {
         "name": "pct2010gq",
         "dtype": "float64",
         "stats": {
          "unique_count": 5,
          "nan_count": 0,
          "min": 0.1,
          "max": 3.6,
          "histogram": [
           {
            "bin_start": 0.1,
            "bin_end": 0.44999999999999996,
            "count": 1
           },
           {
            "bin_start": 0.44999999999999996,
            "bin_end": 0.7999999999999999,
            "count": 0
           },
           {
            "bin_start": 0.7999999999999999,
            "bin_end": 1.15,
            "count": 2
           },
           {
            "bin_start": 1.15,
            "bin_end": 1.5,
            "count": 0
           },
           {
            "bin_start": 1.5,
            "bin_end": 1.85,
            "count": 0
           },
           {
            "bin_start": 1.85,
            "bin_end": 2.1999999999999997,
            "count": 0
           },
           {
            "bin_start": 2.1999999999999997,
            "bin_end": 2.55,
            "count": 0
           },
           {
            "bin_start": 2.55,
            "bin_end": 2.9,
            "count": 0
           },
           {
            "bin_start": 2.9,
            "bin_end": 3.25,
            "count": 0
           },
           {
            "bin_start": 3.25,
            "bin_end": 3.6,
            "count": 2
           }
          ]
         }
        },
        {
         "name": "City",
         "dtype": "object",
         "stats": {
          "unique_count": 1,
          "nan_count": 0,
          "categories": [
           {
            "name": "Oakland",
            "count": 5
           }
          ]
         }
        },
        {
         "name": "ZIP",
         "dtype": "float64",
         "stats": {
          "unique_count": 3,
          "nan_count": 0,
          "min": 94609,
          "max": 94704,
          "histogram": [
           {
            "bin_start": 94609,
            "bin_end": 94618.5,
            "count": 4
           },
           {
            "bin_start": 94618.5,
            "bin_end": 94628,
            "count": 0
           },
           {
            "bin_start": 94628,
            "bin_end": 94637.5,
            "count": 0
           },
           {
            "bin_start": 94637.5,
            "bin_end": 94647,
            "count": 0
           },
           {
            "bin_start": 94647,
            "bin_end": 94656.5,
            "count": 0
           },
           {
            "bin_start": 94656.5,
            "bin_end": 94666,
            "count": 0
           },
           {
            "bin_start": 94666,
            "bin_end": 94675.5,
            "count": 0
           },
           {
            "bin_start": 94675.5,
            "bin_end": 94685,
            "count": 0
           },
           {
            "bin_start": 94685,
            "bin_end": 94694.5,
            "count": 0
           },
           {
            "bin_start": 94694.5,
            "bin_end": 94704,
            "count": 1
           }
          ]
         }
        },
        {
         "name": "County_FIPS",
         "dtype": "int64",
         "stats": {
          "unique_count": 1,
          "nan_count": 0,
          "min": 6001,
          "max": 6001,
          "histogram": [
           {
            "bin_start": 6000.5,
            "bin_end": 6000.6,
            "count": 0
           },
           {
            "bin_start": 6000.6,
            "bin_end": 6000.7,
            "count": 0
           },
           {
            "bin_start": 6000.7,
            "bin_end": 6000.8,
            "count": 0
           },
           {
            "bin_start": 6000.8,
            "bin_end": 6000.9,
            "count": 0
           },
           {
            "bin_start": 6000.9,
            "bin_end": 6001,
            "count": 0
           },
           {
            "bin_start": 6001,
            "bin_end": 6001.1,
            "count": 5
           },
           {
            "bin_start": 6001.1,
            "bin_end": 6001.2,
            "count": 0
           },
           {
            "bin_start": 6001.2,
            "bin_end": 6001.3,
            "count": 0
           },
           {
            "bin_start": 6001.3,
            "bin_end": 6001.4,
            "count": 0
           },
           {
            "bin_start": 6001.4,
            "bin_end": 6001.5,
            "count": 0
           }
          ]
         }
        },
        {
         "name": "County_Name",
         "dtype": "object",
         "stats": {
          "unique_count": 1,
          "nan_count": 0,
          "categories": [
           {
            "name": "Alameda",
            "count": 5
           }
          ]
         }
        },
        {
         "name": "UrbanType",
         "dtype": "object",
         "stats": {
          "unique_count": 1,
          "nan_count": 0,
          "categories": [
           {
            "name": "urban_area",
            "count": 5
           }
          ]
         }
        },
        {
         "name": "hpi2score",
         "dtype": "float64",
         "stats": {
          "unique_count": 5,
          "nan_count": 0,
          "min": 0.56279906,
          "max": 1.325873799,
          "histogram": [
           {
            "bin_start": 0.56279906,
            "bin_end": 0.6391065339,
            "count": 1
           },
           {
            "bin_start": 0.6391065339,
            "bin_end": 0.7154140078,
            "count": 0
           },
           {
            "bin_start": 0.7154140078,
            "bin_end": 0.7917214817,
            "count": 0
           },
           {
            "bin_start": 0.7917214817,
            "bin_end": 0.8680289556,
            "count": 0
           },
           {
            "bin_start": 0.8680289556,
            "bin_end": 0.9443364295000001,
            "count": 1
           },
           {
            "bin_start": 0.9443364295000001,
            "bin_end": 1.0206439034,
            "count": 0
           },
           {
            "bin_start": 1.0206439034,
            "bin_end": 1.0969513773,
            "count": 0
           },
           {
            "bin_start": 1.0969513773,
            "bin_end": 1.1732588512,
            "count": 1
           },
           {
            "bin_start": 1.1732588512,
            "bin_end": 1.2495663251,
            "count": 1
           },
           {
            "bin_start": 1.2495663251,
            "bin_end": 1.325873799,
            "count": 1
           }
          ]
         }
        },
        {
         "name": "hpi2_pctile_pos",
         "dtype": "float64",
         "stats": {
          "unique_count": 5,
          "nan_count": 0,
          "min": 83.31836263,
          "max": 99.70486334,
          "histogram": [
           {
            "bin_start": 83.31836263,
            "bin_end": 84.957012701,
            "count": 1
           },
           {
            "bin_start": 84.957012701,
            "bin_end": 86.595662772,
            "count": 0
           },
           {
            "bin_start": 86.595662772,
            "bin_end": 88.234312843,
            "count": 0
           },
           {
            "bin_start": 88.234312843,
            "bin_end": 89.872962914,
            "count": 0
           },
           {
            "bin_start": 89.872962914,
            "bin_end": 91.511612985,
            "count": 0
           },
           {
            "bin_start": 91.511612985,
            "bin_end": 93.150263056,
            "count": 0
           },
           {
            "bin_start": 93.150263056,
            "bin_end": 94.788913127,
            "count": 0
           },
           {
            "bin_start": 94.788913127,
            "bin_end": 96.427563198,
            "count": 1
           },
           {
            "bin_start": 96.427563198,
            "bin_end": 98.066213269,
            "count": 0
           },
           {
            "bin_start": 98.066213269,
            "bin_end": 99.70486334,
            "count": 3
           }
          ]
         }
        },
        {
         "name": "hpi2_pctile_neg",
         "dtype": "float64",
         "stats": {
          "unique_count": 5,
          "nan_count": 0,
          "min": 0.295136661,
          "max": 16.68163737,
          "histogram": [
           {
            "bin_start": 0.295136661,
            "bin_end": 1.9337867319000002,
            "count": 3
           },
           {
            "bin_start": 1.9337867319000002,
            "bin_end": 3.5724368028,
            "count": 0
           },
           {
            "bin_start": 3.5724368028,
            "bin_end": 5.2110868737,
            "count": 1
           },
           {
            "bin_start": 5.2110868737,
            "bin_end": 6.8497369446,
            "count": 0
           },
           {
            "bin_start": 6.8497369446,
            "bin_end": 8.4883870155,
            "count": 0
           },
           {
            "bin_start": 8.4883870155,
            "bin_end": 10.127037086400001,
            "count": 0
           },
           {
            "bin_start": 10.127037086400001,
            "bin_end": 11.7656871573,
            "count": 0
           },
           {
            "bin_start": 11.7656871573,
            "bin_end": 13.404337228200001,
            "count": 0
           },
           {
            "bin_start": 13.404337228200001,
            "bin_end": 15.042987299100002,
            "count": 0
           },
           {
            "bin_start": 15.042987299100002,
            "bin_end": 16.68163737,
            "count": 1
           }
          ]
         }
        },
        {
         "name": "hpi_top25pct",
         "dtype": "object",
         "stats": {
          "unique_count": 1,
          "nan_count": 0,
          "categories": [
           {
            "name": "Yes",
            "count": 5
           }
          ]
         }
        },
        {
         "name": "quintiles",
         "dtype": "float64",
         "stats": {
          "unique_count": 1,
          "nan_count": 0,
          "min": 1,
          "max": 1,
          "histogram": [
           {
            "bin_start": 0.5,
            "bin_end": 0.6,
            "count": 0
           },
           {
            "bin_start": 0.6,
            "bin_end": 0.7,
            "count": 0
           },
           {
            "bin_start": 0.7,
            "bin_end": 0.8,
            "count": 0
           },
           {
            "bin_start": 0.8,
            "bin_end": 0.9,
            "count": 0
           },
           {
            "bin_start": 0.9,
            "bin_end": 1,
            "count": 0
           },
           {
            "bin_start": 1,
            "bin_end": 1.1,
            "count": 5
           },
           {
            "bin_start": 1.1,
            "bin_end": 1.2000000000000002,
            "count": 0
           },
           {
            "bin_start": 1.2000000000000002,
            "bin_end": 1.3,
            "count": 0
           },
           {
            "bin_start": 1.3,
            "bin_end": 1.4,
            "count": 0
           },
           {
            "bin_start": 1.4,
            "bin_end": 1.5,
            "count": 0
           }
          ]
         }
        },
        {
         "name": "quartiles",
         "dtype": "float64",
         "stats": {
          "unique_count": 1,
          "nan_count": 0,
          "min": 1,
          "max": 1,
          "histogram": [
           {
            "bin_start": 0.5,
            "bin_end": 0.6,
            "count": 0
           },
           {
            "bin_start": 0.6,
            "bin_end": 0.7,
            "count": 0
           },
           {
            "bin_start": 0.7,
            "bin_end": 0.8,
            "count": 0
           },
           {
            "bin_start": 0.8,
            "bin_end": 0.9,
            "count": 0
           },
           {
            "bin_start": 0.9,
            "bin_end": 1,
            "count": 0
           },
           {
            "bin_start": 1,
            "bin_end": 1.1,
            "count": 5
           },
           {
            "bin_start": 1.1,
            "bin_end": 1.2000000000000002,
            "count": 0
           },
           {
            "bin_start": 1.2000000000000002,
            "bin_end": 1.3,
            "count": 0
           },
           {
            "bin_start": 1.3,
            "bin_end": 1.4,
            "count": 0
           },
           {
            "bin_start": 1.4,
            "bin_end": 1.5,
            "count": 0
           }
          ]
         }
        },
        {
         "name": "economic",
         "dtype": "float64",
         "stats": {
          "unique_count": 5,
          "nan_count": 0,
          "min": 0.577803305,
          "max": 1.808760851,
          "histogram": [
           {
            "bin_start": 0.577803305,
            "bin_end": 0.7008990596,
            "count": 1
           },
           {
            "bin_start": 0.7008990596,
            "bin_end": 0.8239948142,
            "count": 0
           },
           {
            "bin_start": 0.8239948142,
            "bin_end": 0.9470905688,
            "count": 0
           },
           {
            "bin_start": 0.9470905688,
            "bin_end": 1.0701863234,
            "count": 1
           },
           {
            "bin_start": 1.0701863234,
            "bin_end": 1.193282078,
            "count": 0
           },
           {
            "bin_start": 1.193282078,
            "bin_end": 1.3163778326,
            "count": 1
           },
           {
            "bin_start": 1.3163778326,
            "bin_end": 1.4394735872,
            "count": 0
           },
           {
            "bin_start": 1.4394735872,
            "bin_end": 1.5625693418,
            "count": 0
           },
           {
            "bin_start": 1.5625693418,
            "bin_end": 1.6856650964,
            "count": 0
           },
           {
            "bin_start": 1.6856650964,
            "bin_end": 1.808760851,
            "count": 2
           }
          ]
         }
        },
        {
         "name": "economic_pctile",
         "dtype": "float64",
         "stats": {
          "unique_count": 5,
          "nan_count": 0,
          "min": 71.85936096,
          "max": 99.03759784,
          "histogram": [
           {
            "bin_start": 71.85936096,
            "bin_end": 74.577184648,
            "count": 1
           },
           {
            "bin_start": 74.577184648,
            "bin_end": 77.29500833600001,
            "count": 0
           },
           {
            "bin_start": 77.29500833600001,
            "bin_end": 80.012832024,
            "count": 0
           },
           {
            "bin_start": 80.012832024,
            "bin_end": 82.730655712,
            "count": 0
           },
           {
            "bin_start": 82.730655712,
            "bin_end": 85.4484794,
            "count": 0
           },
           {
            "bin_start": 85.4484794,
            "bin_end": 88.166303088,
            "count": 1
           },
           {
            "bin_start": 88.166303088,
            "bin_end": 90.884126776,
            "count": 0
           },
           {
            "bin_start": 90.884126776,
            "bin_end": 93.601950464,
            "count": 0
           },
           {
            "bin_start": 93.601950464,
            "bin_end": 96.31977415200001,
            "count": 1
           },
           {
            "bin_start": 96.31977415200001,
            "bin_end": 99.03759784,
            "count": 2
           }
          ]
         }
        },
        {
         "name": "education",
         "dtype": "float64",
         "stats": {
          "unique_count": 5,
          "nan_count": 0,
          "min": 0.486144516,
          "max": 1.348314049,
          "histogram": [
           {
            "bin_start": 0.486144516,
            "bin_end": 0.5723614693000001,
            "count": 1
           },
           {
            "bin_start": 0.5723614693000001,
            "bin_end": 0.6585784226,
            "count": 0
           },
           {
            "bin_start": 0.6585784226,
            "bin_end": 0.7447953759000001,
            "count": 0
           },
           {
            "bin_start": 0.7447953759000001,
            "bin_end": 0.8310123292,
            "count": 0
           },
           {
            "bin_start": 0.8310123292,
            "bin_end": 0.9172292825000001,
            "count": 0
           },
           {
            "bin_start": 0.9172292825000001,
            "bin_end": 1.0034462358,
            "count": 2
           },
           {
            "bin_start": 1.0034462358,
            "bin_end": 1.0896631891000002,
            "count": 0
           },
           {
            "bin_start": 1.0896631891000002,
            "bin_end": 1.1758801424,
            "count": 1
           },
           {
            "bin_start": 1.1758801424,
            "bin_end": 1.2620970957000002,
            "count": 0
           },
           {
            "bin_start": 1.2620970957000002,
            "bin_end": 1.348314049,
            "count": 1
           }
          ]
         }
        },
        {
         "name": "education_pctile",
         "dtype": "float64",
         "stats": {
          "unique_count": 5,
          "nan_count": 0,
          "min": 75.37533684,
          "max": 98.16501989,
          "histogram": [
           {
            "bin_start": 75.37533684,
            "bin_end": 77.654305145,
            "count": 1
           },
           {
            "bin_start": 77.654305145,
            "bin_end": 79.93327345,
            "count": 0
           },
           {
            "bin_start": 79.93327345,
            "bin_end": 82.21224175500001,
            "count": 0
           },
           {
            "bin_start": 82.21224175500001,
            "bin_end": 84.49121006,
            "count": 0
           },
           {
            "bin_start": 84.49121006,
            "bin_end": 86.77017836499999,
            "count": 0
           },
           {
            "bin_start": 86.77017836499999,
            "bin_end": 89.04914667,
            "count": 0
           },
           {
            "bin_start": 89.04914667,
            "bin_end": 91.328114975,
            "count": 2
           },
           {
            "bin_start": 91.328114975,
            "bin_end": 93.60708328,
            "count": 0
           },
           {
            "bin_start": 93.60708328,
            "bin_end": 95.88605158499999,
            "count": 1
           },
           {
            "bin_start": 95.88605158499999,
            "bin_end": 98.16501989,
            "count": 1
           }
          ]
         }
        },
        {
         "name": "housing",
         "dtype": "float64",
         "stats": {
          "unique_count": 5,
          "nan_count": 0,
          "min": 0.029925628,
          "max": 0.9597282540000001,
          "histogram": [
           {
            "bin_start": 0.029925628,
            "bin_end": 0.1229058906,
            "count": 1
           },
           {
            "bin_start": 0.1229058906,
            "bin_end": 0.2158861532,
            "count": 0
           },
           {
            "bin_start": 0.2158861532,
            "bin_end": 0.30886641579999996,
            "count": 0
           },
           {
            "bin_start": 0.30886641579999996,
            "bin_end": 0.4018466784,
            "count": 1
           },
           {
            "bin_start": 0.4018466784,
            "bin_end": 0.494826941,
            "count": 0
           },
           {
            "bin_start": 0.494826941,
            "bin_end": 0.5878072035999999,
            "count": 0
           },
           {
            "bin_start": 0.5878072035999999,
            "bin_end": 0.6807874662,
            "count": 1
           },
           {
            "bin_start": 0.6807874662,
            "bin_end": 0.7737677288,
            "count": 1
           },
           {
            "bin_start": 0.7737677288,
            "bin_end": 0.8667479914,
            "count": 0
           },
           {
            "bin_start": 0.8667479914,
            "bin_end": 0.9597282540000001,
            "count": 1
           }
          ]
         }
        },
        {
         "name": "housing_pctile",
         "dtype": "float64",
         "stats": {
          "unique_count": 5,
          "nan_count": 0,
          "min": 45.95149493,
          "max": 96.8304889,
          "histogram": [
           {
            "bin_start": 45.95149493,
            "bin_end": 51.039394327000004,
            "count": 1
           },
           {
            "bin_start": 51.039394327000004,
            "bin_end": 56.127293724000005,
            "count": 0
           },
           {
            "bin_start": 56.127293724000005,
            "bin_end": 61.215193121,
            "count": 0
           },
           {
            "bin_start": 61.215193121,
            "bin_end": 66.303092518,
            "count": 0
           },
           {
            "bin_start": 66.303092518,
            "bin_end": 71.390991915,
            "count": 1
           },
           {
            "bin_start": 71.390991915,
            "bin_end": 76.478891312,
            "count": 0
           },
           {
            "bin_start": 76.478891312,
            "bin_end": 81.566790709,
            "count": 0
           },
           {
            "bin_start": 81.566790709,
            "bin_end": 86.654690106,
            "count": 1
           },
           {
            "bin_start": 86.654690106,
            "bin_end": 91.742589503,
            "count": 1
           },
           {
            "bin_start": 91.742589503,
            "bin_end": 96.8304889,
            "count": 1
           }
          ]
         }
        },
        {
         "name": "healthcareaccess",
         "dtype": "float64",
         "stats": {
          "unique_count": 5,
          "nan_count": 0,
          "min": 0.485643275,
          "max": 1.301728974,
          "histogram": [
           {
            "bin_start": 0.485643275,
            "bin_end": 0.5672518449,
            "count": 1
           },
           {
            "bin_start": 0.5672518449,
            "bin_end": 0.6488604148,
            "count": 0
           },
           {
            "bin_start": 0.6488604148,
            "bin_end": 0.7304689847,
            "count": 0
           },
           {
            "bin_start": 0.7304689847,
            "bin_end": 0.8120775546000001,
            "count": 0
           },
           {
            "bin_start": 0.8120775546000001,
            "bin_end": 0.8936861245000001,
            "count": 0
           },
           {
            "bin_start": 0.8936861245000001,
            "bin_end": 0.9752946944,
            "count": 0
           },
           {
            "bin_start": 0.9752946944,
            "bin_end": 1.0569032643,
            "count": 1
           },
           {
            "bin_start": 1.0569032643,
            "bin_end": 1.1385118342,
            "count": 0
           },
           {
            "bin_start": 1.1385118342,
            "bin_end": 1.2201204041,
            "count": 0
           },
           {
            "bin_start": 1.2201204041,
            "bin_end": 1.301728974,
            "count": 3
           }
          ]
         }
        },
        {
         "name": "healthcareaccess_pctile",
         "dtype": "float64",
         "stats": {
          "unique_count": 5,
          "nan_count": 0,
          "min": 62.95393302,
          "max": 94.43089953,
          "histogram": [
           {
            "bin_start": 62.95393302,
            "bin_end": 66.101629671,
            "count": 1
           },
           {
            "bin_start": 66.101629671,
            "bin_end": 69.249326322,
            "count": 0
           },
           {
            "bin_start": 69.249326322,
            "bin_end": 72.397022973,
            "count": 0
           },
           {
            "bin_start": 72.397022973,
            "bin_end": 75.54471962400001,
            "count": 0
           },
           {
            "bin_start": 75.54471962400001,
            "bin_end": 78.692416275,
            "count": 0
           },
           {
            "bin_start": 78.692416275,
            "bin_end": 81.840112926,
            "count": 0
           },
           {
            "bin_start": 81.840112926,
            "bin_end": 84.98780957700001,
            "count": 1
           },
           {
            "bin_start": 84.98780957700001,
            "bin_end": 88.135506228,
            "count": 0
           },
           {
            "bin_start": 88.135506228,
            "bin_end": 91.283202879,
            "count": 0
           },
           {
            "bin_start": 91.283202879,
            "bin_end": 94.43089953,
            "count": 3
           }
          ]
         }
        },
        {
         "name": "neighborhood",
         "dtype": "float64",
         "stats": {
          "unique_count": 5,
          "nan_count": 0,
          "min": -0.291977182,
          "max": 0.832169913,
          "histogram": [
           {
            "bin_start": -0.291977182,
            "bin_end": -0.1795624725,
            "count": 1
           },
           {
            "bin_start": -0.1795624725,
            "bin_end": -0.06714776299999997,
            "count": 1
           },
           {
            "bin_start": -0.06714776299999997,
            "bin_end": 0.04526694650000007,
            "count": 0
           },
           {
            "bin_start": 0.04526694650000007,
            "bin_end": 0.15768165600000006,
            "count": 1
           },
           {
            "bin_start": 0.15768165600000006,
            "bin_end": 0.27009636550000005,
            "count": 0
           },
           {
            "bin_start": 0.27009636550000005,
            "bin_end": 0.38251107500000014,
            "count": 0
           },
           {
            "bin_start": 0.38251107500000014,
            "bin_end": 0.49492578450000013,
            "count": 0
           },
           {
            "bin_start": 0.49492578450000013,
            "bin_end": 0.6073404940000001,
            "count": 1
           },
           {
            "bin_start": 0.6073404940000001,
            "bin_end": 0.7197552035000002,
            "count": 0
           },
           {
            "bin_start": 0.7197552035000002,
            "bin_end": 0.832169913,
            "count": 1
           }
          ]
         }
        },
        {
         "name": "neighborhood_pctile",
         "dtype": "float64",
         "stats": {
          "unique_count": 5,
          "nan_count": 0,
          "min": 19.94097267,
          "max": 98.39599641,
          "histogram": [
           {
            "bin_start": 19.94097267,
            "bin_end": 27.786475044,
            "count": 1
           },
           {
            "bin_start": 27.786475044,
            "bin_end": 35.631977418000005,
            "count": 1
           },
           {
            "bin_start": 35.631977418000005,
            "bin_end": 43.477479792000004,
            "count": 0
           },
           {
            "bin_start": 43.477479792000004,
            "bin_end": 51.322982166,
            "count": 0
           },
           {
            "bin_start": 51.322982166,
            "bin_end": 59.16848454,
            "count": 1
           },
           {
            "bin_start": 59.16848454,
            "bin_end": 67.01398691400001,
            "count": 0
           },
           {
            "bin_start": 67.01398691400001,
            "bin_end": 74.859489288,
            "count": 0
           },
           {
            "bin_start": 74.859489288,
            "bin_end": 82.704991662,
            "count": 0
           },
           {
            "bin_start": 82.704991662,
            "bin_end": 90.550494036,
            "count": 0
           },
           {
            "bin_start": 90.550494036,
            "bin_end": 98.39599641,
            "count": 2
           }
          ]
         }
        },
        {
         "name": "pollution",
         "dtype": "float64",
         "stats": {
          "unique_count": 2,
          "nan_count": 0,
          "min": 0.6572610560000001,
          "max": 0.878124826,
          "histogram": [
           {
            "bin_start": 0.6572610560000001,
            "bin_end": 0.679347433,
            "count": 4
           },
           {
            "bin_start": 0.679347433,
            "bin_end": 0.70143381,
            "count": 0
           },
           {
            "bin_start": 0.70143381,
            "bin_end": 0.7235201870000001,
            "count": 0
           },
           {
            "bin_start": 0.7235201870000001,
            "bin_end": 0.745606564,
            "count": 0
           },
           {
            "bin_start": 0.745606564,
            "bin_end": 0.767692941,
            "count": 0
           },
           {
            "bin_start": 0.767692941,
            "bin_end": 0.789779318,
            "count": 0
           },
           {
            "bin_start": 0.789779318,
            "bin_end": 0.811865695,
            "count": 0
           },
           {
            "bin_start": 0.811865695,
            "bin_end": 0.833952072,
            "count": 0
           },
           {
            "bin_start": 0.833952072,
            "bin_end": 0.8560384489999999,
            "count": 0
           },
           {
            "bin_start": 0.8560384489999999,
            "bin_end": 0.878124826,
            "count": 1
           }
          ]
         }
        },
        {
         "name": "pollution_pctile",
         "dtype": "float64",
         "stats": {
          "unique_count": 2,
          "nan_count": 0,
          "min": 85.62812781,
          "max": 92.37777493,
          "histogram": [
           {
            "bin_start": 85.62812781,
            "bin_end": 86.303092522,
            "count": 4
           },
           {
            "bin_start": 86.303092522,
            "bin_end": 86.97805723399999,
            "count": 0
           },
           {
            "bin_start": 86.97805723399999,
            "bin_end": 87.653021946,
            "count": 0
           },
           {
            "bin_start": 87.653021946,
            "bin_end": 88.327986658,
            "count": 0
           },
           {
            "bin_start": 88.327986658,
            "bin_end": 89.00295137,
            "count": 0
           },
           {
            "bin_start": 89.00295137,
            "bin_end": 89.677916082,
            "count": 0
           },
           {
            "bin_start": 89.677916082,
            "bin_end": 90.352880794,
            "count": 0
           },
           {
            "bin_start": 90.352880794,
            "bin_end": 91.027845506,
            "count": 0
           },
           {
            "bin_start": 91.027845506,
            "bin_end": 91.702810218,
            "count": 0
           },
           {
            "bin_start": 91.702810218,
            "bin_end": 92.37777493,
            "count": 1
           }
          ]
         }
        },
        {
         "name": "transportation",
         "dtype": "float64",
         "stats": {
          "unique_count": 5,
          "nan_count": 0,
          "min": 0.616855445,
          "max": 1.7566567069999999,
          "histogram": [
           {
            "bin_start": 0.616855445,
            "bin_end": 0.7308355712,
            "count": 1
           },
           {
            "bin_start": 0.7308355712,
            "bin_end": 0.8448156974,
            "count": 1
           },
           {
            "bin_start": 0.8448156974,
            "bin_end": 0.9587958235999999,
            "count": 1
           },
           {
            "bin_start": 0.9587958235999999,
            "bin_end": 1.0727759498,
            "count": 0
           },
           {
            "bin_start": 1.0727759498,
            "bin_end": 1.186756076,
            "count": 0
           },
           {
            "bin_start": 1.186756076,
            "bin_end": 1.3007362022,
            "count": 0
           },
           {
            "bin_start": 1.3007362022,
            "bin_end": 1.4147163284,
            "count": 0
           },
           {
            "bin_start": 1.4147163284,
            "bin_end": 1.5286964546,
            "count": 1
           },
           {
            "bin_start": 1.5286964546,
            "bin_end": 1.6426765808,
            "count": 0
           },
           {
            "bin_start": 1.6426765808,
            "bin_end": 1.7566567069999999,
            "count": 1
           }
          ]
         }
        },
        {
         "name": "transportation_pctile",
         "dtype": "float64",
         "stats": {
          "unique_count": 5,
          "nan_count": 0,
          "min": 95.22648531,
          "max": 99.91017579999999,
          "histogram": [
           {
            "bin_start": 95.22648531,
            "bin_end": 95.694854359,
            "count": 1
           },
           {
            "bin_start": 95.694854359,
            "bin_end": 96.163223408,
            "count": 0
           },
           {
            "bin_start": 96.163223408,
            "bin_end": 96.631592457,
            "count": 0
           },
           {
            "bin_start": 96.631592457,
            "bin_end": 97.099961506,
            "count": 0
           },
           {
            "bin_start": 97.099961506,
            "bin_end": 97.56833055499999,
            "count": 2
           },
           {
            "bin_start": 97.56833055499999,
            "bin_end": 98.03669960399999,
            "count": 0
           },
           {
            "bin_start": 98.03669960399999,
            "bin_end": 98.505068653,
            "count": 0
           },
           {
            "bin_start": 98.505068653,
            "bin_end": 98.973437702,
            "count": 0
           },
           {
            "bin_start": 98.973437702,
            "bin_end": 99.44180675099999,
            "count": 0
           },
           {
            "bin_start": 99.44180675099999,
            "bin_end": 99.91017579999999,
            "count": 2
           }
          ]
         }
        },
        {
         "name": "social",
         "dtype": "float64",
         "stats": {
          "unique_count": 5,
          "nan_count": 0,
          "min": 0.949500193,
          "max": 1.3366018640000001,
          "histogram": [
           {
            "bin_start": 0.949500193,
            "bin_end": 0.9882103601,
            "count": 1
           },
           {
            "bin_start": 0.9882103601,
            "bin_end": 1.0269205272,
            "count": 0
           },
           {
            "bin_start": 1.0269205272,
            "bin_end": 1.0656306943,
            "count": 0
           },
           {
            "bin_start": 1.0656306943,
            "bin_end": 1.1043408614,
            "count": 1
           },
           {
            "bin_start": 1.1043408614,
            "bin_end": 1.1430510285,
            "count": 0
           },
           {
            "bin_start": 1.1430510285,
            "bin_end": 1.1817611956,
            "count": 0
           },
           {
            "bin_start": 1.1817611956,
            "bin_end": 1.2204713627000001,
            "count": 0
           },
           {
            "bin_start": 1.2204713627000001,
            "bin_end": 1.2591815298000002,
            "count": 1
           },
           {
            "bin_start": 1.2591815298000002,
            "bin_end": 1.2978916969,
            "count": 1
           },
           {
            "bin_start": 1.2978916969,
            "bin_end": 1.3366018640000001,
            "count": 1
           }
          ]
         }
        },
        {
         "name": "social_pctile",
         "dtype": "float64",
         "stats": {
          "unique_count": 5,
          "nan_count": 0,
          "min": 86.82150648,
          "max": 96.88181702,
          "histogram": [
           {
            "bin_start": 86.82150648,
            "bin_end": 87.827537534,
            "count": 1
           },
           {
            "bin_start": 87.827537534,
            "bin_end": 88.83356858799999,
            "count": 0
           },
           {
            "bin_start": 88.83356858799999,
            "bin_end": 89.839599642,
            "count": 0
           },
           {
            "bin_start": 89.839599642,
            "bin_end": 90.845630696,
            "count": 0
           },
           {
            "bin_start": 90.845630696,
            "bin_end": 91.85166175,
            "count": 1
           },
           {
            "bin_start": 91.85166175,
            "bin_end": 92.857692804,
            "count": 0
           },
           {
            "bin_start": 92.857692804,
            "bin_end": 93.863723858,
            "count": 0
           },
           {
            "bin_start": 93.863723858,
            "bin_end": 94.869754912,
            "count": 1
           },
           {
            "bin_start": 94.869754912,
            "bin_end": 95.875785966,
            "count": 0
           },
           {
            "bin_start": 95.875785966,
            "bin_end": 96.88181702,
            "count": 2
           }
          ]
         }
        },
        {
         "name": "insured",
         "dtype": "float64",
         "stats": {
          "unique_count": 5,
          "nan_count": 0,
          "min": 85.3,
          "max": 95.2,
          "histogram": [
           {
            "bin_start": 85.3,
            "bin_end": 86.28999999999999,
            "count": 1
           },
           {
            "bin_start": 86.28999999999999,
            "bin_end": 87.28,
            "count": 0
           },
           {
            "bin_start": 87.28,
            "bin_end": 88.27,
            "count": 0
           },
           {
            "bin_start": 88.27,
            "bin_end": 89.26,
            "count": 0
           },
           {
            "bin_start": 89.26,
            "bin_end": 90.25,
            "count": 0
           },
           {
            "bin_start": 90.25,
            "bin_end": 91.24,
            "count": 0
           },
           {
            "bin_start": 91.24,
            "bin_end": 92.23,
            "count": 1
           },
           {
            "bin_start": 92.23,
            "bin_end": 93.22,
            "count": 0
           },
           {
            "bin_start": 93.22,
            "bin_end": 94.21000000000001,
            "count": 0
           },
           {
            "bin_start": 94.21000000000001,
            "bin_end": 95.2,
            "count": 3
           }
          ]
         }
        },
        {
         "name": "insured_pctile",
         "dtype": "float64",
         "stats": {
          "unique_count": 5,
          "nan_count": 0,
          "min": 62.95393302,
          "max": 94.43089953,
          "histogram": [
           {
            "bin_start": 62.95393302,
            "bin_end": 66.101629671,
            "count": 1
           },
           {
            "bin_start": 66.101629671,
            "bin_end": 69.249326322,
            "count": 0
           },
           {
            "bin_start": 69.249326322,
            "bin_end": 72.397022973,
            "count": 0
           },
           {
            "bin_start": 72.397022973,
            "bin_end": 75.54471962400001,
            "count": 0
           },
           {
            "bin_start": 75.54471962400001,
            "bin_end": 78.692416275,
            "count": 0
           },
           {
            "bin_start": 78.692416275,
            "bin_end": 81.840112926,
            "count": 0
           },
           {
            "bin_start": 81.840112926,
            "bin_end": 84.98780957700001,
            "count": 1
           },
           {
            "bin_start": 84.98780957700001,
            "bin_end": 88.135506228,
            "count": 0
           },
           {
            "bin_start": 88.135506228,
            "bin_end": 91.283202879,
            "count": 0
           },
           {
            "bin_start": 91.283202879,
            "bin_end": 94.43089953,
            "count": 3
           }
          ]
         }
        },
        {
         "name": "uncrowded",
         "dtype": "float64",
         "stats": {
          "unique_count": 4,
          "nan_count": 0,
          "min": 97.5,
          "max": 100,
          "histogram": [
           {
            "bin_start": 97.5,
            "bin_end": 97.75,
            "count": 1
           },
           {
            "bin_start": 97.75,
            "bin_end": 98,
            "count": 0
           },
           {
            "bin_start": 98,
            "bin_end": 98.25,
            "count": 0
           },
           {
            "bin_start": 98.25,
            "bin_end": 98.5,
            "count": 0
           },
           {
            "bin_start": 98.5,
            "bin_end": 98.75,
            "count": 0
           },
           {
            "bin_start": 98.75,
            "bin_end": 99,
            "count": 0
           },
           {
            "bin_start": 99,
            "bin_end": 99.25,
            "count": 1
           },
           {
            "bin_start": 99.25,
            "bin_end": 99.5,
            "count": 1
           },
           {
            "bin_start": 99.5,
            "bin_end": 99.75,
            "count": 0
           },
           {
            "bin_start": 99.75,
            "bin_end": 100,
            "count": 2
           }
          ]
         }
        },
        {
         "name": "uncrowded_pctile",
         "dtype": "float64",
         "stats": {
          "unique_count": 4,
          "nan_count": 0,
          "min": 71.88502502,
          "max": 96.93314513,
          "histogram": [
           {
            "bin_start": 71.88502502,
            "bin_end": 74.389837031,
            "count": 1
           },
           {
            "bin_start": 74.389837031,
            "bin_end": 76.894649042,
            "count": 0
           },
           {
            "bin_start": 76.894649042,
            "bin_end": 79.399461053,
            "count": 0
           },
           {
            "bin_start": 79.399461053,
            "bin_end": 81.904273064,
            "count": 0
           },
           {
            "bin_start": 81.904273064,
            "bin_end": 84.40908507500001,
            "count": 0
           },
           {
            "bin_start": 84.40908507500001,
            "bin_end": 86.91389708599999,
            "count": 0
           },
           {
            "bin_start": 86.91389708599999,
            "bin_end": 89.418709097,
            "count": 1
           },
           {
            "bin_start": 89.418709097,
            "bin_end": 91.923521108,
            "count": 1
           },
           {
            "bin_start": 91.923521108,
            "bin_end": 94.428333119,
            "count": 0
           },
           {
            "bin_start": 94.428333119,
            "bin_end": 96.93314513,
            "count": 2
           }
          ]
         }
        },
        {
         "name": "homeownership",
         "dtype": "float64",
         "stats": {
          "unique_count": 5,
          "nan_count": 0,
          "min": 36.3,
          "max": 85.5,
          "histogram": [
           {
            "bin_start": 36.3,
            "bin_end": 41.22,
            "count": 2
           },
           {
            "bin_start": 41.22,
            "bin_end": 46.14,
            "count": 1
           },
           {
            "bin_start": 46.14,
            "bin_end": 51.059999999999995,
            "count": 0
           },
           {
            "bin_start": 51.059999999999995,
            "bin_end": 55.98,
            "count": 0
           },
           {
            "bin_start": 55.98,
            "bin_end": 60.9,
            "count": 0
           },
           {
            "bin_start": 60.9,
            "bin_end": 65.82,
            "count": 1
           },
           {
            "bin_start": 65.82,
            "bin_end": 70.74,
            "count": 0
           },
           {
            "bin_start": 70.74,
            "bin_end": 75.66,
            "count": 0
           },
           {
            "bin_start": 75.66,
            "bin_end": 80.58,
            "count": 0
           },
           {
            "bin_start": 80.58,
            "bin_end": 85.5,
            "count": 1
           }
          ]
         }
        },
        {
         "name": "homeownership_pctile",
         "dtype": "float64",
         "stats": {
          "unique_count": 5,
          "nan_count": 0,
          "min": 24.61183113,
          "max": 92.00564609,
          "histogram": [
           {
            "bin_start": 24.61183113,
            "bin_end": 31.351212626,
            "count": 2
           },
           {
            "bin_start": 31.351212626,
            "bin_end": 38.090594122,
            "count": 1
           },
           {
            "bin_start": 38.090594122,
            "bin_end": 44.829975618,
            "count": 0
           },
           {
            "bin_start": 44.829975618,
            "bin_end": 51.569357114,
            "count": 0
           },
           {
            "bin_start": 51.569357114,
            "bin_end": 58.30873861,
            "count": 0
           },
           {
            "bin_start": 58.30873861,
            "bin_end": 65.048120106,
            "count": 1
           },
           {
            "bin_start": 65.048120106,
            "bin_end": 71.78750160199999,
            "count": 0
           },
           {
            "bin_start": 71.78750160199999,
            "bin_end": 78.526883098,
            "count": 0
           },
           {
            "bin_start": 78.526883098,
            "bin_end": 85.266264594,
            "count": 0
           },
           {
            "bin_start": 85.266264594,
            "bin_end": 92.00564609,
            "count": 1
           }
          ]
         }
        },
        {
         "name": "automobile",
         "dtype": "float64",
         "stats": {
          "unique_count": 5,
          "nan_count": 0,
          "min": 85.4,
          "max": 98.6,
          "histogram": [
           {
            "bin_start": 85.4,
            "bin_end": 86.72,
            "count": 2
           },
           {
            "bin_start": 86.72,
            "bin_end": 88.04,
            "count": 0
           },
           {
            "bin_start": 88.04,
            "bin_end": 89.36,
            "count": 0
           },
           {
            "bin_start": 89.36,
            "bin_end": 90.68,
            "count": 0
           },
           {
            "bin_start": 90.68,
            "bin_end": 92,
            "count": 0
           },
           {
            "bin_start": 92,
            "bin_end": 93.32,
            "count": 1
           },
           {
            "bin_start": 93.32,
            "bin_end": 94.64,
            "count": 1
           },
           {
            "bin_start": 94.64,
            "bin_end": 95.96,
            "count": 0
           },
           {
            "bin_start": 95.96,
            "bin_end": 97.28,
            "count": 0
           },
           {
            "bin_start": 97.28,
            "bin_end": 98.6,
            "count": 1
           }
          ]
         }
        },
        {
         "name": "automobile_pctile",
         "dtype": "float64",
         "stats": {
          "unique_count": 5,
          "nan_count": 0,
          "min": 13.93558322,
          "max": 87.47593995,
          "histogram": [
           {
            "bin_start": 13.93558322,
            "bin_end": 21.289618893,
            "count": 2
           },
           {
            "bin_start": 21.289618893,
            "bin_end": 28.643654566000002,
            "count": 0
           },
           {
            "bin_start": 28.643654566000002,
            "bin_end": 35.997690239,
            "count": 0
           },
           {
            "bin_start": 35.997690239,
            "bin_end": 43.351725912,
            "count": 1
           },
           {
            "bin_start": 43.351725912,
            "bin_end": 50.705761585,
            "count": 1
           },
           {
            "bin_start": 50.705761585,
            "bin_end": 58.059797258,
            "count": 0
           },
           {
            "bin_start": 58.059797258,
            "bin_end": 65.413832931,
            "count": 0
           },
           {
            "bin_start": 65.413832931,
            "bin_end": 72.767868604,
            "count": 0
           },
           {
            "bin_start": 72.767868604,
            "bin_end": 80.121904277,
            "count": 0
           },
           {
            "bin_start": 80.121904277,
            "bin_end": 87.47593995,
            "count": 1
           }
          ]
         }
        },
        {
         "name": "commute",
         "dtype": "float64",
         "stats": {
          "unique_count": 5,
          "nan_count": 0,
          "min": 15.28455285,
          "max": 49.72451791,
          "histogram": [
           {
            "bin_start": 15.28455285,
            "bin_end": 18.728549356000002,
            "count": 1
           },
           {
            "bin_start": 18.728549356000002,
            "bin_end": 22.172545862,
            "count": 0
           },
           {
            "bin_start": 22.172545862,
            "bin_end": 25.616542368,
            "count": 0
           },
           {
            "bin_start": 25.616542368,
            "bin_end": 29.060538874000002,
            "count": 0
           },
           {
            "bin_start": 29.060538874000002,
            "bin_end": 32.50453538000001,
            "count": 0
           },
           {
            "bin_start": 32.50453538000001,
            "bin_end": 35.948531886,
            "count": 0
           },
           {
            "bin_start": 35.948531886,
            "bin_end": 39.392528392,
            "count": 2
           },
           {
            "bin_start": 39.392528392,
            "bin_end": 42.83652489800001,
            "count": 1
           },
           {
            "bin_start": 42.83652489800001,
            "bin_end": 46.280521404000005,
            "count": 0
           },
           {
            "bin_start": 46.280521404000005,
            "bin_end": 49.72451791,
            "count": 1
           }
          ]
         }
        },
        {
         "name": "commute_pctile",
         "dtype": "float64",
         "stats": {
          "unique_count": 5,
          "nan_count": 0,
          "min": 82.88207366,
          "max": 98.01103554,
          "histogram": [
           {
            "bin_start": 82.88207366,
            "bin_end": 84.394969848,
            "count": 1
           },
           {
            "bin_start": 84.394969848,
            "bin_end": 85.907866036,
            "count": 0
           },
           {
            "bin_start": 85.907866036,
            "bin_end": 87.420762224,
            "count": 0
           },
           {
            "bin_start": 87.420762224,
            "bin_end": 88.933658412,
            "count": 0
           },
           {
            "bin_start": 88.933658412,
            "bin_end": 90.4465546,
            "count": 0
           },
           {
            "bin_start": 90.4465546,
            "bin_end": 91.959450788,
            "count": 0
           },
           {
            "bin_start": 91.959450788,
            "bin_end": 93.472346976,
            "count": 0
           },
           {
            "bin_start": 93.472346976,
            "bin_end": 94.985243164,
            "count": 0
           },
           {
            "bin_start": 94.985243164,
            "bin_end": 96.498139352,
            "count": 2
           },
           {
            "bin_start": 96.498139352,
            "bin_end": 98.01103554,
            "count": 2
           }
          ]
         }
        },
        {
         "name": "inpreschool",
         "dtype": "float64",
         "stats": {
          "unique_count": 5,
          "nan_count": 0,
          "min": 39.7,
          "max": 100,
          "histogram": [
           {
            "bin_start": 39.7,
            "bin_end": 45.730000000000004,
            "count": 1
           },
           {
            "bin_start": 45.730000000000004,
            "bin_end": 51.760000000000005,
            "count": 0
           },
           {
            "bin_start": 51.760000000000005,
            "bin_end": 57.79,
            "count": 1
           },
           {
            "bin_start": 57.79,
            "bin_end": 63.82,
            "count": 0
           },
           {
            "bin_start": 63.82,
            "bin_end": 69.85,
            "count": 1
           },
           {
            "bin_start": 69.85,
            "bin_end": 75.88,
            "count": 1
           },
           {
            "bin_start": 75.88,
            "bin_end": 81.91,
            "count": 0
           },
           {
            "bin_start": 81.91,
            "bin_end": 87.94,
            "count": 0
           },
           {
            "bin_start": 87.94,
            "bin_end": 93.97,
            "count": 0
           },
           {
            "bin_start": 93.97,
            "bin_end": 100,
            "count": 1
           }
          ]
         }
        },
        {
         "name": "inpreschool_pctile",
         "dtype": "float64",
         "stats": {
          "unique_count": 5,
          "nan_count": 0,
          "min": 34.55665341,
          "max": 95.71410240000002,
          "histogram": [
           {
            "bin_start": 34.55665341,
            "bin_end": 40.672398309,
            "count": 1
           },
           {
            "bin_start": 40.672398309,
            "bin_end": 46.78814320800001,
            "count": 0
           },
           {
            "bin_start": 46.78814320800001,
            "bin_end": 52.90388810700001,
            "count": 0
           },
           {
            "bin_start": 52.90388810700001,
            "bin_end": 59.01963300600001,
            "count": 1
           },
           {
            "bin_start": 59.01963300600001,
            "bin_end": 65.13537790500001,
            "count": 0
           },
           {
            "bin_start": 65.13537790500001,
            "bin_end": 71.251122804,
            "count": 1
           },
           {
            "bin_start": 71.251122804,
            "bin_end": 77.36686770300001,
            "count": 1
           },
           {
            "bin_start": 77.36686770300001,
            "bin_end": 83.48261260200002,
            "count": 0
           },
           {
            "bin_start": 83.48261260200002,
            "bin_end": 89.59835750100001,
            "count": 0
           },
           {
            "bin_start": 89.59835750100001,
            "bin_end": 95.71410240000002,
            "count": 1
           }
          ]
         }
        },
        {
         "name": "inhighschool",
         "dtype": "float64",
         "stats": {
          "unique_count": 2,
          "nan_count": 0,
          "min": 97.2,
          "max": 100,
          "histogram": [
           {
            "bin_start": 97.2,
            "bin_end": 97.48,
            "count": 1
           },
           {
            "bin_start": 97.48,
            "bin_end": 97.76,
            "count": 0
           },
           {
            "bin_start": 97.76,
            "bin_end": 98.04,
            "count": 0
           },
           {
            "bin_start": 98.04,
            "bin_end": 98.32000000000001,
            "count": 0
           },
           {
            "bin_start": 98.32000000000001,
            "bin_end": 98.6,
            "count": 0
           },
           {
            "bin_start": 98.6,
            "bin_end": 98.88,
            "count": 0
           },
           {
            "bin_start": 98.88,
            "bin_end": 99.16,
            "count": 0
           },
           {
            "bin_start": 99.16,
            "bin_end": 99.44,
            "count": 0
           },
           {
            "bin_start": 99.44,
            "bin_end": 99.72,
            "count": 0
           },
           {
            "bin_start": 99.72,
            "bin_end": 100,
            "count": 4
           }
          ]
         }
        },
        {
         "name": "inhighschool_pctile",
         "dtype": "float64",
         "stats": {
          "unique_count": 2,
          "nan_count": 0,
          "min": 22.276401899999996,
          "max": 100,
          "histogram": [
           {
            "bin_start": 22.276401899999996,
            "bin_end": 30.048761709999997,
            "count": 1
           },
           {
            "bin_start": 30.048761709999997,
            "bin_end": 37.82112152,
            "count": 0
           },
           {
            "bin_start": 37.82112152,
            "bin_end": 45.593481329999996,
            "count": 0
           },
           {
            "bin_start": 45.593481329999996,
            "bin_end": 53.36584114,
            "count": 0
           },
           {
            "bin_start": 53.36584114,
            "bin_end": 61.13820095,
            "count": 0
           },
           {
            "bin_start": 61.13820095,
            "bin_end": 68.91056076,
            "count": 0
           },
           {
            "bin_start": 68.91056076,
            "bin_end": 76.68292057,
            "count": 0
           },
           {
            "bin_start": 76.68292057,
            "bin_end": 84.45528038,
            "count": 0
           },
           {
            "bin_start": 84.45528038,
            "bin_end": 92.22764019,
            "count": 0
           },
           {
            "bin_start": 92.22764019,
            "bin_end": 100,
            "count": 4
           }
          ]
         }
        },
        {
         "name": "bachelorsed",
         "dtype": "float64",
         "stats": {
          "unique_count": 5,
          "nan_count": 0,
          "min": 61.9,
          "max": 82.9,
          "histogram": [
           {
            "bin_start": 61.9,
            "bin_end": 64,
            "count": 1
           },
           {
            "bin_start": 64,
            "bin_end": 66.1,
            "count": 0
           },
           {
            "bin_start": 66.1,
            "bin_end": 68.2,
            "count": 0
           },
           {
            "bin_start": 68.2,
            "bin_end": 70.3,
            "count": 1
           },
           {
            "bin_start": 70.3,
            "bin_end": 72.4,
            "count": 0
           },
           {
            "bin_start": 72.4,
            "bin_end": 74.5,
            "count": 0
           },
           {
            "bin_start": 74.5,
            "bin_end": 76.6,
            "count": 1
           },
           {
            "bin_start": 76.6,
            "bin_end": 78.7,
            "count": 0
           },
           {
            "bin_start": 78.7,
            "bin_end": 80.80000000000001,
            "count": 1
           },
           {
            "bin_start": 80.80000000000001,
            "bin_end": 82.9,
            "count": 1
           }
          ]
         }
        },
        {
         "name": "bachelorsed_pctile",
         "dtype": "float64",
         "stats": {
          "unique_count": 5,
          "nan_count": 0,
          "min": 90.01668164,
          "max": 99.44822276,
          "histogram": [
           {
            "bin_start": 90.01668164,
            "bin_end": 90.959835752,
            "count": 1
           },
           {
            "bin_start": 90.959835752,
            "bin_end": 91.902989864,
            "count": 0
           },
           {
            "bin_start": 91.902989864,
            "bin_end": 92.846143976,
            "count": 0
           },
           {
            "bin_start": 92.846143976,
            "bin_end": 93.789298088,
            "count": 0
           },
           {
            "bin_start": 93.789298088,
            "bin_end": 94.7324522,
            "count": 1
           },
           {
            "bin_start": 94.7324522,
            "bin_end": 95.675606312,
            "count": 0
           },
           {
            "bin_start": 95.675606312,
            "bin_end": 96.618760424,
            "count": 0
           },
           {
            "bin_start": 96.618760424,
            "bin_end": 97.56191453599999,
            "count": 1
           },
           {
            "bin_start": 97.56191453599999,
            "bin_end": 98.50506864799999,
            "count": 0
           },
           {
            "bin_start": 98.50506864799999,
            "bin_end": 99.44822276,
            "count": 2
           }
          ]
         }
        },
        {
         "name": "employed",
         "dtype": "float64",
         "stats": {
          "unique_count": 5,
          "nan_count": 0,
          "min": 73.7,
          "max": 85.6,
          "histogram": [
           {
            "bin_start": 73.7,
            "bin_end": 74.89,
            "count": 1
           },
           {
            "bin_start": 74.89,
            "bin_end": 76.08,
            "count": 0
           },
           {
            "bin_start": 76.08,
            "bin_end": 77.27,
            "count": 1
           },
           {
            "bin_start": 77.27,
            "bin_end": 78.46,
            "count": 0
           },
           {
            "bin_start": 78.46,
            "bin_end": 79.65,
            "count": 0
           },
           {
            "bin_start": 79.65,
            "bin_end": 80.84,
            "count": 0
           },
           {
            "bin_start": 80.84,
            "bin_end": 82.03,
            "count": 1
           },
           {
            "bin_start": 82.03,
            "bin_end": 83.22,
            "count": 0
           },
           {
            "bin_start": 83.22,
            "bin_end": 84.41,
            "count": 0
           },
           {
            "bin_start": 84.41,
            "bin_end": 85.6,
            "count": 2
           }
          ]
         }
        },
        {
         "name": "employed_pctile",
         "dtype": "float64",
         "stats": {
          "unique_count": 5,
          "nan_count": 0,
          "min": 68.92082638,
          "max": 99.17875016,
          "histogram": [
           {
            "bin_start": 68.92082638,
            "bin_end": 71.946618758,
            "count": 1
           },
           {
            "bin_start": 71.946618758,
            "bin_end": 74.97241113599999,
            "count": 0
           },
           {
            "bin_start": 74.97241113599999,
            "bin_end": 77.998203514,
            "count": 0
           },
           {
            "bin_start": 77.998203514,
            "bin_end": 81.023995892,
            "count": 0
           },
           {
            "bin_start": 81.023995892,
            "bin_end": 84.04978827,
            "count": 1
           },
           {
            "bin_start": 84.04978827,
            "bin_end": 87.075580648,
            "count": 0
           },
           {
            "bin_start": 87.075580648,
            "bin_end": 90.101373026,
            "count": 0
           },
           {
            "bin_start": 90.101373026,
            "bin_end": 93.12716540400001,
            "count": 0
           },
           {
            "bin_start": 93.12716540400001,
            "bin_end": 96.152957782,
            "count": 1
           },
           {
            "bin_start": 96.152957782,
            "bin_end": 99.17875016,
            "count": 2
           }
          ]
         }
        },
        {
         "name": "abovepoverty",
         "dtype": "float64",
         "stats": {
          "unique_count": 5,
          "nan_count": 0,
          "min": 74.88308116,
          "max": 92.37804878,
          "histogram": [
           {
            "bin_start": 74.88308116,
            "bin_end": 76.632577922,
            "count": 1
           },
           {
            "bin_start": 76.632577922,
            "bin_end": 78.382074684,
            "count": 0
           },
           {
            "bin_start": 78.382074684,
            "bin_end": 80.13157144600001,
            "count": 0
           },
           {
            "bin_start": 80.13157144600001,
            "bin_end": 81.881068208,
            "count": 0
           },
           {
            "bin_start": 81.881068208,
            "bin_end": 83.63056497,
            "count": 1
           },
           {
            "bin_start": 83.63056497,
            "bin_end": 85.380061732,
            "count": 0
           },
           {
            "bin_start": 85.380061732,
            "bin_end": 87.12955849400001,
            "count": 1
           },
           {
            "bin_start": 87.12955849400001,
            "bin_end": 88.879055256,
            "count": 1
           },
           {
            "bin_start": 88.879055256,
            "bin_end": 90.628552018,
            "count": 0
           },
           {
            "bin_start": 90.628552018,
            "bin_end": 92.37804878,
            "count": 1
           }
          ]
         }
        },
        {
         "name": "abovepoverty_pctile",
         "dtype": "float64",
         "stats": {
          "unique_count": 5,
          "nan_count": 0,
          "min": 63.5698704,
          "max": 96.44552804,
          "histogram": [
           {
            "bin_start": 63.5698704,
            "bin_end": 66.857436164,
            "count": 1
           },
           {
            "bin_start": 66.857436164,
            "bin_end": 70.145001928,
            "count": 0
           },
           {
            "bin_start": 70.145001928,
            "bin_end": 73.43256769199999,
            "count": 0
           },
           {
            "bin_start": 73.43256769199999,
            "bin_end": 76.720133456,
            "count": 0
           },
           {
            "bin_start": 76.720133456,
            "bin_end": 80.00769922,
            "count": 0
           },
           {
            "bin_start": 80.00769922,
            "bin_end": 83.295264984,
            "count": 1
           },
           {
            "bin_start": 83.295264984,
            "bin_end": 86.58283074799999,
            "count": 1
           },
           {
            "bin_start": 86.58283074799999,
            "bin_end": 89.870396512,
            "count": 0
           },
           {
            "bin_start": 89.870396512,
            "bin_end": 93.157962276,
            "count": 1
           },
           {
            "bin_start": 93.157962276,
            "bin_end": 96.44552804,
            "count": 1
           }
          ]
         }
        },
        {
         "name": "income",
         "dtype": "float64",
         "stats": {
          "unique_count": 5,
          "nan_count": 0,
          "min": 76038,
          "max": 174113,
          "histogram": [
           {
            "bin_start": 76038,
            "bin_end": 85845.5,
            "count": 2
           },
           {
            "bin_start": 85845.5,
            "bin_end": 95653,
            "count": 0
           },
           {
            "bin_start": 95653,
            "bin_end": 105460.5,
            "count": 1
           },
           {
            "bin_start": 105460.5,
            "bin_end": 115268,
            "count": 0
           },
           {
            "bin_start": 115268,
            "bin_end": 125075.5,
            "count": 0
           },
           {
            "bin_start": 125075.5,
            "bin_end": 134883,
            "count": 0
           },
           {
            "bin_start": 134883,
            "bin_end": 144690.5,
            "count": 1
           },
           {
            "bin_start": 144690.5,
            "bin_end": 154498,
            "count": 0
           },
           {
            "bin_start": 154498,
            "bin_end": 164305.5,
            "count": 0
           },
           {
            "bin_start": 164305.5,
            "bin_end": 174113,
            "count": 1
           }
          ]
         }
        },
        {
         "name": "income_pctile",
         "dtype": "float64",
         "stats": {
          "unique_count": 5,
          "nan_count": 0,
          "min": 67.67611959,
          "max": 99.10175799,
          "histogram": [
           {
            "bin_start": 67.67611959,
            "bin_end": 70.81868343,
            "count": 1
           },
           {
            "bin_start": 70.81868343,
            "bin_end": 73.96124727,
            "count": 0
           },
           {
            "bin_start": 73.96124727,
            "bin_end": 77.10381111,
            "count": 1
           },
           {
            "bin_start": 77.10381111,
            "bin_end": 80.24637495,
            "count": 0
           },
           {
            "bin_start": 80.24637495,
            "bin_end": 83.38893879,
            "count": 0
           },
           {
            "bin_start": 83.38893879,
            "bin_end": 86.53150263,
            "count": 1
           },
           {
            "bin_start": 86.53150263,
            "bin_end": 89.67406647,
            "count": 0
           },
           {
            "bin_start": 89.67406647,
            "bin_end": 92.81663031,
            "count": 0
           },
           {
            "bin_start": 92.81663031,
            "bin_end": 95.95919415,
            "count": 0
           },
           {
            "bin_start": 95.95919415,
            "bin_end": 99.10175799,
            "count": 2
           }
          ]
         }
        },
        {
         "name": "retail",
         "dtype": "float64",
         "stats": {
          "unique_count": 5,
          "nan_count": 0,
          "min": 1.252350919,
          "max": 9.587563451,
          "histogram": [
           {
            "bin_start": 1.252350919,
            "bin_end": 2.0858721722,
            "count": 3
           },
           {
            "bin_start": 2.0858721722,
            "bin_end": 2.9193934254,
            "count": 1
           },
           {
            "bin_start": 2.9193934254,
            "bin_end": 3.7529146786000003,
            "count": 0
           },
           {
            "bin_start": 3.7529146786000003,
            "bin_end": 4.5864359318000005,
            "count": 0
           },
           {
            "bin_start": 4.5864359318000005,
            "bin_end": 5.4199571849999995,
            "count": 0
           },
           {
            "bin_start": 5.4199571849999995,
            "bin_end": 6.2534784382,
            "count": 0
           },
           {
            "bin_start": 6.2534784382,
            "bin_end": 7.086999691400001,
            "count": 0
           },
           {
            "bin_start": 7.086999691400001,
            "bin_end": 7.9205209446,
            "count": 0
           },
           {
            "bin_start": 7.9205209446,
            "bin_end": 8.7540421978,
            "count": 0
           },
           {
            "bin_start": 8.7540421978,
            "bin_end": 9.587563451,
            "count": 1
           }
          ]
         }
        },
        {
         "name": "retail_pctile",
         "dtype": "float64",
         "stats": {
          "unique_count": 5,
          "nan_count": 0,
          "min": 64.57076864,
          "max": 97.60041062,
          "histogram": [
           {
            "bin_start": 64.57076864,
            "bin_end": 67.873732838,
            "count": 1
           },
           {
            "bin_start": 67.873732838,
            "bin_end": 71.176697036,
            "count": 0
           },
           {
            "bin_start": 71.176697036,
            "bin_end": 74.47966123399999,
            "count": 0
           },
           {
            "bin_start": 74.47966123399999,
            "bin_end": 77.782625432,
            "count": 2
           },
           {
            "bin_start": 77.782625432,
            "bin_end": 81.08558963,
            "count": 0
           },
           {
            "bin_start": 81.08558963,
            "bin_end": 84.388553828,
            "count": 1
           },
           {
            "bin_start": 84.388553828,
            "bin_end": 87.691518026,
            "count": 0
           },
           {
            "bin_start": 87.691518026,
            "bin_end": 90.994482224,
            "count": 0
           },
           {
            "bin_start": 90.994482224,
            "bin_end": 94.29744642200001,
            "count": 0
           },
           {
            "bin_start": 94.29744642200001,
            "bin_end": 97.60041062,
            "count": 1
           }
          ]
         }
        },
        {
         "name": "parkaccess",
         "dtype": "float64",
         "stats": {
          "unique_count": 4,
          "nan_count": 0,
          "min": 33.25797,
          "max": 100,
          "histogram": [
           {
            "bin_start": 33.25797,
            "bin_end": 39.932173,
            "count": 1
           },
           {
            "bin_start": 39.932173,
            "bin_end": 46.606376,
            "count": 0
           },
           {
            "bin_start": 46.606376,
            "bin_end": 53.280579,
            "count": 0
           },
           {
            "bin_start": 53.280579,
            "bin_end": 59.954782,
            "count": 0
           },
           {
            "bin_start": 59.954782,
            "bin_end": 66.628985,
            "count": 0
           },
           {
            "bin_start": 66.628985,
            "bin_end": 73.303188,
            "count": 0
           },
           {
            "bin_start": 73.303188,
            "bin_end": 79.97739100000001,
            "count": 0
           },
           {
            "bin_start": 79.97739100000001,
            "bin_end": 86.651594,
            "count": 1
           },
           {
            "bin_start": 86.651594,
            "bin_end": 93.325797,
            "count": 1
           },
           {
            "bin_start": 93.325797,
            "bin_end": 100,
            "count": 2
           }
          ]
         }
        },
        {
         "name": "parkaccess_pctile",
         "dtype": "float64",
         "stats": {
          "unique_count": 4,
          "nan_count": 0,
          "min": 15.83472347,
          "max": 81.35506224,
          "histogram": [
           {
            "bin_start": 15.83472347,
            "bin_end": 22.386757347,
            "count": 1
           },
           {
            "bin_start": 22.386757347,
            "bin_end": 28.938791224,
            "count": 0
           },
           {
            "bin_start": 28.938791224,
            "bin_end": 35.490825101,
            "count": 0
           },
           {
            "bin_start": 35.490825101,
            "bin_end": 42.042858978,
            "count": 0
           },
           {
            "bin_start": 42.042858978,
            "bin_end": 48.594892855,
            "count": 1
           },
           {
            "bin_start": 48.594892855,
            "bin_end": 55.146926732,
            "count": 1
           },
           {
            "bin_start": 55.146926732,
            "bin_end": 61.698960609,
            "count": 0
           },
           {
            "bin_start": 61.698960609,
            "bin_end": 68.250994486,
            "count": 0
           },
           {
            "bin_start": 68.250994486,
            "bin_end": 74.803028363,
            "count": 0
           },
           {
            "bin_start": 74.803028363,
            "bin_end": 81.35506224,
            "count": 2
           }
          ]
         }
        },
        {
         "name": "treecanopy",
         "dtype": "float64",
         "stats": {
          "unique_count": 5,
          "nan_count": 0,
          "min": 5.6254528,
          "max": 36.43379829999999,
          "histogram": [
           {
            "bin_start": 5.6254528,
            "bin_end": 8.70628735,
            "count": 2
           },
           {
            "bin_start": 8.70628735,
            "bin_end": 11.787121899999999,
            "count": 1
           },
           {
            "bin_start": 11.787121899999999,
            "bin_end": 14.86795645,
            "count": 0
           },
           {
            "bin_start": 14.86795645,
            "bin_end": 17.948791,
            "count": 0
           },
           {
            "bin_start": 17.948791,
            "bin_end": 21.02962555,
            "count": 1
           },
           {
            "bin_start": 21.02962555,
            "bin_end": 24.110460099999997,
            "count": 0
           },
           {
            "bin_start": 24.110460099999997,
            "bin_end": 27.191294649999996,
            "count": 0
           },
           {
            "bin_start": 27.191294649999996,
            "bin_end": 30.272129199999995,
            "count": 0
           },
           {
            "bin_start": 30.272129199999995,
            "bin_end": 33.352963749999994,
            "count": 0
           },
           {
            "bin_start": 33.352963749999994,
            "bin_end": 36.43379829999999,
            "count": 1
           }
          ]
         }
        },
        {
         "name": "treecanopy_pctile",
         "dtype": "float64",
         "stats": {
          "unique_count": 5,
          "nan_count": 0,
          "min": 55.357372,
          "max": 97.42076222,
          "histogram": [
           {
            "bin_start": 55.357372,
            "bin_end": 59.563711022,
            "count": 2
           },
           {
            "bin_start": 59.563711022,
            "bin_end": 63.770050044,
            "count": 0
           },
           {
            "bin_start": 63.770050044,
            "bin_end": 67.976389066,
            "count": 0
           },
           {
            "bin_start": 67.976389066,
            "bin_end": 72.182728088,
            "count": 0
           },
           {
            "bin_start": 72.182728088,
            "bin_end": 76.38906711,
            "count": 0
           },
           {
            "bin_start": 76.38906711,
            "bin_end": 80.595406132,
            "count": 0
           },
           {
            "bin_start": 80.595406132,
            "bin_end": 84.801745154,
            "count": 1
           },
           {
            "bin_start": 84.801745154,
            "bin_end": 89.008084176,
            "count": 0
           },
           {
            "bin_start": 89.008084176,
            "bin_end": 93.21442319799999,
            "count": 1
           },
           {
            "bin_start": 93.21442319799999,
            "bin_end": 97.42076222,
            "count": 1
           }
          ]
         }
        },
        {
         "name": "alcoffsale",
         "dtype": "float64",
         "stats": {
          "unique_count": 4,
          "nan_count": 0,
          "min": 0,
          "max": 73.16990126,
          "histogram": [
           {
            "bin_start": 0,
            "bin_end": 7.316990126,
            "count": 2
           },
           {
            "bin_start": 7.316990126,
            "bin_end": 14.633980252,
            "count": 0
           },
           {
            "bin_start": 14.633980252,
            "bin_end": 21.950970378,
            "count": 1
           },
           {
            "bin_start": 21.950970378,
            "bin_end": 29.267960504,
            "count": 1
           },
           {
            "bin_start": 29.267960504,
            "bin_end": 36.58495063,
            "count": 0
           },
           {
            "bin_start": 36.58495063,
            "bin_end": 43.901940756,
            "count": 0
           },
           {
            "bin_start": 43.901940756,
            "bin_end": 51.218930882,
            "count": 0
           },
           {
            "bin_start": 51.218930882,
            "bin_end": 58.535921008,
            "count": 0
           },
           {
            "bin_start": 58.535921008,
            "bin_end": 65.85291113400001,
            "count": 0
           },
           {
            "bin_start": 65.85291113400001,
            "bin_end": 73.16990126,
            "count": 1
           }
          ]
         }
        },
        {
         "name": "alcoffsale_pctile",
         "dtype": "float64",
         "stats": {
          "unique_count": 4,
          "nan_count": 0,
          "min": 4.5168741180000005,
          "max": 64.12164763,
          "histogram": [
           {
            "bin_start": 4.5168741180000005,
            "bin_end": 10.4773514692,
            "count": 2
           },
           {
            "bin_start": 10.4773514692,
            "bin_end": 16.4378288204,
            "count": 0
           },
           {
            "bin_start": 16.4378288204,
            "bin_end": 22.3983061716,
            "count": 1
           },
           {
            "bin_start": 22.3983061716,
            "bin_end": 28.3587835228,
            "count": 1
           },
           {
            "bin_start": 28.3587835228,
            "bin_end": 34.319260873999994,
            "count": 0
           },
           {
            "bin_start": 34.319260873999994,
            "bin_end": 40.279738225200006,
            "count": 0
           },
           {
            "bin_start": 40.279738225200006,
            "bin_end": 46.240215576400004,
            "count": 0
           },
           {
            "bin_start": 46.240215576400004,
            "bin_end": 52.2006929276,
            "count": 0
           },
           {
            "bin_start": 52.2006929276,
            "bin_end": 58.1611702788,
            "count": 0
           },
           {
            "bin_start": 58.1611702788,
            "bin_end": 64.12164763,
            "count": 1
           }
          ]
         }
        },
        {
         "name": "voting",
         "dtype": "float64",
         "stats": {
          "unique_count": 5,
          "nan_count": 0,
          "min": 78.01067469,
          "max": 85.49257179,
          "histogram": [
           {
            "bin_start": 78.01067469,
            "bin_end": 78.75886440000001,
            "count": 1
           },
           {
            "bin_start": 78.75886440000001,
            "bin_end": 79.50705411,
            "count": 0
           },
           {
            "bin_start": 79.50705411,
            "bin_end": 80.25524382,
            "count": 0
           },
           {
            "bin_start": 80.25524382,
            "bin_end": 81.00343353,
            "count": 0
           },
           {
            "bin_start": 81.00343353,
            "bin_end": 81.75162324,
            "count": 0
           },
           {
            "bin_start": 81.75162324,
            "bin_end": 82.49981295,
            "count": 1
           },
           {
            "bin_start": 82.49981295,
            "bin_end": 83.24800266,
            "count": 1
           },
           {
            "bin_start": 83.24800266,
            "bin_end": 83.99619237,
            "count": 1
           },
           {
            "bin_start": 83.99619237,
            "bin_end": 84.74438208,
            "count": 0
           },
           {
            "bin_start": 84.74438208,
            "bin_end": 85.49257179,
            "count": 1
           }
          ]
         }
        },
        {
         "name": "voting_pctile",
         "dtype": "float64",
         "stats": {
          "unique_count": 5,
          "nan_count": 0,
          "min": 81.48338252,
          "max": 97.80572308,
          "histogram": [
           {
            "bin_start": 81.48338252,
            "bin_end": 83.11561657600001,
            "count": 1
           },
           {
            "bin_start": 83.11561657600001,
            "bin_end": 84.74785063200001,
            "count": 0
           },
           {
            "bin_start": 84.74785063200001,
            "bin_end": 86.38008468800001,
            "count": 0
           },
           {
            "bin_start": 86.38008468800001,
            "bin_end": 88.01231874400001,
            "count": 0
           },
           {
            "bin_start": 88.01231874400001,
            "bin_end": 89.64455280000001,
            "count": 0
           },
           {
            "bin_start": 89.64455280000001,
            "bin_end": 91.276786856,
            "count": 0
           },
           {
            "bin_start": 91.276786856,
            "bin_end": 92.909020912,
            "count": 1
           },
           {
            "bin_start": 92.909020912,
            "bin_end": 94.541254968,
            "count": 1
           },
           {
            "bin_start": 94.541254968,
            "bin_end": 96.173489024,
            "count": 1
           },
           {
            "bin_start": 96.173489024,
            "bin_end": 97.80572308,
            "count": 1
           }
          ]
         }
        },
        {
         "name": "ownsevere",
         "dtype": "float64",
         "stats": {
          "unique_count": 5,
          "nan_count": 0,
          "min": 3.8834951460000005,
          "max": 19.65811966,
          "histogram": [
           {
            "bin_start": 3.8834951460000005,
            "bin_end": 5.4609575974,
            "count": 2
           },
           {
            "bin_start": 5.4609575974,
            "bin_end": 7.038420048800001,
            "count": 0
           },
           {
            "bin_start": 7.038420048800001,
            "bin_end": 8.615882500200001,
            "count": 1
           },
           {
            "bin_start": 8.615882500200001,
            "bin_end": 10.1933449516,
            "count": 0
           },
           {
            "bin_start": 10.1933449516,
            "bin_end": 11.770807403,
            "count": 0
           },
           {
            "bin_start": 11.770807403,
            "bin_end": 13.348269854400002,
            "count": 1
           },
           {
            "bin_start": 13.348269854400002,
            "bin_end": 14.9257323058,
            "count": 0
           },
           {
            "bin_start": 14.9257323058,
            "bin_end": 16.5031947572,
            "count": 0
           },
           {
            "bin_start": 16.5031947572,
            "bin_end": 18.0806572086,
            "count": 0
           },
           {
            "bin_start": 18.0806572086,
            "bin_end": 19.65811966,
            "count": 1
           }
          ]
         }
        },
        {
         "name": "ownsevere_pctile",
         "dtype": "float64",
         "stats": {
          "unique_count": 5,
          "nan_count": 0,
          "min": 15.52675478,
          "max": 94.18709098,
          "histogram": [
           {
            "bin_start": 15.52675478,
            "bin_end": 23.392788399999997,
            "count": 1
           },
           {
            "bin_start": 23.392788399999997,
            "bin_end": 31.258822019999997,
            "count": 0
           },
           {
            "bin_start": 31.258822019999997,
            "bin_end": 39.12485563999999,
            "count": 0
           },
           {
            "bin_start": 39.12485563999999,
            "bin_end": 46.990889259999996,
            "count": 1
           },
           {
            "bin_start": 46.990889259999996,
            "bin_end": 54.85692287999999,
            "count": 0
           },
           {
            "bin_start": 54.85692287999999,
            "bin_end": 62.72295649999999,
            "count": 0
           },
           {
            "bin_start": 62.72295649999999,
            "bin_end": 70.58899011999999,
            "count": 0
           },
           {
            "bin_start": 70.58899011999999,
            "bin_end": 78.45502373999999,
            "count": 0
           },
           {
            "bin_start": 78.45502373999999,
            "bin_end": 86.32105736,
            "count": 1
           },
           {
            "bin_start": 86.32105736,
            "bin_end": 94.18709098,
            "count": 2
           }
          ]
         }
        },
        {
         "name": "rentsevere",
         "dtype": "float64",
         "stats": {
          "unique_count": 5,
          "nan_count": 0,
          "min": 2.666666667,
          "max": 27.27272727,
          "histogram": [
           {
            "bin_start": 2.666666667,
            "bin_end": 5.127272727299999,
            "count": 1
           },
           {
            "bin_start": 5.127272727299999,
            "bin_end": 7.587878787599999,
            "count": 0
           },
           {
            "bin_start": 7.587878787599999,
            "bin_end": 10.0484848479,
            "count": 0
           },
           {
            "bin_start": 10.0484848479,
            "bin_end": 12.5090909082,
            "count": 2
           },
           {
            "bin_start": 12.5090909082,
            "bin_end": 14.9696969685,
            "count": 0
           },
           {
            "bin_start": 14.9696969685,
            "bin_end": 17.4303030288,
            "count": 0
           },
           {
            "bin_start": 17.4303030288,
            "bin_end": 19.8909090891,
            "count": 0
           },
           {
            "bin_start": 19.8909090891,
            "bin_end": 22.3515151494,
            "count": 1
           },
           {
            "bin_start": 22.3515151494,
            "bin_end": 24.812121209700003,
            "count": 0
           },
           {
            "bin_start": 24.812121209700003,
            "bin_end": 27.27272727,
            "count": 1
           }
          ]
         }
        },
        {
         "name": "rentsevere_pctile",
         "dtype": "float64",
         "stats": {
          "unique_count": 5,
          "nan_count": 0,
          "min": 45.78467856,
          "max": 97.89554729,
          "histogram": [
           {
            "bin_start": 45.78467856,
            "bin_end": 50.995765433,
            "count": 1
           },
           {
            "bin_start": 50.995765433,
            "bin_end": 56.206852306,
            "count": 0
           },
           {
            "bin_start": 56.206852306,
            "bin_end": 61.417939179,
            "count": 0
           },
           {
            "bin_start": 61.417939179,
            "bin_end": 66.629026052,
            "count": 0
           },
           {
            "bin_start": 66.629026052,
            "bin_end": 71.840112925,
            "count": 1
           },
           {
            "bin_start": 71.840112925,
            "bin_end": 77.051199798,
            "count": 0
           },
           {
            "bin_start": 77.051199798,
            "bin_end": 82.262286671,
            "count": 0
           },
           {
            "bin_start": 82.262286671,
            "bin_end": 87.473373544,
            "count": 0
           },
           {
            "bin_start": 87.473373544,
            "bin_end": 92.684460417,
            "count": 2
           },
           {
            "bin_start": 92.684460417,
            "bin_end": 97.89554729,
            "count": 1
           }
          ]
         }
        },
        {
         "name": "houserepair",
         "dtype": "float64",
         "stats": {
          "unique_count": 4,
          "nan_count": 0,
          "min": 99.38650307,
          "max": 100,
          "histogram": [
           {
            "bin_start": 99.38650307,
            "bin_end": 99.447852763,
            "count": 1
           },
           {
            "bin_start": 99.447852763,
            "bin_end": 99.509202456,
            "count": 1
           },
           {
            "bin_start": 99.509202456,
            "bin_end": 99.57055214900001,
            "count": 0
           },
           {
            "bin_start": 99.57055214900001,
            "bin_end": 99.631901842,
            "count": 0
           },
           {
            "bin_start": 99.631901842,
            "bin_end": 99.693251535,
            "count": 1
           },
           {
            "bin_start": 99.693251535,
            "bin_end": 99.754601228,
            "count": 0
           },
           {
            "bin_start": 99.754601228,
            "bin_end": 99.815950921,
            "count": 0
           },
           {
            "bin_start": 99.815950921,
            "bin_end": 99.877300614,
            "count": 0
           },
           {
            "bin_start": 99.877300614,
            "bin_end": 99.938650307,
            "count": 0
           },
           {
            "bin_start": 99.938650307,
            "bin_end": 100,
            "count": 2
           }
          ]
         }
        },
        {
         "name": "houserepair_pctile",
         "dtype": "float64",
         "stats": {
          "unique_count": 4,
          "nan_count": 0,
          "min": 51.14846657,
          "max": 80.81611703,
          "histogram": [
           {
            "bin_start": 51.14846657,
            "bin_end": 54.115231615999996,
            "count": 2
           },
           {
            "bin_start": 54.115231615999996,
            "bin_end": 57.081996661999995,
            "count": 0
           },
           {
            "bin_start": 57.081996661999995,
            "bin_end": 60.048761708,
            "count": 1
           },
           {
            "bin_start": 60.048761708,
            "bin_end": 63.015526754,
            "count": 0
           },
           {
            "bin_start": 63.015526754,
            "bin_end": 65.9822918,
            "count": 0
           },
           {
            "bin_start": 65.9822918,
            "bin_end": 68.94905684599999,
            "count": 0
           },
           {
            "bin_start": 68.94905684599999,
            "bin_end": 71.915821892,
            "count": 0
           },
           {
            "bin_start": 71.915821892,
            "bin_end": 74.882586938,
            "count": 0
           },
           {
            "bin_start": 74.882586938,
            "bin_end": 77.849351984,
            "count": 0
           },
           {
            "bin_start": 77.849351984,
            "bin_end": 80.81611703,
            "count": 2
           }
          ]
         }
        },
        {
         "name": "twoparents",
         "dtype": "float64",
         "stats": {
          "unique_count": 5,
          "nan_count": 0,
          "min": 87.01298701,
          "max": 93.07479224,
          "histogram": [
           {
            "bin_start": 87.01298701,
            "bin_end": 87.619167533,
            "count": 2
           },
           {
            "bin_start": 87.619167533,
            "bin_end": 88.225348056,
            "count": 0
           },
           {
            "bin_start": 88.225348056,
            "bin_end": 88.83152857900001,
            "count": 1
           },
           {
            "bin_start": 88.83152857900001,
            "bin_end": 89.437709102,
            "count": 0
           },
           {
            "bin_start": 89.437709102,
            "bin_end": 90.04388962499999,
            "count": 0
           },
           {
            "bin_start": 90.04388962499999,
            "bin_end": 90.650070148,
            "count": 0
           },
           {
            "bin_start": 90.650070148,
            "bin_end": 91.256250671,
            "count": 1
           },
           {
            "bin_start": 91.256250671,
            "bin_end": 91.862431194,
            "count": 0
           },
           {
            "bin_start": 91.862431194,
            "bin_end": 92.46861171699999,
            "count": 0
           },
           {
            "bin_start": 92.46861171699999,
            "bin_end": 93.07479224,
            "count": 1
           }
          ]
         }
        },
        {
         "name": "twoparents_pctile",
         "dtype": "float64",
         "stats": {
          "unique_count": 5,
          "nan_count": 0,
          "min": 77.9930707,
          "max": 92.48043116,
          "histogram": [
           {
            "bin_start": 77.9930707,
            "bin_end": 79.441806746,
            "count": 2
           },
           {
            "bin_start": 79.441806746,
            "bin_end": 80.890542792,
            "count": 0
           },
           {
            "bin_start": 80.890542792,
            "bin_end": 82.339278838,
            "count": 0
           },
           {
            "bin_start": 82.339278838,
            "bin_end": 83.788014884,
            "count": 1
           },
           {
            "bin_start": 83.788014884,
            "bin_end": 85.23675093,
            "count": 0
           },
           {
            "bin_start": 85.23675093,
            "bin_end": 86.68548697599999,
            "count": 0
           },
           {
            "bin_start": 86.68548697599999,
            "bin_end": 88.134223022,
            "count": 0
           },
           {
            "bin_start": 88.134223022,
            "bin_end": 89.582959068,
            "count": 1
           },
           {
            "bin_start": 89.582959068,
            "bin_end": 91.031695114,
            "count": 0
           },
           {
            "bin_start": 91.031695114,
            "bin_end": 92.48043116,
            "count": 1
           }
          ]
         }
        },
        {
         "name": "supermkts",
         "dtype": "float64",
         "stats": {
          "unique_count": 5,
          "nan_count": 0,
          "min": 1.3192057879999999,
          "max": 100,
          "histogram": [
           {
            "bin_start": 1.3192057879999999,
            "bin_end": 11.187285209199999,
            "count": 1
           },
           {
            "bin_start": 11.187285209199999,
            "bin_end": 21.0553646304,
            "count": 0
           },
           {
            "bin_start": 21.0553646304,
            "bin_end": 30.923444051599997,
            "count": 0
           },
           {
            "bin_start": 30.923444051599997,
            "bin_end": 40.791523472799994,
            "count": 0
           },
           {
            "bin_start": 40.791523472799994,
            "bin_end": 50.659602893999995,
            "count": 0
           },
           {
            "bin_start": 50.659602893999995,
            "bin_end": 60.52768231519999,
            "count": 0
           },
           {
            "bin_start": 60.52768231519999,
            "bin_end": 70.3957617364,
            "count": 0
           },
           {
            "bin_start": 70.3957617364,
            "bin_end": 80.2638411576,
            "count": 1
           },
           {
            "bin_start": 80.2638411576,
            "bin_end": 90.13192057879999,
            "count": 0
           },
           {
            "bin_start": 90.13192057879999,
            "bin_end": 100,
            "count": 3
           }
          ]
         }
        },
        {
         "name": "supermkts_pctile",
         "dtype": "float64",
         "stats": {
          "unique_count": 5,
          "nan_count": 0,
          "min": 13.39663801,
          "max": 94.25125112,
          "histogram": [
           {
            "bin_start": 13.39663801,
            "bin_end": 21.482099321,
            "count": 1
           },
           {
            "bin_start": 21.482099321,
            "bin_end": 29.567560632,
            "count": 0
           },
           {
            "bin_start": 29.567560632,
            "bin_end": 37.653021943,
            "count": 0
           },
           {
            "bin_start": 37.653021943,
            "bin_end": 45.738483254,
            "count": 0
           },
           {
            "bin_start": 45.738483254,
            "bin_end": 53.823944565000005,
            "count": 0
           },
           {
            "bin_start": 53.823944565000005,
            "bin_end": 61.909405875999994,
            "count": 0
           },
           {
            "bin_start": 61.909405875999994,
            "bin_end": 69.994867187,
            "count": 1
           },
           {
            "bin_start": 69.994867187,
            "bin_end": 78.080328498,
            "count": 0
           },
           {
            "bin_start": 78.080328498,
            "bin_end": 86.165789809,
            "count": 2
           },
           {
            "bin_start": 86.165789809,
            "bin_end": 94.25125112,
            "count": 1
           }
          ]
         }
        },
        {
         "name": "ozone",
         "dtype": "float64",
         "stats": {
          "unique_count": 1,
          "nan_count": 0,
          "min": 0.029592333,
          "max": 0.029592333,
          "histogram": [
           {
            "bin_start": -0.47040766700000003,
            "bin_end": -0.37040766700000005,
            "count": 0
           },
           {
            "bin_start": -0.37040766700000005,
            "bin_end": -0.270407667,
            "count": 0
           },
           {
            "bin_start": -0.270407667,
            "bin_end": -0.17040766699999998,
            "count": 0
           },
           {
            "bin_start": -0.17040766699999998,
            "bin_end": -0.07040766700000001,
            "count": 0
           },
           {
            "bin_start": -0.07040766700000001,
            "bin_end": 0.02959233299999997,
            "count": 0
           },
           {
            "bin_start": 0.02959233299999997,
            "bin_end": 0.12959233300000006,
            "count": 5
           },
           {
            "bin_start": 0.12959233300000006,
            "bin_end": 0.22959233300000004,
            "count": 0
           },
           {
            "bin_start": 0.22959233300000004,
            "bin_end": 0.329592333,
            "count": 0
           },
           {
            "bin_start": 0.329592333,
            "bin_end": 0.429592333,
            "count": 0
           },
           {
            "bin_start": 0.429592333,
            "bin_end": 0.529592333,
            "count": 0
           }
          ]
         }
        },
        {
         "name": "ozone_pctile",
         "dtype": "float64",
         "stats": {
          "unique_count": 1,
          "nan_count": 0,
          "min": 96.08623123,
          "max": 96.08623123,
          "histogram": [
           {
            "bin_start": 95.58623123,
            "bin_end": 95.68623122999999,
            "count": 0
           },
           {
            "bin_start": 95.68623122999999,
            "bin_end": 95.78623123,
            "count": 0
           },
           {
            "bin_start": 95.78623123,
            "bin_end": 95.88623122999999,
            "count": 0
           },
           {
            "bin_start": 95.88623122999999,
            "bin_end": 95.98623123,
            "count": 0
           },
           {
            "bin_start": 95.98623123,
            "bin_end": 96.08623123,
            "count": 0
           },
           {
            "bin_start": 96.08623123,
            "bin_end": 96.18623122999999,
            "count": 5
           },
           {
            "bin_start": 96.18623122999999,
            "bin_end": 96.28623123,
            "count": 0
           },
           {
            "bin_start": 96.28623123,
            "bin_end": 96.38623122999999,
            "count": 0
           },
           {
            "bin_start": 96.38623122999999,
            "bin_end": 96.48623123,
            "count": 0
           },
           {
            "bin_start": 96.48623123,
            "bin_end": 96.58623123,
            "count": 0
           }
          ]
         }
        },
        {
         "name": "pm25",
         "dtype": "float64",
         "stats": {
          "unique_count": 1,
          "nan_count": 0,
          "min": 8.69794377,
          "max": 8.69794377,
          "histogram": [
           {
            "bin_start": 8.19794377,
            "bin_end": 8.29794377,
            "count": 0
           },
           {
            "bin_start": 8.29794377,
            "bin_end": 8.39794377,
            "count": 0
           },
           {
            "bin_start": 8.39794377,
            "bin_end": 8.497943770000001,
            "count": 0
           },
           {
            "bin_start": 8.497943770000001,
            "bin_end": 8.59794377,
            "count": 0
           },
           {
            "bin_start": 8.59794377,
            "bin_end": 8.69794377,
            "count": 0
           },
           {
            "bin_start": 8.69794377,
            "bin_end": 8.79794377,
            "count": 5
           },
           {
            "bin_start": 8.79794377,
            "bin_end": 8.89794377,
            "count": 0
           },
           {
            "bin_start": 8.89794377,
            "bin_end": 8.997943770000001,
            "count": 0
           },
           {
            "bin_start": 8.997943770000001,
            "bin_end": 9.09794377,
            "count": 0
           },
           {
            "bin_start": 9.09794377,
            "bin_end": 9.19794377,
            "count": 0
           }
          ]
         }
        },
        {
         "name": "pm25_pctile",
         "dtype": "float64",
         "stats": {
          "unique_count": 1,
          "nan_count": 0,
          "min": 74.75939946,
          "max": 74.75939946,
          "histogram": [
           {
            "bin_start": 74.25939946,
            "bin_end": 74.35939945999999,
            "count": 0
           },
           {
            "bin_start": 74.35939945999999,
            "bin_end": 74.45939946,
            "count": 0
           },
           {
            "bin_start": 74.45939946,
            "bin_end": 74.55939946,
            "count": 0
           },
           {
            "bin_start": 74.55939946,
            "bin_end": 74.65939946,
            "count": 0
           },
           {
            "bin_start": 74.65939946,
            "bin_end": 74.75939946,
            "count": 0
           },
           {
            "bin_start": 74.75939946,
            "bin_end": 74.85939945999999,
            "count": 5
           },
           {
            "bin_start": 74.85939945999999,
            "bin_end": 74.95939946,
            "count": 0
           },
           {
            "bin_start": 74.95939946,
            "bin_end": 75.05939946,
            "count": 0
           },
           {
            "bin_start": 75.05939946,
            "bin_end": 75.15939946,
            "count": 0
           },
           {
            "bin_start": 75.15939946,
            "bin_end": 75.25939946,
            "count": 0
           }
          ]
         }
        },
        {
         "name": "dieselpm",
         "dtype": "float64",
         "stats": {
          "unique_count": 2,
          "nan_count": 0,
          "min": 27.43693284,
          "max": 42.19,
          "histogram": [
           {
            "bin_start": 27.43693284,
            "bin_end": 28.912239556,
            "count": 1
           },
           {
            "bin_start": 28.912239556,
            "bin_end": 30.387546272,
            "count": 0
           },
           {
            "bin_start": 30.387546272,
            "bin_end": 31.862852988,
            "count": 0
           },
           {
            "bin_start": 31.862852988,
            "bin_end": 33.338159704,
            "count": 0
           },
           {
            "bin_start": 33.338159704,
            "bin_end": 34.81346642,
            "count": 0
           },
           {
            "bin_start": 34.81346642,
            "bin_end": 36.288773136,
            "count": 0
           },
           {
            "bin_start": 36.288773136,
            "bin_end": 37.764079851999995,
            "count": 0
           },
           {
            "bin_start": 37.764079851999995,
            "bin_end": 39.239386568,
            "count": 0
           },
           {
            "bin_start": 39.239386568,
            "bin_end": 40.714693284,
            "count": 0
           },
           {
            "bin_start": 40.714693284,
            "bin_end": 42.19,
            "count": 4
           }
          ]
         }
        },
        {
         "name": "dieselpm_pctile",
         "dtype": "float64",
         "stats": {
          "unique_count": 2,
          "nan_count": 0,
          "min": 5.569100475,
          "max": 18.9272424,
          "histogram": [
           {
            "bin_start": 5.569100475,
            "bin_end": 6.9049146675,
            "count": 4
           },
           {
            "bin_start": 6.9049146675,
            "bin_end": 8.24072886,
            "count": 0
           },
           {
            "bin_start": 8.24072886,
            "bin_end": 9.5765430525,
            "count": 0
           },
           {
            "bin_start": 9.5765430525,
            "bin_end": 10.912357245,
            "count": 0
           },
           {
            "bin_start": 10.912357245,
            "bin_end": 12.248171437500002,
            "count": 0
           },
           {
            "bin_start": 12.248171437500002,
            "bin_end": 13.58398563,
            "count": 0
           },
           {
            "bin_start": 13.58398563,
            "bin_end": 14.9197998225,
            "count": 0
           },
           {
            "bin_start": 14.9197998225,
            "bin_end": 16.255614015000003,
            "count": 0
           },
           {
            "bin_start": 16.255614015000003,
            "bin_end": 17.5914282075,
            "count": 0
           },
           {
            "bin_start": 17.5914282075,
            "bin_end": 18.9272424,
            "count": 1
           }
          ]
         }
        },
        {
         "name": "h20contam",
         "dtype": "float64",
         "stats": {
          "unique_count": 1,
          "nan_count": 0,
          "min": 70.5995829,
          "max": 70.5995829,
          "histogram": [
           {
            "bin_start": 70.0995829,
            "bin_end": 70.1995829,
            "count": 0
           },
           {
            "bin_start": 70.1995829,
            "bin_end": 70.2995829,
            "count": 0
           },
           {
            "bin_start": 70.2995829,
            "bin_end": 70.3995829,
            "count": 0
           },
           {
            "bin_start": 70.3995829,
            "bin_end": 70.49958290000001,
            "count": 0
           },
           {
            "bin_start": 70.49958290000001,
            "bin_end": 70.5995829,
            "count": 0
           },
           {
            "bin_start": 70.5995829,
            "bin_end": 70.6995829,
            "count": 5
           },
           {
            "bin_start": 70.6995829,
            "bin_end": 70.7995829,
            "count": 0
           },
           {
            "bin_start": 70.7995829,
            "bin_end": 70.8995829,
            "count": 0
           },
           {
            "bin_start": 70.8995829,
            "bin_end": 70.99958290000001,
            "count": 0
           },
           {
            "bin_start": 70.99958290000001,
            "bin_end": 71.0995829,
            "count": 0
           }
          ]
         }
        },
        {
         "name": "h20contam_pctile",
         "dtype": "float64",
         "stats": {
          "unique_count": 1,
          "nan_count": 0,
          "min": 97.20261773,
          "max": 97.20261773,
          "histogram": [
           {
            "bin_start": 96.70261773,
            "bin_end": 96.80261773,
            "count": 0
           },
           {
            "bin_start": 96.80261773,
            "bin_end": 96.90261773,
            "count": 0
           },
           {
            "bin_start": 96.90261773,
            "bin_end": 97.00261773,
            "count": 0
           },
           {
            "bin_start": 97.00261773,
            "bin_end": 97.10261773,
            "count": 0
           },
           {
            "bin_start": 97.10261773,
            "bin_end": 97.20261773,
            "count": 0
           },
           {
            "bin_start": 97.20261773,
            "bin_end": 97.30261773,
            "count": 5
           },
           {
            "bin_start": 97.30261773,
            "bin_end": 97.40261773,
            "count": 0
           },
           {
            "bin_start": 97.40261773,
            "bin_end": 97.50261773,
            "count": 0
           },
           {
            "bin_start": 97.50261773,
            "bin_end": 97.60261773,
            "count": 0
           },
           {
            "bin_start": 97.60261773,
            "bin_end": 97.70261773,
            "count": 0
           }
          ]
         }
        },
        {
         "name": "LEB",
         "dtype": "float64",
         "stats": {
          "unique_count": 5,
          "nan_count": 0,
          "min": 80.12323761,
          "max": 86.98550623,
          "histogram": [
           {
            "bin_start": 80.12323761,
            "bin_end": 80.809464472,
            "count": 1
           },
           {
            "bin_start": 80.809464472,
            "bin_end": 81.495691334,
            "count": 0
           },
           {
            "bin_start": 81.495691334,
            "bin_end": 82.181918196,
            "count": 0
           },
           {
            "bin_start": 82.181918196,
            "bin_end": 82.868145058,
            "count": 1
           },
           {
            "bin_start": 82.868145058,
            "bin_end": 83.55437192,
            "count": 0
           },
           {
            "bin_start": 83.55437192,
            "bin_end": 84.240598782,
            "count": 0
           },
           {
            "bin_start": 84.240598782,
            "bin_end": 84.926825644,
            "count": 0
           },
           {
            "bin_start": 84.926825644,
            "bin_end": 85.613052506,
            "count": 0
           },
           {
            "bin_start": 85.613052506,
            "bin_end": 86.299279368,
            "count": 0
           },
           {
            "bin_start": 86.299279368,
            "bin_end": 86.98550623,
            "count": 3
           }
          ]
         }
        },
        {
         "name": "LEB_pctile",
         "dtype": "float64",
         "stats": {
          "unique_count": 5,
          "nan_count": 0,
          "min": 38.85538304,
          "max": 96.66367253,
          "histogram": [
           {
            "bin_start": 38.85538304,
            "bin_end": 44.636211989,
            "count": 1
           },
           {
            "bin_start": 44.636211989,
            "bin_end": 50.417040938,
            "count": 0
           },
           {
            "bin_start": 50.417040938,
            "bin_end": 56.197869886999996,
            "count": 0
           },
           {
            "bin_start": 56.197869886999996,
            "bin_end": 61.978698836,
            "count": 0
           },
           {
            "bin_start": 61.978698836,
            "bin_end": 67.759527785,
            "count": 0
           },
           {
            "bin_start": 67.759527785,
            "bin_end": 73.540356734,
            "count": 1
           },
           {
            "bin_start": 73.540356734,
            "bin_end": 79.32118568300001,
            "count": 0
           },
           {
            "bin_start": 79.32118568300001,
            "bin_end": 85.10201463199999,
            "count": 0
           },
           {
            "bin_start": 85.10201463199999,
            "bin_end": 90.882843581,
            "count": 0
           },
           {
            "bin_start": 90.882843581,
            "bin_end": 96.66367253,
            "count": 3
           }
          ]
         }
        },
        {
         "name": "white_pct",
         "dtype": "float64",
         "stats": {
          "unique_count": 5,
          "nan_count": 0,
          "min": 50.55444982,
          "max": 78.31813576,
          "histogram": [
           {
            "bin_start": 50.55444982,
            "bin_end": 53.330818414,
            "count": 1
           },
           {
            "bin_start": 53.330818414,
            "bin_end": 56.107187008000004,
            "count": 0
           },
           {
            "bin_start": 56.107187008000004,
            "bin_end": 58.883555602,
            "count": 0
           },
           {
            "bin_start": 58.883555602,
            "bin_end": 61.659924196000006,
            "count": 0
           },
           {
            "bin_start": 61.659924196000006,
            "bin_end": 64.43629279000001,
            "count": 0
           },
           {
            "bin_start": 64.43629279000001,
            "bin_end": 67.212661384,
            "count": 2
           },
           {
            "bin_start": 67.212661384,
            "bin_end": 69.989029978,
            "count": 0
           },
           {
            "bin_start": 69.989029978,
            "bin_end": 72.76539857200001,
            "count": 1
           },
           {
            "bin_start": 72.76539857200001,
            "bin_end": 75.541767166,
            "count": 0
           },
           {
            "bin_start": 75.541767166,
            "bin_end": 78.31813576,
            "count": 1
           }
          ]
         }
        },
        {
         "name": "black_pct",
         "dtype": "float64",
         "stats": {
          "unique_count": 5,
          "nan_count": 0,
          "min": 1.5704154,
          "max": 26.52829116,
          "histogram": [
           {
            "bin_start": 1.5704154,
            "bin_end": 4.066202976,
            "count": 1
           },
           {
            "bin_start": 4.066202976,
            "bin_end": 6.561990552,
            "count": 1
           },
           {
            "bin_start": 6.561990552,
            "bin_end": 9.057778128,
            "count": 0
           },
           {
            "bin_start": 9.057778128,
            "bin_end": 11.553565704,
            "count": 1
           },
           {
            "bin_start": 11.553565704,
            "bin_end": 14.04935328,
            "count": 1
           },
           {
            "bin_start": 14.04935328,
            "bin_end": 16.545140856000003,
            "count": 0
           },
           {
            "bin_start": 16.545140856000003,
            "bin_end": 19.040928432,
            "count": 0
           },
           {
            "bin_start": 19.040928432,
            "bin_end": 21.536716008,
            "count": 0
           },
           {
            "bin_start": 21.536716008,
            "bin_end": 24.032503584000004,
            "count": 0
           },
           {
            "bin_start": 24.032503584000004,
            "bin_end": 26.52829116,
            "count": 1
           }
          ]
         }
        },
        {
         "name": "asian_pct",
         "dtype": "float64",
         "stats": {
          "unique_count": 5,
          "nan_count": 0,
          "min": 5.914131362000001,
          "max": 15.52604699,
          "histogram": [
           {
            "bin_start": 5.914131362000001,
            "bin_end": 6.875322924800001,
            "count": 1
           },
           {
            "bin_start": 6.875322924800001,
            "bin_end": 7.836514487600001,
            "count": 2
           },
           {
            "bin_start": 7.836514487600001,
            "bin_end": 8.7977060504,
            "count": 1
           },
           {
            "bin_start": 8.7977060504,
            "bin_end": 9.7588976132,
            "count": 0
           },
           {
            "bin_start": 9.7588976132,
            "bin_end": 10.720089176,
            "count": 0
           },
           {
            "bin_start": 10.720089176,
            "bin_end": 11.6812807388,
            "count": 0
           },
           {
            "bin_start": 11.6812807388,
            "bin_end": 12.6424723016,
            "count": 0
           },
           {
            "bin_start": 12.6424723016,
            "bin_end": 13.6036638644,
            "count": 0
           },
           {
            "bin_start": 13.6036638644,
            "bin_end": 14.5648554272,
            "count": 0
           },
           {
            "bin_start": 14.5648554272,
            "bin_end": 15.52604699,
            "count": 1
           }
          ]
         }
        },
        {
         "name": "latino_pct",
         "dtype": "float64",
         "stats": {
          "unique_count": 5,
          "nan_count": 0,
          "min": 3.983656793,
          "max": 9.667330111,
          "histogram": [
           {
            "bin_start": 3.983656793,
            "bin_end": 4.5520241248,
            "count": 1
           },
           {
            "bin_start": 4.5520241248,
            "bin_end": 5.1203914566,
            "count": 0
           },
           {
            "bin_start": 5.1203914566,
            "bin_end": 5.6887587884,
            "count": 0
           },
           {
            "bin_start": 5.6887587884,
            "bin_end": 6.257126120200001,
            "count": 0
           },
           {
            "bin_start": 6.257126120200001,
            "bin_end": 6.825493452,
            "count": 0
           },
           {
            "bin_start": 6.825493452,
            "bin_end": 7.3938607838,
            "count": 0
           },
           {
            "bin_start": 7.3938607838,
            "bin_end": 7.9622281156,
            "count": 1
           },
           {
            "bin_start": 7.9622281156,
            "bin_end": 8.5305954474,
            "count": 1
           },
           {
            "bin_start": 8.5305954474,
            "bin_end": 9.0989627792,
            "count": 1
           },
           {
            "bin_start": 9.0989627792,
            "bin_end": 9.667330111,
            "count": 1
           }
          ]
         }
        },
        {
         "name": "multiple_pct",
         "dtype": "float64",
         "stats": {
          "unique_count": 5,
          "nan_count": 0,
          "min": 3.7793667010000003,
          "max": 6.113164629,
          "histogram": [
           {
            "bin_start": 3.7793667010000003,
            "bin_end": 4.0127464938,
            "count": 1
           },
           {
            "bin_start": 4.0127464938,
            "bin_end": 4.2461262866,
            "count": 0
           },
           {
            "bin_start": 4.2461262866,
            "bin_end": 4.4795060794,
            "count": 0
           },
           {
            "bin_start": 4.4795060794,
            "bin_end": 4.7128858722,
            "count": 0
           },
           {
            "bin_start": 4.7128858722,
            "bin_end": 4.946265665,
            "count": 1
           },
           {
            "bin_start": 4.946265665,
            "bin_end": 5.1796454577999995,
            "count": 1
           },
           {
            "bin_start": 5.1796454577999995,
            "bin_end": 5.4130252506000005,
            "count": 1
           },
           {
            "bin_start": 5.4130252506000005,
            "bin_end": 5.6464050434,
            "count": 0
           },
           {
            "bin_start": 5.6464050434,
            "bin_end": 5.8797848362,
            "count": 0
           },
           {
            "bin_start": 5.8797848362,
            "bin_end": 6.113164629,
            "count": 1
           }
          ]
         }
        },
        {
         "name": "NativeAm_pct",
         "dtype": "float64",
         "stats": {
          "unique_count": 5,
          "nan_count": 0,
          "min": 0.068096697,
          "max": 0.45493318200000005,
          "histogram": [
           {
            "bin_start": 0.068096697,
            "bin_end": 0.10678034550000001,
            "count": 2
           },
           {
            "bin_start": 0.10678034550000001,
            "bin_end": 0.145463994,
            "count": 1
           },
           {
            "bin_start": 0.145463994,
            "bin_end": 0.18414764250000004,
            "count": 1
           },
           {
            "bin_start": 0.18414764250000004,
            "bin_end": 0.22283129100000004,
            "count": 0
           },
           {
            "bin_start": 0.22283129100000004,
            "bin_end": 0.26151493950000004,
            "count": 0
           },
           {
            "bin_start": 0.26151493950000004,
            "bin_end": 0.30019858800000004,
            "count": 0
           },
           {
            "bin_start": 0.30019858800000004,
            "bin_end": 0.33888223650000004,
            "count": 0
           },
           {
            "bin_start": 0.33888223650000004,
            "bin_end": 0.37756588500000005,
            "count": 0
           },
           {
            "bin_start": 0.37756588500000005,
            "bin_end": 0.41624953350000005,
            "count": 0
           },
           {
            "bin_start": 0.41624953350000005,
            "bin_end": 0.45493318200000005,
            "count": 1
           }
          ]
         }
        },
        {
         "name": "PacificIsl_pct",
         "dtype": "float64",
         "stats": {
          "unique_count": 5,
          "nan_count": 0,
          "min": 0,
          "max": 0.27238678899999996,
          "histogram": [
           {
            "bin_start": 0,
            "bin_end": 0.027238678899999997,
            "count": 1
           },
           {
            "bin_start": 0.027238678899999997,
            "bin_end": 0.054477357799999994,
            "count": 0
           },
           {
            "bin_start": 0.054477357799999994,
            "bin_end": 0.0817160367,
            "count": 0
           },
           {
            "bin_start": 0.0817160367,
            "bin_end": 0.10895471559999999,
            "count": 1
           },
           {
            "bin_start": 0.10895471559999999,
            "bin_end": 0.13619339449999998,
            "count": 1
           },
           {
            "bin_start": 0.13619339449999998,
            "bin_end": 0.1634320734,
            "count": 1
           },
           {
            "bin_start": 0.1634320734,
            "bin_end": 0.19067075229999997,
            "count": 0
           },
           {
            "bin_start": 0.19067075229999997,
            "bin_end": 0.21790943119999998,
            "count": 0
           },
           {
            "bin_start": 0.21790943119999998,
            "bin_end": 0.24514811009999998,
            "count": 0
           },
           {
            "bin_start": 0.24514811009999998,
            "bin_end": 0.27238678899999996,
            "count": 1
           }
          ]
         }
        },
        {
         "name": "other_pct",
         "dtype": "float64",
         "stats": {
          "unique_count": 5,
          "nan_count": 0,
          "min": 0.151975684,
          "max": 0.8512087159999999,
          "histogram": [
           {
            "bin_start": 0.151975684,
            "bin_end": 0.2218989872,
            "count": 1
           },
           {
            "bin_start": 0.2218989872,
            "bin_end": 0.29182229039999996,
            "count": 0
           },
           {
            "bin_start": 0.29182229039999996,
            "bin_end": 0.36174559359999997,
            "count": 0
           },
           {
            "bin_start": 0.36174559359999997,
            "bin_end": 0.4316688968,
            "count": 1
           },
           {
            "bin_start": 0.4316688968,
            "bin_end": 0.5015921999999999,
            "count": 0
           },
           {
            "bin_start": 0.5015921999999999,
            "bin_end": 0.5715155031999999,
            "count": 1
           },
           {
            "bin_start": 0.5715155031999999,
            "bin_end": 0.6414388064,
            "count": 0
           },
           {
            "bin_start": 0.6414388064,
            "bin_end": 0.7113621096,
            "count": 1
           },
           {
            "bin_start": 0.7113621096,
            "bin_end": 0.7812854128,
            "count": 0
           },
           {
            "bin_start": 0.7812854128,
            "bin_end": 0.8512087159999999,
            "count": 1
           }
          ]
         }
        },
        {
         "name": "version",
         "dtype": "object",
         "stats": {
          "unique_count": 1,
          "nan_count": 0,
          "categories": [
           {
            "name": "Wed13Dec17",
            "count": 5
           }
          ]
         }
        },
        {
         "name": "_deepnote_index_column",
         "dtype": "int64"
        }
       ],
       "rows_top": [
        {
         "CensusTract": 6001400100,
         "pop2010": 2937,
         "pct2010gq": 0.1,
         "City": "Oakland",
         "ZIP": 94704,
         "County_FIPS": 6001,
         "County_Name": "Alameda",
         "UrbanType": "urban_area",
         "hpi2score": 1.182028296,
         "hpi2_pctile_pos": 99.11459002,
         "hpi2_pctile_neg": 0.885409983,
         "hpi_top25pct": "Yes",
         "quintiles": 1,
         "quartiles": 1,
         "economic": 1.73596312,
         "economic_pctile": 98.69113307,
         "education": 0.9489684620000001,
         "education_pctile": 90.09367381,
         "housing": 0.730551597,
         "housing_pctile": 90.00384961,
         "healthcareaccess": 1.285242394,
         "healthcareaccess_pctile": 93.81496215,
         "neighborhood": 0.832169913,
         "neighborhood_pctile": 98.39599641,
         "pollution": 0.878124826,
         "pollution_pctile": 92.37777493,
         "transportation": 0.616855445,
         "transportation_pctile": 95.22648531,
         "social": 1.3366018640000001,
         "social_pctile": 96.88181702,
         "insured": 95,
         "insured_pctile": 93.81496215,
         "uncrowded": 99.3,
         "uncrowded_pctile": 89.46490440000001,
         "homeownership": 85.5,
         "homeownership_pctile": 92.00564609,
         "automobile": 98.6,
         "automobile_pctile": 87.47593995,
         "commute": 15.28455285,
         "commute_pctile": 82.88207366,
         "inpreschool": 53.7,
         "inpreschool_pctile": 53.71487232,
         "inhighschool": 100,
         "inhighschool_pctile": 100,
         "bachelorsed": 79.7,
         "bachelorsed_pctile": 98.67830104,
         "employed": 73.7,
         "employed_pctile": 68.92082638,
         "abovepoverty": 92.37804878,
         "abovepoverty_pctile": 96.44552804,
         "income": 174113,
         "income_pctile": 99.10175799,
         "retail": 9.587563451,
         "retail_pctile": 97.60041062,
         "parkaccess": 100,
         "parkaccess_pctile": 81.35506224,
         "treecanopy": 36.43379829999999,
         "treecanopy_pctile": 97.42076222,
         "alcoffsale": 73.16990126,
         "alcoffsale_pctile": 64.12164763,
         "voting": 82.78168224,
         "voting_pctile": 93.22468882,
         "ownsevere": 5.092592593,
         "ownsevere_pctile": 90.06800975,
         "rentsevere": 27.27272727,
         "rentsevere_pctile": 45.78467856,
         "houserepair": 100,
         "houserepair_pctile": 80.81611703,
         "twoparents": 93.07479224,
         "twoparents_pctile": 92.48043116,
         "supermkts": 1.3192057879999999,
         "supermkts_pctile": 13.39663801,
         "ozone": 0.029592333,
         "ozone_pctile": 96.08623123,
         "pm25": 8.69794377,
         "pm25_pctile": 74.75939946,
         "dieselpm": 27.43693284,
         "dieselpm_pctile": 18.9272424,
         "h20contam": 70.5995829,
         "h20contam_pctile": 97.20261773,
         "LEB": 86.98550623,
         "LEB_pctile": 96.66367253,
         "white_pct": 70.75246851,
         "black_pct": 4.766768812,
         "asian_pct": 15.52604699,
         "latino_pct": 3.983656793,
         "multiple_pct": 3.7793667010000003,
         "NativeAm_pct": 0.068096697,
         "PacificIsl_pct": 0.27238678899999996,
         "other_pct": 0.8512087159999999,
         "version": "Wed13Dec17",
         "_deepnote_index_column": 0
        },
        {
         "CensusTract": 6001400200,
         "pop2010": 1974,
         "pct2010gq": 3.5,
         "City": "Oakland",
         "ZIP": 94618,
         "County_FIPS": 6001,
         "County_Name": "Alameda",
         "UrbanType": "urban_area",
         "hpi2score": 1.325873799,
         "hpi2_pctile_pos": 99.70486334,
         "hpi2_pctile_neg": 0.295136661,
         "hpi_top25pct": "Yes",
         "quintiles": 1,
         "quartiles": 1,
         "economic": 1.808760851,
         "economic_pctile": 99.03759784,
         "education": 1.137724703,
         "education_pctile": 94.64904401,
         "housing": 0.9597282540000001,
         "housing_pctile": 96.8304889,
         "healthcareaccess": 1.004970538,
         "healthcareaccess_pctile": 83.98562813,
         "neighborhood": 0.503231709,
         "neighborhood_pctile": 94.37957141,
         "pollution": 0.6572610560000001,
         "pollution_pctile": 85.62812781,
         "transportation": 1.49436603,
         "transportation_pctile": 99.65353522,
         "social": 1.2271164079999999,
         "social_pctile": 94.68754009999999,
         "insured": 91.6,
         "insured_pctile": 83.98562813,
         "uncrowded": 100,
         "uncrowded_pctile": 96.93314513,
         "homeownership": 63.6,
         "homeownership_pctile": 59.50211728,
         "automobile": 94.1,
         "automobile_pctile": 46.02848710000001,
         "commute": 41.95075758,
         "commute_pctile": 96.79199281,
         "inpreschool": 64.7,
         "inpreschool_pctile": 67.79160785,
         "inhighschool": 100,
         "inhighschool_pctile": 100,
         "bachelorsed": 82.9,
         "bachelorsed_pctile": 99.44822276,
         "employed": 85.6,
         "employed_pctile": 99.17875016,
         "abovepoverty": 88.76008065,
         "abovepoverty_pctile": 90.96625176,
         "income": 141806,
         "income_pctile": 96.6508405,
         "retail": 2.448042558,
         "retail_pctile": 82.65109714,
         "parkaccess": 91.79330999999999,
         "parkaccess_pctile": 50.26305659,
         "treecanopy": 19.7083709,
         "treecanopy_pctile": 92.46759913,
         "alcoffsale": 28.41945289,
         "alcoffsale_pctile": 26.831772100000002,
         "voting": 85.49257179,
         "voting_pctile": 97.80572308,
         "ownsevere": 3.8834951460000005,
         "ownsevere_pctile": 94.18709098,
         "rentsevere": 2.666666667,
         "rentsevere_pctile": 97.89554729,
         "houserepair": 99.38650307,
         "houserepair_pctile": 51.14846657,
         "twoparents": 87.01298701,
         "twoparents_pctile": 77.9930707,
         "supermkts": 100,
         "supermkts_pctile": 94.25125112,
         "ozone": 0.029592333,
         "ozone_pctile": 96.08623123,
         "pm25": 8.69794377,
         "pm25_pctile": 74.75939946,
         "dieselpm": 42.19,
         "dieselpm_pctile": 5.569100475,
         "h20contam": 70.5995829,
         "h20contam_pctile": 97.20261773,
         "LEB": 86.95761586,
         "LEB_pctile": 96.61234441,
         "white_pct": 78.31813576,
         "black_pct": 1.5704154,
         "asian_pct": 7.396149949,
         "latino_pct": 7.649442756,
         "multiple_pct": 4.812563323,
         "NativeAm_pct": 0.10131712300000001,
         "PacificIsl_pct": 0,
         "other_pct": 0.151975684,
         "version": "Wed13Dec17",
         "_deepnote_index_column": 1
        },
        {
         "CensusTract": 6001400300,
         "pop2010": 4865,
         "pct2010gq": 0.8,
         "City": "Oakland",
         "ZIP": 94618,
         "County_FIPS": 6001,
         "County_Name": "Alameda",
         "UrbanType": "urban_area",
         "hpi2score": 0.925665702,
         "hpi2_pctile_pos": 95.93224689,
         "hpi2_pctile_neg": 4.067753112,
         "hpi_top25pct": "Yes",
         "quintiles": 1,
         "quartiles": 1,
         "economic": 1.014491555,
         "economic_pctile": 87.24496343,
         "education": 1.348314049,
         "education_pctile": 98.16501989,
         "housing": 0.603628313,
         "housing_pctile": 84.08828436,
         "healthcareaccess": 1.2687558140000001,
         "healthcareaccess_pctile": 93.18619274,
         "neighborhood": -0.291977182,
         "neighborhood_pctile": 19.94097267,
         "pollution": 0.6572610560000001,
         "pollution_pctile": 85.62812781,
         "transportation": 0.8222676990000001,
         "transportation_pctile": 97.20261773,
         "social": 1.078499777,
         "social_pctile": 90.96625176,
         "insured": 94.8,
         "insured_pctile": 93.18619274,
         "uncrowded": 100,
         "uncrowded_pctile": 96.93314513,
         "homeownership": 44.3,
         "homeownership_pctile": 33.85089183,
         "automobile": 85.5,
         "automobile_pctile": 14.11523162,
         "commute": 37.87398803,
         "commute_pctile": 96.04773515,
         "inpreschool": 100,
         "inpreschool_pctile": 95.71410240000002,
         "inhighschool": 100,
         "inhighschool_pctile": 100,
         "bachelorsed": 68.8,
         "bachelorsed_pctile": 94.35390735,
         "employed": 81.4,
         "employed_pctile": 95.27781342,
         "abovepoverty": 85.74387947,
         "abovepoverty_pctile": 85.30732709,
         "income": 84598,
         "income_pctile": 74.99037598,
         "retail": 1.890912421,
         "retail_pctile": 76.47889131,
         "parkaccess": 33.25797,
         "parkaccess_pctile": 15.83472347,
         "treecanopy": 5.8385298,
         "treecanopy_pctile": 57.32067239999999,
         "alcoffsale": 16.69064748,
         "alcoffsale_pctile": 19.31220326,
         "voting": 82.08659713,
         "voting_pctile": 91.81316566,
         "ownsevere": 7.359307359,
         "ownsevere_pctile": 79.07096112,
         "rentsevere": 12.17712177,
         "rentsevere_pctile": 88.77197485,
         "houserepair": 100,
         "houserepair_pctile": 80.81611703,
         "twoparents": 87.22157093,
         "twoparents_pctile": 78.42935968,
         "supermkts": 92.74517736,
         "supermkts_pctile": 80.35416399,
         "ozone": 0.029592333,
         "ozone_pctile": 96.08623123,
         "pm25": 8.69794377,
         "pm25_pctile": 74.75939946,
         "dieselpm": 42.19,
         "dieselpm_pctile": 5.569100475,
         "h20contam": 70.5995829,
         "h20contam_pctile": 97.20261773,
         "LEB": 86.46294163,
         "LEB_pctile": 95.13666111,
         "white_pct": 66.9270298,
         "black_pct": 10.52415211,
         "asian_pct": 8.612538541000001,
         "latino_pct": 8.201438849,
         "multiple_pct": 5.056526208,
         "NativeAm_pct": 0.16443987699999998,
         "PacificIsl_pct": 0.102774923,
         "other_pct": 0.411099692,
         "version": "Wed13Dec17",
         "_deepnote_index_column": 2
        },
        {
         "CensusTract": 6001400400,
         "pop2010": 3703,
         "pct2010gq": 0.9,
         "City": "Oakland",
         "ZIP": 94609,
         "County_FIPS": 6001,
         "County_Name": "Alameda",
         "UrbanType": "urban_area",
         "hpi2score": 1.117603414,
         "hpi2_pctile_pos": 98.53714872,
         "hpi2_pctile_neg": 1.462851277,
         "hpi_top25pct": "Yes",
         "quintiles": 1,
         "quartiles": 1,
         "economic": 1.277656808,
         "economic_pctile": 93.62248171,
         "education": 0.9395008979999999,
         "education_pctile": 89.91402541,
         "housing": 0.356477088,
         "housing_pctile": 68.38188118,
         "healthcareaccess": 1.301728974,
         "healthcareaccess_pctile": 94.43089953,
         "neighborhood": 0.07002686799999999,
         "neighborhood_pctile": 57.93660978,
         "pollution": 0.6572610560000001,
         "pollution_pctile": 85.62812781,
         "transportation": 1.7566567069999999,
         "transportation_pctile": 99.91017579999999,
         "social": 1.295416958,
         "social_pctile": 96.25304761,
         "insured": 95.2,
         "insured_pctile": 94.43089953,
         "uncrowded": 99.2,
         "uncrowded_pctile": 88.25869370000001,
         "homeownership": 37.9,
         "homeownership_pctile": 26.30565892,
         "automobile": 92.9,
         "automobile_pctile": 38.61157449,
         "commute": 49.72451791,
         "commute_pctile": 98.01103554,
         "inpreschool": 72.3,
         "inpreschool_pctile": 75.68330553,
         "inhighschool": 97.2,
         "inhighschool_pctile": 22.276401899999996,
         "bachelorsed": 75.5,
         "bachelorsed_pctile": 97.21544976,
         "employed": 84.6,
         "employed_pctile": 98.70396509999999,
         "abovepoverty": 83.21541839,
         "abovepoverty_pctile": 80.14885153,
         "income": 102386,
         "income_pctile": 86.50070576,
         "retail": 1.828020341,
         "retail_pctile": 75.61914539,
         "parkaccess": 84.229,
         "parkaccess_pctile": 42.73065572,
         "treecanopy": 11.378516099999999,
         "treecanopy_pctile": 82.99756191,
         "alcoffsale": 0,
         "alcoffsale_pctile": 4.5168741180000005,
         "voting": 83.73253947,
         "voting_pctile": 95.17515719,
         "ownsevere": 13.10344828,
         "ownsevere_pctile": 42.64083152,
         "rentsevere": 11.926605499999999,
         "rentsevere_pctile": 89.24675991,
         "houserepair": 99.44903581,
         "houserepair_pctile": 53.43256769,
         "twoparents": 90.8765653,
         "twoparents_pctile": 88.37418196,
         "supermkts": 97.84446589,
         "supermkts_pctile": 84.58873348,
         "ozone": 0.029592333,
         "ozone_pctile": 96.08623123,
         "pm25": 8.69794377,
         "pm25_pctile": 74.75939946,
         "dieselpm": 42.19,
         "dieselpm_pctile": 5.569100475,
         "h20contam": 70.5995829,
         "h20contam_pctile": 97.20261773,
         "LEB": 82.71089686,
         "LEB_pctile": 68.95932247,
         "white_pct": 65.46043748,
         "black_pct": 12.09829868,
         "asian_pct": 7.291385363,
         "latino_pct": 8.965703484,
         "multiple_pct": 5.320010802,
         "NativeAm_pct": 0.135025655,
         "PacificIsl_pct": 0.162030786,
         "other_pct": 0.56710775,
         "version": "Wed13Dec17",
         "_deepnote_index_column": 3
        },
        {
         "CensusTract": 6001400500,
         "pop2010": 3517,
         "pct2010gq": 3.6,
         "City": "Oakland",
         "ZIP": 94609,
         "County_FIPS": 6001,
         "County_Name": "Alameda",
         "UrbanType": "urban_area",
         "hpi2score": 0.56279906,
         "hpi2_pctile_pos": 83.31836263,
         "hpi2_pctile_neg": 16.68163737,
         "hpi_top25pct": "Yes",
         "quintiles": 1,
         "quartiles": 1,
         "economic": 0.577803305,
         "economic_pctile": 71.85936096,
         "education": 0.486144516,
         "education_pctile": 75.37533684,
         "housing": 0.029925628,
         "housing_pctile": 45.95149493,
         "healthcareaccess": 0.485643275,
         "healthcareaccess_pctile": 62.95393302,
         "neighborhood": -0.106063175,
         "neighborhood_pctile": 34.98011036,
         "pollution": 0.6572610560000001,
         "pollution_pctile": 85.62812781,
         "transportation": 0.8730715170000001,
         "transportation_pctile": 97.53625048,
         "social": 0.949500193,
         "social_pctile": 86.82150648,
         "insured": 85.3,
         "insured_pctile": 62.95393302,
         "uncrowded": 97.5,
         "uncrowded_pctile": 71.88502502,
         "homeownership": 36.3,
         "homeownership_pctile": 24.61183113,
         "automobile": 85.4,
         "automobile_pctile": 13.93558322,
         "commute": 39.2,
         "commute_pctile": 96.26587964,
         "inpreschool": 39.7,
         "inpreschool_pctile": 34.55665341,
         "inhighschool": 100,
         "inhighschool_pctile": 100,
         "bachelorsed": 61.9,
         "bachelorsed_pctile": 90.01668164,
         "employed": 77,
         "employed_pctile": 83.80597973,
         "abovepoverty": 74.88308116,
         "abovepoverty_pctile": 63.5698704,
         "income": 76038,
         "income_pctile": 67.67611959,
         "retail": 1.252350919,
         "retail_pctile": 64.57076864,
         "parkaccess": 100,
         "parkaccess_pctile": 81.35506224,
         "treecanopy": 5.6254528,
         "treecanopy_pctile": 55.357372,
         "alcoffsale": 0,
         "alcoffsale_pctile": 4.5168741180000005,
         "voting": 78.01067469,
         "voting_pctile": 81.48338252,
         "ownsevere": 19.65811966,
         "ownsevere_pctile": 15.52675478,
         "rentsevere": 20.39800995,
         "rentsevere_pctile": 69.31861927,
         "houserepair": 99.68553459,
         "houserepair_pctile": 59.96407032,
         "twoparents": 88.73563218,
         "twoparents_pctile": 82.6767612,
         "supermkts": 74.72266366,
         "supermkts_pctile": 68.09957654,
         "ozone": 0.029592333,
         "ozone_pctile": 96.08623123,
         "pm25": 8.69794377,
         "pm25_pctile": 74.75939946,
         "dieselpm": 42.19,
         "dieselpm_pctile": 5.569100475,
         "h20contam": 70.5995829,
         "h20contam_pctile": 97.20261773,
         "LEB": 80.12323761,
         "LEB_pctile": 38.85538304,
         "white_pct": 50.55444982,
         "black_pct": 26.52829116,
         "asian_pct": 5.914131362000001,
         "latino_pct": 9.667330111,
         "multiple_pct": 6.113164629,
         "NativeAm_pct": 0.45493318200000005,
         "PacificIsl_pct": 0.113733295,
         "other_pct": 0.653966449,
         "version": "Wed13Dec17",
         "_deepnote_index_column": 4
        }
       ],
       "rows_bottom": null
      },
      "text/plain": "   CensusTract  pop2010  pct2010gq     City      ZIP  County_FIPS County_Name  \\\n0   6001400100     2937        0.1  Oakland  94704.0         6001     Alameda   \n1   6001400200     1974        3.5  Oakland  94618.0         6001     Alameda   \n2   6001400300     4865        0.8  Oakland  94618.0         6001     Alameda   \n3   6001400400     3703        0.9  Oakland  94609.0         6001     Alameda   \n4   6001400500     3517        3.6  Oakland  94609.0         6001     Alameda   \n\n    UrbanType  hpi2score  hpi2_pctile_pos  ...  LEB_pctile  white_pct  \\\n0  urban_area   1.182028        99.114590  ...   96.663673  70.752469   \n1  urban_area   1.325874        99.704863  ...   96.612344  78.318136   \n2  urban_area   0.925666        95.932247  ...   95.136661  66.927030   \n3  urban_area   1.117603        98.537149  ...   68.959322  65.460437   \n4  urban_area   0.562799        83.318363  ...   38.855383  50.554450   \n\n   black_pct  asian_pct  latino_pct  multiple_pct  NativeAm_pct  \\\n0   4.766769  15.526047    3.983657      3.779367      0.068097   \n1   1.570415   7.396150    7.649443      4.812563      0.101317   \n2  10.524152   8.612539    8.201439      5.056526      0.164440   \n3  12.098299   7.291385    8.965703      5.320011      0.135026   \n4  26.528291   5.914131    9.667330      6.113165      0.454933   \n\n   PacificIsl_pct  other_pct     version  \n0        0.272387   0.851209  Wed13Dec17  \n1        0.000000   0.151976  Wed13Dec17  \n2        0.102775   0.411100  Wed13Dec17  \n3        0.162031   0.567108  Wed13Dec17  \n4        0.113733   0.653966  Wed13Dec17  \n\n[5 rows x 91 columns]",
      "text/html": "<div>\n<style scoped>\n    .dataframe tbody tr th:only-of-type {\n        vertical-align: middle;\n    }\n\n    .dataframe tbody tr th {\n        vertical-align: top;\n    }\n\n    .dataframe thead th {\n        text-align: right;\n    }\n</style>\n<table border=\"1\" class=\"dataframe\">\n  <thead>\n    <tr style=\"text-align: right;\">\n      <th></th>\n      <th>CensusTract</th>\n      <th>pop2010</th>\n      <th>pct2010gq</th>\n      <th>City</th>\n      <th>ZIP</th>\n      <th>County_FIPS</th>\n      <th>County_Name</th>\n      <th>UrbanType</th>\n      <th>hpi2score</th>\n      <th>hpi2_pctile_pos</th>\n      <th>...</th>\n      <th>LEB_pctile</th>\n      <th>white_pct</th>\n      <th>black_pct</th>\n      <th>asian_pct</th>\n      <th>latino_pct</th>\n      <th>multiple_pct</th>\n      <th>NativeAm_pct</th>\n      <th>PacificIsl_pct</th>\n      <th>other_pct</th>\n      <th>version</th>\n    </tr>\n  </thead>\n  <tbody>\n    <tr>\n      <th>0</th>\n      <td>6001400100</td>\n      <td>2937</td>\n      <td>0.1</td>\n      <td>Oakland</td>\n      <td>94704.0</td>\n      <td>6001</td>\n      <td>Alameda</td>\n      <td>urban_area</td>\n      <td>1.182028</td>\n      <td>99.114590</td>\n      <td>...</td>\n      <td>96.663673</td>\n      <td>70.752469</td>\n      <td>4.766769</td>\n      <td>15.526047</td>\n      <td>3.983657</td>\n      <td>3.779367</td>\n      <td>0.068097</td>\n      <td>0.272387</td>\n      <td>0.851209</td>\n      <td>Wed13Dec17</td>\n    </tr>\n    <tr>\n      <th>1</th>\n      <td>6001400200</td>\n      <td>1974</td>\n      <td>3.5</td>\n      <td>Oakland</td>\n      <td>94618.0</td>\n      <td>6001</td>\n      <td>Alameda</td>\n      <td>urban_area</td>\n      <td>1.325874</td>\n      <td>99.704863</td>\n      <td>...</td>\n      <td>96.612344</td>\n      <td>78.318136</td>\n      <td>1.570415</td>\n      <td>7.396150</td>\n      <td>7.649443</td>\n      <td>4.812563</td>\n      <td>0.101317</td>\n      <td>0.000000</td>\n      <td>0.151976</td>\n      <td>Wed13Dec17</td>\n    </tr>\n    <tr>\n      <th>2</th>\n      <td>6001400300</td>\n      <td>4865</td>\n      <td>0.8</td>\n      <td>Oakland</td>\n      <td>94618.0</td>\n      <td>6001</td>\n      <td>Alameda</td>\n      <td>urban_area</td>\n      <td>0.925666</td>\n      <td>95.932247</td>\n      <td>...</td>\n      <td>95.136661</td>\n      <td>66.927030</td>\n      <td>10.524152</td>\n      <td>8.612539</td>\n      <td>8.201439</td>\n      <td>5.056526</td>\n      <td>0.164440</td>\n      <td>0.102775</td>\n      <td>0.411100</td>\n      <td>Wed13Dec17</td>\n    </tr>\n    <tr>\n      <th>3</th>\n      <td>6001400400</td>\n      <td>3703</td>\n      <td>0.9</td>\n      <td>Oakland</td>\n      <td>94609.0</td>\n      <td>6001</td>\n      <td>Alameda</td>\n      <td>urban_area</td>\n      <td>1.117603</td>\n      <td>98.537149</td>\n      <td>...</td>\n      <td>68.959322</td>\n      <td>65.460437</td>\n      <td>12.098299</td>\n      <td>7.291385</td>\n      <td>8.965703</td>\n      <td>5.320011</td>\n      <td>0.135026</td>\n      <td>0.162031</td>\n      <td>0.567108</td>\n      <td>Wed13Dec17</td>\n    </tr>\n    <tr>\n      <th>4</th>\n      <td>6001400500</td>\n      <td>3517</td>\n      <td>3.6</td>\n      <td>Oakland</td>\n      <td>94609.0</td>\n      <td>6001</td>\n      <td>Alameda</td>\n      <td>urban_area</td>\n      <td>0.562799</td>\n      <td>83.318363</td>\n      <td>...</td>\n      <td>38.855383</td>\n      <td>50.554450</td>\n      <td>26.528291</td>\n      <td>5.914131</td>\n      <td>9.667330</td>\n      <td>6.113165</td>\n      <td>0.454933</td>\n      <td>0.113733</td>\n      <td>0.653966</td>\n      <td>Wed13Dec17</td>\n    </tr>\n  </tbody>\n</table>\n<p>5 rows × 91 columns</p>\n</div>"
     },
     "metadata": {}
    }
   ]
  },
  {
   "cell_type": "code",
   "metadata": {
    "output_cleared": false,
    "tags": [],
    "cell_id": "00004-f2e71b1b-5df2-45f1-8a56-54302a2a3460",
    "deepnote_cell_type": "code"
   },
   "source": "#Rename the HPI dataset CensusTract column to GEOID, for joining with Cali Redlining dataset\nHPI_data = HPI_data.rename(columns = {'CensusTract':'GEOID'})\nHPI_data.head()",
   "execution_count": null,
   "outputs": [
    {
     "output_type": "execute_result",
     "execution_count": 4,
     "data": {
      "application/vnd.deepnote.dataframe.v2+json": {
       "row_count": 5,
       "column_count": 91,
       "columns": [
        {
         "name": "GEOID",
         "dtype": "int64",
         "stats": {
          "unique_count": 5,
          "nan_count": 0,
          "min": 6001400100,
          "max": 6001400500,
          "histogram": [
           {
            "bin_start": 6001400100,
            "bin_end": 6001400140,
            "count": 1
           },
           {
            "bin_start": 6001400140,
            "bin_end": 6001400180,
            "count": 0
           },
           {
            "bin_start": 6001400180,
            "bin_end": 6001400220,
            "count": 1
           },
           {
            "bin_start": 6001400220,
            "bin_end": 6001400260,
            "count": 0
           },
           {
            "bin_start": 6001400260,
            "bin_end": 6001400300,
            "count": 0
           },
           {
            "bin_start": 6001400300,
            "bin_end": 6001400340,
            "count": 1
           },
           {
            "bin_start": 6001400340,
            "bin_end": 6001400380,
            "count": 0
           },
           {
            "bin_start": 6001400380,
            "bin_end": 6001400420,
            "count": 1
           },
           {
            "bin_start": 6001400420,
            "bin_end": 6001400460,
            "count": 0
           },
           {
            "bin_start": 6001400460,
            "bin_end": 6001400500,
            "count": 1
           }
          ]
         }
        },
        {
         "name": "pop2010",
         "dtype": "int64",
         "stats": {
          "unique_count": 5,
          "nan_count": 0,
          "min": 1974,
          "max": 4865,
          "histogram": [
           {
            "bin_start": 1974,
            "bin_end": 2263.1,
            "count": 1
           },
           {
            "bin_start": 2263.1,
            "bin_end": 2552.2,
            "count": 0
           },
           {
            "bin_start": 2552.2,
            "bin_end": 2841.3,
            "count": 0
           },
           {
            "bin_start": 2841.3,
            "bin_end": 3130.4,
            "count": 1
           },
           {
            "bin_start": 3130.4,
            "bin_end": 3419.5,
            "count": 0
           },
           {
            "bin_start": 3419.5,
            "bin_end": 3708.6000000000004,
            "count": 2
           },
           {
            "bin_start": 3708.6000000000004,
            "bin_end": 3997.7000000000003,
            "count": 0
           },
           {
            "bin_start": 3997.7000000000003,
            "bin_end": 4286.8,
            "count": 0
           },
           {
            "bin_start": 4286.8,
            "bin_end": 4575.9,
            "count": 0
           },
           {
            "bin_start": 4575.9,
            "bin_end": 4865,
            "count": 1
           }
          ]
         }
        },
        {
         "name": "pct2010gq",
         "dtype": "float64",
         "stats": {
          "unique_count": 5,
          "nan_count": 0,
          "min": 0.1,
          "max": 3.6,
          "histogram": [
           {
            "bin_start": 0.1,
            "bin_end": 0.44999999999999996,
            "count": 1
           },
           {
            "bin_start": 0.44999999999999996,
            "bin_end": 0.7999999999999999,
            "count": 0
           },
           {
            "bin_start": 0.7999999999999999,
            "bin_end": 1.15,
            "count": 2
           },
           {
            "bin_start": 1.15,
            "bin_end": 1.5,
            "count": 0
           },
           {
            "bin_start": 1.5,
            "bin_end": 1.85,
            "count": 0
           },
           {
            "bin_start": 1.85,
            "bin_end": 2.1999999999999997,
            "count": 0
           },
           {
            "bin_start": 2.1999999999999997,
            "bin_end": 2.55,
            "count": 0
           },
           {
            "bin_start": 2.55,
            "bin_end": 2.9,
            "count": 0
           },
           {
            "bin_start": 2.9,
            "bin_end": 3.25,
            "count": 0
           },
           {
            "bin_start": 3.25,
            "bin_end": 3.6,
            "count": 2
           }
          ]
         }
        },
        {
         "name": "City",
         "dtype": "object",
         "stats": {
          "unique_count": 1,
          "nan_count": 0,
          "categories": [
           {
            "name": "Oakland",
            "count": 5
           }
          ]
         }
        },
        {
         "name": "ZIP",
         "dtype": "float64",
         "stats": {
          "unique_count": 3,
          "nan_count": 0,
          "min": 94609,
          "max": 94704,
          "histogram": [
           {
            "bin_start": 94609,
            "bin_end": 94618.5,
            "count": 4
           },
           {
            "bin_start": 94618.5,
            "bin_end": 94628,
            "count": 0
           },
           {
            "bin_start": 94628,
            "bin_end": 94637.5,
            "count": 0
           },
           {
            "bin_start": 94637.5,
            "bin_end": 94647,
            "count": 0
           },
           {
            "bin_start": 94647,
            "bin_end": 94656.5,
            "count": 0
           },
           {
            "bin_start": 94656.5,
            "bin_end": 94666,
            "count": 0
           },
           {
            "bin_start": 94666,
            "bin_end": 94675.5,
            "count": 0
           },
           {
            "bin_start": 94675.5,
            "bin_end": 94685,
            "count": 0
           },
           {
            "bin_start": 94685,
            "bin_end": 94694.5,
            "count": 0
           },
           {
            "bin_start": 94694.5,
            "bin_end": 94704,
            "count": 1
           }
          ]
         }
        },
        {
         "name": "County_FIPS",
         "dtype": "int64",
         "stats": {
          "unique_count": 1,
          "nan_count": 0,
          "min": 6001,
          "max": 6001,
          "histogram": [
           {
            "bin_start": 6000.5,
            "bin_end": 6000.6,
            "count": 0
           },
           {
            "bin_start": 6000.6,
            "bin_end": 6000.7,
            "count": 0
           },
           {
            "bin_start": 6000.7,
            "bin_end": 6000.8,
            "count": 0
           },
           {
            "bin_start": 6000.8,
            "bin_end": 6000.9,
            "count": 0
           },
           {
            "bin_start": 6000.9,
            "bin_end": 6001,
            "count": 0
           },
           {
            "bin_start": 6001,
            "bin_end": 6001.1,
            "count": 5
           },
           {
            "bin_start": 6001.1,
            "bin_end": 6001.2,
            "count": 0
           },
           {
            "bin_start": 6001.2,
            "bin_end": 6001.3,
            "count": 0
           },
           {
            "bin_start": 6001.3,
            "bin_end": 6001.4,
            "count": 0
           },
           {
            "bin_start": 6001.4,
            "bin_end": 6001.5,
            "count": 0
           }
          ]
         }
        },
        {
         "name": "County_Name",
         "dtype": "object",
         "stats": {
          "unique_count": 1,
          "nan_count": 0,
          "categories": [
           {
            "name": "Alameda",
            "count": 5
           }
          ]
         }
        },
        {
         "name": "UrbanType",
         "dtype": "object",
         "stats": {
          "unique_count": 1,
          "nan_count": 0,
          "categories": [
           {
            "name": "urban_area",
            "count": 5
           }
          ]
         }
        },
        {
         "name": "hpi2score",
         "dtype": "float64",
         "stats": {
          "unique_count": 5,
          "nan_count": 0,
          "min": 0.56279906,
          "max": 1.325873799,
          "histogram": [
           {
            "bin_start": 0.56279906,
            "bin_end": 0.6391065339,
            "count": 1
           },
           {
            "bin_start": 0.6391065339,
            "bin_end": 0.7154140078,
            "count": 0
           },
           {
            "bin_start": 0.7154140078,
            "bin_end": 0.7917214817,
            "count": 0
           },
           {
            "bin_start": 0.7917214817,
            "bin_end": 0.8680289556,
            "count": 0
           },
           {
            "bin_start": 0.8680289556,
            "bin_end": 0.9443364295000001,
            "count": 1
           },
           {
            "bin_start": 0.9443364295000001,
            "bin_end": 1.0206439034,
            "count": 0
           },
           {
            "bin_start": 1.0206439034,
            "bin_end": 1.0969513773,
            "count": 0
           },
           {
            "bin_start": 1.0969513773,
            "bin_end": 1.1732588512,
            "count": 1
           },
           {
            "bin_start": 1.1732588512,
            "bin_end": 1.2495663251,
            "count": 1
           },
           {
            "bin_start": 1.2495663251,
            "bin_end": 1.325873799,
            "count": 1
           }
          ]
         }
        },
        {
         "name": "hpi2_pctile_pos",
         "dtype": "float64",
         "stats": {
          "unique_count": 5,
          "nan_count": 0,
          "min": 83.31836263,
          "max": 99.70486334,
          "histogram": [
           {
            "bin_start": 83.31836263,
            "bin_end": 84.957012701,
            "count": 1
           },
           {
            "bin_start": 84.957012701,
            "bin_end": 86.595662772,
            "count": 0
           },
           {
            "bin_start": 86.595662772,
            "bin_end": 88.234312843,
            "count": 0
           },
           {
            "bin_start": 88.234312843,
            "bin_end": 89.872962914,
            "count": 0
           },
           {
            "bin_start": 89.872962914,
            "bin_end": 91.511612985,
            "count": 0
           },
           {
            "bin_start": 91.511612985,
            "bin_end": 93.150263056,
            "count": 0
           },
           {
            "bin_start": 93.150263056,
            "bin_end": 94.788913127,
            "count": 0
           },
           {
            "bin_start": 94.788913127,
            "bin_end": 96.427563198,
            "count": 1
           },
           {
            "bin_start": 96.427563198,
            "bin_end": 98.066213269,
            "count": 0
           },
           {
            "bin_start": 98.066213269,
            "bin_end": 99.70486334,
            "count": 3
           }
          ]
         }
        },
        {
         "name": "hpi2_pctile_neg",
         "dtype": "float64",
         "stats": {
          "unique_count": 5,
          "nan_count": 0,
          "min": 0.295136661,
          "max": 16.68163737,
          "histogram": [
           {
            "bin_start": 0.295136661,
            "bin_end": 1.9337867319000002,
            "count": 3
           },
           {
            "bin_start": 1.9337867319000002,
            "bin_end": 3.5724368028,
            "count": 0
           },
           {
            "bin_start": 3.5724368028,
            "bin_end": 5.2110868737,
            "count": 1
           },
           {
            "bin_start": 5.2110868737,
            "bin_end": 6.8497369446,
            "count": 0
           },
           {
            "bin_start": 6.8497369446,
            "bin_end": 8.4883870155,
            "count": 0
           },
           {
            "bin_start": 8.4883870155,
            "bin_end": 10.127037086400001,
            "count": 0
           },
           {
            "bin_start": 10.127037086400001,
            "bin_end": 11.7656871573,
            "count": 0
           },
           {
            "bin_start": 11.7656871573,
            "bin_end": 13.404337228200001,
            "count": 0
           },
           {
            "bin_start": 13.404337228200001,
            "bin_end": 15.042987299100002,
            "count": 0
           },
           {
            "bin_start": 15.042987299100002,
            "bin_end": 16.68163737,
            "count": 1
           }
          ]
         }
        },
        {
         "name": "hpi_top25pct",
         "dtype": "object",
         "stats": {
          "unique_count": 1,
          "nan_count": 0,
          "categories": [
           {
            "name": "Yes",
            "count": 5
           }
          ]
         }
        },
        {
         "name": "quintiles",
         "dtype": "float64",
         "stats": {
          "unique_count": 1,
          "nan_count": 0,
          "min": 1,
          "max": 1,
          "histogram": [
           {
            "bin_start": 0.5,
            "bin_end": 0.6,
            "count": 0
           },
           {
            "bin_start": 0.6,
            "bin_end": 0.7,
            "count": 0
           },
           {
            "bin_start": 0.7,
            "bin_end": 0.8,
            "count": 0
           },
           {
            "bin_start": 0.8,
            "bin_end": 0.9,
            "count": 0
           },
           {
            "bin_start": 0.9,
            "bin_end": 1,
            "count": 0
           },
           {
            "bin_start": 1,
            "bin_end": 1.1,
            "count": 5
           },
           {
            "bin_start": 1.1,
            "bin_end": 1.2000000000000002,
            "count": 0
           },
           {
            "bin_start": 1.2000000000000002,
            "bin_end": 1.3,
            "count": 0
           },
           {
            "bin_start": 1.3,
            "bin_end": 1.4,
            "count": 0
           },
           {
            "bin_start": 1.4,
            "bin_end": 1.5,
            "count": 0
           }
          ]
         }
        },
        {
         "name": "quartiles",
         "dtype": "float64",
         "stats": {
          "unique_count": 1,
          "nan_count": 0,
          "min": 1,
          "max": 1,
          "histogram": [
           {
            "bin_start": 0.5,
            "bin_end": 0.6,
            "count": 0
           },
           {
            "bin_start": 0.6,
            "bin_end": 0.7,
            "count": 0
           },
           {
            "bin_start": 0.7,
            "bin_end": 0.8,
            "count": 0
           },
           {
            "bin_start": 0.8,
            "bin_end": 0.9,
            "count": 0
           },
           {
            "bin_start": 0.9,
            "bin_end": 1,
            "count": 0
           },
           {
            "bin_start": 1,
            "bin_end": 1.1,
            "count": 5
           },
           {
            "bin_start": 1.1,
            "bin_end": 1.2000000000000002,
            "count": 0
           },
           {
            "bin_start": 1.2000000000000002,
            "bin_end": 1.3,
            "count": 0
           },
           {
            "bin_start": 1.3,
            "bin_end": 1.4,
            "count": 0
           },
           {
            "bin_start": 1.4,
            "bin_end": 1.5,
            "count": 0
           }
          ]
         }
        },
        {
         "name": "economic",
         "dtype": "float64",
         "stats": {
          "unique_count": 5,
          "nan_count": 0,
          "min": 0.577803305,
          "max": 1.808760851,
          "histogram": [
           {
            "bin_start": 0.577803305,
            "bin_end": 0.7008990596,
            "count": 1
           },
           {
            "bin_start": 0.7008990596,
            "bin_end": 0.8239948142,
            "count": 0
           },
           {
            "bin_start": 0.8239948142,
            "bin_end": 0.9470905688,
            "count": 0
           },
           {
            "bin_start": 0.9470905688,
            "bin_end": 1.0701863234,
            "count": 1
           },
           {
            "bin_start": 1.0701863234,
            "bin_end": 1.193282078,
            "count": 0
           },
           {
            "bin_start": 1.193282078,
            "bin_end": 1.3163778326,
            "count": 1
           },
           {
            "bin_start": 1.3163778326,
            "bin_end": 1.4394735872,
            "count": 0
           },
           {
            "bin_start": 1.4394735872,
            "bin_end": 1.5625693418,
            "count": 0
           },
           {
            "bin_start": 1.5625693418,
            "bin_end": 1.6856650964,
            "count": 0
           },
           {
            "bin_start": 1.6856650964,
            "bin_end": 1.808760851,
            "count": 2
           }
          ]
         }
        },
        {
         "name": "economic_pctile",
         "dtype": "float64",
         "stats": {
          "unique_count": 5,
          "nan_count": 0,
          "min": 71.85936096,
          "max": 99.03759784,
          "histogram": [
           {
            "bin_start": 71.85936096,
            "bin_end": 74.577184648,
            "count": 1
           },
           {
            "bin_start": 74.577184648,
            "bin_end": 77.29500833600001,
            "count": 0
           },
           {
            "bin_start": 77.29500833600001,
            "bin_end": 80.012832024,
            "count": 0
           },
           {
            "bin_start": 80.012832024,
            "bin_end": 82.730655712,
            "count": 0
           },
           {
            "bin_start": 82.730655712,
            "bin_end": 85.4484794,
            "count": 0
           },
           {
            "bin_start": 85.4484794,
            "bin_end": 88.166303088,
            "count": 1
           },
           {
            "bin_start": 88.166303088,
            "bin_end": 90.884126776,
            "count": 0
           },
           {
            "bin_start": 90.884126776,
            "bin_end": 93.601950464,
            "count": 0
           },
           {
            "bin_start": 93.601950464,
            "bin_end": 96.31977415200001,
            "count": 1
           },
           {
            "bin_start": 96.31977415200001,
            "bin_end": 99.03759784,
            "count": 2
           }
          ]
         }
        },
        {
         "name": "education",
         "dtype": "float64",
         "stats": {
          "unique_count": 5,
          "nan_count": 0,
          "min": 0.486144516,
          "max": 1.348314049,
          "histogram": [
           {
            "bin_start": 0.486144516,
            "bin_end": 0.5723614693000001,
            "count": 1
           },
           {
            "bin_start": 0.5723614693000001,
            "bin_end": 0.6585784226,
            "count": 0
           },
           {
            "bin_start": 0.6585784226,
            "bin_end": 0.7447953759000001,
            "count": 0
           },
           {
            "bin_start": 0.7447953759000001,
            "bin_end": 0.8310123292,
            "count": 0
           },
           {
            "bin_start": 0.8310123292,
            "bin_end": 0.9172292825000001,
            "count": 0
           },
           {
            "bin_start": 0.9172292825000001,
            "bin_end": 1.0034462358,
            "count": 2
           },
           {
            "bin_start": 1.0034462358,
            "bin_end": 1.0896631891000002,
            "count": 0
           },
           {
            "bin_start": 1.0896631891000002,
            "bin_end": 1.1758801424,
            "count": 1
           },
           {
            "bin_start": 1.1758801424,
            "bin_end": 1.2620970957000002,
            "count": 0
           },
           {
            "bin_start": 1.2620970957000002,
            "bin_end": 1.348314049,
            "count": 1
           }
          ]
         }
        },
        {
         "name": "education_pctile",
         "dtype": "float64",
         "stats": {
          "unique_count": 5,
          "nan_count": 0,
          "min": 75.37533684,
          "max": 98.16501989,
          "histogram": [
           {
            "bin_start": 75.37533684,
            "bin_end": 77.654305145,
            "count": 1
           },
           {
            "bin_start": 77.654305145,
            "bin_end": 79.93327345,
            "count": 0
           },
           {
            "bin_start": 79.93327345,
            "bin_end": 82.21224175500001,
            "count": 0
           },
           {
            "bin_start": 82.21224175500001,
            "bin_end": 84.49121006,
            "count": 0
           },
           {
            "bin_start": 84.49121006,
            "bin_end": 86.77017836499999,
            "count": 0
           },
           {
            "bin_start": 86.77017836499999,
            "bin_end": 89.04914667,
            "count": 0
           },
           {
            "bin_start": 89.04914667,
            "bin_end": 91.328114975,
            "count": 2
           },
           {
            "bin_start": 91.328114975,
            "bin_end": 93.60708328,
            "count": 0
           },
           {
            "bin_start": 93.60708328,
            "bin_end": 95.88605158499999,
            "count": 1
           },
           {
            "bin_start": 95.88605158499999,
            "bin_end": 98.16501989,
            "count": 1
           }
          ]
         }
        },
        {
         "name": "housing",
         "dtype": "float64",
         "stats": {
          "unique_count": 5,
          "nan_count": 0,
          "min": 0.029925628,
          "max": 0.9597282540000001,
          "histogram": [
           {
            "bin_start": 0.029925628,
            "bin_end": 0.1229058906,
            "count": 1
           },
           {
            "bin_start": 0.1229058906,
            "bin_end": 0.2158861532,
            "count": 0
           },
           {
            "bin_start": 0.2158861532,
            "bin_end": 0.30886641579999996,
            "count": 0
           },
           {
            "bin_start": 0.30886641579999996,
            "bin_end": 0.4018466784,
            "count": 1
           },
           {
            "bin_start": 0.4018466784,
            "bin_end": 0.494826941,
            "count": 0
           },
           {
            "bin_start": 0.494826941,
            "bin_end": 0.5878072035999999,
            "count": 0
           },
           {
            "bin_start": 0.5878072035999999,
            "bin_end": 0.6807874662,
            "count": 1
           },
           {
            "bin_start": 0.6807874662,
            "bin_end": 0.7737677288,
            "count": 1
           },
           {
            "bin_start": 0.7737677288,
            "bin_end": 0.8667479914,
            "count": 0
           },
           {
            "bin_start": 0.8667479914,
            "bin_end": 0.9597282540000001,
            "count": 1
           }
          ]
         }
        },
        {
         "name": "housing_pctile",
         "dtype": "float64",
         "stats": {
          "unique_count": 5,
          "nan_count": 0,
          "min": 45.95149493,
          "max": 96.8304889,
          "histogram": [
           {
            "bin_start": 45.95149493,
            "bin_end": 51.039394327000004,
            "count": 1
           },
           {
            "bin_start": 51.039394327000004,
            "bin_end": 56.127293724000005,
            "count": 0
           },
           {
            "bin_start": 56.127293724000005,
            "bin_end": 61.215193121,
            "count": 0
           },
           {
            "bin_start": 61.215193121,
            "bin_end": 66.303092518,
            "count": 0
           },
           {
            "bin_start": 66.303092518,
            "bin_end": 71.390991915,
            "count": 1
           },
           {
            "bin_start": 71.390991915,
            "bin_end": 76.478891312,
            "count": 0
           },
           {
            "bin_start": 76.478891312,
            "bin_end": 81.566790709,
            "count": 0
           },
           {
            "bin_start": 81.566790709,
            "bin_end": 86.654690106,
            "count": 1
           },
           {
            "bin_start": 86.654690106,
            "bin_end": 91.742589503,
            "count": 1
           },
           {
            "bin_start": 91.742589503,
            "bin_end": 96.8304889,
            "count": 1
           }
          ]
         }
        },
        {
         "name": "healthcareaccess",
         "dtype": "float64",
         "stats": {
          "unique_count": 5,
          "nan_count": 0,
          "min": 0.485643275,
          "max": 1.301728974,
          "histogram": [
           {
            "bin_start": 0.485643275,
            "bin_end": 0.5672518449,
            "count": 1
           },
           {
            "bin_start": 0.5672518449,
            "bin_end": 0.6488604148,
            "count": 0
           },
           {
            "bin_start": 0.6488604148,
            "bin_end": 0.7304689847,
            "count": 0
           },
           {
            "bin_start": 0.7304689847,
            "bin_end": 0.8120775546000001,
            "count": 0
           },
           {
            "bin_start": 0.8120775546000001,
            "bin_end": 0.8936861245000001,
            "count": 0
           },
           {
            "bin_start": 0.8936861245000001,
            "bin_end": 0.9752946944,
            "count": 0
           },
           {
            "bin_start": 0.9752946944,
            "bin_end": 1.0569032643,
            "count": 1
           },
           {
            "bin_start": 1.0569032643,
            "bin_end": 1.1385118342,
            "count": 0
           },
           {
            "bin_start": 1.1385118342,
            "bin_end": 1.2201204041,
            "count": 0
           },
           {
            "bin_start": 1.2201204041,
            "bin_end": 1.301728974,
            "count": 3
           }
          ]
         }
        },
        {
         "name": "healthcareaccess_pctile",
         "dtype": "float64",
         "stats": {
          "unique_count": 5,
          "nan_count": 0,
          "min": 62.95393302,
          "max": 94.43089953,
          "histogram": [
           {
            "bin_start": 62.95393302,
            "bin_end": 66.101629671,
            "count": 1
           },
           {
            "bin_start": 66.101629671,
            "bin_end": 69.249326322,
            "count": 0
           },
           {
            "bin_start": 69.249326322,
            "bin_end": 72.397022973,
            "count": 0
           },
           {
            "bin_start": 72.397022973,
            "bin_end": 75.54471962400001,
            "count": 0
           },
           {
            "bin_start": 75.54471962400001,
            "bin_end": 78.692416275,
            "count": 0
           },
           {
            "bin_start": 78.692416275,
            "bin_end": 81.840112926,
            "count": 0
           },
           {
            "bin_start": 81.840112926,
            "bin_end": 84.98780957700001,
            "count": 1
           },
           {
            "bin_start": 84.98780957700001,
            "bin_end": 88.135506228,
            "count": 0
           },
           {
            "bin_start": 88.135506228,
            "bin_end": 91.283202879,
            "count": 0
           },
           {
            "bin_start": 91.283202879,
            "bin_end": 94.43089953,
            "count": 3
           }
          ]
         }
        },
        {
         "name": "neighborhood",
         "dtype": "float64",
         "stats": {
          "unique_count": 5,
          "nan_count": 0,
          "min": -0.291977182,
          "max": 0.832169913,
          "histogram": [
           {
            "bin_start": -0.291977182,
            "bin_end": -0.1795624725,
            "count": 1
           },
           {
            "bin_start": -0.1795624725,
            "bin_end": -0.06714776299999997,
            "count": 1
           },
           {
            "bin_start": -0.06714776299999997,
            "bin_end": 0.04526694650000007,
            "count": 0
           },
           {
            "bin_start": 0.04526694650000007,
            "bin_end": 0.15768165600000006,
            "count": 1
           },
           {
            "bin_start": 0.15768165600000006,
            "bin_end": 0.27009636550000005,
            "count": 0
           },
           {
            "bin_start": 0.27009636550000005,
            "bin_end": 0.38251107500000014,
            "count": 0
           },
           {
            "bin_start": 0.38251107500000014,
            "bin_end": 0.49492578450000013,
            "count": 0
           },
           {
            "bin_start": 0.49492578450000013,
            "bin_end": 0.6073404940000001,
            "count": 1
           },
           {
            "bin_start": 0.6073404940000001,
            "bin_end": 0.7197552035000002,
            "count": 0
           },
           {
            "bin_start": 0.7197552035000002,
            "bin_end": 0.832169913,
            "count": 1
           }
          ]
         }
        },
        {
         "name": "neighborhood_pctile",
         "dtype": "float64",
         "stats": {
          "unique_count": 5,
          "nan_count": 0,
          "min": 19.94097267,
          "max": 98.39599641,
          "histogram": [
           {
            "bin_start": 19.94097267,
            "bin_end": 27.786475044,
            "count": 1
           },
           {
            "bin_start": 27.786475044,
            "bin_end": 35.631977418000005,
            "count": 1
           },
           {
            "bin_start": 35.631977418000005,
            "bin_end": 43.477479792000004,
            "count": 0
           },
           {
            "bin_start": 43.477479792000004,
            "bin_end": 51.322982166,
            "count": 0
           },
           {
            "bin_start": 51.322982166,
            "bin_end": 59.16848454,
            "count": 1
           },
           {
            "bin_start": 59.16848454,
            "bin_end": 67.01398691400001,
            "count": 0
           },
           {
            "bin_start": 67.01398691400001,
            "bin_end": 74.859489288,
            "count": 0
           },
           {
            "bin_start": 74.859489288,
            "bin_end": 82.704991662,
            "count": 0
           },
           {
            "bin_start": 82.704991662,
            "bin_end": 90.550494036,
            "count": 0
           },
           {
            "bin_start": 90.550494036,
            "bin_end": 98.39599641,
            "count": 2
           }
          ]
         }
        },
        {
         "name": "pollution",
         "dtype": "float64",
         "stats": {
          "unique_count": 2,
          "nan_count": 0,
          "min": 0.6572610560000001,
          "max": 0.878124826,
          "histogram": [
           {
            "bin_start": 0.6572610560000001,
            "bin_end": 0.679347433,
            "count": 4
           },
           {
            "bin_start": 0.679347433,
            "bin_end": 0.70143381,
            "count": 0
           },
           {
            "bin_start": 0.70143381,
            "bin_end": 0.7235201870000001,
            "count": 0
           },
           {
            "bin_start": 0.7235201870000001,
            "bin_end": 0.745606564,
            "count": 0
           },
           {
            "bin_start": 0.745606564,
            "bin_end": 0.767692941,
            "count": 0
           },
           {
            "bin_start": 0.767692941,
            "bin_end": 0.789779318,
            "count": 0
           },
           {
            "bin_start": 0.789779318,
            "bin_end": 0.811865695,
            "count": 0
           },
           {
            "bin_start": 0.811865695,
            "bin_end": 0.833952072,
            "count": 0
           },
           {
            "bin_start": 0.833952072,
            "bin_end": 0.8560384489999999,
            "count": 0
           },
           {
            "bin_start": 0.8560384489999999,
            "bin_end": 0.878124826,
            "count": 1
           }
          ]
         }
        },
        {
         "name": "pollution_pctile",
         "dtype": "float64",
         "stats": {
          "unique_count": 2,
          "nan_count": 0,
          "min": 85.62812781,
          "max": 92.37777493,
          "histogram": [
           {
            "bin_start": 85.62812781,
            "bin_end": 86.303092522,
            "count": 4
           },
           {
            "bin_start": 86.303092522,
            "bin_end": 86.97805723399999,
            "count": 0
           },
           {
            "bin_start": 86.97805723399999,
            "bin_end": 87.653021946,
            "count": 0
           },
           {
            "bin_start": 87.653021946,
            "bin_end": 88.327986658,
            "count": 0
           },
           {
            "bin_start": 88.327986658,
            "bin_end": 89.00295137,
            "count": 0
           },
           {
            "bin_start": 89.00295137,
            "bin_end": 89.677916082,
            "count": 0
           },
           {
            "bin_start": 89.677916082,
            "bin_end": 90.352880794,
            "count": 0
           },
           {
            "bin_start": 90.352880794,
            "bin_end": 91.027845506,
            "count": 0
           },
           {
            "bin_start": 91.027845506,
            "bin_end": 91.702810218,
            "count": 0
           },
           {
            "bin_start": 91.702810218,
            "bin_end": 92.37777493,
            "count": 1
           }
          ]
         }
        },
        {
         "name": "transportation",
         "dtype": "float64",
         "stats": {
          "unique_count": 5,
          "nan_count": 0,
          "min": 0.616855445,
          "max": 1.7566567069999999,
          "histogram": [
           {
            "bin_start": 0.616855445,
            "bin_end": 0.7308355712,
            "count": 1
           },
           {
            "bin_start": 0.7308355712,
            "bin_end": 0.8448156974,
            "count": 1
           },
           {
            "bin_start": 0.8448156974,
            "bin_end": 0.9587958235999999,
            "count": 1
           },
           {
            "bin_start": 0.9587958235999999,
            "bin_end": 1.0727759498,
            "count": 0
           },
           {
            "bin_start": 1.0727759498,
            "bin_end": 1.186756076,
            "count": 0
           },
           {
            "bin_start": 1.186756076,
            "bin_end": 1.3007362022,
            "count": 0
           },
           {
            "bin_start": 1.3007362022,
            "bin_end": 1.4147163284,
            "count": 0
           },
           {
            "bin_start": 1.4147163284,
            "bin_end": 1.5286964546,
            "count": 1
           },
           {
            "bin_start": 1.5286964546,
            "bin_end": 1.6426765808,
            "count": 0
           },
           {
            "bin_start": 1.6426765808,
            "bin_end": 1.7566567069999999,
            "count": 1
           }
          ]
         }
        },
        {
         "name": "transportation_pctile",
         "dtype": "float64",
         "stats": {
          "unique_count": 5,
          "nan_count": 0,
          "min": 95.22648531,
          "max": 99.91017579999999,
          "histogram": [
           {
            "bin_start": 95.22648531,
            "bin_end": 95.694854359,
            "count": 1
           },
           {
            "bin_start": 95.694854359,
            "bin_end": 96.163223408,
            "count": 0
           },
           {
            "bin_start": 96.163223408,
            "bin_end": 96.631592457,
            "count": 0
           },
           {
            "bin_start": 96.631592457,
            "bin_end": 97.099961506,
            "count": 0
           },
           {
            "bin_start": 97.099961506,
            "bin_end": 97.56833055499999,
            "count": 2
           },
           {
            "bin_start": 97.56833055499999,
            "bin_end": 98.03669960399999,
            "count": 0
           },
           {
            "bin_start": 98.03669960399999,
            "bin_end": 98.505068653,
            "count": 0
           },
           {
            "bin_start": 98.505068653,
            "bin_end": 98.973437702,
            "count": 0
           },
           {
            "bin_start": 98.973437702,
            "bin_end": 99.44180675099999,
            "count": 0
           },
           {
            "bin_start": 99.44180675099999,
            "bin_end": 99.91017579999999,
            "count": 2
           }
          ]
         }
        },
        {
         "name": "social",
         "dtype": "float64",
         "stats": {
          "unique_count": 5,
          "nan_count": 0,
          "min": 0.949500193,
          "max": 1.3366018640000001,
          "histogram": [
           {
            "bin_start": 0.949500193,
            "bin_end": 0.9882103601,
            "count": 1
           },
           {
            "bin_start": 0.9882103601,
            "bin_end": 1.0269205272,
            "count": 0
           },
           {
            "bin_start": 1.0269205272,
            "bin_end": 1.0656306943,
            "count": 0
           },
           {
            "bin_start": 1.0656306943,
            "bin_end": 1.1043408614,
            "count": 1
           },
           {
            "bin_start": 1.1043408614,
            "bin_end": 1.1430510285,
            "count": 0
           },
           {
            "bin_start": 1.1430510285,
            "bin_end": 1.1817611956,
            "count": 0
           },
           {
            "bin_start": 1.1817611956,
            "bin_end": 1.2204713627000001,
            "count": 0
           },
           {
            "bin_start": 1.2204713627000001,
            "bin_end": 1.2591815298000002,
            "count": 1
           },
           {
            "bin_start": 1.2591815298000002,
            "bin_end": 1.2978916969,
            "count": 1
           },
           {
            "bin_start": 1.2978916969,
            "bin_end": 1.3366018640000001,
            "count": 1
           }
          ]
         }
        },
        {
         "name": "social_pctile",
         "dtype": "float64",
         "stats": {
          "unique_count": 5,
          "nan_count": 0,
          "min": 86.82150648,
          "max": 96.88181702,
          "histogram": [
           {
            "bin_start": 86.82150648,
            "bin_end": 87.827537534,
            "count": 1
           },
           {
            "bin_start": 87.827537534,
            "bin_end": 88.83356858799999,
            "count": 0
           },
           {
            "bin_start": 88.83356858799999,
            "bin_end": 89.839599642,
            "count": 0
           },
           {
            "bin_start": 89.839599642,
            "bin_end": 90.845630696,
            "count": 0
           },
           {
            "bin_start": 90.845630696,
            "bin_end": 91.85166175,
            "count": 1
           },
           {
            "bin_start": 91.85166175,
            "bin_end": 92.857692804,
            "count": 0
           },
           {
            "bin_start": 92.857692804,
            "bin_end": 93.863723858,
            "count": 0
           },
           {
            "bin_start": 93.863723858,
            "bin_end": 94.869754912,
            "count": 1
           },
           {
            "bin_start": 94.869754912,
            "bin_end": 95.875785966,
            "count": 0
           },
           {
            "bin_start": 95.875785966,
            "bin_end": 96.88181702,
            "count": 2
           }
          ]
         }
        },
        {
         "name": "insured",
         "dtype": "float64",
         "stats": {
          "unique_count": 5,
          "nan_count": 0,
          "min": 85.3,
          "max": 95.2,
          "histogram": [
           {
            "bin_start": 85.3,
            "bin_end": 86.28999999999999,
            "count": 1
           },
           {
            "bin_start": 86.28999999999999,
            "bin_end": 87.28,
            "count": 0
           },
           {
            "bin_start": 87.28,
            "bin_end": 88.27,
            "count": 0
           },
           {
            "bin_start": 88.27,
            "bin_end": 89.26,
            "count": 0
           },
           {
            "bin_start": 89.26,
            "bin_end": 90.25,
            "count": 0
           },
           {
            "bin_start": 90.25,
            "bin_end": 91.24,
            "count": 0
           },
           {
            "bin_start": 91.24,
            "bin_end": 92.23,
            "count": 1
           },
           {
            "bin_start": 92.23,
            "bin_end": 93.22,
            "count": 0
           },
           {
            "bin_start": 93.22,
            "bin_end": 94.21000000000001,
            "count": 0
           },
           {
            "bin_start": 94.21000000000001,
            "bin_end": 95.2,
            "count": 3
           }
          ]
         }
        },
        {
         "name": "insured_pctile",
         "dtype": "float64",
         "stats": {
          "unique_count": 5,
          "nan_count": 0,
          "min": 62.95393302,
          "max": 94.43089953,
          "histogram": [
           {
            "bin_start": 62.95393302,
            "bin_end": 66.101629671,
            "count": 1
           },
           {
            "bin_start": 66.101629671,
            "bin_end": 69.249326322,
            "count": 0
           },
           {
            "bin_start": 69.249326322,
            "bin_end": 72.397022973,
            "count": 0
           },
           {
            "bin_start": 72.397022973,
            "bin_end": 75.54471962400001,
            "count": 0
           },
           {
            "bin_start": 75.54471962400001,
            "bin_end": 78.692416275,
            "count": 0
           },
           {
            "bin_start": 78.692416275,
            "bin_end": 81.840112926,
            "count": 0
           },
           {
            "bin_start": 81.840112926,
            "bin_end": 84.98780957700001,
            "count": 1
           },
           {
            "bin_start": 84.98780957700001,
            "bin_end": 88.135506228,
            "count": 0
           },
           {
            "bin_start": 88.135506228,
            "bin_end": 91.283202879,
            "count": 0
           },
           {
            "bin_start": 91.283202879,
            "bin_end": 94.43089953,
            "count": 3
           }
          ]
         }
        },
        {
         "name": "uncrowded",
         "dtype": "float64",
         "stats": {
          "unique_count": 4,
          "nan_count": 0,
          "min": 97.5,
          "max": 100,
          "histogram": [
           {
            "bin_start": 97.5,
            "bin_end": 97.75,
            "count": 1
           },
           {
            "bin_start": 97.75,
            "bin_end": 98,
            "count": 0
           },
           {
            "bin_start": 98,
            "bin_end": 98.25,
            "count": 0
           },
           {
            "bin_start": 98.25,
            "bin_end": 98.5,
            "count": 0
           },
           {
            "bin_start": 98.5,
            "bin_end": 98.75,
            "count": 0
           },
           {
            "bin_start": 98.75,
            "bin_end": 99,
            "count": 0
           },
           {
            "bin_start": 99,
            "bin_end": 99.25,
            "count": 1
           },
           {
            "bin_start": 99.25,
            "bin_end": 99.5,
            "count": 1
           },
           {
            "bin_start": 99.5,
            "bin_end": 99.75,
            "count": 0
           },
           {
            "bin_start": 99.75,
            "bin_end": 100,
            "count": 2
           }
          ]
         }
        },
        {
         "name": "uncrowded_pctile",
         "dtype": "float64",
         "stats": {
          "unique_count": 4,
          "nan_count": 0,
          "min": 71.88502502,
          "max": 96.93314513,
          "histogram": [
           {
            "bin_start": 71.88502502,
            "bin_end": 74.389837031,
            "count": 1
           },
           {
            "bin_start": 74.389837031,
            "bin_end": 76.894649042,
            "count": 0
           },
           {
            "bin_start": 76.894649042,
            "bin_end": 79.399461053,
            "count": 0
           },
           {
            "bin_start": 79.399461053,
            "bin_end": 81.904273064,
            "count": 0
           },
           {
            "bin_start": 81.904273064,
            "bin_end": 84.40908507500001,
            "count": 0
           },
           {
            "bin_start": 84.40908507500001,
            "bin_end": 86.91389708599999,
            "count": 0
           },
           {
            "bin_start": 86.91389708599999,
            "bin_end": 89.418709097,
            "count": 1
           },
           {
            "bin_start": 89.418709097,
            "bin_end": 91.923521108,
            "count": 1
           },
           {
            "bin_start": 91.923521108,
            "bin_end": 94.428333119,
            "count": 0
           },
           {
            "bin_start": 94.428333119,
            "bin_end": 96.93314513,
            "count": 2
           }
          ]
         }
        },
        {
         "name": "homeownership",
         "dtype": "float64",
         "stats": {
          "unique_count": 5,
          "nan_count": 0,
          "min": 36.3,
          "max": 85.5,
          "histogram": [
           {
            "bin_start": 36.3,
            "bin_end": 41.22,
            "count": 2
           },
           {
            "bin_start": 41.22,
            "bin_end": 46.14,
            "count": 1
           },
           {
            "bin_start": 46.14,
            "bin_end": 51.059999999999995,
            "count": 0
           },
           {
            "bin_start": 51.059999999999995,
            "bin_end": 55.98,
            "count": 0
           },
           {
            "bin_start": 55.98,
            "bin_end": 60.9,
            "count": 0
           },
           {
            "bin_start": 60.9,
            "bin_end": 65.82,
            "count": 1
           },
           {
            "bin_start": 65.82,
            "bin_end": 70.74,
            "count": 0
           },
           {
            "bin_start": 70.74,
            "bin_end": 75.66,
            "count": 0
           },
           {
            "bin_start": 75.66,
            "bin_end": 80.58,
            "count": 0
           },
           {
            "bin_start": 80.58,
            "bin_end": 85.5,
            "count": 1
           }
          ]
         }
        },
        {
         "name": "homeownership_pctile",
         "dtype": "float64",
         "stats": {
          "unique_count": 5,
          "nan_count": 0,
          "min": 24.61183113,
          "max": 92.00564609,
          "histogram": [
           {
            "bin_start": 24.61183113,
            "bin_end": 31.351212626,
            "count": 2
           },
           {
            "bin_start": 31.351212626,
            "bin_end": 38.090594122,
            "count": 1
           },
           {
            "bin_start": 38.090594122,
            "bin_end": 44.829975618,
            "count": 0
           },
           {
            "bin_start": 44.829975618,
            "bin_end": 51.569357114,
            "count": 0
           },
           {
            "bin_start": 51.569357114,
            "bin_end": 58.30873861,
            "count": 0
           },
           {
            "bin_start": 58.30873861,
            "bin_end": 65.048120106,
            "count": 1
           },
           {
            "bin_start": 65.048120106,
            "bin_end": 71.78750160199999,
            "count": 0
           },
           {
            "bin_start": 71.78750160199999,
            "bin_end": 78.526883098,
            "count": 0
           },
           {
            "bin_start": 78.526883098,
            "bin_end": 85.266264594,
            "count": 0
           },
           {
            "bin_start": 85.266264594,
            "bin_end": 92.00564609,
            "count": 1
           }
          ]
         }
        },
        {
         "name": "automobile",
         "dtype": "float64",
         "stats": {
          "unique_count": 5,
          "nan_count": 0,
          "min": 85.4,
          "max": 98.6,
          "histogram": [
           {
            "bin_start": 85.4,
            "bin_end": 86.72,
            "count": 2
           },
           {
            "bin_start": 86.72,
            "bin_end": 88.04,
            "count": 0
           },
           {
            "bin_start": 88.04,
            "bin_end": 89.36,
            "count": 0
           },
           {
            "bin_start": 89.36,
            "bin_end": 90.68,
            "count": 0
           },
           {
            "bin_start": 90.68,
            "bin_end": 92,
            "count": 0
           },
           {
            "bin_start": 92,
            "bin_end": 93.32,
            "count": 1
           },
           {
            "bin_start": 93.32,
            "bin_end": 94.64,
            "count": 1
           },
           {
            "bin_start": 94.64,
            "bin_end": 95.96,
            "count": 0
           },
           {
            "bin_start": 95.96,
            "bin_end": 97.28,
            "count": 0
           },
           {
            "bin_start": 97.28,
            "bin_end": 98.6,
            "count": 1
           }
          ]
         }
        },
        {
         "name": "automobile_pctile",
         "dtype": "float64",
         "stats": {
          "unique_count": 5,
          "nan_count": 0,
          "min": 13.93558322,
          "max": 87.47593995,
          "histogram": [
           {
            "bin_start": 13.93558322,
            "bin_end": 21.289618893,
            "count": 2
           },
           {
            "bin_start": 21.289618893,
            "bin_end": 28.643654566000002,
            "count": 0
           },
           {
            "bin_start": 28.643654566000002,
            "bin_end": 35.997690239,
            "count": 0
           },
           {
            "bin_start": 35.997690239,
            "bin_end": 43.351725912,
            "count": 1
           },
           {
            "bin_start": 43.351725912,
            "bin_end": 50.705761585,
            "count": 1
           },
           {
            "bin_start": 50.705761585,
            "bin_end": 58.059797258,
            "count": 0
           },
           {
            "bin_start": 58.059797258,
            "bin_end": 65.413832931,
            "count": 0
           },
           {
            "bin_start": 65.413832931,
            "bin_end": 72.767868604,
            "count": 0
           },
           {
            "bin_start": 72.767868604,
            "bin_end": 80.121904277,
            "count": 0
           },
           {
            "bin_start": 80.121904277,
            "bin_end": 87.47593995,
            "count": 1
           }
          ]
         }
        },
        {
         "name": "commute",
         "dtype": "float64",
         "stats": {
          "unique_count": 5,
          "nan_count": 0,
          "min": 15.28455285,
          "max": 49.72451791,
          "histogram": [
           {
            "bin_start": 15.28455285,
            "bin_end": 18.728549356000002,
            "count": 1
           },
           {
            "bin_start": 18.728549356000002,
            "bin_end": 22.172545862,
            "count": 0
           },
           {
            "bin_start": 22.172545862,
            "bin_end": 25.616542368,
            "count": 0
           },
           {
            "bin_start": 25.616542368,
            "bin_end": 29.060538874000002,
            "count": 0
           },
           {
            "bin_start": 29.060538874000002,
            "bin_end": 32.50453538000001,
            "count": 0
           },
           {
            "bin_start": 32.50453538000001,
            "bin_end": 35.948531886,
            "count": 0
           },
           {
            "bin_start": 35.948531886,
            "bin_end": 39.392528392,
            "count": 2
           },
           {
            "bin_start": 39.392528392,
            "bin_end": 42.83652489800001,
            "count": 1
           },
           {
            "bin_start": 42.83652489800001,
            "bin_end": 46.280521404000005,
            "count": 0
           },
           {
            "bin_start": 46.280521404000005,
            "bin_end": 49.72451791,
            "count": 1
           }
          ]
         }
        },
        {
         "name": "commute_pctile",
         "dtype": "float64",
         "stats": {
          "unique_count": 5,
          "nan_count": 0,
          "min": 82.88207366,
          "max": 98.01103554,
          "histogram": [
           {
            "bin_start": 82.88207366,
            "bin_end": 84.394969848,
            "count": 1
           },
           {
            "bin_start": 84.394969848,
            "bin_end": 85.907866036,
            "count": 0
           },
           {
            "bin_start": 85.907866036,
            "bin_end": 87.420762224,
            "count": 0
           },
           {
            "bin_start": 87.420762224,
            "bin_end": 88.933658412,
            "count": 0
           },
           {
            "bin_start": 88.933658412,
            "bin_end": 90.4465546,
            "count": 0
           },
           {
            "bin_start": 90.4465546,
            "bin_end": 91.959450788,
            "count": 0
           },
           {
            "bin_start": 91.959450788,
            "bin_end": 93.472346976,
            "count": 0
           },
           {
            "bin_start": 93.472346976,
            "bin_end": 94.985243164,
            "count": 0
           },
           {
            "bin_start": 94.985243164,
            "bin_end": 96.498139352,
            "count": 2
           },
           {
            "bin_start": 96.498139352,
            "bin_end": 98.01103554,
            "count": 2
           }
          ]
         }
        },
        {
         "name": "inpreschool",
         "dtype": "float64",
         "stats": {
          "unique_count": 5,
          "nan_count": 0,
          "min": 39.7,
          "max": 100,
          "histogram": [
           {
            "bin_start": 39.7,
            "bin_end": 45.730000000000004,
            "count": 1
           },
           {
            "bin_start": 45.730000000000004,
            "bin_end": 51.760000000000005,
            "count": 0
           },
           {
            "bin_start": 51.760000000000005,
            "bin_end": 57.79,
            "count": 1
           },
           {
            "bin_start": 57.79,
            "bin_end": 63.82,
            "count": 0
           },
           {
            "bin_start": 63.82,
            "bin_end": 69.85,
            "count": 1
           },
           {
            "bin_start": 69.85,
            "bin_end": 75.88,
            "count": 1
           },
           {
            "bin_start": 75.88,
            "bin_end": 81.91,
            "count": 0
           },
           {
            "bin_start": 81.91,
            "bin_end": 87.94,
            "count": 0
           },
           {
            "bin_start": 87.94,
            "bin_end": 93.97,
            "count": 0
           },
           {
            "bin_start": 93.97,
            "bin_end": 100,
            "count": 1
           }
          ]
         }
        },
        {
         "name": "inpreschool_pctile",
         "dtype": "float64",
         "stats": {
          "unique_count": 5,
          "nan_count": 0,
          "min": 34.55665341,
          "max": 95.71410240000002,
          "histogram": [
           {
            "bin_start": 34.55665341,
            "bin_end": 40.672398309,
            "count": 1
           },
           {
            "bin_start": 40.672398309,
            "bin_end": 46.78814320800001,
            "count": 0
           },
           {
            "bin_start": 46.78814320800001,
            "bin_end": 52.90388810700001,
            "count": 0
           },
           {
            "bin_start": 52.90388810700001,
            "bin_end": 59.01963300600001,
            "count": 1
           },
           {
            "bin_start": 59.01963300600001,
            "bin_end": 65.13537790500001,
            "count": 0
           },
           {
            "bin_start": 65.13537790500001,
            "bin_end": 71.251122804,
            "count": 1
           },
           {
            "bin_start": 71.251122804,
            "bin_end": 77.36686770300001,
            "count": 1
           },
           {
            "bin_start": 77.36686770300001,
            "bin_end": 83.48261260200002,
            "count": 0
           },
           {
            "bin_start": 83.48261260200002,
            "bin_end": 89.59835750100001,
            "count": 0
           },
           {
            "bin_start": 89.59835750100001,
            "bin_end": 95.71410240000002,
            "count": 1
           }
          ]
         }
        },
        {
         "name": "inhighschool",
         "dtype": "float64",
         "stats": {
          "unique_count": 2,
          "nan_count": 0,
          "min": 97.2,
          "max": 100,
          "histogram": [
           {
            "bin_start": 97.2,
            "bin_end": 97.48,
            "count": 1
           },
           {
            "bin_start": 97.48,
            "bin_end": 97.76,
            "count": 0
           },
           {
            "bin_start": 97.76,
            "bin_end": 98.04,
            "count": 0
           },
           {
            "bin_start": 98.04,
            "bin_end": 98.32000000000001,
            "count": 0
           },
           {
            "bin_start": 98.32000000000001,
            "bin_end": 98.6,
            "count": 0
           },
           {
            "bin_start": 98.6,
            "bin_end": 98.88,
            "count": 0
           },
           {
            "bin_start": 98.88,
            "bin_end": 99.16,
            "count": 0
           },
           {
            "bin_start": 99.16,
            "bin_end": 99.44,
            "count": 0
           },
           {
            "bin_start": 99.44,
            "bin_end": 99.72,
            "count": 0
           },
           {
            "bin_start": 99.72,
            "bin_end": 100,
            "count": 4
           }
          ]
         }
        },
        {
         "name": "inhighschool_pctile",
         "dtype": "float64",
         "stats": {
          "unique_count": 2,
          "nan_count": 0,
          "min": 22.276401899999996,
          "max": 100,
          "histogram": [
           {
            "bin_start": 22.276401899999996,
            "bin_end": 30.048761709999997,
            "count": 1
           },
           {
            "bin_start": 30.048761709999997,
            "bin_end": 37.82112152,
            "count": 0
           },
           {
            "bin_start": 37.82112152,
            "bin_end": 45.593481329999996,
            "count": 0
           },
           {
            "bin_start": 45.593481329999996,
            "bin_end": 53.36584114,
            "count": 0
           },
           {
            "bin_start": 53.36584114,
            "bin_end": 61.13820095,
            "count": 0
           },
           {
            "bin_start": 61.13820095,
            "bin_end": 68.91056076,
            "count": 0
           },
           {
            "bin_start": 68.91056076,
            "bin_end": 76.68292057,
            "count": 0
           },
           {
            "bin_start": 76.68292057,
            "bin_end": 84.45528038,
            "count": 0
           },
           {
            "bin_start": 84.45528038,
            "bin_end": 92.22764019,
            "count": 0
           },
           {
            "bin_start": 92.22764019,
            "bin_end": 100,
            "count": 4
           }
          ]
         }
        },
        {
         "name": "bachelorsed",
         "dtype": "float64",
         "stats": {
          "unique_count": 5,
          "nan_count": 0,
          "min": 61.9,
          "max": 82.9,
          "histogram": [
           {
            "bin_start": 61.9,
            "bin_end": 64,
            "count": 1
           },
           {
            "bin_start": 64,
            "bin_end": 66.1,
            "count": 0
           },
           {
            "bin_start": 66.1,
            "bin_end": 68.2,
            "count": 0
           },
           {
            "bin_start": 68.2,
            "bin_end": 70.3,
            "count": 1
           },
           {
            "bin_start": 70.3,
            "bin_end": 72.4,
            "count": 0
           },
           {
            "bin_start": 72.4,
            "bin_end": 74.5,
            "count": 0
           },
           {
            "bin_start": 74.5,
            "bin_end": 76.6,
            "count": 1
           },
           {
            "bin_start": 76.6,
            "bin_end": 78.7,
            "count": 0
           },
           {
            "bin_start": 78.7,
            "bin_end": 80.80000000000001,
            "count": 1
           },
           {
            "bin_start": 80.80000000000001,
            "bin_end": 82.9,
            "count": 1
           }
          ]
         }
        },
        {
         "name": "bachelorsed_pctile",
         "dtype": "float64",
         "stats": {
          "unique_count": 5,
          "nan_count": 0,
          "min": 90.01668164,
          "max": 99.44822276,
          "histogram": [
           {
            "bin_start": 90.01668164,
            "bin_end": 90.959835752,
            "count": 1
           },
           {
            "bin_start": 90.959835752,
            "bin_end": 91.902989864,
            "count": 0
           },
           {
            "bin_start": 91.902989864,
            "bin_end": 92.846143976,
            "count": 0
           },
           {
            "bin_start": 92.846143976,
            "bin_end": 93.789298088,
            "count": 0
           },
           {
            "bin_start": 93.789298088,
            "bin_end": 94.7324522,
            "count": 1
           },
           {
            "bin_start": 94.7324522,
            "bin_end": 95.675606312,
            "count": 0
           },
           {
            "bin_start": 95.675606312,
            "bin_end": 96.618760424,
            "count": 0
           },
           {
            "bin_start": 96.618760424,
            "bin_end": 97.56191453599999,
            "count": 1
           },
           {
            "bin_start": 97.56191453599999,
            "bin_end": 98.50506864799999,
            "count": 0
           },
           {
            "bin_start": 98.50506864799999,
            "bin_end": 99.44822276,
            "count": 2
           }
          ]
         }
        },
        {
         "name": "employed",
         "dtype": "float64",
         "stats": {
          "unique_count": 5,
          "nan_count": 0,
          "min": 73.7,
          "max": 85.6,
          "histogram": [
           {
            "bin_start": 73.7,
            "bin_end": 74.89,
            "count": 1
           },
           {
            "bin_start": 74.89,
            "bin_end": 76.08,
            "count": 0
           },
           {
            "bin_start": 76.08,
            "bin_end": 77.27,
            "count": 1
           },
           {
            "bin_start": 77.27,
            "bin_end": 78.46,
            "count": 0
           },
           {
            "bin_start": 78.46,
            "bin_end": 79.65,
            "count": 0
           },
           {
            "bin_start": 79.65,
            "bin_end": 80.84,
            "count": 0
           },
           {
            "bin_start": 80.84,
            "bin_end": 82.03,
            "count": 1
           },
           {
            "bin_start": 82.03,
            "bin_end": 83.22,
            "count": 0
           },
           {
            "bin_start": 83.22,
            "bin_end": 84.41,
            "count": 0
           },
           {
            "bin_start": 84.41,
            "bin_end": 85.6,
            "count": 2
           }
          ]
         }
        },
        {
         "name": "employed_pctile",
         "dtype": "float64",
         "stats": {
          "unique_count": 5,
          "nan_count": 0,
          "min": 68.92082638,
          "max": 99.17875016,
          "histogram": [
           {
            "bin_start": 68.92082638,
            "bin_end": 71.946618758,
            "count": 1
           },
           {
            "bin_start": 71.946618758,
            "bin_end": 74.97241113599999,
            "count": 0
           },
           {
            "bin_start": 74.97241113599999,
            "bin_end": 77.998203514,
            "count": 0
           },
           {
            "bin_start": 77.998203514,
            "bin_end": 81.023995892,
            "count": 0
           },
           {
            "bin_start": 81.023995892,
            "bin_end": 84.04978827,
            "count": 1
           },
           {
            "bin_start": 84.04978827,
            "bin_end": 87.075580648,
            "count": 0
           },
           {
            "bin_start": 87.075580648,
            "bin_end": 90.101373026,
            "count": 0
           },
           {
            "bin_start": 90.101373026,
            "bin_end": 93.12716540400001,
            "count": 0
           },
           {
            "bin_start": 93.12716540400001,
            "bin_end": 96.152957782,
            "count": 1
           },
           {
            "bin_start": 96.152957782,
            "bin_end": 99.17875016,
            "count": 2
           }
          ]
         }
        },
        {
         "name": "abovepoverty",
         "dtype": "float64",
         "stats": {
          "unique_count": 5,
          "nan_count": 0,
          "min": 74.88308116,
          "max": 92.37804878,
          "histogram": [
           {
            "bin_start": 74.88308116,
            "bin_end": 76.632577922,
            "count": 1
           },
           {
            "bin_start": 76.632577922,
            "bin_end": 78.382074684,
            "count": 0
           },
           {
            "bin_start": 78.382074684,
            "bin_end": 80.13157144600001,
            "count": 0
           },
           {
            "bin_start": 80.13157144600001,
            "bin_end": 81.881068208,
            "count": 0
           },
           {
            "bin_start": 81.881068208,
            "bin_end": 83.63056497,
            "count": 1
           },
           {
            "bin_start": 83.63056497,
            "bin_end": 85.380061732,
            "count": 0
           },
           {
            "bin_start": 85.380061732,
            "bin_end": 87.12955849400001,
            "count": 1
           },
           {
            "bin_start": 87.12955849400001,
            "bin_end": 88.879055256,
            "count": 1
           },
           {
            "bin_start": 88.879055256,
            "bin_end": 90.628552018,
            "count": 0
           },
           {
            "bin_start": 90.628552018,
            "bin_end": 92.37804878,
            "count": 1
           }
          ]
         }
        },
        {
         "name": "abovepoverty_pctile",
         "dtype": "float64",
         "stats": {
          "unique_count": 5,
          "nan_count": 0,
          "min": 63.5698704,
          "max": 96.44552804,
          "histogram": [
           {
            "bin_start": 63.5698704,
            "bin_end": 66.857436164,
            "count": 1
           },
           {
            "bin_start": 66.857436164,
            "bin_end": 70.145001928,
            "count": 0
           },
           {
            "bin_start": 70.145001928,
            "bin_end": 73.43256769199999,
            "count": 0
           },
           {
            "bin_start": 73.43256769199999,
            "bin_end": 76.720133456,
            "count": 0
           },
           {
            "bin_start": 76.720133456,
            "bin_end": 80.00769922,
            "count": 0
           },
           {
            "bin_start": 80.00769922,
            "bin_end": 83.295264984,
            "count": 1
           },
           {
            "bin_start": 83.295264984,
            "bin_end": 86.58283074799999,
            "count": 1
           },
           {
            "bin_start": 86.58283074799999,
            "bin_end": 89.870396512,
            "count": 0
           },
           {
            "bin_start": 89.870396512,
            "bin_end": 93.157962276,
            "count": 1
           },
           {
            "bin_start": 93.157962276,
            "bin_end": 96.44552804,
            "count": 1
           }
          ]
         }
        },
        {
         "name": "income",
         "dtype": "float64",
         "stats": {
          "unique_count": 5,
          "nan_count": 0,
          "min": 76038,
          "max": 174113,
          "histogram": [
           {
            "bin_start": 76038,
            "bin_end": 85845.5,
            "count": 2
           },
           {
            "bin_start": 85845.5,
            "bin_end": 95653,
            "count": 0
           },
           {
            "bin_start": 95653,
            "bin_end": 105460.5,
            "count": 1
           },
           {
            "bin_start": 105460.5,
            "bin_end": 115268,
            "count": 0
           },
           {
            "bin_start": 115268,
            "bin_end": 125075.5,
            "count": 0
           },
           {
            "bin_start": 125075.5,
            "bin_end": 134883,
            "count": 0
           },
           {
            "bin_start": 134883,
            "bin_end": 144690.5,
            "count": 1
           },
           {
            "bin_start": 144690.5,
            "bin_end": 154498,
            "count": 0
           },
           {
            "bin_start": 154498,
            "bin_end": 164305.5,
            "count": 0
           },
           {
            "bin_start": 164305.5,
            "bin_end": 174113,
            "count": 1
           }
          ]
         }
        },
        {
         "name": "income_pctile",
         "dtype": "float64",
         "stats": {
          "unique_count": 5,
          "nan_count": 0,
          "min": 67.67611959,
          "max": 99.10175799,
          "histogram": [
           {
            "bin_start": 67.67611959,
            "bin_end": 70.81868343,
            "count": 1
           },
           {
            "bin_start": 70.81868343,
            "bin_end": 73.96124727,
            "count": 0
           },
           {
            "bin_start": 73.96124727,
            "bin_end": 77.10381111,
            "count": 1
           },
           {
            "bin_start": 77.10381111,
            "bin_end": 80.24637495,
            "count": 0
           },
           {
            "bin_start": 80.24637495,
            "bin_end": 83.38893879,
            "count": 0
           },
           {
            "bin_start": 83.38893879,
            "bin_end": 86.53150263,
            "count": 1
           },
           {
            "bin_start": 86.53150263,
            "bin_end": 89.67406647,
            "count": 0
           },
           {
            "bin_start": 89.67406647,
            "bin_end": 92.81663031,
            "count": 0
           },
           {
            "bin_start": 92.81663031,
            "bin_end": 95.95919415,
            "count": 0
           },
           {
            "bin_start": 95.95919415,
            "bin_end": 99.10175799,
            "count": 2
           }
          ]
         }
        },
        {
         "name": "retail",
         "dtype": "float64",
         "stats": {
          "unique_count": 5,
          "nan_count": 0,
          "min": 1.252350919,
          "max": 9.587563451,
          "histogram": [
           {
            "bin_start": 1.252350919,
            "bin_end": 2.0858721722,
            "count": 3
           },
           {
            "bin_start": 2.0858721722,
            "bin_end": 2.9193934254,
            "count": 1
           },
           {
            "bin_start": 2.9193934254,
            "bin_end": 3.7529146786000003,
            "count": 0
           },
           {
            "bin_start": 3.7529146786000003,
            "bin_end": 4.5864359318000005,
            "count": 0
           },
           {
            "bin_start": 4.5864359318000005,
            "bin_end": 5.4199571849999995,
            "count": 0
           },
           {
            "bin_start": 5.4199571849999995,
            "bin_end": 6.2534784382,
            "count": 0
           },
           {
            "bin_start": 6.2534784382,
            "bin_end": 7.086999691400001,
            "count": 0
           },
           {
            "bin_start": 7.086999691400001,
            "bin_end": 7.9205209446,
            "count": 0
           },
           {
            "bin_start": 7.9205209446,
            "bin_end": 8.7540421978,
            "count": 0
           },
           {
            "bin_start": 8.7540421978,
            "bin_end": 9.587563451,
            "count": 1
           }
          ]
         }
        },
        {
         "name": "retail_pctile",
         "dtype": "float64",
         "stats": {
          "unique_count": 5,
          "nan_count": 0,
          "min": 64.57076864,
          "max": 97.60041062,
          "histogram": [
           {
            "bin_start": 64.57076864,
            "bin_end": 67.873732838,
            "count": 1
           },
           {
            "bin_start": 67.873732838,
            "bin_end": 71.176697036,
            "count": 0
           },
           {
            "bin_start": 71.176697036,
            "bin_end": 74.47966123399999,
            "count": 0
           },
           {
            "bin_start": 74.47966123399999,
            "bin_end": 77.782625432,
            "count": 2
           },
           {
            "bin_start": 77.782625432,
            "bin_end": 81.08558963,
            "count": 0
           },
           {
            "bin_start": 81.08558963,
            "bin_end": 84.388553828,
            "count": 1
           },
           {
            "bin_start": 84.388553828,
            "bin_end": 87.691518026,
            "count": 0
           },
           {
            "bin_start": 87.691518026,
            "bin_end": 90.994482224,
            "count": 0
           },
           {
            "bin_start": 90.994482224,
            "bin_end": 94.29744642200001,
            "count": 0
           },
           {
            "bin_start": 94.29744642200001,
            "bin_end": 97.60041062,
            "count": 1
           }
          ]
         }
        },
        {
         "name": "parkaccess",
         "dtype": "float64",
         "stats": {
          "unique_count": 4,
          "nan_count": 0,
          "min": 33.25797,
          "max": 100,
          "histogram": [
           {
            "bin_start": 33.25797,
            "bin_end": 39.932173,
            "count": 1
           },
           {
            "bin_start": 39.932173,
            "bin_end": 46.606376,
            "count": 0
           },
           {
            "bin_start": 46.606376,
            "bin_end": 53.280579,
            "count": 0
           },
           {
            "bin_start": 53.280579,
            "bin_end": 59.954782,
            "count": 0
           },
           {
            "bin_start": 59.954782,
            "bin_end": 66.628985,
            "count": 0
           },
           {
            "bin_start": 66.628985,
            "bin_end": 73.303188,
            "count": 0
           },
           {
            "bin_start": 73.303188,
            "bin_end": 79.97739100000001,
            "count": 0
           },
           {
            "bin_start": 79.97739100000001,
            "bin_end": 86.651594,
            "count": 1
           },
           {
            "bin_start": 86.651594,
            "bin_end": 93.325797,
            "count": 1
           },
           {
            "bin_start": 93.325797,
            "bin_end": 100,
            "count": 2
           }
          ]
         }
        },
        {
         "name": "parkaccess_pctile",
         "dtype": "float64",
         "stats": {
          "unique_count": 4,
          "nan_count": 0,
          "min": 15.83472347,
          "max": 81.35506224,
          "histogram": [
           {
            "bin_start": 15.83472347,
            "bin_end": 22.386757347,
            "count": 1
           },
           {
            "bin_start": 22.386757347,
            "bin_end": 28.938791224,
            "count": 0
           },
           {
            "bin_start": 28.938791224,
            "bin_end": 35.490825101,
            "count": 0
           },
           {
            "bin_start": 35.490825101,
            "bin_end": 42.042858978,
            "count": 0
           },
           {
            "bin_start": 42.042858978,
            "bin_end": 48.594892855,
            "count": 1
           },
           {
            "bin_start": 48.594892855,
            "bin_end": 55.146926732,
            "count": 1
           },
           {
            "bin_start": 55.146926732,
            "bin_end": 61.698960609,
            "count": 0
           },
           {
            "bin_start": 61.698960609,
            "bin_end": 68.250994486,
            "count": 0
           },
           {
            "bin_start": 68.250994486,
            "bin_end": 74.803028363,
            "count": 0
           },
           {
            "bin_start": 74.803028363,
            "bin_end": 81.35506224,
            "count": 2
           }
          ]
         }
        },
        {
         "name": "treecanopy",
         "dtype": "float64",
         "stats": {
          "unique_count": 5,
          "nan_count": 0,
          "min": 5.6254528,
          "max": 36.43379829999999,
          "histogram": [
           {
            "bin_start": 5.6254528,
            "bin_end": 8.70628735,
            "count": 2
           },
           {
            "bin_start": 8.70628735,
            "bin_end": 11.787121899999999,
            "count": 1
           },
           {
            "bin_start": 11.787121899999999,
            "bin_end": 14.86795645,
            "count": 0
           },
           {
            "bin_start": 14.86795645,
            "bin_end": 17.948791,
            "count": 0
           },
           {
            "bin_start": 17.948791,
            "bin_end": 21.02962555,
            "count": 1
           },
           {
            "bin_start": 21.02962555,
            "bin_end": 24.110460099999997,
            "count": 0
           },
           {
            "bin_start": 24.110460099999997,
            "bin_end": 27.191294649999996,
            "count": 0
           },
           {
            "bin_start": 27.191294649999996,
            "bin_end": 30.272129199999995,
            "count": 0
           },
           {
            "bin_start": 30.272129199999995,
            "bin_end": 33.352963749999994,
            "count": 0
           },
           {
            "bin_start": 33.352963749999994,
            "bin_end": 36.43379829999999,
            "count": 1
           }
          ]
         }
        },
        {
         "name": "treecanopy_pctile",
         "dtype": "float64",
         "stats": {
          "unique_count": 5,
          "nan_count": 0,
          "min": 55.357372,
          "max": 97.42076222,
          "histogram": [
           {
            "bin_start": 55.357372,
            "bin_end": 59.563711022,
            "count": 2
           },
           {
            "bin_start": 59.563711022,
            "bin_end": 63.770050044,
            "count": 0
           },
           {
            "bin_start": 63.770050044,
            "bin_end": 67.976389066,
            "count": 0
           },
           {
            "bin_start": 67.976389066,
            "bin_end": 72.182728088,
            "count": 0
           },
           {
            "bin_start": 72.182728088,
            "bin_end": 76.38906711,
            "count": 0
           },
           {
            "bin_start": 76.38906711,
            "bin_end": 80.595406132,
            "count": 0
           },
           {
            "bin_start": 80.595406132,
            "bin_end": 84.801745154,
            "count": 1
           },
           {
            "bin_start": 84.801745154,
            "bin_end": 89.008084176,
            "count": 0
           },
           {
            "bin_start": 89.008084176,
            "bin_end": 93.21442319799999,
            "count": 1
           },
           {
            "bin_start": 93.21442319799999,
            "bin_end": 97.42076222,
            "count": 1
           }
          ]
         }
        },
        {
         "name": "alcoffsale",
         "dtype": "float64",
         "stats": {
          "unique_count": 4,
          "nan_count": 0,
          "min": 0,
          "max": 73.16990126,
          "histogram": [
           {
            "bin_start": 0,
            "bin_end": 7.316990126,
            "count": 2
           },
           {
            "bin_start": 7.316990126,
            "bin_end": 14.633980252,
            "count": 0
           },
           {
            "bin_start": 14.633980252,
            "bin_end": 21.950970378,
            "count": 1
           },
           {
            "bin_start": 21.950970378,
            "bin_end": 29.267960504,
            "count": 1
           },
           {
            "bin_start": 29.267960504,
            "bin_end": 36.58495063,
            "count": 0
           },
           {
            "bin_start": 36.58495063,
            "bin_end": 43.901940756,
            "count": 0
           },
           {
            "bin_start": 43.901940756,
            "bin_end": 51.218930882,
            "count": 0
           },
           {
            "bin_start": 51.218930882,
            "bin_end": 58.535921008,
            "count": 0
           },
           {
            "bin_start": 58.535921008,
            "bin_end": 65.85291113400001,
            "count": 0
           },
           {
            "bin_start": 65.85291113400001,
            "bin_end": 73.16990126,
            "count": 1
           }
          ]
         }
        },
        {
         "name": "alcoffsale_pctile",
         "dtype": "float64",
         "stats": {
          "unique_count": 4,
          "nan_count": 0,
          "min": 4.5168741180000005,
          "max": 64.12164763,
          "histogram": [
           {
            "bin_start": 4.5168741180000005,
            "bin_end": 10.4773514692,
            "count": 2
           },
           {
            "bin_start": 10.4773514692,
            "bin_end": 16.4378288204,
            "count": 0
           },
           {
            "bin_start": 16.4378288204,
            "bin_end": 22.3983061716,
            "count": 1
           },
           {
            "bin_start": 22.3983061716,
            "bin_end": 28.3587835228,
            "count": 1
           },
           {
            "bin_start": 28.3587835228,
            "bin_end": 34.319260873999994,
            "count": 0
           },
           {
            "bin_start": 34.319260873999994,
            "bin_end": 40.279738225200006,
            "count": 0
           },
           {
            "bin_start": 40.279738225200006,
            "bin_end": 46.240215576400004,
            "count": 0
           },
           {
            "bin_start": 46.240215576400004,
            "bin_end": 52.2006929276,
            "count": 0
           },
           {
            "bin_start": 52.2006929276,
            "bin_end": 58.1611702788,
            "count": 0
           },
           {
            "bin_start": 58.1611702788,
            "bin_end": 64.12164763,
            "count": 1
           }
          ]
         }
        },
        {
         "name": "voting",
         "dtype": "float64",
         "stats": {
          "unique_count": 5,
          "nan_count": 0,
          "min": 78.01067469,
          "max": 85.49257179,
          "histogram": [
           {
            "bin_start": 78.01067469,
            "bin_end": 78.75886440000001,
            "count": 1
           },
           {
            "bin_start": 78.75886440000001,
            "bin_end": 79.50705411,
            "count": 0
           },
           {
            "bin_start": 79.50705411,
            "bin_end": 80.25524382,
            "count": 0
           },
           {
            "bin_start": 80.25524382,
            "bin_end": 81.00343353,
            "count": 0
           },
           {
            "bin_start": 81.00343353,
            "bin_end": 81.75162324,
            "count": 0
           },
           {
            "bin_start": 81.75162324,
            "bin_end": 82.49981295,
            "count": 1
           },
           {
            "bin_start": 82.49981295,
            "bin_end": 83.24800266,
            "count": 1
           },
           {
            "bin_start": 83.24800266,
            "bin_end": 83.99619237,
            "count": 1
           },
           {
            "bin_start": 83.99619237,
            "bin_end": 84.74438208,
            "count": 0
           },
           {
            "bin_start": 84.74438208,
            "bin_end": 85.49257179,
            "count": 1
           }
          ]
         }
        },
        {
         "name": "voting_pctile",
         "dtype": "float64",
         "stats": {
          "unique_count": 5,
          "nan_count": 0,
          "min": 81.48338252,
          "max": 97.80572308,
          "histogram": [
           {
            "bin_start": 81.48338252,
            "bin_end": 83.11561657600001,
            "count": 1
           },
           {
            "bin_start": 83.11561657600001,
            "bin_end": 84.74785063200001,
            "count": 0
           },
           {
            "bin_start": 84.74785063200001,
            "bin_end": 86.38008468800001,
            "count": 0
           },
           {
            "bin_start": 86.38008468800001,
            "bin_end": 88.01231874400001,
            "count": 0
           },
           {
            "bin_start": 88.01231874400001,
            "bin_end": 89.64455280000001,
            "count": 0
           },
           {
            "bin_start": 89.64455280000001,
            "bin_end": 91.276786856,
            "count": 0
           },
           {
            "bin_start": 91.276786856,
            "bin_end": 92.909020912,
            "count": 1
           },
           {
            "bin_start": 92.909020912,
            "bin_end": 94.541254968,
            "count": 1
           },
           {
            "bin_start": 94.541254968,
            "bin_end": 96.173489024,
            "count": 1
           },
           {
            "bin_start": 96.173489024,
            "bin_end": 97.80572308,
            "count": 1
           }
          ]
         }
        },
        {
         "name": "ownsevere",
         "dtype": "float64",
         "stats": {
          "unique_count": 5,
          "nan_count": 0,
          "min": 3.8834951460000005,
          "max": 19.65811966,
          "histogram": [
           {
            "bin_start": 3.8834951460000005,
            "bin_end": 5.4609575974,
            "count": 2
           },
           {
            "bin_start": 5.4609575974,
            "bin_end": 7.038420048800001,
            "count": 0
           },
           {
            "bin_start": 7.038420048800001,
            "bin_end": 8.615882500200001,
            "count": 1
           },
           {
            "bin_start": 8.615882500200001,
            "bin_end": 10.1933449516,
            "count": 0
           },
           {
            "bin_start": 10.1933449516,
            "bin_end": 11.770807403,
            "count": 0
           },
           {
            "bin_start": 11.770807403,
            "bin_end": 13.348269854400002,
            "count": 1
           },
           {
            "bin_start": 13.348269854400002,
            "bin_end": 14.9257323058,
            "count": 0
           },
           {
            "bin_start": 14.9257323058,
            "bin_end": 16.5031947572,
            "count": 0
           },
           {
            "bin_start": 16.5031947572,
            "bin_end": 18.0806572086,
            "count": 0
           },
           {
            "bin_start": 18.0806572086,
            "bin_end": 19.65811966,
            "count": 1
           }
          ]
         }
        },
        {
         "name": "ownsevere_pctile",
         "dtype": "float64",
         "stats": {
          "unique_count": 5,
          "nan_count": 0,
          "min": 15.52675478,
          "max": 94.18709098,
          "histogram": [
           {
            "bin_start": 15.52675478,
            "bin_end": 23.392788399999997,
            "count": 1
           },
           {
            "bin_start": 23.392788399999997,
            "bin_end": 31.258822019999997,
            "count": 0
           },
           {
            "bin_start": 31.258822019999997,
            "bin_end": 39.12485563999999,
            "count": 0
           },
           {
            "bin_start": 39.12485563999999,
            "bin_end": 46.990889259999996,
            "count": 1
           },
           {
            "bin_start": 46.990889259999996,
            "bin_end": 54.85692287999999,
            "count": 0
           },
           {
            "bin_start": 54.85692287999999,
            "bin_end": 62.72295649999999,
            "count": 0
           },
           {
            "bin_start": 62.72295649999999,
            "bin_end": 70.58899011999999,
            "count": 0
           },
           {
            "bin_start": 70.58899011999999,
            "bin_end": 78.45502373999999,
            "count": 0
           },
           {
            "bin_start": 78.45502373999999,
            "bin_end": 86.32105736,
            "count": 1
           },
           {
            "bin_start": 86.32105736,
            "bin_end": 94.18709098,
            "count": 2
           }
          ]
         }
        },
        {
         "name": "rentsevere",
         "dtype": "float64",
         "stats": {
          "unique_count": 5,
          "nan_count": 0,
          "min": 2.666666667,
          "max": 27.27272727,
          "histogram": [
           {
            "bin_start": 2.666666667,
            "bin_end": 5.127272727299999,
            "count": 1
           },
           {
            "bin_start": 5.127272727299999,
            "bin_end": 7.587878787599999,
            "count": 0
           },
           {
            "bin_start": 7.587878787599999,
            "bin_end": 10.0484848479,
            "count": 0
           },
           {
            "bin_start": 10.0484848479,
            "bin_end": 12.5090909082,
            "count": 2
           },
           {
            "bin_start": 12.5090909082,
            "bin_end": 14.9696969685,
            "count": 0
           },
           {
            "bin_start": 14.9696969685,
            "bin_end": 17.4303030288,
            "count": 0
           },
           {
            "bin_start": 17.4303030288,
            "bin_end": 19.8909090891,
            "count": 0
           },
           {
            "bin_start": 19.8909090891,
            "bin_end": 22.3515151494,
            "count": 1
           },
           {
            "bin_start": 22.3515151494,
            "bin_end": 24.812121209700003,
            "count": 0
           },
           {
            "bin_start": 24.812121209700003,
            "bin_end": 27.27272727,
            "count": 1
           }
          ]
         }
        },
        {
         "name": "rentsevere_pctile",
         "dtype": "float64",
         "stats": {
          "unique_count": 5,
          "nan_count": 0,
          "min": 45.78467856,
          "max": 97.89554729,
          "histogram": [
           {
            "bin_start": 45.78467856,
            "bin_end": 50.995765433,
            "count": 1
           },
           {
            "bin_start": 50.995765433,
            "bin_end": 56.206852306,
            "count": 0
           },
           {
            "bin_start": 56.206852306,
            "bin_end": 61.417939179,
            "count": 0
           },
           {
            "bin_start": 61.417939179,
            "bin_end": 66.629026052,
            "count": 0
           },
           {
            "bin_start": 66.629026052,
            "bin_end": 71.840112925,
            "count": 1
           },
           {
            "bin_start": 71.840112925,
            "bin_end": 77.051199798,
            "count": 0
           },
           {
            "bin_start": 77.051199798,
            "bin_end": 82.262286671,
            "count": 0
           },
           {
            "bin_start": 82.262286671,
            "bin_end": 87.473373544,
            "count": 0
           },
           {
            "bin_start": 87.473373544,
            "bin_end": 92.684460417,
            "count": 2
           },
           {
            "bin_start": 92.684460417,
            "bin_end": 97.89554729,
            "count": 1
           }
          ]
         }
        },
        {
         "name": "houserepair",
         "dtype": "float64",
         "stats": {
          "unique_count": 4,
          "nan_count": 0,
          "min": 99.38650307,
          "max": 100,
          "histogram": [
           {
            "bin_start": 99.38650307,
            "bin_end": 99.447852763,
            "count": 1
           },
           {
            "bin_start": 99.447852763,
            "bin_end": 99.509202456,
            "count": 1
           },
           {
            "bin_start": 99.509202456,
            "bin_end": 99.57055214900001,
            "count": 0
           },
           {
            "bin_start": 99.57055214900001,
            "bin_end": 99.631901842,
            "count": 0
           },
           {
            "bin_start": 99.631901842,
            "bin_end": 99.693251535,
            "count": 1
           },
           {
            "bin_start": 99.693251535,
            "bin_end": 99.754601228,
            "count": 0
           },
           {
            "bin_start": 99.754601228,
            "bin_end": 99.815950921,
            "count": 0
           },
           {
            "bin_start": 99.815950921,
            "bin_end": 99.877300614,
            "count": 0
           },
           {
            "bin_start": 99.877300614,
            "bin_end": 99.938650307,
            "count": 0
           },
           {
            "bin_start": 99.938650307,
            "bin_end": 100,
            "count": 2
           }
          ]
         }
        },
        {
         "name": "houserepair_pctile",
         "dtype": "float64",
         "stats": {
          "unique_count": 4,
          "nan_count": 0,
          "min": 51.14846657,
          "max": 80.81611703,
          "histogram": [
           {
            "bin_start": 51.14846657,
            "bin_end": 54.115231615999996,
            "count": 2
           },
           {
            "bin_start": 54.115231615999996,
            "bin_end": 57.081996661999995,
            "count": 0
           },
           {
            "bin_start": 57.081996661999995,
            "bin_end": 60.048761708,
            "count": 1
           },
           {
            "bin_start": 60.048761708,
            "bin_end": 63.015526754,
            "count": 0
           },
           {
            "bin_start": 63.015526754,
            "bin_end": 65.9822918,
            "count": 0
           },
           {
            "bin_start": 65.9822918,
            "bin_end": 68.94905684599999,
            "count": 0
           },
           {
            "bin_start": 68.94905684599999,
            "bin_end": 71.915821892,
            "count": 0
           },
           {
            "bin_start": 71.915821892,
            "bin_end": 74.882586938,
            "count": 0
           },
           {
            "bin_start": 74.882586938,
            "bin_end": 77.849351984,
            "count": 0
           },
           {
            "bin_start": 77.849351984,
            "bin_end": 80.81611703,
            "count": 2
           }
          ]
         }
        },
        {
         "name": "twoparents",
         "dtype": "float64",
         "stats": {
          "unique_count": 5,
          "nan_count": 0,
          "min": 87.01298701,
          "max": 93.07479224,
          "histogram": [
           {
            "bin_start": 87.01298701,
            "bin_end": 87.619167533,
            "count": 2
           },
           {
            "bin_start": 87.619167533,
            "bin_end": 88.225348056,
            "count": 0
           },
           {
            "bin_start": 88.225348056,
            "bin_end": 88.83152857900001,
            "count": 1
           },
           {
            "bin_start": 88.83152857900001,
            "bin_end": 89.437709102,
            "count": 0
           },
           {
            "bin_start": 89.437709102,
            "bin_end": 90.04388962499999,
            "count": 0
           },
           {
            "bin_start": 90.04388962499999,
            "bin_end": 90.650070148,
            "count": 0
           },
           {
            "bin_start": 90.650070148,
            "bin_end": 91.256250671,
            "count": 1
           },
           {
            "bin_start": 91.256250671,
            "bin_end": 91.862431194,
            "count": 0
           },
           {
            "bin_start": 91.862431194,
            "bin_end": 92.46861171699999,
            "count": 0
           },
           {
            "bin_start": 92.46861171699999,
            "bin_end": 93.07479224,
            "count": 1
           }
          ]
         }
        },
        {
         "name": "twoparents_pctile",
         "dtype": "float64",
         "stats": {
          "unique_count": 5,
          "nan_count": 0,
          "min": 77.9930707,
          "max": 92.48043116,
          "histogram": [
           {
            "bin_start": 77.9930707,
            "bin_end": 79.441806746,
            "count": 2
           },
           {
            "bin_start": 79.441806746,
            "bin_end": 80.890542792,
            "count": 0
           },
           {
            "bin_start": 80.890542792,
            "bin_end": 82.339278838,
            "count": 0
           },
           {
            "bin_start": 82.339278838,
            "bin_end": 83.788014884,
            "count": 1
           },
           {
            "bin_start": 83.788014884,
            "bin_end": 85.23675093,
            "count": 0
           },
           {
            "bin_start": 85.23675093,
            "bin_end": 86.68548697599999,
            "count": 0
           },
           {
            "bin_start": 86.68548697599999,
            "bin_end": 88.134223022,
            "count": 0
           },
           {
            "bin_start": 88.134223022,
            "bin_end": 89.582959068,
            "count": 1
           },
           {
            "bin_start": 89.582959068,
            "bin_end": 91.031695114,
            "count": 0
           },
           {
            "bin_start": 91.031695114,
            "bin_end": 92.48043116,
            "count": 1
           }
          ]
         }
        },
        {
         "name": "supermkts",
         "dtype": "float64",
         "stats": {
          "unique_count": 5,
          "nan_count": 0,
          "min": 1.3192057879999999,
          "max": 100,
          "histogram": [
           {
            "bin_start": 1.3192057879999999,
            "bin_end": 11.187285209199999,
            "count": 1
           },
           {
            "bin_start": 11.187285209199999,
            "bin_end": 21.0553646304,
            "count": 0
           },
           {
            "bin_start": 21.0553646304,
            "bin_end": 30.923444051599997,
            "count": 0
           },
           {
            "bin_start": 30.923444051599997,
            "bin_end": 40.791523472799994,
            "count": 0
           },
           {
            "bin_start": 40.791523472799994,
            "bin_end": 50.659602893999995,
            "count": 0
           },
           {
            "bin_start": 50.659602893999995,
            "bin_end": 60.52768231519999,
            "count": 0
           },
           {
            "bin_start": 60.52768231519999,
            "bin_end": 70.3957617364,
            "count": 0
           },
           {
            "bin_start": 70.3957617364,
            "bin_end": 80.2638411576,
            "count": 1
           },
           {
            "bin_start": 80.2638411576,
            "bin_end": 90.13192057879999,
            "count": 0
           },
           {
            "bin_start": 90.13192057879999,
            "bin_end": 100,
            "count": 3
           }
          ]
         }
        },
        {
         "name": "supermkts_pctile",
         "dtype": "float64",
         "stats": {
          "unique_count": 5,
          "nan_count": 0,
          "min": 13.39663801,
          "max": 94.25125112,
          "histogram": [
           {
            "bin_start": 13.39663801,
            "bin_end": 21.482099321,
            "count": 1
           },
           {
            "bin_start": 21.482099321,
            "bin_end": 29.567560632,
            "count": 0
           },
           {
            "bin_start": 29.567560632,
            "bin_end": 37.653021943,
            "count": 0
           },
           {
            "bin_start": 37.653021943,
            "bin_end": 45.738483254,
            "count": 0
           },
           {
            "bin_start": 45.738483254,
            "bin_end": 53.823944565000005,
            "count": 0
           },
           {
            "bin_start": 53.823944565000005,
            "bin_end": 61.909405875999994,
            "count": 0
           },
           {
            "bin_start": 61.909405875999994,
            "bin_end": 69.994867187,
            "count": 1
           },
           {
            "bin_start": 69.994867187,
            "bin_end": 78.080328498,
            "count": 0
           },
           {
            "bin_start": 78.080328498,
            "bin_end": 86.165789809,
            "count": 2
           },
           {
            "bin_start": 86.165789809,
            "bin_end": 94.25125112,
            "count": 1
           }
          ]
         }
        },
        {
         "name": "ozone",
         "dtype": "float64",
         "stats": {
          "unique_count": 1,
          "nan_count": 0,
          "min": 0.029592333,
          "max": 0.029592333,
          "histogram": [
           {
            "bin_start": -0.47040766700000003,
            "bin_end": -0.37040766700000005,
            "count": 0
           },
           {
            "bin_start": -0.37040766700000005,
            "bin_end": -0.270407667,
            "count": 0
           },
           {
            "bin_start": -0.270407667,
            "bin_end": -0.17040766699999998,
            "count": 0
           },
           {
            "bin_start": -0.17040766699999998,
            "bin_end": -0.07040766700000001,
            "count": 0
           },
           {
            "bin_start": -0.07040766700000001,
            "bin_end": 0.02959233299999997,
            "count": 0
           },
           {
            "bin_start": 0.02959233299999997,
            "bin_end": 0.12959233300000006,
            "count": 5
           },
           {
            "bin_start": 0.12959233300000006,
            "bin_end": 0.22959233300000004,
            "count": 0
           },
           {
            "bin_start": 0.22959233300000004,
            "bin_end": 0.329592333,
            "count": 0
           },
           {
            "bin_start": 0.329592333,
            "bin_end": 0.429592333,
            "count": 0
           },
           {
            "bin_start": 0.429592333,
            "bin_end": 0.529592333,
            "count": 0
           }
          ]
         }
        },
        {
         "name": "ozone_pctile",
         "dtype": "float64",
         "stats": {
          "unique_count": 1,
          "nan_count": 0,
          "min": 96.08623123,
          "max": 96.08623123,
          "histogram": [
           {
            "bin_start": 95.58623123,
            "bin_end": 95.68623122999999,
            "count": 0
           },
           {
            "bin_start": 95.68623122999999,
            "bin_end": 95.78623123,
            "count": 0
           },
           {
            "bin_start": 95.78623123,
            "bin_end": 95.88623122999999,
            "count": 0
           },
           {
            "bin_start": 95.88623122999999,
            "bin_end": 95.98623123,
            "count": 0
           },
           {
            "bin_start": 95.98623123,
            "bin_end": 96.08623123,
            "count": 0
           },
           {
            "bin_start": 96.08623123,
            "bin_end": 96.18623122999999,
            "count": 5
           },
           {
            "bin_start": 96.18623122999999,
            "bin_end": 96.28623123,
            "count": 0
           },
           {
            "bin_start": 96.28623123,
            "bin_end": 96.38623122999999,
            "count": 0
           },
           {
            "bin_start": 96.38623122999999,
            "bin_end": 96.48623123,
            "count": 0
           },
           {
            "bin_start": 96.48623123,
            "bin_end": 96.58623123,
            "count": 0
           }
          ]
         }
        },
        {
         "name": "pm25",
         "dtype": "float64",
         "stats": {
          "unique_count": 1,
          "nan_count": 0,
          "min": 8.69794377,
          "max": 8.69794377,
          "histogram": [
           {
            "bin_start": 8.19794377,
            "bin_end": 8.29794377,
            "count": 0
           },
           {
            "bin_start": 8.29794377,
            "bin_end": 8.39794377,
            "count": 0
           },
           {
            "bin_start": 8.39794377,
            "bin_end": 8.497943770000001,
            "count": 0
           },
           {
            "bin_start": 8.497943770000001,
            "bin_end": 8.59794377,
            "count": 0
           },
           {
            "bin_start": 8.59794377,
            "bin_end": 8.69794377,
            "count": 0
           },
           {
            "bin_start": 8.69794377,
            "bin_end": 8.79794377,
            "count": 5
           },
           {
            "bin_start": 8.79794377,
            "bin_end": 8.89794377,
            "count": 0
           },
           {
            "bin_start": 8.89794377,
            "bin_end": 8.997943770000001,
            "count": 0
           },
           {
            "bin_start": 8.997943770000001,
            "bin_end": 9.09794377,
            "count": 0
           },
           {
            "bin_start": 9.09794377,
            "bin_end": 9.19794377,
            "count": 0
           }
          ]
         }
        },
        {
         "name": "pm25_pctile",
         "dtype": "float64",
         "stats": {
          "unique_count": 1,
          "nan_count": 0,
          "min": 74.75939946,
          "max": 74.75939946,
          "histogram": [
           {
            "bin_start": 74.25939946,
            "bin_end": 74.35939945999999,
            "count": 0
           },
           {
            "bin_start": 74.35939945999999,
            "bin_end": 74.45939946,
            "count": 0
           },
           {
            "bin_start": 74.45939946,
            "bin_end": 74.55939946,
            "count": 0
           },
           {
            "bin_start": 74.55939946,
            "bin_end": 74.65939946,
            "count": 0
           },
           {
            "bin_start": 74.65939946,
            "bin_end": 74.75939946,
            "count": 0
           },
           {
            "bin_start": 74.75939946,
            "bin_end": 74.85939945999999,
            "count": 5
           },
           {
            "bin_start": 74.85939945999999,
            "bin_end": 74.95939946,
            "count": 0
           },
           {
            "bin_start": 74.95939946,
            "bin_end": 75.05939946,
            "count": 0
           },
           {
            "bin_start": 75.05939946,
            "bin_end": 75.15939946,
            "count": 0
           },
           {
            "bin_start": 75.15939946,
            "bin_end": 75.25939946,
            "count": 0
           }
          ]
         }
        },
        {
         "name": "dieselpm",
         "dtype": "float64",
         "stats": {
          "unique_count": 2,
          "nan_count": 0,
          "min": 27.43693284,
          "max": 42.19,
          "histogram": [
           {
            "bin_start": 27.43693284,
            "bin_end": 28.912239556,
            "count": 1
           },
           {
            "bin_start": 28.912239556,
            "bin_end": 30.387546272,
            "count": 0
           },
           {
            "bin_start": 30.387546272,
            "bin_end": 31.862852988,
            "count": 0
           },
           {
            "bin_start": 31.862852988,
            "bin_end": 33.338159704,
            "count": 0
           },
           {
            "bin_start": 33.338159704,
            "bin_end": 34.81346642,
            "count": 0
           },
           {
            "bin_start": 34.81346642,
            "bin_end": 36.288773136,
            "count": 0
           },
           {
            "bin_start": 36.288773136,
            "bin_end": 37.764079851999995,
            "count": 0
           },
           {
            "bin_start": 37.764079851999995,
            "bin_end": 39.239386568,
            "count": 0
           },
           {
            "bin_start": 39.239386568,
            "bin_end": 40.714693284,
            "count": 0
           },
           {
            "bin_start": 40.714693284,
            "bin_end": 42.19,
            "count": 4
           }
          ]
         }
        },
        {
         "name": "dieselpm_pctile",
         "dtype": "float64",
         "stats": {
          "unique_count": 2,
          "nan_count": 0,
          "min": 5.569100475,
          "max": 18.9272424,
          "histogram": [
           {
            "bin_start": 5.569100475,
            "bin_end": 6.9049146675,
            "count": 4
           },
           {
            "bin_start": 6.9049146675,
            "bin_end": 8.24072886,
            "count": 0
           },
           {
            "bin_start": 8.24072886,
            "bin_end": 9.5765430525,
            "count": 0
           },
           {
            "bin_start": 9.5765430525,
            "bin_end": 10.912357245,
            "count": 0
           },
           {
            "bin_start": 10.912357245,
            "bin_end": 12.248171437500002,
            "count": 0
           },
           {
            "bin_start": 12.248171437500002,
            "bin_end": 13.58398563,
            "count": 0
           },
           {
            "bin_start": 13.58398563,
            "bin_end": 14.9197998225,
            "count": 0
           },
           {
            "bin_start": 14.9197998225,
            "bin_end": 16.255614015000003,
            "count": 0
           },
           {
            "bin_start": 16.255614015000003,
            "bin_end": 17.5914282075,
            "count": 0
           },
           {
            "bin_start": 17.5914282075,
            "bin_end": 18.9272424,
            "count": 1
           }
          ]
         }
        },
        {
         "name": "h20contam",
         "dtype": "float64",
         "stats": {
          "unique_count": 1,
          "nan_count": 0,
          "min": 70.5995829,
          "max": 70.5995829,
          "histogram": [
           {
            "bin_start": 70.0995829,
            "bin_end": 70.1995829,
            "count": 0
           },
           {
            "bin_start": 70.1995829,
            "bin_end": 70.2995829,
            "count": 0
           },
           {
            "bin_start": 70.2995829,
            "bin_end": 70.3995829,
            "count": 0
           },
           {
            "bin_start": 70.3995829,
            "bin_end": 70.49958290000001,
            "count": 0
           },
           {
            "bin_start": 70.49958290000001,
            "bin_end": 70.5995829,
            "count": 0
           },
           {
            "bin_start": 70.5995829,
            "bin_end": 70.6995829,
            "count": 5
           },
           {
            "bin_start": 70.6995829,
            "bin_end": 70.7995829,
            "count": 0
           },
           {
            "bin_start": 70.7995829,
            "bin_end": 70.8995829,
            "count": 0
           },
           {
            "bin_start": 70.8995829,
            "bin_end": 70.99958290000001,
            "count": 0
           },
           {
            "bin_start": 70.99958290000001,
            "bin_end": 71.0995829,
            "count": 0
           }
          ]
         }
        },
        {
         "name": "h20contam_pctile",
         "dtype": "float64",
         "stats": {
          "unique_count": 1,
          "nan_count": 0,
          "min": 97.20261773,
          "max": 97.20261773,
          "histogram": [
           {
            "bin_start": 96.70261773,
            "bin_end": 96.80261773,
            "count": 0
           },
           {
            "bin_start": 96.80261773,
            "bin_end": 96.90261773,
            "count": 0
           },
           {
            "bin_start": 96.90261773,
            "bin_end": 97.00261773,
            "count": 0
           },
           {
            "bin_start": 97.00261773,
            "bin_end": 97.10261773,
            "count": 0
           },
           {
            "bin_start": 97.10261773,
            "bin_end": 97.20261773,
            "count": 0
           },
           {
            "bin_start": 97.20261773,
            "bin_end": 97.30261773,
            "count": 5
           },
           {
            "bin_start": 97.30261773,
            "bin_end": 97.40261773,
            "count": 0
           },
           {
            "bin_start": 97.40261773,
            "bin_end": 97.50261773,
            "count": 0
           },
           {
            "bin_start": 97.50261773,
            "bin_end": 97.60261773,
            "count": 0
           },
           {
            "bin_start": 97.60261773,
            "bin_end": 97.70261773,
            "count": 0
           }
          ]
         }
        },
        {
         "name": "LEB",
         "dtype": "float64",
         "stats": {
          "unique_count": 5,
          "nan_count": 0,
          "min": 80.12323761,
          "max": 86.98550623,
          "histogram": [
           {
            "bin_start": 80.12323761,
            "bin_end": 80.809464472,
            "count": 1
           },
           {
            "bin_start": 80.809464472,
            "bin_end": 81.495691334,
            "count": 0
           },
           {
            "bin_start": 81.495691334,
            "bin_end": 82.181918196,
            "count": 0
           },
           {
            "bin_start": 82.181918196,
            "bin_end": 82.868145058,
            "count": 1
           },
           {
            "bin_start": 82.868145058,
            "bin_end": 83.55437192,
            "count": 0
           },
           {
            "bin_start": 83.55437192,
            "bin_end": 84.240598782,
            "count": 0
           },
           {
            "bin_start": 84.240598782,
            "bin_end": 84.926825644,
            "count": 0
           },
           {
            "bin_start": 84.926825644,
            "bin_end": 85.613052506,
            "count": 0
           },
           {
            "bin_start": 85.613052506,
            "bin_end": 86.299279368,
            "count": 0
           },
           {
            "bin_start": 86.299279368,
            "bin_end": 86.98550623,
            "count": 3
           }
          ]
         }
        },
        {
         "name": "LEB_pctile",
         "dtype": "float64",
         "stats": {
          "unique_count": 5,
          "nan_count": 0,
          "min": 38.85538304,
          "max": 96.66367253,
          "histogram": [
           {
            "bin_start": 38.85538304,
            "bin_end": 44.636211989,
            "count": 1
           },
           {
            "bin_start": 44.636211989,
            "bin_end": 50.417040938,
            "count": 0
           },
           {
            "bin_start": 50.417040938,
            "bin_end": 56.197869886999996,
            "count": 0
           },
           {
            "bin_start": 56.197869886999996,
            "bin_end": 61.978698836,
            "count": 0
           },
           {
            "bin_start": 61.978698836,
            "bin_end": 67.759527785,
            "count": 0
           },
           {
            "bin_start": 67.759527785,
            "bin_end": 73.540356734,
            "count": 1
           },
           {
            "bin_start": 73.540356734,
            "bin_end": 79.32118568300001,
            "count": 0
           },
           {
            "bin_start": 79.32118568300001,
            "bin_end": 85.10201463199999,
            "count": 0
           },
           {
            "bin_start": 85.10201463199999,
            "bin_end": 90.882843581,
            "count": 0
           },
           {
            "bin_start": 90.882843581,
            "bin_end": 96.66367253,
            "count": 3
           }
          ]
         }
        },
        {
         "name": "white_pct",
         "dtype": "float64",
         "stats": {
          "unique_count": 5,
          "nan_count": 0,
          "min": 50.55444982,
          "max": 78.31813576,
          "histogram": [
           {
            "bin_start": 50.55444982,
            "bin_end": 53.330818414,
            "count": 1
           },
           {
            "bin_start": 53.330818414,
            "bin_end": 56.107187008000004,
            "count": 0
           },
           {
            "bin_start": 56.107187008000004,
            "bin_end": 58.883555602,
            "count": 0
           },
           {
            "bin_start": 58.883555602,
            "bin_end": 61.659924196000006,
            "count": 0
           },
           {
            "bin_start": 61.659924196000006,
            "bin_end": 64.43629279000001,
            "count": 0
           },
           {
            "bin_start": 64.43629279000001,
            "bin_end": 67.212661384,
            "count": 2
           },
           {
            "bin_start": 67.212661384,
            "bin_end": 69.989029978,
            "count": 0
           },
           {
            "bin_start": 69.989029978,
            "bin_end": 72.76539857200001,
            "count": 1
           },
           {
            "bin_start": 72.76539857200001,
            "bin_end": 75.541767166,
            "count": 0
           },
           {
            "bin_start": 75.541767166,
            "bin_end": 78.31813576,
            "count": 1
           }
          ]
         }
        },
        {
         "name": "black_pct",
         "dtype": "float64",
         "stats": {
          "unique_count": 5,
          "nan_count": 0,
          "min": 1.5704154,
          "max": 26.52829116,
          "histogram": [
           {
            "bin_start": 1.5704154,
            "bin_end": 4.066202976,
            "count": 1
           },
           {
            "bin_start": 4.066202976,
            "bin_end": 6.561990552,
            "count": 1
           },
           {
            "bin_start": 6.561990552,
            "bin_end": 9.057778128,
            "count": 0
           },
           {
            "bin_start": 9.057778128,
            "bin_end": 11.553565704,
            "count": 1
           },
           {
            "bin_start": 11.553565704,
            "bin_end": 14.04935328,
            "count": 1
           },
           {
            "bin_start": 14.04935328,
            "bin_end": 16.545140856000003,
            "count": 0
           },
           {
            "bin_start": 16.545140856000003,
            "bin_end": 19.040928432,
            "count": 0
           },
           {
            "bin_start": 19.040928432,
            "bin_end": 21.536716008,
            "count": 0
           },
           {
            "bin_start": 21.536716008,
            "bin_end": 24.032503584000004,
            "count": 0
           },
           {
            "bin_start": 24.032503584000004,
            "bin_end": 26.52829116,
            "count": 1
           }
          ]
         }
        },
        {
         "name": "asian_pct",
         "dtype": "float64",
         "stats": {
          "unique_count": 5,
          "nan_count": 0,
          "min": 5.914131362000001,
          "max": 15.52604699,
          "histogram": [
           {
            "bin_start": 5.914131362000001,
            "bin_end": 6.875322924800001,
            "count": 1
           },
           {
            "bin_start": 6.875322924800001,
            "bin_end": 7.836514487600001,
            "count": 2
           },
           {
            "bin_start": 7.836514487600001,
            "bin_end": 8.7977060504,
            "count": 1
           },
           {
            "bin_start": 8.7977060504,
            "bin_end": 9.7588976132,
            "count": 0
           },
           {
            "bin_start": 9.7588976132,
            "bin_end": 10.720089176,
            "count": 0
           },
           {
            "bin_start": 10.720089176,
            "bin_end": 11.6812807388,
            "count": 0
           },
           {
            "bin_start": 11.6812807388,
            "bin_end": 12.6424723016,
            "count": 0
           },
           {
            "bin_start": 12.6424723016,
            "bin_end": 13.6036638644,
            "count": 0
           },
           {
            "bin_start": 13.6036638644,
            "bin_end": 14.5648554272,
            "count": 0
           },
           {
            "bin_start": 14.5648554272,
            "bin_end": 15.52604699,
            "count": 1
           }
          ]
         }
        },
        {
         "name": "latino_pct",
         "dtype": "float64",
         "stats": {
          "unique_count": 5,
          "nan_count": 0,
          "min": 3.983656793,
          "max": 9.667330111,
          "histogram": [
           {
            "bin_start": 3.983656793,
            "bin_end": 4.5520241248,
            "count": 1
           },
           {
            "bin_start": 4.5520241248,
            "bin_end": 5.1203914566,
            "count": 0
           },
           {
            "bin_start": 5.1203914566,
            "bin_end": 5.6887587884,
            "count": 0
           },
           {
            "bin_start": 5.6887587884,
            "bin_end": 6.257126120200001,
            "count": 0
           },
           {
            "bin_start": 6.257126120200001,
            "bin_end": 6.825493452,
            "count": 0
           },
           {
            "bin_start": 6.825493452,
            "bin_end": 7.3938607838,
            "count": 0
           },
           {
            "bin_start": 7.3938607838,
            "bin_end": 7.9622281156,
            "count": 1
           },
           {
            "bin_start": 7.9622281156,
            "bin_end": 8.5305954474,
            "count": 1
           },
           {
            "bin_start": 8.5305954474,
            "bin_end": 9.0989627792,
            "count": 1
           },
           {
            "bin_start": 9.0989627792,
            "bin_end": 9.667330111,
            "count": 1
           }
          ]
         }
        },
        {
         "name": "multiple_pct",
         "dtype": "float64",
         "stats": {
          "unique_count": 5,
          "nan_count": 0,
          "min": 3.7793667010000003,
          "max": 6.113164629,
          "histogram": [
           {
            "bin_start": 3.7793667010000003,
            "bin_end": 4.0127464938,
            "count": 1
           },
           {
            "bin_start": 4.0127464938,
            "bin_end": 4.2461262866,
            "count": 0
           },
           {
            "bin_start": 4.2461262866,
            "bin_end": 4.4795060794,
            "count": 0
           },
           {
            "bin_start": 4.4795060794,
            "bin_end": 4.7128858722,
            "count": 0
           },
           {
            "bin_start": 4.7128858722,
            "bin_end": 4.946265665,
            "count": 1
           },
           {
            "bin_start": 4.946265665,
            "bin_end": 5.1796454577999995,
            "count": 1
           },
           {
            "bin_start": 5.1796454577999995,
            "bin_end": 5.4130252506000005,
            "count": 1
           },
           {
            "bin_start": 5.4130252506000005,
            "bin_end": 5.6464050434,
            "count": 0
           },
           {
            "bin_start": 5.6464050434,
            "bin_end": 5.8797848362,
            "count": 0
           },
           {
            "bin_start": 5.8797848362,
            "bin_end": 6.113164629,
            "count": 1
           }
          ]
         }
        },
        {
         "name": "NativeAm_pct",
         "dtype": "float64",
         "stats": {
          "unique_count": 5,
          "nan_count": 0,
          "min": 0.068096697,
          "max": 0.45493318200000005,
          "histogram": [
           {
            "bin_start": 0.068096697,
            "bin_end": 0.10678034550000001,
            "count": 2
           },
           {
            "bin_start": 0.10678034550000001,
            "bin_end": 0.145463994,
            "count": 1
           },
           {
            "bin_start": 0.145463994,
            "bin_end": 0.18414764250000004,
            "count": 1
           },
           {
            "bin_start": 0.18414764250000004,
            "bin_end": 0.22283129100000004,
            "count": 0
           },
           {
            "bin_start": 0.22283129100000004,
            "bin_end": 0.26151493950000004,
            "count": 0
           },
           {
            "bin_start": 0.26151493950000004,
            "bin_end": 0.30019858800000004,
            "count": 0
           },
           {
            "bin_start": 0.30019858800000004,
            "bin_end": 0.33888223650000004,
            "count": 0
           },
           {
            "bin_start": 0.33888223650000004,
            "bin_end": 0.37756588500000005,
            "count": 0
           },
           {
            "bin_start": 0.37756588500000005,
            "bin_end": 0.41624953350000005,
            "count": 0
           },
           {
            "bin_start": 0.41624953350000005,
            "bin_end": 0.45493318200000005,
            "count": 1
           }
          ]
         }
        },
        {
         "name": "PacificIsl_pct",
         "dtype": "float64",
         "stats": {
          "unique_count": 5,
          "nan_count": 0,
          "min": 0,
          "max": 0.27238678899999996,
          "histogram": [
           {
            "bin_start": 0,
            "bin_end": 0.027238678899999997,
            "count": 1
           },
           {
            "bin_start": 0.027238678899999997,
            "bin_end": 0.054477357799999994,
            "count": 0
           },
           {
            "bin_start": 0.054477357799999994,
            "bin_end": 0.0817160367,
            "count": 0
           },
           {
            "bin_start": 0.0817160367,
            "bin_end": 0.10895471559999999,
            "count": 1
           },
           {
            "bin_start": 0.10895471559999999,
            "bin_end": 0.13619339449999998,
            "count": 1
           },
           {
            "bin_start": 0.13619339449999998,
            "bin_end": 0.1634320734,
            "count": 1
           },
           {
            "bin_start": 0.1634320734,
            "bin_end": 0.19067075229999997,
            "count": 0
           },
           {
            "bin_start": 0.19067075229999997,
            "bin_end": 0.21790943119999998,
            "count": 0
           },
           {
            "bin_start": 0.21790943119999998,
            "bin_end": 0.24514811009999998,
            "count": 0
           },
           {
            "bin_start": 0.24514811009999998,
            "bin_end": 0.27238678899999996,
            "count": 1
           }
          ]
         }
        },
        {
         "name": "other_pct",
         "dtype": "float64",
         "stats": {
          "unique_count": 5,
          "nan_count": 0,
          "min": 0.151975684,
          "max": 0.8512087159999999,
          "histogram": [
           {
            "bin_start": 0.151975684,
            "bin_end": 0.2218989872,
            "count": 1
           },
           {
            "bin_start": 0.2218989872,
            "bin_end": 0.29182229039999996,
            "count": 0
           },
           {
            "bin_start": 0.29182229039999996,
            "bin_end": 0.36174559359999997,
            "count": 0
           },
           {
            "bin_start": 0.36174559359999997,
            "bin_end": 0.4316688968,
            "count": 1
           },
           {
            "bin_start": 0.4316688968,
            "bin_end": 0.5015921999999999,
            "count": 0
           },
           {
            "bin_start": 0.5015921999999999,
            "bin_end": 0.5715155031999999,
            "count": 1
           },
           {
            "bin_start": 0.5715155031999999,
            "bin_end": 0.6414388064,
            "count": 0
           },
           {
            "bin_start": 0.6414388064,
            "bin_end": 0.7113621096,
            "count": 1
           },
           {
            "bin_start": 0.7113621096,
            "bin_end": 0.7812854128,
            "count": 0
           },
           {
            "bin_start": 0.7812854128,
            "bin_end": 0.8512087159999999,
            "count": 1
           }
          ]
         }
        },
        {
         "name": "version",
         "dtype": "object",
         "stats": {
          "unique_count": 1,
          "nan_count": 0,
          "categories": [
           {
            "name": "Wed13Dec17",
            "count": 5
           }
          ]
         }
        },
        {
         "name": "_deepnote_index_column",
         "dtype": "int64"
        }
       ],
       "rows_top": [
        {
         "GEOID": 6001400100,
         "pop2010": 2937,
         "pct2010gq": 0.1,
         "City": "Oakland",
         "ZIP": 94704,
         "County_FIPS": 6001,
         "County_Name": "Alameda",
         "UrbanType": "urban_area",
         "hpi2score": 1.182028296,
         "hpi2_pctile_pos": 99.11459002,
         "hpi2_pctile_neg": 0.885409983,
         "hpi_top25pct": "Yes",
         "quintiles": 1,
         "quartiles": 1,
         "economic": 1.73596312,
         "economic_pctile": 98.69113307,
         "education": 0.9489684620000001,
         "education_pctile": 90.09367381,
         "housing": 0.730551597,
         "housing_pctile": 90.00384961,
         "healthcareaccess": 1.285242394,
         "healthcareaccess_pctile": 93.81496215,
         "neighborhood": 0.832169913,
         "neighborhood_pctile": 98.39599641,
         "pollution": 0.878124826,
         "pollution_pctile": 92.37777493,
         "transportation": 0.616855445,
         "transportation_pctile": 95.22648531,
         "social": 1.3366018640000001,
         "social_pctile": 96.88181702,
         "insured": 95,
         "insured_pctile": 93.81496215,
         "uncrowded": 99.3,
         "uncrowded_pctile": 89.46490440000001,
         "homeownership": 85.5,
         "homeownership_pctile": 92.00564609,
         "automobile": 98.6,
         "automobile_pctile": 87.47593995,
         "commute": 15.28455285,
         "commute_pctile": 82.88207366,
         "inpreschool": 53.7,
         "inpreschool_pctile": 53.71487232,
         "inhighschool": 100,
         "inhighschool_pctile": 100,
         "bachelorsed": 79.7,
         "bachelorsed_pctile": 98.67830104,
         "employed": 73.7,
         "employed_pctile": 68.92082638,
         "abovepoverty": 92.37804878,
         "abovepoverty_pctile": 96.44552804,
         "income": 174113,
         "income_pctile": 99.10175799,
         "retail": 9.587563451,
         "retail_pctile": 97.60041062,
         "parkaccess": 100,
         "parkaccess_pctile": 81.35506224,
         "treecanopy": 36.43379829999999,
         "treecanopy_pctile": 97.42076222,
         "alcoffsale": 73.16990126,
         "alcoffsale_pctile": 64.12164763,
         "voting": 82.78168224,
         "voting_pctile": 93.22468882,
         "ownsevere": 5.092592593,
         "ownsevere_pctile": 90.06800975,
         "rentsevere": 27.27272727,
         "rentsevere_pctile": 45.78467856,
         "houserepair": 100,
         "houserepair_pctile": 80.81611703,
         "twoparents": 93.07479224,
         "twoparents_pctile": 92.48043116,
         "supermkts": 1.3192057879999999,
         "supermkts_pctile": 13.39663801,
         "ozone": 0.029592333,
         "ozone_pctile": 96.08623123,
         "pm25": 8.69794377,
         "pm25_pctile": 74.75939946,
         "dieselpm": 27.43693284,
         "dieselpm_pctile": 18.9272424,
         "h20contam": 70.5995829,
         "h20contam_pctile": 97.20261773,
         "LEB": 86.98550623,
         "LEB_pctile": 96.66367253,
         "white_pct": 70.75246851,
         "black_pct": 4.766768812,
         "asian_pct": 15.52604699,
         "latino_pct": 3.983656793,
         "multiple_pct": 3.7793667010000003,
         "NativeAm_pct": 0.068096697,
         "PacificIsl_pct": 0.27238678899999996,
         "other_pct": 0.8512087159999999,
         "version": "Wed13Dec17",
         "_deepnote_index_column": 0
        },
        {
         "GEOID": 6001400200,
         "pop2010": 1974,
         "pct2010gq": 3.5,
         "City": "Oakland",
         "ZIP": 94618,
         "County_FIPS": 6001,
         "County_Name": "Alameda",
         "UrbanType": "urban_area",
         "hpi2score": 1.325873799,
         "hpi2_pctile_pos": 99.70486334,
         "hpi2_pctile_neg": 0.295136661,
         "hpi_top25pct": "Yes",
         "quintiles": 1,
         "quartiles": 1,
         "economic": 1.808760851,
         "economic_pctile": 99.03759784,
         "education": 1.137724703,
         "education_pctile": 94.64904401,
         "housing": 0.9597282540000001,
         "housing_pctile": 96.8304889,
         "healthcareaccess": 1.004970538,
         "healthcareaccess_pctile": 83.98562813,
         "neighborhood": 0.503231709,
         "neighborhood_pctile": 94.37957141,
         "pollution": 0.6572610560000001,
         "pollution_pctile": 85.62812781,
         "transportation": 1.49436603,
         "transportation_pctile": 99.65353522,
         "social": 1.2271164079999999,
         "social_pctile": 94.68754009999999,
         "insured": 91.6,
         "insured_pctile": 83.98562813,
         "uncrowded": 100,
         "uncrowded_pctile": 96.93314513,
         "homeownership": 63.6,
         "homeownership_pctile": 59.50211728,
         "automobile": 94.1,
         "automobile_pctile": 46.02848710000001,
         "commute": 41.95075758,
         "commute_pctile": 96.79199281,
         "inpreschool": 64.7,
         "inpreschool_pctile": 67.79160785,
         "inhighschool": 100,
         "inhighschool_pctile": 100,
         "bachelorsed": 82.9,
         "bachelorsed_pctile": 99.44822276,
         "employed": 85.6,
         "employed_pctile": 99.17875016,
         "abovepoverty": 88.76008065,
         "abovepoverty_pctile": 90.96625176,
         "income": 141806,
         "income_pctile": 96.6508405,
         "retail": 2.448042558,
         "retail_pctile": 82.65109714,
         "parkaccess": 91.79330999999999,
         "parkaccess_pctile": 50.26305659,
         "treecanopy": 19.7083709,
         "treecanopy_pctile": 92.46759913,
         "alcoffsale": 28.41945289,
         "alcoffsale_pctile": 26.831772100000002,
         "voting": 85.49257179,
         "voting_pctile": 97.80572308,
         "ownsevere": 3.8834951460000005,
         "ownsevere_pctile": 94.18709098,
         "rentsevere": 2.666666667,
         "rentsevere_pctile": 97.89554729,
         "houserepair": 99.38650307,
         "houserepair_pctile": 51.14846657,
         "twoparents": 87.01298701,
         "twoparents_pctile": 77.9930707,
         "supermkts": 100,
         "supermkts_pctile": 94.25125112,
         "ozone": 0.029592333,
         "ozone_pctile": 96.08623123,
         "pm25": 8.69794377,
         "pm25_pctile": 74.75939946,
         "dieselpm": 42.19,
         "dieselpm_pctile": 5.569100475,
         "h20contam": 70.5995829,
         "h20contam_pctile": 97.20261773,
         "LEB": 86.95761586,
         "LEB_pctile": 96.61234441,
         "white_pct": 78.31813576,
         "black_pct": 1.5704154,
         "asian_pct": 7.396149949,
         "latino_pct": 7.649442756,
         "multiple_pct": 4.812563323,
         "NativeAm_pct": 0.10131712300000001,
         "PacificIsl_pct": 0,
         "other_pct": 0.151975684,
         "version": "Wed13Dec17",
         "_deepnote_index_column": 1
        },
        {
         "GEOID": 6001400300,
         "pop2010": 4865,
         "pct2010gq": 0.8,
         "City": "Oakland",
         "ZIP": 94618,
         "County_FIPS": 6001,
         "County_Name": "Alameda",
         "UrbanType": "urban_area",
         "hpi2score": 0.925665702,
         "hpi2_pctile_pos": 95.93224689,
         "hpi2_pctile_neg": 4.067753112,
         "hpi_top25pct": "Yes",
         "quintiles": 1,
         "quartiles": 1,
         "economic": 1.014491555,
         "economic_pctile": 87.24496343,
         "education": 1.348314049,
         "education_pctile": 98.16501989,
         "housing": 0.603628313,
         "housing_pctile": 84.08828436,
         "healthcareaccess": 1.2687558140000001,
         "healthcareaccess_pctile": 93.18619274,
         "neighborhood": -0.291977182,
         "neighborhood_pctile": 19.94097267,
         "pollution": 0.6572610560000001,
         "pollution_pctile": 85.62812781,
         "transportation": 0.8222676990000001,
         "transportation_pctile": 97.20261773,
         "social": 1.078499777,
         "social_pctile": 90.96625176,
         "insured": 94.8,
         "insured_pctile": 93.18619274,
         "uncrowded": 100,
         "uncrowded_pctile": 96.93314513,
         "homeownership": 44.3,
         "homeownership_pctile": 33.85089183,
         "automobile": 85.5,
         "automobile_pctile": 14.11523162,
         "commute": 37.87398803,
         "commute_pctile": 96.04773515,
         "inpreschool": 100,
         "inpreschool_pctile": 95.71410240000002,
         "inhighschool": 100,
         "inhighschool_pctile": 100,
         "bachelorsed": 68.8,
         "bachelorsed_pctile": 94.35390735,
         "employed": 81.4,
         "employed_pctile": 95.27781342,
         "abovepoverty": 85.74387947,
         "abovepoverty_pctile": 85.30732709,
         "income": 84598,
         "income_pctile": 74.99037598,
         "retail": 1.890912421,
         "retail_pctile": 76.47889131,
         "parkaccess": 33.25797,
         "parkaccess_pctile": 15.83472347,
         "treecanopy": 5.8385298,
         "treecanopy_pctile": 57.32067239999999,
         "alcoffsale": 16.69064748,
         "alcoffsale_pctile": 19.31220326,
         "voting": 82.08659713,
         "voting_pctile": 91.81316566,
         "ownsevere": 7.359307359,
         "ownsevere_pctile": 79.07096112,
         "rentsevere": 12.17712177,
         "rentsevere_pctile": 88.77197485,
         "houserepair": 100,
         "houserepair_pctile": 80.81611703,
         "twoparents": 87.22157093,
         "twoparents_pctile": 78.42935968,
         "supermkts": 92.74517736,
         "supermkts_pctile": 80.35416399,
         "ozone": 0.029592333,
         "ozone_pctile": 96.08623123,
         "pm25": 8.69794377,
         "pm25_pctile": 74.75939946,
         "dieselpm": 42.19,
         "dieselpm_pctile": 5.569100475,
         "h20contam": 70.5995829,
         "h20contam_pctile": 97.20261773,
         "LEB": 86.46294163,
         "LEB_pctile": 95.13666111,
         "white_pct": 66.9270298,
         "black_pct": 10.52415211,
         "asian_pct": 8.612538541000001,
         "latino_pct": 8.201438849,
         "multiple_pct": 5.056526208,
         "NativeAm_pct": 0.16443987699999998,
         "PacificIsl_pct": 0.102774923,
         "other_pct": 0.411099692,
         "version": "Wed13Dec17",
         "_deepnote_index_column": 2
        },
        {
         "GEOID": 6001400400,
         "pop2010": 3703,
         "pct2010gq": 0.9,
         "City": "Oakland",
         "ZIP": 94609,
         "County_FIPS": 6001,
         "County_Name": "Alameda",
         "UrbanType": "urban_area",
         "hpi2score": 1.117603414,
         "hpi2_pctile_pos": 98.53714872,
         "hpi2_pctile_neg": 1.462851277,
         "hpi_top25pct": "Yes",
         "quintiles": 1,
         "quartiles": 1,
         "economic": 1.277656808,
         "economic_pctile": 93.62248171,
         "education": 0.9395008979999999,
         "education_pctile": 89.91402541,
         "housing": 0.356477088,
         "housing_pctile": 68.38188118,
         "healthcareaccess": 1.301728974,
         "healthcareaccess_pctile": 94.43089953,
         "neighborhood": 0.07002686799999999,
         "neighborhood_pctile": 57.93660978,
         "pollution": 0.6572610560000001,
         "pollution_pctile": 85.62812781,
         "transportation": 1.7566567069999999,
         "transportation_pctile": 99.91017579999999,
         "social": 1.295416958,
         "social_pctile": 96.25304761,
         "insured": 95.2,
         "insured_pctile": 94.43089953,
         "uncrowded": 99.2,
         "uncrowded_pctile": 88.25869370000001,
         "homeownership": 37.9,
         "homeownership_pctile": 26.30565892,
         "automobile": 92.9,
         "automobile_pctile": 38.61157449,
         "commute": 49.72451791,
         "commute_pctile": 98.01103554,
         "inpreschool": 72.3,
         "inpreschool_pctile": 75.68330553,
         "inhighschool": 97.2,
         "inhighschool_pctile": 22.276401899999996,
         "bachelorsed": 75.5,
         "bachelorsed_pctile": 97.21544976,
         "employed": 84.6,
         "employed_pctile": 98.70396509999999,
         "abovepoverty": 83.21541839,
         "abovepoverty_pctile": 80.14885153,
         "income": 102386,
         "income_pctile": 86.50070576,
         "retail": 1.828020341,
         "retail_pctile": 75.61914539,
         "parkaccess": 84.229,
         "parkaccess_pctile": 42.73065572,
         "treecanopy": 11.378516099999999,
         "treecanopy_pctile": 82.99756191,
         "alcoffsale": 0,
         "alcoffsale_pctile": 4.5168741180000005,
         "voting": 83.73253947,
         "voting_pctile": 95.17515719,
         "ownsevere": 13.10344828,
         "ownsevere_pctile": 42.64083152,
         "rentsevere": 11.926605499999999,
         "rentsevere_pctile": 89.24675991,
         "houserepair": 99.44903581,
         "houserepair_pctile": 53.43256769,
         "twoparents": 90.8765653,
         "twoparents_pctile": 88.37418196,
         "supermkts": 97.84446589,
         "supermkts_pctile": 84.58873348,
         "ozone": 0.029592333,
         "ozone_pctile": 96.08623123,
         "pm25": 8.69794377,
         "pm25_pctile": 74.75939946,
         "dieselpm": 42.19,
         "dieselpm_pctile": 5.569100475,
         "h20contam": 70.5995829,
         "h20contam_pctile": 97.20261773,
         "LEB": 82.71089686,
         "LEB_pctile": 68.95932247,
         "white_pct": 65.46043748,
         "black_pct": 12.09829868,
         "asian_pct": 7.291385363,
         "latino_pct": 8.965703484,
         "multiple_pct": 5.320010802,
         "NativeAm_pct": 0.135025655,
         "PacificIsl_pct": 0.162030786,
         "other_pct": 0.56710775,
         "version": "Wed13Dec17",
         "_deepnote_index_column": 3
        },
        {
         "GEOID": 6001400500,
         "pop2010": 3517,
         "pct2010gq": 3.6,
         "City": "Oakland",
         "ZIP": 94609,
         "County_FIPS": 6001,
         "County_Name": "Alameda",
         "UrbanType": "urban_area",
         "hpi2score": 0.56279906,
         "hpi2_pctile_pos": 83.31836263,
         "hpi2_pctile_neg": 16.68163737,
         "hpi_top25pct": "Yes",
         "quintiles": 1,
         "quartiles": 1,
         "economic": 0.577803305,
         "economic_pctile": 71.85936096,
         "education": 0.486144516,
         "education_pctile": 75.37533684,
         "housing": 0.029925628,
         "housing_pctile": 45.95149493,
         "healthcareaccess": 0.485643275,
         "healthcareaccess_pctile": 62.95393302,
         "neighborhood": -0.106063175,
         "neighborhood_pctile": 34.98011036,
         "pollution": 0.6572610560000001,
         "pollution_pctile": 85.62812781,
         "transportation": 0.8730715170000001,
         "transportation_pctile": 97.53625048,
         "social": 0.949500193,
         "social_pctile": 86.82150648,
         "insured": 85.3,
         "insured_pctile": 62.95393302,
         "uncrowded": 97.5,
         "uncrowded_pctile": 71.88502502,
         "homeownership": 36.3,
         "homeownership_pctile": 24.61183113,
         "automobile": 85.4,
         "automobile_pctile": 13.93558322,
         "commute": 39.2,
         "commute_pctile": 96.26587964,
         "inpreschool": 39.7,
         "inpreschool_pctile": 34.55665341,
         "inhighschool": 100,
         "inhighschool_pctile": 100,
         "bachelorsed": 61.9,
         "bachelorsed_pctile": 90.01668164,
         "employed": 77,
         "employed_pctile": 83.80597973,
         "abovepoverty": 74.88308116,
         "abovepoverty_pctile": 63.5698704,
         "income": 76038,
         "income_pctile": 67.67611959,
         "retail": 1.252350919,
         "retail_pctile": 64.57076864,
         "parkaccess": 100,
         "parkaccess_pctile": 81.35506224,
         "treecanopy": 5.6254528,
         "treecanopy_pctile": 55.357372,
         "alcoffsale": 0,
         "alcoffsale_pctile": 4.5168741180000005,
         "voting": 78.01067469,
         "voting_pctile": 81.48338252,
         "ownsevere": 19.65811966,
         "ownsevere_pctile": 15.52675478,
         "rentsevere": 20.39800995,
         "rentsevere_pctile": 69.31861927,
         "houserepair": 99.68553459,
         "houserepair_pctile": 59.96407032,
         "twoparents": 88.73563218,
         "twoparents_pctile": 82.6767612,
         "supermkts": 74.72266366,
         "supermkts_pctile": 68.09957654,
         "ozone": 0.029592333,
         "ozone_pctile": 96.08623123,
         "pm25": 8.69794377,
         "pm25_pctile": 74.75939946,
         "dieselpm": 42.19,
         "dieselpm_pctile": 5.569100475,
         "h20contam": 70.5995829,
         "h20contam_pctile": 97.20261773,
         "LEB": 80.12323761,
         "LEB_pctile": 38.85538304,
         "white_pct": 50.55444982,
         "black_pct": 26.52829116,
         "asian_pct": 5.914131362000001,
         "latino_pct": 9.667330111,
         "multiple_pct": 6.113164629,
         "NativeAm_pct": 0.45493318200000005,
         "PacificIsl_pct": 0.113733295,
         "other_pct": 0.653966449,
         "version": "Wed13Dec17",
         "_deepnote_index_column": 4
        }
       ],
       "rows_bottom": null
      },
      "text/plain": "        GEOID  pop2010  pct2010gq     City      ZIP  County_FIPS County_Name  \\\n0  6001400100     2937        0.1  Oakland  94704.0         6001     Alameda   \n1  6001400200     1974        3.5  Oakland  94618.0         6001     Alameda   \n2  6001400300     4865        0.8  Oakland  94618.0         6001     Alameda   \n3  6001400400     3703        0.9  Oakland  94609.0         6001     Alameda   \n4  6001400500     3517        3.6  Oakland  94609.0         6001     Alameda   \n\n    UrbanType  hpi2score  hpi2_pctile_pos  ...  LEB_pctile  white_pct  \\\n0  urban_area   1.182028        99.114590  ...   96.663673  70.752469   \n1  urban_area   1.325874        99.704863  ...   96.612344  78.318136   \n2  urban_area   0.925666        95.932247  ...   95.136661  66.927030   \n3  urban_area   1.117603        98.537149  ...   68.959322  65.460437   \n4  urban_area   0.562799        83.318363  ...   38.855383  50.554450   \n\n   black_pct  asian_pct  latino_pct  multiple_pct  NativeAm_pct  \\\n0   4.766769  15.526047    3.983657      3.779367      0.068097   \n1   1.570415   7.396150    7.649443      4.812563      0.101317   \n2  10.524152   8.612539    8.201439      5.056526      0.164440   \n3  12.098299   7.291385    8.965703      5.320011      0.135026   \n4  26.528291   5.914131    9.667330      6.113165      0.454933   \n\n   PacificIsl_pct  other_pct     version  \n0        0.272387   0.851209  Wed13Dec17  \n1        0.000000   0.151976  Wed13Dec17  \n2        0.102775   0.411100  Wed13Dec17  \n3        0.162031   0.567108  Wed13Dec17  \n4        0.113733   0.653966  Wed13Dec17  \n\n[5 rows x 91 columns]",
      "text/html": "<div>\n<style scoped>\n    .dataframe tbody tr th:only-of-type {\n        vertical-align: middle;\n    }\n\n    .dataframe tbody tr th {\n        vertical-align: top;\n    }\n\n    .dataframe thead th {\n        text-align: right;\n    }\n</style>\n<table border=\"1\" class=\"dataframe\">\n  <thead>\n    <tr style=\"text-align: right;\">\n      <th></th>\n      <th>GEOID</th>\n      <th>pop2010</th>\n      <th>pct2010gq</th>\n      <th>City</th>\n      <th>ZIP</th>\n      <th>County_FIPS</th>\n      <th>County_Name</th>\n      <th>UrbanType</th>\n      <th>hpi2score</th>\n      <th>hpi2_pctile_pos</th>\n      <th>...</th>\n      <th>LEB_pctile</th>\n      <th>white_pct</th>\n      <th>black_pct</th>\n      <th>asian_pct</th>\n      <th>latino_pct</th>\n      <th>multiple_pct</th>\n      <th>NativeAm_pct</th>\n      <th>PacificIsl_pct</th>\n      <th>other_pct</th>\n      <th>version</th>\n    </tr>\n  </thead>\n  <tbody>\n    <tr>\n      <th>0</th>\n      <td>6001400100</td>\n      <td>2937</td>\n      <td>0.1</td>\n      <td>Oakland</td>\n      <td>94704.0</td>\n      <td>6001</td>\n      <td>Alameda</td>\n      <td>urban_area</td>\n      <td>1.182028</td>\n      <td>99.114590</td>\n      <td>...</td>\n      <td>96.663673</td>\n      <td>70.752469</td>\n      <td>4.766769</td>\n      <td>15.526047</td>\n      <td>3.983657</td>\n      <td>3.779367</td>\n      <td>0.068097</td>\n      <td>0.272387</td>\n      <td>0.851209</td>\n      <td>Wed13Dec17</td>\n    </tr>\n    <tr>\n      <th>1</th>\n      <td>6001400200</td>\n      <td>1974</td>\n      <td>3.5</td>\n      <td>Oakland</td>\n      <td>94618.0</td>\n      <td>6001</td>\n      <td>Alameda</td>\n      <td>urban_area</td>\n      <td>1.325874</td>\n      <td>99.704863</td>\n      <td>...</td>\n      <td>96.612344</td>\n      <td>78.318136</td>\n      <td>1.570415</td>\n      <td>7.396150</td>\n      <td>7.649443</td>\n      <td>4.812563</td>\n      <td>0.101317</td>\n      <td>0.000000</td>\n      <td>0.151976</td>\n      <td>Wed13Dec17</td>\n    </tr>\n    <tr>\n      <th>2</th>\n      <td>6001400300</td>\n      <td>4865</td>\n      <td>0.8</td>\n      <td>Oakland</td>\n      <td>94618.0</td>\n      <td>6001</td>\n      <td>Alameda</td>\n      <td>urban_area</td>\n      <td>0.925666</td>\n      <td>95.932247</td>\n      <td>...</td>\n      <td>95.136661</td>\n      <td>66.927030</td>\n      <td>10.524152</td>\n      <td>8.612539</td>\n      <td>8.201439</td>\n      <td>5.056526</td>\n      <td>0.164440</td>\n      <td>0.102775</td>\n      <td>0.411100</td>\n      <td>Wed13Dec17</td>\n    </tr>\n    <tr>\n      <th>3</th>\n      <td>6001400400</td>\n      <td>3703</td>\n      <td>0.9</td>\n      <td>Oakland</td>\n      <td>94609.0</td>\n      <td>6001</td>\n      <td>Alameda</td>\n      <td>urban_area</td>\n      <td>1.117603</td>\n      <td>98.537149</td>\n      <td>...</td>\n      <td>68.959322</td>\n      <td>65.460437</td>\n      <td>12.098299</td>\n      <td>7.291385</td>\n      <td>8.965703</td>\n      <td>5.320011</td>\n      <td>0.135026</td>\n      <td>0.162031</td>\n      <td>0.567108</td>\n      <td>Wed13Dec17</td>\n    </tr>\n    <tr>\n      <th>4</th>\n      <td>6001400500</td>\n      <td>3517</td>\n      <td>3.6</td>\n      <td>Oakland</td>\n      <td>94609.0</td>\n      <td>6001</td>\n      <td>Alameda</td>\n      <td>urban_area</td>\n      <td>0.562799</td>\n      <td>83.318363</td>\n      <td>...</td>\n      <td>38.855383</td>\n      <td>50.554450</td>\n      <td>26.528291</td>\n      <td>5.914131</td>\n      <td>9.667330</td>\n      <td>6.113165</td>\n      <td>0.454933</td>\n      <td>0.113733</td>\n      <td>0.653966</td>\n      <td>Wed13Dec17</td>\n    </tr>\n  </tbody>\n</table>\n<p>5 rows × 91 columns</p>\n</div>"
     },
     "metadata": {}
    }
   ]
  },
  {
   "cell_type": "code",
   "metadata": {
    "output_cleared": false,
    "scrolled": true,
    "tags": [],
    "cell_id": "00005-61e32801-e5e4-47bb-847d-26f5130d7ab7",
    "deepnote_cell_type": "code"
   },
   "source": "#Merge the two datasets on \"GEOID\" column\ncali_redline_and_HPI = pd.merge(cali_redline_data, HPI_data, on='GEOID', how='left')\ncali_redline_and_HPI.head()",
   "execution_count": null,
   "outputs": [
    {
     "output_type": "execute_result",
     "execution_count": 5,
     "data": {
      "application/vnd.deepnote.dataframe.v2+json": {
       "error": "Traceback (most recent call last):\n  File \"/home/jovyan/.deepnote/variable_explorer.py\", line 270, in dataframe_formatter\n    return { MIME_TYPE: describe_pd_dataframe(df) }\n  File \"/home/jovyan/.deepnote/variable_explorer_helpers.py\", line 126, in describe_pd_dataframe\n    if (is_type_numeric(column.dtype)):\n  File \"/home/jovyan/.deepnote/variable_explorer_helpers.py\", line 11, in is_type_numeric\n    return np.issubdtype(dtype, np.number)\n  File \"/opt/venv/lib/python3.7/site-packages/numpy/core/numerictypes.py\", line 388, in issubdtype\n    arg1 = dtype(arg1).type\nTypeError: Cannot interpret '<geopandas.array.GeometryDtype object at 0x7fc61e041240>' as a data type\n"
      },
      "text/plain": "  STATEFP COUNTYFP TRACTCE         GEOID     NAME              NAMELSAD  \\\n0      06      037  139301  6.037139e+09  1393.01  Census Tract 1393.01   \n1      06      037  139302  6.037139e+09  1393.02  Census Tract 1393.02   \n2      06      037  139502  6.037140e+09  1395.02  Census Tract 1395.02   \n3      06      037  139600  6.037140e+09     1396     Census Tract 1396   \n4      06      037  139701  6.037140e+09  1397.01  Census Tract 1397.01   \n\n   MTFCC FUNCSTAT    ALAND  AWATER  ... LEB_pctile  white_pct  black_pct  \\\n0  G5020        S  2865657       0  ...  85.025022  76.131779   3.585836   \n1  G5020        S   338289       0  ...  93.160529  49.412031   9.249209   \n2  G5020        S  1047548       0  ...  99.268574  77.319588   1.529764   \n3  G5020        S  2477482       0  ...  90.517131  77.573926   3.669329   \n4  G5020        S  3396396    2411  ...  95.264981  83.150406   1.849593   \n\n   asian_pct latino_pct  multiple_pct  NativeAm_pct PacificIsl_pct  other_pct  \\\n0   6.633797   9.547288      3.697893      0.134469       0.224115   0.044823   \n1   9.226594  27.069199      4.274084      0.293985       0.226142   0.248756   \n2   5.054872   8.613236      7.016960      0.000000       0.199534   0.266046   \n3   6.345780   8.482625      3.626160      0.151090       0.129506   0.021584   \n4   5.833333   6.483740      2.398374      0.060976       0.060976   0.162602   \n\n      version  \n0  Wed13Dec17  \n1  Wed13Dec17  \n2  Wed13Dec17  \n3  Wed13Dec17  \n4  Wed13Dec17  \n\n[5 rows x 105 columns]",
      "text/html": "<div>\n<style scoped>\n    .dataframe tbody tr th:only-of-type {\n        vertical-align: middle;\n    }\n\n    .dataframe tbody tr th {\n        vertical-align: top;\n    }\n\n    .dataframe thead th {\n        text-align: right;\n    }\n</style>\n<table border=\"1\" class=\"dataframe\">\n  <thead>\n    <tr style=\"text-align: right;\">\n      <th></th>\n      <th>STATEFP</th>\n      <th>COUNTYFP</th>\n      <th>TRACTCE</th>\n      <th>GEOID</th>\n      <th>NAME</th>\n      <th>NAMELSAD</th>\n      <th>MTFCC</th>\n      <th>FUNCSTAT</th>\n      <th>ALAND</th>\n      <th>AWATER</th>\n      <th>...</th>\n      <th>LEB_pctile</th>\n      <th>white_pct</th>\n      <th>black_pct</th>\n      <th>asian_pct</th>\n      <th>latino_pct</th>\n      <th>multiple_pct</th>\n      <th>NativeAm_pct</th>\n      <th>PacificIsl_pct</th>\n      <th>other_pct</th>\n      <th>version</th>\n    </tr>\n  </thead>\n  <tbody>\n    <tr>\n      <th>0</th>\n      <td>06</td>\n      <td>037</td>\n      <td>139301</td>\n      <td>6.037139e+09</td>\n      <td>1393.01</td>\n      <td>Census Tract 1393.01</td>\n      <td>G5020</td>\n      <td>S</td>\n      <td>2865657</td>\n      <td>0</td>\n      <td>...</td>\n      <td>85.025022</td>\n      <td>76.131779</td>\n      <td>3.585836</td>\n      <td>6.633797</td>\n      <td>9.547288</td>\n      <td>3.697893</td>\n      <td>0.134469</td>\n      <td>0.224115</td>\n      <td>0.044823</td>\n      <td>Wed13Dec17</td>\n    </tr>\n    <tr>\n      <th>1</th>\n      <td>06</td>\n      <td>037</td>\n      <td>139302</td>\n      <td>6.037139e+09</td>\n      <td>1393.02</td>\n      <td>Census Tract 1393.02</td>\n      <td>G5020</td>\n      <td>S</td>\n      <td>338289</td>\n      <td>0</td>\n      <td>...</td>\n      <td>93.160529</td>\n      <td>49.412031</td>\n      <td>9.249209</td>\n      <td>9.226594</td>\n      <td>27.069199</td>\n      <td>4.274084</td>\n      <td>0.293985</td>\n      <td>0.226142</td>\n      <td>0.248756</td>\n      <td>Wed13Dec17</td>\n    </tr>\n    <tr>\n      <th>2</th>\n      <td>06</td>\n      <td>037</td>\n      <td>139502</td>\n      <td>6.037140e+09</td>\n      <td>1395.02</td>\n      <td>Census Tract 1395.02</td>\n      <td>G5020</td>\n      <td>S</td>\n      <td>1047548</td>\n      <td>0</td>\n      <td>...</td>\n      <td>99.268574</td>\n      <td>77.319588</td>\n      <td>1.529764</td>\n      <td>5.054872</td>\n      <td>8.613236</td>\n      <td>7.016960</td>\n      <td>0.000000</td>\n      <td>0.199534</td>\n      <td>0.266046</td>\n      <td>Wed13Dec17</td>\n    </tr>\n    <tr>\n      <th>3</th>\n      <td>06</td>\n      <td>037</td>\n      <td>139600</td>\n      <td>6.037140e+09</td>\n      <td>1396</td>\n      <td>Census Tract 1396</td>\n      <td>G5020</td>\n      <td>S</td>\n      <td>2477482</td>\n      <td>0</td>\n      <td>...</td>\n      <td>90.517131</td>\n      <td>77.573926</td>\n      <td>3.669329</td>\n      <td>6.345780</td>\n      <td>8.482625</td>\n      <td>3.626160</td>\n      <td>0.151090</td>\n      <td>0.129506</td>\n      <td>0.021584</td>\n      <td>Wed13Dec17</td>\n    </tr>\n    <tr>\n      <th>4</th>\n      <td>06</td>\n      <td>037</td>\n      <td>139701</td>\n      <td>6.037140e+09</td>\n      <td>1397.01</td>\n      <td>Census Tract 1397.01</td>\n      <td>G5020</td>\n      <td>S</td>\n      <td>3396396</td>\n      <td>2411</td>\n      <td>...</td>\n      <td>95.264981</td>\n      <td>83.150406</td>\n      <td>1.849593</td>\n      <td>5.833333</td>\n      <td>6.483740</td>\n      <td>2.398374</td>\n      <td>0.060976</td>\n      <td>0.060976</td>\n      <td>0.162602</td>\n      <td>Wed13Dec17</td>\n    </tr>\n  </tbody>\n</table>\n<p>5 rows × 105 columns</p>\n</div>"
     },
     "metadata": {}
    }
   ]
  },
  {
   "cell_type": "code",
   "metadata": {
    "output_cleared": false,
    "tags": [],
    "cell_id": "00006-b56375a5-3fe2-4bd7-837b-e00d91f5f78c",
    "deepnote_cell_type": "code"
   },
   "source": "#cali_redline_and_HPI.drop('geometry', axis=1, inplace=True)\n#df.to_csv('cali_redline_and_HPI.csv', index=False)",
   "execution_count": null,
   "outputs": []
  },
  {
   "cell_type": "code",
   "metadata": {
    "output_cleared": false,
    "tags": [],
    "cell_id": "00007-d6c5e6ee-fe68-4c8a-a909-9a531e0111fb",
    "deepnote_cell_type": "code"
   },
   "source": "#List ALL columns\ncali_redline_and_HPI.columns.tolist()",
   "execution_count": null,
   "outputs": [
    {
     "output_type": "execute_result",
     "execution_count": 7,
     "data": {
      "text/plain": "['STATEFP',\n 'COUNTYFP',\n 'TRACTCE',\n 'GEOID',\n 'NAME',\n 'NAMELSAD',\n 'MTFCC',\n 'FUNCSTAT',\n 'ALAND',\n 'AWATER',\n 'INTPTLAT',\n 'INTPTLON',\n 'reweighted_redline_index',\n 'ordinal_value',\n 'geometry',\n 'pop2010',\n 'pct2010gq',\n 'City',\n 'ZIP',\n 'County_FIPS',\n 'County_Name',\n 'UrbanType',\n 'hpi2score',\n 'hpi2_pctile_pos',\n 'hpi2_pctile_neg',\n 'hpi_top25pct',\n 'quintiles',\n 'quartiles',\n 'economic',\n 'economic_pctile',\n 'education',\n 'education_pctile',\n 'housing',\n 'housing_pctile',\n 'healthcareaccess',\n 'healthcareaccess_pctile',\n 'neighborhood',\n 'neighborhood_pctile',\n 'pollution',\n 'pollution_pctile',\n 'transportation',\n 'transportation_pctile',\n 'social',\n 'social_pctile',\n 'insured',\n 'insured_pctile',\n 'uncrowded',\n 'uncrowded_pctile',\n 'homeownership',\n 'homeownership_pctile',\n 'automobile',\n 'automobile_pctile',\n 'commute',\n 'commute_pctile',\n 'inpreschool',\n 'inpreschool_pctile',\n 'inhighschool',\n 'inhighschool_pctile',\n 'bachelorsed',\n 'bachelorsed_pctile',\n 'employed',\n 'employed_pctile',\n 'abovepoverty',\n 'abovepoverty_pctile',\n 'income',\n 'income_pctile',\n 'retail',\n 'retail_pctile',\n 'parkaccess',\n 'parkaccess_pctile',\n 'treecanopy',\n 'treecanopy_pctile',\n 'alcoffsale',\n 'alcoffsale_pctile',\n 'voting',\n 'voting_pctile',\n 'ownsevere',\n 'ownsevere_pctile',\n 'rentsevere',\n 'rentsevere_pctile',\n 'houserepair',\n 'houserepair_pctile',\n 'twoparents',\n 'twoparents_pctile',\n 'supermkts',\n 'supermkts_pctile',\n 'ozone',\n 'ozone_pctile',\n 'pm25',\n 'pm25_pctile',\n 'dieselpm',\n 'dieselpm_pctile',\n 'h20contam',\n 'h20contam_pctile',\n 'LEB',\n 'LEB_pctile',\n 'white_pct',\n 'black_pct',\n 'asian_pct',\n 'latino_pct',\n 'multiple_pct',\n 'NativeAm_pct',\n 'PacificIsl_pct',\n 'other_pct',\n 'version']"
     },
     "metadata": {}
    }
   ]
  },
  {
   "cell_type": "code",
   "metadata": {
    "output_cleared": false,
    "tags": [],
    "cell_id": "00008-aa1d5ddc-3bed-4d05-b4de-f0141cdf5d6e",
    "deepnote_cell_type": "code"
   },
   "source": "#Combine percentages of minority groups into 1 data field\n# Percent of non-whites in the total population \ncali_redline_and_HPI['non_white_pct'] = cali_redline_and_HPI['black_pct'] + cali_redline_and_HPI['asian_pct'] + cali_redline_and_HPI['latino_pct'] + cali_redline_and_HPI['multiple_pct'] + cali_redline_and_HPI['NativeAm_pct'] + cali_redline_and_HPI['PacificIsl_pct'] + cali_redline_and_HPI['other_pct']\ncali_redline_and_HPI.head()",
   "execution_count": null,
   "outputs": [
    {
     "output_type": "execute_result",
     "execution_count": 8,
     "data": {
      "application/vnd.deepnote.dataframe.v2+json": {
       "error": "Traceback (most recent call last):\n  File \"/home/jovyan/.deepnote/variable_explorer.py\", line 270, in dataframe_formatter\n    return { MIME_TYPE: describe_pd_dataframe(df) }\n  File \"/home/jovyan/.deepnote/variable_explorer_helpers.py\", line 126, in describe_pd_dataframe\n    if (is_type_numeric(column.dtype)):\n  File \"/home/jovyan/.deepnote/variable_explorer_helpers.py\", line 11, in is_type_numeric\n    return np.issubdtype(dtype, np.number)\n  File \"/opt/venv/lib/python3.7/site-packages/numpy/core/numerictypes.py\", line 388, in issubdtype\n    arg1 = dtype(arg1).type\nTypeError: Cannot interpret '<geopandas.array.GeometryDtype object at 0x7fc61e041240>' as a data type\n"
      },
      "text/plain": "  STATEFP COUNTYFP TRACTCE         GEOID     NAME              NAMELSAD  \\\n0      06      037  139301  6.037139e+09  1393.01  Census Tract 1393.01   \n1      06      037  139302  6.037139e+09  1393.02  Census Tract 1393.02   \n2      06      037  139502  6.037140e+09  1395.02  Census Tract 1395.02   \n3      06      037  139600  6.037140e+09     1396     Census Tract 1396   \n4      06      037  139701  6.037140e+09  1397.01  Census Tract 1397.01   \n\n   MTFCC FUNCSTAT    ALAND  AWATER  ...  white_pct black_pct  asian_pct  \\\n0  G5020        S  2865657       0  ...  76.131779  3.585836   6.633797   \n1  G5020        S   338289       0  ...  49.412031  9.249209   9.226594   \n2  G5020        S  1047548       0  ...  77.319588  1.529764   5.054872   \n3  G5020        S  2477482       0  ...  77.573926  3.669329   6.345780   \n4  G5020        S  3396396    2411  ...  83.150406  1.849593   5.833333   \n\n   latino_pct multiple_pct  NativeAm_pct  PacificIsl_pct other_pct  \\\n0    9.547288     3.697893      0.134469        0.224115  0.044823   \n1   27.069199     4.274084      0.293985        0.226142  0.248756   \n2    8.613236     7.016960      0.000000        0.199534  0.266046   \n3    8.482625     3.626160      0.151090        0.129506  0.021584   \n4    6.483740     2.398374      0.060976        0.060976  0.162602   \n\n      version  non_white_pct  \n0  Wed13Dec17      23.868221  \n1  Wed13Dec17      50.587969  \n2  Wed13Dec17      22.680412  \n3  Wed13Dec17      22.426074  \n4  Wed13Dec17      16.849593  \n\n[5 rows x 106 columns]",
      "text/html": "<div>\n<style scoped>\n    .dataframe tbody tr th:only-of-type {\n        vertical-align: middle;\n    }\n\n    .dataframe tbody tr th {\n        vertical-align: top;\n    }\n\n    .dataframe thead th {\n        text-align: right;\n    }\n</style>\n<table border=\"1\" class=\"dataframe\">\n  <thead>\n    <tr style=\"text-align: right;\">\n      <th></th>\n      <th>STATEFP</th>\n      <th>COUNTYFP</th>\n      <th>TRACTCE</th>\n      <th>GEOID</th>\n      <th>NAME</th>\n      <th>NAMELSAD</th>\n      <th>MTFCC</th>\n      <th>FUNCSTAT</th>\n      <th>ALAND</th>\n      <th>AWATER</th>\n      <th>...</th>\n      <th>white_pct</th>\n      <th>black_pct</th>\n      <th>asian_pct</th>\n      <th>latino_pct</th>\n      <th>multiple_pct</th>\n      <th>NativeAm_pct</th>\n      <th>PacificIsl_pct</th>\n      <th>other_pct</th>\n      <th>version</th>\n      <th>non_white_pct</th>\n    </tr>\n  </thead>\n  <tbody>\n    <tr>\n      <th>0</th>\n      <td>06</td>\n      <td>037</td>\n      <td>139301</td>\n      <td>6.037139e+09</td>\n      <td>1393.01</td>\n      <td>Census Tract 1393.01</td>\n      <td>G5020</td>\n      <td>S</td>\n      <td>2865657</td>\n      <td>0</td>\n      <td>...</td>\n      <td>76.131779</td>\n      <td>3.585836</td>\n      <td>6.633797</td>\n      <td>9.547288</td>\n      <td>3.697893</td>\n      <td>0.134469</td>\n      <td>0.224115</td>\n      <td>0.044823</td>\n      <td>Wed13Dec17</td>\n      <td>23.868221</td>\n    </tr>\n    <tr>\n      <th>1</th>\n      <td>06</td>\n      <td>037</td>\n      <td>139302</td>\n      <td>6.037139e+09</td>\n      <td>1393.02</td>\n      <td>Census Tract 1393.02</td>\n      <td>G5020</td>\n      <td>S</td>\n      <td>338289</td>\n      <td>0</td>\n      <td>...</td>\n      <td>49.412031</td>\n      <td>9.249209</td>\n      <td>9.226594</td>\n      <td>27.069199</td>\n      <td>4.274084</td>\n      <td>0.293985</td>\n      <td>0.226142</td>\n      <td>0.248756</td>\n      <td>Wed13Dec17</td>\n      <td>50.587969</td>\n    </tr>\n    <tr>\n      <th>2</th>\n      <td>06</td>\n      <td>037</td>\n      <td>139502</td>\n      <td>6.037140e+09</td>\n      <td>1395.02</td>\n      <td>Census Tract 1395.02</td>\n      <td>G5020</td>\n      <td>S</td>\n      <td>1047548</td>\n      <td>0</td>\n      <td>...</td>\n      <td>77.319588</td>\n      <td>1.529764</td>\n      <td>5.054872</td>\n      <td>8.613236</td>\n      <td>7.016960</td>\n      <td>0.000000</td>\n      <td>0.199534</td>\n      <td>0.266046</td>\n      <td>Wed13Dec17</td>\n      <td>22.680412</td>\n    </tr>\n    <tr>\n      <th>3</th>\n      <td>06</td>\n      <td>037</td>\n      <td>139600</td>\n      <td>6.037140e+09</td>\n      <td>1396</td>\n      <td>Census Tract 1396</td>\n      <td>G5020</td>\n      <td>S</td>\n      <td>2477482</td>\n      <td>0</td>\n      <td>...</td>\n      <td>77.573926</td>\n      <td>3.669329</td>\n      <td>6.345780</td>\n      <td>8.482625</td>\n      <td>3.626160</td>\n      <td>0.151090</td>\n      <td>0.129506</td>\n      <td>0.021584</td>\n      <td>Wed13Dec17</td>\n      <td>22.426074</td>\n    </tr>\n    <tr>\n      <th>4</th>\n      <td>06</td>\n      <td>037</td>\n      <td>139701</td>\n      <td>6.037140e+09</td>\n      <td>1397.01</td>\n      <td>Census Tract 1397.01</td>\n      <td>G5020</td>\n      <td>S</td>\n      <td>3396396</td>\n      <td>2411</td>\n      <td>...</td>\n      <td>83.150406</td>\n      <td>1.849593</td>\n      <td>5.833333</td>\n      <td>6.483740</td>\n      <td>2.398374</td>\n      <td>0.060976</td>\n      <td>0.060976</td>\n      <td>0.162602</td>\n      <td>Wed13Dec17</td>\n      <td>16.849593</td>\n    </tr>\n  </tbody>\n</table>\n<p>5 rows × 106 columns</p>\n</div>"
     },
     "metadata": {}
    }
   ]
  },
  {
   "cell_type": "code",
   "metadata": {
    "tags": [],
    "cell_id": "00009-258d185b-8432-4098-9462-30fbf769e90f",
    "output_cleared": false,
    "deepnote_cell_type": "code"
   },
   "source": "#Assign ordinal values, ranging from 1 to 10, for the minority group percentages for the computation of Spearman Correlation\ndef ordinal_values(row):\n    if row['non_white_pct'] > 0 and row['non_white_pct'] <= 10:\n      val = 1\n    elif row['non_white_pct'] > 10 and row['non_white_pct'] <= 20:\n      val = 2\n    elif row['non_white_pct'] > 20 and row['non_white_pct'] <= 30:\n      val = 3\n    elif row['non_white_pct'] > 30 and row['non_white_pct'] <= 40:\n      val = 4\n    elif row['non_white_pct'] > 40 and row['non_white_pct'] <= 50:\n      val = 5\n    elif row['non_white_pct'] > 50 and row['non_white_pct'] <= 60:\n      val = 6\n    elif row['non_white_pct'] > 60 and row['non_white_pct'] <= 70:\n      val = 7\n    elif row['non_white_pct'] > 70 and row['non_white_pct'] <= 80:\n      val = 8\n    elif row['non_white_pct'] > 80 and row['non_white_pct'] <= 90:\n      val = 9\n    elif row['non_white_pct'] > 90 and row['non_white_pct'] <= 100:\n      val = 10\n    else:\n      val = 0\n\n    return val\n\ncali_redline_and_HPI['non_white_pct_ordinal_values'] = cali_redline_and_HPI.apply(ordinal_values, axis=1)\ncali_redline_and_HPI.head()",
   "execution_count": null,
   "outputs": [
    {
     "output_type": "execute_result",
     "execution_count": 9,
     "data": {
      "application/vnd.deepnote.dataframe.v2+json": {
       "error": "Traceback (most recent call last):\n  File \"/home/jovyan/.deepnote/variable_explorer.py\", line 270, in dataframe_formatter\n    return { MIME_TYPE: describe_pd_dataframe(df) }\n  File \"/home/jovyan/.deepnote/variable_explorer_helpers.py\", line 126, in describe_pd_dataframe\n    if (is_type_numeric(column.dtype)):\n  File \"/home/jovyan/.deepnote/variable_explorer_helpers.py\", line 11, in is_type_numeric\n    return np.issubdtype(dtype, np.number)\n  File \"/opt/venv/lib/python3.7/site-packages/numpy/core/numerictypes.py\", line 388, in issubdtype\n    arg1 = dtype(arg1).type\nTypeError: Cannot interpret '<geopandas.array.GeometryDtype object at 0x7fc61e041240>' as a data type\n"
      },
      "text/plain": "  STATEFP COUNTYFP TRACTCE         GEOID     NAME              NAMELSAD  \\\n0      06      037  139301  6.037139e+09  1393.01  Census Tract 1393.01   \n1      06      037  139302  6.037139e+09  1393.02  Census Tract 1393.02   \n2      06      037  139502  6.037140e+09  1395.02  Census Tract 1395.02   \n3      06      037  139600  6.037140e+09     1396     Census Tract 1396   \n4      06      037  139701  6.037140e+09  1397.01  Census Tract 1397.01   \n\n   MTFCC FUNCSTAT    ALAND  AWATER  ... black_pct asian_pct  latino_pct  \\\n0  G5020        S  2865657       0  ...  3.585836  6.633797    9.547288   \n1  G5020        S   338289       0  ...  9.249209  9.226594   27.069199   \n2  G5020        S  1047548       0  ...  1.529764  5.054872    8.613236   \n3  G5020        S  2477482       0  ...  3.669329  6.345780    8.482625   \n4  G5020        S  3396396    2411  ...  1.849593  5.833333    6.483740   \n\n   multiple_pct NativeAm_pct  PacificIsl_pct  other_pct     version  \\\n0      3.697893     0.134469        0.224115   0.044823  Wed13Dec17   \n1      4.274084     0.293985        0.226142   0.248756  Wed13Dec17   \n2      7.016960     0.000000        0.199534   0.266046  Wed13Dec17   \n3      3.626160     0.151090        0.129506   0.021584  Wed13Dec17   \n4      2.398374     0.060976        0.060976   0.162602  Wed13Dec17   \n\n   non_white_pct  non_white_pct_ordinal_values  \n0      23.868221                             3  \n1      50.587969                             6  \n2      22.680412                             3  \n3      22.426074                             3  \n4      16.849593                             2  \n\n[5 rows x 107 columns]",
      "text/html": "<div>\n<style scoped>\n    .dataframe tbody tr th:only-of-type {\n        vertical-align: middle;\n    }\n\n    .dataframe tbody tr th {\n        vertical-align: top;\n    }\n\n    .dataframe thead th {\n        text-align: right;\n    }\n</style>\n<table border=\"1\" class=\"dataframe\">\n  <thead>\n    <tr style=\"text-align: right;\">\n      <th></th>\n      <th>STATEFP</th>\n      <th>COUNTYFP</th>\n      <th>TRACTCE</th>\n      <th>GEOID</th>\n      <th>NAME</th>\n      <th>NAMELSAD</th>\n      <th>MTFCC</th>\n      <th>FUNCSTAT</th>\n      <th>ALAND</th>\n      <th>AWATER</th>\n      <th>...</th>\n      <th>black_pct</th>\n      <th>asian_pct</th>\n      <th>latino_pct</th>\n      <th>multiple_pct</th>\n      <th>NativeAm_pct</th>\n      <th>PacificIsl_pct</th>\n      <th>other_pct</th>\n      <th>version</th>\n      <th>non_white_pct</th>\n      <th>non_white_pct_ordinal_values</th>\n    </tr>\n  </thead>\n  <tbody>\n    <tr>\n      <th>0</th>\n      <td>06</td>\n      <td>037</td>\n      <td>139301</td>\n      <td>6.037139e+09</td>\n      <td>1393.01</td>\n      <td>Census Tract 1393.01</td>\n      <td>G5020</td>\n      <td>S</td>\n      <td>2865657</td>\n      <td>0</td>\n      <td>...</td>\n      <td>3.585836</td>\n      <td>6.633797</td>\n      <td>9.547288</td>\n      <td>3.697893</td>\n      <td>0.134469</td>\n      <td>0.224115</td>\n      <td>0.044823</td>\n      <td>Wed13Dec17</td>\n      <td>23.868221</td>\n      <td>3</td>\n    </tr>\n    <tr>\n      <th>1</th>\n      <td>06</td>\n      <td>037</td>\n      <td>139302</td>\n      <td>6.037139e+09</td>\n      <td>1393.02</td>\n      <td>Census Tract 1393.02</td>\n      <td>G5020</td>\n      <td>S</td>\n      <td>338289</td>\n      <td>0</td>\n      <td>...</td>\n      <td>9.249209</td>\n      <td>9.226594</td>\n      <td>27.069199</td>\n      <td>4.274084</td>\n      <td>0.293985</td>\n      <td>0.226142</td>\n      <td>0.248756</td>\n      <td>Wed13Dec17</td>\n      <td>50.587969</td>\n      <td>6</td>\n    </tr>\n    <tr>\n      <th>2</th>\n      <td>06</td>\n      <td>037</td>\n      <td>139502</td>\n      <td>6.037140e+09</td>\n      <td>1395.02</td>\n      <td>Census Tract 1395.02</td>\n      <td>G5020</td>\n      <td>S</td>\n      <td>1047548</td>\n      <td>0</td>\n      <td>...</td>\n      <td>1.529764</td>\n      <td>5.054872</td>\n      <td>8.613236</td>\n      <td>7.016960</td>\n      <td>0.000000</td>\n      <td>0.199534</td>\n      <td>0.266046</td>\n      <td>Wed13Dec17</td>\n      <td>22.680412</td>\n      <td>3</td>\n    </tr>\n    <tr>\n      <th>3</th>\n      <td>06</td>\n      <td>037</td>\n      <td>139600</td>\n      <td>6.037140e+09</td>\n      <td>1396</td>\n      <td>Census Tract 1396</td>\n      <td>G5020</td>\n      <td>S</td>\n      <td>2477482</td>\n      <td>0</td>\n      <td>...</td>\n      <td>3.669329</td>\n      <td>6.345780</td>\n      <td>8.482625</td>\n      <td>3.626160</td>\n      <td>0.151090</td>\n      <td>0.129506</td>\n      <td>0.021584</td>\n      <td>Wed13Dec17</td>\n      <td>22.426074</td>\n      <td>3</td>\n    </tr>\n    <tr>\n      <th>4</th>\n      <td>06</td>\n      <td>037</td>\n      <td>139701</td>\n      <td>6.037140e+09</td>\n      <td>1397.01</td>\n      <td>Census Tract 1397.01</td>\n      <td>G5020</td>\n      <td>S</td>\n      <td>3396396</td>\n      <td>2411</td>\n      <td>...</td>\n      <td>1.849593</td>\n      <td>5.833333</td>\n      <td>6.483740</td>\n      <td>2.398374</td>\n      <td>0.060976</td>\n      <td>0.060976</td>\n      <td>0.162602</td>\n      <td>Wed13Dec17</td>\n      <td>16.849593</td>\n      <td>2</td>\n    </tr>\n  </tbody>\n</table>\n<p>5 rows × 107 columns</p>\n</div>"
     },
     "metadata": {}
    }
   ]
  },
  {
   "cell_type": "markdown",
   "source": "### San Francisco",
   "metadata": {
    "tags": [],
    "cell_id": "00010-c2d48afe-a7fb-450b-a328-a81d5f70380a",
    "output_cleared": false,
    "deepnote_cell_type": "markdown"
   }
  },
  {
   "cell_type": "code",
   "metadata": {
    "cell_id": "00011-b99dfcd0-8953-4ff1-8753-b295900f7fb4",
    "output_cleared": false,
    "deepnote_cell_type": "code"
   },
   "source": "#Create a subset for San Francisco County; COUNTYFP == '075'\nsf = cali_redline_and_HPI[cali_redline_and_HPI['COUNTYFP']=='075']\nsf.head()",
   "execution_count": null,
   "outputs": [
    {
     "output_type": "execute_result",
     "execution_count": 10,
     "data": {
      "application/vnd.deepnote.dataframe.v2+json": {
       "error": "Traceback (most recent call last):\n  File \"/home/jovyan/.deepnote/variable_explorer.py\", line 270, in dataframe_formatter\n    return { MIME_TYPE: describe_pd_dataframe(df) }\n  File \"/home/jovyan/.deepnote/variable_explorer_helpers.py\", line 126, in describe_pd_dataframe\n    if (is_type_numeric(column.dtype)):\n  File \"/home/jovyan/.deepnote/variable_explorer_helpers.py\", line 11, in is_type_numeric\n    return np.issubdtype(dtype, np.number)\n  File \"/opt/venv/lib/python3.7/site-packages/numpy/core/numerictypes.py\", line 388, in issubdtype\n    arg1 = dtype(arg1).type\nTypeError: Cannot interpret '<geopandas.array.GeometryDtype object at 0x7fc61e041240>' as a data type\n"
      },
      "text/plain": "    STATEFP COUNTYFP TRACTCE         GEOID    NAME             NAMELSAD  \\\n382      06      075  025200  6.075025e+09     252     Census Tract 252   \n383      06      075  025300  6.075025e+09     253     Census Tract 253   \n384      06      075  025402  6.075025e+09  254.02  Census Tract 254.02   \n389      06      075  025500  6.075026e+09     255     Census Tract 255   \n390      06      075  025600  6.075026e+09     256     Census Tract 256   \n\n     MTFCC FUNCSTAT    ALAND  AWATER  ... black_pct  asian_pct  latino_pct  \\\n382  G5020        S   657048       0  ...  3.836841   9.983237   27.565655   \n383  G5020        S   383005       0  ...  2.453003  11.233379   28.610729   \n384  G5020        S   300169       0  ...  5.700549  23.076923   28.262363   \n389  G5020        S  1076566       0  ...  1.310353  43.583992   31.814426   \n390  G5020        S   562530       0  ...  2.402990  53.702385   27.981488   \n\n     multiple_pct NativeAm_pct  PacificIsl_pct  other_pct     version  \\\n382      3.762339     0.372509        0.204880   0.428385  Wed13Dec17   \n383      3.255387     0.275103        0.389729   0.389729  Wed13Dec17   \n384      4.155220     0.446429        0.309066   0.034341  Wed13Dec17   \n389      1.959627     0.129855        0.200685   0.141660  Wed13Dec17   \n390      2.456390     0.160199        0.266999   0.355999  Wed13Dec17   \n\n     non_white_pct  non_white_pct_ordinal_values  \n382      46.153846                             5  \n383      46.607061                             5  \n384      61.984890                             7  \n389      79.140597                             8  \n390      87.326451                             9  \n\n[5 rows x 107 columns]",
      "text/html": "<div>\n<style scoped>\n    .dataframe tbody tr th:only-of-type {\n        vertical-align: middle;\n    }\n\n    .dataframe tbody tr th {\n        vertical-align: top;\n    }\n\n    .dataframe thead th {\n        text-align: right;\n    }\n</style>\n<table border=\"1\" class=\"dataframe\">\n  <thead>\n    <tr style=\"text-align: right;\">\n      <th></th>\n      <th>STATEFP</th>\n      <th>COUNTYFP</th>\n      <th>TRACTCE</th>\n      <th>GEOID</th>\n      <th>NAME</th>\n      <th>NAMELSAD</th>\n      <th>MTFCC</th>\n      <th>FUNCSTAT</th>\n      <th>ALAND</th>\n      <th>AWATER</th>\n      <th>...</th>\n      <th>black_pct</th>\n      <th>asian_pct</th>\n      <th>latino_pct</th>\n      <th>multiple_pct</th>\n      <th>NativeAm_pct</th>\n      <th>PacificIsl_pct</th>\n      <th>other_pct</th>\n      <th>version</th>\n      <th>non_white_pct</th>\n      <th>non_white_pct_ordinal_values</th>\n    </tr>\n  </thead>\n  <tbody>\n    <tr>\n      <th>382</th>\n      <td>06</td>\n      <td>075</td>\n      <td>025200</td>\n      <td>6.075025e+09</td>\n      <td>252</td>\n      <td>Census Tract 252</td>\n      <td>G5020</td>\n      <td>S</td>\n      <td>657048</td>\n      <td>0</td>\n      <td>...</td>\n      <td>3.836841</td>\n      <td>9.983237</td>\n      <td>27.565655</td>\n      <td>3.762339</td>\n      <td>0.372509</td>\n      <td>0.204880</td>\n      <td>0.428385</td>\n      <td>Wed13Dec17</td>\n      <td>46.153846</td>\n      <td>5</td>\n    </tr>\n    <tr>\n      <th>383</th>\n      <td>06</td>\n      <td>075</td>\n      <td>025300</td>\n      <td>6.075025e+09</td>\n      <td>253</td>\n      <td>Census Tract 253</td>\n      <td>G5020</td>\n      <td>S</td>\n      <td>383005</td>\n      <td>0</td>\n      <td>...</td>\n      <td>2.453003</td>\n      <td>11.233379</td>\n      <td>28.610729</td>\n      <td>3.255387</td>\n      <td>0.275103</td>\n      <td>0.389729</td>\n      <td>0.389729</td>\n      <td>Wed13Dec17</td>\n      <td>46.607061</td>\n      <td>5</td>\n    </tr>\n    <tr>\n      <th>384</th>\n      <td>06</td>\n      <td>075</td>\n      <td>025402</td>\n      <td>6.075025e+09</td>\n      <td>254.02</td>\n      <td>Census Tract 254.02</td>\n      <td>G5020</td>\n      <td>S</td>\n      <td>300169</td>\n      <td>0</td>\n      <td>...</td>\n      <td>5.700549</td>\n      <td>23.076923</td>\n      <td>28.262363</td>\n      <td>4.155220</td>\n      <td>0.446429</td>\n      <td>0.309066</td>\n      <td>0.034341</td>\n      <td>Wed13Dec17</td>\n      <td>61.984890</td>\n      <td>7</td>\n    </tr>\n    <tr>\n      <th>389</th>\n      <td>06</td>\n      <td>075</td>\n      <td>025500</td>\n      <td>6.075026e+09</td>\n      <td>255</td>\n      <td>Census Tract 255</td>\n      <td>G5020</td>\n      <td>S</td>\n      <td>1076566</td>\n      <td>0</td>\n      <td>...</td>\n      <td>1.310353</td>\n      <td>43.583992</td>\n      <td>31.814426</td>\n      <td>1.959627</td>\n      <td>0.129855</td>\n      <td>0.200685</td>\n      <td>0.141660</td>\n      <td>Wed13Dec17</td>\n      <td>79.140597</td>\n      <td>8</td>\n    </tr>\n    <tr>\n      <th>390</th>\n      <td>06</td>\n      <td>075</td>\n      <td>025600</td>\n      <td>6.075026e+09</td>\n      <td>256</td>\n      <td>Census Tract 256</td>\n      <td>G5020</td>\n      <td>S</td>\n      <td>562530</td>\n      <td>0</td>\n      <td>...</td>\n      <td>2.402990</td>\n      <td>53.702385</td>\n      <td>27.981488</td>\n      <td>2.456390</td>\n      <td>0.160199</td>\n      <td>0.266999</td>\n      <td>0.355999</td>\n      <td>Wed13Dec17</td>\n      <td>87.326451</td>\n      <td>9</td>\n    </tr>\n  </tbody>\n</table>\n<p>5 rows × 107 columns</p>\n</div>"
     },
     "metadata": {}
    }
   ]
  },
  {
   "cell_type": "code",
   "metadata": {
    "tags": [],
    "cell_id": "00012-eea4bbbc-4a20-4989-9b9b-215cddd76049",
    "output_cleared": false,
    "deepnote_cell_type": "code"
   },
   "source": "from scipy.stats import spearmanr",
   "execution_count": null,
   "outputs": []
  },
  {
   "cell_type": "code",
   "metadata": {
    "tags": [],
    "cell_id": "00013-b0254ef0-76f3-4bcf-9d1f-5db6463fc512",
    "output_cleared": false,
    "deepnote_cell_type": "code"
   },
   "source": "# SF's Coef and P-value for Non-white population percentage vs. Redlining Index\n# 'ordinal value' was derived from re-weighted Redline index (from Akash's cali_redline file)\nsf1 = sf.dropna(subset=['ordinal_value'])\nsf = sf1.dropna(subset=['non_white_pct_ordinal_values'])\ncoef_non_white, p_non_white = spearmanr(sf['non_white_pct_ordinal_values'], sf['ordinal_value'])",
   "execution_count": null,
   "outputs": []
  },
  {
   "cell_type": "code",
   "metadata": {
    "tags": [],
    "cell_id": "00014-7c22e39c-251b-48a0-b8a7-4aafe33fbe56",
    "output_cleared": false,
    "deepnote_cell_type": "code"
   },
   "source": "coef_non_white",
   "execution_count": null,
   "outputs": [
    {
     "output_type": "execute_result",
     "execution_count": 13,
     "data": {
      "text/plain": "0.25380299789995103"
     },
     "metadata": {}
    }
   ]
  },
  {
   "cell_type": "code",
   "metadata": {
    "scrolled": true,
    "tags": [],
    "cell_id": "00015-df9a9b46-b71e-46ca-84c7-d658dd3107ba",
    "output_cleared": false,
    "deepnote_cell_type": "code"
   },
   "source": "p_non_white",
   "execution_count": null,
   "outputs": [
    {
     "output_type": "execute_result",
     "execution_count": 14,
     "data": {
      "text/plain": "0.0008695744791539085"
     },
     "metadata": {}
    }
   ]
  },
  {
   "cell_type": "code",
   "metadata": {
    "tags": [],
    "cell_id": "00016-ce0adad9-4456-4028-98de-75ad9a3dd24c",
    "output_cleared": false,
    "deepnote_cell_type": "code"
   },
   "source": "# SF's Coef and P-value for HPI2 score percentile vs. Redlining Index\n# Percentile ranking of HPI score (positive frame)\nsf = sf1.dropna(subset=['hpi2_pctile_pos']) #0-100 (least to most advantaged)\ncoef_hpi_pctile, p_hpi_pctile = spearmanr(sf['hpi2_pctile_pos'], sf['ordinal_value'])",
   "execution_count": null,
   "outputs": []
  },
  {
   "cell_type": "code",
   "metadata": {
    "tags": [],
    "cell_id": "00017-62da4507-29b7-4160-8e7d-808676b81ded",
    "output_cleared": false,
    "deepnote_cell_type": "code"
   },
   "source": "coef_hpi_pctile",
   "execution_count": null,
   "outputs": [
    {
     "output_type": "execute_result",
     "execution_count": 16,
     "data": {
      "text/plain": "-0.40294230028092115"
     },
     "metadata": {}
    }
   ]
  },
  {
   "cell_type": "code",
   "metadata": {
    "tags": [],
    "cell_id": "00018-d599721b-8a1e-4c28-9dd6-1387c851fa43",
    "output_cleared": false,
    "deepnote_cell_type": "code"
   },
   "source": "p_hpi_pctile",
   "execution_count": null,
   "outputs": [
    {
     "output_type": "execute_result",
     "execution_count": 17,
     "data": {
      "text/plain": "9.678727019625587e-08"
     },
     "metadata": {}
    }
   ]
  },
  {
   "cell_type": "code",
   "metadata": {
    "tags": [],
    "cell_id": "00019-2a061ae9-5051-4c11-893c-31517ec19585",
    "output_cleared": false,
    "deepnote_cell_type": "code"
   },
   "source": "# SF's Coef and P-value for economic percentile vs. Redlining Index\n# Percentile ranking ranking of \"economic\" policy action area z score\nsf = sf1.dropna(subset=['economic_pctile']) #0-100 (least to most advantaged)\ncoef_eco_pctile, p_eco_pctile = spearmanr(sf['economic_pctile'], sf['ordinal_value'])",
   "execution_count": null,
   "outputs": []
  },
  {
   "cell_type": "code",
   "metadata": {
    "cell_id": "00020-d8468587-c6fd-4ca6-9382-f520ddeeda7a",
    "output_cleared": false,
    "deepnote_cell_type": "code"
   },
   "source": "coef_eco_pctile",
   "execution_count": null,
   "outputs": [
    {
     "output_type": "execute_result",
     "execution_count": 19,
     "data": {
      "text/plain": "-0.2775355372320775"
     },
     "metadata": {}
    }
   ]
  },
  {
   "cell_type": "code",
   "metadata": {
    "cell_id": "00021-682909de-6211-4f3f-a1c4-40cce2b3916f",
    "output_cleared": false,
    "deepnote_cell_type": "code"
   },
   "source": "p_eco_pctile",
   "execution_count": null,
   "outputs": [
    {
     "output_type": "execute_result",
     "execution_count": 20,
     "data": {
      "text/plain": "0.00033477112584980175"
     },
     "metadata": {}
    }
   ]
  },
  {
   "cell_type": "code",
   "metadata": {
    "cell_id": "00022-7f4fe913-bf8a-40ca-a186-42e55d55e741",
    "output_cleared": false,
    "deepnote_cell_type": "code"
   },
   "source": "# SF's Coef and P-value for education percentile vs. Redlining Index\n# Percentile ranking of \"education\" policy action area z score\nsf = sf1.dropna(subset=['education_pctile']) #0-100 (least to most advantaged)\ncoef_edu_pctile, p_edu_pctile = spearmanr(sf['education_pctile'], sf['ordinal_value'])",
   "execution_count": null,
   "outputs": []
  },
  {
   "cell_type": "code",
   "metadata": {
    "cell_id": "00023-bd53eb05-69a3-49cf-a581-b4f3621e81d9",
    "output_cleared": false,
    "deepnote_cell_type": "code"
   },
   "source": "coef_edu_pctile",
   "execution_count": null,
   "outputs": [
    {
     "output_type": "execute_result",
     "execution_count": 22,
     "data": {
      "text/plain": "-0.22910224235508175"
     },
     "metadata": {}
    }
   ]
  },
  {
   "cell_type": "code",
   "metadata": {
    "cell_id": "00024-c291940e-0444-432e-bebb-d06a888de99f",
    "output_cleared": false,
    "deepnote_cell_type": "code"
   },
   "source": "p_edu_pctile",
   "execution_count": null,
   "outputs": [
    {
     "output_type": "execute_result",
     "execution_count": 23,
     "data": {
      "text/plain": "0.003264154695570839"
     },
     "metadata": {}
    }
   ]
  },
  {
   "cell_type": "code",
   "metadata": {
    "cell_id": "00025-e89aa3d6-4d7e-4374-b3a9-4744599f10cd",
    "output_cleared": false,
    "deepnote_cell_type": "code"
   },
   "source": "# SF's Coef and P-value for housing percentile vs. Redlining Index\n# Percentile ranking of \"housing\" policy action area z score\nsf = sf1.dropna(subset=['housing_pctile']) #0-100 (least to most advantaged)\ncoef_hse_pctile, p_hse_pctile = spearmanr(sf['housing_pctile'], sf['ordinal_value'])",
   "execution_count": null,
   "outputs": []
  },
  {
   "cell_type": "code",
   "metadata": {
    "cell_id": "00026-8a7feaa0-ec4f-4fc9-af67-52e337b364df",
    "output_cleared": false,
    "deepnote_cell_type": "code"
   },
   "source": "coef_hse_pctile",
   "execution_count": null,
   "outputs": [
    {
     "output_type": "execute_result",
     "execution_count": 25,
     "data": {
      "text/plain": "-0.3663662218307689"
     },
     "metadata": {}
    }
   ]
  },
  {
   "cell_type": "code",
   "metadata": {
    "cell_id": "00027-750993c8-2622-48c0-b3aa-78080a03c16f",
    "output_cleared": false,
    "deepnote_cell_type": "code"
   },
   "source": "p_hse_pctile",
   "execution_count": null,
   "outputs": [
    {
     "output_type": "execute_result",
     "execution_count": 26,
     "data": {
      "text/plain": "1.5111635201371336e-06"
     },
     "metadata": {}
    }
   ]
  },
  {
   "cell_type": "code",
   "metadata": {
    "tags": [],
    "cell_id": "00028-7d03dda9-51b7-47b3-95ff-67c3fc9e44a5",
    "output_cleared": false,
    "deepnote_cell_type": "code"
   },
   "source": "# SF's Coef and P-value for healthcare access percentile vs. Redlining Index\n# Percentile ranking of \"healthcare access\" policy action area z score\nsf = sf1.dropna(subset=['healthcareaccess_pctile']) #0-100 (least to most advantaged)\ncoef_healthcareaccess_pctile, p_healthcareaccess_pctile = spearmanr(sf['healthcareaccess_pctile'], sf['ordinal_value'])",
   "execution_count": null,
   "outputs": []
  },
  {
   "cell_type": "code",
   "metadata": {
    "cell_id": "00029-55e838e0-b6e1-432e-905c-21ed2bd4f6f4",
    "output_cleared": false,
    "deepnote_cell_type": "code"
   },
   "source": "coef_healthcareaccess_pctile",
   "execution_count": null,
   "outputs": [
    {
     "output_type": "execute_result",
     "execution_count": 28,
     "data": {
      "text/plain": "-0.40378012592247614"
     },
     "metadata": {}
    }
   ]
  },
  {
   "cell_type": "code",
   "metadata": {
    "cell_id": "00030-3b0ee3bf-9692-47fc-8d76-404c6fca8f1c",
    "output_cleared": false,
    "deepnote_cell_type": "code"
   },
   "source": "p_healthcareaccess_pctile",
   "execution_count": null,
   "outputs": [
    {
     "output_type": "execute_result",
     "execution_count": 29,
     "data": {
      "text/plain": "9.052200953939814e-08"
     },
     "metadata": {}
    }
   ]
  },
  {
   "cell_type": "code",
   "metadata": {
    "cell_id": "00031-2c5a62de-d901-4c95-a129-cc1418e1c2c1",
    "output_cleared": false,
    "deepnote_cell_type": "code"
   },
   "source": "# SF's Coef and P-value for neighborhood percentile vs. Redlining Index\n# Percentile ranking of \"neighborhood\" policy action area z score\nsf = sf1.dropna(subset=['neighborhood_pctile']) #0-100 (least to most advantaged)\ncoef_neighborhood_pctile, p_neighborhood_pctile = spearmanr(sf['neighborhood_pctile'], sf['ordinal_value'])",
   "execution_count": null,
   "outputs": []
  },
  {
   "cell_type": "code",
   "metadata": {
    "cell_id": "00032-02414b53-62f2-4ee3-9238-4b302b4b01e8",
    "output_cleared": false,
    "deepnote_cell_type": "code"
   },
   "source": "coef_neighborhood_pctile",
   "execution_count": null,
   "outputs": [
    {
     "output_type": "execute_result",
     "execution_count": 31,
     "data": {
      "text/plain": "-0.021368105840572114"
     },
     "metadata": {}
    }
   ]
  },
  {
   "cell_type": "code",
   "metadata": {
    "cell_id": "00033-80c065bb-6f55-4d7e-b822-2d1bdc65fa94",
    "output_cleared": false,
    "deepnote_cell_type": "code"
   },
   "source": "p_neighborhood_pctile",
   "execution_count": null,
   "outputs": [
    {
     "output_type": "execute_result",
     "execution_count": 32,
     "data": {
      "text/plain": "0.7865901547915687"
     },
     "metadata": {}
    }
   ]
  },
  {
   "cell_type": "code",
   "metadata": {
    "cell_id": "00034-05aa75c9-1702-4dcb-a9dc-df258e08496a",
    "output_cleared": false,
    "deepnote_cell_type": "code"
   },
   "source": "# SF's Coef and P-value for pollution percentile vs. Redlining Index\n# Percentile ranking of \"pollution\" policy action area z score\nsf = sf1.dropna(subset=['pollution_pctile']) #0-100 (least to most advantaged)\ncoef_pollution_pctile, p_pollution_pctile = spearmanr(sf['pollution_pctile'], sf['ordinal_value'])",
   "execution_count": null,
   "outputs": []
  },
  {
   "cell_type": "code",
   "metadata": {
    "cell_id": "00035-2ac8da09-ab86-453b-94f4-3017cd6b837b",
    "output_cleared": false,
    "deepnote_cell_type": "code"
   },
   "source": "coef_pollution_pctile",
   "execution_count": null,
   "outputs": [
    {
     "output_type": "execute_result",
     "execution_count": 34,
     "data": {
      "text/plain": "-0.45423105212525877"
     },
     "metadata": {}
    }
   ]
  },
  {
   "cell_type": "code",
   "metadata": {
    "cell_id": "00036-0b499113-3481-4c7f-b890-fc0ffc27f0cc",
    "output_cleared": false,
    "deepnote_cell_type": "code"
   },
   "source": "p_pollution_pctile",
   "execution_count": null,
   "outputs": [
    {
     "output_type": "execute_result",
     "execution_count": 35,
     "data": {
      "text/plain": "1.127364491301507e-09"
     },
     "metadata": {}
    }
   ]
  },
  {
   "cell_type": "code",
   "metadata": {
    "cell_id": "00037-53320cdb-7eae-489a-b2c8-4b0fda4a0f36",
    "output_cleared": false,
    "deepnote_cell_type": "code"
   },
   "source": "# SF's Coef and P-value for transportation percentile vs. Redlining Index\n# Percentile ranking of \"transportation\" policy action area z score\nsf = sf1.dropna(subset=['transportation_pctile']) #0-100 (least to most advantaged)\ncoef_transportation_pctile, p_transportation_pctile = spearmanr(sf['transportation_pctile'], sf['ordinal_value'])",
   "execution_count": null,
   "outputs": []
  },
  {
   "cell_type": "code",
   "metadata": {
    "cell_id": "00038-7792eee5-6236-4c97-84fb-80c5baa7a7ef",
    "output_cleared": false,
    "deepnote_cell_type": "code"
   },
   "source": "coef_transportation_pctile",
   "execution_count": null,
   "outputs": [
    {
     "output_type": "execute_result",
     "execution_count": 37,
     "data": {
      "text/plain": "-0.22184756496325417"
     },
     "metadata": {}
    }
   ]
  },
  {
   "cell_type": "code",
   "metadata": {
    "cell_id": "00039-013079dd-db1c-433f-a6eb-da77ee0fa0db",
    "output_cleared": false,
    "deepnote_cell_type": "code"
   },
   "source": "p_transportation_pctile",
   "execution_count": null,
   "outputs": [
    {
     "output_type": "execute_result",
     "execution_count": 38,
     "data": {
      "text/plain": "0.004425605720674753"
     },
     "metadata": {}
    }
   ]
  },
  {
   "cell_type": "code",
   "metadata": {
    "cell_id": "00040-d7665728-ce4d-4703-ae41-b3f318916cab",
    "output_cleared": false,
    "deepnote_cell_type": "code"
   },
   "source": "# SF's Coef and P-value for social percentile vs. Redlining Index\n# Percentile ranking of \"social\" policy action area z score\nsf = sf1.dropna(subset=['social_pctile']) #0-100 (least to most advantaged)\ncoef_social_pctile, p_social_pctile = spearmanr(sf['social_pctile'], sf['ordinal_value'])",
   "execution_count": null,
   "outputs": []
  },
  {
   "cell_type": "code",
   "metadata": {
    "cell_id": "00041-31bec2c4-203b-4f93-864c-f865b6b95890",
    "output_cleared": false,
    "deepnote_cell_type": "code"
   },
   "source": "coef_social_pctile",
   "execution_count": null,
   "outputs": [
    {
     "output_type": "execute_result",
     "execution_count": 40,
     "data": {
      "text/plain": "-0.35236146011602054"
     },
     "metadata": {}
    }
   ]
  },
  {
   "cell_type": "code",
   "metadata": {
    "cell_id": "00042-f31a1a33-08d0-49f5-aad6-b3ef8c9b31dd",
    "output_cleared": false,
    "deepnote_cell_type": "code"
   },
   "source": "p_social_pctile",
   "execution_count": null,
   "outputs": [
    {
     "output_type": "execute_result",
     "execution_count": 41,
     "data": {
      "text/plain": "3.971899443157584e-06"
     },
     "metadata": {}
    }
   ]
  },
  {
   "cell_type": "code",
   "metadata": {
    "cell_id": "00043-1b41a172-7731-4dc2-9b61-dae21fb74862",
    "output_cleared": false,
    "deepnote_cell_type": "code"
   },
   "source": "# SF's Coef and P-value for insured percentile vs. Redlining Index\n# Percentile ranking of percentage of adults aged 18 to 64 years currently insured\nsf = sf1.dropna(subset=['insured_pctile']) #0-100 (least to most advantaged)\ncoef_insured_pctile, p_insured_pctile = spearmanr(sf['insured_pctile'], sf['ordinal_value'])",
   "execution_count": null,
   "outputs": []
  },
  {
   "cell_type": "code",
   "metadata": {
    "cell_id": "00044-4e4d6baa-0bcb-4da7-8e0e-feda9fe1b747",
    "output_cleared": false,
    "deepnote_cell_type": "code"
   },
   "source": "coef_insured_pctile",
   "execution_count": null,
   "outputs": [
    {
     "output_type": "execute_result",
     "execution_count": 43,
     "data": {
      "text/plain": "-0.40378012592247614"
     },
     "metadata": {}
    }
   ]
  },
  {
   "cell_type": "code",
   "metadata": {
    "cell_id": "00045-9238af17-a95b-438d-bfe2-761c13319bcb",
    "output_cleared": false,
    "deepnote_cell_type": "code"
   },
   "source": "p_insured_pctile",
   "execution_count": null,
   "outputs": [
    {
     "output_type": "execute_result",
     "execution_count": 44,
     "data": {
      "text/plain": "9.052200953939814e-08"
     },
     "metadata": {}
    }
   ]
  },
  {
   "cell_type": "code",
   "metadata": {
    "cell_id": "00046-d45ebf62-8b28-44ab-b87e-36d1d828e5a2",
    "output_cleared": false,
    "deepnote_cell_type": "code"
   },
   "source": "# SF's Coef and P-value for uncrowded percentile vs. Redlining Index\n# Percentile ranking of uncrowded households\nsf = sf1.dropna(subset=['uncrowded_pctile']) #0-100 (least to most advantaged)\ncoef_uncrowded_pctile, p_uncrowded_pctile = spearmanr(sf['uncrowded_pctile'], sf['ordinal_value'])",
   "execution_count": null,
   "outputs": []
  },
  {
   "cell_type": "code",
   "metadata": {
    "cell_id": "00047-f0fd5354-81ee-4ff5-9c4d-8d3081be4ca1",
    "output_cleared": false,
    "deepnote_cell_type": "code"
   },
   "source": "coef_uncrowded_pctile",
   "execution_count": null,
   "outputs": [
    {
     "output_type": "execute_result",
     "execution_count": 46,
     "data": {
      "text/plain": "-0.3958510310829276"
     },
     "metadata": {}
    }
   ]
  },
  {
   "cell_type": "code",
   "metadata": {
    "cell_id": "00048-6fdb020a-44df-4b78-a992-226219124eb9",
    "output_cleared": false,
    "deepnote_cell_type": "code"
   },
   "source": "p_uncrowded_pctile",
   "execution_count": null,
   "outputs": [
    {
     "output_type": "execute_result",
     "execution_count": 47,
     "data": {
      "text/plain": "1.6929211791435352e-07"
     },
     "metadata": {}
    }
   ]
  },
  {
   "cell_type": "code",
   "metadata": {
    "cell_id": "00049-8531855a-efe8-46b0-b61f-16c5f23f8dd3",
    "output_cleared": false,
    "deepnote_cell_type": "code"
   },
   "source": "# SF's Coef and P-value for homeownership percentile vs. Redlining Index\n# Percentile ranking of percentage of occupied housing units occupied by property owners\nsf = sf1.dropna(subset=['homeownership_pctile']) #0-100 (least to most advantaged)\ncoef_homeownership_pctile, p_homeownership_pctile = spearmanr(sf['homeownership_pctile'], sf['ordinal_value'])",
   "execution_count": null,
   "outputs": []
  },
  {
   "cell_type": "code",
   "metadata": {
    "cell_id": "00050-f9cf5370-53ab-4116-8b66-d99c38442f3e",
    "output_cleared": false,
    "deepnote_cell_type": "code"
   },
   "source": "coef_homeownership_pctile",
   "execution_count": null,
   "outputs": [
    {
     "output_type": "execute_result",
     "execution_count": 49,
     "data": {
      "text/plain": "-0.2428838863195117"
     },
     "metadata": {}
    }
   ]
  },
  {
   "cell_type": "code",
   "metadata": {
    "cell_id": "00051-f7fb24cd-eb20-4e6d-a42d-560c231fb426",
    "output_cleared": false,
    "deepnote_cell_type": "code"
   },
   "source": "p_homeownership_pctile",
   "execution_count": null,
   "outputs": [
    {
     "output_type": "execute_result",
     "execution_count": 50,
     "data": {
      "text/plain": "0.0017841932973382154"
     },
     "metadata": {}
    }
   ]
  },
  {
   "cell_type": "code",
   "metadata": {
    "cell_id": "00052-8518ea80-c877-4a84-8e06-80c176c4565f",
    "output_cleared": false,
    "deepnote_cell_type": "code"
   },
   "source": "# SF's Coef and P-value for automobile percentile vs. Redlining Index\n# Percentile ranking of households with access to an automobile\nsf = sf1.dropna(subset=['automobile_pctile']) #0-100 (least to most advantaged)\ncoef_automobile_pctile, p_automobile_pctile = spearmanr(sf['automobile_pctile'], sf['ordinal_value'])",
   "execution_count": null,
   "outputs": []
  },
  {
   "cell_type": "code",
   "metadata": {
    "cell_id": "00053-fa3b551d-ee86-4053-ad62-8c000c76c26a",
    "output_cleared": false,
    "deepnote_cell_type": "code"
   },
   "source": "coef_automobile_pctile",
   "execution_count": null,
   "outputs": [
    {
     "output_type": "execute_result",
     "execution_count": 52,
     "data": {
      "text/plain": "-0.39714285573191865"
     },
     "metadata": {}
    }
   ]
  },
  {
   "cell_type": "code",
   "metadata": {
    "cell_id": "00054-81b4d3bd-b9c2-402f-859e-c49c49e0b8bb",
    "output_cleared": false,
    "deepnote_cell_type": "code"
   },
   "source": "p_automobile_pctile",
   "execution_count": null,
   "outputs": [
    {
     "output_type": "execute_result",
     "execution_count": 53,
     "data": {
      "text/plain": "1.5304633359009524e-07"
     },
     "metadata": {}
    }
   ]
  },
  {
   "cell_type": "code",
   "metadata": {
    "cell_id": "00055-6a230007-92cd-4819-be7e-2b4301ef25f2",
    "output_cleared": false,
    "deepnote_cell_type": "code"
   },
   "source": "# SF's Coef and P-value for commute percentile vs. Redlining Index\n# Percentile ranking of percentage of workers (16 years and older) who commute to work by transit, walking, or cycling\nsf = sf1.dropna(subset=['commute_pctile']) #0-100 (least to most advantaged)\ncoef_commute_pctile, p_commute_pctile = spearmanr(sf['commute_pctile'], sf['ordinal_value'])",
   "execution_count": null,
   "outputs": []
  },
  {
   "cell_type": "code",
   "metadata": {
    "cell_id": "00056-1d1d9687-9731-4c56-9f50-ceff9f58516d",
    "output_cleared": false,
    "deepnote_cell_type": "code"
   },
   "source": "coef_commute_pctile",
   "execution_count": null,
   "outputs": [
    {
     "output_type": "execute_result",
     "execution_count": 55,
     "data": {
      "text/plain": "0.34163832200106153"
     },
     "metadata": {}
    }
   ]
  },
  {
   "cell_type": "code",
   "metadata": {
    "cell_id": "00057-ce382872-6524-4908-952f-e099ad1f7b86",
    "output_cleared": false,
    "deepnote_cell_type": "code"
   },
   "source": "p_commute_pctile",
   "execution_count": null,
   "outputs": [
    {
     "output_type": "execute_result",
     "execution_count": 56,
     "data": {
      "text/plain": "8.07389934101534e-06"
     },
     "metadata": {}
    }
   ]
  },
  {
   "cell_type": "code",
   "metadata": {
    "cell_id": "00058-5a8534b1-9210-43cc-9116-e1104f7e4b83",
    "output_cleared": false,
    "deepnote_cell_type": "code"
   },
   "source": "# SF's Coef and P-value for inpreschool percentile vs. Redlining Index\n# Percentile ranking of 3 and 4 year olds enrolled in school\nsf = sf1.dropna(subset=['inpreschool_pctile']) #0-100 (least to most advantaged)\ncoef_inpreschool_pctile, p_inpreschool_pctile = spearmanr(sf['inpreschool_pctile'], sf['ordinal_value'])",
   "execution_count": null,
   "outputs": []
  },
  {
   "cell_type": "code",
   "metadata": {
    "cell_id": "00059-ca827211-0040-49f6-a0e9-43e34e2acc1d",
    "output_cleared": false,
    "deepnote_cell_type": "code"
   },
   "source": "coef_inpreschool_pctile",
   "execution_count": null,
   "outputs": [
    {
     "output_type": "execute_result",
     "execution_count": 58,
     "data": {
      "text/plain": "-0.12622625432979467"
     },
     "metadata": {}
    }
   ]
  },
  {
   "cell_type": "code",
   "metadata": {
    "cell_id": "00060-9a11aab3-9c9f-497f-a0a0-e7801bbdbabc",
    "output_cleared": false,
    "deepnote_cell_type": "code"
   },
   "source": "p_inpreschool_pctile",
   "execution_count": null,
   "outputs": [
    {
     "output_type": "execute_result",
     "execution_count": 59,
     "data": {
      "text/plain": "0.10836725578995171"
     },
     "metadata": {}
    }
   ]
  },
  {
   "cell_type": "code",
   "metadata": {
    "cell_id": "00061-50cac24e-ed32-4dae-83b6-4d81a14c7fac",
    "output_cleared": false,
    "deepnote_cell_type": "code"
   },
   "source": "# SF's Coef and P-value for inhighschool percentile vs. Redlining Index\n# Percentile ranking of 15-17 year olds enrolled in school\nsf = sf1.dropna(subset=['inhighschool_pctile']) #0-100 (least to most advantaged)\ncoef_inhighschool_pctile, p_inhighschool_pctile = spearmanr(sf['inhighschool_pctile'], sf['ordinal_value'])",
   "execution_count": null,
   "outputs": []
  },
  {
   "cell_type": "code",
   "metadata": {
    "cell_id": "00062-0da24ac2-2174-4eba-9b7d-11ec9103ffc2",
    "output_cleared": false,
    "deepnote_cell_type": "code"
   },
   "source": "coef_inhighschool_pctile",
   "execution_count": null,
   "outputs": [
    {
     "output_type": "execute_result",
     "execution_count": 61,
     "data": {
      "text/plain": "-0.03887736047984733"
     },
     "metadata": {}
    }
   ]
  },
  {
   "cell_type": "code",
   "metadata": {
    "cell_id": "00063-ff3797d5-6dd9-416d-bbbe-b95ee33886cf",
    "output_cleared": false,
    "deepnote_cell_type": "code"
   },
   "source": "p_inhighschool_pctile",
   "execution_count": null,
   "outputs": [
    {
     "output_type": "execute_result",
     "execution_count": 62,
     "data": {
      "text/plain": "0.6222108892352708"
     },
     "metadata": {}
    }
   ]
  },
  {
   "cell_type": "code",
   "metadata": {
    "cell_id": "00064-b44bcf95-8c0b-43b5-be1a-897e68194ce2",
    "output_cleared": false,
    "deepnote_cell_type": "code"
   },
   "source": "# SF's Coef and P-value for bachelorsed percentile vs. Redlining Index\n# Percentile ranking of percentage of population over age 25 with a bachelor's education or higher\nsf = sf1.dropna(subset=['bachelorsed_pctile']) #0-100 (least to most advantaged)\ncoef_bachelorsed_pctile, p_bachelorsed_pctile = spearmanr(sf['bachelorsed_pctile'], sf['ordinal_value'])",
   "execution_count": null,
   "outputs": []
  },
  {
   "cell_type": "code",
   "metadata": {
    "cell_id": "00065-b1cfafcc-17c7-4c72-8a66-ea5169863445",
    "output_cleared": false,
    "deepnote_cell_type": "code"
   },
   "source": "coef_bachelorsed_pctile",
   "execution_count": null,
   "outputs": [
    {
     "output_type": "execute_result",
     "execution_count": 64,
     "data": {
      "text/plain": "-0.24183734112121472"
     },
     "metadata": {}
    }
   ]
  },
  {
   "cell_type": "code",
   "metadata": {
    "cell_id": "00066-29f83eed-806a-4517-be32-11f31791dcba",
    "output_cleared": false,
    "deepnote_cell_type": "code"
   },
   "source": "p_bachelorsed_pctile",
   "execution_count": null,
   "outputs": [
    {
     "output_type": "execute_result",
     "execution_count": 65,
     "data": {
      "text/plain": "0.0018701794312771193"
     },
     "metadata": {}
    }
   ]
  },
  {
   "cell_type": "code",
   "metadata": {
    "cell_id": "00067-6c853fea-2acc-4919-a992-d1c9fa8836e1",
    "output_cleared": false,
    "deepnote_cell_type": "code"
   },
   "source": "# SF's Coef and P-value for empdloyed percentile vs. Redlining Index\n# Percentile ranking of population aged 25-64 who are employed\nsf = sf1.dropna(subset=['employed_pctile']) #0-100 (least to most advantaged)\ncoef_employed_pctile, p_employed_pctile = spearmanr(sf['employed_pctile'], sf['ordinal_value'])",
   "execution_count": null,
   "outputs": []
  },
  {
   "cell_type": "code",
   "metadata": {
    "cell_id": "00068-74dfda66-3006-4aef-b68a-55ef5ae65f43",
    "output_cleared": false,
    "deepnote_cell_type": "code"
   },
   "source": "coef_employed_pctile",
   "execution_count": null,
   "outputs": [
    {
     "output_type": "execute_result",
     "execution_count": 67,
     "data": {
      "text/plain": "-0.05158306967343369"
     },
     "metadata": {}
    }
   ]
  },
  {
   "cell_type": "code",
   "metadata": {
    "cell_id": "00069-6aaebb5a-d66c-43cc-a1b8-8da6ec283029",
    "output_cleared": false,
    "deepnote_cell_type": "code"
   },
   "source": "p_employed_pctile",
   "execution_count": null,
   "outputs": [
    {
     "output_type": "execute_result",
     "execution_count": 68,
     "data": {
      "text/plain": "0.5131531616912711"
     },
     "metadata": {}
    }
   ]
  },
  {
   "cell_type": "code",
   "metadata": {
    "cell_id": "00070-231e597e-ce38-4966-8caf-7eebe56cc134",
    "output_cleared": false,
    "deepnote_cell_type": "code"
   },
   "source": "# SF's Coef and P-value for income percentile vs. Redlining Index\n# Percentile ranking of median annual household income\nsf = sf1.dropna(subset=['income_pctile']) #0-100 (least to most advantaged)\ncoef_income_pctile, p_income_pctile = spearmanr(sf['income_pctile'], sf['ordinal_value'])",
   "execution_count": null,
   "outputs": []
  },
  {
   "cell_type": "code",
   "metadata": {
    "cell_id": "00071-ce727a5f-822c-4702-b1f9-57092e5108e6",
    "output_cleared": false,
    "deepnote_cell_type": "code"
   },
   "source": "coef_income_pctile",
   "execution_count": null,
   "outputs": [
    {
     "output_type": "execute_result",
     "execution_count": 70,
     "data": {
      "text/plain": "-0.3211709308810424"
     },
     "metadata": {}
    }
   ]
  },
  {
   "cell_type": "code",
   "metadata": {
    "cell_id": "00072-316caca7-f41b-4baf-b131-4268966df8c8",
    "output_cleared": false,
    "deepnote_cell_type": "code"
   },
   "source": "p_income_pctile",
   "execution_count": null,
   "outputs": [
    {
     "output_type": "execute_result",
     "execution_count": 71,
     "data": {
      "text/plain": "2.9129237077632027e-05"
     },
     "metadata": {}
    }
   ]
  },
  {
   "cell_type": "code",
   "metadata": {
    "cell_id": "00073-94859c07-de2d-4129-b39e-6eaeaf0c059d",
    "output_cleared": false,
    "deepnote_cell_type": "code"
   },
   "source": "# SF's Coef and P-value for retail percentile vs. Redlining Index\n# Percentile ranking of employment density for retail, entertainment, and educational uses\nsf = sf1.dropna(subset=['retail_pctile']) #0-100 (least to most advantaged)\ncoef_retail_pctile, p_retail_pctile = spearmanr(sf['retail_pctile'], sf['ordinal_value'])",
   "execution_count": null,
   "outputs": []
  },
  {
   "cell_type": "code",
   "metadata": {
    "cell_id": "00074-43ae39fc-d7bb-4d25-8879-1f53c1c158b3",
    "output_cleared": false,
    "deepnote_cell_type": "code"
   },
   "source": "coef_retail_pctile",
   "execution_count": null,
   "outputs": [
    {
     "output_type": "execute_result",
     "execution_count": 73,
     "data": {
      "text/plain": "0.2930960429700797"
     },
     "metadata": {}
    }
   ]
  },
  {
   "cell_type": "code",
   "metadata": {
    "cell_id": "00075-7c125e2d-02d0-448c-ba6f-b42e0b1e1626",
    "output_cleared": false,
    "deepnote_cell_type": "code"
   },
   "source": "p_retail_pctile",
   "execution_count": null,
   "outputs": [
    {
     "output_type": "execute_result",
     "execution_count": 74,
     "data": {
      "text/plain": "0.00014649805480215831"
     },
     "metadata": {}
    }
   ]
  },
  {
   "cell_type": "code",
   "metadata": {
    "cell_id": "00076-dc09be2e-566d-4496-900f-95059e1b77a6",
    "output_cleared": false,
    "deepnote_cell_type": "code"
   },
   "source": "# SF's Coef and P-value for parkaccess percentile vs. Redlining Index\n# Percentile ranking of the population living within a half-mile of a park, beach, or open space greater than 1 acre\nsf = sf1.dropna(subset=['parkaccess_pctile']) #0-100 (least to most advantaged)\ncoef_parkaccess_pctile, p_parkaccess_pctile = spearmanr(sf['parkaccess_pctile'], sf['ordinal_value'])",
   "execution_count": null,
   "outputs": []
  },
  {
   "cell_type": "code",
   "metadata": {
    "cell_id": "00077-0f1a80a4-5d3b-4e24-968f-88c5d63017cf",
    "output_cleared": false,
    "deepnote_cell_type": "code"
   },
   "source": "coef_parkaccess_pctile",
   "execution_count": null,
   "outputs": [
    {
     "output_type": "execute_result",
     "execution_count": 76,
     "data": {
      "text/plain": "0.006310190806994219"
     },
     "metadata": {}
    }
   ]
  },
  {
   "cell_type": "code",
   "metadata": {
    "cell_id": "00078-15f528ac-020a-4880-b9ed-a9201598e365",
    "output_cleared": false,
    "deepnote_cell_type": "code"
   },
   "source": "p_parkaccess_pctile",
   "execution_count": null,
   "outputs": [
    {
     "output_type": "execute_result",
     "execution_count": 77,
     "data": {
      "text/plain": "0.9362818658912155"
     },
     "metadata": {}
    }
   ]
  },
  {
   "cell_type": "code",
   "metadata": {
    "cell_id": "00079-1cfa145c-68d2-4686-bcd0-c0a520c5dfe0",
    "output_cleared": false,
    "deepnote_cell_type": "code"
   },
   "source": "# SF's Coef and P-value for treecanopy percentile vs. Redlining Index\n# Percentile ranking of population-weighted percentage of the census tract area without tree canopy\nsf = sf1.dropna(subset=['treecanopy_pctile']) #0-100 (least to most advantaged)\ncoef_treecanopy_pctile, p_treecanopy_pctile = spearmanr(sf['treecanopy_pctile'], sf['ordinal_value'])",
   "execution_count": null,
   "outputs": []
  },
  {
   "cell_type": "code",
   "metadata": {
    "cell_id": "00080-dd800705-70c0-47a8-98dd-f720128bf40d",
    "output_cleared": false,
    "deepnote_cell_type": "code"
   },
   "source": "coef_treecanopy_pctile",
   "execution_count": null,
   "outputs": [
    {
     "output_type": "execute_result",
     "execution_count": 79,
     "data": {
      "text/plain": "-0.1249729940256113"
     },
     "metadata": {}
    }
   ]
  },
  {
   "cell_type": "code",
   "metadata": {
    "cell_id": "00081-2f760041-7865-4037-ad98-6d6dd9680bcc",
    "output_cleared": false,
    "deepnote_cell_type": "code"
   },
   "source": "p_treecanopy_pctile",
   "execution_count": null,
   "outputs": [
    {
     "output_type": "execute_result",
     "execution_count": 80,
     "data": {
      "text/plain": "0.11194592654806185"
     },
     "metadata": {}
    }
   ]
  },
  {
   "cell_type": "code",
   "metadata": {
    "cell_id": "00082-f67d9827-2243-41e7-b604-576e00683e8d",
    "output_cleared": false,
    "deepnote_cell_type": "code"
   },
   "source": "# SF's Coef and P-value for alcoffsale percentile vs. Redlining Index\n# Percentile ranking of the opulation within 1/4 Mile of Off-Sale Alcohol Outlets\nsf = sf1.dropna(subset=['alcoffsale_pctile']) #0-100 (least to most advantaged)\ncoef_alcoffsale_pctile, p_alcoffsale_pctile = spearmanr(sf['alcoffsale_pctile'], sf['ordinal_value'])",
   "execution_count": null,
   "outputs": []
  },
  {
   "cell_type": "code",
   "metadata": {
    "cell_id": "00083-cf70960b-2e6f-41b1-9956-348a22194969",
    "output_cleared": false,
    "deepnote_cell_type": "code"
   },
   "source": "coef_alcoffsale_pctile",
   "execution_count": null,
   "outputs": [
    {
     "output_type": "execute_result",
     "execution_count": 82,
     "data": {
      "text/plain": "-0.39710464950677016"
     },
     "metadata": {}
    }
   ]
  },
  {
   "cell_type": "code",
   "metadata": {
    "cell_id": "00084-19d52ab7-5832-4fc5-91c2-dfacce4cef17",
    "output_cleared": false,
    "deepnote_cell_type": "code"
   },
   "source": "p_alcoffsale_pctile",
   "execution_count": null,
   "outputs": [
    {
     "output_type": "execute_result",
     "execution_count": 83,
     "data": {
      "text/plain": "1.5350460773623707e-07"
     },
     "metadata": {}
    }
   ]
  },
  {
   "cell_type": "code",
   "metadata": {
    "cell_id": "00085-3f9d6cfa-4f33-4fb6-a9cb-ba761ed29b25",
    "output_cleared": false,
    "deepnote_cell_type": "code"
   },
   "source": "# SF's Coef and P-value for voting percentile vs. Redlining Index\n# Percentile ranking of registered voters voting in the 2012 general election\nsf = sf1.dropna(subset=['voting_pctile']) #0-100 (least to most advantaged)\ncoef_voting_pctile, p_voting_pctile = spearmanr(sf['voting_pctile'], sf['ordinal_value'])",
   "execution_count": null,
   "outputs": []
  },
  {
   "cell_type": "code",
   "metadata": {
    "cell_id": "00086-74e514b3-85b1-458f-8b25-f17da9e4500c",
    "output_cleared": false,
    "deepnote_cell_type": "code"
   },
   "source": "coef_voting_pctile",
   "execution_count": null,
   "outputs": [
    {
     "output_type": "execute_result",
     "execution_count": 85,
     "data": {
      "text/plain": "-0.30051303344153285"
     },
     "metadata": {}
    }
   ]
  },
  {
   "cell_type": "code",
   "metadata": {
    "cell_id": "00087-609581be-18f3-431f-8a4d-301527efc7cf",
    "output_cleared": false,
    "deepnote_cell_type": "code"
   },
   "source": "p_voting_pctile",
   "execution_count": null,
   "outputs": [
    {
     "output_type": "execute_result",
     "execution_count": 86,
     "data": {
      "text/plain": "9.713156322242642e-05"
     },
     "metadata": {}
    }
   ]
  },
  {
   "cell_type": "code",
   "metadata": {
    "cell_id": "00088-9a2ecd36-d22a-4fb9-ae32-1d13ece6c4ec",
    "output_cleared": false,
    "deepnote_cell_type": "code"
   },
   "source": "# SF's Coef and P-value for housing (owned) costs exceeding 50% of income percentile vs. Redlining Index\n# Percentile ranking of low income owner households with housing costs exceeding 50% of income\nsf = sf1.dropna(subset=['ownsevere_pctile']) #0-100 (least to most advantaged)\ncoef_ownsevere_pctile, p_ownsevere_pctile = spearmanr(sf['ownsevere_pctile'], sf['ordinal_value'])",
   "execution_count": null,
   "outputs": []
  },
  {
   "cell_type": "code",
   "metadata": {
    "cell_id": "00089-0a53e1f6-bd21-431d-b1a2-a5f53fb11632",
    "output_cleared": false,
    "deepnote_cell_type": "code"
   },
   "source": "coef_ownsevere_pctile",
   "execution_count": null,
   "outputs": [
    {
     "output_type": "execute_result",
     "execution_count": 88,
     "data": {
      "text/plain": "-0.17079723458664176"
     },
     "metadata": {}
    }
   ]
  },
  {
   "cell_type": "code",
   "metadata": {
    "cell_id": "00090-b873d507-a6b8-44ee-8efc-857193103d5d",
    "output_cleared": false,
    "deepnote_cell_type": "code"
   },
   "source": "coef_ownsevere_pctile",
   "execution_count": null,
   "outputs": [
    {
     "output_type": "execute_result",
     "execution_count": 89,
     "data": {
      "text/plain": "-0.17079723458664176"
     },
     "metadata": {}
    }
   ]
  },
  {
   "cell_type": "code",
   "metadata": {
    "cell_id": "00091-b4f25509-13a1-439b-90bd-d1f4f4fdb574",
    "output_cleared": false,
    "deepnote_cell_type": "code"
   },
   "source": "# SF's Coef and P-value for housing (rented) costs exceeding 50% of income percentile vs. Redlining Index\n# Percentile ranking of low income renter households with housing costs exceeding 50% of income\nsf = sf1.dropna(subset=['rentsevere_pctile']) #0-100 (least to most advantaged)\ncoef_rentsevere_pctile, p_rentsevere_pctile = spearmanr(sf['rentsevere_pctile'], sf['ordinal_value'])",
   "execution_count": null,
   "outputs": []
  },
  {
   "cell_type": "code",
   "metadata": {
    "cell_id": "00092-f41d4076-7502-4d95-9a43-7f5e38e8a10c",
    "output_cleared": false,
    "deepnote_cell_type": "code"
   },
   "source": "coef_rentsevere_pctile",
   "execution_count": null,
   "outputs": [
    {
     "output_type": "execute_result",
     "execution_count": 91,
     "data": {
      "text/plain": "-0.0032632396094153427"
     },
     "metadata": {}
    }
   ]
  },
  {
   "cell_type": "code",
   "metadata": {
    "cell_id": "00093-dc6adea7-8545-4663-b04c-7fb222b6e716",
    "output_cleared": false,
    "deepnote_cell_type": "code"
   },
   "source": "p_rentsevere_pctile",
   "execution_count": null,
   "outputs": [
    {
     "output_type": "execute_result",
     "execution_count": 92,
     "data": {
      "text/plain": "0.9670234622446324"
     },
     "metadata": {}
    }
   ]
  },
  {
   "cell_type": "code",
   "metadata": {
    "cell_id": "00094-aa3d2530-73b9-437e-ad72-85ea175fbf94",
    "output_cleared": false,
    "deepnote_cell_type": "code"
   },
   "source": "# SF's Coef and P-value for supermrkts percentile vs. Redlining Index\n# Percentile ranking of percentage of the urban population residing less than 1/2 mile from a supermarket/large grocery store, or the percent of the rural population living less than 1 mile from a supermarket/large grocery store\nsf = sf1.dropna(subset=['supermkts_pctile']) #0-100 (least to most advantaged)\ncoef_supermkts_pctile, p_supermkts_pctile = spearmanr(sf['supermkts_pctile'], sf['ordinal_value'])",
   "execution_count": null,
   "outputs": []
  },
  {
   "cell_type": "code",
   "metadata": {
    "cell_id": "00095-4514cf66-44e0-4668-b0dd-84ed8cfd99e9",
    "output_cleared": false,
    "deepnote_cell_type": "code"
   },
   "source": "coef_supermkts_pctile",
   "execution_count": null,
   "outputs": [
    {
     "output_type": "execute_result",
     "execution_count": 94,
     "data": {
      "text/plain": "0.25076242787331904"
     },
     "metadata": {}
    }
   ]
  },
  {
   "cell_type": "code",
   "metadata": {
    "cell_id": "00096-d4eb40a0-9141-418b-ac21-60c8673e79ee",
    "output_cleared": false,
    "deepnote_cell_type": "code"
   },
   "source": "p_supermkts_pctile",
   "execution_count": null,
   "outputs": [
    {
     "output_type": "execute_result",
     "execution_count": 95,
     "data": {
      "text/plain": "0.0012438579226330248"
     },
     "metadata": {}
    }
   ]
  },
  {
   "cell_type": "code",
   "metadata": {
    "cell_id": "00097-2af8647f-a6b3-4133-a2fa-d18e5992fd79",
    "output_cleared": false,
    "deepnote_cell_type": "code"
   },
   "source": "# SF's Coef and P-value for ozone percentile vs. Redlining Index\n# Percentile ranking of mean of summer months (May-October) of the daily maximum 8-hour ozone concentration (ppm), averaged over three years (2012 to 2014).\nsf = sf1.dropna(subset=['ozone_pctile']) #0-100 (least to most advantaged)\ncoef_ozone_pctile, p_ozone_pctile = spearmanr(sf['ozone_pctile'], sf['ordinal_value'])",
   "execution_count": null,
   "outputs": [
    {
     "name": "stderr",
     "text": "/opt/venv/lib/python3.7/site-packages/scipy/stats/stats.py:4196: SpearmanRConstantInputWarning: An input array is constant; the correlation coefficent is not defined.\n  warnings.warn(SpearmanRConstantInputWarning())\n",
     "output_type": "stream"
    }
   ]
  },
  {
   "cell_type": "code",
   "metadata": {
    "cell_id": "00098-3fd46b1a-c21f-4be4-8960-1c3e3fe024fb",
    "output_cleared": false,
    "deepnote_cell_type": "code"
   },
   "source": "coef_ozone_pctile",
   "execution_count": null,
   "outputs": [
    {
     "output_type": "execute_result",
     "execution_count": 97,
     "data": {
      "text/plain": "nan"
     },
     "metadata": {}
    }
   ]
  },
  {
   "cell_type": "code",
   "metadata": {
    "cell_id": "00099-21a0f2ea-f4b2-442f-b002-e5b740620598",
    "output_cleared": false,
    "deepnote_cell_type": "code"
   },
   "source": "p_ozone_pctile",
   "execution_count": null,
   "outputs": [
    {
     "output_type": "execute_result",
     "execution_count": 98,
     "data": {
      "text/plain": "nan"
     },
     "metadata": {}
    }
   ]
  },
  {
   "cell_type": "code",
   "metadata": {
    "cell_id": "00100-35fb4657-f153-403c-b77e-9898dcb78dda",
    "output_cleared": false,
    "deepnote_cell_type": "code"
   },
   "source": "# SF's Coef and P-value for pm25 percentile vs. Redlining Index\n# Percentile ranking of annual mean PM 2.5 level\nsf = sf1.dropna(subset=['pm25_pctile']) #0-100 (least to most advantaged)\ncoef_pm25_pctile, p_pm25_pctile = spearmanr(sf['pm25_pctile'], sf['ordinal_value'])",
   "execution_count": null,
   "outputs": []
  },
  {
   "cell_type": "code",
   "metadata": {
    "cell_id": "00101-4f2ce5c0-16e5-4186-901f-c861757e72a9",
    "output_cleared": false,
    "deepnote_cell_type": "code"
   },
   "source": "coef_pm25_pctile",
   "execution_count": null,
   "outputs": [
    {
     "output_type": "execute_result",
     "execution_count": 100,
     "data": {
      "text/plain": "-0.5979163891480077"
     },
     "metadata": {}
    }
   ]
  },
  {
   "cell_type": "code",
   "metadata": {
    "cell_id": "00102-ed7ab56e-9894-4ad4-b506-4e75e681cb04",
    "output_cleared": false,
    "deepnote_cell_type": "code"
   },
   "source": "p_pm25_pctile",
   "execution_count": null,
   "outputs": [
    {
     "output_type": "execute_result",
     "execution_count": 101,
     "data": {
      "text/plain": "3.5490867572065805e-17"
     },
     "metadata": {}
    }
   ]
  },
  {
   "cell_type": "code",
   "metadata": {
    "cell_id": "00103-adf742b4-c05e-481b-8588-8cc2dbd9b60d",
    "output_cleared": false,
    "deepnote_cell_type": "code"
   },
   "source": "# SF's Coef and P-value for dieselpm percentile vs. Redlining Index\n# Percentile ranking of spatial distribution of gridded diesel PM emissions from on-road and non-road sources for a 2012 summer day in July (kg/day) \nsf = sf1.dropna(subset=['dieselpm_pctile']) #0-100 (least to most advantaged)\ncoef_dieselpm_pctile, p_dieselpm_pctile = spearmanr(sf['dieselpm_pctile'], sf['ordinal_value'])",
   "execution_count": null,
   "outputs": []
  },
  {
   "cell_type": "code",
   "metadata": {
    "cell_id": "00104-d94ac91a-20c8-433d-a1a8-2d0b72cd7f84",
    "output_cleared": false,
    "deepnote_cell_type": "code"
   },
   "source": "coef_dieselpm_pctile",
   "execution_count": null,
   "outputs": [
    {
     "output_type": "execute_result",
     "execution_count": 103,
     "data": {
      "text/plain": "-0.4108142892048004"
     },
     "metadata": {}
    }
   ]
  },
  {
   "cell_type": "code",
   "metadata": {
    "cell_id": "00105-ce40b708-6e35-4491-b651-133bf1eeef7d",
    "output_cleared": false,
    "deepnote_cell_type": "code"
   },
   "source": "p_dieselpm_pctile",
   "execution_count": null,
   "outputs": [
    {
     "output_type": "execute_result",
     "execution_count": 104,
     "data": {
      "text/plain": "5.1235202589379024e-08"
     },
     "metadata": {}
    }
   ]
  },
  {
   "cell_type": "code",
   "metadata": {
    "cell_id": "00106-d506177a-d911-4337-aabb-81e7bdd241a1",
    "output_cleared": false,
    "deepnote_cell_type": "code"
   },
   "source": "# SF's Coef and P-value for h20 contamination percentile vs. Redlining Index\n# Percentile ranking of Cal EnviroScreen 3.0 drinking water contaminant index for selected contaminants \nsf = sf1.dropna(subset=['h20contam_pctile']) #0-100 (least to most advantaged)\ncoef_h20contam_pctile, p_h20contam_pctile = spearmanr(sf['h20contam_pctile'], sf['ordinal_value'])",
   "execution_count": null,
   "outputs": []
  },
  {
   "cell_type": "code",
   "metadata": {
    "cell_id": "00107-cf25ee8d-e4f4-4d7b-b305-3ad7585a6984",
    "output_cleared": false,
    "deepnote_cell_type": "code"
   },
   "source": "coef_h20contam_pctile",
   "execution_count": null,
   "outputs": [
    {
     "output_type": "execute_result",
     "execution_count": 106,
     "data": {
      "text/plain": "0.02097865532567874"
     },
     "metadata": {}
    }
   ]
  },
  {
   "cell_type": "code",
   "metadata": {
    "cell_id": "00108-774f454a-e8ab-487f-9ad1-9c947f5d9c06",
    "output_cleared": false,
    "deepnote_cell_type": "code"
   },
   "source": "p_h20contam_pctile",
   "execution_count": null,
   "outputs": [
    {
     "output_type": "execute_result",
     "execution_count": 107,
     "data": {
      "text/plain": "0.790388972320488"
     },
     "metadata": {}
    }
   ]
  },
  {
   "cell_type": "code",
   "metadata": {
    "cell_id": "00109-ed825c76-a1fa-48e7-a109-523fe9771173",
    "output_cleared": false,
    "deepnote_cell_type": "code"
   },
   "source": "# SF's Coef and P-value for life expectancy at birth percentile vs. Redlining Index\n# Percentile ranking of life expectancy at birth\nsf = sf1.dropna(subset=['LEB_pctile']) #0-100 (least to most advantaged)\ncoef_LEB_pctile, p_LEB_pctile = spearmanr(sf['LEB_pctile'], sf['ordinal_value'])",
   "execution_count": null,
   "outputs": []
  },
  {
   "cell_type": "code",
   "metadata": {
    "cell_id": "00110-d17abf38-ccae-42a7-9d7e-6cc8116c9e68",
    "output_cleared": false,
    "deepnote_cell_type": "code"
   },
   "source": "coef_LEB_pctile",
   "execution_count": null,
   "outputs": [
    {
     "output_type": "execute_result",
     "execution_count": 109,
     "data": {
      "text/plain": "-0.36689042326520516"
     },
     "metadata": {}
    }
   ]
  },
  {
   "cell_type": "code",
   "metadata": {
    "cell_id": "00111-4a2ca25a-1769-4bbf-9f66-d1b5af85db7b",
    "output_cleared": false,
    "deepnote_cell_type": "code"
   },
   "source": "p_LEB_pctile",
   "execution_count": null,
   "outputs": [
    {
     "output_type": "execute_result",
     "execution_count": 110,
     "data": {
      "text/plain": "1.4561754915519214e-06"
     },
     "metadata": {}
    }
   ]
  },
  {
   "cell_type": "code",
   "metadata": {
    "cell_id": "00112-e3f45128-2e67-46f0-b605-0d29988bbc3b",
    "output_cleared": false,
    "deepnote_cell_type": "code"
   },
   "source": "",
   "execution_count": null,
   "outputs": []
  },
  {
   "cell_type": "code",
   "metadata": {
    "cell_id": "00113-8a47a3b6-af08-4a97-86bf-91a0a90c4348",
    "output_cleared": false,
    "deepnote_cell_type": "code"
   },
   "source": "",
   "execution_count": null,
   "outputs": []
  },
  {
   "cell_type": "code",
   "metadata": {
    "cell_id": "00114-d99d9341-223a-43c3-9a86-3f65157f7b59",
    "output_cleared": false,
    "deepnote_cell_type": "code"
   },
   "source": "",
   "execution_count": null,
   "outputs": []
  },
  {
   "cell_type": "code",
   "metadata": {
    "cell_id": "00115-a053478e-c2f9-418b-9357-506caf474773",
    "output_cleared": false,
    "deepnote_cell_type": "code"
   },
   "source": "",
   "execution_count": null,
   "outputs": []
  },
  {
   "cell_type": "code",
   "metadata": {
    "cell_id": "00116-e59b3d88-2132-4912-88d9-2b983f9266a1",
    "output_cleared": false,
    "deepnote_cell_type": "code"
   },
   "source": "",
   "execution_count": null,
   "outputs": []
  },
  {
   "cell_type": "code",
   "metadata": {
    "cell_id": "00117-90ac3190-fa56-42da-be83-5a6d8423f461",
    "output_cleared": false,
    "deepnote_cell_type": "code"
   },
   "source": "",
   "execution_count": null,
   "outputs": []
  },
  {
   "cell_type": "code",
   "metadata": {
    "tags": [],
    "cell_id": "00118-0a8968f9-528e-4e3e-b16c-6dc74ea9f1fd",
    "output_cleared": false,
    "deepnote_cell_type": "code"
   },
   "source": "",
   "execution_count": null,
   "outputs": []
  },
  {
   "cell_type": "code",
   "metadata": {
    "tags": [],
    "cell_id": "00119-d59ed6cb-4c54-47f5-83da-51f1f3bdfe44",
    "output_cleared": false,
    "deepnote_cell_type": "code"
   },
   "source": "",
   "execution_count": null,
   "outputs": []
  },
  {
   "cell_type": "code",
   "metadata": {
    "tags": [],
    "cell_id": "00120-dce4d468-3416-4220-8161-9c2d30e4d235",
    "output_cleared": false,
    "deepnote_cell_type": "code"
   },
   "source": "",
   "execution_count": null,
   "outputs": []
  },
  {
   "cell_type": "code",
   "metadata": {
    "tags": [],
    "cell_id": "00121-d4ce7c01-9bc1-4a74-b66b-bed082c72a96",
    "output_cleared": false,
    "deepnote_cell_type": "code"
   },
   "source": "",
   "execution_count": null,
   "outputs": []
  },
  {
   "cell_type": "code",
   "metadata": {
    "tags": [],
    "cell_id": "00122-cfd6889b-b039-40b6-b385-1a1ee1a0b984",
    "output_cleared": false,
    "deepnote_cell_type": "code"
   },
   "source": "",
   "execution_count": null,
   "outputs": []
  },
  {
   "cell_type": "code",
   "metadata": {
    "tags": [],
    "cell_id": "00123-afbd407d-acf0-4bab-862c-70278d2b6fcb",
    "output_cleared": false,
    "deepnote_cell_type": "code"
   },
   "source": "",
   "execution_count": null,
   "outputs": []
  },
  {
   "cell_type": "code",
   "metadata": {
    "tags": [],
    "cell_id": "00124-924a76aa-03de-4123-bbc5-b05dd3a3bc80",
    "output_cleared": false,
    "deepnote_cell_type": "code"
   },
   "source": "",
   "execution_count": null,
   "outputs": []
  },
  {
   "cell_type": "code",
   "metadata": {
    "tags": [],
    "cell_id": "00125-2f8d79e3-8d8d-49ec-94bc-b87f5be79449",
    "output_cleared": false,
    "deepnote_cell_type": "code"
   },
   "source": "",
   "execution_count": null,
   "outputs": []
  },
  {
   "cell_type": "code",
   "metadata": {
    "tags": [],
    "cell_id": "00126-6afa0af3-3450-4560-bf09-aad71e2cea1b",
    "output_cleared": false,
    "deepnote_cell_type": "code"
   },
   "source": "",
   "execution_count": null,
   "outputs": []
  },
  {
   "cell_type": "code",
   "metadata": {
    "tags": [],
    "cell_id": "00127-ffbe11a1-09cf-4662-b646-86d8b36f3cb0",
    "output_cleared": false,
    "deepnote_cell_type": "code"
   },
   "source": "",
   "execution_count": null,
   "outputs": []
  },
  {
   "cell_type": "code",
   "metadata": {
    "tags": [],
    "cell_id": "00128-750d9460-84a8-424a-b4ca-8b283c9a130c",
    "output_cleared": false,
    "deepnote_cell_type": "code"
   },
   "source": "",
   "execution_count": null,
   "outputs": []
  },
  {
   "cell_type": "code",
   "metadata": {
    "tags": [],
    "cell_id": "00129-80ec7a62-fdfc-4931-a1d0-3b0461d0f522",
    "output_cleared": false,
    "deepnote_cell_type": "code"
   },
   "source": "",
   "execution_count": null,
   "outputs": []
  },
  {
   "cell_type": "code",
   "metadata": {
    "tags": [],
    "cell_id": "00130-dcee8726-4b7c-408c-9ba9-df9758445762",
    "output_cleared": false,
    "deepnote_cell_type": "code"
   },
   "source": "",
   "execution_count": null,
   "outputs": []
  },
  {
   "cell_type": "code",
   "metadata": {
    "tags": [],
    "cell_id": "00131-5a1e387b-dbe3-402c-8248-f15805be5e78",
    "output_cleared": false,
    "deepnote_cell_type": "code"
   },
   "source": "",
   "execution_count": null,
   "outputs": []
  },
  {
   "cell_type": "code",
   "metadata": {
    "tags": [],
    "cell_id": "00132-fd9889ca-768c-4d1d-b932-8380765c8eb1",
    "output_cleared": false,
    "deepnote_cell_type": "code"
   },
   "source": "",
   "execution_count": null,
   "outputs": []
  },
  {
   "cell_type": "code",
   "metadata": {
    "tags": [],
    "cell_id": "00133-9203e9fb-041c-47b0-b6f4-39c7e53a25e0",
    "output_cleared": false,
    "deepnote_cell_type": "code"
   },
   "source": "",
   "execution_count": null,
   "outputs": []
  },
  {
   "cell_type": "code",
   "metadata": {
    "tags": [],
    "cell_id": "00134-2b3c9d29-0aa4-4076-8992-8790451cf8aa",
    "output_cleared": false,
    "deepnote_cell_type": "code"
   },
   "source": "",
   "execution_count": null,
   "outputs": []
  },
  {
   "cell_type": "code",
   "metadata": {
    "output_cleared": false,
    "tags": [],
    "cell_id": "00135-245e1db3-0df8-484a-8c3a-ce2d50269362",
    "deepnote_cell_type": "code"
   },
   "source": "",
   "execution_count": null,
   "outputs": []
  },
  {
   "cell_type": "code",
   "metadata": {
    "output_cleared": false,
    "tags": [],
    "cell_id": "00136-293099bf-e6a0-4d89-bb7b-dcf491599614",
    "deepnote_cell_type": "code"
   },
   "source": "",
   "execution_count": null,
   "outputs": []
  },
  {
   "cell_type": "code",
   "metadata": {
    "output_cleared": false,
    "tags": [],
    "cell_id": "00137-98962f78-f19f-421a-b110-2b504785fad6",
    "deepnote_cell_type": "code"
   },
   "source": "",
   "execution_count": null,
   "outputs": []
  },
  {
   "cell_type": "code",
   "metadata": {
    "tags": [],
    "cell_id": "00138-4f88081b-d39b-485e-9180-31cf5490919b",
    "output_cleared": false,
    "deepnote_cell_type": "code"
   },
   "source": "",
   "execution_count": null,
   "outputs": []
  },
  {
   "cell_type": "code",
   "metadata": {
    "tags": [],
    "cell_id": "00139-56f710ff-cd30-4ec9-b3c8-45fd9da21725",
    "output_cleared": false,
    "deepnote_cell_type": "code"
   },
   "source": "",
   "execution_count": null,
   "outputs": []
  },
  {
   "cell_type": "code",
   "metadata": {
    "tags": [],
    "cell_id": "00140-3ff885ad-179b-4df2-9a5c-5bed72b2b533",
    "output_cleared": false,
    "deepnote_cell_type": "code"
   },
   "source": "",
   "execution_count": null,
   "outputs": []
  },
  {
   "cell_type": "code",
   "metadata": {
    "tags": [],
    "cell_id": "00141-d481d657-b9d0-43a6-8ed8-ab226bcf8027",
    "output_cleared": false,
    "deepnote_cell_type": "code"
   },
   "source": "",
   "execution_count": null,
   "outputs": []
  },
  {
   "cell_type": "code",
   "metadata": {
    "tags": [],
    "cell_id": "00142-7da94f25-9a39-493a-a961-ce95efeaf2ee",
    "output_cleared": false,
    "deepnote_cell_type": "code"
   },
   "source": "",
   "execution_count": null,
   "outputs": []
  },
  {
   "cell_type": "code",
   "metadata": {
    "tags": [],
    "cell_id": "00143-4bae7107-fb4e-4636-b7cb-13a8663ce569",
    "output_cleared": false,
    "deepnote_cell_type": "code"
   },
   "source": "",
   "execution_count": null,
   "outputs": []
  },
  {
   "cell_type": "code",
   "metadata": {
    "tags": [],
    "cell_id": "00144-714fce79-2b91-4ccf-9449-bcf1e50ccafe",
    "output_cleared": false,
    "deepnote_cell_type": "code"
   },
   "source": "",
   "execution_count": null,
   "outputs": []
  },
  {
   "cell_type": "code",
   "metadata": {
    "tags": [],
    "cell_id": "00145-1a411443-88a6-46ca-84ff-f14cf74c3e38",
    "output_cleared": false,
    "deepnote_cell_type": "code"
   },
   "source": "",
   "execution_count": null,
   "outputs": []
  },
  {
   "cell_type": "code",
   "metadata": {
    "tags": [],
    "cell_id": "00146-0859cf6e-fe11-42ed-a4ba-06f8ef0492c5",
    "output_cleared": false,
    "deepnote_cell_type": "code"
   },
   "source": "",
   "execution_count": null,
   "outputs": []
  },
  {
   "cell_type": "code",
   "metadata": {
    "tags": [],
    "cell_id": "00147-16aa37ec-c00c-42a9-8abc-035b0ea08440",
    "output_cleared": false,
    "deepnote_cell_type": "code"
   },
   "source": "",
   "execution_count": null,
   "outputs": []
  },
  {
   "cell_type": "code",
   "metadata": {
    "output_cleared": false,
    "tags": [],
    "cell_id": "00148-c4a621ae-f478-407a-86e9-b6979a73f020",
    "deepnote_cell_type": "code"
   },
   "source": "",
   "execution_count": null,
   "outputs": []
  },
  {
   "cell_type": "code",
   "metadata": {
    "output_cleared": false,
    "tags": [],
    "cell_id": "00149-141eeea2-6c94-4e7e-92ea-f77bc973b959",
    "deepnote_cell_type": "code"
   },
   "source": "",
   "execution_count": null,
   "outputs": []
  },
  {
   "cell_type": "code",
   "metadata": {
    "output_cleared": false,
    "tags": [],
    "cell_id": "00150-dd89c0da-c084-438d-89c2-3187154926cd",
    "deepnote_cell_type": "code"
   },
   "source": "",
   "execution_count": null,
   "outputs": []
  },
  {
   "cell_type": "code",
   "metadata": {
    "output_cleared": false,
    "tags": [],
    "cell_id": "00151-aeab0dff-61e3-4ac6-965c-d8ed15c42542",
    "deepnote_cell_type": "code"
   },
   "source": "",
   "execution_count": null,
   "outputs": []
  },
  {
   "cell_type": "code",
   "metadata": {
    "output_cleared": false,
    "tags": [],
    "cell_id": "00152-2c63b353-b872-408f-88d8-725df494c386",
    "deepnote_cell_type": "code"
   },
   "source": "",
   "execution_count": null,
   "outputs": []
  },
  {
   "cell_type": "code",
   "metadata": {
    "tags": [],
    "cell_id": "00153-5b5fe297-8f72-4932-b575-6eed74933fd7",
    "output_cleared": false,
    "deepnote_cell_type": "code"
   },
   "source": "",
   "execution_count": null,
   "outputs": []
  },
  {
   "cell_type": "code",
   "metadata": {
    "output_cleared": false,
    "tags": [],
    "cell_id": "00154-060fe695-47d6-4522-984f-94f31cd77c2e",
    "deepnote_cell_type": "code"
   },
   "source": "",
   "execution_count": null,
   "outputs": []
  },
  {
   "cell_type": "code",
   "metadata": {
    "output_cleared": false,
    "tags": [],
    "cell_id": "00155-7aaff8e5-5da1-43be-b2ea-5581efb273c8",
    "deepnote_cell_type": "code"
   },
   "source": "",
   "execution_count": null,
   "outputs": []
  },
  {
   "cell_type": "code",
   "metadata": {
    "output_cleared": false,
    "tags": [],
    "cell_id": "00156-5ce1eeac-8436-4c73-a1bc-e23ef539ddef",
    "deepnote_cell_type": "code"
   },
   "source": "",
   "execution_count": null,
   "outputs": []
  },
  {
   "cell_type": "code",
   "metadata": {
    "output_cleared": false,
    "tags": [],
    "cell_id": "00157-8c70c26f-c780-4241-8641-93a4aae3186b",
    "deepnote_cell_type": "code"
   },
   "source": "",
   "execution_count": null,
   "outputs": []
  },
  {
   "cell_type": "code",
   "metadata": {
    "output_cleared": false,
    "tags": [],
    "cell_id": "00158-fbbc2547-7359-4e11-8830-ffdd769c8930",
    "deepnote_cell_type": "code"
   },
   "source": "",
   "execution_count": null,
   "outputs": []
  },
  {
   "cell_type": "code",
   "metadata": {
    "output_cleared": false,
    "tags": [],
    "cell_id": "00159-8602fbe1-425f-4fd8-97f1-af86a86f6c7e",
    "deepnote_cell_type": "code"
   },
   "source": "",
   "execution_count": null,
   "outputs": []
  },
  {
   "cell_type": "code",
   "metadata": {
    "output_cleared": false,
    "tags": [],
    "cell_id": "00160-4dc23a61-bda1-48e2-8642-6fb423792595",
    "deepnote_cell_type": "code"
   },
   "source": "",
   "execution_count": null,
   "outputs": []
  },
  {
   "cell_type": "code",
   "metadata": {
    "output_cleared": false,
    "tags": [],
    "cell_id": "00161-43f6c9fb-c646-4011-a8f1-66824a656b9a",
    "deepnote_cell_type": "code"
   },
   "source": "",
   "execution_count": null,
   "outputs": []
  },
  {
   "cell_type": "code",
   "metadata": {
    "output_cleared": false,
    "tags": [],
    "cell_id": "00162-71a60982-5d13-49f0-9ec6-5f983a4880e9",
    "deepnote_cell_type": "code"
   },
   "source": "",
   "execution_count": null,
   "outputs": []
  },
  {
   "cell_type": "code",
   "metadata": {
    "tags": [],
    "cell_id": "00163-21203edd-6a0b-43ca-81bd-d78f65e86f3a",
    "output_cleared": false,
    "deepnote_cell_type": "code"
   },
   "source": "",
   "execution_count": null,
   "outputs": []
  },
  {
   "cell_type": "markdown",
   "source": "<a style='text-decoration:none;line-height:16px;display:flex;color:#5B5B62;padding:10px;justify-content:end;' href='https://deepnote.com?utm_source=created-in-deepnote-cell&projectId=c9a4f701-31a5-4164-b3f3-c09cddf1309e' target=\"_blank\">\n<img alt='Created in deepnote.com' style='display:inline;max-height:16px;margin:0px;margin-right:7.5px;' src='data:image/svg+xml;base64,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' > </img>\nCreated in <span style='font-weight:600;margin-left:4px;'>Deepnote</span></a>",
   "metadata": {
    "tags": [],
    "created_in_deepnote_cell": true,
    "deepnote_cell_type": "markdown"
   }
  }
 ],
 "nbformat": 4,
 "nbformat_minor": 2,
 "metadata": {
  "deepnote_execution_queue": [],
  "deepnote_notebook_id": "bb508960-0d52-423b-a53a-b37ec465c520",
  "kernelspec": {
   "display_name": "Python 3",
   "language": "python",
   "name": "python3"
  },
  "language_info": {
   "codemirror_mode": {
    "name": "ipython",
    "version": 3
   },
   "file_extension": ".py",
   "mimetype": "text/x-python",
   "name": "python",
   "nbconvert_exporter": "python",
   "pygments_lexer": "ipython3",
   "version": "3.7.4"
  },
  "deepnote": {}
 }
}