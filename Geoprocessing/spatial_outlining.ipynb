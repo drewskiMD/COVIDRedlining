{
 "cells": [
  {
   "cell_type": "markdown",
   "source": "## Author: Akash",
   "metadata": {
    "tags": [],
    "cell_id": "00000-6ab4f65e-6143-455e-ad2d-d24413a44e87",
    "deepnote_cell_type": "markdown"
   }
  },
  {
   "cell_type": "markdown",
   "source": "### Spatial imputation approach for harmonization of historical redlining maps with contemporary maps",
   "metadata": {
    "tags": [],
    "cell_id": "00001-2e2a06ae-87f4-4e92-be7b-2e3e5b4a3af0",
    "deepnote_cell_type": "markdown"
   }
  },
  {
   "cell_type": "markdown",
   "source": "Data Source : Redlining Shapefiles (University of Richmond) and Census Tract Shapefiles (US Census Bureau)",
   "metadata": {
    "tags": [],
    "cell_id": "00002-765b81e8-4206-4364-8575-e62f8cc49f1a",
    "deepnote_cell_type": "markdown"
   }
  },
  {
   "cell_type": "code",
   "metadata": {
    "tags": [],
    "cell_id": "00003-84398814-edde-42a6-91dc-55bf18aa28a5",
    "deepnote_to_be_reexecuted": false,
    "source_hash": "212cfdb2",
    "execution_millis": 272,
    "execution_start": 1620830828006,
    "deepnote_cell_type": "code"
   },
   "source": "#Importing needed libraries\nimport pandas as pd\nimport geopandas as gpd\nimport fiona\nfrom shapely.geometry import shape, mapping\nimport rtree\nimport fiona.crs\nimport os",
   "outputs": [
    {
     "name": "stderr",
     "text": "/home/jovyan/venv/lib/python3.7/site-packages/geopandas/_compat.py:110: UserWarning: The Shapely GEOS version (3.8.0-CAPI-1.13.1 ) is incompatible with the GEOS version PyGEOS was compiled with (3.9.0-CAPI-1.16.2). Conversions between both will be slow.\n  shapely_geos_version, geos_capi_version_string\n",
     "output_type": "stream"
    }
   ],
   "execution_count": null
  },
  {
   "cell_type": "code",
   "metadata": {
    "tags": [],
    "output_cleared": false,
    "source_hash": "eb699498",
    "execution_millis": 45,
    "cell_id": "00004-b266bf88-3679-4230-9289-5354e11da1ef",
    "deepnote_to_be_reexecuted": false,
    "execution_start": 1620832288903,
    "deepnote_cell_type": "code"
   },
   "source": "## Investigating whether the redlining shapefiles contains polygon_id as 0 or NULL\nshp = gpd.read_file('/work/COVIDRedlining/data/boston/boston redlining/cambridge_redlining.shp')\n#Adding a polygon_id index\nshp['polygon_id'] = shp.index + 1\nshp.columns",
   "outputs": [
    {
     "output_type": "execute_result",
     "execution_count": 21,
     "data": {
      "text/plain": "Index(['name', 'holc_id', 'holc_grade', 'geometry', 'polygon_id'], dtype='object')"
     },
     "metadata": {}
    }
   ],
   "execution_count": null
  },
  {
   "cell_type": "code",
   "metadata": {
    "tags": [],
    "output_cleared": false,
    "source_hash": "92d43e5f",
    "execution_millis": 42,
    "execution_start": 1620832295340,
    "cell_id": "00005-3cd54aed-41fe-4bcb-8375-cf4c878c5fc6",
    "deepnote_to_be_reexecuted": false,
    "deepnote_cell_type": "code"
   },
   "source": "#Converting the shapefile into geojson\nshp.to_file('cambridge_redlining.geojson',driver='GeoJSON')",
   "outputs": [],
   "execution_count": null
  },
  {
   "cell_type": "markdown",
   "source": "### Approach 1 - Getting proportion of intersection between two shapefiles",
   "metadata": {
    "tags": [],
    "cell_id": "00006-006f2426-647e-4922-a755-25e402f69a2c",
    "deepnote_cell_type": "markdown"
   }
  },
  {
   "cell_type": "code",
   "metadata": {
    "tags": [],
    "output_cleared": false,
    "source_hash": "abf3beed",
    "execution_millis": 2111,
    "cell_id": "00007-7a5f1aeb-f174-4368-9e85-c67cacfbaa65",
    "deepnote_to_be_reexecuted": false,
    "execution_start": 1620832467754,
    "deepnote_cell_type": "code"
   },
   "source": "#\"A Method to Construct Geographical Crosswalks with an Application to US Counties since 1790\"\n#www.fpeckert.me/eglp\n\n## A generic code to construct your own crosswalk, from two shapefiles\n\n## defining variables \norigin_path = '/home/jovyan/work/COVIDRedlining/data/boston/boston census tracts'\norigin_fname = 'tl_2019_25_tract.shp'\norigin_geoid = 'GEOID'\n\ndestination_path = '/home/jovyan/work/COVIDRedlining/data/boston/boston redlining'\ndestination_fname = 'cambridge_redlining.geojson'\ndestination_geoid = 'polygon_id'\n\noutput_path = '/home/jovyan/work/COVIDRedlining/data/boston'\noutput_fname = 'cambridge_redline_intersection.csv'\n\n\n## read in starting shapefile\nos.chdir(origin_path)\nshp_origin = gpd.GeoDataFrame.from_file(origin_fname).to_crs(fiona.crs.from_epsg(4326))\nshp_origin['area_base'] = shp_origin.area\n\n## read in ending shapefile\nos.chdir(destination_path)\nshp_destination = gpd.GeoDataFrame.from_file(destination_fname).to_crs(fiona.crs.from_epsg(4326))\n\n## intersecting the file\nintersect = gpd.overlay(shp_origin, shp_destination, how = 'intersection')\nintersect['area'] = intersect.area\n\n## computing weights\nintersect['weight'] = intersect['area'] / intersect['area_base']\n\n## renormalizing weights - this isn't necesary, but without it, if the shapefiles do not perfectly line up where they should, you may lose small fractions of area here and there\nreweight = intersect.groupby(origin_geoid)['weight'].sum().reset_index()\nreweight['new_weight'] = reweight['weight']\nreweight = reweight.drop('weight', axis = 1)\n\nintersect = intersect.merge(reweight, left_on = origin_geoid, right_on = origin_geoid)\nintersect['weight'] = intersect['weight'] / intersect['new_weight']\n\nintersect = intersect.drop('new_weight', axis =1)\n\n## keeping only relevant columns - again isn't necessary, but will help trim down the size of the crosswalk at the end\noutput = intersect[[origin_geoid, destination_geoid, 'weight']]\n\n## saving output\noutput.to_csv(output_fname, index = False)",
   "outputs": [
    {
     "name": "stderr",
     "text": "/home/jovyan/venv/lib/python3.7/site-packages/pyproj/crs/crs.py:53: FutureWarning: '+init=<authority>:<code>' syntax is deprecated. '<authority>:<code>' is the preferred initialization method. When making the change, be mindful of axis order changes: https://pyproj4.github.io/pyproj/stable/gotchas.html#axis-order-changes-in-proj-6\n  return _prepare_from_string(\" \".join(pjargs))\n/shared-libs/python3.7/py-core/lib/python3.7/site-packages/ipykernel_launcher.py:22: UserWarning: Geometry is in a geographic CRS. Results from 'area' are likely incorrect. Use 'GeoSeries.to_crs()' to re-project geometries to a projected CRS before this operation.\n\n/shared-libs/python3.7/py-core/lib/python3.7/site-packages/ipykernel_launcher.py:30: UserWarning: Geometry is in a geographic CRS. Results from 'area' are likely incorrect. Use 'GeoSeries.to_crs()' to re-project geometries to a projected CRS before this operation.\n\n",
     "output_type": "stream"
    }
   ],
   "execution_count": null
  },
  {
   "cell_type": "code",
   "metadata": {
    "tags": [],
    "output_cleared": false,
    "source_hash": "2de96ad2",
    "execution_millis": 23,
    "cell_id": "00008-2446bf22-3803-4f05-8559-bbc97747d317",
    "deepnote_to_be_reexecuted": false,
    "execution_start": 1620832471444,
    "deepnote_cell_type": "code"
   },
   "source": "#Reading the converted csv\noutput = pd.read_csv('/work/COVIDRedlining/data/boston/cambridge_redline_intersection.csv')\noutput.head(20)",
   "outputs": [
    {
     "output_type": "execute_result",
     "execution_count": 30,
     "data": {
      "application/vnd.deepnote.dataframe.v2+json": {
       "row_count": 20,
       "column_count": 3,
       "columns": [
        {
         "name": "GEOID",
         "dtype": "int64",
         "stats": {
          "unique_count": 9,
          "nan_count": 0,
          "min": "25017350103",
          "max": "25017353600",
          "histogram": [
           {
            "bin_start": 25017350103,
            "bin_end": 25017350452.7,
            "count": 1
           },
           {
            "bin_start": 25017350452.7,
            "bin_end": 25017350802.4,
            "count": 0
           },
           {
            "bin_start": 25017350802.4,
            "bin_end": 25017351152.1,
            "count": 0
           },
           {
            "bin_start": 25017351152.1,
            "bin_end": 25017351501.8,
            "count": 4
           },
           {
            "bin_start": 25017351501.8,
            "bin_end": 25017351851.5,
            "count": 0
           },
           {
            "bin_start": 25017351851.5,
            "bin_end": 25017352201.2,
            "count": 0
           },
           {
            "bin_start": 25017352201.2,
            "bin_end": 25017352550.9,
            "count": 0
           },
           {
            "bin_start": 25017352550.9,
            "bin_end": 25017352900.6,
            "count": 0
           },
           {
            "bin_start": 25017352900.6,
            "bin_end": 25017353250.3,
            "count": 7
           },
           {
            "bin_start": 25017353250.3,
            "bin_end": 25017353600,
            "count": 8
           }
          ]
         }
        },
        {
         "name": "polygon_id",
         "dtype": "int64",
         "stats": {
          "unique_count": 7,
          "nan_count": 0,
          "min": "3",
          "max": "16",
          "histogram": [
           {
            "bin_start": 3,
            "bin_end": 4.3,
            "count": 2
           },
           {
            "bin_start": 4.3,
            "bin_end": 5.6,
            "count": 0
           },
           {
            "bin_start": 5.6,
            "bin_end": 6.9,
            "count": 0
           },
           {
            "bin_start": 6.9,
            "bin_end": 8.2,
            "count": 0
           },
           {
            "bin_start": 8.2,
            "bin_end": 9.5,
            "count": 0
           },
           {
            "bin_start": 9.5,
            "bin_end": 10.8,
            "count": 0
           },
           {
            "bin_start": 10.8,
            "bin_end": 12.1,
            "count": 4
           },
           {
            "bin_start": 12.1,
            "bin_end": 13.4,
            "count": 2
           },
           {
            "bin_start": 13.4,
            "bin_end": 14.700000000000001,
            "count": 0
           },
           {
            "bin_start": 14.700000000000001,
            "bin_end": 16,
            "count": 12
           }
          ]
         }
        },
        {
         "name": "weight",
         "dtype": "float64",
         "stats": {
          "unique_count": 18,
          "nan_count": 0,
          "min": "3.878846011845212e-05",
          "max": "1.0",
          "histogram": [
           {
            "bin_start": 0.00003878846011845212,
            "bin_end": 0.10003490961410662,
            "count": 5
           },
           {
            "bin_start": 0.10003490961410662,
            "bin_end": 0.20003103076809478,
            "count": 2
           },
           {
            "bin_start": 0.20003103076809478,
            "bin_end": 0.30002715192208296,
            "count": 2
           },
           {
            "bin_start": 0.30002715192208296,
            "bin_end": 0.4000232730760711,
            "count": 2
           },
           {
            "bin_start": 0.4000232730760711,
            "bin_end": 0.5000193942300593,
            "count": 0
           },
           {
            "bin_start": 0.5000193942300593,
            "bin_end": 0.6000155153840474,
            "count": 1
           },
           {
            "bin_start": 0.6000155153840474,
            "bin_end": 0.7000116365380356,
            "count": 2
           },
           {
            "bin_start": 0.7000116365380356,
            "bin_end": 0.8000077576920237,
            "count": 1
           },
           {
            "bin_start": 0.8000077576920237,
            "bin_end": 0.9000038788460119,
            "count": 1
           },
           {
            "bin_start": 0.9000038788460119,
            "bin_end": 1,
            "count": 4
           }
          ]
         }
        },
        {
         "name": "_deepnote_index_column",
         "dtype": "int64"
        }
       ],
       "rows_top": [
        {
         "GEOID": 25017353101,
         "polygon_id": 15,
         "weight": 0.6618213620783852,
         "_deepnote_index_column": 0
        },
        {
         "GEOID": 25017353101,
         "polygon_id": 16,
         "weight": 0.3381786379216148,
         "_deepnote_index_column": 1
        },
        {
         "GEOID": 25017350103,
         "polygon_id": 15,
         "weight": 1,
         "_deepnote_index_column": 2
        },
        {
         "GEOID": 25017351404,
         "polygon_id": 15,
         "weight": 1,
         "_deepnote_index_column": 3
        },
        {
         "GEOID": 25017351203,
         "polygon_id": 15,
         "weight": 0.988707590119244,
         "_deepnote_index_column": 4
        },
        {
         "GEOID": 25017351203,
         "polygon_id": 16,
         "weight": 0.0086983124007638,
         "_deepnote_index_column": 5
        },
        {
         "GEOID": 25017351203,
         "polygon_id": 12,
         "weight": 0.0025940974799921,
         "_deepnote_index_column": 6
        },
        {
         "GEOID": 25017353000,
         "polygon_id": 15,
         "weight": 0.1687386918287986,
         "_deepnote_index_column": 7
        },
        {
         "GEOID": 25017353000,
         "polygon_id": 16,
         "weight": 0.2900029839399983,
         "_deepnote_index_column": 8
        },
        {
         "GEOID": 25017353000,
         "polygon_id": 12,
         "weight": 0.5412583242312029,
         "_deepnote_index_column": 9
        },
        {
         "GEOID": 25017353200,
         "polygon_id": 15,
         "weight": 0.820468102029393,
         "_deepnote_index_column": 10
        },
        {
         "GEOID": 25017353200,
         "polygon_id": 13,
         "weight": 0.179531897970607,
         "_deepnote_index_column": 11
        },
        {
         "GEOID": 25017353300,
         "polygon_id": 15,
         "weight": 0.7607471755746956,
         "_deepnote_index_column": 12
        },
        {
         "GEOID": 25017353300,
         "polygon_id": 13,
         "weight": 0.2392528244253043,
         "_deepnote_index_column": 13
        },
        {
         "GEOID": 25017353500,
         "polygon_id": 15,
         "weight": 1,
         "_deepnote_index_column": 14
        },
        {
         "GEOID": 25017353600,
         "polygon_id": 15,
         "weight": 0.0220973703072177,
         "_deepnote_index_column": 15
        },
        {
         "GEOID": 25017353600,
         "polygon_id": 12,
         "weight": 0.023842153761779,
         "_deepnote_index_column": 16
        },
        {
         "GEOID": 25017353600,
         "polygon_id": 3,
         "weight": 0.3209594161913534,
         "_deepnote_index_column": 17
        },
        {
         "GEOID": 25017353600,
         "polygon_id": 4,
         "weight": 0.00003878846011845212,
         "_deepnote_index_column": 18
        },
        {
         "GEOID": 25017353600,
         "polygon_id": 11,
         "weight": 0.6330622712795315,
         "_deepnote_index_column": 19
        }
       ],
       "rows_bottom": null
      },
      "text/plain": "          GEOID  polygon_id    weight\n0   25017353101          15  0.661821\n1   25017353101          16  0.338179\n2   25017350103          15  1.000000\n3   25017351404          15  1.000000\n4   25017351203          15  0.988708\n5   25017351203          16  0.008698\n6   25017351203          12  0.002594\n7   25017353000          15  0.168739\n8   25017353000          16  0.290003\n9   25017353000          12  0.541258\n10  25017353200          15  0.820468\n11  25017353200          13  0.179532\n12  25017353300          15  0.760747\n13  25017353300          13  0.239253\n14  25017353500          15  1.000000\n15  25017353600          15  0.022097\n16  25017353600          12  0.023842\n17  25017353600           3  0.320959\n18  25017353600           4  0.000039\n19  25017353600          11  0.633062",
      "text/html": "<div>\n<style scoped>\n    .dataframe tbody tr th:only-of-type {\n        vertical-align: middle;\n    }\n\n    .dataframe tbody tr th {\n        vertical-align: top;\n    }\n\n    .dataframe thead th {\n        text-align: right;\n    }\n</style>\n<table border=\"1\" class=\"dataframe\">\n  <thead>\n    <tr style=\"text-align: right;\">\n      <th></th>\n      <th>GEOID</th>\n      <th>polygon_id</th>\n      <th>weight</th>\n    </tr>\n  </thead>\n  <tbody>\n    <tr>\n      <th>0</th>\n      <td>25017353101</td>\n      <td>15</td>\n      <td>0.661821</td>\n    </tr>\n    <tr>\n      <th>1</th>\n      <td>25017353101</td>\n      <td>16</td>\n      <td>0.338179</td>\n    </tr>\n    <tr>\n      <th>2</th>\n      <td>25017350103</td>\n      <td>15</td>\n      <td>1.000000</td>\n    </tr>\n    <tr>\n      <th>3</th>\n      <td>25017351404</td>\n      <td>15</td>\n      <td>1.000000</td>\n    </tr>\n    <tr>\n      <th>4</th>\n      <td>25017351203</td>\n      <td>15</td>\n      <td>0.988708</td>\n    </tr>\n    <tr>\n      <th>5</th>\n      <td>25017351203</td>\n      <td>16</td>\n      <td>0.008698</td>\n    </tr>\n    <tr>\n      <th>6</th>\n      <td>25017351203</td>\n      <td>12</td>\n      <td>0.002594</td>\n    </tr>\n    <tr>\n      <th>7</th>\n      <td>25017353000</td>\n      <td>15</td>\n      <td>0.168739</td>\n    </tr>\n    <tr>\n      <th>8</th>\n      <td>25017353000</td>\n      <td>16</td>\n      <td>0.290003</td>\n    </tr>\n    <tr>\n      <th>9</th>\n      <td>25017353000</td>\n      <td>12</td>\n      <td>0.541258</td>\n    </tr>\n    <tr>\n      <th>10</th>\n      <td>25017353200</td>\n      <td>15</td>\n      <td>0.820468</td>\n    </tr>\n    <tr>\n      <th>11</th>\n      <td>25017353200</td>\n      <td>13</td>\n      <td>0.179532</td>\n    </tr>\n    <tr>\n      <th>12</th>\n      <td>25017353300</td>\n      <td>15</td>\n      <td>0.760747</td>\n    </tr>\n    <tr>\n      <th>13</th>\n      <td>25017353300</td>\n      <td>13</td>\n      <td>0.239253</td>\n    </tr>\n    <tr>\n      <th>14</th>\n      <td>25017353500</td>\n      <td>15</td>\n      <td>1.000000</td>\n    </tr>\n    <tr>\n      <th>15</th>\n      <td>25017353600</td>\n      <td>15</td>\n      <td>0.022097</td>\n    </tr>\n    <tr>\n      <th>16</th>\n      <td>25017353600</td>\n      <td>12</td>\n      <td>0.023842</td>\n    </tr>\n    <tr>\n      <th>17</th>\n      <td>25017353600</td>\n      <td>3</td>\n      <td>0.320959</td>\n    </tr>\n    <tr>\n      <th>18</th>\n      <td>25017353600</td>\n      <td>4</td>\n      <td>0.000039</td>\n    </tr>\n    <tr>\n      <th>19</th>\n      <td>25017353600</td>\n      <td>11</td>\n      <td>0.633062</td>\n    </tr>\n  </tbody>\n</table>\n</div>"
     },
     "metadata": {}
    }
   ],
   "execution_count": null
  },
  {
   "cell_type": "code",
   "metadata": {
    "tags": [],
    "cell_id": "00009-52a232e5-d2a3-4c54-85f4-f0367a7b3ae7",
    "deepnote_cell_type": "code"
   },
   "source": "import shutil\nshutil.move(\"/work/COVIDRedlining/spatial_outlining.ipynb\", \"/work/COVIDRedlining/Geoprocessing/spatial_outlining.ipynb\")",
   "execution_count": null,
   "outputs": []
  },
  {
   "cell_type": "markdown",
   "source": "<a style='text-decoration:none;line-height:16px;display:flex;color:#5B5B62;padding:10px;justify-content:end;' href='https://deepnote.com?utm_source=created-in-deepnote-cell&projectId=c9a4f701-31a5-4164-b3f3-c09cddf1309e' target=\"_blank\">\n<img alt='Created in deepnote.com' style='display:inline;max-height:16px;margin:0px;margin-right:7.5px;' src='data:image/svg+xml;base64,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' > </img>\nCreated in <span style='font-weight:600;margin-left:4px;'>Deepnote</span></a>",
   "metadata": {
    "tags": [],
    "created_in_deepnote_cell": true,
    "deepnote_cell_type": "markdown"
   }
  }
 ],
 "nbformat": 4,
 "nbformat_minor": 2,
 "metadata": {
  "orig_nbformat": 2,
  "deepnote_notebook_id": "be11fadd-4951-43af-9d08-2d11486256d2",
  "deepnote_execution_queue": [],
  "deepnote": {}
 }
}