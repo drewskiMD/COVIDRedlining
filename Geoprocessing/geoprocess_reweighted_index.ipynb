{
 "cells": [
  {
   "cell_type": "markdown",
   "source": "## Author: Akash",
   "metadata": {
    "tags": [],
    "cell_id": "00000-e86d3a94-737b-43dd-a353-61adc106e001",
    "deepnote_cell_type": "markdown"
   }
  },
  {
   "cell_type": "markdown",
   "source": "### Creating Reweighted Redlining Index and merging with ACS Census Tracts",
   "metadata": {
    "tags": [],
    "cell_id": "00001-555a1f02-88ed-43cd-b44a-96fdb47092f2",
    "deepnote_cell_type": "markdown"
   }
  },
  {
   "cell_type": "markdown",
   "source": "Data Source: Redlining and Census Tract Intersection files for each city extracted using the spatial outlining step",
   "metadata": {
    "tags": [],
    "cell_id": "00002-b4fbf98c-647e-4421-a3d4-14ddb5df8365",
    "deepnote_cell_type": "markdown"
   }
  },
  {
   "cell_type": "code",
   "metadata": {
    "tags": [],
    "output_cleared": false,
    "source_hash": "363aa712",
    "execution_millis": 119,
    "cell_id": "00003-71f5aa43-94d3-408a-881a-7912ad12e80b",
    "deepnote_to_be_reexecuted": false,
    "execution_start": 1620832496146,
    "deepnote_cell_type": "code"
   },
   "source": "# Importing needed libraries\nimport pandas as pd\nimport geopandas as gpd",
   "outputs": [
    {
     "name": "stderr",
     "text": "/home/jovyan/venv/lib/python3.7/site-packages/geopandas/_compat.py:110: UserWarning: The Shapely GEOS version (3.8.0-CAPI-1.13.1 ) is incompatible with the GEOS version PyGEOS was compiled with (3.9.0-CAPI-1.16.2). Conversions between both will be slow.\n  shapely_geos_version, geos_capi_version_string\n",
     "output_type": "stream"
    }
   ],
   "execution_count": null
  },
  {
   "cell_type": "code",
   "metadata": {
    "tags": [],
    "output_cleared": false,
    "source_hash": "38d164bf",
    "execution_millis": 34,
    "cell_id": "00004-b174296d-f9a2-4a01-ab85-d588157ff2ef",
    "deepnote_to_be_reexecuted": false,
    "execution_start": 1620832502862,
    "deepnote_cell_type": "code"
   },
   "source": "#Load the spatial intersection file generated using spatial outlining notebook\nintersection = pd.read_csv('/home/jovyan/work/COVIDRedlining/data/boston/cambridge_redline_intersection.csv')\nintersection.head()",
   "outputs": [
    {
     "output_type": "execute_result",
     "execution_count": 2,
     "data": {
      "application/vnd.deepnote.dataframe.v2+json": {
       "row_count": 5,
       "column_count": 3,
       "columns": [
        {
         "name": "GEOID",
         "dtype": "int64",
         "stats": {
          "unique_count": 4,
          "nan_count": 0,
          "min": "25017350103",
          "max": "25017353101",
          "histogram": [
           {
            "bin_start": 25017350103,
            "bin_end": 25017350402.8,
            "count": 1
           },
           {
            "bin_start": 25017350402.8,
            "bin_end": 25017350702.6,
            "count": 0
           },
           {
            "bin_start": 25017350702.6,
            "bin_end": 25017351002.4,
            "count": 0
           },
           {
            "bin_start": 25017351002.4,
            "bin_end": 25017351302.2,
            "count": 1
           },
           {
            "bin_start": 25017351302.2,
            "bin_end": 25017351602,
            "count": 1
           },
           {
            "bin_start": 25017351602,
            "bin_end": 25017351901.8,
            "count": 0
           },
           {
            "bin_start": 25017351901.8,
            "bin_end": 25017352201.6,
            "count": 0
           },
           {
            "bin_start": 25017352201.6,
            "bin_end": 25017352501.4,
            "count": 0
           },
           {
            "bin_start": 25017352501.4,
            "bin_end": 25017352801.2,
            "count": 0
           },
           {
            "bin_start": 25017352801.2,
            "bin_end": 25017353101,
            "count": 2
           }
          ]
         }
        },
        {
         "name": "polygon_id",
         "dtype": "int64",
         "stats": {
          "unique_count": 2,
          "nan_count": 0,
          "min": "15",
          "max": "16",
          "histogram": [
           {
            "bin_start": 15,
            "bin_end": 15.1,
            "count": 4
           },
           {
            "bin_start": 15.1,
            "bin_end": 15.2,
            "count": 0
           },
           {
            "bin_start": 15.2,
            "bin_end": 15.3,
            "count": 0
           },
           {
            "bin_start": 15.3,
            "bin_end": 15.4,
            "count": 0
           },
           {
            "bin_start": 15.4,
            "bin_end": 15.5,
            "count": 0
           },
           {
            "bin_start": 15.5,
            "bin_end": 15.6,
            "count": 0
           },
           {
            "bin_start": 15.6,
            "bin_end": 15.7,
            "count": 0
           },
           {
            "bin_start": 15.7,
            "bin_end": 15.8,
            "count": 0
           },
           {
            "bin_start": 15.8,
            "bin_end": 15.9,
            "count": 0
           },
           {
            "bin_start": 15.9,
            "bin_end": 16,
            "count": 1
           }
          ]
         }
        },
        {
         "name": "weight",
         "dtype": "float64",
         "stats": {
          "unique_count": 4,
          "nan_count": 0,
          "min": "0.3381786379216148",
          "max": "1.0",
          "histogram": [
           {
            "bin_start": 0.3381786379216148,
            "bin_end": 0.4043607741294533,
            "count": 1
           },
           {
            "bin_start": 0.4043607741294533,
            "bin_end": 0.47054291033729184,
            "count": 0
           },
           {
            "bin_start": 0.47054291033729184,
            "bin_end": 0.5367250465451303,
            "count": 0
           },
           {
            "bin_start": 0.5367250465451303,
            "bin_end": 0.6029071827529688,
            "count": 0
           },
           {
            "bin_start": 0.6029071827529688,
            "bin_end": 0.6690893189608074,
            "count": 1
           },
           {
            "bin_start": 0.6690893189608074,
            "bin_end": 0.7352714551686459,
            "count": 0
           },
           {
            "bin_start": 0.7352714551686459,
            "bin_end": 0.8014535913764844,
            "count": 0
           },
           {
            "bin_start": 0.8014535913764844,
            "bin_end": 0.867635727584323,
            "count": 0
           },
           {
            "bin_start": 0.867635727584323,
            "bin_end": 0.9338178637921615,
            "count": 0
           },
           {
            "bin_start": 0.9338178637921615,
            "bin_end": 1,
            "count": 3
           }
          ]
         }
        },
        {
         "name": "_deepnote_index_column",
         "dtype": "int64"
        }
       ],
       "rows_top": [
        {
         "GEOID": 25017353101,
         "polygon_id": 15,
         "weight": 0.6618213620783852,
         "_deepnote_index_column": 0
        },
        {
         "GEOID": 25017353101,
         "polygon_id": 16,
         "weight": 0.3381786379216148,
         "_deepnote_index_column": 1
        },
        {
         "GEOID": 25017350103,
         "polygon_id": 15,
         "weight": 1,
         "_deepnote_index_column": 2
        },
        {
         "GEOID": 25017351404,
         "polygon_id": 15,
         "weight": 1,
         "_deepnote_index_column": 3
        },
        {
         "GEOID": 25017351203,
         "polygon_id": 15,
         "weight": 0.988707590119244,
         "_deepnote_index_column": 4
        }
       ],
       "rows_bottom": null
      },
      "text/plain": "         GEOID  polygon_id    weight\n0  25017353101          15  0.661821\n1  25017353101          16  0.338179\n2  25017350103          15  1.000000\n3  25017351404          15  1.000000\n4  25017351203          15  0.988708",
      "text/html": "<div>\n<style scoped>\n    .dataframe tbody tr th:only-of-type {\n        vertical-align: middle;\n    }\n\n    .dataframe tbody tr th {\n        vertical-align: top;\n    }\n\n    .dataframe thead th {\n        text-align: right;\n    }\n</style>\n<table border=\"1\" class=\"dataframe\">\n  <thead>\n    <tr style=\"text-align: right;\">\n      <th></th>\n      <th>GEOID</th>\n      <th>polygon_id</th>\n      <th>weight</th>\n    </tr>\n  </thead>\n  <tbody>\n    <tr>\n      <th>0</th>\n      <td>25017353101</td>\n      <td>15</td>\n      <td>0.661821</td>\n    </tr>\n    <tr>\n      <th>1</th>\n      <td>25017353101</td>\n      <td>16</td>\n      <td>0.338179</td>\n    </tr>\n    <tr>\n      <th>2</th>\n      <td>25017350103</td>\n      <td>15</td>\n      <td>1.000000</td>\n    </tr>\n    <tr>\n      <th>3</th>\n      <td>25017351404</td>\n      <td>15</td>\n      <td>1.000000</td>\n    </tr>\n    <tr>\n      <th>4</th>\n      <td>25017351203</td>\n      <td>15</td>\n      <td>0.988708</td>\n    </tr>\n  </tbody>\n</table>\n</div>"
     },
     "metadata": {}
    }
   ],
   "execution_count": null
  },
  {
   "cell_type": "code",
   "metadata": {
    "tags": [],
    "output_cleared": false,
    "source_hash": "da12ab93",
    "execution_millis": 108,
    "cell_id": "00005-a908ff8c-e06a-4047-afb5-2764b3d56b53",
    "deepnote_to_be_reexecuted": false,
    "execution_start": 1620832591943,
    "deepnote_cell_type": "code"
   },
   "source": "#Load the Redlining Shapefile\nredline = gpd.read_file('/work/COVIDRedlining/data/boston/boston redlining/cambridge_redlining.geojson')\nredline.columns",
   "outputs": [
    {
     "output_type": "execute_result",
     "execution_count": 7,
     "data": {
      "text/plain": "Index(['name', 'holc_id', 'holc_grade', 'polygon_id', 'geometry'], dtype='object')"
     },
     "metadata": {}
    }
   ],
   "execution_count": null
  },
  {
   "cell_type": "code",
   "metadata": {
    "tags": [],
    "output_cleared": false,
    "source_hash": "cdff2223",
    "execution_millis": 6,
    "cell_id": "00006-de918024-0c8d-4ce5-8e46-12a1b7b1307e",
    "deepnote_to_be_reexecuted": false,
    "execution_start": 1620832596825,
    "deepnote_cell_type": "code"
   },
   "source": "#Visualise value counts for each HOLC grade obtained from the Redlining Shapefile\nredline['holc_grade'].value_counts()",
   "outputs": [
    {
     "output_type": "execute_result",
     "execution_count": 8,
     "data": {
      "text/plain": "B    7\nC    6\nD    2\nA    1\nName: holc_grade, dtype: int64"
     },
     "metadata": {}
    }
   ],
   "execution_count": null
  },
  {
   "cell_type": "code",
   "metadata": {
    "tags": [],
    "output_cleared": false,
    "source_hash": "11e057a5",
    "execution_millis": 1,
    "cell_id": "00007-31c6e3ee-25c5-48be-a6e7-497b99a18732",
    "deepnote_to_be_reexecuted": false,
    "execution_start": 1620832600187,
    "deepnote_cell_type": "code"
   },
   "source": "#Convert HOLC Grade to Ordinal Values\ndef numerical_redlining_value(row):\n    if row['holc_grade'] == 'A':\n      val = 1\n    elif row['holc_grade'] == 'B':\n      val = 2\n    elif row['holc_grade'] == 'C':\n      val = 3\n    elif row['holc_grade'] == 'D':\n      val = 4\n    elif row['holc_grade'] == 'E':\n      val = 5\n    else:\n      val = 0\n\n    return val\n\n#Assign ordinal values to a new column\nredline['numerical_grade'] = redline.apply(numerical_redlining_value, axis=1)",
   "outputs": [],
   "execution_count": null
  },
  {
   "cell_type": "code",
   "metadata": {
    "tags": [],
    "output_cleared": false,
    "source_hash": "2c566431",
    "execution_millis": 12,
    "cell_id": "00008-933db690-b4d4-4c48-8193-b9a2690f03c9",
    "deepnote_to_be_reexecuted": false,
    "execution_start": 1620832611635,
    "deepnote_cell_type": "code"
   },
   "source": "#Merge intersection shapefile with redline shapefile\noutput_combined=pd.merge(redline, intersection, how='left', on='polygon_id')\noutput_combined.shape",
   "outputs": [
    {
     "output_type": "execute_result",
     "execution_count": 11,
     "data": {
      "text/plain": "(89, 8)"
     },
     "metadata": {}
    }
   ],
   "execution_count": null
  },
  {
   "cell_type": "code",
   "metadata": {
    "tags": [],
    "output_cleared": false,
    "source_hash": "6dff9f02",
    "execution_millis": 6,
    "cell_id": "00009-f5a48592-c73a-49ea-b4df-dff2d4d421c3",
    "deepnote_to_be_reexecuted": false,
    "execution_start": 1620832617695,
    "deepnote_cell_type": "code"
   },
   "source": "#Viewing the shape of the data\noutput_combined.shape",
   "outputs": [
    {
     "output_type": "execute_result",
     "execution_count": 12,
     "data": {
      "text/plain": "(89, 8)"
     },
     "metadata": {}
    }
   ],
   "execution_count": null
  },
  {
   "cell_type": "code",
   "metadata": {
    "tags": [],
    "output_cleared": false,
    "source_hash": "5ef518c8",
    "execution_millis": 81,
    "cell_id": "00010-17a08ba7-c4fe-488c-aeab-3bc7bdbab6dd",
    "deepnote_to_be_reexecuted": false,
    "execution_start": 1620832622681,
    "deepnote_cell_type": "code"
   },
   "source": "#Check if rows are NA - some polygons have NULL IDs \noutput_combined[output_combined['polygon_id'].isna()]",
   "outputs": [
    {
     "output_type": "execute_result",
     "execution_count": 13,
     "data": {
      "application/vnd.deepnote.dataframe.v2+json": {
       "row_count": 0,
       "column_count": 8,
       "columns": [
        {
         "name": "name",
         "dtype": "object",
         "stats": {
          "unique_count": 0,
          "nan_count": 0,
          "categories": []
         }
        },
        {
         "name": "holc_id",
         "dtype": "object",
         "stats": {
          "unique_count": 0,
          "nan_count": 0,
          "categories": []
         }
        },
        {
         "name": "holc_grade",
         "dtype": "object",
         "stats": {
          "unique_count": 0,
          "nan_count": 0,
          "categories": []
         }
        },
        {
         "name": "polygon_id",
         "dtype": "int64",
         "stats": {
          "unique_count": 0,
          "nan_count": 0,
          "min": null,
          "max": null,
          "histogram": [
           {
            "bin_start": 0,
            "bin_end": 0.1,
            "count": 0
           },
           {
            "bin_start": 0.1,
            "bin_end": 0.2,
            "count": 0
           },
           {
            "bin_start": 0.2,
            "bin_end": 0.30000000000000004,
            "count": 0
           },
           {
            "bin_start": 0.30000000000000004,
            "bin_end": 0.4,
            "count": 0
           },
           {
            "bin_start": 0.4,
            "bin_end": 0.5,
            "count": 0
           },
           {
            "bin_start": 0.5,
            "bin_end": 0.6000000000000001,
            "count": 0
           },
           {
            "bin_start": 0.6000000000000001,
            "bin_end": 0.7000000000000001,
            "count": 0
           },
           {
            "bin_start": 0.7000000000000001,
            "bin_end": 0.8,
            "count": 0
           },
           {
            "bin_start": 0.8,
            "bin_end": 0.9,
            "count": 0
           },
           {
            "bin_start": 0.9,
            "bin_end": 1,
            "count": 0
           }
          ]
         }
        },
        {
         "name": "geometry",
         "dtype": "geometry",
         "stats": {
          "unique_count": 0,
          "nan_count": 0,
          "categories": []
         }
        },
        {
         "name": "numerical_grade",
         "dtype": "int64",
         "stats": {
          "unique_count": 0,
          "nan_count": 0,
          "min": null,
          "max": null,
          "histogram": [
           {
            "bin_start": 0,
            "bin_end": 0.1,
            "count": 0
           },
           {
            "bin_start": 0.1,
            "bin_end": 0.2,
            "count": 0
           },
           {
            "bin_start": 0.2,
            "bin_end": 0.30000000000000004,
            "count": 0
           },
           {
            "bin_start": 0.30000000000000004,
            "bin_end": 0.4,
            "count": 0
           },
           {
            "bin_start": 0.4,
            "bin_end": 0.5,
            "count": 0
           },
           {
            "bin_start": 0.5,
            "bin_end": 0.6000000000000001,
            "count": 0
           },
           {
            "bin_start": 0.6000000000000001,
            "bin_end": 0.7000000000000001,
            "count": 0
           },
           {
            "bin_start": 0.7000000000000001,
            "bin_end": 0.8,
            "count": 0
           },
           {
            "bin_start": 0.8,
            "bin_end": 0.9,
            "count": 0
           },
           {
            "bin_start": 0.9,
            "bin_end": 1,
            "count": 0
           }
          ]
         }
        },
        {
         "name": "GEOID",
         "dtype": "int64",
         "stats": {
          "unique_count": 0,
          "nan_count": 0,
          "min": null,
          "max": null,
          "histogram": [
           {
            "bin_start": 0,
            "bin_end": 0.1,
            "count": 0
           },
           {
            "bin_start": 0.1,
            "bin_end": 0.2,
            "count": 0
           },
           {
            "bin_start": 0.2,
            "bin_end": 0.30000000000000004,
            "count": 0
           },
           {
            "bin_start": 0.30000000000000004,
            "bin_end": 0.4,
            "count": 0
           },
           {
            "bin_start": 0.4,
            "bin_end": 0.5,
            "count": 0
           },
           {
            "bin_start": 0.5,
            "bin_end": 0.6000000000000001,
            "count": 0
           },
           {
            "bin_start": 0.6000000000000001,
            "bin_end": 0.7000000000000001,
            "count": 0
           },
           {
            "bin_start": 0.7000000000000001,
            "bin_end": 0.8,
            "count": 0
           },
           {
            "bin_start": 0.8,
            "bin_end": 0.9,
            "count": 0
           },
           {
            "bin_start": 0.9,
            "bin_end": 1,
            "count": 0
           }
          ]
         }
        },
        {
         "name": "weight",
         "dtype": "float64",
         "stats": {
          "unique_count": 0,
          "nan_count": 0,
          "min": null,
          "max": null,
          "histogram": [
           {
            "bin_start": 0,
            "bin_end": 0.1,
            "count": 0
           },
           {
            "bin_start": 0.1,
            "bin_end": 0.2,
            "count": 0
           },
           {
            "bin_start": 0.2,
            "bin_end": 0.30000000000000004,
            "count": 0
           },
           {
            "bin_start": 0.30000000000000004,
            "bin_end": 0.4,
            "count": 0
           },
           {
            "bin_start": 0.4,
            "bin_end": 0.5,
            "count": 0
           },
           {
            "bin_start": 0.5,
            "bin_end": 0.6000000000000001,
            "count": 0
           },
           {
            "bin_start": 0.6000000000000001,
            "bin_end": 0.7000000000000001,
            "count": 0
           },
           {
            "bin_start": 0.7000000000000001,
            "bin_end": 0.8,
            "count": 0
           },
           {
            "bin_start": 0.8,
            "bin_end": 0.9,
            "count": 0
           },
           {
            "bin_start": 0.9,
            "bin_end": 1,
            "count": 0
           }
          ]
         }
        },
        {
         "name": "_deepnote_index_column",
         "dtype": "int64"
        }
       ],
       "rows_top": [],
       "rows_bottom": null
      },
      "text/plain": "Empty GeoDataFrame\nColumns: [name, holc_id, holc_grade, polygon_id, geometry, numerical_grade, GEOID, weight]\nIndex: []",
      "text/html": "<div>\n<style scoped>\n    .dataframe tbody tr th:only-of-type {\n        vertical-align: middle;\n    }\n\n    .dataframe tbody tr th {\n        vertical-align: top;\n    }\n\n    .dataframe thead th {\n        text-align: right;\n    }\n</style>\n<table border=\"1\" class=\"dataframe\">\n  <thead>\n    <tr style=\"text-align: right;\">\n      <th></th>\n      <th>name</th>\n      <th>holc_id</th>\n      <th>holc_grade</th>\n      <th>polygon_id</th>\n      <th>geometry</th>\n      <th>numerical_grade</th>\n      <th>GEOID</th>\n      <th>weight</th>\n    </tr>\n  </thead>\n  <tbody>\n  </tbody>\n</table>\n</div>"
     },
     "metadata": {}
    }
   ],
   "execution_count": null
  },
  {
   "cell_type": "code",
   "metadata": {
    "tags": [],
    "output_cleared": false,
    "source_hash": "bdcd2519",
    "execution_millis": 32,
    "cell_id": "00011-8daea5a8-cebf-42c6-ad8d-d285e4339e7e",
    "deepnote_to_be_reexecuted": false,
    "execution_start": 1620832628609,
    "deepnote_cell_type": "code"
   },
   "source": "#Removing polygon_ids with NA/NULL values (Check if polygons have corresponding GEOIDs before deleteing)\noutput_combined = output_combined[output_combined['polygon_id'].notna()]\noutput_combined.shape",
   "outputs": [
    {
     "output_type": "execute_result",
     "execution_count": 14,
     "data": {
      "text/plain": "(89, 8)"
     },
     "metadata": {}
    }
   ],
   "execution_count": null
  },
  {
   "cell_type": "code",
   "metadata": {
    "tags": [],
    "output_cleared": false,
    "source_hash": "5e009754",
    "execution_millis": 30,
    "cell_id": "00012-0fc1e2d6-4978-437d-a5d6-09bc31751745",
    "deepnote_to_be_reexecuted": false,
    "execution_start": 1620832668822,
    "deepnote_cell_type": "code"
   },
   "source": "#Subsetting redline numerical index and spatial weights\nredline_index = output_combined[['GEOID','polygon_id','numerical_grade','weight']]\nredline_index[redline_index['GEOID']==25017353101]",
   "outputs": [
    {
     "output_type": "execute_result",
     "execution_count": 16,
     "data": {
      "application/vnd.deepnote.dataframe.v2+json": {
       "row_count": 2,
       "column_count": 4,
       "columns": [
        {
         "name": "GEOID",
         "dtype": "int64",
         "stats": {
          "unique_count": 1,
          "nan_count": 0,
          "min": "25017353101",
          "max": "25017353101",
          "histogram": [
           {
            "bin_start": 25017353100.5,
            "bin_end": 25017353100.6,
            "count": 0
           },
           {
            "bin_start": 25017353100.6,
            "bin_end": 25017353100.7,
            "count": 0
           },
           {
            "bin_start": 25017353100.7,
            "bin_end": 25017353100.8,
            "count": 0
           },
           {
            "bin_start": 25017353100.8,
            "bin_end": 25017353100.9,
            "count": 0
           },
           {
            "bin_start": 25017353100.9,
            "bin_end": 25017353101,
            "count": 0
           },
           {
            "bin_start": 25017353101,
            "bin_end": 25017353101.1,
            "count": 2
           },
           {
            "bin_start": 25017353101.1,
            "bin_end": 25017353101.2,
            "count": 0
           },
           {
            "bin_start": 25017353101.2,
            "bin_end": 25017353101.3,
            "count": 0
           },
           {
            "bin_start": 25017353101.3,
            "bin_end": 25017353101.4,
            "count": 0
           },
           {
            "bin_start": 25017353101.4,
            "bin_end": 25017353101.5,
            "count": 0
           }
          ]
         }
        },
        {
         "name": "polygon_id",
         "dtype": "int64",
         "stats": {
          "unique_count": 2,
          "nan_count": 0,
          "min": "15",
          "max": "16",
          "histogram": [
           {
            "bin_start": 15,
            "bin_end": 15.1,
            "count": 1
           },
           {
            "bin_start": 15.1,
            "bin_end": 15.2,
            "count": 0
           },
           {
            "bin_start": 15.2,
            "bin_end": 15.3,
            "count": 0
           },
           {
            "bin_start": 15.3,
            "bin_end": 15.4,
            "count": 0
           },
           {
            "bin_start": 15.4,
            "bin_end": 15.5,
            "count": 0
           },
           {
            "bin_start": 15.5,
            "bin_end": 15.6,
            "count": 0
           },
           {
            "bin_start": 15.6,
            "bin_end": 15.7,
            "count": 0
           },
           {
            "bin_start": 15.7,
            "bin_end": 15.8,
            "count": 0
           },
           {
            "bin_start": 15.8,
            "bin_end": 15.9,
            "count": 0
           },
           {
            "bin_start": 15.9,
            "bin_end": 16,
            "count": 1
           }
          ]
         }
        },
        {
         "name": "numerical_grade",
         "dtype": "int64",
         "stats": {
          "unique_count": 1,
          "nan_count": 0,
          "min": "4",
          "max": "4",
          "histogram": [
           {
            "bin_start": 3.5,
            "bin_end": 3.6,
            "count": 0
           },
           {
            "bin_start": 3.6,
            "bin_end": 3.7,
            "count": 0
           },
           {
            "bin_start": 3.7,
            "bin_end": 3.8,
            "count": 0
           },
           {
            "bin_start": 3.8,
            "bin_end": 3.9,
            "count": 0
           },
           {
            "bin_start": 3.9,
            "bin_end": 4,
            "count": 0
           },
           {
            "bin_start": 4,
            "bin_end": 4.1,
            "count": 2
           },
           {
            "bin_start": 4.1,
            "bin_end": 4.2,
            "count": 0
           },
           {
            "bin_start": 4.2,
            "bin_end": 4.3,
            "count": 0
           },
           {
            "bin_start": 4.3,
            "bin_end": 4.4,
            "count": 0
           },
           {
            "bin_start": 4.4,
            "bin_end": 4.5,
            "count": 0
           }
          ]
         }
        },
        {
         "name": "weight",
         "dtype": "float64",
         "stats": {
          "unique_count": 2,
          "nan_count": 0,
          "min": "0.3381786379216148",
          "max": "0.6618213620783852",
          "histogram": [
           {
            "bin_start": 0.3381786379216148,
            "bin_end": 0.3705429103372918,
            "count": 1
           },
           {
            "bin_start": 0.3705429103372918,
            "bin_end": 0.4029071827529689,
            "count": 0
           },
           {
            "bin_start": 0.4029071827529689,
            "bin_end": 0.4352714551686459,
            "count": 0
           },
           {
            "bin_start": 0.4352714551686459,
            "bin_end": 0.4676357275843229,
            "count": 0
           },
           {
            "bin_start": 0.4676357275843229,
            "bin_end": 0.49999999999999994,
            "count": 0
           },
           {
            "bin_start": 0.49999999999999994,
            "bin_end": 0.532364272415677,
            "count": 0
           },
           {
            "bin_start": 0.532364272415677,
            "bin_end": 0.564728544831354,
            "count": 0
           },
           {
            "bin_start": 0.564728544831354,
            "bin_end": 0.5970928172470311,
            "count": 0
           },
           {
            "bin_start": 0.5970928172470311,
            "bin_end": 0.6294570896627081,
            "count": 0
           },
           {
            "bin_start": 0.6294570896627081,
            "bin_end": 0.6618213620783852,
            "count": 1
           }
          ]
         }
        },
        {
         "name": "_deepnote_index_column",
         "dtype": "int64"
        }
       ],
       "rows_top": [
        {
         "GEOID": 25017353101,
         "polygon_id": 15,
         "numerical_grade": 4,
         "weight": 0.6618213620783852,
         "_deepnote_index_column": 51
        },
        {
         "GEOID": 25017353101,
         "polygon_id": 16,
         "numerical_grade": 4,
         "weight": 0.3381786379216148,
         "_deepnote_index_column": 75
        }
       ],
       "rows_bottom": null
      },
      "text/plain": "          GEOID  polygon_id  numerical_grade    weight\n51  25017353101          15                4  0.661821\n75  25017353101          16                4  0.338179",
      "text/html": "<div>\n<style scoped>\n    .dataframe tbody tr th:only-of-type {\n        vertical-align: middle;\n    }\n\n    .dataframe tbody tr th {\n        vertical-align: top;\n    }\n\n    .dataframe thead th {\n        text-align: right;\n    }\n</style>\n<table border=\"1\" class=\"dataframe\">\n  <thead>\n    <tr style=\"text-align: right;\">\n      <th></th>\n      <th>GEOID</th>\n      <th>polygon_id</th>\n      <th>numerical_grade</th>\n      <th>weight</th>\n    </tr>\n  </thead>\n  <tbody>\n    <tr>\n      <th>51</th>\n      <td>25017353101</td>\n      <td>15</td>\n      <td>4</td>\n      <td>0.661821</td>\n    </tr>\n    <tr>\n      <th>75</th>\n      <td>25017353101</td>\n      <td>16</td>\n      <td>4</td>\n      <td>0.338179</td>\n    </tr>\n  </tbody>\n</table>\n</div>"
     },
     "metadata": {}
    }
   ],
   "execution_count": null
  },
  {
   "cell_type": "code",
   "metadata": {
    "tags": [],
    "output_cleared": false,
    "source_hash": "82ef1049",
    "execution_millis": 35,
    "cell_id": "00013-7768c42f-0263-498c-b1cf-19e15ae8ba30",
    "deepnote_to_be_reexecuted": false,
    "execution_start": 1620832675726,
    "deepnote_cell_type": "code"
   },
   "source": "#Reweighting the redlining numerical index\nredline_index['reweighted_redline_index'] = redline_index['numerical_grade'] * redline_index['weight']\nredline_index[redline_index['GEOID']==25017353101]",
   "outputs": [
    {
     "name": "stderr",
     "text": "/shared-libs/python3.7/py-core/lib/python3.7/site-packages/ipykernel_launcher.py:2: SettingWithCopyWarning: \nA value is trying to be set on a copy of a slice from a DataFrame.\nTry using .loc[row_indexer,col_indexer] = value instead\n\nSee the caveats in the documentation: https://pandas.pydata.org/pandas-docs/stable/user_guide/indexing.html#returning-a-view-versus-a-copy\n  \n",
     "output_type": "stream"
    },
    {
     "output_type": "execute_result",
     "execution_count": 17,
     "data": {
      "application/vnd.deepnote.dataframe.v2+json": {
       "row_count": 2,
       "column_count": 5,
       "columns": [
        {
         "name": "GEOID",
         "dtype": "int64",
         "stats": {
          "unique_count": 1,
          "nan_count": 0,
          "min": "25017353101",
          "max": "25017353101",
          "histogram": [
           {
            "bin_start": 25017353100.5,
            "bin_end": 25017353100.6,
            "count": 0
           },
           {
            "bin_start": 25017353100.6,
            "bin_end": 25017353100.7,
            "count": 0
           },
           {
            "bin_start": 25017353100.7,
            "bin_end": 25017353100.8,
            "count": 0
           },
           {
            "bin_start": 25017353100.8,
            "bin_end": 25017353100.9,
            "count": 0
           },
           {
            "bin_start": 25017353100.9,
            "bin_end": 25017353101,
            "count": 0
           },
           {
            "bin_start": 25017353101,
            "bin_end": 25017353101.1,
            "count": 2
           },
           {
            "bin_start": 25017353101.1,
            "bin_end": 25017353101.2,
            "count": 0
           },
           {
            "bin_start": 25017353101.2,
            "bin_end": 25017353101.3,
            "count": 0
           },
           {
            "bin_start": 25017353101.3,
            "bin_end": 25017353101.4,
            "count": 0
           },
           {
            "bin_start": 25017353101.4,
            "bin_end": 25017353101.5,
            "count": 0
           }
          ]
         }
        },
        {
         "name": "polygon_id",
         "dtype": "int64",
         "stats": {
          "unique_count": 2,
          "nan_count": 0,
          "min": "15",
          "max": "16",
          "histogram": [
           {
            "bin_start": 15,
            "bin_end": 15.1,
            "count": 1
           },
           {
            "bin_start": 15.1,
            "bin_end": 15.2,
            "count": 0
           },
           {
            "bin_start": 15.2,
            "bin_end": 15.3,
            "count": 0
           },
           {
            "bin_start": 15.3,
            "bin_end": 15.4,
            "count": 0
           },
           {
            "bin_start": 15.4,
            "bin_end": 15.5,
            "count": 0
           },
           {
            "bin_start": 15.5,
            "bin_end": 15.6,
            "count": 0
           },
           {
            "bin_start": 15.6,
            "bin_end": 15.7,
            "count": 0
           },
           {
            "bin_start": 15.7,
            "bin_end": 15.8,
            "count": 0
           },
           {
            "bin_start": 15.8,
            "bin_end": 15.9,
            "count": 0
           },
           {
            "bin_start": 15.9,
            "bin_end": 16,
            "count": 1
           }
          ]
         }
        },
        {
         "name": "numerical_grade",
         "dtype": "int64",
         "stats": {
          "unique_count": 1,
          "nan_count": 0,
          "min": "4",
          "max": "4",
          "histogram": [
           {
            "bin_start": 3.5,
            "bin_end": 3.6,
            "count": 0
           },
           {
            "bin_start": 3.6,
            "bin_end": 3.7,
            "count": 0
           },
           {
            "bin_start": 3.7,
            "bin_end": 3.8,
            "count": 0
           },
           {
            "bin_start": 3.8,
            "bin_end": 3.9,
            "count": 0
           },
           {
            "bin_start": 3.9,
            "bin_end": 4,
            "count": 0
           },
           {
            "bin_start": 4,
            "bin_end": 4.1,
            "count": 2
           },
           {
            "bin_start": 4.1,
            "bin_end": 4.2,
            "count": 0
           },
           {
            "bin_start": 4.2,
            "bin_end": 4.3,
            "count": 0
           },
           {
            "bin_start": 4.3,
            "bin_end": 4.4,
            "count": 0
           },
           {
            "bin_start": 4.4,
            "bin_end": 4.5,
            "count": 0
           }
          ]
         }
        },
        {
         "name": "weight",
         "dtype": "float64",
         "stats": {
          "unique_count": 2,
          "nan_count": 0,
          "min": "0.3381786379216148",
          "max": "0.6618213620783852",
          "histogram": [
           {
            "bin_start": 0.3381786379216148,
            "bin_end": 0.3705429103372918,
            "count": 1
           },
           {
            "bin_start": 0.3705429103372918,
            "bin_end": 0.4029071827529689,
            "count": 0
           },
           {
            "bin_start": 0.4029071827529689,
            "bin_end": 0.4352714551686459,
            "count": 0
           },
           {
            "bin_start": 0.4352714551686459,
            "bin_end": 0.4676357275843229,
            "count": 0
           },
           {
            "bin_start": 0.4676357275843229,
            "bin_end": 0.49999999999999994,
            "count": 0
           },
           {
            "bin_start": 0.49999999999999994,
            "bin_end": 0.532364272415677,
            "count": 0
           },
           {
            "bin_start": 0.532364272415677,
            "bin_end": 0.564728544831354,
            "count": 0
           },
           {
            "bin_start": 0.564728544831354,
            "bin_end": 0.5970928172470311,
            "count": 0
           },
           {
            "bin_start": 0.5970928172470311,
            "bin_end": 0.6294570896627081,
            "count": 0
           },
           {
            "bin_start": 0.6294570896627081,
            "bin_end": 0.6618213620783852,
            "count": 1
           }
          ]
         }
        },
        {
         "name": "reweighted_redline_index",
         "dtype": "float64",
         "stats": {
          "unique_count": 2,
          "nan_count": 0,
          "min": "1.3527145516864592",
          "max": "2.6472854483135406",
          "histogram": [
           {
            "bin_start": 1.3527145516864592,
            "bin_end": 1.4821716413491672,
            "count": 1
           },
           {
            "bin_start": 1.4821716413491672,
            "bin_end": 1.6116287310118755,
            "count": 0
           },
           {
            "bin_start": 1.6116287310118755,
            "bin_end": 1.7410858206745836,
            "count": 0
           },
           {
            "bin_start": 1.7410858206745836,
            "bin_end": 1.8705429103372917,
            "count": 0
           },
           {
            "bin_start": 1.8705429103372917,
            "bin_end": 1.9999999999999998,
            "count": 0
           },
           {
            "bin_start": 1.9999999999999998,
            "bin_end": 2.129457089662708,
            "count": 0
           },
           {
            "bin_start": 2.129457089662708,
            "bin_end": 2.258914179325416,
            "count": 0
           },
           {
            "bin_start": 2.258914179325416,
            "bin_end": 2.3883712689881245,
            "count": 0
           },
           {
            "bin_start": 2.3883712689881245,
            "bin_end": 2.5178283586508323,
            "count": 0
           },
           {
            "bin_start": 2.5178283586508323,
            "bin_end": 2.6472854483135406,
            "count": 1
           }
          ]
         }
        },
        {
         "name": "_deepnote_index_column",
         "dtype": "int64"
        }
       ],
       "rows_top": [
        {
         "GEOID": 25017353101,
         "polygon_id": 15,
         "numerical_grade": 4,
         "weight": 0.6618213620783852,
         "reweighted_redline_index": 2.6472854483135406,
         "_deepnote_index_column": 51
        },
        {
         "GEOID": 25017353101,
         "polygon_id": 16,
         "numerical_grade": 4,
         "weight": 0.3381786379216148,
         "reweighted_redline_index": 1.3527145516864592,
         "_deepnote_index_column": 75
        }
       ],
       "rows_bottom": null
      },
      "text/plain": "          GEOID  polygon_id  numerical_grade    weight  \\\n51  25017353101          15                4  0.661821   \n75  25017353101          16                4  0.338179   \n\n    reweighted_redline_index  \n51                  2.647285  \n75                  1.352715  ",
      "text/html": "<div>\n<style scoped>\n    .dataframe tbody tr th:only-of-type {\n        vertical-align: middle;\n    }\n\n    .dataframe tbody tr th {\n        vertical-align: top;\n    }\n\n    .dataframe thead th {\n        text-align: right;\n    }\n</style>\n<table border=\"1\" class=\"dataframe\">\n  <thead>\n    <tr style=\"text-align: right;\">\n      <th></th>\n      <th>GEOID</th>\n      <th>polygon_id</th>\n      <th>numerical_grade</th>\n      <th>weight</th>\n      <th>reweighted_redline_index</th>\n    </tr>\n  </thead>\n  <tbody>\n    <tr>\n      <th>51</th>\n      <td>25017353101</td>\n      <td>15</td>\n      <td>4</td>\n      <td>0.661821</td>\n      <td>2.647285</td>\n    </tr>\n    <tr>\n      <th>75</th>\n      <td>25017353101</td>\n      <td>16</td>\n      <td>4</td>\n      <td>0.338179</td>\n      <td>1.352715</td>\n    </tr>\n  </tbody>\n</table>\n</div>"
     },
     "metadata": {}
    }
   ],
   "execution_count": null
  },
  {
   "cell_type": "code",
   "metadata": {
    "tags": [],
    "output_cleared": false,
    "source_hash": "adee68ea",
    "execution_millis": 25,
    "cell_id": "00014-39e74120-5281-45fa-bf8a-676653aca452",
    "deepnote_to_be_reexecuted": false,
    "execution_start": 1620832683613,
    "deepnote_cell_type": "code"
   },
   "source": "#Grouping reweighted redline index by GEOID\nredline_index_grouped = redline_index[['GEOID','reweighted_redline_index']].groupby('GEOID').sum()\nredline_index_grouped[redline_index_grouped.index==25017353101]",
   "outputs": [
    {
     "output_type": "execute_result",
     "execution_count": 18,
     "data": {
      "application/vnd.deepnote.dataframe.v2+json": {
       "row_count": 1,
       "column_count": 1,
       "columns": [
        {
         "name": "reweighted_redline_index",
         "dtype": "float64",
         "stats": {
          "unique_count": 1,
          "nan_count": 0,
          "min": "4.0",
          "max": "4.0",
          "histogram": [
           {
            "bin_start": 3.5,
            "bin_end": 3.6,
            "count": 0
           },
           {
            "bin_start": 3.6,
            "bin_end": 3.7,
            "count": 0
           },
           {
            "bin_start": 3.7,
            "bin_end": 3.8,
            "count": 0
           },
           {
            "bin_start": 3.8,
            "bin_end": 3.9,
            "count": 0
           },
           {
            "bin_start": 3.9,
            "bin_end": 4,
            "count": 0
           },
           {
            "bin_start": 4,
            "bin_end": 4.1,
            "count": 1
           },
           {
            "bin_start": 4.1,
            "bin_end": 4.2,
            "count": 0
           },
           {
            "bin_start": 4.2,
            "bin_end": 4.3,
            "count": 0
           },
           {
            "bin_start": 4.3,
            "bin_end": 4.4,
            "count": 0
           },
           {
            "bin_start": 4.4,
            "bin_end": 4.5,
            "count": 0
           }
          ]
         }
        },
        {
         "name": "_deepnote_index_column",
         "dtype": "int64"
        }
       ],
       "rows_top": [
        {
         "reweighted_redline_index": 4,
         "_deepnote_index_column": 25017353101
        }
       ],
       "rows_bottom": null
      },
      "text/plain": "             reweighted_redline_index\nGEOID                                \n25017353101                       4.0",
      "text/html": "<div>\n<style scoped>\n    .dataframe tbody tr th:only-of-type {\n        vertical-align: middle;\n    }\n\n    .dataframe tbody tr th {\n        vertical-align: top;\n    }\n\n    .dataframe thead th {\n        text-align: right;\n    }\n</style>\n<table border=\"1\" class=\"dataframe\">\n  <thead>\n    <tr style=\"text-align: right;\">\n      <th></th>\n      <th>reweighted_redline_index</th>\n    </tr>\n    <tr>\n      <th>GEOID</th>\n      <th></th>\n    </tr>\n  </thead>\n  <tbody>\n    <tr>\n      <th>25017353101</th>\n      <td>4.0</td>\n    </tr>\n  </tbody>\n</table>\n</div>"
     },
     "metadata": {}
    }
   ],
   "execution_count": null
  },
  {
   "cell_type": "code",
   "metadata": {
    "tags": [],
    "output_cleared": false,
    "source_hash": "799b833d",
    "execution_millis": 6,
    "cell_id": "00015-850ca7ac-3a21-47ec-b6aa-6cb2164e8b9d",
    "deepnote_to_be_reexecuted": false,
    "execution_start": 1620832693283,
    "deepnote_cell_type": "code"
   },
   "source": "#Visualising the dataset\nredline_index_grouped.head()",
   "outputs": [
    {
     "output_type": "execute_result",
     "execution_count": 19,
     "data": {
      "application/vnd.deepnote.dataframe.v2+json": {
       "row_count": 5,
       "column_count": 1,
       "columns": [
        {
         "name": "reweighted_redline_index",
         "dtype": "float64",
         "stats": {
          "unique_count": 3,
          "nan_count": 0,
          "min": "3.0",
          "max": "4.0",
          "histogram": [
           {
            "bin_start": 3,
            "bin_end": 3.1,
            "count": 1
           },
           {
            "bin_start": 3.1,
            "bin_end": 3.2,
            "count": 1
           },
           {
            "bin_start": 3.2,
            "bin_end": 3.3,
            "count": 0
           },
           {
            "bin_start": 3.3,
            "bin_end": 3.4,
            "count": 0
           },
           {
            "bin_start": 3.4,
            "bin_end": 3.5,
            "count": 0
           },
           {
            "bin_start": 3.5,
            "bin_end": 3.6,
            "count": 0
           },
           {
            "bin_start": 3.6,
            "bin_end": 3.7,
            "count": 0
           },
           {
            "bin_start": 3.7,
            "bin_end": 3.8,
            "count": 0
           },
           {
            "bin_start": 3.8,
            "bin_end": 3.9,
            "count": 0
           },
           {
            "bin_start": 3.9,
            "bin_end": 4,
            "count": 3
           }
          ]
         }
        },
        {
         "name": "_deepnote_index_column",
         "dtype": "int64"
        }
       ],
       "rows_top": [
        {
         "reweighted_redline_index": 4,
         "_deepnote_index_column": 25017350103
        },
        {
         "reweighted_redline_index": 4,
         "_deepnote_index_column": 25017350104
        },
        {
         "reweighted_redline_index": 4,
         "_deepnote_index_column": 25017350200
        },
        {
         "reweighted_redline_index": 3,
         "_deepnote_index_column": 25017350900
        },
        {
         "reweighted_redline_index": 3.155308216480752,
         "_deepnote_index_column": 25017351000
        }
       ],
       "rows_bottom": null
      },
      "text/plain": "             reweighted_redline_index\nGEOID                                \n25017350103                  4.000000\n25017350104                  4.000000\n25017350200                  4.000000\n25017350900                  3.000000\n25017351000                  3.155308",
      "text/html": "<div>\n<style scoped>\n    .dataframe tbody tr th:only-of-type {\n        vertical-align: middle;\n    }\n\n    .dataframe tbody tr th {\n        vertical-align: top;\n    }\n\n    .dataframe thead th {\n        text-align: right;\n    }\n</style>\n<table border=\"1\" class=\"dataframe\">\n  <thead>\n    <tr style=\"text-align: right;\">\n      <th></th>\n      <th>reweighted_redline_index</th>\n    </tr>\n    <tr>\n      <th>GEOID</th>\n      <th></th>\n    </tr>\n  </thead>\n  <tbody>\n    <tr>\n      <th>25017350103</th>\n      <td>4.000000</td>\n    </tr>\n    <tr>\n      <th>25017350104</th>\n      <td>4.000000</td>\n    </tr>\n    <tr>\n      <th>25017350200</th>\n      <td>4.000000</td>\n    </tr>\n    <tr>\n      <th>25017350900</th>\n      <td>3.000000</td>\n    </tr>\n    <tr>\n      <th>25017351000</th>\n      <td>3.155308</td>\n    </tr>\n  </tbody>\n</table>\n</div>"
     },
     "metadata": {}
    }
   ],
   "execution_count": null
  },
  {
   "cell_type": "code",
   "metadata": {
    "tags": [],
    "output_cleared": false,
    "source_hash": "e5f0ef74",
    "execution_millis": 1,
    "cell_id": "00016-5de83ea7-e232-4c31-8528-15b302769d6f",
    "deepnote_to_be_reexecuted": false,
    "execution_start": 1620832700211,
    "deepnote_cell_type": "code"
   },
   "source": "#Reconverting reweighted values to ordinal\ndef ordinal_values(row):\n    if row['reweighted_redline_index'] > 0 and row['reweighted_redline_index'] <= 1:\n      val = 1\n    elif row['reweighted_redline_index'] > 1 and row['reweighted_redline_index'] <= 2:\n      val = 2\n    elif row['reweighted_redline_index'] > 2 and row['reweighted_redline_index'] <= 3:\n      val = 3\n    elif row['reweighted_redline_index'] > 3 and row['reweighted_redline_index'] <= 4.1:\n      val = 4\n    elif row['reweighted_redline_index'] > 4.1 and row['reweighted_redline_index'] <= 5:\n      val = 5\n    else:\n      val = 0\n\n    return val\n\nredline_index_grouped['ordinal_value'] = redline_index_grouped.apply(ordinal_values, axis=1)",
   "outputs": [],
   "execution_count": null
  },
  {
   "cell_type": "code",
   "metadata": {
    "tags": [],
    "output_cleared": false,
    "source_hash": "8b5f12a1",
    "execution_millis": 14,
    "cell_id": "00017-6f1ce63b-7557-49fd-a98d-e3cb6e003053",
    "deepnote_to_be_reexecuted": false,
    "execution_start": 1620832733236,
    "deepnote_cell_type": "code"
   },
   "source": "redline_index_grouped.head()",
   "outputs": [
    {
     "output_type": "execute_result",
     "execution_count": 26,
     "data": {
      "application/vnd.deepnote.dataframe.v2+json": {
       "row_count": 5,
       "column_count": 2,
       "columns": [
        {
         "name": "reweighted_redline_index",
         "dtype": "float64",
         "stats": {
          "unique_count": 3,
          "nan_count": 0,
          "min": "3.0",
          "max": "4.0",
          "histogram": [
           {
            "bin_start": 3,
            "bin_end": 3.1,
            "count": 1
           },
           {
            "bin_start": 3.1,
            "bin_end": 3.2,
            "count": 1
           },
           {
            "bin_start": 3.2,
            "bin_end": 3.3,
            "count": 0
           },
           {
            "bin_start": 3.3,
            "bin_end": 3.4,
            "count": 0
           },
           {
            "bin_start": 3.4,
            "bin_end": 3.5,
            "count": 0
           },
           {
            "bin_start": 3.5,
            "bin_end": 3.6,
            "count": 0
           },
           {
            "bin_start": 3.6,
            "bin_end": 3.7,
            "count": 0
           },
           {
            "bin_start": 3.7,
            "bin_end": 3.8,
            "count": 0
           },
           {
            "bin_start": 3.8,
            "bin_end": 3.9,
            "count": 0
           },
           {
            "bin_start": 3.9,
            "bin_end": 4,
            "count": 3
           }
          ]
         }
        },
        {
         "name": "ordinal_value",
         "dtype": "int64",
         "stats": {
          "unique_count": 2,
          "nan_count": 0,
          "min": "3",
          "max": "4",
          "histogram": [
           {
            "bin_start": 3,
            "bin_end": 3.1,
            "count": 1
           },
           {
            "bin_start": 3.1,
            "bin_end": 3.2,
            "count": 0
           },
           {
            "bin_start": 3.2,
            "bin_end": 3.3,
            "count": 0
           },
           {
            "bin_start": 3.3,
            "bin_end": 3.4,
            "count": 0
           },
           {
            "bin_start": 3.4,
            "bin_end": 3.5,
            "count": 0
           },
           {
            "bin_start": 3.5,
            "bin_end": 3.6,
            "count": 0
           },
           {
            "bin_start": 3.6,
            "bin_end": 3.7,
            "count": 0
           },
           {
            "bin_start": 3.7,
            "bin_end": 3.8,
            "count": 0
           },
           {
            "bin_start": 3.8,
            "bin_end": 3.9,
            "count": 0
           },
           {
            "bin_start": 3.9,
            "bin_end": 4,
            "count": 4
           }
          ]
         }
        },
        {
         "name": "_deepnote_index_column",
         "dtype": "int64"
        }
       ],
       "rows_top": [
        {
         "reweighted_redline_index": 4,
         "ordinal_value": 4,
         "_deepnote_index_column": 25017350103
        },
        {
         "reweighted_redline_index": 4,
         "ordinal_value": 4,
         "_deepnote_index_column": 25017350104
        },
        {
         "reweighted_redline_index": 4,
         "ordinal_value": 4,
         "_deepnote_index_column": 25017350200
        },
        {
         "reweighted_redline_index": 3,
         "ordinal_value": 3,
         "_deepnote_index_column": 25017350900
        },
        {
         "reweighted_redline_index": 3.155308216480752,
         "ordinal_value": 4,
         "_deepnote_index_column": 25017351000
        }
       ],
       "rows_bottom": null
      },
      "text/plain": "             reweighted_redline_index  ordinal_value\nGEOID                                               \n25017350103                  4.000000              4\n25017350104                  4.000000              4\n25017350200                  4.000000              4\n25017350900                  3.000000              3\n25017351000                  3.155308              4",
      "text/html": "<div>\n<style scoped>\n    .dataframe tbody tr th:only-of-type {\n        vertical-align: middle;\n    }\n\n    .dataframe tbody tr th {\n        vertical-align: top;\n    }\n\n    .dataframe thead th {\n        text-align: right;\n    }\n</style>\n<table border=\"1\" class=\"dataframe\">\n  <thead>\n    <tr style=\"text-align: right;\">\n      <th></th>\n      <th>reweighted_redline_index</th>\n      <th>ordinal_value</th>\n    </tr>\n    <tr>\n      <th>GEOID</th>\n      <th></th>\n      <th></th>\n    </tr>\n  </thead>\n  <tbody>\n    <tr>\n      <th>25017350103</th>\n      <td>4.000000</td>\n      <td>4</td>\n    </tr>\n    <tr>\n      <th>25017350104</th>\n      <td>4.000000</td>\n      <td>4</td>\n    </tr>\n    <tr>\n      <th>25017350200</th>\n      <td>4.000000</td>\n      <td>4</td>\n    </tr>\n    <tr>\n      <th>25017350900</th>\n      <td>3.000000</td>\n      <td>3</td>\n    </tr>\n    <tr>\n      <th>25017351000</th>\n      <td>3.155308</td>\n      <td>4</td>\n    </tr>\n  </tbody>\n</table>\n</div>"
     },
     "metadata": {}
    }
   ],
   "execution_count": null
  },
  {
   "cell_type": "code",
   "source": "redline_index_grouped.shape",
   "metadata": {
    "tags": [],
    "cell_id": "00018-210aa20b-7af1-49d4-970a-bd2fb872a9ab",
    "deepnote_to_be_reexecuted": false,
    "source_hash": "33c3cb51",
    "execution_start": 1620832739130,
    "execution_millis": 11,
    "deepnote_cell_type": "code"
   },
   "outputs": [
    {
     "output_type": "execute_result",
     "execution_count": 27,
     "data": {
      "text/plain": "(43, 2)"
     },
     "metadata": {}
    }
   ],
   "execution_count": null
  },
  {
   "cell_type": "code",
   "metadata": {
    "tags": [],
    "output_cleared": false,
    "source_hash": "77b258d7",
    "execution_millis": 357,
    "cell_id": "00018-b396d995-4e2b-482e-ab8f-78cf8db637d9",
    "deepnote_to_be_reexecuted": false,
    "execution_start": 1620832742228,
    "deepnote_cell_type": "code"
   },
   "source": "#Load Census Tract Data\nct_shape = gpd.read_file('/home/jovyan/work/COVIDRedlining/data/boston/boston census tracts/tl_2019_25_tract.shp')\nct_shape.shape",
   "outputs": [
    {
     "output_type": "execute_result",
     "execution_count": 28,
     "data": {
      "text/plain": "(1478, 13)"
     },
     "metadata": {}
    }
   ],
   "execution_count": null
  },
  {
   "cell_type": "code",
   "metadata": {
    "tags": [],
    "output_cleared": false,
    "source_hash": "4150a3cc",
    "execution_millis": 54,
    "cell_id": "00019-91926b7c-ac61-4eb8-9771-94f9cab0c2cf",
    "deepnote_to_be_reexecuted": false,
    "execution_start": 1620832744156,
    "deepnote_cell_type": "code"
   },
   "source": "#Converting Census Tract Object Datatype to Float\nct_shape['GEOID'] = ct_shape['GEOID'].astype(float)\n#Merging redline index scores with Census Tract data\nct_shape = ct_shape.merge(redline_index_grouped,how='inner',on='GEOID')\nct_shape.shape",
   "outputs": [
    {
     "output_type": "execute_result",
     "execution_count": 29,
     "data": {
      "text/plain": "(43, 15)"
     },
     "metadata": {}
    }
   ],
   "execution_count": null
  },
  {
   "cell_type": "code",
   "metadata": {
    "tags": [],
    "output_cleared": false,
    "source_hash": "3aca86e7",
    "execution_millis": 98,
    "cell_id": "00020-027e917c-8a80-414f-964c-31193557c1b1",
    "deepnote_to_be_reexecuted": false,
    "execution_start": 1620832755992,
    "deepnote_cell_type": "code"
   },
   "source": "#Saving file as geojson\nct_shape.to_file('cambridge_redlined_numerical_values.geojson',driver='GeoJSON')",
   "outputs": [],
   "execution_count": null
  },
  {
   "cell_type": "code",
   "metadata": {
    "tags": [],
    "cell_id": "00022-6b8540f8-0e8e-423e-87ac-ff8baefc7d71",
    "deepnote_cell_type": "code"
   },
   "source": "",
   "execution_count": null,
   "outputs": []
  },
  {
   "cell_type": "markdown",
   "source": "<a style='text-decoration:none;line-height:16px;display:flex;color:#5B5B62;padding:10px;justify-content:end;' href='https://deepnote.com?utm_source=created-in-deepnote-cell&projectId=c9a4f701-31a5-4164-b3f3-c09cddf1309e' target=\"_blank\">\n<img alt='Created in deepnote.com' style='display:inline;max-height:16px;margin:0px;margin-right:7.5px;' src='data:image/svg+xml;base64,PD94bWwgdmVyc2lvbj0iMS4wIiBlbmNvZGluZz0iVVRGLTgiPz4KPHN2ZyB3aWR0aD0iODBweCIgaGVpZ2h0PSI4MHB4IiB2aWV3Qm94PSIwIDAgODAgODAiIHZlcnNpb249IjEuMSIgeG1sbnM9Imh0dHA6Ly93d3cudzMub3JnLzIwMDAvc3ZnIiB4bWxuczp4bGluaz0iaHR0cDovL3d3dy53My5vcmcvMTk5OS94bGluayI+CiAgICA8IS0tIEdlbmVyYXRvcjogU2tldGNoIDU0LjEgKDc2NDkwKSAtIGh0dHBzOi8vc2tldGNoYXBwLmNvbSAtLT4KICAgIDx0aXRsZT5Hcm91cCAzPC90aXRsZT4KICAgIDxkZXNjPkNyZWF0ZWQgd2l0aCBTa2V0Y2guPC9kZXNjPgogICAgPGcgaWQ9IkxhbmRpbmciIHN0cm9rZT0ibm9uZSIgc3Ryb2tlLXdpZHRoPSIxIiBmaWxsPSJub25lIiBmaWxsLXJ1bGU9ImV2ZW5vZGQiPgogICAgICAgIDxnIGlkPSJBcnRib2FyZCIgdHJhbnNmb3JtPSJ0cmFuc2xhdGUoLTEyMzUuMDAwMDAwLCAtNzkuMDAwMDAwKSI+CiAgICAgICAgICAgIDxnIGlkPSJHcm91cC0zIiB0cmFuc2Zvcm09InRyYW5zbGF0ZSgxMjM1LjAwMDAwMCwgNzkuMDAwMDAwKSI+CiAgICAgICAgICAgICAgICA8cG9seWdvbiBpZD0iUGF0aC0yMCIgZmlsbD0iIzAyNjVCNCIgcG9pbnRzPSIyLjM3NjIzNzYyIDgwIDM4LjA0NzY2NjcgODAgNTcuODIxNzgyMiA3My44MDU3NTkyIDU3LjgyMTc4MjIgMzIuNzU5MjczOSAzOS4xNDAyMjc4IDMxLjY4MzE2ODMiPjwvcG9seWdvbj4KICAgICAgICAgICAgICAgIDxwYXRoIGQ9Ik0zNS4wMDc3MTgsODAgQzQyLjkwNjIwMDcsNzYuNDU0OTM1OCA0Ny41NjQ5MTY3LDcxLjU0MjI2NzEgNDguOTgzODY2LDY1LjI2MTk5MzkgQzUxLjExMjI4OTksNTUuODQxNTg0MiA0MS42NzcxNzk1LDQ5LjIxMjIyODQgMjUuNjIzOTg0Niw0OS4yMTIyMjg0IEMyNS40ODQ5Mjg5LDQ5LjEyNjg0NDggMjkuODI2MTI5Niw0My4yODM4MjQ4IDM4LjY0NzU4NjksMzEuNjgzMTY4MyBMNzIuODcxMjg3MSwzMi41NTQ0MjUgTDY1LjI4MDk3Myw2Ny42NzYzNDIxIEw1MS4xMTIyODk5LDc3LjM3NjE0NCBMMzUuMDA3NzE4LDgwIFoiIGlkPSJQYXRoLTIyIiBmaWxsPSIjMDAyODY4Ij48L3BhdGg+CiAgICAgICAgICAgICAgICA8cGF0aCBkPSJNMCwzNy43MzA0NDA1IEwyNy4xMTQ1MzcsMC4yNTcxMTE0MzYgQzYyLjM3MTUxMjMsLTEuOTkwNzE3MDEgODAsMTAuNTAwMzkyNyA4MCwzNy43MzA0NDA1IEM4MCw2NC45NjA0ODgyIDY0Ljc3NjUwMzgsNzkuMDUwMzQxNCAzNC4zMjk1MTEzLDgwIEM0Ny4wNTUzNDg5LDc3LjU2NzA4MDggNTMuNDE4MjY3Nyw3MC4zMTM2MTAzIDUzLjQxODI2NzcsNTguMjM5NTg4NSBDNTMuNDE4MjY3Nyw0MC4xMjg1NTU3IDM2LjMwMzk1NDQsMzcuNzMwNDQwNSAyNS4yMjc0MTcsMzcuNzMwNDQwNSBDMTcuODQzMDU4NiwzNy43MzA0NDA1IDkuNDMzOTE5NjYsMzcuNzMwNDQwNSAwLDM3LjczMDQ0MDUgWiIgaWQ9IlBhdGgtMTkiIGZpbGw9IiMzNzkzRUYiPjwvcGF0aD4KICAgICAgICAgICAgPC9nPgogICAgICAgIDwvZz4KICAgIDwvZz4KPC9zdmc+' > </img>\nCreated in <span style='font-weight:600;margin-left:4px;'>Deepnote</span></a>",
   "metadata": {
    "tags": [],
    "created_in_deepnote_cell": true,
    "deepnote_cell_type": "markdown"
   }
  }
 ],
 "nbformat": 4,
 "nbformat_minor": 2,
 "metadata": {
  "orig_nbformat": 2,
  "deepnote_notebook_id": "d636103d-3695-4a91-a847-d3407a158e7d",
  "deepnote_execution_queue": [],
  "deepnote": {}
 }
}