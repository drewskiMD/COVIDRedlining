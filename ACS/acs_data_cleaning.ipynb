{
 "cells": [
  {
   "cell_type": "markdown",
   "source": "**Author: Muhammad**",
   "metadata": {
    "tags": [],
    "cell_id": "00000-78234a70-80c7-48fc-b4c6-a8fce7047159",
    "deepnote_cell_type": "markdown"
   }
  },
  {
   "cell_type": "code",
   "metadata": {
    "tags": [],
    "output_cleared": false,
    "source_hash": "6385a1b0",
    "execution_millis": 0,
    "deepnote_to_be_reexecuted": false,
    "cell_id": "00001-3cbc3634-8c16-4ab8-b23b-1b857b0dd366",
    "execution_start": 1618927644510,
    "deepnote_cell_type": "code"
   },
   "source": "import numpy as np\nimport pandas as pd\nfrom pandas.core.frame import DataFrame\nimport geopandas as gpd\nfrom typing import List",
   "execution_count": null,
   "outputs": [
    {
     "name": "stderr",
     "text": "/home/jovyan/venv/lib/python3.7/site-packages/geopandas/_compat.py:110: UserWarning: The Shapely GEOS version (3.8.0-CAPI-1.13.1 ) is incompatible with the GEOS version PyGEOS was compiled with (3.9.0-CAPI-1.16.2). Conversions between both will be slow.\n  shapely_geos_version, geos_capi_version_string\n",
     "output_type": "stream"
    }
   ]
  },
  {
   "cell_type": "markdown",
   "source": "**Data Source:** Census Bureau America Community Survery 2018, 5 Year Estimates, [hosted on Google BigQuery](https://console.cloud.google.com/marketplace/product/united-states-census-bureau/acs?filter=solution-type:dataset&project=covid-disparities&organizationId=0)",
   "metadata": {
    "tags": [],
    "cell_id": "00002-85101ebf-50c4-4ef3-86b6-6c2e5394ab70",
    "deepnote_cell_type": "markdown"
   }
  },
  {
   "cell_type": "code",
   "metadata": {
    "tags": [],
    "output_cleared": false,
    "source_hash": "b4b58100",
    "execution_millis": 2194,
    "deepnote_to_be_reexecuted": false,
    "cell_id": "00003-1b7f82c9-acca-4337-984f-9cc459864fda",
    "execution_start": 1618927644515,
    "deepnote_cell_type": "code"
   },
   "source": "acs = pd.read_csv(\"/work/COVIDRedlining/data/ACS/acs_census_tract_2018_5yr.csv\")\nacs.drop(columns=[\"Unnamed: 0\", \"do_date\"], inplace=True)",
   "execution_count": null,
   "outputs": []
  },
  {
   "cell_type": "markdown",
   "source": "\n# Data Cleaning and Transformation for ACS Variables",
   "metadata": {
    "tags": [],
    "cell_id": "00004-b15fba0a-7ee8-4e78-bff6-51558647dd1b",
    "deepnote_cell_type": "markdown"
   }
  },
  {
   "cell_type": "markdown",
   "source": "Below is the list of all features original found in the ACS data set.",
   "metadata": {
    "tags": [],
    "cell_id": "00006-2412645d-8239-4147-bb0b-3bc04d2e28d0",
    "deepnote_cell_type": "markdown"
   }
  },
  {
   "cell_type": "code",
   "metadata": {
    "tags": [],
    "deepnote_to_be_reexecuted": false,
    "source_hash": "76ec1a71",
    "execution_millis": 11,
    "cell_id": "00007-ea9a13e1-f7a4-47d2-be5f-3233315ccad2",
    "execution_start": 1618927646725,
    "deepnote_cell_type": "code"
   },
   "source": "# List of all columns\nlist(acs.columns)",
   "execution_count": null,
   "outputs": [
    {
     "output_type": "execute_result",
     "execution_count": 5,
     "data": {
      "text/plain": "['geo_id',\n 'total_pop',\n 'households',\n 'male_pop',\n 'female_pop',\n 'median_age',\n 'male_under_5',\n 'male_5_to_9',\n 'male_10_to_14',\n 'male_15_to_17',\n 'male_18_to_19',\n 'male_20',\n 'male_21',\n 'male_22_to_24',\n 'male_25_to_29',\n 'male_30_to_34',\n 'male_35_to_39',\n 'male_40_to_44',\n 'male_45_to_49',\n 'male_50_to_54',\n 'male_55_to_59',\n 'male_60_to_61',\n 'male_62_to_64',\n 'male_65_to_66',\n 'male_67_to_69',\n 'male_70_to_74',\n 'male_75_to_79',\n 'male_80_to_84',\n 'male_85_and_over',\n 'female_under_5',\n 'female_5_to_9',\n 'female_10_to_14',\n 'female_15_to_17',\n 'female_18_to_19',\n 'female_20',\n 'female_21',\n 'female_22_to_24',\n 'female_25_to_29',\n 'female_30_to_34',\n 'female_35_to_39',\n 'female_40_to_44',\n 'female_45_to_49',\n 'female_50_to_54',\n 'female_55_to_59',\n 'female_60_to_61',\n 'female_62_to_64',\n 'female_65_to_66',\n 'female_67_to_69',\n 'female_70_to_74',\n 'female_75_to_79',\n 'female_80_to_84',\n 'female_85_and_over',\n 'white_pop',\n 'population_1_year_and_over',\n 'population_3_years_over',\n 'pop_5_years_over',\n 'pop_15_and_over',\n 'pop_16_over',\n 'pop_25_years_over',\n 'pop_25_64',\n 'pop_never_married',\n 'pop_now_married',\n 'pop_separated',\n 'pop_widowed',\n 'pop_divorced',\n 'not_us_citizen_pop',\n 'black_pop',\n 'asian_pop',\n 'hispanic_pop',\n 'amerindian_pop',\n 'other_race_pop',\n 'two_or_more_races_pop',\n 'hispanic_any_race',\n 'not_hispanic_pop',\n 'asian_male_45_54',\n 'asian_male_55_64',\n 'black_male_45_54',\n 'black_male_55_64',\n 'hispanic_male_45_54',\n 'hispanic_male_55_64',\n 'white_male_45_54',\n 'white_male_55_64',\n 'median_income',\n 'income_per_capita',\n 'income_less_10000',\n 'income_10000_14999',\n 'income_15000_19999',\n 'income_20000_24999',\n 'income_25000_29999',\n 'income_30000_34999',\n 'income_35000_39999',\n 'income_40000_44999',\n 'income_45000_49999',\n 'income_50000_59999',\n 'income_60000_74999',\n 'income_75000_99999',\n 'income_100000_124999',\n 'income_125000_149999',\n 'income_150000_199999',\n 'income_200000_or_more',\n 'pop_determined_poverty_status',\n 'poverty',\n 'gini_index',\n 'housing_units',\n 'renter_occupied_housing_units_paying_cash_median_gross_rent',\n 'owner_occupied_housing_units_lower_value_quartile',\n 'owner_occupied_housing_units_median_value',\n 'owner_occupied_housing_units_upper_value_quartile',\n 'occupied_housing_units',\n 'housing_units_renter_occupied',\n 'vacant_housing_units',\n 'vacant_housing_units_for_rent',\n 'vacant_housing_units_for_sale',\n 'dwellings_1_units_detached',\n 'dwellings_1_units_attached',\n 'dwellings_2_units',\n 'dwellings_3_to_4_units',\n 'dwellings_5_to_9_units',\n 'dwellings_10_to_19_units',\n 'dwellings_20_to_49_units',\n 'dwellings_50_or_more_units',\n 'mobile_homes',\n 'housing_built_2005_or_later',\n 'housing_built_2000_to_2004',\n 'housing_built_1939_or_earlier',\n 'median_year_structure_built',\n 'married_households',\n 'nonfamily_households',\n 'family_households',\n 'households_public_asst_or_food_stamps',\n 'male_male_households',\n 'female_female_households',\n 'children',\n 'children_in_single_female_hh',\n 'median_rent',\n 'percent_income_spent_on_rent',\n 'rent_burden_not_computed',\n 'rent_over_50_percent',\n 'rent_40_to_50_percent',\n 'rent_35_to_40_percent',\n 'rent_30_to_35_percent',\n 'rent_25_to_30_percent',\n 'rent_20_to_25_percent',\n 'rent_15_to_20_percent',\n 'rent_10_to_15_percent',\n 'rent_under_10_percent',\n 'owner_occupied_housing_units',\n 'million_dollar_housing_units',\n 'mortgaged_housing_units',\n 'different_house_year_ago_different_city',\n 'different_house_year_ago_same_city',\n 'families_with_young_children',\n 'two_parent_families_with_young_children',\n 'two_parents_in_labor_force_families_with_young_children',\n 'two_parents_father_in_labor_force_families_with_young_children',\n 'two_parents_mother_in_labor_force_families_with_young_children',\n 'two_parents_not_in_labor_force_families_with_young_children',\n 'one_parent_families_with_young_children',\n 'father_one_parent_families_with_young_children',\n 'father_in_labor_force_one_parent_families_with_young_children',\n 'commute_less_10_mins',\n 'commute_10_14_mins',\n 'commute_15_19_mins',\n 'commute_20_24_mins',\n 'commute_25_29_mins',\n 'commute_30_34_mins',\n 'commute_35_44_mins',\n 'commute_60_more_mins',\n 'commute_45_59_mins',\n 'commuters_16_over',\n 'walked_to_work',\n 'worked_at_home',\n 'no_car',\n 'no_cars',\n 'one_car',\n 'two_cars',\n 'three_cars',\n 'four_more_cars',\n 'aggregate_travel_time_to_work',\n 'commuters_by_public_transportation',\n 'commuters_by_bus',\n 'commuters_by_car_truck_van',\n 'commuters_by_carpool',\n 'commuters_by_subway_or_elevated',\n 'commuters_drove_alone',\n 'group_quarters',\n 'associates_degree',\n 'bachelors_degree',\n 'high_school_diploma',\n 'less_one_year_college',\n 'masters_degree',\n 'one_year_more_college',\n 'less_than_high_school_graduate',\n 'high_school_including_ged',\n 'bachelors_degree_2',\n 'bachelors_degree_or_higher_25_64',\n 'graduate_professional_degree',\n 'some_college_and_associates_degree',\n 'male_45_64_associates_degree',\n 'male_45_64_bachelors_degree',\n 'male_45_64_graduate_degree',\n 'male_45_64_less_than_9_grade',\n 'male_45_64_grade_9_12',\n 'male_45_64_high_school',\n 'male_45_64_some_college',\n 'male_45_to_64',\n 'employed_pop',\n 'unemployed_pop',\n 'pop_in_labor_force',\n 'not_in_labor_force',\n 'workers_16_and_over',\n 'armed_forces',\n 'civilian_labor_force',\n 'employed_agriculture_forestry_fishing_hunting_mining',\n 'employed_arts_entertainment_recreation_accommodation_food',\n 'employed_construction',\n 'employed_education_health_social',\n 'employed_finance_insurance_real_estate',\n 'employed_information',\n 'employed_manufacturing',\n 'employed_other_services_not_public_admin',\n 'employed_public_administration',\n 'employed_retail_trade',\n 'employed_science_management_admin_waste',\n 'employed_transportation_warehousing_utilities',\n 'employed_wholesale_trade',\n 'occupation_management_arts',\n 'occupation_natural_resources_construction_maintenance',\n 'occupation_production_transportation_material',\n 'occupation_sales_office',\n 'occupation_services',\n 'management_business_sci_arts_employed',\n 'sales_office_employed',\n 'in_grades_1_to_4',\n 'in_grades_5_to_8',\n 'in_grades_9_to_12',\n 'in_school',\n 'in_undergrad_college',\n 'speak_only_english_at_home',\n 'speak_spanish_at_home',\n 'speak_spanish_at_home_low_english']"
     },
     "metadata": {}
    }
   ]
  },
  {
   "cell_type": "markdown",
   "source": "## New Features",
   "metadata": {
    "tags": [],
    "cell_id": "00010-1c0a45db-8441-42f0-bb11-0cc6a201a0b6",
    "deepnote_cell_type": "markdown"
   }
  },
  {
   "cell_type": "code",
   "metadata": {
    "tags": [],
    "deepnote_to_be_reexecuted": false,
    "source_hash": "d4438bd0",
    "execution_millis": 20,
    "cell_id": "00012-6ee00c30-a56b-4ccb-b67c-737378233c45",
    "execution_start": 1618927646731,
    "deepnote_cell_type": "code"
   },
   "source": "# Other Races in the Original Data is overriden by other_race_pop = total_pop - sum(races),\n# where races is shown below.\nraces = [\n    'black_pop',\n    'asian_pop',\n    'hispanic_pop',\n    'amerindian_pop',\n    'white_pop'\n]\nacs['other_race_pop'] = acs.total_pop - acs[races].sum(axis=1)\n\n# Non-white population\nacs['non_white_pop'] = acs['total_pop'] - acs['white_pop']",
   "execution_count": null,
   "outputs": []
  },
  {
   "cell_type": "markdown",
   "source": "## Data Cleaning — Explanation",
   "metadata": {
    "tags": [],
    "cell_id": "00016-5d2e03b6-184e-4e58-9da9-46ccc1ba58b1",
    "deepnote_cell_type": "markdown"
   }
  },
  {
   "cell_type": "code",
   "metadata": {
    "tags": [],
    "cell_id": "00012-5cc8ac50-8145-4d4d-b1ff-827d654b673e",
    "deepnote_to_be_reexecuted": false,
    "source_hash": "cbe2401c",
    "execution_millis": 3,
    "execution_start": 1618927646755,
    "deepnote_cell_type": "code"
   },
   "source": "## General formulae:\n\n# to_leave = (\"leave\", list_of_columns_to_leave_unmodified)\n# to_normalise = (\"norm\", feature_list, normalise_by)\n# to_aggregate = (\"agg\", feature_list, new_feature_name, normalise_by)\n# to_drop = (\"drop\", list_of_columns_to_drop)",
   "execution_count": null,
   "outputs": []
  },
  {
   "cell_type": "markdown",
   "source": "## Data Cleaning — Functions",
   "metadata": {
    "tags": [],
    "cell_id": "00019-089d2d3d-b340-4727-9880-508fb5a339f9",
    "deepnote_cell_type": "markdown"
   }
  },
  {
   "cell_type": "code",
   "metadata": {
    "tags": [],
    "cell_id": "00019-26ac0afd-fb35-4a52-97ae-fc8cff4df78c",
    "deepnote_to_be_reexecuted": false,
    "source_hash": "5eb14a66",
    "execution_millis": 1,
    "execution_start": 1618927655383,
    "deepnote_cell_type": "code"
   },
   "source": "def aggregate_features(\n    df: DataFrame, feature_list: List[str], new_feature_name:str, normalise_by:str, \n    columns_to_drop: set, suffix: str=\"normalised\"\n    ) -> None:\n    \"\"\"\n    - Aggregates (sum) multiple columns in a given data frame\n    - gives this new column a name\n    - normalises the new column by some other variable\n    - adds a suffix to the name of the normalised sum column\n    - adds the original list of features variables as well as their unnormalised sum to the set of columns_to_drop\n    \"\"\"\n    df[new_feature_name] = df[feature_list].sum(axis=1)\n    normalise_feature(df, new_feature_name, normalise_by, suffix)\n    columns_to_drop.add(new_feature_name)\n    columns_to_drop.update( set(feature_list) )\n\n\n\ndef normalise_feature(df: DataFrame, feature: str, normalise_by: str, suffix: str) -> None:\n    \"\"\"\n    Normalises a given column of the given data frame by another variable, adds a suffix to the column name, \n    and then deletes the origingal column. Then,returns this modified data frame.\n    \"\"\"\n    df[feature + '_' + suffix] = df[feature] / df[normalise_by]\n    # df.drop(columns=feature, inplace=True)\n\n\ndef normalise_list_of_features(\n    df: DataFrame, feature_list: List[str], normalise_by: str, columns_to_drop: set, suffix: str=\"normalised\"\n    ) -> None:\n    \"\"\"\n    Loops over a list of features in a data frame and normalises them all using the same variables \n    Adds a suffix to the column names, deletes the original columns, and returns the modified data frame.\n    \"\"\"\n    for feature in feature_list:\n        normalise_feature(df, feature, normalise_by, suffix)\n        columns_to_drop.add(feature)\n\ndef clean_data(acs: DataFrame, columns_to_clean: List[tuple], columns_to_drop: set) -> DataFrame:\n    df = acs.copy()\n    for group in columns_to_clean:\n        operation = group[0]\n        try:\n            if operation == 'leave':\n                continue\n\n            elif operation == 'norm':\n                _, feature_list, normalise_by = group\n                normalise_list_of_features(df, feature_list, normalise_by, columns_to_drop)\n\n            elif operation == 'agg':\n                _, feature_list, new_feature_name, normalise_by = group\n                aggregate_features(df, feature_list, new_feature_name, normalise_by, columns_to_drop)\n            \n            elif operation == 'drop':\n                _, feature_list = group\n                columns_to_drop.update( set(feature_list) )\n        except Exception:\n            print(\"Error! The following group has an error\")\n            print(group)\n            raise ValueError\n\n    df.drop(columns=list(columns_to_drop), inplace=True)\n    return df",
   "execution_count": null,
   "outputs": []
  },
  {
   "cell_type": "markdown",
   "source": "### Normalise Features Test",
   "metadata": {
    "tags": [],
    "cell_id": "00019-ba48d58c-64db-4e3e-8cb9-1443f5eaf8e5",
    "deepnote_cell_type": "markdown"
   }
  },
  {
   "cell_type": "code",
   "metadata": {
    "tags": [],
    "cell_id": "00019-2a5c892b-6246-4b46-b79c-90c3f72a280e",
    "deepnote_to_be_reexecuted": false,
    "source_hash": "b27e1de5",
    "execution_millis": 2,
    "execution_start": 1618927657341,
    "deepnote_cell_type": "code"
   },
   "source": "# columns_to_drop = set()\n# test =  [\n#             'renter_occupied_housing_units_paying_cash_median_gross_rent',\n#             'owner_occupied_housing_units_lower_value_quartile', \n#             'owner_occupied_housing_units_median_value',\n#             'owner_occupied_housing_units_upper_value_quartile'\n#         ]\n\n# normalise_list_of_features(acs, test, \"total_pop\", columns_to_drop)\n# acs[test]",
   "execution_count": null,
   "outputs": []
  },
  {
   "cell_type": "code",
   "metadata": {
    "tags": [],
    "cell_id": "00018-fd65a9b6-8c5c-4772-9898-13f6e7d38309",
    "deepnote_to_be_reexecuted": false,
    "source_hash": "d2ce39f9",
    "execution_millis": 4,
    "execution_start": 1618927658471,
    "deepnote_cell_type": "code"
   },
   "source": "# acs[ [x + \"_normalised\" for x in test] ]",
   "execution_count": null,
   "outputs": []
  },
  {
   "cell_type": "markdown",
   "source": "### Aggregate Features Test",
   "metadata": {
    "tags": [],
    "cell_id": "00019-f443f746-a0d0-4932-8aea-7dbd650597ae",
    "deepnote_cell_type": "markdown"
   }
  },
  {
   "cell_type": "code",
   "metadata": {
    "tags": [],
    "cell_id": "00019-c4d92aaa-8833-487b-854a-a59c2551f25a",
    "deepnote_to_be_reexecuted": false,
    "source_hash": "7f653b67",
    "execution_millis": 2,
    "execution_start": 1618927660083,
    "deepnote_cell_type": "code"
   },
   "source": "# df = acs.copy()\n# feature_list =  [\n#             'female_65_to_66', 'female_67_to_69', 'female_70_to_74', 'female_75_to_79',\n#             'female_80_to_84', 'female_85_and_over', 'male_65_to_66', 'male_67_to_69', \n#             'male_70_to_74', 'male_75_to_79', 'male_80_to_84', 'male_85_and_over'\n# ]\n# columns_to_drop = set()\n# columns_to_drop.add(\"cars\")\n\n# aggregate_features(df, feature_list, \"65_over\", \"total_pop\", columns_to_drop)\n# print(columns_to_drop)",
   "execution_count": null,
   "outputs": []
  },
  {
   "cell_type": "markdown",
   "source": "## Data Cleaning — Sorting the Features",
   "metadata": {
    "tags": [],
    "cell_id": "00021-55938c27-805c-4b0e-bc03-dc6bfbefa630",
    "deepnote_cell_type": "markdown"
   }
  },
  {
   "cell_type": "markdown",
   "source": "### Columns To Drop\n\nThe list below contains all the variables that we wish to drop immediately, without any consideration.",
   "metadata": {
    "tags": [],
    "cell_id": "00022-d9b719c9-bdfb-447e-a95a-009181be2bd0",
    "deepnote_cell_type": "markdown"
   }
  },
  {
   "cell_type": "code",
   "metadata": {
    "tags": [],
    "cell_id": "00022-1614291f-1309-4733-af1c-b9db2688ed4e",
    "deepnote_to_be_reexecuted": false,
    "source_hash": "69be6179",
    "execution_millis": 4,
    "execution_start": 1618927662130,
    "deepnote_cell_type": "code"
   },
   "source": "columns_to_drop = [\n    ## Already accounted for in pop cleaning above\n    'hispanic_any_race', 'not_hispanic_pop',\n\n    ## Same-sex households? \n    'male_male_households', 'female_female_households',\n\n    ## Breakdown of pop by sexes\n    'male_under_5', 'male_5_to_9', 'male_10_to_14', 'male_15_to_17', 'male_18_to_19', 'male_20',\n    'male_21', 'male_22_to_24', 'male_25_to_29', 'male_30_to_34', 'male_35_to_39', 'male_40_to_44',\n    'male_45_to_49', 'male_50_to_54', 'male_55_to_59', 'male_60_to_61', 'male_62_to_64', 'female_under_5',\n    'female_5_to_9', 'female_10_to_14', 'female_15_to_17', 'female_18_to_19', 'female_20', 'female_21',\n    'female_22_to_24', 'female_25_to_29', 'female_30_to_34', 'female_35_to_39', 'female_40_to_44',\n    'female_45_to_49', 'female_50_to_54', 'female_55_to_59', 'female_60_to_61', 'female_62_to_64',\n    \n    ## Breakdown of pop by age\n    'population_1_year_and_over', 'population_3_years_over', 'pop_5_years_over', 'pop_15_and_over',\n    'pop_16_over', 'pop_25_years_over', 'pop_25_64',\n    \n    ## Breakdown of pop by age + race\n    'asian_male_45_54', 'asian_male_55_64', 'black_male_45_54', 'black_male_55_64', 'hispanic_male_45_54',\n    'hispanic_male_55_64', 'white_male_45_54', 'white_male_55_64', \n    \n    ## Dwellings\n    'dwellings_1_units_detached', 'dwellings_1_units_attached', 'dwellings_2_units', 'dwellings_3_to_4_units', \n    'dwellings_5_to_9_units', 'dwellings_10_to_19_units', 'dwellings_20_to_49_units', \n    'dwellings_50_or_more_units', \n    \n    ## Moved Houses\n    'different_house_year_ago_different_city', 'different_house_year_ago_same_city',\n    \n    ## Degrees + male + age\n    'male_45_64_associates_degree', 'male_45_64_bachelors_degree', 'male_45_64_graduate_degree',\n    'male_45_64_less_than_9_grade', 'male_45_64_grade_9_12', 'male_45_64_high_school', 'male_45_64_some_college',\n    'male_45_to_64',\n    \n    ## Type of employment\n    'employed_agriculture_forestry_fishing_hunting_mining',\n    'employed_arts_entertainment_recreation_accommodation_food', 'employed_construction',\n    'employed_education_health_social', 'employed_finance_insurance_real_estate', 'employed_information',\n    'employed_manufacturing', 'employed_other_services_not_public_admin', 'employed_public_administration',\n    'employed_retail_trade', 'employed_science_management_admin_waste',\n    'employed_transportation_warehousing_utilities', 'employed_wholesale_trade', 'occupation_management_arts',\n    'occupation_natural_resources_construction_maintenance', 'occupation_production_transportation_material',\n    'occupation_sales_office', 'occupation_services', 'sales_office_employed',\n    \n    ## Types of Student Populations, normalise by total_pop\n    'in_grades_1_to_4', 'in_grades_5_to_8', 'in_grades_9_to_12', 'in_school', 'in_undergrad_college',\n    \n    ## Language spoken at home\n    'speak_only_english_at_home', 'speak_spanish_at_home', 'speak_spanish_at_home_low_english',\n]",
   "execution_count": null,
   "outputs": []
  },
  {
   "cell_type": "markdown",
   "source": "### Columns to Clean\n\nThe list below contains a list of tuples in the format specified above. These are the features we want to do some manner of cleaning for (such as aggregation, normalisation, etc.)",
   "metadata": {
    "tags": [],
    "cell_id": "00023-df51a925-6a92-4714-ad47-30390a9ef599",
    "deepnote_cell_type": "markdown"
   }
  },
  {
   "cell_type": "code",
   "metadata": {
    "tags": [],
    "cell_id": "00012-04d02fac-2719-4f58-b5f3-773a62431af2",
    "deepnote_to_be_reexecuted": false,
    "source_hash": "d2c9642e",
    "execution_millis": 3,
    "execution_start": 1618927664256,
    "deepnote_cell_type": "code"
   },
   "source": "columns_to_clean = [\n    ## SVI Derived Variables\n    # Grouping populations into  65+ age bracket\n    (\n        'agg',\n        [\n            'female_65_to_66', 'female_67_to_69', 'female_70_to_74', 'female_75_to_79',\n            'female_80_to_84', 'female_85_and_over', 'male_65_to_66', 'male_67_to_69', \n            'male_70_to_74', 'male_75_to_79', 'male_80_to_84', 'male_85_and_over'\n        ],\n        'aged_65_or_older',\n        'total_pop'\n    ),\n\n    # Grouping population into under 17 age bracket\n    (\n        'agg',\n        [\n            'female_under_5', 'female_5_to_9', 'female_10_to_14', 'female_15_to_17', 'male_under_5',\n            'male_5_to_9', 'male_10_to_14', 'male_15_to_17'\n        ],\n        'aged_17_or_younger',\n        'total_pop'\n    ),\n\n    # Aggregating multi_unit_structures\n    (\n        'agg',\n        [\n            'dwellings_10_to_19_units', 'dwellings_20_to_49_units', 'dwellings_50_or_more_units'\n        ],\n        'multi_unit_structures',\n        'housing_units'\n    ),\n\n    ## Normalising percent of population in poverty\n    (\n        'norm',\n        [\n            'poverty'\n        ],\n        'pop_determined_poverty_status'\n    ),\n\n    (\n        'drop',\n        [\n            'pop_determined_poverty_status'\n        ]\n    ),\n\n    ## Households on public assistance\n    (\n        'norm',\n        [\n            'households_public_asst_or_food_stamps'\n        ],\n        'households'\n    ),\n    \n    ## Normalising Racial Populations by total_pop\n    (\n        'norm',\n        [\n            'black_pop',\n            'asian_pop',\n            'hispanic_pop',\n            'amerindian_pop',\n            'white_pop',\n            'non_white_pop', \n            'other_race_pop'\n        ],\n        'total_pop'\n\n    ),\n\n    ## Dropping two_or_more_races_pop\n    (\n        'drop',\n        [\n            'two_or_more_races_pop'\n        ]\n    ),\n\n    ## Population breakdown by sex\n    (\n        'norm',\n        [\n            'male_pop', 'female_pop'\n        ],\n        'total_pop'\n    ),\n\n    ## Marital Status\n    (\n        'agg',\n        [\n            'pop_never_married', 'pop_widowed','pop_separated', 'pop_divorced',\n        ],\n        'pop_currently_unmarried',\n        'total_pop'\n    ),\n\n    (\n        'norm',\n        [\n            'pop_now_married'\n        ],\n        'total_pop'\n    ),\n\n    ## Non-citizen population\n    (\n        'norm',\n        [\n            'not_us_citizen_pop'\n        ],\n        'total_pop'\n    ),\n\n    ## Normalised number of children\n    (\n        'norm',\n        [\n            'children',\n        ],\n        'total_pop'\n\n    ),\n\n    ## Household Structure\n    (\n        'norm',\n        [\n            'married_households', 'nonfamily_households', 'family_households', \n        ],\n        'households'\n    ),\n\n    ## Housing Statistics\n    (\n        'leave',\n        [\n            'renter_occupied_housing_units_paying_cash_median_gross_rent',\n            'owner_occupied_housing_units_lower_value_quartile', \n            'owner_occupied_housing_units_median_value',\n            'owner_occupied_housing_units_upper_value_quartile'\n        ]\n    ),\n\n    (\n        'norm',\n        [\n            'occupied_housing_units', 'housing_units_renter_occupied', 'vacant_housing_units', \n            'vacant_housing_units_for_rent', 'vacant_housing_units_for_sale', 'mobile_homes',\n            'multi_unit_structures'\n        ],\n        'housing_units'\n    ),\n\n    # Normalising popualtion living in group quarters\n    (\n        'norm',\n        [\n            'group_quarters'\n        ],\n        'total_pop'\n    ),\n\n    ## Housing Age\n    ## Leep housing_built_1939_or_earlier AND aggregate(housing_built_2000_to_2004, 2005-later)\n    (\n        'norm',\n        [\n            'housing_built_1939_or_earlier'\n        ],\n        'housing_units'\n    ),\n\n    (\n        'agg',\n        [\n            'housing_built_2005_or_later', 'housing_built_2000_to_2004'\n        ],\n        'housing_built_2004_or_later',\n        'housing_units',\n    ),\n    \n    ## Family Structure\n    (\n        'norm', \n        [\n            'children_in_single_female_hh'\n        ], \n        'children'\n    ),\n\n    (\n        'drop', \n        [\n            'two_parent_families_with_young_children',\n            'one_parent_families_with_young_children'\n        ]\n    ),\n\n    (\n        'drop', \n        [\n            'families_with_young_children',\n            'father_one_parent_families_with_young_children',\n            'father_in_labor_force_one_parent_families_with_young_children',\n            'two_parents_in_labor_force_families_with_young_children',\n            'two_parents_father_in_labor_force_families_with_young_children',\n            'two_parents_mother_in_labor_force_families_with_young_children',\n            'two_parents_not_in_labor_force_families_with_young_children',\n        ]\n    ),\n    \n    ## Rent burdens\n    ## Aggregate into bins of <30, 30-50, and 50+ rent burden, and drop the rest/original columns\n    ## Normalise with housing_units\n    (\n        'norm',\n        [\n            'rent_burden_not_computed'\n        ],\n        'housing_units'\n    ),\n\n\n    (\n        'agg',\n        [\n            'rent_25_to_30_percent',\n            'rent_20_to_25_percent', \n            'rent_15_to_20_percent',\n            'rent_10_to_15_percent', \n            'rent_under_10_percent'\n        ],\n        'rent_under_30_percent',\n        'housing_units'\n    ),\n\n    (\n        'agg',\n        [\n            'rent_40_to_50_percent', \n            'rent_35_to_40_percent',\n            'rent_30_to_35_percent'\n        ],\n        'rent_30_to_50_percent',\n        'housing_units'\n\n    ),\n\n    (\n        'norm',\n        ['rent_over_50_percent'],\n        'housing_units'\n    ),\n\n    \n    ## Commute times, would need to be normalised by pop_in_labor_force\n    ## ** Keep only aggregate_travel_time_to_work, walked_to_work, worked_at_home, no_car **\n    (\n        'norm',\n        [\n            'aggregate_travel_time_to_work',\n            'walked_to_work',\n            'worked_at_home',\n            'no_car', #All people in a geographic area over the age of 16 who do not own a car\n        ],\n        'pop_in_labor_force'\n    ),\n\n    (\n        'drop',\n        [\n            'commute_less_10_mins', 'commute_10_14_mins', 'commute_15_19_mins', \n            'commute_20_24_mins','commute_25_29_mins', 'commute_30_34_mins', \n            'commute_35_44_mins', 'commute_60_more_mins',\n            'commute_45_59_mins', 'commuters_16_over'\n        ]\n    ),\n    \n    ## Number of cars, normalise by households\n    ## ** Keep no_cars, aggreate([one_car, two_cars, three_cars, four_more_cars]) to has_cars,  \n    ## normalise by households\n\n    (\n        'norm',\n        [\n            'no_cars'\n        ],\n        'households'\n    ),\n\n    (\n        'agg',\n        [\n            'one_car', 'two_cars', 'three_cars', 'four_more_cars'\n        ],\n        'one_or_more_cars',\n        'households'\n    ),\n    \n    ## Commute Method\n    ## normalise by pop_in_labor_force\n    ## commuters_by_public_transportation dropped because it's a total and that information is already\n    ## available in bus + train\n    ## Keep bus, train, aggregate([car_truck_van, carpool, drove_alone])\n    (\n        'drop',\n        [\n            'commuters_by_public_transportation'\n        ]\n    ),\n    \n    (\n        'norm',\n        [\n            'commuters_by_subway_or_elevated', 'commuters_by_bus'            \n        ],\n        'pop_in_labor_force'\n    ),\n\n    (\n        'agg',\n        [\n            'commuters_by_car_truck_van', 'commuters_by_carpool', 'commuters_drove_alone'\n        ],\n        'commuters_personal_transport',\n        'pop_in_labor_force'\n    ),\n    \n    ## Degrees and Education, normalise by total_pop\n    ## ** aggregate_into[\n    ##     (high_school_including_ged, high_school_diploma),\n    ##     (associates_degree, less_one_year_college, some_college_and_associates_degree),\n    ##     (bachelors_degree, bachelors_degree_2),\n    ##     (masters_degree, graduate_professional_degree)\n    ## ]\n\n    (\n        'agg',\n        [\n            'less_than_high_school_graduate', 'high_school_including_ged', 'high_school_diploma'\n        ],\n        'education_high_school_or_less',\n        'total_pop'\n    ),\n\n    (\n        'agg',\n        [\n            'associates_degree', 'less_one_year_college', 'one_year_more_college', \n            'some_college_and_associates_degree'\n        ],\n        'education_less_than_bachelors',\n        'total_pop'\n    ),\n\n    (\n        'agg',\n        [\n            'bachelors_degree', 'bachelors_degree_2'\n        ],\n        'education_bachelors_degree',\n        'total_pop'\n    ),\n\n    (\n        'agg',\n        [\n            'masters_degree', 'graduate_professional_degree'\n        ],\n        'education_graduate_degree',\n        'total_pop'\n    ),\n    \n    ## Group into high/low income? Threshold? Normalise by households\n    ## income categories according to US Federal Income Tax Brackets Approximations\n    ## ** aggregate into categories [(0 - 14999), (15000 - 24999), (25000 - 34999), (35000 - 59999), \n    ##                              (60000 - 99999), (100000 - 199999), (200000+) \n    ##                              ]\n\n    (\n        'agg',\n        [\n            'income_less_10000', 'income_10000_14999',\n        ],\n        'income_less_14999',\n        'households'\n    ),\n\n    (\n        'agg',\n        [\n            'income_15000_19999', 'income_20000_24999'\n        ],\n        'income_15000_24999',\n        'households'\n    ),\n\n    (\n        'agg',\n        [\n            'income_25000_29999', 'income_30000_34999'\n        ],\n        'income_25000_34999',\n        'households'\n    ),\n\n    (\n        'agg',\n        [\n            'income_35000_39999', 'income_40000_44999', 'income_45000_49999', 'income_50000_59999'\n        ],\n        'income_35000_59999',\n        'households'\n    ),\n\n    (\n        'agg',\n        [\n            'income_60000_74999', 'income_75000_99999'\n        ],\n        'income_60000_99999',\n        'households'\n    ),\n\n    (\n        'agg',\n        [\n            'income_100000_124999','income_125000_149999', 'income_150000_199999'\n        ],\n        'income_100000_199999',\n        'households'\n    ),\n    \n    (\n        'norm',\n        [\n            'income_200000_or_more'\n        ],\n        'households'\n    ),\n\n    (\n        'norm',\n        [\n            'million_dollar_housing_units', 'mortgaged_housing_units', 'owner_occupied_housing_units'\n        ],\n        'housing_units'\n    ),\n\n    (\n        'norm',\n        [\n            'employed_pop', 'unemployed_pop'\n        ],\n        'pop_in_labor_force'\n    ),\n\n\n    (\n        'drop',\n        [\n            'management_business_sci_arts_employed',\n        ]\n    ),\n\n    (\n        'drop',\n        [\n            'not_in_labor_force', 'workers_16_and_over', 'armed_forces', 'civilian_labor_force', \n            'pop_in_labor_force', 'not_in_labor_force',\n        ]\n    ),\n]",
   "execution_count": null,
   "outputs": []
  },
  {
   "cell_type": "markdown",
   "source": "The code snippet below is a simple test to ensure that the elements in the `columns_to_clean` list are in the format we want. This is not an exhaustive test, however, and errors are possible.\n\n**\\[TO DO: Write more exhaustive tests?\\]**",
   "metadata": {
    "tags": [],
    "cell_id": "00025-01e6fabd-2c75-480f-852f-79dfda91ff41",
    "deepnote_cell_type": "markdown"
   }
  },
  {
   "cell_type": "code",
   "metadata": {
    "tags": [],
    "cell_id": "00014-3c77c14e-1eb6-409d-946a-480c5c43bc83",
    "deepnote_to_be_reexecuted": false,
    "source_hash": "b660eba7",
    "execution_millis": 0,
    "execution_start": 1618927666357,
    "deepnote_cell_type": "code"
   },
   "source": "assert np.all([x[0] in ['leave', 'norm', 'agg', 'drop'] for x in columns_to_clean])\nassert np.all([type(x[1]) == list for x in columns_to_clean])",
   "execution_count": null,
   "outputs": []
  },
  {
   "cell_type": "markdown",
   "source": "## Data Cleaning — Implementation",
   "metadata": {
    "tags": [],
    "cell_id": "00027-a4239b1a-1aaf-48d0-bea7-7487c0781bbe",
    "deepnote_cell_type": "markdown"
   }
  },
  {
   "cell_type": "markdown",
   "source": "The small code snippet below first converts the `columns_to_drop` list into a `set` to ensure there are no duplicates. We then call the `clean_data` function, which implements the logic for cleaning describes above.",
   "metadata": {
    "tags": [],
    "cell_id": "00028-5b485057-71f9-4715-b084-69338b42a8af",
    "deepnote_cell_type": "markdown"
   }
  },
  {
   "cell_type": "code",
   "metadata": {
    "tags": [],
    "cell_id": "00030-0dea0ba5-b553-4c5e-946f-f123ba030cd4",
    "deepnote_to_be_reexecuted": false,
    "source_hash": "c021942f",
    "execution_millis": 3023,
    "execution_start": 1618927668809,
    "deepnote_cell_type": "code"
   },
   "source": "columns_to_drop = set(columns_to_drop)\nacs = clean_data(acs, columns_to_clean, columns_to_drop)",
   "execution_count": null,
   "outputs": []
  },
  {
   "cell_type": "code",
   "metadata": {
    "tags": [],
    "cell_id": "00031-17781488-184e-4a37-bf23-ea5fe19606cf",
    "deepnote_to_be_reexecuted": false,
    "source_hash": "23e70330",
    "execution_millis": 16,
    "execution_start": 1618927671838,
    "deepnote_cell_type": "code"
   },
   "source": "list(acs.columns)",
   "execution_count": null,
   "outputs": [
    {
     "output_type": "execute_result",
     "execution_count": 22,
     "data": {
      "text/plain": "['geo_id',\n 'total_pop',\n 'households',\n 'median_age',\n 'median_income',\n 'income_per_capita',\n 'gini_index',\n 'housing_units',\n 'renter_occupied_housing_units_paying_cash_median_gross_rent',\n 'owner_occupied_housing_units_lower_value_quartile',\n 'owner_occupied_housing_units_median_value',\n 'owner_occupied_housing_units_upper_value_quartile',\n 'median_year_structure_built',\n 'median_rent',\n 'percent_income_spent_on_rent',\n 'bachelors_degree_or_higher_25_64',\n 'aged_65_or_older_normalised',\n 'aged_17_or_younger_normalised',\n 'multi_unit_structures_normalised',\n 'poverty_normalised',\n 'households_public_asst_or_food_stamps_normalised',\n 'black_pop_normalised',\n 'asian_pop_normalised',\n 'hispanic_pop_normalised',\n 'amerindian_pop_normalised',\n 'white_pop_normalised',\n 'non_white_pop_normalised',\n 'other_race_pop_normalised',\n 'male_pop_normalised',\n 'female_pop_normalised',\n 'pop_currently_unmarried_normalised',\n 'pop_now_married_normalised',\n 'not_us_citizen_pop_normalised',\n 'children_normalised',\n 'married_households_normalised',\n 'nonfamily_households_normalised',\n 'family_households_normalised',\n 'occupied_housing_units_normalised',\n 'housing_units_renter_occupied_normalised',\n 'vacant_housing_units_normalised',\n 'vacant_housing_units_for_rent_normalised',\n 'vacant_housing_units_for_sale_normalised',\n 'mobile_homes_normalised',\n 'group_quarters_normalised',\n 'housing_built_1939_or_earlier_normalised',\n 'housing_built_2004_or_later_normalised',\n 'children_in_single_female_hh_normalised',\n 'rent_burden_not_computed_normalised',\n 'rent_under_30_percent_normalised',\n 'rent_30_to_50_percent_normalised',\n 'rent_over_50_percent_normalised',\n 'aggregate_travel_time_to_work_normalised',\n 'walked_to_work_normalised',\n 'worked_at_home_normalised',\n 'no_car_normalised',\n 'no_cars_normalised',\n 'one_or_more_cars_normalised',\n 'commuters_by_subway_or_elevated_normalised',\n 'commuters_by_bus_normalised',\n 'commuters_personal_transport_normalised',\n 'education_high_school_or_less_normalised',\n 'education_less_than_bachelors_normalised',\n 'education_bachelors_degree_normalised',\n 'education_graduate_degree_normalised',\n 'income_less_14999_normalised',\n 'income_15000_24999_normalised',\n 'income_25000_34999_normalised',\n 'income_35000_59999_normalised',\n 'income_60000_99999_normalised',\n 'income_100000_199999_normalised',\n 'income_200000_or_more_normalised',\n 'million_dollar_housing_units_normalised',\n 'mortgaged_housing_units_normalised',\n 'owner_occupied_housing_units_normalised',\n 'employed_pop_normalised',\n 'unemployed_pop_normalised']"
     },
     "metadata": {}
    }
   ]
  },
  {
   "cell_type": "code",
   "metadata": {
    "tags": [],
    "cell_id": "00032-961757f6-ccaa-48fb-859c-d14628646aa6",
    "deepnote_to_be_reexecuted": false,
    "source_hash": "6229323c",
    "execution_millis": 30,
    "execution_start": 1618927671850,
    "deepnote_cell_type": "code"
   },
   "source": "# These should be 1.0 at most\nacs[acs.columns[-15:]].apply(lambda x: np.max(x), axis=0)",
   "execution_count": null,
   "outputs": [
    {
     "output_type": "execute_result",
     "execution_count": 23,
     "data": {
      "text/plain": "education_less_than_bachelors_normalised    2.0\neducation_bachelors_degree_normalised       2.0\neducation_graduate_degree_normalised        2.0\nincome_less_14999_normalised                1.0\nincome_15000_24999_normalised               1.0\nincome_25000_34999_normalised               1.0\nincome_35000_59999_normalised               1.0\nincome_60000_99999_normalised               1.0\nincome_100000_199999_normalised             1.0\nincome_200000_or_more_normalised            1.0\nmillion_dollar_housing_units_normalised     1.0\nmortgaged_housing_units_normalised          1.0\nowner_occupied_housing_units_normalised     1.0\nemployed_pop_normalised                     1.0\nunemployed_pop_normalised                   1.0\ndtype: float64"
     },
     "metadata": {}
    }
   ]
  },
  {
   "cell_type": "markdown",
   "source": "# Getting the Redlining GeoData",
   "metadata": {
    "tags": [],
    "cell_id": "00020-4944f45a-8386-45bb-979c-791832cb7eaf",
    "deepnote_cell_type": "markdown"
   }
  },
  {
   "cell_type": "code",
   "metadata": {
    "tags": [],
    "output_cleared": false,
    "source_hash": "20ad4030",
    "execution_millis": 3308,
    "deepnote_to_be_reexecuted": false,
    "cell_id": "00022-95ef0d26-2412-4a85-8220-ec014c7377f0",
    "execution_start": 1618927672371,
    "deepnote_cell_type": "code"
   },
   "source": "# Reading the goe_files for each city.\ngeo_files = [\n\"/work/COVIDRedlining/data/dallas/dallas_redlined_numerical_values.geojson\",\n\"/work/COVIDRedlining/data/detroit/detroit_redlined_numerical_values.geojson\",\n\"/work/COVIDRedlining/data/new york/ny_redlined_numerical_values.geojson\",\n\"/work/COVIDRedlining/data/minneapolis/minneapolis_redlined_numerical_values.geojson\",\n\"/work/COVIDRedlining/data/california/cali_redlined_numerical_values.geojson\",\n\"/work/COVIDRedlining/data/boston/boston_redlined_numerical_values.geojson\",\n\"/work/COVIDRedlining/data/tampa/tampa_redlined_numerical_values.geojson\",\n\"/work/COVIDRedlining/data/newark/newark_redlined_numerical_values.geojson\",\n\"/work/COVIDRedlining/data/chicago/chicago_redlined_numerical_values.geojson\",\n\"/work/COVIDRedlining/data/atlanta/atlanta_redlined_numerical_values.geojson\",\n]\n\ndfs = [gpd.read_file(x) for x in geo_files]",
   "execution_count": null,
   "outputs": []
  },
  {
   "cell_type": "code",
   "metadata": {
    "tags": [],
    "output_cleared": false,
    "source_hash": "49407cd5",
    "execution_millis": 14,
    "deepnote_to_be_reexecuted": false,
    "cell_id": "00023-33de4eac-cd9e-4d7d-974c-65fc1762fa85",
    "execution_start": 1618927675684,
    "deepnote_cell_type": "code"
   },
   "source": "# Shows the number of rows per city\nnum_rows = [len(x) for x in dfs]\ncity_names = [x.split(\"_\", 1)[0].split(\"/\")[-1] for x in geo_files]\n# Number of data points for each city\nfor x in zip(city_names, num_rows):\n    print(x)",
   "execution_count": null,
   "outputs": [
    {
     "name": "stdout",
     "text": "('dallas', 122)\n('detroit', 573)\n('ny', 2122)\n('minneapolis', 124)\n('cali', 2146)\n('boston', 196)\n('tampa', 60)\n('newark', 224)\n('chicago', 1033)\n('atlanta', 135)\n",
     "output_type": "stream"
    }
   ]
  },
  {
   "cell_type": "code",
   "metadata": {
    "tags": [],
    "output_cleared": false,
    "source_hash": "81b6f70d",
    "execution_millis": 76,
    "deepnote_to_be_reexecuted": false,
    "cell_id": "00024-fa5b6fa1-d2bf-41cb-8a61-e4a808bcfab0",
    "execution_start": 1618927675692,
    "deepnote_cell_type": "code"
   },
   "source": "# Rounding off the reweighted_redline_index to 2 decimal places to reduce spurious variability\n# i.e., 3.1111 and 3.1156 are not different enough to be consider very different\ngeo_intersect = pd.DataFrame(pd.concat(dfs))\ngeo_intersect = geo_intersect[[\"GEOID\", \"reweighted_redline_index\",\"ordinal_value\"]]\ngeo_intersect['reweighted_redline_index'] = geo_intersect['reweighted_redline_index'].round(2)\ngeo_intersect",
   "execution_count": null,
   "outputs": [
    {
     "output_type": "execute_result",
     "execution_count": 26,
     "data": {
      "application/vnd.deepnote.dataframe.v2+json": {
       "row_count": 6735,
       "column_count": 3,
       "columns": [
        {
         "name": "GEOID",
         "dtype": "float64",
         "stats": {
          "unique_count": 6735,
          "nan_count": 0,
          "min": "6001400100.0",
          "max": "48113980100.0",
          "histogram": [
           {
            "bin_start": 6001400100,
            "bin_end": 10212658100,
            "count": 2146
           },
           {
            "bin_start": 10212658100,
            "bin_end": 14423916100,
            "count": 195
           },
           {
            "bin_start": 14423916100,
            "bin_end": 18635174100,
            "count": 1033
           },
           {
            "bin_start": 18635174100,
            "bin_end": 22846432100,
            "count": 0
           },
           {
            "bin_start": 22846432100,
            "bin_end": 27057690100,
            "count": 891
           },
           {
            "bin_start": 27057690100,
            "bin_end": 31268948100,
            "count": 2
           },
           {
            "bin_start": 31268948100,
            "bin_end": 35480206100,
            "count": 224
           },
           {
            "bin_start": 35480206100,
            "bin_end": 39691464100,
            "count": 2122
           },
           {
            "bin_start": 39691464100,
            "bin_end": 43902722100,
            "count": 0
           },
           {
            "bin_start": 43902722100,
            "bin_end": 48113980100,
            "count": 122
           }
          ]
         }
        },
        {
         "name": "reweighted_redline_index",
         "dtype": "float64",
         "stats": {
          "unique_count": 322,
          "nan_count": 0,
          "min": "0.0",
          "max": "4.86",
          "histogram": [
           {
            "bin_start": 0,
            "bin_end": 0.48600000000000004,
            "count": 15
           },
           {
            "bin_start": 0.48600000000000004,
            "bin_end": 0.9720000000000001,
            "count": 12
           },
           {
            "bin_start": 0.9720000000000001,
            "bin_end": 1.4580000000000002,
            "count": 240
           },
           {
            "bin_start": 1.4580000000000002,
            "bin_end": 1.9440000000000002,
            "count": 143
           },
           {
            "bin_start": 1.9440000000000002,
            "bin_end": 2.43,
            "count": 936
           },
           {
            "bin_start": 2.43,
            "bin_end": 2.9160000000000004,
            "count": 501
           },
           {
            "bin_start": 2.9160000000000004,
            "bin_end": 3.402,
            "count": 2814
           },
           {
            "bin_start": 3.402,
            "bin_end": 3.8880000000000003,
            "count": 403
           },
           {
            "bin_start": 3.8880000000000003,
            "bin_end": 4.3740000000000006,
            "count": 1668
           },
           {
            "bin_start": 4.3740000000000006,
            "bin_end": 4.86,
            "count": 3
           }
          ]
         }
        },
        {
         "name": "ordinal_value",
         "dtype": "int64",
         "stats": {
          "unique_count": 5,
          "nan_count": 0,
          "min": "1",
          "max": "5",
          "histogram": [
           {
            "bin_start": 1,
            "bin_end": 1.4,
            "count": 107
           },
           {
            "bin_start": 1.4,
            "bin_end": 1.8,
            "count": 0
           },
           {
            "bin_start": 1.8,
            "bin_end": 2.2,
            "count": 727
           },
           {
            "bin_start": 2.2,
            "bin_end": 2.6,
            "count": 0
           },
           {
            "bin_start": 2.6,
            "bin_end": 3,
            "count": 0
           },
           {
            "bin_start": 3,
            "bin_end": 3.4000000000000004,
            "count": 2983
           },
           {
            "bin_start": 3.4000000000000004,
            "bin_end": 3.8000000000000003,
            "count": 0
           },
           {
            "bin_start": 3.8000000000000003,
            "bin_end": 4.2,
            "count": 2915
           },
           {
            "bin_start": 4.2,
            "bin_end": 4.6,
            "count": 0
           },
           {
            "bin_start": 4.6,
            "bin_end": 5,
            "count": 3
           }
          ]
         }
        },
        {
         "name": "_deepnote_index_column",
         "dtype": "int64"
        }
       ],
       "rows_top": [
        {
         "GEOID": 48113980100,
         "reweighted_redline_index": 3.1,
         "ordinal_value": 4,
         "_deepnote_index_column": 0
        },
        {
         "GEOID": 48113000605,
         "reweighted_redline_index": 2.09,
         "ordinal_value": 3,
         "_deepnote_index_column": 1
        },
        {
         "GEOID": 48113007101,
         "reweighted_redline_index": 1,
         "ordinal_value": 1,
         "_deepnote_index_column": 2
        },
        {
         "GEOID": 48113004201,
         "reweighted_redline_index": 2.16,
         "ordinal_value": 3,
         "_deepnote_index_column": 3
        },
        {
         "GEOID": 48113005901,
         "reweighted_redline_index": 3,
         "ordinal_value": 3,
         "_deepnote_index_column": 4
        },
        {
         "GEOID": 48113006200,
         "reweighted_redline_index": 2.52,
         "ordinal_value": 3,
         "_deepnote_index_column": 5
        },
        {
         "GEOID": 48113006301,
         "reweighted_redline_index": 3,
         "ordinal_value": 3,
         "_deepnote_index_column": 6
        },
        {
         "GEOID": 48113006302,
         "reweighted_redline_index": 2.85,
         "ordinal_value": 3,
         "_deepnote_index_column": 7
        },
        {
         "GEOID": 48113006501,
         "reweighted_redline_index": 3,
         "ordinal_value": 3,
         "_deepnote_index_column": 8
        },
        {
         "GEOID": 48113006502,
         "reweighted_redline_index": 3,
         "ordinal_value": 3,
         "_deepnote_index_column": 9
        },
        {
         "GEOID": 48113011300,
         "reweighted_redline_index": 3,
         "ordinal_value": 3,
         "_deepnote_index_column": 10
        },
        {
         "GEOID": 48113001800,
         "reweighted_redline_index": 3.43,
         "ordinal_value": 4,
         "_deepnote_index_column": 11
        },
        {
         "GEOID": 48113001900,
         "reweighted_redline_index": 4,
         "ordinal_value": 4,
         "_deepnote_index_column": 12
        },
        {
         "GEOID": 48113002000,
         "reweighted_redline_index": 3.14,
         "ordinal_value": 4,
         "_deepnote_index_column": 13
        },
        {
         "GEOID": 48113002100,
         "reweighted_redline_index": 4,
         "ordinal_value": 4,
         "_deepnote_index_column": 14
        },
        {
         "GEOID": 48113001202,
         "reweighted_redline_index": 2.12,
         "ordinal_value": 3,
         "_deepnote_index_column": 15
        },
        {
         "GEOID": 48113001203,
         "reweighted_redline_index": 2.58,
         "ordinal_value": 3,
         "_deepnote_index_column": 16
        },
        {
         "GEOID": 48113008703,
         "reweighted_redline_index": 3,
         "ordinal_value": 3,
         "_deepnote_index_column": 17
        },
        {
         "GEOID": 48113007700,
         "reweighted_redline_index": 1,
         "ordinal_value": 1,
         "_deepnote_index_column": 18
        },
        {
         "GEOID": 48113011500,
         "reweighted_redline_index": 3.92,
         "ordinal_value": 4,
         "_deepnote_index_column": 19
        },
        {
         "GEOID": 48113005902,
         "reweighted_redline_index": 3,
         "ordinal_value": 3,
         "_deepnote_index_column": 20
        },
        {
         "GEOID": 48113007601,
         "reweighted_redline_index": 1,
         "ordinal_value": 1,
         "_deepnote_index_column": 21
        },
        {
         "GEOID": 48113007604,
         "reweighted_redline_index": 1,
         "ordinal_value": 1,
         "_deepnote_index_column": 22
        },
        {
         "GEOID": 48113007605,
         "reweighted_redline_index": 1,
         "ordinal_value": 1,
         "_deepnote_index_column": 23
        },
        {
         "GEOID": 48113004700,
         "reweighted_redline_index": 3,
         "ordinal_value": 3,
         "_deepnote_index_column": 24
        },
        {
         "GEOID": 48113004800,
         "reweighted_redline_index": 3.12,
         "ordinal_value": 4,
         "_deepnote_index_column": 25
        },
        {
         "GEOID": 48113004900,
         "reweighted_redline_index": 3.29,
         "ordinal_value": 4,
         "_deepnote_index_column": 26
        },
        {
         "GEOID": 48113005000,
         "reweighted_redline_index": 3,
         "ordinal_value": 3,
         "_deepnote_index_column": 27
        },
        {
         "GEOID": 48113005100,
         "reweighted_redline_index": 3,
         "ordinal_value": 3,
         "_deepnote_index_column": 28
        },
        {
         "GEOID": 48113005200,
         "reweighted_redline_index": 2.99,
         "ordinal_value": 3,
         "_deepnote_index_column": 29
        },
        {
         "GEOID": 48113002500,
         "reweighted_redline_index": 2.97,
         "ordinal_value": 3,
         "_deepnote_index_column": 30
        },
        {
         "GEOID": 48113002702,
         "reweighted_redline_index": 3.61,
         "ordinal_value": 4,
         "_deepnote_index_column": 31
        },
        {
         "GEOID": 48113005400,
         "reweighted_redline_index": 2.41,
         "ordinal_value": 3,
         "_deepnote_index_column": 32
        },
        {
         "GEOID": 48113005500,
         "reweighted_redline_index": 2.81,
         "ordinal_value": 3,
         "_deepnote_index_column": 33
        },
        {
         "GEOID": 48113005300,
         "reweighted_redline_index": 2.59,
         "ordinal_value": 3,
         "_deepnote_index_column": 34
        },
        {
         "GEOID": 48113005600,
         "reweighted_redline_index": 2.98,
         "ordinal_value": 3,
         "_deepnote_index_column": 35
        },
        {
         "GEOID": 48113005700,
         "reweighted_redline_index": 3,
         "ordinal_value": 3,
         "_deepnote_index_column": 36
        },
        {
         "GEOID": 48113002200,
         "reweighted_redline_index": 3.91,
         "ordinal_value": 4,
         "_deepnote_index_column": 37
        },
        {
         "GEOID": 48113002400,
         "reweighted_redline_index": 3,
         "ordinal_value": 4,
         "_deepnote_index_column": 38
        },
        {
         "GEOID": 48113002701,
         "reweighted_redline_index": 3.97,
         "ordinal_value": 4,
         "_deepnote_index_column": 39
        },
        {
         "GEOID": 48113008400,
         "reweighted_redline_index": 2,
         "ordinal_value": 2,
         "_deepnote_index_column": 40
        },
        {
         "GEOID": 48113008704,
         "reweighted_redline_index": 3,
         "ordinal_value": 3,
         "_deepnote_index_column": 41
        },
        {
         "GEOID": 48113008801,
         "reweighted_redline_index": 2.93,
         "ordinal_value": 3,
         "_deepnote_index_column": 42
        },
        {
         "GEOID": 48113001704,
         "reweighted_redline_index": 3.62,
         "ordinal_value": 4,
         "_deepnote_index_column": 43
        },
        {
         "GEOID": 48113010101,
         "reweighted_redline_index": 4,
         "ordinal_value": 4,
         "_deepnote_index_column": 44
        },
        {
         "GEOID": 48113010102,
         "reweighted_redline_index": 4,
         "ordinal_value": 4,
         "_deepnote_index_column": 45
        },
        {
         "GEOID": 48113000606,
         "reweighted_redline_index": 1.63,
         "ordinal_value": 2,
         "_deepnote_index_column": 46
        },
        {
         "GEOID": 48113003400,
         "reweighted_redline_index": 3.29,
         "ordinal_value": 4,
         "_deepnote_index_column": 47
        },
        {
         "GEOID": 48113010000,
         "reweighted_redline_index": 2.93,
         "ordinal_value": 3,
         "_deepnote_index_column": 48
        },
        {
         "GEOID": 48113001504,
         "reweighted_redline_index": 2.79,
         "ordinal_value": 3,
         "_deepnote_index_column": 49
        },
        {
         "GEOID": 48113006700,
         "reweighted_redline_index": 3,
         "ordinal_value": 3,
         "_deepnote_index_column": 50
        },
        {
         "GEOID": 48113006800,
         "reweighted_redline_index": 2.9,
         "ordinal_value": 3,
         "_deepnote_index_column": 51
        },
        {
         "GEOID": 48113006900,
         "reweighted_redline_index": 3,
         "ordinal_value": 3,
         "_deepnote_index_column": 52
        },
        {
         "GEOID": 48113000100,
         "reweighted_redline_index": 1.05,
         "ordinal_value": 2,
         "_deepnote_index_column": 53
        },
        {
         "GEOID": 48113000201,
         "reweighted_redline_index": 1.1,
         "ordinal_value": 2,
         "_deepnote_index_column": 54
        },
        {
         "GEOID": 48113000202,
         "reweighted_redline_index": 1.11,
         "ordinal_value": 2,
         "_deepnote_index_column": 55
        },
        {
         "GEOID": 48113000300,
         "reweighted_redline_index": 1.21,
         "ordinal_value": 2,
         "_deepnote_index_column": 56
        },
        {
         "GEOID": 48113000401,
         "reweighted_redline_index": 3,
         "ordinal_value": 3,
         "_deepnote_index_column": 57
        },
        {
         "GEOID": 48113000404,
         "reweighted_redline_index": 2.37,
         "ordinal_value": 3,
         "_deepnote_index_column": 58
        },
        {
         "GEOID": 48113000500,
         "reweighted_redline_index": 2.97,
         "ordinal_value": 3,
         "_deepnote_index_column": 59
        },
        {
         "GEOID": 48113000601,
         "reweighted_redline_index": 2.72,
         "ordinal_value": 3,
         "_deepnote_index_column": 60
        },
        {
         "GEOID": 48113000603,
         "reweighted_redline_index": 1.98,
         "ordinal_value": 2,
         "_deepnote_index_column": 61
        },
        {
         "GEOID": 48113000701,
         "reweighted_redline_index": 2.96,
         "ordinal_value": 3,
         "_deepnote_index_column": 62
        },
        {
         "GEOID": 48113000702,
         "reweighted_redline_index": 2.92,
         "ordinal_value": 3,
         "_deepnote_index_column": 63
        },
        {
         "GEOID": 48113000800,
         "reweighted_redline_index": 3,
         "ordinal_value": 4,
         "_deepnote_index_column": 64
        },
        {
         "GEOID": 48113000900,
         "reweighted_redline_index": 2.98,
         "ordinal_value": 3,
         "_deepnote_index_column": 65
        },
        {
         "GEOID": 48113000405,
         "reweighted_redline_index": 3,
         "ordinal_value": 3,
         "_deepnote_index_column": 66
        },
        {
         "GEOID": 48113001001,
         "reweighted_redline_index": 2,
         "ordinal_value": 3,
         "_deepnote_index_column": 67
        },
        {
         "GEOID": 48113001002,
         "reweighted_redline_index": 2.25,
         "ordinal_value": 3,
         "_deepnote_index_column": 68
        },
        {
         "GEOID": 48113001102,
         "reweighted_redline_index": 1.94,
         "ordinal_value": 2,
         "_deepnote_index_column": 69
        },
        {
         "GEOID": 48113001204,
         "reweighted_redline_index": 3,
         "ordinal_value": 3,
         "_deepnote_index_column": 70
        },
        {
         "GEOID": 48113001301,
         "reweighted_redline_index": 2.31,
         "ordinal_value": 3,
         "_deepnote_index_column": 71
        },
        {
         "GEOID": 48113001302,
         "reweighted_redline_index": 2.84,
         "ordinal_value": 3,
         "_deepnote_index_column": 72
        },
        {
         "GEOID": 48113001400,
         "reweighted_redline_index": 1.67,
         "ordinal_value": 2,
         "_deepnote_index_column": 73
        },
        {
         "GEOID": 48113001101,
         "reweighted_redline_index": 1.95,
         "ordinal_value": 2,
         "_deepnote_index_column": 74
        },
        {
         "GEOID": 48113001502,
         "reweighted_redline_index": 3.08,
         "ordinal_value": 4,
         "_deepnote_index_column": 75
        },
        {
         "GEOID": 48113001503,
         "reweighted_redline_index": 2.7,
         "ordinal_value": 3,
         "_deepnote_index_column": 76
        },
        {
         "GEOID": 48113001600,
         "reweighted_redline_index": 3.29,
         "ordinal_value": 4,
         "_deepnote_index_column": 77
        },
        {
         "GEOID": 48113001701,
         "reweighted_redline_index": 3.68,
         "ordinal_value": 4,
         "_deepnote_index_column": 78
        },
        {
         "GEOID": 48113008603,
         "reweighted_redline_index": 3,
         "ordinal_value": 3,
         "_deepnote_index_column": 79
        },
        {
         "GEOID": 48113019302,
         "reweighted_redline_index": 2,
         "ordinal_value": 2,
         "_deepnote_index_column": 80
        },
        {
         "GEOID": 48113004600,
         "reweighted_redline_index": 2.58,
         "ordinal_value": 3,
         "_deepnote_index_column": 81
        },
        {
         "GEOID": 48113007102,
         "reweighted_redline_index": 3.79,
         "ordinal_value": 4,
         "_deepnote_index_column": 82
        },
        {
         "GEOID": 48113007301,
         "reweighted_redline_index": 1,
         "ordinal_value": 1,
         "_deepnote_index_column": 83
        },
        {
         "GEOID": 48113007302,
         "reweighted_redline_index": 2,
         "ordinal_value": 3,
         "_deepnote_index_column": 84
        },
        {
         "GEOID": 48113003700,
         "reweighted_redline_index": 3,
         "ordinal_value": 4,
         "_deepnote_index_column": 85
        },
        {
         "GEOID": 48113007906,
         "reweighted_redline_index": 2,
         "ordinal_value": 2,
         "_deepnote_index_column": 86
        },
        {
         "GEOID": 48113003800,
         "reweighted_redline_index": 3,
         "ordinal_value": 3,
         "_deepnote_index_column": 87
        },
        {
         "GEOID": 48113003901,
         "reweighted_redline_index": 3.16,
         "ordinal_value": 4,
         "_deepnote_index_column": 88
        },
        {
         "GEOID": 48113008705,
         "reweighted_redline_index": 3,
         "ordinal_value": 3,
         "_deepnote_index_column": 89
        },
        {
         "GEOID": 48113010701,
         "reweighted_redline_index": 3,
         "ordinal_value": 3,
         "_deepnote_index_column": 90
        },
        {
         "GEOID": 48113003902,
         "reweighted_redline_index": 3.89,
         "ordinal_value": 4,
         "_deepnote_index_column": 91
        },
        {
         "GEOID": 48113004000,
         "reweighted_redline_index": 3.18,
         "ordinal_value": 4,
         "_deepnote_index_column": 92
        },
        {
         "GEOID": 48113004100,
         "reweighted_redline_index": 4,
         "ordinal_value": 4,
         "_deepnote_index_column": 93
        },
        {
         "GEOID": 48113004202,
         "reweighted_redline_index": 2.44,
         "ordinal_value": 3,
         "_deepnote_index_column": 94
        },
        {
         "GEOID": 48113004300,
         "reweighted_redline_index": 3.76,
         "ordinal_value": 4,
         "_deepnote_index_column": 95
        },
        {
         "GEOID": 48113004400,
         "reweighted_redline_index": 1.31,
         "ordinal_value": 2,
         "_deepnote_index_column": 96
        },
        {
         "GEOID": 48113004500,
         "reweighted_redline_index": 2.7,
         "ordinal_value": 3,
         "_deepnote_index_column": 97
        },
        {
         "GEOID": 48113008000,
         "reweighted_redline_index": 1.03,
         "ordinal_value": 2,
         "_deepnote_index_column": 98
        },
        {
         "GEOID": 48113008100,
         "reweighted_redline_index": 1,
         "ordinal_value": 1,
         "_deepnote_index_column": 99
        },
        {
         "GEOID": 48113008802,
         "reweighted_redline_index": 3,
         "ordinal_value": 3,
         "_deepnote_index_column": 100
        },
        {
         "GEOID": 48113008900,
         "reweighted_redline_index": 3.09,
         "ordinal_value": 4,
         "_deepnote_index_column": 101
        },
        {
         "GEOID": 48113019301,
         "reweighted_redline_index": 1.27,
         "ordinal_value": 2,
         "_deepnote_index_column": 102
        },
        {
         "GEOID": 48113019400,
         "reweighted_redline_index": 1.42,
         "ordinal_value": 2,
         "_deepnote_index_column": 103
        },
        {
         "GEOID": 48113019501,
         "reweighted_redline_index": 1,
         "ordinal_value": 2,
         "_deepnote_index_column": 104
        },
        {
         "GEOID": 48113019502,
         "reweighted_redline_index": 1,
         "ordinal_value": 1,
         "_deepnote_index_column": 105
        },
        {
         "GEOID": 48113019600,
         "reweighted_redline_index": 2,
         "ordinal_value": 2,
         "_deepnote_index_column": 106
        },
        {
         "GEOID": 48113019700,
         "reweighted_redline_index": 1.85,
         "ordinal_value": 2,
         "_deepnote_index_column": 107
        },
        {
         "GEOID": 48113019800,
         "reweighted_redline_index": 1.06,
         "ordinal_value": 2,
         "_deepnote_index_column": 108
        },
        {
         "GEOID": 48113019900,
         "reweighted_redline_index": 3,
         "ordinal_value": 3,
         "_deepnote_index_column": 109
        },
        {
         "GEOID": 48113001703,
         "reweighted_redline_index": 3.04,
         "ordinal_value": 4,
         "_deepnote_index_column": 110
        },
        {
         "GEOID": 48113020300,
         "reweighted_redline_index": 3.09,
         "ordinal_value": 4,
         "_deepnote_index_column": 111
        },
        {
         "GEOID": 48113020500,
         "reweighted_redline_index": 4,
         "ordinal_value": 4,
         "_deepnote_index_column": 112
        },
        {
         "GEOID": 48113020600,
         "reweighted_redline_index": 1,
         "ordinal_value": 1,
         "_deepnote_index_column": 113
        },
        {
         "GEOID": 48113006402,
         "reweighted_redline_index": 2.96,
         "ordinal_value": 3,
         "_deepnote_index_column": 114
        },
        {
         "GEOID": 48113010804,
         "reweighted_redline_index": 3,
         "ordinal_value": 3,
         "_deepnote_index_column": 115
        },
        {
         "GEOID": 48113006401,
         "reweighted_redline_index": 2,
         "ordinal_value": 2,
         "_deepnote_index_column": 116
        },
        {
         "GEOID": 48113009101,
         "reweighted_redline_index": 2,
         "ordinal_value": 2,
         "_deepnote_index_column": 117
        },
        {
         "GEOID": 48113020400,
         "reweighted_redline_index": 3.99,
         "ordinal_value": 4,
         "_deepnote_index_column": 118
        },
        {
         "GEOID": 48113000406,
         "reweighted_redline_index": 2.49,
         "ordinal_value": 3,
         "_deepnote_index_column": 119
        },
        {
         "GEOID": 48113007913,
         "reweighted_redline_index": 2,
         "ordinal_value": 2,
         "_deepnote_index_column": 120
        },
        {
         "GEOID": 48113007914,
         "reweighted_redline_index": 1.99,
         "ordinal_value": 2,
         "_deepnote_index_column": 121
        },
        {
         "GEOID": 26163550800,
         "reweighted_redline_index": 1.46,
         "ordinal_value": 2,
         "_deepnote_index_column": 0
        },
        {
         "GEOID": 26163550900,
         "reweighted_redline_index": 1,
         "ordinal_value": 2,
         "_deepnote_index_column": 1
        },
        {
         "GEOID": 26163551100,
         "reweighted_redline_index": 1.04,
         "ordinal_value": 2,
         "_deepnote_index_column": 2
        },
        {
         "GEOID": 26163551200,
         "reweighted_redline_index": 1.76,
         "ordinal_value": 2,
         "_deepnote_index_column": 3
        },
        {
         "GEOID": 26163551300,
         "reweighted_redline_index": 3,
         "ordinal_value": 3,
         "_deepnote_index_column": 4
        },
        {
         "GEOID": 26163551700,
         "reweighted_redline_index": 1.39,
         "ordinal_value": 2,
         "_deepnote_index_column": 5
        },
        {
         "GEOID": 26163551800,
         "reweighted_redline_index": 2,
         "ordinal_value": 3,
         "_deepnote_index_column": 6
        },
        {
         "GEOID": 26163552100,
         "reweighted_redline_index": 3.63,
         "ordinal_value": 4,
         "_deepnote_index_column": 7
        },
        {
         "GEOID": 26163552200,
         "reweighted_redline_index": 3.59,
         "ordinal_value": 4,
         "_deepnote_index_column": 8
        },
        {
         "GEOID": 26125184500,
         "reweighted_redline_index": 2.74,
         "ordinal_value": 3,
         "_deepnote_index_column": 9
        },
        {
         "GEOID": 26163516600,
         "reweighted_redline_index": 4,
         "ordinal_value": 4,
         "_deepnote_index_column": 10
        },
        {
         "GEOID": 26163522000,
         "reweighted_redline_index": 3.99,
         "ordinal_value": 4,
         "_deepnote_index_column": 11
        },
        {
         "GEOID": 26125183900,
         "reweighted_redline_index": 3,
         "ordinal_value": 3,
         "_deepnote_index_column": 12
        },
        {
         "GEOID": 26125184000,
         "reweighted_redline_index": 2.63,
         "ordinal_value": 3,
         "_deepnote_index_column": 13
        },
        {
         "GEOID": 26125184100,
         "reweighted_redline_index": 3,
         "ordinal_value": 3,
         "_deepnote_index_column": 14
        },
        {
         "GEOID": 26125184200,
         "reweighted_redline_index": 3,
         "ordinal_value": 3,
         "_deepnote_index_column": 15
        },
        {
         "GEOID": 26125184400,
         "reweighted_redline_index": 3,
         "ordinal_value": 3,
         "_deepnote_index_column": 16
        },
        {
         "GEOID": 26125184600,
         "reweighted_redline_index": 3.09,
         "ordinal_value": 4,
         "_deepnote_index_column": 17
        },
        {
         "GEOID": 26125184700,
         "reweighted_redline_index": 3.73,
         "ordinal_value": 4,
         "_deepnote_index_column": 18
        },
        {
         "GEOID": 26125187000,
         "reweighted_redline_index": 2.4,
         "ordinal_value": 3,
         "_deepnote_index_column": 19
        },
        {
         "GEOID": 26125188000,
         "reweighted_redline_index": 1.63,
         "ordinal_value": 2,
         "_deepnote_index_column": 20
        },
        {
         "GEOID": 26163503500,
         "reweighted_redline_index": 2.16,
         "ordinal_value": 3,
         "_deepnote_index_column": 21
        },
        {
         "GEOID": 26163503100,
         "reweighted_redline_index": 3,
         "ordinal_value": 3,
         "_deepnote_index_column": 22
        },
        {
         "GEOID": 26163503200,
         "reweighted_redline_index": 3,
         "ordinal_value": 3,
         "_deepnote_index_column": 23
        },
        {
         "GEOID": 26163503400,
         "reweighted_redline_index": 2.99,
         "ordinal_value": 3,
         "_deepnote_index_column": 24
        },
        {
         "GEOID": 26163503600,
         "reweighted_redline_index": 2.7,
         "ordinal_value": 3,
         "_deepnote_index_column": 25
        },
        {
         "GEOID": 26163504100,
         "reweighted_redline_index": 1.99,
         "ordinal_value": 2,
         "_deepnote_index_column": 26
        },
        {
         "GEOID": 26163553100,
         "reweighted_redline_index": 3,
         "ordinal_value": 3,
         "_deepnote_index_column": 27
        },
        {
         "GEOID": 26163553200,
         "reweighted_redline_index": 3.02,
         "ordinal_value": 4,
         "_deepnote_index_column": 28
        },
        {
         "GEOID": 26163503900,
         "reweighted_redline_index": 2,
         "ordinal_value": 2,
         "_deepnote_index_column": 29
        },
        {
         "GEOID": 26163504200,
         "reweighted_redline_index": 2,
         "ordinal_value": 2,
         "_deepnote_index_column": 30
        },
        {
         "GEOID": 26163504300,
         "reweighted_redline_index": 2,
         "ordinal_value": 2,
         "_deepnote_index_column": 31
        },
        {
         "GEOID": 26163504400,
         "reweighted_redline_index": 2.06,
         "ordinal_value": 3,
         "_deepnote_index_column": 32
        },
        {
         "GEOID": 26163504700,
         "reweighted_redline_index": 3.67,
         "ordinal_value": 4,
         "_deepnote_index_column": 33
        },
        {
         "GEOID": 26163504800,
         "reweighted_redline_index": 3.57,
         "ordinal_value": 4,
         "_deepnote_index_column": 34
        },
        {
         "GEOID": 26163504900,
         "reweighted_redline_index": 3,
         "ordinal_value": 3,
         "_deepnote_index_column": 35
        },
        {
         "GEOID": 26163505000,
         "reweighted_redline_index": 3,
         "ordinal_value": 3,
         "_deepnote_index_column": 36
        },
        {
         "GEOID": 26163505100,
         "reweighted_redline_index": 3,
         "ordinal_value": 3,
         "_deepnote_index_column": 37
        },
        {
         "GEOID": 26163526500,
         "reweighted_redline_index": 3.24,
         "ordinal_value": 4,
         "_deepnote_index_column": 38
        },
        {
         "GEOID": 26163545900,
         "reweighted_redline_index": 3,
         "ordinal_value": 3,
         "_deepnote_index_column": 39
        },
        {
         "GEOID": 26163985700,
         "reweighted_redline_index": 4,
         "ordinal_value": 4,
         "_deepnote_index_column": 40
        },
        {
         "GEOID": 26163546100,
         "reweighted_redline_index": 3,
         "ordinal_value": 3,
         "_deepnote_index_column": 41
        },
        {
         "GEOID": 26163546400,
         "reweighted_redline_index": 4,
         "ordinal_value": 4,
         "_deepnote_index_column": 42
        },
        {
         "GEOID": 26163546500,
         "reweighted_redline_index": 4,
         "ordinal_value": 4,
         "_deepnote_index_column": 43
        }
       ],
       "rows_bottom": [
        {
         "GEOID": 17031807400,
         "reweighted_redline_index": 2,
         "ordinal_value": 2,
         "_deepnote_index_column": 1001
        },
        {
         "GEOID": 17031807500,
         "reweighted_redline_index": 2,
         "ordinal_value": 2,
         "_deepnote_index_column": 1002
        },
        {
         "GEOID": 17031807700,
         "reweighted_redline_index": 2.31,
         "ordinal_value": 3,
         "_deepnote_index_column": 1003
        },
        {
         "GEOID": 17031807900,
         "reweighted_redline_index": 1.5,
         "ordinal_value": 2,
         "_deepnote_index_column": 1004
        },
        {
         "GEOID": 17031808001,
         "reweighted_redline_index": 2.92,
         "ordinal_value": 3,
         "_deepnote_index_column": 1005
        },
        {
         "GEOID": 17031808002,
         "reweighted_redline_index": 2.62,
         "ordinal_value": 3,
         "_deepnote_index_column": 1006
        },
        {
         "GEOID": 17031808301,
         "reweighted_redline_index": 3,
         "ordinal_value": 3,
         "_deepnote_index_column": 1007
        },
        {
         "GEOID": 17031808302,
         "reweighted_redline_index": 2.16,
         "ordinal_value": 3,
         "_deepnote_index_column": 1008
        },
        {
         "GEOID": 17031808600,
         "reweighted_redline_index": 2,
         "ordinal_value": 2,
         "_deepnote_index_column": 1009
        },
        {
         "GEOID": 17031808702,
         "reweighted_redline_index": 2.61,
         "ordinal_value": 3,
         "_deepnote_index_column": 1010
        },
        {
         "GEOID": 17031820604,
         "reweighted_redline_index": 3,
         "ordinal_value": 3,
         "_deepnote_index_column": 1011
        },
        {
         "GEOID": 17031823806,
         "reweighted_redline_index": 4,
         "ordinal_value": 4,
         "_deepnote_index_column": 1012
        },
        {
         "GEOID": 17031831900,
         "reweighted_redline_index": 3,
         "ordinal_value": 3,
         "_deepnote_index_column": 1013
        },
        {
         "GEOID": 17031839500,
         "reweighted_redline_index": 4,
         "ordinal_value": 4,
         "_deepnote_index_column": 1014
        },
        {
         "GEOID": 17031832600,
         "reweighted_redline_index": 4,
         "ordinal_value": 4,
         "_deepnote_index_column": 1015
        },
        {
         "GEOID": 17031836900,
         "reweighted_redline_index": 3.52,
         "ordinal_value": 4,
         "_deepnote_index_column": 1016
        },
        {
         "GEOID": 17031841200,
         "reweighted_redline_index": 4,
         "ordinal_value": 4,
         "_deepnote_index_column": 1017
        },
        {
         "GEOID": 17031841900,
         "reweighted_redline_index": 4,
         "ordinal_value": 4,
         "_deepnote_index_column": 1018
        },
        {
         "GEOID": 17031835800,
         "reweighted_redline_index": 4,
         "ordinal_value": 4,
         "_deepnote_index_column": 1019
        },
        {
         "GEOID": 17031838800,
         "reweighted_redline_index": 4,
         "ordinal_value": 4,
         "_deepnote_index_column": 1020
        },
        {
         "GEOID": 17031842300,
         "reweighted_redline_index": 4,
         "ordinal_value": 4,
         "_deepnote_index_column": 1021
        },
        {
         "GEOID": 17031843200,
         "reweighted_redline_index": 4,
         "ordinal_value": 4,
         "_deepnote_index_column": 1022
        },
        {
         "GEOID": 17031843400,
         "reweighted_redline_index": 3,
         "ordinal_value": 3,
         "_deepnote_index_column": 1023
        },
        {
         "GEOID": 17031842600,
         "reweighted_redline_index": 4,
         "ordinal_value": 4,
         "_deepnote_index_column": 1024
        },
        {
         "GEOID": 17031808900,
         "reweighted_redline_index": 1.81,
         "ordinal_value": 2,
         "_deepnote_index_column": 1025
        },
        {
         "GEOID": 17031809000,
         "reweighted_redline_index": 1.53,
         "ordinal_value": 2,
         "_deepnote_index_column": 1026
        },
        {
         "GEOID": 17031301803,
         "reweighted_redline_index": 3,
         "ordinal_value": 3,
         "_deepnote_index_column": 1027
        },
        {
         "GEOID": 17031809100,
         "reweighted_redline_index": 2.35,
         "ordinal_value": 3,
         "_deepnote_index_column": 1028
        },
        {
         "GEOID": 17031809200,
         "reweighted_redline_index": 4,
         "ordinal_value": 4,
         "_deepnote_index_column": 1029
        },
        {
         "GEOID": 17031809300,
         "reweighted_redline_index": 3,
         "ordinal_value": 3,
         "_deepnote_index_column": 1030
        },
        {
         "GEOID": 17031826800,
         "reweighted_redline_index": 4,
         "ordinal_value": 4,
         "_deepnote_index_column": 1031
        },
        {
         "GEOID": 17031710300,
         "reweighted_redline_index": 2.99,
         "ordinal_value": 3,
         "_deepnote_index_column": 1032
        },
        {
         "GEOID": 13121000500,
         "reweighted_redline_index": 2.53,
         "ordinal_value": 3,
         "_deepnote_index_column": 0
        },
        {
         "GEOID": 13121001300,
         "reweighted_redline_index": 3,
         "ordinal_value": 3,
         "_deepnote_index_column": 1
        },
        {
         "GEOID": 13121001400,
         "reweighted_redline_index": 2.8,
         "ordinal_value": 3,
         "_deepnote_index_column": 2
        },
        {
         "GEOID": 13121001500,
         "reweighted_redline_index": 2.92,
         "ordinal_value": 3,
         "_deepnote_index_column": 3
        },
        {
         "GEOID": 13121001600,
         "reweighted_redline_index": 3,
         "ordinal_value": 4,
         "_deepnote_index_column": 4
        },
        {
         "GEOID": 13121001800,
         "reweighted_redline_index": 3.9,
         "ordinal_value": 4,
         "_deepnote_index_column": 5
        },
        {
         "GEOID": 13121001900,
         "reweighted_redline_index": 4,
         "ordinal_value": 4,
         "_deepnote_index_column": 6
        },
        {
         "GEOID": 13121003600,
         "reweighted_redline_index": 4,
         "ordinal_value": 4,
         "_deepnote_index_column": 7
        },
        {
         "GEOID": 13121006601,
         "reweighted_redline_index": 2.64,
         "ordinal_value": 3,
         "_deepnote_index_column": 8
        },
        {
         "GEOID": 13121006700,
         "reweighted_redline_index": 3.49,
         "ordinal_value": 4,
         "_deepnote_index_column": 9
        },
        {
         "GEOID": 13121009300,
         "reweighted_redline_index": 2.36,
         "ordinal_value": 3,
         "_deepnote_index_column": 10
        },
        {
         "GEOID": 13089022500,
         "reweighted_redline_index": 3.02,
         "ordinal_value": 4,
         "_deepnote_index_column": 11
        },
        {
         "GEOID": 13089023700,
         "reweighted_redline_index": 3,
         "ordinal_value": 3,
         "_deepnote_index_column": 12
        },
        {
         "GEOID": 13089022600,
         "reweighted_redline_index": 2.65,
         "ordinal_value": 3,
         "_deepnote_index_column": 13
        },
        {
         "GEOID": 13089022700,
         "reweighted_redline_index": 3.13,
         "ordinal_value": 4,
         "_deepnote_index_column": 14
        },
        {
         "GEOID": 13121010002,
         "reweighted_redline_index": 1.28,
         "ordinal_value": 2,
         "_deepnote_index_column": 15
        },
        {
         "GEOID": 13121010001,
         "reweighted_redline_index": 2.15,
         "ordinal_value": 3,
         "_deepnote_index_column": 16
        },
        {
         "GEOID": 13121009802,
         "reweighted_redline_index": 1,
         "ordinal_value": 1,
         "_deepnote_index_column": 17
        },
        {
         "GEOID": 13121006801,
         "reweighted_redline_index": 3,
         "ordinal_value": 3,
         "_deepnote_index_column": 18
        },
        {
         "GEOID": 13121002500,
         "reweighted_redline_index": 4,
         "ordinal_value": 4,
         "_deepnote_index_column": 19
        },
        {
         "GEOID": 13121007200,
         "reweighted_redline_index": 4,
         "ordinal_value": 4,
         "_deepnote_index_column": 20
        },
        {
         "GEOID": 13121006200,
         "reweighted_redline_index": 3.04,
         "ordinal_value": 4,
         "_deepnote_index_column": 21
        },
        {
         "GEOID": 13121001100,
         "reweighted_redline_index": 3,
         "ordinal_value": 3,
         "_deepnote_index_column": 22
        },
        {
         "GEOID": 13121007300,
         "reweighted_redline_index": 4,
         "ordinal_value": 4,
         "_deepnote_index_column": 23
        },
        {
         "GEOID": 13121004200,
         "reweighted_redline_index": 3.11,
         "ordinal_value": 4,
         "_deepnote_index_column": 24
        },
        {
         "GEOID": 13121009101,
         "reweighted_redline_index": 2.41,
         "ordinal_value": 3,
         "_deepnote_index_column": 25
        },
        {
         "GEOID": 13121003700,
         "reweighted_redline_index": 4,
         "ordinal_value": 4,
         "_deepnote_index_column": 26
        },
        {
         "GEOID": 13121012000,
         "reweighted_redline_index": 4,
         "ordinal_value": 4,
         "_deepnote_index_column": 27
        },
        {
         "GEOID": 13121000600,
         "reweighted_redline_index": 3.93,
         "ordinal_value": 4,
         "_deepnote_index_column": 28
        },
        {
         "GEOID": 13121001700,
         "reweighted_redline_index": 3.36,
         "ordinal_value": 4,
         "_deepnote_index_column": 29
        },
        {
         "GEOID": 13121009000,
         "reweighted_redline_index": 2.44,
         "ordinal_value": 3,
         "_deepnote_index_column": 30
        },
        {
         "GEOID": 13121007002,
         "reweighted_redline_index": 3.05,
         "ordinal_value": 4,
         "_deepnote_index_column": 31
        },
        {
         "GEOID": 13121009900,
         "reweighted_redline_index": 1.02,
         "ordinal_value": 2,
         "_deepnote_index_column": 32
        },
        {
         "GEOID": 13121011000,
         "reweighted_redline_index": 3.94,
         "ordinal_value": 4,
         "_deepnote_index_column": 33
        },
        {
         "GEOID": 13121000100,
         "reweighted_redline_index": 1.92,
         "ordinal_value": 2,
         "_deepnote_index_column": 34
        },
        {
         "GEOID": 13121000200,
         "reweighted_redline_index": 2.28,
         "ordinal_value": 3,
         "_deepnote_index_column": 35
        },
        {
         "GEOID": 13121000400,
         "reweighted_redline_index": 2.65,
         "ordinal_value": 3,
         "_deepnote_index_column": 36
        },
        {
         "GEOID": 13121009502,
         "reweighted_redline_index": 1.69,
         "ordinal_value": 2,
         "_deepnote_index_column": 37
        },
        {
         "GEOID": 13121009602,
         "reweighted_redline_index": 1.82,
         "ordinal_value": 2,
         "_deepnote_index_column": 38
        },
        {
         "GEOID": 13121011800,
         "reweighted_redline_index": 4,
         "ordinal_value": 4,
         "_deepnote_index_column": 39
        },
        {
         "GEOID": 13089980000,
         "reweighted_redline_index": 3,
         "ordinal_value": 3,
         "_deepnote_index_column": 40
        },
        {
         "GEOID": 13121002900,
         "reweighted_redline_index": 4,
         "ordinal_value": 4,
         "_deepnote_index_column": 41
        },
        {
         "GEOID": 13121006602,
         "reweighted_redline_index": 3,
         "ordinal_value": 3,
         "_deepnote_index_column": 42
        },
        {
         "GEOID": 13121009601,
         "reweighted_redline_index": 2.56,
         "ordinal_value": 3,
         "_deepnote_index_column": 43
        },
        {
         "GEOID": 13121009603,
         "reweighted_redline_index": 2.28,
         "ordinal_value": 3,
         "_deepnote_index_column": 44
        },
        {
         "GEOID": 13121009801,
         "reweighted_redline_index": 1,
         "ordinal_value": 1,
         "_deepnote_index_column": 45
        },
        {
         "GEOID": 13089022800,
         "reweighted_redline_index": 2.78,
         "ordinal_value": 3,
         "_deepnote_index_column": 46
        },
        {
         "GEOID": 13089022900,
         "reweighted_redline_index": 3.62,
         "ordinal_value": 4,
         "_deepnote_index_column": 47
        },
        {
         "GEOID": 13089021102,
         "reweighted_redline_index": 1.67,
         "ordinal_value": 2,
         "_deepnote_index_column": 48
        },
        {
         "GEOID": 13089021415,
         "reweighted_redline_index": 3,
         "ordinal_value": 3,
         "_deepnote_index_column": 49
        },
        {
         "GEOID": 13089023000,
         "reweighted_redline_index": 3.18,
         "ordinal_value": 4,
         "_deepnote_index_column": 50
        },
        {
         "GEOID": 13089023101,
         "reweighted_redline_index": 3,
         "ordinal_value": 3,
         "_deepnote_index_column": 51
        },
        {
         "GEOID": 13089023102,
         "reweighted_redline_index": 3,
         "ordinal_value": 3,
         "_deepnote_index_column": 52
        },
        {
         "GEOID": 13089022203,
         "reweighted_redline_index": 3.84,
         "ordinal_value": 4,
         "_deepnote_index_column": 53
        },
        {
         "GEOID": 13121012300,
         "reweighted_redline_index": 3.31,
         "ordinal_value": 4,
         "_deepnote_index_column": 54
        },
        {
         "GEOID": 13089023113,
         "reweighted_redline_index": 3.24,
         "ordinal_value": 4,
         "_deepnote_index_column": 55
        },
        {
         "GEOID": 13121010800,
         "reweighted_redline_index": 3.43,
         "ordinal_value": 4,
         "_deepnote_index_column": 56
        },
        {
         "GEOID": 13121009102,
         "reweighted_redline_index": 2.36,
         "ordinal_value": 3,
         "_deepnote_index_column": 57
        },
        {
         "GEOID": 13121001202,
         "reweighted_redline_index": 3,
         "ordinal_value": 3,
         "_deepnote_index_column": 58
        },
        {
         "GEOID": 13089020802,
         "reweighted_redline_index": 2.81,
         "ordinal_value": 3,
         "_deepnote_index_column": 59
        },
        {
         "GEOID": 13121001201,
         "reweighted_redline_index": 3,
         "ordinal_value": 4,
         "_deepnote_index_column": 60
        },
        {
         "GEOID": 13121001001,
         "reweighted_redline_index": 3,
         "ordinal_value": 3,
         "_deepnote_index_column": 61
        },
        {
         "GEOID": 13121004300,
         "reweighted_redline_index": 3.97,
         "ordinal_value": 4,
         "_deepnote_index_column": 62
        },
        {
         "GEOID": 13121980000,
         "reweighted_redline_index": 3.08,
         "ordinal_value": 4,
         "_deepnote_index_column": 63
        },
        {
         "GEOID": 13121007603,
         "reweighted_redline_index": 3,
         "ordinal_value": 3,
         "_deepnote_index_column": 64
        },
        {
         "GEOID": 13089022204,
         "reweighted_redline_index": 4,
         "ordinal_value": 4,
         "_deepnote_index_column": 65
        },
        {
         "GEOID": 13121009501,
         "reweighted_redline_index": 1.13,
         "ordinal_value": 2,
         "_deepnote_index_column": 66
        },
        {
         "GEOID": 13089020700,
         "reweighted_redline_index": 3.05,
         "ordinal_value": 4,
         "_deepnote_index_column": 67
        },
        {
         "GEOID": 13121008902,
         "reweighted_redline_index": 3.99,
         "ordinal_value": 4,
         "_deepnote_index_column": 68
        },
        {
         "GEOID": 13089022100,
         "reweighted_redline_index": 4,
         "ordinal_value": 4,
         "_deepnote_index_column": 69
        },
        {
         "GEOID": 13089023801,
         "reweighted_redline_index": 3,
         "ordinal_value": 3,
         "_deepnote_index_column": 70
        },
        {
         "GEOID": 13063980000,
         "reweighted_redline_index": 3.53,
         "ordinal_value": 4,
         "_deepnote_index_column": 71
        },
        {
         "GEOID": 13121011100,
         "reweighted_redline_index": 2.64,
         "ordinal_value": 3,
         "_deepnote_index_column": 72
        },
        {
         "GEOID": 13121011201,
         "reweighted_redline_index": 3.12,
         "ordinal_value": 4,
         "_deepnote_index_column": 73
        },
        {
         "GEOID": 13121011202,
         "reweighted_redline_index": 3.12,
         "ordinal_value": 4,
         "_deepnote_index_column": 74
        },
        {
         "GEOID": 13089020400,
         "reweighted_redline_index": 3.09,
         "ordinal_value": 4,
         "_deepnote_index_column": 75
        },
        {
         "GEOID": 13089020500,
         "reweighted_redline_index": 3.23,
         "ordinal_value": 4,
         "_deepnote_index_column": 76
        },
        {
         "GEOID": 13089020600,
         "reweighted_redline_index": 3.87,
         "ordinal_value": 4,
         "_deepnote_index_column": 77
        },
        {
         "GEOID": 13089020801,
         "reweighted_redline_index": 3.12,
         "ordinal_value": 4,
         "_deepnote_index_column": 78
        },
        {
         "GEOID": 13089020900,
         "reweighted_redline_index": 3.01,
         "ordinal_value": 4,
         "_deepnote_index_column": 79
        },
        {
         "GEOID": 13121001002,
         "reweighted_redline_index": 3.34,
         "ordinal_value": 4,
         "_deepnote_index_column": 80
        },
        {
         "GEOID": 13121000700,
         "reweighted_redline_index": 4,
         "ordinal_value": 4,
         "_deepnote_index_column": 81
        },
        {
         "GEOID": 13121008700,
         "reweighted_redline_index": 3.91,
         "ordinal_value": 4,
         "_deepnote_index_column": 82
        },
        {
         "GEOID": 13089022301,
         "reweighted_redline_index": 2.93,
         "ordinal_value": 3,
         "_deepnote_index_column": 83
        },
        {
         "GEOID": 13089020100,
         "reweighted_redline_index": 1,
         "ordinal_value": 1,
         "_deepnote_index_column": 84
        },
        {
         "GEOID": 13089020200,
         "reweighted_redline_index": 2.24,
         "ordinal_value": 3,
         "_deepnote_index_column": 85
        },
        {
         "GEOID": 13089020300,
         "reweighted_redline_index": 2.67,
         "ordinal_value": 3,
         "_deepnote_index_column": 86
        },
        {
         "GEOID": 13121010601,
         "reweighted_redline_index": 2.77,
         "ordinal_value": 3,
         "_deepnote_index_column": 87
        },
        {
         "GEOID": 13121010603,
         "reweighted_redline_index": 3.52,
         "ordinal_value": 4,
         "_deepnote_index_column": 88
        },
        {
         "GEOID": 13089021405,
         "reweighted_redline_index": 3,
         "ordinal_value": 3,
         "_deepnote_index_column": 89
        },
        {
         "GEOID": 13089022401,
         "reweighted_redline_index": 2.4,
         "ordinal_value": 3,
         "_deepnote_index_column": 90
        },
        {
         "GEOID": 13089022402,
         "reweighted_redline_index": 2.83,
         "ordinal_value": 3,
         "_deepnote_index_column": 91
        },
        {
         "GEOID": 13089022403,
         "reweighted_redline_index": 2.12,
         "ordinal_value": 3,
         "_deepnote_index_column": 92
        },
        {
         "GEOID": 13121006900,
         "reweighted_redline_index": 3,
         "ordinal_value": 3,
         "_deepnote_index_column": 93
        },
        {
         "GEOID": 13121007001,
         "reweighted_redline_index": 3,
         "ordinal_value": 3,
         "_deepnote_index_column": 94
        },
        {
         "GEOID": 13121005000,
         "reweighted_redline_index": 3.58,
         "ordinal_value": 4,
         "_deepnote_index_column": 95
        },
        {
         "GEOID": 13121002100,
         "reweighted_redline_index": 4,
         "ordinal_value": 4,
         "_deepnote_index_column": 96
        },
        {
         "GEOID": 13121002300,
         "reweighted_redline_index": 4,
         "ordinal_value": 4,
         "_deepnote_index_column": 97
        },
        {
         "GEOID": 13121002400,
         "reweighted_redline_index": 4,
         "ordinal_value": 4,
         "_deepnote_index_column": 98
        },
        {
         "GEOID": 13121002600,
         "reweighted_redline_index": 4,
         "ordinal_value": 4,
         "_deepnote_index_column": 99
        },
        {
         "GEOID": 13121002800,
         "reweighted_redline_index": 4,
         "ordinal_value": 4,
         "_deepnote_index_column": 100
        },
        {
         "GEOID": 13121003000,
         "reweighted_redline_index": 3.46,
         "ordinal_value": 4,
         "_deepnote_index_column": 101
        },
        {
         "GEOID": 13121003100,
         "reweighted_redline_index": 3.81,
         "ordinal_value": 4,
         "_deepnote_index_column": 102
        },
        {
         "GEOID": 13121003200,
         "reweighted_redline_index": 4,
         "ordinal_value": 4,
         "_deepnote_index_column": 103
        },
        {
         "GEOID": 13121003500,
         "reweighted_redline_index": 4,
         "ordinal_value": 4,
         "_deepnote_index_column": 104
        },
        {
         "GEOID": 13121003800,
         "reweighted_redline_index": 4,
         "ordinal_value": 4,
         "_deepnote_index_column": 105
        },
        {
         "GEOID": 13121008000,
         "reweighted_redline_index": 3,
         "ordinal_value": 3,
         "_deepnote_index_column": 106
        },
        {
         "GEOID": 13121008102,
         "reweighted_redline_index": 2.9,
         "ordinal_value": 3,
         "_deepnote_index_column": 107
        },
        {
         "GEOID": 13121004000,
         "reweighted_redline_index": 3.16,
         "ordinal_value": 4,
         "_deepnote_index_column": 108
        },
        {
         "GEOID": 13121004100,
         "reweighted_redline_index": 2.93,
         "ordinal_value": 3,
         "_deepnote_index_column": 109
        },
        {
         "GEOID": 13121004400,
         "reweighted_redline_index": 4,
         "ordinal_value": 4,
         "_deepnote_index_column": 110
        },
        {
         "GEOID": 13121004800,
         "reweighted_redline_index": 4,
         "ordinal_value": 4,
         "_deepnote_index_column": 111
        },
        {
         "GEOID": 13121003900,
         "reweighted_redline_index": 4,
         "ordinal_value": 4,
         "_deepnote_index_column": 112
        },
        {
         "GEOID": 13121004900,
         "reweighted_redline_index": 3.91,
         "ordinal_value": 4,
         "_deepnote_index_column": 113
        },
        {
         "GEOID": 13121005200,
         "reweighted_redline_index": 3.23,
         "ordinal_value": 4,
         "_deepnote_index_column": 114
        },
        {
         "GEOID": 13121005300,
         "reweighted_redline_index": 3.21,
         "ordinal_value": 4,
         "_deepnote_index_column": 115
        },
        {
         "GEOID": 13121008301,
         "reweighted_redline_index": 3,
         "ordinal_value": 3,
         "_deepnote_index_column": 116
        },
        {
         "GEOID": 13121008302,
         "reweighted_redline_index": 3,
         "ordinal_value": 3,
         "_deepnote_index_column": 117
        },
        {
         "GEOID": 13121008400,
         "reweighted_redline_index": 3.06,
         "ordinal_value": 4,
         "_deepnote_index_column": 118
        },
        {
         "GEOID": 13121008500,
         "reweighted_redline_index": 3.01,
         "ordinal_value": 4,
         "_deepnote_index_column": 119
        },
        {
         "GEOID": 13121006300,
         "reweighted_redline_index": 3.82,
         "ordinal_value": 4,
         "_deepnote_index_column": 120
        },
        {
         "GEOID": 13121005501,
         "reweighted_redline_index": 3.89,
         "ordinal_value": 4,
         "_deepnote_index_column": 121
        },
        {
         "GEOID": 13121005502,
         "reweighted_redline_index": 3.72,
         "ordinal_value": 4,
         "_deepnote_index_column": 122
        },
        {
         "GEOID": 13121005700,
         "reweighted_redline_index": 3.86,
         "ordinal_value": 4,
         "_deepnote_index_column": 123
        },
        {
         "GEOID": 13121005800,
         "reweighted_redline_index": 3,
         "ordinal_value": 3,
         "_deepnote_index_column": 124
        },
        {
         "GEOID": 13121006100,
         "reweighted_redline_index": 2.53,
         "ordinal_value": 3,
         "_deepnote_index_column": 125
        },
        {
         "GEOID": 13121006400,
         "reweighted_redline_index": 3,
         "ordinal_value": 4,
         "_deepnote_index_column": 126
        },
        {
         "GEOID": 13121006500,
         "reweighted_redline_index": 2.87,
         "ordinal_value": 3,
         "_deepnote_index_column": 127
        },
        {
         "GEOID": 13121008800,
         "reweighted_redline_index": 4,
         "ordinal_value": 4,
         "_deepnote_index_column": 128
        },
        {
         "GEOID": 13121009200,
         "reweighted_redline_index": 3.22,
         "ordinal_value": 4,
         "_deepnote_index_column": 129
        },
        {
         "GEOID": 13121007500,
         "reweighted_redline_index": 3,
         "ordinal_value": 3,
         "_deepnote_index_column": 130
        },
        {
         "GEOID": 13121006000,
         "reweighted_redline_index": 2.46,
         "ordinal_value": 3,
         "_deepnote_index_column": 131
        },
        {
         "GEOID": 13121008101,
         "reweighted_redline_index": 2,
         "ordinal_value": 2,
         "_deepnote_index_column": 132
        },
        {
         "GEOID": 13089021411,
         "reweighted_redline_index": 3,
         "ordinal_value": 3,
         "_deepnote_index_column": 133
        },
        {
         "GEOID": 13089021416,
         "reweighted_redline_index": 3,
         "ordinal_value": 3,
         "_deepnote_index_column": 134
        }
       ]
      },
      "text/plain": "            GEOID  reweighted_redline_index  ordinal_value\n0    4.811398e+10                      3.10              4\n1    4.811300e+10                      2.09              3\n2    4.811301e+10                      1.00              1\n3    4.811300e+10                      2.16              3\n4    4.811301e+10                      3.00              3\n..            ...                       ...            ...\n130  1.312101e+10                      3.00              3\n131  1.312101e+10                      2.46              3\n132  1.312101e+10                      2.00              2\n133  1.308902e+10                      3.00              3\n134  1.308902e+10                      3.00              3\n\n[6735 rows x 3 columns]",
      "text/html": "<div>\n<style scoped>\n    .dataframe tbody tr th:only-of-type {\n        vertical-align: middle;\n    }\n\n    .dataframe tbody tr th {\n        vertical-align: top;\n    }\n\n    .dataframe thead th {\n        text-align: right;\n    }\n</style>\n<table border=\"1\" class=\"dataframe\">\n  <thead>\n    <tr style=\"text-align: right;\">\n      <th></th>\n      <th>GEOID</th>\n      <th>reweighted_redline_index</th>\n      <th>ordinal_value</th>\n    </tr>\n  </thead>\n  <tbody>\n    <tr>\n      <th>0</th>\n      <td>4.811398e+10</td>\n      <td>3.10</td>\n      <td>4</td>\n    </tr>\n    <tr>\n      <th>1</th>\n      <td>4.811300e+10</td>\n      <td>2.09</td>\n      <td>3</td>\n    </tr>\n    <tr>\n      <th>2</th>\n      <td>4.811301e+10</td>\n      <td>1.00</td>\n      <td>1</td>\n    </tr>\n    <tr>\n      <th>3</th>\n      <td>4.811300e+10</td>\n      <td>2.16</td>\n      <td>3</td>\n    </tr>\n    <tr>\n      <th>4</th>\n      <td>4.811301e+10</td>\n      <td>3.00</td>\n      <td>3</td>\n    </tr>\n    <tr>\n      <th>...</th>\n      <td>...</td>\n      <td>...</td>\n      <td>...</td>\n    </tr>\n    <tr>\n      <th>130</th>\n      <td>1.312101e+10</td>\n      <td>3.00</td>\n      <td>3</td>\n    </tr>\n    <tr>\n      <th>131</th>\n      <td>1.312101e+10</td>\n      <td>2.46</td>\n      <td>3</td>\n    </tr>\n    <tr>\n      <th>132</th>\n      <td>1.312101e+10</td>\n      <td>2.00</td>\n      <td>2</td>\n    </tr>\n    <tr>\n      <th>133</th>\n      <td>1.308902e+10</td>\n      <td>3.00</td>\n      <td>3</td>\n    </tr>\n    <tr>\n      <th>134</th>\n      <td>1.308902e+10</td>\n      <td>3.00</td>\n      <td>3</td>\n    </tr>\n  </tbody>\n</table>\n<p>6735 rows × 3 columns</p>\n</div>"
     },
     "metadata": {}
    }
   ]
  },
  {
   "cell_type": "code",
   "metadata": {
    "tags": [],
    "output_cleared": false,
    "source_hash": "4d4815c8",
    "execution_millis": 26,
    "deepnote_to_be_reexecuted": false,
    "cell_id": "00025-9e9fe108-d21d-4d93-b310-aa0bfc8ebf6c",
    "execution_start": 1618927676301,
    "deepnote_cell_type": "code"
   },
   "source": "# A check for catching outliers with respect to the reweighted_redline_index\n# np.unique(geo_intersect.reweighted_redline_index, return_counts=True)[0]\ngeo_intersect[geo_intersect.reweighted_redline_index < 1]",
   "execution_count": null,
   "outputs": [
    {
     "output_type": "execute_result",
     "execution_count": 27,
     "data": {
      "application/vnd.deepnote.dataframe.v2+json": {
       "row_count": 29,
       "column_count": 3,
       "columns": [
        {
         "name": "GEOID",
         "dtype": "float64",
         "stats": {
          "unique_count": 29,
          "nan_count": 0,
          "min": "6001404501.0",
          "max": "36081134100.0",
          "histogram": [
           {
            "bin_start": 6001404501,
            "bin_end": 9009377460.9,
            "count": 23
           },
           {
            "bin_start": 9009377460.9,
            "bin_end": 12017350420.8,
            "count": 0
           },
           {
            "bin_start": 12017350420.8,
            "bin_end": 15025323380.7,
            "count": 0
           },
           {
            "bin_start": 15025323380.7,
            "bin_end": 18033296340.6,
            "count": 3
           },
           {
            "bin_start": 18033296340.6,
            "bin_end": 21041269300.5,
            "count": 0
           },
           {
            "bin_start": 21041269300.5,
            "bin_end": 24049242260.4,
            "count": 0
           },
           {
            "bin_start": 24049242260.4,
            "bin_end": 27057215220.3,
            "count": 0
           },
           {
            "bin_start": 27057215220.3,
            "bin_end": 30065188180.2,
            "count": 0
           },
           {
            "bin_start": 30065188180.2,
            "bin_end": 33073161140.100002,
            "count": 0
           },
           {
            "bin_start": 33073161140.100002,
            "bin_end": 36081134100,
            "count": 3
           }
          ]
         }
        },
        {
         "name": "reweighted_redline_index",
         "dtype": "float64",
         "stats": {
          "unique_count": 25,
          "nan_count": 0,
          "min": "0.0",
          "max": "0.98",
          "histogram": [
           {
            "bin_start": 0,
            "bin_end": 0.098,
            "count": 8
           },
           {
            "bin_start": 0.098,
            "bin_end": 0.196,
            "count": 3
           },
           {
            "bin_start": 0.196,
            "bin_end": 0.29400000000000004,
            "count": 0
           },
           {
            "bin_start": 0.29400000000000004,
            "bin_end": 0.392,
            "count": 1
           },
           {
            "bin_start": 0.392,
            "bin_end": 0.49,
            "count": 3
           },
           {
            "bin_start": 0.49,
            "bin_end": 0.5880000000000001,
            "count": 2
           },
           {
            "bin_start": 0.5880000000000001,
            "bin_end": 0.686,
            "count": 4
           },
           {
            "bin_start": 0.686,
            "bin_end": 0.784,
            "count": 3
           },
           {
            "bin_start": 0.784,
            "bin_end": 0.882,
            "count": 1
           },
           {
            "bin_start": 0.882,
            "bin_end": 0.98,
            "count": 4
           }
          ]
         }
        },
        {
         "name": "ordinal_value",
         "dtype": "int64",
         "stats": {
          "unique_count": 1,
          "nan_count": 0,
          "min": "1",
          "max": "1",
          "histogram": [
           {
            "bin_start": 0.5,
            "bin_end": 0.6,
            "count": 0
           },
           {
            "bin_start": 0.6,
            "bin_end": 0.7,
            "count": 0
           },
           {
            "bin_start": 0.7,
            "bin_end": 0.8,
            "count": 0
           },
           {
            "bin_start": 0.8,
            "bin_end": 0.9,
            "count": 0
           },
           {
            "bin_start": 0.9,
            "bin_end": 1,
            "count": 0
           },
           {
            "bin_start": 1,
            "bin_end": 1.1,
            "count": 29
           },
           {
            "bin_start": 1.1,
            "bin_end": 1.2000000000000002,
            "count": 0
           },
           {
            "bin_start": 1.2000000000000002,
            "bin_end": 1.3,
            "count": 0
           },
           {
            "bin_start": 1.3,
            "bin_end": 1.4,
            "count": 0
           },
           {
            "bin_start": 1.4,
            "bin_end": 1.5,
            "count": 0
           }
          ]
         }
        },
        {
         "name": "_deepnote_index_column",
         "dtype": "int64"
        }
       ],
       "rows_top": [
        {
         "GEOID": 36081124700,
         "reweighted_redline_index": 0.16,
         "ordinal_value": 1,
         "_deepnote_index_column": 258
        },
        {
         "GEOID": 36081122300,
         "reweighted_redline_index": 0.81,
         "ordinal_value": 1,
         "_deepnote_index_column": 1713
        },
        {
         "GEOID": 36081134100,
         "reweighted_redline_index": 0,
         "ordinal_value": 1,
         "_deepnote_index_column": 1727
        },
        {
         "GEOID": 6037181000,
         "reweighted_redline_index": 0.78,
         "ordinal_value": 1,
         "_deepnote_index_column": 2
        },
        {
         "GEOID": 6037461100,
         "reweighted_redline_index": 0.56,
         "ordinal_value": 1,
         "_deepnote_index_column": 231
        },
        {
         "GEOID": 6001404700,
         "reweighted_redline_index": 0.62,
         "ordinal_value": 1,
         "_deepnote_index_column": 257
        },
        {
         "GEOID": 6037128102,
         "reweighted_redline_index": 0,
         "ordinal_value": 1,
         "_deepnote_index_column": 297
        },
        {
         "GEOID": 6085503123,
         "reweighted_redline_index": 0.63,
         "ordinal_value": 1,
         "_deepnote_index_column": 750
        },
        {
         "GEOID": 6037128220,
         "reweighted_redline_index": 0.93,
         "ordinal_value": 1,
         "_deepnote_index_column": 852
        },
        {
         "GEOID": 6037128601,
         "reweighted_redline_index": 0.41,
         "ordinal_value": 1,
         "_deepnote_index_column": 861
        },
        {
         "GEOID": 6075032802,
         "reweighted_redline_index": 0.91,
         "ordinal_value": 1,
         "_deepnote_index_column": 912
        },
        {
         "GEOID": 6073002902,
         "reweighted_redline_index": 0.36,
         "ordinal_value": 1,
         "_deepnote_index_column": 1063
        },
        {
         "GEOID": 6073008303,
         "reweighted_redline_index": 0.17,
         "ordinal_value": 1,
         "_deepnote_index_column": 1097
        },
        {
         "GEOID": 6001404501,
         "reweighted_redline_index": 0.98,
         "ordinal_value": 1,
         "_deepnote_index_column": 1125
        },
        {
         "GEOID": 6001404502,
         "reweighted_redline_index": 0.75,
         "ordinal_value": 1,
         "_deepnote_index_column": 1166
        },
        {
         "GEOID": 6073014700,
         "reweighted_redline_index": 0.03,
         "ordinal_value": 1,
         "_deepnote_index_column": 1198
        },
        {
         "GEOID": 6073007100,
         "reweighted_redline_index": 0.77,
         "ordinal_value": 1,
         "_deepnote_index_column": 1201
        },
        {
         "GEOID": 6073008311,
         "reweighted_redline_index": 0.46,
         "ordinal_value": 1,
         "_deepnote_index_column": 1253
        },
        {
         "GEOID": 6037460100,
         "reweighted_redline_index": 0.98,
         "ordinal_value": 1,
         "_deepnote_index_column": 1281
        },
        {
         "GEOID": 6037460200,
         "reweighted_redline_index": 0.04,
         "ordinal_value": 1,
         "_deepnote_index_column": 1312
        },
        {
         "GEOID": 6037430701,
         "reweighted_redline_index": 0.66,
         "ordinal_value": 1,
         "_deepnote_index_column": 1324
        },
        {
         "GEOID": 6073007200,
         "reweighted_redline_index": 0.02,
         "ordinal_value": 1,
         "_deepnote_index_column": 1403
        },
        {
         "GEOID": 6075032902,
         "reweighted_redline_index": 0.64,
         "ordinal_value": 1,
         "_deepnote_index_column": 1745
        },
        {
         "GEOID": 6001408000,
         "reweighted_redline_index": 0.49,
         "ordinal_value": 1,
         "_deepnote_index_column": 1888
        },
        {
         "GEOID": 6073007702,
         "reweighted_redline_index": 0.08,
         "ordinal_value": 1,
         "_deepnote_index_column": 1940
        },
        {
         "GEOID": 6075035400,
         "reweighted_redline_index": 0.4,
         "ordinal_value": 1,
         "_deepnote_index_column": 1993
        },
        {
         "GEOID": 17031520500,
         "reweighted_redline_index": 0,
         "ordinal_value": 1,
         "_deepnote_index_column": 109
        },
        {
         "GEOID": 17031430600,
         "reweighted_redline_index": 0.02,
         "ordinal_value": 1,
         "_deepnote_index_column": 700
        },
        {
         "GEOID": 17031430800,
         "reweighted_redline_index": 0.14,
         "ordinal_value": 1,
         "_deepnote_index_column": 701
        }
       ],
       "rows_bottom": null
      },
      "text/plain": "             GEOID  reweighted_redline_index  ordinal_value\n258   3.608112e+10                      0.16              1\n1713  3.608112e+10                      0.81              1\n1727  3.608113e+10                      0.00              1\n2     6.037181e+09                      0.78              1\n231   6.037461e+09                      0.56              1\n257   6.001405e+09                      0.62              1\n297   6.037128e+09                      0.00              1\n750   6.085503e+09                      0.63              1\n852   6.037128e+09                      0.93              1\n861   6.037129e+09                      0.41              1\n912   6.075033e+09                      0.91              1\n1063  6.073003e+09                      0.36              1\n1097  6.073008e+09                      0.17              1\n1125  6.001405e+09                      0.98              1\n1166  6.001405e+09                      0.75              1\n1198  6.073015e+09                      0.03              1\n1201  6.073007e+09                      0.77              1\n1253  6.073008e+09                      0.46              1\n1281  6.037460e+09                      0.98              1\n1312  6.037460e+09                      0.04              1\n1324  6.037431e+09                      0.66              1\n1403  6.073007e+09                      0.02              1\n1745  6.075033e+09                      0.64              1\n1888  6.001408e+09                      0.49              1\n1940  6.073008e+09                      0.08              1\n1993  6.075035e+09                      0.40              1\n109   1.703152e+10                      0.00              1\n700   1.703143e+10                      0.02              1\n701   1.703143e+10                      0.14              1",
      "text/html": "<div>\n<style scoped>\n    .dataframe tbody tr th:only-of-type {\n        vertical-align: middle;\n    }\n\n    .dataframe tbody tr th {\n        vertical-align: top;\n    }\n\n    .dataframe thead th {\n        text-align: right;\n    }\n</style>\n<table border=\"1\" class=\"dataframe\">\n  <thead>\n    <tr style=\"text-align: right;\">\n      <th></th>\n      <th>GEOID</th>\n      <th>reweighted_redline_index</th>\n      <th>ordinal_value</th>\n    </tr>\n  </thead>\n  <tbody>\n    <tr>\n      <th>258</th>\n      <td>3.608112e+10</td>\n      <td>0.16</td>\n      <td>1</td>\n    </tr>\n    <tr>\n      <th>1713</th>\n      <td>3.608112e+10</td>\n      <td>0.81</td>\n      <td>1</td>\n    </tr>\n    <tr>\n      <th>1727</th>\n      <td>3.608113e+10</td>\n      <td>0.00</td>\n      <td>1</td>\n    </tr>\n    <tr>\n      <th>2</th>\n      <td>6.037181e+09</td>\n      <td>0.78</td>\n      <td>1</td>\n    </tr>\n    <tr>\n      <th>231</th>\n      <td>6.037461e+09</td>\n      <td>0.56</td>\n      <td>1</td>\n    </tr>\n    <tr>\n      <th>257</th>\n      <td>6.001405e+09</td>\n      <td>0.62</td>\n      <td>1</td>\n    </tr>\n    <tr>\n      <th>297</th>\n      <td>6.037128e+09</td>\n      <td>0.00</td>\n      <td>1</td>\n    </tr>\n    <tr>\n      <th>750</th>\n      <td>6.085503e+09</td>\n      <td>0.63</td>\n      <td>1</td>\n    </tr>\n    <tr>\n      <th>852</th>\n      <td>6.037128e+09</td>\n      <td>0.93</td>\n      <td>1</td>\n    </tr>\n    <tr>\n      <th>861</th>\n      <td>6.037129e+09</td>\n      <td>0.41</td>\n      <td>1</td>\n    </tr>\n    <tr>\n      <th>912</th>\n      <td>6.075033e+09</td>\n      <td>0.91</td>\n      <td>1</td>\n    </tr>\n    <tr>\n      <th>1063</th>\n      <td>6.073003e+09</td>\n      <td>0.36</td>\n      <td>1</td>\n    </tr>\n    <tr>\n      <th>1097</th>\n      <td>6.073008e+09</td>\n      <td>0.17</td>\n      <td>1</td>\n    </tr>\n    <tr>\n      <th>1125</th>\n      <td>6.001405e+09</td>\n      <td>0.98</td>\n      <td>1</td>\n    </tr>\n    <tr>\n      <th>1166</th>\n      <td>6.001405e+09</td>\n      <td>0.75</td>\n      <td>1</td>\n    </tr>\n    <tr>\n      <th>1198</th>\n      <td>6.073015e+09</td>\n      <td>0.03</td>\n      <td>1</td>\n    </tr>\n    <tr>\n      <th>1201</th>\n      <td>6.073007e+09</td>\n      <td>0.77</td>\n      <td>1</td>\n    </tr>\n    <tr>\n      <th>1253</th>\n      <td>6.073008e+09</td>\n      <td>0.46</td>\n      <td>1</td>\n    </tr>\n    <tr>\n      <th>1281</th>\n      <td>6.037460e+09</td>\n      <td>0.98</td>\n      <td>1</td>\n    </tr>\n    <tr>\n      <th>1312</th>\n      <td>6.037460e+09</td>\n      <td>0.04</td>\n      <td>1</td>\n    </tr>\n    <tr>\n      <th>1324</th>\n      <td>6.037431e+09</td>\n      <td>0.66</td>\n      <td>1</td>\n    </tr>\n    <tr>\n      <th>1403</th>\n      <td>6.073007e+09</td>\n      <td>0.02</td>\n      <td>1</td>\n    </tr>\n    <tr>\n      <th>1745</th>\n      <td>6.075033e+09</td>\n      <td>0.64</td>\n      <td>1</td>\n    </tr>\n    <tr>\n      <th>1888</th>\n      <td>6.001408e+09</td>\n      <td>0.49</td>\n      <td>1</td>\n    </tr>\n    <tr>\n      <th>1940</th>\n      <td>6.073008e+09</td>\n      <td>0.08</td>\n      <td>1</td>\n    </tr>\n    <tr>\n      <th>1993</th>\n      <td>6.075035e+09</td>\n      <td>0.40</td>\n      <td>1</td>\n    </tr>\n    <tr>\n      <th>109</th>\n      <td>1.703152e+10</td>\n      <td>0.00</td>\n      <td>1</td>\n    </tr>\n    <tr>\n      <th>700</th>\n      <td>1.703143e+10</td>\n      <td>0.02</td>\n      <td>1</td>\n    </tr>\n    <tr>\n      <th>701</th>\n      <td>1.703143e+10</td>\n      <td>0.14</td>\n      <td>1</td>\n    </tr>\n  </tbody>\n</table>\n</div>"
     },
     "metadata": {}
    }
   ]
  },
  {
   "cell_type": "markdown",
   "source": "# Joining ACS and Redlining Data",
   "metadata": {
    "tags": [],
    "cell_id": "00026-d8ac3392-bc15-4d60-9909-13907c381057",
    "deepnote_cell_type": "markdown"
   }
  },
  {
   "cell_type": "code",
   "metadata": {
    "tags": [],
    "output_cleared": false,
    "source_hash": "9ed613cb",
    "execution_millis": 36,
    "deepnote_to_be_reexecuted": false,
    "cell_id": "00027-38cc2837-4441-4bb9-a959-11ea89f98cf6",
    "execution_start": 1618927677728,
    "deepnote_cell_type": "code"
   },
   "source": "# Merging the geo_files and the ACS data\njoined = geo_intersect.merge(acs, how=\"inner\", left_on=\"GEOID\", right_on=\"geo_id\")\njoined.drop(columns=[\"GEOID\", \"ordinal_value\", \"geo_id\"], inplace=True)",
   "execution_count": null,
   "outputs": []
  },
  {
   "cell_type": "code",
   "metadata": {
    "tags": [],
    "output_cleared": false,
    "source_hash": "3e1e3918",
    "execution_millis": 637,
    "deepnote_to_be_reexecuted": false,
    "cell_id": "00028-55961696-05fd-4845-8116-426a1aeac007",
    "execution_start": 1618927678568,
    "deepnote_cell_type": "code"
   },
   "source": "# Final output to use in models\njoined.to_csv(\"../data/ACS/acs_cleaned_data.csv\", index=False)",
   "execution_count": null,
   "outputs": []
  },
  {
   "cell_type": "code",
   "metadata": {
    "tags": [],
    "cell_id": "00039-8bab5f20-269f-4810-b041-b5f2dff9aa8d",
    "deepnote_cell_type": "code"
   },
   "source": "",
   "execution_count": null,
   "outputs": []
  },
  {
   "cell_type": "markdown",
   "source": "<a style='text-decoration:none;line-height:16px;display:flex;color:#5B5B62;padding:10px;justify-content:end;' href='https://deepnote.com?utm_source=created-in-deepnote-cell&projectId=c9a4f701-31a5-4164-b3f3-c09cddf1309e' target=\"_blank\">\n<img alt='Created in deepnote.com' style='display:inline;max-height:16px;margin:0px;margin-right:7.5px;' src='data:image/svg+xml;base64,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' > </img>\nCreated in <span style='font-weight:600;margin-left:4px;'>Deepnote</span></a>",
   "metadata": {
    "tags": [],
    "created_in_deepnote_cell": true,
    "deepnote_cell_type": "markdown"
   }
  }
 ],
 "nbformat": 4,
 "nbformat_minor": 2,
 "metadata": {
  "orig_nbformat": 2,
  "deepnote_notebook_id": "7ae04f0b-7c62-434d-b70e-f615c884578e",
  "deepnote_execution_queue": [],
  "kernelspec": {
   "name": "python37764bitbaseconda88f4a6024f8246cc90204549d1cdb575",
   "display_name": "Python 3.7.7 64-bit ('base': conda)",
   "language": "python"
  },
  "deepnote": {}
 }
}