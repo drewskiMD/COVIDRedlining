{
 "cells": [
  {
   "cell_type": "markdown",
   "source": "## Author: Muhammad",
   "metadata": {
    "tags": [],
    "id": "LKuLBUxSJucZ",
    "cell_id": "00000-b3d259da-2d82-4231-a850-b776a2eba3f6",
    "deepnote_cell_type": "markdown"
   }
  },
  {
   "cell_type": "code",
   "metadata": {
    "tags": [],
    "output_cleared": true,
    "source_hash": "f750005f",
    "execution_millis": 1,
    "deepnote_to_be_reexecuted": false,
    "id": "XY0LhkNJJud9",
    "cell_id": "00003-ff4652a3-f65d-4d2e-8e75-b3fcb66679a1",
    "execution_start": 1623266359621,
    "deepnote_cell_type": "code"
   },
   "source": "import numpy as np\nimport pandas as pd\nfrom pycaret.regression import *\nfrom sklearn.linear_model import LinearRegression\nfrom matplotlib import pyplot as plt\nfrom catboost import CatBoostRegressor\nimport shap",
   "execution_count": null,
   "outputs": []
  },
  {
   "cell_type": "code",
   "metadata": {
    "deepnote_to_be_reexecuted": false,
    "source_hash": "484111a9",
    "execution_millis": 90,
    "id": "7wAtUQ4cJueI",
    "cell_id": "00004-6e1477a4-9a46-40ed-80f3-9174d1b86e6b",
    "execution_start": 1623266359852,
    "output_cleared": true,
    "deepnote_cell_type": "code"
   },
   "source": "# Reading the cleaned dataset\njoined = pd.read_csv(\"/datasets/data/ACS/acs_cleaned_data.csv\")",
   "execution_count": null,
   "outputs": []
  },
  {
   "cell_type": "code",
   "metadata": {
    "tags": [],
    "output_cleared": false,
    "source_hash": "5a7037aa",
    "execution_millis": 13,
    "deepnote_to_be_reexecuted": false,
    "id": "IQYi1yQSJueN",
    "colab": {
     "base_uri": "https://localhost:8080/"
    },
    "cell_id": "00005-0fcbc7b7-7366-4131-a554-df409194e423",
    "execution_start": 1623266360101,
    "outputId": "b6472cde-9499-4df9-ce9c-cc20da4f252f",
    "deepnote_cell_type": "code"
   },
   "source": "# Number of unique redlining index values\nlen(np.unique(joined.reweighted_redline_index.values.round(2)))",
   "execution_count": null,
   "outputs": [
    {
     "output_type": "execute_result",
     "execution_count": 5,
     "data": {
      "text/plain": "322"
     },
     "metadata": {}
    }
   ]
  },
  {
   "cell_type": "code",
   "metadata": {
    "id": "SqM4UTmVJuea",
    "colab": {
     "base_uri": "https://localhost:8080/",
     "height": 1000,
     "referenced_widgets": [
      "4133a6105bea4242ba0add27ac9f5c9d",
      "d8655d13e4ae4e19a11553bc03df87db",
      "dae10372f4704ac2bc26830dcd70970d",
      "f8302bfe48bc4ed1b7e82d039f01233c",
      "34889a183ef341cf86963c5e9a804afa",
      "4998118b86054d4da813bf864b65cd14"
     ]
    },
    "cell_id": "00006-53f19903-97f0-4850-b5e5-c8ddb06b0e8f",
    "deepnote_to_be_reexecuted": false,
    "source_hash": "b4bb88ec",
    "execution_start": 1623266360340,
    "execution_millis": 2378,
    "output_cleared": false,
    "outputId": "92af7c95-fccd-484d-bdaa-41b3071961a9",
    "deepnote_cell_type": "code"
   },
   "source": "exp1 = setup(joined, target = \"reweighted_redline_index\", silent=True, html=False)",
   "execution_count": null,
   "outputs": [
    {
     "name": "stdout",
     "text": "Setup Succesfully Completed!\n",
     "output_type": "stream"
    },
    {
     "data": {
      "application/vnd.deepnote.dataframe.v2+json": {
       "row_count": 57,
       "column_count": 2,
       "columns": [
        {
         "name": "Description",
         "dtype": "object",
         "stats": {
          "unique_count": 57,
          "nan_count": 0,
          "categories": [
           {
            "name": "session_id",
            "count": 1
           },
           {
            "name": "Target",
            "count": 1
           },
           {
            "name": "55 others",
            "count": 55
           }
          ]
         }
        },
        {
         "name": "Value",
         "dtype": "object",
         "stats": {
          "unique_count": 23,
          "nan_count": 8,
          "categories": [
           {
            "name": "False",
            "count": 21
           },
           {
            "name": "20 others",
            "count": 28
           },
           {
            "name": "Missing",
            "count": 8
           }
          ]
         }
        },
        {
         "name": "_deepnote_index_column",
         "dtype": "int64"
        }
       ],
       "rows_top": [
        {
         "Description": "session_id",
         "Value": "7044",
         "_deepnote_index_column": 0
        },
        {
         "Description": "Target",
         "Value": "reweighted_redline_index",
         "_deepnote_index_column": 1
        },
        {
         "Description": "Original Data",
         "Value": "(6735, 76)",
         "_deepnote_index_column": 2
        },
        {
         "Description": "Missing Values",
         "Value": "True",
         "_deepnote_index_column": 3
        },
        {
         "Description": "Numeric Features",
         "Value": "73",
         "_deepnote_index_column": 4
        },
        {
         "Description": "Categorical Features",
         "Value": "2",
         "_deepnote_index_column": 5
        },
        {
         "Description": "Ordinal Features",
         "Value": "False",
         "_deepnote_index_column": 6
        },
        {
         "Description": "High Cardinality Features",
         "Value": "False",
         "_deepnote_index_column": 7
        },
        {
         "Description": "High Cardinality Method",
         "Value": "None",
         "_deepnote_index_column": 8
        },
        {
         "Description": "Transformed Train Set",
         "Value": "(4714, 68)",
         "_deepnote_index_column": 9
        },
        {
         "Description": "Transformed Test Set",
         "Value": "(2021, 68)",
         "_deepnote_index_column": 10
        },
        {
         "Description": "Shuffle Train-Test",
         "Value": "True",
         "_deepnote_index_column": 11
        },
        {
         "Description": "Stratify Train-Test",
         "Value": "False",
         "_deepnote_index_column": 12
        },
        {
         "Description": "Fold Generator",
         "Value": "KFold",
         "_deepnote_index_column": 13
        },
        {
         "Description": "Fold Number",
         "Value": "10",
         "_deepnote_index_column": 14
        },
        {
         "Description": "CPU Jobs",
         "Value": "-1",
         "_deepnote_index_column": 15
        },
        {
         "Description": "Use GPU",
         "Value": "False",
         "_deepnote_index_column": 16
        },
        {
         "Description": "Log Experiment",
         "Value": "False",
         "_deepnote_index_column": 17
        },
        {
         "Description": "Experiment Name",
         "Value": "reg-default-name",
         "_deepnote_index_column": 18
        },
        {
         "Description": "USI",
         "Value": "8ffc",
         "_deepnote_index_column": 19
        },
        {
         "Description": "Imputation Type",
         "Value": "simple",
         "_deepnote_index_column": 20
        },
        {
         "Description": "Iterative Imputation Iteration",
         "Value": "None",
         "_deepnote_index_column": 21
        },
        {
         "Description": "Numeric Imputer",
         "Value": "mean",
         "_deepnote_index_column": 22
        },
        {
         "Description": "Iterative Imputation Numeric Model",
         "Value": "None",
         "_deepnote_index_column": 23
        },
        {
         "Description": "Categorical Imputer",
         "Value": "constant",
         "_deepnote_index_column": 24
        },
        {
         "Description": "Iterative Imputation Categorical Model",
         "Value": "None",
         "_deepnote_index_column": 25
        },
        {
         "Description": "Unknown Categoricals Handling",
         "Value": "least_frequent",
         "_deepnote_index_column": 26
        },
        {
         "Description": "Normalize",
         "Value": "False",
         "_deepnote_index_column": 27
        },
        {
         "Description": "Normalize Method",
         "Value": "None",
         "_deepnote_index_column": 28
        },
        {
         "Description": "Transformation",
         "Value": "False",
         "_deepnote_index_column": 29
        },
        {
         "Description": "Transformation Method",
         "Value": "None",
         "_deepnote_index_column": 30
        },
        {
         "Description": "PCA",
         "Value": "False",
         "_deepnote_index_column": 31
        },
        {
         "Description": "PCA Method",
         "Value": "None",
         "_deepnote_index_column": 32
        },
        {
         "Description": "PCA Components",
         "Value": "None",
         "_deepnote_index_column": 33
        },
        {
         "Description": "Ignore Low Variance",
         "Value": "False",
         "_deepnote_index_column": 34
        },
        {
         "Description": "Combine Rare Levels",
         "Value": "False",
         "_deepnote_index_column": 35
        },
        {
         "Description": "Rare Level Threshold",
         "Value": "None",
         "_deepnote_index_column": 36
        },
        {
         "Description": "Numeric Binning",
         "Value": "False",
         "_deepnote_index_column": 37
        },
        {
         "Description": "Remove Outliers",
         "Value": "False",
         "_deepnote_index_column": 38
        },
        {
         "Description": "Outliers Threshold",
         "Value": "None",
         "_deepnote_index_column": 39
        },
        {
         "Description": "Remove Multicollinearity",
         "Value": "False",
         "_deepnote_index_column": 40
        },
        {
         "Description": "Multicollinearity Threshold",
         "Value": "None",
         "_deepnote_index_column": 41
        },
        {
         "Description": "Clustering",
         "Value": "False",
         "_deepnote_index_column": 42
        },
        {
         "Description": "Clustering Iteration",
         "Value": "None",
         "_deepnote_index_column": 43
        },
        {
         "Description": "Polynomial Features",
         "Value": "False",
         "_deepnote_index_column": 44
        },
        {
         "Description": "Polynomial Degree",
         "Value": "None",
         "_deepnote_index_column": 45
        },
        {
         "Description": "Trignometry Features",
         "Value": "False",
         "_deepnote_index_column": 46
        },
        {
         "Description": "Polynomial Threshold",
         "Value": "None",
         "_deepnote_index_column": 47
        },
        {
         "Description": "Group Features",
         "Value": "False",
         "_deepnote_index_column": 48
        },
        {
         "Description": "Feature Selection",
         "Value": "False",
         "_deepnote_index_column": 49
        },
        {
         "Description": "Feature Selection Method",
         "Value": "classic",
         "_deepnote_index_column": 50
        },
        {
         "Description": "Features Selection Threshold",
         "Value": "None",
         "_deepnote_index_column": 51
        },
        {
         "Description": "Feature Interaction",
         "Value": "False",
         "_deepnote_index_column": 52
        },
        {
         "Description": "Feature Ratio",
         "Value": "False",
         "_deepnote_index_column": 53
        },
        {
         "Description": "Interaction Threshold",
         "Value": "None",
         "_deepnote_index_column": 54
        },
        {
         "Description": "Transform Target",
         "Value": "False",
         "_deepnote_index_column": 55
        },
        {
         "Description": "Transform Target Method",
         "Value": "box-cox",
         "_deepnote_index_column": 56
        }
       ],
       "rows_bottom": null
      },
      "text/plain": "                               Description                     Value\n0                               session_id                      7044\n1                                   Target  reweighted_redline_index\n2                            Original Data                (6735, 76)\n3                           Missing Values                      True\n4                         Numeric Features                        73\n5                     Categorical Features                         2\n6                         Ordinal Features                     False\n7                High Cardinality Features                     False\n8                  High Cardinality Method                      None\n9                    Transformed Train Set                (4714, 68)\n10                    Transformed Test Set                (2021, 68)\n11                      Shuffle Train-Test                      True\n12                     Stratify Train-Test                     False\n13                          Fold Generator                     KFold\n14                             Fold Number                        10\n15                                CPU Jobs                        -1\n16                                 Use GPU                     False\n17                          Log Experiment                     False\n18                         Experiment Name          reg-default-name\n19                                     USI                      8ffc\n20                         Imputation Type                    simple\n21          Iterative Imputation Iteration                      None\n22                         Numeric Imputer                      mean\n23      Iterative Imputation Numeric Model                      None\n24                     Categorical Imputer                  constant\n25  Iterative Imputation Categorical Model                      None\n26           Unknown Categoricals Handling            least_frequent\n27                               Normalize                     False\n28                        Normalize Method                      None\n29                          Transformation                     False\n30                   Transformation Method                      None\n31                                     PCA                     False\n32                              PCA Method                      None\n33                          PCA Components                      None\n34                     Ignore Low Variance                     False\n35                     Combine Rare Levels                     False\n36                    Rare Level Threshold                      None\n37                         Numeric Binning                     False\n38                         Remove Outliers                     False\n39                      Outliers Threshold                      None\n40                Remove Multicollinearity                     False\n41             Multicollinearity Threshold                      None\n42                              Clustering                     False\n43                    Clustering Iteration                      None\n44                     Polynomial Features                     False\n45                       Polynomial Degree                      None\n46                    Trignometry Features                     False\n47                    Polynomial Threshold                      None\n48                          Group Features                     False\n49                       Feature Selection                     False\n50                Feature Selection Method                   classic\n51            Features Selection Threshold                      None\n52                     Feature Interaction                     False\n53                           Feature Ratio                     False\n54                   Interaction Threshold                      None\n55                        Transform Target                     False\n56                 Transform Target Method                   box-cox",
      "text/html": "<div>\n<style scoped>\n    .dataframe tbody tr th:only-of-type {\n        vertical-align: middle;\n    }\n\n    .dataframe tbody tr th {\n        vertical-align: top;\n    }\n\n    .dataframe thead th {\n        text-align: right;\n    }\n</style>\n<table border=\"1\" class=\"dataframe\">\n  <thead>\n    <tr style=\"text-align: right;\">\n      <th></th>\n      <th>Description</th>\n      <th>Value</th>\n    </tr>\n  </thead>\n  <tbody>\n    <tr>\n      <th>0</th>\n      <td>session_id</td>\n      <td>7044</td>\n    </tr>\n    <tr>\n      <th>1</th>\n      <td>Target</td>\n      <td>reweighted_redline_index</td>\n    </tr>\n    <tr>\n      <th>2</th>\n      <td>Original Data</td>\n      <td>(6735, 76)</td>\n    </tr>\n    <tr>\n      <th>3</th>\n      <td>Missing Values</td>\n      <td>True</td>\n    </tr>\n    <tr>\n      <th>4</th>\n      <td>Numeric Features</td>\n      <td>73</td>\n    </tr>\n    <tr>\n      <th>5</th>\n      <td>Categorical Features</td>\n      <td>2</td>\n    </tr>\n    <tr>\n      <th>6</th>\n      <td>Ordinal Features</td>\n      <td>False</td>\n    </tr>\n    <tr>\n      <th>7</th>\n      <td>High Cardinality Features</td>\n      <td>False</td>\n    </tr>\n    <tr>\n      <th>8</th>\n      <td>High Cardinality Method</td>\n      <td>None</td>\n    </tr>\n    <tr>\n      <th>9</th>\n      <td>Transformed Train Set</td>\n      <td>(4714, 68)</td>\n    </tr>\n    <tr>\n      <th>10</th>\n      <td>Transformed Test Set</td>\n      <td>(2021, 68)</td>\n    </tr>\n    <tr>\n      <th>11</th>\n      <td>Shuffle Train-Test</td>\n      <td>True</td>\n    </tr>\n    <tr>\n      <th>12</th>\n      <td>Stratify Train-Test</td>\n      <td>False</td>\n    </tr>\n    <tr>\n      <th>13</th>\n      <td>Fold Generator</td>\n      <td>KFold</td>\n    </tr>\n    <tr>\n      <th>14</th>\n      <td>Fold Number</td>\n      <td>10</td>\n    </tr>\n    <tr>\n      <th>15</th>\n      <td>CPU Jobs</td>\n      <td>-1</td>\n    </tr>\n    <tr>\n      <th>16</th>\n      <td>Use GPU</td>\n      <td>False</td>\n    </tr>\n    <tr>\n      <th>17</th>\n      <td>Log Experiment</td>\n      <td>False</td>\n    </tr>\n    <tr>\n      <th>18</th>\n      <td>Experiment Name</td>\n      <td>reg-default-name</td>\n    </tr>\n    <tr>\n      <th>19</th>\n      <td>USI</td>\n      <td>8ffc</td>\n    </tr>\n    <tr>\n      <th>20</th>\n      <td>Imputation Type</td>\n      <td>simple</td>\n    </tr>\n    <tr>\n      <th>21</th>\n      <td>Iterative Imputation Iteration</td>\n      <td>None</td>\n    </tr>\n    <tr>\n      <th>22</th>\n      <td>Numeric Imputer</td>\n      <td>mean</td>\n    </tr>\n    <tr>\n      <th>23</th>\n      <td>Iterative Imputation Numeric Model</td>\n      <td>None</td>\n    </tr>\n    <tr>\n      <th>24</th>\n      <td>Categorical Imputer</td>\n      <td>constant</td>\n    </tr>\n    <tr>\n      <th>25</th>\n      <td>Iterative Imputation Categorical Model</td>\n      <td>None</td>\n    </tr>\n    <tr>\n      <th>26</th>\n      <td>Unknown Categoricals Handling</td>\n      <td>least_frequent</td>\n    </tr>\n    <tr>\n      <th>27</th>\n      <td>Normalize</td>\n      <td>False</td>\n    </tr>\n    <tr>\n      <th>28</th>\n      <td>Normalize Method</td>\n      <td>None</td>\n    </tr>\n    <tr>\n      <th>29</th>\n      <td>Transformation</td>\n      <td>False</td>\n    </tr>\n    <tr>\n      <th>30</th>\n      <td>Transformation Method</td>\n      <td>None</td>\n    </tr>\n    <tr>\n      <th>31</th>\n      <td>PCA</td>\n      <td>False</td>\n    </tr>\n    <tr>\n      <th>32</th>\n      <td>PCA Method</td>\n      <td>None</td>\n    </tr>\n    <tr>\n      <th>33</th>\n      <td>PCA Components</td>\n      <td>None</td>\n    </tr>\n    <tr>\n      <th>34</th>\n      <td>Ignore Low Variance</td>\n      <td>False</td>\n    </tr>\n    <tr>\n      <th>35</th>\n      <td>Combine Rare Levels</td>\n      <td>False</td>\n    </tr>\n    <tr>\n      <th>36</th>\n      <td>Rare Level Threshold</td>\n      <td>None</td>\n    </tr>\n    <tr>\n      <th>37</th>\n      <td>Numeric Binning</td>\n      <td>False</td>\n    </tr>\n    <tr>\n      <th>38</th>\n      <td>Remove Outliers</td>\n      <td>False</td>\n    </tr>\n    <tr>\n      <th>39</th>\n      <td>Outliers Threshold</td>\n      <td>None</td>\n    </tr>\n    <tr>\n      <th>40</th>\n      <td>Remove Multicollinearity</td>\n      <td>False</td>\n    </tr>\n    <tr>\n      <th>41</th>\n      <td>Multicollinearity Threshold</td>\n      <td>None</td>\n    </tr>\n    <tr>\n      <th>42</th>\n      <td>Clustering</td>\n      <td>False</td>\n    </tr>\n    <tr>\n      <th>43</th>\n      <td>Clustering Iteration</td>\n      <td>None</td>\n    </tr>\n    <tr>\n      <th>44</th>\n      <td>Polynomial Features</td>\n      <td>False</td>\n    </tr>\n    <tr>\n      <th>45</th>\n      <td>Polynomial Degree</td>\n      <td>None</td>\n    </tr>\n    <tr>\n      <th>46</th>\n      <td>Trignometry Features</td>\n      <td>False</td>\n    </tr>\n    <tr>\n      <th>47</th>\n      <td>Polynomial Threshold</td>\n      <td>None</td>\n    </tr>\n    <tr>\n      <th>48</th>\n      <td>Group Features</td>\n      <td>False</td>\n    </tr>\n    <tr>\n      <th>49</th>\n      <td>Feature Selection</td>\n      <td>False</td>\n    </tr>\n    <tr>\n      <th>50</th>\n      <td>Feature Selection Method</td>\n      <td>classic</td>\n    </tr>\n    <tr>\n      <th>51</th>\n      <td>Features Selection Threshold</td>\n      <td>None</td>\n    </tr>\n    <tr>\n      <th>52</th>\n      <td>Feature Interaction</td>\n      <td>False</td>\n    </tr>\n    <tr>\n      <th>53</th>\n      <td>Feature Ratio</td>\n      <td>False</td>\n    </tr>\n    <tr>\n      <th>54</th>\n      <td>Interaction Threshold</td>\n      <td>None</td>\n    </tr>\n    <tr>\n      <th>55</th>\n      <td>Transform Target</td>\n      <td>False</td>\n    </tr>\n    <tr>\n      <th>56</th>\n      <td>Transform Target Method</td>\n      <td>box-cox</td>\n    </tr>\n  </tbody>\n</table>\n</div>"
     },
     "metadata": {},
     "output_type": "display_data"
    }
   ]
  },
  {
   "cell_type": "code",
   "metadata": {
    "tags": [],
    "cell_id": "00006-6467cd53-1f37-48f5-84a1-1f5ba25fcff9",
    "deepnote_to_be_reexecuted": false,
    "source_hash": "2e2fa23d",
    "execution_start": 1623267036986,
    "execution_millis": 29,
    "deepnote_cell_type": "code"
   },
   "source": "# MAE = Mean Absolute Error\n# MSE = Mean Squared Error\n# RMSE = Root Mean Squared Error\n# R2 = R-Squared\n# RMLSE = Root Mean Squared Logarithmic Error\n# MAPE = Mean Absolute Percentage Error\n# TT = Time Taken For Computation\nbest_model = compare_models(verbose=False)\nscores_df = pull()\nscores_df",
   "execution_count": null,
   "outputs": [
    {
     "output_type": "execute_result",
     "execution_count": 8,
     "data": {
      "application/vnd.deepnote.dataframe.v2+json": {
       "row_count": 18,
       "column_count": 8,
       "columns": [
        {
         "name": "Model",
         "dtype": "object",
         "stats": {
          "unique_count": 18,
          "nan_count": 0,
          "categories": [
           {
            "name": "CatBoost Regressor",
            "count": 1
           },
           {
            "name": "Light Gradient Boosting Machine",
            "count": 1
           },
           {
            "name": "16 others",
            "count": 16
           }
          ]
         }
        },
        {
         "name": "MAE",
         "dtype": "float64",
         "stats": {
          "unique_count": 17,
          "nan_count": 0,
          "min": "0.4328",
          "max": "777999.7714",
          "histogram": [
           {
            "bin_start": 0.4328,
            "bin_end": 77800.36666,
            "count": 17
           },
           {
            "bin_start": 77800.36666,
            "bin_end": 155600.30052000002,
            "count": 0
           },
           {
            "bin_start": 155600.30052000002,
            "bin_end": 233400.23438000004,
            "count": 0
           },
           {
            "bin_start": 233400.23438000004,
            "bin_end": 311200.16824,
            "count": 0
           },
           {
            "bin_start": 311200.16824,
            "bin_end": 389000.1021,
            "count": 0
           },
           {
            "bin_start": 389000.1021,
            "bin_end": 466800.03596000007,
            "count": 0
           },
           {
            "bin_start": 466800.03596000007,
            "bin_end": 544599.96982,
            "count": 0
           },
           {
            "bin_start": 544599.96982,
            "bin_end": 622399.90368,
            "count": 0
           },
           {
            "bin_start": 622399.90368,
            "bin_end": 700199.83754,
            "count": 0
           },
           {
            "bin_start": 700199.83754,
            "bin_end": 777999.7714,
            "count": 1
           }
          ]
         }
        },
        {
         "name": "MSE",
         "dtype": "float64",
         "stats": {
          "unique_count": 17,
          "nan_count": 0,
          "min": "0.314",
          "max": "9368737093525.574",
          "histogram": [
           {
            "bin_start": 0.314,
            "bin_end": 936873709352.84,
            "count": 17
           },
           {
            "bin_start": 936873709352.84,
            "bin_end": 1873747418705.366,
            "count": 0
           },
           {
            "bin_start": 1873747418705.366,
            "bin_end": 2810621128057.892,
            "count": 0
           },
           {
            "bin_start": 2810621128057.892,
            "bin_end": 3747494837410.418,
            "count": 0
           },
           {
            "bin_start": 3747494837410.418,
            "bin_end": 4684368546762.944,
            "count": 0
           },
           {
            "bin_start": 4684368546762.944,
            "bin_end": 5621242256115.471,
            "count": 0
           },
           {
            "bin_start": 5621242256115.471,
            "bin_end": 6558115965467.996,
            "count": 0
           },
           {
            "bin_start": 6558115965467.996,
            "bin_end": 7494989674820.522,
            "count": 0
           },
           {
            "bin_start": 7494989674820.522,
            "bin_end": 8431863384173.049,
            "count": 0
           },
           {
            "bin_start": 8431863384173.049,
            "bin_end": 9368737093525.574,
            "count": 1
           }
          ]
         }
        },
        {
         "name": "RMSE",
         "dtype": "float64",
         "stats": {
          "unique_count": 17,
          "nan_count": 0,
          "min": "0.5596",
          "max": "1065237.4748",
          "histogram": [
           {
            "bin_start": 0.5596,
            "bin_end": 106524.25111999999,
            "count": 17
           },
           {
            "bin_start": 106524.25111999999,
            "bin_end": 213047.94264,
            "count": 0
           },
           {
            "bin_start": 213047.94264,
            "bin_end": 319571.63415999996,
            "count": 0
           },
           {
            "bin_start": 319571.63415999996,
            "bin_end": 426095.32567999995,
            "count": 0
           },
           {
            "bin_start": 426095.32567999995,
            "bin_end": 532619.0172,
            "count": 0
           },
           {
            "bin_start": 532619.0172,
            "bin_end": 639142.70872,
            "count": 0
           },
           {
            "bin_start": 639142.70872,
            "bin_end": 745666.40024,
            "count": 0
           },
           {
            "bin_start": 745666.40024,
            "bin_end": 852190.09176,
            "count": 0
           },
           {
            "bin_start": 852190.09176,
            "bin_end": 958713.78328,
            "count": 0
           },
           {
            "bin_start": 958713.78328,
            "bin_end": 1065237.4748,
            "count": 1
           }
          ]
         }
        },
        {
         "name": "R2",
         "dtype": "float64",
         "stats": {
          "unique_count": 17,
          "nan_count": 0,
          "min": "-14697079073991.367",
          "max": "0.4716",
          "histogram": [
           {
            "bin_start": -14697079073991.367,
            "bin_end": -13227371166592.184,
            "count": 1
           },
           {
            "bin_start": -13227371166592.184,
            "bin_end": -11757663259193,
            "count": 0
           },
           {
            "bin_start": -11757663259193,
            "bin_end": -10287955351793.816,
            "count": 0
           },
           {
            "bin_start": -10287955351793.816,
            "bin_end": -8818247444394.633,
            "count": 0
           },
           {
            "bin_start": -8818247444394.633,
            "bin_end": -7348539536995.448,
            "count": 0
           },
           {
            "bin_start": -7348539536995.448,
            "bin_end": -5878831629596.264,
            "count": 0
           },
           {
            "bin_start": -5878831629596.264,
            "bin_end": -4409123722197.08,
            "count": 0
           },
           {
            "bin_start": -4409123722197.08,
            "bin_end": -2939415814797.8965,
            "count": 0
           },
           {
            "bin_start": -2939415814797.8965,
            "bin_end": -1469707907398.713,
            "count": 0
           },
           {
            "bin_start": -1469707907398.713,
            "bin_end": 0.4716,
            "count": 17
           }
          ]
         }
        },
        {
         "name": "RMSLE",
         "dtype": "float64",
         "stats": {
          "unique_count": 18,
          "nan_count": 0,
          "min": "0.1603",
          "max": "5.8163",
          "histogram": [
           {
            "bin_start": 0.1603,
            "bin_end": 0.7259,
            "count": 17
           },
           {
            "bin_start": 0.7259,
            "bin_end": 1.2915,
            "count": 0
           },
           {
            "bin_start": 1.2915,
            "bin_end": 1.8571,
            "count": 0
           },
           {
            "bin_start": 1.8571,
            "bin_end": 2.4227,
            "count": 0
           },
           {
            "bin_start": 2.4227,
            "bin_end": 2.9882999999999997,
            "count": 0
           },
           {
            "bin_start": 2.9882999999999997,
            "bin_end": 3.5539,
            "count": 0
           },
           {
            "bin_start": 3.5539,
            "bin_end": 4.1195,
            "count": 0
           },
           {
            "bin_start": 4.1195,
            "bin_end": 4.6851,
            "count": 0
           },
           {
            "bin_start": 4.6851,
            "bin_end": 5.2507,
            "count": 0
           },
           {
            "bin_start": 5.2507,
            "bin_end": 5.8163,
            "count": 1
           }
          ]
         }
        },
        {
         "name": "MAPE",
         "dtype": "float64",
         "stats": {
          "unique_count": 18,
          "nan_count": 0,
          "min": "0.2506",
          "max": "309521.6239",
          "histogram": [
           {
            "bin_start": 0.2506,
            "bin_end": 30952.387929999997,
            "count": 17
           },
           {
            "bin_start": 30952.387929999997,
            "bin_end": 61904.525259999995,
            "count": 0
           },
           {
            "bin_start": 61904.525259999995,
            "bin_end": 92856.66258999999,
            "count": 0
           },
           {
            "bin_start": 92856.66258999999,
            "bin_end": 123808.79991999999,
            "count": 0
           },
           {
            "bin_start": 123808.79991999999,
            "bin_end": 154760.93725,
            "count": 0
           },
           {
            "bin_start": 154760.93725,
            "bin_end": 185713.07458,
            "count": 0
           },
           {
            "bin_start": 185713.07458,
            "bin_end": 216665.21190999998,
            "count": 0
           },
           {
            "bin_start": 216665.21190999998,
            "bin_end": 247617.34923999998,
            "count": 0
           },
           {
            "bin_start": 247617.34923999998,
            "bin_end": 278569.48657,
            "count": 0
           },
           {
            "bin_start": 278569.48657,
            "bin_end": 309521.6239,
            "count": 1
           }
          ]
         }
        },
        {
         "name": "TT (Sec)",
         "dtype": "float64",
         "stats": {
          "unique_count": 17,
          "nan_count": 0,
          "min": "0.028",
          "max": "27.964",
          "histogram": [
           {
            "bin_start": 0.028,
            "bin_end": 2.8216,
            "count": 14
           },
           {
            "bin_start": 2.8216,
            "bin_end": 5.6152,
            "count": 1
           },
           {
            "bin_start": 5.6152,
            "bin_end": 8.408800000000001,
            "count": 1
           },
           {
            "bin_start": 8.408800000000001,
            "bin_end": 11.2024,
            "count": 0
           },
           {
            "bin_start": 11.2024,
            "bin_end": 13.996,
            "count": 0
           },
           {
            "bin_start": 13.996,
            "bin_end": 16.7896,
            "count": 0
           },
           {
            "bin_start": 16.7896,
            "bin_end": 19.583199999999998,
            "count": 0
           },
           {
            "bin_start": 19.583199999999998,
            "bin_end": 22.3768,
            "count": 1
           },
           {
            "bin_start": 22.3768,
            "bin_end": 25.1704,
            "count": 0
           },
           {
            "bin_start": 25.1704,
            "bin_end": 27.964,
            "count": 1
           }
          ]
         }
        },
        {
         "name": "_deepnote_index_column",
         "dtype": "object"
        }
       ],
       "rows_top": [
        {
         "Model": "CatBoost Regressor",
         "MAE": 0.4328,
         "MSE": 0.314,
         "RMSE": 0.5596,
         "R2": 0.4716,
         "RMSLE": 0.1603,
         "MAPE": 0.2506,
         "TT (Sec)": 27.964,
         "_deepnote_index_column": "catboost"
        },
        {
         "Model": "Light Gradient Boosting Machine",
         "MAE": 0.4459,
         "MSE": 0.3316,
         "RMSE": 0.5751,
         "R2": 0.4418,
         "RMSLE": 0.1642,
         "MAPE": 0.2595,
         "TT (Sec)": 0.674,
         "_deepnote_index_column": "lightgbm"
        },
        {
         "Model": "Extra Trees Regressor",
         "MAE": 0.4493,
         "MSE": 0.3369,
         "RMSE": 0.5797,
         "R2": 0.4325,
         "RMSLE": 0.1661,
         "MAPE": 0.269,
         "TT (Sec)": 5.099,
         "_deepnote_index_column": "et"
        },
        {
         "Model": "Random Forest Regressor",
         "MAE": 0.4604,
         "MSE": 0.3495,
         "RMSE": 0.5904,
         "R2": 0.4116,
         "RMSLE": 0.1684,
         "MAPE": 0.2695,
         "TT (Sec)": 19.816,
         "_deepnote_index_column": "rf"
        },
        {
         "Model": "Gradient Boosting Regressor",
         "MAE": 0.4612,
         "MSE": 0.3534,
         "RMSE": 0.5935,
         "R2": 0.4059,
         "RMSLE": 0.1692,
         "MAPE": 0.2635,
         "TT (Sec)": 7.251,
         "_deepnote_index_column": "gbr"
        },
        {
         "Model": "Ridge Regression",
         "MAE": 0.4878,
         "MSE": 0.3927,
         "RMSE": 0.626,
         "R2": 0.3375,
         "RMSLE": 0.1773,
         "MAPE": 0.2801,
         "TT (Sec)": 0.035,
         "_deepnote_index_column": "ridge"
        },
        {
         "Model": "Bayesian Ridge",
         "MAE": 0.4879,
         "MSE": 0.3927,
         "RMSE": 0.626,
         "R2": 0.3375,
         "RMSLE": 0.1774,
         "MAPE": 0.2804,
         "TT (Sec)": 0.043,
         "_deepnote_index_column": "br"
        },
        {
         "Model": "Linear Regression",
         "MAE": 0.5085,
         "MSE": 0.4201,
         "RMSE": 0.6476,
         "R2": 0.2905,
         "RMSLE": 0.1831,
         "MAPE": 0.2977,
         "TT (Sec)": 0.505,
         "_deepnote_index_column": "lr"
        },
        {
         "Model": "AdaBoost Regressor",
         "MAE": 0.5338,
         "MSE": 0.4584,
         "RMSE": 0.6764,
         "R2": 0.2278,
         "RMSLE": 0.1887,
         "MAPE": 0.2953,
         "TT (Sec)": 2.158,
         "_deepnote_index_column": "ada"
        },
        {
         "Model": "Orthogonal Matching Pursuit",
         "MAE": 0.5361,
         "MSE": 0.4575,
         "RMSE": 0.676,
         "R2": 0.227,
         "RMSLE": 0.1901,
         "MAPE": 0.3057,
         "TT (Sec)": 0.035,
         "_deepnote_index_column": "omp"
        },
        {
         "Model": "Elastic Net",
         "MAE": 0.5513,
         "MSE": 0.5035,
         "RMSE": 0.709,
         "R2": 0.1514,
         "RMSLE": 0.1995,
         "MAPE": 0.3269,
         "TT (Sec)": 0.057,
         "_deepnote_index_column": "en"
        },
        {
         "Model": "Lasso Regression",
         "MAE": 0.5573,
         "MSE": 0.5181,
         "RMSE": 0.7191,
         "R2": 0.1268,
         "RMSLE": 0.2023,
         "MAPE": 0.3294,
         "TT (Sec)": 0.045,
         "_deepnote_index_column": "lasso"
        },
        {
         "Model": "Lasso Least Angle Regression",
         "MAE": 0.5662,
         "MSE": 0.5956,
         "RMSE": 0.7709,
         "R2": -0.0014,
         "RMSLE": 0.2187,
         "MAPE": 0.3467,
         "TT (Sec)": 0.028,
         "_deepnote_index_column": "llar"
        },
        {
         "Model": "K Neighbors Regressor",
         "MAE": 0.6051,
         "MSE": 0.5971,
         "RMSE": 0.7722,
         "R2": -0.0066,
         "RMSLE": 0.2154,
         "MAPE": 0.3421,
         "TT (Sec)": 0.103,
         "_deepnote_index_column": "knn"
        },
        {
         "Model": "Decision Tree Regressor",
         "MAE": 0.6051,
         "MSE": 0.7159,
         "RMSE": 0.8455,
         "R2": -0.2099,
         "RMSLE": 0.2389,
         "MAPE": 0.2994,
         "TT (Sec)": 0.312,
         "_deepnote_index_column": "dt"
        },
        {
         "Model": "Huber Regressor",
         "MAE": 0.9181,
         "MSE": 1.3912,
         "RMSE": 1.1779,
         "R2": -1.3402,
         "RMSLE": 0.3301,
         "MAPE": 0.4847,
         "TT (Sec)": 0.229,
         "_deepnote_index_column": "huber"
        },
        {
         "Model": "Passive Aggressive Regressor",
         "MAE": 2.1552,
         "MSE": 10.8782,
         "RMSE": 2.8471,
         "R2": -17.6963,
         "RMSLE": 0.5854,
         "MAPE": 1.0491,
         "TT (Sec)": 0.074,
         "_deepnote_index_column": "par"
        },
        {
         "Model": "Least Angle Regression",
         "MAE": 777999.7714,
         "MSE": 9368737093525.574,
         "RMSE": 1065237.4748,
         "R2": -14697079073991.367,
         "RMSLE": 5.8163,
         "MAPE": 309521.6239,
         "TT (Sec)": 0.054,
         "_deepnote_index_column": "lar"
        }
       ],
       "rows_bottom": null
      },
      "text/plain": "                                    Model          MAE           MSE  \\\ncatboost               CatBoost Regressor       0.4328  3.140000e-01   \nlightgbm  Light Gradient Boosting Machine       0.4459  3.316000e-01   \net                  Extra Trees Regressor       0.4493  3.369000e-01   \nrf                Random Forest Regressor       0.4604  3.495000e-01   \ngbr           Gradient Boosting Regressor       0.4612  3.534000e-01   \nridge                    Ridge Regression       0.4878  3.927000e-01   \nbr                         Bayesian Ridge       0.4879  3.927000e-01   \nlr                      Linear Regression       0.5085  4.201000e-01   \nada                    AdaBoost Regressor       0.5338  4.584000e-01   \nomp           Orthogonal Matching Pursuit       0.5361  4.575000e-01   \nen                            Elastic Net       0.5513  5.035000e-01   \nlasso                    Lasso Regression       0.5573  5.181000e-01   \nllar         Lasso Least Angle Regression       0.5662  5.956000e-01   \nknn                 K Neighbors Regressor       0.6051  5.971000e-01   \ndt                Decision Tree Regressor       0.6051  7.159000e-01   \nhuber                     Huber Regressor       0.9181  1.391200e+00   \npar          Passive Aggressive Regressor       2.1552  1.087820e+01   \nlar                Least Angle Regression  777999.7714  9.368737e+12   \n\n                  RMSE            R2   RMSLE         MAPE  TT (Sec)  \ncatboost  5.596000e-01  4.716000e-01  0.1603       0.2506    27.964  \nlightgbm  5.751000e-01  4.418000e-01  0.1642       0.2595     0.674  \net        5.797000e-01  4.325000e-01  0.1661       0.2690     5.099  \nrf        5.904000e-01  4.116000e-01  0.1684       0.2695    19.816  \ngbr       5.935000e-01  4.059000e-01  0.1692       0.2635     7.251  \nridge     6.260000e-01  3.375000e-01  0.1773       0.2801     0.035  \nbr        6.260000e-01  3.375000e-01  0.1774       0.2804     0.043  \nlr        6.476000e-01  2.905000e-01  0.1831       0.2977     0.505  \nada       6.764000e-01  2.278000e-01  0.1887       0.2953     2.158  \nomp       6.760000e-01  2.270000e-01  0.1901       0.3057     0.035  \nen        7.090000e-01  1.514000e-01  0.1995       0.3269     0.057  \nlasso     7.191000e-01  1.268000e-01  0.2023       0.3294     0.045  \nllar      7.709000e-01 -1.400000e-03  0.2187       0.3467     0.028  \nknn       7.722000e-01 -6.600000e-03  0.2154       0.3421     0.103  \ndt        8.455000e-01 -2.099000e-01  0.2389       0.2994     0.312  \nhuber     1.177900e+00 -1.340200e+00  0.3301       0.4847     0.229  \npar       2.847100e+00 -1.769630e+01  0.5854       1.0491     0.074  \nlar       1.065237e+06 -1.469708e+13  5.8163  309521.6239     0.054  ",
      "text/html": "<div>\n<style scoped>\n    .dataframe tbody tr th:only-of-type {\n        vertical-align: middle;\n    }\n\n    .dataframe tbody tr th {\n        vertical-align: top;\n    }\n\n    .dataframe thead th {\n        text-align: right;\n    }\n</style>\n<table border=\"1\" class=\"dataframe\">\n  <thead>\n    <tr style=\"text-align: right;\">\n      <th></th>\n      <th>Model</th>\n      <th>MAE</th>\n      <th>MSE</th>\n      <th>RMSE</th>\n      <th>R2</th>\n      <th>RMSLE</th>\n      <th>MAPE</th>\n      <th>TT (Sec)</th>\n    </tr>\n  </thead>\n  <tbody>\n    <tr>\n      <th>catboost</th>\n      <td>CatBoost Regressor</td>\n      <td>0.4328</td>\n      <td>3.140000e-01</td>\n      <td>5.596000e-01</td>\n      <td>4.716000e-01</td>\n      <td>0.1603</td>\n      <td>0.2506</td>\n      <td>27.964</td>\n    </tr>\n    <tr>\n      <th>lightgbm</th>\n      <td>Light Gradient Boosting Machine</td>\n      <td>0.4459</td>\n      <td>3.316000e-01</td>\n      <td>5.751000e-01</td>\n      <td>4.418000e-01</td>\n      <td>0.1642</td>\n      <td>0.2595</td>\n      <td>0.674</td>\n    </tr>\n    <tr>\n      <th>et</th>\n      <td>Extra Trees Regressor</td>\n      <td>0.4493</td>\n      <td>3.369000e-01</td>\n      <td>5.797000e-01</td>\n      <td>4.325000e-01</td>\n      <td>0.1661</td>\n      <td>0.2690</td>\n      <td>5.099</td>\n    </tr>\n    <tr>\n      <th>rf</th>\n      <td>Random Forest Regressor</td>\n      <td>0.4604</td>\n      <td>3.495000e-01</td>\n      <td>5.904000e-01</td>\n      <td>4.116000e-01</td>\n      <td>0.1684</td>\n      <td>0.2695</td>\n      <td>19.816</td>\n    </tr>\n    <tr>\n      <th>gbr</th>\n      <td>Gradient Boosting Regressor</td>\n      <td>0.4612</td>\n      <td>3.534000e-01</td>\n      <td>5.935000e-01</td>\n      <td>4.059000e-01</td>\n      <td>0.1692</td>\n      <td>0.2635</td>\n      <td>7.251</td>\n    </tr>\n    <tr>\n      <th>ridge</th>\n      <td>Ridge Regression</td>\n      <td>0.4878</td>\n      <td>3.927000e-01</td>\n      <td>6.260000e-01</td>\n      <td>3.375000e-01</td>\n      <td>0.1773</td>\n      <td>0.2801</td>\n      <td>0.035</td>\n    </tr>\n    <tr>\n      <th>br</th>\n      <td>Bayesian Ridge</td>\n      <td>0.4879</td>\n      <td>3.927000e-01</td>\n      <td>6.260000e-01</td>\n      <td>3.375000e-01</td>\n      <td>0.1774</td>\n      <td>0.2804</td>\n      <td>0.043</td>\n    </tr>\n    <tr>\n      <th>lr</th>\n      <td>Linear Regression</td>\n      <td>0.5085</td>\n      <td>4.201000e-01</td>\n      <td>6.476000e-01</td>\n      <td>2.905000e-01</td>\n      <td>0.1831</td>\n      <td>0.2977</td>\n      <td>0.505</td>\n    </tr>\n    <tr>\n      <th>ada</th>\n      <td>AdaBoost Regressor</td>\n      <td>0.5338</td>\n      <td>4.584000e-01</td>\n      <td>6.764000e-01</td>\n      <td>2.278000e-01</td>\n      <td>0.1887</td>\n      <td>0.2953</td>\n      <td>2.158</td>\n    </tr>\n    <tr>\n      <th>omp</th>\n      <td>Orthogonal Matching Pursuit</td>\n      <td>0.5361</td>\n      <td>4.575000e-01</td>\n      <td>6.760000e-01</td>\n      <td>2.270000e-01</td>\n      <td>0.1901</td>\n      <td>0.3057</td>\n      <td>0.035</td>\n    </tr>\n    <tr>\n      <th>en</th>\n      <td>Elastic Net</td>\n      <td>0.5513</td>\n      <td>5.035000e-01</td>\n      <td>7.090000e-01</td>\n      <td>1.514000e-01</td>\n      <td>0.1995</td>\n      <td>0.3269</td>\n      <td>0.057</td>\n    </tr>\n    <tr>\n      <th>lasso</th>\n      <td>Lasso Regression</td>\n      <td>0.5573</td>\n      <td>5.181000e-01</td>\n      <td>7.191000e-01</td>\n      <td>1.268000e-01</td>\n      <td>0.2023</td>\n      <td>0.3294</td>\n      <td>0.045</td>\n    </tr>\n    <tr>\n      <th>llar</th>\n      <td>Lasso Least Angle Regression</td>\n      <td>0.5662</td>\n      <td>5.956000e-01</td>\n      <td>7.709000e-01</td>\n      <td>-1.400000e-03</td>\n      <td>0.2187</td>\n      <td>0.3467</td>\n      <td>0.028</td>\n    </tr>\n    <tr>\n      <th>knn</th>\n      <td>K Neighbors Regressor</td>\n      <td>0.6051</td>\n      <td>5.971000e-01</td>\n      <td>7.722000e-01</td>\n      <td>-6.600000e-03</td>\n      <td>0.2154</td>\n      <td>0.3421</td>\n      <td>0.103</td>\n    </tr>\n    <tr>\n      <th>dt</th>\n      <td>Decision Tree Regressor</td>\n      <td>0.6051</td>\n      <td>7.159000e-01</td>\n      <td>8.455000e-01</td>\n      <td>-2.099000e-01</td>\n      <td>0.2389</td>\n      <td>0.2994</td>\n      <td>0.312</td>\n    </tr>\n    <tr>\n      <th>huber</th>\n      <td>Huber Regressor</td>\n      <td>0.9181</td>\n      <td>1.391200e+00</td>\n      <td>1.177900e+00</td>\n      <td>-1.340200e+00</td>\n      <td>0.3301</td>\n      <td>0.4847</td>\n      <td>0.229</td>\n    </tr>\n    <tr>\n      <th>par</th>\n      <td>Passive Aggressive Regressor</td>\n      <td>2.1552</td>\n      <td>1.087820e+01</td>\n      <td>2.847100e+00</td>\n      <td>-1.769630e+01</td>\n      <td>0.5854</td>\n      <td>1.0491</td>\n      <td>0.074</td>\n    </tr>\n    <tr>\n      <th>lar</th>\n      <td>Least Angle Regression</td>\n      <td>777999.7714</td>\n      <td>9.368737e+12</td>\n      <td>1.065237e+06</td>\n      <td>-1.469708e+13</td>\n      <td>5.8163</td>\n      <td>309521.6239</td>\n      <td>0.054</td>\n    </tr>\n  </tbody>\n</table>\n</div>"
     },
     "metadata": {}
    }
   ]
  },
  {
   "cell_type": "markdown",
   "source": "# Interpreting Features Importance Using Shapley Values\n\nPlease see these [four short videos](https://www.coursera.org/lecture/ai-for-medical-treatment/individual-feature-importance-TnfPK) for a better understanding of Shapley values. You will, unfortunately, need to create a Coursera account, because they only let you watch three videos without an account.\n\nIn summary, though, each point in the above graph represents a single sample.This is what sets Shapley values apart from 'global' feature importance methods, because it shows you the importance of each feature on a per-sample basis.\n\nThe colour of the point shows the value of the feature for that sample. So, for the `median_age` column, a red value means the census tract had a higher median age, while a blue point indicates that the tract had a lower median age.\n\nThe x-axis, meanwhile, shows the contribution of that particular feature on the prediction for that particular sample. A positive value on the x-axis indicates a positive contribution toward the predicted value (i.e., an increase in the predicted value) compared to the mean of the overall population, while a negative value on the x-axis indicates a decrease in the predicted value compared to the mean of the overall population. \n\nThis is the *other useful thing* about Shapley values, because **they not only indicate how important a particular feature is, but also what effect a higher/lower feature value has on the prediction** (i.e., does it increase/decrease the predicted value).\n\nPutting it all together, if we consider the `median_age`, what the above graph, with red points being clustered around the left and the blue points clustered around the right, shows is that when a census tract has a higher median age (i.e., red points), this is likely to make the redlining index value of the census tract to decrease.\n\nNote that the way Akash set it up, an index value of 1.0 corresponds to the highest grade (A), while a value of 5.0 corresponds to the lowest grade (E).\n\nAs such, the fact that a higher `median_age` corresponds to a lower index value means that **the higher the median age of the census tract, the more likely that it has a good grade (e.g., an A)**, and vice versa.\n\nThis could be explained by, perhaps, considering the fact that older people are more likely to be better off economically, and therefore more likely to live in a good neighbourhood, which would result in a better redlining grade. Alternatively, it is sometimes the case that people with lower incomes have more children on average (not sure if this is the case in the U.S., but it is sometimes the case in less developed countries). As such, lower income neighbourhood = more children per capita = lower median age.\n\nThese are, of course, just some guesses on my part. The true reason for the correlation would require further research.",
   "metadata": {
    "tags": [],
    "id": "TvpCBfgzJuev",
    "cell_id": "00011-8966d7b3-da0b-4d52-931f-a9b4a77e2743",
    "deepnote_cell_type": "markdown"
   }
  },
  {
   "cell_type": "markdown",
   "source": "## CatBoost — Beeswarm Plot",
   "metadata": {
    "tags": [],
    "cell_id": "00007-2e189d89-550f-4576-a6c1-56bdde221441",
    "deepnote_cell_type": "markdown"
   }
  },
  {
   "cell_type": "code",
   "metadata": {
    "tags": [],
    "cell_id": "00007-267e8e6c-c4c6-4014-974f-d763460cf8e0",
    "deepnote_to_be_reexecuted": false,
    "source_hash": "6514d7d1",
    "execution_start": 1623267037005,
    "execution_millis": 5160,
    "output_cleared": false,
    "deepnote_cell_type": "code"
   },
   "source": "interpret_model(best_model)",
   "execution_count": null,
   "outputs": [
    {
     "data": {
      "text/plain": "<Figure size 576x684 with 2 Axes>",
      "image/png": "[encoded data removed]"
     },
     "metadata": {
      "needs_background": "light",
      "image/png": {
       "width": 805,
       "height": 568
      }
     },
     "output_type": "display_data"
    }
   ]
  },
  {
   "cell_type": "markdown",
   "source": "## CatBoost — Mean Absolute Values",
   "metadata": {
    "tags": [],
    "cell_id": "00009-1cf3c3a1-f012-4913-972a-64f344e78700",
    "deepnote_cell_type": "markdown"
   }
  },
  {
   "cell_type": "code",
   "metadata": {
    "tags": [],
    "cell_id": "00008-ea85b93e-2cd0-4002-b7de-bec1f2ce2fb0",
    "deepnote_to_be_reexecuted": false,
    "source_hash": "cf932ff8",
    "execution_start": 1623267042220,
    "execution_millis": 7719,
    "output_cleared": false,
    "deepnote_cell_type": "code"
   },
   "source": "X = get_config(\"X_test\")\nexplainer = shap.TreeExplainer(best_model)\nshap_values = explainer.shap_values(X)\nshap_obj_best_model = explainer(X)\n\n# Saving the Shapley values to file\nshap_cat_df = pd.DataFrame(shap_obj_best_model.values, columns=X.columns)\nshap_cat_df.to_csv(\"output/shap_values_cat.csv\")\n\n# Plotting the mean absolute values\nshap.plots.bar(shap_obj_best_model.abs.mean(0), max_display=20)",
   "execution_count": null,
   "outputs": [
    {
     "data": {
      "text/plain": "<Figure size 576x828 with 1 Axes>",
      "image/png": "[encoded data removed]"
     },
     "metadata": {
      "image/png": {
       "width": 810,
       "height": 673
      }
     },
     "output_type": "display_data"
    }
   ]
  },
  {
   "cell_type": "code",
   "metadata": {
    "tags": [],
    "cell_id": "00012-6c320057-769f-48c6-84ad-1159e73f6330",
    "deepnote_to_be_reexecuted": false,
    "source_hash": "12bb59db",
    "execution_start": 1623267050074,
    "execution_millis": 316,
    "deepnote_cell_type": "code"
   },
   "source": "plot_values = shap_cat_df.abs().mean(axis=0).sort_values(ascending=False)\nfig, axes = plt.subplots(2, 1, figsize=(6, 10))\n\naxes[0].plot(plot_values.values)\naxes[0].scatter(x=range(len(plot_values)), y=plot_values.values, alpha=0.2)\naxes[0].set(xlabel = \"Feature Index\", ylabel = \"Shapley Value\", title = \"All Features\")\n\nidx = 20\naxes[1].plot(plot_values.values[:idx])\naxes[1].scatter(x=range(len(plot_values[:idx])), y=plot_values.values[:idx], alpha=0.2)\naxes[1].set(xlabel = \"Feature Index\", ylabel = \"Shapley Value\", title = \"Top 20 Features\")\n\nplt.show()",
   "execution_count": null,
   "outputs": [
    {
     "data": {
      "text/plain": "<Figure size 432x720 with 2 Axes>",
      "image/png": "[encoded data removed]"
     },
     "metadata": {
      "needs_background": "light",
      "image/png": {
       "width": 397,
       "height": 604
      }
     },
     "output_type": "display_data"
    }
   ]
  },
  {
   "cell_type": "markdown",
   "source": "Based on the above, perhaps taking the top 5 or top 8 features makes sense, as this is where we see the largest cliffs (changes in the magnitude of the mean absolute Shapley values).",
   "metadata": {
    "tags": [],
    "cell_id": "00012-062a1ca4-ca59-479f-bd17-751cdd49c912",
    "deepnote_cell_type": "markdown"
   }
  },
  {
   "cell_type": "code",
   "metadata": {
    "tags": [],
    "cell_id": "00013-bb871f1f-d499-43d1-8783-f912ae256765",
    "deepnote_to_be_reexecuted": false,
    "source_hash": "1bf61351",
    "execution_start": 1623267050395,
    "execution_millis": 7,
    "deepnote_cell_type": "code"
   },
   "source": "# Top 8 features\nlist(plot_values[:8].index)",
   "execution_count": null,
   "outputs": [
    {
     "output_type": "execute_result",
     "execution_count": 12,
     "data": {
      "text/plain": "['housing_built_1939_or_earlier_normalised',\n 'multi_unit_structures_normalised',\n 'median_year_structure_built',\n 'education_high_school_or_less_normalised',\n 'walked_to_work_normalised',\n 'education_graduate_degree_normalised',\n 'aged_65_or_older_normalised',\n 'married_households_normalised']"
     },
     "metadata": {}
    }
   ]
  },
  {
   "cell_type": "code",
   "metadata": {
    "tags": [],
    "cell_id": "00014-a1b4b7ea-9904-4fee-9d86-4c5000505b7d",
    "deepnote_to_be_reexecuted": false,
    "source_hash": "caf9b5cc",
    "execution_start": 1623267050404,
    "execution_millis": 765,
    "deepnote_cell_type": "code"
   },
   "source": "new_data = joined[list(plot_values[:8].index) + [\"reweighted_redline_index\"]]\nexp2 = setup(new_data, target=\"reweighted_redline_index\", silent=True, html=False)",
   "execution_count": null,
   "outputs": [
    {
     "name": "stdout",
     "text": "Setup Succesfully Completed!\n",
     "output_type": "stream"
    },
    {
     "data": {
      "application/vnd.deepnote.dataframe.v2+json": {
       "row_count": 57,
       "column_count": 2,
       "columns": [
        {
         "name": "Description",
         "dtype": "object",
         "stats": {
          "unique_count": 57,
          "nan_count": 0,
          "categories": [
           {
            "name": "session_id",
            "count": 1
           },
           {
            "name": "Target",
            "count": 1
           },
           {
            "name": "55 others",
            "count": 55
           }
          ]
         }
        },
        {
         "name": "Value",
         "dtype": "object",
         "stats": {
          "unique_count": 23,
          "nan_count": 8,
          "categories": [
           {
            "name": "False",
            "count": 21
           },
           {
            "name": "20 others",
            "count": 28
           },
           {
            "name": "Missing",
            "count": 8
           }
          ]
         }
        },
        {
         "name": "_deepnote_index_column",
         "dtype": "int64"
        }
       ],
       "rows_top": [
        {
         "Description": "session_id",
         "Value": "2066",
         "_deepnote_index_column": 0
        },
        {
         "Description": "Target",
         "Value": "reweighted_redline_index",
         "_deepnote_index_column": 1
        },
        {
         "Description": "Original Data",
         "Value": "(6735, 9)",
         "_deepnote_index_column": 2
        },
        {
         "Description": "Missing Values",
         "Value": "True",
         "_deepnote_index_column": 3
        },
        {
         "Description": "Numeric Features",
         "Value": "8",
         "_deepnote_index_column": 4
        },
        {
         "Description": "Categorical Features",
         "Value": "0",
         "_deepnote_index_column": 5
        },
        {
         "Description": "Ordinal Features",
         "Value": "False",
         "_deepnote_index_column": 6
        },
        {
         "Description": "High Cardinality Features",
         "Value": "False",
         "_deepnote_index_column": 7
        },
        {
         "Description": "High Cardinality Method",
         "Value": "None",
         "_deepnote_index_column": 8
        },
        {
         "Description": "Transformed Train Set",
         "Value": "(4714, 8)",
         "_deepnote_index_column": 9
        },
        {
         "Description": "Transformed Test Set",
         "Value": "(2021, 8)",
         "_deepnote_index_column": 10
        },
        {
         "Description": "Shuffle Train-Test",
         "Value": "True",
         "_deepnote_index_column": 11
        },
        {
         "Description": "Stratify Train-Test",
         "Value": "False",
         "_deepnote_index_column": 12
        },
        {
         "Description": "Fold Generator",
         "Value": "KFold",
         "_deepnote_index_column": 13
        },
        {
         "Description": "Fold Number",
         "Value": "10",
         "_deepnote_index_column": 14
        },
        {
         "Description": "CPU Jobs",
         "Value": "-1",
         "_deepnote_index_column": 15
        },
        {
         "Description": "Use GPU",
         "Value": "False",
         "_deepnote_index_column": 16
        },
        {
         "Description": "Log Experiment",
         "Value": "False",
         "_deepnote_index_column": 17
        },
        {
         "Description": "Experiment Name",
         "Value": "reg-default-name",
         "_deepnote_index_column": 18
        },
        {
         "Description": "USI",
         "Value": "a587",
         "_deepnote_index_column": 19
        },
        {
         "Description": "Imputation Type",
         "Value": "simple",
         "_deepnote_index_column": 20
        },
        {
         "Description": "Iterative Imputation Iteration",
         "Value": "None",
         "_deepnote_index_column": 21
        },
        {
         "Description": "Numeric Imputer",
         "Value": "mean",
         "_deepnote_index_column": 22
        },
        {
         "Description": "Iterative Imputation Numeric Model",
         "Value": "None",
         "_deepnote_index_column": 23
        },
        {
         "Description": "Categorical Imputer",
         "Value": "constant",
         "_deepnote_index_column": 24
        },
        {
         "Description": "Iterative Imputation Categorical Model",
         "Value": "None",
         "_deepnote_index_column": 25
        },
        {
         "Description": "Unknown Categoricals Handling",
         "Value": "least_frequent",
         "_deepnote_index_column": 26
        },
        {
         "Description": "Normalize",
         "Value": "False",
         "_deepnote_index_column": 27
        },
        {
         "Description": "Normalize Method",
         "Value": "None",
         "_deepnote_index_column": 28
        },
        {
         "Description": "Transformation",
         "Value": "False",
         "_deepnote_index_column": 29
        },
        {
         "Description": "Transformation Method",
         "Value": "None",
         "_deepnote_index_column": 30
        },
        {
         "Description": "PCA",
         "Value": "False",
         "_deepnote_index_column": 31
        },
        {
         "Description": "PCA Method",
         "Value": "None",
         "_deepnote_index_column": 32
        },
        {
         "Description": "PCA Components",
         "Value": "None",
         "_deepnote_index_column": 33
        },
        {
         "Description": "Ignore Low Variance",
         "Value": "False",
         "_deepnote_index_column": 34
        },
        {
         "Description": "Combine Rare Levels",
         "Value": "False",
         "_deepnote_index_column": 35
        },
        {
         "Description": "Rare Level Threshold",
         "Value": "None",
         "_deepnote_index_column": 36
        },
        {
         "Description": "Numeric Binning",
         "Value": "False",
         "_deepnote_index_column": 37
        },
        {
         "Description": "Remove Outliers",
         "Value": "False",
         "_deepnote_index_column": 38
        },
        {
         "Description": "Outliers Threshold",
         "Value": "None",
         "_deepnote_index_column": 39
        },
        {
         "Description": "Remove Multicollinearity",
         "Value": "False",
         "_deepnote_index_column": 40
        },
        {
         "Description": "Multicollinearity Threshold",
         "Value": "None",
         "_deepnote_index_column": 41
        },
        {
         "Description": "Clustering",
         "Value": "False",
         "_deepnote_index_column": 42
        },
        {
         "Description": "Clustering Iteration",
         "Value": "None",
         "_deepnote_index_column": 43
        },
        {
         "Description": "Polynomial Features",
         "Value": "False",
         "_deepnote_index_column": 44
        },
        {
         "Description": "Polynomial Degree",
         "Value": "None",
         "_deepnote_index_column": 45
        },
        {
         "Description": "Trignometry Features",
         "Value": "False",
         "_deepnote_index_column": 46
        },
        {
         "Description": "Polynomial Threshold",
         "Value": "None",
         "_deepnote_index_column": 47
        },
        {
         "Description": "Group Features",
         "Value": "False",
         "_deepnote_index_column": 48
        },
        {
         "Description": "Feature Selection",
         "Value": "False",
         "_deepnote_index_column": 49
        },
        {
         "Description": "Feature Selection Method",
         "Value": "classic",
         "_deepnote_index_column": 50
        },
        {
         "Description": "Features Selection Threshold",
         "Value": "None",
         "_deepnote_index_column": 51
        },
        {
         "Description": "Feature Interaction",
         "Value": "False",
         "_deepnote_index_column": 52
        },
        {
         "Description": "Feature Ratio",
         "Value": "False",
         "_deepnote_index_column": 53
        },
        {
         "Description": "Interaction Threshold",
         "Value": "None",
         "_deepnote_index_column": 54
        },
        {
         "Description": "Transform Target",
         "Value": "False",
         "_deepnote_index_column": 55
        },
        {
         "Description": "Transform Target Method",
         "Value": "box-cox",
         "_deepnote_index_column": 56
        }
       ],
       "rows_bottom": null
      },
      "text/plain": "                               Description                     Value\n0                               session_id                      2066\n1                                   Target  reweighted_redline_index\n2                            Original Data                 (6735, 9)\n3                           Missing Values                      True\n4                         Numeric Features                         8\n5                     Categorical Features                         0\n6                         Ordinal Features                     False\n7                High Cardinality Features                     False\n8                  High Cardinality Method                      None\n9                    Transformed Train Set                 (4714, 8)\n10                    Transformed Test Set                 (2021, 8)\n11                      Shuffle Train-Test                      True\n12                     Stratify Train-Test                     False\n13                          Fold Generator                     KFold\n14                             Fold Number                        10\n15                                CPU Jobs                        -1\n16                                 Use GPU                     False\n17                          Log Experiment                     False\n18                         Experiment Name          reg-default-name\n19                                     USI                      a587\n20                         Imputation Type                    simple\n21          Iterative Imputation Iteration                      None\n22                         Numeric Imputer                      mean\n23      Iterative Imputation Numeric Model                      None\n24                     Categorical Imputer                  constant\n25  Iterative Imputation Categorical Model                      None\n26           Unknown Categoricals Handling            least_frequent\n27                               Normalize                     False\n28                        Normalize Method                      None\n29                          Transformation                     False\n30                   Transformation Method                      None\n31                                     PCA                     False\n32                              PCA Method                      None\n33                          PCA Components                      None\n34                     Ignore Low Variance                     False\n35                     Combine Rare Levels                     False\n36                    Rare Level Threshold                      None\n37                         Numeric Binning                     False\n38                         Remove Outliers                     False\n39                      Outliers Threshold                      None\n40                Remove Multicollinearity                     False\n41             Multicollinearity Threshold                      None\n42                              Clustering                     False\n43                    Clustering Iteration                      None\n44                     Polynomial Features                     False\n45                       Polynomial Degree                      None\n46                    Trignometry Features                     False\n47                    Polynomial Threshold                      None\n48                          Group Features                     False\n49                       Feature Selection                     False\n50                Feature Selection Method                   classic\n51            Features Selection Threshold                      None\n52                     Feature Interaction                     False\n53                           Feature Ratio                     False\n54                   Interaction Threshold                      None\n55                        Transform Target                     False\n56                 Transform Target Method                   box-cox",
      "text/html": "<div>\n<style scoped>\n    .dataframe tbody tr th:only-of-type {\n        vertical-align: middle;\n    }\n\n    .dataframe tbody tr th {\n        vertical-align: top;\n    }\n\n    .dataframe thead th {\n        text-align: right;\n    }\n</style>\n<table border=\"1\" class=\"dataframe\">\n  <thead>\n    <tr style=\"text-align: right;\">\n      <th></th>\n      <th>Description</th>\n      <th>Value</th>\n    </tr>\n  </thead>\n  <tbody>\n    <tr>\n      <th>0</th>\n      <td>session_id</td>\n      <td>2066</td>\n    </tr>\n    <tr>\n      <th>1</th>\n      <td>Target</td>\n      <td>reweighted_redline_index</td>\n    </tr>\n    <tr>\n      <th>2</th>\n      <td>Original Data</td>\n      <td>(6735, 9)</td>\n    </tr>\n    <tr>\n      <th>3</th>\n      <td>Missing Values</td>\n      <td>True</td>\n    </tr>\n    <tr>\n      <th>4</th>\n      <td>Numeric Features</td>\n      <td>8</td>\n    </tr>\n    <tr>\n      <th>5</th>\n      <td>Categorical Features</td>\n      <td>0</td>\n    </tr>\n    <tr>\n      <th>6</th>\n      <td>Ordinal Features</td>\n      <td>False</td>\n    </tr>\n    <tr>\n      <th>7</th>\n      <td>High Cardinality Features</td>\n      <td>False</td>\n    </tr>\n    <tr>\n      <th>8</th>\n      <td>High Cardinality Method</td>\n      <td>None</td>\n    </tr>\n    <tr>\n      <th>9</th>\n      <td>Transformed Train Set</td>\n      <td>(4714, 8)</td>\n    </tr>\n    <tr>\n      <th>10</th>\n      <td>Transformed Test Set</td>\n      <td>(2021, 8)</td>\n    </tr>\n    <tr>\n      <th>11</th>\n      <td>Shuffle Train-Test</td>\n      <td>True</td>\n    </tr>\n    <tr>\n      <th>12</th>\n      <td>Stratify Train-Test</td>\n      <td>False</td>\n    </tr>\n    <tr>\n      <th>13</th>\n      <td>Fold Generator</td>\n      <td>KFold</td>\n    </tr>\n    <tr>\n      <th>14</th>\n      <td>Fold Number</td>\n      <td>10</td>\n    </tr>\n    <tr>\n      <th>15</th>\n      <td>CPU Jobs</td>\n      <td>-1</td>\n    </tr>\n    <tr>\n      <th>16</th>\n      <td>Use GPU</td>\n      <td>False</td>\n    </tr>\n    <tr>\n      <th>17</th>\n      <td>Log Experiment</td>\n      <td>False</td>\n    </tr>\n    <tr>\n      <th>18</th>\n      <td>Experiment Name</td>\n      <td>reg-default-name</td>\n    </tr>\n    <tr>\n      <th>19</th>\n      <td>USI</td>\n      <td>a587</td>\n    </tr>\n    <tr>\n      <th>20</th>\n      <td>Imputation Type</td>\n      <td>simple</td>\n    </tr>\n    <tr>\n      <th>21</th>\n      <td>Iterative Imputation Iteration</td>\n      <td>None</td>\n    </tr>\n    <tr>\n      <th>22</th>\n      <td>Numeric Imputer</td>\n      <td>mean</td>\n    </tr>\n    <tr>\n      <th>23</th>\n      <td>Iterative Imputation Numeric Model</td>\n      <td>None</td>\n    </tr>\n    <tr>\n      <th>24</th>\n      <td>Categorical Imputer</td>\n      <td>constant</td>\n    </tr>\n    <tr>\n      <th>25</th>\n      <td>Iterative Imputation Categorical Model</td>\n      <td>None</td>\n    </tr>\n    <tr>\n      <th>26</th>\n      <td>Unknown Categoricals Handling</td>\n      <td>least_frequent</td>\n    </tr>\n    <tr>\n      <th>27</th>\n      <td>Normalize</td>\n      <td>False</td>\n    </tr>\n    <tr>\n      <th>28</th>\n      <td>Normalize Method</td>\n      <td>None</td>\n    </tr>\n    <tr>\n      <th>29</th>\n      <td>Transformation</td>\n      <td>False</td>\n    </tr>\n    <tr>\n      <th>30</th>\n      <td>Transformation Method</td>\n      <td>None</td>\n    </tr>\n    <tr>\n      <th>31</th>\n      <td>PCA</td>\n      <td>False</td>\n    </tr>\n    <tr>\n      <th>32</th>\n      <td>PCA Method</td>\n      <td>None</td>\n    </tr>\n    <tr>\n      <th>33</th>\n      <td>PCA Components</td>\n      <td>None</td>\n    </tr>\n    <tr>\n      <th>34</th>\n      <td>Ignore Low Variance</td>\n      <td>False</td>\n    </tr>\n    <tr>\n      <th>35</th>\n      <td>Combine Rare Levels</td>\n      <td>False</td>\n    </tr>\n    <tr>\n      <th>36</th>\n      <td>Rare Level Threshold</td>\n      <td>None</td>\n    </tr>\n    <tr>\n      <th>37</th>\n      <td>Numeric Binning</td>\n      <td>False</td>\n    </tr>\n    <tr>\n      <th>38</th>\n      <td>Remove Outliers</td>\n      <td>False</td>\n    </tr>\n    <tr>\n      <th>39</th>\n      <td>Outliers Threshold</td>\n      <td>None</td>\n    </tr>\n    <tr>\n      <th>40</th>\n      <td>Remove Multicollinearity</td>\n      <td>False</td>\n    </tr>\n    <tr>\n      <th>41</th>\n      <td>Multicollinearity Threshold</td>\n      <td>None</td>\n    </tr>\n    <tr>\n      <th>42</th>\n      <td>Clustering</td>\n      <td>False</td>\n    </tr>\n    <tr>\n      <th>43</th>\n      <td>Clustering Iteration</td>\n      <td>None</td>\n    </tr>\n    <tr>\n      <th>44</th>\n      <td>Polynomial Features</td>\n      <td>False</td>\n    </tr>\n    <tr>\n      <th>45</th>\n      <td>Polynomial Degree</td>\n      <td>None</td>\n    </tr>\n    <tr>\n      <th>46</th>\n      <td>Trignometry Features</td>\n      <td>False</td>\n    </tr>\n    <tr>\n      <th>47</th>\n      <td>Polynomial Threshold</td>\n      <td>None</td>\n    </tr>\n    <tr>\n      <th>48</th>\n      <td>Group Features</td>\n      <td>False</td>\n    </tr>\n    <tr>\n      <th>49</th>\n      <td>Feature Selection</td>\n      <td>False</td>\n    </tr>\n    <tr>\n      <th>50</th>\n      <td>Feature Selection Method</td>\n      <td>classic</td>\n    </tr>\n    <tr>\n      <th>51</th>\n      <td>Features Selection Threshold</td>\n      <td>None</td>\n    </tr>\n    <tr>\n      <th>52</th>\n      <td>Feature Interaction</td>\n      <td>False</td>\n    </tr>\n    <tr>\n      <th>53</th>\n      <td>Feature Ratio</td>\n      <td>False</td>\n    </tr>\n    <tr>\n      <th>54</th>\n      <td>Interaction Threshold</td>\n      <td>None</td>\n    </tr>\n    <tr>\n      <th>55</th>\n      <td>Transform Target</td>\n      <td>False</td>\n    </tr>\n    <tr>\n      <th>56</th>\n      <td>Transform Target Method</td>\n      <td>box-cox</td>\n    </tr>\n  </tbody>\n</table>\n</div>"
     },
     "metadata": {},
     "output_type": "display_data"
    }
   ]
  },
  {
   "cell_type": "code",
   "metadata": {
    "tags": [],
    "cell_id": "00015-c13f60c3-515e-4dfb-aaa4-5e2e83f07bcd",
    "deepnote_to_be_reexecuted": false,
    "source_hash": "730b3f6d",
    "execution_start": 1623267051166,
    "execution_millis": 106400,
    "deepnote_cell_type": "code"
   },
   "source": "best_model_2 = compare_models(verbose=False)",
   "execution_count": null,
   "outputs": []
  },
  {
   "cell_type": "code",
   "metadata": {
    "tags": [],
    "cell_id": "00017-a06f4003-22a8-4ea8-a3ac-ad2a2e06a09a",
    "deepnote_to_be_reexecuted": false,
    "source_hash": "4dec31b6",
    "execution_start": 1623267157610,
    "execution_millis": 19,
    "deepnote_cell_type": "code"
   },
   "source": "scores_df_trimmed = pull()\nscores_df_trimmed",
   "execution_count": null,
   "outputs": [
    {
     "output_type": "execute_result",
     "execution_count": 15,
     "data": {
      "application/vnd.deepnote.dataframe.v2+json": {
       "row_count": 18,
       "column_count": 8,
       "columns": [
        {
         "name": "Model",
         "dtype": "object",
         "stats": {
          "unique_count": 18,
          "nan_count": 0,
          "categories": [
           {
            "name": "CatBoost Regressor",
            "count": 1
           },
           {
            "name": "Gradient Boosting Regressor",
            "count": 1
           },
           {
            "name": "16 others",
            "count": 16
           }
          ]
         }
        },
        {
         "name": "MAE",
         "dtype": "float64",
         "stats": {
          "unique_count": 16,
          "nan_count": 0,
          "min": "0.4813",
          "max": "1.1373",
          "histogram": [
           {
            "bin_start": 0.4813,
            "bin_end": 0.5468999999999999,
            "count": 12
           },
           {
            "bin_start": 0.5468999999999999,
            "bin_end": 0.6125,
            "count": 4
           },
           {
            "bin_start": 0.6125,
            "bin_end": 0.6780999999999999,
            "count": 1
           },
           {
            "bin_start": 0.6780999999999999,
            "bin_end": 0.7437,
            "count": 0
           },
           {
            "bin_start": 0.7437,
            "bin_end": 0.8092999999999999,
            "count": 0
           },
           {
            "bin_start": 0.8092999999999999,
            "bin_end": 0.8749,
            "count": 0
           },
           {
            "bin_start": 0.8749,
            "bin_end": 0.9404999999999999,
            "count": 0
           },
           {
            "bin_start": 0.9404999999999999,
            "bin_end": 1.0061,
            "count": 0
           },
           {
            "bin_start": 1.0061,
            "bin_end": 1.0716999999999999,
            "count": 0
           },
           {
            "bin_start": 1.0716999999999999,
            "bin_end": 1.1373,
            "count": 1
           }
          ]
         }
        },
        {
         "name": "MSE",
         "dtype": "float64",
         "stats": {
          "unique_count": 16,
          "nan_count": 0,
          "min": "0.3793",
          "max": "2.0661",
          "histogram": [
           {
            "bin_start": 0.3793,
            "bin_end": 0.54798,
            "count": 13
           },
           {
            "bin_start": 0.54798,
            "bin_end": 0.7166600000000001,
            "count": 3
           },
           {
            "bin_start": 0.7166600000000001,
            "bin_end": 0.88534,
            "count": 1
           },
           {
            "bin_start": 0.88534,
            "bin_end": 1.05402,
            "count": 0
           },
           {
            "bin_start": 1.05402,
            "bin_end": 1.2227,
            "count": 0
           },
           {
            "bin_start": 1.2227,
            "bin_end": 1.39138,
            "count": 0
           },
           {
            "bin_start": 1.39138,
            "bin_end": 1.56006,
            "count": 0
           },
           {
            "bin_start": 1.56006,
            "bin_end": 1.72874,
            "count": 0
           },
           {
            "bin_start": 1.72874,
            "bin_end": 1.8974199999999999,
            "count": 0
           },
           {
            "bin_start": 1.8974199999999999,
            "bin_end": 2.0661,
            "count": 1
           }
          ]
         }
        },
        {
         "name": "RMSE",
         "dtype": "float64",
         "stats": {
          "unique_count": 16,
          "nan_count": 0,
          "min": "0.6156",
          "max": "1.3401",
          "histogram": [
           {
            "bin_start": 0.6156,
            "bin_end": 0.68805,
            "count": 11
           },
           {
            "bin_start": 0.68805,
            "bin_end": 0.7605000000000001,
            "count": 2
           },
           {
            "bin_start": 0.7605000000000001,
            "bin_end": 0.8329500000000001,
            "count": 3
           },
           {
            "bin_start": 0.8329500000000001,
            "bin_end": 0.9054,
            "count": 1
           },
           {
            "bin_start": 0.9054,
            "bin_end": 0.9778500000000001,
            "count": 0
           },
           {
            "bin_start": 0.9778500000000001,
            "bin_end": 1.0503,
            "count": 0
           },
           {
            "bin_start": 1.0503,
            "bin_end": 1.12275,
            "count": 0
           },
           {
            "bin_start": 1.12275,
            "bin_end": 1.1952,
            "count": 0
           },
           {
            "bin_start": 1.1952,
            "bin_end": 1.2676500000000002,
            "count": 0
           },
           {
            "bin_start": 1.2676500000000002,
            "bin_end": 1.3401,
            "count": 1
           }
          ]
         }
        },
        {
         "name": "R2",
         "dtype": "float64",
         "stats": {
          "unique_count": 16,
          "nan_count": 0,
          "min": "-2.6752",
          "max": "0.347",
          "histogram": [
           {
            "bin_start": -2.6752,
            "bin_end": -2.3729799999999996,
            "count": 1
           },
           {
            "bin_start": -2.3729799999999996,
            "bin_end": -2.07076,
            "count": 0
           },
           {
            "bin_start": -2.07076,
            "bin_end": -1.7685399999999998,
            "count": 0
           },
           {
            "bin_start": -1.7685399999999998,
            "bin_end": -1.4663199999999998,
            "count": 0
           },
           {
            "bin_start": -1.4663199999999998,
            "bin_end": -1.1641,
            "count": 0
           },
           {
            "bin_start": -1.1641,
            "bin_end": -0.8618799999999998,
            "count": 0
           },
           {
            "bin_start": -0.8618799999999998,
            "bin_end": -0.55966,
            "count": 0
           },
           {
            "bin_start": -0.55966,
            "bin_end": -0.2574399999999999,
            "count": 1
           },
           {
            "bin_start": -0.2574399999999999,
            "bin_end": 0.044780000000000264,
            "count": 3
           },
           {
            "bin_start": 0.044780000000000264,
            "bin_end": 0.347,
            "count": 13
           }
          ]
         }
        },
        {
         "name": "RMSLE",
         "dtype": "float64",
         "stats": {
          "unique_count": 17,
          "nan_count": 0,
          "min": "0.173",
          "max": "0.3364",
          "histogram": [
           {
            "bin_start": 0.173,
            "bin_end": 0.18933999999999998,
            "count": 11
           },
           {
            "bin_start": 0.18933999999999998,
            "bin_end": 0.20567999999999997,
            "count": 1
           },
           {
            "bin_start": 0.20567999999999997,
            "bin_end": 0.22202,
            "count": 4
           },
           {
            "bin_start": 0.22202,
            "bin_end": 0.23836,
            "count": 0
           },
           {
            "bin_start": 0.23836,
            "bin_end": 0.2547,
            "count": 1
           },
           {
            "bin_start": 0.2547,
            "bin_end": 0.27104,
            "count": 0
           },
           {
            "bin_start": 0.27104,
            "bin_end": 0.28737999999999997,
            "count": 0
           },
           {
            "bin_start": 0.28737999999999997,
            "bin_end": 0.30372,
            "count": 0
           },
           {
            "bin_start": 0.30372,
            "bin_end": 0.32006,
            "count": 0
           },
           {
            "bin_start": 0.32006,
            "bin_end": 0.3364,
            "count": 1
           }
          ]
         }
        },
        {
         "name": "MAPE",
         "dtype": "float64",
         "stats": {
          "unique_count": 17,
          "nan_count": 0,
          "min": "0.2472",
          "max": "0.4922",
          "histogram": [
           {
            "bin_start": 0.2472,
            "bin_end": 0.2717,
            "count": 10
           },
           {
            "bin_start": 0.2717,
            "bin_end": 0.2962,
            "count": 2
           },
           {
            "bin_start": 0.2962,
            "bin_end": 0.3207,
            "count": 5
           },
           {
            "bin_start": 0.3207,
            "bin_end": 0.3452,
            "count": 0
           },
           {
            "bin_start": 0.3452,
            "bin_end": 0.36970000000000003,
            "count": 0
           },
           {
            "bin_start": 0.36970000000000003,
            "bin_end": 0.3942,
            "count": 0
           },
           {
            "bin_start": 0.3942,
            "bin_end": 0.4187,
            "count": 0
           },
           {
            "bin_start": 0.4187,
            "bin_end": 0.44320000000000004,
            "count": 0
           },
           {
            "bin_start": 0.44320000000000004,
            "bin_end": 0.4677,
            "count": 0
           },
           {
            "bin_start": 0.4677,
            "bin_end": 0.4922,
            "count": 1
           }
          ]
         }
        },
        {
         "name": "TT (Sec)",
         "dtype": "float64",
         "stats": {
          "unique_count": 16,
          "nan_count": 0,
          "min": "0.013",
          "max": "4.228",
          "histogram": [
           {
            "bin_start": 0.013,
            "bin_end": 0.4345,
            "count": 14
           },
           {
            "bin_start": 0.4345,
            "bin_end": 0.856,
            "count": 0
           },
           {
            "bin_start": 0.856,
            "bin_end": 1.2774999999999999,
            "count": 2
           },
           {
            "bin_start": 1.2774999999999999,
            "bin_end": 1.6989999999999998,
            "count": 0
           },
           {
            "bin_start": 1.6989999999999998,
            "bin_end": 2.1205,
            "count": 0
           },
           {
            "bin_start": 2.1205,
            "bin_end": 2.542,
            "count": 0
           },
           {
            "bin_start": 2.542,
            "bin_end": 2.9635,
            "count": 1
           },
           {
            "bin_start": 2.9635,
            "bin_end": 3.385,
            "count": 0
           },
           {
            "bin_start": 3.385,
            "bin_end": 3.8064999999999998,
            "count": 0
           },
           {
            "bin_start": 3.8064999999999998,
            "bin_end": 4.228,
            "count": 1
           }
          ]
         }
        },
        {
         "name": "_deepnote_index_column",
         "dtype": "object"
        }
       ],
       "rows_top": [
        {
         "Model": "CatBoost Regressor",
         "MAE": 0.4813,
         "MSE": 0.3793,
         "RMSE": 0.6156,
         "R2": 0.347,
         "RMSLE": 0.173,
         "MAPE": 0.2472,
         "TT (Sec)": 4.228,
         "_deepnote_index_column": "catboost"
        },
        {
         "Model": "Gradient Boosting Regressor",
         "MAE": 0.4851,
         "MSE": 0.3797,
         "RMSE": 0.616,
         "R2": 0.3467,
         "RMSLE": 0.1733,
         "MAPE": 0.2482,
         "TT (Sec)": 0.952,
         "_deepnote_index_column": "gbr"
        },
        {
         "Model": "Extra Trees Regressor",
         "MAE": 0.4902,
         "MSE": 0.3835,
         "RMSE": 0.619,
         "R2": 0.3402,
         "RMSLE": 0.1739,
         "MAPE": 0.2514,
         "TT (Sec)": 1.206,
         "_deepnote_index_column": "et"
        },
        {
         "Model": "Light Gradient Boosting Machine",
         "MAE": 0.4853,
         "MSE": 0.3846,
         "RMSE": 0.62,
         "R2": 0.338,
         "RMSLE": 0.1742,
         "MAPE": 0.2493,
         "TT (Sec)": 0.101,
         "_deepnote_index_column": "lightgbm"
        },
        {
         "Model": "Random Forest Regressor",
         "MAE": 0.4895,
         "MSE": 0.3862,
         "RMSE": 0.6212,
         "R2": 0.336,
         "RMSLE": 0.1745,
         "MAPE": 0.2502,
         "TT (Sec)": 2.755,
         "_deepnote_index_column": "rf"
        },
        {
         "Model": "Linear Regression",
         "MAE": 0.5198,
         "MSE": 0.4253,
         "RMSE": 0.6518,
         "R2": 0.2691,
         "RMSLE": 0.1828,
         "MAPE": 0.2676,
         "TT (Sec)": 0.021,
         "_deepnote_index_column": "lr"
        },
        {
         "Model": "Bayesian Ridge",
         "MAE": 0.5198,
         "MSE": 0.4253,
         "RMSE": 0.6518,
         "R2": 0.2691,
         "RMSLE": 0.1829,
         "MAPE": 0.2677,
         "TT (Sec)": 0.024,
         "_deepnote_index_column": "br"
        },
        {
         "Model": "Ridge Regression",
         "MAE": 0.5198,
         "MSE": 0.4254,
         "RMSE": 0.6519,
         "R2": 0.2689,
         "RMSLE": 0.183,
         "MAPE": 0.2682,
         "TT (Sec)": 0.013,
         "_deepnote_index_column": "ridge"
        },
        {
         "Model": "Least Angle Regression",
         "MAE": 0.5275,
         "MSE": 0.442,
         "RMSE": 0.6639,
         "R2": 0.2416,
         "RMSLE": 0.1849,
         "MAPE": 0.2668,
         "TT (Sec)": 0.018,
         "_deepnote_index_column": "lar"
        },
        {
         "Model": "Huber Regressor",
         "MAE": 0.5378,
         "MSE": 0.4574,
         "RMSE": 0.676,
         "R2": 0.2144,
         "RMSLE": 0.1893,
         "MAPE": 0.2779,
         "TT (Sec)": 0.083,
         "_deepnote_index_column": "huber"
        },
        {
         "Model": "AdaBoost Regressor",
         "MAE": 0.5371,
         "MSE": 0.4584,
         "RMSE": 0.6768,
         "R2": 0.2124,
         "RMSLE": 0.1868,
         "MAPE": 0.2631,
         "TT (Sec)": 0.242,
         "_deepnote_index_column": "ada"
        },
        {
         "Model": "K Neighbors Regressor",
         "MAE": 0.5459,
         "MSE": 0.4843,
         "RMSE": 0.6956,
         "R2": 0.1681,
         "RMSLE": 0.1938,
         "MAPE": 0.2743,
         "TT (Sec)": 0.065,
         "_deepnote_index_column": "knn"
        },
        {
         "Model": "Orthogonal Matching Pursuit",
         "MAE": 0.564,
         "MSE": 0.5312,
         "RMSE": 0.7285,
         "R2": 0.0887,
         "RMSLE": 0.2057,
         "MAPE": 0.3025,
         "TT (Sec)": 0.014,
         "_deepnote_index_column": "omp"
        },
        {
         "Model": "Lasso Regression",
         "MAE": 0.5625,
         "MSE": 0.5834,
         "RMSE": 0.7634,
         "R2": -0.0002,
         "RMSLE": 0.2155,
         "MAPE": 0.3109,
         "TT (Sec)": 0.013,
         "_deepnote_index_column": "lasso"
        },
        {
         "Model": "Elastic Net",
         "MAE": 0.5626,
         "MSE": 0.5834,
         "RMSE": 0.7634,
         "R2": -0.0002,
         "RMSLE": 0.2155,
         "MAPE": 0.3109,
         "TT (Sec)": 0.016,
         "_deepnote_index_column": "en"
        },
        {
         "Model": "Lasso Least Angle Regression",
         "MAE": 0.5621,
         "MSE": 0.5843,
         "RMSE": 0.764,
         "R2": -0.0018,
         "RMSLE": 0.2156,
         "MAPE": 0.3103,
         "TT (Sec)": 0.014,
         "_deepnote_index_column": "llar"
        },
        {
         "Model": "Decision Tree Regressor",
         "MAE": 0.6354,
         "MSE": 0.7724,
         "RMSE": 0.8783,
         "R2": -0.3305,
         "RMSLE": 0.247,
         "MAPE": 0.3121,
         "TT (Sec)": 0.057,
         "_deepnote_index_column": "dt"
        },
        {
         "Model": "Passive Aggressive Regressor",
         "MAE": 1.1373,
         "MSE": 2.0661,
         "RMSE": 1.3401,
         "R2": -2.6752,
         "RMSLE": 0.3364,
         "MAPE": 0.4922,
         "TT (Sec)": 0.015,
         "_deepnote_index_column": "par"
        }
       ],
       "rows_bottom": null
      },
      "text/plain": "                                    Model     MAE     MSE    RMSE      R2  \\\ncatboost               CatBoost Regressor  0.4813  0.3793  0.6156  0.3470   \ngbr           Gradient Boosting Regressor  0.4851  0.3797  0.6160  0.3467   \net                  Extra Trees Regressor  0.4902  0.3835  0.6190  0.3402   \nlightgbm  Light Gradient Boosting Machine  0.4853  0.3846  0.6200  0.3380   \nrf                Random Forest Regressor  0.4895  0.3862  0.6212  0.3360   \nlr                      Linear Regression  0.5198  0.4253  0.6518  0.2691   \nbr                         Bayesian Ridge  0.5198  0.4253  0.6518  0.2691   \nridge                    Ridge Regression  0.5198  0.4254  0.6519  0.2689   \nlar                Least Angle Regression  0.5275  0.4420  0.6639  0.2416   \nhuber                     Huber Regressor  0.5378  0.4574  0.6760  0.2144   \nada                    AdaBoost Regressor  0.5371  0.4584  0.6768  0.2124   \nknn                 K Neighbors Regressor  0.5459  0.4843  0.6956  0.1681   \nomp           Orthogonal Matching Pursuit  0.5640  0.5312  0.7285  0.0887   \nlasso                    Lasso Regression  0.5625  0.5834  0.7634 -0.0002   \nen                            Elastic Net  0.5626  0.5834  0.7634 -0.0002   \nllar         Lasso Least Angle Regression  0.5621  0.5843  0.7640 -0.0018   \ndt                Decision Tree Regressor  0.6354  0.7724  0.8783 -0.3305   \npar          Passive Aggressive Regressor  1.1373  2.0661  1.3401 -2.6752   \n\n           RMSLE    MAPE  TT (Sec)  \ncatboost  0.1730  0.2472     4.228  \ngbr       0.1733  0.2482     0.952  \net        0.1739  0.2514     1.206  \nlightgbm  0.1742  0.2493     0.101  \nrf        0.1745  0.2502     2.755  \nlr        0.1828  0.2676     0.021  \nbr        0.1829  0.2677     0.024  \nridge     0.1830  0.2682     0.013  \nlar       0.1849  0.2668     0.018  \nhuber     0.1893  0.2779     0.083  \nada       0.1868  0.2631     0.242  \nknn       0.1938  0.2743     0.065  \nomp       0.2057  0.3025     0.014  \nlasso     0.2155  0.3109     0.013  \nen        0.2155  0.3109     0.016  \nllar      0.2156  0.3103     0.014  \ndt        0.2470  0.3121     0.057  \npar       0.3364  0.4922     0.015  ",
      "text/html": "<div>\n<style scoped>\n    .dataframe tbody tr th:only-of-type {\n        vertical-align: middle;\n    }\n\n    .dataframe tbody tr th {\n        vertical-align: top;\n    }\n\n    .dataframe thead th {\n        text-align: right;\n    }\n</style>\n<table border=\"1\" class=\"dataframe\">\n  <thead>\n    <tr style=\"text-align: right;\">\n      <th></th>\n      <th>Model</th>\n      <th>MAE</th>\n      <th>MSE</th>\n      <th>RMSE</th>\n      <th>R2</th>\n      <th>RMSLE</th>\n      <th>MAPE</th>\n      <th>TT (Sec)</th>\n    </tr>\n  </thead>\n  <tbody>\n    <tr>\n      <th>catboost</th>\n      <td>CatBoost Regressor</td>\n      <td>0.4813</td>\n      <td>0.3793</td>\n      <td>0.6156</td>\n      <td>0.3470</td>\n      <td>0.1730</td>\n      <td>0.2472</td>\n      <td>4.228</td>\n    </tr>\n    <tr>\n      <th>gbr</th>\n      <td>Gradient Boosting Regressor</td>\n      <td>0.4851</td>\n      <td>0.3797</td>\n      <td>0.6160</td>\n      <td>0.3467</td>\n      <td>0.1733</td>\n      <td>0.2482</td>\n      <td>0.952</td>\n    </tr>\n    <tr>\n      <th>et</th>\n      <td>Extra Trees Regressor</td>\n      <td>0.4902</td>\n      <td>0.3835</td>\n      <td>0.6190</td>\n      <td>0.3402</td>\n      <td>0.1739</td>\n      <td>0.2514</td>\n      <td>1.206</td>\n    </tr>\n    <tr>\n      <th>lightgbm</th>\n      <td>Light Gradient Boosting Machine</td>\n      <td>0.4853</td>\n      <td>0.3846</td>\n      <td>0.6200</td>\n      <td>0.3380</td>\n      <td>0.1742</td>\n      <td>0.2493</td>\n      <td>0.101</td>\n    </tr>\n    <tr>\n      <th>rf</th>\n      <td>Random Forest Regressor</td>\n      <td>0.4895</td>\n      <td>0.3862</td>\n      <td>0.6212</td>\n      <td>0.3360</td>\n      <td>0.1745</td>\n      <td>0.2502</td>\n      <td>2.755</td>\n    </tr>\n    <tr>\n      <th>lr</th>\n      <td>Linear Regression</td>\n      <td>0.5198</td>\n      <td>0.4253</td>\n      <td>0.6518</td>\n      <td>0.2691</td>\n      <td>0.1828</td>\n      <td>0.2676</td>\n      <td>0.021</td>\n    </tr>\n    <tr>\n      <th>br</th>\n      <td>Bayesian Ridge</td>\n      <td>0.5198</td>\n      <td>0.4253</td>\n      <td>0.6518</td>\n      <td>0.2691</td>\n      <td>0.1829</td>\n      <td>0.2677</td>\n      <td>0.024</td>\n    </tr>\n    <tr>\n      <th>ridge</th>\n      <td>Ridge Regression</td>\n      <td>0.5198</td>\n      <td>0.4254</td>\n      <td>0.6519</td>\n      <td>0.2689</td>\n      <td>0.1830</td>\n      <td>0.2682</td>\n      <td>0.013</td>\n    </tr>\n    <tr>\n      <th>lar</th>\n      <td>Least Angle Regression</td>\n      <td>0.5275</td>\n      <td>0.4420</td>\n      <td>0.6639</td>\n      <td>0.2416</td>\n      <td>0.1849</td>\n      <td>0.2668</td>\n      <td>0.018</td>\n    </tr>\n    <tr>\n      <th>huber</th>\n      <td>Huber Regressor</td>\n      <td>0.5378</td>\n      <td>0.4574</td>\n      <td>0.6760</td>\n      <td>0.2144</td>\n      <td>0.1893</td>\n      <td>0.2779</td>\n      <td>0.083</td>\n    </tr>\n    <tr>\n      <th>ada</th>\n      <td>AdaBoost Regressor</td>\n      <td>0.5371</td>\n      <td>0.4584</td>\n      <td>0.6768</td>\n      <td>0.2124</td>\n      <td>0.1868</td>\n      <td>0.2631</td>\n      <td>0.242</td>\n    </tr>\n    <tr>\n      <th>knn</th>\n      <td>K Neighbors Regressor</td>\n      <td>0.5459</td>\n      <td>0.4843</td>\n      <td>0.6956</td>\n      <td>0.1681</td>\n      <td>0.1938</td>\n      <td>0.2743</td>\n      <td>0.065</td>\n    </tr>\n    <tr>\n      <th>omp</th>\n      <td>Orthogonal Matching Pursuit</td>\n      <td>0.5640</td>\n      <td>0.5312</td>\n      <td>0.7285</td>\n      <td>0.0887</td>\n      <td>0.2057</td>\n      <td>0.3025</td>\n      <td>0.014</td>\n    </tr>\n    <tr>\n      <th>lasso</th>\n      <td>Lasso Regression</td>\n      <td>0.5625</td>\n      <td>0.5834</td>\n      <td>0.7634</td>\n      <td>-0.0002</td>\n      <td>0.2155</td>\n      <td>0.3109</td>\n      <td>0.013</td>\n    </tr>\n    <tr>\n      <th>en</th>\n      <td>Elastic Net</td>\n      <td>0.5626</td>\n      <td>0.5834</td>\n      <td>0.7634</td>\n      <td>-0.0002</td>\n      <td>0.2155</td>\n      <td>0.3109</td>\n      <td>0.016</td>\n    </tr>\n    <tr>\n      <th>llar</th>\n      <td>Lasso Least Angle Regression</td>\n      <td>0.5621</td>\n      <td>0.5843</td>\n      <td>0.7640</td>\n      <td>-0.0018</td>\n      <td>0.2156</td>\n      <td>0.3103</td>\n      <td>0.014</td>\n    </tr>\n    <tr>\n      <th>dt</th>\n      <td>Decision Tree Regressor</td>\n      <td>0.6354</td>\n      <td>0.7724</td>\n      <td>0.8783</td>\n      <td>-0.3305</td>\n      <td>0.2470</td>\n      <td>0.3121</td>\n      <td>0.057</td>\n    </tr>\n    <tr>\n      <th>par</th>\n      <td>Passive Aggressive Regressor</td>\n      <td>1.1373</td>\n      <td>2.0661</td>\n      <td>1.3401</td>\n      <td>-2.6752</td>\n      <td>0.3364</td>\n      <td>0.4922</td>\n      <td>0.015</td>\n    </tr>\n  </tbody>\n</table>\n</div>"
     },
     "metadata": {}
    }
   ]
  },
  {
   "cell_type": "code",
   "metadata": {
    "tags": [],
    "cell_id": "00018-eac0bc4f-e711-4008-b829-63674cf1a929",
    "deepnote_to_be_reexecuted": false,
    "source_hash": "389e5b7c",
    "execution_start": 1623267949497,
    "execution_millis": 43,
    "deepnote_cell_type": "code"
   },
   "source": "comparison_df = pd.concat([\n    scores_df.iloc[:1, :],\n    scores_df_trimmed.iloc[:1, :]\n])\\\n    .set_index(pd.Index([\"all_features\", \"trimmed\"]))\\\n    .rename(columns={\"Model\": \"Best Model\"})\n\ncomparison_df",
   "execution_count": null,
   "outputs": [
    {
     "output_type": "execute_result",
     "execution_count": 23,
     "data": {
      "application/vnd.deepnote.dataframe.v2+json": {
       "row_count": 2,
       "column_count": 8,
       "columns": [
        {
         "name": "Best Model",
         "dtype": "object",
         "stats": {
          "unique_count": 1,
          "nan_count": 0,
          "categories": [
           {
            "name": "CatBoost Regressor",
            "count": 2
           }
          ]
         }
        },
        {
         "name": "MAE",
         "dtype": "float64",
         "stats": {
          "unique_count": 2,
          "nan_count": 0,
          "min": "0.4328",
          "max": "0.4813",
          "histogram": [
           {
            "bin_start": 0.4328,
            "bin_end": 0.43765000000000004,
            "count": 1
           },
           {
            "bin_start": 0.43765000000000004,
            "bin_end": 0.4425,
            "count": 0
           },
           {
            "bin_start": 0.4425,
            "bin_end": 0.44735,
            "count": 0
           },
           {
            "bin_start": 0.44735,
            "bin_end": 0.4522,
            "count": 0
           },
           {
            "bin_start": 0.4522,
            "bin_end": 0.45705,
            "count": 0
           },
           {
            "bin_start": 0.45705,
            "bin_end": 0.46190000000000003,
            "count": 0
           },
           {
            "bin_start": 0.46190000000000003,
            "bin_end": 0.46675,
            "count": 0
           },
           {
            "bin_start": 0.46675,
            "bin_end": 0.4716,
            "count": 0
           },
           {
            "bin_start": 0.4716,
            "bin_end": 0.47645,
            "count": 0
           },
           {
            "bin_start": 0.47645,
            "bin_end": 0.4813,
            "count": 1
           }
          ]
         }
        },
        {
         "name": "MSE",
         "dtype": "float64",
         "stats": {
          "unique_count": 2,
          "nan_count": 0,
          "min": "0.314",
          "max": "0.3793",
          "histogram": [
           {
            "bin_start": 0.314,
            "bin_end": 0.32053,
            "count": 1
           },
           {
            "bin_start": 0.32053,
            "bin_end": 0.32706,
            "count": 0
           },
           {
            "bin_start": 0.32706,
            "bin_end": 0.33359,
            "count": 0
           },
           {
            "bin_start": 0.33359,
            "bin_end": 0.34012000000000003,
            "count": 0
           },
           {
            "bin_start": 0.34012000000000003,
            "bin_end": 0.34665,
            "count": 0
           },
           {
            "bin_start": 0.34665,
            "bin_end": 0.35318000000000005,
            "count": 0
           },
           {
            "bin_start": 0.35318000000000005,
            "bin_end": 0.35971000000000003,
            "count": 0
           },
           {
            "bin_start": 0.35971000000000003,
            "bin_end": 0.36624,
            "count": 0
           },
           {
            "bin_start": 0.36624,
            "bin_end": 0.37277000000000005,
            "count": 0
           },
           {
            "bin_start": 0.37277000000000005,
            "bin_end": 0.3793,
            "count": 1
           }
          ]
         }
        },
        {
         "name": "RMSE",
         "dtype": "float64",
         "stats": {
          "unique_count": 2,
          "nan_count": 0,
          "min": "0.5596",
          "max": "0.6156",
          "histogram": [
           {
            "bin_start": 0.5596,
            "bin_end": 0.5652,
            "count": 1
           },
           {
            "bin_start": 0.5652,
            "bin_end": 0.5708,
            "count": 0
           },
           {
            "bin_start": 0.5708,
            "bin_end": 0.5764,
            "count": 0
           },
           {
            "bin_start": 0.5764,
            "bin_end": 0.582,
            "count": 0
           },
           {
            "bin_start": 0.582,
            "bin_end": 0.5876,
            "count": 0
           },
           {
            "bin_start": 0.5876,
            "bin_end": 0.5932000000000001,
            "count": 0
           },
           {
            "bin_start": 0.5932000000000001,
            "bin_end": 0.5988,
            "count": 0
           },
           {
            "bin_start": 0.5988,
            "bin_end": 0.6044,
            "count": 0
           },
           {
            "bin_start": 0.6044,
            "bin_end": 0.61,
            "count": 0
           },
           {
            "bin_start": 0.61,
            "bin_end": 0.6156,
            "count": 1
           }
          ]
         }
        },
        {
         "name": "R2",
         "dtype": "float64",
         "stats": {
          "unique_count": 2,
          "nan_count": 0,
          "min": "0.347",
          "max": "0.4716",
          "histogram": [
           {
            "bin_start": 0.347,
            "bin_end": 0.35946,
            "count": 1
           },
           {
            "bin_start": 0.35946,
            "bin_end": 0.37192,
            "count": 0
           },
           {
            "bin_start": 0.37192,
            "bin_end": 0.38438,
            "count": 0
           },
           {
            "bin_start": 0.38438,
            "bin_end": 0.39683999999999997,
            "count": 0
           },
           {
            "bin_start": 0.39683999999999997,
            "bin_end": 0.4093,
            "count": 0
           },
           {
            "bin_start": 0.4093,
            "bin_end": 0.42176,
            "count": 0
           },
           {
            "bin_start": 0.42176,
            "bin_end": 0.43422,
            "count": 0
           },
           {
            "bin_start": 0.43422,
            "bin_end": 0.44668,
            "count": 0
           },
           {
            "bin_start": 0.44668,
            "bin_end": 0.45914,
            "count": 0
           },
           {
            "bin_start": 0.45914,
            "bin_end": 0.4716,
            "count": 1
           }
          ]
         }
        },
        {
         "name": "RMSLE",
         "dtype": "float64",
         "stats": {
          "unique_count": 2,
          "nan_count": 0,
          "min": "0.1603",
          "max": "0.173",
          "histogram": [
           {
            "bin_start": 0.1603,
            "bin_end": 0.16157,
            "count": 1
           },
           {
            "bin_start": 0.16157,
            "bin_end": 0.16283999999999998,
            "count": 0
           },
           {
            "bin_start": 0.16283999999999998,
            "bin_end": 0.16411,
            "count": 0
           },
           {
            "bin_start": 0.16411,
            "bin_end": 0.16538,
            "count": 0
           },
           {
            "bin_start": 0.16538,
            "bin_end": 0.16665,
            "count": 0
           },
           {
            "bin_start": 0.16665,
            "bin_end": 0.16791999999999999,
            "count": 0
           },
           {
            "bin_start": 0.16791999999999999,
            "bin_end": 0.16918999999999998,
            "count": 0
           },
           {
            "bin_start": 0.16918999999999998,
            "bin_end": 0.17046,
            "count": 0
           },
           {
            "bin_start": 0.17046,
            "bin_end": 0.17173,
            "count": 0
           },
           {
            "bin_start": 0.17173,
            "bin_end": 0.173,
            "count": 1
           }
          ]
         }
        },
        {
         "name": "MAPE",
         "dtype": "float64",
         "stats": {
          "unique_count": 2,
          "nan_count": 0,
          "min": "0.2472",
          "max": "0.2506",
          "histogram": [
           {
            "bin_start": 0.2472,
            "bin_end": 0.24754,
            "count": 1
           },
           {
            "bin_start": 0.24754,
            "bin_end": 0.24788,
            "count": 0
           },
           {
            "bin_start": 0.24788,
            "bin_end": 0.24822,
            "count": 0
           },
           {
            "bin_start": 0.24822,
            "bin_end": 0.24856,
            "count": 0
           },
           {
            "bin_start": 0.24856,
            "bin_end": 0.2489,
            "count": 0
           },
           {
            "bin_start": 0.2489,
            "bin_end": 0.24924,
            "count": 0
           },
           {
            "bin_start": 0.24924,
            "bin_end": 0.24958,
            "count": 0
           },
           {
            "bin_start": 0.24958,
            "bin_end": 0.24992,
            "count": 0
           },
           {
            "bin_start": 0.24992,
            "bin_end": 0.25026,
            "count": 0
           },
           {
            "bin_start": 0.25026,
            "bin_end": 0.2506,
            "count": 1
           }
          ]
         }
        },
        {
         "name": "TT (Sec)",
         "dtype": "float64",
         "stats": {
          "unique_count": 2,
          "nan_count": 0,
          "min": "4.228",
          "max": "27.964",
          "histogram": [
           {
            "bin_start": 4.228,
            "bin_end": 6.6015999999999995,
            "count": 1
           },
           {
            "bin_start": 6.6015999999999995,
            "bin_end": 8.9752,
            "count": 0
           },
           {
            "bin_start": 8.9752,
            "bin_end": 11.348799999999999,
            "count": 0
           },
           {
            "bin_start": 11.348799999999999,
            "bin_end": 13.722399999999999,
            "count": 0
           },
           {
            "bin_start": 13.722399999999999,
            "bin_end": 16.095999999999997,
            "count": 0
           },
           {
            "bin_start": 16.095999999999997,
            "bin_end": 18.4696,
            "count": 0
           },
           {
            "bin_start": 18.4696,
            "bin_end": 20.843199999999996,
            "count": 0
           },
           {
            "bin_start": 20.843199999999996,
            "bin_end": 23.2168,
            "count": 0
           },
           {
            "bin_start": 23.2168,
            "bin_end": 25.590399999999995,
            "count": 0
           },
           {
            "bin_start": 25.590399999999995,
            "bin_end": 27.964,
            "count": 1
           }
          ]
         }
        },
        {
         "name": "_deepnote_index_column",
         "dtype": "object"
        }
       ],
       "rows_top": [
        {
         "Best Model": "CatBoost Regressor",
         "MAE": 0.4328,
         "MSE": 0.314,
         "RMSE": 0.5596,
         "R2": 0.4716,
         "RMSLE": 0.1603,
         "MAPE": 0.2506,
         "TT (Sec)": 27.964,
         "_deepnote_index_column": "all_features"
        },
        {
         "Best Model": "CatBoost Regressor",
         "MAE": 0.4813,
         "MSE": 0.3793,
         "RMSE": 0.6156,
         "R2": 0.347,
         "RMSLE": 0.173,
         "MAPE": 0.2472,
         "TT (Sec)": 4.228,
         "_deepnote_index_column": "trimmed"
        }
       ],
       "rows_bottom": null
      },
      "text/plain": "                      Best Model     MAE     MSE    RMSE      R2   RMSLE  \\\nall_features  CatBoost Regressor  0.4328  0.3140  0.5596  0.4716  0.1603   \ntrimmed       CatBoost Regressor  0.4813  0.3793  0.6156  0.3470  0.1730   \n\n                MAPE  TT (Sec)  \nall_features  0.2506    27.964  \ntrimmed       0.2472     4.228  ",
      "text/html": "<div>\n<style scoped>\n    .dataframe tbody tr th:only-of-type {\n        vertical-align: middle;\n    }\n\n    .dataframe tbody tr th {\n        vertical-align: top;\n    }\n\n    .dataframe thead th {\n        text-align: right;\n    }\n</style>\n<table border=\"1\" class=\"dataframe\">\n  <thead>\n    <tr style=\"text-align: right;\">\n      <th></th>\n      <th>Best Model</th>\n      <th>MAE</th>\n      <th>MSE</th>\n      <th>RMSE</th>\n      <th>R2</th>\n      <th>RMSLE</th>\n      <th>MAPE</th>\n      <th>TT (Sec)</th>\n    </tr>\n  </thead>\n  <tbody>\n    <tr>\n      <th>all_features</th>\n      <td>CatBoost Regressor</td>\n      <td>0.4328</td>\n      <td>0.3140</td>\n      <td>0.5596</td>\n      <td>0.4716</td>\n      <td>0.1603</td>\n      <td>0.2506</td>\n      <td>27.964</td>\n    </tr>\n    <tr>\n      <th>trimmed</th>\n      <td>CatBoost Regressor</td>\n      <td>0.4813</td>\n      <td>0.3793</td>\n      <td>0.6156</td>\n      <td>0.3470</td>\n      <td>0.1730</td>\n      <td>0.2472</td>\n      <td>4.228</td>\n    </tr>\n  </tbody>\n</table>\n</div>"
     },
     "metadata": {}
    }
   ]
  },
  {
   "cell_type": "markdown",
   "source": "## End of Notebook \\[Ignore Below\\]",
   "metadata": {
    "tags": [],
    "cell_id": "00019-0d072180-9033-4c9f-8de1-03929aff308e",
    "deepnote_cell_type": "markdown"
   }
  },
  {
   "cell_type": "markdown",
   "source": "## \\*Tuned\\* CatBoost — Beeswarm Plot",
   "metadata": {
    "tags": [],
    "cell_id": "00011-612e734a-3c3d-496b-a8ea-411529e72e9b",
    "deepnote_to_be_reexecuted": false,
    "source_hash": "e7f12ffd",
    "execution_start": 1622061050586,
    "execution_millis": 4,
    "deepnote_cell_type": "markdown"
   }
  },
  {
   "cell_type": "code",
   "metadata": {
    "tags": [],
    "id": "Nr-I9OOlJuem",
    "colab": {
     "base_uri": "https://localhost:8080/",
     "height": 402,
     "referenced_widgets": [
      "07023c20f0f5452f8156d484d09c2681",
      "6335f6e9d8dc47528bdcc180c2850179",
      "ff14ca9fcb294ccab0c5aaddfca6920e"
     ]
    },
    "cell_id": "00009-2d7c5e78-c3ef-4415-a5c0-4cda437df75d",
    "output_cleared": true,
    "outputId": "4d06d249-9164-4fef-bb40-afc851f0781b",
    "deepnote_to_be_reexecuted": false,
    "source_hash": "d3fe68b2",
    "execution_start": 1623213847221,
    "execution_millis": 541999,
    "deepnote_cell_type": "code"
   },
   "source": "tuned_model = tune_model(best_model, verbose=False)",
   "execution_count": null,
   "outputs": []
  },
  {
   "cell_type": "code",
   "metadata": {
    "colab": {
     "base_uri": "https://localhost:8080/",
     "height": 585
    },
    "id": "MRp7I6BOfzmk",
    "outputId": "2223d9a3-797c-4bc3-8865-d349930b02ab",
    "cell_id": "00019-cf44e554-3b36-4e72-ad75-85bf67be4b5e",
    "deepnote_to_be_reexecuted": true,
    "source_hash": "f7af540d",
    "execution_start": 1622060785130,
    "execution_millis": 2004,
    "output_cleared": true,
    "deepnote_cell_type": "code"
   },
   "source": "interpret_model(tuned_model)",
   "execution_count": null,
   "outputs": []
  },
  {
   "cell_type": "markdown",
   "source": "## \\*Tuned\\* CatBoost — Mean Absolute Values",
   "metadata": {
    "tags": [],
    "cell_id": "00014-705818ac-d400-4780-ab44-bca688267b92",
    "deepnote_to_be_reexecuted": false,
    "source_hash": "ce4c47b1",
    "execution_start": 1622074461750,
    "execution_millis": 0,
    "deepnote_cell_type": "markdown"
   }
  },
  {
   "cell_type": "code",
   "metadata": {
    "colab": {
     "base_uri": "https://localhost:8080/",
     "height": 690
    },
    "id": "Vwstaed6geey",
    "outputId": "d2a65222-e74e-4135-c9fb-c7b6b394e6f7",
    "cell_id": "00022-649a858e-7758-41e3-acdb-e50837e2ace6",
    "deepnote_to_be_reexecuted": true,
    "source_hash": "159c99b9",
    "execution_start": 1622061155886,
    "execution_millis": 2730,
    "output_cleared": true,
    "deepnote_cell_type": "code"
   },
   "source": "X = get_config(\"X_test\")\nexplainer = shap.TreeExplainer(tuned_model)\nshap_values = explainer.shap_values(X)\nshap_obj_tuned_model = explainer(X)\n\n# Saving the Shapley values to file\nshap_tuned_cat_df = pd.DataFrame(shap_obj_tuned_model.values, columns=X.columns)\nshap_tuned_cat_df.to_csv(\"output/shap_values_tuned_cat.csv\")\n\n# Plotting the mean absolute values\nshap.plots.bar(shap_obj_tuned_model.abs.mean(0), max_display=20)",
   "execution_count": null,
   "outputs": []
  },
  {
   "cell_type": "code",
   "metadata": {
    "tags": [],
    "deepnote_to_be_reexecuted": true,
    "source_hash": "c79739d9",
    "execution_millis": 122,
    "id": "ZRYDEe0EJue5",
    "colab": {
     "base_uri": "https://localhost:8080/",
     "height": 250
    },
    "cell_id": "00012-887a04b5-7238-4bf3-8f35-d2df23aa8c35",
    "execution_start": 1616680732810,
    "output_cleared": true,
    "outputId": "1a6110d7-80e0-4322-9576-00ceb01c65a9",
    "deepnote_cell_type": "code"
   },
   "source": "top_5 = [\n    'housing_built_1939_or_earlier_normalised',\n    'multi_unit_structures_normalised',\n    'median_year_structure_built',\n    'aged_65_or_older_normalised',\n    'education_high_school_or_less_normalised'\n]\n\nX = joined.copy()\n\n# Dropping for now because they have many null values.\n## !!!! Will need to check the cause later on\nX.drop(columns=['aggregate_travel_time_to_work_normalised', 'pop_now_married_normalised'], inplace=True)\nprint(X.shape)\nX.dropna(axis=0, how=\"any\", inplace=True)\ny = X.pop('reweighted_redline_index')\nX = X[top_5]\nprint(X.shape)\nX.head()",
   "execution_count": null,
   "outputs": []
  },
  {
   "cell_type": "code",
   "metadata": {
    "tags": [],
    "deepnote_to_be_reexecuted": true,
    "source_hash": "a3b91d56",
    "execution_millis": 35,
    "id": "kVebymnGJue-",
    "colab": {
     "base_uri": "https://localhost:8080/"
    },
    "cell_id": "00013-ed694544-6925-47c7-b175-42de83b19aa1",
    "execution_start": 1616680734391,
    "output_cleared": true,
    "outputId": "f31403aa-bc74-461f-cf08-100ef20bdf99",
    "deepnote_cell_type": "code"
   },
   "source": "model = LinearRegression()\nmodel.fit(X, y)\n# R^2 of predictions on training data\nmodel.score(X, y)",
   "execution_count": null,
   "outputs": []
  },
  {
   "cell_type": "code",
   "metadata": {
    "colab": {
     "base_uri": "https://localhost:8080/"
    },
    "id": "gSCQLDdFYV7z",
    "cell_id": "00014-f8924146-119d-4d1c-9d6f-1f35edddb3cc",
    "deepnote_to_be_reexecuted": false,
    "source_hash": "e9854bac",
    "execution_start": 1616680735683,
    "execution_millis": 17,
    "output_cleared": true,
    "outputId": "81a3dd5a-d6ed-4811-b700-ef969fc65d02",
    "deepnote_cell_type": "code"
   },
   "source": "list( zip( top_5, np.round(model.coef_, 3) ) )",
   "execution_count": null,
   "outputs": []
  },
  {
   "cell_type": "code",
   "metadata": {
    "tags": [],
    "id": "1SPet3hsJufD",
    "colab": {
     "base_uri": "https://localhost:8080/",
     "height": 599
    },
    "cell_id": "00015-f93e4585-3817-491a-bc40-ffd315871a15",
    "deepnote_to_be_reexecuted": false,
    "source_hash": "f736ceb2",
    "execution_millis": 205,
    "execution_start": 1616680939289,
    "output_cleared": true,
    "outputId": "feec25d6-a99f-4827-b1bd-8df75b2f99d2",
    "deepnote_cell_type": "code"
   },
   "source": "# Coefficients of each of the variables\nfig = plt.figure(figsize=(10, 4))\nplt.bar([x[:15] for x in top_5], np.round(model.coef_, 3))\nplt.savefig(\"output/regression_coefficients.png\")",
   "execution_count": null,
   "outputs": []
  },
  {
   "cell_type": "code",
   "metadata": {
    "tags": [],
    "cell_id": "00014-3f4ef943-89fa-4258-9fbb-ad265b2cdad0",
    "output_cleared": true,
    "id": "SUraKynQJnip",
    "deepnote_cell_type": "code"
   },
   "source": "",
   "execution_count": null,
   "outputs": []
  },
  {
   "cell_type": "markdown",
   "source": "<a style='text-decoration:none;line-height:16px;display:flex;color:#5B5B62;padding:10px;justify-content:end;' href='https://deepnote.com?utm_source=created-in-deepnote-cell&projectId=c9a4f701-31a5-4164-b3f3-c09cddf1309e' target=\"_blank\">\n<img alt='Created in deepnote.com' style='display:inline;max-height:16px;margin:0px;margin-right:7.5px;' src='data:image/svg+xml;base64,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' > </img>\nCreated in <span style='font-weight:600;margin-left:4px;'>Deepnote</span></a>",
   "metadata": {
    "tags": [],
    "created_in_deepnote_cell": true,
    "deepnote_cell_type": "markdown"
   }
  }
 ],
 "nbformat": 4,
 "nbformat_minor": 0,
 "metadata": {
  "orig_nbformat": 2,
  "deepnote_notebook_id": "9f4dcfbd-3aa7-414b-8aa9-810a81e877eb",
  "deepnote_execution_queue": [],
  "kernelspec": {
   "name": "python3",
   "display_name": "Python 3",
   "language": "python"
  },
  "deepnote": {},
  "colab": {
   "name": "acs_models_new (1).ipynb",
   "provenance": [],
   "toc_visible": true
  },
  "widgets": {
   "application/vnd.jupyter.widget-state+json": {
    "4133a6105bea4242ba0add27ac9f5c9d": {
     "model_module": "@jupyter-widgets/controls",
     "model_name": "IntProgressModel",
     "state": {
      "_view_name": "ProgressView",
      "style": "IPY_MODEL_d8655d13e4ae4e19a11553bc03df87db",
      "_dom_classes": [],
      "description": "Processing: ",
      "_model_name": "IntProgressModel",
      "bar_style": "",
      "max": 3,
      "_view_module": "@jupyter-widgets/controls",
      "_model_module_version": "1.5.0",
      "value": 3,
      "_view_count": null,
      "_view_module_version": "1.5.0",
      "orientation": "horizontal",
      "min": 0,
      "description_tooltip": null,
      "_model_module": "@jupyter-widgets/controls",
      "layout": "IPY_MODEL_dae10372f4704ac2bc26830dcd70970d"
     }
    },
    "d8655d13e4ae4e19a11553bc03df87db": {
     "model_module": "@jupyter-widgets/controls",
     "model_name": "ProgressStyleModel",
     "state": {
      "_view_name": "StyleView",
      "_model_name": "ProgressStyleModel",
      "description_width": "",
      "_view_module": "@jupyter-widgets/base",
      "_model_module_version": "1.5.0",
      "_view_count": null,
      "_view_module_version": "1.2.0",
      "bar_color": null,
      "_model_module": "@jupyter-widgets/controls"
     }
    },
    "dae10372f4704ac2bc26830dcd70970d": {
     "model_module": "@jupyter-widgets/base",
     "model_name": "LayoutModel",
     "state": {
      "_view_name": "LayoutView",
      "grid_template_rows": null,
      "right": null,
      "justify_content": null,
      "_view_module": "@jupyter-widgets/base",
      "overflow": null,
      "_model_module_version": "1.2.0",
      "_view_count": null,
      "flex_flow": null,
      "width": null,
      "min_width": null,
      "border": null,
      "align_items": null,
      "bottom": null,
      "_model_module": "@jupyter-widgets/base",
      "top": null,
      "grid_column": null,
      "overflow_y": null,
      "overflow_x": null,
      "grid_auto_flow": null,
      "grid_area": null,
      "grid_template_columns": null,
      "flex": null,
      "_model_name": "LayoutModel",
      "justify_items": null,
      "grid_row": null,
      "max_height": null,
      "align_content": null,
      "visibility": null,
      "align_self": null,
      "height": null,
      "min_height": null,
      "padding": null,
      "grid_auto_rows": null,
      "grid_gap": null,
      "max_width": null,
      "order": null,
      "_view_module_version": "1.2.0",
      "grid_template_areas": null,
      "object_position": null,
      "object_fit": null,
      "grid_auto_columns": null,
      "margin": null,
      "display": null,
      "left": null
     }
    },
    "f8302bfe48bc4ed1b7e82d039f01233c": {
     "model_module": "@jupyter-widgets/controls",
     "model_name": "TextModel",
     "state": {
      "_view_name": "TextView",
      "style": "IPY_MODEL_34889a183ef341cf86963c5e9a804afa",
      "_dom_classes": [],
      "description": "",
      "_model_name": "TextModel",
      "placeholder": "​",
      "_view_module": "@jupyter-widgets/controls",
      "_model_module_version": "1.5.0",
      "value": "Following data types have been inferred automatically, if they are correct press enter to continue or type 'quit' otherwise.",
      "_view_count": null,
      "disabled": false,
      "_view_module_version": "1.5.0",
      "continuous_update": true,
      "description_tooltip": null,
      "_model_module": "@jupyter-widgets/controls",
      "layout": "IPY_MODEL_4998118b86054d4da813bf864b65cd14"
     }
    },
    "34889a183ef341cf86963c5e9a804afa": {
     "model_module": "@jupyter-widgets/controls",
     "model_name": "DescriptionStyleModel",
     "state": {
      "_view_name": "StyleView",
      "_model_name": "DescriptionStyleModel",
      "description_width": "",
      "_view_module": "@jupyter-widgets/base",
      "_model_module_version": "1.5.0",
      "_view_count": null,
      "_view_module_version": "1.2.0",
      "_model_module": "@jupyter-widgets/controls"
     }
    },
    "4998118b86054d4da813bf864b65cd14": {
     "model_module": "@jupyter-widgets/base",
     "model_name": "LayoutModel",
     "state": {
      "_view_name": "LayoutView",
      "grid_template_rows": null,
      "right": null,
      "justify_content": null,
      "_view_module": "@jupyter-widgets/base",
      "overflow": null,
      "_model_module_version": "1.2.0",
      "_view_count": null,
      "flex_flow": null,
      "width": "100%",
      "min_width": null,
      "border": null,
      "align_items": null,
      "bottom": null,
      "_model_module": "@jupyter-widgets/base",
      "top": null,
      "grid_column": null,
      "overflow_y": null,
      "overflow_x": null,
      "grid_auto_flow": null,
      "grid_area": null,
      "grid_template_columns": null,
      "flex": null,
      "_model_name": "LayoutModel",
      "justify_items": null,
      "grid_row": null,
      "max_height": null,
      "align_content": null,
      "visibility": null,
      "align_self": null,
      "height": null,
      "min_height": null,
      "padding": null,
      "grid_auto_rows": null,
      "grid_gap": null,
      "max_width": null,
      "order": null,
      "_view_module_version": "1.2.0",
      "grid_template_areas": null,
      "object_position": null,
      "object_fit": null,
      "grid_auto_columns": null,
      "margin": null,
      "display": null,
      "left": null
     }
    },
    "e4ee25eab3c749dc934413df8f8432a7": {
     "model_module": "@jupyter-widgets/controls",
     "model_name": "IntProgressModel",
     "state": {
      "_view_name": "ProgressView",
      "style": "IPY_MODEL_ef12ecc0cc3a4f92b1bc55d0fbaf9b17",
      "_dom_classes": [],
      "description": "Processing: ",
      "_model_name": "IntProgressModel",
      "bar_style": "",
      "max": 94,
      "_view_module": "@jupyter-widgets/controls",
      "_model_module_version": "1.5.0",
      "value": 94,
      "_view_count": null,
      "_view_module_version": "1.5.0",
      "orientation": "horizontal",
      "min": 0,
      "description_tooltip": null,
      "_model_module": "@jupyter-widgets/controls",
      "layout": "IPY_MODEL_2e826ec0ca7e43c397038dc7f78cce5c"
     }
    },
    "ef12ecc0cc3a4f92b1bc55d0fbaf9b17": {
     "model_module": "@jupyter-widgets/controls",
     "model_name": "ProgressStyleModel",
     "state": {
      "_view_name": "StyleView",
      "_model_name": "ProgressStyleModel",
      "description_width": "",
      "_view_module": "@jupyter-widgets/base",
      "_model_module_version": "1.5.0",
      "_view_count": null,
      "_view_module_version": "1.2.0",
      "bar_color": null,
      "_model_module": "@jupyter-widgets/controls"
     }
    },
    "2e826ec0ca7e43c397038dc7f78cce5c": {
     "model_module": "@jupyter-widgets/base",
     "model_name": "LayoutModel",
     "state": {
      "_view_name": "LayoutView",
      "grid_template_rows": null,
      "right": null,
      "justify_content": null,
      "_view_module": "@jupyter-widgets/base",
      "overflow": null,
      "_model_module_version": "1.2.0",
      "_view_count": null,
      "flex_flow": null,
      "width": null,
      "min_width": null,
      "border": null,
      "align_items": null,
      "bottom": null,
      "_model_module": "@jupyter-widgets/base",
      "top": null,
      "grid_column": null,
      "overflow_y": null,
      "overflow_x": null,
      "grid_auto_flow": null,
      "grid_area": null,
      "grid_template_columns": null,
      "flex": null,
      "_model_name": "LayoutModel",
      "justify_items": null,
      "grid_row": null,
      "max_height": null,
      "align_content": null,
      "visibility": null,
      "align_self": null,
      "height": null,
      "min_height": null,
      "padding": null,
      "grid_auto_rows": null,
      "grid_gap": null,
      "max_width": null,
      "order": null,
      "_view_module_version": "1.2.0",
      "grid_template_areas": null,
      "object_position": null,
      "object_fit": null,
      "grid_auto_columns": null,
      "margin": null,
      "display": null,
      "left": null
     }
    },
    "6feb13468aee425c91d1468324fd43d2": {
     "model_module": "@jupyter-widgets/controls",
     "model_name": "IntProgressModel",
     "state": {
      "_view_name": "ProgressView",
      "style": "IPY_MODEL_dff9ffad1de3417fbf2f87d21ae1b6ee",
      "_dom_classes": [],
      "description": "Processing: ",
      "_model_name": "IntProgressModel",
      "bar_style": "",
      "max": 4,
      "_view_module": "@jupyter-widgets/controls",
      "_model_module_version": "1.5.0",
      "value": 4,
      "_view_count": null,
      "_view_module_version": "1.5.0",
      "orientation": "horizontal",
      "min": 0,
      "description_tooltip": null,
      "_model_module": "@jupyter-widgets/controls",
      "layout": "IPY_MODEL_90904f724e5146a18bc92b836ef201c2"
     }
    },
    "dff9ffad1de3417fbf2f87d21ae1b6ee": {
     "model_module": "@jupyter-widgets/controls",
     "model_name": "ProgressStyleModel",
     "state": {
      "_view_name": "StyleView",
      "_model_name": "ProgressStyleModel",
      "description_width": "",
      "_view_module": "@jupyter-widgets/base",
      "_model_module_version": "1.5.0",
      "_view_count": null,
      "_view_module_version": "1.2.0",
      "bar_color": null,
      "_model_module": "@jupyter-widgets/controls"
     }
    },
    "90904f724e5146a18bc92b836ef201c2": {
     "model_module": "@jupyter-widgets/base",
     "model_name": "LayoutModel",
     "state": {
      "_view_name": "LayoutView",
      "grid_template_rows": null,
      "right": null,
      "justify_content": null,
      "_view_module": "@jupyter-widgets/base",
      "overflow": null,
      "_model_module_version": "1.2.0",
      "_view_count": null,
      "flex_flow": null,
      "width": null,
      "min_width": null,
      "border": null,
      "align_items": null,
      "bottom": null,
      "_model_module": "@jupyter-widgets/base",
      "top": null,
      "grid_column": null,
      "overflow_y": null,
      "overflow_x": null,
      "grid_auto_flow": null,
      "grid_area": null,
      "grid_template_columns": null,
      "flex": null,
      "_model_name": "LayoutModel",
      "justify_items": null,
      "grid_row": null,
      "max_height": null,
      "align_content": null,
      "visibility": null,
      "align_self": null,
      "height": null,
      "min_height": null,
      "padding": null,
      "grid_auto_rows": null,
      "grid_gap": null,
      "max_width": null,
      "order": null,
      "_view_module_version": "1.2.0",
      "grid_template_areas": null,
      "object_position": null,
      "object_fit": null,
      "grid_auto_columns": null,
      "margin": null,
      "display": null,
      "left": null
     }
    },
    "07023c20f0f5452f8156d484d09c2681": {
     "model_module": "@jupyter-widgets/controls",
     "model_name": "IntProgressModel",
     "state": {
      "_view_name": "ProgressView",
      "style": "IPY_MODEL_6335f6e9d8dc47528bdcc180c2850179",
      "_dom_classes": [],
      "description": "Processing: ",
      "_model_name": "IntProgressModel",
      "bar_style": "",
      "max": 7,
      "_view_module": "@jupyter-widgets/controls",
      "_model_module_version": "1.5.0",
      "value": 7,
      "_view_count": null,
      "_view_module_version": "1.5.0",
      "orientation": "horizontal",
      "min": 0,
      "description_tooltip": null,
      "_model_module": "@jupyter-widgets/controls",
      "layout": "IPY_MODEL_ff14ca9fcb294ccab0c5aaddfca6920e"
     }
    },
    "6335f6e9d8dc47528bdcc180c2850179": {
     "model_module": "@jupyter-widgets/controls",
     "model_name": "ProgressStyleModel",
     "state": {
      "_view_name": "StyleView",
      "_model_name": "ProgressStyleModel",
      "description_width": "",
      "_view_module": "@jupyter-widgets/base",
      "_model_module_version": "1.5.0",
      "_view_count": null,
      "_view_module_version": "1.2.0",
      "bar_color": null,
      "_model_module": "@jupyter-widgets/controls"
     }
    },
    "ff14ca9fcb294ccab0c5aaddfca6920e": {
     "model_module": "@jupyter-widgets/base",
     "model_name": "LayoutModel",
     "state": {
      "_view_name": "LayoutView",
      "grid_template_rows": null,
      "right": null,
      "justify_content": null,
      "_view_module": "@jupyter-widgets/base",
      "overflow": null,
      "_model_module_version": "1.2.0",
      "_view_count": null,
      "flex_flow": null,
      "width": null,
      "min_width": null,
      "border": null,
      "align_items": null,
      "bottom": null,
      "_model_module": "@jupyter-widgets/base",
      "top": null,
      "grid_column": null,
      "overflow_y": null,
      "overflow_x": null,
      "grid_auto_flow": null,
      "grid_area": null,
      "grid_template_columns": null,
      "flex": null,
      "_model_name": "LayoutModel",
      "justify_items": null,
      "grid_row": null,
      "max_height": null,
      "align_content": null,
      "visibility": null,
      "align_self": null,
      "height": null,
      "min_height": null,
      "padding": null,
      "grid_auto_rows": null,
      "grid_gap": null,
      "max_width": null,
      "order": null,
      "_view_module_version": "1.2.0",
      "grid_template_areas": null,
      "object_position": null,
      "object_fit": null,
      "grid_auto_columns": null,
      "margin": null,
      "display": null,
      "left": null
     }
    }
   }
  }
 }
}