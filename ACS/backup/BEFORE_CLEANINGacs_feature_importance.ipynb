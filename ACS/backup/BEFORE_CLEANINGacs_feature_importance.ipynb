{
 "cells": [
  {
   "cell_type": "markdown",
   "source": "## Author: Muhammad",
   "metadata": {
    "tags": [],
    "cell_id": "00000-1fc95664-655c-43c6-8e12-8d28864afabb",
    "deepnote_cell_type": "markdown"
   }
  },
  {
   "cell_type": "code",
   "metadata": {
    "tags": [],
    "output_cleared": false,
    "source_hash": "ec0c14c3",
    "execution_millis": 1849,
    "deepnote_to_be_reexecuted": false,
    "cell_id": "00001-3553ea40-e649-46dc-a916-965c4cff76c8",
    "execution_start": 1611820924237,
    "deepnote_cell_type": "code"
   },
   "source": "import numpy as np\nimport pandas as pd\nimport geopandas as gpd\nfrom pycaret.regression import *",
   "execution_count": null,
   "outputs": []
  },
  {
   "cell_type": "markdown",
   "source": "**Data Source:** Census Bureau America Community Survery 2018, 5 Year Estimates, [hosted on Google BigQuery](https://console.cloud.google.com/marketplace/product/united-states-census-bureau/acs?filter=solution-type:dataset&project=covid-disparities&organizationId=0)",
   "metadata": {
    "tags": [],
    "cell_id": "00002-4d9e8ac4-528d-4464-9d13-ed30452f1670",
    "deepnote_cell_type": "markdown"
   }
  },
  {
   "cell_type": "code",
   "metadata": {
    "tags": [],
    "output_cleared": false,
    "source_hash": "b4b58100",
    "execution_millis": 2106,
    "deepnote_to_be_reexecuted": false,
    "cell_id": "00003-39b425f8-ffd5-46e1-870a-d53fd6af5ef5",
    "execution_start": 1611820927216,
    "deepnote_cell_type": "code"
   },
   "source": "acs = pd.read_csv(\"/work/COVIDRedlining/data/ACS/acs_census_tract_2018_5yr.csv\")\nacs.drop(columns=[\"Unnamed: 0\", \"do_date\"], inplace=True)",
   "execution_count": null,
   "outputs": []
  },
  {
   "cell_type": "markdown",
   "source": "## Feature Engineering for ACS Variables",
   "metadata": {
    "tags": [],
    "cell_id": "00004-6d970078-8d2c-4edb-bc70-c623c48fd6b1",
    "deepnote_cell_type": "markdown"
   }
  },
  {
   "cell_type": "code",
   "metadata": {
    "tags": [],
    "output_cleared": false,
    "source_hash": "347c9db2",
    "execution_millis": 2,
    "deepnote_to_be_reexecuted": false,
    "cell_id": "00005-21b00c4b-c262-4716-adc3-944c4bc832de",
    "execution_start": 1611820934165,
    "deepnote_cell_type": "code"
   },
   "source": "# Filtering columns which contain population numbers\nmale_female_columns = [x for x in acs.columns \n                    if \"male_\" in x and \n                    x not in ['male_male_households', 'female_female_households','children_in_single_female_hh']\n]\npop_columns = [x for x in acs.columns if \"pop\" in x] + male_female_columns",
   "execution_count": null,
   "outputs": []
  },
  {
   "cell_type": "markdown",
   "source": "### Aggregating Various Variables",
   "metadata": {
    "tags": [],
    "cell_id": "00006-b6751464-673b-4b1f-b321-994272c40b59",
    "deepnote_cell_type": "markdown"
   }
  },
  {
   "cell_type": "code",
   "metadata": {
    "tags": [],
    "cell_id": "00007-f0513706-3116-476b-9efe-4eabfe749b74",
    "deepnote_to_be_reexecuted": false,
    "source_hash": "23e70330",
    "execution_millis": 15,
    "execution_start": 1611820936093,
    "deepnote_cell_type": "code"
   },
   "source": "list(acs.columns)",
   "execution_count": null,
   "outputs": [
    {
     "output_type": "execute_result",
     "execution_count": 4,
     "data": {
      "text/plain": "['geo_id',\n 'total_pop',\n 'households',\n 'male_pop',\n 'female_pop',\n 'median_age',\n 'male_under_5',\n 'male_5_to_9',\n 'male_10_to_14',\n 'male_15_to_17',\n 'male_18_to_19',\n 'male_20',\n 'male_21',\n 'male_22_to_24',\n 'male_25_to_29',\n 'male_30_to_34',\n 'male_35_to_39',\n 'male_40_to_44',\n 'male_45_to_49',\n 'male_50_to_54',\n 'male_55_to_59',\n 'male_60_to_61',\n 'male_62_to_64',\n 'male_65_to_66',\n 'male_67_to_69',\n 'male_70_to_74',\n 'male_75_to_79',\n 'male_80_to_84',\n 'male_85_and_over',\n 'female_under_5',\n 'female_5_to_9',\n 'female_10_to_14',\n 'female_15_to_17',\n 'female_18_to_19',\n 'female_20',\n 'female_21',\n 'female_22_to_24',\n 'female_25_to_29',\n 'female_30_to_34',\n 'female_35_to_39',\n 'female_40_to_44',\n 'female_45_to_49',\n 'female_50_to_54',\n 'female_55_to_59',\n 'female_60_to_61',\n 'female_62_to_64',\n 'female_65_to_66',\n 'female_67_to_69',\n 'female_70_to_74',\n 'female_75_to_79',\n 'female_80_to_84',\n 'female_85_and_over',\n 'white_pop',\n 'population_1_year_and_over',\n 'population_3_years_over',\n 'pop_5_years_over',\n 'pop_15_and_over',\n 'pop_16_over',\n 'pop_25_years_over',\n 'pop_25_64',\n 'pop_never_married',\n 'pop_now_married',\n 'pop_separated',\n 'pop_widowed',\n 'pop_divorced',\n 'not_us_citizen_pop',\n 'black_pop',\n 'asian_pop',\n 'hispanic_pop',\n 'amerindian_pop',\n 'other_race_pop',\n 'two_or_more_races_pop',\n 'hispanic_any_race',\n 'not_hispanic_pop',\n 'asian_male_45_54',\n 'asian_male_55_64',\n 'black_male_45_54',\n 'black_male_55_64',\n 'hispanic_male_45_54',\n 'hispanic_male_55_64',\n 'white_male_45_54',\n 'white_male_55_64',\n 'median_income',\n 'income_per_capita',\n 'income_less_10000',\n 'income_10000_14999',\n 'income_15000_19999',\n 'income_20000_24999',\n 'income_25000_29999',\n 'income_30000_34999',\n 'income_35000_39999',\n 'income_40000_44999',\n 'income_45000_49999',\n 'income_50000_59999',\n 'income_60000_74999',\n 'income_75000_99999',\n 'income_100000_124999',\n 'income_125000_149999',\n 'income_150000_199999',\n 'income_200000_or_more',\n 'pop_determined_poverty_status',\n 'poverty',\n 'gini_index',\n 'housing_units',\n 'renter_occupied_housing_units_paying_cash_median_gross_rent',\n 'owner_occupied_housing_units_lower_value_quartile',\n 'owner_occupied_housing_units_median_value',\n 'owner_occupied_housing_units_upper_value_quartile',\n 'occupied_housing_units',\n 'housing_units_renter_occupied',\n 'vacant_housing_units',\n 'vacant_housing_units_for_rent',\n 'vacant_housing_units_for_sale',\n 'dwellings_1_units_detached',\n 'dwellings_1_units_attached',\n 'dwellings_2_units',\n 'dwellings_3_to_4_units',\n 'dwellings_5_to_9_units',\n 'dwellings_10_to_19_units',\n 'dwellings_20_to_49_units',\n 'dwellings_50_or_more_units',\n 'mobile_homes',\n 'housing_built_2005_or_later',\n 'housing_built_2000_to_2004',\n 'housing_built_1939_or_earlier',\n 'median_year_structure_built',\n 'married_households',\n 'nonfamily_households',\n 'family_households',\n 'households_public_asst_or_food_stamps',\n 'male_male_households',\n 'female_female_households',\n 'children',\n 'children_in_single_female_hh',\n 'median_rent',\n 'percent_income_spent_on_rent',\n 'rent_burden_not_computed',\n 'rent_over_50_percent',\n 'rent_40_to_50_percent',\n 'rent_35_to_40_percent',\n 'rent_30_to_35_percent',\n 'rent_25_to_30_percent',\n 'rent_20_to_25_percent',\n 'rent_15_to_20_percent',\n 'rent_10_to_15_percent',\n 'rent_under_10_percent',\n 'owner_occupied_housing_units',\n 'million_dollar_housing_units',\n 'mortgaged_housing_units',\n 'different_house_year_ago_different_city',\n 'different_house_year_ago_same_city',\n 'families_with_young_children',\n 'two_parent_families_with_young_children',\n 'two_parents_in_labor_force_families_with_young_children',\n 'two_parents_father_in_labor_force_families_with_young_children',\n 'two_parents_mother_in_labor_force_families_with_young_children',\n 'two_parents_not_in_labor_force_families_with_young_children',\n 'one_parent_families_with_young_children',\n 'father_one_parent_families_with_young_children',\n 'father_in_labor_force_one_parent_families_with_young_children',\n 'commute_less_10_mins',\n 'commute_10_14_mins',\n 'commute_15_19_mins',\n 'commute_20_24_mins',\n 'commute_25_29_mins',\n 'commute_30_34_mins',\n 'commute_35_44_mins',\n 'commute_60_more_mins',\n 'commute_45_59_mins',\n 'commuters_16_over',\n 'walked_to_work',\n 'worked_at_home',\n 'no_car',\n 'no_cars',\n 'one_car',\n 'two_cars',\n 'three_cars',\n 'four_more_cars',\n 'aggregate_travel_time_to_work',\n 'commuters_by_public_transportation',\n 'commuters_by_bus',\n 'commuters_by_car_truck_van',\n 'commuters_by_carpool',\n 'commuters_by_subway_or_elevated',\n 'commuters_drove_alone',\n 'group_quarters',\n 'associates_degree',\n 'bachelors_degree',\n 'high_school_diploma',\n 'less_one_year_college',\n 'masters_degree',\n 'one_year_more_college',\n 'less_than_high_school_graduate',\n 'high_school_including_ged',\n 'bachelors_degree_2',\n 'bachelors_degree_or_higher_25_64',\n 'graduate_professional_degree',\n 'some_college_and_associates_degree',\n 'male_45_64_associates_degree',\n 'male_45_64_bachelors_degree',\n 'male_45_64_graduate_degree',\n 'male_45_64_less_than_9_grade',\n 'male_45_64_grade_9_12',\n 'male_45_64_high_school',\n 'male_45_64_some_college',\n 'male_45_to_64',\n 'employed_pop',\n 'unemployed_pop',\n 'pop_in_labor_force',\n 'not_in_labor_force',\n 'workers_16_and_over',\n 'armed_forces',\n 'civilian_labor_force',\n 'employed_agriculture_forestry_fishing_hunting_mining',\n 'employed_arts_entertainment_recreation_accommodation_food',\n 'employed_construction',\n 'employed_education_health_social',\n 'employed_finance_insurance_real_estate',\n 'employed_information',\n 'employed_manufacturing',\n 'employed_other_services_not_public_admin',\n 'employed_public_administration',\n 'employed_retail_trade',\n 'employed_science_management_admin_waste',\n 'employed_transportation_warehousing_utilities',\n 'employed_wholesale_trade',\n 'occupation_management_arts',\n 'occupation_natural_resources_construction_maintenance',\n 'occupation_production_transportation_material',\n 'occupation_sales_office',\n 'occupation_services',\n 'management_business_sci_arts_employed',\n 'sales_office_employed',\n 'in_grades_1_to_4',\n 'in_grades_5_to_8',\n 'in_grades_9_to_12',\n 'in_school',\n 'in_undergrad_college',\n 'speak_only_english_at_home',\n 'speak_spanish_at_home',\n 'speak_spanish_at_home_low_english']"
     },
     "metadata": {}
    }
   ]
  },
  {
   "cell_type": "code",
   "metadata": {
    "tags": [],
    "deepnote_to_be_reexecuted": false,
    "source_hash": "5778ebd2",
    "execution_millis": 16,
    "cell_id": "00007-0f2fcd84-f27d-4aa1-8cd3-ca5f74687081",
    "execution_start": 1611820937387,
    "deepnote_cell_type": "code"
   },
   "source": "# Create 4 new SVI variables from ACS variables \nacs['aged_65_or_older'] = acs['female_65_to_66'] + acs['female_67_to_69'] + acs['female_70_to_74'] + acs['female_75_to_79'] + acs['female_80_to_84'] + acs['female_85_and_over'] + acs['male_65_to_66'] + acs['male_67_to_69'] + acs['male_70_to_74'] + acs['male_75_to_79'] + acs['male_80_to_84'] + acs['male_85_and_over']\nacs['aged_17_or_younger'] = acs['female_under_5'] + acs['female_5_to_9'] + acs['female_10_to_14'] + acs['female_15_to_17'] + acs['male_under_5'] + acs['male_5_to_9'] + acs['male_10_to_14'] + acs['male_15_to_17']\nacs['multi_unit_structures'] = acs['dwellings_10_to_19_units'] + acs['dwellings_20_to_49_units'] + acs['dwellings_50_or_more_units']",
   "execution_count": null,
   "outputs": []
  },
  {
   "cell_type": "code",
   "metadata": {
    "tags": [],
    "deepnote_to_be_reexecuted": false,
    "source_hash": "243511d5",
    "execution_millis": 0,
    "cell_id": "00008-a3f471f5-1132-4a63-8d9b-7068c31c6618",
    "execution_start": 1611820944234,
    "deepnote_cell_type": "code"
   },
   "source": "# # Function for converting percentile bins into categories\n# def perc_bin(x):\n    \n#     if x > 0 and x <= 0.1:\n#       val = 1\n#     elif x > 0.1 and x <= 0.2:\n#       val = 2\n#     elif x > 0.2 and x <= 0.3:\n#       val = 3\n#     elif x > 0.3 and x <= 0.4:\n#       val = 4\n#     elif x > 0.4 and x <= 0.5:\n#       val = 5\n#     elif x > 0.5 and x <= 0.6:\n#       val = 6\n#     elif x > 0.6 and x <= 0.7:\n#       val = 7\n#     elif x > 0.7 and x <= 0.8:\n#       val = 8\n#     elif x > 0.8 and x <= 0.9:\n#       val = 9\n#     elif x > 0.9 and x <= 1:\n#       val = 10\n#     else:\n#       val = 0\n\n#     return val",
   "execution_count": null,
   "outputs": []
  },
  {
   "cell_type": "code",
   "metadata": {
    "tags": [],
    "deepnote_to_be_reexecuted": false,
    "source_hash": "5fc01ea2",
    "execution_millis": 12,
    "cell_id": "00009-0f9308b6-44d1-4656-abd7-2a15553502c3",
    "execution_start": 1611820944882,
    "deepnote_cell_type": "code"
   },
   "source": "# Aggregating variables and normalising them\nacs['poverty_perc'] = acs['poverty']/acs['pop_determined_poverty_status']\n# acs['unemployed_pop_perc'] = acs['unemployed_pop'] / acs['total_pop'] # Moved down\nacs['less_than_high_school_graduate_perc'] = acs['less_than_high_school_graduate'] / acs['total_pop']\nacs['aged_65_or_older_perc'] = acs['aged_65_or_older'] / acs['total_pop']\nacs['aged_17_or_younger_perc'] = acs['aged_17_or_younger'] / acs['total_pop']\nacs['one_parent_families_with_young_children_perc'] = \\\n    acs['one_parent_families_with_young_children'] / acs['households']\nacs['multi_unit_structures_perc'] = acs['multi_unit_structures'] / acs['housing_units']\nacs['mobile_homes_perc'] = acs['mobile_homes'] / acs['housing_units'] \nacs['group_quarters_perc'] = acs['group_quarters'] / acs['total_pop']\n# TODO: no_cars needs to be moved down\nacs['no_cars_perc'] = acs['no_cars'] / acs['households']",
   "execution_count": null,
   "outputs": []
  },
  {
   "cell_type": "code",
   "metadata": {
    "tags": [],
    "deepnote_to_be_reexecuted": false,
    "source_hash": "4897cb6d",
    "execution_millis": 152,
    "cell_id": "00010-05cdf722-ff14-4302-8424-3eb2a8e9cece",
    "execution_start": 1611820946110,
    "deepnote_cell_type": "code"
   },
   "source": "# Dropping all the columns whose data has been aggregated or normalised\nacs.drop(columns=\n    [\n        'female_65_to_66', 'female_67_to_69', 'female_70_to_74', 'female_75_to_79', 'female_80_to_84', \n        'female_85_and_over','male_65_to_66', 'male_67_to_69', 'male_70_to_74', 'male_75_to_79', \n        'male_80_to_84', 'male_85_and_over', 'poverty', 'pop_determined_poverty_status', \n        'less_than_high_school_graduate', 'aged_65_or_older', 'aged_17_or_younger', \n        'one_parent_families_with_young_children', 'multi_unit_structures', 'mobile_homes', \n        'group_quarters', \n    ], inplace=True)\n# Removed unemployed_pop, no_cars, non_white from list",
   "execution_count": null,
   "outputs": []
  },
  {
   "cell_type": "code",
   "metadata": {
    "tags": [],
    "deepnote_to_be_reexecuted": false,
    "source_hash": "2ad7e4dc",
    "execution_millis": 149,
    "cell_id": "00011-9b86edf9-0e87-4446-8056-f8c0217e54b2",
    "execution_start": 1611820946528,
    "deepnote_cell_type": "code"
   },
   "source": "# Other Races in the Original Data is overriden by other_races_pop = total_pop - sum(races),\n# where races is shown below.\nraces = ['black_pop',\n 'asian_pop',\n 'hispanic_pop',\n 'amerindian_pop',\n 'white_pop']\nacs['other_race_pop_perc'] = (acs.total_pop - acs[races].sum(axis=1)) / acs.total_pop\n\n# Non-white\nacs['non_white_pop'] = acs['total_pop'] - acs['white_pop']\n\n# Normalising racial populations by total_pop\nacs['black_pop_perc'] = acs.black_pop / acs.total_pop\nacs['asian_pop_perc'] = acs.asian_pop / acs.total_pop\nacs['hispanic_pop_perc'] = acs.hispanic_pop / acs.total_pop\nacs['amerindian_pop_perc'] = acs.amerindian_pop / acs.total_pop\nacs['white_pop_perc'] = acs.white_pop / acs.total_pop\nacs['non_white_pop_perc'] = acs.non_white_pop / acs.total_pop\n\n# Dropping raw populations in favour of normalised percentages\nacs.drop(columns=['two_or_more_races_pop', 'non_white_pop', 'other_race_pop'] + races, inplace=True)",
   "execution_count": null,
   "outputs": []
  },
  {
   "cell_type": "code",
   "metadata": {
    "tags": [],
    "cell_id": "00012-eca90ab5-faed-45df-aed4-824201ee4ab5",
    "deepnote_to_be_reexecuted": false,
    "source_hash": "e259fec4",
    "execution_millis": 2,
    "execution_start": 1611820947570,
    "deepnote_cell_type": "code"
   },
   "source": "columns_to_drop = [\n    ## Already accounted for in pop cleaning above\n    'hispanic_any_race', 'not_hispanic_pop',\n\n    ## Breakdown of pop by sexes\n    'male_under_5', 'male_5_to_9', 'male_10_to_14', 'male_15_to_17', 'male_18_to_19', 'male_20',\n    'male_21', 'male_22_to_24', 'male_25_to_29', 'male_30_to_34', 'male_35_to_39', 'male_40_to_44',\n    'male_45_to_49', 'male_50_to_54', 'male_55_to_59', 'male_60_to_61', 'male_62_to_64', 'female_under_5',\n    'female_5_to_9', 'female_10_to_14', 'female_15_to_17', 'female_18_to_19', 'female_20', 'female_21',\n    'female_22_to_24', 'female_25_to_29', 'female_30_to_34', 'female_35_to_39', 'female_40_to_44',\n    'female_45_to_49', 'female_50_to_54', 'female_55_to_59', 'female_60_to_61', 'female_62_to_64',\n    \n    ## Breakdown of pop by age\n    'population_1_year_and_over', 'population_3_years_over', 'pop_5_years_over', 'pop_15_and_over',\n    'pop_16_over', 'pop_25_years_over', 'pop_25_64', \n    \n    ## Breakdown of pop by age + race\n    'asian_male_45_54', 'asian_male_55_64', 'black_male_45_54', 'black_male_55_64', 'hispanic_male_45_54',\n    'hispanic_male_55_64', 'white_male_45_54', 'white_male_55_64', \n    \n    ## Dwellings\n    'dwellings_1_units_detached', 'dwellings_1_units_attached', 'dwellings_2_units', 'dwellings_3_to_4_units', \n    'dwellings_5_to_9_units', 'dwellings_10_to_19_units', 'dwellings_20_to_49_units', \n    'dwellings_50_or_more_units', \n    \n    ## Moved Houses\n    'different_house_year_ago_different_city', 'different_house_year_ago_same_city',\n    \n    ## Degrees + male + age\n    'male_45_64_associates_degree', 'male_45_64_bachelors_degree', 'male_45_64_graduate_degree',\n    'male_45_64_less_than_9_grade', 'male_45_64_grade_9_12', 'male_45_64_high_school', 'male_45_64_some_college',\n    'male_45_to_64',\n    \n    ## Type of employment\n    'employed_agriculture_forestry_fishing_hunting_mining',\n    'employed_arts_entertainment_recreation_accommodation_food', 'employed_construction',\n    'employed_education_health_social', 'employed_finance_insurance_real_estate', 'employed_information',\n    'employed_manufacturing', 'employed_other_services_not_public_admin', 'employed_public_administration',\n    'employed_retail_trade', 'employed_science_management_admin_waste',\n    'employed_transportation_warehousing_utilities', 'employed_wholesale_trade', 'occupation_management_arts',\n    'occupation_natural_resources_construction_maintenance', 'occupation_production_transportation_material',\n    'occupation_sales_office', 'occupation_services', 'sales_office_employed',\n    \n    ## Types of Student Populations, normalise by total_pop\n    'in_grades_1_to_4', 'in_grades_5_to_8', 'in_grades_9_to_12', 'in_school', 'in_undergrad_college',\n    \n    ## Language spoken at home\n    'speak_only_english_at_home', 'speak_spanish_at_home', 'speak_spanish_at_home_low_english',\n]",
   "execution_count": null,
   "outputs": []
  },
  {
   "cell_type": "code",
   "metadata": {
    "tags": [],
    "cell_id": "00012-04d6bb1e-dba0-4660-b1b8-cae937f497d1",
    "deepnote_to_be_reexecuted": false,
    "source_hash": "b20fe613",
    "execution_millis": 2,
    "execution_start": 1611820948536,
    "deepnote_cell_type": "code"
   },
   "source": "unsure = [\n    'housing_units', 'renter_occupied_housing_units_paying_cash_median_gross_rent',\n    'owner_occupied_housing_units_lower_value_quartile', 'owner_occupied_housing_units_median_value',\n    'owner_occupied_housing_units_upper_value_quartile', 'occupied_housing_units',\n    'housing_units_renter_occupied', 'vacant_housing_units', 'vacant_housing_units_for_rent',\n    'vacant_housing_units_for_sale', \n    \n    ## Same-sex couples?\n    'male_male_households', 'female_female_households',\n    \n    ## Family Structure\n    'families_with_young_children', 'two_parent_families_with_young_children',\n    'two_parents_in_labor_force_families_with_young_children',\n    'two_parents_father_in_labor_force_families_with_young_children',\n    'two_parents_mother_in_labor_force_families_with_young_children',\n    'two_parents_not_in_labor_force_families_with_young_children',\n    'father_one_parent_families_with_young_children',\n    'father_in_labor_force_one_parent_families_with_young_children',\n    \n    ## Rent burdens may be relevant to sociecomic factors. Grouped into high/low burden? Threshold?\n    'rent_burden_not_computed', 'rent_over_50_percent', 'rent_40_to_50_percent', 'rent_35_to_40_percent',\n    'rent_30_to_35_percent', 'rent_25_to_30_percent', 'rent_20_to_25_percent', 'rent_15_to_20_percent',\n    'rent_10_to_15_percent', 'rent_under_10_percent',\n    \n    ## Commute times, would need to be normalised by commuters_16_over\n    'commute_less_10_mins', 'commute_10_14_mins', 'commute_15_19_mins', 'commute_20_24_mins',\n    'commute_25_29_mins', 'commute_30_34_mins', 'commute_35_44_mins', 'commute_60_more_mins',\n    'commute_45_59_mins', 'commuters_16_over', 'walked_to_work', 'worked_at_home',\n    'aggregate_travel_time_to_work',\n    'no_car', #All people in a geographic area over the age of 16 who do not own a car\n    \n    ## Number of cars, normalise by households\n    'no_cars', 'one_car', 'two_cars', 'three_cars', 'four_more_cars',\n    \n    ## Commute Method, normalise by commuters_16_over\n    'commuters_by_public_transportation', 'commuters_by_bus', 'commuters_by_car_truck_van',\n    'commuters_by_carpool', 'commuters_by_subway_or_elevated', 'commuters_drove_alone',\n    \n    ## Degrees and Education, normalise by total_pop\n    'associates_degree', 'bachelors_degree', 'high_school_diploma', 'less_one_year_college', 'masters_degree',\n    'one_year_more_college', 'high_school_including_ged', 'bachelors_degree_2', 'graduate_professional_degree',\n    'some_college_and_associates_degree',\n    \n    ## Group into high/low income? Threshold? Normalise by households\n    'income_less_10000', 'income_10000_14999', 'income_15000_19999', 'income_20000_24999', 'income_25000_29999',\n    'income_30000_34999', 'income_35000_39999', 'income_40000_44999', 'income_45000_49999',\n    'income_50000_59999', 'income_60000_74999', 'income_75000_99999', 'income_100000_124999',\n    'income_125000_149999', 'income_150000_199999', 'income_200000_or_more',\n]",
   "execution_count": null,
   "outputs": []
  },
  {
   "cell_type": "code",
   "metadata": {
    "tags": [],
    "cell_id": "00014-327218d7-9963-403a-8093-3308fe204688",
    "deepnote_to_be_reexecuted": false,
    "source_hash": "28c06a22",
    "execution_millis": 2,
    "execution_start": 1611820949396,
    "deepnote_cell_type": "code"
   },
   "source": "divide_by_total_pop = ['pop_never_married', 'pop_now_married', 'pop_separated', 'pop_widowed',\n    'pop_divorced', 'not_us_citizen_pop', 'children', 'male_pop', 'female_pop',\n    'children_in_single_female_hh', # divide by 'children' instead?\n]\n\ndivide_by_housing_units = [\n    'housing_built_2005_or_later', 'housing_built_2000_to_2004', 'housing_built_1939_or_earlier',\n]\n\ndivide_by_households = [\n    ## Family Structure\n    'married_households', 'nonfamily_households', 'family_households', \n    \n    ## Public Assistance\n    'households_public_asst_or_food_stamps',\n    \n    ## House ownership stats\n    'million_dollar_housing_units', 'mortgaged_housing_units', 'owner_occupied_housing_units',\n\n]\n\nlist_normalise = [\n    ('total_pop', divide_by_total_pop),\n    ('housing_units', divide_by_housing_units),\n    ('households', divide_by_households)\n]",
   "execution_count": null,
   "outputs": []
  },
  {
   "cell_type": "code",
   "metadata": {
    "tags": [],
    "cell_id": "00017-667d5c15-a312-4df6-8276-48d3531dbcb7",
    "deepnote_to_be_reexecuted": false,
    "source_hash": "c3c68b02",
    "execution_millis": 2,
    "execution_start": 1611820950309,
    "deepnote_cell_type": "code"
   },
   "source": "divide_by_pop_16_over = [\n    'employed_pop', # normalise by pop_in_labor_force instead?\n    'unemployed_pop', # same as above\n]\n\n# Indicator of high-paying jobs\ndivide_by_civilian_labor_force = [\n    'management_business_sci_arts_employed',\n]\n\nlist_normalise += [\n    ('pop_16_over', divide_by_pop_16_over),\n    ('civilian_labor_force', divide_by_civilian_labor_force)\n]\n\n# To drop or not?\ncolumns_to_drop += [\n    'workers_16_and_over', 'armed_forces', 'civilian_labor_force', 'pop_in_labor_force', 'not_in_labor_force',\n]",
   "execution_count": null,
   "outputs": []
  },
  {
   "cell_type": "code",
   "metadata": {
    "tags": [],
    "cell_id": "00017-25a29679-09e0-4603-a10e-55979ed7dd71",
    "deepnote_to_be_reexecuted": false,
    "source_hash": "1530e624",
    "execution_millis": 1,
    "execution_start": 1611820951702,
    "deepnote_cell_type": "code"
   },
   "source": "# [var for (divisor, vars) in list_normalise for var in vars if var not in acs.columns]",
   "execution_count": null,
   "outputs": []
  },
  {
   "cell_type": "code",
   "metadata": {
    "tags": [],
    "cell_id": "00012-53cdf6a4-aee8-4a1f-8893-25148825d242",
    "deepnote_to_be_reexecuted": false,
    "source_hash": "73f71913",
    "execution_millis": 3125,
    "execution_start": 1611820951958,
    "deepnote_cell_type": "code"
   },
   "source": "def normalise_variable(variable: str, divisor: str):\n    \"\"\"\n    Normalises a given column of a acs dataframe by a divisor, adds _perc to the column name, \n    and then deletes the origingal column\n    \"\"\"\n    acs[variable + '_perc'] = acs[variable] / acs[divisor]\n    acs.drop(columns=variable, inplace=True)\n\n\nfor divisor, l in list_normalise:\n    for var in l:\n        normalise_variable(var, divisor)\n\nacs.drop(columns=columns_to_drop + unsure, inplace=True)",
   "execution_count": null,
   "outputs": []
  },
  {
   "cell_type": "code",
   "metadata": {
    "tags": [],
    "cell_id": "00018-ee8099c4-41aa-4ecd-b97d-84df57a5597a",
    "deepnote_to_be_reexecuted": false,
    "source_hash": "23e70330",
    "execution_millis": 4,
    "execution_start": 1611820955089,
    "deepnote_cell_type": "code"
   },
   "source": "list(acs.columns)",
   "execution_count": null,
   "outputs": [
    {
     "output_type": "execute_result",
     "execution_count": 16,
     "data": {
      "text/plain": "['geo_id',\n 'total_pop',\n 'households',\n 'median_age',\n 'median_income',\n 'income_per_capita',\n 'gini_index',\n 'median_year_structure_built',\n 'median_rent',\n 'percent_income_spent_on_rent',\n 'bachelors_degree_or_higher_25_64',\n 'poverty_perc',\n 'less_than_high_school_graduate_perc',\n 'aged_65_or_older_perc',\n 'aged_17_or_younger_perc',\n 'one_parent_families_with_young_children_perc',\n 'multi_unit_structures_perc',\n 'mobile_homes_perc',\n 'group_quarters_perc',\n 'no_cars_perc',\n 'other_race_pop_perc',\n 'black_pop_perc',\n 'asian_pop_perc',\n 'hispanic_pop_perc',\n 'amerindian_pop_perc',\n 'white_pop_perc',\n 'non_white_pop_perc',\n 'pop_never_married_perc',\n 'pop_now_married_perc',\n 'pop_separated_perc',\n 'pop_widowed_perc',\n 'pop_divorced_perc',\n 'not_us_citizen_pop_perc',\n 'children_perc',\n 'male_pop_perc',\n 'female_pop_perc',\n 'children_in_single_female_hh_perc',\n 'housing_built_2005_or_later_perc',\n 'housing_built_2000_to_2004_perc',\n 'housing_built_1939_or_earlier_perc',\n 'married_households_perc',\n 'nonfamily_households_perc',\n 'family_households_perc',\n 'households_public_asst_or_food_stamps_perc',\n 'million_dollar_housing_units_perc',\n 'mortgaged_housing_units_perc',\n 'owner_occupied_housing_units_perc',\n 'employed_pop_perc',\n 'unemployed_pop_perc',\n 'management_business_sci_arts_employed_perc']"
     },
     "metadata": {}
    }
   ]
  },
  {
   "cell_type": "markdown",
   "source": "## Geo (Redlining) Data",
   "metadata": {
    "tags": [],
    "cell_id": "00012-f7b6ec18-6b61-47ac-b5cb-ac64db27135d",
    "deepnote_cell_type": "markdown"
   }
  },
  {
   "cell_type": "code",
   "metadata": {
    "tags": [],
    "cell_id": "00021-63e41cf8-5184-45b8-9817-548e74e860b1",
    "deepnote_to_be_reexecuted": false,
    "source_hash": "5ba76211",
    "execution_start": 1611821006132,
    "execution_millis": 1,
    "deepnote_cell_type": "code"
   },
   "source": "%%bash\npwd",
   "execution_count": null,
   "outputs": [
    {
     "name": "stdout",
     "text": "/home/jovyan\n",
     "output_type": "stream"
    }
   ]
  },
  {
   "cell_type": "code",
   "metadata": {
    "tags": [],
    "output_cleared": false,
    "source_hash": "20ad4030",
    "execution_millis": 2625,
    "deepnote_to_be_reexecuted": false,
    "cell_id": "00013-d2d42c9d-789e-443d-89f5-4a0a2b3b5c87",
    "execution_start": 1611821190201,
    "deepnote_cell_type": "code"
   },
   "source": "# Reading the goe_files for each city.\ngeo_files = [\n\"/work/COVIDRedlining/data/dallas/dallas_redlined_numerical_values.geojson\",\n\"/work/COVIDRedlining/data/detroit/detroit_redlined_numerical_values.geojson\",\n\"/work/COVIDRedlining/data/new york/ny_redlined_numerical_values.geojson\",\n\"/work/COVIDRedlining/data/minneapolis/minneapolis_redlined_numerical_values.geojson\",\n\"/work/COVIDRedlining/data/california/cali_redlined_numerical_values.geojson\",\n\"/work/COVIDRedlining/data/boston/boston_redlined_numerical_values.geojson\",\n\"/work/COVIDRedlining/data/tampa/tampa_redlined_numerical_values.geojson\",\n\"/work/COVIDRedlining/data/newark/newark_redlined_numerical_values.geojson\",\n\"/work/COVIDRedlining/data/chicago/chicago_redlined_numerical_values.geojson\",\n\"/work/COVIDRedlining/data/atlanta/atlanta_redlined_numerical_values.geojson\",\n]\n\ndfs = [gpd.read_file(x) for x in geo_files]",
   "execution_count": null,
   "outputs": []
  },
  {
   "cell_type": "code",
   "metadata": {
    "tags": [],
    "output_cleared": false,
    "source_hash": "49407cd5",
    "execution_millis": 2,
    "deepnote_to_be_reexecuted": false,
    "cell_id": "00014-68d8b7f7-6b87-410f-8f1e-f2256766ac50",
    "execution_start": 1611821194839,
    "deepnote_cell_type": "code"
   },
   "source": "# Shows the number of rows per city\nnum_rows = [len(x) for x in dfs]\ncity_names = [x.split(\"_\", 1)[0].split(\"/\")[-1] for x in geo_files]\n# Number of data points for each city\nfor x in zip(city_names, num_rows):\n    print(x)",
   "execution_count": null,
   "outputs": [
    {
     "name": "stdout",
     "text": "('dallas', 122)\n('detroit', 573)\n('ny', 2122)\n('minneapolis', 124)\n('cali', 2146)\n('boston', 196)\n('tampa', 60)\n('newark', 224)\n('chicago', 1033)\n('atlanta', 135)\n",
     "output_type": "stream"
    }
   ]
  },
  {
   "cell_type": "code",
   "metadata": {
    "tags": [],
    "output_cleared": false,
    "source_hash": "81b6f70d",
    "execution_millis": 14,
    "deepnote_to_be_reexecuted": false,
    "cell_id": "00015-886b7de8-7d61-431e-b3e8-357e364bee85",
    "execution_start": 1611821196134,
    "deepnote_cell_type": "code"
   },
   "source": "# Rounding off the reweighted_redline_index to 2 decimal places to reduce spurious variability\n# i.e., 3.1111 and 3.1156 are not different enough to be consider very different\ngeo_intersect = pd.DataFrame(pd.concat(dfs))\ngeo_intersect = geo_intersect[[\"GEOID\", \"reweighted_redline_index\",\"ordinal_value\"]]\ngeo_intersect['reweighted_redline_index'] = geo_intersect['reweighted_redline_index'].round(2)\ngeo_intersect",
   "execution_count": null,
   "outputs": [
    {
     "output_type": "execute_result",
     "execution_count": 27,
     "data": {
      "application/vnd.deepnote.dataframe.v2+json": {
       "row_count": 6735,
       "column_count": 3,
       "columns": [
        {
         "name": "GEOID",
         "dtype": "float64",
         "stats": {
          "unique_count": 6735,
          "nan_count": 0,
          "min": 6001400100,
          "max": 48113980100,
          "histogram": [
           {
            "bin_start": 6001400100,
            "bin_end": 10212658100,
            "count": 2146
           },
           {
            "bin_start": 10212658100,
            "bin_end": 14423916100,
            "count": 195
           },
           {
            "bin_start": 14423916100,
            "bin_end": 18635174100,
            "count": 1033
           },
           {
            "bin_start": 18635174100,
            "bin_end": 22846432100,
            "count": 0
           },
           {
            "bin_start": 22846432100,
            "bin_end": 27057690100,
            "count": 891
           },
           {
            "bin_start": 27057690100,
            "bin_end": 31268948100,
            "count": 2
           },
           {
            "bin_start": 31268948100,
            "bin_end": 35480206100,
            "count": 224
           },
           {
            "bin_start": 35480206100,
            "bin_end": 39691464100,
            "count": 2122
           },
           {
            "bin_start": 39691464100,
            "bin_end": 43902722100,
            "count": 0
           },
           {
            "bin_start": 43902722100,
            "bin_end": 48113980100,
            "count": 122
           }
          ]
         }
        },
        {
         "name": "reweighted_redline_index",
         "dtype": "float64",
         "stats": {
          "unique_count": 322,
          "nan_count": 0,
          "min": 0,
          "max": 4.86,
          "histogram": [
           {
            "bin_start": 0,
            "bin_end": 0.48600000000000004,
            "count": 15
           },
           {
            "bin_start": 0.48600000000000004,
            "bin_end": 0.9720000000000001,
            "count": 12
           },
           {
            "bin_start": 0.9720000000000001,
            "bin_end": 1.4580000000000002,
            "count": 240
           },
           {
            "bin_start": 1.4580000000000002,
            "bin_end": 1.9440000000000002,
            "count": 143
           },
           {
            "bin_start": 1.9440000000000002,
            "bin_end": 2.43,
            "count": 936
           },
           {
            "bin_start": 2.43,
            "bin_end": 2.9160000000000004,
            "count": 501
           },
           {
            "bin_start": 2.9160000000000004,
            "bin_end": 3.402,
            "count": 2814
           },
           {
            "bin_start": 3.402,
            "bin_end": 3.8880000000000003,
            "count": 403
           },
           {
            "bin_start": 3.8880000000000003,
            "bin_end": 4.3740000000000006,
            "count": 1668
           },
           {
            "bin_start": 4.3740000000000006,
            "bin_end": 4.86,
            "count": 3
           }
          ]
         }
        },
        {
         "name": "ordinal_value",
         "dtype": "int64",
         "stats": {
          "unique_count": 5,
          "nan_count": 0,
          "min": 1,
          "max": 5,
          "histogram": [
           {
            "bin_start": 1,
            "bin_end": 1.4,
            "count": 107
           },
           {
            "bin_start": 1.4,
            "bin_end": 1.8,
            "count": 0
           },
           {
            "bin_start": 1.8,
            "bin_end": 2.2,
            "count": 727
           },
           {
            "bin_start": 2.2,
            "bin_end": 2.6,
            "count": 0
           },
           {
            "bin_start": 2.6,
            "bin_end": 3,
            "count": 0
           },
           {
            "bin_start": 3,
            "bin_end": 3.4000000000000004,
            "count": 2983
           },
           {
            "bin_start": 3.4000000000000004,
            "bin_end": 3.8000000000000003,
            "count": 0
           },
           {
            "bin_start": 3.8000000000000003,
            "bin_end": 4.2,
            "count": 2915
           },
           {
            "bin_start": 4.2,
            "bin_end": 4.6,
            "count": 0
           },
           {
            "bin_start": 4.6,
            "bin_end": 5,
            "count": 3
           }
          ]
         }
        },
        {
         "name": "_deepnote_index_column",
         "dtype": "int64"
        }
       ],
       "rows_top": [
        {
         "GEOID": 48113980100,
         "reweighted_redline_index": 3.1,
         "ordinal_value": 4,
         "_deepnote_index_column": 0
        },
        {
         "GEOID": 48113000605,
         "reweighted_redline_index": 2.09,
         "ordinal_value": 3,
         "_deepnote_index_column": 1
        },
        {
         "GEOID": 48113007101,
         "reweighted_redline_index": 1,
         "ordinal_value": 1,
         "_deepnote_index_column": 2
        },
        {
         "GEOID": 48113004201,
         "reweighted_redline_index": 2.16,
         "ordinal_value": 3,
         "_deepnote_index_column": 3
        },
        {
         "GEOID": 48113005901,
         "reweighted_redline_index": 3,
         "ordinal_value": 3,
         "_deepnote_index_column": 4
        },
        {
         "GEOID": 48113006200,
         "reweighted_redline_index": 2.52,
         "ordinal_value": 3,
         "_deepnote_index_column": 5
        },
        {
         "GEOID": 48113006301,
         "reweighted_redline_index": 3,
         "ordinal_value": 3,
         "_deepnote_index_column": 6
        },
        {
         "GEOID": 48113006302,
         "reweighted_redline_index": 2.85,
         "ordinal_value": 3,
         "_deepnote_index_column": 7
        },
        {
         "GEOID": 48113006501,
         "reweighted_redline_index": 3,
         "ordinal_value": 3,
         "_deepnote_index_column": 8
        },
        {
         "GEOID": 48113006502,
         "reweighted_redline_index": 3,
         "ordinal_value": 3,
         "_deepnote_index_column": 9
        },
        {
         "GEOID": 48113011300,
         "reweighted_redline_index": 3,
         "ordinal_value": 3,
         "_deepnote_index_column": 10
        },
        {
         "GEOID": 48113001800,
         "reweighted_redline_index": 3.43,
         "ordinal_value": 4,
         "_deepnote_index_column": 11
        },
        {
         "GEOID": 48113001900,
         "reweighted_redline_index": 4,
         "ordinal_value": 4,
         "_deepnote_index_column": 12
        },
        {
         "GEOID": 48113002000,
         "reweighted_redline_index": 3.14,
         "ordinal_value": 4,
         "_deepnote_index_column": 13
        },
        {
         "GEOID": 48113002100,
         "reweighted_redline_index": 4,
         "ordinal_value": 4,
         "_deepnote_index_column": 14
        },
        {
         "GEOID": 48113001202,
         "reweighted_redline_index": 2.12,
         "ordinal_value": 3,
         "_deepnote_index_column": 15
        },
        {
         "GEOID": 48113001203,
         "reweighted_redline_index": 2.58,
         "ordinal_value": 3,
         "_deepnote_index_column": 16
        },
        {
         "GEOID": 48113008703,
         "reweighted_redline_index": 3,
         "ordinal_value": 3,
         "_deepnote_index_column": 17
        },
        {
         "GEOID": 48113007700,
         "reweighted_redline_index": 1,
         "ordinal_value": 1,
         "_deepnote_index_column": 18
        },
        {
         "GEOID": 48113011500,
         "reweighted_redline_index": 3.92,
         "ordinal_value": 4,
         "_deepnote_index_column": 19
        },
        {
         "GEOID": 48113005902,
         "reweighted_redline_index": 3,
         "ordinal_value": 3,
         "_deepnote_index_column": 20
        },
        {
         "GEOID": 48113007601,
         "reweighted_redline_index": 1,
         "ordinal_value": 1,
         "_deepnote_index_column": 21
        },
        {
         "GEOID": 48113007604,
         "reweighted_redline_index": 1,
         "ordinal_value": 1,
         "_deepnote_index_column": 22
        },
        {
         "GEOID": 48113007605,
         "reweighted_redline_index": 1,
         "ordinal_value": 1,
         "_deepnote_index_column": 23
        },
        {
         "GEOID": 48113004700,
         "reweighted_redline_index": 3,
         "ordinal_value": 3,
         "_deepnote_index_column": 24
        },
        {
         "GEOID": 48113004800,
         "reweighted_redline_index": 3.12,
         "ordinal_value": 4,
         "_deepnote_index_column": 25
        },
        {
         "GEOID": 48113004900,
         "reweighted_redline_index": 3.29,
         "ordinal_value": 4,
         "_deepnote_index_column": 26
        },
        {
         "GEOID": 48113005000,
         "reweighted_redline_index": 3,
         "ordinal_value": 3,
         "_deepnote_index_column": 27
        },
        {
         "GEOID": 48113005100,
         "reweighted_redline_index": 3,
         "ordinal_value": 3,
         "_deepnote_index_column": 28
        },
        {
         "GEOID": 48113005200,
         "reweighted_redline_index": 2.99,
         "ordinal_value": 3,
         "_deepnote_index_column": 29
        },
        {
         "GEOID": 48113002500,
         "reweighted_redline_index": 2.97,
         "ordinal_value": 3,
         "_deepnote_index_column": 30
        },
        {
         "GEOID": 48113002702,
         "reweighted_redline_index": 3.61,
         "ordinal_value": 4,
         "_deepnote_index_column": 31
        },
        {
         "GEOID": 48113005400,
         "reweighted_redline_index": 2.41,
         "ordinal_value": 3,
         "_deepnote_index_column": 32
        },
        {
         "GEOID": 48113005500,
         "reweighted_redline_index": 2.81,
         "ordinal_value": 3,
         "_deepnote_index_column": 33
        },
        {
         "GEOID": 48113005300,
         "reweighted_redline_index": 2.59,
         "ordinal_value": 3,
         "_deepnote_index_column": 34
        },
        {
         "GEOID": 48113005600,
         "reweighted_redline_index": 2.98,
         "ordinal_value": 3,
         "_deepnote_index_column": 35
        },
        {
         "GEOID": 48113005700,
         "reweighted_redline_index": 3,
         "ordinal_value": 3,
         "_deepnote_index_column": 36
        },
        {
         "GEOID": 48113002200,
         "reweighted_redline_index": 3.91,
         "ordinal_value": 4,
         "_deepnote_index_column": 37
        },
        {
         "GEOID": 48113002400,
         "reweighted_redline_index": 3,
         "ordinal_value": 4,
         "_deepnote_index_column": 38
        },
        {
         "GEOID": 48113002701,
         "reweighted_redline_index": 3.97,
         "ordinal_value": 4,
         "_deepnote_index_column": 39
        },
        {
         "GEOID": 48113008400,
         "reweighted_redline_index": 2,
         "ordinal_value": 2,
         "_deepnote_index_column": 40
        },
        {
         "GEOID": 48113008704,
         "reweighted_redline_index": 3,
         "ordinal_value": 3,
         "_deepnote_index_column": 41
        },
        {
         "GEOID": 48113008801,
         "reweighted_redline_index": 2.93,
         "ordinal_value": 3,
         "_deepnote_index_column": 42
        },
        {
         "GEOID": 48113001704,
         "reweighted_redline_index": 3.62,
         "ordinal_value": 4,
         "_deepnote_index_column": 43
        },
        {
         "GEOID": 48113010101,
         "reweighted_redline_index": 4,
         "ordinal_value": 4,
         "_deepnote_index_column": 44
        },
        {
         "GEOID": 48113010102,
         "reweighted_redline_index": 4,
         "ordinal_value": 4,
         "_deepnote_index_column": 45
        },
        {
         "GEOID": 48113000606,
         "reweighted_redline_index": 1.63,
         "ordinal_value": 2,
         "_deepnote_index_column": 46
        },
        {
         "GEOID": 48113003400,
         "reweighted_redline_index": 3.29,
         "ordinal_value": 4,
         "_deepnote_index_column": 47
        },
        {
         "GEOID": 48113010000,
         "reweighted_redline_index": 2.93,
         "ordinal_value": 3,
         "_deepnote_index_column": 48
        },
        {
         "GEOID": 48113001504,
         "reweighted_redline_index": 2.79,
         "ordinal_value": 3,
         "_deepnote_index_column": 49
        },
        {
         "GEOID": 48113006700,
         "reweighted_redline_index": 3,
         "ordinal_value": 3,
         "_deepnote_index_column": 50
        },
        {
         "GEOID": 48113006800,
         "reweighted_redline_index": 2.9,
         "ordinal_value": 3,
         "_deepnote_index_column": 51
        },
        {
         "GEOID": 48113006900,
         "reweighted_redline_index": 3,
         "ordinal_value": 3,
         "_deepnote_index_column": 52
        },
        {
         "GEOID": 48113000100,
         "reweighted_redline_index": 1.05,
         "ordinal_value": 2,
         "_deepnote_index_column": 53
        },
        {
         "GEOID": 48113000201,
         "reweighted_redline_index": 1.1,
         "ordinal_value": 2,
         "_deepnote_index_column": 54
        },
        {
         "GEOID": 48113000202,
         "reweighted_redline_index": 1.11,
         "ordinal_value": 2,
         "_deepnote_index_column": 55
        },
        {
         "GEOID": 48113000300,
         "reweighted_redline_index": 1.21,
         "ordinal_value": 2,
         "_deepnote_index_column": 56
        },
        {
         "GEOID": 48113000401,
         "reweighted_redline_index": 3,
         "ordinal_value": 3,
         "_deepnote_index_column": 57
        },
        {
         "GEOID": 48113000404,
         "reweighted_redline_index": 2.37,
         "ordinal_value": 3,
         "_deepnote_index_column": 58
        },
        {
         "GEOID": 48113000500,
         "reweighted_redline_index": 2.97,
         "ordinal_value": 3,
         "_deepnote_index_column": 59
        },
        {
         "GEOID": 48113000601,
         "reweighted_redline_index": 2.72,
         "ordinal_value": 3,
         "_deepnote_index_column": 60
        },
        {
         "GEOID": 48113000603,
         "reweighted_redline_index": 1.98,
         "ordinal_value": 2,
         "_deepnote_index_column": 61
        },
        {
         "GEOID": 48113000701,
         "reweighted_redline_index": 2.96,
         "ordinal_value": 3,
         "_deepnote_index_column": 62
        },
        {
         "GEOID": 48113000702,
         "reweighted_redline_index": 2.92,
         "ordinal_value": 3,
         "_deepnote_index_column": 63
        },
        {
         "GEOID": 48113000800,
         "reweighted_redline_index": 3,
         "ordinal_value": 4,
         "_deepnote_index_column": 64
        },
        {
         "GEOID": 48113000900,
         "reweighted_redline_index": 2.98,
         "ordinal_value": 3,
         "_deepnote_index_column": 65
        },
        {
         "GEOID": 48113000405,
         "reweighted_redline_index": 3,
         "ordinal_value": 3,
         "_deepnote_index_column": 66
        },
        {
         "GEOID": 48113001001,
         "reweighted_redline_index": 2,
         "ordinal_value": 3,
         "_deepnote_index_column": 67
        },
        {
         "GEOID": 48113001002,
         "reweighted_redline_index": 2.25,
         "ordinal_value": 3,
         "_deepnote_index_column": 68
        },
        {
         "GEOID": 48113001102,
         "reweighted_redline_index": 1.94,
         "ordinal_value": 2,
         "_deepnote_index_column": 69
        },
        {
         "GEOID": 48113001204,
         "reweighted_redline_index": 3,
         "ordinal_value": 3,
         "_deepnote_index_column": 70
        },
        {
         "GEOID": 48113001301,
         "reweighted_redline_index": 2.31,
         "ordinal_value": 3,
         "_deepnote_index_column": 71
        },
        {
         "GEOID": 48113001302,
         "reweighted_redline_index": 2.84,
         "ordinal_value": 3,
         "_deepnote_index_column": 72
        },
        {
         "GEOID": 48113001400,
         "reweighted_redline_index": 1.67,
         "ordinal_value": 2,
         "_deepnote_index_column": 73
        },
        {
         "GEOID": 48113001101,
         "reweighted_redline_index": 1.95,
         "ordinal_value": 2,
         "_deepnote_index_column": 74
        },
        {
         "GEOID": 48113001502,
         "reweighted_redline_index": 3.08,
         "ordinal_value": 4,
         "_deepnote_index_column": 75
        },
        {
         "GEOID": 48113001503,
         "reweighted_redline_index": 2.7,
         "ordinal_value": 3,
         "_deepnote_index_column": 76
        },
        {
         "GEOID": 48113001600,
         "reweighted_redline_index": 3.29,
         "ordinal_value": 4,
         "_deepnote_index_column": 77
        },
        {
         "GEOID": 48113001701,
         "reweighted_redline_index": 3.68,
         "ordinal_value": 4,
         "_deepnote_index_column": 78
        },
        {
         "GEOID": 48113008603,
         "reweighted_redline_index": 3,
         "ordinal_value": 3,
         "_deepnote_index_column": 79
        },
        {
         "GEOID": 48113019302,
         "reweighted_redline_index": 2,
         "ordinal_value": 2,
         "_deepnote_index_column": 80
        },
        {
         "GEOID": 48113004600,
         "reweighted_redline_index": 2.58,
         "ordinal_value": 3,
         "_deepnote_index_column": 81
        },
        {
         "GEOID": 48113007102,
         "reweighted_redline_index": 3.79,
         "ordinal_value": 4,
         "_deepnote_index_column": 82
        },
        {
         "GEOID": 48113007301,
         "reweighted_redline_index": 1,
         "ordinal_value": 1,
         "_deepnote_index_column": 83
        },
        {
         "GEOID": 48113007302,
         "reweighted_redline_index": 2,
         "ordinal_value": 3,
         "_deepnote_index_column": 84
        },
        {
         "GEOID": 48113003700,
         "reweighted_redline_index": 3,
         "ordinal_value": 4,
         "_deepnote_index_column": 85
        },
        {
         "GEOID": 48113007906,
         "reweighted_redline_index": 2,
         "ordinal_value": 2,
         "_deepnote_index_column": 86
        },
        {
         "GEOID": 48113003800,
         "reweighted_redline_index": 3,
         "ordinal_value": 3,
         "_deepnote_index_column": 87
        },
        {
         "GEOID": 48113003901,
         "reweighted_redline_index": 3.16,
         "ordinal_value": 4,
         "_deepnote_index_column": 88
        },
        {
         "GEOID": 48113008705,
         "reweighted_redline_index": 3,
         "ordinal_value": 3,
         "_deepnote_index_column": 89
        },
        {
         "GEOID": 48113010701,
         "reweighted_redline_index": 3,
         "ordinal_value": 3,
         "_deepnote_index_column": 90
        },
        {
         "GEOID": 48113003902,
         "reweighted_redline_index": 3.89,
         "ordinal_value": 4,
         "_deepnote_index_column": 91
        },
        {
         "GEOID": 48113004000,
         "reweighted_redline_index": 3.18,
         "ordinal_value": 4,
         "_deepnote_index_column": 92
        },
        {
         "GEOID": 48113004100,
         "reweighted_redline_index": 4,
         "ordinal_value": 4,
         "_deepnote_index_column": 93
        },
        {
         "GEOID": 48113004202,
         "reweighted_redline_index": 2.44,
         "ordinal_value": 3,
         "_deepnote_index_column": 94
        },
        {
         "GEOID": 48113004300,
         "reweighted_redline_index": 3.76,
         "ordinal_value": 4,
         "_deepnote_index_column": 95
        },
        {
         "GEOID": 48113004400,
         "reweighted_redline_index": 1.31,
         "ordinal_value": 2,
         "_deepnote_index_column": 96
        },
        {
         "GEOID": 48113004500,
         "reweighted_redline_index": 2.7,
         "ordinal_value": 3,
         "_deepnote_index_column": 97
        },
        {
         "GEOID": 48113008000,
         "reweighted_redline_index": 1.03,
         "ordinal_value": 2,
         "_deepnote_index_column": 98
        },
        {
         "GEOID": 48113008100,
         "reweighted_redline_index": 1,
         "ordinal_value": 1,
         "_deepnote_index_column": 99
        },
        {
         "GEOID": 48113008802,
         "reweighted_redline_index": 3,
         "ordinal_value": 3,
         "_deepnote_index_column": 100
        },
        {
         "GEOID": 48113008900,
         "reweighted_redline_index": 3.09,
         "ordinal_value": 4,
         "_deepnote_index_column": 101
        },
        {
         "GEOID": 48113019301,
         "reweighted_redline_index": 1.27,
         "ordinal_value": 2,
         "_deepnote_index_column": 102
        },
        {
         "GEOID": 48113019400,
         "reweighted_redline_index": 1.42,
         "ordinal_value": 2,
         "_deepnote_index_column": 103
        },
        {
         "GEOID": 48113019501,
         "reweighted_redline_index": 1,
         "ordinal_value": 2,
         "_deepnote_index_column": 104
        },
        {
         "GEOID": 48113019502,
         "reweighted_redline_index": 1,
         "ordinal_value": 1,
         "_deepnote_index_column": 105
        },
        {
         "GEOID": 48113019600,
         "reweighted_redline_index": 2,
         "ordinal_value": 2,
         "_deepnote_index_column": 106
        },
        {
         "GEOID": 48113019700,
         "reweighted_redline_index": 1.85,
         "ordinal_value": 2,
         "_deepnote_index_column": 107
        },
        {
         "GEOID": 48113019800,
         "reweighted_redline_index": 1.06,
         "ordinal_value": 2,
         "_deepnote_index_column": 108
        },
        {
         "GEOID": 48113019900,
         "reweighted_redline_index": 3,
         "ordinal_value": 3,
         "_deepnote_index_column": 109
        },
        {
         "GEOID": 48113001703,
         "reweighted_redline_index": 3.04,
         "ordinal_value": 4,
         "_deepnote_index_column": 110
        },
        {
         "GEOID": 48113020300,
         "reweighted_redline_index": 3.09,
         "ordinal_value": 4,
         "_deepnote_index_column": 111
        },
        {
         "GEOID": 48113020500,
         "reweighted_redline_index": 4,
         "ordinal_value": 4,
         "_deepnote_index_column": 112
        },
        {
         "GEOID": 48113020600,
         "reweighted_redline_index": 1,
         "ordinal_value": 1,
         "_deepnote_index_column": 113
        },
        {
         "GEOID": 48113006402,
         "reweighted_redline_index": 2.96,
         "ordinal_value": 3,
         "_deepnote_index_column": 114
        },
        {
         "GEOID": 48113010804,
         "reweighted_redline_index": 3,
         "ordinal_value": 3,
         "_deepnote_index_column": 115
        },
        {
         "GEOID": 48113006401,
         "reweighted_redline_index": 2,
         "ordinal_value": 2,
         "_deepnote_index_column": 116
        },
        {
         "GEOID": 48113009101,
         "reweighted_redline_index": 2,
         "ordinal_value": 2,
         "_deepnote_index_column": 117
        },
        {
         "GEOID": 48113020400,
         "reweighted_redline_index": 3.99,
         "ordinal_value": 4,
         "_deepnote_index_column": 118
        },
        {
         "GEOID": 48113000406,
         "reweighted_redline_index": 2.49,
         "ordinal_value": 3,
         "_deepnote_index_column": 119
        },
        {
         "GEOID": 48113007913,
         "reweighted_redline_index": 2,
         "ordinal_value": 2,
         "_deepnote_index_column": 120
        },
        {
         "GEOID": 48113007914,
         "reweighted_redline_index": 1.99,
         "ordinal_value": 2,
         "_deepnote_index_column": 121
        },
        {
         "GEOID": 26163550800,
         "reweighted_redline_index": 1.46,
         "ordinal_value": 2,
         "_deepnote_index_column": 0
        },
        {
         "GEOID": 26163550900,
         "reweighted_redline_index": 1,
         "ordinal_value": 2,
         "_deepnote_index_column": 1
        },
        {
         "GEOID": 26163551100,
         "reweighted_redline_index": 1.04,
         "ordinal_value": 2,
         "_deepnote_index_column": 2
        },
        {
         "GEOID": 26163551200,
         "reweighted_redline_index": 1.76,
         "ordinal_value": 2,
         "_deepnote_index_column": 3
        },
        {
         "GEOID": 26163551300,
         "reweighted_redline_index": 3,
         "ordinal_value": 3,
         "_deepnote_index_column": 4
        },
        {
         "GEOID": 26163551700,
         "reweighted_redline_index": 1.39,
         "ordinal_value": 2,
         "_deepnote_index_column": 5
        },
        {
         "GEOID": 26163551800,
         "reweighted_redline_index": 2,
         "ordinal_value": 3,
         "_deepnote_index_column": 6
        },
        {
         "GEOID": 26163552100,
         "reweighted_redline_index": 3.63,
         "ordinal_value": 4,
         "_deepnote_index_column": 7
        },
        {
         "GEOID": 26163552200,
         "reweighted_redline_index": 3.59,
         "ordinal_value": 4,
         "_deepnote_index_column": 8
        },
        {
         "GEOID": 26125184500,
         "reweighted_redline_index": 2.74,
         "ordinal_value": 3,
         "_deepnote_index_column": 9
        },
        {
         "GEOID": 26163516600,
         "reweighted_redline_index": 4,
         "ordinal_value": 4,
         "_deepnote_index_column": 10
        },
        {
         "GEOID": 26163522000,
         "reweighted_redline_index": 3.99,
         "ordinal_value": 4,
         "_deepnote_index_column": 11
        },
        {
         "GEOID": 26125183900,
         "reweighted_redline_index": 3,
         "ordinal_value": 3,
         "_deepnote_index_column": 12
        },
        {
         "GEOID": 26125184000,
         "reweighted_redline_index": 2.63,
         "ordinal_value": 3,
         "_deepnote_index_column": 13
        },
        {
         "GEOID": 26125184100,
         "reweighted_redline_index": 3,
         "ordinal_value": 3,
         "_deepnote_index_column": 14
        },
        {
         "GEOID": 26125184200,
         "reweighted_redline_index": 3,
         "ordinal_value": 3,
         "_deepnote_index_column": 15
        },
        {
         "GEOID": 26125184400,
         "reweighted_redline_index": 3,
         "ordinal_value": 3,
         "_deepnote_index_column": 16
        },
        {
         "GEOID": 26125184600,
         "reweighted_redline_index": 3.09,
         "ordinal_value": 4,
         "_deepnote_index_column": 17
        },
        {
         "GEOID": 26125184700,
         "reweighted_redline_index": 3.73,
         "ordinal_value": 4,
         "_deepnote_index_column": 18
        },
        {
         "GEOID": 26125187000,
         "reweighted_redline_index": 2.4,
         "ordinal_value": 3,
         "_deepnote_index_column": 19
        },
        {
         "GEOID": 26125188000,
         "reweighted_redline_index": 1.63,
         "ordinal_value": 2,
         "_deepnote_index_column": 20
        },
        {
         "GEOID": 26163503500,
         "reweighted_redline_index": 2.16,
         "ordinal_value": 3,
         "_deepnote_index_column": 21
        },
        {
         "GEOID": 26163503100,
         "reweighted_redline_index": 3,
         "ordinal_value": 3,
         "_deepnote_index_column": 22
        },
        {
         "GEOID": 26163503200,
         "reweighted_redline_index": 3,
         "ordinal_value": 3,
         "_deepnote_index_column": 23
        },
        {
         "GEOID": 26163503400,
         "reweighted_redline_index": 2.99,
         "ordinal_value": 3,
         "_deepnote_index_column": 24
        },
        {
         "GEOID": 26163503600,
         "reweighted_redline_index": 2.7,
         "ordinal_value": 3,
         "_deepnote_index_column": 25
        },
        {
         "GEOID": 26163504100,
         "reweighted_redline_index": 1.99,
         "ordinal_value": 2,
         "_deepnote_index_column": 26
        },
        {
         "GEOID": 26163553100,
         "reweighted_redline_index": 3,
         "ordinal_value": 3,
         "_deepnote_index_column": 27
        },
        {
         "GEOID": 26163553200,
         "reweighted_redline_index": 3.02,
         "ordinal_value": 4,
         "_deepnote_index_column": 28
        },
        {
         "GEOID": 26163503900,
         "reweighted_redline_index": 2,
         "ordinal_value": 2,
         "_deepnote_index_column": 29
        },
        {
         "GEOID": 26163504200,
         "reweighted_redline_index": 2,
         "ordinal_value": 2,
         "_deepnote_index_column": 30
        },
        {
         "GEOID": 26163504300,
         "reweighted_redline_index": 2,
         "ordinal_value": 2,
         "_deepnote_index_column": 31
        },
        {
         "GEOID": 26163504400,
         "reweighted_redline_index": 2.06,
         "ordinal_value": 3,
         "_deepnote_index_column": 32
        },
        {
         "GEOID": 26163504700,
         "reweighted_redline_index": 3.67,
         "ordinal_value": 4,
         "_deepnote_index_column": 33
        },
        {
         "GEOID": 26163504800,
         "reweighted_redline_index": 3.57,
         "ordinal_value": 4,
         "_deepnote_index_column": 34
        },
        {
         "GEOID": 26163504900,
         "reweighted_redline_index": 3,
         "ordinal_value": 3,
         "_deepnote_index_column": 35
        },
        {
         "GEOID": 26163505000,
         "reweighted_redline_index": 3,
         "ordinal_value": 3,
         "_deepnote_index_column": 36
        },
        {
         "GEOID": 26163505100,
         "reweighted_redline_index": 3,
         "ordinal_value": 3,
         "_deepnote_index_column": 37
        },
        {
         "GEOID": 26163526500,
         "reweighted_redline_index": 3.24,
         "ordinal_value": 4,
         "_deepnote_index_column": 38
        },
        {
         "GEOID": 26163545900,
         "reweighted_redline_index": 3,
         "ordinal_value": 3,
         "_deepnote_index_column": 39
        },
        {
         "GEOID": 26163985700,
         "reweighted_redline_index": 4,
         "ordinal_value": 4,
         "_deepnote_index_column": 40
        },
        {
         "GEOID": 26163546100,
         "reweighted_redline_index": 3,
         "ordinal_value": 3,
         "_deepnote_index_column": 41
        },
        {
         "GEOID": 26163546400,
         "reweighted_redline_index": 4,
         "ordinal_value": 4,
         "_deepnote_index_column": 42
        },
        {
         "GEOID": 26163546500,
         "reweighted_redline_index": 4,
         "ordinal_value": 4,
         "_deepnote_index_column": 43
        }
       ],
       "rows_bottom": [
        {
         "GEOID": 17031807400,
         "reweighted_redline_index": 2,
         "ordinal_value": 2,
         "_deepnote_index_column": 1001
        },
        {
         "GEOID": 17031807500,
         "reweighted_redline_index": 2,
         "ordinal_value": 2,
         "_deepnote_index_column": 1002
        },
        {
         "GEOID": 17031807700,
         "reweighted_redline_index": 2.31,
         "ordinal_value": 3,
         "_deepnote_index_column": 1003
        },
        {
         "GEOID": 17031807900,
         "reweighted_redline_index": 1.5,
         "ordinal_value": 2,
         "_deepnote_index_column": 1004
        },
        {
         "GEOID": 17031808001,
         "reweighted_redline_index": 2.92,
         "ordinal_value": 3,
         "_deepnote_index_column": 1005
        },
        {
         "GEOID": 17031808002,
         "reweighted_redline_index": 2.62,
         "ordinal_value": 3,
         "_deepnote_index_column": 1006
        },
        {
         "GEOID": 17031808301,
         "reweighted_redline_index": 3,
         "ordinal_value": 3,
         "_deepnote_index_column": 1007
        },
        {
         "GEOID": 17031808302,
         "reweighted_redline_index": 2.16,
         "ordinal_value": 3,
         "_deepnote_index_column": 1008
        },
        {
         "GEOID": 17031808600,
         "reweighted_redline_index": 2,
         "ordinal_value": 2,
         "_deepnote_index_column": 1009
        },
        {
         "GEOID": 17031808702,
         "reweighted_redline_index": 2.61,
         "ordinal_value": 3,
         "_deepnote_index_column": 1010
        },
        {
         "GEOID": 17031820604,
         "reweighted_redline_index": 3,
         "ordinal_value": 3,
         "_deepnote_index_column": 1011
        },
        {
         "GEOID": 17031823806,
         "reweighted_redline_index": 4,
         "ordinal_value": 4,
         "_deepnote_index_column": 1012
        },
        {
         "GEOID": 17031831900,
         "reweighted_redline_index": 3,
         "ordinal_value": 3,
         "_deepnote_index_column": 1013
        },
        {
         "GEOID": 17031839500,
         "reweighted_redline_index": 4,
         "ordinal_value": 4,
         "_deepnote_index_column": 1014
        },
        {
         "GEOID": 17031832600,
         "reweighted_redline_index": 4,
         "ordinal_value": 4,
         "_deepnote_index_column": 1015
        },
        {
         "GEOID": 17031836900,
         "reweighted_redline_index": 3.52,
         "ordinal_value": 4,
         "_deepnote_index_column": 1016
        },
        {
         "GEOID": 17031841200,
         "reweighted_redline_index": 4,
         "ordinal_value": 4,
         "_deepnote_index_column": 1017
        },
        {
         "GEOID": 17031841900,
         "reweighted_redline_index": 4,
         "ordinal_value": 4,
         "_deepnote_index_column": 1018
        },
        {
         "GEOID": 17031835800,
         "reweighted_redline_index": 4,
         "ordinal_value": 4,
         "_deepnote_index_column": 1019
        },
        {
         "GEOID": 17031838800,
         "reweighted_redline_index": 4,
         "ordinal_value": 4,
         "_deepnote_index_column": 1020
        },
        {
         "GEOID": 17031842300,
         "reweighted_redline_index": 4,
         "ordinal_value": 4,
         "_deepnote_index_column": 1021
        },
        {
         "GEOID": 17031843200,
         "reweighted_redline_index": 4,
         "ordinal_value": 4,
         "_deepnote_index_column": 1022
        },
        {
         "GEOID": 17031843400,
         "reweighted_redline_index": 3,
         "ordinal_value": 3,
         "_deepnote_index_column": 1023
        },
        {
         "GEOID": 17031842600,
         "reweighted_redline_index": 4,
         "ordinal_value": 4,
         "_deepnote_index_column": 1024
        },
        {
         "GEOID": 17031808900,
         "reweighted_redline_index": 1.81,
         "ordinal_value": 2,
         "_deepnote_index_column": 1025
        },
        {
         "GEOID": 17031809000,
         "reweighted_redline_index": 1.53,
         "ordinal_value": 2,
         "_deepnote_index_column": 1026
        },
        {
         "GEOID": 17031301803,
         "reweighted_redline_index": 3,
         "ordinal_value": 3,
         "_deepnote_index_column": 1027
        },
        {
         "GEOID": 17031809100,
         "reweighted_redline_index": 2.35,
         "ordinal_value": 3,
         "_deepnote_index_column": 1028
        },
        {
         "GEOID": 17031809200,
         "reweighted_redline_index": 4,
         "ordinal_value": 4,
         "_deepnote_index_column": 1029
        },
        {
         "GEOID": 17031809300,
         "reweighted_redline_index": 3,
         "ordinal_value": 3,
         "_deepnote_index_column": 1030
        },
        {
         "GEOID": 17031826800,
         "reweighted_redline_index": 4,
         "ordinal_value": 4,
         "_deepnote_index_column": 1031
        },
        {
         "GEOID": 17031710300,
         "reweighted_redline_index": 2.99,
         "ordinal_value": 3,
         "_deepnote_index_column": 1032
        },
        {
         "GEOID": 13121000500,
         "reweighted_redline_index": 2.53,
         "ordinal_value": 3,
         "_deepnote_index_column": 0
        },
        {
         "GEOID": 13121001300,
         "reweighted_redline_index": 3,
         "ordinal_value": 3,
         "_deepnote_index_column": 1
        },
        {
         "GEOID": 13121001400,
         "reweighted_redline_index": 2.8,
         "ordinal_value": 3,
         "_deepnote_index_column": 2
        },
        {
         "GEOID": 13121001500,
         "reweighted_redline_index": 2.92,
         "ordinal_value": 3,
         "_deepnote_index_column": 3
        },
        {
         "GEOID": 13121001600,
         "reweighted_redline_index": 3,
         "ordinal_value": 4,
         "_deepnote_index_column": 4
        },
        {
         "GEOID": 13121001800,
         "reweighted_redline_index": 3.9,
         "ordinal_value": 4,
         "_deepnote_index_column": 5
        },
        {
         "GEOID": 13121001900,
         "reweighted_redline_index": 4,
         "ordinal_value": 4,
         "_deepnote_index_column": 6
        },
        {
         "GEOID": 13121003600,
         "reweighted_redline_index": 4,
         "ordinal_value": 4,
         "_deepnote_index_column": 7
        },
        {
         "GEOID": 13121006601,
         "reweighted_redline_index": 2.64,
         "ordinal_value": 3,
         "_deepnote_index_column": 8
        },
        {
         "GEOID": 13121006700,
         "reweighted_redline_index": 3.49,
         "ordinal_value": 4,
         "_deepnote_index_column": 9
        },
        {
         "GEOID": 13121009300,
         "reweighted_redline_index": 2.36,
         "ordinal_value": 3,
         "_deepnote_index_column": 10
        },
        {
         "GEOID": 13089022500,
         "reweighted_redline_index": 3.02,
         "ordinal_value": 4,
         "_deepnote_index_column": 11
        },
        {
         "GEOID": 13089023700,
         "reweighted_redline_index": 3,
         "ordinal_value": 3,
         "_deepnote_index_column": 12
        },
        {
         "GEOID": 13089022600,
         "reweighted_redline_index": 2.65,
         "ordinal_value": 3,
         "_deepnote_index_column": 13
        },
        {
         "GEOID": 13089022700,
         "reweighted_redline_index": 3.13,
         "ordinal_value": 4,
         "_deepnote_index_column": 14
        },
        {
         "GEOID": 13121010002,
         "reweighted_redline_index": 1.28,
         "ordinal_value": 2,
         "_deepnote_index_column": 15
        },
        {
         "GEOID": 13121010001,
         "reweighted_redline_index": 2.15,
         "ordinal_value": 3,
         "_deepnote_index_column": 16
        },
        {
         "GEOID": 13121009802,
         "reweighted_redline_index": 1,
         "ordinal_value": 1,
         "_deepnote_index_column": 17
        },
        {
         "GEOID": 13121006801,
         "reweighted_redline_index": 3,
         "ordinal_value": 3,
         "_deepnote_index_column": 18
        },
        {
         "GEOID": 13121002500,
         "reweighted_redline_index": 4,
         "ordinal_value": 4,
         "_deepnote_index_column": 19
        },
        {
         "GEOID": 13121007200,
         "reweighted_redline_index": 4,
         "ordinal_value": 4,
         "_deepnote_index_column": 20
        },
        {
         "GEOID": 13121006200,
         "reweighted_redline_index": 3.04,
         "ordinal_value": 4,
         "_deepnote_index_column": 21
        },
        {
         "GEOID": 13121001100,
         "reweighted_redline_index": 3,
         "ordinal_value": 3,
         "_deepnote_index_column": 22
        },
        {
         "GEOID": 13121007300,
         "reweighted_redline_index": 4,
         "ordinal_value": 4,
         "_deepnote_index_column": 23
        },
        {
         "GEOID": 13121004200,
         "reweighted_redline_index": 3.11,
         "ordinal_value": 4,
         "_deepnote_index_column": 24
        },
        {
         "GEOID": 13121009101,
         "reweighted_redline_index": 2.41,
         "ordinal_value": 3,
         "_deepnote_index_column": 25
        },
        {
         "GEOID": 13121003700,
         "reweighted_redline_index": 4,
         "ordinal_value": 4,
         "_deepnote_index_column": 26
        },
        {
         "GEOID": 13121012000,
         "reweighted_redline_index": 4,
         "ordinal_value": 4,
         "_deepnote_index_column": 27
        },
        {
         "GEOID": 13121000600,
         "reweighted_redline_index": 3.93,
         "ordinal_value": 4,
         "_deepnote_index_column": 28
        },
        {
         "GEOID": 13121001700,
         "reweighted_redline_index": 3.36,
         "ordinal_value": 4,
         "_deepnote_index_column": 29
        },
        {
         "GEOID": 13121009000,
         "reweighted_redline_index": 2.44,
         "ordinal_value": 3,
         "_deepnote_index_column": 30
        },
        {
         "GEOID": 13121007002,
         "reweighted_redline_index": 3.05,
         "ordinal_value": 4,
         "_deepnote_index_column": 31
        },
        {
         "GEOID": 13121009900,
         "reweighted_redline_index": 1.02,
         "ordinal_value": 2,
         "_deepnote_index_column": 32
        },
        {
         "GEOID": 13121011000,
         "reweighted_redline_index": 3.94,
         "ordinal_value": 4,
         "_deepnote_index_column": 33
        },
        {
         "GEOID": 13121000100,
         "reweighted_redline_index": 1.92,
         "ordinal_value": 2,
         "_deepnote_index_column": 34
        },
        {
         "GEOID": 13121000200,
         "reweighted_redline_index": 2.28,
         "ordinal_value": 3,
         "_deepnote_index_column": 35
        },
        {
         "GEOID": 13121000400,
         "reweighted_redline_index": 2.65,
         "ordinal_value": 3,
         "_deepnote_index_column": 36
        },
        {
         "GEOID": 13121009502,
         "reweighted_redline_index": 1.69,
         "ordinal_value": 2,
         "_deepnote_index_column": 37
        },
        {
         "GEOID": 13121009602,
         "reweighted_redline_index": 1.82,
         "ordinal_value": 2,
         "_deepnote_index_column": 38
        },
        {
         "GEOID": 13121011800,
         "reweighted_redline_index": 4,
         "ordinal_value": 4,
         "_deepnote_index_column": 39
        },
        {
         "GEOID": 13089980000,
         "reweighted_redline_index": 3,
         "ordinal_value": 3,
         "_deepnote_index_column": 40
        },
        {
         "GEOID": 13121002900,
         "reweighted_redline_index": 4,
         "ordinal_value": 4,
         "_deepnote_index_column": 41
        },
        {
         "GEOID": 13121006602,
         "reweighted_redline_index": 3,
         "ordinal_value": 3,
         "_deepnote_index_column": 42
        },
        {
         "GEOID": 13121009601,
         "reweighted_redline_index": 2.56,
         "ordinal_value": 3,
         "_deepnote_index_column": 43
        },
        {
         "GEOID": 13121009603,
         "reweighted_redline_index": 2.28,
         "ordinal_value": 3,
         "_deepnote_index_column": 44
        },
        {
         "GEOID": 13121009801,
         "reweighted_redline_index": 1,
         "ordinal_value": 1,
         "_deepnote_index_column": 45
        },
        {
         "GEOID": 13089022800,
         "reweighted_redline_index": 2.78,
         "ordinal_value": 3,
         "_deepnote_index_column": 46
        },
        {
         "GEOID": 13089022900,
         "reweighted_redline_index": 3.62,
         "ordinal_value": 4,
         "_deepnote_index_column": 47
        },
        {
         "GEOID": 13089021102,
         "reweighted_redline_index": 1.67,
         "ordinal_value": 2,
         "_deepnote_index_column": 48
        },
        {
         "GEOID": 13089021415,
         "reweighted_redline_index": 3,
         "ordinal_value": 3,
         "_deepnote_index_column": 49
        },
        {
         "GEOID": 13089023000,
         "reweighted_redline_index": 3.18,
         "ordinal_value": 4,
         "_deepnote_index_column": 50
        },
        {
         "GEOID": 13089023101,
         "reweighted_redline_index": 3,
         "ordinal_value": 3,
         "_deepnote_index_column": 51
        },
        {
         "GEOID": 13089023102,
         "reweighted_redline_index": 3,
         "ordinal_value": 3,
         "_deepnote_index_column": 52
        },
        {
         "GEOID": 13089022203,
         "reweighted_redline_index": 3.84,
         "ordinal_value": 4,
         "_deepnote_index_column": 53
        },
        {
         "GEOID": 13121012300,
         "reweighted_redline_index": 3.31,
         "ordinal_value": 4,
         "_deepnote_index_column": 54
        },
        {
         "GEOID": 13089023113,
         "reweighted_redline_index": 3.24,
         "ordinal_value": 4,
         "_deepnote_index_column": 55
        },
        {
         "GEOID": 13121010800,
         "reweighted_redline_index": 3.43,
         "ordinal_value": 4,
         "_deepnote_index_column": 56
        },
        {
         "GEOID": 13121009102,
         "reweighted_redline_index": 2.36,
         "ordinal_value": 3,
         "_deepnote_index_column": 57
        },
        {
         "GEOID": 13121001202,
         "reweighted_redline_index": 3,
         "ordinal_value": 3,
         "_deepnote_index_column": 58
        },
        {
         "GEOID": 13089020802,
         "reweighted_redline_index": 2.81,
         "ordinal_value": 3,
         "_deepnote_index_column": 59
        },
        {
         "GEOID": 13121001201,
         "reweighted_redline_index": 3,
         "ordinal_value": 4,
         "_deepnote_index_column": 60
        },
        {
         "GEOID": 13121001001,
         "reweighted_redline_index": 3,
         "ordinal_value": 3,
         "_deepnote_index_column": 61
        },
        {
         "GEOID": 13121004300,
         "reweighted_redline_index": 3.97,
         "ordinal_value": 4,
         "_deepnote_index_column": 62
        },
        {
         "GEOID": 13121980000,
         "reweighted_redline_index": 3.08,
         "ordinal_value": 4,
         "_deepnote_index_column": 63
        },
        {
         "GEOID": 13121007603,
         "reweighted_redline_index": 3,
         "ordinal_value": 3,
         "_deepnote_index_column": 64
        },
        {
         "GEOID": 13089022204,
         "reweighted_redline_index": 4,
         "ordinal_value": 4,
         "_deepnote_index_column": 65
        },
        {
         "GEOID": 13121009501,
         "reweighted_redline_index": 1.13,
         "ordinal_value": 2,
         "_deepnote_index_column": 66
        },
        {
         "GEOID": 13089020700,
         "reweighted_redline_index": 3.05,
         "ordinal_value": 4,
         "_deepnote_index_column": 67
        },
        {
         "GEOID": 13121008902,
         "reweighted_redline_index": 3.99,
         "ordinal_value": 4,
         "_deepnote_index_column": 68
        },
        {
         "GEOID": 13089022100,
         "reweighted_redline_index": 4,
         "ordinal_value": 4,
         "_deepnote_index_column": 69
        },
        {
         "GEOID": 13089023801,
         "reweighted_redline_index": 3,
         "ordinal_value": 3,
         "_deepnote_index_column": 70
        },
        {
         "GEOID": 13063980000,
         "reweighted_redline_index": 3.53,
         "ordinal_value": 4,
         "_deepnote_index_column": 71
        },
        {
         "GEOID": 13121011100,
         "reweighted_redline_index": 2.64,
         "ordinal_value": 3,
         "_deepnote_index_column": 72
        },
        {
         "GEOID": 13121011201,
         "reweighted_redline_index": 3.12,
         "ordinal_value": 4,
         "_deepnote_index_column": 73
        },
        {
         "GEOID": 13121011202,
         "reweighted_redline_index": 3.12,
         "ordinal_value": 4,
         "_deepnote_index_column": 74
        },
        {
         "GEOID": 13089020400,
         "reweighted_redline_index": 3.09,
         "ordinal_value": 4,
         "_deepnote_index_column": 75
        },
        {
         "GEOID": 13089020500,
         "reweighted_redline_index": 3.23,
         "ordinal_value": 4,
         "_deepnote_index_column": 76
        },
        {
         "GEOID": 13089020600,
         "reweighted_redline_index": 3.87,
         "ordinal_value": 4,
         "_deepnote_index_column": 77
        },
        {
         "GEOID": 13089020801,
         "reweighted_redline_index": 3.12,
         "ordinal_value": 4,
         "_deepnote_index_column": 78
        },
        {
         "GEOID": 13089020900,
         "reweighted_redline_index": 3.01,
         "ordinal_value": 4,
         "_deepnote_index_column": 79
        },
        {
         "GEOID": 13121001002,
         "reweighted_redline_index": 3.34,
         "ordinal_value": 4,
         "_deepnote_index_column": 80
        },
        {
         "GEOID": 13121000700,
         "reweighted_redline_index": 4,
         "ordinal_value": 4,
         "_deepnote_index_column": 81
        },
        {
         "GEOID": 13121008700,
         "reweighted_redline_index": 3.91,
         "ordinal_value": 4,
         "_deepnote_index_column": 82
        },
        {
         "GEOID": 13089022301,
         "reweighted_redline_index": 2.93,
         "ordinal_value": 3,
         "_deepnote_index_column": 83
        },
        {
         "GEOID": 13089020100,
         "reweighted_redline_index": 1,
         "ordinal_value": 1,
         "_deepnote_index_column": 84
        },
        {
         "GEOID": 13089020200,
         "reweighted_redline_index": 2.24,
         "ordinal_value": 3,
         "_deepnote_index_column": 85
        },
        {
         "GEOID": 13089020300,
         "reweighted_redline_index": 2.67,
         "ordinal_value": 3,
         "_deepnote_index_column": 86
        },
        {
         "GEOID": 13121010601,
         "reweighted_redline_index": 2.77,
         "ordinal_value": 3,
         "_deepnote_index_column": 87
        },
        {
         "GEOID": 13121010603,
         "reweighted_redline_index": 3.52,
         "ordinal_value": 4,
         "_deepnote_index_column": 88
        },
        {
         "GEOID": 13089021405,
         "reweighted_redline_index": 3,
         "ordinal_value": 3,
         "_deepnote_index_column": 89
        },
        {
         "GEOID": 13089022401,
         "reweighted_redline_index": 2.4,
         "ordinal_value": 3,
         "_deepnote_index_column": 90
        },
        {
         "GEOID": 13089022402,
         "reweighted_redline_index": 2.83,
         "ordinal_value": 3,
         "_deepnote_index_column": 91
        },
        {
         "GEOID": 13089022403,
         "reweighted_redline_index": 2.12,
         "ordinal_value": 3,
         "_deepnote_index_column": 92
        },
        {
         "GEOID": 13121006900,
         "reweighted_redline_index": 3,
         "ordinal_value": 3,
         "_deepnote_index_column": 93
        },
        {
         "GEOID": 13121007001,
         "reweighted_redline_index": 3,
         "ordinal_value": 3,
         "_deepnote_index_column": 94
        },
        {
         "GEOID": 13121005000,
         "reweighted_redline_index": 3.58,
         "ordinal_value": 4,
         "_deepnote_index_column": 95
        },
        {
         "GEOID": 13121002100,
         "reweighted_redline_index": 4,
         "ordinal_value": 4,
         "_deepnote_index_column": 96
        },
        {
         "GEOID": 13121002300,
         "reweighted_redline_index": 4,
         "ordinal_value": 4,
         "_deepnote_index_column": 97
        },
        {
         "GEOID": 13121002400,
         "reweighted_redline_index": 4,
         "ordinal_value": 4,
         "_deepnote_index_column": 98
        },
        {
         "GEOID": 13121002600,
         "reweighted_redline_index": 4,
         "ordinal_value": 4,
         "_deepnote_index_column": 99
        },
        {
         "GEOID": 13121002800,
         "reweighted_redline_index": 4,
         "ordinal_value": 4,
         "_deepnote_index_column": 100
        },
        {
         "GEOID": 13121003000,
         "reweighted_redline_index": 3.46,
         "ordinal_value": 4,
         "_deepnote_index_column": 101
        },
        {
         "GEOID": 13121003100,
         "reweighted_redline_index": 3.81,
         "ordinal_value": 4,
         "_deepnote_index_column": 102
        },
        {
         "GEOID": 13121003200,
         "reweighted_redline_index": 4,
         "ordinal_value": 4,
         "_deepnote_index_column": 103
        },
        {
         "GEOID": 13121003500,
         "reweighted_redline_index": 4,
         "ordinal_value": 4,
         "_deepnote_index_column": 104
        },
        {
         "GEOID": 13121003800,
         "reweighted_redline_index": 4,
         "ordinal_value": 4,
         "_deepnote_index_column": 105
        },
        {
         "GEOID": 13121008000,
         "reweighted_redline_index": 3,
         "ordinal_value": 3,
         "_deepnote_index_column": 106
        },
        {
         "GEOID": 13121008102,
         "reweighted_redline_index": 2.9,
         "ordinal_value": 3,
         "_deepnote_index_column": 107
        },
        {
         "GEOID": 13121004000,
         "reweighted_redline_index": 3.16,
         "ordinal_value": 4,
         "_deepnote_index_column": 108
        },
        {
         "GEOID": 13121004100,
         "reweighted_redline_index": 2.93,
         "ordinal_value": 3,
         "_deepnote_index_column": 109
        },
        {
         "GEOID": 13121004400,
         "reweighted_redline_index": 4,
         "ordinal_value": 4,
         "_deepnote_index_column": 110
        },
        {
         "GEOID": 13121004800,
         "reweighted_redline_index": 4,
         "ordinal_value": 4,
         "_deepnote_index_column": 111
        },
        {
         "GEOID": 13121003900,
         "reweighted_redline_index": 4,
         "ordinal_value": 4,
         "_deepnote_index_column": 112
        },
        {
         "GEOID": 13121004900,
         "reweighted_redline_index": 3.91,
         "ordinal_value": 4,
         "_deepnote_index_column": 113
        },
        {
         "GEOID": 13121005200,
         "reweighted_redline_index": 3.23,
         "ordinal_value": 4,
         "_deepnote_index_column": 114
        },
        {
         "GEOID": 13121005300,
         "reweighted_redline_index": 3.21,
         "ordinal_value": 4,
         "_deepnote_index_column": 115
        },
        {
         "GEOID": 13121008301,
         "reweighted_redline_index": 3,
         "ordinal_value": 3,
         "_deepnote_index_column": 116
        },
        {
         "GEOID": 13121008302,
         "reweighted_redline_index": 3,
         "ordinal_value": 3,
         "_deepnote_index_column": 117
        },
        {
         "GEOID": 13121008400,
         "reweighted_redline_index": 3.06,
         "ordinal_value": 4,
         "_deepnote_index_column": 118
        },
        {
         "GEOID": 13121008500,
         "reweighted_redline_index": 3.01,
         "ordinal_value": 4,
         "_deepnote_index_column": 119
        },
        {
         "GEOID": 13121006300,
         "reweighted_redline_index": 3.82,
         "ordinal_value": 4,
         "_deepnote_index_column": 120
        },
        {
         "GEOID": 13121005501,
         "reweighted_redline_index": 3.89,
         "ordinal_value": 4,
         "_deepnote_index_column": 121
        },
        {
         "GEOID": 13121005502,
         "reweighted_redline_index": 3.72,
         "ordinal_value": 4,
         "_deepnote_index_column": 122
        },
        {
         "GEOID": 13121005700,
         "reweighted_redline_index": 3.86,
         "ordinal_value": 4,
         "_deepnote_index_column": 123
        },
        {
         "GEOID": 13121005800,
         "reweighted_redline_index": 3,
         "ordinal_value": 3,
         "_deepnote_index_column": 124
        },
        {
         "GEOID": 13121006100,
         "reweighted_redline_index": 2.53,
         "ordinal_value": 3,
         "_deepnote_index_column": 125
        },
        {
         "GEOID": 13121006400,
         "reweighted_redline_index": 3,
         "ordinal_value": 4,
         "_deepnote_index_column": 126
        },
        {
         "GEOID": 13121006500,
         "reweighted_redline_index": 2.87,
         "ordinal_value": 3,
         "_deepnote_index_column": 127
        },
        {
         "GEOID": 13121008800,
         "reweighted_redline_index": 4,
         "ordinal_value": 4,
         "_deepnote_index_column": 128
        },
        {
         "GEOID": 13121009200,
         "reweighted_redline_index": 3.22,
         "ordinal_value": 4,
         "_deepnote_index_column": 129
        },
        {
         "GEOID": 13121007500,
         "reweighted_redline_index": 3,
         "ordinal_value": 3,
         "_deepnote_index_column": 130
        },
        {
         "GEOID": 13121006000,
         "reweighted_redline_index": 2.46,
         "ordinal_value": 3,
         "_deepnote_index_column": 131
        },
        {
         "GEOID": 13121008101,
         "reweighted_redline_index": 2,
         "ordinal_value": 2,
         "_deepnote_index_column": 132
        },
        {
         "GEOID": 13089021411,
         "reweighted_redline_index": 3,
         "ordinal_value": 3,
         "_deepnote_index_column": 133
        },
        {
         "GEOID": 13089021416,
         "reweighted_redline_index": 3,
         "ordinal_value": 3,
         "_deepnote_index_column": 134
        }
       ]
      },
      "text/plain": "            GEOID  reweighted_redline_index  ordinal_value\n0    4.811398e+10                      3.10              4\n1    4.811300e+10                      2.09              3\n2    4.811301e+10                      1.00              1\n3    4.811300e+10                      2.16              3\n4    4.811301e+10                      3.00              3\n..            ...                       ...            ...\n130  1.312101e+10                      3.00              3\n131  1.312101e+10                      2.46              3\n132  1.312101e+10                      2.00              2\n133  1.308902e+10                      3.00              3\n134  1.308902e+10                      3.00              3\n\n[6735 rows x 3 columns]",
      "text/html": "<div>\n<style scoped>\n    .dataframe tbody tr th:only-of-type {\n        vertical-align: middle;\n    }\n\n    .dataframe tbody tr th {\n        vertical-align: top;\n    }\n\n    .dataframe thead th {\n        text-align: right;\n    }\n</style>\n<table border=\"1\" class=\"dataframe\">\n  <thead>\n    <tr style=\"text-align: right;\">\n      <th></th>\n      <th>GEOID</th>\n      <th>reweighted_redline_index</th>\n      <th>ordinal_value</th>\n    </tr>\n  </thead>\n  <tbody>\n    <tr>\n      <th>0</th>\n      <td>4.811398e+10</td>\n      <td>3.10</td>\n      <td>4</td>\n    </tr>\n    <tr>\n      <th>1</th>\n      <td>4.811300e+10</td>\n      <td>2.09</td>\n      <td>3</td>\n    </tr>\n    <tr>\n      <th>2</th>\n      <td>4.811301e+10</td>\n      <td>1.00</td>\n      <td>1</td>\n    </tr>\n    <tr>\n      <th>3</th>\n      <td>4.811300e+10</td>\n      <td>2.16</td>\n      <td>3</td>\n    </tr>\n    <tr>\n      <th>4</th>\n      <td>4.811301e+10</td>\n      <td>3.00</td>\n      <td>3</td>\n    </tr>\n    <tr>\n      <th>...</th>\n      <td>...</td>\n      <td>...</td>\n      <td>...</td>\n    </tr>\n    <tr>\n      <th>130</th>\n      <td>1.312101e+10</td>\n      <td>3.00</td>\n      <td>3</td>\n    </tr>\n    <tr>\n      <th>131</th>\n      <td>1.312101e+10</td>\n      <td>2.46</td>\n      <td>3</td>\n    </tr>\n    <tr>\n      <th>132</th>\n      <td>1.312101e+10</td>\n      <td>2.00</td>\n      <td>2</td>\n    </tr>\n    <tr>\n      <th>133</th>\n      <td>1.308902e+10</td>\n      <td>3.00</td>\n      <td>3</td>\n    </tr>\n    <tr>\n      <th>134</th>\n      <td>1.308902e+10</td>\n      <td>3.00</td>\n      <td>3</td>\n    </tr>\n  </tbody>\n</table>\n<p>6735 rows × 3 columns</p>\n</div>"
     },
     "metadata": {}
    }
   ]
  },
  {
   "cell_type": "code",
   "metadata": {
    "tags": [],
    "output_cleared": false,
    "source_hash": "4d4815c8",
    "execution_millis": 19,
    "deepnote_to_be_reexecuted": false,
    "cell_id": "00016-b6666bda-af70-46ac-a933-b12f0d347844",
    "execution_start": 1611821197399,
    "deepnote_cell_type": "code"
   },
   "source": "# A check for catching outliers with respect to the reweighted_redline_index\n# np.unique(geo_intersect.reweighted_redline_index, return_counts=True)[0]\ngeo_intersect[geo_intersect.reweighted_redline_index < 1]",
   "execution_count": null,
   "outputs": [
    {
     "output_type": "execute_result",
     "execution_count": 28,
     "data": {
      "application/vnd.deepnote.dataframe.v2+json": {
       "row_count": 29,
       "column_count": 3,
       "columns": [
        {
         "name": "GEOID",
         "dtype": "float64",
         "stats": {
          "unique_count": 29,
          "nan_count": 0,
          "min": 6001404501,
          "max": 36081134100,
          "histogram": [
           {
            "bin_start": 6001404501,
            "bin_end": 9009377460.9,
            "count": 23
           },
           {
            "bin_start": 9009377460.9,
            "bin_end": 12017350420.8,
            "count": 0
           },
           {
            "bin_start": 12017350420.8,
            "bin_end": 15025323380.7,
            "count": 0
           },
           {
            "bin_start": 15025323380.7,
            "bin_end": 18033296340.6,
            "count": 3
           },
           {
            "bin_start": 18033296340.6,
            "bin_end": 21041269300.5,
            "count": 0
           },
           {
            "bin_start": 21041269300.5,
            "bin_end": 24049242260.4,
            "count": 0
           },
           {
            "bin_start": 24049242260.4,
            "bin_end": 27057215220.3,
            "count": 0
           },
           {
            "bin_start": 27057215220.3,
            "bin_end": 30065188180.2,
            "count": 0
           },
           {
            "bin_start": 30065188180.2,
            "bin_end": 33073161140.100002,
            "count": 0
           },
           {
            "bin_start": 33073161140.100002,
            "bin_end": 36081134100,
            "count": 3
           }
          ]
         }
        },
        {
         "name": "reweighted_redline_index",
         "dtype": "float64",
         "stats": {
          "unique_count": 25,
          "nan_count": 0,
          "min": 0,
          "max": 0.98,
          "histogram": [
           {
            "bin_start": 0,
            "bin_end": 0.098,
            "count": 8
           },
           {
            "bin_start": 0.098,
            "bin_end": 0.196,
            "count": 3
           },
           {
            "bin_start": 0.196,
            "bin_end": 0.29400000000000004,
            "count": 0
           },
           {
            "bin_start": 0.29400000000000004,
            "bin_end": 0.392,
            "count": 1
           },
           {
            "bin_start": 0.392,
            "bin_end": 0.49,
            "count": 3
           },
           {
            "bin_start": 0.49,
            "bin_end": 0.5880000000000001,
            "count": 2
           },
           {
            "bin_start": 0.5880000000000001,
            "bin_end": 0.686,
            "count": 4
           },
           {
            "bin_start": 0.686,
            "bin_end": 0.784,
            "count": 3
           },
           {
            "bin_start": 0.784,
            "bin_end": 0.882,
            "count": 1
           },
           {
            "bin_start": 0.882,
            "bin_end": 0.98,
            "count": 4
           }
          ]
         }
        },
        {
         "name": "ordinal_value",
         "dtype": "int64",
         "stats": {
          "unique_count": 1,
          "nan_count": 0,
          "min": 1,
          "max": 1,
          "histogram": [
           {
            "bin_start": 0.5,
            "bin_end": 0.6,
            "count": 0
           },
           {
            "bin_start": 0.6,
            "bin_end": 0.7,
            "count": 0
           },
           {
            "bin_start": 0.7,
            "bin_end": 0.8,
            "count": 0
           },
           {
            "bin_start": 0.8,
            "bin_end": 0.9,
            "count": 0
           },
           {
            "bin_start": 0.9,
            "bin_end": 1,
            "count": 0
           },
           {
            "bin_start": 1,
            "bin_end": 1.1,
            "count": 29
           },
           {
            "bin_start": 1.1,
            "bin_end": 1.2000000000000002,
            "count": 0
           },
           {
            "bin_start": 1.2000000000000002,
            "bin_end": 1.3,
            "count": 0
           },
           {
            "bin_start": 1.3,
            "bin_end": 1.4,
            "count": 0
           },
           {
            "bin_start": 1.4,
            "bin_end": 1.5,
            "count": 0
           }
          ]
         }
        },
        {
         "name": "_deepnote_index_column",
         "dtype": "int64"
        }
       ],
       "rows_top": [
        {
         "GEOID": 36081124700,
         "reweighted_redline_index": 0.16,
         "ordinal_value": 1,
         "_deepnote_index_column": 258
        },
        {
         "GEOID": 36081122300,
         "reweighted_redline_index": 0.81,
         "ordinal_value": 1,
         "_deepnote_index_column": 1713
        },
        {
         "GEOID": 36081134100,
         "reweighted_redline_index": 0,
         "ordinal_value": 1,
         "_deepnote_index_column": 1727
        },
        {
         "GEOID": 6037181000,
         "reweighted_redline_index": 0.78,
         "ordinal_value": 1,
         "_deepnote_index_column": 2
        },
        {
         "GEOID": 6037461100,
         "reweighted_redline_index": 0.56,
         "ordinal_value": 1,
         "_deepnote_index_column": 231
        },
        {
         "GEOID": 6001404700,
         "reweighted_redline_index": 0.62,
         "ordinal_value": 1,
         "_deepnote_index_column": 257
        },
        {
         "GEOID": 6037128102,
         "reweighted_redline_index": 0,
         "ordinal_value": 1,
         "_deepnote_index_column": 297
        },
        {
         "GEOID": 6085503123,
         "reweighted_redline_index": 0.63,
         "ordinal_value": 1,
         "_deepnote_index_column": 750
        },
        {
         "GEOID": 6037128220,
         "reweighted_redline_index": 0.93,
         "ordinal_value": 1,
         "_deepnote_index_column": 852
        },
        {
         "GEOID": 6037128601,
         "reweighted_redline_index": 0.41,
         "ordinal_value": 1,
         "_deepnote_index_column": 861
        },
        {
         "GEOID": 6075032802,
         "reweighted_redline_index": 0.91,
         "ordinal_value": 1,
         "_deepnote_index_column": 912
        },
        {
         "GEOID": 6073002902,
         "reweighted_redline_index": 0.36,
         "ordinal_value": 1,
         "_deepnote_index_column": 1063
        },
        {
         "GEOID": 6073008303,
         "reweighted_redline_index": 0.17,
         "ordinal_value": 1,
         "_deepnote_index_column": 1097
        },
        {
         "GEOID": 6001404501,
         "reweighted_redline_index": 0.98,
         "ordinal_value": 1,
         "_deepnote_index_column": 1125
        },
        {
         "GEOID": 6001404502,
         "reweighted_redline_index": 0.75,
         "ordinal_value": 1,
         "_deepnote_index_column": 1166
        },
        {
         "GEOID": 6073014700,
         "reweighted_redline_index": 0.03,
         "ordinal_value": 1,
         "_deepnote_index_column": 1198
        },
        {
         "GEOID": 6073007100,
         "reweighted_redline_index": 0.77,
         "ordinal_value": 1,
         "_deepnote_index_column": 1201
        },
        {
         "GEOID": 6073008311,
         "reweighted_redline_index": 0.46,
         "ordinal_value": 1,
         "_deepnote_index_column": 1253
        },
        {
         "GEOID": 6037460100,
         "reweighted_redline_index": 0.98,
         "ordinal_value": 1,
         "_deepnote_index_column": 1281
        },
        {
         "GEOID": 6037460200,
         "reweighted_redline_index": 0.04,
         "ordinal_value": 1,
         "_deepnote_index_column": 1312
        },
        {
         "GEOID": 6037430701,
         "reweighted_redline_index": 0.66,
         "ordinal_value": 1,
         "_deepnote_index_column": 1324
        },
        {
         "GEOID": 6073007200,
         "reweighted_redline_index": 0.02,
         "ordinal_value": 1,
         "_deepnote_index_column": 1403
        },
        {
         "GEOID": 6075032902,
         "reweighted_redline_index": 0.64,
         "ordinal_value": 1,
         "_deepnote_index_column": 1745
        },
        {
         "GEOID": 6001408000,
         "reweighted_redline_index": 0.49,
         "ordinal_value": 1,
         "_deepnote_index_column": 1888
        },
        {
         "GEOID": 6073007702,
         "reweighted_redline_index": 0.08,
         "ordinal_value": 1,
         "_deepnote_index_column": 1940
        },
        {
         "GEOID": 6075035400,
         "reweighted_redline_index": 0.4,
         "ordinal_value": 1,
         "_deepnote_index_column": 1993
        },
        {
         "GEOID": 17031520500,
         "reweighted_redline_index": 0,
         "ordinal_value": 1,
         "_deepnote_index_column": 109
        },
        {
         "GEOID": 17031430600,
         "reweighted_redline_index": 0.02,
         "ordinal_value": 1,
         "_deepnote_index_column": 700
        },
        {
         "GEOID": 17031430800,
         "reweighted_redline_index": 0.14,
         "ordinal_value": 1,
         "_deepnote_index_column": 701
        }
       ],
       "rows_bottom": null
      },
      "text/plain": "             GEOID  reweighted_redline_index  ordinal_value\n258   3.608112e+10                      0.16              1\n1713  3.608112e+10                      0.81              1\n1727  3.608113e+10                      0.00              1\n2     6.037181e+09                      0.78              1\n231   6.037461e+09                      0.56              1\n257   6.001405e+09                      0.62              1\n297   6.037128e+09                      0.00              1\n750   6.085503e+09                      0.63              1\n852   6.037128e+09                      0.93              1\n861   6.037129e+09                      0.41              1\n912   6.075033e+09                      0.91              1\n1063  6.073003e+09                      0.36              1\n1097  6.073008e+09                      0.17              1\n1125  6.001405e+09                      0.98              1\n1166  6.001405e+09                      0.75              1\n1198  6.073015e+09                      0.03              1\n1201  6.073007e+09                      0.77              1\n1253  6.073008e+09                      0.46              1\n1281  6.037460e+09                      0.98              1\n1312  6.037460e+09                      0.04              1\n1324  6.037431e+09                      0.66              1\n1403  6.073007e+09                      0.02              1\n1745  6.075033e+09                      0.64              1\n1888  6.001408e+09                      0.49              1\n1940  6.073008e+09                      0.08              1\n1993  6.075035e+09                      0.40              1\n109   1.703152e+10                      0.00              1\n700   1.703143e+10                      0.02              1\n701   1.703143e+10                      0.14              1",
      "text/html": "<div>\n<style scoped>\n    .dataframe tbody tr th:only-of-type {\n        vertical-align: middle;\n    }\n\n    .dataframe tbody tr th {\n        vertical-align: top;\n    }\n\n    .dataframe thead th {\n        text-align: right;\n    }\n</style>\n<table border=\"1\" class=\"dataframe\">\n  <thead>\n    <tr style=\"text-align: right;\">\n      <th></th>\n      <th>GEOID</th>\n      <th>reweighted_redline_index</th>\n      <th>ordinal_value</th>\n    </tr>\n  </thead>\n  <tbody>\n    <tr>\n      <th>258</th>\n      <td>3.608112e+10</td>\n      <td>0.16</td>\n      <td>1</td>\n    </tr>\n    <tr>\n      <th>1713</th>\n      <td>3.608112e+10</td>\n      <td>0.81</td>\n      <td>1</td>\n    </tr>\n    <tr>\n      <th>1727</th>\n      <td>3.608113e+10</td>\n      <td>0.00</td>\n      <td>1</td>\n    </tr>\n    <tr>\n      <th>2</th>\n      <td>6.037181e+09</td>\n      <td>0.78</td>\n      <td>1</td>\n    </tr>\n    <tr>\n      <th>231</th>\n      <td>6.037461e+09</td>\n      <td>0.56</td>\n      <td>1</td>\n    </tr>\n    <tr>\n      <th>257</th>\n      <td>6.001405e+09</td>\n      <td>0.62</td>\n      <td>1</td>\n    </tr>\n    <tr>\n      <th>297</th>\n      <td>6.037128e+09</td>\n      <td>0.00</td>\n      <td>1</td>\n    </tr>\n    <tr>\n      <th>750</th>\n      <td>6.085503e+09</td>\n      <td>0.63</td>\n      <td>1</td>\n    </tr>\n    <tr>\n      <th>852</th>\n      <td>6.037128e+09</td>\n      <td>0.93</td>\n      <td>1</td>\n    </tr>\n    <tr>\n      <th>861</th>\n      <td>6.037129e+09</td>\n      <td>0.41</td>\n      <td>1</td>\n    </tr>\n    <tr>\n      <th>912</th>\n      <td>6.075033e+09</td>\n      <td>0.91</td>\n      <td>1</td>\n    </tr>\n    <tr>\n      <th>1063</th>\n      <td>6.073003e+09</td>\n      <td>0.36</td>\n      <td>1</td>\n    </tr>\n    <tr>\n      <th>1097</th>\n      <td>6.073008e+09</td>\n      <td>0.17</td>\n      <td>1</td>\n    </tr>\n    <tr>\n      <th>1125</th>\n      <td>6.001405e+09</td>\n      <td>0.98</td>\n      <td>1</td>\n    </tr>\n    <tr>\n      <th>1166</th>\n      <td>6.001405e+09</td>\n      <td>0.75</td>\n      <td>1</td>\n    </tr>\n    <tr>\n      <th>1198</th>\n      <td>6.073015e+09</td>\n      <td>0.03</td>\n      <td>1</td>\n    </tr>\n    <tr>\n      <th>1201</th>\n      <td>6.073007e+09</td>\n      <td>0.77</td>\n      <td>1</td>\n    </tr>\n    <tr>\n      <th>1253</th>\n      <td>6.073008e+09</td>\n      <td>0.46</td>\n      <td>1</td>\n    </tr>\n    <tr>\n      <th>1281</th>\n      <td>6.037460e+09</td>\n      <td>0.98</td>\n      <td>1</td>\n    </tr>\n    <tr>\n      <th>1312</th>\n      <td>6.037460e+09</td>\n      <td>0.04</td>\n      <td>1</td>\n    </tr>\n    <tr>\n      <th>1324</th>\n      <td>6.037431e+09</td>\n      <td>0.66</td>\n      <td>1</td>\n    </tr>\n    <tr>\n      <th>1403</th>\n      <td>6.073007e+09</td>\n      <td>0.02</td>\n      <td>1</td>\n    </tr>\n    <tr>\n      <th>1745</th>\n      <td>6.075033e+09</td>\n      <td>0.64</td>\n      <td>1</td>\n    </tr>\n    <tr>\n      <th>1888</th>\n      <td>6.001408e+09</td>\n      <td>0.49</td>\n      <td>1</td>\n    </tr>\n    <tr>\n      <th>1940</th>\n      <td>6.073008e+09</td>\n      <td>0.08</td>\n      <td>1</td>\n    </tr>\n    <tr>\n      <th>1993</th>\n      <td>6.075035e+09</td>\n      <td>0.40</td>\n      <td>1</td>\n    </tr>\n    <tr>\n      <th>109</th>\n      <td>1.703152e+10</td>\n      <td>0.00</td>\n      <td>1</td>\n    </tr>\n    <tr>\n      <th>700</th>\n      <td>1.703143e+10</td>\n      <td>0.02</td>\n      <td>1</td>\n    </tr>\n    <tr>\n      <th>701</th>\n      <td>1.703143e+10</td>\n      <td>0.14</td>\n      <td>1</td>\n    </tr>\n  </tbody>\n</table>\n</div>"
     },
     "metadata": {}
    }
   ]
  },
  {
   "cell_type": "markdown",
   "source": "# Joining ACS and Redlining Data",
   "metadata": {
    "tags": [],
    "cell_id": "00017-13662271-c313-4bf4-b6f4-6413c835f37d",
    "deepnote_cell_type": "markdown"
   }
  },
  {
   "cell_type": "code",
   "metadata": {
    "tags": [],
    "output_cleared": false,
    "source_hash": "4e7399a",
    "execution_millis": 23,
    "deepnote_to_be_reexecuted": false,
    "cell_id": "00018-0e6bd839-219e-482e-9e25-ac2453311d26",
    "execution_start": 1611821199604,
    "deepnote_cell_type": "code"
   },
   "source": "# Merging the geo_files and the ACS data\njoined = geo_intersect.merge(acs, how=\"inner\", left_on=\"GEOID\", right_on=\"geo_id\")\njoined.drop(columns=[\"GEOID\", \"ordinal_value\", \"geo_id\"], inplace=True)",
   "execution_count": null,
   "outputs": []
  },
  {
   "cell_type": "code",
   "metadata": {
    "tags": [],
    "output_cleared": false,
    "source_hash": "4fc80fb7",
    "execution_millis": 449,
    "deepnote_to_be_reexecuted": false,
    "cell_id": "00019-65c54d3c-9cb2-4bc9-a3d8-b2dc2e397bac",
    "execution_start": 1611821240458,
    "deepnote_cell_type": "code"
   },
   "source": "# Writing the result to file\njoined.to_csv(\"/work/COVIDRedlining/ACS/output/acs_feature_data.csv\")",
   "execution_count": null,
   "outputs": []
  },
  {
   "cell_type": "code",
   "metadata": {
    "cell_id": "00020-832d1b4b-7dab-42c2-8d1a-e1e88c064ba8",
    "deepnote_to_be_reexecuted": false,
    "source_hash": "35ad4078",
    "execution_start": 1611821200885,
    "execution_millis": 39,
    "deepnote_cell_type": "code"
   },
   "source": "joined = pd.read_csv(\"acs_feature_data.csv\")",
   "execution_count": null,
   "outputs": [
    {
     "output_type": "error",
     "ename": "FileNotFoundError",
     "evalue": "[Errno 2] File acs_feature_data.csv does not exist: 'acs_feature_data.csv'",
     "traceback": [
      "\u001b[0;31m---------------------------------------------------------------------------\u001b[0m",
      "\u001b[0;31mFileNotFoundError\u001b[0m                         Traceback (most recent call last)",
      "\u001b[0;32m<ipython-input-31-c0a659fcb458>\u001b[0m in \u001b[0;36m<module>\u001b[0;34m\u001b[0m\n\u001b[0;32m----> 1\u001b[0;31m \u001b[0mjoined\u001b[0m \u001b[0;34m=\u001b[0m \u001b[0mpd\u001b[0m\u001b[0;34m.\u001b[0m\u001b[0mread_csv\u001b[0m\u001b[0;34m(\u001b[0m\u001b[0;34m\"acs_feature_data.csv\"\u001b[0m\u001b[0;34m)\u001b[0m\u001b[0;34m\u001b[0m\u001b[0;34m\u001b[0m\u001b[0m\n\u001b[0m",
      "\u001b[0;32m/opt/venv/lib/python3.7/site-packages/pandas/io/parsers.py\u001b[0m in \u001b[0;36mparser_f\u001b[0;34m(filepath_or_buffer, sep, delimiter, header, names, index_col, usecols, squeeze, prefix, mangle_dupe_cols, dtype, engine, converters, true_values, false_values, skipinitialspace, skiprows, skipfooter, nrows, na_values, keep_default_na, na_filter, verbose, skip_blank_lines, parse_dates, infer_datetime_format, keep_date_col, date_parser, dayfirst, cache_dates, iterator, chunksize, compression, thousands, decimal, lineterminator, quotechar, quoting, doublequote, escapechar, comment, encoding, dialect, error_bad_lines, warn_bad_lines, delim_whitespace, low_memory, memory_map, float_precision)\u001b[0m\n\u001b[1;32m    674\u001b[0m         )\n\u001b[1;32m    675\u001b[0m \u001b[0;34m\u001b[0m\u001b[0m\n\u001b[0;32m--> 676\u001b[0;31m         \u001b[0;32mreturn\u001b[0m \u001b[0m_read\u001b[0m\u001b[0;34m(\u001b[0m\u001b[0mfilepath_or_buffer\u001b[0m\u001b[0;34m,\u001b[0m \u001b[0mkwds\u001b[0m\u001b[0;34m)\u001b[0m\u001b[0;34m\u001b[0m\u001b[0;34m\u001b[0m\u001b[0m\n\u001b[0m\u001b[1;32m    677\u001b[0m \u001b[0;34m\u001b[0m\u001b[0m\n\u001b[1;32m    678\u001b[0m     \u001b[0mparser_f\u001b[0m\u001b[0;34m.\u001b[0m\u001b[0m__name__\u001b[0m \u001b[0;34m=\u001b[0m \u001b[0mname\u001b[0m\u001b[0;34m\u001b[0m\u001b[0;34m\u001b[0m\u001b[0m\n",
      "\u001b[0;32m/opt/venv/lib/python3.7/site-packages/pandas/io/parsers.py\u001b[0m in \u001b[0;36m_read\u001b[0;34m(filepath_or_buffer, kwds)\u001b[0m\n\u001b[1;32m    446\u001b[0m \u001b[0;34m\u001b[0m\u001b[0m\n\u001b[1;32m    447\u001b[0m     \u001b[0;31m# Create the parser.\u001b[0m\u001b[0;34m\u001b[0m\u001b[0;34m\u001b[0m\u001b[0;34m\u001b[0m\u001b[0m\n\u001b[0;32m--> 448\u001b[0;31m     \u001b[0mparser\u001b[0m \u001b[0;34m=\u001b[0m \u001b[0mTextFileReader\u001b[0m\u001b[0;34m(\u001b[0m\u001b[0mfp_or_buf\u001b[0m\u001b[0;34m,\u001b[0m \u001b[0;34m**\u001b[0m\u001b[0mkwds\u001b[0m\u001b[0;34m)\u001b[0m\u001b[0;34m\u001b[0m\u001b[0;34m\u001b[0m\u001b[0m\n\u001b[0m\u001b[1;32m    449\u001b[0m \u001b[0;34m\u001b[0m\u001b[0m\n\u001b[1;32m    450\u001b[0m     \u001b[0;32mif\u001b[0m \u001b[0mchunksize\u001b[0m \u001b[0;32mor\u001b[0m \u001b[0miterator\u001b[0m\u001b[0;34m:\u001b[0m\u001b[0;34m\u001b[0m\u001b[0;34m\u001b[0m\u001b[0m\n",
      "\u001b[0;32m/opt/venv/lib/python3.7/site-packages/pandas/io/parsers.py\u001b[0m in \u001b[0;36m__init__\u001b[0;34m(self, f, engine, **kwds)\u001b[0m\n\u001b[1;32m    878\u001b[0m             \u001b[0mself\u001b[0m\u001b[0;34m.\u001b[0m\u001b[0moptions\u001b[0m\u001b[0;34m[\u001b[0m\u001b[0;34m\"has_index_names\"\u001b[0m\u001b[0;34m]\u001b[0m \u001b[0;34m=\u001b[0m \u001b[0mkwds\u001b[0m\u001b[0;34m[\u001b[0m\u001b[0;34m\"has_index_names\"\u001b[0m\u001b[0;34m]\u001b[0m\u001b[0;34m\u001b[0m\u001b[0;34m\u001b[0m\u001b[0m\n\u001b[1;32m    879\u001b[0m \u001b[0;34m\u001b[0m\u001b[0m\n\u001b[0;32m--> 880\u001b[0;31m         \u001b[0mself\u001b[0m\u001b[0;34m.\u001b[0m\u001b[0m_make_engine\u001b[0m\u001b[0;34m(\u001b[0m\u001b[0mself\u001b[0m\u001b[0;34m.\u001b[0m\u001b[0mengine\u001b[0m\u001b[0;34m)\u001b[0m\u001b[0;34m\u001b[0m\u001b[0;34m\u001b[0m\u001b[0m\n\u001b[0m\u001b[1;32m    881\u001b[0m \u001b[0;34m\u001b[0m\u001b[0m\n\u001b[1;32m    882\u001b[0m     \u001b[0;32mdef\u001b[0m \u001b[0mclose\u001b[0m\u001b[0;34m(\u001b[0m\u001b[0mself\u001b[0m\u001b[0;34m)\u001b[0m\u001b[0;34m:\u001b[0m\u001b[0;34m\u001b[0m\u001b[0;34m\u001b[0m\u001b[0m\n",
      "\u001b[0;32m/opt/venv/lib/python3.7/site-packages/pandas/io/parsers.py\u001b[0m in \u001b[0;36m_make_engine\u001b[0;34m(self, engine)\u001b[0m\n\u001b[1;32m   1112\u001b[0m     \u001b[0;32mdef\u001b[0m \u001b[0m_make_engine\u001b[0m\u001b[0;34m(\u001b[0m\u001b[0mself\u001b[0m\u001b[0;34m,\u001b[0m \u001b[0mengine\u001b[0m\u001b[0;34m=\u001b[0m\u001b[0;34m\"c\"\u001b[0m\u001b[0;34m)\u001b[0m\u001b[0;34m:\u001b[0m\u001b[0;34m\u001b[0m\u001b[0;34m\u001b[0m\u001b[0m\n\u001b[1;32m   1113\u001b[0m         \u001b[0;32mif\u001b[0m \u001b[0mengine\u001b[0m \u001b[0;34m==\u001b[0m \u001b[0;34m\"c\"\u001b[0m\u001b[0;34m:\u001b[0m\u001b[0;34m\u001b[0m\u001b[0;34m\u001b[0m\u001b[0m\n\u001b[0;32m-> 1114\u001b[0;31m             \u001b[0mself\u001b[0m\u001b[0;34m.\u001b[0m\u001b[0m_engine\u001b[0m \u001b[0;34m=\u001b[0m \u001b[0mCParserWrapper\u001b[0m\u001b[0;34m(\u001b[0m\u001b[0mself\u001b[0m\u001b[0;34m.\u001b[0m\u001b[0mf\u001b[0m\u001b[0;34m,\u001b[0m \u001b[0;34m**\u001b[0m\u001b[0mself\u001b[0m\u001b[0;34m.\u001b[0m\u001b[0moptions\u001b[0m\u001b[0;34m)\u001b[0m\u001b[0;34m\u001b[0m\u001b[0;34m\u001b[0m\u001b[0m\n\u001b[0m\u001b[1;32m   1115\u001b[0m         \u001b[0;32melse\u001b[0m\u001b[0;34m:\u001b[0m\u001b[0;34m\u001b[0m\u001b[0;34m\u001b[0m\u001b[0m\n\u001b[1;32m   1116\u001b[0m             \u001b[0;32mif\u001b[0m \u001b[0mengine\u001b[0m \u001b[0;34m==\u001b[0m \u001b[0;34m\"python\"\u001b[0m\u001b[0;34m:\u001b[0m\u001b[0;34m\u001b[0m\u001b[0;34m\u001b[0m\u001b[0m\n",
      "\u001b[0;32m/opt/venv/lib/python3.7/site-packages/pandas/io/parsers.py\u001b[0m in \u001b[0;36m__init__\u001b[0;34m(self, src, **kwds)\u001b[0m\n\u001b[1;32m   1889\u001b[0m         \u001b[0mkwds\u001b[0m\u001b[0;34m[\u001b[0m\u001b[0;34m\"usecols\"\u001b[0m\u001b[0;34m]\u001b[0m \u001b[0;34m=\u001b[0m \u001b[0mself\u001b[0m\u001b[0;34m.\u001b[0m\u001b[0musecols\u001b[0m\u001b[0;34m\u001b[0m\u001b[0;34m\u001b[0m\u001b[0m\n\u001b[1;32m   1890\u001b[0m \u001b[0;34m\u001b[0m\u001b[0m\n\u001b[0;32m-> 1891\u001b[0;31m         \u001b[0mself\u001b[0m\u001b[0;34m.\u001b[0m\u001b[0m_reader\u001b[0m \u001b[0;34m=\u001b[0m \u001b[0mparsers\u001b[0m\u001b[0;34m.\u001b[0m\u001b[0mTextReader\u001b[0m\u001b[0;34m(\u001b[0m\u001b[0msrc\u001b[0m\u001b[0;34m,\u001b[0m \u001b[0;34m**\u001b[0m\u001b[0mkwds\u001b[0m\u001b[0;34m)\u001b[0m\u001b[0;34m\u001b[0m\u001b[0;34m\u001b[0m\u001b[0m\n\u001b[0m\u001b[1;32m   1892\u001b[0m         \u001b[0mself\u001b[0m\u001b[0;34m.\u001b[0m\u001b[0munnamed_cols\u001b[0m \u001b[0;34m=\u001b[0m \u001b[0mself\u001b[0m\u001b[0;34m.\u001b[0m\u001b[0m_reader\u001b[0m\u001b[0;34m.\u001b[0m\u001b[0munnamed_cols\u001b[0m\u001b[0;34m\u001b[0m\u001b[0;34m\u001b[0m\u001b[0m\n\u001b[1;32m   1893\u001b[0m \u001b[0;34m\u001b[0m\u001b[0m\n",
      "\u001b[0;32mpandas/_libs/parsers.pyx\u001b[0m in \u001b[0;36mpandas._libs.parsers.TextReader.__cinit__\u001b[0;34m()\u001b[0m\n",
      "\u001b[0;32mpandas/_libs/parsers.pyx\u001b[0m in \u001b[0;36mpandas._libs.parsers.TextReader._setup_parser_source\u001b[0;34m()\u001b[0m\n",
      "\u001b[0;31mFileNotFoundError\u001b[0m: [Errno 2] File acs_feature_data.csv does not exist: 'acs_feature_data.csv'"
     ]
    }
   ]
  },
  {
   "cell_type": "code",
   "metadata": {
    "tags": [],
    "output_cleared": false,
    "source_hash": "5a7037aa",
    "execution_millis": 28,
    "deepnote_to_be_reexecuted": false,
    "execution_start": 1610941476176,
    "cell_id": "00021-ea93794c-bfc5-421a-a2ba-85356ef69c68",
    "deepnote_cell_type": "code"
   },
   "source": "# Number of unique redlining index values\nlen(np.unique(joined.reweighted_redline_index.values.round(2)))",
   "execution_count": null,
   "outputs": [
    {
     "output_type": "execute_result",
     "data": {
      "text/plain": "322"
     },
     "metadata": {},
     "execution_count": 5
    }
   ]
  },
  {
   "cell_type": "code",
   "metadata": {
    "cell_id": "00022-691d46d7-85a4-4f52-b4b0-ecd706a19919",
    "deepnote_cell_type": "code"
   },
   "source": "exp1 = setup(joined, target = \"reweighted_redline_index\")",
   "execution_count": null,
   "outputs": [
    {
     "output_type": "display_data",
     "data": {
      "text/plain": "<pandas.io.formats.style.Styler at 0x2660eb4a9c8>",
      "text/html": "<style  type=\"text/css\" >\n#T_86a54_row3_col1{\n            background-color:  lightgreen;\n        }</style><table id=\"T_86a54_\" ><thead>    <tr>        <th class=\"blank level0\" ></th>        <th class=\"col_heading level0 col0\" >Description</th>        <th class=\"col_heading level0 col1\" >Value</th>    </tr></thead><tbody>\n                <tr>\n                        <th id=\"T_86a54_level0_row0\" class=\"row_heading level0 row0\" >0</th>\n                        <td id=\"T_86a54_row0_col0\" class=\"data row0 col0\" >session_id</td>\n                        <td id=\"T_86a54_row0_col1\" class=\"data row0 col1\" >2576</td>\n            </tr>\n            <tr>\n                        <th id=\"T_86a54_level0_row1\" class=\"row_heading level0 row1\" >1</th>\n                        <td id=\"T_86a54_row1_col0\" class=\"data row1 col0\" >Target</td>\n                        <td id=\"T_86a54_row1_col1\" class=\"data row1 col1\" >reweighted_redline_index</td>\n            </tr>\n            <tr>\n                        <th id=\"T_86a54_level0_row2\" class=\"row_heading level0 row2\" >2</th>\n                        <td id=\"T_86a54_row2_col0\" class=\"data row2 col0\" >Original Data</td>\n                        <td id=\"T_86a54_row2_col1\" class=\"data row2 col1\" >(6735, 233)</td>\n            </tr>\n            <tr>\n                        <th id=\"T_86a54_level0_row3\" class=\"row_heading level0 row3\" >3</th>\n                        <td id=\"T_86a54_row3_col0\" class=\"data row3 col0\" >Missing Values</td>\n                        <td id=\"T_86a54_row3_col1\" class=\"data row3 col1\" >True</td>\n            </tr>\n            <tr>\n                        <th id=\"T_86a54_level0_row4\" class=\"row_heading level0 row4\" >4</th>\n                        <td id=\"T_86a54_row4_col0\" class=\"data row4 col0\" >Numeric Features</td>\n                        <td id=\"T_86a54_row4_col1\" class=\"data row4 col1\" >222</td>\n            </tr>\n            <tr>\n                        <th id=\"T_86a54_level0_row5\" class=\"row_heading level0 row5\" >5</th>\n                        <td id=\"T_86a54_row5_col0\" class=\"data row5 col0\" >Categorical Features</td>\n                        <td id=\"T_86a54_row5_col1\" class=\"data row5 col1\" >10</td>\n            </tr>\n            <tr>\n                        <th id=\"T_86a54_level0_row6\" class=\"row_heading level0 row6\" >6</th>\n                        <td id=\"T_86a54_row6_col0\" class=\"data row6 col0\" >Ordinal Features</td>\n                        <td id=\"T_86a54_row6_col1\" class=\"data row6 col1\" >False</td>\n            </tr>\n            <tr>\n                        <th id=\"T_86a54_level0_row7\" class=\"row_heading level0 row7\" >7</th>\n                        <td id=\"T_86a54_row7_col0\" class=\"data row7 col0\" >High Cardinality Features</td>\n                        <td id=\"T_86a54_row7_col1\" class=\"data row7 col1\" >False</td>\n            </tr>\n            <tr>\n                        <th id=\"T_86a54_level0_row8\" class=\"row_heading level0 row8\" >8</th>\n                        <td id=\"T_86a54_row8_col0\" class=\"data row8 col0\" >High Cardinality Method</td>\n                        <td id=\"T_86a54_row8_col1\" class=\"data row8 col1\" >None</td>\n            </tr>\n            <tr>\n                        <th id=\"T_86a54_level0_row9\" class=\"row_heading level0 row9\" >9</th>\n                        <td id=\"T_86a54_row9_col0\" class=\"data row9 col0\" >Transformed Train Set</td>\n                        <td id=\"T_86a54_row9_col1\" class=\"data row9 col1\" >(4714, 210)</td>\n            </tr>\n            <tr>\n                        <th id=\"T_86a54_level0_row10\" class=\"row_heading level0 row10\" >10</th>\n                        <td id=\"T_86a54_row10_col0\" class=\"data row10 col0\" >Transformed Test Set</td>\n                        <td id=\"T_86a54_row10_col1\" class=\"data row10 col1\" >(2021, 210)</td>\n            </tr>\n            <tr>\n                        <th id=\"T_86a54_level0_row11\" class=\"row_heading level0 row11\" >11</th>\n                        <td id=\"T_86a54_row11_col0\" class=\"data row11 col0\" >Shuffle Train-Test</td>\n                        <td id=\"T_86a54_row11_col1\" class=\"data row11 col1\" >True</td>\n            </tr>\n            <tr>\n                        <th id=\"T_86a54_level0_row12\" class=\"row_heading level0 row12\" >12</th>\n                        <td id=\"T_86a54_row12_col0\" class=\"data row12 col0\" >Stratify Train-Test</td>\n                        <td id=\"T_86a54_row12_col1\" class=\"data row12 col1\" >False</td>\n            </tr>\n            <tr>\n                        <th id=\"T_86a54_level0_row13\" class=\"row_heading level0 row13\" >13</th>\n                        <td id=\"T_86a54_row13_col0\" class=\"data row13 col0\" >Fold Generator</td>\n                        <td id=\"T_86a54_row13_col1\" class=\"data row13 col1\" >KFold</td>\n            </tr>\n            <tr>\n                        <th id=\"T_86a54_level0_row14\" class=\"row_heading level0 row14\" >14</th>\n                        <td id=\"T_86a54_row14_col0\" class=\"data row14 col0\" >Fold Number</td>\n                        <td id=\"T_86a54_row14_col1\" class=\"data row14 col1\" >10</td>\n            </tr>\n            <tr>\n                        <th id=\"T_86a54_level0_row15\" class=\"row_heading level0 row15\" >15</th>\n                        <td id=\"T_86a54_row15_col0\" class=\"data row15 col0\" >CPU Jobs</td>\n                        <td id=\"T_86a54_row15_col1\" class=\"data row15 col1\" >-1</td>\n            </tr>\n            <tr>\n                        <th id=\"T_86a54_level0_row16\" class=\"row_heading level0 row16\" >16</th>\n                        <td id=\"T_86a54_row16_col0\" class=\"data row16 col0\" >Use GPU</td>\n                        <td id=\"T_86a54_row16_col1\" class=\"data row16 col1\" >False</td>\n            </tr>\n            <tr>\n                        <th id=\"T_86a54_level0_row17\" class=\"row_heading level0 row17\" >17</th>\n                        <td id=\"T_86a54_row17_col0\" class=\"data row17 col0\" >Log Experiment</td>\n                        <td id=\"T_86a54_row17_col1\" class=\"data row17 col1\" >False</td>\n            </tr>\n            <tr>\n                        <th id=\"T_86a54_level0_row18\" class=\"row_heading level0 row18\" >18</th>\n                        <td id=\"T_86a54_row18_col0\" class=\"data row18 col0\" >Experiment Name</td>\n                        <td id=\"T_86a54_row18_col1\" class=\"data row18 col1\" >reg-default-name</td>\n            </tr>\n            <tr>\n                        <th id=\"T_86a54_level0_row19\" class=\"row_heading level0 row19\" >19</th>\n                        <td id=\"T_86a54_row19_col0\" class=\"data row19 col0\" >USI</td>\n                        <td id=\"T_86a54_row19_col1\" class=\"data row19 col1\" >123b</td>\n            </tr>\n            <tr>\n                        <th id=\"T_86a54_level0_row20\" class=\"row_heading level0 row20\" >20</th>\n                        <td id=\"T_86a54_row20_col0\" class=\"data row20 col0\" >Imputation Type</td>\n                        <td id=\"T_86a54_row20_col1\" class=\"data row20 col1\" >simple</td>\n            </tr>\n            <tr>\n                        <th id=\"T_86a54_level0_row21\" class=\"row_heading level0 row21\" >21</th>\n                        <td id=\"T_86a54_row21_col0\" class=\"data row21 col0\" >Iterative Imputation Iteration</td>\n                        <td id=\"T_86a54_row21_col1\" class=\"data row21 col1\" >None</td>\n            </tr>\n            <tr>\n                        <th id=\"T_86a54_level0_row22\" class=\"row_heading level0 row22\" >22</th>\n                        <td id=\"T_86a54_row22_col0\" class=\"data row22 col0\" >Numeric Imputer</td>\n                        <td id=\"T_86a54_row22_col1\" class=\"data row22 col1\" >mean</td>\n            </tr>\n            <tr>\n                        <th id=\"T_86a54_level0_row23\" class=\"row_heading level0 row23\" >23</th>\n                        <td id=\"T_86a54_row23_col0\" class=\"data row23 col0\" >Iterative Imputation Numeric Model</td>\n                        <td id=\"T_86a54_row23_col1\" class=\"data row23 col1\" >None</td>\n            </tr>\n            <tr>\n                        <th id=\"T_86a54_level0_row24\" class=\"row_heading level0 row24\" >24</th>\n                        <td id=\"T_86a54_row24_col0\" class=\"data row24 col0\" >Categorical Imputer</td>\n                        <td id=\"T_86a54_row24_col1\" class=\"data row24 col1\" >constant</td>\n            </tr>\n            <tr>\n                        <th id=\"T_86a54_level0_row25\" class=\"row_heading level0 row25\" >25</th>\n                        <td id=\"T_86a54_row25_col0\" class=\"data row25 col0\" >Iterative Imputation Categorical Model</td>\n                        <td id=\"T_86a54_row25_col1\" class=\"data row25 col1\" >None</td>\n            </tr>\n            <tr>\n                        <th id=\"T_86a54_level0_row26\" class=\"row_heading level0 row26\" >26</th>\n                        <td id=\"T_86a54_row26_col0\" class=\"data row26 col0\" >Unknown Categoricals Handling</td>\n                        <td id=\"T_86a54_row26_col1\" class=\"data row26 col1\" >least_frequent</td>\n            </tr>\n            <tr>\n                        <th id=\"T_86a54_level0_row27\" class=\"row_heading level0 row27\" >27</th>\n                        <td id=\"T_86a54_row27_col0\" class=\"data row27 col0\" >Normalize</td>\n                        <td id=\"T_86a54_row27_col1\" class=\"data row27 col1\" >False</td>\n            </tr>\n            <tr>\n                        <th id=\"T_86a54_level0_row28\" class=\"row_heading level0 row28\" >28</th>\n                        <td id=\"T_86a54_row28_col0\" class=\"data row28 col0\" >Normalize Method</td>\n                        <td id=\"T_86a54_row28_col1\" class=\"data row28 col1\" >None</td>\n            </tr>\n            <tr>\n                        <th id=\"T_86a54_level0_row29\" class=\"row_heading level0 row29\" >29</th>\n                        <td id=\"T_86a54_row29_col0\" class=\"data row29 col0\" >Transformation</td>\n                        <td id=\"T_86a54_row29_col1\" class=\"data row29 col1\" >False</td>\n            </tr>\n            <tr>\n                        <th id=\"T_86a54_level0_row30\" class=\"row_heading level0 row30\" >30</th>\n                        <td id=\"T_86a54_row30_col0\" class=\"data row30 col0\" >Transformation Method</td>\n                        <td id=\"T_86a54_row30_col1\" class=\"data row30 col1\" >None</td>\n            </tr>\n            <tr>\n                        <th id=\"T_86a54_level0_row31\" class=\"row_heading level0 row31\" >31</th>\n                        <td id=\"T_86a54_row31_col0\" class=\"data row31 col0\" >PCA</td>\n                        <td id=\"T_86a54_row31_col1\" class=\"data row31 col1\" >False</td>\n            </tr>\n            <tr>\n                        <th id=\"T_86a54_level0_row32\" class=\"row_heading level0 row32\" >32</th>\n                        <td id=\"T_86a54_row32_col0\" class=\"data row32 col0\" >PCA Method</td>\n                        <td id=\"T_86a54_row32_col1\" class=\"data row32 col1\" >None</td>\n            </tr>\n            <tr>\n                        <th id=\"T_86a54_level0_row33\" class=\"row_heading level0 row33\" >33</th>\n                        <td id=\"T_86a54_row33_col0\" class=\"data row33 col0\" >PCA Components</td>\n                        <td id=\"T_86a54_row33_col1\" class=\"data row33 col1\" >None</td>\n            </tr>\n            <tr>\n                        <th id=\"T_86a54_level0_row34\" class=\"row_heading level0 row34\" >34</th>\n                        <td id=\"T_86a54_row34_col0\" class=\"data row34 col0\" >Ignore Low Variance</td>\n                        <td id=\"T_86a54_row34_col1\" class=\"data row34 col1\" >False</td>\n            </tr>\n            <tr>\n                        <th id=\"T_86a54_level0_row35\" class=\"row_heading level0 row35\" >35</th>\n                        <td id=\"T_86a54_row35_col0\" class=\"data row35 col0\" >Combine Rare Levels</td>\n                        <td id=\"T_86a54_row35_col1\" class=\"data row35 col1\" >False</td>\n            </tr>\n            <tr>\n                        <th id=\"T_86a54_level0_row36\" class=\"row_heading level0 row36\" >36</th>\n                        <td id=\"T_86a54_row36_col0\" class=\"data row36 col0\" >Rare Level Threshold</td>\n                        <td id=\"T_86a54_row36_col1\" class=\"data row36 col1\" >None</td>\n            </tr>\n            <tr>\n                        <th id=\"T_86a54_level0_row37\" class=\"row_heading level0 row37\" >37</th>\n                        <td id=\"T_86a54_row37_col0\" class=\"data row37 col0\" >Numeric Binning</td>\n                        <td id=\"T_86a54_row37_col1\" class=\"data row37 col1\" >False</td>\n            </tr>\n            <tr>\n                        <th id=\"T_86a54_level0_row38\" class=\"row_heading level0 row38\" >38</th>\n                        <td id=\"T_86a54_row38_col0\" class=\"data row38 col0\" >Remove Outliers</td>\n                        <td id=\"T_86a54_row38_col1\" class=\"data row38 col1\" >False</td>\n            </tr>\n            <tr>\n                        <th id=\"T_86a54_level0_row39\" class=\"row_heading level0 row39\" >39</th>\n                        <td id=\"T_86a54_row39_col0\" class=\"data row39 col0\" >Outliers Threshold</td>\n                        <td id=\"T_86a54_row39_col1\" class=\"data row39 col1\" >None</td>\n            </tr>\n            <tr>\n                        <th id=\"T_86a54_level0_row40\" class=\"row_heading level0 row40\" >40</th>\n                        <td id=\"T_86a54_row40_col0\" class=\"data row40 col0\" >Remove Multicollinearity</td>\n                        <td id=\"T_86a54_row40_col1\" class=\"data row40 col1\" >False</td>\n            </tr>\n            <tr>\n                        <th id=\"T_86a54_level0_row41\" class=\"row_heading level0 row41\" >41</th>\n                        <td id=\"T_86a54_row41_col0\" class=\"data row41 col0\" >Multicollinearity Threshold</td>\n                        <td id=\"T_86a54_row41_col1\" class=\"data row41 col1\" >None</td>\n            </tr>\n            <tr>\n                        <th id=\"T_86a54_level0_row42\" class=\"row_heading level0 row42\" >42</th>\n                        <td id=\"T_86a54_row42_col0\" class=\"data row42 col0\" >Clustering</td>\n                        <td id=\"T_86a54_row42_col1\" class=\"data row42 col1\" >False</td>\n            </tr>\n            <tr>\n                        <th id=\"T_86a54_level0_row43\" class=\"row_heading level0 row43\" >43</th>\n                        <td id=\"T_86a54_row43_col0\" class=\"data row43 col0\" >Clustering Iteration</td>\n                        <td id=\"T_86a54_row43_col1\" class=\"data row43 col1\" >None</td>\n            </tr>\n            <tr>\n                        <th id=\"T_86a54_level0_row44\" class=\"row_heading level0 row44\" >44</th>\n                        <td id=\"T_86a54_row44_col0\" class=\"data row44 col0\" >Polynomial Features</td>\n                        <td id=\"T_86a54_row44_col1\" class=\"data row44 col1\" >False</td>\n            </tr>\n            <tr>\n                        <th id=\"T_86a54_level0_row45\" class=\"row_heading level0 row45\" >45</th>\n                        <td id=\"T_86a54_row45_col0\" class=\"data row45 col0\" >Polynomial Degree</td>\n                        <td id=\"T_86a54_row45_col1\" class=\"data row45 col1\" >None</td>\n            </tr>\n            <tr>\n                        <th id=\"T_86a54_level0_row46\" class=\"row_heading level0 row46\" >46</th>\n                        <td id=\"T_86a54_row46_col0\" class=\"data row46 col0\" >Trignometry Features</td>\n                        <td id=\"T_86a54_row46_col1\" class=\"data row46 col1\" >False</td>\n            </tr>\n            <tr>\n                        <th id=\"T_86a54_level0_row47\" class=\"row_heading level0 row47\" >47</th>\n                        <td id=\"T_86a54_row47_col0\" class=\"data row47 col0\" >Polynomial Threshold</td>\n                        <td id=\"T_86a54_row47_col1\" class=\"data row47 col1\" >None</td>\n            </tr>\n            <tr>\n                        <th id=\"T_86a54_level0_row48\" class=\"row_heading level0 row48\" >48</th>\n                        <td id=\"T_86a54_row48_col0\" class=\"data row48 col0\" >Group Features</td>\n                        <td id=\"T_86a54_row48_col1\" class=\"data row48 col1\" >False</td>\n            </tr>\n            <tr>\n                        <th id=\"T_86a54_level0_row49\" class=\"row_heading level0 row49\" >49</th>\n                        <td id=\"T_86a54_row49_col0\" class=\"data row49 col0\" >Feature Selection</td>\n                        <td id=\"T_86a54_row49_col1\" class=\"data row49 col1\" >False</td>\n            </tr>\n            <tr>\n                        <th id=\"T_86a54_level0_row50\" class=\"row_heading level0 row50\" >50</th>\n                        <td id=\"T_86a54_row50_col0\" class=\"data row50 col0\" >Features Selection Threshold</td>\n                        <td id=\"T_86a54_row50_col1\" class=\"data row50 col1\" >None</td>\n            </tr>\n            <tr>\n                        <th id=\"T_86a54_level0_row51\" class=\"row_heading level0 row51\" >51</th>\n                        <td id=\"T_86a54_row51_col0\" class=\"data row51 col0\" >Feature Interaction</td>\n                        <td id=\"T_86a54_row51_col1\" class=\"data row51 col1\" >False</td>\n            </tr>\n            <tr>\n                        <th id=\"T_86a54_level0_row52\" class=\"row_heading level0 row52\" >52</th>\n                        <td id=\"T_86a54_row52_col0\" class=\"data row52 col0\" >Feature Ratio</td>\n                        <td id=\"T_86a54_row52_col1\" class=\"data row52 col1\" >False</td>\n            </tr>\n            <tr>\n                        <th id=\"T_86a54_level0_row53\" class=\"row_heading level0 row53\" >53</th>\n                        <td id=\"T_86a54_row53_col0\" class=\"data row53 col0\" >Interaction Threshold</td>\n                        <td id=\"T_86a54_row53_col1\" class=\"data row53 col1\" >None</td>\n            </tr>\n            <tr>\n                        <th id=\"T_86a54_level0_row54\" class=\"row_heading level0 row54\" >54</th>\n                        <td id=\"T_86a54_row54_col0\" class=\"data row54 col0\" >Transform Target</td>\n                        <td id=\"T_86a54_row54_col1\" class=\"data row54 col1\" >False</td>\n            </tr>\n            <tr>\n                        <th id=\"T_86a54_level0_row55\" class=\"row_heading level0 row55\" >55</th>\n                        <td id=\"T_86a54_row55_col0\" class=\"data row55 col0\" >Transform Target Method</td>\n                        <td id=\"T_86a54_row55_col1\" class=\"data row55 col1\" >box-cox</td>\n            </tr>\n    </tbody></table>"
     },
     "metadata": {}
    }
   ]
  },
  {
   "cell_type": "code",
   "metadata": {
    "cell_id": "00023-0b255f3f-6a3b-444c-bdc1-e81001d7c24a",
    "deepnote_cell_type": "code"
   },
   "source": "# MAE = Mean Absolute Error\n# MSE = Mean Squared Error\n# RMSE = Root Mean Squared Error\n# R2 = R-Squared\n# RMLSE = Root Mean Squared Logarithmic Error\n# MAPE = Mean Absolute Percentage Error\n# TT = Time Taken For Computation\ncompare_models(optimise=\"R2\")",
   "execution_count": null,
   "outputs": [
    {
     "output_type": "display_data",
     "data": {
      "text/plain": "<pandas.io.formats.style.Styler at 0x2660ba631c8>",
      "text/html": "<style  type=\"text/css\" >\n    #T_db327_ th {\n          text-align: left;\n    }#T_db327_row0_col0,#T_db327_row1_col0,#T_db327_row1_col1,#T_db327_row1_col2,#T_db327_row1_col3,#T_db327_row1_col4,#T_db327_row1_col5,#T_db327_row1_col6,#T_db327_row2_col0,#T_db327_row2_col1,#T_db327_row2_col2,#T_db327_row2_col3,#T_db327_row2_col4,#T_db327_row2_col5,#T_db327_row2_col6,#T_db327_row3_col0,#T_db327_row3_col1,#T_db327_row3_col2,#T_db327_row3_col3,#T_db327_row3_col4,#T_db327_row3_col5,#T_db327_row3_col6,#T_db327_row4_col0,#T_db327_row4_col1,#T_db327_row4_col2,#T_db327_row4_col3,#T_db327_row4_col4,#T_db327_row4_col5,#T_db327_row4_col6,#T_db327_row5_col0,#T_db327_row5_col1,#T_db327_row5_col2,#T_db327_row5_col3,#T_db327_row5_col4,#T_db327_row5_col5,#T_db327_row5_col6,#T_db327_row6_col0,#T_db327_row6_col1,#T_db327_row6_col2,#T_db327_row6_col3,#T_db327_row6_col4,#T_db327_row6_col5,#T_db327_row6_col6,#T_db327_row7_col0,#T_db327_row7_col1,#T_db327_row7_col2,#T_db327_row7_col3,#T_db327_row7_col4,#T_db327_row7_col5,#T_db327_row7_col6,#T_db327_row8_col0,#T_db327_row8_col1,#T_db327_row8_col2,#T_db327_row8_col3,#T_db327_row8_col4,#T_db327_row8_col5,#T_db327_row8_col6,#T_db327_row9_col0,#T_db327_row9_col1,#T_db327_row9_col2,#T_db327_row9_col3,#T_db327_row9_col4,#T_db327_row9_col5,#T_db327_row9_col6,#T_db327_row10_col0,#T_db327_row10_col1,#T_db327_row10_col2,#T_db327_row10_col3,#T_db327_row10_col4,#T_db327_row10_col5,#T_db327_row10_col6,#T_db327_row11_col0,#T_db327_row11_col1,#T_db327_row11_col2,#T_db327_row11_col3,#T_db327_row11_col4,#T_db327_row11_col5,#T_db327_row11_col6,#T_db327_row12_col0,#T_db327_row12_col1,#T_db327_row12_col2,#T_db327_row12_col3,#T_db327_row12_col4,#T_db327_row12_col5,#T_db327_row12_col6,#T_db327_row13_col0,#T_db327_row13_col1,#T_db327_row13_col2,#T_db327_row13_col3,#T_db327_row13_col4,#T_db327_row13_col5,#T_db327_row13_col6,#T_db327_row14_col0,#T_db327_row14_col1,#T_db327_row14_col2,#T_db327_row14_col3,#T_db327_row14_col4,#T_db327_row14_col5,#T_db327_row14_col6,#T_db327_row15_col0,#T_db327_row15_col1,#T_db327_row15_col2,#T_db327_row15_col3,#T_db327_row15_col4,#T_db327_row15_col5,#T_db327_row15_col6,#T_db327_row16_col0,#T_db327_row16_col1,#T_db327_row16_col2,#T_db327_row16_col3,#T_db327_row16_col4,#T_db327_row16_col5,#T_db327_row16_col6,#T_db327_row17_col0,#T_db327_row17_col1,#T_db327_row17_col2,#T_db327_row17_col3,#T_db327_row17_col4,#T_db327_row17_col5,#T_db327_row17_col6{\n            text-align:  left;\n            text-align:  left;\n        }#T_db327_row0_col1,#T_db327_row0_col2,#T_db327_row0_col3,#T_db327_row0_col4,#T_db327_row0_col5,#T_db327_row0_col6{\n            text-align:  left;\n            text-align:  left;\n            background-color:  yellow;\n        }#T_db327_row0_col7,#T_db327_row1_col7,#T_db327_row2_col7,#T_db327_row3_col7,#T_db327_row4_col7,#T_db327_row5_col7,#T_db327_row6_col7,#T_db327_row7_col7,#T_db327_row8_col7,#T_db327_row10_col7,#T_db327_row11_col7,#T_db327_row12_col7,#T_db327_row13_col7,#T_db327_row14_col7,#T_db327_row15_col7,#T_db327_row16_col7,#T_db327_row17_col7{\n            text-align:  left;\n            text-align:  left;\n            background-color:  lightgrey;\n        }#T_db327_row9_col7{\n            text-align:  left;\n            text-align:  left;\n            background-color:  yellow;\n            background-color:  lightgrey;\n        }</style><table id=\"T_db327_\" ><thead>    <tr>        <th class=\"blank level0\" ></th>        <th class=\"col_heading level0 col0\" >Model</th>        <th class=\"col_heading level0 col1\" >MAE</th>        <th class=\"col_heading level0 col2\" >MSE</th>        <th class=\"col_heading level0 col3\" >RMSE</th>        <th class=\"col_heading level0 col4\" >R2</th>        <th class=\"col_heading level0 col5\" >RMSLE</th>        <th class=\"col_heading level0 col6\" >MAPE</th>        <th class=\"col_heading level0 col7\" >TT (Sec)</th>    </tr></thead><tbody>\n                <tr>\n                        <th id=\"T_db327_level0_row0\" class=\"row_heading level0 row0\" >catboost</th>\n                        <td id=\"T_db327_row0_col0\" class=\"data row0 col0\" >CatBoost Regressor</td>\n                        <td id=\"T_db327_row0_col1\" class=\"data row0 col1\" >0.4395</td>\n                        <td id=\"T_db327_row0_col2\" class=\"data row0 col2\" >0.3181</td>\n                        <td id=\"T_db327_row0_col3\" class=\"data row0 col3\" >0.5638</td>\n                        <td id=\"T_db327_row0_col4\" class=\"data row0 col4\" >0.4554</td>\n                        <td id=\"T_db327_row0_col5\" class=\"data row0 col5\" >0.1606</td>\n                        <td id=\"T_db327_row0_col6\" class=\"data row0 col6\" >0.2502</td>\n                        <td id=\"T_db327_row0_col7\" class=\"data row0 col7\" >36.0770</td>\n            </tr>\n            <tr>\n                        <th id=\"T_db327_level0_row1\" class=\"row_heading level0 row1\" >lightgbm</th>\n                        <td id=\"T_db327_row1_col0\" class=\"data row1 col0\" >Light Gradient Boosting Machine</td>\n                        <td id=\"T_db327_row1_col1\" class=\"data row1 col1\" >0.4500</td>\n                        <td id=\"T_db327_row1_col2\" class=\"data row1 col2\" >0.3309</td>\n                        <td id=\"T_db327_row1_col3\" class=\"data row1 col3\" >0.5750</td>\n                        <td id=\"T_db327_row1_col4\" class=\"data row1 col4\" >0.4332</td>\n                        <td id=\"T_db327_row1_col5\" class=\"data row1 col5\" >0.1632</td>\n                        <td id=\"T_db327_row1_col6\" class=\"data row1 col6\" >0.2532</td>\n                        <td id=\"T_db327_row1_col7\" class=\"data row1 col7\" >1.8220</td>\n            </tr>\n            <tr>\n                        <th id=\"T_db327_level0_row2\" class=\"row_heading level0 row2\" >et</th>\n                        <td id=\"T_db327_row2_col0\" class=\"data row2 col0\" >Extra Trees Regressor</td>\n                        <td id=\"T_db327_row2_col1\" class=\"data row2 col1\" >0.4588</td>\n                        <td id=\"T_db327_row2_col2\" class=\"data row2 col2\" >0.3413</td>\n                        <td id=\"T_db327_row2_col3\" class=\"data row2 col3\" >0.5839</td>\n                        <td id=\"T_db327_row2_col4\" class=\"data row2 col4\" >0.4158</td>\n                        <td id=\"T_db327_row2_col5\" class=\"data row2 col5\" >0.1659</td>\n                        <td id=\"T_db327_row2_col6\" class=\"data row2 col6\" >0.2610</td>\n                        <td id=\"T_db327_row2_col7\" class=\"data row2 col7\" >6.5960</td>\n            </tr>\n            <tr>\n                        <th id=\"T_db327_level0_row3\" class=\"row_heading level0 row3\" >gbr</th>\n                        <td id=\"T_db327_row3_col0\" class=\"data row3 col0\" >Gradient Boosting Regressor</td>\n                        <td id=\"T_db327_row3_col1\" class=\"data row3 col1\" >0.4640</td>\n                        <td id=\"T_db327_row3_col2\" class=\"data row3 col2\" >0.3468</td>\n                        <td id=\"T_db327_row3_col3\" class=\"data row3 col3\" >0.5887</td>\n                        <td id=\"T_db327_row3_col4\" class=\"data row3 col4\" >0.4065</td>\n                        <td id=\"T_db327_row3_col5\" class=\"data row3 col5\" >0.1669</td>\n                        <td id=\"T_db327_row3_col6\" class=\"data row3 col6\" >0.2593</td>\n                        <td id=\"T_db327_row3_col7\" class=\"data row3 col7\" >5.2530</td>\n            </tr>\n            <tr>\n                        <th id=\"T_db327_level0_row4\" class=\"row_heading level0 row4\" >rf</th>\n                        <td id=\"T_db327_row4_col0\" class=\"data row4 col0\" >Random Forest Regressor</td>\n                        <td id=\"T_db327_row4_col1\" class=\"data row4 col1\" >0.4672</td>\n                        <td id=\"T_db327_row4_col2\" class=\"data row4 col2\" >0.3506</td>\n                        <td id=\"T_db327_row4_col3\" class=\"data row4 col3\" >0.5918</td>\n                        <td id=\"T_db327_row4_col4\" class=\"data row4 col4\" >0.3996</td>\n                        <td id=\"T_db327_row4_col5\" class=\"data row4 col5\" >0.1677</td>\n                        <td id=\"T_db327_row4_col6\" class=\"data row4 col6\" >0.2598</td>\n                        <td id=\"T_db327_row4_col7\" class=\"data row4 col7\" >14.6100</td>\n            </tr>\n            <tr>\n                        <th id=\"T_db327_level0_row5\" class=\"row_heading level0 row5\" >xgboost</th>\n                        <td id=\"T_db327_row5_col0\" class=\"data row5 col0\" >Extreme Gradient Boosting</td>\n                        <td id=\"T_db327_row5_col1\" class=\"data row5 col1\" >0.4732</td>\n                        <td id=\"T_db327_row5_col2\" class=\"data row5 col2\" >0.3712</td>\n                        <td id=\"T_db327_row5_col3\" class=\"data row5 col3\" >0.6090</td>\n                        <td id=\"T_db327_row5_col4\" class=\"data row5 col4\" >0.3645</td>\n                        <td id=\"T_db327_row5_col5\" class=\"data row5 col5\" >0.1714</td>\n                        <td id=\"T_db327_row5_col6\" class=\"data row5 col6\" >0.2629</td>\n                        <td id=\"T_db327_row5_col7\" class=\"data row5 col7\" >4.7850</td>\n            </tr>\n            <tr>\n                        <th id=\"T_db327_level0_row6\" class=\"row_heading level0 row6\" >br</th>\n                        <td id=\"T_db327_row6_col0\" class=\"data row6 col0\" >Bayesian Ridge</td>\n                        <td id=\"T_db327_row6_col1\" class=\"data row6 col1\" >0.4841</td>\n                        <td id=\"T_db327_row6_col2\" class=\"data row6 col2\" >0.3822</td>\n                        <td id=\"T_db327_row6_col3\" class=\"data row6 col3\" >0.6177</td>\n                        <td id=\"T_db327_row6_col4\" class=\"data row6 col4\" >0.3451</td>\n                        <td id=\"T_db327_row6_col5\" class=\"data row6 col5\" >0.1728</td>\n                        <td id=\"T_db327_row6_col6\" class=\"data row6 col6\" >0.2684</td>\n                        <td id=\"T_db327_row6_col7\" class=\"data row6 col7\" >0.0990</td>\n            </tr>\n            <tr>\n                        <th id=\"T_db327_level0_row7\" class=\"row_heading level0 row7\" >en</th>\n                        <td id=\"T_db327_row7_col0\" class=\"data row7 col0\" >Elastic Net</td>\n                        <td id=\"T_db327_row7_col1\" class=\"data row7 col1\" >0.4839</td>\n                        <td id=\"T_db327_row7_col2\" class=\"data row7 col2\" >0.3824</td>\n                        <td id=\"T_db327_row7_col3\" class=\"data row7 col3\" >0.6180</td>\n                        <td id=\"T_db327_row7_col4\" class=\"data row7 col4\" >0.3448</td>\n                        <td id=\"T_db327_row7_col5\" class=\"data row7 col5\" >0.1730</td>\n                        <td id=\"T_db327_row7_col6\" class=\"data row7 col6\" >0.2679</td>\n                        <td id=\"T_db327_row7_col7\" class=\"data row7 col7\" >0.2430</td>\n            </tr>\n            <tr>\n                        <th id=\"T_db327_level0_row8\" class=\"row_heading level0 row8\" >lasso</th>\n                        <td id=\"T_db327_row8_col0\" class=\"data row8 col0\" >Lasso Regression</td>\n                        <td id=\"T_db327_row8_col1\" class=\"data row8 col1\" >0.4886</td>\n                        <td id=\"T_db327_row8_col2\" class=\"data row8 col2\" >0.3882</td>\n                        <td id=\"T_db327_row8_col3\" class=\"data row8 col3\" >0.6227</td>\n                        <td id=\"T_db327_row8_col4\" class=\"data row8 col4\" >0.3351</td>\n                        <td id=\"T_db327_row8_col5\" class=\"data row8 col5\" >0.1746</td>\n                        <td id=\"T_db327_row8_col6\" class=\"data row8 col6\" >0.2709</td>\n                        <td id=\"T_db327_row8_col7\" class=\"data row8 col7\" >0.2860</td>\n            </tr>\n            <tr>\n                        <th id=\"T_db327_level0_row9\" class=\"row_heading level0 row9\" >omp</th>\n                        <td id=\"T_db327_row9_col0\" class=\"data row9 col0\" >Orthogonal Matching Pursuit</td>\n                        <td id=\"T_db327_row9_col1\" class=\"data row9 col1\" >0.4948</td>\n                        <td id=\"T_db327_row9_col2\" class=\"data row9 col2\" >0.3969</td>\n                        <td id=\"T_db327_row9_col3\" class=\"data row9 col3\" >0.6297</td>\n                        <td id=\"T_db327_row9_col4\" class=\"data row9 col4\" >0.3201</td>\n                        <td id=\"T_db327_row9_col5\" class=\"data row9 col5\" >0.1755</td>\n                        <td id=\"T_db327_row9_col6\" class=\"data row9 col6\" >0.2682</td>\n                        <td id=\"T_db327_row9_col7\" class=\"data row9 col7\" >0.0320</td>\n            </tr>\n            <tr>\n                        <th id=\"T_db327_level0_row10\" class=\"row_heading level0 row10\" >lr</th>\n                        <td id=\"T_db327_row10_col0\" class=\"data row10 col0\" >Linear Regression</td>\n                        <td id=\"T_db327_row10_col1\" class=\"data row10 col1\" >0.4977</td>\n                        <td id=\"T_db327_row10_col2\" class=\"data row10 col2\" >0.4167</td>\n                        <td id=\"T_db327_row10_col3\" class=\"data row10 col3\" >0.6442</td>\n                        <td id=\"T_db327_row10_col4\" class=\"data row10 col4\" >0.2862</td>\n                        <td id=\"T_db327_row10_col5\" class=\"data row10 col5\" >0.1764</td>\n                        <td id=\"T_db327_row10_col6\" class=\"data row10 col6\" >0.2754</td>\n                        <td id=\"T_db327_row10_col7\" class=\"data row10 col7\" >1.0710</td>\n            </tr>\n            <tr>\n                        <th id=\"T_db327_level0_row11\" class=\"row_heading level0 row11\" >ridge</th>\n                        <td id=\"T_db327_row11_col0\" class=\"data row11 col0\" >Ridge Regression</td>\n                        <td id=\"T_db327_row11_col1\" class=\"data row11 col1\" >0.5027</td>\n                        <td id=\"T_db327_row11_col2\" class=\"data row11 col2\" >0.4218</td>\n                        <td id=\"T_db327_row11_col3\" class=\"data row11 col3\" >0.6470</td>\n                        <td id=\"T_db327_row11_col4\" class=\"data row11 col4\" >0.2779</td>\n                        <td id=\"T_db327_row11_col5\" class=\"data row11 col5\" >0.1778</td>\n                        <td id=\"T_db327_row11_col6\" class=\"data row11 col6\" >0.2754</td>\n                        <td id=\"T_db327_row11_col7\" class=\"data row11 col7\" >0.0580</td>\n            </tr>\n            <tr>\n                        <th id=\"T_db327_level0_row12\" class=\"row_heading level0 row12\" >ada</th>\n                        <td id=\"T_db327_row12_col0\" class=\"data row12 col0\" >AdaBoost Regressor</td>\n                        <td id=\"T_db327_row12_col1\" class=\"data row12 col1\" >0.5328</td>\n                        <td id=\"T_db327_row12_col2\" class=\"data row12 col2\" >0.4524</td>\n                        <td id=\"T_db327_row12_col3\" class=\"data row12 col3\" >0.6723</td>\n                        <td id=\"T_db327_row12_col4\" class=\"data row12 col4\" >0.2255</td>\n                        <td id=\"T_db327_row12_col5\" class=\"data row12 col5\" >0.1859</td>\n                        <td id=\"T_db327_row12_col6\" class=\"data row12 col6\" >0.2802</td>\n                        <td id=\"T_db327_row12_col7\" class=\"data row12 col7\" >2.9250</td>\n            </tr>\n            <tr>\n                        <th id=\"T_db327_level0_row13\" class=\"row_heading level0 row13\" >llar</th>\n                        <td id=\"T_db327_row13_col0\" class=\"data row13 col0\" >Lasso Least Angle Regression</td>\n                        <td id=\"T_db327_row13_col1\" class=\"data row13 col1\" >0.5633</td>\n                        <td id=\"T_db327_row13_col2\" class=\"data row13 col2\" >0.5862</td>\n                        <td id=\"T_db327_row13_col3\" class=\"data row13 col3\" >0.7655</td>\n                        <td id=\"T_db327_row13_col4\" class=\"data row13 col4\" >-0.0026</td>\n                        <td id=\"T_db327_row13_col5\" class=\"data row13 col5\" >0.2165</td>\n                        <td id=\"T_db327_row13_col6\" class=\"data row13 col6\" >0.3276</td>\n                        <td id=\"T_db327_row13_col7\" class=\"data row13 col7\" >0.8740</td>\n            </tr>\n            <tr>\n                        <th id=\"T_db327_level0_row14\" class=\"row_heading level0 row14\" >knn</th>\n                        <td id=\"T_db327_row14_col0\" class=\"data row14 col0\" >K Neighbors Regressor</td>\n                        <td id=\"T_db327_row14_col1\" class=\"data row14 col1\" >0.6078</td>\n                        <td id=\"T_db327_row14_col2\" class=\"data row14 col2\" >0.5937</td>\n                        <td id=\"T_db327_row14_col3\" class=\"data row14 col3\" >0.7700</td>\n                        <td id=\"T_db327_row14_col4\" class=\"data row14 col4\" >-0.0152</td>\n                        <td id=\"T_db327_row14_col5\" class=\"data row14 col5\" >0.2133</td>\n                        <td id=\"T_db327_row14_col6\" class=\"data row14 col6\" >0.3255</td>\n                        <td id=\"T_db327_row14_col7\" class=\"data row14 col7\" >0.1650</td>\n            </tr>\n            <tr>\n                        <th id=\"T_db327_level0_row15\" class=\"row_heading level0 row15\" >dt</th>\n                        <td id=\"T_db327_row15_col0\" class=\"data row15 col0\" >Decision Tree Regressor</td>\n                        <td id=\"T_db327_row15_col1\" class=\"data row15 col1\" >0.6179</td>\n                        <td id=\"T_db327_row15_col2\" class=\"data row15 col2\" >0.7349</td>\n                        <td id=\"T_db327_row15_col3\" class=\"data row15 col3\" >0.8565</td>\n                        <td id=\"T_db327_row15_col4\" class=\"data row15 col4\" >-0.2609</td>\n                        <td id=\"T_db327_row15_col5\" class=\"data row15 col5\" >0.2417</td>\n                        <td id=\"T_db327_row15_col6\" class=\"data row15 col6\" >0.2939</td>\n                        <td id=\"T_db327_row15_col7\" class=\"data row15 col7\" >0.4020</td>\n            </tr>\n            <tr>\n                        <th id=\"T_db327_level0_row16\" class=\"row_heading level0 row16\" >huber</th>\n                        <td id=\"T_db327_row16_col0\" class=\"data row16 col0\" >Huber Regressor</td>\n                        <td id=\"T_db327_row16_col1\" class=\"data row16 col1\" >0.7958</td>\n                        <td id=\"T_db327_row16_col2\" class=\"data row16 col2\" >1.0668</td>\n                        <td id=\"T_db327_row16_col3\" class=\"data row16 col3\" >1.0320</td>\n                        <td id=\"T_db327_row16_col4\" class=\"data row16 col4\" >-0.8302</td>\n                        <td id=\"T_db327_row16_col5\" class=\"data row16 col5\" >0.2762</td>\n                        <td id=\"T_db327_row16_col6\" class=\"data row16 col6\" >0.4010</td>\n                        <td id=\"T_db327_row16_col7\" class=\"data row16 col7\" >0.8750</td>\n            </tr>\n            <tr>\n                        <th id=\"T_db327_level0_row17\" class=\"row_heading level0 row17\" >par</th>\n                        <td id=\"T_db327_row17_col0\" class=\"data row17 col0\" >Passive Aggressive Regressor</td>\n                        <td id=\"T_db327_row17_col1\" class=\"data row17 col1\" >1.5735</td>\n                        <td id=\"T_db327_row17_col2\" class=\"data row17 col2\" >6.4843</td>\n                        <td id=\"T_db327_row17_col3\" class=\"data row17 col3\" >2.0655</td>\n                        <td id=\"T_db327_row17_col4\" class=\"data row17 col4\" >-10.3018</td>\n                        <td id=\"T_db327_row17_col5\" class=\"data row17 col5\" >0.4338</td>\n                        <td id=\"T_db327_row17_col6\" class=\"data row17 col6\" >0.7160</td>\n                        <td id=\"T_db327_row17_col7\" class=\"data row17 col7\" >0.0800</td>\n            </tr>\n    </tbody></table>"
     },
     "metadata": {}
    },
    {
     "output_type": "execute_result",
     "data": {
      "text/plain": "<catboost.core.CatBoostRegressor at 0x2660e154ec8>"
     },
     "metadata": {},
     "execution_count": 7
    }
   ]
  },
  {
   "cell_type": "code",
   "metadata": {
    "tags": [],
    "output_cleared": false,
    "source_hash": "1f78b91d",
    "execution_start": 1608741462633,
    "execution_millis": 5231,
    "cell_id": "00024-affbe6e0-d970-42e4-ad65-9ac140722f85",
    "deepnote_cell_type": "code"
   },
   "source": "cat = create_model(\"catboost\")",
   "execution_count": null,
   "outputs": [
    {
     "output_type": "display_data",
     "data": {
      "text/plain": "<pandas.io.formats.style.Styler at 0x26608381dc8>",
      "text/html": "<style  type=\"text/css\" >\n#T_9ad6d_row10_col0,#T_9ad6d_row10_col1,#T_9ad6d_row10_col2,#T_9ad6d_row10_col3,#T_9ad6d_row10_col4,#T_9ad6d_row10_col5{\n            background:  yellow;\n        }</style><table id=\"T_9ad6d_\" ><thead>    <tr>        <th class=\"blank level0\" ></th>        <th class=\"col_heading level0 col0\" >MAE</th>        <th class=\"col_heading level0 col1\" >MSE</th>        <th class=\"col_heading level0 col2\" >RMSE</th>        <th class=\"col_heading level0 col3\" >R2</th>        <th class=\"col_heading level0 col4\" >RMSLE</th>        <th class=\"col_heading level0 col5\" >MAPE</th>    </tr></thead><tbody>\n                <tr>\n                        <th id=\"T_9ad6d_level0_row0\" class=\"row_heading level0 row0\" >0</th>\n                        <td id=\"T_9ad6d_row0_col0\" class=\"data row0 col0\" >0.4421</td>\n                        <td id=\"T_9ad6d_row0_col1\" class=\"data row0 col1\" >0.3385</td>\n                        <td id=\"T_9ad6d_row0_col2\" class=\"data row0 col2\" >0.5818</td>\n                        <td id=\"T_9ad6d_row0_col3\" class=\"data row0 col3\" >0.4295</td>\n                        <td id=\"T_9ad6d_row0_col4\" class=\"data row0 col4\" >0.1717</td>\n                        <td id=\"T_9ad6d_row0_col5\" class=\"data row0 col5\" >0.2085</td>\n            </tr>\n            <tr>\n                        <th id=\"T_9ad6d_level0_row1\" class=\"row_heading level0 row1\" >1</th>\n                        <td id=\"T_9ad6d_row1_col0\" class=\"data row1 col0\" >0.4342</td>\n                        <td id=\"T_9ad6d_row1_col1\" class=\"data row1 col1\" >0.3156</td>\n                        <td id=\"T_9ad6d_row1_col2\" class=\"data row1 col2\" >0.5617</td>\n                        <td id=\"T_9ad6d_row1_col3\" class=\"data row1 col3\" >0.4458</td>\n                        <td id=\"T_9ad6d_row1_col4\" class=\"data row1 col4\" >0.1612</td>\n                        <td id=\"T_9ad6d_row1_col5\" class=\"data row1 col5\" >0.3567</td>\n            </tr>\n            <tr>\n                        <th id=\"T_9ad6d_level0_row2\" class=\"row_heading level0 row2\" >2</th>\n                        <td id=\"T_9ad6d_row2_col0\" class=\"data row2 col0\" >0.4432</td>\n                        <td id=\"T_9ad6d_row2_col1\" class=\"data row2 col1\" >0.3160</td>\n                        <td id=\"T_9ad6d_row2_col2\" class=\"data row2 col2\" >0.5622</td>\n                        <td id=\"T_9ad6d_row2_col3\" class=\"data row2 col3\" >0.4486</td>\n                        <td id=\"T_9ad6d_row2_col4\" class=\"data row2 col4\" >0.1581</td>\n                        <td id=\"T_9ad6d_row2_col5\" class=\"data row2 col5\" >0.1823</td>\n            </tr>\n            <tr>\n                        <th id=\"T_9ad6d_level0_row3\" class=\"row_heading level0 row3\" >3</th>\n                        <td id=\"T_9ad6d_row3_col0\" class=\"data row3 col0\" >0.4553</td>\n                        <td id=\"T_9ad6d_row3_col1\" class=\"data row3 col1\" >0.3282</td>\n                        <td id=\"T_9ad6d_row3_col2\" class=\"data row3 col2\" >0.5729</td>\n                        <td id=\"T_9ad6d_row3_col3\" class=\"data row3 col3\" >0.4063</td>\n                        <td id=\"T_9ad6d_row3_col4\" class=\"data row3 col4\" >0.1531</td>\n                        <td id=\"T_9ad6d_row3_col5\" class=\"data row3 col5\" >0.1709</td>\n            </tr>\n            <tr>\n                        <th id=\"T_9ad6d_level0_row4\" class=\"row_heading level0 row4\" >4</th>\n                        <td id=\"T_9ad6d_row4_col0\" class=\"data row4 col0\" >0.4462</td>\n                        <td id=\"T_9ad6d_row4_col1\" class=\"data row4 col1\" >0.3347</td>\n                        <td id=\"T_9ad6d_row4_col2\" class=\"data row4 col2\" >0.5785</td>\n                        <td id=\"T_9ad6d_row4_col3\" class=\"data row4 col3\" >0.4613</td>\n                        <td id=\"T_9ad6d_row4_col4\" class=\"data row4 col4\" >0.1678</td>\n                        <td id=\"T_9ad6d_row4_col5\" class=\"data row4 col5\" >0.1770</td>\n            </tr>\n            <tr>\n                        <th id=\"T_9ad6d_level0_row5\" class=\"row_heading level0 row5\" >5</th>\n                        <td id=\"T_9ad6d_row5_col0\" class=\"data row5 col0\" >0.4545</td>\n                        <td id=\"T_9ad6d_row5_col1\" class=\"data row5 col1\" >0.3235</td>\n                        <td id=\"T_9ad6d_row5_col2\" class=\"data row5 col2\" >0.5688</td>\n                        <td id=\"T_9ad6d_row5_col3\" class=\"data row5 col3\" >0.4214</td>\n                        <td id=\"T_9ad6d_row5_col4\" class=\"data row5 col4\" >0.1619</td>\n                        <td id=\"T_9ad6d_row5_col5\" class=\"data row5 col5\" >0.2984</td>\n            </tr>\n            <tr>\n                        <th id=\"T_9ad6d_level0_row6\" class=\"row_heading level0 row6\" >6</th>\n                        <td id=\"T_9ad6d_row6_col0\" class=\"data row6 col0\" >0.4402</td>\n                        <td id=\"T_9ad6d_row6_col1\" class=\"data row6 col1\" >0.3106</td>\n                        <td id=\"T_9ad6d_row6_col2\" class=\"data row6 col2\" >0.5573</td>\n                        <td id=\"T_9ad6d_row6_col3\" class=\"data row6 col3\" >0.4915</td>\n                        <td id=\"T_9ad6d_row6_col4\" class=\"data row6 col4\" >0.1559</td>\n                        <td id=\"T_9ad6d_row6_col5\" class=\"data row6 col5\" >0.1957</td>\n            </tr>\n            <tr>\n                        <th id=\"T_9ad6d_level0_row7\" class=\"row_heading level0 row7\" >7</th>\n                        <td id=\"T_9ad6d_row7_col0\" class=\"data row7 col0\" >0.4325</td>\n                        <td id=\"T_9ad6d_row7_col1\" class=\"data row7 col1\" >0.3275</td>\n                        <td id=\"T_9ad6d_row7_col2\" class=\"data row7 col2\" >0.5723</td>\n                        <td id=\"T_9ad6d_row7_col3\" class=\"data row7 col3\" >0.4750</td>\n                        <td id=\"T_9ad6d_row7_col4\" class=\"data row7 col4\" >0.1729</td>\n                        <td id=\"T_9ad6d_row7_col5\" class=\"data row7 col5\" >0.5544</td>\n            </tr>\n            <tr>\n                        <th id=\"T_9ad6d_level0_row8\" class=\"row_heading level0 row8\" >8</th>\n                        <td id=\"T_9ad6d_row8_col0\" class=\"data row8 col0\" >0.4056</td>\n                        <td id=\"T_9ad6d_row8_col1\" class=\"data row8 col1\" >0.2790</td>\n                        <td id=\"T_9ad6d_row8_col2\" class=\"data row8 col2\" >0.5282</td>\n                        <td id=\"T_9ad6d_row8_col3\" class=\"data row8 col3\" >0.5157</td>\n                        <td id=\"T_9ad6d_row8_col4\" class=\"data row8 col4\" >0.1552</td>\n                        <td id=\"T_9ad6d_row8_col5\" class=\"data row8 col5\" >0.1905</td>\n            </tr>\n            <tr>\n                        <th id=\"T_9ad6d_level0_row9\" class=\"row_heading level0 row9\" >9</th>\n                        <td id=\"T_9ad6d_row9_col0\" class=\"data row9 col0\" >0.4411</td>\n                        <td id=\"T_9ad6d_row9_col1\" class=\"data row9 col1\" >0.3072</td>\n                        <td id=\"T_9ad6d_row9_col2\" class=\"data row9 col2\" >0.5542</td>\n                        <td id=\"T_9ad6d_row9_col3\" class=\"data row9 col3\" >0.4584</td>\n                        <td id=\"T_9ad6d_row9_col4\" class=\"data row9 col4\" >0.1483</td>\n                        <td id=\"T_9ad6d_row9_col5\" class=\"data row9 col5\" >0.1677</td>\n            </tr>\n            <tr>\n                        <th id=\"T_9ad6d_level0_row10\" class=\"row_heading level0 row10\" >Mean</th>\n                        <td id=\"T_9ad6d_row10_col0\" class=\"data row10 col0\" >0.4395</td>\n                        <td id=\"T_9ad6d_row10_col1\" class=\"data row10 col1\" >0.3181</td>\n                        <td id=\"T_9ad6d_row10_col2\" class=\"data row10 col2\" >0.5638</td>\n                        <td id=\"T_9ad6d_row10_col3\" class=\"data row10 col3\" >0.4554</td>\n                        <td id=\"T_9ad6d_row10_col4\" class=\"data row10 col4\" >0.1606</td>\n                        <td id=\"T_9ad6d_row10_col5\" class=\"data row10 col5\" >0.2502</td>\n            </tr>\n            <tr>\n                        <th id=\"T_9ad6d_level0_row11\" class=\"row_heading level0 row11\" >SD</th>\n                        <td id=\"T_9ad6d_row11_col0\" class=\"data row11 col0\" >0.0133</td>\n                        <td id=\"T_9ad6d_row11_col1\" class=\"data row11 col1\" >0.0162</td>\n                        <td id=\"T_9ad6d_row11_col2\" class=\"data row11 col2\" >0.0146</td>\n                        <td id=\"T_9ad6d_row11_col3\" class=\"data row11 col3\" >0.0312</td>\n                        <td id=\"T_9ad6d_row11_col4\" class=\"data row11 col4\" >0.0077</td>\n                        <td id=\"T_9ad6d_row11_col5\" class=\"data row11 col5\" >0.1173</td>\n            </tr>\n    </tbody></table>"
     },
     "metadata": {}
    }
   ]
  },
  {
   "cell_type": "code",
   "metadata": {
    "tags": [],
    "cell_id": "00027-2be846f6-225a-4b77-b928-6753bbfdca24",
    "deepnote_cell_type": "code"
   },
   "source": "tuned_cat = tune_model(cat)",
   "execution_count": null,
   "outputs": []
  },
  {
   "cell_type": "code",
   "metadata": {
    "tags": [],
    "output_cleared": false,
    "cell_id": "00025-dd9e767d-3ba8-4e29-a721-0fe64e3235a1",
    "deepnote_cell_type": "code"
   },
   "source": "interpret_model(cat)",
   "execution_count": null,
   "outputs": [
    {
     "output_type": "display_data",
     "data": {
      "text/plain": "<Figure size 576x684 with 2 Axes>",
      "image/svg+xml": "<?xml version=\"1.0\" encoding=\"utf-8\" standalone=\"no\"?>\r\n<!DOCTYPE svg PUBLIC \"-//W3C//DTD SVG 1.1//EN\"\r\n  \"http://www.w3.org/Graphics/SVG/1.1/DTD/svg11.dtd\">\r\n<!-- Created with matplotlib (https://matplotlib.org/) -->\r\n<svg height=\"569.226641pt\" version=\"1.1\" viewBox=\"0 0 879.516697 569.226641\" width=\"879.516697pt\" xmlns=\"http://www.w3.org/2000/svg\" xmlns:xlink=\"http://www.w3.org/1999/xlink\">\r\n <metadata>\r\n  <rdf:RDF xmlns:cc=\"http://creativecommons.org/ns#\" xmlns:dc=\"http://purl.org/dc/elements/1.1/\" xmlns:rdf=\"http://www.w3.org/1999/02/22-rdf-syntax-ns#\">\r\n   <cc:Work>\r\n    <dc:type rdf:resource=\"http://purl.org/dc/dcmitype/StillImage\"/>\r\n    <dc:date>2021-01-21T18:31:12.318065</dc:date>\r\n    <dc:format>image/svg+xml</dc:format>\r\n    <dc:creator>\r\n     <cc:Agent>\r\n      <dc:title>Matplotlib v3.3.2, https://matplotlib.org/</dc:title>\r\n     </cc:Agent>\r\n    </dc:creator>\r\n   </cc:Work>\r\n  </rdf:RDF>\r\n </metadata>\r\n <defs>\r\n  <style type=\"text/css\">*{stroke-linecap:butt;stroke-linejoin:round;}</style>\r\n </defs>\r\n <g id=\"figure_1\">\r\n  <g id=\"patch_1\">\r\n   <path d=\"M 0 569.226641 \r\nL 879.516697 569.226641 \r\nL 879.516697 0 \r\nL 0 0 \r\nz\r\n\" style=\"fill:none;\"/>\r\n  </g>\r\n  <g id=\"axes_1\">\r\n   <g id=\"patch_2\">\r\n    <path d=\"M 448.363594 527.799141 \r\nL 805.483594 527.799141 \r\nL 805.483594 11.379141 \r\nL 448.363594 11.379141 \r\nz\r\n\" style=\"fill:#ffffff;\"/>\r\n   </g>\r\n   <g id=\"line2d_1\">\r\n    <path clip-path=\"url(#p5178528180)\" d=\"M 627.697631 527.799141 \r\nL 627.697631 11.379141 \r\n\" style=\"fill:none;stroke:#999999;stroke-linecap:square;stroke-width:1.5;\"/>\r\n   </g>\r\n   <g id=\"line2d_2\">\r\n    <path clip-path=\"url(#p5178528180)\" d=\"M 448.363594 503.207712 \r\nL 805.483594 503.207712 \r\n\" style=\"fill:none;stroke:#cccccc;stroke-dasharray:0.5,2.5;stroke-dashoffset:0;stroke-width:0.5;\"/>\r\n   </g>\r\n   <g id=\"line2d_3\">\r\n    <path clip-path=\"url(#p5178528180)\" d=\"M 448.363594 478.616283 \r\nL 805.483594 478.616283 \r\n\" style=\"fill:none;stroke:#cccccc;stroke-dasharray:0.5,2.5;stroke-dashoffset:0;stroke-width:0.5;\"/>\r\n   </g>\r\n   <g id=\"line2d_4\">\r\n    <path clip-path=\"url(#p5178528180)\" d=\"M 448.363594 454.024855 \r\nL 805.483594 454.024855 \r\n\" style=\"fill:none;stroke:#cccccc;stroke-dasharray:0.5,2.5;stroke-dashoffset:0;stroke-width:0.5;\"/>\r\n   </g>\r\n   <g id=\"line2d_5\">\r\n    <path clip-path=\"url(#p5178528180)\" d=\"M 448.363594 429.433426 \r\nL 805.483594 429.433426 \r\n\" style=\"fill:none;stroke:#cccccc;stroke-dasharray:0.5,2.5;stroke-dashoffset:0;stroke-width:0.5;\"/>\r\n   </g>\r\n   <g id=\"line2d_6\">\r\n    <path clip-path=\"url(#p5178528180)\" d=\"M 448.363594 404.841998 \r\nL 805.483594 404.841998 \r\n\" style=\"fill:none;stroke:#cccccc;stroke-dasharray:0.5,2.5;stroke-dashoffset:0;stroke-width:0.5;\"/>\r\n   </g>\r\n   <g id=\"line2d_7\">\r\n    <path clip-path=\"url(#p5178528180)\" d=\"M 448.363594 380.250569 \r\nL 805.483594 380.250569 \r\n\" style=\"fill:none;stroke:#cccccc;stroke-dasharray:0.5,2.5;stroke-dashoffset:0;stroke-width:0.5;\"/>\r\n   </g>\r\n   <g id=\"line2d_8\">\r\n    <path clip-path=\"url(#p5178528180)\" d=\"M 448.363594 355.659141 \r\nL 805.483594 355.659141 \r\n\" style=\"fill:none;stroke:#cccccc;stroke-dasharray:0.5,2.5;stroke-dashoffset:0;stroke-width:0.5;\"/>\r\n   </g>\r\n   <g id=\"line2d_9\">\r\n    <path clip-path=\"url(#p5178528180)\" d=\"M 448.363594 331.067712 \r\nL 805.483594 331.067712 \r\n\" style=\"fill:none;stroke:#cccccc;stroke-dasharray:0.5,2.5;stroke-dashoffset:0;stroke-width:0.5;\"/>\r\n   </g>\r\n   <g id=\"line2d_10\">\r\n    <path clip-path=\"url(#p5178528180)\" d=\"M 448.363594 306.476283 \r\nL 805.483594 306.476283 \r\n\" style=\"fill:none;stroke:#cccccc;stroke-dasharray:0.5,2.5;stroke-dashoffset:0;stroke-width:0.5;\"/>\r\n   </g>\r\n   <g id=\"line2d_11\">\r\n    <path clip-path=\"url(#p5178528180)\" d=\"M 448.363594 281.884855 \r\nL 805.483594 281.884855 \r\n\" style=\"fill:none;stroke:#cccccc;stroke-dasharray:0.5,2.5;stroke-dashoffset:0;stroke-width:0.5;\"/>\r\n   </g>\r\n   <g id=\"line2d_12\">\r\n    <path clip-path=\"url(#p5178528180)\" d=\"M 448.363594 257.293426 \r\nL 805.483594 257.293426 \r\n\" style=\"fill:none;stroke:#cccccc;stroke-dasharray:0.5,2.5;stroke-dashoffset:0;stroke-width:0.5;\"/>\r\n   </g>\r\n   <g id=\"line2d_13\">\r\n    <path clip-path=\"url(#p5178528180)\" d=\"M 448.363594 232.701998 \r\nL 805.483594 232.701998 \r\n\" style=\"fill:none;stroke:#cccccc;stroke-dasharray:0.5,2.5;stroke-dashoffset:0;stroke-width:0.5;\"/>\r\n   </g>\r\n   <g id=\"line2d_14\">\r\n    <path clip-path=\"url(#p5178528180)\" d=\"M 448.363594 208.110569 \r\nL 805.483594 208.110569 \r\n\" style=\"fill:none;stroke:#cccccc;stroke-dasharray:0.5,2.5;stroke-dashoffset:0;stroke-width:0.5;\"/>\r\n   </g>\r\n   <g id=\"line2d_15\">\r\n    <path clip-path=\"url(#p5178528180)\" d=\"M 448.363594 183.519141 \r\nL 805.483594 183.519141 \r\n\" style=\"fill:none;stroke:#cccccc;stroke-dasharray:0.5,2.5;stroke-dashoffset:0;stroke-width:0.5;\"/>\r\n   </g>\r\n   <g id=\"line2d_16\">\r\n    <path clip-path=\"url(#p5178528180)\" d=\"M 448.363594 158.927712 \r\nL 805.483594 158.927712 \r\n\" style=\"fill:none;stroke:#cccccc;stroke-dasharray:0.5,2.5;stroke-dashoffset:0;stroke-width:0.5;\"/>\r\n   </g>\r\n   <g id=\"line2d_17\">\r\n    <path clip-path=\"url(#p5178528180)\" d=\"M 448.363594 134.336283 \r\nL 805.483594 134.336283 \r\n\" style=\"fill:none;stroke:#cccccc;stroke-dasharray:0.5,2.5;stroke-dashoffset:0;stroke-width:0.5;\"/>\r\n   </g>\r\n   <g id=\"line2d_18\">\r\n    <path clip-path=\"url(#p5178528180)\" d=\"M 448.363594 109.744855 \r\nL 805.483594 109.744855 \r\n\" style=\"fill:none;stroke:#cccccc;stroke-dasharray:0.5,2.5;stroke-dashoffset:0;stroke-width:0.5;\"/>\r\n   </g>\r\n   <g id=\"line2d_19\">\r\n    <path clip-path=\"url(#p5178528180)\" d=\"M 448.363594 85.153426 \r\nL 805.483594 85.153426 \r\n\" style=\"fill:none;stroke:#cccccc;stroke-dasharray:0.5,2.5;stroke-dashoffset:0;stroke-width:0.5;\"/>\r\n   </g>\r\n   <g id=\"line2d_20\">\r\n    <path clip-path=\"url(#p5178528180)\" d=\"M 448.363594 60.561998 \r\nL 805.483594 60.561998 \r\n\" style=\"fill:none;stroke:#cccccc;stroke-dasharray:0.5,2.5;stroke-dashoffset:0;stroke-width:0.5;\"/>\r\n   </g>\r\n   <g id=\"line2d_21\">\r\n    <path clip-path=\"url(#p5178528180)\" d=\"M 448.363594 35.970569 \r\nL 805.483594 35.970569 \r\n\" style=\"fill:none;stroke:#cccccc;stroke-dasharray:0.5,2.5;stroke-dashoffset:0;stroke-width:0.5;\"/>\r\n   </g>\r\n   <g id=\"matplotlib.axis_1\">\r\n    <g id=\"xtick_1\">\r\n     <g id=\"line2d_22\">\r\n      <defs>\r\n       <path d=\"M 0 0 \r\nL 0 3.5 \r\n\" id=\"me2a749d843\" style=\"stroke:#333333;stroke-width:0.8;\"/>\r\n      </defs>\r\n      <g>\r\n       <use style=\"fill:#333333;stroke:#333333;stroke-width:0.8;\" x=\"471.308391\" xlink:href=\"#me2a749d843\" y=\"527.799141\"/>\r\n      </g>\r\n     </g>\r\n     <g id=\"text_1\">\r\n      <!-- −0.3 -->\r\n      <g style=\"fill:#333333;\" transform=\"translate(457.952844 543.157422)scale(0.11 -0.11)\">\r\n       <defs>\r\n        <path d=\"M 10.59375 35.5 \r\nL 73.1875 35.5 \r\nL 73.1875 27.203125 \r\nL 10.59375 27.203125 \r\nz\r\n\" id=\"DejaVuSans-8722\"/>\r\n        <path d=\"M 31.78125 66.40625 \r\nQ 24.171875 66.40625 20.328125 58.90625 \r\nQ 16.5 51.421875 16.5 36.375 \r\nQ 16.5 21.390625 20.328125 13.890625 \r\nQ 24.171875 6.390625 31.78125 6.390625 \r\nQ 39.453125 6.390625 43.28125 13.890625 \r\nQ 47.125 21.390625 47.125 36.375 \r\nQ 47.125 51.421875 43.28125 58.90625 \r\nQ 39.453125 66.40625 31.78125 66.40625 \r\nz\r\nM 31.78125 74.21875 \r\nQ 44.046875 74.21875 50.515625 64.515625 \r\nQ 56.984375 54.828125 56.984375 36.375 \r\nQ 56.984375 17.96875 50.515625 8.265625 \r\nQ 44.046875 -1.421875 31.78125 -1.421875 \r\nQ 19.53125 -1.421875 13.0625 8.265625 \r\nQ 6.59375 17.96875 6.59375 36.375 \r\nQ 6.59375 54.828125 13.0625 64.515625 \r\nQ 19.53125 74.21875 31.78125 74.21875 \r\nz\r\n\" id=\"DejaVuSans-48\"/>\r\n        <path d=\"M 10.6875 12.40625 \r\nL 21 12.40625 \r\nL 21 0 \r\nL 10.6875 0 \r\nz\r\n\" id=\"DejaVuSans-46\"/>\r\n        <path d=\"M 40.578125 39.3125 \r\nQ 47.65625 37.796875 51.625 33 \r\nQ 55.609375 28.21875 55.609375 21.1875 \r\nQ 55.609375 10.40625 48.1875 4.484375 \r\nQ 40.765625 -1.421875 27.09375 -1.421875 \r\nQ 22.515625 -1.421875 17.65625 -0.515625 \r\nQ 12.796875 0.390625 7.625 2.203125 \r\nL 7.625 11.71875 \r\nQ 11.71875 9.328125 16.59375 8.109375 \r\nQ 21.484375 6.890625 26.8125 6.890625 \r\nQ 36.078125 6.890625 40.9375 10.546875 \r\nQ 45.796875 14.203125 45.796875 21.1875 \r\nQ 45.796875 27.640625 41.28125 31.265625 \r\nQ 36.765625 34.90625 28.71875 34.90625 \r\nL 20.21875 34.90625 \r\nL 20.21875 43.015625 \r\nL 29.109375 43.015625 \r\nQ 36.375 43.015625 40.234375 45.921875 \r\nQ 44.09375 48.828125 44.09375 54.296875 \r\nQ 44.09375 59.90625 40.109375 62.90625 \r\nQ 36.140625 65.921875 28.71875 65.921875 \r\nQ 24.65625 65.921875 20.015625 65.03125 \r\nQ 15.375 64.15625 9.8125 62.3125 \r\nL 9.8125 71.09375 \r\nQ 15.4375 72.65625 20.34375 73.4375 \r\nQ 25.25 74.21875 29.59375 74.21875 \r\nQ 40.828125 74.21875 47.359375 69.109375 \r\nQ 53.90625 64.015625 53.90625 55.328125 \r\nQ 53.90625 49.265625 50.4375 45.09375 \r\nQ 46.96875 40.921875 40.578125 39.3125 \r\nz\r\n\" id=\"DejaVuSans-51\"/>\r\n       </defs>\r\n       <use xlink:href=\"#DejaVuSans-8722\"/>\r\n       <use x=\"83.789062\" xlink:href=\"#DejaVuSans-48\"/>\r\n       <use x=\"147.412109\" xlink:href=\"#DejaVuSans-46\"/>\r\n       <use x=\"179.199219\" xlink:href=\"#DejaVuSans-51\"/>\r\n      </g>\r\n     </g>\r\n    </g>\r\n    <g id=\"xtick_2\">\r\n     <g id=\"line2d_23\">\r\n      <g>\r\n       <use style=\"fill:#333333;stroke:#333333;stroke-width:0.8;\" x=\"523.438138\" xlink:href=\"#me2a749d843\" y=\"527.799141\"/>\r\n      </g>\r\n     </g>\r\n     <g id=\"text_2\">\r\n      <!-- −0.2 -->\r\n      <g style=\"fill:#333333;\" transform=\"translate(510.082591 543.157422)scale(0.11 -0.11)\">\r\n       <defs>\r\n        <path d=\"M 19.1875 8.296875 \r\nL 53.609375 8.296875 \r\nL 53.609375 0 \r\nL 7.328125 0 \r\nL 7.328125 8.296875 \r\nQ 12.9375 14.109375 22.625 23.890625 \r\nQ 32.328125 33.6875 34.8125 36.53125 \r\nQ 39.546875 41.84375 41.421875 45.53125 \r\nQ 43.3125 49.21875 43.3125 52.78125 \r\nQ 43.3125 58.59375 39.234375 62.25 \r\nQ 35.15625 65.921875 28.609375 65.921875 \r\nQ 23.96875 65.921875 18.8125 64.3125 \r\nQ 13.671875 62.703125 7.8125 59.421875 \r\nL 7.8125 69.390625 \r\nQ 13.765625 71.78125 18.9375 73 \r\nQ 24.125 74.21875 28.421875 74.21875 \r\nQ 39.75 74.21875 46.484375 68.546875 \r\nQ 53.21875 62.890625 53.21875 53.421875 \r\nQ 53.21875 48.921875 51.53125 44.890625 \r\nQ 49.859375 40.875 45.40625 35.40625 \r\nQ 44.1875 33.984375 37.640625 27.21875 \r\nQ 31.109375 20.453125 19.1875 8.296875 \r\nz\r\n\" id=\"DejaVuSans-50\"/>\r\n       </defs>\r\n       <use xlink:href=\"#DejaVuSans-8722\"/>\r\n       <use x=\"83.789062\" xlink:href=\"#DejaVuSans-48\"/>\r\n       <use x=\"147.412109\" xlink:href=\"#DejaVuSans-46\"/>\r\n       <use x=\"179.199219\" xlink:href=\"#DejaVuSans-50\"/>\r\n      </g>\r\n     </g>\r\n    </g>\r\n    <g id=\"xtick_3\">\r\n     <g id=\"line2d_24\">\r\n      <g>\r\n       <use style=\"fill:#333333;stroke:#333333;stroke-width:0.8;\" x=\"575.567884\" xlink:href=\"#me2a749d843\" y=\"527.799141\"/>\r\n      </g>\r\n     </g>\r\n     <g id=\"text_3\">\r\n      <!-- −0.1 -->\r\n      <g style=\"fill:#333333;\" transform=\"translate(562.212337 543.157422)scale(0.11 -0.11)\">\r\n       <defs>\r\n        <path d=\"M 12.40625 8.296875 \r\nL 28.515625 8.296875 \r\nL 28.515625 63.921875 \r\nL 10.984375 60.40625 \r\nL 10.984375 69.390625 \r\nL 28.421875 72.90625 \r\nL 38.28125 72.90625 \r\nL 38.28125 8.296875 \r\nL 54.390625 8.296875 \r\nL 54.390625 0 \r\nL 12.40625 0 \r\nz\r\n\" id=\"DejaVuSans-49\"/>\r\n       </defs>\r\n       <use xlink:href=\"#DejaVuSans-8722\"/>\r\n       <use x=\"83.789062\" xlink:href=\"#DejaVuSans-48\"/>\r\n       <use x=\"147.412109\" xlink:href=\"#DejaVuSans-46\"/>\r\n       <use x=\"179.199219\" xlink:href=\"#DejaVuSans-49\"/>\r\n      </g>\r\n     </g>\r\n    </g>\r\n    <g id=\"xtick_4\">\r\n     <g id=\"line2d_25\">\r\n      <g>\r\n       <use style=\"fill:#333333;stroke:#333333;stroke-width:0.8;\" x=\"627.697631\" xlink:href=\"#me2a749d843\" y=\"527.799141\"/>\r\n      </g>\r\n     </g>\r\n     <g id=\"text_4\">\r\n      <!-- 0.0 -->\r\n      <g style=\"fill:#333333;\" transform=\"translate(618.950912 543.157422)scale(0.11 -0.11)\">\r\n       <use xlink:href=\"#DejaVuSans-48\"/>\r\n       <use x=\"63.623047\" xlink:href=\"#DejaVuSans-46\"/>\r\n       <use x=\"95.410156\" xlink:href=\"#DejaVuSans-48\"/>\r\n      </g>\r\n     </g>\r\n    </g>\r\n    <g id=\"xtick_5\">\r\n     <g id=\"line2d_26\">\r\n      <g>\r\n       <use style=\"fill:#333333;stroke:#333333;stroke-width:0.8;\" x=\"679.827377\" xlink:href=\"#me2a749d843\" y=\"527.799141\"/>\r\n      </g>\r\n     </g>\r\n     <g id=\"text_5\">\r\n      <!-- 0.1 -->\r\n      <g style=\"fill:#333333;\" transform=\"translate(671.080658 543.157422)scale(0.11 -0.11)\">\r\n       <use xlink:href=\"#DejaVuSans-48\"/>\r\n       <use x=\"63.623047\" xlink:href=\"#DejaVuSans-46\"/>\r\n       <use x=\"95.410156\" xlink:href=\"#DejaVuSans-49\"/>\r\n      </g>\r\n     </g>\r\n    </g>\r\n    <g id=\"xtick_6\">\r\n     <g id=\"line2d_27\">\r\n      <g>\r\n       <use style=\"fill:#333333;stroke:#333333;stroke-width:0.8;\" x=\"731.957123\" xlink:href=\"#me2a749d843\" y=\"527.799141\"/>\r\n      </g>\r\n     </g>\r\n     <g id=\"text_6\">\r\n      <!-- 0.2 -->\r\n      <g style=\"fill:#333333;\" transform=\"translate(723.210405 543.157422)scale(0.11 -0.11)\">\r\n       <use xlink:href=\"#DejaVuSans-48\"/>\r\n       <use x=\"63.623047\" xlink:href=\"#DejaVuSans-46\"/>\r\n       <use x=\"95.410156\" xlink:href=\"#DejaVuSans-50\"/>\r\n      </g>\r\n     </g>\r\n    </g>\r\n    <g id=\"xtick_7\">\r\n     <g id=\"line2d_28\">\r\n      <g>\r\n       <use style=\"fill:#333333;stroke:#333333;stroke-width:0.8;\" x=\"784.08687\" xlink:href=\"#me2a749d843\" y=\"527.799141\"/>\r\n      </g>\r\n     </g>\r\n     <g id=\"text_7\">\r\n      <!-- 0.3 -->\r\n      <g style=\"fill:#333333;\" transform=\"translate(775.340151 543.157422)scale(0.11 -0.11)\">\r\n       <use xlink:href=\"#DejaVuSans-48\"/>\r\n       <use x=\"63.623047\" xlink:href=\"#DejaVuSans-46\"/>\r\n       <use x=\"95.410156\" xlink:href=\"#DejaVuSans-51\"/>\r\n      </g>\r\n     </g>\r\n    </g>\r\n    <g id=\"text_8\">\r\n     <!-- SHAP value (impact on model output) -->\r\n     <g transform=\"translate(504.242188 559.323047)scale(0.13 -0.13)\">\r\n      <defs>\r\n       <path d=\"M 53.515625 70.515625 \r\nL 53.515625 60.890625 \r\nQ 47.90625 63.578125 42.921875 64.890625 \r\nQ 37.9375 66.21875 33.296875 66.21875 \r\nQ 25.25 66.21875 20.875 63.09375 \r\nQ 16.5 59.96875 16.5 54.203125 \r\nQ 16.5 49.359375 19.40625 46.890625 \r\nQ 22.3125 44.4375 30.421875 42.921875 \r\nL 36.375 41.703125 \r\nQ 47.40625 39.59375 52.65625 34.296875 \r\nQ 57.90625 29 57.90625 20.125 \r\nQ 57.90625 9.515625 50.796875 4.046875 \r\nQ 43.703125 -1.421875 29.984375 -1.421875 \r\nQ 24.8125 -1.421875 18.96875 -0.25 \r\nQ 13.140625 0.921875 6.890625 3.21875 \r\nL 6.890625 13.375 \r\nQ 12.890625 10.015625 18.65625 8.296875 \r\nQ 24.421875 6.59375 29.984375 6.59375 \r\nQ 38.421875 6.59375 43.015625 9.90625 \r\nQ 47.609375 13.234375 47.609375 19.390625 \r\nQ 47.609375 24.75 44.3125 27.78125 \r\nQ 41.015625 30.8125 33.5 32.328125 \r\nL 27.484375 33.5 \r\nQ 16.453125 35.6875 11.515625 40.375 \r\nQ 6.59375 45.0625 6.59375 53.421875 \r\nQ 6.59375 63.09375 13.40625 68.65625 \r\nQ 20.21875 74.21875 32.171875 74.21875 \r\nQ 37.3125 74.21875 42.625 73.28125 \r\nQ 47.953125 72.359375 53.515625 70.515625 \r\nz\r\n\" id=\"DejaVuSans-83\"/>\r\n       <path d=\"M 9.8125 72.90625 \r\nL 19.671875 72.90625 \r\nL 19.671875 43.015625 \r\nL 55.515625 43.015625 \r\nL 55.515625 72.90625 \r\nL 65.375 72.90625 \r\nL 65.375 0 \r\nL 55.515625 0 \r\nL 55.515625 34.71875 \r\nL 19.671875 34.71875 \r\nL 19.671875 0 \r\nL 9.8125 0 \r\nz\r\n\" id=\"DejaVuSans-72\"/>\r\n       <path d=\"M 34.1875 63.1875 \r\nL 20.796875 26.90625 \r\nL 47.609375 26.90625 \r\nz\r\nM 28.609375 72.90625 \r\nL 39.796875 72.90625 \r\nL 67.578125 0 \r\nL 57.328125 0 \r\nL 50.6875 18.703125 \r\nL 17.828125 18.703125 \r\nL 11.1875 0 \r\nL 0.78125 0 \r\nz\r\n\" id=\"DejaVuSans-65\"/>\r\n       <path d=\"M 19.671875 64.796875 \r\nL 19.671875 37.40625 \r\nL 32.078125 37.40625 \r\nQ 38.96875 37.40625 42.71875 40.96875 \r\nQ 46.484375 44.53125 46.484375 51.125 \r\nQ 46.484375 57.671875 42.71875 61.234375 \r\nQ 38.96875 64.796875 32.078125 64.796875 \r\nz\r\nM 9.8125 72.90625 \r\nL 32.078125 72.90625 \r\nQ 44.34375 72.90625 50.609375 67.359375 \r\nQ 56.890625 61.8125 56.890625 51.125 \r\nQ 56.890625 40.328125 50.609375 34.8125 \r\nQ 44.34375 29.296875 32.078125 29.296875 \r\nL 19.671875 29.296875 \r\nL 19.671875 0 \r\nL 9.8125 0 \r\nz\r\n\" id=\"DejaVuSans-80\"/>\r\n       <path id=\"DejaVuSans-32\"/>\r\n       <path d=\"M 2.984375 54.6875 \r\nL 12.5 54.6875 \r\nL 29.59375 8.796875 \r\nL 46.6875 54.6875 \r\nL 56.203125 54.6875 \r\nL 35.6875 0 \r\nL 23.484375 0 \r\nz\r\n\" id=\"DejaVuSans-118\"/>\r\n       <path d=\"M 34.28125 27.484375 \r\nQ 23.390625 27.484375 19.1875 25 \r\nQ 14.984375 22.515625 14.984375 16.5 \r\nQ 14.984375 11.71875 18.140625 8.90625 \r\nQ 21.296875 6.109375 26.703125 6.109375 \r\nQ 34.1875 6.109375 38.703125 11.40625 \r\nQ 43.21875 16.703125 43.21875 25.484375 \r\nL 43.21875 27.484375 \r\nz\r\nM 52.203125 31.203125 \r\nL 52.203125 0 \r\nL 43.21875 0 \r\nL 43.21875 8.296875 \r\nQ 40.140625 3.328125 35.546875 0.953125 \r\nQ 30.953125 -1.421875 24.3125 -1.421875 \r\nQ 15.921875 -1.421875 10.953125 3.296875 \r\nQ 6 8.015625 6 15.921875 \r\nQ 6 25.140625 12.171875 29.828125 \r\nQ 18.359375 34.515625 30.609375 34.515625 \r\nL 43.21875 34.515625 \r\nL 43.21875 35.40625 \r\nQ 43.21875 41.609375 39.140625 45 \r\nQ 35.0625 48.390625 27.6875 48.390625 \r\nQ 23 48.390625 18.546875 47.265625 \r\nQ 14.109375 46.140625 10.015625 43.890625 \r\nL 10.015625 52.203125 \r\nQ 14.9375 54.109375 19.578125 55.046875 \r\nQ 24.21875 56 28.609375 56 \r\nQ 40.484375 56 46.34375 49.84375 \r\nQ 52.203125 43.703125 52.203125 31.203125 \r\nz\r\n\" id=\"DejaVuSans-97\"/>\r\n       <path d=\"M 9.421875 75.984375 \r\nL 18.40625 75.984375 \r\nL 18.40625 0 \r\nL 9.421875 0 \r\nz\r\n\" id=\"DejaVuSans-108\"/>\r\n       <path d=\"M 8.5 21.578125 \r\nL 8.5 54.6875 \r\nL 17.484375 54.6875 \r\nL 17.484375 21.921875 \r\nQ 17.484375 14.15625 20.5 10.265625 \r\nQ 23.53125 6.390625 29.59375 6.390625 \r\nQ 36.859375 6.390625 41.078125 11.03125 \r\nQ 45.3125 15.671875 45.3125 23.6875 \r\nL 45.3125 54.6875 \r\nL 54.296875 54.6875 \r\nL 54.296875 0 \r\nL 45.3125 0 \r\nL 45.3125 8.40625 \r\nQ 42.046875 3.421875 37.71875 1 \r\nQ 33.40625 -1.421875 27.6875 -1.421875 \r\nQ 18.265625 -1.421875 13.375 4.4375 \r\nQ 8.5 10.296875 8.5 21.578125 \r\nz\r\nM 31.109375 56 \r\nz\r\n\" id=\"DejaVuSans-117\"/>\r\n       <path d=\"M 56.203125 29.59375 \r\nL 56.203125 25.203125 \r\nL 14.890625 25.203125 \r\nQ 15.484375 15.921875 20.484375 11.0625 \r\nQ 25.484375 6.203125 34.421875 6.203125 \r\nQ 39.59375 6.203125 44.453125 7.46875 \r\nQ 49.3125 8.734375 54.109375 11.28125 \r\nL 54.109375 2.78125 \r\nQ 49.265625 0.734375 44.1875 -0.34375 \r\nQ 39.109375 -1.421875 33.890625 -1.421875 \r\nQ 20.796875 -1.421875 13.15625 6.1875 \r\nQ 5.515625 13.8125 5.515625 26.8125 \r\nQ 5.515625 40.234375 12.765625 48.109375 \r\nQ 20.015625 56 32.328125 56 \r\nQ 43.359375 56 49.78125 48.890625 \r\nQ 56.203125 41.796875 56.203125 29.59375 \r\nz\r\nM 47.21875 32.234375 \r\nQ 47.125 39.59375 43.09375 43.984375 \r\nQ 39.0625 48.390625 32.421875 48.390625 \r\nQ 24.90625 48.390625 20.390625 44.140625 \r\nQ 15.875 39.890625 15.1875 32.171875 \r\nz\r\n\" id=\"DejaVuSans-101\"/>\r\n       <path d=\"M 31 75.875 \r\nQ 24.46875 64.65625 21.28125 53.65625 \r\nQ 18.109375 42.671875 18.109375 31.390625 \r\nQ 18.109375 20.125 21.3125 9.0625 \r\nQ 24.515625 -2 31 -13.1875 \r\nL 23.1875 -13.1875 \r\nQ 15.875 -1.703125 12.234375 9.375 \r\nQ 8.59375 20.453125 8.59375 31.390625 \r\nQ 8.59375 42.28125 12.203125 53.3125 \r\nQ 15.828125 64.359375 23.1875 75.875 \r\nz\r\n\" id=\"DejaVuSans-40\"/>\r\n       <path d=\"M 9.421875 54.6875 \r\nL 18.40625 54.6875 \r\nL 18.40625 0 \r\nL 9.421875 0 \r\nz\r\nM 9.421875 75.984375 \r\nL 18.40625 75.984375 \r\nL 18.40625 64.59375 \r\nL 9.421875 64.59375 \r\nz\r\n\" id=\"DejaVuSans-105\"/>\r\n       <path d=\"M 52 44.1875 \r\nQ 55.375 50.25 60.0625 53.125 \r\nQ 64.75 56 71.09375 56 \r\nQ 79.640625 56 84.28125 50.015625 \r\nQ 88.921875 44.046875 88.921875 33.015625 \r\nL 88.921875 0 \r\nL 79.890625 0 \r\nL 79.890625 32.71875 \r\nQ 79.890625 40.578125 77.09375 44.375 \r\nQ 74.3125 48.1875 68.609375 48.1875 \r\nQ 61.625 48.1875 57.5625 43.546875 \r\nQ 53.515625 38.921875 53.515625 30.90625 \r\nL 53.515625 0 \r\nL 44.484375 0 \r\nL 44.484375 32.71875 \r\nQ 44.484375 40.625 41.703125 44.40625 \r\nQ 38.921875 48.1875 33.109375 48.1875 \r\nQ 26.21875 48.1875 22.15625 43.53125 \r\nQ 18.109375 38.875 18.109375 30.90625 \r\nL 18.109375 0 \r\nL 9.078125 0 \r\nL 9.078125 54.6875 \r\nL 18.109375 54.6875 \r\nL 18.109375 46.1875 \r\nQ 21.1875 51.21875 25.484375 53.609375 \r\nQ 29.78125 56 35.6875 56 \r\nQ 41.65625 56 45.828125 52.96875 \r\nQ 50 49.953125 52 44.1875 \r\nz\r\n\" id=\"DejaVuSans-109\"/>\r\n       <path d=\"M 18.109375 8.203125 \r\nL 18.109375 -20.796875 \r\nL 9.078125 -20.796875 \r\nL 9.078125 54.6875 \r\nL 18.109375 54.6875 \r\nL 18.109375 46.390625 \r\nQ 20.953125 51.265625 25.265625 53.625 \r\nQ 29.59375 56 35.59375 56 \r\nQ 45.5625 56 51.78125 48.09375 \r\nQ 58.015625 40.1875 58.015625 27.296875 \r\nQ 58.015625 14.40625 51.78125 6.484375 \r\nQ 45.5625 -1.421875 35.59375 -1.421875 \r\nQ 29.59375 -1.421875 25.265625 0.953125 \r\nQ 20.953125 3.328125 18.109375 8.203125 \r\nz\r\nM 48.6875 27.296875 \r\nQ 48.6875 37.203125 44.609375 42.84375 \r\nQ 40.53125 48.484375 33.40625 48.484375 \r\nQ 26.265625 48.484375 22.1875 42.84375 \r\nQ 18.109375 37.203125 18.109375 27.296875 \r\nQ 18.109375 17.390625 22.1875 11.75 \r\nQ 26.265625 6.109375 33.40625 6.109375 \r\nQ 40.53125 6.109375 44.609375 11.75 \r\nQ 48.6875 17.390625 48.6875 27.296875 \r\nz\r\n\" id=\"DejaVuSans-112\"/>\r\n       <path d=\"M 48.78125 52.59375 \r\nL 48.78125 44.1875 \r\nQ 44.96875 46.296875 41.140625 47.34375 \r\nQ 37.3125 48.390625 33.40625 48.390625 \r\nQ 24.65625 48.390625 19.8125 42.84375 \r\nQ 14.984375 37.3125 14.984375 27.296875 \r\nQ 14.984375 17.28125 19.8125 11.734375 \r\nQ 24.65625 6.203125 33.40625 6.203125 \r\nQ 37.3125 6.203125 41.140625 7.25 \r\nQ 44.96875 8.296875 48.78125 10.40625 \r\nL 48.78125 2.09375 \r\nQ 45.015625 0.34375 40.984375 -0.53125 \r\nQ 36.96875 -1.421875 32.421875 -1.421875 \r\nQ 20.0625 -1.421875 12.78125 6.34375 \r\nQ 5.515625 14.109375 5.515625 27.296875 \r\nQ 5.515625 40.671875 12.859375 48.328125 \r\nQ 20.21875 56 33.015625 56 \r\nQ 37.15625 56 41.109375 55.140625 \r\nQ 45.0625 54.296875 48.78125 52.59375 \r\nz\r\n\" id=\"DejaVuSans-99\"/>\r\n       <path d=\"M 18.3125 70.21875 \r\nL 18.3125 54.6875 \r\nL 36.8125 54.6875 \r\nL 36.8125 47.703125 \r\nL 18.3125 47.703125 \r\nL 18.3125 18.015625 \r\nQ 18.3125 11.328125 20.140625 9.421875 \r\nQ 21.96875 7.515625 27.59375 7.515625 \r\nL 36.8125 7.515625 \r\nL 36.8125 0 \r\nL 27.59375 0 \r\nQ 17.1875 0 13.234375 3.875 \r\nQ 9.28125 7.765625 9.28125 18.015625 \r\nL 9.28125 47.703125 \r\nL 2.6875 47.703125 \r\nL 2.6875 54.6875 \r\nL 9.28125 54.6875 \r\nL 9.28125 70.21875 \r\nz\r\n\" id=\"DejaVuSans-116\"/>\r\n       <path d=\"M 30.609375 48.390625 \r\nQ 23.390625 48.390625 19.1875 42.75 \r\nQ 14.984375 37.109375 14.984375 27.296875 \r\nQ 14.984375 17.484375 19.15625 11.84375 \r\nQ 23.34375 6.203125 30.609375 6.203125 \r\nQ 37.796875 6.203125 41.984375 11.859375 \r\nQ 46.1875 17.53125 46.1875 27.296875 \r\nQ 46.1875 37.015625 41.984375 42.703125 \r\nQ 37.796875 48.390625 30.609375 48.390625 \r\nz\r\nM 30.609375 56 \r\nQ 42.328125 56 49.015625 48.375 \r\nQ 55.71875 40.765625 55.71875 27.296875 \r\nQ 55.71875 13.875 49.015625 6.21875 \r\nQ 42.328125 -1.421875 30.609375 -1.421875 \r\nQ 18.84375 -1.421875 12.171875 6.21875 \r\nQ 5.515625 13.875 5.515625 27.296875 \r\nQ 5.515625 40.765625 12.171875 48.375 \r\nQ 18.84375 56 30.609375 56 \r\nz\r\n\" id=\"DejaVuSans-111\"/>\r\n       <path d=\"M 54.890625 33.015625 \r\nL 54.890625 0 \r\nL 45.90625 0 \r\nL 45.90625 32.71875 \r\nQ 45.90625 40.484375 42.875 44.328125 \r\nQ 39.84375 48.1875 33.796875 48.1875 \r\nQ 26.515625 48.1875 22.3125 43.546875 \r\nQ 18.109375 38.921875 18.109375 30.90625 \r\nL 18.109375 0 \r\nL 9.078125 0 \r\nL 9.078125 54.6875 \r\nL 18.109375 54.6875 \r\nL 18.109375 46.1875 \r\nQ 21.34375 51.125 25.703125 53.5625 \r\nQ 30.078125 56 35.796875 56 \r\nQ 45.21875 56 50.046875 50.171875 \r\nQ 54.890625 44.34375 54.890625 33.015625 \r\nz\r\n\" id=\"DejaVuSans-110\"/>\r\n       <path d=\"M 45.40625 46.390625 \r\nL 45.40625 75.984375 \r\nL 54.390625 75.984375 \r\nL 54.390625 0 \r\nL 45.40625 0 \r\nL 45.40625 8.203125 \r\nQ 42.578125 3.328125 38.25 0.953125 \r\nQ 33.9375 -1.421875 27.875 -1.421875 \r\nQ 17.96875 -1.421875 11.734375 6.484375 \r\nQ 5.515625 14.40625 5.515625 27.296875 \r\nQ 5.515625 40.1875 11.734375 48.09375 \r\nQ 17.96875 56 27.875 56 \r\nQ 33.9375 56 38.25 53.625 \r\nQ 42.578125 51.265625 45.40625 46.390625 \r\nz\r\nM 14.796875 27.296875 \r\nQ 14.796875 17.390625 18.875 11.75 \r\nQ 22.953125 6.109375 30.078125 6.109375 \r\nQ 37.203125 6.109375 41.296875 11.75 \r\nQ 45.40625 17.390625 45.40625 27.296875 \r\nQ 45.40625 37.203125 41.296875 42.84375 \r\nQ 37.203125 48.484375 30.078125 48.484375 \r\nQ 22.953125 48.484375 18.875 42.84375 \r\nQ 14.796875 37.203125 14.796875 27.296875 \r\nz\r\n\" id=\"DejaVuSans-100\"/>\r\n       <path d=\"M 8.015625 75.875 \r\nL 15.828125 75.875 \r\nQ 23.140625 64.359375 26.78125 53.3125 \r\nQ 30.421875 42.28125 30.421875 31.390625 \r\nQ 30.421875 20.453125 26.78125 9.375 \r\nQ 23.140625 -1.703125 15.828125 -13.1875 \r\nL 8.015625 -13.1875 \r\nQ 14.5 -2 17.703125 9.0625 \r\nQ 20.90625 20.125 20.90625 31.390625 \r\nQ 20.90625 42.671875 17.703125 53.65625 \r\nQ 14.5 64.65625 8.015625 75.875 \r\nz\r\n\" id=\"DejaVuSans-41\"/>\r\n      </defs>\r\n      <use xlink:href=\"#DejaVuSans-83\"/>\r\n      <use x=\"63.476562\" xlink:href=\"#DejaVuSans-72\"/>\r\n      <use x=\"138.671875\" xlink:href=\"#DejaVuSans-65\"/>\r\n      <use x=\"207.080078\" xlink:href=\"#DejaVuSans-80\"/>\r\n      <use x=\"267.382812\" xlink:href=\"#DejaVuSans-32\"/>\r\n      <use x=\"299.169922\" xlink:href=\"#DejaVuSans-118\"/>\r\n      <use x=\"358.349609\" xlink:href=\"#DejaVuSans-97\"/>\r\n      <use x=\"419.628906\" xlink:href=\"#DejaVuSans-108\"/>\r\n      <use x=\"447.412109\" xlink:href=\"#DejaVuSans-117\"/>\r\n      <use x=\"510.791016\" xlink:href=\"#DejaVuSans-101\"/>\r\n      <use x=\"572.314453\" xlink:href=\"#DejaVuSans-32\"/>\r\n      <use x=\"604.101562\" xlink:href=\"#DejaVuSans-40\"/>\r\n      <use x=\"643.115234\" xlink:href=\"#DejaVuSans-105\"/>\r\n      <use x=\"670.898438\" xlink:href=\"#DejaVuSans-109\"/>\r\n      <use x=\"768.310547\" xlink:href=\"#DejaVuSans-112\"/>\r\n      <use x=\"831.787109\" xlink:href=\"#DejaVuSans-97\"/>\r\n      <use x=\"893.066406\" xlink:href=\"#DejaVuSans-99\"/>\r\n      <use x=\"948.046875\" xlink:href=\"#DejaVuSans-116\"/>\r\n      <use x=\"987.255859\" xlink:href=\"#DejaVuSans-32\"/>\r\n      <use x=\"1019.042969\" xlink:href=\"#DejaVuSans-111\"/>\r\n      <use x=\"1080.224609\" xlink:href=\"#DejaVuSans-110\"/>\r\n      <use x=\"1143.603516\" xlink:href=\"#DejaVuSans-32\"/>\r\n      <use x=\"1175.390625\" xlink:href=\"#DejaVuSans-109\"/>\r\n      <use x=\"1272.802734\" xlink:href=\"#DejaVuSans-111\"/>\r\n      <use x=\"1333.984375\" xlink:href=\"#DejaVuSans-100\"/>\r\n      <use x=\"1397.460938\" xlink:href=\"#DejaVuSans-101\"/>\r\n      <use x=\"1458.984375\" xlink:href=\"#DejaVuSans-108\"/>\r\n      <use x=\"1486.767578\" xlink:href=\"#DejaVuSans-32\"/>\r\n      <use x=\"1518.554688\" xlink:href=\"#DejaVuSans-111\"/>\r\n      <use x=\"1579.736328\" xlink:href=\"#DejaVuSans-117\"/>\r\n      <use x=\"1643.115234\" xlink:href=\"#DejaVuSans-116\"/>\r\n      <use x=\"1682.324219\" xlink:href=\"#DejaVuSans-112\"/>\r\n      <use x=\"1745.800781\" xlink:href=\"#DejaVuSans-117\"/>\r\n      <use x=\"1809.179688\" xlink:href=\"#DejaVuSans-116\"/>\r\n      <use x=\"1848.388672\" xlink:href=\"#DejaVuSans-41\"/>\r\n     </g>\r\n    </g>\r\n   </g>\r\n   <g id=\"matplotlib.axis_2\">\r\n    <g id=\"ytick_1\">\r\n     <g id=\"text_9\">\r\n      <!-- commute_60_more_mins -->\r\n      <g style=\"fill:#333333;\" transform=\"translate(262.105625 508.146696)scale(0.13 -0.13)\">\r\n       <defs>\r\n        <path d=\"M 50.984375 -16.609375 \r\nL 50.984375 -23.578125 \r\nL -0.984375 -23.578125 \r\nL -0.984375 -16.609375 \r\nz\r\n\" id=\"DejaVuSans-95\"/>\r\n        <path d=\"M 33.015625 40.375 \r\nQ 26.375 40.375 22.484375 35.828125 \r\nQ 18.609375 31.296875 18.609375 23.390625 \r\nQ 18.609375 15.53125 22.484375 10.953125 \r\nQ 26.375 6.390625 33.015625 6.390625 \r\nQ 39.65625 6.390625 43.53125 10.953125 \r\nQ 47.40625 15.53125 47.40625 23.390625 \r\nQ 47.40625 31.296875 43.53125 35.828125 \r\nQ 39.65625 40.375 33.015625 40.375 \r\nz\r\nM 52.59375 71.296875 \r\nL 52.59375 62.3125 \r\nQ 48.875 64.0625 45.09375 64.984375 \r\nQ 41.3125 65.921875 37.59375 65.921875 \r\nQ 27.828125 65.921875 22.671875 59.328125 \r\nQ 17.53125 52.734375 16.796875 39.40625 \r\nQ 19.671875 43.65625 24.015625 45.921875 \r\nQ 28.375 48.1875 33.59375 48.1875 \r\nQ 44.578125 48.1875 50.953125 41.515625 \r\nQ 57.328125 34.859375 57.328125 23.390625 \r\nQ 57.328125 12.15625 50.6875 5.359375 \r\nQ 44.046875 -1.421875 33.015625 -1.421875 \r\nQ 20.359375 -1.421875 13.671875 8.265625 \r\nQ 6.984375 17.96875 6.984375 36.375 \r\nQ 6.984375 53.65625 15.1875 63.9375 \r\nQ 23.390625 74.21875 37.203125 74.21875 \r\nQ 40.921875 74.21875 44.703125 73.484375 \r\nQ 48.484375 72.75 52.59375 71.296875 \r\nz\r\n\" id=\"DejaVuSans-54\"/>\r\n        <path d=\"M 41.109375 46.296875 \r\nQ 39.59375 47.171875 37.8125 47.578125 \r\nQ 36.03125 48 33.890625 48 \r\nQ 26.265625 48 22.1875 43.046875 \r\nQ 18.109375 38.09375 18.109375 28.8125 \r\nL 18.109375 0 \r\nL 9.078125 0 \r\nL 9.078125 54.6875 \r\nL 18.109375 54.6875 \r\nL 18.109375 46.1875 \r\nQ 20.953125 51.171875 25.484375 53.578125 \r\nQ 30.03125 56 36.53125 56 \r\nQ 37.453125 56 38.578125 55.875 \r\nQ 39.703125 55.765625 41.0625 55.515625 \r\nz\r\n\" id=\"DejaVuSans-114\"/>\r\n        <path d=\"M 44.28125 53.078125 \r\nL 44.28125 44.578125 \r\nQ 40.484375 46.53125 36.375 47.5 \r\nQ 32.28125 48.484375 27.875 48.484375 \r\nQ 21.1875 48.484375 17.84375 46.4375 \r\nQ 14.5 44.390625 14.5 40.28125 \r\nQ 14.5 37.15625 16.890625 35.375 \r\nQ 19.28125 33.59375 26.515625 31.984375 \r\nL 29.59375 31.296875 \r\nQ 39.15625 29.25 43.1875 25.515625 \r\nQ 47.21875 21.78125 47.21875 15.09375 \r\nQ 47.21875 7.46875 41.1875 3.015625 \r\nQ 35.15625 -1.421875 24.609375 -1.421875 \r\nQ 20.21875 -1.421875 15.453125 -0.5625 \r\nQ 10.6875 0.296875 5.421875 2 \r\nL 5.421875 11.28125 \r\nQ 10.40625 8.6875 15.234375 7.390625 \r\nQ 20.0625 6.109375 24.8125 6.109375 \r\nQ 31.15625 6.109375 34.5625 8.28125 \r\nQ 37.984375 10.453125 37.984375 14.40625 \r\nQ 37.984375 18.0625 35.515625 20.015625 \r\nQ 33.0625 21.96875 24.703125 23.78125 \r\nL 21.578125 24.515625 \r\nQ 13.234375 26.265625 9.515625 29.90625 \r\nQ 5.8125 33.546875 5.8125 39.890625 \r\nQ 5.8125 47.609375 11.28125 51.796875 \r\nQ 16.75 56 26.8125 56 \r\nQ 31.78125 56 36.171875 55.265625 \r\nQ 40.578125 54.546875 44.28125 53.078125 \r\nz\r\n\" id=\"DejaVuSans-115\"/>\r\n       </defs>\r\n       <use xlink:href=\"#DejaVuSans-99\"/>\r\n       <use x=\"54.980469\" xlink:href=\"#DejaVuSans-111\"/>\r\n       <use x=\"116.162109\" xlink:href=\"#DejaVuSans-109\"/>\r\n       <use x=\"213.574219\" xlink:href=\"#DejaVuSans-109\"/>\r\n       <use x=\"310.986328\" xlink:href=\"#DejaVuSans-117\"/>\r\n       <use x=\"374.365234\" xlink:href=\"#DejaVuSans-116\"/>\r\n       <use x=\"413.574219\" xlink:href=\"#DejaVuSans-101\"/>\r\n       <use x=\"475.097656\" xlink:href=\"#DejaVuSans-95\"/>\r\n       <use x=\"525.097656\" xlink:href=\"#DejaVuSans-54\"/>\r\n       <use x=\"588.720703\" xlink:href=\"#DejaVuSans-48\"/>\r\n       <use x=\"652.34375\" xlink:href=\"#DejaVuSans-95\"/>\r\n       <use x=\"702.34375\" xlink:href=\"#DejaVuSans-109\"/>\r\n       <use x=\"799.755859\" xlink:href=\"#DejaVuSans-111\"/>\r\n       <use x=\"860.9375\" xlink:href=\"#DejaVuSans-114\"/>\r\n       <use x=\"899.800781\" xlink:href=\"#DejaVuSans-101\"/>\r\n       <use x=\"961.324219\" xlink:href=\"#DejaVuSans-95\"/>\r\n       <use x=\"1011.324219\" xlink:href=\"#DejaVuSans-109\"/>\r\n       <use x=\"1108.736328\" xlink:href=\"#DejaVuSans-105\"/>\r\n       <use x=\"1136.519531\" xlink:href=\"#DejaVuSans-110\"/>\r\n       <use x=\"1199.898438\" xlink:href=\"#DejaVuSans-115\"/>\r\n      </g>\r\n     </g>\r\n    </g>\r\n    <g id=\"ytick_2\">\r\n     <g id=\"text_10\">\r\n      <!-- commute_less_10_mins -->\r\n      <g style=\"fill:#333333;\" transform=\"translate(270.618594 483.555268)scale(0.13 -0.13)\">\r\n       <use xlink:href=\"#DejaVuSans-99\"/>\r\n       <use x=\"54.980469\" xlink:href=\"#DejaVuSans-111\"/>\r\n       <use x=\"116.162109\" xlink:href=\"#DejaVuSans-109\"/>\r\n       <use x=\"213.574219\" xlink:href=\"#DejaVuSans-109\"/>\r\n       <use x=\"310.986328\" xlink:href=\"#DejaVuSans-117\"/>\r\n       <use x=\"374.365234\" xlink:href=\"#DejaVuSans-116\"/>\r\n       <use x=\"413.574219\" xlink:href=\"#DejaVuSans-101\"/>\r\n       <use x=\"475.097656\" xlink:href=\"#DejaVuSans-95\"/>\r\n       <use x=\"525.097656\" xlink:href=\"#DejaVuSans-108\"/>\r\n       <use x=\"552.880859\" xlink:href=\"#DejaVuSans-101\"/>\r\n       <use x=\"614.404297\" xlink:href=\"#DejaVuSans-115\"/>\r\n       <use x=\"666.503906\" xlink:href=\"#DejaVuSans-115\"/>\r\n       <use x=\"718.603516\" xlink:href=\"#DejaVuSans-95\"/>\r\n       <use x=\"768.603516\" xlink:href=\"#DejaVuSans-49\"/>\r\n       <use x=\"832.226562\" xlink:href=\"#DejaVuSans-48\"/>\r\n       <use x=\"895.849609\" xlink:href=\"#DejaVuSans-95\"/>\r\n       <use x=\"945.849609\" xlink:href=\"#DejaVuSans-109\"/>\r\n       <use x=\"1043.261719\" xlink:href=\"#DejaVuSans-105\"/>\r\n       <use x=\"1071.044922\" xlink:href=\"#DejaVuSans-110\"/>\r\n       <use x=\"1134.423828\" xlink:href=\"#DejaVuSans-115\"/>\r\n      </g>\r\n     </g>\r\n    </g>\r\n    <g id=\"ytick_3\">\r\n     <g id=\"text_11\">\r\n      <!-- graduate_professional_degree -->\r\n      <g style=\"fill:#333333;\" transform=\"translate(228.429531 458.963839)scale(0.13 -0.13)\">\r\n       <defs>\r\n        <path d=\"M 45.40625 27.984375 \r\nQ 45.40625 37.75 41.375 43.109375 \r\nQ 37.359375 48.484375 30.078125 48.484375 \r\nQ 22.859375 48.484375 18.828125 43.109375 \r\nQ 14.796875 37.75 14.796875 27.984375 \r\nQ 14.796875 18.265625 18.828125 12.890625 \r\nQ 22.859375 7.515625 30.078125 7.515625 \r\nQ 37.359375 7.515625 41.375 12.890625 \r\nQ 45.40625 18.265625 45.40625 27.984375 \r\nz\r\nM 54.390625 6.78125 \r\nQ 54.390625 -7.171875 48.1875 -13.984375 \r\nQ 42 -20.796875 29.203125 -20.796875 \r\nQ 24.46875 -20.796875 20.265625 -20.09375 \r\nQ 16.0625 -19.390625 12.109375 -17.921875 \r\nL 12.109375 -9.1875 \r\nQ 16.0625 -11.328125 19.921875 -12.34375 \r\nQ 23.78125 -13.375 27.78125 -13.375 \r\nQ 36.625 -13.375 41.015625 -8.765625 \r\nQ 45.40625 -4.15625 45.40625 5.171875 \r\nL 45.40625 9.625 \r\nQ 42.625 4.78125 38.28125 2.390625 \r\nQ 33.9375 0 27.875 0 \r\nQ 17.828125 0 11.671875 7.65625 \r\nQ 5.515625 15.328125 5.515625 27.984375 \r\nQ 5.515625 40.671875 11.671875 48.328125 \r\nQ 17.828125 56 27.875 56 \r\nQ 33.9375 56 38.28125 53.609375 \r\nQ 42.625 51.21875 45.40625 46.390625 \r\nL 45.40625 54.6875 \r\nL 54.390625 54.6875 \r\nz\r\n\" id=\"DejaVuSans-103\"/>\r\n        <path d=\"M 37.109375 75.984375 \r\nL 37.109375 68.5 \r\nL 28.515625 68.5 \r\nQ 23.6875 68.5 21.796875 66.546875 \r\nQ 19.921875 64.59375 19.921875 59.515625 \r\nL 19.921875 54.6875 \r\nL 34.71875 54.6875 \r\nL 34.71875 47.703125 \r\nL 19.921875 47.703125 \r\nL 19.921875 0 \r\nL 10.890625 0 \r\nL 10.890625 47.703125 \r\nL 2.296875 47.703125 \r\nL 2.296875 54.6875 \r\nL 10.890625 54.6875 \r\nL 10.890625 58.5 \r\nQ 10.890625 67.625 15.140625 71.796875 \r\nQ 19.390625 75.984375 28.609375 75.984375 \r\nz\r\n\" id=\"DejaVuSans-102\"/>\r\n       </defs>\r\n       <use xlink:href=\"#DejaVuSans-103\"/>\r\n       <use x=\"63.476562\" xlink:href=\"#DejaVuSans-114\"/>\r\n       <use x=\"104.589844\" xlink:href=\"#DejaVuSans-97\"/>\r\n       <use x=\"165.869141\" xlink:href=\"#DejaVuSans-100\"/>\r\n       <use x=\"229.345703\" xlink:href=\"#DejaVuSans-117\"/>\r\n       <use x=\"292.724609\" xlink:href=\"#DejaVuSans-97\"/>\r\n       <use x=\"354.003906\" xlink:href=\"#DejaVuSans-116\"/>\r\n       <use x=\"393.212891\" xlink:href=\"#DejaVuSans-101\"/>\r\n       <use x=\"454.736328\" xlink:href=\"#DejaVuSans-95\"/>\r\n       <use x=\"504.736328\" xlink:href=\"#DejaVuSans-112\"/>\r\n       <use x=\"568.212891\" xlink:href=\"#DejaVuSans-114\"/>\r\n       <use x=\"607.076172\" xlink:href=\"#DejaVuSans-111\"/>\r\n       <use x=\"668.257812\" xlink:href=\"#DejaVuSans-102\"/>\r\n       <use x=\"703.462891\" xlink:href=\"#DejaVuSans-101\"/>\r\n       <use x=\"764.986328\" xlink:href=\"#DejaVuSans-115\"/>\r\n       <use x=\"817.085938\" xlink:href=\"#DejaVuSans-115\"/>\r\n       <use x=\"869.185547\" xlink:href=\"#DejaVuSans-105\"/>\r\n       <use x=\"896.96875\" xlink:href=\"#DejaVuSans-111\"/>\r\n       <use x=\"958.150391\" xlink:href=\"#DejaVuSans-110\"/>\r\n       <use x=\"1021.529297\" xlink:href=\"#DejaVuSans-97\"/>\r\n       <use x=\"1082.808594\" xlink:href=\"#DejaVuSans-108\"/>\r\n       <use x=\"1110.591797\" xlink:href=\"#DejaVuSans-95\"/>\r\n       <use x=\"1160.591797\" xlink:href=\"#DejaVuSans-100\"/>\r\n       <use x=\"1224.068359\" xlink:href=\"#DejaVuSans-101\"/>\r\n       <use x=\"1285.591797\" xlink:href=\"#DejaVuSans-103\"/>\r\n       <use x=\"1349.068359\" xlink:href=\"#DejaVuSans-114\"/>\r\n       <use x=\"1387.931641\" xlink:href=\"#DejaVuSans-101\"/>\r\n       <use x=\"1449.455078\" xlink:href=\"#DejaVuSans-101\"/>\r\n      </g>\r\n     </g>\r\n    </g>\r\n    <g id=\"ytick_4\">\r\n     <g id=\"text_12\">\r\n      <!-- vacant_housing_units -->\r\n      <g style=\"fill:#333333;\" transform=\"translate(284.487969 434.372411)scale(0.13 -0.13)\">\r\n       <defs>\r\n        <path d=\"M 54.890625 33.015625 \r\nL 54.890625 0 \r\nL 45.90625 0 \r\nL 45.90625 32.71875 \r\nQ 45.90625 40.484375 42.875 44.328125 \r\nQ 39.84375 48.1875 33.796875 48.1875 \r\nQ 26.515625 48.1875 22.3125 43.546875 \r\nQ 18.109375 38.921875 18.109375 30.90625 \r\nL 18.109375 0 \r\nL 9.078125 0 \r\nL 9.078125 75.984375 \r\nL 18.109375 75.984375 \r\nL 18.109375 46.1875 \r\nQ 21.34375 51.125 25.703125 53.5625 \r\nQ 30.078125 56 35.796875 56 \r\nQ 45.21875 56 50.046875 50.171875 \r\nQ 54.890625 44.34375 54.890625 33.015625 \r\nz\r\n\" id=\"DejaVuSans-104\"/>\r\n       </defs>\r\n       <use xlink:href=\"#DejaVuSans-118\"/>\r\n       <use x=\"59.179688\" xlink:href=\"#DejaVuSans-97\"/>\r\n       <use x=\"120.458984\" xlink:href=\"#DejaVuSans-99\"/>\r\n       <use x=\"175.439453\" xlink:href=\"#DejaVuSans-97\"/>\r\n       <use x=\"236.71875\" xlink:href=\"#DejaVuSans-110\"/>\r\n       <use x=\"300.097656\" xlink:href=\"#DejaVuSans-116\"/>\r\n       <use x=\"339.306641\" xlink:href=\"#DejaVuSans-95\"/>\r\n       <use x=\"389.306641\" xlink:href=\"#DejaVuSans-104\"/>\r\n       <use x=\"452.685547\" xlink:href=\"#DejaVuSans-111\"/>\r\n       <use x=\"513.867188\" xlink:href=\"#DejaVuSans-117\"/>\r\n       <use x=\"577.246094\" xlink:href=\"#DejaVuSans-115\"/>\r\n       <use x=\"629.345703\" xlink:href=\"#DejaVuSans-105\"/>\r\n       <use x=\"657.128906\" xlink:href=\"#DejaVuSans-110\"/>\r\n       <use x=\"720.507812\" xlink:href=\"#DejaVuSans-103\"/>\r\n       <use x=\"783.984375\" xlink:href=\"#DejaVuSans-95\"/>\r\n       <use x=\"833.984375\" xlink:href=\"#DejaVuSans-117\"/>\r\n       <use x=\"897.363281\" xlink:href=\"#DejaVuSans-110\"/>\r\n       <use x=\"960.742188\" xlink:href=\"#DejaVuSans-105\"/>\r\n       <use x=\"988.525391\" xlink:href=\"#DejaVuSans-116\"/>\r\n       <use x=\"1027.734375\" xlink:href=\"#DejaVuSans-115\"/>\r\n      </g>\r\n     </g>\r\n    </g>\r\n    <g id=\"ytick_5\">\r\n     <g id=\"text_13\">\r\n      <!-- commuters_by_subway_or_elevated -->\r\n      <g style=\"fill:#333333;\" transform=\"translate(189.563594 409.780982)scale(0.13 -0.13)\">\r\n       <defs>\r\n        <path d=\"M 48.6875 27.296875 \r\nQ 48.6875 37.203125 44.609375 42.84375 \r\nQ 40.53125 48.484375 33.40625 48.484375 \r\nQ 26.265625 48.484375 22.1875 42.84375 \r\nQ 18.109375 37.203125 18.109375 27.296875 \r\nQ 18.109375 17.390625 22.1875 11.75 \r\nQ 26.265625 6.109375 33.40625 6.109375 \r\nQ 40.53125 6.109375 44.609375 11.75 \r\nQ 48.6875 17.390625 48.6875 27.296875 \r\nz\r\nM 18.109375 46.390625 \r\nQ 20.953125 51.265625 25.265625 53.625 \r\nQ 29.59375 56 35.59375 56 \r\nQ 45.5625 56 51.78125 48.09375 \r\nQ 58.015625 40.1875 58.015625 27.296875 \r\nQ 58.015625 14.40625 51.78125 6.484375 \r\nQ 45.5625 -1.421875 35.59375 -1.421875 \r\nQ 29.59375 -1.421875 25.265625 0.953125 \r\nQ 20.953125 3.328125 18.109375 8.203125 \r\nL 18.109375 0 \r\nL 9.078125 0 \r\nL 9.078125 75.984375 \r\nL 18.109375 75.984375 \r\nz\r\n\" id=\"DejaVuSans-98\"/>\r\n        <path d=\"M 32.171875 -5.078125 \r\nQ 28.375 -14.84375 24.75 -17.8125 \r\nQ 21.140625 -20.796875 15.09375 -20.796875 \r\nL 7.90625 -20.796875 \r\nL 7.90625 -13.28125 \r\nL 13.1875 -13.28125 \r\nQ 16.890625 -13.28125 18.9375 -11.515625 \r\nQ 21 -9.765625 23.484375 -3.21875 \r\nL 25.09375 0.875 \r\nL 2.984375 54.6875 \r\nL 12.5 54.6875 \r\nL 29.59375 11.921875 \r\nL 46.6875 54.6875 \r\nL 56.203125 54.6875 \r\nz\r\n\" id=\"DejaVuSans-121\"/>\r\n        <path d=\"M 4.203125 54.6875 \r\nL 13.1875 54.6875 \r\nL 24.421875 12.015625 \r\nL 35.59375 54.6875 \r\nL 46.1875 54.6875 \r\nL 57.421875 12.015625 \r\nL 68.609375 54.6875 \r\nL 77.59375 54.6875 \r\nL 63.28125 0 \r\nL 52.6875 0 \r\nL 40.921875 44.828125 \r\nL 29.109375 0 \r\nL 18.5 0 \r\nz\r\n\" id=\"DejaVuSans-119\"/>\r\n       </defs>\r\n       <use xlink:href=\"#DejaVuSans-99\"/>\r\n       <use x=\"54.980469\" xlink:href=\"#DejaVuSans-111\"/>\r\n       <use x=\"116.162109\" xlink:href=\"#DejaVuSans-109\"/>\r\n       <use x=\"213.574219\" xlink:href=\"#DejaVuSans-109\"/>\r\n       <use x=\"310.986328\" xlink:href=\"#DejaVuSans-117\"/>\r\n       <use x=\"374.365234\" xlink:href=\"#DejaVuSans-116\"/>\r\n       <use x=\"413.574219\" xlink:href=\"#DejaVuSans-101\"/>\r\n       <use x=\"475.097656\" xlink:href=\"#DejaVuSans-114\"/>\r\n       <use x=\"516.210938\" xlink:href=\"#DejaVuSans-115\"/>\r\n       <use x=\"568.310547\" xlink:href=\"#DejaVuSans-95\"/>\r\n       <use x=\"618.310547\" xlink:href=\"#DejaVuSans-98\"/>\r\n       <use x=\"681.787109\" xlink:href=\"#DejaVuSans-121\"/>\r\n       <use x=\"740.966797\" xlink:href=\"#DejaVuSans-95\"/>\r\n       <use x=\"790.966797\" xlink:href=\"#DejaVuSans-115\"/>\r\n       <use x=\"843.066406\" xlink:href=\"#DejaVuSans-117\"/>\r\n       <use x=\"906.445312\" xlink:href=\"#DejaVuSans-98\"/>\r\n       <use x=\"969.921875\" xlink:href=\"#DejaVuSans-119\"/>\r\n       <use x=\"1051.708984\" xlink:href=\"#DejaVuSans-97\"/>\r\n       <use x=\"1112.988281\" xlink:href=\"#DejaVuSans-121\"/>\r\n       <use x=\"1172.167969\" xlink:href=\"#DejaVuSans-95\"/>\r\n       <use x=\"1222.167969\" xlink:href=\"#DejaVuSans-111\"/>\r\n       <use x=\"1283.349609\" xlink:href=\"#DejaVuSans-114\"/>\r\n       <use x=\"1324.462891\" xlink:href=\"#DejaVuSans-95\"/>\r\n       <use x=\"1374.462891\" xlink:href=\"#DejaVuSans-101\"/>\r\n       <use x=\"1435.986328\" xlink:href=\"#DejaVuSans-108\"/>\r\n       <use x=\"1463.769531\" xlink:href=\"#DejaVuSans-101\"/>\r\n       <use x=\"1525.292969\" xlink:href=\"#DejaVuSans-118\"/>\r\n       <use x=\"1584.472656\" xlink:href=\"#DejaVuSans-97\"/>\r\n       <use x=\"1645.751953\" xlink:href=\"#DejaVuSans-116\"/>\r\n       <use x=\"1684.960938\" xlink:href=\"#DejaVuSans-101\"/>\r\n       <use x=\"1746.484375\" xlink:href=\"#DejaVuSans-100\"/>\r\n      </g>\r\n     </g>\r\n    </g>\r\n    <g id=\"ytick_6\">\r\n     <g id=\"text_14\">\r\n      <!-- dwellings_1_units_detached -->\r\n      <g style=\"fill:#333333;\" transform=\"translate(243.19875 385.189554)scale(0.13 -0.13)\">\r\n       <use xlink:href=\"#DejaVuSans-100\"/>\r\n       <use x=\"63.476562\" xlink:href=\"#DejaVuSans-119\"/>\r\n       <use x=\"145.263672\" xlink:href=\"#DejaVuSans-101\"/>\r\n       <use x=\"206.787109\" xlink:href=\"#DejaVuSans-108\"/>\r\n       <use x=\"234.570312\" xlink:href=\"#DejaVuSans-108\"/>\r\n       <use x=\"262.353516\" xlink:href=\"#DejaVuSans-105\"/>\r\n       <use x=\"290.136719\" xlink:href=\"#DejaVuSans-110\"/>\r\n       <use x=\"353.515625\" xlink:href=\"#DejaVuSans-103\"/>\r\n       <use x=\"416.992188\" xlink:href=\"#DejaVuSans-115\"/>\r\n       <use x=\"469.091797\" xlink:href=\"#DejaVuSans-95\"/>\r\n       <use x=\"519.091797\" xlink:href=\"#DejaVuSans-49\"/>\r\n       <use x=\"582.714844\" xlink:href=\"#DejaVuSans-95\"/>\r\n       <use x=\"632.714844\" xlink:href=\"#DejaVuSans-117\"/>\r\n       <use x=\"696.09375\" xlink:href=\"#DejaVuSans-110\"/>\r\n       <use x=\"759.472656\" xlink:href=\"#DejaVuSans-105\"/>\r\n       <use x=\"787.255859\" xlink:href=\"#DejaVuSans-116\"/>\r\n       <use x=\"826.464844\" xlink:href=\"#DejaVuSans-115\"/>\r\n       <use x=\"878.564453\" xlink:href=\"#DejaVuSans-95\"/>\r\n       <use x=\"928.564453\" xlink:href=\"#DejaVuSans-100\"/>\r\n       <use x=\"992.041016\" xlink:href=\"#DejaVuSans-101\"/>\r\n       <use x=\"1053.564453\" xlink:href=\"#DejaVuSans-116\"/>\r\n       <use x=\"1092.773438\" xlink:href=\"#DejaVuSans-97\"/>\r\n       <use x=\"1154.052734\" xlink:href=\"#DejaVuSans-99\"/>\r\n       <use x=\"1209.033203\" xlink:href=\"#DejaVuSans-104\"/>\r\n       <use x=\"1272.412109\" xlink:href=\"#DejaVuSans-101\"/>\r\n       <use x=\"1333.935547\" xlink:href=\"#DejaVuSans-100\"/>\r\n      </g>\r\n     </g>\r\n    </g>\r\n    <g id=\"ytick_7\">\r\n     <g id=\"text_15\">\r\n      <!-- poverty_perc -->\r\n      <g style=\"fill:#333333;\" transform=\"translate(339.876094 360.417344)scale(0.13 -0.13)\">\r\n       <use xlink:href=\"#DejaVuSans-112\"/>\r\n       <use x=\"63.476562\" xlink:href=\"#DejaVuSans-111\"/>\r\n       <use x=\"124.658203\" xlink:href=\"#DejaVuSans-118\"/>\r\n       <use x=\"183.837891\" xlink:href=\"#DejaVuSans-101\"/>\r\n       <use x=\"245.361328\" xlink:href=\"#DejaVuSans-114\"/>\r\n       <use x=\"286.474609\" xlink:href=\"#DejaVuSans-116\"/>\r\n       <use x=\"325.683594\" xlink:href=\"#DejaVuSans-121\"/>\r\n       <use x=\"384.863281\" xlink:href=\"#DejaVuSans-95\"/>\r\n       <use x=\"434.863281\" xlink:href=\"#DejaVuSans-112\"/>\r\n       <use x=\"498.339844\" xlink:href=\"#DejaVuSans-101\"/>\r\n       <use x=\"559.863281\" xlink:href=\"#DejaVuSans-114\"/>\r\n       <use x=\"598.726562\" xlink:href=\"#DejaVuSans-99\"/>\r\n      </g>\r\n     </g>\r\n    </g>\r\n    <g id=\"ytick_8\">\r\n     <g id=\"text_16\">\r\n      <!-- no_car -->\r\n      <g style=\"fill:#333333;\" transform=\"translate(381.711719 335.825915)scale(0.13 -0.13)\">\r\n       <use xlink:href=\"#DejaVuSans-110\"/>\r\n       <use x=\"63.378906\" xlink:href=\"#DejaVuSans-111\"/>\r\n       <use x=\"124.560547\" xlink:href=\"#DejaVuSans-95\"/>\r\n       <use x=\"174.560547\" xlink:href=\"#DejaVuSans-99\"/>\r\n       <use x=\"229.541016\" xlink:href=\"#DejaVuSans-97\"/>\r\n       <use x=\"290.820312\" xlink:href=\"#DejaVuSans-114\"/>\r\n      </g>\r\n     </g>\r\n    </g>\r\n    <g id=\"ytick_9\">\r\n     <g id=\"text_17\">\r\n      <!-- dwellings_1_units_attached -->\r\n      <g style=\"fill:#333333;\" transform=\"translate(246.387812 311.415268)scale(0.13 -0.13)\">\r\n       <use xlink:href=\"#DejaVuSans-100\"/>\r\n       <use x=\"63.476562\" xlink:href=\"#DejaVuSans-119\"/>\r\n       <use x=\"145.263672\" xlink:href=\"#DejaVuSans-101\"/>\r\n       <use x=\"206.787109\" xlink:href=\"#DejaVuSans-108\"/>\r\n       <use x=\"234.570312\" xlink:href=\"#DejaVuSans-108\"/>\r\n       <use x=\"262.353516\" xlink:href=\"#DejaVuSans-105\"/>\r\n       <use x=\"290.136719\" xlink:href=\"#DejaVuSans-110\"/>\r\n       <use x=\"353.515625\" xlink:href=\"#DejaVuSans-103\"/>\r\n       <use x=\"416.992188\" xlink:href=\"#DejaVuSans-115\"/>\r\n       <use x=\"469.091797\" xlink:href=\"#DejaVuSans-95\"/>\r\n       <use x=\"519.091797\" xlink:href=\"#DejaVuSans-49\"/>\r\n       <use x=\"582.714844\" xlink:href=\"#DejaVuSans-95\"/>\r\n       <use x=\"632.714844\" xlink:href=\"#DejaVuSans-117\"/>\r\n       <use x=\"696.09375\" xlink:href=\"#DejaVuSans-110\"/>\r\n       <use x=\"759.472656\" xlink:href=\"#DejaVuSans-105\"/>\r\n       <use x=\"787.255859\" xlink:href=\"#DejaVuSans-116\"/>\r\n       <use x=\"826.464844\" xlink:href=\"#DejaVuSans-115\"/>\r\n       <use x=\"878.564453\" xlink:href=\"#DejaVuSans-95\"/>\r\n       <use x=\"928.564453\" xlink:href=\"#DejaVuSans-97\"/>\r\n       <use x=\"989.84375\" xlink:href=\"#DejaVuSans-116\"/>\r\n       <use x=\"1029.052734\" xlink:href=\"#DejaVuSans-116\"/>\r\n       <use x=\"1068.261719\" xlink:href=\"#DejaVuSans-97\"/>\r\n       <use x=\"1129.541016\" xlink:href=\"#DejaVuSans-99\"/>\r\n       <use x=\"1184.521484\" xlink:href=\"#DejaVuSans-104\"/>\r\n       <use x=\"1247.900391\" xlink:href=\"#DejaVuSans-101\"/>\r\n       <use x=\"1309.423828\" xlink:href=\"#DejaVuSans-100\"/>\r\n      </g>\r\n     </g>\r\n    </g>\r\n    <g id=\"ytick_10\">\r\n     <g id=\"text_18\">\r\n      <!-- dwellings_3_to_4_units -->\r\n      <g style=\"fill:#333333;\" transform=\"translate(276.330469 286.823839)scale(0.13 -0.13)\">\r\n       <defs>\r\n        <path d=\"M 37.796875 64.3125 \r\nL 12.890625 25.390625 \r\nL 37.796875 25.390625 \r\nz\r\nM 35.203125 72.90625 \r\nL 47.609375 72.90625 \r\nL 47.609375 25.390625 \r\nL 58.015625 25.390625 \r\nL 58.015625 17.1875 \r\nL 47.609375 17.1875 \r\nL 47.609375 0 \r\nL 37.796875 0 \r\nL 37.796875 17.1875 \r\nL 4.890625 17.1875 \r\nL 4.890625 26.703125 \r\nz\r\n\" id=\"DejaVuSans-52\"/>\r\n       </defs>\r\n       <use xlink:href=\"#DejaVuSans-100\"/>\r\n       <use x=\"63.476562\" xlink:href=\"#DejaVuSans-119\"/>\r\n       <use x=\"145.263672\" xlink:href=\"#DejaVuSans-101\"/>\r\n       <use x=\"206.787109\" xlink:href=\"#DejaVuSans-108\"/>\r\n       <use x=\"234.570312\" xlink:href=\"#DejaVuSans-108\"/>\r\n       <use x=\"262.353516\" xlink:href=\"#DejaVuSans-105\"/>\r\n       <use x=\"290.136719\" xlink:href=\"#DejaVuSans-110\"/>\r\n       <use x=\"353.515625\" xlink:href=\"#DejaVuSans-103\"/>\r\n       <use x=\"416.992188\" xlink:href=\"#DejaVuSans-115\"/>\r\n       <use x=\"469.091797\" xlink:href=\"#DejaVuSans-95\"/>\r\n       <use x=\"519.091797\" xlink:href=\"#DejaVuSans-51\"/>\r\n       <use x=\"582.714844\" xlink:href=\"#DejaVuSans-95\"/>\r\n       <use x=\"632.714844\" xlink:href=\"#DejaVuSans-116\"/>\r\n       <use x=\"671.923828\" xlink:href=\"#DejaVuSans-111\"/>\r\n       <use x=\"733.105469\" xlink:href=\"#DejaVuSans-95\"/>\r\n       <use x=\"783.105469\" xlink:href=\"#DejaVuSans-52\"/>\r\n       <use x=\"846.728516\" xlink:href=\"#DejaVuSans-95\"/>\r\n       <use x=\"896.728516\" xlink:href=\"#DejaVuSans-117\"/>\r\n       <use x=\"960.107422\" xlink:href=\"#DejaVuSans-110\"/>\r\n       <use x=\"1023.486328\" xlink:href=\"#DejaVuSans-105\"/>\r\n       <use x=\"1051.269531\" xlink:href=\"#DejaVuSans-116\"/>\r\n       <use x=\"1090.478516\" xlink:href=\"#DejaVuSans-115\"/>\r\n      </g>\r\n     </g>\r\n    </g>\r\n    <g id=\"ytick_11\">\r\n     <g id=\"text_19\">\r\n      <!-- housing_built_2000_to_2004 -->\r\n      <g style=\"fill:#333333;\" transform=\"translate(239.524219 262.232411)scale(0.13 -0.13)\">\r\n       <use xlink:href=\"#DejaVuSans-104\"/>\r\n       <use x=\"63.378906\" xlink:href=\"#DejaVuSans-111\"/>\r\n       <use x=\"124.560547\" xlink:href=\"#DejaVuSans-117\"/>\r\n       <use x=\"187.939453\" xlink:href=\"#DejaVuSans-115\"/>\r\n       <use x=\"240.039062\" xlink:href=\"#DejaVuSans-105\"/>\r\n       <use x=\"267.822266\" xlink:href=\"#DejaVuSans-110\"/>\r\n       <use x=\"331.201172\" xlink:href=\"#DejaVuSans-103\"/>\r\n       <use x=\"394.677734\" xlink:href=\"#DejaVuSans-95\"/>\r\n       <use x=\"444.677734\" xlink:href=\"#DejaVuSans-98\"/>\r\n       <use x=\"508.154297\" xlink:href=\"#DejaVuSans-117\"/>\r\n       <use x=\"571.533203\" xlink:href=\"#DejaVuSans-105\"/>\r\n       <use x=\"599.316406\" xlink:href=\"#DejaVuSans-108\"/>\r\n       <use x=\"627.099609\" xlink:href=\"#DejaVuSans-116\"/>\r\n       <use x=\"666.308594\" xlink:href=\"#DejaVuSans-95\"/>\r\n       <use x=\"716.308594\" xlink:href=\"#DejaVuSans-50\"/>\r\n       <use x=\"779.931641\" xlink:href=\"#DejaVuSans-48\"/>\r\n       <use x=\"843.554688\" xlink:href=\"#DejaVuSans-48\"/>\r\n       <use x=\"907.177734\" xlink:href=\"#DejaVuSans-48\"/>\r\n       <use x=\"970.800781\" xlink:href=\"#DejaVuSans-95\"/>\r\n       <use x=\"1020.800781\" xlink:href=\"#DejaVuSans-116\"/>\r\n       <use x=\"1060.009766\" xlink:href=\"#DejaVuSans-111\"/>\r\n       <use x=\"1121.191406\" xlink:href=\"#DejaVuSans-95\"/>\r\n       <use x=\"1171.191406\" xlink:href=\"#DejaVuSans-50\"/>\r\n       <use x=\"1234.814453\" xlink:href=\"#DejaVuSans-48\"/>\r\n       <use x=\"1298.4375\" xlink:href=\"#DejaVuSans-48\"/>\r\n       <use x=\"1362.060547\" xlink:href=\"#DejaVuSans-52\"/>\r\n      </g>\r\n     </g>\r\n    </g>\r\n    <g id=\"ytick_12\">\r\n     <g id=\"text_20\">\r\n      <!-- walked_to_work -->\r\n      <g style=\"fill:#333333;\" transform=\"translate(321.836563 237.640982)scale(0.13 -0.13)\">\r\n       <defs>\r\n        <path d=\"M 9.078125 75.984375 \r\nL 18.109375 75.984375 \r\nL 18.109375 31.109375 \r\nL 44.921875 54.6875 \r\nL 56.390625 54.6875 \r\nL 27.390625 29.109375 \r\nL 57.625 0 \r\nL 45.90625 0 \r\nL 18.109375 26.703125 \r\nL 18.109375 0 \r\nL 9.078125 0 \r\nz\r\n\" id=\"DejaVuSans-107\"/>\r\n       </defs>\r\n       <use xlink:href=\"#DejaVuSans-119\"/>\r\n       <use x=\"81.787109\" xlink:href=\"#DejaVuSans-97\"/>\r\n       <use x=\"143.066406\" xlink:href=\"#DejaVuSans-108\"/>\r\n       <use x=\"170.849609\" xlink:href=\"#DejaVuSans-107\"/>\r\n       <use x=\"225.134766\" xlink:href=\"#DejaVuSans-101\"/>\r\n       <use x=\"286.658203\" xlink:href=\"#DejaVuSans-100\"/>\r\n       <use x=\"350.134766\" xlink:href=\"#DejaVuSans-95\"/>\r\n       <use x=\"400.134766\" xlink:href=\"#DejaVuSans-116\"/>\r\n       <use x=\"439.34375\" xlink:href=\"#DejaVuSans-111\"/>\r\n       <use x=\"500.525391\" xlink:href=\"#DejaVuSans-95\"/>\r\n       <use x=\"550.525391\" xlink:href=\"#DejaVuSans-119\"/>\r\n       <use x=\"632.3125\" xlink:href=\"#DejaVuSans-111\"/>\r\n       <use x=\"693.494141\" xlink:href=\"#DejaVuSans-114\"/>\r\n       <use x=\"734.607422\" xlink:href=\"#DejaVuSans-107\"/>\r\n      </g>\r\n     </g>\r\n    </g>\r\n    <g id=\"ytick_13\">\r\n     <g id=\"text_21\">\r\n      <!-- renter_occupied_housing_units_paying_cash_median_gross_rent -->\r\n      <g style=\"fill:#333333;\" transform=\"translate(7.2 213.049554)scale(0.13 -0.13)\">\r\n       <use xlink:href=\"#DejaVuSans-114\"/>\r\n       <use x=\"38.863281\" xlink:href=\"#DejaVuSans-101\"/>\r\n       <use x=\"100.386719\" xlink:href=\"#DejaVuSans-110\"/>\r\n       <use x=\"163.765625\" xlink:href=\"#DejaVuSans-116\"/>\r\n       <use x=\"202.974609\" xlink:href=\"#DejaVuSans-101\"/>\r\n       <use x=\"264.498047\" xlink:href=\"#DejaVuSans-114\"/>\r\n       <use x=\"305.611328\" xlink:href=\"#DejaVuSans-95\"/>\r\n       <use x=\"355.611328\" xlink:href=\"#DejaVuSans-111\"/>\r\n       <use x=\"416.792969\" xlink:href=\"#DejaVuSans-99\"/>\r\n       <use x=\"471.773438\" xlink:href=\"#DejaVuSans-99\"/>\r\n       <use x=\"526.753906\" xlink:href=\"#DejaVuSans-117\"/>\r\n       <use x=\"590.132812\" xlink:href=\"#DejaVuSans-112\"/>\r\n       <use x=\"653.609375\" xlink:href=\"#DejaVuSans-105\"/>\r\n       <use x=\"681.392578\" xlink:href=\"#DejaVuSans-101\"/>\r\n       <use x=\"742.916016\" xlink:href=\"#DejaVuSans-100\"/>\r\n       <use x=\"806.392578\" xlink:href=\"#DejaVuSans-95\"/>\r\n       <use x=\"856.392578\" xlink:href=\"#DejaVuSans-104\"/>\r\n       <use x=\"919.771484\" xlink:href=\"#DejaVuSans-111\"/>\r\n       <use x=\"980.953125\" xlink:href=\"#DejaVuSans-117\"/>\r\n       <use x=\"1044.332031\" xlink:href=\"#DejaVuSans-115\"/>\r\n       <use x=\"1096.431641\" xlink:href=\"#DejaVuSans-105\"/>\r\n       <use x=\"1124.214844\" xlink:href=\"#DejaVuSans-110\"/>\r\n       <use x=\"1187.59375\" xlink:href=\"#DejaVuSans-103\"/>\r\n       <use x=\"1251.070312\" xlink:href=\"#DejaVuSans-95\"/>\r\n       <use x=\"1301.070312\" xlink:href=\"#DejaVuSans-117\"/>\r\n       <use x=\"1364.449219\" xlink:href=\"#DejaVuSans-110\"/>\r\n       <use x=\"1427.828125\" xlink:href=\"#DejaVuSans-105\"/>\r\n       <use x=\"1455.611328\" xlink:href=\"#DejaVuSans-116\"/>\r\n       <use x=\"1494.820312\" xlink:href=\"#DejaVuSans-115\"/>\r\n       <use x=\"1546.919922\" xlink:href=\"#DejaVuSans-95\"/>\r\n       <use x=\"1596.919922\" xlink:href=\"#DejaVuSans-112\"/>\r\n       <use x=\"1660.396484\" xlink:href=\"#DejaVuSans-97\"/>\r\n       <use x=\"1721.675781\" xlink:href=\"#DejaVuSans-121\"/>\r\n       <use x=\"1780.855469\" xlink:href=\"#DejaVuSans-105\"/>\r\n       <use x=\"1808.638672\" xlink:href=\"#DejaVuSans-110\"/>\r\n       <use x=\"1872.017578\" xlink:href=\"#DejaVuSans-103\"/>\r\n       <use x=\"1935.494141\" xlink:href=\"#DejaVuSans-95\"/>\r\n       <use x=\"1985.494141\" xlink:href=\"#DejaVuSans-99\"/>\r\n       <use x=\"2040.474609\" xlink:href=\"#DejaVuSans-97\"/>\r\n       <use x=\"2101.753906\" xlink:href=\"#DejaVuSans-115\"/>\r\n       <use x=\"2153.853516\" xlink:href=\"#DejaVuSans-104\"/>\r\n       <use x=\"2217.232422\" xlink:href=\"#DejaVuSans-95\"/>\r\n       <use x=\"2267.232422\" xlink:href=\"#DejaVuSans-109\"/>\r\n       <use x=\"2364.644531\" xlink:href=\"#DejaVuSans-101\"/>\r\n       <use x=\"2426.167969\" xlink:href=\"#DejaVuSans-100\"/>\r\n       <use x=\"2489.644531\" xlink:href=\"#DejaVuSans-105\"/>\r\n       <use x=\"2517.427734\" xlink:href=\"#DejaVuSans-97\"/>\r\n       <use x=\"2578.707031\" xlink:href=\"#DejaVuSans-110\"/>\r\n       <use x=\"2642.085938\" xlink:href=\"#DejaVuSans-95\"/>\r\n       <use x=\"2692.085938\" xlink:href=\"#DejaVuSans-103\"/>\r\n       <use x=\"2755.5625\" xlink:href=\"#DejaVuSans-114\"/>\r\n       <use x=\"2794.425781\" xlink:href=\"#DejaVuSans-111\"/>\r\n       <use x=\"2855.607422\" xlink:href=\"#DejaVuSans-115\"/>\r\n       <use x=\"2907.707031\" xlink:href=\"#DejaVuSans-115\"/>\r\n       <use x=\"2959.806641\" xlink:href=\"#DejaVuSans-95\"/>\r\n       <use x=\"3009.806641\" xlink:href=\"#DejaVuSans-114\"/>\r\n       <use x=\"3048.669922\" xlink:href=\"#DejaVuSans-101\"/>\r\n       <use x=\"3110.193359\" xlink:href=\"#DejaVuSans-110\"/>\r\n       <use x=\"3173.572266\" xlink:href=\"#DejaVuSans-116\"/>\r\n      </g>\r\n     </g>\r\n    </g>\r\n    <g id=\"ytick_14\">\r\n     <g id=\"text_22\">\r\n      <!-- male_45_64_graduate_degree -->\r\n      <g style=\"fill:#333333;\" transform=\"translate(228.86625 188.458125)scale(0.13 -0.13)\">\r\n       <defs>\r\n        <path d=\"M 10.796875 72.90625 \r\nL 49.515625 72.90625 \r\nL 49.515625 64.59375 \r\nL 19.828125 64.59375 \r\nL 19.828125 46.734375 \r\nQ 21.96875 47.46875 24.109375 47.828125 \r\nQ 26.265625 48.1875 28.421875 48.1875 \r\nQ 40.625 48.1875 47.75 41.5 \r\nQ 54.890625 34.8125 54.890625 23.390625 \r\nQ 54.890625 11.625 47.5625 5.09375 \r\nQ 40.234375 -1.421875 26.90625 -1.421875 \r\nQ 22.3125 -1.421875 17.546875 -0.640625 \r\nQ 12.796875 0.140625 7.71875 1.703125 \r\nL 7.71875 11.625 \r\nQ 12.109375 9.234375 16.796875 8.0625 \r\nQ 21.484375 6.890625 26.703125 6.890625 \r\nQ 35.15625 6.890625 40.078125 11.328125 \r\nQ 45.015625 15.765625 45.015625 23.390625 \r\nQ 45.015625 31 40.078125 35.4375 \r\nQ 35.15625 39.890625 26.703125 39.890625 \r\nQ 22.75 39.890625 18.8125 39.015625 \r\nQ 14.890625 38.140625 10.796875 36.28125 \r\nz\r\n\" id=\"DejaVuSans-53\"/>\r\n       </defs>\r\n       <use xlink:href=\"#DejaVuSans-109\"/>\r\n       <use x=\"97.412109\" xlink:href=\"#DejaVuSans-97\"/>\r\n       <use x=\"158.691406\" xlink:href=\"#DejaVuSans-108\"/>\r\n       <use x=\"186.474609\" xlink:href=\"#DejaVuSans-101\"/>\r\n       <use x=\"247.998047\" xlink:href=\"#DejaVuSans-95\"/>\r\n       <use x=\"297.998047\" xlink:href=\"#DejaVuSans-52\"/>\r\n       <use x=\"361.621094\" xlink:href=\"#DejaVuSans-53\"/>\r\n       <use x=\"425.244141\" xlink:href=\"#DejaVuSans-95\"/>\r\n       <use x=\"475.244141\" xlink:href=\"#DejaVuSans-54\"/>\r\n       <use x=\"538.867188\" xlink:href=\"#DejaVuSans-52\"/>\r\n       <use x=\"602.490234\" xlink:href=\"#DejaVuSans-95\"/>\r\n       <use x=\"652.490234\" xlink:href=\"#DejaVuSans-103\"/>\r\n       <use x=\"715.966797\" xlink:href=\"#DejaVuSans-114\"/>\r\n       <use x=\"757.080078\" xlink:href=\"#DejaVuSans-97\"/>\r\n       <use x=\"818.359375\" xlink:href=\"#DejaVuSans-100\"/>\r\n       <use x=\"881.835938\" xlink:href=\"#DejaVuSans-117\"/>\r\n       <use x=\"945.214844\" xlink:href=\"#DejaVuSans-97\"/>\r\n       <use x=\"1006.494141\" xlink:href=\"#DejaVuSans-116\"/>\r\n       <use x=\"1045.703125\" xlink:href=\"#DejaVuSans-101\"/>\r\n       <use x=\"1107.226562\" xlink:href=\"#DejaVuSans-95\"/>\r\n       <use x=\"1157.226562\" xlink:href=\"#DejaVuSans-100\"/>\r\n       <use x=\"1220.703125\" xlink:href=\"#DejaVuSans-101\"/>\r\n       <use x=\"1282.226562\" xlink:href=\"#DejaVuSans-103\"/>\r\n       <use x=\"1345.703125\" xlink:href=\"#DejaVuSans-114\"/>\r\n       <use x=\"1384.566406\" xlink:href=\"#DejaVuSans-101\"/>\r\n       <use x=\"1446.089844\" xlink:href=\"#DejaVuSans-101\"/>\r\n      </g>\r\n     </g>\r\n    </g>\r\n    <g id=\"ytick_15\">\r\n     <g id=\"text_23\">\r\n      <!-- median_age -->\r\n      <g style=\"fill:#333333;\" transform=\"translate(345.413281 163.866696)scale(0.13 -0.13)\">\r\n       <use xlink:href=\"#DejaVuSans-109\"/>\r\n       <use x=\"97.412109\" xlink:href=\"#DejaVuSans-101\"/>\r\n       <use x=\"158.935547\" xlink:href=\"#DejaVuSans-100\"/>\r\n       <use x=\"222.412109\" xlink:href=\"#DejaVuSans-105\"/>\r\n       <use x=\"250.195312\" xlink:href=\"#DejaVuSans-97\"/>\r\n       <use x=\"311.474609\" xlink:href=\"#DejaVuSans-110\"/>\r\n       <use x=\"374.853516\" xlink:href=\"#DejaVuSans-95\"/>\r\n       <use x=\"424.853516\" xlink:href=\"#DejaVuSans-97\"/>\r\n       <use x=\"486.132812\" xlink:href=\"#DejaVuSans-103\"/>\r\n       <use x=\"549.609375\" xlink:href=\"#DejaVuSans-101\"/>\r\n      </g>\r\n     </g>\r\n    </g>\r\n    <g id=\"ytick_16\">\r\n     <g id=\"text_24\">\r\n      <!-- aged_65_or_older_perc -->\r\n      <g style=\"fill:#333333;\" transform=\"translate(274.937031 139.275268)scale(0.13 -0.13)\">\r\n       <use xlink:href=\"#DejaVuSans-97\"/>\r\n       <use x=\"61.279297\" xlink:href=\"#DejaVuSans-103\"/>\r\n       <use x=\"124.755859\" xlink:href=\"#DejaVuSans-101\"/>\r\n       <use x=\"186.279297\" xlink:href=\"#DejaVuSans-100\"/>\r\n       <use x=\"249.755859\" xlink:href=\"#DejaVuSans-95\"/>\r\n       <use x=\"299.755859\" xlink:href=\"#DejaVuSans-54\"/>\r\n       <use x=\"363.378906\" xlink:href=\"#DejaVuSans-53\"/>\r\n       <use x=\"427.001953\" xlink:href=\"#DejaVuSans-95\"/>\r\n       <use x=\"477.001953\" xlink:href=\"#DejaVuSans-111\"/>\r\n       <use x=\"538.183594\" xlink:href=\"#DejaVuSans-114\"/>\r\n       <use x=\"579.296875\" xlink:href=\"#DejaVuSans-95\"/>\r\n       <use x=\"629.296875\" xlink:href=\"#DejaVuSans-111\"/>\r\n       <use x=\"690.478516\" xlink:href=\"#DejaVuSans-108\"/>\r\n       <use x=\"718.261719\" xlink:href=\"#DejaVuSans-100\"/>\r\n       <use x=\"781.738281\" xlink:href=\"#DejaVuSans-101\"/>\r\n       <use x=\"843.261719\" xlink:href=\"#DejaVuSans-114\"/>\r\n       <use x=\"884.375\" xlink:href=\"#DejaVuSans-95\"/>\r\n       <use x=\"934.375\" xlink:href=\"#DejaVuSans-112\"/>\r\n       <use x=\"997.851562\" xlink:href=\"#DejaVuSans-101\"/>\r\n       <use x=\"1059.375\" xlink:href=\"#DejaVuSans-114\"/>\r\n       <use x=\"1098.238281\" xlink:href=\"#DejaVuSans-99\"/>\r\n      </g>\r\n     </g>\r\n    </g>\r\n    <g id=\"ytick_17\">\r\n     <g id=\"text_25\">\r\n      <!-- dwellings_20_to_49_units -->\r\n      <g style=\"fill:#333333;\" transform=\"translate(259.787969 114.683839)scale(0.13 -0.13)\">\r\n       <defs>\r\n        <path d=\"M 10.984375 1.515625 \r\nL 10.984375 10.5 \r\nQ 14.703125 8.734375 18.5 7.8125 \r\nQ 22.3125 6.890625 25.984375 6.890625 \r\nQ 35.75 6.890625 40.890625 13.453125 \r\nQ 46.046875 20.015625 46.78125 33.40625 \r\nQ 43.953125 29.203125 39.59375 26.953125 \r\nQ 35.25 24.703125 29.984375 24.703125 \r\nQ 19.046875 24.703125 12.671875 31.3125 \r\nQ 6.296875 37.9375 6.296875 49.421875 \r\nQ 6.296875 60.640625 12.9375 67.421875 \r\nQ 19.578125 74.21875 30.609375 74.21875 \r\nQ 43.265625 74.21875 49.921875 64.515625 \r\nQ 56.59375 54.828125 56.59375 36.375 \r\nQ 56.59375 19.140625 48.40625 8.859375 \r\nQ 40.234375 -1.421875 26.421875 -1.421875 \r\nQ 22.703125 -1.421875 18.890625 -0.6875 \r\nQ 15.09375 0.046875 10.984375 1.515625 \r\nz\r\nM 30.609375 32.421875 \r\nQ 37.25 32.421875 41.125 36.953125 \r\nQ 45.015625 41.5 45.015625 49.421875 \r\nQ 45.015625 57.28125 41.125 61.84375 \r\nQ 37.25 66.40625 30.609375 66.40625 \r\nQ 23.96875 66.40625 20.09375 61.84375 \r\nQ 16.21875 57.28125 16.21875 49.421875 \r\nQ 16.21875 41.5 20.09375 36.953125 \r\nQ 23.96875 32.421875 30.609375 32.421875 \r\nz\r\n\" id=\"DejaVuSans-57\"/>\r\n       </defs>\r\n       <use xlink:href=\"#DejaVuSans-100\"/>\r\n       <use x=\"63.476562\" xlink:href=\"#DejaVuSans-119\"/>\r\n       <use x=\"145.263672\" xlink:href=\"#DejaVuSans-101\"/>\r\n       <use x=\"206.787109\" xlink:href=\"#DejaVuSans-108\"/>\r\n       <use x=\"234.570312\" xlink:href=\"#DejaVuSans-108\"/>\r\n       <use x=\"262.353516\" xlink:href=\"#DejaVuSans-105\"/>\r\n       <use x=\"290.136719\" xlink:href=\"#DejaVuSans-110\"/>\r\n       <use x=\"353.515625\" xlink:href=\"#DejaVuSans-103\"/>\r\n       <use x=\"416.992188\" xlink:href=\"#DejaVuSans-115\"/>\r\n       <use x=\"469.091797\" xlink:href=\"#DejaVuSans-95\"/>\r\n       <use x=\"519.091797\" xlink:href=\"#DejaVuSans-50\"/>\r\n       <use x=\"582.714844\" xlink:href=\"#DejaVuSans-48\"/>\r\n       <use x=\"646.337891\" xlink:href=\"#DejaVuSans-95\"/>\r\n       <use x=\"696.337891\" xlink:href=\"#DejaVuSans-116\"/>\r\n       <use x=\"735.546875\" xlink:href=\"#DejaVuSans-111\"/>\r\n       <use x=\"796.728516\" xlink:href=\"#DejaVuSans-95\"/>\r\n       <use x=\"846.728516\" xlink:href=\"#DejaVuSans-52\"/>\r\n       <use x=\"910.351562\" xlink:href=\"#DejaVuSans-57\"/>\r\n       <use x=\"973.974609\" xlink:href=\"#DejaVuSans-95\"/>\r\n       <use x=\"1023.974609\" xlink:href=\"#DejaVuSans-117\"/>\r\n       <use x=\"1087.353516\" xlink:href=\"#DejaVuSans-110\"/>\r\n       <use x=\"1150.732422\" xlink:href=\"#DejaVuSans-105\"/>\r\n       <use x=\"1178.515625\" xlink:href=\"#DejaVuSans-116\"/>\r\n       <use x=\"1217.724609\" xlink:href=\"#DejaVuSans-115\"/>\r\n      </g>\r\n     </g>\r\n    </g>\r\n    <g id=\"ytick_18\">\r\n     <g id=\"text_26\">\r\n      <!-- less_than_high_school_graduate_perc -->\r\n      <g style=\"fill:#333333;\" transform=\"translate(180.077656 90.092411)scale(0.13 -0.13)\">\r\n       <use xlink:href=\"#DejaVuSans-108\"/>\r\n       <use x=\"27.783203\" xlink:href=\"#DejaVuSans-101\"/>\r\n       <use x=\"89.306641\" xlink:href=\"#DejaVuSans-115\"/>\r\n       <use x=\"141.40625\" xlink:href=\"#DejaVuSans-115\"/>\r\n       <use x=\"193.505859\" xlink:href=\"#DejaVuSans-95\"/>\r\n       <use x=\"243.505859\" xlink:href=\"#DejaVuSans-116\"/>\r\n       <use x=\"282.714844\" xlink:href=\"#DejaVuSans-104\"/>\r\n       <use x=\"346.09375\" xlink:href=\"#DejaVuSans-97\"/>\r\n       <use x=\"407.373047\" xlink:href=\"#DejaVuSans-110\"/>\r\n       <use x=\"470.751953\" xlink:href=\"#DejaVuSans-95\"/>\r\n       <use x=\"520.751953\" xlink:href=\"#DejaVuSans-104\"/>\r\n       <use x=\"584.130859\" xlink:href=\"#DejaVuSans-105\"/>\r\n       <use x=\"611.914062\" xlink:href=\"#DejaVuSans-103\"/>\r\n       <use x=\"675.390625\" xlink:href=\"#DejaVuSans-104\"/>\r\n       <use x=\"738.769531\" xlink:href=\"#DejaVuSans-95\"/>\r\n       <use x=\"788.769531\" xlink:href=\"#DejaVuSans-115\"/>\r\n       <use x=\"840.869141\" xlink:href=\"#DejaVuSans-99\"/>\r\n       <use x=\"895.849609\" xlink:href=\"#DejaVuSans-104\"/>\r\n       <use x=\"959.228516\" xlink:href=\"#DejaVuSans-111\"/>\r\n       <use x=\"1020.410156\" xlink:href=\"#DejaVuSans-111\"/>\r\n       <use x=\"1081.591797\" xlink:href=\"#DejaVuSans-108\"/>\r\n       <use x=\"1109.375\" xlink:href=\"#DejaVuSans-95\"/>\r\n       <use x=\"1159.375\" xlink:href=\"#DejaVuSans-103\"/>\r\n       <use x=\"1222.851562\" xlink:href=\"#DejaVuSans-114\"/>\r\n       <use x=\"1263.964844\" xlink:href=\"#DejaVuSans-97\"/>\r\n       <use x=\"1325.244141\" xlink:href=\"#DejaVuSans-100\"/>\r\n       <use x=\"1388.720703\" xlink:href=\"#DejaVuSans-117\"/>\r\n       <use x=\"1452.099609\" xlink:href=\"#DejaVuSans-97\"/>\r\n       <use x=\"1513.378906\" xlink:href=\"#DejaVuSans-116\"/>\r\n       <use x=\"1552.587891\" xlink:href=\"#DejaVuSans-101\"/>\r\n       <use x=\"1614.111328\" xlink:href=\"#DejaVuSans-95\"/>\r\n       <use x=\"1664.111328\" xlink:href=\"#DejaVuSans-112\"/>\r\n       <use x=\"1727.587891\" xlink:href=\"#DejaVuSans-101\"/>\r\n       <use x=\"1789.111328\" xlink:href=\"#DejaVuSans-114\"/>\r\n       <use x=\"1827.974609\" xlink:href=\"#DejaVuSans-99\"/>\r\n      </g>\r\n     </g>\r\n    </g>\r\n    <g id=\"ytick_19\">\r\n     <g id=\"text_27\">\r\n      <!-- median_year_structure_built -->\r\n      <g style=\"fill:#333333;\" transform=\"translate(239.830938 65.500982)scale(0.13 -0.13)\">\r\n       <use xlink:href=\"#DejaVuSans-109\"/>\r\n       <use x=\"97.412109\" xlink:href=\"#DejaVuSans-101\"/>\r\n       <use x=\"158.935547\" xlink:href=\"#DejaVuSans-100\"/>\r\n       <use x=\"222.412109\" xlink:href=\"#DejaVuSans-105\"/>\r\n       <use x=\"250.195312\" xlink:href=\"#DejaVuSans-97\"/>\r\n       <use x=\"311.474609\" xlink:href=\"#DejaVuSans-110\"/>\r\n       <use x=\"374.853516\" xlink:href=\"#DejaVuSans-95\"/>\r\n       <use x=\"424.853516\" xlink:href=\"#DejaVuSans-121\"/>\r\n       <use x=\"484.033203\" xlink:href=\"#DejaVuSans-101\"/>\r\n       <use x=\"545.556641\" xlink:href=\"#DejaVuSans-97\"/>\r\n       <use x=\"606.835938\" xlink:href=\"#DejaVuSans-114\"/>\r\n       <use x=\"647.949219\" xlink:href=\"#DejaVuSans-95\"/>\r\n       <use x=\"697.949219\" xlink:href=\"#DejaVuSans-115\"/>\r\n       <use x=\"750.048828\" xlink:href=\"#DejaVuSans-116\"/>\r\n       <use x=\"789.257812\" xlink:href=\"#DejaVuSans-114\"/>\r\n       <use x=\"830.371094\" xlink:href=\"#DejaVuSans-117\"/>\r\n       <use x=\"893.75\" xlink:href=\"#DejaVuSans-99\"/>\r\n       <use x=\"948.730469\" xlink:href=\"#DejaVuSans-116\"/>\r\n       <use x=\"987.939453\" xlink:href=\"#DejaVuSans-117\"/>\r\n       <use x=\"1051.318359\" xlink:href=\"#DejaVuSans-114\"/>\r\n       <use x=\"1090.181641\" xlink:href=\"#DejaVuSans-101\"/>\r\n       <use x=\"1151.705078\" xlink:href=\"#DejaVuSans-95\"/>\r\n       <use x=\"1201.705078\" xlink:href=\"#DejaVuSans-98\"/>\r\n       <use x=\"1265.181641\" xlink:href=\"#DejaVuSans-117\"/>\r\n       <use x=\"1328.560547\" xlink:href=\"#DejaVuSans-105\"/>\r\n       <use x=\"1356.34375\" xlink:href=\"#DejaVuSans-108\"/>\r\n       <use x=\"1384.126953\" xlink:href=\"#DejaVuSans-116\"/>\r\n      </g>\r\n     </g>\r\n    </g>\r\n    <g id=\"ytick_20\">\r\n     <g id=\"text_28\">\r\n      <!-- housing_built_1939_or_earlier -->\r\n      <g style=\"fill:#333333;\" transform=\"translate(230.485156 40.909554)scale(0.13 -0.13)\">\r\n       <use xlink:href=\"#DejaVuSans-104\"/>\r\n       <use x=\"63.378906\" xlink:href=\"#DejaVuSans-111\"/>\r\n       <use x=\"124.560547\" xlink:href=\"#DejaVuSans-117\"/>\r\n       <use x=\"187.939453\" xlink:href=\"#DejaVuSans-115\"/>\r\n       <use x=\"240.039062\" xlink:href=\"#DejaVuSans-105\"/>\r\n       <use x=\"267.822266\" xlink:href=\"#DejaVuSans-110\"/>\r\n       <use x=\"331.201172\" xlink:href=\"#DejaVuSans-103\"/>\r\n       <use x=\"394.677734\" xlink:href=\"#DejaVuSans-95\"/>\r\n       <use x=\"444.677734\" xlink:href=\"#DejaVuSans-98\"/>\r\n       <use x=\"508.154297\" xlink:href=\"#DejaVuSans-117\"/>\r\n       <use x=\"571.533203\" xlink:href=\"#DejaVuSans-105\"/>\r\n       <use x=\"599.316406\" xlink:href=\"#DejaVuSans-108\"/>\r\n       <use x=\"627.099609\" xlink:href=\"#DejaVuSans-116\"/>\r\n       <use x=\"666.308594\" xlink:href=\"#DejaVuSans-95\"/>\r\n       <use x=\"716.308594\" xlink:href=\"#DejaVuSans-49\"/>\r\n       <use x=\"779.931641\" xlink:href=\"#DejaVuSans-57\"/>\r\n       <use x=\"843.554688\" xlink:href=\"#DejaVuSans-51\"/>\r\n       <use x=\"907.177734\" xlink:href=\"#DejaVuSans-57\"/>\r\n       <use x=\"970.800781\" xlink:href=\"#DejaVuSans-95\"/>\r\n       <use x=\"1020.800781\" xlink:href=\"#DejaVuSans-111\"/>\r\n       <use x=\"1081.982422\" xlink:href=\"#DejaVuSans-114\"/>\r\n       <use x=\"1123.095703\" xlink:href=\"#DejaVuSans-95\"/>\r\n       <use x=\"1173.095703\" xlink:href=\"#DejaVuSans-101\"/>\r\n       <use x=\"1234.619141\" xlink:href=\"#DejaVuSans-97\"/>\r\n       <use x=\"1295.898438\" xlink:href=\"#DejaVuSans-114\"/>\r\n       <use x=\"1337.011719\" xlink:href=\"#DejaVuSans-108\"/>\r\n       <use x=\"1364.794922\" xlink:href=\"#DejaVuSans-105\"/>\r\n       <use x=\"1392.578125\" xlink:href=\"#DejaVuSans-101\"/>\r\n       <use x=\"1454.101562\" xlink:href=\"#DejaVuSans-114\"/>\r\n      </g>\r\n     </g>\r\n    </g>\r\n   </g>\r\n   <g id=\"patch_3\">\r\n    <path d=\"M 448.363594 527.799141 \r\nL 805.483594 527.799141 \r\n\" style=\"fill:none;stroke:#000000;stroke-linecap:square;stroke-linejoin:miter;stroke-width:0.8;\"/>\r\n   </g>\r\n   <image height=\"22\" id=\"imagee7c6d054d9\" transform=\"scale(1 -1)translate(0 -22)\" width=\"76\" x=\"577\" xlink:href=\"data:image/png;base64,\r\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\" y=\"-492\"/>\r\n   <image height=\"22\" id=\"imagea0fcdcb7c3\" transform=\"scale(1 -1)translate(0 -22)\" width=\"63\" x=\"589\" xlink:href=\"data:image/png;base64,\r\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\" y=\"-467\"/>\r\n   <image height=\"22\" id=\"image48c3b3bf77\" transform=\"scale(1 -1)translate(0 -22)\" width=\"55\" x=\"599\" xlink:href=\"data:image/png;base64,\r\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\" y=\"-443\"/>\r\n   <image height=\"22\" id=\"image9d1725faa4\" transform=\"scale(1 -1)translate(0 -22)\" width=\"70\" x=\"586\" xlink:href=\"data:image/png;base64,\r\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\" y=\"-418\"/>\r\n   <image height=\"22\" id=\"image00c4ab4d82\" transform=\"scale(1 -1)translate(0 -22)\" width=\"64\" x=\"605\" xlink:href=\"data:image/png;base64,\r\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\" y=\"-394\"/>\r\n   <image height=\"22\" id=\"image7cba79e0a0\" transform=\"scale(1 -1)translate(0 -22)\" width=\"84\" x=\"586\" xlink:href=\"data:image/png;base64,\r\niVBORw0KGgoAAAANSUhEUgAAAFQAAAAWCAYAAABe+7umAAAIdElEQVR4nM2Ye2wc1RXGf/fOY70PP3Ztr8MGkth5GIc8SIqbUCi0UBDhUSCqioLahvaPSkiFVioNUCgIRRQEqFVRWyGoSlGhQJumVEAAVRQKrU0hUPIEAyZxrPi1jtdee+3d2Zl7+8fswzYgqMHZftJoRnfu45zvfufcMyO01lQad535YihvWTsENJie+8NtL539cqVtmitkpQ14Qfy2KWeYaSnYpEyjPRsI/OM3K59eXGm75gpRSYU+G3noORWQ5ydGxsibBq+euoxUXTUr9vaAwa6v911xUcWMmyMqptBn4w9+59DSpvMTI2MAWK7H8kP9OFKSMyWG41344NIn/vBp1hD3uJa4O3+/uDv/b3F3/uLPxPCPgXk8FvkwDDRE73INgQZEoW0sFGSwJsLkaSswPUXiaHJL4/eHmoerwxfgepuAAeBS4EQQ2/Sd1YeK84k7nD1ovRqYQvEigscx5a+BMGiAJ8Vd+fV6m/Wf+fSrIiH/WuBnNz+/Yf12w1NoITnlnV6qHIcd53yeZCSMRpDIZAjlXZzkKEdqwnQ0JxioqwYpQQh/F4R4RG8PfUPcnvsdnt6KFGAIQBf6iPKiAvDUbn1joH0+fTuuhN6yabdIjPZvjY8mHzxcu4jBxnpytg1as673AH9adToTtgWA7bqs7Rtk55KFnPv2YfoWRJm0LF5e2IgbtH2ylAZXZTBlEJCYsix3n3A/qQlAAXlPIWWN/rGdmS8f5x7yYnMtMInemR8xrvmXLdKnm57rmjjPGHgXAnKCuv1dVStbhcRsdAf1lrAhbeXIIbuRrsZlPpkAQvB2vAVFeXMd0+TKF/4J7evoizewMZlCGZKupih9IuB3kgJMGQZ8ZUrBB6AAo/AeKfH0hPhpVqPlIKZYjiFkoUdOX2dOzpmPIi0lhYrNZWv0To3YvNq3MGADXehHxhGb24Cght9PmYGVx8IxQhMZt87LmCMspoo0EYZLItHAQb6AS4AqxjCQTBHBZoqONS3sWdpWCkvhukxYJu/WxwhmHS55ZR9tvQPY+Tx5z8IADq46kV+etYb9sTp/cp9QX4FmIcR1YWGlQWufSCH8Z/Dvrp7ZXxQoVbho8sDjePp5BGcgRR4h3kSyAsFR4AiKYaADQ4SAk4FufZ056hPK5ScDu4Alhan1tH0twARcACasIM+0nseBhW24hkU0k+LbnY8w5iSoJUmUJP01cQ40tfLl7g4cAqTUYgSCY8RLM+YDOR7YtAlLa5qSo9SlxhmPRxisruGszoNIr7DPniYw4RLSeUZDNpdecxnamhZYlvQvY5o6Xe0TSsEjKctkisLdkmWiPV3eoGI/+GAOno7iRojCS0E/sM4EbgeamTnUmDnaLT05ZoB34stxDT/XpcJRXmw6j1W9XcRIApBID5FIDzFCI+PUUkuSEVqQuAQZJ0eIt+qXkKsKMGVItBRkomEQgqBWKCQS5dst4dlVi3j49DYiOQctPkGlJ/Bzp5pOQFGhs4kSvlo9PbNt9nwftkbxcPRxArDDBLyPt7CMkDPJ2r4DvNJyWqnNmBLY5Gb0myDCHjYCIPFYxCDL2Y1NDoVkX20TyvDJMbUuOyEEQ011JPpGAHC15N6vnIqSkuHqIOS9chgr5Vsvi4dP4aAqkiZ1OfSLsQfltPBhRH061JnADUBb4YIywfbs3hp4Y+Fa2nv3EnKz9EQTnDz0LrXDimESNNFLkEkmjRCvR9rBr9lRGHh4JdIlivaje9m1/gx/Xq2pOTbKS4sX8n60hrMCNqmGaoy8R11vCiXLqgwqhZxyyExrI2AWrJ5VsbgKHAWGgqpZ56/WM9U6g/DpIa/L7bOVO3NJD8GPPrpsEl9bCups/HTwKNAEmCPBuuyhaMtD6/sONAtgREZ1TkXFONVAljAuGosJgvTTAAgMXGpqhlmb3l0SRZexhvcCzUyGLYYaIvTEatm5ro36bI5zB5IlM+oHx3jTDvLwhlZMYFnOoUpp9oYCqKKD0eAH7VcKstOCL2xSkqQsEFGMjGL+VbhADvRrIPbgqsVAP4YYRhAFDBD1aPYj+AuCNQiRAJ5HcERfZx776LJJ7+gGuqe1HASI+VcLYksr6IaYSnV20/gLC+fqwViUjDdxKDamloZwRJxh15WONG1XvBNvUV5Qydbke2JK19BtNCM8QTjtEvcm6InVApA1DBTlb+JANs/lB/rYd8oiTKOsSonwU6QlQRTit6QkyodSaUChrFKA1grYgWl8C60XoFkC7NbXW/9rfbp/dsO8FPZHxO0BfO4HFumbZizQZW/v7DypbWP86FSpLRO2OBYP8lzbUg6e0EjraJrlqTR1mSy7w2FeOylONhKkecpBAMOWQU8wAAEJljGCFLWY0iiQRamSd5RPrC3BNsDTDkKs0NdbPZ+50wUc90/PveJeOdgQ3jdqBleGUx55y+BwaxzP0NhOnsGGei55+VW6Y7Xs2vA5eqqDdMZjuKaB5SkMIFtQqgzIq73bwveJ7dnHMOUVpS+iIgzKJ7Ffmz6qb7CvnE//jvvPkTX6WgWcsm3TK/lITpkBzy0lewk0HxlC5gRvNjfxfqyWLX9//aneCzbckbatrVOmPDxlmV9F0EDIusn7SdUfAVDcjKcvQopI4Tu+B8FWlP4bQljTqutfzbd/Ffsfeu2lex6ry0xeEXb9GlcoRbw/xbL3hpis0dxz7hdZPzB02Z0dX/rrJ5lP3JatAhYAvfrWqtJpJO50bgXORHOvvtF+cj58mWFHJX8w33JOx8+zAfsHCwdTrH7rCJGsQzIS4on1K1gzcOyBa7ou/m7FjJsjKkoowKPL/nzqU+2r34ilM0JrSNeE1Tef7lhw3vhVyY8f/f+HihMKsPp7Qw2Nudz9ltKRtGVd1XnfCX2Vtmmu+C/ljlRcrZoWbgAAAABJRU5ErkJggg==\" y=\"-369\"/>\r\n   <image height=\"23\" id=\"image0b3a5c3ff8\" transform=\"scale(1 -1)translate(0 -23)\" width=\"75\" x=\"585\" xlink:href=\"data:image/png;base64,\r\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\" y=\"-344\"/>\r\n   <image height=\"22\" id=\"imagec85a4b2f29\" transform=\"scale(1 -1)translate(0 -22)\" width=\"67\" x=\"590\" xlink:href=\"data:image/png;base64,\r\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\" y=\"-320\"/>\r\n   <image height=\"22\" id=\"image41c2a96789\" transform=\"scale(1 -1)translate(0 -22)\" width=\"73\" x=\"599\" xlink:href=\"data:image/png;base64,\r\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\" y=\"-295\"/>\r\n   <image height=\"22\" id=\"imagebf292b1767\" transform=\"scale(1 -1)translate(0 -22)\" width=\"98\" x=\"589\" xlink:href=\"data:image/png;base64,\r\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\" y=\"-271\"/>\r\n   <image height=\"22\" id=\"image6163d280cb\" transform=\"scale(1 -1)translate(0 -22)\" width=\"88\" x=\"603\" xlink:href=\"data:image/png;base64,\r\niVBORw0KGgoAAAANSUhEUgAAAFgAAAAWCAYAAABEx1soAAAFlklEQVR4nOWZXYgkVxXHf/fWraru6enemZ6djZvNrDMhK4tGWTcrRCWCoEJQ8rCoD9EHQRDcByWxg5qoIAn4QaNG2BchTxIFwRFMQMENBgmBYF7ErK7RHRLHmezszHT39PRHfdyq40N1T2bX2ZmaOIGk9//QXXXq3HP+9auuWx+tRIQ8UnX7IPADQAHflZp5NNfAm1wqD2BVt7cDl68Lf0xq5pk3xdUISefM+/IOsQuqbr9ykGZGUXkBn7hB/PGDMjKqygv43httUHX7/QPyMpLaE7Cq228C3i4pDxycndHTrhc5VbcOYHPU+bbUzGP7alxrFYGHphPrzwXxc3dudJ554hcnov3UeDtoL8AvAnflrPV5qZkn8ySWv9Y839H6nK8A18ERwYksR8OYidhGaSrf+PPPjv0Y4L4vLpYA9dsnZjo5fbyltAVY1a07iM0Bvwbu3FclERDpA0+6vfh8KbRXW5XijBsnp4phfL+OktlNz51JtFIEFs9RRL4BpQA4FMZUOyGL4wXuarQpBhGBVrQcw2u+x4lub/Xe5ZVHFDycKNxCEP5yot1JlaTR8StrizY1q3O9pTN+0D217k6dtkp3GtNjFZSjj7bWFtNEJtPAP2LSUM3wii5Lx0kwGw136lfrhcmOk6Rjd3QX3h0qc6kiG/cJetUjfKqpJ6eXOf6X29Lly2U2Z1PUn1z68e8Of3LpU2tPC/DhbP/n/5iBPFsAEmQ+3gKs6vYc8FPA+b8O11CpQCJD6DidmATAM5CkECdQdK8ZUrAJn/nnf6iGEVfK46A1AiRJwlNHqkwHAV+6tIALqDQFEUQpHJtQ6AUooBxt8oGL/2JNTbNyZJzEaCpxm4+vPosnlgYTOMSUaZFVByF7cgqUR0EihuezoBDGCCjh0cIQoQbxdeYIKePTYopXM67QAALg1kHZB5D5x7WqW/9A4Q66Zd8KtCYpueA4oBU4CtzrWonwnvU2R4MQpbMxwzJ9zyVyNB95bZXhIRGtM7gi4Ghi3wOl6LolmkwR+obEZDVOdBfwJLuMTNLiEM0tuNutFiTaWs9iRRSGIiGa4lZ+l8METCA4HGJlWz5VMrjDMj9CnS1pIAHCN05zB10/ryuVtUxl8JNR2TLg24QPrbSY6AUAOKmg09fHh4MpJDLO/9YcttPZshKhQhtj0y0Pod5+A6TIL3XdUva5fc8c4t0KxIDVUjMWuB+4Qr47ht0lgk4EJ0lfX+/H2dQwBDx0alM+sdRgph/xcmWcpYKPFsHEEU3jsOoZSnHM8X7AS6USkqbX9Bl+mygGEaphi5Nc5A57mZPrC1R7bTrJNG0msLh0qCCYbOrBYVkdY0XfwpL/DhrOJDKwJQM+Q6uWdCs6xjo+bUDoMrl9z5eBFwYMW8DnkPlwx7uIwcPD198A3nXgq8TpHwZNSqQcwyb3kKQfRPgsofVxHTyB9zc3me2FJMDvDx9Ci3Bqo4ufWEqhpZTEVJKUrnG4VCg8/c5O98H3NTceQSmHJPlhIYpvBVlL0arS609PBY3K3NKiX+5En/7H4bnbWuMF99TVv3ecWHdVoq9W0u57lQ6dVbfsW+WVbg9efVHj/nyxMLM5G/91aizpz77CuxYE9+4Js9w01n2uSGxTtOPRWnawLaB5hdm+pcpVqpzmwmkgQOYv7gRkr9u0Blx7mHbRWamZ3+RJrNaa5zeNc+5Mq8NML6DhaF4eL+IpJTEqaGp9pv2Tqb/l7PuW1l6APfLNzx+Vmnl2X42/07sFkZMo/ZKTpoF9rNTdz/i3i/Z8Xanq9lHgW7ukiNRM3ncaN53ygPneHtufPwgjo6o9AUvN9ICVXVLuOTg7o6e8p/aFG8TrUjP5/nO6SZUX8MM7xO6WmnnoIM2MonIBlpr5N9lUsA50gS9IzbzwZhobFf0XBFZs0QOF0hMAAAAASUVORK5CYII=\" y=\"-246\"/>\r\n   <image height=\"23\" id=\"image2e98d56446\" transform=\"scale(1 -1)translate(0 -23)\" width=\"121\" x=\"568\" xlink:href=\"data:image/png;base64,\r\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\" y=\"-221\"/>\r\n   <image height=\"22\" id=\"imageb7f7343d46\" transform=\"scale(1 -1)translate(0 -22)\" width=\"118\" x=\"597\" xlink:href=\"data:image/png;base64,\r\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\" y=\"-197\"/>\r\n   <image height=\"22\" id=\"image953eb780b4\" transform=\"scale(1 -1)translate(0 -22)\" width=\"110\" x=\"548\" xlink:href=\"data:image/png;base64,\r\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\" y=\"-172\"/>\r\n   <image height=\"23\" id=\"imagec50a5de95c\" transform=\"scale(1 -1)translate(0 -23)\" width=\"132\" x=\"544\" xlink:href=\"data:image/png;base64,\r\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\" y=\"-147\"/>\r\n   <image height=\"22\" id=\"image7f3628700a\" transform=\"scale(1 -1)translate(0 -22)\" width=\"164\" x=\"527\" xlink:href=\"data:image/png;base64,\r\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\" y=\"-123\"/>\r\n   <image height=\"23\" id=\"imagec211182069\" transform=\"scale(1 -1)translate(0 -23)\" width=\"117\" x=\"555\" xlink:href=\"data:image/png;base64,\r\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\" y=\"-98\"/>\r\n   <image height=\"22\" id=\"image728c5e787d\" transform=\"scale(1 -1)translate(0 -22)\" width=\"173\" x=\"542\" xlink:href=\"data:image/png;base64,\r\niVBORw0KGgoAAAANSUhEUgAAAK0AAAAWCAYAAACyohz1AAAOQElEQVR4nO2be6xlVX3HP7+1H+d9X3PvnZnLnbkCMgM4UuiAqRFftcUXKgWNVqohpD6iadSi1tqi9UFEi0lNTBpsS1ui1VqDaUmo1aKtFkVpqYjgDDOMMzD3ztzHua/z3I+1fv1j73PvuTNQoWEGGu83OTnrrLV/v/3bv/Xd3/Vbe+eIqrKJ04M3XnPEE9W3iGpR4Oa/u/XMzeT/HyCbpD09uO7K+4OW78+1w3AIEYIkbU3Nzb9vbLZ+laheJoodPt6+s9pJr3lV9y3Hn+54n8nwn+4Afmng3NVOZAgRAJLAr3R8/wtJGKCeIfWM3ymFLx871vj27bUvXbT/Odt2Pzo6ctX0lpHj1jO3fv2WHa2n+QqeMdgk7WnA9b9x9/uiWuWzFqh1u/jO0fZ9tqw0WBwdZrDRpNyOGao3Meh5M2cMdPzUytnH5picq/OD5+x6M/DCp/s6ninYLA9OMd72pv0fL0fx9WPNFqvFAiZXWlTZenyeqFQkFZiu1ggTy67pWZqjNazvg3NUmm0WC2V+smuquqm2GTZJewrxoVf/19tmhoe+YFQZqy9Rto6oVFgbH1pappikeIll5FgTrKNb9ehUizRGBlBjiI1h932H7GAntYnnCcKXQK593dKb9W65eW+MeVWI3euhPwL5zF7u2tFg9E0O/2iVxW8JVH39q4NPYxqecpwW0sonom3ABHC/Xl9IThr/VOLpHwb2pP4/TS5EZEnf7x85JXF9uLkLVX/vSjvswjWKThUdv7Zq2LpivKjq7L1DyAWi+ojAS//zz7fNPRn/73vtjw/VB2pnVroRew4eoVMsMDs+gjOGQhwzsryK7xxnPLxIpREB4Awc2j3G8sgAie/jOcfeew5S6KREBR/nGfafvW1hZbg8eul3H2JL3CTEYUg5iwep0CSlSEQFRelSJsaPwK8r/oSiSZcw7lCsb+fo71fo3tNhYFxg34h+qnkq8vxU40mRVm5KBSgDCrwBeA5O/wXFgk7jma3AYaxrojRQ/RtEXo+RIgCJmwHux8g4wnkoPg4DGNBVEvcDRD6EUyUwP8KXEAGM/LF+ILghjyEEVN/vn0R+APlkd5REr0NYRvk8qbN6Q6ULcNG758qovmBfuXBJ1/d+rxqn2wJrWTEG5xlAKCcJ58UpJaeY/EK7RrCQPlAuvu6Cdvc7NeeSO2+eSB8vT2+85ohfieKw2u0cSMJwotyNmXp0hoOT22nUyiBCpd1lor5EOYqY2jdPoZu5S33DvgsnScNsuxHEKSP1Jmc9NIuosjJQpDVcZLDRZmd9gSIJMQE1FigQUWWVCk2aDDDLTlpUifHYzc8IiYioAUKMzxJVhujg4bCQ1jj+EkhujChfDMF+ofTyAf3s7BMmyGnCY5JWbkprAFh3I/BK4BvAEYzcAHgoIGQz2oP2Pn2dBjCyPg6QKviy3u8cJAqeZD5jzX1IZu8067dqEVEEHwMgc6j+N930KMoWfHMBwhTgYQx5/NBNQNViNTWqBSOQkp27bC1lYNUYCqpUFIbSlCHrKPRdRlMgEmEh8JmME0oKkXBXZMxfD1r7kBPZ0hG569enj9fmKuXrGmHwzmo3NlvbbTCGKAjoAFExxPSlbFt9iXKcMDq7ys6D80SlgKPPHkGNkHqGpLBeSkweXmDn4Tpp6BiJu2h+DT6WEhErlBmkwQANAro0Gc4nAFIcUxyiQxVLuOazTQkFxjiAT0KbGge5CEEo0WaEGVdm+SuLbDvLIotlWv9YpvHVkt66jFw5BlSBi4HvAA5oo7d1kStHgEuB1wF3AotABDyQM6GJ3tY5iXhPEMKn40Hgi8CFwD9h5EXAHmxOnt7GwbDedtpHur7ZtSfcAL6s26hm4fZ+Q0aqtNdP9iwj7rNXhdRlbS8nuunzZ3pEz/1Iflz/OVpRdh7lpJhLznF2akmBg2FA6ntMdSI6xnBuN6bnJQUeCH3KCp46nDEMW8doapn2PeYCn4pznNON2RLHVK1lYrmBl9/AqRFSY2gXAjphRhpRZed8nWI7oVkscPE9B1gcr9IYKWep8QxxH2m3Ti9x9oFZarShj/qCo0qXBGE783m8Hh2q62nEMsERmgxj+pRmni2McYSB3A7gEHsoIXg4QCmwiiJYUqosIVh80tigYW/aTkACBCd3n4QvAC8GdgILZOUjwAzZah7kvu4BfgxcDRwCrvaBDwGX5xl4F5BN6okE60evW3VdcQXwgP7K9ER7kcx34rLjXX5T9A47qarNYWTjcT1fvfP2bpb+WHrXQd7XT+bcxq2pFRRRmkDFOaYLAcesx/bE4oCOEbZYx2DutuMcY6mlYQwHihkJVzxDxTk8I3TSlB19K45xSojD72R1a+z5jK028BWa1SKNYpF/f+lzmTy2gJ8nQayjFQRUkgSLsBQWWSwW8eKUiovRnLhlOtRo4GFxCAbF4DakoU2JFhXIRwTNiV3BbtB+MGi+lEKBDmXWBdEjxZACmVw/DjueCGEB3t7X3vE4bYBX5J/e2I0+GasfG/1K2/sN68RYG+s7TvqUs9/eajbWseulQo+4sK6k6yfLFHLtvLKRkNofSF+fc6C9c+b25jHSq8pWmxEkBbp5SSEIQ6klNkLTCPsrRVqeh+eUc9tdiqqUFZZ8jxOL2o4xgMWJYbVQYCCKUGB6oEozDBiMYra12nhpi0JqiT2PuaGBtRw9csY4uw8cxbMJ95+zg2MjwwTWkhoPngULIwO88Af7aUsBG8LSaMjLjs5gVMgIKRhSBMc8FUqkDLKCwbDAVrZxlIQBFItHG0NKgfaG9A1xjIQxFL9H0D4YngEo+8BNZEzeBTwInL9B+cSBZ9br1Z7CPR5EMsU9keyu1+471vW1rW68EXplQ8/GOQhMH4F1veQITVYi9H73yNr7RhiwllXfA2AiTjnueSwGHm2nrBpDqlBNUgJVzohTRISFMKDlZTbWCPOhz44o2//FIowlKWXnaBuDp8r2NJvk0DlmaxVWigXavkejkKlxK8z2lUFqGW80aYXBhjxZI1Qbbfw04cIHD7P4vCpRIcRPUs5/eJrhlRbdskenVgARtrQaWPUxfUuUTxcBpjiGj0WAkIQUqDCLYx7BAT4+lkKfkgowwDJKgy4D+CRYCnmpYIFkg970puZxFPcX4VHWVdWSsebEdg8/BfaQlQ5/srYRk88kZf1g0Jab0j1AiVSPIHwEp1ejlDCqiBQzFeurJ0+MfJ0n62roctIagchuJGM/PNiwiVojtULRZAoaW7CqQIrIDMpEZqlm3S4ntCf04q2kTiejWAKFRWOY8b18fD2Oc6KEEeeIAERoeIaH+56rjkcJk3FCJELdyIGpOD2eCpOrnjElp9/fEUVT1SQdUWRMjdkigFrHap+PwSiilqT41jJdq7C13c30S5UzHznO1KPrm/Vmucjdv3IO5x+YZufxOgBp/+YWuHRmHwUXIygFOgS5OsaESD4pXQp0CJniPiS/WCXEUqRDSJUFBEgp0aVMlfqa/4e4QIdZag4yNy3o5wLie4FBhWvzKG4B/gO4DHgeMAvsB14N7CUrJe4hW9DKwDJwB9nm7Rxga26/O29/n6xic/l4iN52L3JlCeiit+kTfuQln0kKZCp8OSK7cXo3llcj7EFIEdrA1xBuxvFChBFE3gV6PiImV9uExP0z1l0G+WOwXj1qaKF8DE+GMLyRVM/OSKug3IFvrkLkPOAIsKQfKWwIXD4ZGbq2BOzC2deCvALDd0j1ixjZh0iA05eQpNch7DUiMpSkpUVjir36fXuSsjO1JIDLFfBo4FMPPMQpFWt/2gi82zHmb/XTA/v/t3z91rWPfKIcxe9tFMJqbAyI4DnHRKOF9TyMOgaXV1gdGmR4pUEiAg4ueeDhNR+V1ZjaakR9W3mthrUGNCet71IunXmIabaRAmMsMMEc2R0d0FvOFaVBFSFlnMM5sQNaVFEcAZaUoNlm6K4BDo8EuF81JALmdtGvXfGECHIaccpfLshN6RBwBdAEvq7v99fWMrkx+W2EKsKt+sEg2mB3ffs1wHuA7wEf10+Un/JAL3r3XGHVyFcbRi5JkZ81PDlrxOmzSqnFiVgLNnAaVgQWA/+Hx8uF5+sNlSccx5vf8vCXVwuFN/UMwiRlwFpsvppUWl1e9t37WRys8K0XPRdUuXDfYaZm5im3E4bqXYzC3HgJkxM19g3VuBOVbFI4szGHiwNWqRLhk+JxLvuwhCSEDLOK4PBJMHRVKQhAiiK4bkjjGz7JDz3iP0Nv6z7F6T1l2HyNewKG3lPfCsTLn9uyBCB/1KoAw3pD5eiT9fXW33n4kuUw+JHLSTrY6SLeerlWbnV5zTfvZWZ8iG+++Llr/ec+NM3L7toHQBT6/OTCHZxxbIFGrRSL6lvf+eDlf//lPf9wzgNn7HzvjiP1F53587lne4mKr/bzZ3LsL1sU3gG6JyT+9jbm9ht0tqSfv2tR/uAFwFkO/+ujesP/i7dfj4VN0p5ivOMND74+MuYr9UrZm1xepVUq4nLinn3oOBffdwgF/u3553FkcpRSN+Kl33uQwVZEfazGo88aY6VaIlbd/ez5+qEPfO/Fj/sm7pcFm6Q9DfjoK+8x07Vqd7lUDCaabTqBT2oM26frXHLfzxFVFsfLtCohxjlWC1Vmdo4R5HPT9rzlR4ZqI3f8xeTmZLFJ2tOGj1129+WdMLy9m7/lUqARBqRGGF9YYmp2AaMKzrhqq/vT6ckx5ocHRjthcF/se9fe8uVdm/9myLFJ2tOID//m3fONgdqoR0ba1LnVHQuLRXEaCkqnEDYR87yP3vn8nz3dsT6TsfnPhdOIsWZr93KlfMtqsbg39r1/bRQLvzvRaI6Lcy8otjrHttfnf/j2fVf80tesvwj/A1G9mh1IbV0cAAAAAElFTkSuQmCC\" y=\"-74\"/>\r\n   <image height=\"22\" id=\"image512928131c\" transform=\"scale(1 -1)translate(0 -22)\" width=\"253\" x=\"520\" xlink:href=\"data:image/png;base64,\r\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\" y=\"-49\"/>\r\n   <image height=\"22\" id=\"imagea554c7c8b1\" transform=\"scale(1 -1)translate(0 -22)\" width=\"330\" x=\"462\" xlink:href=\"data:image/png;base64,\r\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\" y=\"-25\"/>\r\n  </g>\r\n  <g id=\"axes_2\">\r\n   <g id=\"patch_4\">\r\n    <path clip-path=\"url(#pd0e8dd8643)\" d=\"M 827.803594 527.799141 \r\nL 827.803594 525.781875 \r\nL 827.803594 13.396406 \r\nL 827.803594 11.379141 \r\nL 831.920134 11.379141 \r\nL 831.920134 13.396406 \r\nL 831.920134 525.781875 \r\nL 831.920134 527.799141 \r\nz\r\n\" style=\"fill:#ffffff;stroke:#ffffff;stroke-linejoin:miter;stroke-width:0.01;\"/>\r\n   </g>\r\n   <image height=\"517\" id=\"image3ff725feab\" transform=\"scale(1 -1)translate(0 -517)\" width=\"4\" x=\"828\" xlink:href=\"data:image/png;base64,\r\niVBORw0KGgoAAAANSUhEUgAAAAQAAAIFCAYAAAD1MlzyAAABNUlEQVR4nO2YUQ+CMAyEuzFN9K/7k43gqyyLV9h56UAel8v163WDhWSP52IfT7bqKbasF1qK5bsCL+AqUTyKGehWxTFK6rLEgsylv9sjZYpJwwY0zihJL4N+jivs5QY97pDjUi00FNgDctTtNhTQY4IcpVrY45GhYsKksNtM6DYTqjC69XD0k6YgeWBFInA4ug2SqYe0n4ORB55LIuwPSPqj5iQhOxSElwGH1KBCwyFRzEE4hukWX784HLOgCr5sUvaHw8OgQnGyNW9LzmcNesDUB+Jg7CDssT5yLVLs8dr+EYdlNe3XK7vuQQ4FowrD4zhVHHdtQhWGB/7LcqS5nKuKZ7YKDkYenH16phMVJTEJx44F2REbJEJGlXFSp5Ay5vLvZbuHAYWGQ1JFNNthFI48opK+AY9QK0asJr4OAAAAAElFTkSuQmCC\" y=\"-11\"/>\r\n   <g id=\"matplotlib.axis_3\"/>\r\n   <g id=\"matplotlib.axis_4\">\r\n    <g id=\"ytick_21\">\r\n     <g id=\"line2d_29\"/>\r\n     <g id=\"text_29\">\r\n      <!-- Low -->\r\n      <g transform=\"translate(835.420134 531.978281)scale(0.11 -0.11)\">\r\n       <defs>\r\n        <path d=\"M 9.8125 72.90625 \r\nL 19.671875 72.90625 \r\nL 19.671875 8.296875 \r\nL 55.171875 8.296875 \r\nL 55.171875 0 \r\nL 9.8125 0 \r\nz\r\n\" id=\"DejaVuSans-76\"/>\r\n       </defs>\r\n       <use xlink:href=\"#DejaVuSans-76\"/>\r\n       <use x=\"53.962891\" xlink:href=\"#DejaVuSans-111\"/>\r\n       <use x=\"115.144531\" xlink:href=\"#DejaVuSans-119\"/>\r\n      </g>\r\n     </g>\r\n    </g>\r\n    <g id=\"ytick_22\">\r\n     <g id=\"line2d_30\"/>\r\n     <g id=\"text_30\">\r\n      <!-- High -->\r\n      <g transform=\"translate(835.420134 15.558281)scale(0.11 -0.11)\">\r\n       <use xlink:href=\"#DejaVuSans-72\"/>\r\n       <use x=\"75.195312\" xlink:href=\"#DejaVuSans-105\"/>\r\n       <use x=\"102.978516\" xlink:href=\"#DejaVuSans-103\"/>\r\n       <use x=\"166.455078\" xlink:href=\"#DejaVuSans-104\"/>\r\n      </g>\r\n     </g>\r\n    </g>\r\n    <g id=\"text_31\">\r\n     <!-- Feature value -->\r\n     <g transform=\"translate(869.821072 310.553203)rotate(-90)scale(0.12 -0.12)\">\r\n      <defs>\r\n       <path d=\"M 9.8125 72.90625 \r\nL 51.703125 72.90625 \r\nL 51.703125 64.59375 \r\nL 19.671875 64.59375 \r\nL 19.671875 43.109375 \r\nL 48.578125 43.109375 \r\nL 48.578125 34.8125 \r\nL 19.671875 34.8125 \r\nL 19.671875 0 \r\nL 9.8125 0 \r\nz\r\n\" id=\"DejaVuSans-70\"/>\r\n      </defs>\r\n      <use xlink:href=\"#DejaVuSans-70\"/>\r\n      <use x=\"52.019531\" xlink:href=\"#DejaVuSans-101\"/>\r\n      <use x=\"113.542969\" xlink:href=\"#DejaVuSans-97\"/>\r\n      <use x=\"174.822266\" xlink:href=\"#DejaVuSans-116\"/>\r\n      <use x=\"214.03125\" xlink:href=\"#DejaVuSans-117\"/>\r\n      <use x=\"277.410156\" xlink:href=\"#DejaVuSans-114\"/>\r\n      <use x=\"316.273438\" xlink:href=\"#DejaVuSans-101\"/>\r\n      <use x=\"377.796875\" xlink:href=\"#DejaVuSans-32\"/>\r\n      <use x=\"409.583984\" xlink:href=\"#DejaVuSans-118\"/>\r\n      <use x=\"468.763672\" xlink:href=\"#DejaVuSans-97\"/>\r\n      <use x=\"530.042969\" xlink:href=\"#DejaVuSans-108\"/>\r\n      <use x=\"557.826172\" xlink:href=\"#DejaVuSans-117\"/>\r\n      <use x=\"621.205078\" xlink:href=\"#DejaVuSans-101\"/>\r\n     </g>\r\n    </g>\r\n   </g>\r\n  </g>\r\n </g>\r\n <defs>\r\n  <clipPath id=\"p5178528180\">\r\n   <rect height=\"516.42\" width=\"357.12\" x=\"448.363594\" y=\"11.379141\"/>\r\n  </clipPath>\r\n  <clipPath id=\"pd0e8dd8643\">\r\n   <rect height=\"516.42\" width=\"4.11654\" x=\"827.803594\" y=\"11.379141\"/>\r\n  </clipPath>\r\n </defs>\r\n</svg>\r\n",
      "image/png": "[encoded data removed]"
     },
     "metadata": {
      "needs_background": "light",
      "image/png": {
       "width": 883,
       "height": 568
      }
     }
    }
   ]
  },
  {
   "cell_type": "markdown",
   "source": "# Interpreting Shapley Values\n\nPlease see these [four short videos](https://www.coursera.org/lecture/ai-for-medical-treatment/individual-feature-importance-TnfPK) for a better understanding of Shapley values. You will, unfortunately, need to create a Coursera account, because they only let you watch three videos without an account.\n\nIn summary, though, each point in the above graph represents a single sample.This is what sets Shapley values apart from 'global' feature importance methods, because it shows you the importance of each feature on a per-sample basis.\n\nThe colour of the point shows the value of the feature for that sample. So, for the `median_age` column, a red value means the census tract had a higher median age, while a blue point indicates that the tract had a lower median age.\n\nThe x-axis, meanwhile, shows the contribution of that particular feature on the prediction for that particular sample. A positive value on the x-axis indicates a positive contribution toward the predicted value (i.e., an increase in the predicted value) compared to the mean of the overall population, while a negative value on the x-axis indicates a decrease in the predicted value compared to the mean of the overall population. \n\nThis is the *other useful thing* about Shapley values, because **they not only indicate how important a particular feature is, but also what effect a higher/lower feature value has on the prediction** (i.e., does it increase/decrease the predicted value).\n\nPutting it all together, if we consider the `median_age`, what the above graph, with red points being clustered around the left and the blue points clustered around the right, shows is that when a census tract has a higher median age (i.e., red points), this is likely to make the redlining index value of the census tract to decrease.\n\nNote that the way Akash set it up, an index value of 1.0 corresponds to the highest grade (A), while a value of 5.0 corresponds to the lowest grade (E).\n\nAs such, the fact that a higher `median_age` corresponds to a lower index value means that **the higher the median age of the census tract, the more likely that it has a good grade (e.g., an A)**, and vice versa.\n\nThis could be explained by, perhaps, considering the fact that older people are more likely to be better off economically, and therefore more likely to live in a good neighbourhood, which would result in a better redlining grade. Alternatively, it is sometimes the case that people with lower incomes have more children on average (not sure if this is the case in the U.S., but it is sometimes the case in less developed countries). As such, lower income neighbourhood = more children per capita = lower median age.\n\nThese are, of course, just some guesses on my part. The true reason for the correlation would require further research.",
   "metadata": {
    "tags": [],
    "cell_id": "00026-48b2528c-aed6-41ec-a301-0ac67575a2f8",
    "deepnote_cell_type": "markdown"
   }
  },
  {
   "cell_type": "code",
   "metadata": {
    "tags": [],
    "cell_id": "00027-3251b910-dbc1-4d80-ad15-fd8679c76a76",
    "deepnote_cell_type": "code"
   },
   "source": "",
   "execution_count": null,
   "outputs": []
  },
  {
   "cell_type": "markdown",
   "source": "<a style='text-decoration:none;line-height:16px;display:flex;color:#5B5B62;padding:10px;justify-content:end;' href='https://deepnote.com?utm_source=created-in-deepnote-cell&projectId=c9a4f701-31a5-4164-b3f3-c09cddf1309e' target=\"_blank\">\n<img alt='Created in deepnote.com' style='display:inline;max-height:16px;margin:0px;margin-right:7.5px;' src='data:image/svg+xml;base64,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' > </img>\nCreated in <span style='font-weight:600;margin-left:4px;'>Deepnote</span></a>",
   "metadata": {
    "tags": [],
    "created_in_deepnote_cell": true,
    "deepnote_cell_type": "markdown"
   }
  }
 ],
 "nbformat": 4,
 "nbformat_minor": 2,
 "metadata": {
  "orig_nbformat": 2,
  "deepnote_notebook_id": "5b550fe8-97f6-4dd7-bbd1-f65fecb3a949",
  "deepnote_execution_queue": [],
  "kernelspec": {
   "name": "python37764bitbaseconda88f4a6024f8246cc90204549d1cdb575",
   "display_name": "Python 3.7.7 64-bit ('base': conda)",
   "language": "python"
  },
  "deepnote": {}
 }
}