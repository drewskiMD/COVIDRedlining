{
 "cells": [
  {
   "cell_type": "markdown",
   "source": "## **Author: Muhammad**\n#### (Modified by Meiteng to crete new variable 'city_name' for filtering)",
   "metadata": {
    "tags": [],
    "cell_id": "00000-eb43c66a-535b-4787-a6ec-616f4810046d",
    "deepnote_cell_type": "markdown"
   }
  },
  {
   "cell_type": "code",
   "metadata": {
    "tags": [],
    "cell_id": "00001-df6627e0-4728-4302-b050-ad190a0cb7d6",
    "deepnote_to_be_reexecuted": false,
    "source_hash": "776af362",
    "execution_start": 1623419970986,
    "execution_millis": 4410,
    "deepnote_cell_type": "code"
   },
   "source": "!pip install geopandas",
   "execution_count": null,
   "outputs": [
    {
     "name": "stdout",
     "text": "\u001b[33mWARNING: The directory '/home/jovyan/.cache/pip' or its parent directory is not owned or is not writable by the current user. The cache has been disabled. Check the permissions and owner of that directory. If executing pip with sudo, you should use sudo's -H flag.\u001b[0m\nRequirement already satisfied: geopandas in /home/jovyan/venv/lib/python3.7/site-packages (0.9.0)\nRequirement already satisfied: pandas>=0.24.0 in /shared-libs/python3.7/py/lib/python3.7/site-packages (from geopandas) (1.2.4)\nRequirement already satisfied: pyproj>=2.2.0 in /home/jovyan/venv/lib/python3.7/site-packages (from geopandas) (3.1.0)\nRequirement already satisfied: fiona>=1.8 in /shared-libs/python3.7/py/lib/python3.7/site-packages (from geopandas) (1.8.20)\nRequirement already satisfied: shapely>=1.6 in /home/jovyan/venv/lib/python3.7/site-packages (from geopandas) (1.7.1)\nRequirement already satisfied: cligj>=0.5 in /shared-libs/python3.7/py/lib/python3.7/site-packages (from fiona>=1.8->geopandas) (0.7.2)\nRequirement already satisfied: munch in /shared-libs/python3.7/py/lib/python3.7/site-packages (from fiona>=1.8->geopandas) (2.5.0)\nRequirement already satisfied: click>=4.0 in /shared-libs/python3.7/py/lib/python3.7/site-packages (from fiona>=1.8->geopandas) (7.1.2)\nRequirement already satisfied: certifi in /shared-libs/python3.7/py/lib/python3.7/site-packages (from fiona>=1.8->geopandas) (2021.5.30)\nRequirement already satisfied: setuptools in /home/jovyan/venv/lib/python3.7/site-packages (from fiona>=1.8->geopandas) (57.0.0)\nRequirement already satisfied: attrs>=17 in /shared-libs/python3.7/py-core/lib/python3.7/site-packages (from fiona>=1.8->geopandas) (21.2.0)\nRequirement already satisfied: six>=1.7 in /shared-libs/python3.7/py-core/lib/python3.7/site-packages (from fiona>=1.8->geopandas) (1.16.0)\nRequirement already satisfied: click-plugins>=1.0 in /shared-libs/python3.7/py/lib/python3.7/site-packages (from fiona>=1.8->geopandas) (1.1.1)\nRequirement already satisfied: pytz>=2017.3 in /shared-libs/python3.7/py/lib/python3.7/site-packages (from pandas>=0.24.0->geopandas) (2021.1)\nRequirement already satisfied: python-dateutil>=2.7.3 in /shared-libs/python3.7/py-core/lib/python3.7/site-packages (from pandas>=0.24.0->geopandas) (2.8.1)\nRequirement already satisfied: numpy>=1.16.5 in /shared-libs/python3.7/py/lib/python3.7/site-packages (from pandas>=0.24.0->geopandas) (1.19.5)\n",
     "output_type": "stream"
    }
   ]
  },
  {
   "cell_type": "code",
   "metadata": {
    "tags": [],
    "output_cleared": false,
    "source_hash": "6385a1b0",
    "execution_millis": 0,
    "deepnote_to_be_reexecuted": false,
    "execution_start": 1623462791280,
    "cell_id": "00001-4e86c134-e5c1-4b93-bc4d-7346c442c1d2",
    "deepnote_cell_type": "code"
   },
   "source": "import numpy as np\nimport pandas as pd\nfrom pandas.core.frame import DataFrame\nimport geopandas as gpd\nfrom typing import List",
   "outputs": [],
   "execution_count": null
  },
  {
   "cell_type": "markdown",
   "source": "**Data Source:** Census Bureau America Community Survery 2018, 5 Year Estimates, [hosted on Google BigQuery](https://console.cloud.google.com/marketplace/product/united-states-census-bureau/acs?filter=solution-type:dataset&project=covid-disparities&organizationId=0)",
   "metadata": {
    "tags": [],
    "cell_id": "00002-a271a333-caac-4dd5-b436-864cd4c831ed",
    "deepnote_cell_type": "markdown"
   }
  },
  {
   "cell_type": "code",
   "metadata": {
    "tags": [],
    "output_cleared": false,
    "source_hash": "b4b58100",
    "execution_millis": 1721,
    "deepnote_to_be_reexecuted": false,
    "execution_start": 1623462792083,
    "cell_id": "00003-0af2647b-931d-4ffa-a51d-be966356695d",
    "deepnote_cell_type": "code"
   },
   "source": "acs = pd.read_csv(\"/work/COVIDRedlining/data/ACS/acs_census_tract_2018_5yr.csv\")\nacs.drop(columns=[\"Unnamed: 0\", \"do_date\"], inplace=True)",
   "outputs": [],
   "execution_count": null
  },
  {
   "cell_type": "markdown",
   "source": "\n# Data Cleaning and Transformation for ACS Variables",
   "metadata": {
    "tags": [],
    "cell_id": "00004-2933b807-80c6-46d7-b8f6-880dabe7ac3e",
    "deepnote_cell_type": "markdown"
   }
  },
  {
   "cell_type": "markdown",
   "source": "Below is the list of all features original found in the ACS data set.",
   "metadata": {
    "tags": [],
    "cell_id": "00005-97c8edd4-58fc-4707-a0aa-c001f84b856b",
    "deepnote_cell_type": "markdown"
   }
  },
  {
   "cell_type": "code",
   "metadata": {
    "tags": [],
    "deepnote_to_be_reexecuted": false,
    "source_hash": "ea264c93",
    "execution_millis": 37,
    "execution_start": 1623462793816,
    "cell_id": "00006-6965715d-bbbf-4291-a766-cb4eb9c81b36",
    "deepnote_cell_type": "code"
   },
   "source": "# List of all columns\nfor x in acs.columns:\n    print(x)",
   "outputs": [
    {
     "name": "stdout",
     "text": "geo_id\ntotal_pop\nhouseholds\nmale_pop\nfemale_pop\nmedian_age\nmale_under_5\nmale_5_to_9\nmale_10_to_14\nmale_15_to_17\nmale_18_to_19\nmale_20\nmale_21\nmale_22_to_24\nmale_25_to_29\nmale_30_to_34\nmale_35_to_39\nmale_40_to_44\nmale_45_to_49\nmale_50_to_54\nmale_55_to_59\nmale_60_to_61\nmale_62_to_64\nmale_65_to_66\nmale_67_to_69\nmale_70_to_74\nmale_75_to_79\nmale_80_to_84\nmale_85_and_over\nfemale_under_5\nfemale_5_to_9\nfemale_10_to_14\nfemale_15_to_17\nfemale_18_to_19\nfemale_20\nfemale_21\nfemale_22_to_24\nfemale_25_to_29\nfemale_30_to_34\nfemale_35_to_39\nfemale_40_to_44\nfemale_45_to_49\nfemale_50_to_54\nfemale_55_to_59\nfemale_60_to_61\nfemale_62_to_64\nfemale_65_to_66\nfemale_67_to_69\nfemale_70_to_74\nfemale_75_to_79\nfemale_80_to_84\nfemale_85_and_over\nwhite_pop\npopulation_1_year_and_over\npopulation_3_years_over\npop_5_years_over\npop_15_and_over\npop_16_over\npop_25_years_over\npop_25_64\npop_never_married\npop_now_married\npop_separated\npop_widowed\npop_divorced\nnot_us_citizen_pop\nblack_pop\nasian_pop\nhispanic_pop\namerindian_pop\nother_race_pop\ntwo_or_more_races_pop\nhispanic_any_race\nnot_hispanic_pop\nasian_male_45_54\nasian_male_55_64\nblack_male_45_54\nblack_male_55_64\nhispanic_male_45_54\nhispanic_male_55_64\nwhite_male_45_54\nwhite_male_55_64\nmedian_income\nincome_per_capita\nincome_less_10000\nincome_10000_14999\nincome_15000_19999\nincome_20000_24999\nincome_25000_29999\nincome_30000_34999\nincome_35000_39999\nincome_40000_44999\nincome_45000_49999\nincome_50000_59999\nincome_60000_74999\nincome_75000_99999\nincome_100000_124999\nincome_125000_149999\nincome_150000_199999\nincome_200000_or_more\npop_determined_poverty_status\npoverty\ngini_index\nhousing_units\nrenter_occupied_housing_units_paying_cash_median_gross_rent\nowner_occupied_housing_units_lower_value_quartile\nowner_occupied_housing_units_median_value\nowner_occupied_housing_units_upper_value_quartile\noccupied_housing_units\nhousing_units_renter_occupied\nvacant_housing_units\nvacant_housing_units_for_rent\nvacant_housing_units_for_sale\ndwellings_1_units_detached\ndwellings_1_units_attached\ndwellings_2_units\ndwellings_3_to_4_units\ndwellings_5_to_9_units\ndwellings_10_to_19_units\ndwellings_20_to_49_units\ndwellings_50_or_more_units\nmobile_homes\nhousing_built_2005_or_later\nhousing_built_2000_to_2004\nhousing_built_1939_or_earlier\nmedian_year_structure_built\nmarried_households\nnonfamily_households\nfamily_households\nhouseholds_public_asst_or_food_stamps\nmale_male_households\nfemale_female_households\nchildren\nchildren_in_single_female_hh\nmedian_rent\npercent_income_spent_on_rent\nrent_burden_not_computed\nrent_over_50_percent\nrent_40_to_50_percent\nrent_35_to_40_percent\nrent_30_to_35_percent\nrent_25_to_30_percent\nrent_20_to_25_percent\nrent_15_to_20_percent\nrent_10_to_15_percent\nrent_under_10_percent\nowner_occupied_housing_units\nmillion_dollar_housing_units\nmortgaged_housing_units\ndifferent_house_year_ago_different_city\ndifferent_house_year_ago_same_city\nfamilies_with_young_children\ntwo_parent_families_with_young_children\ntwo_parents_in_labor_force_families_with_young_children\ntwo_parents_father_in_labor_force_families_with_young_children\ntwo_parents_mother_in_labor_force_families_with_young_children\ntwo_parents_not_in_labor_force_families_with_young_children\none_parent_families_with_young_children\nfather_one_parent_families_with_young_children\nfather_in_labor_force_one_parent_families_with_young_children\ncommute_less_10_mins\ncommute_10_14_mins\ncommute_15_19_mins\ncommute_20_24_mins\ncommute_25_29_mins\ncommute_30_34_mins\ncommute_35_44_mins\ncommute_60_more_mins\ncommute_45_59_mins\ncommuters_16_over\nwalked_to_work\nworked_at_home\nno_car\nno_cars\none_car\ntwo_cars\nthree_cars\nfour_more_cars\naggregate_travel_time_to_work\ncommuters_by_public_transportation\ncommuters_by_bus\ncommuters_by_car_truck_van\ncommuters_by_carpool\ncommuters_by_subway_or_elevated\ncommuters_drove_alone\ngroup_quarters\nassociates_degree\nbachelors_degree\nhigh_school_diploma\nless_one_year_college\nmasters_degree\none_year_more_college\nless_than_high_school_graduate\nhigh_school_including_ged\nbachelors_degree_2\nbachelors_degree_or_higher_25_64\ngraduate_professional_degree\nsome_college_and_associates_degree\nmale_45_64_associates_degree\nmale_45_64_bachelors_degree\nmale_45_64_graduate_degree\nmale_45_64_less_than_9_grade\nmale_45_64_grade_9_12\nmale_45_64_high_school\nmale_45_64_some_college\nmale_45_to_64\nemployed_pop\nunemployed_pop\npop_in_labor_force\nnot_in_labor_force\nworkers_16_and_over\narmed_forces\ncivilian_labor_force\nemployed_agriculture_forestry_fishing_hunting_mining\nemployed_arts_entertainment_recreation_accommodation_food\nemployed_construction\nemployed_education_health_social\nemployed_finance_insurance_real_estate\nemployed_information\nemployed_manufacturing\nemployed_other_services_not_public_admin\nemployed_public_administration\nemployed_retail_trade\nemployed_science_management_admin_waste\nemployed_transportation_warehousing_utilities\nemployed_wholesale_trade\noccupation_management_arts\noccupation_natural_resources_construction_maintenance\noccupation_production_transportation_material\noccupation_sales_office\noccupation_services\nmanagement_business_sci_arts_employed\nsales_office_employed\nin_grades_1_to_4\nin_grades_5_to_8\nin_grades_9_to_12\nin_school\nin_undergrad_college\nspeak_only_english_at_home\nspeak_spanish_at_home\nspeak_spanish_at_home_low_english\n",
     "output_type": "stream"
    }
   ],
   "execution_count": null
  },
  {
   "cell_type": "markdown",
   "source": "## New Features",
   "metadata": {
    "tags": [],
    "cell_id": "00007-cc417356-1c26-40f7-9861-9d3b8d1708f6",
    "deepnote_cell_type": "markdown"
   }
  },
  {
   "cell_type": "code",
   "metadata": {
    "tags": [],
    "deepnote_to_be_reexecuted": false,
    "source_hash": "d4438bd0",
    "execution_millis": 27,
    "execution_start": 1623462793848,
    "cell_id": "00008-444c76c6-d0f0-4c10-bd8d-565bb3e26ab1",
    "deepnote_cell_type": "code"
   },
   "source": "# Other Races in the Original Data is overriden by other_race_pop = total_pop - sum(races),\n# where races is shown below.\nraces = [\n    'black_pop',\n    'asian_pop',\n    'hispanic_pop',\n    'amerindian_pop',\n    'white_pop'\n]\nacs['other_race_pop'] = acs.total_pop - acs[races].sum(axis=1)\n\n# Non-white population\nacs['non_white_pop'] = acs['total_pop'] - acs['white_pop']",
   "outputs": [],
   "execution_count": null
  },
  {
   "cell_type": "markdown",
   "source": "## Data Cleaning — Explanation",
   "metadata": {
    "tags": [],
    "cell_id": "00009-50b143f2-9708-4910-88b5-cd6767fdff7a",
    "deepnote_cell_type": "markdown"
   }
  },
  {
   "cell_type": "code",
   "metadata": {
    "tags": [],
    "deepnote_to_be_reexecuted": false,
    "source_hash": "cbe2401c",
    "execution_millis": 0,
    "execution_start": 1623462793891,
    "cell_id": "00010-f8ff6ce2-8eb9-4ae5-8930-bb15bc945489",
    "deepnote_cell_type": "code"
   },
   "source": "## General formulae:\n\n# to_leave = (\"leave\", list_of_columns_to_leave_unmodified)\n# to_normalise = (\"norm\", feature_list, normalise_by)\n# to_aggregate = (\"agg\", feature_list, new_feature_name, normalise_by)\n# to_drop = (\"drop\", list_of_columns_to_drop)",
   "outputs": [],
   "execution_count": null
  },
  {
   "cell_type": "markdown",
   "source": "## Data Cleaning — Functions",
   "metadata": {
    "tags": [],
    "cell_id": "00011-792d865e-cc8a-483b-9a34-1e4d43be34f0",
    "deepnote_cell_type": "markdown"
   }
  },
  {
   "cell_type": "code",
   "metadata": {
    "tags": [],
    "deepnote_to_be_reexecuted": false,
    "source_hash": "5eb14a66",
    "execution_millis": 3,
    "execution_start": 1623462794693,
    "cell_id": "00012-c6c9d3b3-5b73-40f2-87c3-1ce86dfb7ee9",
    "deepnote_cell_type": "code"
   },
   "source": "def aggregate_features(\n    df: DataFrame, feature_list: List[str], new_feature_name:str, normalise_by:str, \n    columns_to_drop: set, suffix: str=\"normalised\"\n    ) -> None:\n    \"\"\"\n    - Aggregates (sum) multiple columns in a given data frame\n    - gives this new column a name\n    - normalises the new column by some other variable\n    - adds a suffix to the name of the normalised sum column\n    - adds the original list of features variables as well as their unnormalised sum to the set of columns_to_drop\n    \"\"\"\n    df[new_feature_name] = df[feature_list].sum(axis=1)\n    normalise_feature(df, new_feature_name, normalise_by, suffix)\n    columns_to_drop.add(new_feature_name)\n    columns_to_drop.update( set(feature_list) )\n\n\n\ndef normalise_feature(df: DataFrame, feature: str, normalise_by: str, suffix: str) -> None:\n    \"\"\"\n    Normalises a given column of the given data frame by another variable, adds a suffix to the column name, \n    and then deletes the origingal column. Then,returns this modified data frame.\n    \"\"\"\n    df[feature + '_' + suffix] = df[feature] / df[normalise_by]\n    # df.drop(columns=feature, inplace=True)\n\n\ndef normalise_list_of_features(\n    df: DataFrame, feature_list: List[str], normalise_by: str, columns_to_drop: set, suffix: str=\"normalised\"\n    ) -> None:\n    \"\"\"\n    Loops over a list of features in a data frame and normalises them all using the same variables \n    Adds a suffix to the column names, deletes the original columns, and returns the modified data frame.\n    \"\"\"\n    for feature in feature_list:\n        normalise_feature(df, feature, normalise_by, suffix)\n        columns_to_drop.add(feature)\n\ndef clean_data(acs: DataFrame, columns_to_clean: List[tuple], columns_to_drop: set) -> DataFrame:\n    df = acs.copy()\n    for group in columns_to_clean:\n        operation = group[0]\n        try:\n            if operation == 'leave':\n                continue\n\n            elif operation == 'norm':\n                _, feature_list, normalise_by = group\n                normalise_list_of_features(df, feature_list, normalise_by, columns_to_drop)\n\n            elif operation == 'agg':\n                _, feature_list, new_feature_name, normalise_by = group\n                aggregate_features(df, feature_list, new_feature_name, normalise_by, columns_to_drop)\n            \n            elif operation == 'drop':\n                _, feature_list = group\n                columns_to_drop.update( set(feature_list) )\n        except Exception:\n            print(\"Error! The following group has an error\")\n            print(group)\n            raise ValueError\n\n    df.drop(columns=list(columns_to_drop), inplace=True)\n    return df",
   "outputs": [],
   "execution_count": null
  },
  {
   "cell_type": "markdown",
   "source": "### Normalise Features Test",
   "metadata": {
    "tags": [],
    "cell_id": "00013-b51a15b3-5c8f-4791-a288-c5b9021b34e4",
    "deepnote_cell_type": "markdown"
   }
  },
  {
   "cell_type": "code",
   "metadata": {
    "tags": [],
    "deepnote_to_be_reexecuted": false,
    "source_hash": "b27e1de5",
    "execution_millis": 7,
    "execution_start": 1623462796502,
    "cell_id": "00014-f93587eb-4f5b-4533-9ba7-fa2f2e566512",
    "deepnote_cell_type": "code"
   },
   "source": "# columns_to_drop = set()\n# test =  [\n#             'renter_occupied_housing_units_paying_cash_median_gross_rent',\n#             'owner_occupied_housing_units_lower_value_quartile', \n#             'owner_occupied_housing_units_median_value',\n#             'owner_occupied_housing_units_upper_value_quartile'\n#         ]\n\n# normalise_list_of_features(acs, test, \"total_pop\", columns_to_drop)\n# acs[test]",
   "outputs": [],
   "execution_count": null
  },
  {
   "cell_type": "code",
   "metadata": {
    "tags": [],
    "deepnote_to_be_reexecuted": false,
    "source_hash": "d2ce39f9",
    "execution_millis": 2,
    "execution_start": 1623462796510,
    "cell_id": "00015-ee53bc23-3fbd-4f44-9ed8-b9741611d77a",
    "deepnote_cell_type": "code"
   },
   "source": "# acs[ [x + \"_normalised\" for x in test] ]",
   "outputs": [],
   "execution_count": null
  },
  {
   "cell_type": "markdown",
   "source": "### Aggregate Features Test",
   "metadata": {
    "tags": [],
    "cell_id": "00016-8ff087c2-73c5-4fd4-91b2-e07e4f42fd7f",
    "deepnote_cell_type": "markdown"
   }
  },
  {
   "cell_type": "code",
   "metadata": {
    "tags": [],
    "deepnote_to_be_reexecuted": false,
    "source_hash": "7f653b67",
    "execution_millis": 8,
    "execution_start": 1623462796516,
    "cell_id": "00017-318b6583-338f-4a4f-9118-17ecc2f3b988",
    "deepnote_cell_type": "code"
   },
   "source": "# df = acs.copy()\n# feature_list =  [\n#             'female_65_to_66', 'female_67_to_69', 'female_70_to_74', 'female_75_to_79',\n#             'female_80_to_84', 'female_85_and_over', 'male_65_to_66', 'male_67_to_69', \n#             'male_70_to_74', 'male_75_to_79', 'male_80_to_84', 'male_85_and_over'\n# ]\n# columns_to_drop = set()\n# columns_to_drop.add(\"cars\")\n\n# aggregate_features(df, feature_list, \"65_over\", \"total_pop\", columns_to_drop)\n# print(columns_to_drop)",
   "outputs": [],
   "execution_count": null
  },
  {
   "cell_type": "markdown",
   "source": "## Data Cleaning — Sorting the Features",
   "metadata": {
    "tags": [],
    "cell_id": "00018-88cec7fc-e02a-4472-89f4-ca3275f14073",
    "deepnote_cell_type": "markdown"
   }
  },
  {
   "cell_type": "markdown",
   "source": "### Columns To Drop\n\nThe list below contains all the variables that we wish to drop immediately, without any consideration.",
   "metadata": {
    "tags": [],
    "cell_id": "00019-0686a99c-194c-417e-98b4-a33838624dd6",
    "deepnote_cell_type": "markdown"
   }
  },
  {
   "cell_type": "code",
   "metadata": {
    "tags": [],
    "deepnote_to_be_reexecuted": false,
    "source_hash": "69be6179",
    "execution_millis": 1,
    "execution_start": 1623462797431,
    "cell_id": "00020-6a2fbbdc-2de3-4181-b31c-cb262f36a2e4",
    "deepnote_cell_type": "code"
   },
   "source": "columns_to_drop = [\n    ## Already accounted for in pop cleaning above\n    'hispanic_any_race', 'not_hispanic_pop',\n\n    ## Same-sex households? \n    'male_male_households', 'female_female_households',\n\n    ## Breakdown of pop by sexes\n    'male_under_5', 'male_5_to_9', 'male_10_to_14', 'male_15_to_17', 'male_18_to_19', 'male_20',\n    'male_21', 'male_22_to_24', 'male_25_to_29', 'male_30_to_34', 'male_35_to_39', 'male_40_to_44',\n    'male_45_to_49', 'male_50_to_54', 'male_55_to_59', 'male_60_to_61', 'male_62_to_64', 'female_under_5',\n    'female_5_to_9', 'female_10_to_14', 'female_15_to_17', 'female_18_to_19', 'female_20', 'female_21',\n    'female_22_to_24', 'female_25_to_29', 'female_30_to_34', 'female_35_to_39', 'female_40_to_44',\n    'female_45_to_49', 'female_50_to_54', 'female_55_to_59', 'female_60_to_61', 'female_62_to_64',\n    \n    ## Breakdown of pop by age\n    'population_1_year_and_over', 'population_3_years_over', 'pop_5_years_over', 'pop_15_and_over',\n    'pop_16_over', 'pop_25_years_over', 'pop_25_64',\n    \n    ## Breakdown of pop by age + race\n    'asian_male_45_54', 'asian_male_55_64', 'black_male_45_54', 'black_male_55_64', 'hispanic_male_45_54',\n    'hispanic_male_55_64', 'white_male_45_54', 'white_male_55_64', \n    \n    ## Dwellings\n    'dwellings_1_units_detached', 'dwellings_1_units_attached', 'dwellings_2_units', 'dwellings_3_to_4_units', \n    'dwellings_5_to_9_units', 'dwellings_10_to_19_units', 'dwellings_20_to_49_units', \n    'dwellings_50_or_more_units', \n    \n    ## Moved Houses\n    'different_house_year_ago_different_city', 'different_house_year_ago_same_city',\n    \n    ## Degrees + male + age\n    'male_45_64_associates_degree', 'male_45_64_bachelors_degree', 'male_45_64_graduate_degree',\n    'male_45_64_less_than_9_grade', 'male_45_64_grade_9_12', 'male_45_64_high_school', 'male_45_64_some_college',\n    'male_45_to_64',\n    \n    ## Type of employment\n    'employed_agriculture_forestry_fishing_hunting_mining',\n    'employed_arts_entertainment_recreation_accommodation_food', 'employed_construction',\n    'employed_education_health_social', 'employed_finance_insurance_real_estate', 'employed_information',\n    'employed_manufacturing', 'employed_other_services_not_public_admin', 'employed_public_administration',\n    'employed_retail_trade', 'employed_science_management_admin_waste',\n    'employed_transportation_warehousing_utilities', 'employed_wholesale_trade', 'occupation_management_arts',\n    'occupation_natural_resources_construction_maintenance', 'occupation_production_transportation_material',\n    'occupation_sales_office', 'occupation_services', 'sales_office_employed',\n    \n    ## Types of Student Populations, normalise by total_pop\n    'in_grades_1_to_4', 'in_grades_5_to_8', 'in_grades_9_to_12', 'in_school', 'in_undergrad_college',\n    \n    ## Language spoken at home\n    'speak_only_english_at_home', 'speak_spanish_at_home', 'speak_spanish_at_home_low_english',\n]",
   "outputs": [],
   "execution_count": null
  },
  {
   "cell_type": "markdown",
   "source": "### Columns to Clean\n\nThe list below contains a list of tuples in the format specified above. These are the features we want to do some manner of cleaning for (such as aggregation, normalisation, etc.)",
   "metadata": {
    "tags": [],
    "cell_id": "00021-b1caed63-8b28-4662-8fbc-1408ec6bbf59",
    "deepnote_cell_type": "markdown"
   }
  },
  {
   "cell_type": "code",
   "metadata": {
    "tags": [],
    "deepnote_to_be_reexecuted": false,
    "source_hash": "d2c9642e",
    "execution_millis": 6,
    "execution_start": 1623462800781,
    "cell_id": "00022-0246aaaa-e602-4482-9a9c-d7b2179f2515",
    "deepnote_cell_type": "code"
   },
   "source": "columns_to_clean = [\n    ## SVI Derived Variables\n    # Grouping populations into  65+ age bracket\n    (\n        'agg',\n        [\n            'female_65_to_66', 'female_67_to_69', 'female_70_to_74', 'female_75_to_79',\n            'female_80_to_84', 'female_85_and_over', 'male_65_to_66', 'male_67_to_69', \n            'male_70_to_74', 'male_75_to_79', 'male_80_to_84', 'male_85_and_over'\n        ],\n        'aged_65_or_older',\n        'total_pop'\n    ),\n\n    # Grouping population into under 17 age bracket\n    (\n        'agg',\n        [\n            'female_under_5', 'female_5_to_9', 'female_10_to_14', 'female_15_to_17', 'male_under_5',\n            'male_5_to_9', 'male_10_to_14', 'male_15_to_17'\n        ],\n        'aged_17_or_younger',\n        'total_pop'\n    ),\n\n    # Aggregating multi_unit_structures\n    (\n        'agg',\n        [\n            'dwellings_10_to_19_units', 'dwellings_20_to_49_units', 'dwellings_50_or_more_units'\n        ],\n        'multi_unit_structures',\n        'housing_units'\n    ),\n\n    ## Normalising percent of population in poverty\n    (\n        'norm',\n        [\n            'poverty'\n        ],\n        'pop_determined_poverty_status'\n    ),\n\n    (\n        'drop',\n        [\n            'pop_determined_poverty_status'\n        ]\n    ),\n\n    ## Households on public assistance\n    (\n        'norm',\n        [\n            'households_public_asst_or_food_stamps'\n        ],\n        'households'\n    ),\n    \n    ## Normalising Racial Populations by total_pop\n    (\n        'norm',\n        [\n            'black_pop',\n            'asian_pop',\n            'hispanic_pop',\n            'amerindian_pop',\n            'white_pop',\n            'non_white_pop', \n            'other_race_pop'\n        ],\n        'total_pop'\n\n    ),\n\n    ## Dropping two_or_more_races_pop\n    (\n        'drop',\n        [\n            'two_or_more_races_pop'\n        ]\n    ),\n\n    ## Population breakdown by sex\n    (\n        'norm',\n        [\n            'male_pop', 'female_pop'\n        ],\n        'total_pop'\n    ),\n\n    ## Marital Status\n    (\n        'agg',\n        [\n            'pop_never_married', 'pop_widowed','pop_separated', 'pop_divorced',\n        ],\n        'pop_currently_unmarried',\n        'total_pop'\n    ),\n\n    (\n        'norm',\n        [\n            'pop_now_married'\n        ],\n        'total_pop'\n    ),\n\n    ## Non-citizen population\n    (\n        'norm',\n        [\n            'not_us_citizen_pop'\n        ],\n        'total_pop'\n    ),\n\n    ## Normalised number of children\n    (\n        'norm',\n        [\n            'children',\n        ],\n        'total_pop'\n\n    ),\n\n    ## Household Structure\n    (\n        'norm',\n        [\n            'married_households', 'nonfamily_households', 'family_households', \n        ],\n        'households'\n    ),\n\n    ## Housing Statistics\n    (\n        'leave',\n        [\n            'renter_occupied_housing_units_paying_cash_median_gross_rent',\n            'owner_occupied_housing_units_lower_value_quartile', \n            'owner_occupied_housing_units_median_value',\n            'owner_occupied_housing_units_upper_value_quartile'\n        ]\n    ),\n\n    (\n        'norm',\n        [\n            'occupied_housing_units', 'housing_units_renter_occupied', 'vacant_housing_units', \n            'vacant_housing_units_for_rent', 'vacant_housing_units_for_sale', 'mobile_homes',\n            'multi_unit_structures'\n        ],\n        'housing_units'\n    ),\n\n    # Normalising popualtion living in group quarters\n    (\n        'norm',\n        [\n            'group_quarters'\n        ],\n        'total_pop'\n    ),\n\n    ## Housing Age\n    ## Leep housing_built_1939_or_earlier AND aggregate(housing_built_2000_to_2004, 2005-later)\n    (\n        'norm',\n        [\n            'housing_built_1939_or_earlier'\n        ],\n        'housing_units'\n    ),\n\n    (\n        'agg',\n        [\n            'housing_built_2005_or_later', 'housing_built_2000_to_2004'\n        ],\n        'housing_built_2004_or_later',\n        'housing_units',\n    ),\n    \n    ## Family Structure\n    (\n        'norm', \n        [\n            'children_in_single_female_hh'\n        ], \n        'children'\n    ),\n\n    (\n        'drop', \n        [\n            'two_parent_families_with_young_children',\n            'one_parent_families_with_young_children'\n        ]\n    ),\n\n    (\n        'drop', \n        [\n            'families_with_young_children',\n            'father_one_parent_families_with_young_children',\n            'father_in_labor_force_one_parent_families_with_young_children',\n            'two_parents_in_labor_force_families_with_young_children',\n            'two_parents_father_in_labor_force_families_with_young_children',\n            'two_parents_mother_in_labor_force_families_with_young_children',\n            'two_parents_not_in_labor_force_families_with_young_children',\n        ]\n    ),\n    \n    ## Rent burdens\n    ## Aggregate into bins of <30, 30-50, and 50+ rent burden, and drop the rest/original columns\n    ## Normalise with housing_units\n    (\n        'norm',\n        [\n            'rent_burden_not_computed'\n        ],\n        'housing_units'\n    ),\n\n\n    (\n        'agg',\n        [\n            'rent_25_to_30_percent',\n            'rent_20_to_25_percent', \n            'rent_15_to_20_percent',\n            'rent_10_to_15_percent', \n            'rent_under_10_percent'\n        ],\n        'rent_under_30_percent',\n        'housing_units'\n    ),\n\n    (\n        'agg',\n        [\n            'rent_40_to_50_percent', \n            'rent_35_to_40_percent',\n            'rent_30_to_35_percent'\n        ],\n        'rent_30_to_50_percent',\n        'housing_units'\n\n    ),\n\n    (\n        'norm',\n        ['rent_over_50_percent'],\n        'housing_units'\n    ),\n\n    \n    ## Commute times, would need to be normalised by pop_in_labor_force\n    ## ** Keep only aggregate_travel_time_to_work, walked_to_work, worked_at_home, no_car **\n    (\n        'norm',\n        [\n            'aggregate_travel_time_to_work',\n            'walked_to_work',\n            'worked_at_home',\n            'no_car', #All people in a geographic area over the age of 16 who do not own a car\n        ],\n        'pop_in_labor_force'\n    ),\n\n    (\n        'drop',\n        [\n            'commute_less_10_mins', 'commute_10_14_mins', 'commute_15_19_mins', \n            'commute_20_24_mins','commute_25_29_mins', 'commute_30_34_mins', \n            'commute_35_44_mins', 'commute_60_more_mins',\n            'commute_45_59_mins', 'commuters_16_over'\n        ]\n    ),\n    \n    ## Number of cars, normalise by households\n    ## ** Keep no_cars, aggreate([one_car, two_cars, three_cars, four_more_cars]) to has_cars,  \n    ## normalise by households\n\n    (\n        'norm',\n        [\n            'no_cars'\n        ],\n        'households'\n    ),\n\n    (\n        'agg',\n        [\n            'one_car', 'two_cars', 'three_cars', 'four_more_cars'\n        ],\n        'one_or_more_cars',\n        'households'\n    ),\n    \n    ## Commute Method\n    ## normalise by pop_in_labor_force\n    ## commuters_by_public_transportation dropped because it's a total and that information is already\n    ## available in bus + train\n    ## Keep bus, train, aggregate([car_truck_van, carpool, drove_alone])\n    (\n        'drop',\n        [\n            'commuters_by_public_transportation'\n        ]\n    ),\n    \n    (\n        'norm',\n        [\n            'commuters_by_subway_or_elevated', 'commuters_by_bus'            \n        ],\n        'pop_in_labor_force'\n    ),\n\n    (\n        'agg',\n        [\n            'commuters_by_car_truck_van', 'commuters_by_carpool', 'commuters_drove_alone'\n        ],\n        'commuters_personal_transport',\n        'pop_in_labor_force'\n    ),\n    \n    ## Degrees and Education, normalise by total_pop\n    ## ** aggregate_into[\n    ##     (high_school_including_ged, high_school_diploma),\n    ##     (associates_degree, less_one_year_college, some_college_and_associates_degree),\n    ##     (bachelors_degree, bachelors_degree_2),\n    ##     (masters_degree, graduate_professional_degree)\n    ## ]\n\n    (\n        'agg',\n        [\n            'less_than_high_school_graduate', 'high_school_including_ged', 'high_school_diploma'\n        ],\n        'education_high_school_or_less',\n        'total_pop'\n    ),\n\n    (\n        'agg',\n        [\n            'associates_degree', 'less_one_year_college', 'one_year_more_college', \n            'some_college_and_associates_degree'\n        ],\n        'education_less_than_bachelors',\n        'total_pop'\n    ),\n\n    (\n        'agg',\n        [\n            'bachelors_degree', 'bachelors_degree_2'\n        ],\n        'education_bachelors_degree',\n        'total_pop'\n    ),\n\n    (\n        'agg',\n        [\n            'masters_degree', 'graduate_professional_degree'\n        ],\n        'education_graduate_degree',\n        'total_pop'\n    ),\n    \n    ## Group into high/low income? Threshold? Normalise by households\n    ## income categories according to US Federal Income Tax Brackets Approximations\n    ## ** aggregate into categories [(0 - 14999), (15000 - 24999), (25000 - 34999), (35000 - 59999), \n    ##                              (60000 - 99999), (100000 - 199999), (200000+) \n    ##                              ]\n\n    (\n        'agg',\n        [\n            'income_less_10000', 'income_10000_14999',\n        ],\n        'income_less_14999',\n        'households'\n    ),\n\n    (\n        'agg',\n        [\n            'income_15000_19999', 'income_20000_24999'\n        ],\n        'income_15000_24999',\n        'households'\n    ),\n\n    (\n        'agg',\n        [\n            'income_25000_29999', 'income_30000_34999'\n        ],\n        'income_25000_34999',\n        'households'\n    ),\n\n    (\n        'agg',\n        [\n            'income_35000_39999', 'income_40000_44999', 'income_45000_49999', 'income_50000_59999'\n        ],\n        'income_35000_59999',\n        'households'\n    ),\n\n    (\n        'agg',\n        [\n            'income_60000_74999', 'income_75000_99999'\n        ],\n        'income_60000_99999',\n        'households'\n    ),\n\n    (\n        'agg',\n        [\n            'income_100000_124999','income_125000_149999', 'income_150000_199999'\n        ],\n        'income_100000_199999',\n        'households'\n    ),\n    \n    (\n        'norm',\n        [\n            'income_200000_or_more'\n        ],\n        'households'\n    ),\n\n    (\n        'norm',\n        [\n            'million_dollar_housing_units', 'mortgaged_housing_units', 'owner_occupied_housing_units'\n        ],\n        'housing_units'\n    ),\n\n    (\n        'norm',\n        [\n            'employed_pop', 'unemployed_pop'\n        ],\n        'pop_in_labor_force'\n    ),\n\n\n    (\n        'drop',\n        [\n            'management_business_sci_arts_employed',\n        ]\n    ),\n\n    (\n        'drop',\n        [\n            'not_in_labor_force', 'workers_16_and_over', 'armed_forces', 'civilian_labor_force', \n            'pop_in_labor_force', 'not_in_labor_force',\n        ]\n    ),\n]",
   "outputs": [],
   "execution_count": null
  },
  {
   "cell_type": "markdown",
   "source": "The code snippet below is a simple test to ensure that the elements in the `columns_to_clean` list are in the format we want. This is not an exhaustive test, however, and errors are possible.\n\n**\\[TO DO: Write more exhaustive tests?\\]**",
   "metadata": {
    "tags": [],
    "cell_id": "00023-e825df03-fe56-4056-a266-048e719ca0b7",
    "deepnote_cell_type": "markdown"
   }
  },
  {
   "cell_type": "code",
   "metadata": {
    "tags": [],
    "deepnote_to_be_reexecuted": false,
    "source_hash": "b660eba7",
    "execution_millis": 4,
    "execution_start": 1623462800793,
    "cell_id": "00024-aacbf1d8-7e23-418b-86fa-4f43eb7a6e7e",
    "deepnote_cell_type": "code"
   },
   "source": "assert np.all([x[0] in ['leave', 'norm', 'agg', 'drop'] for x in columns_to_clean])\nassert np.all([type(x[1]) == list for x in columns_to_clean])",
   "outputs": [],
   "execution_count": null
  },
  {
   "cell_type": "markdown",
   "source": "## Data Cleaning — Implementation",
   "metadata": {
    "tags": [],
    "cell_id": "00025-ddbad010-348a-44da-9c65-52c7d41f2b27",
    "deepnote_cell_type": "markdown"
   }
  },
  {
   "cell_type": "markdown",
   "source": "The small code snippet below first converts the `columns_to_drop` list into a `set` to ensure there are no duplicates. We then call the `clean_data` function, which implements the logic for cleaning describes above.",
   "metadata": {
    "tags": [],
    "cell_id": "00026-859e1a8f-8610-45ba-8d3d-b06a41a30b29",
    "deepnote_cell_type": "markdown"
   }
  },
  {
   "cell_type": "code",
   "metadata": {
    "tags": [],
    "deepnote_to_be_reexecuted": false,
    "source_hash": "c021942f",
    "execution_millis": 1563,
    "execution_start": 1623462803381,
    "cell_id": "00027-861d3c19-08fb-481f-8aea-f5cb2301d16e",
    "deepnote_cell_type": "code"
   },
   "source": "columns_to_drop = set(columns_to_drop)\nacs = clean_data(acs, columns_to_clean, columns_to_drop)",
   "outputs": [],
   "execution_count": null
  },
  {
   "cell_type": "code",
   "metadata": {
    "tags": [],
    "deepnote_to_be_reexecuted": false,
    "source_hash": "23e70330",
    "execution_millis": 27,
    "execution_start": 1623462804950,
    "cell_id": "00028-12d94d63-f614-4533-b07b-568a3ff7d3aa",
    "deepnote_cell_type": "code"
   },
   "source": "list(acs.columns)",
   "outputs": [
    {
     "output_type": "execute_result",
     "execution_count": 40,
     "data": {
      "text/plain": "['geo_id',\n 'total_pop',\n 'households',\n 'median_age',\n 'median_income',\n 'income_per_capita',\n 'gini_index',\n 'housing_units',\n 'renter_occupied_housing_units_paying_cash_median_gross_rent',\n 'owner_occupied_housing_units_lower_value_quartile',\n 'owner_occupied_housing_units_median_value',\n 'owner_occupied_housing_units_upper_value_quartile',\n 'median_year_structure_built',\n 'median_rent',\n 'percent_income_spent_on_rent',\n 'bachelors_degree_or_higher_25_64',\n 'aged_65_or_older_normalised',\n 'aged_17_or_younger_normalised',\n 'multi_unit_structures_normalised',\n 'poverty_normalised',\n 'households_public_asst_or_food_stamps_normalised',\n 'black_pop_normalised',\n 'asian_pop_normalised',\n 'hispanic_pop_normalised',\n 'amerindian_pop_normalised',\n 'white_pop_normalised',\n 'non_white_pop_normalised',\n 'other_race_pop_normalised',\n 'male_pop_normalised',\n 'female_pop_normalised',\n 'pop_currently_unmarried_normalised',\n 'pop_now_married_normalised',\n 'not_us_citizen_pop_normalised',\n 'children_normalised',\n 'married_households_normalised',\n 'nonfamily_households_normalised',\n 'family_households_normalised',\n 'occupied_housing_units_normalised',\n 'housing_units_renter_occupied_normalised',\n 'vacant_housing_units_normalised',\n 'vacant_housing_units_for_rent_normalised',\n 'vacant_housing_units_for_sale_normalised',\n 'mobile_homes_normalised',\n 'group_quarters_normalised',\n 'housing_built_1939_or_earlier_normalised',\n 'housing_built_2004_or_later_normalised',\n 'children_in_single_female_hh_normalised',\n 'rent_burden_not_computed_normalised',\n 'rent_under_30_percent_normalised',\n 'rent_30_to_50_percent_normalised',\n 'rent_over_50_percent_normalised',\n 'aggregate_travel_time_to_work_normalised',\n 'walked_to_work_normalised',\n 'worked_at_home_normalised',\n 'no_car_normalised',\n 'no_cars_normalised',\n 'one_or_more_cars_normalised',\n 'commuters_by_subway_or_elevated_normalised',\n 'commuters_by_bus_normalised',\n 'commuters_personal_transport_normalised',\n 'education_high_school_or_less_normalised',\n 'education_less_than_bachelors_normalised',\n 'education_bachelors_degree_normalised',\n 'education_graduate_degree_normalised',\n 'income_less_14999_normalised',\n 'income_15000_24999_normalised',\n 'income_25000_34999_normalised',\n 'income_35000_59999_normalised',\n 'income_60000_99999_normalised',\n 'income_100000_199999_normalised',\n 'income_200000_or_more_normalised',\n 'million_dollar_housing_units_normalised',\n 'mortgaged_housing_units_normalised',\n 'owner_occupied_housing_units_normalised',\n 'employed_pop_normalised',\n 'unemployed_pop_normalised']"
     },
     "metadata": {}
    }
   ],
   "execution_count": null
  },
  {
   "cell_type": "code",
   "metadata": {
    "tags": [],
    "deepnote_to_be_reexecuted": false,
    "source_hash": "6229323c",
    "execution_millis": 11,
    "execution_start": 1623462805008,
    "cell_id": "00029-f64f367b-fa2c-4dd6-8fd2-370056bccaca",
    "deepnote_cell_type": "code"
   },
   "source": "# These should be 1.0 at most\nacs[acs.columns[-15:]].apply(lambda x: np.max(x), axis=0)",
   "outputs": [
    {
     "output_type": "execute_result",
     "execution_count": 41,
     "data": {
      "text/plain": "education_less_than_bachelors_normalised    2.0\neducation_bachelors_degree_normalised       2.0\neducation_graduate_degree_normalised        2.0\nincome_less_14999_normalised                1.0\nincome_15000_24999_normalised               1.0\nincome_25000_34999_normalised               1.0\nincome_35000_59999_normalised               1.0\nincome_60000_99999_normalised               1.0\nincome_100000_199999_normalised             1.0\nincome_200000_or_more_normalised            1.0\nmillion_dollar_housing_units_normalised     1.0\nmortgaged_housing_units_normalised          1.0\nowner_occupied_housing_units_normalised     1.0\nemployed_pop_normalised                     1.0\nunemployed_pop_normalised                   1.0\ndtype: float64"
     },
     "metadata": {}
    }
   ],
   "execution_count": null
  },
  {
   "cell_type": "markdown",
   "source": "# Getting the Redlining GeoData",
   "metadata": {
    "tags": [],
    "cell_id": "00030-f2ecb61c-932e-46f8-a3dc-07cbc5490a36",
    "deepnote_cell_type": "markdown"
   }
  },
  {
   "cell_type": "code",
   "metadata": {
    "tags": [],
    "output_cleared": false,
    "source_hash": "20ad4030",
    "execution_millis": 4985,
    "deepnote_to_be_reexecuted": false,
    "execution_start": 1623462807594,
    "cell_id": "00031-325db55f-9a43-4721-92ee-1acd2bed9ea9",
    "deepnote_cell_type": "code"
   },
   "source": "# Reading the goe_files for each city.\ngeo_files = [\n\"/work/COVIDRedlining/data/dallas/dallas_redlined_numerical_values.geojson\",\n\"/work/COVIDRedlining/data/detroit/detroit_redlined_numerical_values.geojson\",\n\"/work/COVIDRedlining/data/new york/ny_redlined_numerical_values.geojson\",\n\"/work/COVIDRedlining/data/minneapolis/minneapolis_redlined_numerical_values.geojson\",\n\"/work/COVIDRedlining/data/california/cali_redlined_numerical_values.geojson\",\n\"/work/COVIDRedlining/data/boston/boston_redlined_numerical_values.geojson\",\n\"/work/COVIDRedlining/data/tampa/tampa_redlined_numerical_values.geojson\",\n\"/work/COVIDRedlining/data/newark/newark_redlined_numerical_values.geojson\",\n\"/work/COVIDRedlining/data/chicago/chicago_redlined_numerical_values.geojson\",\n\"/work/COVIDRedlining/data/atlanta/atlanta_redlined_numerical_values.geojson\",\n]\n\ndfs = [gpd.read_file(x) for x in geo_files]",
   "outputs": [],
   "execution_count": null
  },
  {
   "cell_type": "code",
   "metadata": {
    "tags": [],
    "cell_id": "00033-982887cd-5ccc-49ba-b4e8-19e9e80a5f9b",
    "deepnote_to_be_reexecuted": false,
    "source_hash": "49407cd5",
    "execution_start": 1623462812590,
    "execution_millis": 10,
    "deepnote_cell_type": "code"
   },
   "source": "# Shows the number of rows per city\nnum_rows = [len(x) for x in dfs]\ncity_names = [x.split(\"_\", 1)[0].split(\"/\")[-1] for x in geo_files]\n# Number of data points for each city\nfor x in zip(city_names, num_rows):\n    print(x)",
   "outputs": [
    {
     "name": "stdout",
     "text": "('dallas', 122)\n('detroit', 573)\n('ny', 2122)\n('minneapolis', 124)\n('cali', 2146)\n('boston', 196)\n('tampa', 60)\n('newark', 224)\n('chicago', 1033)\n('atlanta', 135)\n",
     "output_type": "stream"
    }
   ],
   "execution_count": null
  },
  {
   "cell_type": "code",
   "metadata": {
    "tags": [],
    "cell_id": "00034-c379e55f-8562-40fd-ae8e-32dae8bf9732",
    "deepnote_to_be_reexecuted": false,
    "source_hash": "bafa838a",
    "execution_start": 1623462812609,
    "execution_millis": 31,
    "deepnote_cell_type": "code"
   },
   "source": "geo_intersect = pd.DataFrame(pd.concat(dfs))",
   "outputs": [],
   "execution_count": null
  },
  {
   "cell_type": "code",
   "metadata": {
    "tags": [],
    "cell_id": "00035-38524676-5645-4cae-98d4-027748fc5b18",
    "deepnote_to_be_reexecuted": false,
    "source_hash": "82c5f195",
    "execution_start": 1623462812646,
    "execution_millis": 3,
    "deepnote_cell_type": "code"
   },
   "source": "# Create new column city_name for filtering\ngeo_intersect['city_name'] = ''",
   "outputs": [],
   "execution_count": null
  },
  {
   "cell_type": "code",
   "metadata": {
    "tags": [],
    "cell_id": "00036-db7d9048-00ce-4348-a44d-46df5ce6eef4",
    "deepnote_to_be_reexecuted": false,
    "source_hash": "2b7aab49",
    "execution_start": 1623462812667,
    "execution_millis": 50,
    "deepnote_cell_type": "code"
   },
   "source": "geo_intersect[0:122]['city_name'] = 'dallas'\ngeo_intersect[122:695]['city_name'] = 'detroit'\ngeo_intersect[695:2817]['city_name'] = 'ny'\ngeo_intersect[2817:2941]['city_name'] = 'minneapolis'\ngeo_intersect[2941:5087]['city_name'] = 'cali'\ngeo_intersect[5087:5283]['city_name'] = 'boston'\ngeo_intersect[5283:5343]['city_name'] = 'tampa'\ngeo_intersect[5343:5567]['city_name'] = 'newark'\ngeo_intersect[5567:6600]['city_name'] = 'chicago'\ngeo_intersect[6600:6735]['city_name'] = 'atlanta'",
   "outputs": [
    {
     "name": "stderr",
     "text": "/shared-libs/python3.7/py-core/lib/python3.7/site-packages/ipykernel_launcher.py:1: SettingWithCopyWarning: \nA value is trying to be set on a copy of a slice from a DataFrame.\nTry using .loc[row_indexer,col_indexer] = value instead\n\nSee the caveats in the documentation: https://pandas.pydata.org/pandas-docs/stable/user_guide/indexing.html#returning-a-view-versus-a-copy\n  \"\"\"Entry point for launching an IPython kernel.\n/shared-libs/python3.7/py-core/lib/python3.7/site-packages/ipykernel_launcher.py:2: SettingWithCopyWarning: \nA value is trying to be set on a copy of a slice from a DataFrame.\nTry using .loc[row_indexer,col_indexer] = value instead\n\nSee the caveats in the documentation: https://pandas.pydata.org/pandas-docs/stable/user_guide/indexing.html#returning-a-view-versus-a-copy\n  \n/shared-libs/python3.7/py-core/lib/python3.7/site-packages/ipykernel_launcher.py:3: SettingWithCopyWarning: \nA value is trying to be set on a copy of a slice from a DataFrame.\nTry using .loc[row_indexer,col_indexer] = value instead\n\nSee the caveats in the documentation: https://pandas.pydata.org/pandas-docs/stable/user_guide/indexing.html#returning-a-view-versus-a-copy\n  This is separate from the ipykernel package so we can avoid doing imports until\n/shared-libs/python3.7/py-core/lib/python3.7/site-packages/ipykernel_launcher.py:4: SettingWithCopyWarning: \nA value is trying to be set on a copy of a slice from a DataFrame.\nTry using .loc[row_indexer,col_indexer] = value instead\n\nSee the caveats in the documentation: https://pandas.pydata.org/pandas-docs/stable/user_guide/indexing.html#returning-a-view-versus-a-copy\n  after removing the cwd from sys.path.\n/shared-libs/python3.7/py-core/lib/python3.7/site-packages/ipykernel_launcher.py:5: SettingWithCopyWarning: \nA value is trying to be set on a copy of a slice from a DataFrame.\nTry using .loc[row_indexer,col_indexer] = value instead\n\nSee the caveats in the documentation: https://pandas.pydata.org/pandas-docs/stable/user_guide/indexing.html#returning-a-view-versus-a-copy\n  \"\"\"\n/shared-libs/python3.7/py-core/lib/python3.7/site-packages/ipykernel_launcher.py:6: SettingWithCopyWarning: \nA value is trying to be set on a copy of a slice from a DataFrame.\nTry using .loc[row_indexer,col_indexer] = value instead\n\nSee the caveats in the documentation: https://pandas.pydata.org/pandas-docs/stable/user_guide/indexing.html#returning-a-view-versus-a-copy\n  \n/shared-libs/python3.7/py-core/lib/python3.7/site-packages/ipykernel_launcher.py:7: SettingWithCopyWarning: \nA value is trying to be set on a copy of a slice from a DataFrame.\nTry using .loc[row_indexer,col_indexer] = value instead\n\nSee the caveats in the documentation: https://pandas.pydata.org/pandas-docs/stable/user_guide/indexing.html#returning-a-view-versus-a-copy\n  import sys\n/shared-libs/python3.7/py-core/lib/python3.7/site-packages/ipykernel_launcher.py:8: SettingWithCopyWarning: \nA value is trying to be set on a copy of a slice from a DataFrame.\nTry using .loc[row_indexer,col_indexer] = value instead\n\nSee the caveats in the documentation: https://pandas.pydata.org/pandas-docs/stable/user_guide/indexing.html#returning-a-view-versus-a-copy\n  \n/shared-libs/python3.7/py-core/lib/python3.7/site-packages/ipykernel_launcher.py:9: SettingWithCopyWarning: \nA value is trying to be set on a copy of a slice from a DataFrame.\nTry using .loc[row_indexer,col_indexer] = value instead\n\nSee the caveats in the documentation: https://pandas.pydata.org/pandas-docs/stable/user_guide/indexing.html#returning-a-view-versus-a-copy\n  if __name__ == '__main__':\n/shared-libs/python3.7/py-core/lib/python3.7/site-packages/ipykernel_launcher.py:10: SettingWithCopyWarning: \nA value is trying to be set on a copy of a slice from a DataFrame.\nTry using .loc[row_indexer,col_indexer] = value instead\n\nSee the caveats in the documentation: https://pandas.pydata.org/pandas-docs/stable/user_guide/indexing.html#returning-a-view-versus-a-copy\n  # Remove the CWD from sys.path while we load stuff.\n",
     "output_type": "stream"
    }
   ],
   "execution_count": null
  },
  {
   "cell_type": "code",
   "metadata": {
    "tags": [],
    "cell_id": "00037-3ee71190-9514-4657-b450-e2b91334de7f",
    "deepnote_to_be_reexecuted": false,
    "source_hash": "44679629",
    "execution_start": 1623462813512,
    "execution_millis": 11,
    "deepnote_cell_type": "code"
   },
   "source": "len(geo_intersect)",
   "outputs": [
    {
     "output_type": "execute_result",
     "execution_count": 47,
     "data": {
      "text/plain": "6735"
     },
     "metadata": {}
    }
   ],
   "execution_count": null
  },
  {
   "cell_type": "code",
   "metadata": {
    "tags": [],
    "output_cleared": false,
    "source_hash": "b84afb54",
    "execution_millis": 78,
    "deepnote_to_be_reexecuted": false,
    "execution_start": 1623462814729,
    "cell_id": "00033-c9812a18-fadd-4717-986e-c3aefca15b6e",
    "deepnote_cell_type": "code"
   },
   "source": "# Rounding off the reweighted_redline_index to 2 decimal places to reduce spurious variability\n# i.e., 3.1111 and 3.1156 are not different enough to be consider very different\n\n# MT: modify column selection to retain city_name\n\ngeo_intersect = geo_intersect[[\"GEOID\", 'city_name', \"reweighted_redline_index\",\"ordinal_value\"]]\ngeo_intersect['reweighted_redline_index'] = geo_intersect['reweighted_redline_index'].round(2)\ngeo_intersect",
   "outputs": [
    {
     "output_type": "execute_result",
     "execution_count": 48,
     "data": {
      "application/vnd.deepnote.dataframe.v2+json": {
       "row_count": 6735,
       "column_count": 4,
       "columns": [
        {
         "name": "GEOID",
         "dtype": "float64",
         "stats": {
          "unique_count": 6735,
          "nan_count": 0,
          "min": "6001400100.0",
          "max": "48113980100.0",
          "histogram": [
           {
            "bin_start": 6001400100,
            "bin_end": 10212658100,
            "count": 2146
           },
           {
            "bin_start": 10212658100,
            "bin_end": 14423916100,
            "count": 195
           },
           {
            "bin_start": 14423916100,
            "bin_end": 18635174100,
            "count": 1033
           },
           {
            "bin_start": 18635174100,
            "bin_end": 22846432100,
            "count": 0
           },
           {
            "bin_start": 22846432100,
            "bin_end": 27057690100,
            "count": 891
           },
           {
            "bin_start": 27057690100,
            "bin_end": 31268948100,
            "count": 2
           },
           {
            "bin_start": 31268948100,
            "bin_end": 35480206100,
            "count": 224
           },
           {
            "bin_start": 35480206100,
            "bin_end": 39691464100,
            "count": 2122
           },
           {
            "bin_start": 39691464100,
            "bin_end": 43902722100,
            "count": 0
           },
           {
            "bin_start": 43902722100,
            "bin_end": 48113980100,
            "count": 122
           }
          ]
         }
        },
        {
         "name": "city_name",
         "dtype": "object",
         "stats": {
          "unique_count": 10,
          "nan_count": 0,
          "categories": [
           {
            "name": "cali",
            "count": 2146
           },
           {
            "name": "ny",
            "count": 2122
           },
           {
            "name": "8 others",
            "count": 2467
           }
          ]
         }
        },
        {
         "name": "reweighted_redline_index",
         "dtype": "float64",
         "stats": {
          "unique_count": 322,
          "nan_count": 0,
          "min": "0.0",
          "max": "4.86",
          "histogram": [
           {
            "bin_start": 0,
            "bin_end": 0.48600000000000004,
            "count": 15
           },
           {
            "bin_start": 0.48600000000000004,
            "bin_end": 0.9720000000000001,
            "count": 12
           },
           {
            "bin_start": 0.9720000000000001,
            "bin_end": 1.4580000000000002,
            "count": 240
           },
           {
            "bin_start": 1.4580000000000002,
            "bin_end": 1.9440000000000002,
            "count": 143
           },
           {
            "bin_start": 1.9440000000000002,
            "bin_end": 2.43,
            "count": 936
           },
           {
            "bin_start": 2.43,
            "bin_end": 2.9160000000000004,
            "count": 501
           },
           {
            "bin_start": 2.9160000000000004,
            "bin_end": 3.402,
            "count": 2814
           },
           {
            "bin_start": 3.402,
            "bin_end": 3.8880000000000003,
            "count": 403
           },
           {
            "bin_start": 3.8880000000000003,
            "bin_end": 4.3740000000000006,
            "count": 1668
           },
           {
            "bin_start": 4.3740000000000006,
            "bin_end": 4.86,
            "count": 3
           }
          ]
         }
        },
        {
         "name": "ordinal_value",
         "dtype": "int64",
         "stats": {
          "unique_count": 5,
          "nan_count": 0,
          "min": "1",
          "max": "5",
          "histogram": [
           {
            "bin_start": 1,
            "bin_end": 1.4,
            "count": 107
           },
           {
            "bin_start": 1.4,
            "bin_end": 1.8,
            "count": 0
           },
           {
            "bin_start": 1.8,
            "bin_end": 2.2,
            "count": 727
           },
           {
            "bin_start": 2.2,
            "bin_end": 2.6,
            "count": 0
           },
           {
            "bin_start": 2.6,
            "bin_end": 3,
            "count": 0
           },
           {
            "bin_start": 3,
            "bin_end": 3.4000000000000004,
            "count": 2983
           },
           {
            "bin_start": 3.4000000000000004,
            "bin_end": 3.8000000000000003,
            "count": 0
           },
           {
            "bin_start": 3.8000000000000003,
            "bin_end": 4.2,
            "count": 2915
           },
           {
            "bin_start": 4.2,
            "bin_end": 4.6,
            "count": 0
           },
           {
            "bin_start": 4.6,
            "bin_end": 5,
            "count": 3
           }
          ]
         }
        },
        {
         "name": "_deepnote_index_column",
         "dtype": "int64"
        }
       ],
       "rows_top": [
        {
         "GEOID": "48113980100.0",
         "city_name": "dallas",
         "reweighted_redline_index": "3.1",
         "ordinal_value": "4",
         "_deepnote_index_column": "0"
        },
        {
         "GEOID": "48113000605.0",
         "city_name": "dallas",
         "reweighted_redline_index": "2.09",
         "ordinal_value": "3",
         "_deepnote_index_column": "1"
        },
        {
         "GEOID": "48113007101.0",
         "city_name": "dallas",
         "reweighted_redline_index": "1.0",
         "ordinal_value": "1",
         "_deepnote_index_column": "2"
        },
        {
         "GEOID": "48113004201.0",
         "city_name": "dallas",
         "reweighted_redline_index": "2.16",
         "ordinal_value": "3",
         "_deepnote_index_column": "3"
        },
        {
         "GEOID": "48113005901.0",
         "city_name": "dallas",
         "reweighted_redline_index": "3.0",
         "ordinal_value": "3",
         "_deepnote_index_column": "4"
        },
        {
         "GEOID": "48113006200.0",
         "city_name": "dallas",
         "reweighted_redline_index": "2.52",
         "ordinal_value": "3",
         "_deepnote_index_column": "5"
        },
        {
         "GEOID": "48113006301.0",
         "city_name": "dallas",
         "reweighted_redline_index": "3.0",
         "ordinal_value": "3",
         "_deepnote_index_column": "6"
        },
        {
         "GEOID": "48113006302.0",
         "city_name": "dallas",
         "reweighted_redline_index": "2.85",
         "ordinal_value": "3",
         "_deepnote_index_column": "7"
        },
        {
         "GEOID": "48113006501.0",
         "city_name": "dallas",
         "reweighted_redline_index": "3.0",
         "ordinal_value": "3",
         "_deepnote_index_column": "8"
        },
        {
         "GEOID": "48113006502.0",
         "city_name": "dallas",
         "reweighted_redline_index": "3.0",
         "ordinal_value": "3",
         "_deepnote_index_column": "9"
        },
        {
         "GEOID": "48113011300.0",
         "city_name": "dallas",
         "reweighted_redline_index": "3.0",
         "ordinal_value": "3",
         "_deepnote_index_column": "10"
        },
        {
         "GEOID": "48113001800.0",
         "city_name": "dallas",
         "reweighted_redline_index": "3.43",
         "ordinal_value": "4",
         "_deepnote_index_column": "11"
        },
        {
         "GEOID": "48113001900.0",
         "city_name": "dallas",
         "reweighted_redline_index": "4.0",
         "ordinal_value": "4",
         "_deepnote_index_column": "12"
        },
        {
         "GEOID": "48113002000.0",
         "city_name": "dallas",
         "reweighted_redline_index": "3.14",
         "ordinal_value": "4",
         "_deepnote_index_column": "13"
        },
        {
         "GEOID": "48113002100.0",
         "city_name": "dallas",
         "reweighted_redline_index": "4.0",
         "ordinal_value": "4",
         "_deepnote_index_column": "14"
        },
        {
         "GEOID": "48113001202.0",
         "city_name": "dallas",
         "reweighted_redline_index": "2.12",
         "ordinal_value": "3",
         "_deepnote_index_column": "15"
        },
        {
         "GEOID": "48113001203.0",
         "city_name": "dallas",
         "reweighted_redline_index": "2.58",
         "ordinal_value": "3",
         "_deepnote_index_column": "16"
        },
        {
         "GEOID": "48113008703.0",
         "city_name": "dallas",
         "reweighted_redline_index": "3.0",
         "ordinal_value": "3",
         "_deepnote_index_column": "17"
        },
        {
         "GEOID": "48113007700.0",
         "city_name": "dallas",
         "reweighted_redline_index": "1.0",
         "ordinal_value": "1",
         "_deepnote_index_column": "18"
        },
        {
         "GEOID": "48113011500.0",
         "city_name": "dallas",
         "reweighted_redline_index": "3.92",
         "ordinal_value": "4",
         "_deepnote_index_column": "19"
        },
        {
         "GEOID": "48113005902.0",
         "city_name": "dallas",
         "reweighted_redline_index": "3.0",
         "ordinal_value": "3",
         "_deepnote_index_column": "20"
        },
        {
         "GEOID": "48113007601.0",
         "city_name": "dallas",
         "reweighted_redline_index": "1.0",
         "ordinal_value": "1",
         "_deepnote_index_column": "21"
        },
        {
         "GEOID": "48113007604.0",
         "city_name": "dallas",
         "reweighted_redline_index": "1.0",
         "ordinal_value": "1",
         "_deepnote_index_column": "22"
        },
        {
         "GEOID": "48113007605.0",
         "city_name": "dallas",
         "reweighted_redline_index": "1.0",
         "ordinal_value": "1",
         "_deepnote_index_column": "23"
        },
        {
         "GEOID": "48113004700.0",
         "city_name": "dallas",
         "reweighted_redline_index": "3.0",
         "ordinal_value": "3",
         "_deepnote_index_column": "24"
        },
        {
         "GEOID": "48113004800.0",
         "city_name": "dallas",
         "reweighted_redline_index": "3.12",
         "ordinal_value": "4",
         "_deepnote_index_column": "25"
        },
        {
         "GEOID": "48113004900.0",
         "city_name": "dallas",
         "reweighted_redline_index": "3.29",
         "ordinal_value": "4",
         "_deepnote_index_column": "26"
        },
        {
         "GEOID": "48113005000.0",
         "city_name": "dallas",
         "reweighted_redline_index": "3.0",
         "ordinal_value": "3",
         "_deepnote_index_column": "27"
        },
        {
         "GEOID": "48113005100.0",
         "city_name": "dallas",
         "reweighted_redline_index": "3.0",
         "ordinal_value": "3",
         "_deepnote_index_column": "28"
        },
        {
         "GEOID": "48113005200.0",
         "city_name": "dallas",
         "reweighted_redline_index": "2.99",
         "ordinal_value": "3",
         "_deepnote_index_column": "29"
        },
        {
         "GEOID": "48113002500.0",
         "city_name": "dallas",
         "reweighted_redline_index": "2.97",
         "ordinal_value": "3",
         "_deepnote_index_column": "30"
        },
        {
         "GEOID": "48113002702.0",
         "city_name": "dallas",
         "reweighted_redline_index": "3.61",
         "ordinal_value": "4",
         "_deepnote_index_column": "31"
        },
        {
         "GEOID": "48113005400.0",
         "city_name": "dallas",
         "reweighted_redline_index": "2.41",
         "ordinal_value": "3",
         "_deepnote_index_column": "32"
        },
        {
         "GEOID": "48113005500.0",
         "city_name": "dallas",
         "reweighted_redline_index": "2.81",
         "ordinal_value": "3",
         "_deepnote_index_column": "33"
        },
        {
         "GEOID": "48113005300.0",
         "city_name": "dallas",
         "reweighted_redline_index": "2.59",
         "ordinal_value": "3",
         "_deepnote_index_column": "34"
        },
        {
         "GEOID": "48113005600.0",
         "city_name": "dallas",
         "reweighted_redline_index": "2.98",
         "ordinal_value": "3",
         "_deepnote_index_column": "35"
        },
        {
         "GEOID": "48113005700.0",
         "city_name": "dallas",
         "reweighted_redline_index": "3.0",
         "ordinal_value": "3",
         "_deepnote_index_column": "36"
        },
        {
         "GEOID": "48113002200.0",
         "city_name": "dallas",
         "reweighted_redline_index": "3.91",
         "ordinal_value": "4",
         "_deepnote_index_column": "37"
        },
        {
         "GEOID": "48113002400.0",
         "city_name": "dallas",
         "reweighted_redline_index": "3.0",
         "ordinal_value": "4",
         "_deepnote_index_column": "38"
        },
        {
         "GEOID": "48113002701.0",
         "city_name": "dallas",
         "reweighted_redline_index": "3.97",
         "ordinal_value": "4",
         "_deepnote_index_column": "39"
        },
        {
         "GEOID": "48113008400.0",
         "city_name": "dallas",
         "reweighted_redline_index": "2.0",
         "ordinal_value": "2",
         "_deepnote_index_column": "40"
        },
        {
         "GEOID": "48113008704.0",
         "city_name": "dallas",
         "reweighted_redline_index": "3.0",
         "ordinal_value": "3",
         "_deepnote_index_column": "41"
        },
        {
         "GEOID": "48113008801.0",
         "city_name": "dallas",
         "reweighted_redline_index": "2.93",
         "ordinal_value": "3",
         "_deepnote_index_column": "42"
        },
        {
         "GEOID": "48113001704.0",
         "city_name": "dallas",
         "reweighted_redline_index": "3.62",
         "ordinal_value": "4",
         "_deepnote_index_column": "43"
        },
        {
         "GEOID": "48113010101.0",
         "city_name": "dallas",
         "reweighted_redline_index": "4.0",
         "ordinal_value": "4",
         "_deepnote_index_column": "44"
        },
        {
         "GEOID": "48113010102.0",
         "city_name": "dallas",
         "reweighted_redline_index": "4.0",
         "ordinal_value": "4",
         "_deepnote_index_column": "45"
        },
        {
         "GEOID": "48113000606.0",
         "city_name": "dallas",
         "reweighted_redline_index": "1.63",
         "ordinal_value": "2",
         "_deepnote_index_column": "46"
        },
        {
         "GEOID": "48113003400.0",
         "city_name": "dallas",
         "reweighted_redline_index": "3.29",
         "ordinal_value": "4",
         "_deepnote_index_column": "47"
        },
        {
         "GEOID": "48113010000.0",
         "city_name": "dallas",
         "reweighted_redline_index": "2.93",
         "ordinal_value": "3",
         "_deepnote_index_column": "48"
        },
        {
         "GEOID": "48113001504.0",
         "city_name": "dallas",
         "reweighted_redline_index": "2.79",
         "ordinal_value": "3",
         "_deepnote_index_column": "49"
        },
        {
         "GEOID": "48113006700.0",
         "city_name": "dallas",
         "reweighted_redline_index": "3.0",
         "ordinal_value": "3",
         "_deepnote_index_column": "50"
        },
        {
         "GEOID": "48113006800.0",
         "city_name": "dallas",
         "reweighted_redline_index": "2.9",
         "ordinal_value": "3",
         "_deepnote_index_column": "51"
        },
        {
         "GEOID": "48113006900.0",
         "city_name": "dallas",
         "reweighted_redline_index": "3.0",
         "ordinal_value": "3",
         "_deepnote_index_column": "52"
        },
        {
         "GEOID": "48113000100.0",
         "city_name": "dallas",
         "reweighted_redline_index": "1.05",
         "ordinal_value": "2",
         "_deepnote_index_column": "53"
        },
        {
         "GEOID": "48113000201.0",
         "city_name": "dallas",
         "reweighted_redline_index": "1.1",
         "ordinal_value": "2",
         "_deepnote_index_column": "54"
        },
        {
         "GEOID": "48113000202.0",
         "city_name": "dallas",
         "reweighted_redline_index": "1.11",
         "ordinal_value": "2",
         "_deepnote_index_column": "55"
        },
        {
         "GEOID": "48113000300.0",
         "city_name": "dallas",
         "reweighted_redline_index": "1.21",
         "ordinal_value": "2",
         "_deepnote_index_column": "56"
        },
        {
         "GEOID": "48113000401.0",
         "city_name": "dallas",
         "reweighted_redline_index": "3.0",
         "ordinal_value": "3",
         "_deepnote_index_column": "57"
        },
        {
         "GEOID": "48113000404.0",
         "city_name": "dallas",
         "reweighted_redline_index": "2.37",
         "ordinal_value": "3",
         "_deepnote_index_column": "58"
        },
        {
         "GEOID": "48113000500.0",
         "city_name": "dallas",
         "reweighted_redline_index": "2.97",
         "ordinal_value": "3",
         "_deepnote_index_column": "59"
        },
        {
         "GEOID": "48113000601.0",
         "city_name": "dallas",
         "reweighted_redline_index": "2.72",
         "ordinal_value": "3",
         "_deepnote_index_column": "60"
        },
        {
         "GEOID": "48113000603.0",
         "city_name": "dallas",
         "reweighted_redline_index": "1.98",
         "ordinal_value": "2",
         "_deepnote_index_column": "61"
        },
        {
         "GEOID": "48113000701.0",
         "city_name": "dallas",
         "reweighted_redline_index": "2.96",
         "ordinal_value": "3",
         "_deepnote_index_column": "62"
        },
        {
         "GEOID": "48113000702.0",
         "city_name": "dallas",
         "reweighted_redline_index": "2.92",
         "ordinal_value": "3",
         "_deepnote_index_column": "63"
        },
        {
         "GEOID": "48113000800.0",
         "city_name": "dallas",
         "reweighted_redline_index": "3.0",
         "ordinal_value": "4",
         "_deepnote_index_column": "64"
        },
        {
         "GEOID": "48113000900.0",
         "city_name": "dallas",
         "reweighted_redline_index": "2.98",
         "ordinal_value": "3",
         "_deepnote_index_column": "65"
        },
        {
         "GEOID": "48113000405.0",
         "city_name": "dallas",
         "reweighted_redline_index": "3.0",
         "ordinal_value": "3",
         "_deepnote_index_column": "66"
        },
        {
         "GEOID": "48113001001.0",
         "city_name": "dallas",
         "reweighted_redline_index": "2.0",
         "ordinal_value": "3",
         "_deepnote_index_column": "67"
        },
        {
         "GEOID": "48113001002.0",
         "city_name": "dallas",
         "reweighted_redline_index": "2.25",
         "ordinal_value": "3",
         "_deepnote_index_column": "68"
        },
        {
         "GEOID": "48113001102.0",
         "city_name": "dallas",
         "reweighted_redline_index": "1.94",
         "ordinal_value": "2",
         "_deepnote_index_column": "69"
        },
        {
         "GEOID": "48113001204.0",
         "city_name": "dallas",
         "reweighted_redline_index": "3.0",
         "ordinal_value": "3",
         "_deepnote_index_column": "70"
        },
        {
         "GEOID": "48113001301.0",
         "city_name": "dallas",
         "reweighted_redline_index": "2.31",
         "ordinal_value": "3",
         "_deepnote_index_column": "71"
        },
        {
         "GEOID": "48113001302.0",
         "city_name": "dallas",
         "reweighted_redline_index": "2.84",
         "ordinal_value": "3",
         "_deepnote_index_column": "72"
        },
        {
         "GEOID": "48113001400.0",
         "city_name": "dallas",
         "reweighted_redline_index": "1.67",
         "ordinal_value": "2",
         "_deepnote_index_column": "73"
        },
        {
         "GEOID": "48113001101.0",
         "city_name": "dallas",
         "reweighted_redline_index": "1.95",
         "ordinal_value": "2",
         "_deepnote_index_column": "74"
        },
        {
         "GEOID": "48113001502.0",
         "city_name": "dallas",
         "reweighted_redline_index": "3.08",
         "ordinal_value": "4",
         "_deepnote_index_column": "75"
        },
        {
         "GEOID": "48113001503.0",
         "city_name": "dallas",
         "reweighted_redline_index": "2.7",
         "ordinal_value": "3",
         "_deepnote_index_column": "76"
        },
        {
         "GEOID": "48113001600.0",
         "city_name": "dallas",
         "reweighted_redline_index": "3.29",
         "ordinal_value": "4",
         "_deepnote_index_column": "77"
        },
        {
         "GEOID": "48113001701.0",
         "city_name": "dallas",
         "reweighted_redline_index": "3.68",
         "ordinal_value": "4",
         "_deepnote_index_column": "78"
        },
        {
         "GEOID": "48113008603.0",
         "city_name": "dallas",
         "reweighted_redline_index": "3.0",
         "ordinal_value": "3",
         "_deepnote_index_column": "79"
        },
        {
         "GEOID": "48113019302.0",
         "city_name": "dallas",
         "reweighted_redline_index": "2.0",
         "ordinal_value": "2",
         "_deepnote_index_column": "80"
        },
        {
         "GEOID": "48113004600.0",
         "city_name": "dallas",
         "reweighted_redline_index": "2.58",
         "ordinal_value": "3",
         "_deepnote_index_column": "81"
        },
        {
         "GEOID": "48113007102.0",
         "city_name": "dallas",
         "reweighted_redline_index": "3.79",
         "ordinal_value": "4",
         "_deepnote_index_column": "82"
        },
        {
         "GEOID": "48113007301.0",
         "city_name": "dallas",
         "reweighted_redline_index": "1.0",
         "ordinal_value": "1",
         "_deepnote_index_column": "83"
        },
        {
         "GEOID": "48113007302.0",
         "city_name": "dallas",
         "reweighted_redline_index": "2.0",
         "ordinal_value": "3",
         "_deepnote_index_column": "84"
        },
        {
         "GEOID": "48113003700.0",
         "city_name": "dallas",
         "reweighted_redline_index": "3.0",
         "ordinal_value": "4",
         "_deepnote_index_column": "85"
        },
        {
         "GEOID": "48113007906.0",
         "city_name": "dallas",
         "reweighted_redline_index": "2.0",
         "ordinal_value": "2",
         "_deepnote_index_column": "86"
        },
        {
         "GEOID": "48113003800.0",
         "city_name": "dallas",
         "reweighted_redline_index": "3.0",
         "ordinal_value": "3",
         "_deepnote_index_column": "87"
        },
        {
         "GEOID": "48113003901.0",
         "city_name": "dallas",
         "reweighted_redline_index": "3.16",
         "ordinal_value": "4",
         "_deepnote_index_column": "88"
        },
        {
         "GEOID": "48113008705.0",
         "city_name": "dallas",
         "reweighted_redline_index": "3.0",
         "ordinal_value": "3",
         "_deepnote_index_column": "89"
        },
        {
         "GEOID": "48113010701.0",
         "city_name": "dallas",
         "reweighted_redline_index": "3.0",
         "ordinal_value": "3",
         "_deepnote_index_column": "90"
        },
        {
         "GEOID": "48113003902.0",
         "city_name": "dallas",
         "reweighted_redline_index": "3.89",
         "ordinal_value": "4",
         "_deepnote_index_column": "91"
        },
        {
         "GEOID": "48113004000.0",
         "city_name": "dallas",
         "reweighted_redline_index": "3.18",
         "ordinal_value": "4",
         "_deepnote_index_column": "92"
        },
        {
         "GEOID": "48113004100.0",
         "city_name": "dallas",
         "reweighted_redline_index": "4.0",
         "ordinal_value": "4",
         "_deepnote_index_column": "93"
        },
        {
         "GEOID": "48113004202.0",
         "city_name": "dallas",
         "reweighted_redline_index": "2.44",
         "ordinal_value": "3",
         "_deepnote_index_column": "94"
        },
        {
         "GEOID": "48113004300.0",
         "city_name": "dallas",
         "reweighted_redline_index": "3.76",
         "ordinal_value": "4",
         "_deepnote_index_column": "95"
        },
        {
         "GEOID": "48113004400.0",
         "city_name": "dallas",
         "reweighted_redline_index": "1.31",
         "ordinal_value": "2",
         "_deepnote_index_column": "96"
        },
        {
         "GEOID": "48113004500.0",
         "city_name": "dallas",
         "reweighted_redline_index": "2.7",
         "ordinal_value": "3",
         "_deepnote_index_column": "97"
        },
        {
         "GEOID": "48113008000.0",
         "city_name": "dallas",
         "reweighted_redline_index": "1.03",
         "ordinal_value": "2",
         "_deepnote_index_column": "98"
        },
        {
         "GEOID": "48113008100.0",
         "city_name": "dallas",
         "reweighted_redline_index": "1.0",
         "ordinal_value": "1",
         "_deepnote_index_column": "99"
        },
        {
         "GEOID": "48113008802.0",
         "city_name": "dallas",
         "reweighted_redline_index": "3.0",
         "ordinal_value": "3",
         "_deepnote_index_column": "100"
        },
        {
         "GEOID": "48113008900.0",
         "city_name": "dallas",
         "reweighted_redline_index": "3.09",
         "ordinal_value": "4",
         "_deepnote_index_column": "101"
        },
        {
         "GEOID": "48113019301.0",
         "city_name": "dallas",
         "reweighted_redline_index": "1.27",
         "ordinal_value": "2",
         "_deepnote_index_column": "102"
        },
        {
         "GEOID": "48113019400.0",
         "city_name": "dallas",
         "reweighted_redline_index": "1.42",
         "ordinal_value": "2",
         "_deepnote_index_column": "103"
        },
        {
         "GEOID": "48113019501.0",
         "city_name": "dallas",
         "reweighted_redline_index": "1.0",
         "ordinal_value": "2",
         "_deepnote_index_column": "104"
        },
        {
         "GEOID": "48113019502.0",
         "city_name": "dallas",
         "reweighted_redline_index": "1.0",
         "ordinal_value": "1",
         "_deepnote_index_column": "105"
        },
        {
         "GEOID": "48113019600.0",
         "city_name": "dallas",
         "reweighted_redline_index": "2.0",
         "ordinal_value": "2",
         "_deepnote_index_column": "106"
        },
        {
         "GEOID": "48113019700.0",
         "city_name": "dallas",
         "reweighted_redline_index": "1.85",
         "ordinal_value": "2",
         "_deepnote_index_column": "107"
        },
        {
         "GEOID": "48113019800.0",
         "city_name": "dallas",
         "reweighted_redline_index": "1.06",
         "ordinal_value": "2",
         "_deepnote_index_column": "108"
        },
        {
         "GEOID": "48113019900.0",
         "city_name": "dallas",
         "reweighted_redline_index": "3.0",
         "ordinal_value": "3",
         "_deepnote_index_column": "109"
        },
        {
         "GEOID": "48113001703.0",
         "city_name": "dallas",
         "reweighted_redline_index": "3.04",
         "ordinal_value": "4",
         "_deepnote_index_column": "110"
        },
        {
         "GEOID": "48113020300.0",
         "city_name": "dallas",
         "reweighted_redline_index": "3.09",
         "ordinal_value": "4",
         "_deepnote_index_column": "111"
        },
        {
         "GEOID": "48113020500.0",
         "city_name": "dallas",
         "reweighted_redline_index": "4.0",
         "ordinal_value": "4",
         "_deepnote_index_column": "112"
        },
        {
         "GEOID": "48113020600.0",
         "city_name": "dallas",
         "reweighted_redline_index": "1.0",
         "ordinal_value": "1",
         "_deepnote_index_column": "113"
        },
        {
         "GEOID": "48113006402.0",
         "city_name": "dallas",
         "reweighted_redline_index": "2.96",
         "ordinal_value": "3",
         "_deepnote_index_column": "114"
        },
        {
         "GEOID": "48113010804.0",
         "city_name": "dallas",
         "reweighted_redline_index": "3.0",
         "ordinal_value": "3",
         "_deepnote_index_column": "115"
        },
        {
         "GEOID": "48113006401.0",
         "city_name": "dallas",
         "reweighted_redline_index": "2.0",
         "ordinal_value": "2",
         "_deepnote_index_column": "116"
        },
        {
         "GEOID": "48113009101.0",
         "city_name": "dallas",
         "reweighted_redline_index": "2.0",
         "ordinal_value": "2",
         "_deepnote_index_column": "117"
        },
        {
         "GEOID": "48113020400.0",
         "city_name": "dallas",
         "reweighted_redline_index": "3.99",
         "ordinal_value": "4",
         "_deepnote_index_column": "118"
        },
        {
         "GEOID": "48113000406.0",
         "city_name": "dallas",
         "reweighted_redline_index": "2.49",
         "ordinal_value": "3",
         "_deepnote_index_column": "119"
        },
        {
         "GEOID": "48113007913.0",
         "city_name": "dallas",
         "reweighted_redline_index": "2.0",
         "ordinal_value": "2",
         "_deepnote_index_column": "120"
        },
        {
         "GEOID": "48113007914.0",
         "city_name": "dallas",
         "reweighted_redline_index": "1.99",
         "ordinal_value": "2",
         "_deepnote_index_column": "121"
        },
        {
         "GEOID": "26163550800.0",
         "city_name": "detroit",
         "reweighted_redline_index": "1.46",
         "ordinal_value": "2",
         "_deepnote_index_column": "0"
        },
        {
         "GEOID": "26163550900.0",
         "city_name": "detroit",
         "reweighted_redline_index": "1.0",
         "ordinal_value": "2",
         "_deepnote_index_column": "1"
        },
        {
         "GEOID": "26163551100.0",
         "city_name": "detroit",
         "reweighted_redline_index": "1.04",
         "ordinal_value": "2",
         "_deepnote_index_column": "2"
        }
       ],
       "rows_bottom": [
        {
         "GEOID": 13121009300,
         "city_name": "atlanta",
         "reweighted_redline_index": 2.36,
         "ordinal_value": 3,
         "_deepnote_index_column": 10
        },
        {
         "GEOID": 13089022500,
         "city_name": "atlanta",
         "reweighted_redline_index": 3.02,
         "ordinal_value": 4,
         "_deepnote_index_column": 11
        },
        {
         "GEOID": 13089023700,
         "city_name": "atlanta",
         "reweighted_redline_index": 3,
         "ordinal_value": 3,
         "_deepnote_index_column": 12
        },
        {
         "GEOID": 13089022600,
         "city_name": "atlanta",
         "reweighted_redline_index": 2.65,
         "ordinal_value": 3,
         "_deepnote_index_column": 13
        },
        {
         "GEOID": 13089022700,
         "city_name": "atlanta",
         "reweighted_redline_index": 3.13,
         "ordinal_value": 4,
         "_deepnote_index_column": 14
        },
        {
         "GEOID": 13121010002,
         "city_name": "atlanta",
         "reweighted_redline_index": 1.28,
         "ordinal_value": 2,
         "_deepnote_index_column": 15
        },
        {
         "GEOID": 13121010001,
         "city_name": "atlanta",
         "reweighted_redline_index": 2.15,
         "ordinal_value": 3,
         "_deepnote_index_column": 16
        },
        {
         "GEOID": 13121009802,
         "city_name": "atlanta",
         "reweighted_redline_index": 1,
         "ordinal_value": 1,
         "_deepnote_index_column": 17
        },
        {
         "GEOID": 13121006801,
         "city_name": "atlanta",
         "reweighted_redline_index": 3,
         "ordinal_value": 3,
         "_deepnote_index_column": 18
        },
        {
         "GEOID": 13121002500,
         "city_name": "atlanta",
         "reweighted_redline_index": 4,
         "ordinal_value": 4,
         "_deepnote_index_column": 19
        },
        {
         "GEOID": 13121007200,
         "city_name": "atlanta",
         "reweighted_redline_index": 4,
         "ordinal_value": 4,
         "_deepnote_index_column": 20
        },
        {
         "GEOID": 13121006200,
         "city_name": "atlanta",
         "reweighted_redline_index": 3.04,
         "ordinal_value": 4,
         "_deepnote_index_column": 21
        },
        {
         "GEOID": 13121001100,
         "city_name": "atlanta",
         "reweighted_redline_index": 3,
         "ordinal_value": 3,
         "_deepnote_index_column": 22
        },
        {
         "GEOID": 13121007300,
         "city_name": "atlanta",
         "reweighted_redline_index": 4,
         "ordinal_value": 4,
         "_deepnote_index_column": 23
        },
        {
         "GEOID": 13121004200,
         "city_name": "atlanta",
         "reweighted_redline_index": 3.11,
         "ordinal_value": 4,
         "_deepnote_index_column": 24
        },
        {
         "GEOID": 13121009101,
         "city_name": "atlanta",
         "reweighted_redline_index": 2.41,
         "ordinal_value": 3,
         "_deepnote_index_column": 25
        },
        {
         "GEOID": 13121003700,
         "city_name": "atlanta",
         "reweighted_redline_index": 4,
         "ordinal_value": 4,
         "_deepnote_index_column": 26
        },
        {
         "GEOID": 13121012000,
         "city_name": "atlanta",
         "reweighted_redline_index": 4,
         "ordinal_value": 4,
         "_deepnote_index_column": 27
        },
        {
         "GEOID": 13121000600,
         "city_name": "atlanta",
         "reweighted_redline_index": 3.93,
         "ordinal_value": 4,
         "_deepnote_index_column": 28
        },
        {
         "GEOID": 13121001700,
         "city_name": "atlanta",
         "reweighted_redline_index": 3.36,
         "ordinal_value": 4,
         "_deepnote_index_column": 29
        },
        {
         "GEOID": 13121009000,
         "city_name": "atlanta",
         "reweighted_redline_index": 2.44,
         "ordinal_value": 3,
         "_deepnote_index_column": 30
        },
        {
         "GEOID": 13121007002,
         "city_name": "atlanta",
         "reweighted_redline_index": 3.05,
         "ordinal_value": 4,
         "_deepnote_index_column": 31
        },
        {
         "GEOID": 13121009900,
         "city_name": "atlanta",
         "reweighted_redline_index": 1.02,
         "ordinal_value": 2,
         "_deepnote_index_column": 32
        },
        {
         "GEOID": 13121011000,
         "city_name": "atlanta",
         "reweighted_redline_index": 3.94,
         "ordinal_value": 4,
         "_deepnote_index_column": 33
        },
        {
         "GEOID": 13121000100,
         "city_name": "atlanta",
         "reweighted_redline_index": 1.92,
         "ordinal_value": 2,
         "_deepnote_index_column": 34
        },
        {
         "GEOID": 13121000200,
         "city_name": "atlanta",
         "reweighted_redline_index": 2.28,
         "ordinal_value": 3,
         "_deepnote_index_column": 35
        },
        {
         "GEOID": 13121000400,
         "city_name": "atlanta",
         "reweighted_redline_index": 2.65,
         "ordinal_value": 3,
         "_deepnote_index_column": 36
        },
        {
         "GEOID": 13121009502,
         "city_name": "atlanta",
         "reweighted_redline_index": 1.69,
         "ordinal_value": 2,
         "_deepnote_index_column": 37
        },
        {
         "GEOID": 13121009602,
         "city_name": "atlanta",
         "reweighted_redline_index": 1.82,
         "ordinal_value": 2,
         "_deepnote_index_column": 38
        },
        {
         "GEOID": 13121011800,
         "city_name": "atlanta",
         "reweighted_redline_index": 4,
         "ordinal_value": 4,
         "_deepnote_index_column": 39
        },
        {
         "GEOID": 13089980000,
         "city_name": "atlanta",
         "reweighted_redline_index": 3,
         "ordinal_value": 3,
         "_deepnote_index_column": 40
        },
        {
         "GEOID": 13121002900,
         "city_name": "atlanta",
         "reweighted_redline_index": 4,
         "ordinal_value": 4,
         "_deepnote_index_column": 41
        },
        {
         "GEOID": 13121006602,
         "city_name": "atlanta",
         "reweighted_redline_index": 3,
         "ordinal_value": 3,
         "_deepnote_index_column": 42
        },
        {
         "GEOID": 13121009601,
         "city_name": "atlanta",
         "reweighted_redline_index": 2.56,
         "ordinal_value": 3,
         "_deepnote_index_column": 43
        },
        {
         "GEOID": 13121009603,
         "city_name": "atlanta",
         "reweighted_redline_index": 2.28,
         "ordinal_value": 3,
         "_deepnote_index_column": 44
        },
        {
         "GEOID": 13121009801,
         "city_name": "atlanta",
         "reweighted_redline_index": 1,
         "ordinal_value": 1,
         "_deepnote_index_column": 45
        },
        {
         "GEOID": 13089022800,
         "city_name": "atlanta",
         "reweighted_redline_index": 2.78,
         "ordinal_value": 3,
         "_deepnote_index_column": 46
        },
        {
         "GEOID": 13089022900,
         "city_name": "atlanta",
         "reweighted_redline_index": 3.62,
         "ordinal_value": 4,
         "_deepnote_index_column": 47
        },
        {
         "GEOID": 13089021102,
         "city_name": "atlanta",
         "reweighted_redline_index": 1.67,
         "ordinal_value": 2,
         "_deepnote_index_column": 48
        },
        {
         "GEOID": 13089021415,
         "city_name": "atlanta",
         "reweighted_redline_index": 3,
         "ordinal_value": 3,
         "_deepnote_index_column": 49
        },
        {
         "GEOID": 13089023000,
         "city_name": "atlanta",
         "reweighted_redline_index": 3.18,
         "ordinal_value": 4,
         "_deepnote_index_column": 50
        },
        {
         "GEOID": 13089023101,
         "city_name": "atlanta",
         "reweighted_redline_index": 3,
         "ordinal_value": 3,
         "_deepnote_index_column": 51
        },
        {
         "GEOID": 13089023102,
         "city_name": "atlanta",
         "reweighted_redline_index": 3,
         "ordinal_value": 3,
         "_deepnote_index_column": 52
        },
        {
         "GEOID": 13089022203,
         "city_name": "atlanta",
         "reweighted_redline_index": 3.84,
         "ordinal_value": 4,
         "_deepnote_index_column": 53
        },
        {
         "GEOID": 13121012300,
         "city_name": "atlanta",
         "reweighted_redline_index": 3.31,
         "ordinal_value": 4,
         "_deepnote_index_column": 54
        },
        {
         "GEOID": 13089023113,
         "city_name": "atlanta",
         "reweighted_redline_index": 3.24,
         "ordinal_value": 4,
         "_deepnote_index_column": 55
        },
        {
         "GEOID": 13121010800,
         "city_name": "atlanta",
         "reweighted_redline_index": 3.43,
         "ordinal_value": 4,
         "_deepnote_index_column": 56
        },
        {
         "GEOID": 13121009102,
         "city_name": "atlanta",
         "reweighted_redline_index": 2.36,
         "ordinal_value": 3,
         "_deepnote_index_column": 57
        },
        {
         "GEOID": 13121001202,
         "city_name": "atlanta",
         "reweighted_redline_index": 3,
         "ordinal_value": 3,
         "_deepnote_index_column": 58
        },
        {
         "GEOID": 13089020802,
         "city_name": "atlanta",
         "reweighted_redline_index": 2.81,
         "ordinal_value": 3,
         "_deepnote_index_column": 59
        },
        {
         "GEOID": 13121001201,
         "city_name": "atlanta",
         "reweighted_redline_index": 3,
         "ordinal_value": 4,
         "_deepnote_index_column": 60
        },
        {
         "GEOID": 13121001001,
         "city_name": "atlanta",
         "reweighted_redline_index": 3,
         "ordinal_value": 3,
         "_deepnote_index_column": 61
        },
        {
         "GEOID": 13121004300,
         "city_name": "atlanta",
         "reweighted_redline_index": 3.97,
         "ordinal_value": 4,
         "_deepnote_index_column": 62
        },
        {
         "GEOID": 13121980000,
         "city_name": "atlanta",
         "reweighted_redline_index": 3.08,
         "ordinal_value": 4,
         "_deepnote_index_column": 63
        },
        {
         "GEOID": 13121007603,
         "city_name": "atlanta",
         "reweighted_redline_index": 3,
         "ordinal_value": 3,
         "_deepnote_index_column": 64
        },
        {
         "GEOID": 13089022204,
         "city_name": "atlanta",
         "reweighted_redline_index": 4,
         "ordinal_value": 4,
         "_deepnote_index_column": 65
        },
        {
         "GEOID": 13121009501,
         "city_name": "atlanta",
         "reweighted_redline_index": 1.13,
         "ordinal_value": 2,
         "_deepnote_index_column": 66
        },
        {
         "GEOID": 13089020700,
         "city_name": "atlanta",
         "reweighted_redline_index": 3.05,
         "ordinal_value": 4,
         "_deepnote_index_column": 67
        },
        {
         "GEOID": 13121008902,
         "city_name": "atlanta",
         "reweighted_redline_index": 3.99,
         "ordinal_value": 4,
         "_deepnote_index_column": 68
        },
        {
         "GEOID": 13089022100,
         "city_name": "atlanta",
         "reweighted_redline_index": 4,
         "ordinal_value": 4,
         "_deepnote_index_column": 69
        },
        {
         "GEOID": 13089023801,
         "city_name": "atlanta",
         "reweighted_redline_index": 3,
         "ordinal_value": 3,
         "_deepnote_index_column": 70
        },
        {
         "GEOID": 13063980000,
         "city_name": "atlanta",
         "reweighted_redline_index": 3.53,
         "ordinal_value": 4,
         "_deepnote_index_column": 71
        },
        {
         "GEOID": 13121011100,
         "city_name": "atlanta",
         "reweighted_redline_index": 2.64,
         "ordinal_value": 3,
         "_deepnote_index_column": 72
        },
        {
         "GEOID": 13121011201,
         "city_name": "atlanta",
         "reweighted_redline_index": 3.12,
         "ordinal_value": 4,
         "_deepnote_index_column": 73
        },
        {
         "GEOID": 13121011202,
         "city_name": "atlanta",
         "reweighted_redline_index": 3.12,
         "ordinal_value": 4,
         "_deepnote_index_column": 74
        },
        {
         "GEOID": 13089020400,
         "city_name": "atlanta",
         "reweighted_redline_index": 3.09,
         "ordinal_value": 4,
         "_deepnote_index_column": 75
        },
        {
         "GEOID": 13089020500,
         "city_name": "atlanta",
         "reweighted_redline_index": 3.23,
         "ordinal_value": 4,
         "_deepnote_index_column": 76
        },
        {
         "GEOID": 13089020600,
         "city_name": "atlanta",
         "reweighted_redline_index": 3.87,
         "ordinal_value": 4,
         "_deepnote_index_column": 77
        },
        {
         "GEOID": 13089020801,
         "city_name": "atlanta",
         "reweighted_redline_index": 3.12,
         "ordinal_value": 4,
         "_deepnote_index_column": 78
        },
        {
         "GEOID": 13089020900,
         "city_name": "atlanta",
         "reweighted_redline_index": 3.01,
         "ordinal_value": 4,
         "_deepnote_index_column": 79
        },
        {
         "GEOID": 13121001002,
         "city_name": "atlanta",
         "reweighted_redline_index": 3.34,
         "ordinal_value": 4,
         "_deepnote_index_column": 80
        },
        {
         "GEOID": 13121000700,
         "city_name": "atlanta",
         "reweighted_redline_index": 4,
         "ordinal_value": 4,
         "_deepnote_index_column": 81
        },
        {
         "GEOID": 13121008700,
         "city_name": "atlanta",
         "reweighted_redline_index": 3.91,
         "ordinal_value": 4,
         "_deepnote_index_column": 82
        },
        {
         "GEOID": 13089022301,
         "city_name": "atlanta",
         "reweighted_redline_index": 2.93,
         "ordinal_value": 3,
         "_deepnote_index_column": 83
        },
        {
         "GEOID": 13089020100,
         "city_name": "atlanta",
         "reweighted_redline_index": 1,
         "ordinal_value": 1,
         "_deepnote_index_column": 84
        },
        {
         "GEOID": 13089020200,
         "city_name": "atlanta",
         "reweighted_redline_index": 2.24,
         "ordinal_value": 3,
         "_deepnote_index_column": 85
        },
        {
         "GEOID": 13089020300,
         "city_name": "atlanta",
         "reweighted_redline_index": 2.67,
         "ordinal_value": 3,
         "_deepnote_index_column": 86
        },
        {
         "GEOID": 13121010601,
         "city_name": "atlanta",
         "reweighted_redline_index": 2.77,
         "ordinal_value": 3,
         "_deepnote_index_column": 87
        },
        {
         "GEOID": 13121010603,
         "city_name": "atlanta",
         "reweighted_redline_index": 3.52,
         "ordinal_value": 4,
         "_deepnote_index_column": 88
        },
        {
         "GEOID": 13089021405,
         "city_name": "atlanta",
         "reweighted_redline_index": 3,
         "ordinal_value": 3,
         "_deepnote_index_column": 89
        },
        {
         "GEOID": 13089022401,
         "city_name": "atlanta",
         "reweighted_redline_index": 2.4,
         "ordinal_value": 3,
         "_deepnote_index_column": 90
        },
        {
         "GEOID": 13089022402,
         "city_name": "atlanta",
         "reweighted_redline_index": 2.83,
         "ordinal_value": 3,
         "_deepnote_index_column": 91
        },
        {
         "GEOID": 13089022403,
         "city_name": "atlanta",
         "reweighted_redline_index": 2.12,
         "ordinal_value": 3,
         "_deepnote_index_column": 92
        },
        {
         "GEOID": 13121006900,
         "city_name": "atlanta",
         "reweighted_redline_index": 3,
         "ordinal_value": 3,
         "_deepnote_index_column": 93
        },
        {
         "GEOID": 13121007001,
         "city_name": "atlanta",
         "reweighted_redline_index": 3,
         "ordinal_value": 3,
         "_deepnote_index_column": 94
        },
        {
         "GEOID": 13121005000,
         "city_name": "atlanta",
         "reweighted_redline_index": 3.58,
         "ordinal_value": 4,
         "_deepnote_index_column": 95
        },
        {
         "GEOID": 13121002100,
         "city_name": "atlanta",
         "reweighted_redline_index": 4,
         "ordinal_value": 4,
         "_deepnote_index_column": 96
        },
        {
         "GEOID": 13121002300,
         "city_name": "atlanta",
         "reweighted_redline_index": 4,
         "ordinal_value": 4,
         "_deepnote_index_column": 97
        },
        {
         "GEOID": 13121002400,
         "city_name": "atlanta",
         "reweighted_redline_index": 4,
         "ordinal_value": 4,
         "_deepnote_index_column": 98
        },
        {
         "GEOID": 13121002600,
         "city_name": "atlanta",
         "reweighted_redline_index": 4,
         "ordinal_value": 4,
         "_deepnote_index_column": 99
        },
        {
         "GEOID": 13121002800,
         "city_name": "atlanta",
         "reweighted_redline_index": 4,
         "ordinal_value": 4,
         "_deepnote_index_column": 100
        },
        {
         "GEOID": 13121003000,
         "city_name": "atlanta",
         "reweighted_redline_index": 3.46,
         "ordinal_value": 4,
         "_deepnote_index_column": 101
        },
        {
         "GEOID": 13121003100,
         "city_name": "atlanta",
         "reweighted_redline_index": 3.81,
         "ordinal_value": 4,
         "_deepnote_index_column": 102
        },
        {
         "GEOID": 13121003200,
         "city_name": "atlanta",
         "reweighted_redline_index": 4,
         "ordinal_value": 4,
         "_deepnote_index_column": 103
        },
        {
         "GEOID": 13121003500,
         "city_name": "atlanta",
         "reweighted_redline_index": 4,
         "ordinal_value": 4,
         "_deepnote_index_column": 104
        },
        {
         "GEOID": 13121003800,
         "city_name": "atlanta",
         "reweighted_redline_index": 4,
         "ordinal_value": 4,
         "_deepnote_index_column": 105
        },
        {
         "GEOID": 13121008000,
         "city_name": "atlanta",
         "reweighted_redline_index": 3,
         "ordinal_value": 3,
         "_deepnote_index_column": 106
        },
        {
         "GEOID": 13121008102,
         "city_name": "atlanta",
         "reweighted_redline_index": 2.9,
         "ordinal_value": 3,
         "_deepnote_index_column": 107
        },
        {
         "GEOID": 13121004000,
         "city_name": "atlanta",
         "reweighted_redline_index": 3.16,
         "ordinal_value": 4,
         "_deepnote_index_column": 108
        },
        {
         "GEOID": 13121004100,
         "city_name": "atlanta",
         "reweighted_redline_index": 2.93,
         "ordinal_value": 3,
         "_deepnote_index_column": 109
        },
        {
         "GEOID": 13121004400,
         "city_name": "atlanta",
         "reweighted_redline_index": 4,
         "ordinal_value": 4,
         "_deepnote_index_column": 110
        },
        {
         "GEOID": 13121004800,
         "city_name": "atlanta",
         "reweighted_redline_index": 4,
         "ordinal_value": 4,
         "_deepnote_index_column": 111
        },
        {
         "GEOID": 13121003900,
         "city_name": "atlanta",
         "reweighted_redline_index": 4,
         "ordinal_value": 4,
         "_deepnote_index_column": 112
        },
        {
         "GEOID": 13121004900,
         "city_name": "atlanta",
         "reweighted_redline_index": 3.91,
         "ordinal_value": 4,
         "_deepnote_index_column": 113
        },
        {
         "GEOID": 13121005200,
         "city_name": "atlanta",
         "reweighted_redline_index": 3.23,
         "ordinal_value": 4,
         "_deepnote_index_column": 114
        },
        {
         "GEOID": 13121005300,
         "city_name": "atlanta",
         "reweighted_redline_index": 3.21,
         "ordinal_value": 4,
         "_deepnote_index_column": 115
        },
        {
         "GEOID": 13121008301,
         "city_name": "atlanta",
         "reweighted_redline_index": 3,
         "ordinal_value": 3,
         "_deepnote_index_column": 116
        },
        {
         "GEOID": 13121008302,
         "city_name": "atlanta",
         "reweighted_redline_index": 3,
         "ordinal_value": 3,
         "_deepnote_index_column": 117
        },
        {
         "GEOID": 13121008400,
         "city_name": "atlanta",
         "reweighted_redline_index": 3.06,
         "ordinal_value": 4,
         "_deepnote_index_column": 118
        },
        {
         "GEOID": 13121008500,
         "city_name": "atlanta",
         "reweighted_redline_index": 3.01,
         "ordinal_value": 4,
         "_deepnote_index_column": 119
        },
        {
         "GEOID": 13121006300,
         "city_name": "atlanta",
         "reweighted_redline_index": 3.82,
         "ordinal_value": 4,
         "_deepnote_index_column": 120
        },
        {
         "GEOID": 13121005501,
         "city_name": "atlanta",
         "reweighted_redline_index": 3.89,
         "ordinal_value": 4,
         "_deepnote_index_column": 121
        },
        {
         "GEOID": 13121005502,
         "city_name": "atlanta",
         "reweighted_redline_index": 3.72,
         "ordinal_value": 4,
         "_deepnote_index_column": 122
        },
        {
         "GEOID": 13121005700,
         "city_name": "atlanta",
         "reweighted_redline_index": 3.86,
         "ordinal_value": 4,
         "_deepnote_index_column": 123
        },
        {
         "GEOID": 13121005800,
         "city_name": "atlanta",
         "reweighted_redline_index": 3,
         "ordinal_value": 3,
         "_deepnote_index_column": 124
        },
        {
         "GEOID": 13121006100,
         "city_name": "atlanta",
         "reweighted_redline_index": 2.53,
         "ordinal_value": 3,
         "_deepnote_index_column": 125
        },
        {
         "GEOID": 13121006400,
         "city_name": "atlanta",
         "reweighted_redline_index": 3,
         "ordinal_value": 4,
         "_deepnote_index_column": 126
        },
        {
         "GEOID": 13121006500,
         "city_name": "atlanta",
         "reweighted_redline_index": 2.87,
         "ordinal_value": 3,
         "_deepnote_index_column": 127
        },
        {
         "GEOID": 13121008800,
         "city_name": "atlanta",
         "reweighted_redline_index": 4,
         "ordinal_value": 4,
         "_deepnote_index_column": 128
        },
        {
         "GEOID": 13121009200,
         "city_name": "atlanta",
         "reweighted_redline_index": 3.22,
         "ordinal_value": 4,
         "_deepnote_index_column": 129
        },
        {
         "GEOID": 13121007500,
         "city_name": "atlanta",
         "reweighted_redline_index": 3,
         "ordinal_value": 3,
         "_deepnote_index_column": 130
        },
        {
         "GEOID": 13121006000,
         "city_name": "atlanta",
         "reweighted_redline_index": 2.46,
         "ordinal_value": 3,
         "_deepnote_index_column": 131
        },
        {
         "GEOID": 13121008101,
         "city_name": "atlanta",
         "reweighted_redline_index": 2,
         "ordinal_value": 2,
         "_deepnote_index_column": 132
        },
        {
         "GEOID": 13089021411,
         "city_name": "atlanta",
         "reweighted_redline_index": 3,
         "ordinal_value": 3,
         "_deepnote_index_column": 133
        },
        {
         "GEOID": 13089021416,
         "city_name": "atlanta",
         "reweighted_redline_index": 3,
         "ordinal_value": 3,
         "_deepnote_index_column": 134
        }
       ]
      },
      "text/plain": "            GEOID city_name  reweighted_redline_index  ordinal_value\n0    4.811398e+10    dallas                      3.10              4\n1    4.811300e+10    dallas                      2.09              3\n2    4.811301e+10    dallas                      1.00              1\n3    4.811300e+10    dallas                      2.16              3\n4    4.811301e+10    dallas                      3.00              3\n..            ...       ...                       ...            ...\n130  1.312101e+10   atlanta                      3.00              3\n131  1.312101e+10   atlanta                      2.46              3\n132  1.312101e+10   atlanta                      2.00              2\n133  1.308902e+10   atlanta                      3.00              3\n134  1.308902e+10   atlanta                      3.00              3\n\n[6735 rows x 4 columns]",
      "text/html": "<div>\n<style scoped>\n    .dataframe tbody tr th:only-of-type {\n        vertical-align: middle;\n    }\n\n    .dataframe tbody tr th {\n        vertical-align: top;\n    }\n\n    .dataframe thead th {\n        text-align: right;\n    }\n</style>\n<table border=\"1\" class=\"dataframe\">\n  <thead>\n    <tr style=\"text-align: right;\">\n      <th></th>\n      <th>GEOID</th>\n      <th>city_name</th>\n      <th>reweighted_redline_index</th>\n      <th>ordinal_value</th>\n    </tr>\n  </thead>\n  <tbody>\n    <tr>\n      <th>0</th>\n      <td>4.811398e+10</td>\n      <td>dallas</td>\n      <td>3.10</td>\n      <td>4</td>\n    </tr>\n    <tr>\n      <th>1</th>\n      <td>4.811300e+10</td>\n      <td>dallas</td>\n      <td>2.09</td>\n      <td>3</td>\n    </tr>\n    <tr>\n      <th>2</th>\n      <td>4.811301e+10</td>\n      <td>dallas</td>\n      <td>1.00</td>\n      <td>1</td>\n    </tr>\n    <tr>\n      <th>3</th>\n      <td>4.811300e+10</td>\n      <td>dallas</td>\n      <td>2.16</td>\n      <td>3</td>\n    </tr>\n    <tr>\n      <th>4</th>\n      <td>4.811301e+10</td>\n      <td>dallas</td>\n      <td>3.00</td>\n      <td>3</td>\n    </tr>\n    <tr>\n      <th>...</th>\n      <td>...</td>\n      <td>...</td>\n      <td>...</td>\n      <td>...</td>\n    </tr>\n    <tr>\n      <th>130</th>\n      <td>1.312101e+10</td>\n      <td>atlanta</td>\n      <td>3.00</td>\n      <td>3</td>\n    </tr>\n    <tr>\n      <th>131</th>\n      <td>1.312101e+10</td>\n      <td>atlanta</td>\n      <td>2.46</td>\n      <td>3</td>\n    </tr>\n    <tr>\n      <th>132</th>\n      <td>1.312101e+10</td>\n      <td>atlanta</td>\n      <td>2.00</td>\n      <td>2</td>\n    </tr>\n    <tr>\n      <th>133</th>\n      <td>1.308902e+10</td>\n      <td>atlanta</td>\n      <td>3.00</td>\n      <td>3</td>\n    </tr>\n    <tr>\n      <th>134</th>\n      <td>1.308902e+10</td>\n      <td>atlanta</td>\n      <td>3.00</td>\n      <td>3</td>\n    </tr>\n  </tbody>\n</table>\n<p>6735 rows × 4 columns</p>\n</div>"
     },
     "metadata": {}
    }
   ],
   "execution_count": null
  },
  {
   "cell_type": "code",
   "metadata": {
    "tags": [],
    "output_cleared": false,
    "source_hash": "4d4815c8",
    "execution_millis": 32,
    "deepnote_to_be_reexecuted": false,
    "execution_start": 1623462815612,
    "cell_id": "00034-573573e8-b751-4a6f-b5e6-627ab5048910",
    "deepnote_cell_type": "code"
   },
   "source": "# A check for catching outliers with respect to the reweighted_redline_index\n# np.unique(geo_intersect.reweighted_redline_index, return_counts=True)[0]\ngeo_intersect[geo_intersect.reweighted_redline_index < 1]",
   "outputs": [
    {
     "output_type": "execute_result",
     "execution_count": 49,
     "data": {
      "application/vnd.deepnote.dataframe.v2+json": {
       "row_count": 29,
       "column_count": 4,
       "columns": [
        {
         "name": "GEOID",
         "dtype": "float64",
         "stats": {
          "unique_count": 29,
          "nan_count": 0,
          "min": "6001404501.0",
          "max": "36081134100.0",
          "histogram": [
           {
            "bin_start": 6001404501,
            "bin_end": 9009377460.9,
            "count": 23
           },
           {
            "bin_start": 9009377460.9,
            "bin_end": 12017350420.8,
            "count": 0
           },
           {
            "bin_start": 12017350420.8,
            "bin_end": 15025323380.7,
            "count": 0
           },
           {
            "bin_start": 15025323380.7,
            "bin_end": 18033296340.6,
            "count": 3
           },
           {
            "bin_start": 18033296340.6,
            "bin_end": 21041269300.5,
            "count": 0
           },
           {
            "bin_start": 21041269300.5,
            "bin_end": 24049242260.4,
            "count": 0
           },
           {
            "bin_start": 24049242260.4,
            "bin_end": 27057215220.3,
            "count": 0
           },
           {
            "bin_start": 27057215220.3,
            "bin_end": 30065188180.2,
            "count": 0
           },
           {
            "bin_start": 30065188180.2,
            "bin_end": 33073161140.100002,
            "count": 0
           },
           {
            "bin_start": 33073161140.100002,
            "bin_end": 36081134100,
            "count": 3
           }
          ]
         }
        },
        {
         "name": "city_name",
         "dtype": "object",
         "stats": {
          "unique_count": 3,
          "nan_count": 0,
          "categories": [
           {
            "name": "cali",
            "count": 23
           },
           {
            "name": "ny",
            "count": 3
           },
           {
            "name": "chicago",
            "count": 3
           }
          ]
         }
        },
        {
         "name": "reweighted_redline_index",
         "dtype": "float64",
         "stats": {
          "unique_count": 25,
          "nan_count": 0,
          "min": "0.0",
          "max": "0.98",
          "histogram": [
           {
            "bin_start": 0,
            "bin_end": 0.098,
            "count": 8
           },
           {
            "bin_start": 0.098,
            "bin_end": 0.196,
            "count": 3
           },
           {
            "bin_start": 0.196,
            "bin_end": 0.29400000000000004,
            "count": 0
           },
           {
            "bin_start": 0.29400000000000004,
            "bin_end": 0.392,
            "count": 1
           },
           {
            "bin_start": 0.392,
            "bin_end": 0.49,
            "count": 3
           },
           {
            "bin_start": 0.49,
            "bin_end": 0.5880000000000001,
            "count": 2
           },
           {
            "bin_start": 0.5880000000000001,
            "bin_end": 0.686,
            "count": 4
           },
           {
            "bin_start": 0.686,
            "bin_end": 0.784,
            "count": 3
           },
           {
            "bin_start": 0.784,
            "bin_end": 0.882,
            "count": 1
           },
           {
            "bin_start": 0.882,
            "bin_end": 0.98,
            "count": 4
           }
          ]
         }
        },
        {
         "name": "ordinal_value",
         "dtype": "int64",
         "stats": {
          "unique_count": 1,
          "nan_count": 0,
          "min": "1",
          "max": "1",
          "histogram": [
           {
            "bin_start": 0.5,
            "bin_end": 0.6,
            "count": 0
           },
           {
            "bin_start": 0.6,
            "bin_end": 0.7,
            "count": 0
           },
           {
            "bin_start": 0.7,
            "bin_end": 0.8,
            "count": 0
           },
           {
            "bin_start": 0.8,
            "bin_end": 0.9,
            "count": 0
           },
           {
            "bin_start": 0.9,
            "bin_end": 1,
            "count": 0
           },
           {
            "bin_start": 1,
            "bin_end": 1.1,
            "count": 29
           },
           {
            "bin_start": 1.1,
            "bin_end": 1.2000000000000002,
            "count": 0
           },
           {
            "bin_start": 1.2000000000000002,
            "bin_end": 1.3,
            "count": 0
           },
           {
            "bin_start": 1.3,
            "bin_end": 1.4,
            "count": 0
           },
           {
            "bin_start": 1.4,
            "bin_end": 1.5,
            "count": 0
           }
          ]
         }
        },
        {
         "name": "_deepnote_index_column",
         "dtype": "int64"
        }
       ],
       "rows_top": [
        {
         "GEOID": 36081124700,
         "city_name": "ny",
         "reweighted_redline_index": 0.16,
         "ordinal_value": 1,
         "_deepnote_index_column": 258
        },
        {
         "GEOID": 36081122300,
         "city_name": "ny",
         "reweighted_redline_index": 0.81,
         "ordinal_value": 1,
         "_deepnote_index_column": 1713
        },
        {
         "GEOID": 36081134100,
         "city_name": "ny",
         "reweighted_redline_index": 0,
         "ordinal_value": 1,
         "_deepnote_index_column": 1727
        },
        {
         "GEOID": 6037181000,
         "city_name": "cali",
         "reweighted_redline_index": 0.78,
         "ordinal_value": 1,
         "_deepnote_index_column": 2
        },
        {
         "GEOID": 6037461100,
         "city_name": "cali",
         "reweighted_redline_index": 0.56,
         "ordinal_value": 1,
         "_deepnote_index_column": 231
        },
        {
         "GEOID": 6001404700,
         "city_name": "cali",
         "reweighted_redline_index": 0.62,
         "ordinal_value": 1,
         "_deepnote_index_column": 257
        },
        {
         "GEOID": 6037128102,
         "city_name": "cali",
         "reweighted_redline_index": 0,
         "ordinal_value": 1,
         "_deepnote_index_column": 297
        },
        {
         "GEOID": 6085503123,
         "city_name": "cali",
         "reweighted_redline_index": 0.63,
         "ordinal_value": 1,
         "_deepnote_index_column": 750
        },
        {
         "GEOID": 6037128220,
         "city_name": "cali",
         "reweighted_redline_index": 0.93,
         "ordinal_value": 1,
         "_deepnote_index_column": 852
        },
        {
         "GEOID": 6037128601,
         "city_name": "cali",
         "reweighted_redline_index": 0.41,
         "ordinal_value": 1,
         "_deepnote_index_column": 861
        },
        {
         "GEOID": 6075032802,
         "city_name": "cali",
         "reweighted_redline_index": 0.91,
         "ordinal_value": 1,
         "_deepnote_index_column": 912
        },
        {
         "GEOID": 6073002902,
         "city_name": "cali",
         "reweighted_redline_index": 0.36,
         "ordinal_value": 1,
         "_deepnote_index_column": 1063
        },
        {
         "GEOID": 6073008303,
         "city_name": "cali",
         "reweighted_redline_index": 0.17,
         "ordinal_value": 1,
         "_deepnote_index_column": 1097
        },
        {
         "GEOID": 6001404501,
         "city_name": "cali",
         "reweighted_redline_index": 0.98,
         "ordinal_value": 1,
         "_deepnote_index_column": 1125
        },
        {
         "GEOID": 6001404502,
         "city_name": "cali",
         "reweighted_redline_index": 0.75,
         "ordinal_value": 1,
         "_deepnote_index_column": 1166
        },
        {
         "GEOID": 6073014700,
         "city_name": "cali",
         "reweighted_redline_index": 0.03,
         "ordinal_value": 1,
         "_deepnote_index_column": 1198
        },
        {
         "GEOID": 6073007100,
         "city_name": "cali",
         "reweighted_redline_index": 0.77,
         "ordinal_value": 1,
         "_deepnote_index_column": 1201
        },
        {
         "GEOID": 6073008311,
         "city_name": "cali",
         "reweighted_redline_index": 0.46,
         "ordinal_value": 1,
         "_deepnote_index_column": 1253
        },
        {
         "GEOID": 6037460100,
         "city_name": "cali",
         "reweighted_redline_index": 0.98,
         "ordinal_value": 1,
         "_deepnote_index_column": 1281
        },
        {
         "GEOID": 6037460200,
         "city_name": "cali",
         "reweighted_redline_index": 0.04,
         "ordinal_value": 1,
         "_deepnote_index_column": 1312
        },
        {
         "GEOID": 6037430701,
         "city_name": "cali",
         "reweighted_redline_index": 0.66,
         "ordinal_value": 1,
         "_deepnote_index_column": 1324
        },
        {
         "GEOID": 6073007200,
         "city_name": "cali",
         "reweighted_redline_index": 0.02,
         "ordinal_value": 1,
         "_deepnote_index_column": 1403
        },
        {
         "GEOID": 6075032902,
         "city_name": "cali",
         "reweighted_redline_index": 0.64,
         "ordinal_value": 1,
         "_deepnote_index_column": 1745
        },
        {
         "GEOID": 6001408000,
         "city_name": "cali",
         "reweighted_redline_index": 0.49,
         "ordinal_value": 1,
         "_deepnote_index_column": 1888
        },
        {
         "GEOID": 6073007702,
         "city_name": "cali",
         "reweighted_redline_index": 0.08,
         "ordinal_value": 1,
         "_deepnote_index_column": 1940
        },
        {
         "GEOID": 6075035400,
         "city_name": "cali",
         "reweighted_redline_index": 0.4,
         "ordinal_value": 1,
         "_deepnote_index_column": 1993
        },
        {
         "GEOID": 17031520500,
         "city_name": "chicago",
         "reweighted_redline_index": 0,
         "ordinal_value": 1,
         "_deepnote_index_column": 109
        },
        {
         "GEOID": 17031430600,
         "city_name": "chicago",
         "reweighted_redline_index": 0.02,
         "ordinal_value": 1,
         "_deepnote_index_column": 700
        },
        {
         "GEOID": 17031430800,
         "city_name": "chicago",
         "reweighted_redline_index": 0.14,
         "ordinal_value": 1,
         "_deepnote_index_column": 701
        }
       ],
       "rows_bottom": null
      },
      "text/plain": "             GEOID city_name  reweighted_redline_index  ordinal_value\n258   3.608112e+10        ny                      0.16              1\n1713  3.608112e+10        ny                      0.81              1\n1727  3.608113e+10        ny                      0.00              1\n2     6.037181e+09      cali                      0.78              1\n231   6.037461e+09      cali                      0.56              1\n257   6.001405e+09      cali                      0.62              1\n297   6.037128e+09      cali                      0.00              1\n750   6.085503e+09      cali                      0.63              1\n852   6.037128e+09      cali                      0.93              1\n861   6.037129e+09      cali                      0.41              1\n912   6.075033e+09      cali                      0.91              1\n1063  6.073003e+09      cali                      0.36              1\n1097  6.073008e+09      cali                      0.17              1\n1125  6.001405e+09      cali                      0.98              1\n1166  6.001405e+09      cali                      0.75              1\n1198  6.073015e+09      cali                      0.03              1\n1201  6.073007e+09      cali                      0.77              1\n1253  6.073008e+09      cali                      0.46              1\n1281  6.037460e+09      cali                      0.98              1\n1312  6.037460e+09      cali                      0.04              1\n1324  6.037431e+09      cali                      0.66              1\n1403  6.073007e+09      cali                      0.02              1\n1745  6.075033e+09      cali                      0.64              1\n1888  6.001408e+09      cali                      0.49              1\n1940  6.073008e+09      cali                      0.08              1\n1993  6.075035e+09      cali                      0.40              1\n109   1.703152e+10   chicago                      0.00              1\n700   1.703143e+10   chicago                      0.02              1\n701   1.703143e+10   chicago                      0.14              1",
      "text/html": "<div>\n<style scoped>\n    .dataframe tbody tr th:only-of-type {\n        vertical-align: middle;\n    }\n\n    .dataframe tbody tr th {\n        vertical-align: top;\n    }\n\n    .dataframe thead th {\n        text-align: right;\n    }\n</style>\n<table border=\"1\" class=\"dataframe\">\n  <thead>\n    <tr style=\"text-align: right;\">\n      <th></th>\n      <th>GEOID</th>\n      <th>city_name</th>\n      <th>reweighted_redline_index</th>\n      <th>ordinal_value</th>\n    </tr>\n  </thead>\n  <tbody>\n    <tr>\n      <th>258</th>\n      <td>3.608112e+10</td>\n      <td>ny</td>\n      <td>0.16</td>\n      <td>1</td>\n    </tr>\n    <tr>\n      <th>1713</th>\n      <td>3.608112e+10</td>\n      <td>ny</td>\n      <td>0.81</td>\n      <td>1</td>\n    </tr>\n    <tr>\n      <th>1727</th>\n      <td>3.608113e+10</td>\n      <td>ny</td>\n      <td>0.00</td>\n      <td>1</td>\n    </tr>\n    <tr>\n      <th>2</th>\n      <td>6.037181e+09</td>\n      <td>cali</td>\n      <td>0.78</td>\n      <td>1</td>\n    </tr>\n    <tr>\n      <th>231</th>\n      <td>6.037461e+09</td>\n      <td>cali</td>\n      <td>0.56</td>\n      <td>1</td>\n    </tr>\n    <tr>\n      <th>257</th>\n      <td>6.001405e+09</td>\n      <td>cali</td>\n      <td>0.62</td>\n      <td>1</td>\n    </tr>\n    <tr>\n      <th>297</th>\n      <td>6.037128e+09</td>\n      <td>cali</td>\n      <td>0.00</td>\n      <td>1</td>\n    </tr>\n    <tr>\n      <th>750</th>\n      <td>6.085503e+09</td>\n      <td>cali</td>\n      <td>0.63</td>\n      <td>1</td>\n    </tr>\n    <tr>\n      <th>852</th>\n      <td>6.037128e+09</td>\n      <td>cali</td>\n      <td>0.93</td>\n      <td>1</td>\n    </tr>\n    <tr>\n      <th>861</th>\n      <td>6.037129e+09</td>\n      <td>cali</td>\n      <td>0.41</td>\n      <td>1</td>\n    </tr>\n    <tr>\n      <th>912</th>\n      <td>6.075033e+09</td>\n      <td>cali</td>\n      <td>0.91</td>\n      <td>1</td>\n    </tr>\n    <tr>\n      <th>1063</th>\n      <td>6.073003e+09</td>\n      <td>cali</td>\n      <td>0.36</td>\n      <td>1</td>\n    </tr>\n    <tr>\n      <th>1097</th>\n      <td>6.073008e+09</td>\n      <td>cali</td>\n      <td>0.17</td>\n      <td>1</td>\n    </tr>\n    <tr>\n      <th>1125</th>\n      <td>6.001405e+09</td>\n      <td>cali</td>\n      <td>0.98</td>\n      <td>1</td>\n    </tr>\n    <tr>\n      <th>1166</th>\n      <td>6.001405e+09</td>\n      <td>cali</td>\n      <td>0.75</td>\n      <td>1</td>\n    </tr>\n    <tr>\n      <th>1198</th>\n      <td>6.073015e+09</td>\n      <td>cali</td>\n      <td>0.03</td>\n      <td>1</td>\n    </tr>\n    <tr>\n      <th>1201</th>\n      <td>6.073007e+09</td>\n      <td>cali</td>\n      <td>0.77</td>\n      <td>1</td>\n    </tr>\n    <tr>\n      <th>1253</th>\n      <td>6.073008e+09</td>\n      <td>cali</td>\n      <td>0.46</td>\n      <td>1</td>\n    </tr>\n    <tr>\n      <th>1281</th>\n      <td>6.037460e+09</td>\n      <td>cali</td>\n      <td>0.98</td>\n      <td>1</td>\n    </tr>\n    <tr>\n      <th>1312</th>\n      <td>6.037460e+09</td>\n      <td>cali</td>\n      <td>0.04</td>\n      <td>1</td>\n    </tr>\n    <tr>\n      <th>1324</th>\n      <td>6.037431e+09</td>\n      <td>cali</td>\n      <td>0.66</td>\n      <td>1</td>\n    </tr>\n    <tr>\n      <th>1403</th>\n      <td>6.073007e+09</td>\n      <td>cali</td>\n      <td>0.02</td>\n      <td>1</td>\n    </tr>\n    <tr>\n      <th>1745</th>\n      <td>6.075033e+09</td>\n      <td>cali</td>\n      <td>0.64</td>\n      <td>1</td>\n    </tr>\n    <tr>\n      <th>1888</th>\n      <td>6.001408e+09</td>\n      <td>cali</td>\n      <td>0.49</td>\n      <td>1</td>\n    </tr>\n    <tr>\n      <th>1940</th>\n      <td>6.073008e+09</td>\n      <td>cali</td>\n      <td>0.08</td>\n      <td>1</td>\n    </tr>\n    <tr>\n      <th>1993</th>\n      <td>6.075035e+09</td>\n      <td>cali</td>\n      <td>0.40</td>\n      <td>1</td>\n    </tr>\n    <tr>\n      <th>109</th>\n      <td>1.703152e+10</td>\n      <td>chicago</td>\n      <td>0.00</td>\n      <td>1</td>\n    </tr>\n    <tr>\n      <th>700</th>\n      <td>1.703143e+10</td>\n      <td>chicago</td>\n      <td>0.02</td>\n      <td>1</td>\n    </tr>\n    <tr>\n      <th>701</th>\n      <td>1.703143e+10</td>\n      <td>chicago</td>\n      <td>0.14</td>\n      <td>1</td>\n    </tr>\n  </tbody>\n</table>\n</div>"
     },
     "metadata": {}
    }
   ],
   "execution_count": null
  },
  {
   "cell_type": "markdown",
   "source": "# Joining ACS and Redlining Data",
   "metadata": {
    "tags": [],
    "cell_id": "00035-37126889-ecad-4273-88ef-676a20b45fec",
    "deepnote_cell_type": "markdown"
   }
  },
  {
   "cell_type": "code",
   "metadata": {
    "tags": [],
    "output_cleared": false,
    "source_hash": "10425d7c",
    "execution_millis": 27,
    "deepnote_to_be_reexecuted": false,
    "execution_start": 1623462817398,
    "cell_id": "00036-ca22c316-359e-42d4-b518-965c4aff7971",
    "deepnote_cell_type": "code"
   },
   "source": "# Merging the geo_files and the ACS data\njoined = geo_intersect.merge(acs, how=\"inner\", left_on=\"GEOID\", right_on=\"geo_id\")\n\n# Retain \"GEOID\"\njoined.drop(columns=[\"ordinal_value\", \"geo_id\"], inplace=True)",
   "outputs": [],
   "execution_count": null
  },
  {
   "cell_type": "code",
   "metadata": {
    "tags": [],
    "cell_id": "00042-7454b451-80f6-40e5-b80c-4317d93d43d4",
    "deepnote_to_be_reexecuted": false,
    "source_hash": "1093ec70",
    "execution_start": 1623462822208,
    "execution_millis": 248,
    "deepnote_cell_type": "code"
   },
   "source": "joined.head()",
   "outputs": [
    {
     "output_type": "execute_result",
     "execution_count": 51,
     "data": {
      "application/vnd.deepnote.dataframe.v2+json": {
       "row_count": 5,
       "column_count": 78,
       "columns": [
        {
         "name": "GEOID",
         "dtype": "float64",
         "stats": {
          "unique_count": 5,
          "nan_count": 0,
          "min": "48113000605.0",
          "max": "48113980100.0",
          "histogram": [
           {
            "bin_start": 48113000605,
            "bin_end": 48113098554.5,
            "count": 4
           },
           {
            "bin_start": 48113098554.5,
            "bin_end": 48113196504,
            "count": 0
           },
           {
            "bin_start": 48113196504,
            "bin_end": 48113294453.5,
            "count": 0
           },
           {
            "bin_start": 48113294453.5,
            "bin_end": 48113392403,
            "count": 0
           },
           {
            "bin_start": 48113392403,
            "bin_end": 48113490352.5,
            "count": 0
           },
           {
            "bin_start": 48113490352.5,
            "bin_end": 48113588302,
            "count": 0
           },
           {
            "bin_start": 48113588302,
            "bin_end": 48113686251.5,
            "count": 0
           },
           {
            "bin_start": 48113686251.5,
            "bin_end": 48113784201,
            "count": 0
           },
           {
            "bin_start": 48113784201,
            "bin_end": 48113882150.5,
            "count": 0
           },
           {
            "bin_start": 48113882150.5,
            "bin_end": 48113980100,
            "count": 1
           }
          ]
         }
        },
        {
         "name": "city_name",
         "dtype": "object",
         "stats": {
          "unique_count": 1,
          "nan_count": 0,
          "categories": [
           {
            "name": "dallas",
            "count": 5
           }
          ]
         }
        },
        {
         "name": "reweighted_redline_index",
         "dtype": "float64",
         "stats": {
          "unique_count": 5,
          "nan_count": 0,
          "min": "1.0",
          "max": "3.1",
          "histogram": [
           {
            "bin_start": 1,
            "bin_end": 1.21,
            "count": 1
           },
           {
            "bin_start": 1.21,
            "bin_end": 1.42,
            "count": 0
           },
           {
            "bin_start": 1.42,
            "bin_end": 1.6300000000000001,
            "count": 0
           },
           {
            "bin_start": 1.6300000000000001,
            "bin_end": 1.84,
            "count": 0
           },
           {
            "bin_start": 1.84,
            "bin_end": 2.05,
            "count": 0
           },
           {
            "bin_start": 2.05,
            "bin_end": 2.2600000000000002,
            "count": 2
           },
           {
            "bin_start": 2.2600000000000002,
            "bin_end": 2.47,
            "count": 0
           },
           {
            "bin_start": 2.47,
            "bin_end": 2.68,
            "count": 0
           },
           {
            "bin_start": 2.68,
            "bin_end": 2.89,
            "count": 0
           },
           {
            "bin_start": 2.89,
            "bin_end": 3.1,
            "count": 2
           }
          ]
         }
        },
        {
         "name": "total_pop",
         "dtype": "float64",
         "stats": {
          "unique_count": 5,
          "nan_count": 0,
          "min": "20.0",
          "max": "5568.0",
          "histogram": [
           {
            "bin_start": 20,
            "bin_end": 574.8,
            "count": 1
           },
           {
            "bin_start": 574.8,
            "bin_end": 1129.6,
            "count": 0
           },
           {
            "bin_start": 1129.6,
            "bin_end": 1684.3999999999999,
            "count": 0
           },
           {
            "bin_start": 1684.3999999999999,
            "bin_end": 2239.2,
            "count": 0
           },
           {
            "bin_start": 2239.2,
            "bin_end": 2794,
            "count": 2
           },
           {
            "bin_start": 2794,
            "bin_end": 3348.7999999999997,
            "count": 0
           },
           {
            "bin_start": 3348.7999999999997,
            "bin_end": 3903.5999999999995,
            "count": 0
           },
           {
            "bin_start": 3903.5999999999995,
            "bin_end": 4458.4,
            "count": 1
           },
           {
            "bin_start": 4458.4,
            "bin_end": 5013.2,
            "count": 0
           },
           {
            "bin_start": 5013.2,
            "bin_end": 5568,
            "count": 1
           }
          ]
         }
        },
        {
         "name": "households",
         "dtype": "float64",
         "stats": {
          "unique_count": 5,
          "nan_count": 0,
          "min": "5.0",
          "max": "1996.0",
          "histogram": [
           {
            "bin_start": 5,
            "bin_end": 204.1,
            "count": 1
           },
           {
            "bin_start": 204.1,
            "bin_end": 403.2,
            "count": 0
           },
           {
            "bin_start": 403.2,
            "bin_end": 602.3,
            "count": 0
           },
           {
            "bin_start": 602.3,
            "bin_end": 801.4,
            "count": 0
           },
           {
            "bin_start": 801.4,
            "bin_end": 1000.5,
            "count": 0
           },
           {
            "bin_start": 1000.5,
            "bin_end": 1199.6,
            "count": 1
           },
           {
            "bin_start": 1199.6,
            "bin_end": 1398.7,
            "count": 0
           },
           {
            "bin_start": 1398.7,
            "bin_end": 1597.8,
            "count": 1
           },
           {
            "bin_start": 1597.8,
            "bin_end": 1796.8999999999999,
            "count": 1
           },
           {
            "bin_start": 1796.8999999999999,
            "bin_end": 1996,
            "count": 1
           }
          ]
         }
        },
        {
         "name": "median_age",
         "dtype": "float64",
         "stats": {
          "unique_count": 5,
          "nan_count": 0,
          "min": "13.8",
          "max": "43.1",
          "histogram": [
           {
            "bin_start": 13.8,
            "bin_end": 16.73,
            "count": 1
           },
           {
            "bin_start": 16.73,
            "bin_end": 19.66,
            "count": 0
           },
           {
            "bin_start": 19.66,
            "bin_end": 22.590000000000003,
            "count": 0
           },
           {
            "bin_start": 22.590000000000003,
            "bin_end": 25.520000000000003,
            "count": 0
           },
           {
            "bin_start": 25.520000000000003,
            "bin_end": 28.450000000000003,
            "count": 0
           },
           {
            "bin_start": 28.450000000000003,
            "bin_end": 31.380000000000003,
            "count": 0
           },
           {
            "bin_start": 31.380000000000003,
            "bin_end": 34.31,
            "count": 1
           },
           {
            "bin_start": 34.31,
            "bin_end": 37.24,
            "count": 0
           },
           {
            "bin_start": 37.24,
            "bin_end": 40.17,
            "count": 1
           },
           {
            "bin_start": 40.17,
            "bin_end": 43.1,
            "count": 2
           }
          ]
         }
        },
        {
         "name": "median_income",
         "dtype": "float64",
         "stats": {
          "unique_count": 4,
          "nan_count": 1,
          "min": "28664.0",
          "max": "102875.0",
          "histogram": [
           {
            "bin_start": 28664,
            "bin_end": 36085.1,
            "count": 1
           },
           {
            "bin_start": 36085.1,
            "bin_end": 43506.2,
            "count": 0
           },
           {
            "bin_start": 43506.2,
            "bin_end": 50927.3,
            "count": 0
           },
           {
            "bin_start": 50927.3,
            "bin_end": 58348.4,
            "count": 1
           },
           {
            "bin_start": 58348.4,
            "bin_end": 65769.5,
            "count": 0
           },
           {
            "bin_start": 65769.5,
            "bin_end": 73190.6,
            "count": 0
           },
           {
            "bin_start": 73190.6,
            "bin_end": 80611.70000000001,
            "count": 0
           },
           {
            "bin_start": 80611.70000000001,
            "bin_end": 88032.8,
            "count": 0
           },
           {
            "bin_start": 88032.8,
            "bin_end": 95453.90000000001,
            "count": 0
           },
           {
            "bin_start": 95453.90000000001,
            "bin_end": 102875,
            "count": 2
           }
          ]
         }
        },
        {
         "name": "income_per_capita",
         "dtype": "float64",
         "stats": {
          "unique_count": 4,
          "nan_count": 1,
          "min": "13681.0",
          "max": "87771.0",
          "histogram": [
           {
            "bin_start": 13681,
            "bin_end": 21090,
            "count": 1
           },
           {
            "bin_start": 21090,
            "bin_end": 28499,
            "count": 0
           },
           {
            "bin_start": 28499,
            "bin_end": 35908,
            "count": 0
           },
           {
            "bin_start": 35908,
            "bin_end": 43317,
            "count": 1
           },
           {
            "bin_start": 43317,
            "bin_end": 50726,
            "count": 0
           },
           {
            "bin_start": 50726,
            "bin_end": 58135,
            "count": 0
           },
           {
            "bin_start": 58135,
            "bin_end": 65544,
            "count": 0
           },
           {
            "bin_start": 65544,
            "bin_end": 72953,
            "count": 0
           },
           {
            "bin_start": 72953,
            "bin_end": 80362,
            "count": 0
           },
           {
            "bin_start": 80362,
            "bin_end": 87771,
            "count": 2
           }
          ]
         }
        },
        {
         "name": "gini_index",
         "dtype": "float64",
         "stats": {
          "unique_count": 4,
          "nan_count": 1,
          "min": "0.4096",
          "max": "0.5498",
          "histogram": [
           {
            "bin_start": 0.4096,
            "bin_end": 0.42362,
            "count": 1
           },
           {
            "bin_start": 0.42362,
            "bin_end": 0.43764000000000003,
            "count": 0
           },
           {
            "bin_start": 0.43764000000000003,
            "bin_end": 0.45166,
            "count": 1
           },
           {
            "bin_start": 0.45166,
            "bin_end": 0.46568,
            "count": 0
           },
           {
            "bin_start": 0.46568,
            "bin_end": 0.4797,
            "count": 0
           },
           {
            "bin_start": 0.4797,
            "bin_end": 0.49372,
            "count": 0
           },
           {
            "bin_start": 0.49372,
            "bin_end": 0.50774,
            "count": 0
           },
           {
            "bin_start": 0.50774,
            "bin_end": 0.52176,
            "count": 1
           },
           {
            "bin_start": 0.52176,
            "bin_end": 0.5357799999999999,
            "count": 0
           },
           {
            "bin_start": 0.5357799999999999,
            "bin_end": 0.5498,
            "count": 1
           }
          ]
         }
        },
        {
         "name": "housing_units",
         "dtype": "float64",
         "stats": {
          "unique_count": 5,
          "nan_count": 0,
          "min": "5.0",
          "max": "2120.0",
          "histogram": [
           {
            "bin_start": 5,
            "bin_end": 216.5,
            "count": 1
           },
           {
            "bin_start": 216.5,
            "bin_end": 428,
            "count": 0
           },
           {
            "bin_start": 428,
            "bin_end": 639.5,
            "count": 0
           },
           {
            "bin_start": 639.5,
            "bin_end": 851,
            "count": 0
           },
           {
            "bin_start": 851,
            "bin_end": 1062.5,
            "count": 0
           },
           {
            "bin_start": 1062.5,
            "bin_end": 1274,
            "count": 1
           },
           {
            "bin_start": 1274,
            "bin_end": 1485.5,
            "count": 0
           },
           {
            "bin_start": 1485.5,
            "bin_end": 1697,
            "count": 0
           },
           {
            "bin_start": 1697,
            "bin_end": 1908.5,
            "count": 1
           },
           {
            "bin_start": 1908.5,
            "bin_end": 2120,
            "count": 2
           }
          ]
         }
        },
        {
         "name": "renter_occupied_housing_units_paying_cash_median_gross_rent",
         "dtype": "float64",
         "stats": {
          "unique_count": 4,
          "nan_count": 1,
          "min": "894.0",
          "max": "1612.0",
          "histogram": [
           {
            "bin_start": 894,
            "bin_end": 965.8,
            "count": 1
           },
           {
            "bin_start": 965.8,
            "bin_end": 1037.6,
            "count": 1
           },
           {
            "bin_start": 1037.6,
            "bin_end": 1109.4,
            "count": 0
           },
           {
            "bin_start": 1109.4,
            "bin_end": 1181.2,
            "count": 0
           },
           {
            "bin_start": 1181.2,
            "bin_end": 1253,
            "count": 0
           },
           {
            "bin_start": 1253,
            "bin_end": 1324.8,
            "count": 0
           },
           {
            "bin_start": 1324.8,
            "bin_end": 1396.6,
            "count": 0
           },
           {
            "bin_start": 1396.6,
            "bin_end": 1468.4,
            "count": 0
           },
           {
            "bin_start": 1468.4,
            "bin_end": 1540.1999999999998,
            "count": 0
           },
           {
            "bin_start": 1540.1999999999998,
            "bin_end": 1612,
            "count": 2
           }
          ]
         }
        },
        {
         "name": "owner_occupied_housing_units_lower_value_quartile",
         "dtype": "float64",
         "stats": {
          "unique_count": 4,
          "nan_count": 1,
          "min": "55700.0",
          "max": "268500.0",
          "histogram": [
           {
            "bin_start": 55700,
            "bin_end": 76980,
            "count": 1
           },
           {
            "bin_start": 76980,
            "bin_end": 98260,
            "count": 0
           },
           {
            "bin_start": 98260,
            "bin_end": 119540,
            "count": 0
           },
           {
            "bin_start": 119540,
            "bin_end": 140820,
            "count": 0
           },
           {
            "bin_start": 140820,
            "bin_end": 162100,
            "count": 0
           },
           {
            "bin_start": 162100,
            "bin_end": 183380,
            "count": 0
           },
           {
            "bin_start": 183380,
            "bin_end": 204660,
            "count": 1
           },
           {
            "bin_start": 204660,
            "bin_end": 225940,
            "count": 1
           },
           {
            "bin_start": 225940,
            "bin_end": 247220,
            "count": 0
           },
           {
            "bin_start": 247220,
            "bin_end": 268500,
            "count": 1
           }
          ]
         }
        },
        {
         "name": "owner_occupied_housing_units_median_value",
         "dtype": "float64",
         "stats": {
          "unique_count": 4,
          "nan_count": 1,
          "min": "70200.0",
          "max": "710900.0",
          "histogram": [
           {
            "bin_start": 70200,
            "bin_end": 134270,
            "count": 1
           },
           {
            "bin_start": 134270,
            "bin_end": 198340,
            "count": 0
           },
           {
            "bin_start": 198340,
            "bin_end": 262410,
            "count": 0
           },
           {
            "bin_start": 262410,
            "bin_end": 326480,
            "count": 1
           },
           {
            "bin_start": 326480,
            "bin_end": 390550,
            "count": 1
           },
           {
            "bin_start": 390550,
            "bin_end": 454620,
            "count": 0
           },
           {
            "bin_start": 454620,
            "bin_end": 518690,
            "count": 0
           },
           {
            "bin_start": 518690,
            "bin_end": 582760,
            "count": 0
           },
           {
            "bin_start": 582760,
            "bin_end": 646830,
            "count": 0
           },
           {
            "bin_start": 646830,
            "bin_end": 710900,
            "count": 1
           }
          ]
         }
        },
        {
         "name": "owner_occupied_housing_units_upper_value_quartile",
         "dtype": "float64",
         "stats": {
          "unique_count": 4,
          "nan_count": 1,
          "min": "82700.0",
          "max": "1198300.0",
          "histogram": [
           {
            "bin_start": 82700,
            "bin_end": 194260,
            "count": 1
           },
           {
            "bin_start": 194260,
            "bin_end": 305820,
            "count": 0
           },
           {
            "bin_start": 305820,
            "bin_end": 417380,
            "count": 1
           },
           {
            "bin_start": 417380,
            "bin_end": 528940,
            "count": 1
           },
           {
            "bin_start": 528940,
            "bin_end": 640500,
            "count": 0
           },
           {
            "bin_start": 640500,
            "bin_end": 752060,
            "count": 0
           },
           {
            "bin_start": 752060,
            "bin_end": 863620,
            "count": 0
           },
           {
            "bin_start": 863620,
            "bin_end": 975180,
            "count": 0
           },
           {
            "bin_start": 975180,
            "bin_end": 1086740,
            "count": 0
           },
           {
            "bin_start": 1086740,
            "bin_end": 1198300,
            "count": 1
           }
          ]
         }
        },
        {
         "name": "median_year_structure_built",
         "dtype": "float64",
         "stats": {
          "unique_count": 4,
          "nan_count": 1,
          "min": "1949.0",
          "max": "1993.0",
          "histogram": [
           {
            "bin_start": 1949,
            "bin_end": 1953.4,
            "count": 1
           },
           {
            "bin_start": 1953.4,
            "bin_end": 1957.8,
            "count": 1
           },
           {
            "bin_start": 1957.8,
            "bin_end": 1962.2,
            "count": 0
           },
           {
            "bin_start": 1962.2,
            "bin_end": 1966.6,
            "count": 0
           },
           {
            "bin_start": 1966.6,
            "bin_end": 1971,
            "count": 0
           },
           {
            "bin_start": 1971,
            "bin_end": 1975.4,
            "count": 0
           },
           {
            "bin_start": 1975.4,
            "bin_end": 1979.8,
            "count": 0
           },
           {
            "bin_start": 1979.8,
            "bin_end": 1984.2,
            "count": 1
           },
           {
            "bin_start": 1984.2,
            "bin_end": 1988.6,
            "count": 0
           },
           {
            "bin_start": 1988.6,
            "bin_end": 1993,
            "count": 1
           }
          ]
         }
        },
        {
         "name": "median_rent",
         "dtype": "float64",
         "stats": {
          "unique_count": 4,
          "nan_count": 1,
          "min": "694.0",
          "max": "1510.0",
          "histogram": [
           {
            "bin_start": 694,
            "bin_end": 775.6,
            "count": 2
           },
           {
            "bin_start": 775.6,
            "bin_end": 857.2,
            "count": 0
           },
           {
            "bin_start": 857.2,
            "bin_end": 938.8,
            "count": 0
           },
           {
            "bin_start": 938.8,
            "bin_end": 1020.4,
            "count": 0
           },
           {
            "bin_start": 1020.4,
            "bin_end": 1102,
            "count": 0
           },
           {
            "bin_start": 1102,
            "bin_end": 1183.6,
            "count": 0
           },
           {
            "bin_start": 1183.6,
            "bin_end": 1265.1999999999998,
            "count": 0
           },
           {
            "bin_start": 1265.1999999999998,
            "bin_end": 1346.8,
            "count": 0
           },
           {
            "bin_start": 1346.8,
            "bin_end": 1428.4,
            "count": 0
           },
           {
            "bin_start": 1428.4,
            "bin_end": 1510,
            "count": 2
           }
          ]
         }
        },
        {
         "name": "percent_income_spent_on_rent",
         "dtype": "float64",
         "stats": {
          "unique_count": 4,
          "nan_count": 1,
          "min": "24.3",
          "max": "37.8",
          "histogram": [
           {
            "bin_start": 24.3,
            "bin_end": 25.65,
            "count": 1
           },
           {
            "bin_start": 25.65,
            "bin_end": 27,
            "count": 0
           },
           {
            "bin_start": 27,
            "bin_end": 28.35,
            "count": 1
           },
           {
            "bin_start": 28.35,
            "bin_end": 29.7,
            "count": 1
           },
           {
            "bin_start": 29.7,
            "bin_end": 31.049999999999997,
            "count": 0
           },
           {
            "bin_start": 31.049999999999997,
            "bin_end": 32.4,
            "count": 0
           },
           {
            "bin_start": 32.4,
            "bin_end": 33.75,
            "count": 0
           },
           {
            "bin_start": 33.75,
            "bin_end": 35.099999999999994,
            "count": 0
           },
           {
            "bin_start": 35.099999999999994,
            "bin_end": 36.449999999999996,
            "count": 0
           },
           {
            "bin_start": 36.449999999999996,
            "bin_end": 37.8,
            "count": 1
           }
          ]
         }
        },
        {
         "name": "bachelors_degree_or_higher_25_64",
         "dtype": "float64",
         "stats": {
          "unique_count": 5,
          "nan_count": 0,
          "min": "0.0",
          "max": "1421.0",
          "histogram": [
           {
            "bin_start": 0,
            "bin_end": 142.1,
            "count": 2
           },
           {
            "bin_start": 142.1,
            "bin_end": 284.2,
            "count": 0
           },
           {
            "bin_start": 284.2,
            "bin_end": 426.29999999999995,
            "count": 0
           },
           {
            "bin_start": 426.29999999999995,
            "bin_end": 568.4,
            "count": 0
           },
           {
            "bin_start": 568.4,
            "bin_end": 710.5,
            "count": 0
           },
           {
            "bin_start": 710.5,
            "bin_end": 852.5999999999999,
            "count": 1
           },
           {
            "bin_start": 852.5999999999999,
            "bin_end": 994.6999999999999,
            "count": 0
           },
           {
            "bin_start": 994.6999999999999,
            "bin_end": 1136.8,
            "count": 0
           },
           {
            "bin_start": 1136.8,
            "bin_end": 1278.8999999999999,
            "count": 1
           },
           {
            "bin_start": 1278.8999999999999,
            "bin_end": 1421,
            "count": 1
           }
          ]
         }
        },
        {
         "name": "aged_65_or_older_normalised",
         "dtype": "float64",
         "stats": {
          "unique_count": 5,
          "nan_count": 0,
          "min": "0.0",
          "max": "0.1995330459770115",
          "histogram": [
           {
            "bin_start": 0,
            "bin_end": 0.01995330459770115,
            "count": 1
           },
           {
            "bin_start": 0.01995330459770115,
            "bin_end": 0.0399066091954023,
            "count": 0
           },
           {
            "bin_start": 0.0399066091954023,
            "bin_end": 0.05985991379310345,
            "count": 0
           },
           {
            "bin_start": 0.05985991379310345,
            "bin_end": 0.0798132183908046,
            "count": 0
           },
           {
            "bin_start": 0.0798132183908046,
            "bin_end": 0.09976652298850575,
            "count": 0
           },
           {
            "bin_start": 0.09976652298850575,
            "bin_end": 0.1197198275862069,
            "count": 2
           },
           {
            "bin_start": 0.1197198275862069,
            "bin_end": 0.13967313218390806,
            "count": 0
           },
           {
            "bin_start": 0.13967313218390806,
            "bin_end": 0.1596264367816092,
            "count": 0
           },
           {
            "bin_start": 0.1596264367816092,
            "bin_end": 0.17957974137931035,
            "count": 0
           },
           {
            "bin_start": 0.17957974137931035,
            "bin_end": 0.1995330459770115,
            "count": 2
           }
          ]
         }
        },
        {
         "name": "aged_17_or_younger_normalised",
         "dtype": "float64",
         "stats": {
          "unique_count": 5,
          "nan_count": 0,
          "min": "0.038461538461538464",
          "max": "0.55",
          "histogram": [
           {
            "bin_start": 0.038461538461538464,
            "bin_end": 0.08961538461538462,
            "count": 1
           },
           {
            "bin_start": 0.08961538461538462,
            "bin_end": 0.14076923076923079,
            "count": 0
           },
           {
            "bin_start": 0.14076923076923079,
            "bin_end": 0.19192307692307695,
            "count": 0
           },
           {
            "bin_start": 0.19192307692307695,
            "bin_end": 0.2430769230769231,
            "count": 1
           },
           {
            "bin_start": 0.2430769230769231,
            "bin_end": 0.2942307692307693,
            "count": 2
           },
           {
            "bin_start": 0.2942307692307693,
            "bin_end": 0.3453846153846154,
            "count": 0
           },
           {
            "bin_start": 0.3453846153846154,
            "bin_end": 0.3965384615384616,
            "count": 0
           },
           {
            "bin_start": 0.3965384615384616,
            "bin_end": 0.4476923076923077,
            "count": 0
           },
           {
            "bin_start": 0.4476923076923077,
            "bin_end": 0.49884615384615394,
            "count": 0
           },
           {
            "bin_start": 0.49884615384615394,
            "bin_end": 0.55,
            "count": 1
           }
          ]
         }
        },
        {
         "name": "multi_unit_structures_normalised",
         "dtype": "float64",
         "stats": {
          "unique_count": 4,
          "nan_count": 0,
          "min": "0.0",
          "max": "0.763663967611336",
          "histogram": [
           {
            "bin_start": 0,
            "bin_end": 0.0763663967611336,
            "count": 2
           },
           {
            "bin_start": 0.0763663967611336,
            "bin_end": 0.1527327935222672,
            "count": 0
           },
           {
            "bin_start": 0.1527327935222672,
            "bin_end": 0.2290991902834008,
            "count": 1
           },
           {
            "bin_start": 0.2290991902834008,
            "bin_end": 0.3054655870445344,
            "count": 0
           },
           {
            "bin_start": 0.3054655870445344,
            "bin_end": 0.381831983805668,
            "count": 0
           },
           {
            "bin_start": 0.381831983805668,
            "bin_end": 0.4581983805668016,
            "count": 1
           },
           {
            "bin_start": 0.4581983805668016,
            "bin_end": 0.5345647773279352,
            "count": 0
           },
           {
            "bin_start": 0.5345647773279352,
            "bin_end": 0.6109311740890688,
            "count": 0
           },
           {
            "bin_start": 0.6109311740890688,
            "bin_end": 0.6872975708502025,
            "count": 0
           },
           {
            "bin_start": 0.6872975708502025,
            "bin_end": 0.763663967611336,
            "count": 1
           }
          ]
         }
        },
        {
         "name": "poverty_normalised",
         "dtype": "float64",
         "stats": {
          "unique_count": 5,
          "nan_count": 0,
          "min": "0.0",
          "max": "0.25524222704266086",
          "histogram": [
           {
            "bin_start": 0,
            "bin_end": 0.025524222704266086,
            "count": 1
           },
           {
            "bin_start": 0.025524222704266086,
            "bin_end": 0.05104844540853217,
            "count": 0
           },
           {
            "bin_start": 0.05104844540853217,
            "bin_end": 0.07657266811279825,
            "count": 1
           },
           {
            "bin_start": 0.07657266811279825,
            "bin_end": 0.10209689081706434,
            "count": 0
           },
           {
            "bin_start": 0.10209689081706434,
            "bin_end": 0.12762111352133043,
            "count": 1
           },
           {
            "bin_start": 0.12762111352133043,
            "bin_end": 0.1531453362255965,
            "count": 0
           },
           {
            "bin_start": 0.1531453362255965,
            "bin_end": 0.1786695589298626,
            "count": 0
           },
           {
            "bin_start": 0.1786695589298626,
            "bin_end": 0.20419378163412868,
            "count": 1
           },
           {
            "bin_start": 0.20419378163412868,
            "bin_end": 0.22971800433839476,
            "count": 0
           },
           {
            "bin_start": 0.22971800433839476,
            "bin_end": 0.25524222704266086,
            "count": 1
           }
          ]
         }
        },
        {
         "name": "households_public_asst_or_food_stamps_normalised",
         "dtype": "float64",
         "stats": {
          "unique_count": 5,
          "nan_count": 0,
          "min": "0.0",
          "max": "0.22545090180360722",
          "histogram": [
           {
            "bin_start": 0,
            "bin_end": 0.022545090180360723,
            "count": 3
           },
           {
            "bin_start": 0.022545090180360723,
            "bin_end": 0.045090180360721446,
            "count": 0
           },
           {
            "bin_start": 0.045090180360721446,
            "bin_end": 0.06763527054108218,
            "count": 0
           },
           {
            "bin_start": 0.06763527054108218,
            "bin_end": 0.09018036072144289,
            "count": 0
           },
           {
            "bin_start": 0.09018036072144289,
            "bin_end": 0.11272545090180361,
            "count": 0
           },
           {
            "bin_start": 0.11272545090180361,
            "bin_end": 0.13527054108216435,
            "count": 0
           },
           {
            "bin_start": 0.13527054108216435,
            "bin_end": 0.15781563126252507,
            "count": 1
           },
           {
            "bin_start": 0.15781563126252507,
            "bin_end": 0.18036072144288579,
            "count": 0
           },
           {
            "bin_start": 0.18036072144288579,
            "bin_end": 0.2029058116232465,
            "count": 0
           },
           {
            "bin_start": 0.2029058116232465,
            "bin_end": 0.22545090180360722,
            "count": 1
           }
          ]
         }
        },
        {
         "name": "black_pop_normalised",
         "dtype": "float64",
         "stats": {
          "unique_count": 5,
          "nan_count": 0,
          "min": "0.0",
          "max": "0.6519396551724138",
          "histogram": [
           {
            "bin_start": 0,
            "bin_end": 0.06519396551724138,
            "count": 4
           },
           {
            "bin_start": 0.06519396551724138,
            "bin_end": 0.13038793103448276,
            "count": 0
           },
           {
            "bin_start": 0.13038793103448276,
            "bin_end": 0.19558189655172414,
            "count": 0
           },
           {
            "bin_start": 0.19558189655172414,
            "bin_end": 0.2607758620689655,
            "count": 0
           },
           {
            "bin_start": 0.2607758620689655,
            "bin_end": 0.3259698275862069,
            "count": 0
           },
           {
            "bin_start": 0.3259698275862069,
            "bin_end": 0.3911637931034483,
            "count": 0
           },
           {
            "bin_start": 0.3911637931034483,
            "bin_end": 0.45635775862068967,
            "count": 0
           },
           {
            "bin_start": 0.45635775862068967,
            "bin_end": 0.521551724137931,
            "count": 0
           },
           {
            "bin_start": 0.521551724137931,
            "bin_end": 0.5867456896551724,
            "count": 0
           },
           {
            "bin_start": 0.5867456896551724,
            "bin_end": 0.6519396551724138,
            "count": 1
           }
          ]
         }
        },
        {
         "name": "asian_pop_normalised",
         "dtype": "float64",
         "stats": {
          "unique_count": 5,
          "nan_count": 0,
          "min": "0.0",
          "max": "0.13186813186813187",
          "histogram": [
           {
            "bin_start": 0,
            "bin_end": 0.013186813186813187,
            "count": 3
           },
           {
            "bin_start": 0.013186813186813187,
            "bin_end": 0.026373626373626374,
            "count": 0
           },
           {
            "bin_start": 0.026373626373626374,
            "bin_end": 0.03956043956043956,
            "count": 0
           },
           {
            "bin_start": 0.03956043956043956,
            "bin_end": 0.05274725274725275,
            "count": 0
           },
           {
            "bin_start": 0.05274725274725275,
            "bin_end": 0.06593406593406594,
            "count": 0
           },
           {
            "bin_start": 0.06593406593406594,
            "bin_end": 0.07912087912087912,
            "count": 1
           },
           {
            "bin_start": 0.07912087912087912,
            "bin_end": 0.09230769230769231,
            "count": 0
           },
           {
            "bin_start": 0.09230769230769231,
            "bin_end": 0.1054945054945055,
            "count": 0
           },
           {
            "bin_start": 0.1054945054945055,
            "bin_end": 0.11868131868131868,
            "count": 0
           },
           {
            "bin_start": 0.11868131868131868,
            "bin_end": 0.13186813186813187,
            "count": 1
           }
          ]
         }
        },
        {
         "name": "hispanic_pop_normalised",
         "dtype": "float64",
         "stats": {
          "unique_count": 5,
          "nan_count": 0,
          "min": "0.0489060489060489",
          "max": "1.0",
          "histogram": [
           {
            "bin_start": 0.0489060489060489,
            "bin_end": 0.14401544401544403,
            "count": 2
           },
           {
            "bin_start": 0.14401544401544403,
            "bin_end": 0.23912483912483914,
            "count": 0
           },
           {
            "bin_start": 0.23912483912483914,
            "bin_end": 0.33423423423423426,
            "count": 1
           },
           {
            "bin_start": 0.33423423423423426,
            "bin_end": 0.42934362934362935,
            "count": 0
           },
           {
            "bin_start": 0.42934362934362935,
            "bin_end": 0.5244530244530244,
            "count": 0
           },
           {
            "bin_start": 0.5244530244530244,
            "bin_end": 0.6195624195624196,
            "count": 1
           },
           {
            "bin_start": 0.6195624195624196,
            "bin_end": 0.7146718146718147,
            "count": 0
           },
           {
            "bin_start": 0.7146718146718147,
            "bin_end": 0.8097812097812098,
            "count": 0
           },
           {
            "bin_start": 0.8097812097812098,
            "bin_end": 0.9048906048906049,
            "count": 0
           },
           {
            "bin_start": 0.9048906048906049,
            "bin_end": 1,
            "count": 1
           }
          ]
         }
        },
        {
         "name": "amerindian_pop_normalised",
         "dtype": "float64",
         "stats": {
          "unique_count": 5,
          "nan_count": 0,
          "min": "0.0",
          "max": "0.01098901098901099",
          "histogram": [
           {
            "bin_start": 0,
            "bin_end": 0.001098901098901099,
            "count": 1
           },
           {
            "bin_start": 0.001098901098901099,
            "bin_end": 0.002197802197802198,
            "count": 1
           },
           {
            "bin_start": 0.002197802197802198,
            "bin_end": 0.0032967032967032967,
            "count": 1
           },
           {
            "bin_start": 0.0032967032967032967,
            "bin_end": 0.004395604395604396,
            "count": 0
           },
           {
            "bin_start": 0.004395604395604396,
            "bin_end": 0.005494505494505494,
            "count": 0
           },
           {
            "bin_start": 0.005494505494505494,
            "bin_end": 0.006593406593406593,
            "count": 0
           },
           {
            "bin_start": 0.006593406593406593,
            "bin_end": 0.007692307692307693,
            "count": 0
           },
           {
            "bin_start": 0.007692307692307693,
            "bin_end": 0.008791208791208791,
            "count": 0
           },
           {
            "bin_start": 0.008791208791208791,
            "bin_end": 0.00989010989010989,
            "count": 1
           },
           {
            "bin_start": 0.00989010989010989,
            "bin_end": 0.01098901098901099,
            "count": 1
           }
          ]
         }
        },
        {
         "name": "white_pop_normalised",
         "dtype": "float64",
         "stats": {
          "unique_count": 5,
          "nan_count": 0,
          "min": "0.0",
          "max": "0.8416988416988417",
          "histogram": [
           {
            "bin_start": 0,
            "bin_end": 0.08416988416988416,
            "count": 2
           },
           {
            "bin_start": 0.08416988416988416,
            "bin_end": 0.16833976833976833,
            "count": 0
           },
           {
            "bin_start": 0.16833976833976833,
            "bin_end": 0.2525096525096525,
            "count": 0
           },
           {
            "bin_start": 0.2525096525096525,
            "bin_end": 0.33667953667953665,
            "count": 1
           },
           {
            "bin_start": 0.33667953667953665,
            "bin_end": 0.4208494208494208,
            "count": 0
           },
           {
            "bin_start": 0.4208494208494208,
            "bin_end": 0.505019305019305,
            "count": 0
           },
           {
            "bin_start": 0.505019305019305,
            "bin_end": 0.5891891891891892,
            "count": 0
           },
           {
            "bin_start": 0.5891891891891892,
            "bin_end": 0.6733590733590733,
            "count": 0
           },
           {
            "bin_start": 0.6733590733590733,
            "bin_end": 0.7575289575289574,
            "count": 1
           },
           {
            "bin_start": 0.7575289575289574,
            "bin_end": 0.8416988416988417,
            "count": 1
           }
          ]
         }
        },
        {
         "name": "non_white_pop_normalised",
         "dtype": "float64",
         "stats": {
          "unique_count": 5,
          "nan_count": 0,
          "min": "0.1583011583011583",
          "max": "1.0",
          "histogram": [
           {
            "bin_start": 0.1583011583011583,
            "bin_end": 0.24247104247104245,
            "count": 1
           },
           {
            "bin_start": 0.24247104247104245,
            "bin_end": 0.3266409266409266,
            "count": 1
           },
           {
            "bin_start": 0.3266409266409266,
            "bin_end": 0.41081081081081083,
            "count": 0
           },
           {
            "bin_start": 0.41081081081081083,
            "bin_end": 0.49498069498069497,
            "count": 0
           },
           {
            "bin_start": 0.49498069498069497,
            "bin_end": 0.5791505791505791,
            "count": 0
           },
           {
            "bin_start": 0.5791505791505791,
            "bin_end": 0.6633204633204633,
            "count": 0
           },
           {
            "bin_start": 0.6633204633204633,
            "bin_end": 0.7474903474903475,
            "count": 1
           },
           {
            "bin_start": 0.7474903474903475,
            "bin_end": 0.8316602316602316,
            "count": 0
           },
           {
            "bin_start": 0.8316602316602316,
            "bin_end": 0.9158301158301158,
            "count": 0
           },
           {
            "bin_start": 0.9158301158301158,
            "bin_end": 1,
            "count": 2
           }
          ]
         }
        },
        {
         "name": "other_race_pop_normalised",
         "dtype": "float64",
         "stats": {
          "unique_count": 4,
          "nan_count": 0,
          "min": "0.0",
          "max": "0.01758901758901759",
          "histogram": [
           {
            "bin_start": 0,
            "bin_end": 0.001758901758901759,
            "count": 2
           },
           {
            "bin_start": 0.001758901758901759,
            "bin_end": 0.003517803517803518,
            "count": 0
           },
           {
            "bin_start": 0.003517803517803518,
            "bin_end": 0.005276705276705276,
            "count": 0
           },
           {
            "bin_start": 0.005276705276705276,
            "bin_end": 0.007035607035607036,
            "count": 0
           },
           {
            "bin_start": 0.007035607035607036,
            "bin_end": 0.008794508794508795,
            "count": 2
           },
           {
            "bin_start": 0.008794508794508795,
            "bin_end": 0.010553410553410553,
            "count": 0
           },
           {
            "bin_start": 0.010553410553410553,
            "bin_end": 0.012312312312312312,
            "count": 0
           },
           {
            "bin_start": 0.012312312312312312,
            "bin_end": 0.014071214071214071,
            "count": 0
           },
           {
            "bin_start": 0.014071214071214071,
            "bin_end": 0.01583011583011583,
            "count": 0
           },
           {
            "bin_start": 0.01583011583011583,
            "bin_end": 0.01758901758901759,
            "count": 1
           }
          ]
         }
        },
        {
         "name": "male_pop_normalised",
         "dtype": "float64",
         "stats": {
          "unique_count": 5,
          "nan_count": 0,
          "min": "0.4594594594594595",
          "max": "0.55",
          "histogram": [
           {
            "bin_start": 0.4594594594594595,
            "bin_end": 0.46851351351351356,
            "count": 2
           },
           {
            "bin_start": 0.46851351351351356,
            "bin_end": 0.4775675675675676,
            "count": 0
           },
           {
            "bin_start": 0.4775675675675676,
            "bin_end": 0.48662162162162165,
            "count": 0
           },
           {
            "bin_start": 0.48662162162162165,
            "bin_end": 0.4956756756756757,
            "count": 1
           },
           {
            "bin_start": 0.4956756756756757,
            "bin_end": 0.5047297297297297,
            "count": 0
           },
           {
            "bin_start": 0.5047297297297297,
            "bin_end": 0.5137837837837839,
            "count": 0
           },
           {
            "bin_start": 0.5137837837837839,
            "bin_end": 0.5228378378378379,
            "count": 1
           },
           {
            "bin_start": 0.5228378378378379,
            "bin_end": 0.5318918918918919,
            "count": 0
           },
           {
            "bin_start": 0.5318918918918919,
            "bin_end": 0.540945945945946,
            "count": 0
           },
           {
            "bin_start": 0.540945945945946,
            "bin_end": 0.55,
            "count": 1
           }
          ]
         }
        },
        {
         "name": "female_pop_normalised",
         "dtype": "float64",
         "stats": {
          "unique_count": 5,
          "nan_count": 0,
          "min": "0.45",
          "max": "0.5405405405405406",
          "histogram": [
           {
            "bin_start": 0.45,
            "bin_end": 0.4590540540540541,
            "count": 1
           },
           {
            "bin_start": 0.4590540540540541,
            "bin_end": 0.4681081081081081,
            "count": 0
           },
           {
            "bin_start": 0.4681081081081081,
            "bin_end": 0.4771621621621622,
            "count": 0
           },
           {
            "bin_start": 0.4771621621621622,
            "bin_end": 0.48621621621621625,
            "count": 1
           },
           {
            "bin_start": 0.48621621621621625,
            "bin_end": 0.49527027027027026,
            "count": 0
           },
           {
            "bin_start": 0.49527027027027026,
            "bin_end": 0.5043243243243244,
            "count": 0
           },
           {
            "bin_start": 0.5043243243243244,
            "bin_end": 0.5133783783783784,
            "count": 1
           },
           {
            "bin_start": 0.5133783783783784,
            "bin_end": 0.5224324324324324,
            "count": 0
           },
           {
            "bin_start": 0.5224324324324324,
            "bin_end": 0.5314864864864866,
            "count": 0
           },
           {
            "bin_start": 0.5314864864864866,
            "bin_end": 0.5405405405405406,
            "count": 2
           }
          ]
         }
        },
        {
         "name": "pop_currently_unmarried_normalised",
         "dtype": "float64",
         "stats": {
          "unique_count": 1,
          "nan_count": 0,
          "min": "0.0",
          "max": "0.0",
          "histogram": [
           {
            "bin_start": -0.5,
            "bin_end": -0.4,
            "count": 0
           },
           {
            "bin_start": -0.4,
            "bin_end": -0.3,
            "count": 0
           },
           {
            "bin_start": -0.3,
            "bin_end": -0.19999999999999996,
            "count": 0
           },
           {
            "bin_start": -0.19999999999999996,
            "bin_end": -0.09999999999999998,
            "count": 0
           },
           {
            "bin_start": -0.09999999999999998,
            "bin_end": 0,
            "count": 0
           },
           {
            "bin_start": 0,
            "bin_end": 0.10000000000000009,
            "count": 5
           },
           {
            "bin_start": 0.10000000000000009,
            "bin_end": 0.20000000000000007,
            "count": 0
           },
           {
            "bin_start": 0.20000000000000007,
            "bin_end": 0.30000000000000004,
            "count": 0
           },
           {
            "bin_start": 0.30000000000000004,
            "bin_end": 0.4,
            "count": 0
           },
           {
            "bin_start": 0.4,
            "bin_end": 0.5,
            "count": 0
           }
          ]
         }
        },
        {
         "name": "pop_now_married_normalised",
         "dtype": "float64",
         "stats": {
          "unique_count": 0,
          "nan_count": 5,
          "min": null,
          "max": null,
          "histogram": [
           {
            "bin_start": 0,
            "bin_end": 0.1,
            "count": 0
           },
           {
            "bin_start": 0.1,
            "bin_end": 0.2,
            "count": 0
           },
           {
            "bin_start": 0.2,
            "bin_end": 0.30000000000000004,
            "count": 0
           },
           {
            "bin_start": 0.30000000000000004,
            "bin_end": 0.4,
            "count": 0
           },
           {
            "bin_start": 0.4,
            "bin_end": 0.5,
            "count": 0
           },
           {
            "bin_start": 0.5,
            "bin_end": 0.6000000000000001,
            "count": 0
           },
           {
            "bin_start": 0.6000000000000001,
            "bin_end": 0.7000000000000001,
            "count": 0
           },
           {
            "bin_start": 0.7000000000000001,
            "bin_end": 0.8,
            "count": 0
           },
           {
            "bin_start": 0.8,
            "bin_end": 0.9,
            "count": 0
           },
           {
            "bin_start": 0.9,
            "bin_end": 1,
            "count": 0
           }
          ]
         }
        },
        {
         "name": "not_us_citizen_pop_normalised",
         "dtype": "float64",
         "stats": {
          "unique_count": 5,
          "nan_count": 0,
          "min": "0.0429000429000429",
          "max": "0.45",
          "histogram": [
           {
            "bin_start": 0.0429000429000429,
            "bin_end": 0.08361003861003861,
            "count": 1
           },
           {
            "bin_start": 0.08361003861003861,
            "bin_end": 0.12432003432003433,
            "count": 3
           },
           {
            "bin_start": 0.12432003432003433,
            "bin_end": 0.16503003003003003,
            "count": 0
           },
           {
            "bin_start": 0.16503003003003003,
            "bin_end": 0.20574002574002576,
            "count": 0
           },
           {
            "bin_start": 0.20574002574002576,
            "bin_end": 0.24645002145002148,
            "count": 0
           },
           {
            "bin_start": 0.24645002145002148,
            "bin_end": 0.28716001716001716,
            "count": 0
           },
           {
            "bin_start": 0.28716001716001716,
            "bin_end": 0.3278700128700129,
            "count": 0
           },
           {
            "bin_start": 0.3278700128700129,
            "bin_end": 0.3685800085800086,
            "count": 0
           },
           {
            "bin_start": 0.3685800085800086,
            "bin_end": 0.40929000429000434,
            "count": 0
           },
           {
            "bin_start": 0.40929000429000434,
            "bin_end": 0.45,
            "count": 1
           }
          ]
         }
        },
        {
         "name": "children_normalised",
         "dtype": "float64",
         "stats": {
          "unique_count": 5,
          "nan_count": 0,
          "min": "0.038461538461538464",
          "max": "0.55",
          "histogram": [
           {
            "bin_start": 0.038461538461538464,
            "bin_end": 0.08961538461538462,
            "count": 1
           },
           {
            "bin_start": 0.08961538461538462,
            "bin_end": 0.14076923076923079,
            "count": 0
           },
           {
            "bin_start": 0.14076923076923079,
            "bin_end": 0.19192307692307695,
            "count": 0
           },
           {
            "bin_start": 0.19192307692307695,
            "bin_end": 0.2430769230769231,
            "count": 1
           },
           {
            "bin_start": 0.2430769230769231,
            "bin_end": 0.2942307692307693,
            "count": 2
           },
           {
            "bin_start": 0.2942307692307693,
            "bin_end": 0.3453846153846154,
            "count": 0
           },
           {
            "bin_start": 0.3453846153846154,
            "bin_end": 0.3965384615384616,
            "count": 0
           },
           {
            "bin_start": 0.3965384615384616,
            "bin_end": 0.4476923076923077,
            "count": 0
           },
           {
            "bin_start": 0.4476923076923077,
            "bin_end": 0.49884615384615394,
            "count": 0
           },
           {
            "bin_start": 0.49884615384615394,
            "bin_end": 0.55,
            "count": 1
           }
          ]
         }
        },
        {
         "name": "married_households_normalised",
         "dtype": "float64",
         "stats": {
          "unique_count": 5,
          "nan_count": 0,
          "min": "0.2",
          "max": "1.0",
          "histogram": [
           {
            "bin_start": 0.2,
            "bin_end": 0.28,
            "count": 1
           },
           {
            "bin_start": 0.28,
            "bin_end": 0.36,
            "count": 2
           },
           {
            "bin_start": 0.36,
            "bin_end": 0.44,
            "count": 0
           },
           {
            "bin_start": 0.44,
            "bin_end": 0.52,
            "count": 1
           },
           {
            "bin_start": 0.52,
            "bin_end": 0.6000000000000001,
            "count": 0
           },
           {
            "bin_start": 0.6000000000000001,
            "bin_end": 0.6799999999999999,
            "count": 0
           },
           {
            "bin_start": 0.6799999999999999,
            "bin_end": 0.76,
            "count": 0
           },
           {
            "bin_start": 0.76,
            "bin_end": 0.8400000000000001,
            "count": 0
           },
           {
            "bin_start": 0.8400000000000001,
            "bin_end": 0.9199999999999999,
            "count": 0
           },
           {
            "bin_start": 0.9199999999999999,
            "bin_end": 1,
            "count": 1
           }
          ]
         }
        },
        {
         "name": "nonfamily_households_normalised",
         "dtype": "float64",
         "stats": {
          "unique_count": 5,
          "nan_count": 0,
          "min": "0.0",
          "max": "0.7601139601139602",
          "histogram": [
           {
            "bin_start": 0,
            "bin_end": 0.07601139601139602,
            "count": 1
           },
           {
            "bin_start": 0.07601139601139602,
            "bin_end": 0.15202279202279204,
            "count": 0
           },
           {
            "bin_start": 0.15202279202279204,
            "bin_end": 0.22803418803418807,
            "count": 0
           },
           {
            "bin_start": 0.22803418803418807,
            "bin_end": 0.30404558404558407,
            "count": 0
           },
           {
            "bin_start": 0.30404558404558407,
            "bin_end": 0.3800569800569801,
            "count": 0
           },
           {
            "bin_start": 0.3800569800569801,
            "bin_end": 0.45606837606837614,
            "count": 2
           },
           {
            "bin_start": 0.45606837606837614,
            "bin_end": 0.5320797720797721,
            "count": 1
           },
           {
            "bin_start": 0.5320797720797721,
            "bin_end": 0.6080911680911681,
            "count": 0
           },
           {
            "bin_start": 0.6080911680911681,
            "bin_end": 0.6841025641025642,
            "count": 0
           },
           {
            "bin_start": 0.6841025641025642,
            "bin_end": 0.7601139601139602,
            "count": 1
           }
          ]
         }
        },
        {
         "name": "family_households_normalised",
         "dtype": "float64",
         "stats": {
          "unique_count": 5,
          "nan_count": 0,
          "min": "0.23988603988603988",
          "max": "1.0",
          "histogram": [
           {
            "bin_start": 0.23988603988603988,
            "bin_end": 0.3158974358974359,
            "count": 1
           },
           {
            "bin_start": 0.3158974358974359,
            "bin_end": 0.3919088319088319,
            "count": 0
           },
           {
            "bin_start": 0.3919088319088319,
            "bin_end": 0.4679202279202279,
            "count": 0
           },
           {
            "bin_start": 0.4679202279202279,
            "bin_end": 0.543931623931624,
            "count": 1
           },
           {
            "bin_start": 0.543931623931624,
            "bin_end": 0.6199430199430199,
            "count": 2
           },
           {
            "bin_start": 0.6199430199430199,
            "bin_end": 0.695954415954416,
            "count": 0
           },
           {
            "bin_start": 0.695954415954416,
            "bin_end": 0.7719658119658119,
            "count": 0
           },
           {
            "bin_start": 0.7719658119658119,
            "bin_end": 0.847977207977208,
            "count": 0
           },
           {
            "bin_start": 0.847977207977208,
            "bin_end": 0.923988603988604,
            "count": 0
           },
           {
            "bin_start": 0.923988603988604,
            "bin_end": 1,
            "count": 1
           }
          ]
         }
        },
        {
         "name": "occupied_housing_units_normalised",
         "dtype": "float64",
         "stats": {
          "unique_count": 5,
          "nan_count": 0,
          "min": "0.8871794871794871",
          "max": "1.0",
          "histogram": [
           {
            "bin_start": 0.8871794871794871,
            "bin_end": 0.8984615384615384,
            "count": 2
           },
           {
            "bin_start": 0.8984615384615384,
            "bin_end": 0.9097435897435897,
            "count": 0
           },
           {
            "bin_start": 0.9097435897435897,
            "bin_end": 0.921025641025641,
            "count": 0
           },
           {
            "bin_start": 0.921025641025641,
            "bin_end": 0.9323076923076923,
            "count": 0
           },
           {
            "bin_start": 0.9323076923076923,
            "bin_end": 0.9435897435897436,
            "count": 1
           },
           {
            "bin_start": 0.9435897435897436,
            "bin_end": 0.9548717948717949,
            "count": 0
           },
           {
            "bin_start": 0.9548717948717949,
            "bin_end": 0.9661538461538461,
            "count": 1
           },
           {
            "bin_start": 0.9661538461538461,
            "bin_end": 0.9774358974358974,
            "count": 0
           },
           {
            "bin_start": 0.9774358974358974,
            "bin_end": 0.9887179487179487,
            "count": 0
           },
           {
            "bin_start": 0.9887179487179487,
            "bin_end": 1,
            "count": 1
           }
          ]
         }
        },
        {
         "name": "housing_units_renter_occupied_normalised",
         "dtype": "float64",
         "stats": {
          "unique_count": 5,
          "nan_count": 0,
          "min": "0.31981132075471697",
          "max": "1.0",
          "histogram": [
           {
            "bin_start": 0.31981132075471697,
            "bin_end": 0.38783018867924524,
            "count": 1
           },
           {
            "bin_start": 0.38783018867924524,
            "bin_end": 0.45584905660377356,
            "count": 2
           },
           {
            "bin_start": 0.45584905660377356,
            "bin_end": 0.5238679245283019,
            "count": 1
           },
           {
            "bin_start": 0.5238679245283019,
            "bin_end": 0.5918867924528302,
            "count": 0
           },
           {
            "bin_start": 0.5918867924528302,
            "bin_end": 0.6599056603773584,
            "count": 0
           },
           {
            "bin_start": 0.6599056603773584,
            "bin_end": 0.7279245283018867,
            "count": 0
           },
           {
            "bin_start": 0.7279245283018867,
            "bin_end": 0.7959433962264151,
            "count": 0
           },
           {
            "bin_start": 0.7959433962264151,
            "bin_end": 0.8639622641509433,
            "count": 0
           },
           {
            "bin_start": 0.8639622641509433,
            "bin_end": 0.9319811320754716,
            "count": 0
           },
           {
            "bin_start": 0.9319811320754716,
            "bin_end": 1,
            "count": 1
           }
          ]
         }
        },
        {
         "name": "vacant_housing_units_normalised",
         "dtype": "float64",
         "stats": {
          "unique_count": 5,
          "nan_count": 0,
          "min": "0.0",
          "max": "0.11282051282051282",
          "histogram": [
           {
            "bin_start": 0,
            "bin_end": 0.011282051282051283,
            "count": 1
           },
           {
            "bin_start": 0.011282051282051283,
            "bin_end": 0.022564102564102566,
            "count": 0
           },
           {
            "bin_start": 0.022564102564102566,
            "bin_end": 0.033846153846153845,
            "count": 0
           },
           {
            "bin_start": 0.033846153846153845,
            "bin_end": 0.04512820512820513,
            "count": 1
           },
           {
            "bin_start": 0.04512820512820513,
            "bin_end": 0.05641025641025642,
            "count": 0
           },
           {
            "bin_start": 0.05641025641025642,
            "bin_end": 0.06769230769230769,
            "count": 1
           },
           {
            "bin_start": 0.06769230769230769,
            "bin_end": 0.07897435897435898,
            "count": 0
           },
           {
            "bin_start": 0.07897435897435898,
            "bin_end": 0.09025641025641026,
            "count": 0
           },
           {
            "bin_start": 0.09025641025641026,
            "bin_end": 0.10153846153846155,
            "count": 0
           },
           {
            "bin_start": 0.10153846153846155,
            "bin_end": 0.11282051282051282,
            "count": 2
           }
          ]
         }
        },
        {
         "name": "vacant_housing_units_for_rent_normalised",
         "dtype": "float64",
         "stats": {
          "unique_count": 5,
          "nan_count": 0,
          "min": "0.0",
          "max": "0.0351493848857645",
          "histogram": [
           {
            "bin_start": 0,
            "bin_end": 0.00351493848857645,
            "count": 1
           },
           {
            "bin_start": 0.00351493848857645,
            "bin_end": 0.0070298769771529,
            "count": 0
           },
           {
            "bin_start": 0.0070298769771529,
            "bin_end": 0.01054481546572935,
            "count": 0
           },
           {
            "bin_start": 0.01054481546572935,
            "bin_end": 0.0140597539543058,
            "count": 1
           },
           {
            "bin_start": 0.0140597539543058,
            "bin_end": 0.01757469244288225,
            "count": 1
           },
           {
            "bin_start": 0.01757469244288225,
            "bin_end": 0.0210896309314587,
            "count": 0
           },
           {
            "bin_start": 0.0210896309314587,
            "bin_end": 0.024604569420035152,
            "count": 0
           },
           {
            "bin_start": 0.024604569420035152,
            "bin_end": 0.0281195079086116,
            "count": 0
           },
           {
            "bin_start": 0.0281195079086116,
            "bin_end": 0.03163444639718805,
            "count": 0
           },
           {
            "bin_start": 0.03163444639718805,
            "bin_end": 0.0351493848857645,
            "count": 2
           }
          ]
         }
        },
        {
         "name": "vacant_housing_units_for_sale_normalised",
         "dtype": "float64",
         "stats": {
          "unique_count": 2,
          "nan_count": 0,
          "min": "0.0",
          "max": "0.020754716981132074",
          "histogram": [
           {
            "bin_start": 0,
            "bin_end": 0.0020754716981132076,
            "count": 4
           },
           {
            "bin_start": 0.0020754716981132076,
            "bin_end": 0.004150943396226415,
            "count": 0
           },
           {
            "bin_start": 0.004150943396226415,
            "bin_end": 0.006226415094339623,
            "count": 0
           },
           {
            "bin_start": 0.006226415094339623,
            "bin_end": 0.00830188679245283,
            "count": 0
           },
           {
            "bin_start": 0.00830188679245283,
            "bin_end": 0.010377358490566039,
            "count": 0
           },
           {
            "bin_start": 0.010377358490566039,
            "bin_end": 0.012452830188679246,
            "count": 0
           },
           {
            "bin_start": 0.012452830188679246,
            "bin_end": 0.014528301886792452,
            "count": 0
           },
           {
            "bin_start": 0.014528301886792452,
            "bin_end": 0.01660377358490566,
            "count": 0
           },
           {
            "bin_start": 0.01660377358490566,
            "bin_end": 0.01867924528301887,
            "count": 0
           },
           {
            "bin_start": 0.01867924528301887,
            "bin_end": 0.020754716981132074,
            "count": 1
           }
          ]
         }
        },
        {
         "name": "mobile_homes_normalised",
         "dtype": "float64",
         "stats": {
          "unique_count": 3,
          "nan_count": 0,
          "min": "0.0",
          "max": "0.005566801619433198",
          "histogram": [
           {
            "bin_start": 0,
            "bin_end": 0.0005566801619433198,
            "count": 3
           },
           {
            "bin_start": 0.0005566801619433198,
            "bin_end": 0.0011133603238866396,
            "count": 0
           },
           {
            "bin_start": 0.0011133603238866396,
            "bin_end": 0.0016700404858299594,
            "count": 0
           },
           {
            "bin_start": 0.0016700404858299594,
            "bin_end": 0.002226720647773279,
            "count": 0
           },
           {
            "bin_start": 0.002226720647773279,
            "bin_end": 0.002783400809716599,
            "count": 0
           },
           {
            "bin_start": 0.002783400809716599,
            "bin_end": 0.003340080971659919,
            "count": 0
           },
           {
            "bin_start": 0.003340080971659919,
            "bin_end": 0.0038967611336032386,
            "count": 1
           },
           {
            "bin_start": 0.0038967611336032386,
            "bin_end": 0.004453441295546558,
            "count": 0
           },
           {
            "bin_start": 0.004453441295546558,
            "bin_end": 0.005010121457489879,
            "count": 0
           },
           {
            "bin_start": 0.005010121457489879,
            "bin_end": 0.005566801619433198,
            "count": 1
           }
          ]
         }
        },
        {
         "name": "group_quarters_normalised",
         "dtype": "float64",
         "stats": {
          "unique_count": 3,
          "nan_count": 0,
          "min": "0.0",
          "max": "0.0035919540229885057",
          "histogram": [
           {
            "bin_start": 0,
            "bin_end": 0.00035919540229885057,
            "count": 3
           },
           {
            "bin_start": 0.00035919540229885057,
            "bin_end": 0.0007183908045977011,
            "count": 0
           },
           {
            "bin_start": 0.0007183908045977011,
            "bin_end": 0.0010775862068965517,
            "count": 0
           },
           {
            "bin_start": 0.0010775862068965517,
            "bin_end": 0.0014367816091954023,
            "count": 1
           },
           {
            "bin_start": 0.0014367816091954023,
            "bin_end": 0.0017959770114942528,
            "count": 0
           },
           {
            "bin_start": 0.0017959770114942528,
            "bin_end": 0.0021551724137931034,
            "count": 0
           },
           {
            "bin_start": 0.0021551724137931034,
            "bin_end": 0.002514367816091954,
            "count": 0
           },
           {
            "bin_start": 0.002514367816091954,
            "bin_end": 0.0028735632183908046,
            "count": 0
           },
           {
            "bin_start": 0.0028735632183908046,
            "bin_end": 0.003232758620689655,
            "count": 0
           },
           {
            "bin_start": 0.003232758620689655,
            "bin_end": 0.0035919540229885057,
            "count": 1
           }
          ]
         }
        },
        {
         "name": "housing_built_1939_or_earlier_normalised",
         "dtype": "float64",
         "stats": {
          "unique_count": 5,
          "nan_count": 0,
          "min": "0.0",
          "max": "0.1704745166959578",
          "histogram": [
           {
            "bin_start": 0,
            "bin_end": 0.01704745166959578,
            "count": 2
           },
           {
            "bin_start": 0.01704745166959578,
            "bin_end": 0.03409490333919156,
            "count": 0
           },
           {
            "bin_start": 0.03409490333919156,
            "bin_end": 0.05114235500878734,
            "count": 0
           },
           {
            "bin_start": 0.05114235500878734,
            "bin_end": 0.06818980667838312,
            "count": 0
           },
           {
            "bin_start": 0.06818980667838312,
            "bin_end": 0.0852372583479789,
            "count": 0
           },
           {
            "bin_start": 0.0852372583479789,
            "bin_end": 0.10228471001757468,
            "count": 1
           },
           {
            "bin_start": 0.10228471001757468,
            "bin_end": 0.11933216168717045,
            "count": 1
           },
           {
            "bin_start": 0.11933216168717045,
            "bin_end": 0.13637961335676624,
            "count": 0
           },
           {
            "bin_start": 0.13637961335676624,
            "bin_end": 0.15342706502636203,
            "count": 0
           },
           {
            "bin_start": 0.15342706502636203,
            "bin_end": 0.1704745166959578,
            "count": 1
           }
          ]
         }
        },
        {
         "name": "housing_built_2004_or_later_normalised",
         "dtype": "float64",
         "stats": {
          "unique_count": 5,
          "nan_count": 0,
          "min": "0.0",
          "max": "0.07186234817813765",
          "histogram": [
           {
            "bin_start": 0,
            "bin_end": 0.007186234817813765,
            "count": 1
           },
           {
            "bin_start": 0.007186234817813765,
            "bin_end": 0.01437246963562753,
            "count": 0
           },
           {
            "bin_start": 0.01437246963562753,
            "bin_end": 0.021558704453441296,
            "count": 0
           },
           {
            "bin_start": 0.021558704453441296,
            "bin_end": 0.02874493927125506,
            "count": 1
           },
           {
            "bin_start": 0.02874493927125506,
            "bin_end": 0.035931174089068825,
            "count": 1
           },
           {
            "bin_start": 0.035931174089068825,
            "bin_end": 0.04311740890688259,
            "count": 0
           },
           {
            "bin_start": 0.04311740890688259,
            "bin_end": 0.050303643724696354,
            "count": 1
           },
           {
            "bin_start": 0.050303643724696354,
            "bin_end": 0.05748987854251012,
            "count": 0
           },
           {
            "bin_start": 0.05748987854251012,
            "bin_end": 0.06467611336032389,
            "count": 0
           },
           {
            "bin_start": 0.06467611336032389,
            "bin_end": 0.07186234817813765,
            "count": 1
           }
          ]
         }
        },
        {
         "name": "children_in_single_female_hh_normalised",
         "dtype": "float64",
         "stats": {
          "unique_count": 5,
          "nan_count": 0,
          "min": "0.0",
          "max": "0.41523809523809524",
          "histogram": [
           {
            "bin_start": 0,
            "bin_end": 0.041523809523809525,
            "count": 1
           },
           {
            "bin_start": 0.041523809523809525,
            "bin_end": 0.08304761904761905,
            "count": 0
           },
           {
            "bin_start": 0.08304761904761905,
            "bin_end": 0.12457142857142858,
            "count": 0
           },
           {
            "bin_start": 0.12457142857142858,
            "bin_end": 0.1660952380952381,
            "count": 1
           },
           {
            "bin_start": 0.1660952380952381,
            "bin_end": 0.20761904761904762,
            "count": 0
           },
           {
            "bin_start": 0.20761904761904762,
            "bin_end": 0.24914285714285717,
            "count": 1
           },
           {
            "bin_start": 0.24914285714285717,
            "bin_end": 0.2906666666666667,
            "count": 1
           },
           {
            "bin_start": 0.2906666666666667,
            "bin_end": 0.3321904761904762,
            "count": 0
           },
           {
            "bin_start": 0.3321904761904762,
            "bin_end": 0.3737142857142857,
            "count": 0
           },
           {
            "bin_start": 0.3737142857142857,
            "bin_end": 0.41523809523809524,
            "count": 1
           }
          ]
         }
        },
        {
         "name": "rent_burden_not_computed_normalised",
         "dtype": "float64",
         "stats": {
          "unique_count": 5,
          "nan_count": 0,
          "min": "0.012302284710017574",
          "max": "1.0",
          "histogram": [
           {
            "bin_start": 0.012302284710017574,
            "bin_end": 0.11107205623901581,
            "count": 4
           },
           {
            "bin_start": 0.11107205623901581,
            "bin_end": 0.20984182776801405,
            "count": 0
           },
           {
            "bin_start": 0.20984182776801405,
            "bin_end": 0.3086115992970123,
            "count": 0
           },
           {
            "bin_start": 0.3086115992970123,
            "bin_end": 0.40738137082601056,
            "count": 0
           },
           {
            "bin_start": 0.40738137082601056,
            "bin_end": 0.5061511423550088,
            "count": 0
           },
           {
            "bin_start": 0.5061511423550088,
            "bin_end": 0.604920913884007,
            "count": 0
           },
           {
            "bin_start": 0.604920913884007,
            "bin_end": 0.7036906854130053,
            "count": 0
           },
           {
            "bin_start": 0.7036906854130053,
            "bin_end": 0.8024604569420035,
            "count": 0
           },
           {
            "bin_start": 0.8024604569420035,
            "bin_end": 0.9012302284710018,
            "count": 0
           },
           {
            "bin_start": 0.9012302284710018,
            "bin_end": 1,
            "count": 1
           }
          ]
         }
        },
        {
         "name": "rent_under_30_percent_normalised",
         "dtype": "float64",
         "stats": {
          "unique_count": 5,
          "nan_count": 0,
          "min": "0.0",
          "max": "0.281195079086116",
          "histogram": [
           {
            "bin_start": 0,
            "bin_end": 0.0281195079086116,
            "count": 1
           },
           {
            "bin_start": 0.0281195079086116,
            "bin_end": 0.0562390158172232,
            "count": 0
           },
           {
            "bin_start": 0.0562390158172232,
            "bin_end": 0.0843585237258348,
            "count": 0
           },
           {
            "bin_start": 0.0843585237258348,
            "bin_end": 0.1124780316344464,
            "count": 0
           },
           {
            "bin_start": 0.1124780316344464,
            "bin_end": 0.140597539543058,
            "count": 1
           },
           {
            "bin_start": 0.140597539543058,
            "bin_end": 0.1687170474516696,
            "count": 0
           },
           {
            "bin_start": 0.1687170474516696,
            "bin_end": 0.19683655536028122,
            "count": 0
           },
           {
            "bin_start": 0.19683655536028122,
            "bin_end": 0.2249560632688928,
            "count": 0
           },
           {
            "bin_start": 0.2249560632688928,
            "bin_end": 0.2530755711775044,
            "count": 1
           },
           {
            "bin_start": 0.2530755711775044,
            "bin_end": 0.281195079086116,
            "count": 2
           }
          ]
         }
        },
        {
         "name": "rent_30_to_50_percent_normalised",
         "dtype": "float64",
         "stats": {
          "unique_count": 5,
          "nan_count": 0,
          "min": "0.0",
          "max": "0.07742914979757085",
          "histogram": [
           {
            "bin_start": 0,
            "bin_end": 0.0077429149797570845,
            "count": 1
           },
           {
            "bin_start": 0.0077429149797570845,
            "bin_end": 0.015485829959514169,
            "count": 0
           },
           {
            "bin_start": 0.015485829959514169,
            "bin_end": 0.023228744939271254,
            "count": 0
           },
           {
            "bin_start": 0.023228744939271254,
            "bin_end": 0.030971659919028338,
            "count": 0
           },
           {
            "bin_start": 0.030971659919028338,
            "bin_end": 0.03871457489878542,
            "count": 0
           },
           {
            "bin_start": 0.03871457489878542,
            "bin_end": 0.04645748987854251,
            "count": 0
           },
           {
            "bin_start": 0.04645748987854251,
            "bin_end": 0.05420040485829959,
            "count": 0
           },
           {
            "bin_start": 0.05420040485829959,
            "bin_end": 0.061943319838056676,
            "count": 2
           },
           {
            "bin_start": 0.061943319838056676,
            "bin_end": 0.06968623481781376,
            "count": 1
           },
           {
            "bin_start": 0.06968623481781376,
            "bin_end": 0.07742914979757085,
            "count": 1
           }
          ]
         }
        },
        {
         "name": "rent_over_50_percent_normalised",
         "dtype": "float64",
         "stats": {
          "unique_count": 5,
          "nan_count": 0,
          "min": "0.0",
          "max": "0.1625659050966608",
          "histogram": [
           {
            "bin_start": 0,
            "bin_end": 0.01625659050966608,
            "count": 1
           },
           {
            "bin_start": 0.01625659050966608,
            "bin_end": 0.03251318101933216,
            "count": 0
           },
           {
            "bin_start": 0.03251318101933216,
            "bin_end": 0.048769771528998244,
            "count": 0
           },
           {
            "bin_start": 0.048769771528998244,
            "bin_end": 0.06502636203866433,
            "count": 1
           },
           {
            "bin_start": 0.06502636203866433,
            "bin_end": 0.0812829525483304,
            "count": 0
           },
           {
            "bin_start": 0.0812829525483304,
            "bin_end": 0.09753954305799649,
            "count": 0
           },
           {
            "bin_start": 0.09753954305799649,
            "bin_end": 0.11379613356766258,
            "count": 1
           },
           {
            "bin_start": 0.11379613356766258,
            "bin_end": 0.13005272407732865,
            "count": 1
           },
           {
            "bin_start": 0.13005272407732865,
            "bin_end": 0.14630931458699473,
            "count": 0
           },
           {
            "bin_start": 0.14630931458699473,
            "bin_end": 0.1625659050966608,
            "count": 1
           }
          ]
         }
        },
        {
         "name": "aggregate_travel_time_to_work_normalised",
         "dtype": "float64",
         "stats": {
          "unique_count": 3,
          "nan_count": 2,
          "min": "20.032198712051517",
          "max": "27.555728356661483",
          "histogram": [
           {
            "bin_start": 20.032198712051517,
            "bin_end": 20.784551676512514,
            "count": 1
           },
           {
            "bin_start": 20.784551676512514,
            "bin_end": 21.53690464097351,
            "count": 1
           },
           {
            "bin_start": 21.53690464097351,
            "bin_end": 22.289257605434507,
            "count": 0
           },
           {
            "bin_start": 22.289257605434507,
            "bin_end": 23.041610569895504,
            "count": 0
           },
           {
            "bin_start": 23.041610569895504,
            "bin_end": 23.7939635343565,
            "count": 0
           },
           {
            "bin_start": 23.7939635343565,
            "bin_end": 24.546316498817497,
            "count": 0
           },
           {
            "bin_start": 24.546316498817497,
            "bin_end": 25.298669463278493,
            "count": 0
           },
           {
            "bin_start": 25.298669463278493,
            "bin_end": 26.05102242773949,
            "count": 0
           },
           {
            "bin_start": 26.05102242773949,
            "bin_end": 26.803375392200486,
            "count": 0
           },
           {
            "bin_start": 26.803375392200486,
            "bin_end": 27.555728356661483,
            "count": 1
           }
          ]
         }
        },
        {
         "name": "walked_to_work_normalised",
         "dtype": "float64",
         "stats": {
          "unique_count": 5,
          "nan_count": 0,
          "min": "0.0",
          "max": "0.021693121693121695",
          "histogram": [
           {
            "bin_start": 0,
            "bin_end": 0.0021693121693121694,
            "count": 1
           },
           {
            "bin_start": 0.0021693121693121694,
            "bin_end": 0.004338624338624339,
            "count": 1
           },
           {
            "bin_start": 0.004338624338624339,
            "bin_end": 0.006507936507936508,
            "count": 0
           },
           {
            "bin_start": 0.006507936507936508,
            "bin_end": 0.008677248677248678,
            "count": 0
           },
           {
            "bin_start": 0.008677248677248678,
            "bin_end": 0.010846560846560847,
            "count": 1
           },
           {
            "bin_start": 0.010846560846560847,
            "bin_end": 0.013015873015873015,
            "count": 0
           },
           {
            "bin_start": 0.013015873015873015,
            "bin_end": 0.015185185185185185,
            "count": 0
           },
           {
            "bin_start": 0.015185185185185185,
            "bin_end": 0.017354497354497355,
            "count": 0
           },
           {
            "bin_start": 0.017354497354497355,
            "bin_end": 0.019523809523809523,
            "count": 0
           },
           {
            "bin_start": 0.019523809523809523,
            "bin_end": 0.021693121693121695,
            "count": 2
           }
          ]
         }
        },
        {
         "name": "worked_at_home_normalised",
         "dtype": "float64",
         "stats": {
          "unique_count": 5,
          "nan_count": 0,
          "min": "0.0",
          "max": "0.12300683371298406",
          "histogram": [
           {
            "bin_start": 0,
            "bin_end": 0.012300683371298405,
            "count": 1
           },
           {
            "bin_start": 0.012300683371298405,
            "bin_end": 0.02460136674259681,
            "count": 1
           },
           {
            "bin_start": 0.02460136674259681,
            "bin_end": 0.03690205011389522,
            "count": 0
           },
           {
            "bin_start": 0.03690205011389522,
            "bin_end": 0.04920273348519362,
            "count": 0
           },
           {
            "bin_start": 0.04920273348519362,
            "bin_end": 0.06150341685649202,
            "count": 1
           },
           {
            "bin_start": 0.06150341685649202,
            "bin_end": 0.07380410022779044,
            "count": 1
           },
           {
            "bin_start": 0.07380410022779044,
            "bin_end": 0.08610478359908884,
            "count": 0
           },
           {
            "bin_start": 0.08610478359908884,
            "bin_end": 0.09840546697038724,
            "count": 0
           },
           {
            "bin_start": 0.09840546697038724,
            "bin_end": 0.11070615034168564,
            "count": 0
           },
           {
            "bin_start": 0.11070615034168564,
            "bin_end": 0.12300683371298406,
            "count": 1
           }
          ]
         }
        },
        {
         "name": "no_car_normalised",
         "dtype": "float64",
         "stats": {
          "unique_count": 5,
          "nan_count": 0,
          "min": "0.0",
          "max": "0.06687402799377916",
          "histogram": [
           {
            "bin_start": 0,
            "bin_end": 0.006687402799377916,
            "count": 1
           },
           {
            "bin_start": 0.006687402799377916,
            "bin_end": 0.013374805598755831,
            "count": 1
           },
           {
            "bin_start": 0.013374805598755831,
            "bin_end": 0.020062208398133746,
            "count": 0
           },
           {
            "bin_start": 0.020062208398133746,
            "bin_end": 0.026749611197511663,
            "count": 0
           },
           {
            "bin_start": 0.026749611197511663,
            "bin_end": 0.03343701399688958,
            "count": 1
           },
           {
            "bin_start": 0.03343701399688958,
            "bin_end": 0.04012441679626749,
            "count": 1
           },
           {
            "bin_start": 0.04012441679626749,
            "bin_end": 0.04681181959564541,
            "count": 0
           },
           {
            "bin_start": 0.04681181959564541,
            "bin_end": 0.053499222395023326,
            "count": 0
           },
           {
            "bin_start": 0.053499222395023326,
            "bin_end": 0.06018662519440124,
            "count": 0
           },
           {
            "bin_start": 0.06018662519440124,
            "bin_end": 0.06687402799377916,
            "count": 1
           }
          ]
         }
        },
        {
         "name": "no_cars_normalised",
         "dtype": "float64",
         "stats": {
          "unique_count": 5,
          "nan_count": 0,
          "min": "0.0",
          "max": "0.1062124248496994",
          "histogram": [
           {
            "bin_start": 0,
            "bin_end": 0.010621242484969939,
            "count": 1
           },
           {
            "bin_start": 0.010621242484969939,
            "bin_end": 0.021242484969939877,
            "count": 0
           },
           {
            "bin_start": 0.021242484969939877,
            "bin_end": 0.03186372745490981,
            "count": 0
           },
           {
            "bin_start": 0.03186372745490981,
            "bin_end": 0.042484969939879755,
            "count": 0
           },
           {
            "bin_start": 0.042484969939879755,
            "bin_end": 0.0531062124248497,
            "count": 1
           },
           {
            "bin_start": 0.0531062124248497,
            "bin_end": 0.06372745490981963,
            "count": 0
           },
           {
            "bin_start": 0.06372745490981963,
            "bin_end": 0.07434869739478957,
            "count": 1
           },
           {
            "bin_start": 0.07434869739478957,
            "bin_end": 0.08496993987975951,
            "count": 0
           },
           {
            "bin_start": 0.08496993987975951,
            "bin_end": 0.09559118236472945,
            "count": 1
           },
           {
            "bin_start": 0.09559118236472945,
            "bin_end": 0.1062124248496994,
            "count": 1
           }
          ]
         }
        },
        {
         "name": "one_or_more_cars_normalised",
         "dtype": "float64",
         "stats": {
          "unique_count": 5,
          "nan_count": 0,
          "min": "0.8937875751503006",
          "max": "1.0",
          "histogram": [
           {
            "bin_start": 0.8937875751503006,
            "bin_end": 0.9044088176352706,
            "count": 1
           },
           {
            "bin_start": 0.9044088176352706,
            "bin_end": 0.9150300601202405,
            "count": 1
           },
           {
            "bin_start": 0.9150300601202405,
            "bin_end": 0.9256513026052104,
            "count": 0
           },
           {
            "bin_start": 0.9256513026052104,
            "bin_end": 0.9362725450901803,
            "count": 1
           },
           {
            "bin_start": 0.9362725450901803,
            "bin_end": 0.9468937875751503,
            "count": 0
           },
           {
            "bin_start": 0.9468937875751503,
            "bin_end": 0.9575150300601203,
            "count": 1
           },
           {
            "bin_start": 0.9575150300601203,
            "bin_end": 0.9681362725450902,
            "count": 0
           },
           {
            "bin_start": 0.9681362725450902,
            "bin_end": 0.9787575150300601,
            "count": 0
           },
           {
            "bin_start": 0.9787575150300601,
            "bin_end": 0.98937875751503,
            "count": 0
           },
           {
            "bin_start": 0.98937875751503,
            "bin_end": 1,
            "count": 1
           }
          ]
         }
        },
        {
         "name": "commuters_by_subway_or_elevated_normalised",
         "dtype": "float64",
         "stats": {
          "unique_count": 2,
          "nan_count": 0,
          "min": "0.0",
          "max": "0.010582010582010581",
          "histogram": [
           {
            "bin_start": 0,
            "bin_end": 0.001058201058201058,
            "count": 4
           },
           {
            "bin_start": 0.001058201058201058,
            "bin_end": 0.002116402116402116,
            "count": 0
           },
           {
            "bin_start": 0.002116402116402116,
            "bin_end": 0.003174603174603174,
            "count": 0
           },
           {
            "bin_start": 0.003174603174603174,
            "bin_end": 0.004232804232804232,
            "count": 0
           },
           {
            "bin_start": 0.004232804232804232,
            "bin_end": 0.005291005291005291,
            "count": 0
           },
           {
            "bin_start": 0.005291005291005291,
            "bin_end": 0.006349206349206348,
            "count": 0
           },
           {
            "bin_start": 0.006349206349206348,
            "bin_end": 0.007407407407407406,
            "count": 0
           },
           {
            "bin_start": 0.007407407407407406,
            "bin_end": 0.008465608465608464,
            "count": 0
           },
           {
            "bin_start": 0.008465608465608464,
            "bin_end": 0.009523809523809523,
            "count": 0
           },
           {
            "bin_start": 0.009523809523809523,
            "bin_end": 0.010582010582010581,
            "count": 1
           }
          ]
         }
        },
        {
         "name": "commuters_by_bus_normalised",
         "dtype": "float64",
         "stats": {
          "unique_count": 4,
          "nan_count": 0,
          "min": "0.0",
          "max": "0.06480041472265423",
          "histogram": [
           {
            "bin_start": 0,
            "bin_end": 0.006480041472265423,
            "count": 2
           },
           {
            "bin_start": 0.006480041472265423,
            "bin_end": 0.012960082944530845,
            "count": 0
           },
           {
            "bin_start": 0.012960082944530845,
            "bin_end": 0.019440124416796267,
            "count": 1
           },
           {
            "bin_start": 0.019440124416796267,
            "bin_end": 0.02592016588906169,
            "count": 0
           },
           {
            "bin_start": 0.02592016588906169,
            "bin_end": 0.032400207361327114,
            "count": 0
           },
           {
            "bin_start": 0.032400207361327114,
            "bin_end": 0.038880248833592534,
            "count": 1
           },
           {
            "bin_start": 0.038880248833592534,
            "bin_end": 0.04536029030585796,
            "count": 0
           },
           {
            "bin_start": 0.04536029030585796,
            "bin_end": 0.05184033177812338,
            "count": 0
           },
           {
            "bin_start": 0.05184033177812338,
            "bin_end": 0.0583203732503888,
            "count": 0
           },
           {
            "bin_start": 0.0583203732503888,
            "bin_end": 0.06480041472265423,
            "count": 1
           }
          ]
         }
        },
        {
         "name": "commuters_personal_transport_normalised",
         "dtype": "float64",
         "stats": {
          "unique_count": 5,
          "nan_count": 0,
          "min": "1.5474563401670463",
          "max": "2.0",
          "histogram": [
           {
            "bin_start": 1.5474563401670463,
            "bin_end": 1.5927107061503416,
            "count": 1
           },
           {
            "bin_start": 1.5927107061503416,
            "bin_end": 1.637965072133637,
            "count": 1
           },
           {
            "bin_start": 1.637965072133637,
            "bin_end": 1.6832194381169323,
            "count": 2
           },
           {
            "bin_start": 1.6832194381169323,
            "bin_end": 1.7284738041002277,
            "count": 0
           },
           {
            "bin_start": 1.7284738041002277,
            "bin_end": 1.773728170083523,
            "count": 0
           },
           {
            "bin_start": 1.773728170083523,
            "bin_end": 1.8189825360668186,
            "count": 0
           },
           {
            "bin_start": 1.8189825360668186,
            "bin_end": 1.864236902050114,
            "count": 0
           },
           {
            "bin_start": 1.864236902050114,
            "bin_end": 1.9094912680334093,
            "count": 0
           },
           {
            "bin_start": 1.9094912680334093,
            "bin_end": 1.9547456340167046,
            "count": 0
           },
           {
            "bin_start": 1.9547456340167046,
            "bin_end": 2,
            "count": 1
           }
          ]
         }
        },
        {
         "name": "education_high_school_or_less_normalised",
         "dtype": "float64",
         "stats": {
          "unique_count": 5,
          "nan_count": 0,
          "min": "0.04247104247104247",
          "max": "0.7",
          "histogram": [
           {
            "bin_start": 0.04247104247104247,
            "bin_end": 0.10822393822393822,
            "count": 2
           },
           {
            "bin_start": 0.10822393822393822,
            "bin_end": 0.17397683397683397,
            "count": 0
           },
           {
            "bin_start": 0.17397683397683397,
            "bin_end": 0.23972972972972972,
            "count": 0
           },
           {
            "bin_start": 0.23972972972972972,
            "bin_end": 0.3054826254826255,
            "count": 0
           },
           {
            "bin_start": 0.3054826254826255,
            "bin_end": 0.3712355212355213,
            "count": 1
           },
           {
            "bin_start": 0.3712355212355213,
            "bin_end": 0.43698841698841695,
            "count": 0
           },
           {
            "bin_start": 0.43698841698841695,
            "bin_end": 0.5027413127413127,
            "count": 0
           },
           {
            "bin_start": 0.5027413127413127,
            "bin_end": 0.5684942084942085,
            "count": 0
           },
           {
            "bin_start": 0.5684942084942085,
            "bin_end": 0.6342471042471043,
            "count": 0
           },
           {
            "bin_start": 0.6342471042471043,
            "bin_end": 0.7,
            "count": 2
           }
          ]
         }
        },
        {
         "name": "education_less_than_bachelors_normalised",
         "dtype": "float64",
         "stats": {
          "unique_count": 5,
          "nan_count": 0,
          "min": "0.0",
          "max": "0.43785919540229884",
          "histogram": [
           {
            "bin_start": 0,
            "bin_end": 0.04378591954022988,
            "count": 1
           },
           {
            "bin_start": 0.04378591954022988,
            "bin_end": 0.08757183908045976,
            "count": 0
           },
           {
            "bin_start": 0.08757183908045976,
            "bin_end": 0.13135775862068966,
            "count": 0
           },
           {
            "bin_start": 0.13135775862068966,
            "bin_end": 0.17514367816091952,
            "count": 0
           },
           {
            "bin_start": 0.17514367816091952,
            "bin_end": 0.2189295977011494,
            "count": 1
           },
           {
            "bin_start": 0.2189295977011494,
            "bin_end": 0.2627155172413793,
            "count": 0
           },
           {
            "bin_start": 0.2627155172413793,
            "bin_end": 0.3065014367816092,
            "count": 1
           },
           {
            "bin_start": 0.3065014367816092,
            "bin_end": 0.35028735632183905,
            "count": 1
           },
           {
            "bin_start": 0.35028735632183905,
            "bin_end": 0.3940732758620689,
            "count": 0
           },
           {
            "bin_start": 0.3940732758620689,
            "bin_end": 0.43785919540229884,
            "count": 1
           }
          ]
         }
        },
        {
         "name": "education_bachelors_degree_normalised",
         "dtype": "float64",
         "stats": {
          "unique_count": 5,
          "nan_count": 0,
          "min": "0.0",
          "max": "0.7417582417582418",
          "histogram": [
           {
            "bin_start": 0,
            "bin_end": 0.07417582417582418,
            "count": 2
           },
           {
            "bin_start": 0.07417582417582418,
            "bin_end": 0.14835164835164835,
            "count": 0
           },
           {
            "bin_start": 0.14835164835164835,
            "bin_end": 0.22252747252747251,
            "count": 0
           },
           {
            "bin_start": 0.22252747252747251,
            "bin_end": 0.2967032967032967,
            "count": 0
           },
           {
            "bin_start": 0.2967032967032967,
            "bin_end": 0.3708791208791209,
            "count": 1
           },
           {
            "bin_start": 0.3708791208791209,
            "bin_end": 0.44505494505494503,
            "count": 0
           },
           {
            "bin_start": 0.44505494505494503,
            "bin_end": 0.5192307692307693,
            "count": 0
           },
           {
            "bin_start": 0.5192307692307693,
            "bin_end": 0.5934065934065934,
            "count": 0
           },
           {
            "bin_start": 0.5934065934065934,
            "bin_end": 0.6675824175824175,
            "count": 0
           },
           {
            "bin_start": 0.6675824175824175,
            "bin_end": 0.7417582417582418,
            "count": 2
           }
          ]
         }
        },
        {
         "name": "education_graduate_degree_normalised",
         "dtype": "float64",
         "stats": {
          "unique_count": 5,
          "nan_count": 0,
          "min": "0.0",
          "max": "0.47095761381475665",
          "histogram": [
           {
            "bin_start": 0,
            "bin_end": 0.04709576138147566,
            "count": 2
           },
           {
            "bin_start": 0.04709576138147566,
            "bin_end": 0.09419152276295133,
            "count": 0
           },
           {
            "bin_start": 0.09419152276295133,
            "bin_end": 0.14128728414442698,
            "count": 0
           },
           {
            "bin_start": 0.14128728414442698,
            "bin_end": 0.18838304552590265,
            "count": 1
           },
           {
            "bin_start": 0.18838304552590265,
            "bin_end": 0.23547880690737832,
            "count": 0
           },
           {
            "bin_start": 0.23547880690737832,
            "bin_end": 0.28257456828885397,
            "count": 0
           },
           {
            "bin_start": 0.28257456828885397,
            "bin_end": 0.32967032967032966,
            "count": 0
           },
           {
            "bin_start": 0.32967032967032966,
            "bin_end": 0.3767660910518053,
            "count": 1
           },
           {
            "bin_start": 0.3767660910518053,
            "bin_end": 0.42386185243328095,
            "count": 0
           },
           {
            "bin_start": 0.42386185243328095,
            "bin_end": 0.47095761381475665,
            "count": 1
           }
          ]
         }
        },
        {
         "name": "income_less_14999_normalised",
         "dtype": "float64",
         "stats": {
          "unique_count": 5,
          "nan_count": 0,
          "min": "0.0",
          "max": "0.21092184368737474",
          "histogram": [
           {
            "bin_start": 0,
            "bin_end": 0.021092184368737475,
            "count": 1
           },
           {
            "bin_start": 0.021092184368737475,
            "bin_end": 0.04218436873747495,
            "count": 1
           },
           {
            "bin_start": 0.04218436873747495,
            "bin_end": 0.06327655310621243,
            "count": 1
           },
           {
            "bin_start": 0.06327655310621243,
            "bin_end": 0.0843687374749499,
            "count": 0
           },
           {
            "bin_start": 0.0843687374749499,
            "bin_end": 0.10546092184368737,
            "count": 0
           },
           {
            "bin_start": 0.10546092184368737,
            "bin_end": 0.12655310621242485,
            "count": 1
           },
           {
            "bin_start": 0.12655310621242485,
            "bin_end": 0.14764529058116233,
            "count": 0
           },
           {
            "bin_start": 0.14764529058116233,
            "bin_end": 0.1687374749498998,
            "count": 0
           },
           {
            "bin_start": 0.1687374749498998,
            "bin_end": 0.18982965931863727,
            "count": 0
           },
           {
            "bin_start": 0.18982965931863727,
            "bin_end": 0.21092184368737474,
            "count": 1
           }
          ]
         }
        },
        {
         "name": "income_15000_24999_normalised",
         "dtype": "float64",
         "stats": {
          "unique_count": 5,
          "nan_count": 0,
          "min": "0.0",
          "max": "0.24348697394789579",
          "histogram": [
           {
            "bin_start": 0,
            "bin_end": 0.02434869739478958,
            "count": 1
           },
           {
            "bin_start": 0.02434869739478958,
            "bin_end": 0.04869739478957916,
            "count": 1
           },
           {
            "bin_start": 0.04869739478957916,
            "bin_end": 0.07304609218436874,
            "count": 0
           },
           {
            "bin_start": 0.07304609218436874,
            "bin_end": 0.09739478957915831,
            "count": 1
           },
           {
            "bin_start": 0.09739478957915831,
            "bin_end": 0.12174348697394789,
            "count": 1
           },
           {
            "bin_start": 0.12174348697394789,
            "bin_end": 0.14609218436873747,
            "count": 0
           },
           {
            "bin_start": 0.14609218436873747,
            "bin_end": 0.17044088176352706,
            "count": 0
           },
           {
            "bin_start": 0.17044088176352706,
            "bin_end": 0.19478957915831663,
            "count": 0
           },
           {
            "bin_start": 0.19478957915831663,
            "bin_end": 0.2191382765531062,
            "count": 0
           },
           {
            "bin_start": 0.2191382765531062,
            "bin_end": 0.24348697394789579,
            "count": 1
           }
          ]
         }
        },
        {
         "name": "income_25000_34999_normalised",
         "dtype": "float64",
         "stats": {
          "unique_count": 5,
          "nan_count": 0,
          "min": "0.0",
          "max": "0.12975951903807614",
          "histogram": [
           {
            "bin_start": 0,
            "bin_end": 0.012975951903807615,
            "count": 1
           },
           {
            "bin_start": 0.012975951903807615,
            "bin_end": 0.02595190380761523,
            "count": 0
           },
           {
            "bin_start": 0.02595190380761523,
            "bin_end": 0.03892785571142285,
            "count": 2
           },
           {
            "bin_start": 0.03892785571142285,
            "bin_end": 0.05190380761523046,
            "count": 0
           },
           {
            "bin_start": 0.05190380761523046,
            "bin_end": 0.06487975951903807,
            "count": 0
           },
           {
            "bin_start": 0.06487975951903807,
            "bin_end": 0.0778557114228457,
            "count": 0
           },
           {
            "bin_start": 0.0778557114228457,
            "bin_end": 0.09083166332665331,
            "count": 1
           },
           {
            "bin_start": 0.09083166332665331,
            "bin_end": 0.10380761523046092,
            "count": 0
           },
           {
            "bin_start": 0.10380761523046092,
            "bin_end": 0.11678356713426853,
            "count": 0
           },
           {
            "bin_start": 0.11678356713426853,
            "bin_end": 0.12975951903807614,
            "count": 1
           }
          ]
         }
        },
        {
         "name": "income_35000_59999_normalised",
         "dtype": "float64",
         "stats": {
          "unique_count": 5,
          "nan_count": 0,
          "min": "0.14571948998178508",
          "max": "1.0",
          "histogram": [
           {
            "bin_start": 0.14571948998178508,
            "bin_end": 0.23114754098360657,
            "count": 2
           },
           {
            "bin_start": 0.23114754098360657,
            "bin_end": 0.31657559198542806,
            "count": 2
           },
           {
            "bin_start": 0.31657559198542806,
            "bin_end": 0.40200364298724955,
            "count": 0
           },
           {
            "bin_start": 0.40200364298724955,
            "bin_end": 0.48743169398907105,
            "count": 0
           },
           {
            "bin_start": 0.48743169398907105,
            "bin_end": 0.5728597449908925,
            "count": 0
           },
           {
            "bin_start": 0.5728597449908925,
            "bin_end": 0.658287795992714,
            "count": 0
           },
           {
            "bin_start": 0.658287795992714,
            "bin_end": 0.7437158469945355,
            "count": 0
           },
           {
            "bin_start": 0.7437158469945355,
            "bin_end": 0.829143897996357,
            "count": 0
           },
           {
            "bin_start": 0.829143897996357,
            "bin_end": 0.9145719489981785,
            "count": 0
           },
           {
            "bin_start": 0.9145719489981785,
            "bin_end": 1,
            "count": 1
           }
          ]
         }
        },
        {
         "name": "income_60000_99999_normalised",
         "dtype": "float64",
         "stats": {
          "unique_count": 5,
          "nan_count": 0,
          "min": "0.0",
          "max": "0.29116809116809117",
          "histogram": [
           {
            "bin_start": 0,
            "bin_end": 0.02911680911680912,
            "count": 1
           },
           {
            "bin_start": 0.02911680911680912,
            "bin_end": 0.05823361823361824,
            "count": 0
           },
           {
            "bin_start": 0.05823361823361824,
            "bin_end": 0.08735042735042736,
            "count": 0
           },
           {
            "bin_start": 0.08735042735042736,
            "bin_end": 0.11646723646723647,
            "count": 0
           },
           {
            "bin_start": 0.11646723646723647,
            "bin_end": 0.14558404558404558,
            "count": 1
           },
           {
            "bin_start": 0.14558404558404558,
            "bin_end": 0.17470085470085472,
            "count": 1
           },
           {
            "bin_start": 0.17470085470085472,
            "bin_end": 0.20381766381766384,
            "count": 1
           },
           {
            "bin_start": 0.20381766381766384,
            "bin_end": 0.23293447293447295,
            "count": 0
           },
           {
            "bin_start": 0.23293447293447295,
            "bin_end": 0.2620512820512821,
            "count": 0
           },
           {
            "bin_start": 0.2620512820512821,
            "bin_end": 0.29116809116809117,
            "count": 1
           }
          ]
         }
        },
        {
         "name": "income_100000_199999_normalised",
         "dtype": "float64",
         "stats": {
          "unique_count": 5,
          "nan_count": 0,
          "min": "0.0",
          "max": "0.28376068376068375",
          "histogram": [
           {
            "bin_start": 0,
            "bin_end": 0.028376068376068375,
            "count": 2
           },
           {
            "bin_start": 0.028376068376068375,
            "bin_end": 0.05675213675213675,
            "count": 0
           },
           {
            "bin_start": 0.05675213675213675,
            "bin_end": 0.08512820512820513,
            "count": 0
           },
           {
            "bin_start": 0.08512820512820513,
            "bin_end": 0.1135042735042735,
            "count": 0
           },
           {
            "bin_start": 0.1135042735042735,
            "bin_end": 0.14188034188034188,
            "count": 0
           },
           {
            "bin_start": 0.14188034188034188,
            "bin_end": 0.17025641025641025,
            "count": 0
           },
           {
            "bin_start": 0.17025641025641025,
            "bin_end": 0.19863247863247863,
            "count": 0
           },
           {
            "bin_start": 0.19863247863247863,
            "bin_end": 0.227008547008547,
            "count": 1
           },
           {
            "bin_start": 0.227008547008547,
            "bin_end": 0.2553846153846154,
            "count": 1
           },
           {
            "bin_start": 0.2553846153846154,
            "bin_end": 0.28376068376068375,
            "count": 1
           }
          ]
         }
        },
        {
         "name": "income_200000_or_more_normalised",
         "dtype": "float64",
         "stats": {
          "unique_count": 4,
          "nan_count": 0,
          "min": "0.0",
          "max": "0.27140255009107467",
          "histogram": [
           {
            "bin_start": 0,
            "bin_end": 0.027140255009107467,
            "count": 2
           },
           {
            "bin_start": 0.027140255009107467,
            "bin_end": 0.054280510018214934,
            "count": 0
           },
           {
            "bin_start": 0.054280510018214934,
            "bin_end": 0.0814207650273224,
            "count": 0
           },
           {
            "bin_start": 0.0814207650273224,
            "bin_end": 0.10856102003642987,
            "count": 1
           },
           {
            "bin_start": 0.10856102003642987,
            "bin_end": 0.13570127504553733,
            "count": 0
           },
           {
            "bin_start": 0.13570127504553733,
            "bin_end": 0.1628415300546448,
            "count": 1
           },
           {
            "bin_start": 0.1628415300546448,
            "bin_end": 0.18998178506375227,
            "count": 0
           },
           {
            "bin_start": 0.18998178506375227,
            "bin_end": 0.21712204007285973,
            "count": 0
           },
           {
            "bin_start": 0.21712204007285973,
            "bin_end": 0.2442622950819672,
            "count": 0
           },
           {
            "bin_start": 0.2442622950819672,
            "bin_end": 0.27140255009107467,
            "count": 1
           }
          ]
         }
        },
        {
         "name": "million_dollar_housing_units_normalised",
         "dtype": "float64",
         "stats": {
          "unique_count": 4,
          "nan_count": 0,
          "min": "0.0",
          "max": "0.06678383128295255",
          "histogram": [
           {
            "bin_start": 0,
            "bin_end": 0.006678383128295255,
            "count": 3
           },
           {
            "bin_start": 0.006678383128295255,
            "bin_end": 0.01335676625659051,
            "count": 0
           },
           {
            "bin_start": 0.01335676625659051,
            "bin_end": 0.020035149384885764,
            "count": 0
           },
           {
            "bin_start": 0.020035149384885764,
            "bin_end": 0.02671353251318102,
            "count": 1
           },
           {
            "bin_start": 0.02671353251318102,
            "bin_end": 0.033391915641476276,
            "count": 0
           },
           {
            "bin_start": 0.033391915641476276,
            "bin_end": 0.04007029876977153,
            "count": 0
           },
           {
            "bin_start": 0.04007029876977153,
            "bin_end": 0.04674868189806679,
            "count": 0
           },
           {
            "bin_start": 0.04674868189806679,
            "bin_end": 0.05342706502636204,
            "count": 0
           },
           {
            "bin_start": 0.05342706502636204,
            "bin_end": 0.06010544815465729,
            "count": 0
           },
           {
            "bin_start": 0.06010544815465729,
            "bin_end": 0.06678383128295255,
            "count": 1
           }
          ]
         }
        },
        {
         "name": "mortgaged_housing_units_normalised",
         "dtype": "float64",
         "stats": {
          "unique_count": 5,
          "nan_count": 0,
          "min": "0.0",
          "max": "0.3168016194331984",
          "histogram": [
           {
            "bin_start": 0,
            "bin_end": 0.03168016194331984,
            "count": 1
           },
           {
            "bin_start": 0.03168016194331984,
            "bin_end": 0.06336032388663967,
            "count": 0
           },
           {
            "bin_start": 0.06336032388663967,
            "bin_end": 0.09504048582995951,
            "count": 0
           },
           {
            "bin_start": 0.09504048582995951,
            "bin_end": 0.12672064777327935,
            "count": 0
           },
           {
            "bin_start": 0.12672064777327935,
            "bin_end": 0.1584008097165992,
            "count": 0
           },
           {
            "bin_start": 0.1584008097165992,
            "bin_end": 0.19008097165991902,
            "count": 0
           },
           {
            "bin_start": 0.19008097165991902,
            "bin_end": 0.22176113360323885,
            "count": 0
           },
           {
            "bin_start": 0.22176113360323885,
            "bin_end": 0.2534412955465587,
            "count": 1
           },
           {
            "bin_start": 0.2534412955465587,
            "bin_end": 0.28512145748987855,
            "count": 1
           },
           {
            "bin_start": 0.28512145748987855,
            "bin_end": 0.3168016194331984,
            "count": 2
           }
          ]
         }
        },
        {
         "name": "owner_occupied_housing_units_normalised",
         "dtype": "float64",
         "stats": {
          "unique_count": 5,
          "nan_count": 0,
          "min": "0.0",
          "max": "0.6216981132075472",
          "histogram": [
           {
            "bin_start": 0,
            "bin_end": 0.06216981132075472,
            "count": 1
           },
           {
            "bin_start": 0.06216981132075472,
            "bin_end": 0.12433962264150944,
            "count": 0
           },
           {
            "bin_start": 0.12433962264150944,
            "bin_end": 0.18650943396226416,
            "count": 0
           },
           {
            "bin_start": 0.18650943396226416,
            "bin_end": 0.24867924528301888,
            "count": 0
           },
           {
            "bin_start": 0.24867924528301888,
            "bin_end": 0.3108490566037736,
            "count": 0
           },
           {
            "bin_start": 0.3108490566037736,
            "bin_end": 0.3730188679245283,
            "count": 0
           },
           {
            "bin_start": 0.3730188679245283,
            "bin_end": 0.43518867924528304,
            "count": 0
           },
           {
            "bin_start": 0.43518867924528304,
            "bin_end": 0.49735849056603776,
            "count": 3
           },
           {
            "bin_start": 0.49735849056603776,
            "bin_end": 0.5595283018867925,
            "count": 0
           },
           {
            "bin_start": 0.5595283018867925,
            "bin_end": 0.6216981132075472,
            "count": 1
           }
          ]
         }
        },
        {
         "name": "employed_pop_normalised",
         "dtype": "float64",
         "stats": {
          "unique_count": 5,
          "nan_count": 0,
          "min": "0.9263867288750648",
          "max": "1.0",
          "histogram": [
           {
            "bin_start": 0.9263867288750648,
            "bin_end": 0.9337480559875583,
            "count": 1
           },
           {
            "bin_start": 0.9337480559875583,
            "bin_end": 0.9411093831000519,
            "count": 0
           },
           {
            "bin_start": 0.9411093831000519,
            "bin_end": 0.9484707102125454,
            "count": 0
           },
           {
            "bin_start": 0.9484707102125454,
            "bin_end": 0.9558320373250389,
            "count": 0
           },
           {
            "bin_start": 0.9558320373250389,
            "bin_end": 0.9631933644375323,
            "count": 3
           },
           {
            "bin_start": 0.9631933644375323,
            "bin_end": 0.9705546915500259,
            "count": 0
           },
           {
            "bin_start": 0.9705546915500259,
            "bin_end": 0.9779160186625194,
            "count": 0
           },
           {
            "bin_start": 0.9779160186625194,
            "bin_end": 0.9852773457750129,
            "count": 0
           },
           {
            "bin_start": 0.9852773457750129,
            "bin_end": 0.9926386728875065,
            "count": 0
           },
           {
            "bin_start": 0.9926386728875065,
            "bin_end": 1,
            "count": 1
           }
          ]
         }
        },
        {
         "name": "unemployed_pop_normalised",
         "dtype": "float64",
         "stats": {
          "unique_count": 5,
          "nan_count": 0,
          "min": "0.0",
          "max": "0.0736132711249352",
          "histogram": [
           {
            "bin_start": 0,
            "bin_end": 0.00736132711249352,
            "count": 1
           },
           {
            "bin_start": 0.00736132711249352,
            "bin_end": 0.01472265422498704,
            "count": 0
           },
           {
            "bin_start": 0.01472265422498704,
            "bin_end": 0.02208398133748056,
            "count": 0
           },
           {
            "bin_start": 0.02208398133748056,
            "bin_end": 0.02944530844997408,
            "count": 0
           },
           {
            "bin_start": 0.02944530844997408,
            "bin_end": 0.0368066355624676,
            "count": 1
           },
           {
            "bin_start": 0.0368066355624676,
            "bin_end": 0.04416796267496112,
            "count": 2
           },
           {
            "bin_start": 0.04416796267496112,
            "bin_end": 0.051529289787454635,
            "count": 0
           },
           {
            "bin_start": 0.051529289787454635,
            "bin_end": 0.05889061689994816,
            "count": 0
           },
           {
            "bin_start": 0.05889061689994816,
            "bin_end": 0.06625194401244168,
            "count": 0
           },
           {
            "bin_start": 0.06625194401244168,
            "bin_end": 0.0736132711249352,
            "count": 1
           }
          ]
         }
        },
        {
         "name": "_deepnote_index_column",
         "dtype": "int64"
        }
       ],
       "rows_top": [
        {
         "GEOID": 48113980100,
         "city_name": "dallas",
         "reweighted_redline_index": 3.1,
         "total_pop": 20,
         "households": 5,
         "median_age": 13.8,
         "median_income": "nan",
         "income_per_capita": "nan",
         "gini_index": "nan",
         "housing_units": 5,
         "renter_occupied_housing_units_paying_cash_median_gross_rent": "nan",
         "owner_occupied_housing_units_lower_value_quartile": "nan",
         "owner_occupied_housing_units_median_value": "nan",
         "owner_occupied_housing_units_upper_value_quartile": "nan",
         "median_year_structure_built": "nan",
         "median_rent": "nan",
         "percent_income_spent_on_rent": "nan",
         "bachelors_degree_or_higher_25_64": 0,
         "aged_65_or_older_normalised": 0,
         "aged_17_or_younger_normalised": 0.55,
         "multi_unit_structures_normalised": 0,
         "poverty_normalised": 0,
         "households_public_asst_or_food_stamps_normalised": 0,
         "black_pop_normalised": 0,
         "asian_pop_normalised": 0,
         "hispanic_pop_normalised": 1,
         "amerindian_pop_normalised": 0,
         "white_pop_normalised": 0,
         "non_white_pop_normalised": 1,
         "other_race_pop_normalised": 0,
         "male_pop_normalised": 0.55,
         "female_pop_normalised": 0.45,
         "pop_currently_unmarried_normalised": 0,
         "pop_now_married_normalised": "nan",
         "not_us_citizen_pop_normalised": 0.45,
         "children_normalised": 0.55,
         "married_households_normalised": 1,
         "nonfamily_households_normalised": 0,
         "family_households_normalised": 1,
         "occupied_housing_units_normalised": 1,
         "housing_units_renter_occupied_normalised": 1,
         "vacant_housing_units_normalised": 0,
         "vacant_housing_units_for_rent_normalised": 0,
         "vacant_housing_units_for_sale_normalised": 0,
         "mobile_homes_normalised": 0,
         "group_quarters_normalised": 0,
         "housing_built_1939_or_earlier_normalised": 0,
         "housing_built_2004_or_later_normalised": 0,
         "children_in_single_female_hh_normalised": 0,
         "rent_burden_not_computed_normalised": 1,
         "rent_under_30_percent_normalised": 0,
         "rent_30_to_50_percent_normalised": 0,
         "rent_over_50_percent_normalised": 0,
         "aggregate_travel_time_to_work_normalised": "nan",
         "walked_to_work_normalised": 0,
         "worked_at_home_normalised": 0,
         "no_car_normalised": 0,
         "no_cars_normalised": 0,
         "one_or_more_cars_normalised": 1,
         "commuters_by_subway_or_elevated_normalised": 0,
         "commuters_by_bus_normalised": 0,
         "commuters_personal_transport_normalised": 2,
         "education_high_school_or_less_normalised": 0.7,
         "education_less_than_bachelors_normalised": 0,
         "education_bachelors_degree_normalised": 0,
         "education_graduate_degree_normalised": 0,
         "income_less_14999_normalised": 0,
         "income_15000_24999_normalised": 0,
         "income_25000_34999_normalised": 0,
         "income_35000_59999_normalised": 1,
         "income_60000_99999_normalised": 0,
         "income_100000_199999_normalised": 0,
         "income_200000_or_more_normalised": 0,
         "million_dollar_housing_units_normalised": 0,
         "mortgaged_housing_units_normalised": 0,
         "owner_occupied_housing_units_normalised": 0,
         "employed_pop_normalised": 1,
         "unemployed_pop_normalised": 0,
         "_deepnote_index_column": 0
        },
        {
         "GEOID": 48113000605,
         "city_name": "dallas",
         "reweighted_redline_index": 2.09,
         "total_pop": 2548,
         "households": 1755,
         "median_age": 41,
         "median_income": 95668,
         "income_per_capita": 87771,
         "gini_index": 0.439,
         "housing_units": 1976,
         "renter_occupied_housing_units_paying_cash_median_gross_rent": 1582,
         "owner_occupied_housing_units_lower_value_quartile": 201000,
         "owner_occupied_housing_units_median_value": 287700,
         "owner_occupied_housing_units_upper_value_quartile": 388500,
         "median_year_structure_built": 1993,
         "median_rent": 1484,
         "percent_income_spent_on_rent": 24.3,
         "bachelors_degree_or_higher_25_64": 1421,
         "aged_65_or_older_normalised": 0.18328100470957615,
         "aged_17_or_younger_normalised": 0.038461538461538464,
         "multi_unit_structures_normalised": 0.763663967611336,
         "poverty_normalised": 0.05671524222134699,
         "households_public_asst_or_food_stamps_normalised": 0.010256410256410256,
         "black_pop_normalised": 0.007849293563579277,
         "asian_pop_normalised": 0.13186813186813187,
         "hispanic_pop_normalised": 0.11028257456828885,
         "amerindian_pop_normalised": 0.01098901098901099,
         "white_pop_normalised": 0.7303767660910518,
         "non_white_pop_normalised": 0.2696232339089482,
         "other_race_pop_normalised": 0.008634222919937205,
         "male_pop_normalised": 0.521585557299843,
         "female_pop_normalised": 0.478414442700157,
         "pop_currently_unmarried_normalised": 0,
         "pop_now_married_normalised": "nan",
         "not_us_citizen_pop_normalised": 0.09497645211930926,
         "children_normalised": 0.038461538461538464,
         "married_households_normalised": 0.2,
         "nonfamily_households_normalised": 0.7601139601139602,
         "family_households_normalised": 0.23988603988603988,
         "occupied_housing_units_normalised": 0.8881578947368421,
         "housing_units_renter_occupied_normalised": 0.42459514170040485,
         "vacant_housing_units_normalised": 0.1118421052631579,
         "vacant_housing_units_for_rent_normalised": 0.03340080971659919,
         "vacant_housing_units_for_sale_normalised": 0,
         "mobile_homes_normalised": 0.005566801619433198,
         "group_quarters_normalised": 0,
         "housing_built_1939_or_earlier_normalised": 0.003036437246963563,
         "housing_built_2004_or_later_normalised": 0.07186234817813765,
         "children_in_single_female_hh_normalised": 0.2755102040816326,
         "rent_burden_not_computed_normalised": 0.015182186234817813,
         "rent_under_30_percent_normalised": 0.2687246963562753,
         "rent_30_to_50_percent_normalised": 0.07742914979757085,
         "rent_over_50_percent_normalised": 0.06325910931174089,
         "aggregate_travel_time_to_work_normalised": 20.82804232804233,
         "walked_to_work_normalised": 0.021693121693121695,
         "worked_at_home_normalised": 0.06349206349206349,
         "no_car_normalised": 0.027513227513227514,
         "no_cars_normalised": 0.09116809116809117,
         "one_or_more_cars_normalised": 0.9088319088319088,
         "commuters_by_subway_or_elevated_normalised": 0.010582010582010581,
         "commuters_by_bus_normalised": 0.0164021164021164,
         "commuters_personal_transport_normalised": 1.638095238095238,
         "education_high_school_or_less_normalised": 0.10675039246467818,
         "education_less_than_bachelors_normalised": 0.33987441130298274,
         "education_bachelors_degree_normalised": 0.7417582417582418,
         "education_graduate_degree_normalised": 0.47095761381475665,
         "income_less_14999_normalised": 0.038746438746438745,
         "income_15000_24999_normalised": 0.02792022792022792,
         "income_25000_34999_normalised": 0.037037037037037035,
         "income_35000_59999_normalised": 0.1606837606837607,
         "income_60000_99999_normalised": 0.29116809116809117,
         "income_100000_199999_normalised": 0.28376068376068375,
         "income_200000_or_more_normalised": 0.1606837606837607,
         "million_dollar_housing_units_normalised": 0.005566801619433198,
         "mortgaged_housing_units_normalised": 0.3168016194331984,
         "owner_occupied_housing_units_normalised": 0.46356275303643724,
         "employed_pop_normalised": 0.9587301587301588,
         "unemployed_pop_normalised": 0.04126984126984127,
         "_deepnote_index_column": 1
        },
        {
         "GEOID": 48113007101,
         "city_name": "dallas",
         "reweighted_redline_index": 1,
         "total_pop": 2331,
         "households": 1098,
         "median_age": 38.5,
         "median_income": 102875,
         "income_per_capita": 81534,
         "gini_index": 0.5498,
         "housing_units": 1138,
         "renter_occupied_housing_units_paying_cash_median_gross_rent": 1612,
         "owner_occupied_housing_units_lower_value_quartile": 268500,
         "owner_occupied_housing_units_median_value": 710900,
         "owner_occupied_housing_units_upper_value_quartile": 1198300,
         "median_year_structure_built": 1981,
         "median_rent": 1510,
         "percent_income_spent_on_rent": 28.5,
         "bachelors_degree_or_higher_25_64": 1187,
         "aged_65_or_older_normalised": 0.10124410124410124,
         "aged_17_or_younger_normalised": 0.25096525096525096,
         "multi_unit_structures_normalised": 0.45694200351493847,
         "poverty_normalised": 0.10853710853710853,
         "households_public_asst_or_food_stamps_normalised": 0.020947176684881604,
         "black_pop_normalised": 0.011583011583011582,
         "asian_pop_normalised": 0.07764907764907765,
         "hispanic_pop_normalised": 0.0489060489060489,
         "amerindian_pop_normalised": 0.002574002574002574,
         "white_pop_normalised": 0.8416988416988417,
         "non_white_pop_normalised": 0.1583011583011583,
         "other_race_pop_normalised": 0.01758901758901759,
         "male_pop_normalised": 0.4594594594594595,
         "female_pop_normalised": 0.5405405405405406,
         "pop_currently_unmarried_normalised": 0,
         "pop_now_married_normalised": "nan",
         "not_us_citizen_pop_normalised": 0.0429000429000429,
         "children_normalised": 0.25096525096525096,
         "married_households_normalised": 0.4426229508196721,
         "nonfamily_households_normalised": 0.48178506375227687,
         "family_households_normalised": 0.5182149362477231,
         "occupied_housing_units_normalised": 0.9648506151142355,
         "housing_units_renter_occupied_normalised": 0.5228471001757469,
         "vacant_housing_units_normalised": 0.0351493848857645,
         "vacant_housing_units_for_rent_normalised": 0.0351493848857645,
         "vacant_housing_units_for_sale_normalised": 0,
         "mobile_homes_normalised": 0,
         "group_quarters_normalised": 0,
         "housing_built_1939_or_earlier_normalised": 0.1704745166959578,
         "housing_built_2004_or_later_normalised": 0.048330404217926184,
         "children_in_single_female_hh_normalised": 0.1264957264957265,
         "rent_burden_not_computed_normalised": 0.012302284710017574,
         "rent_under_30_percent_normalised": 0.281195079086116,
         "rent_30_to_50_percent_normalised": 0.06678383128295255,
         "rent_over_50_percent_normalised": 0.1625659050966608,
         "aggregate_travel_time_to_work_normalised": "nan",
         "walked_to_work_normalised": 0.009111617312072893,
         "worked_at_home_normalised": 0.12300683371298406,
         "no_car_normalised": 0.00683371298405467,
         "no_cars_normalised": 0.05009107468123861,
         "one_or_more_cars_normalised": 0.9499089253187614,
         "commuters_by_subway_or_elevated_normalised": 0,
         "commuters_by_bus_normalised": 0,
         "commuters_personal_transport_normalised": 1.5474563401670463,
         "education_high_school_or_less_normalised": 0.04247104247104247,
         "education_less_than_bachelors_normalised": 0.2145002145002145,
         "education_bachelors_degree_normalised": 0.7104247104247104,
         "education_graduate_degree_normalised": 0.36465036465036466,
         "income_less_14999_normalised": 0.04735883424408015,
         "income_15000_24999_normalised": 0.08743169398907104,
         "income_25000_34999_normalised": 0.03551912568306011,
         "income_35000_59999_normalised": 0.14571948998178508,
         "income_60000_99999_normalised": 0.18123861566484517,
         "income_100000_199999_normalised": 0.23132969034608378,
         "income_200000_or_more_normalised": 0.27140255009107467,
         "million_dollar_housing_units_normalised": 0.06678383128295255,
         "mortgaged_housing_units_normalised": 0.30404217926186294,
         "owner_occupied_housing_units_normalised": 0.44200351493848855,
         "employed_pop_normalised": 0.9574791192103265,
         "unemployed_pop_normalised": 0.03492786636294609,
         "_deepnote_index_column": 2
        },
        {
         "GEOID": 48113004201,
         "city_name": "dallas",
         "reweighted_redline_index": 2.16,
         "total_pop": 3950,
         "households": 1557,
         "median_age": 32.8,
         "median_income": 55262,
         "income_per_capita": 38126,
         "gini_index": 0.5171,
         "housing_units": 1755,
         "renter_occupied_housing_units_paying_cash_median_gross_rent": 894,
         "owner_occupied_housing_units_lower_value_quartile": 210300,
         "owner_occupied_housing_units_median_value": 339700,
         "owner_occupied_housing_units_upper_value_quartile": 492600,
         "median_year_structure_built": 1949,
         "median_rent": 739,
         "percent_income_spent_on_rent": 28.2,
         "bachelors_degree_or_higher_25_64": 825,
         "aged_65_or_older_normalised": 0.11164556962025317,
         "aged_17_or_younger_normalised": 0.26582278481012656,
         "multi_unit_structures_normalised": 0.1868945868945869,
         "poverty_normalised": 0.18075653719218077,
         "households_public_asst_or_food_stamps_normalised": 0.14001284521515736,
         "black_pop_normalised": 0.05392405063291139,
         "asian_pop_normalised": 0.006582278481012658,
         "hispanic_pop_normalised": 0.6091139240506329,
         "amerindian_pop_normalised": 0.009873417721518988,
         "white_pop_normalised": 0.31240506329113926,
         "non_white_pop_normalised": 0.6875949367088607,
         "other_race_pop_normalised": 0.00810126582278481,
         "male_pop_normalised": 0.46835443037974683,
         "female_pop_normalised": 0.5316455696202531,
         "pop_currently_unmarried_normalised": 0,
         "pop_now_married_normalised": "nan",
         "not_us_citizen_pop_normalised": 0.09468354430379747,
         "children_normalised": 0.26582278481012656,
         "married_households_normalised": 0.3551701991008349,
         "nonfamily_households_normalised": 0.3917790622992935,
         "family_households_normalised": 0.6082209377007065,
         "occupied_housing_units_normalised": 0.8871794871794871,
         "housing_units_renter_occupied_normalised": 0.4415954415954416,
         "vacant_housing_units_normalised": 0.11282051282051282,
         "vacant_housing_units_for_rent_normalised": 0.011396011396011397,
         "vacant_housing_units_for_sale_normalised": 0,
         "mobile_homes_normalised": 0,
         "group_quarters_normalised": 0.0012658227848101266,
         "housing_built_1939_or_earlier_normalised": 0.10997150997150996,
         "housing_built_2004_or_later_normalised": 0.0301994301994302,
         "children_in_single_female_hh_normalised": 0.41523809523809524,
         "rent_burden_not_computed_normalised": 0.017094017094017096,
         "rent_under_30_percent_normalised": 0.24102564102564103,
         "rent_30_to_50_percent_normalised": 0.05811965811965812,
         "rent_over_50_percent_normalised": 0.12535612535612536,
         "aggregate_travel_time_to_work_normalised": 20.032198712051517,
         "walked_to_work_normalised": 0.019779208831646734,
         "worked_at_home_normalised": 0.05519779208831647,
         "no_car_normalised": 0.03541858325666973,
         "no_cars_normalised": 0.07193320488118175,
         "one_or_more_cars_normalised": 0.9280667951188183,
         "commuters_by_subway_or_elevated_normalised": 0,
         "commuters_by_bus_normalised": 0.038178472861085555,
         "commuters_personal_transport_normalised": 1.608095676172953,
         "education_high_school_or_less_normalised": 0.3324050632911392,
         "education_less_than_bachelors_normalised": 0.26582278481012656,
         "education_bachelors_degree_normalised": 0.30278481012658226,
         "education_graduate_degree_normalised": 0.17746835443037975,
         "income_less_14999_normalised": 0.11368015414258188,
         "income_15000_24999_normalised": 0.10468850353243417,
         "income_25000_34999_normalised": 0.0892742453436095,
         "income_35000_59999_normalised": 0.24020552344251767,
         "income_60000_99999_normalised": 0.13166345536287732,
         "income_100000_199999_normalised": 0.22093770070648683,
         "income_200000_or_more_normalised": 0.09955041746949261,
         "million_dollar_housing_units_normalised": 0.0245014245014245,
         "mortgaged_housing_units_normalised": 0.25413105413105413,
         "owner_occupied_housing_units_normalised": 0.4455840455840456,
         "employed_pop_normalised": 0.9590616375344986,
         "unemployed_pop_normalised": 0.04093836246550138,
         "_deepnote_index_column": 3
        },
        {
         "GEOID": 48113005901,
         "city_name": "dallas",
         "reweighted_redline_index": 3,
         "total_pop": 5568,
         "households": 1996,
         "median_age": 43.1,
         "median_income": 28664,
         "income_per_capita": 13681,
         "gini_index": 0.4096,
         "housing_units": 2120,
         "renter_occupied_housing_units_paying_cash_median_gross_rent": 1006,
         "owner_occupied_housing_units_lower_value_quartile": 55700,
         "owner_occupied_housing_units_median_value": 70200,
         "owner_occupied_housing_units_upper_value_quartile": 82700,
         "median_year_structure_built": 1956,
         "median_rent": 694,
         "percent_income_spent_on_rent": 37.8,
         "bachelors_degree_or_higher_25_64": 115,
         "aged_65_or_older_normalised": 0.1995330459770115,
         "aged_17_or_younger_normalised": 0.23401580459770116,
         "multi_unit_structures_normalised": 0,
         "poverty_normalised": 0.25524222704266086,
         "households_public_asst_or_food_stamps_normalised": 0.22545090180360722,
         "black_pop_normalised": 0.6519396551724138,
         "asian_pop_normalised": 0.0008979885057471264,
         "hispanic_pop_normalised": 0.3108836206896552,
         "amerindian_pop_normalised": 0.0014367816091954023,
         "white_pop_normalised": 0.03484195402298851,
         "non_white_pop_normalised": 0.9651580459770115,
         "other_race_pop_normalised": 0,
         "male_pop_normalised": 0.49335488505747127,
         "female_pop_normalised": 0.5066451149425287,
         "pop_currently_unmarried_normalised": 0,
         "pop_now_married_normalised": "nan",
         "not_us_citizen_pop_normalised": 0.11602011494252873,
         "children_normalised": 0.23401580459770116,
         "married_households_normalised": 0.30711422845691383,
         "nonfamily_households_normalised": 0.40230460921843686,
         "family_households_normalised": 0.5976953907815631,
         "occupied_housing_units_normalised": 0.9415094339622642,
         "housing_units_renter_occupied_normalised": 0.31981132075471697,
         "vacant_housing_units_normalised": 0.05849056603773585,
         "vacant_housing_units_for_rent_normalised": 0.016981132075471698,
         "vacant_housing_units_for_sale_normalised": 0.020754716981132074,
         "mobile_homes_normalised": 0.0037735849056603774,
         "group_quarters_normalised": 0.0035919540229885057,
         "housing_built_1939_or_earlier_normalised": 0.09811320754716982,
         "housing_built_2004_or_later_normalised": 0.026415094339622643,
         "children_in_single_female_hh_normalised": 0.2409823484267076,
         "rent_burden_not_computed_normalised": 0.03773584905660377,
         "rent_under_30_percent_normalised": 0.11981132075471698,
         "rent_30_to_50_percent_normalised": 0.059433962264150944,
         "rent_over_50_percent_normalised": 0.10283018867924529,
         "aggregate_travel_time_to_work_normalised": 27.555728356661483,
         "walked_to_work_normalised": 0.00414722654224987,
         "worked_at_home_normalised": 0.02280974598237429,
         "no_car_normalised": 0.06687402799377916,
         "no_cars_normalised": 0.1062124248496994,
         "one_or_more_cars_normalised": 0.8937875751503006,
         "commuters_by_subway_or_elevated_normalised": 0,
         "commuters_by_bus_normalised": 0.06480041472265423,
         "commuters_personal_transport_normalised": 1.6588906168999482,
         "education_high_school_or_less_normalised": 0.6469109195402298,
         "education_less_than_bachelors_normalised": 0.43785919540229884,
         "education_bachelors_degree_normalised": 0.05028735632183908,
         "education_graduate_degree_normalised": 0.011314655172413793,
         "income_less_14999_normalised": 0.21092184368737474,
         "income_15000_24999_normalised": 0.24348697394789579,
         "income_25000_34999_normalised": 0.12975951903807614,
         "income_35000_59999_normalised": 0.24949899799599198,
         "income_60000_99999_normalised": 0.1462925851703407,
         "income_100000_199999_normalised": 0.02004008016032064,
         "income_200000_or_more_normalised": 0,
         "million_dollar_housing_units_normalised": 0,
         "mortgaged_housing_units_normalised": 0.22877358490566038,
         "owner_occupied_housing_units_normalised": 0.6216981132075472,
         "employed_pop_normalised": 0.9263867288750648,
         "unemployed_pop_normalised": 0.0736132711249352,
         "_deepnote_index_column": 4
        }
       ],
       "rows_bottom": null
      },
      "text/plain": "          GEOID city_name  reweighted_redline_index  total_pop  households  \\\n0  4.811398e+10    dallas                      3.10       20.0         5.0   \n1  4.811300e+10    dallas                      2.09     2548.0      1755.0   \n2  4.811301e+10    dallas                      1.00     2331.0      1098.0   \n3  4.811300e+10    dallas                      2.16     3950.0      1557.0   \n4  4.811301e+10    dallas                      3.00     5568.0      1996.0   \n\n   median_age  median_income  income_per_capita  gini_index  housing_units  \\\n0        13.8            NaN                NaN         NaN            5.0   \n1        41.0        95668.0            87771.0      0.4390         1976.0   \n2        38.5       102875.0            81534.0      0.5498         1138.0   \n3        32.8        55262.0            38126.0      0.5171         1755.0   \n4        43.1        28664.0            13681.0      0.4096         2120.0   \n\n   ...  income_25000_34999_normalised  income_35000_59999_normalised  \\\n0  ...                       0.000000                       1.000000   \n1  ...                       0.037037                       0.160684   \n2  ...                       0.035519                       0.145719   \n3  ...                       0.089274                       0.240206   \n4  ...                       0.129760                       0.249499   \n\n   income_60000_99999_normalised  income_100000_199999_normalised  \\\n0                       0.000000                         0.000000   \n1                       0.291168                         0.283761   \n2                       0.181239                         0.231330   \n3                       0.131663                         0.220938   \n4                       0.146293                         0.020040   \n\n   income_200000_or_more_normalised  million_dollar_housing_units_normalised  \\\n0                          0.000000                                 0.000000   \n1                          0.160684                                 0.005567   \n2                          0.271403                                 0.066784   \n3                          0.099550                                 0.024501   \n4                          0.000000                                 0.000000   \n\n   mortgaged_housing_units_normalised  \\\n0                            0.000000   \n1                            0.316802   \n2                            0.304042   \n3                            0.254131   \n4                            0.228774   \n\n   owner_occupied_housing_units_normalised  employed_pop_normalised  \\\n0                                 0.000000                 1.000000   \n1                                 0.463563                 0.958730   \n2                                 0.442004                 0.957479   \n3                                 0.445584                 0.959062   \n4                                 0.621698                 0.926387   \n\n   unemployed_pop_normalised  \n0                   0.000000  \n1                   0.041270  \n2                   0.034928  \n3                   0.040938  \n4                   0.073613  \n\n[5 rows x 78 columns]",
      "text/html": "<div>\n<style scoped>\n    .dataframe tbody tr th:only-of-type {\n        vertical-align: middle;\n    }\n\n    .dataframe tbody tr th {\n        vertical-align: top;\n    }\n\n    .dataframe thead th {\n        text-align: right;\n    }\n</style>\n<table border=\"1\" class=\"dataframe\">\n  <thead>\n    <tr style=\"text-align: right;\">\n      <th></th>\n      <th>GEOID</th>\n      <th>city_name</th>\n      <th>reweighted_redline_index</th>\n      <th>total_pop</th>\n      <th>households</th>\n      <th>median_age</th>\n      <th>median_income</th>\n      <th>income_per_capita</th>\n      <th>gini_index</th>\n      <th>housing_units</th>\n      <th>...</th>\n      <th>income_25000_34999_normalised</th>\n      <th>income_35000_59999_normalised</th>\n      <th>income_60000_99999_normalised</th>\n      <th>income_100000_199999_normalised</th>\n      <th>income_200000_or_more_normalised</th>\n      <th>million_dollar_housing_units_normalised</th>\n      <th>mortgaged_housing_units_normalised</th>\n      <th>owner_occupied_housing_units_normalised</th>\n      <th>employed_pop_normalised</th>\n      <th>unemployed_pop_normalised</th>\n    </tr>\n  </thead>\n  <tbody>\n    <tr>\n      <th>0</th>\n      <td>4.811398e+10</td>\n      <td>dallas</td>\n      <td>3.10</td>\n      <td>20.0</td>\n      <td>5.0</td>\n      <td>13.8</td>\n      <td>NaN</td>\n      <td>NaN</td>\n      <td>NaN</td>\n      <td>5.0</td>\n      <td>...</td>\n      <td>0.000000</td>\n      <td>1.000000</td>\n      <td>0.000000</td>\n      <td>0.000000</td>\n      <td>0.000000</td>\n      <td>0.000000</td>\n      <td>0.000000</td>\n      <td>0.000000</td>\n      <td>1.000000</td>\n      <td>0.000000</td>\n    </tr>\n    <tr>\n      <th>1</th>\n      <td>4.811300e+10</td>\n      <td>dallas</td>\n      <td>2.09</td>\n      <td>2548.0</td>\n      <td>1755.0</td>\n      <td>41.0</td>\n      <td>95668.0</td>\n      <td>87771.0</td>\n      <td>0.4390</td>\n      <td>1976.0</td>\n      <td>...</td>\n      <td>0.037037</td>\n      <td>0.160684</td>\n      <td>0.291168</td>\n      <td>0.283761</td>\n      <td>0.160684</td>\n      <td>0.005567</td>\n      <td>0.316802</td>\n      <td>0.463563</td>\n      <td>0.958730</td>\n      <td>0.041270</td>\n    </tr>\n    <tr>\n      <th>2</th>\n      <td>4.811301e+10</td>\n      <td>dallas</td>\n      <td>1.00</td>\n      <td>2331.0</td>\n      <td>1098.0</td>\n      <td>38.5</td>\n      <td>102875.0</td>\n      <td>81534.0</td>\n      <td>0.5498</td>\n      <td>1138.0</td>\n      <td>...</td>\n      <td>0.035519</td>\n      <td>0.145719</td>\n      <td>0.181239</td>\n      <td>0.231330</td>\n      <td>0.271403</td>\n      <td>0.066784</td>\n      <td>0.304042</td>\n      <td>0.442004</td>\n      <td>0.957479</td>\n      <td>0.034928</td>\n    </tr>\n    <tr>\n      <th>3</th>\n      <td>4.811300e+10</td>\n      <td>dallas</td>\n      <td>2.16</td>\n      <td>3950.0</td>\n      <td>1557.0</td>\n      <td>32.8</td>\n      <td>55262.0</td>\n      <td>38126.0</td>\n      <td>0.5171</td>\n      <td>1755.0</td>\n      <td>...</td>\n      <td>0.089274</td>\n      <td>0.240206</td>\n      <td>0.131663</td>\n      <td>0.220938</td>\n      <td>0.099550</td>\n      <td>0.024501</td>\n      <td>0.254131</td>\n      <td>0.445584</td>\n      <td>0.959062</td>\n      <td>0.040938</td>\n    </tr>\n    <tr>\n      <th>4</th>\n      <td>4.811301e+10</td>\n      <td>dallas</td>\n      <td>3.00</td>\n      <td>5568.0</td>\n      <td>1996.0</td>\n      <td>43.1</td>\n      <td>28664.0</td>\n      <td>13681.0</td>\n      <td>0.4096</td>\n      <td>2120.0</td>\n      <td>...</td>\n      <td>0.129760</td>\n      <td>0.249499</td>\n      <td>0.146293</td>\n      <td>0.020040</td>\n      <td>0.000000</td>\n      <td>0.000000</td>\n      <td>0.228774</td>\n      <td>0.621698</td>\n      <td>0.926387</td>\n      <td>0.073613</td>\n    </tr>\n  </tbody>\n</table>\n<p>5 rows × 78 columns</p>\n</div>"
     },
     "metadata": {}
    }
   ],
   "execution_count": null
  },
  {
   "cell_type": "code",
   "metadata": {
    "tags": [],
    "output_cleared": false,
    "source_hash": "a15ee3a7",
    "execution_millis": 673,
    "deepnote_to_be_reexecuted": false,
    "execution_start": 1623462823268,
    "cell_id": "00037-6536580e-c5c9-4507-8daf-1d14b1f9b323",
    "deepnote_cell_type": "code"
   },
   "source": "# Final output to use in models\njoined.to_csv(\"../data/ACS/acs_cleaned_data_w_city_name.csv\", index=False)",
   "outputs": [],
   "execution_count": null
  },
  {
   "cell_type": "code",
   "metadata": {
    "tags": [],
    "cell_id": "00038-5643d966-36bf-495f-8960-b6a780818bcb",
    "deepnote_cell_type": "code"
   },
   "source": "",
   "execution_count": null,
   "outputs": []
  },
  {
   "cell_type": "markdown",
   "source": "<a style='text-decoration:none;line-height:16px;display:flex;color:#5B5B62;padding:10px;justify-content:end;' href='https://deepnote.com?utm_source=created-in-deepnote-cell&projectId=c9a4f701-31a5-4164-b3f3-c09cddf1309e' target=\"_blank\">\n<img alt='Created in deepnote.com' style='display:inline;max-height:16px;margin:0px;margin-right:7.5px;' src='data:image/svg+xml;base64,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' > </img>\nCreated in <span style='font-weight:600;margin-left:4px;'>Deepnote</span></a>",
   "metadata": {
    "tags": [],
    "created_in_deepnote_cell": true,
    "deepnote_cell_type": "markdown"
   }
  }
 ],
 "nbformat": 4,
 "nbformat_minor": 2,
 "metadata": {
  "orig_nbformat": 2,
  "deepnote_notebook_id": "bb17fa1e-fc21-4193-8f7b-7e72cd6e6fef",
  "deepnote_execution_queue": [],
  "kernelspec": {
   "name": "python37764bitbaseconda88f4a6024f8246cc90204549d1cdb575",
   "display_name": "Python 3.7.7 64-bit ('base': conda)",
   "language": "python"
  },
  "deepnote": {}
 }
}