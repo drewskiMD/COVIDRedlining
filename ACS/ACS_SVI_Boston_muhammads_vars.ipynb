{
 "cells": [
  {
   "cell_type": "markdown",
   "source": "## Author: Meiteng",
   "metadata": {
    "tags": [],
    "cell_id": "00000-5f178296-8df7-4cbc-93ef-f075bcf7ff11",
    "allow_embed": "code_output",
    "deepnote_cell_type": "markdown"
   }
  },
  {
   "cell_type": "code",
   "source": "Using Muhammad's normalised variables",
   "metadata": {
    "tags": [],
    "cell_id": "00001-bc6ab862-fbce-46d1-b7ab-a8b2dfe48fb4",
    "deepnote_to_be_reexecuted": true,
    "source_hash": "ecd4d50a",
    "deepnote_cell_type": "code"
   },
   "outputs": [],
   "execution_count": null
  },
  {
   "cell_type": "markdown",
   "source": "### SVI-based Variables & Indices (Boston)",
   "metadata": {
    "tags": [],
    "cell_id": "00002-ce22d427-317f-4b2e-847d-ab87cd0f17d6",
    "deepnote_cell_type": "markdown"
   }
  },
  {
   "cell_type": "code",
   "metadata": {
    "tags": [],
    "cell_id": "00003-ebb542d4-d544-4821-afae-0b933b7b5c49",
    "deepnote_to_be_reexecuted": false,
    "source_hash": "3ab2f9a5",
    "execution_start": 1623462834879,
    "execution_millis": 1,
    "deepnote_cell_type": "code"
   },
   "source": "# Import libraries\nimport seaborn as sns\nimport matplotlib.pyplot as plt\n%matplotlib inline\nimport geopandas as gpd\nimport pandas as pd\nimport numpy as np\nfrom functools import reduce\n\nimport datetime as dt\nimport math\nimport plotly.express as px",
   "outputs": [],
   "execution_count": null
  },
  {
   "cell_type": "markdown",
   "source": "**Note:** Zipcode-level data has been uploaded to \n/work/COVIDRedlining/data/ACS/acs_zip_codes_2018_5yr.csv",
   "metadata": {
    "tags": [],
    "cell_id": "00003-90b3200f-2182-4843-96cf-420dd481e8e0",
    "deepnote_cell_type": "markdown"
   }
  },
  {
   "cell_type": "code",
   "metadata": {
    "tags": [],
    "cell_id": "00004-41a832a6-ac23-44a4-b28b-56b8bac98221",
    "deepnote_to_be_reexecuted": false,
    "source_hash": "d19f326a",
    "execution_start": 1623462835469,
    "execution_millis": 5,
    "deepnote_cell_type": "code"
   },
   "source": "# df_zip = pd.read_csv('/work/COVIDRedlining/data/ACS/acs_zip_codes_2018_5yr.csv')\n# df_zip['geo_id'].nunique()",
   "outputs": [],
   "execution_count": null
  },
  {
   "cell_type": "code",
   "metadata": {
    "tags": [],
    "cell_id": "00005-8a5442a2-7ce4-4688-b4a5-a490c07bee33",
    "deepnote_to_be_reexecuted": false,
    "source_hash": "ed83d050",
    "execution_start": 1623462835836,
    "execution_millis": 426,
    "deepnote_cell_type": "code"
   },
   "source": "# Read ACS data\n# df_1 = pd.read_csv('/work/COVIDRedlining/data/ACS/ACS Census Tract 2018 (5 years).csv')\n\n# df_full = pd.read_csv('/work/COVIDRedlining/data/ACS/acs_cleaned_data.csv')\n\n### 2021-6-21\ndf_full = pd.read_csv(\"/work/COVIDRedlining/data/ACS/acs_cleaned_data_w_city_name.csv\")\n\ndf_full.head()",
   "outputs": [
    {
     "output_type": "execute_result",
     "execution_count": 59,
     "data": {
      "application/vnd.deepnote.dataframe.v2+json": {
       "row_count": 5,
       "column_count": 78,
       "columns": [
        {
         "name": "GEOID",
         "dtype": "float64",
         "stats": {
          "unique_count": 5,
          "nan_count": 0,
          "min": "48113000605.0",
          "max": "48113980100.0",
          "histogram": [
           {
            "bin_start": 48113000605,
            "bin_end": 48113098554.5,
            "count": 4
           },
           {
            "bin_start": 48113098554.5,
            "bin_end": 48113196504,
            "count": 0
           },
           {
            "bin_start": 48113196504,
            "bin_end": 48113294453.5,
            "count": 0
           },
           {
            "bin_start": 48113294453.5,
            "bin_end": 48113392403,
            "count": 0
           },
           {
            "bin_start": 48113392403,
            "bin_end": 48113490352.5,
            "count": 0
           },
           {
            "bin_start": 48113490352.5,
            "bin_end": 48113588302,
            "count": 0
           },
           {
            "bin_start": 48113588302,
            "bin_end": 48113686251.5,
            "count": 0
           },
           {
            "bin_start": 48113686251.5,
            "bin_end": 48113784201,
            "count": 0
           },
           {
            "bin_start": 48113784201,
            "bin_end": 48113882150.5,
            "count": 0
           },
           {
            "bin_start": 48113882150.5,
            "bin_end": 48113980100,
            "count": 1
           }
          ]
         }
        },
        {
         "name": "city_name",
         "dtype": "object",
         "stats": {
          "unique_count": 1,
          "nan_count": 0,
          "categories": [
           {
            "name": "dallas",
            "count": 5
           }
          ]
         }
        },
        {
         "name": "reweighted_redline_index",
         "dtype": "float64",
         "stats": {
          "unique_count": 5,
          "nan_count": 0,
          "min": "1.0",
          "max": "3.1",
          "histogram": [
           {
            "bin_start": 1,
            "bin_end": 1.21,
            "count": 1
           },
           {
            "bin_start": 1.21,
            "bin_end": 1.42,
            "count": 0
           },
           {
            "bin_start": 1.42,
            "bin_end": 1.6300000000000001,
            "count": 0
           },
           {
            "bin_start": 1.6300000000000001,
            "bin_end": 1.84,
            "count": 0
           },
           {
            "bin_start": 1.84,
            "bin_end": 2.05,
            "count": 0
           },
           {
            "bin_start": 2.05,
            "bin_end": 2.2600000000000002,
            "count": 2
           },
           {
            "bin_start": 2.2600000000000002,
            "bin_end": 2.47,
            "count": 0
           },
           {
            "bin_start": 2.47,
            "bin_end": 2.68,
            "count": 0
           },
           {
            "bin_start": 2.68,
            "bin_end": 2.89,
            "count": 0
           },
           {
            "bin_start": 2.89,
            "bin_end": 3.1,
            "count": 2
           }
          ]
         }
        },
        {
         "name": "total_pop",
         "dtype": "float64",
         "stats": {
          "unique_count": 5,
          "nan_count": 0,
          "min": "20.0",
          "max": "5568.0",
          "histogram": [
           {
            "bin_start": 20,
            "bin_end": 574.8,
            "count": 1
           },
           {
            "bin_start": 574.8,
            "bin_end": 1129.6,
            "count": 0
           },
           {
            "bin_start": 1129.6,
            "bin_end": 1684.3999999999999,
            "count": 0
           },
           {
            "bin_start": 1684.3999999999999,
            "bin_end": 2239.2,
            "count": 0
           },
           {
            "bin_start": 2239.2,
            "bin_end": 2794,
            "count": 2
           },
           {
            "bin_start": 2794,
            "bin_end": 3348.7999999999997,
            "count": 0
           },
           {
            "bin_start": 3348.7999999999997,
            "bin_end": 3903.5999999999995,
            "count": 0
           },
           {
            "bin_start": 3903.5999999999995,
            "bin_end": 4458.4,
            "count": 1
           },
           {
            "bin_start": 4458.4,
            "bin_end": 5013.2,
            "count": 0
           },
           {
            "bin_start": 5013.2,
            "bin_end": 5568,
            "count": 1
           }
          ]
         }
        },
        {
         "name": "households",
         "dtype": "float64",
         "stats": {
          "unique_count": 5,
          "nan_count": 0,
          "min": "5.0",
          "max": "1996.0",
          "histogram": [
           {
            "bin_start": 5,
            "bin_end": 204.1,
            "count": 1
           },
           {
            "bin_start": 204.1,
            "bin_end": 403.2,
            "count": 0
           },
           {
            "bin_start": 403.2,
            "bin_end": 602.3,
            "count": 0
           },
           {
            "bin_start": 602.3,
            "bin_end": 801.4,
            "count": 0
           },
           {
            "bin_start": 801.4,
            "bin_end": 1000.5,
            "count": 0
           },
           {
            "bin_start": 1000.5,
            "bin_end": 1199.6,
            "count": 1
           },
           {
            "bin_start": 1199.6,
            "bin_end": 1398.7,
            "count": 0
           },
           {
            "bin_start": 1398.7,
            "bin_end": 1597.8,
            "count": 1
           },
           {
            "bin_start": 1597.8,
            "bin_end": 1796.8999999999999,
            "count": 1
           },
           {
            "bin_start": 1796.8999999999999,
            "bin_end": 1996,
            "count": 1
           }
          ]
         }
        },
        {
         "name": "median_age",
         "dtype": "float64",
         "stats": {
          "unique_count": 5,
          "nan_count": 0,
          "min": "13.8",
          "max": "43.1",
          "histogram": [
           {
            "bin_start": 13.8,
            "bin_end": 16.73,
            "count": 1
           },
           {
            "bin_start": 16.73,
            "bin_end": 19.66,
            "count": 0
           },
           {
            "bin_start": 19.66,
            "bin_end": 22.590000000000003,
            "count": 0
           },
           {
            "bin_start": 22.590000000000003,
            "bin_end": 25.520000000000003,
            "count": 0
           },
           {
            "bin_start": 25.520000000000003,
            "bin_end": 28.450000000000003,
            "count": 0
           },
           {
            "bin_start": 28.450000000000003,
            "bin_end": 31.380000000000003,
            "count": 0
           },
           {
            "bin_start": 31.380000000000003,
            "bin_end": 34.31,
            "count": 1
           },
           {
            "bin_start": 34.31,
            "bin_end": 37.24,
            "count": 0
           },
           {
            "bin_start": 37.24,
            "bin_end": 40.17,
            "count": 1
           },
           {
            "bin_start": 40.17,
            "bin_end": 43.1,
            "count": 2
           }
          ]
         }
        },
        {
         "name": "median_income",
         "dtype": "float64",
         "stats": {
          "unique_count": 4,
          "nan_count": 1,
          "min": "28664.0",
          "max": "102875.0",
          "histogram": [
           {
            "bin_start": 28664,
            "bin_end": 36085.1,
            "count": 1
           },
           {
            "bin_start": 36085.1,
            "bin_end": 43506.2,
            "count": 0
           },
           {
            "bin_start": 43506.2,
            "bin_end": 50927.3,
            "count": 0
           },
           {
            "bin_start": 50927.3,
            "bin_end": 58348.4,
            "count": 1
           },
           {
            "bin_start": 58348.4,
            "bin_end": 65769.5,
            "count": 0
           },
           {
            "bin_start": 65769.5,
            "bin_end": 73190.6,
            "count": 0
           },
           {
            "bin_start": 73190.6,
            "bin_end": 80611.70000000001,
            "count": 0
           },
           {
            "bin_start": 80611.70000000001,
            "bin_end": 88032.8,
            "count": 0
           },
           {
            "bin_start": 88032.8,
            "bin_end": 95453.90000000001,
            "count": 0
           },
           {
            "bin_start": 95453.90000000001,
            "bin_end": 102875,
            "count": 2
           }
          ]
         }
        },
        {
         "name": "income_per_capita",
         "dtype": "float64",
         "stats": {
          "unique_count": 4,
          "nan_count": 1,
          "min": "13681.0",
          "max": "87771.0",
          "histogram": [
           {
            "bin_start": 13681,
            "bin_end": 21090,
            "count": 1
           },
           {
            "bin_start": 21090,
            "bin_end": 28499,
            "count": 0
           },
           {
            "bin_start": 28499,
            "bin_end": 35908,
            "count": 0
           },
           {
            "bin_start": 35908,
            "bin_end": 43317,
            "count": 1
           },
           {
            "bin_start": 43317,
            "bin_end": 50726,
            "count": 0
           },
           {
            "bin_start": 50726,
            "bin_end": 58135,
            "count": 0
           },
           {
            "bin_start": 58135,
            "bin_end": 65544,
            "count": 0
           },
           {
            "bin_start": 65544,
            "bin_end": 72953,
            "count": 0
           },
           {
            "bin_start": 72953,
            "bin_end": 80362,
            "count": 0
           },
           {
            "bin_start": 80362,
            "bin_end": 87771,
            "count": 2
           }
          ]
         }
        },
        {
         "name": "gini_index",
         "dtype": "float64",
         "stats": {
          "unique_count": 4,
          "nan_count": 1,
          "min": "0.4096",
          "max": "0.5498",
          "histogram": [
           {
            "bin_start": 0.4096,
            "bin_end": 0.42362,
            "count": 1
           },
           {
            "bin_start": 0.42362,
            "bin_end": 0.43764000000000003,
            "count": 0
           },
           {
            "bin_start": 0.43764000000000003,
            "bin_end": 0.45166,
            "count": 1
           },
           {
            "bin_start": 0.45166,
            "bin_end": 0.46568,
            "count": 0
           },
           {
            "bin_start": 0.46568,
            "bin_end": 0.4797,
            "count": 0
           },
           {
            "bin_start": 0.4797,
            "bin_end": 0.49372,
            "count": 0
           },
           {
            "bin_start": 0.49372,
            "bin_end": 0.50774,
            "count": 0
           },
           {
            "bin_start": 0.50774,
            "bin_end": 0.52176,
            "count": 1
           },
           {
            "bin_start": 0.52176,
            "bin_end": 0.5357799999999999,
            "count": 0
           },
           {
            "bin_start": 0.5357799999999999,
            "bin_end": 0.5498,
            "count": 1
           }
          ]
         }
        },
        {
         "name": "housing_units",
         "dtype": "float64",
         "stats": {
          "unique_count": 5,
          "nan_count": 0,
          "min": "5.0",
          "max": "2120.0",
          "histogram": [
           {
            "bin_start": 5,
            "bin_end": 216.5,
            "count": 1
           },
           {
            "bin_start": 216.5,
            "bin_end": 428,
            "count": 0
           },
           {
            "bin_start": 428,
            "bin_end": 639.5,
            "count": 0
           },
           {
            "bin_start": 639.5,
            "bin_end": 851,
            "count": 0
           },
           {
            "bin_start": 851,
            "bin_end": 1062.5,
            "count": 0
           },
           {
            "bin_start": 1062.5,
            "bin_end": 1274,
            "count": 1
           },
           {
            "bin_start": 1274,
            "bin_end": 1485.5,
            "count": 0
           },
           {
            "bin_start": 1485.5,
            "bin_end": 1697,
            "count": 0
           },
           {
            "bin_start": 1697,
            "bin_end": 1908.5,
            "count": 1
           },
           {
            "bin_start": 1908.5,
            "bin_end": 2120,
            "count": 2
           }
          ]
         }
        },
        {
         "name": "renter_occupied_housing_units_paying_cash_median_gross_rent",
         "dtype": "float64",
         "stats": {
          "unique_count": 4,
          "nan_count": 1,
          "min": "894.0",
          "max": "1612.0",
          "histogram": [
           {
            "bin_start": 894,
            "bin_end": 965.8,
            "count": 1
           },
           {
            "bin_start": 965.8,
            "bin_end": 1037.6,
            "count": 1
           },
           {
            "bin_start": 1037.6,
            "bin_end": 1109.4,
            "count": 0
           },
           {
            "bin_start": 1109.4,
            "bin_end": 1181.2,
            "count": 0
           },
           {
            "bin_start": 1181.2,
            "bin_end": 1253,
            "count": 0
           },
           {
            "bin_start": 1253,
            "bin_end": 1324.8,
            "count": 0
           },
           {
            "bin_start": 1324.8,
            "bin_end": 1396.6,
            "count": 0
           },
           {
            "bin_start": 1396.6,
            "bin_end": 1468.4,
            "count": 0
           },
           {
            "bin_start": 1468.4,
            "bin_end": 1540.1999999999998,
            "count": 0
           },
           {
            "bin_start": 1540.1999999999998,
            "bin_end": 1612,
            "count": 2
           }
          ]
         }
        },
        {
         "name": "owner_occupied_housing_units_lower_value_quartile",
         "dtype": "float64",
         "stats": {
          "unique_count": 4,
          "nan_count": 1,
          "min": "55700.0",
          "max": "268500.0",
          "histogram": [
           {
            "bin_start": 55700,
            "bin_end": 76980,
            "count": 1
           },
           {
            "bin_start": 76980,
            "bin_end": 98260,
            "count": 0
           },
           {
            "bin_start": 98260,
            "bin_end": 119540,
            "count": 0
           },
           {
            "bin_start": 119540,
            "bin_end": 140820,
            "count": 0
           },
           {
            "bin_start": 140820,
            "bin_end": 162100,
            "count": 0
           },
           {
            "bin_start": 162100,
            "bin_end": 183380,
            "count": 0
           },
           {
            "bin_start": 183380,
            "bin_end": 204660,
            "count": 1
           },
           {
            "bin_start": 204660,
            "bin_end": 225940,
            "count": 1
           },
           {
            "bin_start": 225940,
            "bin_end": 247220,
            "count": 0
           },
           {
            "bin_start": 247220,
            "bin_end": 268500,
            "count": 1
           }
          ]
         }
        },
        {
         "name": "owner_occupied_housing_units_median_value",
         "dtype": "float64",
         "stats": {
          "unique_count": 4,
          "nan_count": 1,
          "min": "70200.0",
          "max": "710900.0",
          "histogram": [
           {
            "bin_start": 70200,
            "bin_end": 134270,
            "count": 1
           },
           {
            "bin_start": 134270,
            "bin_end": 198340,
            "count": 0
           },
           {
            "bin_start": 198340,
            "bin_end": 262410,
            "count": 0
           },
           {
            "bin_start": 262410,
            "bin_end": 326480,
            "count": 1
           },
           {
            "bin_start": 326480,
            "bin_end": 390550,
            "count": 1
           },
           {
            "bin_start": 390550,
            "bin_end": 454620,
            "count": 0
           },
           {
            "bin_start": 454620,
            "bin_end": 518690,
            "count": 0
           },
           {
            "bin_start": 518690,
            "bin_end": 582760,
            "count": 0
           },
           {
            "bin_start": 582760,
            "bin_end": 646830,
            "count": 0
           },
           {
            "bin_start": 646830,
            "bin_end": 710900,
            "count": 1
           }
          ]
         }
        },
        {
         "name": "owner_occupied_housing_units_upper_value_quartile",
         "dtype": "float64",
         "stats": {
          "unique_count": 4,
          "nan_count": 1,
          "min": "82700.0",
          "max": "1198300.0",
          "histogram": [
           {
            "bin_start": 82700,
            "bin_end": 194260,
            "count": 1
           },
           {
            "bin_start": 194260,
            "bin_end": 305820,
            "count": 0
           },
           {
            "bin_start": 305820,
            "bin_end": 417380,
            "count": 1
           },
           {
            "bin_start": 417380,
            "bin_end": 528940,
            "count": 1
           },
           {
            "bin_start": 528940,
            "bin_end": 640500,
            "count": 0
           },
           {
            "bin_start": 640500,
            "bin_end": 752060,
            "count": 0
           },
           {
            "bin_start": 752060,
            "bin_end": 863620,
            "count": 0
           },
           {
            "bin_start": 863620,
            "bin_end": 975180,
            "count": 0
           },
           {
            "bin_start": 975180,
            "bin_end": 1086740,
            "count": 0
           },
           {
            "bin_start": 1086740,
            "bin_end": 1198300,
            "count": 1
           }
          ]
         }
        },
        {
         "name": "median_year_structure_built",
         "dtype": "float64",
         "stats": {
          "unique_count": 4,
          "nan_count": 1,
          "min": "1949.0",
          "max": "1993.0",
          "histogram": [
           {
            "bin_start": 1949,
            "bin_end": 1953.4,
            "count": 1
           },
           {
            "bin_start": 1953.4,
            "bin_end": 1957.8,
            "count": 1
           },
           {
            "bin_start": 1957.8,
            "bin_end": 1962.2,
            "count": 0
           },
           {
            "bin_start": 1962.2,
            "bin_end": 1966.6,
            "count": 0
           },
           {
            "bin_start": 1966.6,
            "bin_end": 1971,
            "count": 0
           },
           {
            "bin_start": 1971,
            "bin_end": 1975.4,
            "count": 0
           },
           {
            "bin_start": 1975.4,
            "bin_end": 1979.8,
            "count": 0
           },
           {
            "bin_start": 1979.8,
            "bin_end": 1984.2,
            "count": 1
           },
           {
            "bin_start": 1984.2,
            "bin_end": 1988.6,
            "count": 0
           },
           {
            "bin_start": 1988.6,
            "bin_end": 1993,
            "count": 1
           }
          ]
         }
        },
        {
         "name": "median_rent",
         "dtype": "float64",
         "stats": {
          "unique_count": 4,
          "nan_count": 1,
          "min": "694.0",
          "max": "1510.0",
          "histogram": [
           {
            "bin_start": 694,
            "bin_end": 775.6,
            "count": 2
           },
           {
            "bin_start": 775.6,
            "bin_end": 857.2,
            "count": 0
           },
           {
            "bin_start": 857.2,
            "bin_end": 938.8,
            "count": 0
           },
           {
            "bin_start": 938.8,
            "bin_end": 1020.4,
            "count": 0
           },
           {
            "bin_start": 1020.4,
            "bin_end": 1102,
            "count": 0
           },
           {
            "bin_start": 1102,
            "bin_end": 1183.6,
            "count": 0
           },
           {
            "bin_start": 1183.6,
            "bin_end": 1265.1999999999998,
            "count": 0
           },
           {
            "bin_start": 1265.1999999999998,
            "bin_end": 1346.8,
            "count": 0
           },
           {
            "bin_start": 1346.8,
            "bin_end": 1428.4,
            "count": 0
           },
           {
            "bin_start": 1428.4,
            "bin_end": 1510,
            "count": 2
           }
          ]
         }
        },
        {
         "name": "percent_income_spent_on_rent",
         "dtype": "float64",
         "stats": {
          "unique_count": 4,
          "nan_count": 1,
          "min": "24.3",
          "max": "37.8",
          "histogram": [
           {
            "bin_start": 24.3,
            "bin_end": 25.65,
            "count": 1
           },
           {
            "bin_start": 25.65,
            "bin_end": 27,
            "count": 0
           },
           {
            "bin_start": 27,
            "bin_end": 28.35,
            "count": 1
           },
           {
            "bin_start": 28.35,
            "bin_end": 29.7,
            "count": 1
           },
           {
            "bin_start": 29.7,
            "bin_end": 31.049999999999997,
            "count": 0
           },
           {
            "bin_start": 31.049999999999997,
            "bin_end": 32.4,
            "count": 0
           },
           {
            "bin_start": 32.4,
            "bin_end": 33.75,
            "count": 0
           },
           {
            "bin_start": 33.75,
            "bin_end": 35.099999999999994,
            "count": 0
           },
           {
            "bin_start": 35.099999999999994,
            "bin_end": 36.449999999999996,
            "count": 0
           },
           {
            "bin_start": 36.449999999999996,
            "bin_end": 37.8,
            "count": 1
           }
          ]
         }
        },
        {
         "name": "bachelors_degree_or_higher_25_64",
         "dtype": "float64",
         "stats": {
          "unique_count": 5,
          "nan_count": 0,
          "min": "0.0",
          "max": "1421.0",
          "histogram": [
           {
            "bin_start": 0,
            "bin_end": 142.1,
            "count": 2
           },
           {
            "bin_start": 142.1,
            "bin_end": 284.2,
            "count": 0
           },
           {
            "bin_start": 284.2,
            "bin_end": 426.29999999999995,
            "count": 0
           },
           {
            "bin_start": 426.29999999999995,
            "bin_end": 568.4,
            "count": 0
           },
           {
            "bin_start": 568.4,
            "bin_end": 710.5,
            "count": 0
           },
           {
            "bin_start": 710.5,
            "bin_end": 852.5999999999999,
            "count": 1
           },
           {
            "bin_start": 852.5999999999999,
            "bin_end": 994.6999999999999,
            "count": 0
           },
           {
            "bin_start": 994.6999999999999,
            "bin_end": 1136.8,
            "count": 0
           },
           {
            "bin_start": 1136.8,
            "bin_end": 1278.8999999999999,
            "count": 1
           },
           {
            "bin_start": 1278.8999999999999,
            "bin_end": 1421,
            "count": 1
           }
          ]
         }
        },
        {
         "name": "aged_65_or_older_normalised",
         "dtype": "float64",
         "stats": {
          "unique_count": 5,
          "nan_count": 0,
          "min": "0.0",
          "max": "0.1995330459770115",
          "histogram": [
           {
            "bin_start": 0,
            "bin_end": 0.01995330459770115,
            "count": 1
           },
           {
            "bin_start": 0.01995330459770115,
            "bin_end": 0.0399066091954023,
            "count": 0
           },
           {
            "bin_start": 0.0399066091954023,
            "bin_end": 0.05985991379310345,
            "count": 0
           },
           {
            "bin_start": 0.05985991379310345,
            "bin_end": 0.0798132183908046,
            "count": 0
           },
           {
            "bin_start": 0.0798132183908046,
            "bin_end": 0.09976652298850575,
            "count": 0
           },
           {
            "bin_start": 0.09976652298850575,
            "bin_end": 0.1197198275862069,
            "count": 2
           },
           {
            "bin_start": 0.1197198275862069,
            "bin_end": 0.13967313218390806,
            "count": 0
           },
           {
            "bin_start": 0.13967313218390806,
            "bin_end": 0.1596264367816092,
            "count": 0
           },
           {
            "bin_start": 0.1596264367816092,
            "bin_end": 0.17957974137931035,
            "count": 0
           },
           {
            "bin_start": 0.17957974137931035,
            "bin_end": 0.1995330459770115,
            "count": 2
           }
          ]
         }
        },
        {
         "name": "aged_17_or_younger_normalised",
         "dtype": "float64",
         "stats": {
          "unique_count": 5,
          "nan_count": 0,
          "min": "0.0384615384615384",
          "max": "0.55",
          "histogram": [
           {
            "bin_start": 0.0384615384615384,
            "bin_end": 0.08961538461538457,
            "count": 1
           },
           {
            "bin_start": 0.08961538461538457,
            "bin_end": 0.14076923076923073,
            "count": 0
           },
           {
            "bin_start": 0.14076923076923073,
            "bin_end": 0.1919230769230769,
            "count": 0
           },
           {
            "bin_start": 0.1919230769230769,
            "bin_end": 0.24307692307692305,
            "count": 1
           },
           {
            "bin_start": 0.24307692307692305,
            "bin_end": 0.2942307692307692,
            "count": 2
           },
           {
            "bin_start": 0.2942307692307692,
            "bin_end": 0.34538461538461535,
            "count": 0
           },
           {
            "bin_start": 0.34538461538461535,
            "bin_end": 0.3965384615384615,
            "count": 0
           },
           {
            "bin_start": 0.3965384615384615,
            "bin_end": 0.44769230769230767,
            "count": 0
           },
           {
            "bin_start": 0.44769230769230767,
            "bin_end": 0.49884615384615383,
            "count": 0
           },
           {
            "bin_start": 0.49884615384615383,
            "bin_end": 0.55,
            "count": 1
           }
          ]
         }
        },
        {
         "name": "multi_unit_structures_normalised",
         "dtype": "float64",
         "stats": {
          "unique_count": 4,
          "nan_count": 0,
          "min": "0.0",
          "max": "0.763663967611336",
          "histogram": [
           {
            "bin_start": 0,
            "bin_end": 0.0763663967611336,
            "count": 2
           },
           {
            "bin_start": 0.0763663967611336,
            "bin_end": 0.1527327935222672,
            "count": 0
           },
           {
            "bin_start": 0.1527327935222672,
            "bin_end": 0.2290991902834008,
            "count": 1
           },
           {
            "bin_start": 0.2290991902834008,
            "bin_end": 0.3054655870445344,
            "count": 0
           },
           {
            "bin_start": 0.3054655870445344,
            "bin_end": 0.381831983805668,
            "count": 0
           },
           {
            "bin_start": 0.381831983805668,
            "bin_end": 0.4581983805668016,
            "count": 1
           },
           {
            "bin_start": 0.4581983805668016,
            "bin_end": 0.5345647773279352,
            "count": 0
           },
           {
            "bin_start": 0.5345647773279352,
            "bin_end": 0.6109311740890688,
            "count": 0
           },
           {
            "bin_start": 0.6109311740890688,
            "bin_end": 0.6872975708502025,
            "count": 0
           },
           {
            "bin_start": 0.6872975708502025,
            "bin_end": 0.763663967611336,
            "count": 1
           }
          ]
         }
        },
        {
         "name": "poverty_normalised",
         "dtype": "float64",
         "stats": {
          "unique_count": 5,
          "nan_count": 0,
          "min": "0.0",
          "max": "0.2552422270426608",
          "histogram": [
           {
            "bin_start": 0,
            "bin_end": 0.025524222704266082,
            "count": 1
           },
           {
            "bin_start": 0.025524222704266082,
            "bin_end": 0.051048445408532164,
            "count": 0
           },
           {
            "bin_start": 0.051048445408532164,
            "bin_end": 0.07657266811279825,
            "count": 1
           },
           {
            "bin_start": 0.07657266811279825,
            "bin_end": 0.10209689081706433,
            "count": 0
           },
           {
            "bin_start": 0.10209689081706433,
            "bin_end": 0.1276211135213304,
            "count": 1
           },
           {
            "bin_start": 0.1276211135213304,
            "bin_end": 0.1531453362255965,
            "count": 0
           },
           {
            "bin_start": 0.1531453362255965,
            "bin_end": 0.17866955892986258,
            "count": 0
           },
           {
            "bin_start": 0.17866955892986258,
            "bin_end": 0.20419378163412866,
            "count": 1
           },
           {
            "bin_start": 0.20419378163412866,
            "bin_end": 0.22971800433839473,
            "count": 0
           },
           {
            "bin_start": 0.22971800433839473,
            "bin_end": 0.2552422270426608,
            "count": 1
           }
          ]
         }
        },
        {
         "name": "households_public_asst_or_food_stamps_normalised",
         "dtype": "float64",
         "stats": {
          "unique_count": 5,
          "nan_count": 0,
          "min": "0.0",
          "max": "0.2254509018036072",
          "histogram": [
           {
            "bin_start": 0,
            "bin_end": 0.02254509018036072,
            "count": 3
           },
           {
            "bin_start": 0.02254509018036072,
            "bin_end": 0.04509018036072144,
            "count": 0
           },
           {
            "bin_start": 0.04509018036072144,
            "bin_end": 0.06763527054108216,
            "count": 0
           },
           {
            "bin_start": 0.06763527054108216,
            "bin_end": 0.09018036072144288,
            "count": 0
           },
           {
            "bin_start": 0.09018036072144288,
            "bin_end": 0.1127254509018036,
            "count": 0
           },
           {
            "bin_start": 0.1127254509018036,
            "bin_end": 0.13527054108216433,
            "count": 0
           },
           {
            "bin_start": 0.13527054108216433,
            "bin_end": 0.15781563126252504,
            "count": 1
           },
           {
            "bin_start": 0.15781563126252504,
            "bin_end": 0.18036072144288576,
            "count": 0
           },
           {
            "bin_start": 0.18036072144288576,
            "bin_end": 0.20290581162324647,
            "count": 0
           },
           {
            "bin_start": 0.20290581162324647,
            "bin_end": 0.2254509018036072,
            "count": 1
           }
          ]
         }
        },
        {
         "name": "black_pop_normalised",
         "dtype": "float64",
         "stats": {
          "unique_count": 5,
          "nan_count": 0,
          "min": "0.0",
          "max": "0.6519396551724138",
          "histogram": [
           {
            "bin_start": 0,
            "bin_end": 0.06519396551724138,
            "count": 4
           },
           {
            "bin_start": 0.06519396551724138,
            "bin_end": 0.13038793103448276,
            "count": 0
           },
           {
            "bin_start": 0.13038793103448276,
            "bin_end": 0.19558189655172414,
            "count": 0
           },
           {
            "bin_start": 0.19558189655172414,
            "bin_end": 0.2607758620689655,
            "count": 0
           },
           {
            "bin_start": 0.2607758620689655,
            "bin_end": 0.3259698275862069,
            "count": 0
           },
           {
            "bin_start": 0.3259698275862069,
            "bin_end": 0.3911637931034483,
            "count": 0
           },
           {
            "bin_start": 0.3911637931034483,
            "bin_end": 0.45635775862068967,
            "count": 0
           },
           {
            "bin_start": 0.45635775862068967,
            "bin_end": 0.521551724137931,
            "count": 0
           },
           {
            "bin_start": 0.521551724137931,
            "bin_end": 0.5867456896551724,
            "count": 0
           },
           {
            "bin_start": 0.5867456896551724,
            "bin_end": 0.6519396551724138,
            "count": 1
           }
          ]
         }
        },
        {
         "name": "asian_pop_normalised",
         "dtype": "float64",
         "stats": {
          "unique_count": 5,
          "nan_count": 0,
          "min": "0.0",
          "max": "0.1318681318681318",
          "histogram": [
           {
            "bin_start": 0,
            "bin_end": 0.013186813186813178,
            "count": 3
           },
           {
            "bin_start": 0.013186813186813178,
            "bin_end": 0.026373626373626356,
            "count": 0
           },
           {
            "bin_start": 0.026373626373626356,
            "bin_end": 0.03956043956043953,
            "count": 0
           },
           {
            "bin_start": 0.03956043956043953,
            "bin_end": 0.05274725274725271,
            "count": 0
           },
           {
            "bin_start": 0.05274725274725271,
            "bin_end": 0.0659340659340659,
            "count": 0
           },
           {
            "bin_start": 0.0659340659340659,
            "bin_end": 0.07912087912087906,
            "count": 1
           },
           {
            "bin_start": 0.07912087912087906,
            "bin_end": 0.09230769230769224,
            "count": 0
           },
           {
            "bin_start": 0.09230769230769224,
            "bin_end": 0.10549450549450543,
            "count": 0
           },
           {
            "bin_start": 0.10549450549450543,
            "bin_end": 0.1186813186813186,
            "count": 0
           },
           {
            "bin_start": 0.1186813186813186,
            "bin_end": 0.1318681318681318,
            "count": 1
           }
          ]
         }
        },
        {
         "name": "hispanic_pop_normalised",
         "dtype": "float64",
         "stats": {
          "unique_count": 5,
          "nan_count": 0,
          "min": "0.0489060489060489",
          "max": "1.0",
          "histogram": [
           {
            "bin_start": 0.0489060489060489,
            "bin_end": 0.14401544401544403,
            "count": 2
           },
           {
            "bin_start": 0.14401544401544403,
            "bin_end": 0.23912483912483914,
            "count": 0
           },
           {
            "bin_start": 0.23912483912483914,
            "bin_end": 0.33423423423423426,
            "count": 1
           },
           {
            "bin_start": 0.33423423423423426,
            "bin_end": 0.42934362934362935,
            "count": 0
           },
           {
            "bin_start": 0.42934362934362935,
            "bin_end": 0.5244530244530244,
            "count": 0
           },
           {
            "bin_start": 0.5244530244530244,
            "bin_end": 0.6195624195624196,
            "count": 1
           },
           {
            "bin_start": 0.6195624195624196,
            "bin_end": 0.7146718146718147,
            "count": 0
           },
           {
            "bin_start": 0.7146718146718147,
            "bin_end": 0.8097812097812098,
            "count": 0
           },
           {
            "bin_start": 0.8097812097812098,
            "bin_end": 0.9048906048906049,
            "count": 0
           },
           {
            "bin_start": 0.9048906048906049,
            "bin_end": 1,
            "count": 1
           }
          ]
         }
        },
        {
         "name": "amerindian_pop_normalised",
         "dtype": "float64",
         "stats": {
          "unique_count": 5,
          "nan_count": 0,
          "min": "0.0",
          "max": "0.0109890109890109",
          "histogram": [
           {
            "bin_start": 0,
            "bin_end": 0.00109890109890109,
            "count": 1
           },
           {
            "bin_start": 0.00109890109890109,
            "bin_end": 0.00219780219780218,
            "count": 1
           },
           {
            "bin_start": 0.00219780219780218,
            "bin_end": 0.0032967032967032702,
            "count": 1
           },
           {
            "bin_start": 0.0032967032967032702,
            "bin_end": 0.00439560439560436,
            "count": 0
           },
           {
            "bin_start": 0.00439560439560436,
            "bin_end": 0.00549450549450545,
            "count": 0
           },
           {
            "bin_start": 0.00549450549450545,
            "bin_end": 0.0065934065934065405,
            "count": 0
           },
           {
            "bin_start": 0.0065934065934065405,
            "bin_end": 0.00769230769230763,
            "count": 0
           },
           {
            "bin_start": 0.00769230769230763,
            "bin_end": 0.00879120879120872,
            "count": 0
           },
           {
            "bin_start": 0.00879120879120872,
            "bin_end": 0.00989010989010981,
            "count": 1
           },
           {
            "bin_start": 0.00989010989010981,
            "bin_end": 0.0109890109890109,
            "count": 1
           }
          ]
         }
        },
        {
         "name": "white_pop_normalised",
         "dtype": "float64",
         "stats": {
          "unique_count": 5,
          "nan_count": 0,
          "min": "0.0",
          "max": "0.8416988416988417",
          "histogram": [
           {
            "bin_start": 0,
            "bin_end": 0.08416988416988416,
            "count": 2
           },
           {
            "bin_start": 0.08416988416988416,
            "bin_end": 0.16833976833976833,
            "count": 0
           },
           {
            "bin_start": 0.16833976833976833,
            "bin_end": 0.2525096525096525,
            "count": 0
           },
           {
            "bin_start": 0.2525096525096525,
            "bin_end": 0.33667953667953665,
            "count": 1
           },
           {
            "bin_start": 0.33667953667953665,
            "bin_end": 0.4208494208494208,
            "count": 0
           },
           {
            "bin_start": 0.4208494208494208,
            "bin_end": 0.505019305019305,
            "count": 0
           },
           {
            "bin_start": 0.505019305019305,
            "bin_end": 0.5891891891891892,
            "count": 0
           },
           {
            "bin_start": 0.5891891891891892,
            "bin_end": 0.6733590733590733,
            "count": 0
           },
           {
            "bin_start": 0.6733590733590733,
            "bin_end": 0.7575289575289574,
            "count": 1
           },
           {
            "bin_start": 0.7575289575289574,
            "bin_end": 0.8416988416988417,
            "count": 1
           }
          ]
         }
        },
        {
         "name": "non_white_pop_normalised",
         "dtype": "float64",
         "stats": {
          "unique_count": 5,
          "nan_count": 0,
          "min": "0.1583011583011583",
          "max": "1.0",
          "histogram": [
           {
            "bin_start": 0.1583011583011583,
            "bin_end": 0.24247104247104245,
            "count": 1
           },
           {
            "bin_start": 0.24247104247104245,
            "bin_end": 0.3266409266409266,
            "count": 1
           },
           {
            "bin_start": 0.3266409266409266,
            "bin_end": 0.41081081081081083,
            "count": 0
           },
           {
            "bin_start": 0.41081081081081083,
            "bin_end": 0.49498069498069497,
            "count": 0
           },
           {
            "bin_start": 0.49498069498069497,
            "bin_end": 0.5791505791505791,
            "count": 0
           },
           {
            "bin_start": 0.5791505791505791,
            "bin_end": 0.6633204633204633,
            "count": 0
           },
           {
            "bin_start": 0.6633204633204633,
            "bin_end": 0.7474903474903475,
            "count": 1
           },
           {
            "bin_start": 0.7474903474903475,
            "bin_end": 0.8316602316602316,
            "count": 0
           },
           {
            "bin_start": 0.8316602316602316,
            "bin_end": 0.9158301158301158,
            "count": 0
           },
           {
            "bin_start": 0.9158301158301158,
            "bin_end": 1,
            "count": 2
           }
          ]
         }
        },
        {
         "name": "other_race_pop_normalised",
         "dtype": "float64",
         "stats": {
          "unique_count": 4,
          "nan_count": 0,
          "min": "0.0",
          "max": "0.0175890175890175",
          "histogram": [
           {
            "bin_start": 0,
            "bin_end": 0.00175890175890175,
            "count": 2
           },
           {
            "bin_start": 0.00175890175890175,
            "bin_end": 0.0035178035178035,
            "count": 0
           },
           {
            "bin_start": 0.0035178035178035,
            "bin_end": 0.00527670527670525,
            "count": 0
           },
           {
            "bin_start": 0.00527670527670525,
            "bin_end": 0.007035607035607,
            "count": 0
           },
           {
            "bin_start": 0.007035607035607,
            "bin_end": 0.00879450879450875,
            "count": 2
           },
           {
            "bin_start": 0.00879450879450875,
            "bin_end": 0.0105534105534105,
            "count": 0
           },
           {
            "bin_start": 0.0105534105534105,
            "bin_end": 0.01231231231231225,
            "count": 0
           },
           {
            "bin_start": 0.01231231231231225,
            "bin_end": 0.014071214071214,
            "count": 0
           },
           {
            "bin_start": 0.014071214071214,
            "bin_end": 0.01583011583011575,
            "count": 0
           },
           {
            "bin_start": 0.01583011583011575,
            "bin_end": 0.0175890175890175,
            "count": 1
           }
          ]
         }
        },
        {
         "name": "male_pop_normalised",
         "dtype": "float64",
         "stats": {
          "unique_count": 5,
          "nan_count": 0,
          "min": "0.4594594594594595",
          "max": "0.55",
          "histogram": [
           {
            "bin_start": 0.4594594594594595,
            "bin_end": 0.46851351351351356,
            "count": 2
           },
           {
            "bin_start": 0.46851351351351356,
            "bin_end": 0.4775675675675676,
            "count": 0
           },
           {
            "bin_start": 0.4775675675675676,
            "bin_end": 0.48662162162162165,
            "count": 0
           },
           {
            "bin_start": 0.48662162162162165,
            "bin_end": 0.4956756756756757,
            "count": 1
           },
           {
            "bin_start": 0.4956756756756757,
            "bin_end": 0.5047297297297297,
            "count": 0
           },
           {
            "bin_start": 0.5047297297297297,
            "bin_end": 0.5137837837837839,
            "count": 0
           },
           {
            "bin_start": 0.5137837837837839,
            "bin_end": 0.5228378378378379,
            "count": 1
           },
           {
            "bin_start": 0.5228378378378379,
            "bin_end": 0.5318918918918919,
            "count": 0
           },
           {
            "bin_start": 0.5318918918918919,
            "bin_end": 0.540945945945946,
            "count": 0
           },
           {
            "bin_start": 0.540945945945946,
            "bin_end": 0.55,
            "count": 1
           }
          ]
         }
        },
        {
         "name": "female_pop_normalised",
         "dtype": "float64",
         "stats": {
          "unique_count": 5,
          "nan_count": 0,
          "min": "0.45",
          "max": "0.5405405405405406",
          "histogram": [
           {
            "bin_start": 0.45,
            "bin_end": 0.4590540540540541,
            "count": 1
           },
           {
            "bin_start": 0.4590540540540541,
            "bin_end": 0.4681081081081081,
            "count": 0
           },
           {
            "bin_start": 0.4681081081081081,
            "bin_end": 0.4771621621621622,
            "count": 0
           },
           {
            "bin_start": 0.4771621621621622,
            "bin_end": 0.48621621621621625,
            "count": 1
           },
           {
            "bin_start": 0.48621621621621625,
            "bin_end": 0.49527027027027026,
            "count": 0
           },
           {
            "bin_start": 0.49527027027027026,
            "bin_end": 0.5043243243243244,
            "count": 0
           },
           {
            "bin_start": 0.5043243243243244,
            "bin_end": 0.5133783783783784,
            "count": 1
           },
           {
            "bin_start": 0.5133783783783784,
            "bin_end": 0.5224324324324324,
            "count": 0
           },
           {
            "bin_start": 0.5224324324324324,
            "bin_end": 0.5314864864864866,
            "count": 0
           },
           {
            "bin_start": 0.5314864864864866,
            "bin_end": 0.5405405405405406,
            "count": 2
           }
          ]
         }
        },
        {
         "name": "pop_currently_unmarried_normalised",
         "dtype": "float64",
         "stats": {
          "unique_count": 1,
          "nan_count": 0,
          "min": "0.0",
          "max": "0.0",
          "histogram": [
           {
            "bin_start": -0.5,
            "bin_end": -0.4,
            "count": 0
           },
           {
            "bin_start": -0.4,
            "bin_end": -0.3,
            "count": 0
           },
           {
            "bin_start": -0.3,
            "bin_end": -0.19999999999999996,
            "count": 0
           },
           {
            "bin_start": -0.19999999999999996,
            "bin_end": -0.09999999999999998,
            "count": 0
           },
           {
            "bin_start": -0.09999999999999998,
            "bin_end": 0,
            "count": 0
           },
           {
            "bin_start": 0,
            "bin_end": 0.10000000000000009,
            "count": 5
           },
           {
            "bin_start": 0.10000000000000009,
            "bin_end": 0.20000000000000007,
            "count": 0
           },
           {
            "bin_start": 0.20000000000000007,
            "bin_end": 0.30000000000000004,
            "count": 0
           },
           {
            "bin_start": 0.30000000000000004,
            "bin_end": 0.4,
            "count": 0
           },
           {
            "bin_start": 0.4,
            "bin_end": 0.5,
            "count": 0
           }
          ]
         }
        },
        {
         "name": "pop_now_married_normalised",
         "dtype": "float64",
         "stats": {
          "unique_count": 0,
          "nan_count": 5,
          "min": null,
          "max": null,
          "histogram": [
           {
            "bin_start": 0,
            "bin_end": 0.1,
            "count": 0
           },
           {
            "bin_start": 0.1,
            "bin_end": 0.2,
            "count": 0
           },
           {
            "bin_start": 0.2,
            "bin_end": 0.30000000000000004,
            "count": 0
           },
           {
            "bin_start": 0.30000000000000004,
            "bin_end": 0.4,
            "count": 0
           },
           {
            "bin_start": 0.4,
            "bin_end": 0.5,
            "count": 0
           },
           {
            "bin_start": 0.5,
            "bin_end": 0.6000000000000001,
            "count": 0
           },
           {
            "bin_start": 0.6000000000000001,
            "bin_end": 0.7000000000000001,
            "count": 0
           },
           {
            "bin_start": 0.7000000000000001,
            "bin_end": 0.8,
            "count": 0
           },
           {
            "bin_start": 0.8,
            "bin_end": 0.9,
            "count": 0
           },
           {
            "bin_start": 0.9,
            "bin_end": 1,
            "count": 0
           }
          ]
         }
        },
        {
         "name": "not_us_citizen_pop_normalised",
         "dtype": "float64",
         "stats": {
          "unique_count": 5,
          "nan_count": 0,
          "min": "0.0429000429000429",
          "max": "0.45",
          "histogram": [
           {
            "bin_start": 0.0429000429000429,
            "bin_end": 0.08361003861003861,
            "count": 1
           },
           {
            "bin_start": 0.08361003861003861,
            "bin_end": 0.12432003432003433,
            "count": 3
           },
           {
            "bin_start": 0.12432003432003433,
            "bin_end": 0.16503003003003003,
            "count": 0
           },
           {
            "bin_start": 0.16503003003003003,
            "bin_end": 0.20574002574002576,
            "count": 0
           },
           {
            "bin_start": 0.20574002574002576,
            "bin_end": 0.24645002145002148,
            "count": 0
           },
           {
            "bin_start": 0.24645002145002148,
            "bin_end": 0.28716001716001716,
            "count": 0
           },
           {
            "bin_start": 0.28716001716001716,
            "bin_end": 0.3278700128700129,
            "count": 0
           },
           {
            "bin_start": 0.3278700128700129,
            "bin_end": 0.3685800085800086,
            "count": 0
           },
           {
            "bin_start": 0.3685800085800086,
            "bin_end": 0.40929000429000434,
            "count": 0
           },
           {
            "bin_start": 0.40929000429000434,
            "bin_end": 0.45,
            "count": 1
           }
          ]
         }
        },
        {
         "name": "children_normalised",
         "dtype": "float64",
         "stats": {
          "unique_count": 5,
          "nan_count": 0,
          "min": "0.0384615384615384",
          "max": "0.55",
          "histogram": [
           {
            "bin_start": 0.0384615384615384,
            "bin_end": 0.08961538461538457,
            "count": 1
           },
           {
            "bin_start": 0.08961538461538457,
            "bin_end": 0.14076923076923073,
            "count": 0
           },
           {
            "bin_start": 0.14076923076923073,
            "bin_end": 0.1919230769230769,
            "count": 0
           },
           {
            "bin_start": 0.1919230769230769,
            "bin_end": 0.24307692307692305,
            "count": 1
           },
           {
            "bin_start": 0.24307692307692305,
            "bin_end": 0.2942307692307692,
            "count": 2
           },
           {
            "bin_start": 0.2942307692307692,
            "bin_end": 0.34538461538461535,
            "count": 0
           },
           {
            "bin_start": 0.34538461538461535,
            "bin_end": 0.3965384615384615,
            "count": 0
           },
           {
            "bin_start": 0.3965384615384615,
            "bin_end": 0.44769230769230767,
            "count": 0
           },
           {
            "bin_start": 0.44769230769230767,
            "bin_end": 0.49884615384615383,
            "count": 0
           },
           {
            "bin_start": 0.49884615384615383,
            "bin_end": 0.55,
            "count": 1
           }
          ]
         }
        },
        {
         "name": "married_households_normalised",
         "dtype": "float64",
         "stats": {
          "unique_count": 5,
          "nan_count": 0,
          "min": "0.2",
          "max": "1.0",
          "histogram": [
           {
            "bin_start": 0.2,
            "bin_end": 0.28,
            "count": 1
           },
           {
            "bin_start": 0.28,
            "bin_end": 0.36,
            "count": 2
           },
           {
            "bin_start": 0.36,
            "bin_end": 0.44,
            "count": 0
           },
           {
            "bin_start": 0.44,
            "bin_end": 0.52,
            "count": 1
           },
           {
            "bin_start": 0.52,
            "bin_end": 0.6000000000000001,
            "count": 0
           },
           {
            "bin_start": 0.6000000000000001,
            "bin_end": 0.6799999999999999,
            "count": 0
           },
           {
            "bin_start": 0.6799999999999999,
            "bin_end": 0.76,
            "count": 0
           },
           {
            "bin_start": 0.76,
            "bin_end": 0.8400000000000001,
            "count": 0
           },
           {
            "bin_start": 0.8400000000000001,
            "bin_end": 0.9199999999999999,
            "count": 0
           },
           {
            "bin_start": 0.9199999999999999,
            "bin_end": 1,
            "count": 1
           }
          ]
         }
        },
        {
         "name": "nonfamily_households_normalised",
         "dtype": "float64",
         "stats": {
          "unique_count": 5,
          "nan_count": 0,
          "min": "0.0",
          "max": "0.7601139601139602",
          "histogram": [
           {
            "bin_start": 0,
            "bin_end": 0.07601139601139602,
            "count": 1
           },
           {
            "bin_start": 0.07601139601139602,
            "bin_end": 0.15202279202279204,
            "count": 0
           },
           {
            "bin_start": 0.15202279202279204,
            "bin_end": 0.22803418803418807,
            "count": 0
           },
           {
            "bin_start": 0.22803418803418807,
            "bin_end": 0.30404558404558407,
            "count": 0
           },
           {
            "bin_start": 0.30404558404558407,
            "bin_end": 0.3800569800569801,
            "count": 0
           },
           {
            "bin_start": 0.3800569800569801,
            "bin_end": 0.45606837606837614,
            "count": 2
           },
           {
            "bin_start": 0.45606837606837614,
            "bin_end": 0.5320797720797721,
            "count": 1
           },
           {
            "bin_start": 0.5320797720797721,
            "bin_end": 0.6080911680911681,
            "count": 0
           },
           {
            "bin_start": 0.6080911680911681,
            "bin_end": 0.6841025641025642,
            "count": 0
           },
           {
            "bin_start": 0.6841025641025642,
            "bin_end": 0.7601139601139602,
            "count": 1
           }
          ]
         }
        },
        {
         "name": "family_households_normalised",
         "dtype": "float64",
         "stats": {
          "unique_count": 5,
          "nan_count": 0,
          "min": "0.2398860398860398",
          "max": "1.0",
          "histogram": [
           {
            "bin_start": 0.2398860398860398,
            "bin_end": 0.3158974358974358,
            "count": 1
           },
           {
            "bin_start": 0.3158974358974358,
            "bin_end": 0.39190883190883186,
            "count": 0
           },
           {
            "bin_start": 0.39190883190883186,
            "bin_end": 0.46792022792022786,
            "count": 0
           },
           {
            "bin_start": 0.46792022792022786,
            "bin_end": 0.5439316239316239,
            "count": 1
           },
           {
            "bin_start": 0.5439316239316239,
            "bin_end": 0.6199430199430198,
            "count": 2
           },
           {
            "bin_start": 0.6199430199430198,
            "bin_end": 0.695954415954416,
            "count": 0
           },
           {
            "bin_start": 0.695954415954416,
            "bin_end": 0.7719658119658119,
            "count": 0
           },
           {
            "bin_start": 0.7719658119658119,
            "bin_end": 0.8479772079772079,
            "count": 0
           },
           {
            "bin_start": 0.8479772079772079,
            "bin_end": 0.923988603988604,
            "count": 0
           },
           {
            "bin_start": 0.923988603988604,
            "bin_end": 1,
            "count": 1
           }
          ]
         }
        },
        {
         "name": "occupied_housing_units_normalised",
         "dtype": "float64",
         "stats": {
          "unique_count": 5,
          "nan_count": 0,
          "min": "0.8871794871794871",
          "max": "1.0",
          "histogram": [
           {
            "bin_start": 0.8871794871794871,
            "bin_end": 0.8984615384615384,
            "count": 2
           },
           {
            "bin_start": 0.8984615384615384,
            "bin_end": 0.9097435897435897,
            "count": 0
           },
           {
            "bin_start": 0.9097435897435897,
            "bin_end": 0.921025641025641,
            "count": 0
           },
           {
            "bin_start": 0.921025641025641,
            "bin_end": 0.9323076923076923,
            "count": 0
           },
           {
            "bin_start": 0.9323076923076923,
            "bin_end": 0.9435897435897436,
            "count": 1
           },
           {
            "bin_start": 0.9435897435897436,
            "bin_end": 0.9548717948717949,
            "count": 0
           },
           {
            "bin_start": 0.9548717948717949,
            "bin_end": 0.9661538461538461,
            "count": 1
           },
           {
            "bin_start": 0.9661538461538461,
            "bin_end": 0.9774358974358974,
            "count": 0
           },
           {
            "bin_start": 0.9774358974358974,
            "bin_end": 0.9887179487179487,
            "count": 0
           },
           {
            "bin_start": 0.9887179487179487,
            "bin_end": 1,
            "count": 1
           }
          ]
         }
        },
        {
         "name": "housing_units_renter_occupied_normalised",
         "dtype": "float64",
         "stats": {
          "unique_count": 5,
          "nan_count": 0,
          "min": "0.3198113207547169",
          "max": "1.0",
          "histogram": [
           {
            "bin_start": 0.3198113207547169,
            "bin_end": 0.38783018867924524,
            "count": 1
           },
           {
            "bin_start": 0.38783018867924524,
            "bin_end": 0.4558490566037735,
            "count": 2
           },
           {
            "bin_start": 0.4558490566037735,
            "bin_end": 0.5238679245283018,
            "count": 1
           },
           {
            "bin_start": 0.5238679245283018,
            "bin_end": 0.5918867924528302,
            "count": 0
           },
           {
            "bin_start": 0.5918867924528302,
            "bin_end": 0.6599056603773585,
            "count": 0
           },
           {
            "bin_start": 0.6599056603773585,
            "bin_end": 0.7279245283018867,
            "count": 0
           },
           {
            "bin_start": 0.7279245283018867,
            "bin_end": 0.7959433962264151,
            "count": 0
           },
           {
            "bin_start": 0.7959433962264151,
            "bin_end": 0.8639622641509435,
            "count": 0
           },
           {
            "bin_start": 0.8639622641509435,
            "bin_end": 0.9319811320754716,
            "count": 0
           },
           {
            "bin_start": 0.9319811320754716,
            "bin_end": 1,
            "count": 1
           }
          ]
         }
        },
        {
         "name": "vacant_housing_units_normalised",
         "dtype": "float64",
         "stats": {
          "unique_count": 5,
          "nan_count": 0,
          "min": "0.0",
          "max": "0.1128205128205128",
          "histogram": [
           {
            "bin_start": 0,
            "bin_end": 0.01128205128205128,
            "count": 1
           },
           {
            "bin_start": 0.01128205128205128,
            "bin_end": 0.02256410256410256,
            "count": 0
           },
           {
            "bin_start": 0.02256410256410256,
            "bin_end": 0.03384615384615384,
            "count": 0
           },
           {
            "bin_start": 0.03384615384615384,
            "bin_end": 0.04512820512820512,
            "count": 1
           },
           {
            "bin_start": 0.04512820512820512,
            "bin_end": 0.0564102564102564,
            "count": 0
           },
           {
            "bin_start": 0.0564102564102564,
            "bin_end": 0.06769230769230768,
            "count": 1
           },
           {
            "bin_start": 0.06769230769230768,
            "bin_end": 0.07897435897435895,
            "count": 0
           },
           {
            "bin_start": 0.07897435897435895,
            "bin_end": 0.09025641025641024,
            "count": 0
           },
           {
            "bin_start": 0.09025641025641024,
            "bin_end": 0.10153846153846152,
            "count": 0
           },
           {
            "bin_start": 0.10153846153846152,
            "bin_end": 0.1128205128205128,
            "count": 2
           }
          ]
         }
        },
        {
         "name": "vacant_housing_units_for_rent_normalised",
         "dtype": "float64",
         "stats": {
          "unique_count": 5,
          "nan_count": 0,
          "min": "0.0",
          "max": "0.0351493848857645",
          "histogram": [
           {
            "bin_start": 0,
            "bin_end": 0.00351493848857645,
            "count": 1
           },
           {
            "bin_start": 0.00351493848857645,
            "bin_end": 0.0070298769771529,
            "count": 0
           },
           {
            "bin_start": 0.0070298769771529,
            "bin_end": 0.01054481546572935,
            "count": 0
           },
           {
            "bin_start": 0.01054481546572935,
            "bin_end": 0.0140597539543058,
            "count": 1
           },
           {
            "bin_start": 0.0140597539543058,
            "bin_end": 0.01757469244288225,
            "count": 1
           },
           {
            "bin_start": 0.01757469244288225,
            "bin_end": 0.0210896309314587,
            "count": 0
           },
           {
            "bin_start": 0.0210896309314587,
            "bin_end": 0.024604569420035152,
            "count": 0
           },
           {
            "bin_start": 0.024604569420035152,
            "bin_end": 0.0281195079086116,
            "count": 0
           },
           {
            "bin_start": 0.0281195079086116,
            "bin_end": 0.03163444639718805,
            "count": 0
           },
           {
            "bin_start": 0.03163444639718805,
            "bin_end": 0.0351493848857645,
            "count": 2
           }
          ]
         }
        },
        {
         "name": "vacant_housing_units_for_sale_normalised",
         "dtype": "float64",
         "stats": {
          "unique_count": 2,
          "nan_count": 0,
          "min": "0.0",
          "max": "0.020754716981132",
          "histogram": [
           {
            "bin_start": 0,
            "bin_end": 0.0020754716981132002,
            "count": 4
           },
           {
            "bin_start": 0.0020754716981132002,
            "bin_end": 0.0041509433962264005,
            "count": 0
           },
           {
            "bin_start": 0.0041509433962264005,
            "bin_end": 0.006226415094339601,
            "count": 0
           },
           {
            "bin_start": 0.006226415094339601,
            "bin_end": 0.008301886792452801,
            "count": 0
           },
           {
            "bin_start": 0.008301886792452801,
            "bin_end": 0.010377358490566,
            "count": 0
           },
           {
            "bin_start": 0.010377358490566,
            "bin_end": 0.012452830188679202,
            "count": 0
           },
           {
            "bin_start": 0.012452830188679202,
            "bin_end": 0.014528301886792402,
            "count": 0
           },
           {
            "bin_start": 0.014528301886792402,
            "bin_end": 0.016603773584905602,
            "count": 0
           },
           {
            "bin_start": 0.016603773584905602,
            "bin_end": 0.018679245283018803,
            "count": 0
           },
           {
            "bin_start": 0.018679245283018803,
            "bin_end": 0.020754716981132,
            "count": 1
           }
          ]
         }
        },
        {
         "name": "mobile_homes_normalised",
         "dtype": "float64",
         "stats": {
          "unique_count": 3,
          "nan_count": 0,
          "min": "0.0",
          "max": "0.0055668016194331",
          "histogram": [
           {
            "bin_start": 0,
            "bin_end": 0.00055668016194331,
            "count": 3
           },
           {
            "bin_start": 0.00055668016194331,
            "bin_end": 0.00111336032388662,
            "count": 0
           },
           {
            "bin_start": 0.00111336032388662,
            "bin_end": 0.0016700404858299301,
            "count": 0
           },
           {
            "bin_start": 0.0016700404858299301,
            "bin_end": 0.00222672064777324,
            "count": 0
           },
           {
            "bin_start": 0.00222672064777324,
            "bin_end": 0.00278340080971655,
            "count": 0
           },
           {
            "bin_start": 0.00278340080971655,
            "bin_end": 0.0033400809716598603,
            "count": 0
           },
           {
            "bin_start": 0.0033400809716598603,
            "bin_end": 0.0038967611336031705,
            "count": 1
           },
           {
            "bin_start": 0.0038967611336031705,
            "bin_end": 0.00445344129554648,
            "count": 0
           },
           {
            "bin_start": 0.00445344129554648,
            "bin_end": 0.00501012145748979,
            "count": 0
           },
           {
            "bin_start": 0.00501012145748979,
            "bin_end": 0.0055668016194331,
            "count": 1
           }
          ]
         }
        },
        {
         "name": "group_quarters_normalised",
         "dtype": "float64",
         "stats": {
          "unique_count": 3,
          "nan_count": 0,
          "min": "0.0",
          "max": "0.0035919540229885",
          "histogram": [
           {
            "bin_start": 0,
            "bin_end": 0.00035919540229885003,
            "count": 3
           },
           {
            "bin_start": 0.00035919540229885003,
            "bin_end": 0.0007183908045977001,
            "count": 0
           },
           {
            "bin_start": 0.0007183908045977001,
            "bin_end": 0.00107758620689655,
            "count": 0
           },
           {
            "bin_start": 0.00107758620689655,
            "bin_end": 0.0014367816091954001,
            "count": 1
           },
           {
            "bin_start": 0.0014367816091954001,
            "bin_end": 0.0017959770114942502,
            "count": 0
           },
           {
            "bin_start": 0.0017959770114942502,
            "bin_end": 0.0021551724137931,
            "count": 0
           },
           {
            "bin_start": 0.0021551724137931,
            "bin_end": 0.00251436781609195,
            "count": 0
           },
           {
            "bin_start": 0.00251436781609195,
            "bin_end": 0.0028735632183908002,
            "count": 0
           },
           {
            "bin_start": 0.0028735632183908002,
            "bin_end": 0.0032327586206896504,
            "count": 0
           },
           {
            "bin_start": 0.0032327586206896504,
            "bin_end": 0.0035919540229885,
            "count": 1
           }
          ]
         }
        },
        {
         "name": "housing_built_1939_or_earlier_normalised",
         "dtype": "float64",
         "stats": {
          "unique_count": 5,
          "nan_count": 0,
          "min": "0.0",
          "max": "0.1704745166959578",
          "histogram": [
           {
            "bin_start": 0,
            "bin_end": 0.01704745166959578,
            "count": 2
           },
           {
            "bin_start": 0.01704745166959578,
            "bin_end": 0.03409490333919156,
            "count": 0
           },
           {
            "bin_start": 0.03409490333919156,
            "bin_end": 0.05114235500878734,
            "count": 0
           },
           {
            "bin_start": 0.05114235500878734,
            "bin_end": 0.06818980667838312,
            "count": 0
           },
           {
            "bin_start": 0.06818980667838312,
            "bin_end": 0.0852372583479789,
            "count": 0
           },
           {
            "bin_start": 0.0852372583479789,
            "bin_end": 0.10228471001757468,
            "count": 1
           },
           {
            "bin_start": 0.10228471001757468,
            "bin_end": 0.11933216168717045,
            "count": 1
           },
           {
            "bin_start": 0.11933216168717045,
            "bin_end": 0.13637961335676624,
            "count": 0
           },
           {
            "bin_start": 0.13637961335676624,
            "bin_end": 0.15342706502636203,
            "count": 0
           },
           {
            "bin_start": 0.15342706502636203,
            "bin_end": 0.1704745166959578,
            "count": 1
           }
          ]
         }
        },
        {
         "name": "housing_built_2004_or_later_normalised",
         "dtype": "float64",
         "stats": {
          "unique_count": 5,
          "nan_count": 0,
          "min": "0.0",
          "max": "0.0718623481781376",
          "histogram": [
           {
            "bin_start": 0,
            "bin_end": 0.007186234817813759,
            "count": 1
           },
           {
            "bin_start": 0.007186234817813759,
            "bin_end": 0.014372469635627518,
            "count": 0
           },
           {
            "bin_start": 0.014372469635627518,
            "bin_end": 0.021558704453441276,
            "count": 0
           },
           {
            "bin_start": 0.021558704453441276,
            "bin_end": 0.028744939271255036,
            "count": 1
           },
           {
            "bin_start": 0.028744939271255036,
            "bin_end": 0.0359311740890688,
            "count": 1
           },
           {
            "bin_start": 0.0359311740890688,
            "bin_end": 0.04311740890688255,
            "count": 0
           },
           {
            "bin_start": 0.04311740890688255,
            "bin_end": 0.05030364372469631,
            "count": 1
           },
           {
            "bin_start": 0.05030364372469631,
            "bin_end": 0.05748987854251007,
            "count": 0
           },
           {
            "bin_start": 0.05748987854251007,
            "bin_end": 0.06467611336032383,
            "count": 0
           },
           {
            "bin_start": 0.06467611336032383,
            "bin_end": 0.0718623481781376,
            "count": 1
           }
          ]
         }
        },
        {
         "name": "children_in_single_female_hh_normalised",
         "dtype": "float64",
         "stats": {
          "unique_count": 5,
          "nan_count": 0,
          "min": "0.0",
          "max": "0.4152380952380952",
          "histogram": [
           {
            "bin_start": 0,
            "bin_end": 0.04152380952380952,
            "count": 1
           },
           {
            "bin_start": 0.04152380952380952,
            "bin_end": 0.08304761904761904,
            "count": 0
           },
           {
            "bin_start": 0.08304761904761904,
            "bin_end": 0.12457142857142856,
            "count": 0
           },
           {
            "bin_start": 0.12457142857142856,
            "bin_end": 0.16609523809523807,
            "count": 1
           },
           {
            "bin_start": 0.16609523809523807,
            "bin_end": 0.2076190476190476,
            "count": 0
           },
           {
            "bin_start": 0.2076190476190476,
            "bin_end": 0.2491428571428571,
            "count": 1
           },
           {
            "bin_start": 0.2491428571428571,
            "bin_end": 0.29066666666666663,
            "count": 1
           },
           {
            "bin_start": 0.29066666666666663,
            "bin_end": 0.33219047619047615,
            "count": 0
           },
           {
            "bin_start": 0.33219047619047615,
            "bin_end": 0.37371428571428567,
            "count": 0
           },
           {
            "bin_start": 0.37371428571428567,
            "bin_end": 0.4152380952380952,
            "count": 1
           }
          ]
         }
        },
        {
         "name": "rent_burden_not_computed_normalised",
         "dtype": "float64",
         "stats": {
          "unique_count": 5,
          "nan_count": 0,
          "min": "0.0123022847100175",
          "max": "1.0",
          "histogram": [
           {
            "bin_start": 0.0123022847100175,
            "bin_end": 0.11107205623901575,
            "count": 4
           },
           {
            "bin_start": 0.11107205623901575,
            "bin_end": 0.20984182776801402,
            "count": 0
           },
           {
            "bin_start": 0.20984182776801402,
            "bin_end": 0.30861159929701226,
            "count": 0
           },
           {
            "bin_start": 0.30861159929701226,
            "bin_end": 0.4073813708260105,
            "count": 0
           },
           {
            "bin_start": 0.4073813708260105,
            "bin_end": 0.5061511423550088,
            "count": 0
           },
           {
            "bin_start": 0.5061511423550088,
            "bin_end": 0.604920913884007,
            "count": 0
           },
           {
            "bin_start": 0.604920913884007,
            "bin_end": 0.7036906854130053,
            "count": 0
           },
           {
            "bin_start": 0.7036906854130053,
            "bin_end": 0.8024604569420035,
            "count": 0
           },
           {
            "bin_start": 0.8024604569420035,
            "bin_end": 0.9012302284710018,
            "count": 0
           },
           {
            "bin_start": 0.9012302284710018,
            "bin_end": 1,
            "count": 1
           }
          ]
         }
        },
        {
         "name": "rent_under_30_percent_normalised",
         "dtype": "float64",
         "stats": {
          "unique_count": 5,
          "nan_count": 0,
          "min": "0.0",
          "max": "0.281195079086116",
          "histogram": [
           {
            "bin_start": 0,
            "bin_end": 0.0281195079086116,
            "count": 1
           },
           {
            "bin_start": 0.0281195079086116,
            "bin_end": 0.0562390158172232,
            "count": 0
           },
           {
            "bin_start": 0.0562390158172232,
            "bin_end": 0.0843585237258348,
            "count": 0
           },
           {
            "bin_start": 0.0843585237258348,
            "bin_end": 0.1124780316344464,
            "count": 0
           },
           {
            "bin_start": 0.1124780316344464,
            "bin_end": 0.140597539543058,
            "count": 1
           },
           {
            "bin_start": 0.140597539543058,
            "bin_end": 0.1687170474516696,
            "count": 0
           },
           {
            "bin_start": 0.1687170474516696,
            "bin_end": 0.19683655536028122,
            "count": 0
           },
           {
            "bin_start": 0.19683655536028122,
            "bin_end": 0.2249560632688928,
            "count": 0
           },
           {
            "bin_start": 0.2249560632688928,
            "bin_end": 0.2530755711775044,
            "count": 1
           },
           {
            "bin_start": 0.2530755711775044,
            "bin_end": 0.281195079086116,
            "count": 2
           }
          ]
         }
        },
        {
         "name": "rent_30_to_50_percent_normalised",
         "dtype": "float64",
         "stats": {
          "unique_count": 5,
          "nan_count": 0,
          "min": "0.0",
          "max": "0.0774291497975708",
          "histogram": [
           {
            "bin_start": 0,
            "bin_end": 0.00774291497975708,
            "count": 1
           },
           {
            "bin_start": 0.00774291497975708,
            "bin_end": 0.01548582995951416,
            "count": 0
           },
           {
            "bin_start": 0.01548582995951416,
            "bin_end": 0.02322874493927124,
            "count": 0
           },
           {
            "bin_start": 0.02322874493927124,
            "bin_end": 0.03097165991902832,
            "count": 0
           },
           {
            "bin_start": 0.03097165991902832,
            "bin_end": 0.0387145748987854,
            "count": 0
           },
           {
            "bin_start": 0.0387145748987854,
            "bin_end": 0.04645748987854248,
            "count": 0
           },
           {
            "bin_start": 0.04645748987854248,
            "bin_end": 0.054200404858299564,
            "count": 0
           },
           {
            "bin_start": 0.054200404858299564,
            "bin_end": 0.06194331983805664,
            "count": 2
           },
           {
            "bin_start": 0.06194331983805664,
            "bin_end": 0.06968623481781372,
            "count": 1
           },
           {
            "bin_start": 0.06968623481781372,
            "bin_end": 0.0774291497975708,
            "count": 1
           }
          ]
         }
        },
        {
         "name": "rent_over_50_percent_normalised",
         "dtype": "float64",
         "stats": {
          "unique_count": 5,
          "nan_count": 0,
          "min": "0.0",
          "max": "0.1625659050966608",
          "histogram": [
           {
            "bin_start": 0,
            "bin_end": 0.01625659050966608,
            "count": 1
           },
           {
            "bin_start": 0.01625659050966608,
            "bin_end": 0.03251318101933216,
            "count": 0
           },
           {
            "bin_start": 0.03251318101933216,
            "bin_end": 0.048769771528998244,
            "count": 0
           },
           {
            "bin_start": 0.048769771528998244,
            "bin_end": 0.06502636203866433,
            "count": 1
           },
           {
            "bin_start": 0.06502636203866433,
            "bin_end": 0.0812829525483304,
            "count": 0
           },
           {
            "bin_start": 0.0812829525483304,
            "bin_end": 0.09753954305799649,
            "count": 0
           },
           {
            "bin_start": 0.09753954305799649,
            "bin_end": 0.11379613356766258,
            "count": 1
           },
           {
            "bin_start": 0.11379613356766258,
            "bin_end": 0.13005272407732865,
            "count": 1
           },
           {
            "bin_start": 0.13005272407732865,
            "bin_end": 0.14630931458699473,
            "count": 0
           },
           {
            "bin_start": 0.14630931458699473,
            "bin_end": 0.1625659050966608,
            "count": 1
           }
          ]
         }
        },
        {
         "name": "aggregate_travel_time_to_work_normalised",
         "dtype": "float64",
         "stats": {
          "unique_count": 3,
          "nan_count": 2,
          "min": "20.03219871205152",
          "max": "27.555728356661483",
          "histogram": [
           {
            "bin_start": 20.03219871205152,
            "bin_end": 20.784551676512518,
            "count": 1
           },
           {
            "bin_start": 20.784551676512518,
            "bin_end": 21.536904640973514,
            "count": 1
           },
           {
            "bin_start": 21.536904640973514,
            "bin_end": 22.28925760543451,
            "count": 0
           },
           {
            "bin_start": 22.28925760543451,
            "bin_end": 23.041610569895507,
            "count": 0
           },
           {
            "bin_start": 23.041610569895507,
            "bin_end": 23.7939635343565,
            "count": 0
           },
           {
            "bin_start": 23.7939635343565,
            "bin_end": 24.546316498817497,
            "count": 0
           },
           {
            "bin_start": 24.546316498817497,
            "bin_end": 25.298669463278493,
            "count": 0
           },
           {
            "bin_start": 25.298669463278493,
            "bin_end": 26.05102242773949,
            "count": 0
           },
           {
            "bin_start": 26.05102242773949,
            "bin_end": 26.803375392200486,
            "count": 0
           },
           {
            "bin_start": 26.803375392200486,
            "bin_end": 27.555728356661483,
            "count": 1
           }
          ]
         }
        },
        {
         "name": "walked_to_work_normalised",
         "dtype": "float64",
         "stats": {
          "unique_count": 5,
          "nan_count": 0,
          "min": "0.0",
          "max": "0.0216931216931216",
          "histogram": [
           {
            "bin_start": 0,
            "bin_end": 0.0021693121693121603,
            "count": 1
           },
           {
            "bin_start": 0.0021693121693121603,
            "bin_end": 0.0043386243386243206,
            "count": 1
           },
           {
            "bin_start": 0.0043386243386243206,
            "bin_end": 0.006507936507936481,
            "count": 0
           },
           {
            "bin_start": 0.006507936507936481,
            "bin_end": 0.008677248677248641,
            "count": 0
           },
           {
            "bin_start": 0.008677248677248641,
            "bin_end": 0.010846560846560802,
            "count": 1
           },
           {
            "bin_start": 0.010846560846560802,
            "bin_end": 0.013015873015872962,
            "count": 0
           },
           {
            "bin_start": 0.013015873015872962,
            "bin_end": 0.015185185185185121,
            "count": 0
           },
           {
            "bin_start": 0.015185185185185121,
            "bin_end": 0.017354497354497282,
            "count": 0
           },
           {
            "bin_start": 0.017354497354497282,
            "bin_end": 0.019523809523809443,
            "count": 0
           },
           {
            "bin_start": 0.019523809523809443,
            "bin_end": 0.0216931216931216,
            "count": 2
           }
          ]
         }
        },
        {
         "name": "worked_at_home_normalised",
         "dtype": "float64",
         "stats": {
          "unique_count": 5,
          "nan_count": 0,
          "min": "0.0",
          "max": "0.123006833712984",
          "histogram": [
           {
            "bin_start": 0,
            "bin_end": 0.0123006833712984,
            "count": 1
           },
           {
            "bin_start": 0.0123006833712984,
            "bin_end": 0.0246013667425968,
            "count": 1
           },
           {
            "bin_start": 0.0246013667425968,
            "bin_end": 0.0369020501138952,
            "count": 0
           },
           {
            "bin_start": 0.0369020501138952,
            "bin_end": 0.0492027334851936,
            "count": 0
           },
           {
            "bin_start": 0.0492027334851936,
            "bin_end": 0.061503416856492,
            "count": 1
           },
           {
            "bin_start": 0.061503416856492,
            "bin_end": 0.0738041002277904,
            "count": 1
           },
           {
            "bin_start": 0.0738041002277904,
            "bin_end": 0.0861047835990888,
            "count": 0
           },
           {
            "bin_start": 0.0861047835990888,
            "bin_end": 0.0984054669703872,
            "count": 0
           },
           {
            "bin_start": 0.0984054669703872,
            "bin_end": 0.1107061503416856,
            "count": 0
           },
           {
            "bin_start": 0.1107061503416856,
            "bin_end": 0.123006833712984,
            "count": 1
           }
          ]
         }
        },
        {
         "name": "no_car_normalised",
         "dtype": "float64",
         "stats": {
          "unique_count": 5,
          "nan_count": 0,
          "min": "0.0",
          "max": "0.0668740279937791",
          "histogram": [
           {
            "bin_start": 0,
            "bin_end": 0.0066874027993779105,
            "count": 1
           },
           {
            "bin_start": 0.0066874027993779105,
            "bin_end": 0.013374805598755821,
            "count": 1
           },
           {
            "bin_start": 0.013374805598755821,
            "bin_end": 0.020062208398133732,
            "count": 0
           },
           {
            "bin_start": 0.020062208398133732,
            "bin_end": 0.026749611197511642,
            "count": 0
           },
           {
            "bin_start": 0.026749611197511642,
            "bin_end": 0.03343701399688955,
            "count": 1
           },
           {
            "bin_start": 0.03343701399688955,
            "bin_end": 0.040124416796267465,
            "count": 1
           },
           {
            "bin_start": 0.040124416796267465,
            "bin_end": 0.04681181959564537,
            "count": 0
           },
           {
            "bin_start": 0.04681181959564537,
            "bin_end": 0.053499222395023284,
            "count": 0
           },
           {
            "bin_start": 0.053499222395023284,
            "bin_end": 0.0601866251944012,
            "count": 0
           },
           {
            "bin_start": 0.0601866251944012,
            "bin_end": 0.0668740279937791,
            "count": 1
           }
          ]
         }
        },
        {
         "name": "no_cars_normalised",
         "dtype": "float64",
         "stats": {
          "unique_count": 5,
          "nan_count": 0,
          "min": "0.0",
          "max": "0.1062124248496994",
          "histogram": [
           {
            "bin_start": 0,
            "bin_end": 0.010621242484969939,
            "count": 1
           },
           {
            "bin_start": 0.010621242484969939,
            "bin_end": 0.021242484969939877,
            "count": 0
           },
           {
            "bin_start": 0.021242484969939877,
            "bin_end": 0.03186372745490981,
            "count": 0
           },
           {
            "bin_start": 0.03186372745490981,
            "bin_end": 0.042484969939879755,
            "count": 0
           },
           {
            "bin_start": 0.042484969939879755,
            "bin_end": 0.0531062124248497,
            "count": 1
           },
           {
            "bin_start": 0.0531062124248497,
            "bin_end": 0.06372745490981963,
            "count": 0
           },
           {
            "bin_start": 0.06372745490981963,
            "bin_end": 0.07434869739478957,
            "count": 1
           },
           {
            "bin_start": 0.07434869739478957,
            "bin_end": 0.08496993987975951,
            "count": 0
           },
           {
            "bin_start": 0.08496993987975951,
            "bin_end": 0.09559118236472945,
            "count": 1
           },
           {
            "bin_start": 0.09559118236472945,
            "bin_end": 0.1062124248496994,
            "count": 1
           }
          ]
         }
        },
        {
         "name": "one_or_more_cars_normalised",
         "dtype": "float64",
         "stats": {
          "unique_count": 5,
          "nan_count": 0,
          "min": "0.8937875751503006",
          "max": "1.0",
          "histogram": [
           {
            "bin_start": 0.8937875751503006,
            "bin_end": 0.9044088176352706,
            "count": 1
           },
           {
            "bin_start": 0.9044088176352706,
            "bin_end": 0.9150300601202405,
            "count": 1
           },
           {
            "bin_start": 0.9150300601202405,
            "bin_end": 0.9256513026052104,
            "count": 0
           },
           {
            "bin_start": 0.9256513026052104,
            "bin_end": 0.9362725450901803,
            "count": 1
           },
           {
            "bin_start": 0.9362725450901803,
            "bin_end": 0.9468937875751503,
            "count": 0
           },
           {
            "bin_start": 0.9468937875751503,
            "bin_end": 0.9575150300601203,
            "count": 1
           },
           {
            "bin_start": 0.9575150300601203,
            "bin_end": 0.9681362725450902,
            "count": 0
           },
           {
            "bin_start": 0.9681362725450902,
            "bin_end": 0.9787575150300601,
            "count": 0
           },
           {
            "bin_start": 0.9787575150300601,
            "bin_end": 0.98937875751503,
            "count": 0
           },
           {
            "bin_start": 0.98937875751503,
            "bin_end": 1,
            "count": 1
           }
          ]
         }
        },
        {
         "name": "commuters_by_subway_or_elevated_normalised",
         "dtype": "float64",
         "stats": {
          "unique_count": 2,
          "nan_count": 0,
          "min": "0.0",
          "max": "0.0105820105820105",
          "histogram": [
           {
            "bin_start": 0,
            "bin_end": 0.00105820105820105,
            "count": 4
           },
           {
            "bin_start": 0.00105820105820105,
            "bin_end": 0.0021164021164021,
            "count": 0
           },
           {
            "bin_start": 0.0021164021164021,
            "bin_end": 0.0031746031746031503,
            "count": 0
           },
           {
            "bin_start": 0.0031746031746031503,
            "bin_end": 0.0042328042328042,
            "count": 0
           },
           {
            "bin_start": 0.0042328042328042,
            "bin_end": 0.00529100529100525,
            "count": 0
           },
           {
            "bin_start": 0.00529100529100525,
            "bin_end": 0.006349206349206301,
            "count": 0
           },
           {
            "bin_start": 0.006349206349206301,
            "bin_end": 0.0074074074074073504,
            "count": 0
           },
           {
            "bin_start": 0.0074074074074073504,
            "bin_end": 0.0084656084656084,
            "count": 0
           },
           {
            "bin_start": 0.0084656084656084,
            "bin_end": 0.00952380952380945,
            "count": 0
           },
           {
            "bin_start": 0.00952380952380945,
            "bin_end": 0.0105820105820105,
            "count": 1
           }
          ]
         }
        },
        {
         "name": "commuters_by_bus_normalised",
         "dtype": "float64",
         "stats": {
          "unique_count": 4,
          "nan_count": 0,
          "min": "0.0",
          "max": "0.0648004147226542",
          "histogram": [
           {
            "bin_start": 0,
            "bin_end": 0.00648004147226542,
            "count": 2
           },
           {
            "bin_start": 0.00648004147226542,
            "bin_end": 0.01296008294453084,
            "count": 0
           },
           {
            "bin_start": 0.01296008294453084,
            "bin_end": 0.01944012441679626,
            "count": 1
           },
           {
            "bin_start": 0.01944012441679626,
            "bin_end": 0.02592016588906168,
            "count": 0
           },
           {
            "bin_start": 0.02592016588906168,
            "bin_end": 0.0324002073613271,
            "count": 0
           },
           {
            "bin_start": 0.0324002073613271,
            "bin_end": 0.03888024883359252,
            "count": 1
           },
           {
            "bin_start": 0.03888024883359252,
            "bin_end": 0.04536029030585794,
            "count": 0
           },
           {
            "bin_start": 0.04536029030585794,
            "bin_end": 0.05184033177812336,
            "count": 0
           },
           {
            "bin_start": 0.05184033177812336,
            "bin_end": 0.05832037325038878,
            "count": 0
           },
           {
            "bin_start": 0.05832037325038878,
            "bin_end": 0.0648004147226542,
            "count": 1
           }
          ]
         }
        },
        {
         "name": "commuters_personal_transport_normalised",
         "dtype": "float64",
         "stats": {
          "unique_count": 5,
          "nan_count": 0,
          "min": "1.5474563401670465",
          "max": "2.0",
          "histogram": [
           {
            "bin_start": 1.5474563401670465,
            "bin_end": 1.5927107061503418,
            "count": 1
           },
           {
            "bin_start": 1.5927107061503418,
            "bin_end": 1.6379650721336372,
            "count": 1
           },
           {
            "bin_start": 1.6379650721336372,
            "bin_end": 1.6832194381169325,
            "count": 2
           },
           {
            "bin_start": 1.6832194381169325,
            "bin_end": 1.7284738041002279,
            "count": 0
           },
           {
            "bin_start": 1.7284738041002279,
            "bin_end": 1.7737281700835232,
            "count": 0
           },
           {
            "bin_start": 1.7737281700835232,
            "bin_end": 1.8189825360668186,
            "count": 0
           },
           {
            "bin_start": 1.8189825360668186,
            "bin_end": 1.864236902050114,
            "count": 0
           },
           {
            "bin_start": 1.864236902050114,
            "bin_end": 1.9094912680334093,
            "count": 0
           },
           {
            "bin_start": 1.9094912680334093,
            "bin_end": 1.9547456340167046,
            "count": 0
           },
           {
            "bin_start": 1.9547456340167046,
            "bin_end": 2,
            "count": 1
           }
          ]
         }
        },
        {
         "name": "education_high_school_or_less_normalised",
         "dtype": "float64",
         "stats": {
          "unique_count": 5,
          "nan_count": 0,
          "min": "0.0424710424710424",
          "max": "0.7",
          "histogram": [
           {
            "bin_start": 0.0424710424710424,
            "bin_end": 0.10822393822393815,
            "count": 2
           },
           {
            "bin_start": 0.10822393822393815,
            "bin_end": 0.1739768339768339,
            "count": 0
           },
           {
            "bin_start": 0.1739768339768339,
            "bin_end": 0.23972972972972967,
            "count": 0
           },
           {
            "bin_start": 0.23972972972972967,
            "bin_end": 0.3054826254826254,
            "count": 0
           },
           {
            "bin_start": 0.3054826254826254,
            "bin_end": 0.37123552123552117,
            "count": 1
           },
           {
            "bin_start": 0.37123552123552117,
            "bin_end": 0.4369884169884169,
            "count": 0
           },
           {
            "bin_start": 0.4369884169884169,
            "bin_end": 0.5027413127413126,
            "count": 0
           },
           {
            "bin_start": 0.5027413127413126,
            "bin_end": 0.5684942084942084,
            "count": 0
           },
           {
            "bin_start": 0.5684942084942084,
            "bin_end": 0.6342471042471042,
            "count": 0
           },
           {
            "bin_start": 0.6342471042471042,
            "bin_end": 0.7,
            "count": 2
           }
          ]
         }
        },
        {
         "name": "education_less_than_bachelors_normalised",
         "dtype": "float64",
         "stats": {
          "unique_count": 5,
          "nan_count": 0,
          "min": "0.0",
          "max": "0.4378591954022988",
          "histogram": [
           {
            "bin_start": 0,
            "bin_end": 0.04378591954022988,
            "count": 1
           },
           {
            "bin_start": 0.04378591954022988,
            "bin_end": 0.08757183908045976,
            "count": 0
           },
           {
            "bin_start": 0.08757183908045976,
            "bin_end": 0.13135775862068966,
            "count": 0
           },
           {
            "bin_start": 0.13135775862068966,
            "bin_end": 0.17514367816091952,
            "count": 0
           },
           {
            "bin_start": 0.17514367816091952,
            "bin_end": 0.2189295977011494,
            "count": 1
           },
           {
            "bin_start": 0.2189295977011494,
            "bin_end": 0.2627155172413793,
            "count": 0
           },
           {
            "bin_start": 0.2627155172413793,
            "bin_end": 0.3065014367816092,
            "count": 1
           },
           {
            "bin_start": 0.3065014367816092,
            "bin_end": 0.35028735632183905,
            "count": 1
           },
           {
            "bin_start": 0.35028735632183905,
            "bin_end": 0.3940732758620689,
            "count": 0
           },
           {
            "bin_start": 0.3940732758620689,
            "bin_end": 0.4378591954022988,
            "count": 1
           }
          ]
         }
        },
        {
         "name": "education_bachelors_degree_normalised",
         "dtype": "float64",
         "stats": {
          "unique_count": 5,
          "nan_count": 0,
          "min": "0.0",
          "max": "0.7417582417582418",
          "histogram": [
           {
            "bin_start": 0,
            "bin_end": 0.07417582417582418,
            "count": 2
           },
           {
            "bin_start": 0.07417582417582418,
            "bin_end": 0.14835164835164835,
            "count": 0
           },
           {
            "bin_start": 0.14835164835164835,
            "bin_end": 0.22252747252747251,
            "count": 0
           },
           {
            "bin_start": 0.22252747252747251,
            "bin_end": 0.2967032967032967,
            "count": 0
           },
           {
            "bin_start": 0.2967032967032967,
            "bin_end": 0.3708791208791209,
            "count": 1
           },
           {
            "bin_start": 0.3708791208791209,
            "bin_end": 0.44505494505494503,
            "count": 0
           },
           {
            "bin_start": 0.44505494505494503,
            "bin_end": 0.5192307692307693,
            "count": 0
           },
           {
            "bin_start": 0.5192307692307693,
            "bin_end": 0.5934065934065934,
            "count": 0
           },
           {
            "bin_start": 0.5934065934065934,
            "bin_end": 0.6675824175824175,
            "count": 0
           },
           {
            "bin_start": 0.6675824175824175,
            "bin_end": 0.7417582417582418,
            "count": 2
           }
          ]
         }
        },
        {
         "name": "education_graduate_degree_normalised",
         "dtype": "float64",
         "stats": {
          "unique_count": 5,
          "nan_count": 0,
          "min": "0.0",
          "max": "0.4709576138147566",
          "histogram": [
           {
            "bin_start": 0,
            "bin_end": 0.047095761381475656,
            "count": 2
           },
           {
            "bin_start": 0.047095761381475656,
            "bin_end": 0.09419152276295131,
            "count": 0
           },
           {
            "bin_start": 0.09419152276295131,
            "bin_end": 0.14128728414442698,
            "count": 0
           },
           {
            "bin_start": 0.14128728414442698,
            "bin_end": 0.18838304552590263,
            "count": 1
           },
           {
            "bin_start": 0.18838304552590263,
            "bin_end": 0.23547880690737827,
            "count": 0
           },
           {
            "bin_start": 0.23547880690737827,
            "bin_end": 0.28257456828885397,
            "count": 0
           },
           {
            "bin_start": 0.28257456828885397,
            "bin_end": 0.3296703296703296,
            "count": 0
           },
           {
            "bin_start": 0.3296703296703296,
            "bin_end": 0.37676609105180525,
            "count": 1
           },
           {
            "bin_start": 0.37676609105180525,
            "bin_end": 0.4238618524332809,
            "count": 0
           },
           {
            "bin_start": 0.4238618524332809,
            "bin_end": 0.4709576138147566,
            "count": 1
           }
          ]
         }
        },
        {
         "name": "income_less_14999_normalised",
         "dtype": "float64",
         "stats": {
          "unique_count": 5,
          "nan_count": 0,
          "min": "0.0",
          "max": "0.2109218436873747",
          "histogram": [
           {
            "bin_start": 0,
            "bin_end": 0.02109218436873747,
            "count": 1
           },
           {
            "bin_start": 0.02109218436873747,
            "bin_end": 0.04218436873747494,
            "count": 1
           },
           {
            "bin_start": 0.04218436873747494,
            "bin_end": 0.06327655310621241,
            "count": 1
           },
           {
            "bin_start": 0.06327655310621241,
            "bin_end": 0.08436873747494988,
            "count": 0
           },
           {
            "bin_start": 0.08436873747494988,
            "bin_end": 0.10546092184368736,
            "count": 0
           },
           {
            "bin_start": 0.10546092184368736,
            "bin_end": 0.12655310621242483,
            "count": 1
           },
           {
            "bin_start": 0.12655310621242483,
            "bin_end": 0.1476452905811623,
            "count": 0
           },
           {
            "bin_start": 0.1476452905811623,
            "bin_end": 0.16873747494989977,
            "count": 0
           },
           {
            "bin_start": 0.16873747494989977,
            "bin_end": 0.18982965931863724,
            "count": 0
           },
           {
            "bin_start": 0.18982965931863724,
            "bin_end": 0.2109218436873747,
            "count": 1
           }
          ]
         }
        },
        {
         "name": "income_15000_24999_normalised",
         "dtype": "float64",
         "stats": {
          "unique_count": 5,
          "nan_count": 0,
          "min": "0.0",
          "max": "0.2434869739478957",
          "histogram": [
           {
            "bin_start": 0,
            "bin_end": 0.02434869739478957,
            "count": 1
           },
           {
            "bin_start": 0.02434869739478957,
            "bin_end": 0.04869739478957914,
            "count": 1
           },
           {
            "bin_start": 0.04869739478957914,
            "bin_end": 0.07304609218436872,
            "count": 0
           },
           {
            "bin_start": 0.07304609218436872,
            "bin_end": 0.09739478957915829,
            "count": 1
           },
           {
            "bin_start": 0.09739478957915829,
            "bin_end": 0.12174348697394785,
            "count": 1
           },
           {
            "bin_start": 0.12174348697394785,
            "bin_end": 0.14609218436873744,
            "count": 0
           },
           {
            "bin_start": 0.14609218436873744,
            "bin_end": 0.170440881763527,
            "count": 0
           },
           {
            "bin_start": 0.170440881763527,
            "bin_end": 0.19478957915831657,
            "count": 0
           },
           {
            "bin_start": 0.19478957915831657,
            "bin_end": 0.21913827655310614,
            "count": 0
           },
           {
            "bin_start": 0.21913827655310614,
            "bin_end": 0.2434869739478957,
            "count": 1
           }
          ]
         }
        },
        {
         "name": "income_25000_34999_normalised",
         "dtype": "float64",
         "stats": {
          "unique_count": 5,
          "nan_count": 0,
          "min": "0.0",
          "max": "0.1297595190380761",
          "histogram": [
           {
            "bin_start": 0,
            "bin_end": 0.012975951903807608,
            "count": 1
           },
           {
            "bin_start": 0.012975951903807608,
            "bin_end": 0.025951903807615216,
            "count": 0
           },
           {
            "bin_start": 0.025951903807615216,
            "bin_end": 0.03892785571142282,
            "count": 2
           },
           {
            "bin_start": 0.03892785571142282,
            "bin_end": 0.05190380761523043,
            "count": 0
           },
           {
            "bin_start": 0.05190380761523043,
            "bin_end": 0.06487975951903804,
            "count": 0
           },
           {
            "bin_start": 0.06487975951903804,
            "bin_end": 0.07785571142284564,
            "count": 0
           },
           {
            "bin_start": 0.07785571142284564,
            "bin_end": 0.09083166332665325,
            "count": 1
           },
           {
            "bin_start": 0.09083166332665325,
            "bin_end": 0.10380761523046086,
            "count": 0
           },
           {
            "bin_start": 0.10380761523046086,
            "bin_end": 0.11678356713426848,
            "count": 0
           },
           {
            "bin_start": 0.11678356713426848,
            "bin_end": 0.1297595190380761,
            "count": 1
           }
          ]
         }
        },
        {
         "name": "income_35000_59999_normalised",
         "dtype": "float64",
         "stats": {
          "unique_count": 5,
          "nan_count": 0,
          "min": "0.145719489981785",
          "max": "1.0",
          "histogram": [
           {
            "bin_start": 0.145719489981785,
            "bin_end": 0.23114754098360651,
            "count": 2
           },
           {
            "bin_start": 0.23114754098360651,
            "bin_end": 0.316575591985428,
            "count": 2
           },
           {
            "bin_start": 0.316575591985428,
            "bin_end": 0.40200364298724955,
            "count": 0
           },
           {
            "bin_start": 0.40200364298724955,
            "bin_end": 0.48743169398907105,
            "count": 0
           },
           {
            "bin_start": 0.48743169398907105,
            "bin_end": 0.5728597449908925,
            "count": 0
           },
           {
            "bin_start": 0.5728597449908925,
            "bin_end": 0.658287795992714,
            "count": 0
           },
           {
            "bin_start": 0.658287795992714,
            "bin_end": 0.7437158469945355,
            "count": 0
           },
           {
            "bin_start": 0.7437158469945355,
            "bin_end": 0.829143897996357,
            "count": 0
           },
           {
            "bin_start": 0.829143897996357,
            "bin_end": 0.9145719489981785,
            "count": 0
           },
           {
            "bin_start": 0.9145719489981785,
            "bin_end": 1,
            "count": 1
           }
          ]
         }
        },
        {
         "name": "income_60000_99999_normalised",
         "dtype": "float64",
         "stats": {
          "unique_count": 5,
          "nan_count": 0,
          "min": "0.0",
          "max": "0.2911680911680911",
          "histogram": [
           {
            "bin_start": 0,
            "bin_end": 0.02911680911680911,
            "count": 1
           },
           {
            "bin_start": 0.02911680911680911,
            "bin_end": 0.05823361823361822,
            "count": 0
           },
           {
            "bin_start": 0.05823361823361822,
            "bin_end": 0.08735042735042733,
            "count": 0
           },
           {
            "bin_start": 0.08735042735042733,
            "bin_end": 0.11646723646723645,
            "count": 0
           },
           {
            "bin_start": 0.11646723646723645,
            "bin_end": 0.14558404558404556,
            "count": 1
           },
           {
            "bin_start": 0.14558404558404556,
            "bin_end": 0.17470085470085467,
            "count": 1
           },
           {
            "bin_start": 0.17470085470085467,
            "bin_end": 0.20381766381766378,
            "count": 1
           },
           {
            "bin_start": 0.20381766381766378,
            "bin_end": 0.2329344729344729,
            "count": 0
           },
           {
            "bin_start": 0.2329344729344729,
            "bin_end": 0.26205128205128203,
            "count": 0
           },
           {
            "bin_start": 0.26205128205128203,
            "bin_end": 0.2911680911680911,
            "count": 1
           }
          ]
         }
        },
        {
         "name": "income_100000_199999_normalised",
         "dtype": "float64",
         "stats": {
          "unique_count": 5,
          "nan_count": 0,
          "min": "0.0",
          "max": "0.2837606837606837",
          "histogram": [
           {
            "bin_start": 0,
            "bin_end": 0.028376068376068368,
            "count": 2
           },
           {
            "bin_start": 0.028376068376068368,
            "bin_end": 0.056752136752136736,
            "count": 0
           },
           {
            "bin_start": 0.056752136752136736,
            "bin_end": 0.0851282051282051,
            "count": 0
           },
           {
            "bin_start": 0.0851282051282051,
            "bin_end": 0.11350427350427347,
            "count": 0
           },
           {
            "bin_start": 0.11350427350427347,
            "bin_end": 0.14188034188034185,
            "count": 0
           },
           {
            "bin_start": 0.14188034188034185,
            "bin_end": 0.1702564102564102,
            "count": 0
           },
           {
            "bin_start": 0.1702564102564102,
            "bin_end": 0.19863247863247857,
            "count": 0
           },
           {
            "bin_start": 0.19863247863247857,
            "bin_end": 0.22700854700854695,
            "count": 1
           },
           {
            "bin_start": 0.22700854700854695,
            "bin_end": 0.2553846153846153,
            "count": 1
           },
           {
            "bin_start": 0.2553846153846153,
            "bin_end": 0.2837606837606837,
            "count": 1
           }
          ]
         }
        },
        {
         "name": "income_200000_or_more_normalised",
         "dtype": "float64",
         "stats": {
          "unique_count": 4,
          "nan_count": 0,
          "min": "0.0",
          "max": "0.2714025500910746",
          "histogram": [
           {
            "bin_start": 0,
            "bin_end": 0.02714025500910746,
            "count": 2
           },
           {
            "bin_start": 0.02714025500910746,
            "bin_end": 0.05428051001821492,
            "count": 0
           },
           {
            "bin_start": 0.05428051001821492,
            "bin_end": 0.08142076502732237,
            "count": 0
           },
           {
            "bin_start": 0.08142076502732237,
            "bin_end": 0.10856102003642984,
            "count": 1
           },
           {
            "bin_start": 0.10856102003642984,
            "bin_end": 0.1357012750455373,
            "count": 0
           },
           {
            "bin_start": 0.1357012750455373,
            "bin_end": 0.16284153005464475,
            "count": 1
           },
           {
            "bin_start": 0.16284153005464475,
            "bin_end": 0.1899817850637522,
            "count": 0
           },
           {
            "bin_start": 0.1899817850637522,
            "bin_end": 0.21712204007285968,
            "count": 0
           },
           {
            "bin_start": 0.21712204007285968,
            "bin_end": 0.24426229508196715,
            "count": 0
           },
           {
            "bin_start": 0.24426229508196715,
            "bin_end": 0.2714025500910746,
            "count": 1
           }
          ]
         }
        },
        {
         "name": "million_dollar_housing_units_normalised",
         "dtype": "float64",
         "stats": {
          "unique_count": 4,
          "nan_count": 0,
          "min": "0.0",
          "max": "0.0667838312829525",
          "histogram": [
           {
            "bin_start": 0,
            "bin_end": 0.00667838312829525,
            "count": 3
           },
           {
            "bin_start": 0.00667838312829525,
            "bin_end": 0.0133567662565905,
            "count": 0
           },
           {
            "bin_start": 0.0133567662565905,
            "bin_end": 0.02003514938488575,
            "count": 0
           },
           {
            "bin_start": 0.02003514938488575,
            "bin_end": 0.026713532513181,
            "count": 1
           },
           {
            "bin_start": 0.026713532513181,
            "bin_end": 0.03339191564147625,
            "count": 0
           },
           {
            "bin_start": 0.03339191564147625,
            "bin_end": 0.0400702987697715,
            "count": 0
           },
           {
            "bin_start": 0.0400702987697715,
            "bin_end": 0.046748681898066746,
            "count": 0
           },
           {
            "bin_start": 0.046748681898066746,
            "bin_end": 0.053427065026362,
            "count": 0
           },
           {
            "bin_start": 0.053427065026362,
            "bin_end": 0.06010544815465725,
            "count": 0
           },
           {
            "bin_start": 0.06010544815465725,
            "bin_end": 0.0667838312829525,
            "count": 1
           }
          ]
         }
        },
        {
         "name": "mortgaged_housing_units_normalised",
         "dtype": "float64",
         "stats": {
          "unique_count": 5,
          "nan_count": 0,
          "min": "0.0",
          "max": "0.3168016194331984",
          "histogram": [
           {
            "bin_start": 0,
            "bin_end": 0.03168016194331984,
            "count": 1
           },
           {
            "bin_start": 0.03168016194331984,
            "bin_end": 0.06336032388663967,
            "count": 0
           },
           {
            "bin_start": 0.06336032388663967,
            "bin_end": 0.09504048582995951,
            "count": 0
           },
           {
            "bin_start": 0.09504048582995951,
            "bin_end": 0.12672064777327935,
            "count": 0
           },
           {
            "bin_start": 0.12672064777327935,
            "bin_end": 0.1584008097165992,
            "count": 0
           },
           {
            "bin_start": 0.1584008097165992,
            "bin_end": 0.19008097165991902,
            "count": 0
           },
           {
            "bin_start": 0.19008097165991902,
            "bin_end": 0.22176113360323885,
            "count": 0
           },
           {
            "bin_start": 0.22176113360323885,
            "bin_end": 0.2534412955465587,
            "count": 1
           },
           {
            "bin_start": 0.2534412955465587,
            "bin_end": 0.28512145748987855,
            "count": 1
           },
           {
            "bin_start": 0.28512145748987855,
            "bin_end": 0.3168016194331984,
            "count": 2
           }
          ]
         }
        },
        {
         "name": "owner_occupied_housing_units_normalised",
         "dtype": "float64",
         "stats": {
          "unique_count": 5,
          "nan_count": 0,
          "min": "0.0",
          "max": "0.6216981132075472",
          "histogram": [
           {
            "bin_start": 0,
            "bin_end": 0.06216981132075472,
            "count": 1
           },
           {
            "bin_start": 0.06216981132075472,
            "bin_end": 0.12433962264150944,
            "count": 0
           },
           {
            "bin_start": 0.12433962264150944,
            "bin_end": 0.18650943396226416,
            "count": 0
           },
           {
            "bin_start": 0.18650943396226416,
            "bin_end": 0.24867924528301888,
            "count": 0
           },
           {
            "bin_start": 0.24867924528301888,
            "bin_end": 0.3108490566037736,
            "count": 0
           },
           {
            "bin_start": 0.3108490566037736,
            "bin_end": 0.3730188679245283,
            "count": 0
           },
           {
            "bin_start": 0.3730188679245283,
            "bin_end": 0.43518867924528304,
            "count": 0
           },
           {
            "bin_start": 0.43518867924528304,
            "bin_end": 0.49735849056603776,
            "count": 3
           },
           {
            "bin_start": 0.49735849056603776,
            "bin_end": 0.5595283018867925,
            "count": 0
           },
           {
            "bin_start": 0.5595283018867925,
            "bin_end": 0.6216981132075472,
            "count": 1
           }
          ]
         }
        },
        {
         "name": "employed_pop_normalised",
         "dtype": "float64",
         "stats": {
          "unique_count": 5,
          "nan_count": 0,
          "min": "0.9263867288750648",
          "max": "1.0",
          "histogram": [
           {
            "bin_start": 0.9263867288750648,
            "bin_end": 0.9337480559875583,
            "count": 1
           },
           {
            "bin_start": 0.9337480559875583,
            "bin_end": 0.9411093831000519,
            "count": 0
           },
           {
            "bin_start": 0.9411093831000519,
            "bin_end": 0.9484707102125454,
            "count": 0
           },
           {
            "bin_start": 0.9484707102125454,
            "bin_end": 0.9558320373250389,
            "count": 0
           },
           {
            "bin_start": 0.9558320373250389,
            "bin_end": 0.9631933644375323,
            "count": 3
           },
           {
            "bin_start": 0.9631933644375323,
            "bin_end": 0.9705546915500259,
            "count": 0
           },
           {
            "bin_start": 0.9705546915500259,
            "bin_end": 0.9779160186625194,
            "count": 0
           },
           {
            "bin_start": 0.9779160186625194,
            "bin_end": 0.9852773457750129,
            "count": 0
           },
           {
            "bin_start": 0.9852773457750129,
            "bin_end": 0.9926386728875065,
            "count": 0
           },
           {
            "bin_start": 0.9926386728875065,
            "bin_end": 1,
            "count": 1
           }
          ]
         }
        },
        {
         "name": "unemployed_pop_normalised",
         "dtype": "float64",
         "stats": {
          "unique_count": 5,
          "nan_count": 0,
          "min": "0.0",
          "max": "0.0736132711249352",
          "histogram": [
           {
            "bin_start": 0,
            "bin_end": 0.00736132711249352,
            "count": 1
           },
           {
            "bin_start": 0.00736132711249352,
            "bin_end": 0.01472265422498704,
            "count": 0
           },
           {
            "bin_start": 0.01472265422498704,
            "bin_end": 0.02208398133748056,
            "count": 0
           },
           {
            "bin_start": 0.02208398133748056,
            "bin_end": 0.02944530844997408,
            "count": 0
           },
           {
            "bin_start": 0.02944530844997408,
            "bin_end": 0.0368066355624676,
            "count": 1
           },
           {
            "bin_start": 0.0368066355624676,
            "bin_end": 0.04416796267496112,
            "count": 2
           },
           {
            "bin_start": 0.04416796267496112,
            "bin_end": 0.051529289787454635,
            "count": 0
           },
           {
            "bin_start": 0.051529289787454635,
            "bin_end": 0.05889061689994816,
            "count": 0
           },
           {
            "bin_start": 0.05889061689994816,
            "bin_end": 0.06625194401244168,
            "count": 0
           },
           {
            "bin_start": 0.06625194401244168,
            "bin_end": 0.0736132711249352,
            "count": 1
           }
          ]
         }
        },
        {
         "name": "_deepnote_index_column",
         "dtype": "int64"
        }
       ],
       "rows_top": [
        {
         "GEOID": 48113980100,
         "city_name": "dallas",
         "reweighted_redline_index": 3.1,
         "total_pop": 20,
         "households": 5,
         "median_age": 13.8,
         "median_income": "nan",
         "income_per_capita": "nan",
         "gini_index": "nan",
         "housing_units": 5,
         "renter_occupied_housing_units_paying_cash_median_gross_rent": "nan",
         "owner_occupied_housing_units_lower_value_quartile": "nan",
         "owner_occupied_housing_units_median_value": "nan",
         "owner_occupied_housing_units_upper_value_quartile": "nan",
         "median_year_structure_built": "nan",
         "median_rent": "nan",
         "percent_income_spent_on_rent": "nan",
         "bachelors_degree_or_higher_25_64": 0,
         "aged_65_or_older_normalised": 0,
         "aged_17_or_younger_normalised": 0.55,
         "multi_unit_structures_normalised": 0,
         "poverty_normalised": 0,
         "households_public_asst_or_food_stamps_normalised": 0,
         "black_pop_normalised": 0,
         "asian_pop_normalised": 0,
         "hispanic_pop_normalised": 1,
         "amerindian_pop_normalised": 0,
         "white_pop_normalised": 0,
         "non_white_pop_normalised": 1,
         "other_race_pop_normalised": 0,
         "male_pop_normalised": 0.55,
         "female_pop_normalised": 0.45,
         "pop_currently_unmarried_normalised": 0,
         "pop_now_married_normalised": "nan",
         "not_us_citizen_pop_normalised": 0.45,
         "children_normalised": 0.55,
         "married_households_normalised": 1,
         "nonfamily_households_normalised": 0,
         "family_households_normalised": 1,
         "occupied_housing_units_normalised": 1,
         "housing_units_renter_occupied_normalised": 1,
         "vacant_housing_units_normalised": 0,
         "vacant_housing_units_for_rent_normalised": 0,
         "vacant_housing_units_for_sale_normalised": 0,
         "mobile_homes_normalised": 0,
         "group_quarters_normalised": 0,
         "housing_built_1939_or_earlier_normalised": 0,
         "housing_built_2004_or_later_normalised": 0,
         "children_in_single_female_hh_normalised": 0,
         "rent_burden_not_computed_normalised": 1,
         "rent_under_30_percent_normalised": 0,
         "rent_30_to_50_percent_normalised": 0,
         "rent_over_50_percent_normalised": 0,
         "aggregate_travel_time_to_work_normalised": "nan",
         "walked_to_work_normalised": 0,
         "worked_at_home_normalised": 0,
         "no_car_normalised": 0,
         "no_cars_normalised": 0,
         "one_or_more_cars_normalised": 1,
         "commuters_by_subway_or_elevated_normalised": 0,
         "commuters_by_bus_normalised": 0,
         "commuters_personal_transport_normalised": 2,
         "education_high_school_or_less_normalised": 0.7,
         "education_less_than_bachelors_normalised": 0,
         "education_bachelors_degree_normalised": 0,
         "education_graduate_degree_normalised": 0,
         "income_less_14999_normalised": 0,
         "income_15000_24999_normalised": 0,
         "income_25000_34999_normalised": 0,
         "income_35000_59999_normalised": 1,
         "income_60000_99999_normalised": 0,
         "income_100000_199999_normalised": 0,
         "income_200000_or_more_normalised": 0,
         "million_dollar_housing_units_normalised": 0,
         "mortgaged_housing_units_normalised": 0,
         "owner_occupied_housing_units_normalised": 0,
         "employed_pop_normalised": 1,
         "unemployed_pop_normalised": 0,
         "_deepnote_index_column": 0
        },
        {
         "GEOID": 48113000605,
         "city_name": "dallas",
         "reweighted_redline_index": 2.09,
         "total_pop": 2548,
         "households": 1755,
         "median_age": 41,
         "median_income": 95668,
         "income_per_capita": 87771,
         "gini_index": 0.439,
         "housing_units": 1976,
         "renter_occupied_housing_units_paying_cash_median_gross_rent": 1582,
         "owner_occupied_housing_units_lower_value_quartile": 201000,
         "owner_occupied_housing_units_median_value": 287700,
         "owner_occupied_housing_units_upper_value_quartile": 388500,
         "median_year_structure_built": 1993,
         "median_rent": 1484,
         "percent_income_spent_on_rent": 24.3,
         "bachelors_degree_or_higher_25_64": 1421,
         "aged_65_or_older_normalised": 0.1832810047095761,
         "aged_17_or_younger_normalised": 0.0384615384615384,
         "multi_unit_structures_normalised": 0.763663967611336,
         "poverty_normalised": 0.0567152422213469,
         "households_public_asst_or_food_stamps_normalised": 0.0102564102564102,
         "black_pop_normalised": 0.0078492935635792,
         "asian_pop_normalised": 0.1318681318681318,
         "hispanic_pop_normalised": 0.1102825745682888,
         "amerindian_pop_normalised": 0.0109890109890109,
         "white_pop_normalised": 0.7303767660910518,
         "non_white_pop_normalised": 0.2696232339089482,
         "other_race_pop_normalised": 0.0086342229199372,
         "male_pop_normalised": 0.521585557299843,
         "female_pop_normalised": 0.478414442700157,
         "pop_currently_unmarried_normalised": 0,
         "pop_now_married_normalised": "nan",
         "not_us_citizen_pop_normalised": 0.0949764521193092,
         "children_normalised": 0.0384615384615384,
         "married_households_normalised": 0.2,
         "nonfamily_households_normalised": 0.7601139601139602,
         "family_households_normalised": 0.2398860398860398,
         "occupied_housing_units_normalised": 0.8881578947368421,
         "housing_units_renter_occupied_normalised": 0.4245951417004048,
         "vacant_housing_units_normalised": 0.1118421052631579,
         "vacant_housing_units_for_rent_normalised": 0.0334008097165991,
         "vacant_housing_units_for_sale_normalised": 0,
         "mobile_homes_normalised": 0.0055668016194331,
         "group_quarters_normalised": 0,
         "housing_built_1939_or_earlier_normalised": 0.0030364372469635,
         "housing_built_2004_or_later_normalised": 0.0718623481781376,
         "children_in_single_female_hh_normalised": 0.2755102040816326,
         "rent_burden_not_computed_normalised": 0.0151821862348178,
         "rent_under_30_percent_normalised": 0.2687246963562753,
         "rent_30_to_50_percent_normalised": 0.0774291497975708,
         "rent_over_50_percent_normalised": 0.0632591093117408,
         "aggregate_travel_time_to_work_normalised": 20.82804232804233,
         "walked_to_work_normalised": 0.0216931216931216,
         "worked_at_home_normalised": 0.0634920634920634,
         "no_car_normalised": 0.0275132275132275,
         "no_cars_normalised": 0.0911680911680911,
         "one_or_more_cars_normalised": 0.9088319088319088,
         "commuters_by_subway_or_elevated_normalised": 0.0105820105820105,
         "commuters_by_bus_normalised": 0.0164021164021164,
         "commuters_personal_transport_normalised": 1.638095238095238,
         "education_high_school_or_less_normalised": 0.1067503924646781,
         "education_less_than_bachelors_normalised": 0.3398744113029827,
         "education_bachelors_degree_normalised": 0.7417582417582418,
         "education_graduate_degree_normalised": 0.4709576138147566,
         "income_less_14999_normalised": 0.0387464387464387,
         "income_15000_24999_normalised": 0.0279202279202279,
         "income_25000_34999_normalised": 0.037037037037037,
         "income_35000_59999_normalised": 0.1606837606837607,
         "income_60000_99999_normalised": 0.2911680911680911,
         "income_100000_199999_normalised": 0.2837606837606837,
         "income_200000_or_more_normalised": 0.1606837606837607,
         "million_dollar_housing_units_normalised": 0.0055668016194331,
         "mortgaged_housing_units_normalised": 0.3168016194331984,
         "owner_occupied_housing_units_normalised": 0.4635627530364372,
         "employed_pop_normalised": 0.9587301587301588,
         "unemployed_pop_normalised": 0.0412698412698412,
         "_deepnote_index_column": 1
        },
        {
         "GEOID": 48113007101,
         "city_name": "dallas",
         "reweighted_redline_index": 1,
         "total_pop": 2331,
         "households": 1098,
         "median_age": 38.5,
         "median_income": 102875,
         "income_per_capita": 81534,
         "gini_index": 0.5498,
         "housing_units": 1138,
         "renter_occupied_housing_units_paying_cash_median_gross_rent": 1612,
         "owner_occupied_housing_units_lower_value_quartile": 268500,
         "owner_occupied_housing_units_median_value": 710900,
         "owner_occupied_housing_units_upper_value_quartile": 1198300,
         "median_year_structure_built": 1981,
         "median_rent": 1510,
         "percent_income_spent_on_rent": 28.5,
         "bachelors_degree_or_higher_25_64": 1187,
         "aged_65_or_older_normalised": 0.1012441012441012,
         "aged_17_or_younger_normalised": 0.2509652509652509,
         "multi_unit_structures_normalised": 0.4569420035149384,
         "poverty_normalised": 0.1085371085371085,
         "households_public_asst_or_food_stamps_normalised": 0.0209471766848816,
         "black_pop_normalised": 0.0115830115830115,
         "asian_pop_normalised": 0.0776490776490776,
         "hispanic_pop_normalised": 0.0489060489060489,
         "amerindian_pop_normalised": 0.0025740025740025,
         "white_pop_normalised": 0.8416988416988417,
         "non_white_pop_normalised": 0.1583011583011583,
         "other_race_pop_normalised": 0.0175890175890175,
         "male_pop_normalised": 0.4594594594594595,
         "female_pop_normalised": 0.5405405405405406,
         "pop_currently_unmarried_normalised": 0,
         "pop_now_married_normalised": "nan",
         "not_us_citizen_pop_normalised": 0.0429000429000429,
         "children_normalised": 0.2509652509652509,
         "married_households_normalised": 0.4426229508196721,
         "nonfamily_households_normalised": 0.4817850637522768,
         "family_households_normalised": 0.5182149362477231,
         "occupied_housing_units_normalised": 0.9648506151142356,
         "housing_units_renter_occupied_normalised": 0.5228471001757469,
         "vacant_housing_units_normalised": 0.0351493848857645,
         "vacant_housing_units_for_rent_normalised": 0.0351493848857645,
         "vacant_housing_units_for_sale_normalised": 0,
         "mobile_homes_normalised": 0,
         "group_quarters_normalised": 0,
         "housing_built_1939_or_earlier_normalised": 0.1704745166959578,
         "housing_built_2004_or_later_normalised": 0.0483304042179261,
         "children_in_single_female_hh_normalised": 0.1264957264957265,
         "rent_burden_not_computed_normalised": 0.0123022847100175,
         "rent_under_30_percent_normalised": 0.281195079086116,
         "rent_30_to_50_percent_normalised": 0.0667838312829525,
         "rent_over_50_percent_normalised": 0.1625659050966608,
         "aggregate_travel_time_to_work_normalised": "nan",
         "walked_to_work_normalised": 0.0091116173120728,
         "worked_at_home_normalised": 0.123006833712984,
         "no_car_normalised": 0.0068337129840546,
         "no_cars_normalised": 0.0500910746812386,
         "one_or_more_cars_normalised": 0.9499089253187614,
         "commuters_by_subway_or_elevated_normalised": 0,
         "commuters_by_bus_normalised": 0,
         "commuters_personal_transport_normalised": 1.5474563401670465,
         "education_high_school_or_less_normalised": 0.0424710424710424,
         "education_less_than_bachelors_normalised": 0.2145002145002145,
         "education_bachelors_degree_normalised": 0.7104247104247104,
         "education_graduate_degree_normalised": 0.3646503646503646,
         "income_less_14999_normalised": 0.0473588342440801,
         "income_15000_24999_normalised": 0.087431693989071,
         "income_25000_34999_normalised": 0.0355191256830601,
         "income_35000_59999_normalised": 0.145719489981785,
         "income_60000_99999_normalised": 0.1812386156648451,
         "income_100000_199999_normalised": 0.2313296903460837,
         "income_200000_or_more_normalised": 0.2714025500910746,
         "million_dollar_housing_units_normalised": 0.0667838312829525,
         "mortgaged_housing_units_normalised": 0.3040421792618629,
         "owner_occupied_housing_units_normalised": 0.4420035149384885,
         "employed_pop_normalised": 0.9574791192103264,
         "unemployed_pop_normalised": 0.034927866362946,
         "_deepnote_index_column": 2
        },
        {
         "GEOID": 48113004201,
         "city_name": "dallas",
         "reweighted_redline_index": 2.16,
         "total_pop": 3950,
         "households": 1557,
         "median_age": 32.8,
         "median_income": 55262,
         "income_per_capita": 38126,
         "gini_index": 0.5171,
         "housing_units": 1755,
         "renter_occupied_housing_units_paying_cash_median_gross_rent": 894,
         "owner_occupied_housing_units_lower_value_quartile": 210300,
         "owner_occupied_housing_units_median_value": 339700,
         "owner_occupied_housing_units_upper_value_quartile": 492600,
         "median_year_structure_built": 1949,
         "median_rent": 739,
         "percent_income_spent_on_rent": 28.2,
         "bachelors_degree_or_higher_25_64": 825,
         "aged_65_or_older_normalised": 0.1116455696202531,
         "aged_17_or_younger_normalised": 0.2658227848101265,
         "multi_unit_structures_normalised": 0.1868945868945869,
         "poverty_normalised": 0.1807565371921807,
         "households_public_asst_or_food_stamps_normalised": 0.1400128452151573,
         "black_pop_normalised": 0.0539240506329113,
         "asian_pop_normalised": 0.0065822784810126,
         "hispanic_pop_normalised": 0.6091139240506329,
         "amerindian_pop_normalised": 0.0098734177215189,
         "white_pop_normalised": 0.3124050632911392,
         "non_white_pop_normalised": 0.6875949367088607,
         "other_race_pop_normalised": 0.0081012658227848,
         "male_pop_normalised": 0.4683544303797468,
         "female_pop_normalised": 0.5316455696202531,
         "pop_currently_unmarried_normalised": 0,
         "pop_now_married_normalised": "nan",
         "not_us_citizen_pop_normalised": 0.0946835443037974,
         "children_normalised": 0.2658227848101265,
         "married_households_normalised": 0.3551701991008349,
         "nonfamily_households_normalised": 0.3917790622992935,
         "family_households_normalised": 0.6082209377007065,
         "occupied_housing_units_normalised": 0.8871794871794871,
         "housing_units_renter_occupied_normalised": 0.4415954415954416,
         "vacant_housing_units_normalised": 0.1128205128205128,
         "vacant_housing_units_for_rent_normalised": 0.0113960113960113,
         "vacant_housing_units_for_sale_normalised": 0,
         "mobile_homes_normalised": 0,
         "group_quarters_normalised": 0.0012658227848101,
         "housing_built_1939_or_earlier_normalised": 0.1099715099715099,
         "housing_built_2004_or_later_normalised": 0.0301994301994302,
         "children_in_single_female_hh_normalised": 0.4152380952380952,
         "rent_burden_not_computed_normalised": 0.017094017094017,
         "rent_under_30_percent_normalised": 0.241025641025641,
         "rent_30_to_50_percent_normalised": 0.0581196581196581,
         "rent_over_50_percent_normalised": 0.1253561253561253,
         "aggregate_travel_time_to_work_normalised": 20.03219871205152,
         "walked_to_work_normalised": 0.0197792088316467,
         "worked_at_home_normalised": 0.0551977920883164,
         "no_car_normalised": 0.0354185832566697,
         "no_cars_normalised": 0.0719332048811817,
         "one_or_more_cars_normalised": 0.9280667951188184,
         "commuters_by_subway_or_elevated_normalised": 0,
         "commuters_by_bus_normalised": 0.0381784728610855,
         "commuters_personal_transport_normalised": 1.608095676172953,
         "education_high_school_or_less_normalised": 0.3324050632911392,
         "education_less_than_bachelors_normalised": 0.2658227848101265,
         "education_bachelors_degree_normalised": 0.3027848101265822,
         "education_graduate_degree_normalised": 0.1774683544303797,
         "income_less_14999_normalised": 0.1136801541425818,
         "income_15000_24999_normalised": 0.1046885035324341,
         "income_25000_34999_normalised": 0.0892742453436095,
         "income_35000_59999_normalised": 0.2402055234425176,
         "income_60000_99999_normalised": 0.1316634553628773,
         "income_100000_199999_normalised": 0.2209377007064868,
         "income_200000_or_more_normalised": 0.0995504174694926,
         "million_dollar_housing_units_normalised": 0.0245014245014245,
         "mortgaged_housing_units_normalised": 0.2541310541310541,
         "owner_occupied_housing_units_normalised": 0.4455840455840456,
         "employed_pop_normalised": 0.9590616375344986,
         "unemployed_pop_normalised": 0.0409383624655013,
         "_deepnote_index_column": 3
        },
        {
         "GEOID": 48113005901,
         "city_name": "dallas",
         "reweighted_redline_index": 3,
         "total_pop": 5568,
         "households": 1996,
         "median_age": 43.1,
         "median_income": 28664,
         "income_per_capita": 13681,
         "gini_index": 0.4096,
         "housing_units": 2120,
         "renter_occupied_housing_units_paying_cash_median_gross_rent": 1006,
         "owner_occupied_housing_units_lower_value_quartile": 55700,
         "owner_occupied_housing_units_median_value": 70200,
         "owner_occupied_housing_units_upper_value_quartile": 82700,
         "median_year_structure_built": 1956,
         "median_rent": 694,
         "percent_income_spent_on_rent": 37.8,
         "bachelors_degree_or_higher_25_64": 115,
         "aged_65_or_older_normalised": 0.1995330459770115,
         "aged_17_or_younger_normalised": 0.2340158045977011,
         "multi_unit_structures_normalised": 0,
         "poverty_normalised": 0.2552422270426608,
         "households_public_asst_or_food_stamps_normalised": 0.2254509018036072,
         "black_pop_normalised": 0.6519396551724138,
         "asian_pop_normalised": 0.0008979885057471,
         "hispanic_pop_normalised": 0.3108836206896552,
         "amerindian_pop_normalised": 0.0014367816091954,
         "white_pop_normalised": 0.0348419540229885,
         "non_white_pop_normalised": 0.9651580459770116,
         "other_race_pop_normalised": 0,
         "male_pop_normalised": 0.4933548850574712,
         "female_pop_normalised": 0.5066451149425287,
         "pop_currently_unmarried_normalised": 0,
         "pop_now_married_normalised": "nan",
         "not_us_citizen_pop_normalised": 0.1160201149425287,
         "children_normalised": 0.2340158045977011,
         "married_households_normalised": 0.3071142284569138,
         "nonfamily_households_normalised": 0.4023046092184368,
         "family_households_normalised": 0.5976953907815631,
         "occupied_housing_units_normalised": 0.9415094339622642,
         "housing_units_renter_occupied_normalised": 0.3198113207547169,
         "vacant_housing_units_normalised": 0.0584905660377358,
         "vacant_housing_units_for_rent_normalised": 0.0169811320754716,
         "vacant_housing_units_for_sale_normalised": 0.020754716981132,
         "mobile_homes_normalised": 0.0037735849056603,
         "group_quarters_normalised": 0.0035919540229885,
         "housing_built_1939_or_earlier_normalised": 0.0981132075471698,
         "housing_built_2004_or_later_normalised": 0.0264150943396226,
         "children_in_single_female_hh_normalised": 0.2409823484267076,
         "rent_burden_not_computed_normalised": 0.0377358490566037,
         "rent_under_30_percent_normalised": 0.1198113207547169,
         "rent_30_to_50_percent_normalised": 0.0594339622641509,
         "rent_over_50_percent_normalised": 0.1028301886792452,
         "aggregate_travel_time_to_work_normalised": 27.555728356661483,
         "walked_to_work_normalised": 0.0041472265422498,
         "worked_at_home_normalised": 0.0228097459823742,
         "no_car_normalised": 0.0668740279937791,
         "no_cars_normalised": 0.1062124248496994,
         "one_or_more_cars_normalised": 0.8937875751503006,
         "commuters_by_subway_or_elevated_normalised": 0,
         "commuters_by_bus_normalised": 0.0648004147226542,
         "commuters_personal_transport_normalised": 1.6588906168999482,
         "education_high_school_or_less_normalised": 0.6469109195402298,
         "education_less_than_bachelors_normalised": 0.4378591954022988,
         "education_bachelors_degree_normalised": 0.050287356321839,
         "education_graduate_degree_normalised": 0.0113146551724137,
         "income_less_14999_normalised": 0.2109218436873747,
         "income_15000_24999_normalised": 0.2434869739478957,
         "income_25000_34999_normalised": 0.1297595190380761,
         "income_35000_59999_normalised": 0.2494989979959919,
         "income_60000_99999_normalised": 0.1462925851703407,
         "income_100000_199999_normalised": 0.0200400801603206,
         "income_200000_or_more_normalised": 0,
         "million_dollar_housing_units_normalised": 0,
         "mortgaged_housing_units_normalised": 0.2287735849056603,
         "owner_occupied_housing_units_normalised": 0.6216981132075472,
         "employed_pop_normalised": 0.9263867288750648,
         "unemployed_pop_normalised": 0.0736132711249352,
         "_deepnote_index_column": 4
        }
       ],
       "rows_bottom": null
      },
      "text/plain": "          GEOID city_name  reweighted_redline_index  total_pop  households  \\\n0  4.811398e+10    dallas                      3.10       20.0         5.0   \n1  4.811300e+10    dallas                      2.09     2548.0      1755.0   \n2  4.811301e+10    dallas                      1.00     2331.0      1098.0   \n3  4.811300e+10    dallas                      2.16     3950.0      1557.0   \n4  4.811301e+10    dallas                      3.00     5568.0      1996.0   \n\n   median_age  median_income  income_per_capita  gini_index  housing_units  \\\n0        13.8            NaN                NaN         NaN            5.0   \n1        41.0        95668.0            87771.0      0.4390         1976.0   \n2        38.5       102875.0            81534.0      0.5498         1138.0   \n3        32.8        55262.0            38126.0      0.5171         1755.0   \n4        43.1        28664.0            13681.0      0.4096         2120.0   \n\n   ...  income_25000_34999_normalised  income_35000_59999_normalised  \\\n0  ...                       0.000000                       1.000000   \n1  ...                       0.037037                       0.160684   \n2  ...                       0.035519                       0.145719   \n3  ...                       0.089274                       0.240206   \n4  ...                       0.129760                       0.249499   \n\n   income_60000_99999_normalised  income_100000_199999_normalised  \\\n0                       0.000000                         0.000000   \n1                       0.291168                         0.283761   \n2                       0.181239                         0.231330   \n3                       0.131663                         0.220938   \n4                       0.146293                         0.020040   \n\n   income_200000_or_more_normalised  million_dollar_housing_units_normalised  \\\n0                          0.000000                                 0.000000   \n1                          0.160684                                 0.005567   \n2                          0.271403                                 0.066784   \n3                          0.099550                                 0.024501   \n4                          0.000000                                 0.000000   \n\n   mortgaged_housing_units_normalised  \\\n0                            0.000000   \n1                            0.316802   \n2                            0.304042   \n3                            0.254131   \n4                            0.228774   \n\n   owner_occupied_housing_units_normalised  employed_pop_normalised  \\\n0                                 0.000000                 1.000000   \n1                                 0.463563                 0.958730   \n2                                 0.442004                 0.957479   \n3                                 0.445584                 0.959062   \n4                                 0.621698                 0.926387   \n\n   unemployed_pop_normalised  \n0                   0.000000  \n1                   0.041270  \n2                   0.034928  \n3                   0.040938  \n4                   0.073613  \n\n[5 rows x 78 columns]",
      "text/html": "<div>\n<style scoped>\n    .dataframe tbody tr th:only-of-type {\n        vertical-align: middle;\n    }\n\n    .dataframe tbody tr th {\n        vertical-align: top;\n    }\n\n    .dataframe thead th {\n        text-align: right;\n    }\n</style>\n<table border=\"1\" class=\"dataframe\">\n  <thead>\n    <tr style=\"text-align: right;\">\n      <th></th>\n      <th>GEOID</th>\n      <th>city_name</th>\n      <th>reweighted_redline_index</th>\n      <th>total_pop</th>\n      <th>households</th>\n      <th>median_age</th>\n      <th>median_income</th>\n      <th>income_per_capita</th>\n      <th>gini_index</th>\n      <th>housing_units</th>\n      <th>...</th>\n      <th>income_25000_34999_normalised</th>\n      <th>income_35000_59999_normalised</th>\n      <th>income_60000_99999_normalised</th>\n      <th>income_100000_199999_normalised</th>\n      <th>income_200000_or_more_normalised</th>\n      <th>million_dollar_housing_units_normalised</th>\n      <th>mortgaged_housing_units_normalised</th>\n      <th>owner_occupied_housing_units_normalised</th>\n      <th>employed_pop_normalised</th>\n      <th>unemployed_pop_normalised</th>\n    </tr>\n  </thead>\n  <tbody>\n    <tr>\n      <th>0</th>\n      <td>4.811398e+10</td>\n      <td>dallas</td>\n      <td>3.10</td>\n      <td>20.0</td>\n      <td>5.0</td>\n      <td>13.8</td>\n      <td>NaN</td>\n      <td>NaN</td>\n      <td>NaN</td>\n      <td>5.0</td>\n      <td>...</td>\n      <td>0.000000</td>\n      <td>1.000000</td>\n      <td>0.000000</td>\n      <td>0.000000</td>\n      <td>0.000000</td>\n      <td>0.000000</td>\n      <td>0.000000</td>\n      <td>0.000000</td>\n      <td>1.000000</td>\n      <td>0.000000</td>\n    </tr>\n    <tr>\n      <th>1</th>\n      <td>4.811300e+10</td>\n      <td>dallas</td>\n      <td>2.09</td>\n      <td>2548.0</td>\n      <td>1755.0</td>\n      <td>41.0</td>\n      <td>95668.0</td>\n      <td>87771.0</td>\n      <td>0.4390</td>\n      <td>1976.0</td>\n      <td>...</td>\n      <td>0.037037</td>\n      <td>0.160684</td>\n      <td>0.291168</td>\n      <td>0.283761</td>\n      <td>0.160684</td>\n      <td>0.005567</td>\n      <td>0.316802</td>\n      <td>0.463563</td>\n      <td>0.958730</td>\n      <td>0.041270</td>\n    </tr>\n    <tr>\n      <th>2</th>\n      <td>4.811301e+10</td>\n      <td>dallas</td>\n      <td>1.00</td>\n      <td>2331.0</td>\n      <td>1098.0</td>\n      <td>38.5</td>\n      <td>102875.0</td>\n      <td>81534.0</td>\n      <td>0.5498</td>\n      <td>1138.0</td>\n      <td>...</td>\n      <td>0.035519</td>\n      <td>0.145719</td>\n      <td>0.181239</td>\n      <td>0.231330</td>\n      <td>0.271403</td>\n      <td>0.066784</td>\n      <td>0.304042</td>\n      <td>0.442004</td>\n      <td>0.957479</td>\n      <td>0.034928</td>\n    </tr>\n    <tr>\n      <th>3</th>\n      <td>4.811300e+10</td>\n      <td>dallas</td>\n      <td>2.16</td>\n      <td>3950.0</td>\n      <td>1557.0</td>\n      <td>32.8</td>\n      <td>55262.0</td>\n      <td>38126.0</td>\n      <td>0.5171</td>\n      <td>1755.0</td>\n      <td>...</td>\n      <td>0.089274</td>\n      <td>0.240206</td>\n      <td>0.131663</td>\n      <td>0.220938</td>\n      <td>0.099550</td>\n      <td>0.024501</td>\n      <td>0.254131</td>\n      <td>0.445584</td>\n      <td>0.959062</td>\n      <td>0.040938</td>\n    </tr>\n    <tr>\n      <th>4</th>\n      <td>4.811301e+10</td>\n      <td>dallas</td>\n      <td>3.00</td>\n      <td>5568.0</td>\n      <td>1996.0</td>\n      <td>43.1</td>\n      <td>28664.0</td>\n      <td>13681.0</td>\n      <td>0.4096</td>\n      <td>2120.0</td>\n      <td>...</td>\n      <td>0.129760</td>\n      <td>0.249499</td>\n      <td>0.146293</td>\n      <td>0.020040</td>\n      <td>0.000000</td>\n      <td>0.000000</td>\n      <td>0.228774</td>\n      <td>0.621698</td>\n      <td>0.926387</td>\n      <td>0.073613</td>\n    </tr>\n  </tbody>\n</table>\n<p>5 rows × 78 columns</p>\n</div>"
     },
     "metadata": {}
    }
   ],
   "execution_count": null
  },
  {
   "cell_type": "code",
   "metadata": {
    "tags": [],
    "cell_id": "00006-d64f1fd8-2eea-421e-8760-d6c97d78a680",
    "deepnote_to_be_reexecuted": false,
    "source_hash": "da3818c9",
    "execution_start": 1623462836251,
    "execution_millis": 15,
    "deepnote_cell_type": "code"
   },
   "source": "df_full.columns",
   "outputs": [
    {
     "output_type": "execute_result",
     "execution_count": 60,
     "data": {
      "text/plain": "Index(['GEOID', 'city_name', 'reweighted_redline_index', 'total_pop',\n       'households', 'median_age', 'median_income', 'income_per_capita',\n       'gini_index', 'housing_units',\n       'renter_occupied_housing_units_paying_cash_median_gross_rent',\n       'owner_occupied_housing_units_lower_value_quartile',\n       'owner_occupied_housing_units_median_value',\n       'owner_occupied_housing_units_upper_value_quartile',\n       'median_year_structure_built', 'median_rent',\n       'percent_income_spent_on_rent', 'bachelors_degree_or_higher_25_64',\n       'aged_65_or_older_normalised', 'aged_17_or_younger_normalised',\n       'multi_unit_structures_normalised', 'poverty_normalised',\n       'households_public_asst_or_food_stamps_normalised',\n       'black_pop_normalised', 'asian_pop_normalised',\n       'hispanic_pop_normalised', 'amerindian_pop_normalised',\n       'white_pop_normalised', 'non_white_pop_normalised',\n       'other_race_pop_normalised', 'male_pop_normalised',\n       'female_pop_normalised', 'pop_currently_unmarried_normalised',\n       'pop_now_married_normalised', 'not_us_citizen_pop_normalised',\n       'children_normalised', 'married_households_normalised',\n       'nonfamily_households_normalised', 'family_households_normalised',\n       'occupied_housing_units_normalised',\n       'housing_units_renter_occupied_normalised',\n       'vacant_housing_units_normalised',\n       'vacant_housing_units_for_rent_normalised',\n       'vacant_housing_units_for_sale_normalised', 'mobile_homes_normalised',\n       'group_quarters_normalised', 'housing_built_1939_or_earlier_normalised',\n       'housing_built_2004_or_later_normalised',\n       'children_in_single_female_hh_normalised',\n       'rent_burden_not_computed_normalised',\n       'rent_under_30_percent_normalised', 'rent_30_to_50_percent_normalised',\n       'rent_over_50_percent_normalised',\n       'aggregate_travel_time_to_work_normalised', 'walked_to_work_normalised',\n       'worked_at_home_normalised', 'no_car_normalised', 'no_cars_normalised',\n       'one_or_more_cars_normalised',\n       'commuters_by_subway_or_elevated_normalised',\n       'commuters_by_bus_normalised',\n       'commuters_personal_transport_normalised',\n       'education_high_school_or_less_normalised',\n       'education_less_than_bachelors_normalised',\n       'education_bachelors_degree_normalised',\n       'education_graduate_degree_normalised', 'income_less_14999_normalised',\n       'income_15000_24999_normalised', 'income_25000_34999_normalised',\n       'income_35000_59999_normalised', 'income_60000_99999_normalised',\n       'income_100000_199999_normalised', 'income_200000_or_more_normalised',\n       'million_dollar_housing_units_normalised',\n       'mortgaged_housing_units_normalised',\n       'owner_occupied_housing_units_normalised', 'employed_pop_normalised',\n       'unemployed_pop_normalised'],\n      dtype='object')"
     },
     "metadata": {}
    }
   ],
   "execution_count": null
  },
  {
   "cell_type": "code",
   "metadata": {
    "tags": [],
    "cell_id": "00006-94adbe17-b748-41f6-8985-3760a193c4ca",
    "deepnote_to_be_reexecuted": false,
    "source_hash": "1027735c",
    "execution_start": 1623462837954,
    "execution_millis": 23,
    "deepnote_cell_type": "code"
   },
   "source": "for x in sorted(df_full.columns):\n    print(x)",
   "outputs": [
    {
     "name": "stdout",
     "text": "GEOID\naged_17_or_younger_normalised\naged_65_or_older_normalised\naggregate_travel_time_to_work_normalised\namerindian_pop_normalised\nasian_pop_normalised\nbachelors_degree_or_higher_25_64\nblack_pop_normalised\nchildren_in_single_female_hh_normalised\nchildren_normalised\ncity_name\ncommuters_by_bus_normalised\ncommuters_by_subway_or_elevated_normalised\ncommuters_personal_transport_normalised\neducation_bachelors_degree_normalised\neducation_graduate_degree_normalised\neducation_high_school_or_less_normalised\neducation_less_than_bachelors_normalised\nemployed_pop_normalised\nfamily_households_normalised\nfemale_pop_normalised\ngini_index\ngroup_quarters_normalised\nhispanic_pop_normalised\nhouseholds\nhouseholds_public_asst_or_food_stamps_normalised\nhousing_built_1939_or_earlier_normalised\nhousing_built_2004_or_later_normalised\nhousing_units\nhousing_units_renter_occupied_normalised\nincome_100000_199999_normalised\nincome_15000_24999_normalised\nincome_200000_or_more_normalised\nincome_25000_34999_normalised\nincome_35000_59999_normalised\nincome_60000_99999_normalised\nincome_less_14999_normalised\nincome_per_capita\nmale_pop_normalised\nmarried_households_normalised\nmedian_age\nmedian_income\nmedian_rent\nmedian_year_structure_built\nmillion_dollar_housing_units_normalised\nmobile_homes_normalised\nmortgaged_housing_units_normalised\nmulti_unit_structures_normalised\nno_car_normalised\nno_cars_normalised\nnon_white_pop_normalised\nnonfamily_households_normalised\nnot_us_citizen_pop_normalised\noccupied_housing_units_normalised\none_or_more_cars_normalised\nother_race_pop_normalised\nowner_occupied_housing_units_lower_value_quartile\nowner_occupied_housing_units_median_value\nowner_occupied_housing_units_normalised\nowner_occupied_housing_units_upper_value_quartile\npercent_income_spent_on_rent\npop_currently_unmarried_normalised\npop_now_married_normalised\npoverty_normalised\nrent_30_to_50_percent_normalised\nrent_burden_not_computed_normalised\nrent_over_50_percent_normalised\nrent_under_30_percent_normalised\nrenter_occupied_housing_units_paying_cash_median_gross_rent\nreweighted_redline_index\ntotal_pop\nunemployed_pop_normalised\nvacant_housing_units_for_rent_normalised\nvacant_housing_units_for_sale_normalised\nvacant_housing_units_normalised\nwalked_to_work_normalised\nwhite_pop_normalised\nworked_at_home_normalised\n",
     "output_type": "stream"
    }
   ],
   "execution_count": null
  },
  {
   "cell_type": "markdown",
   "source": "### Filter for Boston",
   "metadata": {
    "tags": [],
    "cell_id": "00007-961fabc4-7ac3-4739-8517-b27e184d767d",
    "deepnote_cell_type": "markdown"
   }
  },
  {
   "cell_type": "code",
   "metadata": {
    "tags": [],
    "cell_id": "00008-2d9318c0-3973-4517-b947-e3c0cb8af61e",
    "deepnote_to_be_reexecuted": false,
    "source_hash": "6c2f0175",
    "execution_start": 1623462839745,
    "execution_millis": 2,
    "deepnote_cell_type": "code"
   },
   "source": "df = df_full[df_full['city_name'] == 'boston']",
   "outputs": [],
   "execution_count": null
  },
  {
   "cell_type": "code",
   "metadata": {
    "tags": [],
    "cell_id": "00009-075ad510-05de-4c89-8fcd-0b08ae68a579",
    "deepnote_to_be_reexecuted": false,
    "source_hash": "df9adcb0",
    "execution_start": 1623462840320,
    "execution_millis": 67,
    "deepnote_cell_type": "code"
   },
   "source": "df_redline = gpd.read_file('/work/COVIDRedlining/data/boston/boston_redlined_numerical_values.geojson')",
   "outputs": [],
   "execution_count": null
  },
  {
   "cell_type": "code",
   "metadata": {
    "tags": [],
    "cell_id": "00010-21d95855-2a84-47fe-84f5-70f603a08cfb",
    "deepnote_to_be_reexecuted": false,
    "source_hash": "63a26026",
    "execution_start": 1623462840779,
    "execution_millis": 12,
    "deepnote_cell_type": "code"
   },
   "source": "df_redline.columns",
   "outputs": [
    {
     "output_type": "execute_result",
     "execution_count": 64,
     "data": {
      "text/plain": "Index(['STATEFP', 'COUNTYFP', 'TRACTCE', 'GEOID', 'NAME', 'NAMELSAD', 'MTFCC',\n       'FUNCSTAT', 'ALAND', 'AWATER', 'INTPTLAT', 'INTPTLON',\n       'reweighted_redline_index', 'ordinal_value', 'geometry'],\n      dtype='object')"
     },
     "metadata": {}
    }
   ],
   "execution_count": null
  },
  {
   "cell_type": "code",
   "metadata": {
    "tags": [],
    "cell_id": "00011-45c61fd4-3f6a-4245-8291-1aeb8527da42",
    "deepnote_to_be_reexecuted": false,
    "source_hash": "ca07a501",
    "execution_start": 1623462841329,
    "execution_millis": 14,
    "deepnote_cell_type": "code"
   },
   "source": "df_redline['geometry'].head()",
   "outputs": [
    {
     "output_type": "execute_result",
     "execution_count": 65,
     "data": {
      "text/plain": "0    POLYGON ((-71.08560 42.34788, -71.08531 42.347...\n1    POLYGON ((-71.10845 42.32239, -71.10798 42.322...\n2    POLYGON ((-71.07921 42.34270, -71.07856 42.343...\n3    POLYGON ((-71.13924 42.23366, -71.13841 42.234...\n4    POLYGON ((-71.09208 42.30995, -71.09182 42.310...\nName: geometry, dtype: geometry"
     },
     "metadata": {}
    }
   ],
   "execution_count": null
  },
  {
   "cell_type": "code",
   "metadata": {
    "tags": [],
    "cell_id": "00012-ad2976bc-d34b-4042-bcda-f306dc11bb1c",
    "deepnote_to_be_reexecuted": false,
    "source_hash": "16f913d6",
    "execution_start": 1623462842908,
    "execution_millis": 26,
    "deepnote_cell_type": "code"
   },
   "source": "df_redline = df_redline[['GEOID','reweighted_redline_index', 'ordinal_value','geometry']]",
   "outputs": [],
   "execution_count": null
  },
  {
   "cell_type": "code",
   "metadata": {
    "tags": [],
    "cell_id": "00013-161f3db4-742a-4bea-834b-dd391ad478b2",
    "deepnote_to_be_reexecuted": false,
    "source_hash": "32488a34",
    "execution_start": 1623462843373,
    "execution_millis": 68,
    "deepnote_cell_type": "code"
   },
   "source": "df_redline.geometry = df_redline['geometry'].centroid",
   "outputs": [
    {
     "name": "stderr",
     "text": "/shared-libs/python3.7/py-core/lib/python3.7/site-packages/ipykernel_launcher.py:1: UserWarning: Geometry is in a geographic CRS. Results from 'centroid' are likely incorrect. Use 'GeoSeries.to_crs()' to re-project geometries to a projected CRS before this operation.\n\n  \"\"\"Entry point for launching an IPython kernel.\n",
     "output_type": "stream"
    }
   ],
   "execution_count": null
  },
  {
   "cell_type": "code",
   "metadata": {
    "tags": [],
    "cell_id": "00014-f9526872-5e16-47cd-b412-52716daf1bc2",
    "deepnote_to_be_reexecuted": false,
    "source_hash": "3e5f1ca7",
    "execution_start": 1623462844119,
    "execution_millis": 4,
    "deepnote_cell_type": "code"
   },
   "source": "df_redline['longitude'] = df_redline['geometry'].x\ndf_redline['latitude'] = df_redline['geometry'].y",
   "outputs": [],
   "execution_count": null
  },
  {
   "cell_type": "code",
   "metadata": {
    "tags": [],
    "cell_id": "00015-3a4d7a52-a121-486d-b9a8-1c079735c96b",
    "deepnote_to_be_reexecuted": false,
    "source_hash": "4ba5f93e",
    "execution_start": 1623462845128,
    "execution_millis": 3,
    "deepnote_cell_type": "code"
   },
   "source": "# df_redline.rename(columns = {'GEOID':'geo_id'}, inplace=True)",
   "outputs": [],
   "execution_count": null
  },
  {
   "cell_type": "code",
   "metadata": {
    "tags": [],
    "cell_id": "00017-ce33fa5b-e764-42f7-a4e2-c4e9463ce6ae",
    "deepnote_to_be_reexecuted": false,
    "source_hash": "63a26026",
    "execution_start": 1623462845651,
    "execution_millis": 14,
    "deepnote_cell_type": "code"
   },
   "source": "df_redline.columns",
   "outputs": [
    {
     "output_type": "execute_result",
     "execution_count": 70,
     "data": {
      "text/plain": "Index(['GEOID', 'reweighted_redline_index', 'ordinal_value', 'geometry',\n       'longitude', 'latitude'],\n      dtype='object')"
     },
     "metadata": {}
    }
   ],
   "execution_count": null
  },
  {
   "cell_type": "code",
   "metadata": {
    "tags": [],
    "cell_id": "00018-b5c109c5-060b-4178-9018-fbc6ad5029ef",
    "deepnote_to_be_reexecuted": false,
    "source_hash": "25d43fa0",
    "execution_start": 1623462846153,
    "execution_millis": 11,
    "deepnote_cell_type": "code"
   },
   "source": "df.columns",
   "outputs": [
    {
     "output_type": "execute_result",
     "execution_count": 71,
     "data": {
      "text/plain": "Index(['GEOID', 'city_name', 'reweighted_redline_index', 'total_pop',\n       'households', 'median_age', 'median_income', 'income_per_capita',\n       'gini_index', 'housing_units',\n       'renter_occupied_housing_units_paying_cash_median_gross_rent',\n       'owner_occupied_housing_units_lower_value_quartile',\n       'owner_occupied_housing_units_median_value',\n       'owner_occupied_housing_units_upper_value_quartile',\n       'median_year_structure_built', 'median_rent',\n       'percent_income_spent_on_rent', 'bachelors_degree_or_higher_25_64',\n       'aged_65_or_older_normalised', 'aged_17_or_younger_normalised',\n       'multi_unit_structures_normalised', 'poverty_normalised',\n       'households_public_asst_or_food_stamps_normalised',\n       'black_pop_normalised', 'asian_pop_normalised',\n       'hispanic_pop_normalised', 'amerindian_pop_normalised',\n       'white_pop_normalised', 'non_white_pop_normalised',\n       'other_race_pop_normalised', 'male_pop_normalised',\n       'female_pop_normalised', 'pop_currently_unmarried_normalised',\n       'pop_now_married_normalised', 'not_us_citizen_pop_normalised',\n       'children_normalised', 'married_households_normalised',\n       'nonfamily_households_normalised', 'family_households_normalised',\n       'occupied_housing_units_normalised',\n       'housing_units_renter_occupied_normalised',\n       'vacant_housing_units_normalised',\n       'vacant_housing_units_for_rent_normalised',\n       'vacant_housing_units_for_sale_normalised', 'mobile_homes_normalised',\n       'group_quarters_normalised', 'housing_built_1939_or_earlier_normalised',\n       'housing_built_2004_or_later_normalised',\n       'children_in_single_female_hh_normalised',\n       'rent_burden_not_computed_normalised',\n       'rent_under_30_percent_normalised', 'rent_30_to_50_percent_normalised',\n       'rent_over_50_percent_normalised',\n       'aggregate_travel_time_to_work_normalised', 'walked_to_work_normalised',\n       'worked_at_home_normalised', 'no_car_normalised', 'no_cars_normalised',\n       'one_or_more_cars_normalised',\n       'commuters_by_subway_or_elevated_normalised',\n       'commuters_by_bus_normalised',\n       'commuters_personal_transport_normalised',\n       'education_high_school_or_less_normalised',\n       'education_less_than_bachelors_normalised',\n       'education_bachelors_degree_normalised',\n       'education_graduate_degree_normalised', 'income_less_14999_normalised',\n       'income_15000_24999_normalised', 'income_25000_34999_normalised',\n       'income_35000_59999_normalised', 'income_60000_99999_normalised',\n       'income_100000_199999_normalised', 'income_200000_or_more_normalised',\n       'million_dollar_housing_units_normalised',\n       'mortgaged_housing_units_normalised',\n       'owner_occupied_housing_units_normalised', 'employed_pop_normalised',\n       'unemployed_pop_normalised'],\n      dtype='object')"
     },
     "metadata": {}
    }
   ],
   "execution_count": null
  },
  {
   "cell_type": "code",
   "metadata": {
    "tags": [],
    "cell_id": "00016-9b34ba0d-0e6c-417e-93f1-e5d3472e85a6",
    "deepnote_to_be_reexecuted": false,
    "source_hash": "67872785",
    "execution_start": 1623462846797,
    "execution_millis": 10,
    "deepnote_cell_type": "code"
   },
   "source": "df = pd.merge(df,\n                 df_redline,\n                 on='GEOID', \n                 how='left')",
   "outputs": [],
   "execution_count": null
  },
  {
   "cell_type": "code",
   "metadata": {
    "tags": [],
    "cell_id": "00017-7c99b5e6-7c11-4443-8b38-d7993d53ed15",
    "deepnote_to_be_reexecuted": false,
    "source_hash": "65babbf1",
    "execution_start": 1623462848191,
    "execution_millis": 11,
    "deepnote_cell_type": "code"
   },
   "source": "df.columns.tolist()",
   "outputs": [
    {
     "output_type": "execute_result",
     "execution_count": 73,
     "data": {
      "text/plain": "['GEOID',\n 'city_name',\n 'reweighted_redline_index_x',\n 'total_pop',\n 'households',\n 'median_age',\n 'median_income',\n 'income_per_capita',\n 'gini_index',\n 'housing_units',\n 'renter_occupied_housing_units_paying_cash_median_gross_rent',\n 'owner_occupied_housing_units_lower_value_quartile',\n 'owner_occupied_housing_units_median_value',\n 'owner_occupied_housing_units_upper_value_quartile',\n 'median_year_structure_built',\n 'median_rent',\n 'percent_income_spent_on_rent',\n 'bachelors_degree_or_higher_25_64',\n 'aged_65_or_older_normalised',\n 'aged_17_or_younger_normalised',\n 'multi_unit_structures_normalised',\n 'poverty_normalised',\n 'households_public_asst_or_food_stamps_normalised',\n 'black_pop_normalised',\n 'asian_pop_normalised',\n 'hispanic_pop_normalised',\n 'amerindian_pop_normalised',\n 'white_pop_normalised',\n 'non_white_pop_normalised',\n 'other_race_pop_normalised',\n 'male_pop_normalised',\n 'female_pop_normalised',\n 'pop_currently_unmarried_normalised',\n 'pop_now_married_normalised',\n 'not_us_citizen_pop_normalised',\n 'children_normalised',\n 'married_households_normalised',\n 'nonfamily_households_normalised',\n 'family_households_normalised',\n 'occupied_housing_units_normalised',\n 'housing_units_renter_occupied_normalised',\n 'vacant_housing_units_normalised',\n 'vacant_housing_units_for_rent_normalised',\n 'vacant_housing_units_for_sale_normalised',\n 'mobile_homes_normalised',\n 'group_quarters_normalised',\n 'housing_built_1939_or_earlier_normalised',\n 'housing_built_2004_or_later_normalised',\n 'children_in_single_female_hh_normalised',\n 'rent_burden_not_computed_normalised',\n 'rent_under_30_percent_normalised',\n 'rent_30_to_50_percent_normalised',\n 'rent_over_50_percent_normalised',\n 'aggregate_travel_time_to_work_normalised',\n 'walked_to_work_normalised',\n 'worked_at_home_normalised',\n 'no_car_normalised',\n 'no_cars_normalised',\n 'one_or_more_cars_normalised',\n 'commuters_by_subway_or_elevated_normalised',\n 'commuters_by_bus_normalised',\n 'commuters_personal_transport_normalised',\n 'education_high_school_or_less_normalised',\n 'education_less_than_bachelors_normalised',\n 'education_bachelors_degree_normalised',\n 'education_graduate_degree_normalised',\n 'income_less_14999_normalised',\n 'income_15000_24999_normalised',\n 'income_25000_34999_normalised',\n 'income_35000_59999_normalised',\n 'income_60000_99999_normalised',\n 'income_100000_199999_normalised',\n 'income_200000_or_more_normalised',\n 'million_dollar_housing_units_normalised',\n 'mortgaged_housing_units_normalised',\n 'owner_occupied_housing_units_normalised',\n 'employed_pop_normalised',\n 'unemployed_pop_normalised',\n 'reweighted_redline_index_y',\n 'ordinal_value',\n 'geometry',\n 'longitude',\n 'latitude']"
     },
     "metadata": {}
    }
   ],
   "execution_count": null
  },
  {
   "cell_type": "code",
   "metadata": {
    "tags": [],
    "cell_id": "00018-a4a7b17c-d588-43a3-b5b9-cdb7cb3243e1",
    "deepnote_to_be_reexecuted": false,
    "source_hash": "fa7313e6",
    "execution_start": 1623462849215,
    "execution_millis": 46,
    "deepnote_cell_type": "code"
   },
   "source": "# Create 4 new SVI variables from ACS variables \ndf['aged_65_or_older'] = df['female_65_to_66'] + df['female_67_to_69'] + df['female_70_to_74'] + df['female_75_to_79'] + df['female_80_to_84'] + df['female_85_and_over'] + df['male_65_to_66'] + df['male_67_to_69'] + df['male_70_to_74'] + df['male_75_to_79'] + df['male_80_to_84'] + df['male_85_and_over']\ndf['aged_17_or_younger'] = df['female_under_5'] + df['female_5_to_9'] + df['female_10_to_14'] + df['female_15_to_17'] + df['male_under_5'] + df['male_5_to_9'] + df['male_10_to_14'] + df['male_15_to_17']\ndf['multi_unit_structures'] = df['dwellings_10_to_19_units'] + df['dwellings_20_to_49_units'] + df['dwellings_50_or_more_units']\n\n# Non-white\ndf['non_white'] = df['total_pop'] - df['white_pop']",
   "outputs": [
    {
     "output_type": "error",
     "ename": "KeyError",
     "evalue": "'female_65_to_66'",
     "traceback": [
      "\u001b[0;31m---------------------------------------------------------------------------\u001b[0m",
      "\u001b[0;31mKeyError\u001b[0m                                  Traceback (most recent call last)",
      "\u001b[0;32m/shared-libs/python3.7/py/lib/python3.7/site-packages/pandas/core/indexes/base.py\u001b[0m in \u001b[0;36mget_loc\u001b[0;34m(self, key, method, tolerance)\u001b[0m\n\u001b[1;32m   3079\u001b[0m             \u001b[0;32mtry\u001b[0m\u001b[0;34m:\u001b[0m\u001b[0;34m\u001b[0m\u001b[0;34m\u001b[0m\u001b[0m\n\u001b[0;32m-> 3080\u001b[0;31m                 \u001b[0;32mreturn\u001b[0m \u001b[0mself\u001b[0m\u001b[0;34m.\u001b[0m\u001b[0m_engine\u001b[0m\u001b[0;34m.\u001b[0m\u001b[0mget_loc\u001b[0m\u001b[0;34m(\u001b[0m\u001b[0mcasted_key\u001b[0m\u001b[0;34m)\u001b[0m\u001b[0;34m\u001b[0m\u001b[0;34m\u001b[0m\u001b[0m\n\u001b[0m\u001b[1;32m   3081\u001b[0m             \u001b[0;32mexcept\u001b[0m \u001b[0mKeyError\u001b[0m \u001b[0;32mas\u001b[0m \u001b[0merr\u001b[0m\u001b[0;34m:\u001b[0m\u001b[0;34m\u001b[0m\u001b[0;34m\u001b[0m\u001b[0m\n",
      "\u001b[0;32mpandas/_libs/index.pyx\u001b[0m in \u001b[0;36mpandas._libs.index.IndexEngine.get_loc\u001b[0;34m()\u001b[0m\n",
      "\u001b[0;32mpandas/_libs/index.pyx\u001b[0m in \u001b[0;36mpandas._libs.index.IndexEngine.get_loc\u001b[0;34m()\u001b[0m\n",
      "\u001b[0;32mpandas/_libs/hashtable_class_helper.pxi\u001b[0m in \u001b[0;36mpandas._libs.hashtable.PyObjectHashTable.get_item\u001b[0;34m()\u001b[0m\n",
      "\u001b[0;32mpandas/_libs/hashtable_class_helper.pxi\u001b[0m in \u001b[0;36mpandas._libs.hashtable.PyObjectHashTable.get_item\u001b[0;34m()\u001b[0m\n",
      "\u001b[0;31mKeyError\u001b[0m: 'female_65_to_66'",
      "\nThe above exception was the direct cause of the following exception:\n",
      "\u001b[0;31mKeyError\u001b[0m                                  Traceback (most recent call last)",
      "\u001b[0;32m<ipython-input-74-251b79aa35f8>\u001b[0m in \u001b[0;36m<module>\u001b[0;34m\u001b[0m\n\u001b[1;32m      1\u001b[0m \u001b[0;31m# Create 4 new SVI variables from ACS variables\u001b[0m\u001b[0;34m\u001b[0m\u001b[0;34m\u001b[0m\u001b[0;34m\u001b[0m\u001b[0m\n\u001b[0;32m----> 2\u001b[0;31m \u001b[0mdf\u001b[0m\u001b[0;34m[\u001b[0m\u001b[0;34m'aged_65_or_older'\u001b[0m\u001b[0;34m]\u001b[0m \u001b[0;34m=\u001b[0m \u001b[0mdf\u001b[0m\u001b[0;34m[\u001b[0m\u001b[0;34m'female_65_to_66'\u001b[0m\u001b[0;34m]\u001b[0m \u001b[0;34m+\u001b[0m \u001b[0mdf\u001b[0m\u001b[0;34m[\u001b[0m\u001b[0;34m'female_67_to_69'\u001b[0m\u001b[0;34m]\u001b[0m \u001b[0;34m+\u001b[0m \u001b[0mdf\u001b[0m\u001b[0;34m[\u001b[0m\u001b[0;34m'female_70_to_74'\u001b[0m\u001b[0;34m]\u001b[0m \u001b[0;34m+\u001b[0m \u001b[0mdf\u001b[0m\u001b[0;34m[\u001b[0m\u001b[0;34m'female_75_to_79'\u001b[0m\u001b[0;34m]\u001b[0m \u001b[0;34m+\u001b[0m \u001b[0mdf\u001b[0m\u001b[0;34m[\u001b[0m\u001b[0;34m'female_80_to_84'\u001b[0m\u001b[0;34m]\u001b[0m \u001b[0;34m+\u001b[0m \u001b[0mdf\u001b[0m\u001b[0;34m[\u001b[0m\u001b[0;34m'female_85_and_over'\u001b[0m\u001b[0;34m]\u001b[0m \u001b[0;34m+\u001b[0m \u001b[0mdf\u001b[0m\u001b[0;34m[\u001b[0m\u001b[0;34m'male_65_to_66'\u001b[0m\u001b[0;34m]\u001b[0m \u001b[0;34m+\u001b[0m \u001b[0mdf\u001b[0m\u001b[0;34m[\u001b[0m\u001b[0;34m'male_67_to_69'\u001b[0m\u001b[0;34m]\u001b[0m \u001b[0;34m+\u001b[0m \u001b[0mdf\u001b[0m\u001b[0;34m[\u001b[0m\u001b[0;34m'male_70_to_74'\u001b[0m\u001b[0;34m]\u001b[0m \u001b[0;34m+\u001b[0m \u001b[0mdf\u001b[0m\u001b[0;34m[\u001b[0m\u001b[0;34m'male_75_to_79'\u001b[0m\u001b[0;34m]\u001b[0m \u001b[0;34m+\u001b[0m \u001b[0mdf\u001b[0m\u001b[0;34m[\u001b[0m\u001b[0;34m'male_80_to_84'\u001b[0m\u001b[0;34m]\u001b[0m \u001b[0;34m+\u001b[0m \u001b[0mdf\u001b[0m\u001b[0;34m[\u001b[0m\u001b[0;34m'male_85_and_over'\u001b[0m\u001b[0;34m]\u001b[0m\u001b[0;34m\u001b[0m\u001b[0;34m\u001b[0m\u001b[0m\n\u001b[0m\u001b[1;32m      3\u001b[0m \u001b[0mdf\u001b[0m\u001b[0;34m[\u001b[0m\u001b[0;34m'aged_17_or_younger'\u001b[0m\u001b[0;34m]\u001b[0m \u001b[0;34m=\u001b[0m \u001b[0mdf\u001b[0m\u001b[0;34m[\u001b[0m\u001b[0;34m'female_under_5'\u001b[0m\u001b[0;34m]\u001b[0m \u001b[0;34m+\u001b[0m \u001b[0mdf\u001b[0m\u001b[0;34m[\u001b[0m\u001b[0;34m'female_5_to_9'\u001b[0m\u001b[0;34m]\u001b[0m \u001b[0;34m+\u001b[0m \u001b[0mdf\u001b[0m\u001b[0;34m[\u001b[0m\u001b[0;34m'female_10_to_14'\u001b[0m\u001b[0;34m]\u001b[0m \u001b[0;34m+\u001b[0m \u001b[0mdf\u001b[0m\u001b[0;34m[\u001b[0m\u001b[0;34m'female_15_to_17'\u001b[0m\u001b[0;34m]\u001b[0m \u001b[0;34m+\u001b[0m \u001b[0mdf\u001b[0m\u001b[0;34m[\u001b[0m\u001b[0;34m'male_under_5'\u001b[0m\u001b[0;34m]\u001b[0m \u001b[0;34m+\u001b[0m \u001b[0mdf\u001b[0m\u001b[0;34m[\u001b[0m\u001b[0;34m'male_5_to_9'\u001b[0m\u001b[0;34m]\u001b[0m \u001b[0;34m+\u001b[0m \u001b[0mdf\u001b[0m\u001b[0;34m[\u001b[0m\u001b[0;34m'male_10_to_14'\u001b[0m\u001b[0;34m]\u001b[0m \u001b[0;34m+\u001b[0m \u001b[0mdf\u001b[0m\u001b[0;34m[\u001b[0m\u001b[0;34m'male_15_to_17'\u001b[0m\u001b[0;34m]\u001b[0m\u001b[0;34m\u001b[0m\u001b[0;34m\u001b[0m\u001b[0m\n\u001b[1;32m      4\u001b[0m \u001b[0mdf\u001b[0m\u001b[0;34m[\u001b[0m\u001b[0;34m'multi_unit_structures'\u001b[0m\u001b[0;34m]\u001b[0m \u001b[0;34m=\u001b[0m \u001b[0mdf\u001b[0m\u001b[0;34m[\u001b[0m\u001b[0;34m'dwellings_10_to_19_units'\u001b[0m\u001b[0;34m]\u001b[0m \u001b[0;34m+\u001b[0m \u001b[0mdf\u001b[0m\u001b[0;34m[\u001b[0m\u001b[0;34m'dwellings_20_to_49_units'\u001b[0m\u001b[0;34m]\u001b[0m \u001b[0;34m+\u001b[0m \u001b[0mdf\u001b[0m\u001b[0;34m[\u001b[0m\u001b[0;34m'dwellings_50_or_more_units'\u001b[0m\u001b[0;34m]\u001b[0m\u001b[0;34m\u001b[0m\u001b[0;34m\u001b[0m\u001b[0m\n\u001b[1;32m      5\u001b[0m \u001b[0;34m\u001b[0m\u001b[0m\n",
      "\u001b[0;32m/shared-libs/python3.7/py/lib/python3.7/site-packages/pandas/core/frame.py\u001b[0m in \u001b[0;36m__getitem__\u001b[0;34m(self, key)\u001b[0m\n\u001b[1;32m   3022\u001b[0m             \u001b[0;32mif\u001b[0m \u001b[0mself\u001b[0m\u001b[0;34m.\u001b[0m\u001b[0mcolumns\u001b[0m\u001b[0;34m.\u001b[0m\u001b[0mnlevels\u001b[0m \u001b[0;34m>\u001b[0m \u001b[0;36m1\u001b[0m\u001b[0;34m:\u001b[0m\u001b[0;34m\u001b[0m\u001b[0;34m\u001b[0m\u001b[0m\n\u001b[1;32m   3023\u001b[0m                 \u001b[0;32mreturn\u001b[0m \u001b[0mself\u001b[0m\u001b[0;34m.\u001b[0m\u001b[0m_getitem_multilevel\u001b[0m\u001b[0;34m(\u001b[0m\u001b[0mkey\u001b[0m\u001b[0;34m)\u001b[0m\u001b[0;34m\u001b[0m\u001b[0;34m\u001b[0m\u001b[0m\n\u001b[0;32m-> 3024\u001b[0;31m             \u001b[0mindexer\u001b[0m \u001b[0;34m=\u001b[0m \u001b[0mself\u001b[0m\u001b[0;34m.\u001b[0m\u001b[0mcolumns\u001b[0m\u001b[0;34m.\u001b[0m\u001b[0mget_loc\u001b[0m\u001b[0;34m(\u001b[0m\u001b[0mkey\u001b[0m\u001b[0;34m)\u001b[0m\u001b[0;34m\u001b[0m\u001b[0;34m\u001b[0m\u001b[0m\n\u001b[0m\u001b[1;32m   3025\u001b[0m             \u001b[0;32mif\u001b[0m \u001b[0mis_integer\u001b[0m\u001b[0;34m(\u001b[0m\u001b[0mindexer\u001b[0m\u001b[0;34m)\u001b[0m\u001b[0;34m:\u001b[0m\u001b[0;34m\u001b[0m\u001b[0;34m\u001b[0m\u001b[0m\n\u001b[1;32m   3026\u001b[0m                 \u001b[0mindexer\u001b[0m \u001b[0;34m=\u001b[0m \u001b[0;34m[\u001b[0m\u001b[0mindexer\u001b[0m\u001b[0;34m]\u001b[0m\u001b[0;34m\u001b[0m\u001b[0;34m\u001b[0m\u001b[0m\n",
      "\u001b[0;32m/shared-libs/python3.7/py/lib/python3.7/site-packages/pandas/core/indexes/base.py\u001b[0m in \u001b[0;36mget_loc\u001b[0;34m(self, key, method, tolerance)\u001b[0m\n\u001b[1;32m   3080\u001b[0m                 \u001b[0;32mreturn\u001b[0m \u001b[0mself\u001b[0m\u001b[0;34m.\u001b[0m\u001b[0m_engine\u001b[0m\u001b[0;34m.\u001b[0m\u001b[0mget_loc\u001b[0m\u001b[0;34m(\u001b[0m\u001b[0mcasted_key\u001b[0m\u001b[0;34m)\u001b[0m\u001b[0;34m\u001b[0m\u001b[0;34m\u001b[0m\u001b[0m\n\u001b[1;32m   3081\u001b[0m             \u001b[0;32mexcept\u001b[0m \u001b[0mKeyError\u001b[0m \u001b[0;32mas\u001b[0m \u001b[0merr\u001b[0m\u001b[0;34m:\u001b[0m\u001b[0;34m\u001b[0m\u001b[0;34m\u001b[0m\u001b[0m\n\u001b[0;32m-> 3082\u001b[0;31m                 \u001b[0;32mraise\u001b[0m \u001b[0mKeyError\u001b[0m\u001b[0;34m(\u001b[0m\u001b[0mkey\u001b[0m\u001b[0;34m)\u001b[0m \u001b[0;32mfrom\u001b[0m \u001b[0merr\u001b[0m\u001b[0;34m\u001b[0m\u001b[0;34m\u001b[0m\u001b[0m\n\u001b[0m\u001b[1;32m   3083\u001b[0m \u001b[0;34m\u001b[0m\u001b[0m\n\u001b[1;32m   3084\u001b[0m         \u001b[0;32mif\u001b[0m \u001b[0mtolerance\u001b[0m \u001b[0;32mis\u001b[0m \u001b[0;32mnot\u001b[0m \u001b[0;32mNone\u001b[0m\u001b[0;34m:\u001b[0m\u001b[0;34m\u001b[0m\u001b[0;34m\u001b[0m\u001b[0m\n",
      "\u001b[0;31mKeyError\u001b[0m: 'female_65_to_66'"
     ]
    }
   ],
   "execution_count": null
  },
  {
   "cell_type": "code",
   "metadata": {
    "tags": [],
    "cell_id": "00019-a04c5287-2382-4a4c-a2e3-4790999a8478",
    "deepnote_to_be_reexecuted": false,
    "source_hash": "8cce967e",
    "execution_start": 1623462850050,
    "execution_millis": 4,
    "deepnote_cell_type": "code"
   },
   "source": "def perc_bin(x):\n    \n    if x > 0 and x <= 0.1:\n      val = 1\n    elif x > 0.1 and x <= 0.2:\n      val = 2\n    elif x > 0.2 and x <= 0.3:\n      val = 3\n    elif x > 0.3 and x <= 0.4:\n      val = 4\n    elif x > 0.4 and x <= 0.5:\n      val = 5\n    elif x > 0.5 and x <= 0.6:\n      val = 6\n    elif x > 0.6 and x <= 0.7:\n      val = 7\n    elif x > 0.7 and x <= 0.8:\n      val = 8\n    elif x > 0.8 and x <= 0.9:\n      val = 9\n    elif x > 0.9 and x <= 1:\n      val = 10\n    else:\n      val = 0\n\n    return val",
   "outputs": [],
   "execution_count": null
  },
  {
   "cell_type": "code",
   "metadata": {
    "tags": [],
    "cell_id": "00020-70403c8d-2771-49dc-b6eb-7f88a3aa0097",
    "deepnote_to_be_reexecuted": false,
    "source_hash": "227e84bb",
    "execution_start": 1623462856530,
    "execution_millis": 1220,
    "deepnote_cell_type": "code"
   },
   "source": "sns.heatmap(df.isnull(), cbar=False)",
   "outputs": [
    {
     "output_type": "execute_result",
     "execution_count": 76,
     "data": {
      "text/plain": "<AxesSubplot:>"
     },
     "metadata": {}
    },
    {
     "data": {
      "text/plain": "<Figure size 432x288 with 1 Axes>",
      "image/png": "[encoded data removed]"
     },
     "metadata": {
      "needs_background": "light",
      "image/png": {
       "width": 375,
       "height": 472
      }
     },
     "output_type": "display_data"
    }
   ],
   "execution_count": null
  },
  {
   "cell_type": "code",
   "metadata": {
    "tags": [],
    "cell_id": "00021-055e6ea4-384d-4aff-af46-2b2400dead2f",
    "deepnote_to_be_reexecuted": false,
    "source_hash": "6f32bc72",
    "execution_start": 1623462858348,
    "execution_millis": 4,
    "deepnote_cell_type": "code"
   },
   "source": "# Define a set variables selected based on SVI, for the purpose of data cleaning\n\nSVI_Vars = ['reweighted_redline_index','longitude','latitude','poverty','unemployed_pop','median_income','income_per_capita','less_than_high_school_graduate',\n'aged_65_or_older','aged_17_or_younger','one_parent_families_with_young_children',\n'non_white',\n'multi_unit_structures','mobile_homes','no_cars','group_quarters',\n'pop_determined_poverty_status','total_pop','households','housing_units']",
   "outputs": [],
   "execution_count": null
  },
  {
   "cell_type": "code",
   "metadata": {
    "tags": [],
    "cell_id": "00022-a3d669c7-dc3d-42fd-8a56-c46a6731abe1",
    "deepnote_to_be_reexecuted": false,
    "source_hash": "6b0ad8cb",
    "execution_start": 1623462859781,
    "execution_millis": 25,
    "deepnote_cell_type": "code"
   },
   "source": "# Remove duplicates and tracts with null values\n\ndf_Boston = df.copy() # Save a copy of the full Boston ACS dataset #Use copy to \ndf = df_Boston[SVI_Vars]\ndf.head()",
   "outputs": [
    {
     "output_type": "error",
     "ename": "KeyError",
     "evalue": "\"['unemployed_pop', 'non_white', 'reweighted_redline_index', 'multi_unit_structures', 'less_than_high_school_graduate', 'aged_17_or_younger', 'one_parent_families_with_young_children', 'aged_65_or_older', 'mobile_homes', 'pop_determined_poverty_status', 'group_quarters', 'poverty', 'no_cars'] not in index\"",
     "traceback": [
      "\u001b[0;31m---------------------------------------------------------------------------\u001b[0m",
      "\u001b[0;31mKeyError\u001b[0m                                  Traceback (most recent call last)",
      "\u001b[0;32m<ipython-input-78-7810c3e01ab0>\u001b[0m in \u001b[0;36m<module>\u001b[0;34m\u001b[0m\n\u001b[1;32m      2\u001b[0m \u001b[0;34m\u001b[0m\u001b[0m\n\u001b[1;32m      3\u001b[0m \u001b[0mdf_Boston\u001b[0m \u001b[0;34m=\u001b[0m \u001b[0mdf\u001b[0m\u001b[0;34m.\u001b[0m\u001b[0mcopy\u001b[0m\u001b[0;34m(\u001b[0m\u001b[0;34m)\u001b[0m \u001b[0;31m# Save a copy of the full Boston ACS dataset #Use copy to\u001b[0m\u001b[0;34m\u001b[0m\u001b[0;34m\u001b[0m\u001b[0m\n\u001b[0;32m----> 4\u001b[0;31m \u001b[0mdf\u001b[0m \u001b[0;34m=\u001b[0m \u001b[0mdf_Boston\u001b[0m\u001b[0;34m[\u001b[0m\u001b[0mSVI_Vars\u001b[0m\u001b[0;34m]\u001b[0m\u001b[0;34m\u001b[0m\u001b[0;34m\u001b[0m\u001b[0m\n\u001b[0m\u001b[1;32m      5\u001b[0m \u001b[0mdf\u001b[0m\u001b[0;34m.\u001b[0m\u001b[0mhead\u001b[0m\u001b[0;34m(\u001b[0m\u001b[0;34m)\u001b[0m\u001b[0;34m\u001b[0m\u001b[0;34m\u001b[0m\u001b[0m\n",
      "\u001b[0;32m/shared-libs/python3.7/py/lib/python3.7/site-packages/pandas/core/frame.py\u001b[0m in \u001b[0;36m__getitem__\u001b[0;34m(self, key)\u001b[0m\n\u001b[1;32m   3028\u001b[0m             \u001b[0;32mif\u001b[0m \u001b[0mis_iterator\u001b[0m\u001b[0;34m(\u001b[0m\u001b[0mkey\u001b[0m\u001b[0;34m)\u001b[0m\u001b[0;34m:\u001b[0m\u001b[0;34m\u001b[0m\u001b[0;34m\u001b[0m\u001b[0m\n\u001b[1;32m   3029\u001b[0m                 \u001b[0mkey\u001b[0m \u001b[0;34m=\u001b[0m \u001b[0mlist\u001b[0m\u001b[0;34m(\u001b[0m\u001b[0mkey\u001b[0m\u001b[0;34m)\u001b[0m\u001b[0;34m\u001b[0m\u001b[0;34m\u001b[0m\u001b[0m\n\u001b[0;32m-> 3030\u001b[0;31m             \u001b[0mindexer\u001b[0m \u001b[0;34m=\u001b[0m \u001b[0mself\u001b[0m\u001b[0;34m.\u001b[0m\u001b[0mloc\u001b[0m\u001b[0;34m.\u001b[0m\u001b[0m_get_listlike_indexer\u001b[0m\u001b[0;34m(\u001b[0m\u001b[0mkey\u001b[0m\u001b[0;34m,\u001b[0m \u001b[0maxis\u001b[0m\u001b[0;34m=\u001b[0m\u001b[0;36m1\u001b[0m\u001b[0;34m,\u001b[0m \u001b[0mraise_missing\u001b[0m\u001b[0;34m=\u001b[0m\u001b[0;32mTrue\u001b[0m\u001b[0;34m)\u001b[0m\u001b[0;34m[\u001b[0m\u001b[0;36m1\u001b[0m\u001b[0;34m]\u001b[0m\u001b[0;34m\u001b[0m\u001b[0;34m\u001b[0m\u001b[0m\n\u001b[0m\u001b[1;32m   3031\u001b[0m \u001b[0;34m\u001b[0m\u001b[0m\n\u001b[1;32m   3032\u001b[0m         \u001b[0;31m# take() does not accept boolean indexers\u001b[0m\u001b[0;34m\u001b[0m\u001b[0;34m\u001b[0m\u001b[0;34m\u001b[0m\u001b[0m\n",
      "\u001b[0;32m/shared-libs/python3.7/py/lib/python3.7/site-packages/pandas/core/indexing.py\u001b[0m in \u001b[0;36m_get_listlike_indexer\u001b[0;34m(self, key, axis, raise_missing)\u001b[0m\n\u001b[1;32m   1264\u001b[0m             \u001b[0mkeyarr\u001b[0m\u001b[0;34m,\u001b[0m \u001b[0mindexer\u001b[0m\u001b[0;34m,\u001b[0m \u001b[0mnew_indexer\u001b[0m \u001b[0;34m=\u001b[0m \u001b[0max\u001b[0m\u001b[0;34m.\u001b[0m\u001b[0m_reindex_non_unique\u001b[0m\u001b[0;34m(\u001b[0m\u001b[0mkeyarr\u001b[0m\u001b[0;34m)\u001b[0m\u001b[0;34m\u001b[0m\u001b[0;34m\u001b[0m\u001b[0m\n\u001b[1;32m   1265\u001b[0m \u001b[0;34m\u001b[0m\u001b[0m\n\u001b[0;32m-> 1266\u001b[0;31m         \u001b[0mself\u001b[0m\u001b[0;34m.\u001b[0m\u001b[0m_validate_read_indexer\u001b[0m\u001b[0;34m(\u001b[0m\u001b[0mkeyarr\u001b[0m\u001b[0;34m,\u001b[0m \u001b[0mindexer\u001b[0m\u001b[0;34m,\u001b[0m \u001b[0maxis\u001b[0m\u001b[0;34m,\u001b[0m \u001b[0mraise_missing\u001b[0m\u001b[0;34m=\u001b[0m\u001b[0mraise_missing\u001b[0m\u001b[0;34m)\u001b[0m\u001b[0;34m\u001b[0m\u001b[0;34m\u001b[0m\u001b[0m\n\u001b[0m\u001b[1;32m   1267\u001b[0m         \u001b[0;32mreturn\u001b[0m \u001b[0mkeyarr\u001b[0m\u001b[0;34m,\u001b[0m \u001b[0mindexer\u001b[0m\u001b[0;34m\u001b[0m\u001b[0;34m\u001b[0m\u001b[0m\n\u001b[1;32m   1268\u001b[0m \u001b[0;34m\u001b[0m\u001b[0m\n",
      "\u001b[0;32m/shared-libs/python3.7/py/lib/python3.7/site-packages/pandas/core/indexing.py\u001b[0m in \u001b[0;36m_validate_read_indexer\u001b[0;34m(self, key, indexer, axis, raise_missing)\u001b[0m\n\u001b[1;32m   1314\u001b[0m             \u001b[0;32mif\u001b[0m \u001b[0mraise_missing\u001b[0m\u001b[0;34m:\u001b[0m\u001b[0;34m\u001b[0m\u001b[0;34m\u001b[0m\u001b[0m\n\u001b[1;32m   1315\u001b[0m                 \u001b[0mnot_found\u001b[0m \u001b[0;34m=\u001b[0m \u001b[0mlist\u001b[0m\u001b[0;34m(\u001b[0m\u001b[0mset\u001b[0m\u001b[0;34m(\u001b[0m\u001b[0mkey\u001b[0m\u001b[0;34m)\u001b[0m \u001b[0;34m-\u001b[0m \u001b[0mset\u001b[0m\u001b[0;34m(\u001b[0m\u001b[0max\u001b[0m\u001b[0;34m)\u001b[0m\u001b[0;34m)\u001b[0m\u001b[0;34m\u001b[0m\u001b[0;34m\u001b[0m\u001b[0m\n\u001b[0;32m-> 1316\u001b[0;31m                 \u001b[0;32mraise\u001b[0m \u001b[0mKeyError\u001b[0m\u001b[0;34m(\u001b[0m\u001b[0;34mf\"{not_found} not in index\"\u001b[0m\u001b[0;34m)\u001b[0m\u001b[0;34m\u001b[0m\u001b[0;34m\u001b[0m\u001b[0m\n\u001b[0m\u001b[1;32m   1317\u001b[0m \u001b[0;34m\u001b[0m\u001b[0m\n\u001b[1;32m   1318\u001b[0m             \u001b[0mnot_found\u001b[0m \u001b[0;34m=\u001b[0m \u001b[0mkey\u001b[0m\u001b[0;34m[\u001b[0m\u001b[0mmissing_mask\u001b[0m\u001b[0;34m]\u001b[0m\u001b[0;34m\u001b[0m\u001b[0;34m\u001b[0m\u001b[0m\n",
      "\u001b[0;31mKeyError\u001b[0m: \"['unemployed_pop', 'non_white', 'reweighted_redline_index', 'multi_unit_structures', 'less_than_high_school_graduate', 'aged_17_or_younger', 'one_parent_families_with_young_children', 'aged_65_or_older', 'mobile_homes', 'pop_determined_poverty_status', 'group_quarters', 'poverty', 'no_cars'] not in index\""
     ]
    }
   ],
   "execution_count": null
  },
  {
   "cell_type": "code",
   "metadata": {
    "tags": [],
    "cell_id": "00023-e33e54d8-3dd4-4101-a5fb-26227f76b377",
    "deepnote_to_be_reexecuted": false,
    "source_hash": "76b9fa1f",
    "execution_start": 1623462874020,
    "execution_millis": 34,
    "deepnote_cell_type": "code"
   },
   "source": "# Remove duplicates and null values from the SVI-based variables dataset before further processing\n\ndf.drop_duplicates(inplace=True)\ndf.dropna(inplace=True)",
   "outputs": [],
   "execution_count": null
  },
  {
   "cell_type": "markdown",
   "source": "### Sample size = 168",
   "metadata": {
    "tags": [],
    "cell_id": "00024-d6994155-b6cd-4bfe-8de6-8aa356429766",
    "deepnote_cell_type": "markdown"
   }
  },
  {
   "cell_type": "code",
   "metadata": {
    "tags": [],
    "cell_id": "00025-e27363df-f448-495f-90e7-1e0c2808673a",
    "deepnote_to_be_reexecuted": false,
    "source_hash": "f3fd67c8",
    "execution_start": 1623462876455,
    "execution_millis": 8,
    "deepnote_cell_type": "code"
   },
   "source": "df.count()",
   "outputs": [
    {
     "output_type": "execute_result",
     "execution_count": 80,
     "data": {
      "text/plain": "GEOID                         0\ncity_name                     0\nreweighted_redline_index_x    0\ntotal_pop                     0\nhouseholds                    0\n                             ..\nreweighted_redline_index_y    0\nordinal_value                 0\ngeometry                      0\nlongitude                     0\nlatitude                      0\nLength: 83, dtype: int64"
     },
     "metadata": {}
    }
   ],
   "execution_count": null
  },
  {
   "cell_type": "code",
   "metadata": {
    "tags": [],
    "cell_id": "00026-cb900ed4-ec6f-4ffa-9e36-a1a072d0f415",
    "deepnote_to_be_reexecuted": false,
    "source_hash": "a28178d7",
    "execution_start": 1623462877439,
    "execution_millis": 60,
    "deepnote_cell_type": "code"
   },
   "source": "# Aggregating variables and normalising them\n# Setting flags for the tracts which are ranked at 90th percentile and above\n\ndf['poverty_perc'] = df['poverty']/df_Boston['pop_determined_poverty_status']\ndf['poverty_perc_bin'] = df['poverty_perc'].apply(perc_bin)\ndf.loc[df['poverty_perc'] >= df['poverty_perc'].quantile(0.9), 'poverty_flag'] = 1\ndf['poverty_flag'] = df['poverty_flag'].fillna(0)\n\ndf['unemployed_pop_perc'] = df['unemployed_pop'] / df['total_pop']\ndf['unemployed_pop_perc_bin'] = df['unemployed_pop_perc'].apply(perc_bin)\ndf.loc[df['unemployed_pop_perc'] >= df['unemployed_pop_perc'].quantile(0.9), 'unemployed_flag'] = 1\ndf['unemployed_flag'] = df['unemployed_flag'].fillna(0)\n\ndf['less_than_high_school_graduate_perc'] = df['less_than_high_school_graduate'] / df['total_pop']\ndf['less_than_high_school_graduate_perc_bin'] = df['less_than_high_school_graduate_perc'].apply(perc_bin)\ndf.loc[df['less_than_high_school_graduate_perc'] >= df['less_than_high_school_graduate_perc'].quantile(0.9), 'less_than_high_school_graduate_flag'] = 1\ndf['less_than_high_school_graduate_flag'] = df['less_than_high_school_graduate_flag'].fillna(0)\n\ndf['aged_65_or_older_perc'] = df['aged_65_or_older'] / df['total_pop']\ndf['aged_65_or_older_perc_bin'] = df['aged_65_or_older_perc'].apply(perc_bin)\ndf.loc[df['aged_65_or_older_perc'] >= df['aged_65_or_older_perc'].quantile(0.9), 'aged_65_or_older_flag'] = 1\ndf['aged_65_or_older_flag'] = df['aged_65_or_older_flag'].fillna(0)\n\ndf['aged_17_or_younger_perc'] = df['aged_17_or_younger'] / df['total_pop']\ndf['aged_17_or_younger_perc_bin'] = df['aged_17_or_younger_perc'].apply(perc_bin)\ndf.loc[df['aged_17_or_younger_perc'] >= df['aged_17_or_younger_perc'].quantile(0.9), 'aged_17_or_younger_flag'] = 1\ndf['aged_17_or_younger_flag'] = df['aged_17_or_younger_flag'].fillna(0)\n\ndf['one_parent_families_with_young_children_perc'] = df['one_parent_families_with_young_children'] / df['households']\ndf['one_parent_families_with_young_children_perc_bin'] = df['one_parent_families_with_young_children_perc'].apply(perc_bin)\ndf.loc[df['one_parent_families_with_young_children_perc'] >= df['one_parent_families_with_young_children_perc'].quantile(0.9), 'one_parent_families_with_young_children_flag'] = 1\ndf['one_parent_families_with_young_children_flag'] = df['one_parent_families_with_young_children_flag'].fillna(0)\n\ndf['non_white_perc'] = df['non_white'] / df['total_pop']\ndf['non_white_perc_bin'] = df['non_white_perc'].apply(perc_bin)\ndf.loc[df['non_white_perc'] >= df['non_white_perc'].quantile(0.9), 'non_white_flag'] = 1\ndf['non_white_flag'] = df['non_white_flag'].fillna(0)\n\ndf['multi_unit_structures_perc'] = df['multi_unit_structures'] / df['housing_units']\ndf['multi_unit_structures_perc_bin'] = df['multi_unit_structures_perc'].apply(perc_bin)\ndf.loc[df['multi_unit_structures_perc'] >= df['multi_unit_structures_perc'].quantile(0.9), 'multi_unit_structures_flag'] = 1\ndf['multi_unit_structures_flag'] = df['multi_unit_structures_flag'].fillna(0)\n\ndf['mobile_homes_perc'] = df['mobile_homes'] / df['housing_units']\ndf['mobile_homes_perc_bin'] = df['mobile_homes_perc'].apply(perc_bin)\ndf.loc[df['mobile_homes_perc'] >= df['mobile_homes_perc'].quantile(0.9), 'mobile_homes_flag'] = 1\ndf['mobile_homes_flag'] = df['mobile_homes_flag'].fillna(0)\n\ndf['no_cars_perc'] = df['no_cars'] / df['households']\ndf['no_cars_perc_bin'] = df['no_cars_perc'].apply(perc_bin)\ndf.loc[df['no_cars_perc'] >= df['no_cars_perc'].quantile(0.9), 'no_cars_flag'] = 1\ndf['no_cars_flag'] = df['no_cars_flag'].fillna(0)\n\ndf['group_quarters_perc'] = df['group_quarters'] / df['total_pop']\ndf['group_quarters_perc_bin'] = df['group_quarters_perc'].apply(perc_bin)\ndf.loc[df['group_quarters_perc'] >= df['group_quarters_perc'].quantile(0.9), 'group_quarters_flag'] = 1\ndf['group_quarters_flag'] = df['group_quarters_flag'].fillna(0)",
   "outputs": [
    {
     "output_type": "error",
     "ename": "KeyError",
     "evalue": "'poverty'",
     "traceback": [
      "\u001b[0;31m---------------------------------------------------------------------------\u001b[0m",
      "\u001b[0;31mKeyError\u001b[0m                                  Traceback (most recent call last)",
      "\u001b[0;32m/shared-libs/python3.7/py/lib/python3.7/site-packages/pandas/core/indexes/base.py\u001b[0m in \u001b[0;36mget_loc\u001b[0;34m(self, key, method, tolerance)\u001b[0m\n\u001b[1;32m   3079\u001b[0m             \u001b[0;32mtry\u001b[0m\u001b[0;34m:\u001b[0m\u001b[0;34m\u001b[0m\u001b[0;34m\u001b[0m\u001b[0m\n\u001b[0;32m-> 3080\u001b[0;31m                 \u001b[0;32mreturn\u001b[0m \u001b[0mself\u001b[0m\u001b[0;34m.\u001b[0m\u001b[0m_engine\u001b[0m\u001b[0;34m.\u001b[0m\u001b[0mget_loc\u001b[0m\u001b[0;34m(\u001b[0m\u001b[0mcasted_key\u001b[0m\u001b[0;34m)\u001b[0m\u001b[0;34m\u001b[0m\u001b[0;34m\u001b[0m\u001b[0m\n\u001b[0m\u001b[1;32m   3081\u001b[0m             \u001b[0;32mexcept\u001b[0m \u001b[0mKeyError\u001b[0m \u001b[0;32mas\u001b[0m \u001b[0merr\u001b[0m\u001b[0;34m:\u001b[0m\u001b[0;34m\u001b[0m\u001b[0;34m\u001b[0m\u001b[0m\n",
      "\u001b[0;32mpandas/_libs/index.pyx\u001b[0m in \u001b[0;36mpandas._libs.index.IndexEngine.get_loc\u001b[0;34m()\u001b[0m\n",
      "\u001b[0;32mpandas/_libs/index.pyx\u001b[0m in \u001b[0;36mpandas._libs.index.IndexEngine.get_loc\u001b[0;34m()\u001b[0m\n",
      "\u001b[0;32mpandas/_libs/hashtable_class_helper.pxi\u001b[0m in \u001b[0;36mpandas._libs.hashtable.PyObjectHashTable.get_item\u001b[0;34m()\u001b[0m\n",
      "\u001b[0;32mpandas/_libs/hashtable_class_helper.pxi\u001b[0m in \u001b[0;36mpandas._libs.hashtable.PyObjectHashTable.get_item\u001b[0;34m()\u001b[0m\n",
      "\u001b[0;31mKeyError\u001b[0m: 'poverty'",
      "\nThe above exception was the direct cause of the following exception:\n",
      "\u001b[0;31mKeyError\u001b[0m                                  Traceback (most recent call last)",
      "\u001b[0;32m<ipython-input-81-070135272d57>\u001b[0m in \u001b[0;36m<module>\u001b[0;34m\u001b[0m\n\u001b[1;32m      2\u001b[0m \u001b[0;31m# Setting flags for the tracts which are ranked at 90th percentile and above\u001b[0m\u001b[0;34m\u001b[0m\u001b[0;34m\u001b[0m\u001b[0;34m\u001b[0m\u001b[0m\n\u001b[1;32m      3\u001b[0m \u001b[0;34m\u001b[0m\u001b[0m\n\u001b[0;32m----> 4\u001b[0;31m \u001b[0mdf\u001b[0m\u001b[0;34m[\u001b[0m\u001b[0;34m'poverty_perc'\u001b[0m\u001b[0;34m]\u001b[0m \u001b[0;34m=\u001b[0m \u001b[0mdf\u001b[0m\u001b[0;34m[\u001b[0m\u001b[0;34m'poverty'\u001b[0m\u001b[0;34m]\u001b[0m\u001b[0;34m/\u001b[0m\u001b[0mdf_Boston\u001b[0m\u001b[0;34m[\u001b[0m\u001b[0;34m'pop_determined_poverty_status'\u001b[0m\u001b[0;34m]\u001b[0m\u001b[0;34m\u001b[0m\u001b[0;34m\u001b[0m\u001b[0m\n\u001b[0m\u001b[1;32m      5\u001b[0m \u001b[0mdf\u001b[0m\u001b[0;34m[\u001b[0m\u001b[0;34m'poverty_perc_bin'\u001b[0m\u001b[0;34m]\u001b[0m \u001b[0;34m=\u001b[0m \u001b[0mdf\u001b[0m\u001b[0;34m[\u001b[0m\u001b[0;34m'poverty_perc'\u001b[0m\u001b[0;34m]\u001b[0m\u001b[0;34m.\u001b[0m\u001b[0mapply\u001b[0m\u001b[0;34m(\u001b[0m\u001b[0mperc_bin\u001b[0m\u001b[0;34m)\u001b[0m\u001b[0;34m\u001b[0m\u001b[0;34m\u001b[0m\u001b[0m\n\u001b[1;32m      6\u001b[0m \u001b[0mdf\u001b[0m\u001b[0;34m.\u001b[0m\u001b[0mloc\u001b[0m\u001b[0;34m[\u001b[0m\u001b[0mdf\u001b[0m\u001b[0;34m[\u001b[0m\u001b[0;34m'poverty_perc'\u001b[0m\u001b[0;34m]\u001b[0m \u001b[0;34m>=\u001b[0m \u001b[0mdf\u001b[0m\u001b[0;34m[\u001b[0m\u001b[0;34m'poverty_perc'\u001b[0m\u001b[0;34m]\u001b[0m\u001b[0;34m.\u001b[0m\u001b[0mquantile\u001b[0m\u001b[0;34m(\u001b[0m\u001b[0;36m0.9\u001b[0m\u001b[0;34m)\u001b[0m\u001b[0;34m,\u001b[0m \u001b[0;34m'poverty_flag'\u001b[0m\u001b[0;34m]\u001b[0m \u001b[0;34m=\u001b[0m \u001b[0;36m1\u001b[0m\u001b[0;34m\u001b[0m\u001b[0;34m\u001b[0m\u001b[0m\n",
      "\u001b[0;32m/shared-libs/python3.7/py/lib/python3.7/site-packages/pandas/core/frame.py\u001b[0m in \u001b[0;36m__getitem__\u001b[0;34m(self, key)\u001b[0m\n\u001b[1;32m   3022\u001b[0m             \u001b[0;32mif\u001b[0m \u001b[0mself\u001b[0m\u001b[0;34m.\u001b[0m\u001b[0mcolumns\u001b[0m\u001b[0;34m.\u001b[0m\u001b[0mnlevels\u001b[0m \u001b[0;34m>\u001b[0m \u001b[0;36m1\u001b[0m\u001b[0;34m:\u001b[0m\u001b[0;34m\u001b[0m\u001b[0;34m\u001b[0m\u001b[0m\n\u001b[1;32m   3023\u001b[0m                 \u001b[0;32mreturn\u001b[0m \u001b[0mself\u001b[0m\u001b[0;34m.\u001b[0m\u001b[0m_getitem_multilevel\u001b[0m\u001b[0;34m(\u001b[0m\u001b[0mkey\u001b[0m\u001b[0;34m)\u001b[0m\u001b[0;34m\u001b[0m\u001b[0;34m\u001b[0m\u001b[0m\n\u001b[0;32m-> 3024\u001b[0;31m             \u001b[0mindexer\u001b[0m \u001b[0;34m=\u001b[0m \u001b[0mself\u001b[0m\u001b[0;34m.\u001b[0m\u001b[0mcolumns\u001b[0m\u001b[0;34m.\u001b[0m\u001b[0mget_loc\u001b[0m\u001b[0;34m(\u001b[0m\u001b[0mkey\u001b[0m\u001b[0;34m)\u001b[0m\u001b[0;34m\u001b[0m\u001b[0;34m\u001b[0m\u001b[0m\n\u001b[0m\u001b[1;32m   3025\u001b[0m             \u001b[0;32mif\u001b[0m \u001b[0mis_integer\u001b[0m\u001b[0;34m(\u001b[0m\u001b[0mindexer\u001b[0m\u001b[0;34m)\u001b[0m\u001b[0;34m:\u001b[0m\u001b[0;34m\u001b[0m\u001b[0;34m\u001b[0m\u001b[0m\n\u001b[1;32m   3026\u001b[0m                 \u001b[0mindexer\u001b[0m \u001b[0;34m=\u001b[0m \u001b[0;34m[\u001b[0m\u001b[0mindexer\u001b[0m\u001b[0;34m]\u001b[0m\u001b[0;34m\u001b[0m\u001b[0;34m\u001b[0m\u001b[0m\n",
      "\u001b[0;32m/shared-libs/python3.7/py/lib/python3.7/site-packages/pandas/core/indexes/base.py\u001b[0m in \u001b[0;36mget_loc\u001b[0;34m(self, key, method, tolerance)\u001b[0m\n\u001b[1;32m   3080\u001b[0m                 \u001b[0;32mreturn\u001b[0m \u001b[0mself\u001b[0m\u001b[0;34m.\u001b[0m\u001b[0m_engine\u001b[0m\u001b[0;34m.\u001b[0m\u001b[0mget_loc\u001b[0m\u001b[0;34m(\u001b[0m\u001b[0mcasted_key\u001b[0m\u001b[0;34m)\u001b[0m\u001b[0;34m\u001b[0m\u001b[0;34m\u001b[0m\u001b[0m\n\u001b[1;32m   3081\u001b[0m             \u001b[0;32mexcept\u001b[0m \u001b[0mKeyError\u001b[0m \u001b[0;32mas\u001b[0m \u001b[0merr\u001b[0m\u001b[0;34m:\u001b[0m\u001b[0;34m\u001b[0m\u001b[0;34m\u001b[0m\u001b[0m\n\u001b[0;32m-> 3082\u001b[0;31m                 \u001b[0;32mraise\u001b[0m \u001b[0mKeyError\u001b[0m\u001b[0;34m(\u001b[0m\u001b[0mkey\u001b[0m\u001b[0;34m)\u001b[0m \u001b[0;32mfrom\u001b[0m \u001b[0merr\u001b[0m\u001b[0;34m\u001b[0m\u001b[0;34m\u001b[0m\u001b[0m\n\u001b[0m\u001b[1;32m   3083\u001b[0m \u001b[0;34m\u001b[0m\u001b[0m\n\u001b[1;32m   3084\u001b[0m         \u001b[0;32mif\u001b[0m \u001b[0mtolerance\u001b[0m \u001b[0;32mis\u001b[0m \u001b[0;32mnot\u001b[0m \u001b[0;32mNone\u001b[0m\u001b[0;34m:\u001b[0m\u001b[0;34m\u001b[0m\u001b[0;34m\u001b[0m\u001b[0m\n",
      "\u001b[0;31mKeyError\u001b[0m: 'poverty'"
     ]
    }
   ],
   "execution_count": null
  },
  {
   "cell_type": "code",
   "metadata": {
    "tags": [],
    "cell_id": "00027-6bd57a43-a10b-4340-8592-3b4c9bbc29c4",
    "deepnote_to_be_reexecuted": false,
    "source_hash": "eeea26cc",
    "execution_start": 1623462878955,
    "execution_millis": 23,
    "deepnote_cell_type": "code"
   },
   "source": "# Repeat flag setting for variables which do not requirea normalisation\n# Setting flags for the tracts which are ranked at 90th percentile and above\n\ndf.loc[df['median_income'] <= df['median_income'].quantile(0.1), 'median_income_flag'] = 1\ndf['median_income_flag'] = df['median_income_flag'].fillna(0)\n\ndf.loc[df['income_per_capita'] <= df['income_per_capita'].quantile(0.1), 'income_per_capita_flag'] = 1\ndf['income_per_capita_flag'] = df['income_per_capita_flag'].fillna(0)",
   "outputs": [
    {
     "output_type": "error",
     "ename": "ValueError",
     "evalue": "cannot set a frame with no defined index and a scalar",
     "traceback": [
      "\u001b[0;31m---------------------------------------------------------------------------\u001b[0m",
      "\u001b[0;31mValueError\u001b[0m                                Traceback (most recent call last)",
      "\u001b[0;32m<ipython-input-82-c32c5683125c>\u001b[0m in \u001b[0;36m<module>\u001b[0;34m\u001b[0m\n\u001b[1;32m      2\u001b[0m \u001b[0;31m# Setting flags for the tracts which are ranked at 90th percentile and above\u001b[0m\u001b[0;34m\u001b[0m\u001b[0;34m\u001b[0m\u001b[0;34m\u001b[0m\u001b[0m\n\u001b[1;32m      3\u001b[0m \u001b[0;34m\u001b[0m\u001b[0m\n\u001b[0;32m----> 4\u001b[0;31m \u001b[0mdf\u001b[0m\u001b[0;34m.\u001b[0m\u001b[0mloc\u001b[0m\u001b[0;34m[\u001b[0m\u001b[0mdf\u001b[0m\u001b[0;34m[\u001b[0m\u001b[0;34m'median_income'\u001b[0m\u001b[0;34m]\u001b[0m \u001b[0;34m<=\u001b[0m \u001b[0mdf\u001b[0m\u001b[0;34m[\u001b[0m\u001b[0;34m'median_income'\u001b[0m\u001b[0;34m]\u001b[0m\u001b[0;34m.\u001b[0m\u001b[0mquantile\u001b[0m\u001b[0;34m(\u001b[0m\u001b[0;36m0.1\u001b[0m\u001b[0;34m)\u001b[0m\u001b[0;34m,\u001b[0m \u001b[0;34m'median_income_flag'\u001b[0m\u001b[0;34m]\u001b[0m \u001b[0;34m=\u001b[0m \u001b[0;36m1\u001b[0m\u001b[0;34m\u001b[0m\u001b[0;34m\u001b[0m\u001b[0m\n\u001b[0m\u001b[1;32m      5\u001b[0m \u001b[0mdf\u001b[0m\u001b[0;34m[\u001b[0m\u001b[0;34m'median_income_flag'\u001b[0m\u001b[0;34m]\u001b[0m \u001b[0;34m=\u001b[0m \u001b[0mdf\u001b[0m\u001b[0;34m[\u001b[0m\u001b[0;34m'median_income_flag'\u001b[0m\u001b[0;34m]\u001b[0m\u001b[0;34m.\u001b[0m\u001b[0mfillna\u001b[0m\u001b[0;34m(\u001b[0m\u001b[0;36m0\u001b[0m\u001b[0;34m)\u001b[0m\u001b[0;34m\u001b[0m\u001b[0;34m\u001b[0m\u001b[0m\n\u001b[1;32m      6\u001b[0m \u001b[0;34m\u001b[0m\u001b[0m\n",
      "\u001b[0;32m/shared-libs/python3.7/py/lib/python3.7/site-packages/pandas/core/indexing.py\u001b[0m in \u001b[0;36m__setitem__\u001b[0;34m(self, key, value)\u001b[0m\n\u001b[1;32m    690\u001b[0m \u001b[0;34m\u001b[0m\u001b[0m\n\u001b[1;32m    691\u001b[0m         \u001b[0miloc\u001b[0m \u001b[0;34m=\u001b[0m \u001b[0mself\u001b[0m \u001b[0;32mif\u001b[0m \u001b[0mself\u001b[0m\u001b[0;34m.\u001b[0m\u001b[0mname\u001b[0m \u001b[0;34m==\u001b[0m \u001b[0;34m\"iloc\"\u001b[0m \u001b[0;32melse\u001b[0m \u001b[0mself\u001b[0m\u001b[0;34m.\u001b[0m\u001b[0mobj\u001b[0m\u001b[0;34m.\u001b[0m\u001b[0miloc\u001b[0m\u001b[0;34m\u001b[0m\u001b[0;34m\u001b[0m\u001b[0m\n\u001b[0;32m--> 692\u001b[0;31m         \u001b[0miloc\u001b[0m\u001b[0;34m.\u001b[0m\u001b[0m_setitem_with_indexer\u001b[0m\u001b[0;34m(\u001b[0m\u001b[0mindexer\u001b[0m\u001b[0;34m,\u001b[0m \u001b[0mvalue\u001b[0m\u001b[0;34m,\u001b[0m \u001b[0mself\u001b[0m\u001b[0;34m.\u001b[0m\u001b[0mname\u001b[0m\u001b[0;34m)\u001b[0m\u001b[0;34m\u001b[0m\u001b[0;34m\u001b[0m\u001b[0m\n\u001b[0m\u001b[1;32m    693\u001b[0m \u001b[0;34m\u001b[0m\u001b[0m\n\u001b[1;32m    694\u001b[0m     \u001b[0;32mdef\u001b[0m \u001b[0m_validate_key\u001b[0m\u001b[0;34m(\u001b[0m\u001b[0mself\u001b[0m\u001b[0;34m,\u001b[0m \u001b[0mkey\u001b[0m\u001b[0;34m,\u001b[0m \u001b[0maxis\u001b[0m\u001b[0;34m:\u001b[0m \u001b[0mint\u001b[0m\u001b[0;34m)\u001b[0m\u001b[0;34m:\u001b[0m\u001b[0;34m\u001b[0m\u001b[0;34m\u001b[0m\u001b[0m\n",
      "\u001b[0;32m/shared-libs/python3.7/py/lib/python3.7/site-packages/pandas/core/indexing.py\u001b[0m in \u001b[0;36m_setitem_with_indexer\u001b[0;34m(self, indexer, value, name)\u001b[0m\n\u001b[1;32m   1586\u001b[0m                             \u001b[0;32mif\u001b[0m \u001b[0;32mnot\u001b[0m \u001b[0mis_list_like_indexer\u001b[0m\u001b[0;34m(\u001b[0m\u001b[0mvalue\u001b[0m\u001b[0;34m)\u001b[0m\u001b[0;34m:\u001b[0m\u001b[0;34m\u001b[0m\u001b[0;34m\u001b[0m\u001b[0m\n\u001b[1;32m   1587\u001b[0m                                 raise ValueError(\n\u001b[0;32m-> 1588\u001b[0;31m                                     \u001b[0;34m\"cannot set a frame with no \"\u001b[0m\u001b[0;34m\u001b[0m\u001b[0;34m\u001b[0m\u001b[0m\n\u001b[0m\u001b[1;32m   1589\u001b[0m                                     \u001b[0;34m\"defined index and a scalar\"\u001b[0m\u001b[0;34m\u001b[0m\u001b[0;34m\u001b[0m\u001b[0m\n\u001b[1;32m   1590\u001b[0m                                 )\n",
      "\u001b[0;31mValueError\u001b[0m: cannot set a frame with no defined index and a scalar"
     ]
    }
   ],
   "execution_count": null
  },
  {
   "cell_type": "markdown",
   "source": "### Create 5 New Features, i.e. a count of flags for all SVI-based variables, and for each of the 4 themes",
   "metadata": {
    "tags": [],
    "cell_id": "00028-926a26cd-613a-4a6c-9ee9-22efb0319c6d",
    "deepnote_cell_type": "markdown"
   }
  },
  {
   "cell_type": "code",
   "metadata": {
    "tags": [],
    "cell_id": "00029-141f0876-0a05-4e56-a9f8-102eead13d36",
    "deepnote_to_be_reexecuted": false,
    "source_hash": "740a811d",
    "execution_start": 1623462881132,
    "execution_millis": 55,
    "deepnote_cell_type": "code"
   },
   "source": "# The number of flags (for each tract), all SVI-based variables\ndf['SVI'] = df['poverty_flag'] + df['unemployed_flag'] + df['median_income_flag'] + df['income_per_capita_flag'] + df['less_than_high_school_graduate_flag'] + df['aged_65_or_older_flag'] + df['aged_17_or_younger_flag'] + df['one_parent_families_with_young_children_flag'] + df['non_white_flag'] + df['multi_unit_structures_flag'] + df['mobile_homes_flag'] + df['no_cars_flag'] + df['group_quarters_flag']\n\n# The number of flags (for each tract); Theme#1: Socioeconomic Status\ndf['SVI_1'] = df['poverty_flag'] + df['unemployed_flag'] + df['median_income_flag'] + df['income_per_capita_flag'] + df['less_than_high_school_graduate_flag']\n\n# The number of flags (for each tract); Theme#2: Household Composition & Disability\ndf['SVI_2'] = df['aged_65_or_older_flag'] + df['aged_17_or_younger_flag'] + df['one_parent_families_with_young_children_flag']\n\n# The number of flags (for each tract); Theme#3: Minority Status & Language\ndf['SVI_3'] = df['non_white_flag']\n\n# The number of flags (for each tract); Theme#4: Housing Type & Transportation\ndf['SVI_4'] = df['multi_unit_structures_flag'] + df['mobile_homes_flag'] + df['no_cars_flag'] + df['group_quarters_flag']",
   "outputs": [
    {
     "output_type": "error",
     "ename": "KeyError",
     "evalue": "'poverty_flag'",
     "traceback": [
      "\u001b[0;31m---------------------------------------------------------------------------\u001b[0m",
      "\u001b[0;31mKeyError\u001b[0m                                  Traceback (most recent call last)",
      "\u001b[0;32m/shared-libs/python3.7/py/lib/python3.7/site-packages/pandas/core/indexes/base.py\u001b[0m in \u001b[0;36mget_loc\u001b[0;34m(self, key, method, tolerance)\u001b[0m\n\u001b[1;32m   3079\u001b[0m             \u001b[0;32mtry\u001b[0m\u001b[0;34m:\u001b[0m\u001b[0;34m\u001b[0m\u001b[0;34m\u001b[0m\u001b[0m\n\u001b[0;32m-> 3080\u001b[0;31m                 \u001b[0;32mreturn\u001b[0m \u001b[0mself\u001b[0m\u001b[0;34m.\u001b[0m\u001b[0m_engine\u001b[0m\u001b[0;34m.\u001b[0m\u001b[0mget_loc\u001b[0m\u001b[0;34m(\u001b[0m\u001b[0mcasted_key\u001b[0m\u001b[0;34m)\u001b[0m\u001b[0;34m\u001b[0m\u001b[0;34m\u001b[0m\u001b[0m\n\u001b[0m\u001b[1;32m   3081\u001b[0m             \u001b[0;32mexcept\u001b[0m \u001b[0mKeyError\u001b[0m \u001b[0;32mas\u001b[0m \u001b[0merr\u001b[0m\u001b[0;34m:\u001b[0m\u001b[0;34m\u001b[0m\u001b[0;34m\u001b[0m\u001b[0m\n",
      "\u001b[0;32mpandas/_libs/index.pyx\u001b[0m in \u001b[0;36mpandas._libs.index.IndexEngine.get_loc\u001b[0;34m()\u001b[0m\n",
      "\u001b[0;32mpandas/_libs/index.pyx\u001b[0m in \u001b[0;36mpandas._libs.index.IndexEngine.get_loc\u001b[0;34m()\u001b[0m\n",
      "\u001b[0;32mpandas/_libs/hashtable_class_helper.pxi\u001b[0m in \u001b[0;36mpandas._libs.hashtable.PyObjectHashTable.get_item\u001b[0;34m()\u001b[0m\n",
      "\u001b[0;32mpandas/_libs/hashtable_class_helper.pxi\u001b[0m in \u001b[0;36mpandas._libs.hashtable.PyObjectHashTable.get_item\u001b[0;34m()\u001b[0m\n",
      "\u001b[0;31mKeyError\u001b[0m: 'poverty_flag'",
      "\nThe above exception was the direct cause of the following exception:\n",
      "\u001b[0;31mKeyError\u001b[0m                                  Traceback (most recent call last)",
      "\u001b[0;32m<ipython-input-83-0608000dbc15>\u001b[0m in \u001b[0;36m<module>\u001b[0;34m\u001b[0m\n\u001b[1;32m      1\u001b[0m \u001b[0;31m# The number of flags (for each tract), all SVI-based variables\u001b[0m\u001b[0;34m\u001b[0m\u001b[0;34m\u001b[0m\u001b[0;34m\u001b[0m\u001b[0m\n\u001b[0;32m----> 2\u001b[0;31m \u001b[0mdf\u001b[0m\u001b[0;34m[\u001b[0m\u001b[0;34m'SVI'\u001b[0m\u001b[0;34m]\u001b[0m \u001b[0;34m=\u001b[0m \u001b[0mdf\u001b[0m\u001b[0;34m[\u001b[0m\u001b[0;34m'poverty_flag'\u001b[0m\u001b[0;34m]\u001b[0m \u001b[0;34m+\u001b[0m \u001b[0mdf\u001b[0m\u001b[0;34m[\u001b[0m\u001b[0;34m'unemployed_flag'\u001b[0m\u001b[0;34m]\u001b[0m \u001b[0;34m+\u001b[0m \u001b[0mdf\u001b[0m\u001b[0;34m[\u001b[0m\u001b[0;34m'median_income_flag'\u001b[0m\u001b[0;34m]\u001b[0m \u001b[0;34m+\u001b[0m \u001b[0mdf\u001b[0m\u001b[0;34m[\u001b[0m\u001b[0;34m'income_per_capita_flag'\u001b[0m\u001b[0;34m]\u001b[0m \u001b[0;34m+\u001b[0m \u001b[0mdf\u001b[0m\u001b[0;34m[\u001b[0m\u001b[0;34m'less_than_high_school_graduate_flag'\u001b[0m\u001b[0;34m]\u001b[0m \u001b[0;34m+\u001b[0m \u001b[0mdf\u001b[0m\u001b[0;34m[\u001b[0m\u001b[0;34m'aged_65_or_older_flag'\u001b[0m\u001b[0;34m]\u001b[0m \u001b[0;34m+\u001b[0m \u001b[0mdf\u001b[0m\u001b[0;34m[\u001b[0m\u001b[0;34m'aged_17_or_younger_flag'\u001b[0m\u001b[0;34m]\u001b[0m \u001b[0;34m+\u001b[0m \u001b[0mdf\u001b[0m\u001b[0;34m[\u001b[0m\u001b[0;34m'one_parent_families_with_young_children_flag'\u001b[0m\u001b[0;34m]\u001b[0m \u001b[0;34m+\u001b[0m \u001b[0mdf\u001b[0m\u001b[0;34m[\u001b[0m\u001b[0;34m'non_white_flag'\u001b[0m\u001b[0;34m]\u001b[0m \u001b[0;34m+\u001b[0m \u001b[0mdf\u001b[0m\u001b[0;34m[\u001b[0m\u001b[0;34m'multi_unit_structures_flag'\u001b[0m\u001b[0;34m]\u001b[0m \u001b[0;34m+\u001b[0m \u001b[0mdf\u001b[0m\u001b[0;34m[\u001b[0m\u001b[0;34m'mobile_homes_flag'\u001b[0m\u001b[0;34m]\u001b[0m \u001b[0;34m+\u001b[0m \u001b[0mdf\u001b[0m\u001b[0;34m[\u001b[0m\u001b[0;34m'no_cars_flag'\u001b[0m\u001b[0;34m]\u001b[0m \u001b[0;34m+\u001b[0m \u001b[0mdf\u001b[0m\u001b[0;34m[\u001b[0m\u001b[0;34m'group_quarters_flag'\u001b[0m\u001b[0;34m]\u001b[0m\u001b[0;34m\u001b[0m\u001b[0;34m\u001b[0m\u001b[0m\n\u001b[0m\u001b[1;32m      3\u001b[0m \u001b[0;34m\u001b[0m\u001b[0m\n\u001b[1;32m      4\u001b[0m \u001b[0;31m# The number of flags (for each tract); Theme#1: Socioeconomic Status\u001b[0m\u001b[0;34m\u001b[0m\u001b[0;34m\u001b[0m\u001b[0;34m\u001b[0m\u001b[0m\n\u001b[1;32m      5\u001b[0m \u001b[0mdf\u001b[0m\u001b[0;34m[\u001b[0m\u001b[0;34m'SVI_1'\u001b[0m\u001b[0;34m]\u001b[0m \u001b[0;34m=\u001b[0m \u001b[0mdf\u001b[0m\u001b[0;34m[\u001b[0m\u001b[0;34m'poverty_flag'\u001b[0m\u001b[0;34m]\u001b[0m \u001b[0;34m+\u001b[0m \u001b[0mdf\u001b[0m\u001b[0;34m[\u001b[0m\u001b[0;34m'unemployed_flag'\u001b[0m\u001b[0;34m]\u001b[0m \u001b[0;34m+\u001b[0m \u001b[0mdf\u001b[0m\u001b[0;34m[\u001b[0m\u001b[0;34m'median_income_flag'\u001b[0m\u001b[0;34m]\u001b[0m \u001b[0;34m+\u001b[0m \u001b[0mdf\u001b[0m\u001b[0;34m[\u001b[0m\u001b[0;34m'income_per_capita_flag'\u001b[0m\u001b[0;34m]\u001b[0m \u001b[0;34m+\u001b[0m \u001b[0mdf\u001b[0m\u001b[0;34m[\u001b[0m\u001b[0;34m'less_than_high_school_graduate_flag'\u001b[0m\u001b[0;34m]\u001b[0m\u001b[0;34m\u001b[0m\u001b[0;34m\u001b[0m\u001b[0m\n",
      "\u001b[0;32m/shared-libs/python3.7/py/lib/python3.7/site-packages/pandas/core/frame.py\u001b[0m in \u001b[0;36m__getitem__\u001b[0;34m(self, key)\u001b[0m\n\u001b[1;32m   3022\u001b[0m             \u001b[0;32mif\u001b[0m \u001b[0mself\u001b[0m\u001b[0;34m.\u001b[0m\u001b[0mcolumns\u001b[0m\u001b[0;34m.\u001b[0m\u001b[0mnlevels\u001b[0m \u001b[0;34m>\u001b[0m \u001b[0;36m1\u001b[0m\u001b[0;34m:\u001b[0m\u001b[0;34m\u001b[0m\u001b[0;34m\u001b[0m\u001b[0m\n\u001b[1;32m   3023\u001b[0m                 \u001b[0;32mreturn\u001b[0m \u001b[0mself\u001b[0m\u001b[0;34m.\u001b[0m\u001b[0m_getitem_multilevel\u001b[0m\u001b[0;34m(\u001b[0m\u001b[0mkey\u001b[0m\u001b[0;34m)\u001b[0m\u001b[0;34m\u001b[0m\u001b[0;34m\u001b[0m\u001b[0m\n\u001b[0;32m-> 3024\u001b[0;31m             \u001b[0mindexer\u001b[0m \u001b[0;34m=\u001b[0m \u001b[0mself\u001b[0m\u001b[0;34m.\u001b[0m\u001b[0mcolumns\u001b[0m\u001b[0;34m.\u001b[0m\u001b[0mget_loc\u001b[0m\u001b[0;34m(\u001b[0m\u001b[0mkey\u001b[0m\u001b[0;34m)\u001b[0m\u001b[0;34m\u001b[0m\u001b[0;34m\u001b[0m\u001b[0m\n\u001b[0m\u001b[1;32m   3025\u001b[0m             \u001b[0;32mif\u001b[0m \u001b[0mis_integer\u001b[0m\u001b[0;34m(\u001b[0m\u001b[0mindexer\u001b[0m\u001b[0;34m)\u001b[0m\u001b[0;34m:\u001b[0m\u001b[0;34m\u001b[0m\u001b[0;34m\u001b[0m\u001b[0m\n\u001b[1;32m   3026\u001b[0m                 \u001b[0mindexer\u001b[0m \u001b[0;34m=\u001b[0m \u001b[0;34m[\u001b[0m\u001b[0mindexer\u001b[0m\u001b[0;34m]\u001b[0m\u001b[0;34m\u001b[0m\u001b[0;34m\u001b[0m\u001b[0m\n",
      "\u001b[0;32m/shared-libs/python3.7/py/lib/python3.7/site-packages/pandas/core/indexes/base.py\u001b[0m in \u001b[0;36mget_loc\u001b[0;34m(self, key, method, tolerance)\u001b[0m\n\u001b[1;32m   3080\u001b[0m                 \u001b[0;32mreturn\u001b[0m \u001b[0mself\u001b[0m\u001b[0;34m.\u001b[0m\u001b[0m_engine\u001b[0m\u001b[0;34m.\u001b[0m\u001b[0mget_loc\u001b[0m\u001b[0;34m(\u001b[0m\u001b[0mcasted_key\u001b[0m\u001b[0;34m)\u001b[0m\u001b[0;34m\u001b[0m\u001b[0;34m\u001b[0m\u001b[0m\n\u001b[1;32m   3081\u001b[0m             \u001b[0;32mexcept\u001b[0m \u001b[0mKeyError\u001b[0m \u001b[0;32mas\u001b[0m \u001b[0merr\u001b[0m\u001b[0;34m:\u001b[0m\u001b[0;34m\u001b[0m\u001b[0;34m\u001b[0m\u001b[0m\n\u001b[0;32m-> 3082\u001b[0;31m                 \u001b[0;32mraise\u001b[0m \u001b[0mKeyError\u001b[0m\u001b[0;34m(\u001b[0m\u001b[0mkey\u001b[0m\u001b[0;34m)\u001b[0m \u001b[0;32mfrom\u001b[0m \u001b[0merr\u001b[0m\u001b[0;34m\u001b[0m\u001b[0;34m\u001b[0m\u001b[0m\n\u001b[0m\u001b[1;32m   3083\u001b[0m \u001b[0;34m\u001b[0m\u001b[0m\n\u001b[1;32m   3084\u001b[0m         \u001b[0;32mif\u001b[0m \u001b[0mtolerance\u001b[0m \u001b[0;32mis\u001b[0m \u001b[0;32mnot\u001b[0m \u001b[0;32mNone\u001b[0m\u001b[0;34m:\u001b[0m\u001b[0;34m\u001b[0m\u001b[0;34m\u001b[0m\u001b[0m\n",
      "\u001b[0;31mKeyError\u001b[0m: 'poverty_flag'"
     ]
    }
   ],
   "execution_count": null
  },
  {
   "cell_type": "markdown",
   "source": "### Create new dataframes for the following analyses:\n(a) 1 for Redline Index and All SVI-based ACS variables and\n(b) 1 for Redline Index and 4 groups of ACS variables, i.e. Themes 1~4",
   "metadata": {
    "tags": [],
    "cell_id": "00030-7b168f63-552e-4126-8b47-e341c148ff07",
    "deepnote_cell_type": "markdown"
   }
  },
  {
   "cell_type": "code",
   "metadata": {
    "tags": [],
    "cell_id": "00031-b793f903-3e01-4607-aa27-da38b90761ff",
    "deepnote_to_be_reexecuted": false,
    "source_hash": "8a75e499",
    "execution_start": 1623462883930,
    "execution_millis": 289,
    "deepnote_cell_type": "code"
   },
   "source": "#Preserve Boston Geodataframe\ngdf_Boston = df_Boston.copy()\ngdf_Boston.head()",
   "outputs": [
    {
     "output_type": "execute_result",
     "execution_count": 84,
     "data": {
      "application/vnd.deepnote.dataframe.v2+json": {
       "row_count": 5,
       "column_count": 83,
       "columns": [
        {
         "name": "GEOID",
         "dtype": "float64",
         "stats": {
          "unique_count": 5,
          "nan_count": 0,
          "min": "25025010600.0",
          "max": "25025140201.0",
          "histogram": [
           {
            "bin_start": 25025010600,
            "bin_end": 25025023560.1,
            "count": 1
           },
           {
            "bin_start": 25025023560.1,
            "bin_end": 25025036520.2,
            "count": 0
           },
           {
            "bin_start": 25025036520.2,
            "bin_end": 25025049480.3,
            "count": 0
           },
           {
            "bin_start": 25025049480.3,
            "bin_end": 25025062440.4,
            "count": 0
           },
           {
            "bin_start": 25025062440.4,
            "bin_end": 25025075400.5,
            "count": 1
           },
           {
            "bin_start": 25025075400.5,
            "bin_end": 25025088360.6,
            "count": 1
           },
           {
            "bin_start": 25025088360.6,
            "bin_end": 25025101320.7,
            "count": 0
           },
           {
            "bin_start": 25025101320.7,
            "bin_end": 25025114280.8,
            "count": 0
           },
           {
            "bin_start": 25025114280.8,
            "bin_end": 25025127240.9,
            "count": 1
           },
           {
            "bin_start": 25025127240.9,
            "bin_end": 25025140201,
            "count": 1
           }
          ]
         }
        },
        {
         "name": "city_name",
         "dtype": "object",
         "stats": {
          "unique_count": 1,
          "nan_count": 0,
          "categories": [
           {
            "name": "boston",
            "count": 5
           }
          ]
         }
        },
        {
         "name": "reweighted_redline_index_x",
         "dtype": "float64",
         "stats": {
          "unique_count": 4,
          "nan_count": 0,
          "min": "3.0",
          "max": "4.0",
          "histogram": [
           {
            "bin_start": 3,
            "bin_end": 3.1,
            "count": 2
           },
           {
            "bin_start": 3.1,
            "bin_end": 3.2,
            "count": 0
           },
           {
            "bin_start": 3.2,
            "bin_end": 3.3,
            "count": 0
           },
           {
            "bin_start": 3.3,
            "bin_end": 3.4,
            "count": 0
           },
           {
            "bin_start": 3.4,
            "bin_end": 3.5,
            "count": 0
           },
           {
            "bin_start": 3.5,
            "bin_end": 3.6,
            "count": 0
           },
           {
            "bin_start": 3.6,
            "bin_end": 3.7,
            "count": 0
           },
           {
            "bin_start": 3.7,
            "bin_end": 3.8,
            "count": 1
           },
           {
            "bin_start": 3.8,
            "bin_end": 3.9,
            "count": 0
           },
           {
            "bin_start": 3.9,
            "bin_end": 4,
            "count": 2
           }
          ]
         }
        },
        {
         "name": "total_pop",
         "dtype": "float64",
         "stats": {
          "unique_count": 5,
          "nan_count": 0,
          "min": "2475.0",
          "max": "5750.0",
          "histogram": [
           {
            "bin_start": 2475,
            "bin_end": 2802.5,
            "count": 2
           },
           {
            "bin_start": 2802.5,
            "bin_end": 3130,
            "count": 1
           },
           {
            "bin_start": 3130,
            "bin_end": 3457.5,
            "count": 1
           },
           {
            "bin_start": 3457.5,
            "bin_end": 3785,
            "count": 0
           },
           {
            "bin_start": 3785,
            "bin_end": 4112.5,
            "count": 0
           },
           {
            "bin_start": 4112.5,
            "bin_end": 4440,
            "count": 0
           },
           {
            "bin_start": 4440,
            "bin_end": 4767.5,
            "count": 0
           },
           {
            "bin_start": 4767.5,
            "bin_end": 5095,
            "count": 0
           },
           {
            "bin_start": 5095,
            "bin_end": 5422.5,
            "count": 0
           },
           {
            "bin_start": 5422.5,
            "bin_end": 5750,
            "count": 1
           }
          ]
         }
        },
        {
         "name": "households",
         "dtype": "float64",
         "stats": {
          "unique_count": 5,
          "nan_count": 0,
          "min": "929.0",
          "max": "2298.0",
          "histogram": [
           {
            "bin_start": 929,
            "bin_end": 1065.9,
            "count": 2
           },
           {
            "bin_start": 1065.9,
            "bin_end": 1202.8,
            "count": 1
           },
           {
            "bin_start": 1202.8,
            "bin_end": 1339.7,
            "count": 0
           },
           {
            "bin_start": 1339.7,
            "bin_end": 1476.6,
            "count": 0
           },
           {
            "bin_start": 1476.6,
            "bin_end": 1613.5,
            "count": 0
           },
           {
            "bin_start": 1613.5,
            "bin_end": 1750.4,
            "count": 0
           },
           {
            "bin_start": 1750.4,
            "bin_end": 1887.3000000000002,
            "count": 0
           },
           {
            "bin_start": 1887.3000000000002,
            "bin_end": 2024.2,
            "count": 1
           },
           {
            "bin_start": 2024.2,
            "bin_end": 2161.1000000000004,
            "count": 0
           },
           {
            "bin_start": 2161.1000000000004,
            "bin_end": 2298,
            "count": 1
           }
          ]
         }
        },
        {
         "name": "median_age",
         "dtype": "float64",
         "stats": {
          "unique_count": 5,
          "nan_count": 0,
          "min": "31.3",
          "max": "40.8",
          "histogram": [
           {
            "bin_start": 31.3,
            "bin_end": 32.25,
            "count": 2
           },
           {
            "bin_start": 32.25,
            "bin_end": 33.2,
            "count": 0
           },
           {
            "bin_start": 33.2,
            "bin_end": 34.15,
            "count": 0
           },
           {
            "bin_start": 34.15,
            "bin_end": 35.1,
            "count": 0
           },
           {
            "bin_start": 35.1,
            "bin_end": 36.05,
            "count": 1
           },
           {
            "bin_start": 36.05,
            "bin_end": 37,
            "count": 0
           },
           {
            "bin_start": 37,
            "bin_end": 37.949999999999996,
            "count": 0
           },
           {
            "bin_start": 37.949999999999996,
            "bin_end": 38.9,
            "count": 0
           },
           {
            "bin_start": 38.9,
            "bin_end": 39.849999999999994,
            "count": 0
           },
           {
            "bin_start": 39.849999999999994,
            "bin_end": 40.8,
            "count": 2
           }
          ]
         }
        },
        {
         "name": "median_income",
         "dtype": "float64",
         "stats": {
          "unique_count": 5,
          "nan_count": 0,
          "min": "20386.0",
          "max": "154659.0",
          "histogram": [
           {
            "bin_start": 20386,
            "bin_end": 33813.3,
            "count": 1
           },
           {
            "bin_start": 33813.3,
            "bin_end": 47240.6,
            "count": 0
           },
           {
            "bin_start": 47240.6,
            "bin_end": 60667.899999999994,
            "count": 0
           },
           {
            "bin_start": 60667.899999999994,
            "bin_end": 74095.2,
            "count": 1
           },
           {
            "bin_start": 74095.2,
            "bin_end": 87522.5,
            "count": 1
           },
           {
            "bin_start": 87522.5,
            "bin_end": 100949.79999999999,
            "count": 1
           },
           {
            "bin_start": 100949.79999999999,
            "bin_end": 114377.09999999999,
            "count": 0
           },
           {
            "bin_start": 114377.09999999999,
            "bin_end": 127804.4,
            "count": 0
           },
           {
            "bin_start": 127804.4,
            "bin_end": 141231.7,
            "count": 0
           },
           {
            "bin_start": 141231.7,
            "bin_end": 154659,
            "count": 1
           }
          ]
         }
        },
        {
         "name": "income_per_capita",
         "dtype": "float64",
         "stats": {
          "unique_count": 5,
          "nan_count": 0,
          "min": "20995.0",
          "max": "125222.0",
          "histogram": [
           {
            "bin_start": 20995,
            "bin_end": 31417.7,
            "count": 1
           },
           {
            "bin_start": 31417.7,
            "bin_end": 41840.4,
            "count": 2
           },
           {
            "bin_start": 41840.4,
            "bin_end": 52263.100000000006,
            "count": 0
           },
           {
            "bin_start": 52263.100000000006,
            "bin_end": 62685.8,
            "count": 0
           },
           {
            "bin_start": 62685.8,
            "bin_end": 73108.5,
            "count": 0
           },
           {
            "bin_start": 73108.5,
            "bin_end": 83531.20000000001,
            "count": 0
           },
           {
            "bin_start": 83531.20000000001,
            "bin_end": 93953.90000000001,
            "count": 0
           },
           {
            "bin_start": 93953.90000000001,
            "bin_end": 104376.6,
            "count": 0
           },
           {
            "bin_start": 104376.6,
            "bin_end": 114799.3,
            "count": 0
           },
           {
            "bin_start": 114799.3,
            "bin_end": 125222,
            "count": 2
           }
          ]
         }
        },
        {
         "name": "gini_index",
         "dtype": "float64",
         "stats": {
          "unique_count": 5,
          "nan_count": 0,
          "min": "0.3703",
          "max": "0.6152",
          "histogram": [
           {
            "bin_start": 0.3703,
            "bin_end": 0.39479000000000003,
            "count": 1
           },
           {
            "bin_start": 0.39479000000000003,
            "bin_end": 0.41928,
            "count": 0
           },
           {
            "bin_start": 0.41928,
            "bin_end": 0.44377,
            "count": 0
           },
           {
            "bin_start": 0.44377,
            "bin_end": 0.46826,
            "count": 0
           },
           {
            "bin_start": 0.46826,
            "bin_end": 0.49275,
            "count": 1
           },
           {
            "bin_start": 0.49275,
            "bin_end": 0.5172399999999999,
            "count": 1
           },
           {
            "bin_start": 0.5172399999999999,
            "bin_end": 0.54173,
            "count": 0
           },
           {
            "bin_start": 0.54173,
            "bin_end": 0.56622,
            "count": 0
           },
           {
            "bin_start": 0.56622,
            "bin_end": 0.59071,
            "count": 0
           },
           {
            "bin_start": 0.59071,
            "bin_end": 0.6152,
            "count": 2
           }
          ]
         }
        },
        {
         "name": "housing_units",
         "dtype": "float64",
         "stats": {
          "unique_count": 5,
          "nan_count": 0,
          "min": "995.0",
          "max": "2693.0",
          "histogram": [
           {
            "bin_start": 995,
            "bin_end": 1164.8,
            "count": 2
           },
           {
            "bin_start": 1164.8,
            "bin_end": 1334.6,
            "count": 1
           },
           {
            "bin_start": 1334.6,
            "bin_end": 1504.4,
            "count": 0
           },
           {
            "bin_start": 1504.4,
            "bin_end": 1674.2,
            "count": 0
           },
           {
            "bin_start": 1674.2,
            "bin_end": 1844,
            "count": 0
           },
           {
            "bin_start": 1844,
            "bin_end": 2013.8000000000002,
            "count": 0
           },
           {
            "bin_start": 2013.8000000000002,
            "bin_end": 2183.6000000000004,
            "count": 0
           },
           {
            "bin_start": 2183.6000000000004,
            "bin_end": 2353.4,
            "count": 0
           },
           {
            "bin_start": 2353.4,
            "bin_end": 2523.2,
            "count": 1
           },
           {
            "bin_start": 2523.2,
            "bin_end": 2693,
            "count": 1
           }
          ]
         }
        },
        {
         "name": "renter_occupied_housing_units_paying_cash_median_gross_rent",
         "dtype": "float64",
         "stats": {
          "unique_count": 5,
          "nan_count": 0,
          "min": "482.0",
          "max": "2723.0",
          "histogram": [
           {
            "bin_start": 482,
            "bin_end": 706.1,
            "count": 1
           },
           {
            "bin_start": 706.1,
            "bin_end": 930.2,
            "count": 0
           },
           {
            "bin_start": 930.2,
            "bin_end": 1154.3,
            "count": 0
           },
           {
            "bin_start": 1154.3,
            "bin_end": 1378.4,
            "count": 1
           },
           {
            "bin_start": 1378.4,
            "bin_end": 1602.5,
            "count": 1
           },
           {
            "bin_start": 1602.5,
            "bin_end": 1826.6,
            "count": 0
           },
           {
            "bin_start": 1826.6,
            "bin_end": 2050.7,
            "count": 0
           },
           {
            "bin_start": 2050.7,
            "bin_end": 2274.8,
            "count": 0
           },
           {
            "bin_start": 2274.8,
            "bin_end": 2498.8999999999996,
            "count": 0
           },
           {
            "bin_start": 2498.8999999999996,
            "bin_end": 2723,
            "count": 2
           }
          ]
         }
        },
        {
         "name": "owner_occupied_housing_units_lower_value_quartile",
         "dtype": "float64",
         "stats": {
          "unique_count": 5,
          "nan_count": 0,
          "min": "323800.0",
          "max": "828100.0",
          "histogram": [
           {
            "bin_start": 323800,
            "bin_end": 374230,
            "count": 2
           },
           {
            "bin_start": 374230,
            "bin_end": 424660,
            "count": 1
           },
           {
            "bin_start": 424660,
            "bin_end": 475090,
            "count": 0
           },
           {
            "bin_start": 475090,
            "bin_end": 525520,
            "count": 0
           },
           {
            "bin_start": 525520,
            "bin_end": 575950,
            "count": 0
           },
           {
            "bin_start": 575950,
            "bin_end": 626380,
            "count": 0
           },
           {
            "bin_start": 626380,
            "bin_end": 676810,
            "count": 1
           },
           {
            "bin_start": 676810,
            "bin_end": 727240,
            "count": 0
           },
           {
            "bin_start": 727240,
            "bin_end": 777670,
            "count": 0
           },
           {
            "bin_start": 777670,
            "bin_end": 828100,
            "count": 1
           }
          ]
         }
        },
        {
         "name": "owner_occupied_housing_units_median_value",
         "dtype": "float64",
         "stats": {
          "unique_count": 5,
          "nan_count": 0,
          "min": "394300.0",
          "max": "1171500.0",
          "histogram": [
           {
            "bin_start": 394300,
            "bin_end": 472020,
            "count": 1
           },
           {
            "bin_start": 472020,
            "bin_end": 549740,
            "count": 2
           },
           {
            "bin_start": 549740,
            "bin_end": 627460,
            "count": 0
           },
           {
            "bin_start": 627460,
            "bin_end": 705180,
            "count": 0
           },
           {
            "bin_start": 705180,
            "bin_end": 782900,
            "count": 0
           },
           {
            "bin_start": 782900,
            "bin_end": 860620,
            "count": 0
           },
           {
            "bin_start": 860620,
            "bin_end": 938340,
            "count": 0
           },
           {
            "bin_start": 938340,
            "bin_end": 1016060,
            "count": 0
           },
           {
            "bin_start": 1016060,
            "bin_end": 1093780,
            "count": 0
           },
           {
            "bin_start": 1093780,
            "bin_end": 1171500,
            "count": 2
           }
          ]
         }
        },
        {
         "name": "owner_occupied_housing_units_upper_value_quartile",
         "dtype": "float64",
         "stats": {
          "unique_count": 4,
          "nan_count": 0,
          "min": "476300.0",
          "max": "2000001.0",
          "histogram": [
           {
            "bin_start": 476300,
            "bin_end": 628670.1,
            "count": 1
           },
           {
            "bin_start": 628670.1,
            "bin_end": 781040.2,
            "count": 2
           },
           {
            "bin_start": 781040.2,
            "bin_end": 933410.3,
            "count": 0
           },
           {
            "bin_start": 933410.3,
            "bin_end": 1085780.4,
            "count": 0
           },
           {
            "bin_start": 1085780.4,
            "bin_end": 1238150.5,
            "count": 0
           },
           {
            "bin_start": 1238150.5,
            "bin_end": 1390520.6,
            "count": 0
           },
           {
            "bin_start": 1390520.6,
            "bin_end": 1542890.7,
            "count": 0
           },
           {
            "bin_start": 1542890.7,
            "bin_end": 1695260.8,
            "count": 0
           },
           {
            "bin_start": 1695260.8,
            "bin_end": 1847630.9000000001,
            "count": 0
           },
           {
            "bin_start": 1847630.9000000001,
            "bin_end": 2000001,
            "count": 2
           }
          ]
         }
        },
        {
         "name": "median_year_structure_built",
         "dtype": "float64",
         "stats": {
          "unique_count": 3,
          "nan_count": 0,
          "min": "0.0",
          "max": "1985.0",
          "histogram": [
           {
            "bin_start": 0,
            "bin_end": 198.5,
            "count": 3
           },
           {
            "bin_start": 198.5,
            "bin_end": 397,
            "count": 0
           },
           {
            "bin_start": 397,
            "bin_end": 595.5,
            "count": 0
           },
           {
            "bin_start": 595.5,
            "bin_end": 794,
            "count": 0
           },
           {
            "bin_start": 794,
            "bin_end": 992.5,
            "count": 0
           },
           {
            "bin_start": 992.5,
            "bin_end": 1191,
            "count": 0
           },
           {
            "bin_start": 1191,
            "bin_end": 1389.5,
            "count": 0
           },
           {
            "bin_start": 1389.5,
            "bin_end": 1588,
            "count": 0
           },
           {
            "bin_start": 1588,
            "bin_end": 1786.5,
            "count": 0
           },
           {
            "bin_start": 1786.5,
            "bin_end": 1985,
            "count": 2
           }
          ]
         }
        },
        {
         "name": "median_rent",
         "dtype": "float64",
         "stats": {
          "unique_count": 5,
          "nan_count": 0,
          "min": "413.0",
          "max": "2629.0",
          "histogram": [
           {
            "bin_start": 413,
            "bin_end": 634.6,
            "count": 1
           },
           {
            "bin_start": 634.6,
            "bin_end": 856.2,
            "count": 0
           },
           {
            "bin_start": 856.2,
            "bin_end": 1077.8,
            "count": 0
           },
           {
            "bin_start": 1077.8,
            "bin_end": 1299.4,
            "count": 2
           },
           {
            "bin_start": 1299.4,
            "bin_end": 1521,
            "count": 0
           },
           {
            "bin_start": 1521,
            "bin_end": 1742.6,
            "count": 0
           },
           {
            "bin_start": 1742.6,
            "bin_end": 1964.2,
            "count": 0
           },
           {
            "bin_start": 1964.2,
            "bin_end": 2185.8,
            "count": 0
           },
           {
            "bin_start": 2185.8,
            "bin_end": 2407.3999999999996,
            "count": 0
           },
           {
            "bin_start": 2407.3999999999996,
            "bin_end": 2629,
            "count": 2
           }
          ]
         }
        },
        {
         "name": "percent_income_spent_on_rent",
         "dtype": "float64",
         "stats": {
          "unique_count": 5,
          "nan_count": 0,
          "min": "25.2",
          "max": "31.8",
          "histogram": [
           {
            "bin_start": 25.2,
            "bin_end": 25.86,
            "count": 1
           },
           {
            "bin_start": 25.86,
            "bin_end": 26.52,
            "count": 1
           },
           {
            "bin_start": 26.52,
            "bin_end": 27.18,
            "count": 0
           },
           {
            "bin_start": 27.18,
            "bin_end": 27.84,
            "count": 0
           },
           {
            "bin_start": 27.84,
            "bin_end": 28.5,
            "count": 0
           },
           {
            "bin_start": 28.5,
            "bin_end": 29.16,
            "count": 0
           },
           {
            "bin_start": 29.16,
            "bin_end": 29.82,
            "count": 1
           },
           {
            "bin_start": 29.82,
            "bin_end": 30.48,
            "count": 0
           },
           {
            "bin_start": 30.48,
            "bin_end": 31.14,
            "count": 0
           },
           {
            "bin_start": 31.14,
            "bin_end": 31.8,
            "count": 2
           }
          ]
         }
        },
        {
         "name": "bachelors_degree_or_higher_25_64",
         "dtype": "float64",
         "stats": {
          "unique_count": 5,
          "nan_count": 0,
          "min": "463.0",
          "max": "1887.0",
          "histogram": [
           {
            "bin_start": 463,
            "bin_end": 605.4,
            "count": 2
           },
           {
            "bin_start": 605.4,
            "bin_end": 747.8,
            "count": 0
           },
           {
            "bin_start": 747.8,
            "bin_end": 890.2,
            "count": 0
           },
           {
            "bin_start": 890.2,
            "bin_end": 1032.6,
            "count": 0
           },
           {
            "bin_start": 1032.6,
            "bin_end": 1175,
            "count": 0
           },
           {
            "bin_start": 1175,
            "bin_end": 1317.4,
            "count": 1
           },
           {
            "bin_start": 1317.4,
            "bin_end": 1459.8000000000002,
            "count": 0
           },
           {
            "bin_start": 1459.8000000000002,
            "bin_end": 1602.2,
            "count": 1
           },
           {
            "bin_start": 1602.2,
            "bin_end": 1744.6000000000001,
            "count": 0
           },
           {
            "bin_start": 1744.6000000000001,
            "bin_end": 1887,
            "count": 1
           }
          ]
         }
        },
        {
         "name": "aged_65_or_older_normalised",
         "dtype": "float64",
         "stats": {
          "unique_count": 5,
          "nan_count": 0,
          "min": "0.0844870429534966",
          "max": "0.2190779014308426",
          "histogram": [
           {
            "bin_start": 0.0844870429534966,
            "bin_end": 0.0979461288012312,
            "count": 1
           },
           {
            "bin_start": 0.0979461288012312,
            "bin_end": 0.1114052146489658,
            "count": 0
           },
           {
            "bin_start": 0.1114052146489658,
            "bin_end": 0.1248643004967004,
            "count": 1
           },
           {
            "bin_start": 0.1248643004967004,
            "bin_end": 0.138323386344435,
            "count": 0
           },
           {
            "bin_start": 0.138323386344435,
            "bin_end": 0.15178247219216962,
            "count": 2
           },
           {
            "bin_start": 0.15178247219216962,
            "bin_end": 0.1652415580399042,
            "count": 0
           },
           {
            "bin_start": 0.1652415580399042,
            "bin_end": 0.1787006438876388,
            "count": 0
           },
           {
            "bin_start": 0.1787006438876388,
            "bin_end": 0.1921597297353734,
            "count": 0
           },
           {
            "bin_start": 0.1921597297353734,
            "bin_end": 0.20561881558310802,
            "count": 0
           },
           {
            "bin_start": 0.20561881558310802,
            "bin_end": 0.2190779014308426,
            "count": 1
           }
          ]
         }
        },
        {
         "name": "aged_17_or_younger_normalised",
         "dtype": "float64",
         "stats": {
          "unique_count": 5,
          "nan_count": 0,
          "min": "0.0438791732909379",
          "max": "0.2347826086956521",
          "histogram": [
           {
            "bin_start": 0.0438791732909379,
            "bin_end": 0.06296951683140932,
            "count": 1
           },
           {
            "bin_start": 0.06296951683140932,
            "bin_end": 0.08205986037188073,
            "count": 0
           },
           {
            "bin_start": 0.08205986037188073,
            "bin_end": 0.10115020391235216,
            "count": 0
           },
           {
            "bin_start": 0.10115020391235216,
            "bin_end": 0.12024054745282359,
            "count": 0
           },
           {
            "bin_start": 0.12024054745282359,
            "bin_end": 0.13933089099329501,
            "count": 0
           },
           {
            "bin_start": 0.13933089099329501,
            "bin_end": 0.15842123453376641,
            "count": 2
           },
           {
            "bin_start": 0.15842123453376641,
            "bin_end": 0.17751157807423784,
            "count": 0
           },
           {
            "bin_start": 0.17751157807423784,
            "bin_end": 0.19660192161470927,
            "count": 1
           },
           {
            "bin_start": 0.19660192161470927,
            "bin_end": 0.2156922651551807,
            "count": 0
           },
           {
            "bin_start": 0.2156922651551807,
            "bin_end": 0.2347826086956521,
            "count": 1
           }
          ]
         }
        },
        {
         "name": "multi_unit_structures_normalised",
         "dtype": "float64",
         "stats": {
          "unique_count": 5,
          "nan_count": 0,
          "min": "0.0330378726833199",
          "max": "0.921648718900854",
          "histogram": [
           {
            "bin_start": 0.0330378726833199,
            "bin_end": 0.1218989573050733,
            "count": 2
           },
           {
            "bin_start": 0.1218989573050733,
            "bin_end": 0.2107600419268267,
            "count": 0
           },
           {
            "bin_start": 0.2107600419268267,
            "bin_end": 0.2996211265485801,
            "count": 1
           },
           {
            "bin_start": 0.2996211265485801,
            "bin_end": 0.38848221117033355,
            "count": 1
           },
           {
            "bin_start": 0.38848221117033355,
            "bin_end": 0.4773432957920869,
            "count": 0
           },
           {
            "bin_start": 0.4773432957920869,
            "bin_end": 0.5662043804138404,
            "count": 0
           },
           {
            "bin_start": 0.5662043804138404,
            "bin_end": 0.6550654650355937,
            "count": 0
           },
           {
            "bin_start": 0.6550654650355937,
            "bin_end": 0.7439265496573472,
            "count": 0
           },
           {
            "bin_start": 0.7439265496573472,
            "bin_end": 0.8327876342791006,
            "count": 0
           },
           {
            "bin_start": 0.8327876342791006,
            "bin_end": 0.921648718900854,
            "count": 1
           }
          ]
         }
        },
        {
         "name": "poverty_normalised",
         "dtype": "float64",
         "stats": {
          "unique_count": 5,
          "nan_count": 0,
          "min": "0.0597889800703399",
          "max": "0.3601117708697171",
          "histogram": [
           {
            "bin_start": 0.0597889800703399,
            "bin_end": 0.08982125915027761,
            "count": 1
           },
           {
            "bin_start": 0.08982125915027761,
            "bin_end": 0.11985353823021533,
            "count": 1
           },
           {
            "bin_start": 0.11985353823021533,
            "bin_end": 0.14988581731015305,
            "count": 1
           },
           {
            "bin_start": 0.14988581731015305,
            "bin_end": 0.17991809639009076,
            "count": 0
           },
           {
            "bin_start": 0.17991809639009076,
            "bin_end": 0.20995037547002848,
            "count": 1
           },
           {
            "bin_start": 0.20995037547002848,
            "bin_end": 0.2399826545499662,
            "count": 0
           },
           {
            "bin_start": 0.2399826545499662,
            "bin_end": 0.2700149336299039,
            "count": 0
           },
           {
            "bin_start": 0.2700149336299039,
            "bin_end": 0.30004721270984164,
            "count": 0
           },
           {
            "bin_start": 0.30004721270984164,
            "bin_end": 0.33007949178977936,
            "count": 0
           },
           {
            "bin_start": 0.33007949178977936,
            "bin_end": 0.3601117708697171,
            "count": 1
           }
          ]
         }
        },
        {
         "name": "households_public_asst_or_food_stamps_normalised",
         "dtype": "float64",
         "stats": {
          "unique_count": 5,
          "nan_count": 0,
          "min": "0.0",
          "max": "0.4751958224543081",
          "histogram": [
           {
            "bin_start": 0,
            "bin_end": 0.047519582245430805,
            "count": 1
           },
           {
            "bin_start": 0.047519582245430805,
            "bin_end": 0.09503916449086161,
            "count": 1
           },
           {
            "bin_start": 0.09503916449086161,
            "bin_end": 0.14255874673629243,
            "count": 1
           },
           {
            "bin_start": 0.14255874673629243,
            "bin_end": 0.19007832898172322,
            "count": 1
           },
           {
            "bin_start": 0.19007832898172322,
            "bin_end": 0.237597911227154,
            "count": 0
           },
           {
            "bin_start": 0.237597911227154,
            "bin_end": 0.28511749347258486,
            "count": 0
           },
           {
            "bin_start": 0.28511749347258486,
            "bin_end": 0.33263707571801565,
            "count": 0
           },
           {
            "bin_start": 0.33263707571801565,
            "bin_end": 0.38015665796344644,
            "count": 0
           },
           {
            "bin_start": 0.38015665796344644,
            "bin_end": 0.42767624020887723,
            "count": 0
           },
           {
            "bin_start": 0.42767624020887723,
            "bin_end": 0.4751958224543081,
            "count": 1
           }
          ]
         }
        },
        {
         "name": "black_pop_normalised",
         "dtype": "float64",
         "stats": {
          "unique_count": 5,
          "nan_count": 0,
          "min": "0.050801094177413",
          "max": "0.6015652173913043",
          "histogram": [
           {
            "bin_start": 0.050801094177413,
            "bin_end": 0.10587750649880213,
            "count": 3
           },
           {
            "bin_start": 0.10587750649880213,
            "bin_end": 0.16095391882019128,
            "count": 0
           },
           {
            "bin_start": 0.16095391882019128,
            "bin_end": 0.2160303311415804,
            "count": 0
           },
           {
            "bin_start": 0.2160303311415804,
            "bin_end": 0.27110674346296953,
            "count": 1
           },
           {
            "bin_start": 0.27110674346296953,
            "bin_end": 0.3261831557843587,
            "count": 0
           },
           {
            "bin_start": 0.3261831557843587,
            "bin_end": 0.38125956810574785,
            "count": 0
           },
           {
            "bin_start": 0.38125956810574785,
            "bin_end": 0.43633598042713695,
            "count": 0
           },
           {
            "bin_start": 0.43633598042713695,
            "bin_end": 0.4914123927485261,
            "count": 0
           },
           {
            "bin_start": 0.4914123927485261,
            "bin_end": 0.5464888050699153,
            "count": 0
           },
           {
            "bin_start": 0.5464888050699153,
            "bin_end": 0.6015652173913043,
            "count": 1
           }
          ]
         }
        },
        {
         "name": "asian_pop_normalised",
         "dtype": "float64",
         "stats": {
          "unique_count": 5,
          "nan_count": 0,
          "min": "0.0034782608695652",
          "max": "0.1736089030206677",
          "histogram": [
           {
            "bin_start": 0.0034782608695652,
            "bin_end": 0.020491325084675452,
            "count": 1
           },
           {
            "bin_start": 0.020491325084675452,
            "bin_end": 0.0375043892997857,
            "count": 0
           },
           {
            "bin_start": 0.0375043892997857,
            "bin_end": 0.05451745351489595,
            "count": 0
           },
           {
            "bin_start": 0.05451745351489595,
            "bin_end": 0.0715305177300062,
            "count": 1
           },
           {
            "bin_start": 0.0715305177300062,
            "bin_end": 0.08854358194511645,
            "count": 2
           },
           {
            "bin_start": 0.08854358194511645,
            "bin_end": 0.1055566461602267,
            "count": 0
           },
           {
            "bin_start": 0.1055566461602267,
            "bin_end": 0.12256971037533694,
            "count": 0
           },
           {
            "bin_start": 0.12256971037533694,
            "bin_end": 0.1395827745904472,
            "count": 0
           },
           {
            "bin_start": 0.1395827745904472,
            "bin_end": 0.15659583880555747,
            "count": 0
           },
           {
            "bin_start": 0.15659583880555747,
            "bin_end": 0.1736089030206677,
            "count": 1
           }
          ]
         }
        },
        {
         "name": "hispanic_pop_normalised",
         "dtype": "float64",
         "stats": {
          "unique_count": 5,
          "nan_count": 0,
          "min": "0.029570747217806",
          "max": "0.4160454384096557",
          "histogram": [
           {
            "bin_start": 0.029570747217806,
            "bin_end": 0.06821821633699097,
            "count": 2
           },
           {
            "bin_start": 0.06821821633699097,
            "bin_end": 0.10686568545617595,
            "count": 0
           },
           {
            "bin_start": 0.10686568545617595,
            "bin_end": 0.1455131545753609,
            "count": 0
           },
           {
            "bin_start": 0.1455131545753609,
            "bin_end": 0.1841606236945459,
            "count": 0
           },
           {
            "bin_start": 0.1841606236945459,
            "bin_end": 0.22280809281373087,
            "count": 0
           },
           {
            "bin_start": 0.22280809281373087,
            "bin_end": 0.2614555619329158,
            "count": 0
           },
           {
            "bin_start": 0.2614555619329158,
            "bin_end": 0.3001030310521008,
            "count": 1
           },
           {
            "bin_start": 0.3001030310521008,
            "bin_end": 0.3387505001712858,
            "count": 1
           },
           {
            "bin_start": 0.3387505001712858,
            "bin_end": 0.37739796929047076,
            "count": 0
           },
           {
            "bin_start": 0.37739796929047076,
            "bin_end": 0.4160454384096557,
            "count": 1
           }
          ]
         }
        },
        {
         "name": "amerindian_pop_normalised",
         "dtype": "float64",
         "stats": {
          "unique_count": 2,
          "nan_count": 0,
          "min": "0.0",
          "max": "0.0047694753577106",
          "histogram": [
           {
            "bin_start": 0,
            "bin_end": 0.00047694753577106003,
            "count": 4
           },
           {
            "bin_start": 0.00047694753577106003,
            "bin_end": 0.0009538950715421201,
            "count": 0
           },
           {
            "bin_start": 0.0009538950715421201,
            "bin_end": 0.00143084260731318,
            "count": 0
           },
           {
            "bin_start": 0.00143084260731318,
            "bin_end": 0.0019077901430842401,
            "count": 0
           },
           {
            "bin_start": 0.0019077901430842401,
            "bin_end": 0.0023847376788553,
            "count": 0
           },
           {
            "bin_start": 0.0023847376788553,
            "bin_end": 0.00286168521462636,
            "count": 0
           },
           {
            "bin_start": 0.00286168521462636,
            "bin_end": 0.00333863275039742,
            "count": 0
           },
           {
            "bin_start": 0.00333863275039742,
            "bin_end": 0.0038155802861684802,
            "count": 0
           },
           {
            "bin_start": 0.0038155802861684802,
            "bin_end": 0.00429252782193954,
            "count": 0
           },
           {
            "bin_start": 0.00429252782193954,
            "bin_end": 0.0047694753577106,
            "count": 1
           }
          ]
         }
        },
        {
         "name": "white_pop_normalised",
         "dtype": "float64",
         "stats": {
          "unique_count": 5,
          "nan_count": 0,
          "min": "0.0450434782608695",
          "max": "0.7960140679953107",
          "histogram": [
           {
            "bin_start": 0.0450434782608695,
            "bin_end": 0.12014053723431362,
            "count": 1
           },
           {
            "bin_start": 0.12014053723431362,
            "bin_end": 0.19523759620775774,
            "count": 0
           },
           {
            "bin_start": 0.19523759620775774,
            "bin_end": 0.27033465518120187,
            "count": 0
           },
           {
            "bin_start": 0.27033465518120187,
            "bin_end": 0.345431714154646,
            "count": 1
           },
           {
            "bin_start": 0.345431714154646,
            "bin_end": 0.4205287731280901,
            "count": 1
           },
           {
            "bin_start": 0.4205287731280901,
            "bin_end": 0.49562583210153427,
            "count": 0
           },
           {
            "bin_start": 0.49562583210153427,
            "bin_end": 0.5707228910749784,
            "count": 0
           },
           {
            "bin_start": 0.5707228910749784,
            "bin_end": 0.6458199500484225,
            "count": 0
           },
           {
            "bin_start": 0.6458199500484225,
            "bin_end": 0.7209170090218666,
            "count": 1
           },
           {
            "bin_start": 0.7209170090218666,
            "bin_end": 0.7960140679953107,
            "count": 1
           }
          ]
         }
        },
        {
         "name": "non_white_pop_normalised",
         "dtype": "float64",
         "stats": {
          "unique_count": 5,
          "nan_count": 0,
          "min": "0.2039859320046893",
          "max": "0.9549565217391304",
          "histogram": [
           {
            "bin_start": 0.2039859320046893,
            "bin_end": 0.27908299097813344,
            "count": 1
           },
           {
            "bin_start": 0.27908299097813344,
            "bin_end": 0.35418004995157754,
            "count": 1
           },
           {
            "bin_start": 0.35418004995157754,
            "bin_end": 0.4292771089250217,
            "count": 0
           },
           {
            "bin_start": 0.4292771089250217,
            "bin_end": 0.5043741678984658,
            "count": 0
           },
           {
            "bin_start": 0.5043741678984658,
            "bin_end": 0.5794712268719099,
            "count": 0
           },
           {
            "bin_start": 0.5794712268719099,
            "bin_end": 0.654568285845354,
            "count": 1
           },
           {
            "bin_start": 0.654568285845354,
            "bin_end": 0.7296653448187981,
            "count": 1
           },
           {
            "bin_start": 0.7296653448187981,
            "bin_end": 0.8047624037922422,
            "count": 0
           },
           {
            "bin_start": 0.8047624037922422,
            "bin_end": 0.8798594627656863,
            "count": 0
           },
           {
            "bin_start": 0.8798594627656863,
            "bin_end": 0.9549565217391304,
            "count": 1
           }
          ]
         }
        },
        {
         "name": "other_race_pop_normalised",
         "dtype": "float64",
         "stats": {
          "unique_count": 5,
          "nan_count": 0,
          "min": "0.0",
          "max": "0.0587826086956521",
          "histogram": [
           {
            "bin_start": 0,
            "bin_end": 0.0058782608695652095,
            "count": 1
           },
           {
            "bin_start": 0.0058782608695652095,
            "bin_end": 0.011756521739130419,
            "count": 0
           },
           {
            "bin_start": 0.011756521739130419,
            "bin_end": 0.01763478260869563,
            "count": 1
           },
           {
            "bin_start": 0.01763478260869563,
            "bin_end": 0.023513043478260838,
            "count": 0
           },
           {
            "bin_start": 0.023513043478260838,
            "bin_end": 0.029391304347826046,
            "count": 2
           },
           {
            "bin_start": 0.029391304347826046,
            "bin_end": 0.03526956521739126,
            "count": 0
           },
           {
            "bin_start": 0.03526956521739126,
            "bin_end": 0.04114782608695647,
            "count": 0
           },
           {
            "bin_start": 0.04114782608695647,
            "bin_end": 0.047026086956521676,
            "count": 0
           },
           {
            "bin_start": 0.047026086956521676,
            "bin_end": 0.052904347826086884,
            "count": 0
           },
           {
            "bin_start": 0.052904347826086884,
            "bin_end": 0.0587826086956521,
            "count": 1
           }
          ]
         }
        },
        {
         "name": "male_pop_normalised",
         "dtype": "float64",
         "stats": {
          "unique_count": 5,
          "nan_count": 0,
          "min": "0.4095389507154213",
          "max": "0.5236363636363637",
          "histogram": [
           {
            "bin_start": 0.4095389507154213,
            "bin_end": 0.4209486920075155,
            "count": 1
           },
           {
            "bin_start": 0.4209486920075155,
            "bin_end": 0.43235843329960977,
            "count": 0
           },
           {
            "bin_start": 0.43235843329960977,
            "bin_end": 0.44376817459170403,
            "count": 1
           },
           {
            "bin_start": 0.44376817459170403,
            "bin_end": 0.45517791588379825,
            "count": 0
           },
           {
            "bin_start": 0.45517791588379825,
            "bin_end": 0.46658765717589246,
            "count": 1
           },
           {
            "bin_start": 0.46658765717589246,
            "bin_end": 0.4779973984679867,
            "count": 0
           },
           {
            "bin_start": 0.4779973984679867,
            "bin_end": 0.489407139760081,
            "count": 0
           },
           {
            "bin_start": 0.489407139760081,
            "bin_end": 0.5008168810521751,
            "count": 0
           },
           {
            "bin_start": 0.5008168810521751,
            "bin_end": 0.5122266223442694,
            "count": 0
           },
           {
            "bin_start": 0.5122266223442694,
            "bin_end": 0.5236363636363637,
            "count": 2
           }
          ]
         }
        },
        {
         "name": "female_pop_normalised",
         "dtype": "float64",
         "stats": {
          "unique_count": 5,
          "nan_count": 0,
          "min": "0.4763636363636364",
          "max": "0.5904610492845787",
          "histogram": [
           {
            "bin_start": 0.4763636363636364,
            "bin_end": 0.4877733776557306,
            "count": 2
           },
           {
            "bin_start": 0.4877733776557306,
            "bin_end": 0.49918311894782486,
            "count": 0
           },
           {
            "bin_start": 0.49918311894782486,
            "bin_end": 0.510592860239919,
            "count": 0
           },
           {
            "bin_start": 0.510592860239919,
            "bin_end": 0.5220026015320133,
            "count": 0
           },
           {
            "bin_start": 0.5220026015320133,
            "bin_end": 0.5334123428241075,
            "count": 0
           },
           {
            "bin_start": 0.5334123428241075,
            "bin_end": 0.5448220841162017,
            "count": 1
           },
           {
            "bin_start": 0.5448220841162017,
            "bin_end": 0.556231825408296,
            "count": 0
           },
           {
            "bin_start": 0.556231825408296,
            "bin_end": 0.5676415667003902,
            "count": 1
           },
           {
            "bin_start": 0.5676415667003902,
            "bin_end": 0.5790513079924844,
            "count": 0
           },
           {
            "bin_start": 0.5790513079924844,
            "bin_end": 0.5904610492845787,
            "count": 1
           }
          ]
         }
        },
        {
         "name": "pop_currently_unmarried_normalised",
         "dtype": "float64",
         "stats": {
          "unique_count": 1,
          "nan_count": 0,
          "min": "0.0",
          "max": "0.0",
          "histogram": [
           {
            "bin_start": -0.5,
            "bin_end": -0.4,
            "count": 0
           },
           {
            "bin_start": -0.4,
            "bin_end": -0.3,
            "count": 0
           },
           {
            "bin_start": -0.3,
            "bin_end": -0.19999999999999996,
            "count": 0
           },
           {
            "bin_start": -0.19999999999999996,
            "bin_end": -0.09999999999999998,
            "count": 0
           },
           {
            "bin_start": -0.09999999999999998,
            "bin_end": 0,
            "count": 0
           },
           {
            "bin_start": 0,
            "bin_end": 0.10000000000000009,
            "count": 5
           },
           {
            "bin_start": 0.10000000000000009,
            "bin_end": 0.20000000000000007,
            "count": 0
           },
           {
            "bin_start": 0.20000000000000007,
            "bin_end": 0.30000000000000004,
            "count": 0
           },
           {
            "bin_start": 0.30000000000000004,
            "bin_end": 0.4,
            "count": 0
           },
           {
            "bin_start": 0.4,
            "bin_end": 0.5,
            "count": 0
           }
          ]
         }
        },
        {
         "name": "pop_now_married_normalised",
         "dtype": "float64",
         "stats": {
          "unique_count": 0,
          "nan_count": 5,
          "min": null,
          "max": null,
          "histogram": [
           {
            "bin_start": 0,
            "bin_end": 0.1,
            "count": 0
           },
           {
            "bin_start": 0.1,
            "bin_end": 0.2,
            "count": 0
           },
           {
            "bin_start": 0.2,
            "bin_end": 0.30000000000000004,
            "count": 0
           },
           {
            "bin_start": 0.30000000000000004,
            "bin_end": 0.4,
            "count": 0
           },
           {
            "bin_start": 0.4,
            "bin_end": 0.5,
            "count": 0
           },
           {
            "bin_start": 0.5,
            "bin_end": 0.6000000000000001,
            "count": 0
           },
           {
            "bin_start": 0.6000000000000001,
            "bin_end": 0.7000000000000001,
            "count": 0
           },
           {
            "bin_start": 0.7000000000000001,
            "bin_end": 0.8,
            "count": 0
           },
           {
            "bin_start": 0.8,
            "bin_end": 0.9,
            "count": 0
           },
           {
            "bin_start": 0.9,
            "bin_end": 1,
            "count": 0
           }
          ]
         }
        },
        {
         "name": "not_us_citizen_pop_normalised",
         "dtype": "float64",
         "stats": {
          "unique_count": 5,
          "nan_count": 0,
          "min": "0.0168034388432981",
          "max": "0.1605723370429252",
          "histogram": [
           {
            "bin_start": 0.0168034388432981,
            "bin_end": 0.031180328663260808,
            "count": 1
           },
           {
            "bin_start": 0.031180328663260808,
            "bin_end": 0.04555721848322351,
            "count": 0
           },
           {
            "bin_start": 0.04555721848322351,
            "bin_end": 0.059934108303186226,
            "count": 0
           },
           {
            "bin_start": 0.059934108303186226,
            "bin_end": 0.07431099812314894,
            "count": 0
           },
           {
            "bin_start": 0.07431099812314894,
            "bin_end": 0.08868788794311165,
            "count": 0
           },
           {
            "bin_start": 0.08868788794311165,
            "bin_end": 0.10306477776307435,
            "count": 0
           },
           {
            "bin_start": 0.10306477776307435,
            "bin_end": 0.11744166758303706,
            "count": 1
           },
           {
            "bin_start": 0.11744166758303706,
            "bin_end": 0.13181855740299978,
            "count": 1
           },
           {
            "bin_start": 0.13181855740299978,
            "bin_end": 0.1461954472229625,
            "count": 0
           },
           {
            "bin_start": 0.1461954472229625,
            "bin_end": 0.1605723370429252,
            "count": 2
           }
          ]
         }
        },
        {
         "name": "children_normalised",
         "dtype": "float64",
         "stats": {
          "unique_count": 5,
          "nan_count": 0,
          "min": "0.0438791732909379",
          "max": "0.2347826086956521",
          "histogram": [
           {
            "bin_start": 0.0438791732909379,
            "bin_end": 0.06296951683140932,
            "count": 1
           },
           {
            "bin_start": 0.06296951683140932,
            "bin_end": 0.08205986037188073,
            "count": 0
           },
           {
            "bin_start": 0.08205986037188073,
            "bin_end": 0.10115020391235216,
            "count": 0
           },
           {
            "bin_start": 0.10115020391235216,
            "bin_end": 0.12024054745282359,
            "count": 0
           },
           {
            "bin_start": 0.12024054745282359,
            "bin_end": 0.13933089099329501,
            "count": 0
           },
           {
            "bin_start": 0.13933089099329501,
            "bin_end": 0.15842123453376641,
            "count": 2
           },
           {
            "bin_start": 0.15842123453376641,
            "bin_end": 0.17751157807423784,
            "count": 0
           },
           {
            "bin_start": 0.17751157807423784,
            "bin_end": 0.19660192161470927,
            "count": 1
           },
           {
            "bin_start": 0.19660192161470927,
            "bin_end": 0.2156922651551807,
            "count": 0
           },
           {
            "bin_start": 0.2156922651551807,
            "bin_end": 0.2347826086956521,
            "count": 1
           }
          ]
         }
        },
        {
         "name": "married_households_normalised",
         "dtype": "float64",
         "stats": {
          "unique_count": 5,
          "nan_count": 0,
          "min": "0.0935596170583115",
          "max": "0.4511469838572642",
          "histogram": [
           {
            "bin_start": 0.0935596170583115,
            "bin_end": 0.12931835373820677,
            "count": 1
           },
           {
            "bin_start": 0.12931835373820677,
            "bin_end": 0.16507709041810203,
            "count": 0
           },
           {
            "bin_start": 0.16507709041810203,
            "bin_end": 0.20083582709799733,
            "count": 0
           },
           {
            "bin_start": 0.20083582709799733,
            "bin_end": 0.2365945637778926,
            "count": 0
           },
           {
            "bin_start": 0.2365945637778926,
            "bin_end": 0.27235330045778783,
            "count": 0
           },
           {
            "bin_start": 0.27235330045778783,
            "bin_end": 0.30811203713768315,
            "count": 2
           },
           {
            "bin_start": 0.30811203713768315,
            "bin_end": 0.3438707738175784,
            "count": 0
           },
           {
            "bin_start": 0.3438707738175784,
            "bin_end": 0.3796295104974737,
            "count": 1
           },
           {
            "bin_start": 0.3796295104974737,
            "bin_end": 0.41538824717736894,
            "count": 0
           },
           {
            "bin_start": 0.41538824717736894,
            "bin_end": 0.4511469838572642,
            "count": 1
           }
          ]
         }
        },
        {
         "name": "nonfamily_households_normalised",
         "dtype": "float64",
         "stats": {
          "unique_count": 5,
          "nan_count": 0,
          "min": "0.3918191603875134",
          "max": "0.6294820717131474",
          "histogram": [
           {
            "bin_start": 0.3918191603875134,
            "bin_end": 0.4155854515200768,
            "count": 1
           },
           {
            "bin_start": 0.4155854515200768,
            "bin_end": 0.4393517426526402,
            "count": 0
           },
           {
            "bin_start": 0.4393517426526402,
            "bin_end": 0.4631180337852036,
            "count": 1
           },
           {
            "bin_start": 0.4631180337852036,
            "bin_end": 0.486884324917767,
            "count": 0
           },
           {
            "bin_start": 0.486884324917767,
            "bin_end": 0.5106506160503304,
            "count": 0
           },
           {
            "bin_start": 0.5106506160503304,
            "bin_end": 0.5344169071828938,
            "count": 1
           },
           {
            "bin_start": 0.5344169071828938,
            "bin_end": 0.5581831983154573,
            "count": 1
           },
           {
            "bin_start": 0.5581831983154573,
            "bin_end": 0.5819494894480206,
            "count": 0
           },
           {
            "bin_start": 0.5819494894480206,
            "bin_end": 0.605715780580584,
            "count": 0
           },
           {
            "bin_start": 0.605715780580584,
            "bin_end": 0.6294820717131474,
            "count": 1
           }
          ]
         }
        },
        {
         "name": "family_households_normalised",
         "dtype": "float64",
         "stats": {
          "unique_count": 5,
          "nan_count": 0,
          "min": "0.3705179282868526",
          "max": "0.6081808396124866",
          "histogram": [
           {
            "bin_start": 0.3705179282868526,
            "bin_end": 0.394284219419416,
            "count": 1
           },
           {
            "bin_start": 0.394284219419416,
            "bin_end": 0.4180505105519794,
            "count": 0
           },
           {
            "bin_start": 0.4180505105519794,
            "bin_end": 0.4418168016845428,
            "count": 0
           },
           {
            "bin_start": 0.4418168016845428,
            "bin_end": 0.4655830928171062,
            "count": 1
           },
           {
            "bin_start": 0.4655830928171062,
            "bin_end": 0.4893493839496696,
            "count": 1
           },
           {
            "bin_start": 0.4893493839496696,
            "bin_end": 0.513115675082233,
            "count": 0
           },
           {
            "bin_start": 0.513115675082233,
            "bin_end": 0.5368819662147963,
            "count": 0
           },
           {
            "bin_start": 0.5368819662147963,
            "bin_end": 0.5606482573473598,
            "count": 1
           },
           {
            "bin_start": 0.5606482573473598,
            "bin_end": 0.5844145484799232,
            "count": 0
           },
           {
            "bin_start": 0.5844145484799232,
            "bin_end": 0.6081808396124866,
            "count": 1
           }
          ]
         }
        },
        {
         "name": "occupied_housing_units_normalised",
         "dtype": "float64",
         "stats": {
          "unique_count": 5,
          "nan_count": 0,
          "min": "0.7456368362421092",
          "max": "0.9696969696969696",
          "histogram": [
           {
            "bin_start": 0.7456368362421092,
            "bin_end": 0.7680428495875953,
            "count": 1
           },
           {
            "bin_start": 0.7680428495875953,
            "bin_end": 0.7904488629330813,
            "count": 0
           },
           {
            "bin_start": 0.7904488629330813,
            "bin_end": 0.8128548762785673,
            "count": 0
           },
           {
            "bin_start": 0.8128548762785673,
            "bin_end": 0.8352608896240533,
            "count": 0
           },
           {
            "bin_start": 0.8352608896240533,
            "bin_end": 0.8576669029695394,
            "count": 0
           },
           {
            "bin_start": 0.8576669029695394,
            "bin_end": 0.8800729163150254,
            "count": 0
           },
           {
            "bin_start": 0.8800729163150254,
            "bin_end": 0.9024789296605115,
            "count": 0
           },
           {
            "bin_start": 0.9024789296605115,
            "bin_end": 0.9248849430059976,
            "count": 0
           },
           {
            "bin_start": 0.9248849430059976,
            "bin_end": 0.9472909563514835,
            "count": 1
           },
           {
            "bin_start": 0.9472909563514835,
            "bin_end": 0.9696969696969696,
            "count": 3
           }
          ]
         }
        },
        {
         "name": "housing_units_renter_occupied_normalised",
         "dtype": "float64",
         "stats": {
          "unique_count": 5,
          "nan_count": 0,
          "min": "0.3021756647864625",
          "max": "0.850231384097602",
          "histogram": [
           {
            "bin_start": 0.3021756647864625,
            "bin_end": 0.3569812367175765,
            "count": 1
           },
           {
            "bin_start": 0.3569812367175765,
            "bin_end": 0.41178680864869044,
            "count": 0
           },
           {
            "bin_start": 0.41178680864869044,
            "bin_end": 0.46659238057980434,
            "count": 0
           },
           {
            "bin_start": 0.46659238057980434,
            "bin_end": 0.5213979525109183,
            "count": 0
           },
           {
            "bin_start": 0.5213979525109183,
            "bin_end": 0.5762035244420323,
            "count": 1
           },
           {
            "bin_start": 0.5762035244420323,
            "bin_end": 0.6310090963731462,
            "count": 0
           },
           {
            "bin_start": 0.6310090963731462,
            "bin_end": 0.6858146683042601,
            "count": 1
           },
           {
            "bin_start": 0.6858146683042601,
            "bin_end": 0.7406202402353741,
            "count": 1
           },
           {
            "bin_start": 0.7406202402353741,
            "bin_end": 0.7954258121664881,
            "count": 0
           },
           {
            "bin_start": 0.7954258121664881,
            "bin_end": 0.850231384097602,
            "count": 1
           }
          ]
         }
        },
        {
         "name": "vacant_housing_units_normalised",
         "dtype": "float64",
         "stats": {
          "unique_count": 5,
          "nan_count": 0,
          "min": "0.0303030303030303",
          "max": "0.2543631637578908",
          "histogram": [
           {
            "bin_start": 0.0303030303030303,
            "bin_end": 0.05270904364851635,
            "count": 3
           },
           {
            "bin_start": 0.05270904364851635,
            "bin_end": 0.07511505699400241,
            "count": 1
           },
           {
            "bin_start": 0.07511505699400241,
            "bin_end": 0.09752107033948845,
            "count": 0
           },
           {
            "bin_start": 0.09752107033948845,
            "bin_end": 0.11992708368497451,
            "count": 0
           },
           {
            "bin_start": 0.11992708368497451,
            "bin_end": 0.14233309703046057,
            "count": 0
           },
           {
            "bin_start": 0.14233309703046057,
            "bin_end": 0.1647391103759466,
            "count": 0
           },
           {
            "bin_start": 0.1647391103759466,
            "bin_end": 0.18714512372143266,
            "count": 0
           },
           {
            "bin_start": 0.18714512372143266,
            "bin_end": 0.20955113706691872,
            "count": 0
           },
           {
            "bin_start": 0.20955113706691872,
            "bin_end": 0.23195715041240478,
            "count": 0
           },
           {
            "bin_start": 0.23195715041240478,
            "bin_end": 0.2543631637578908,
            "count": 1
           }
          ]
         }
        },
        {
         "name": "vacant_housing_units_for_rent_normalised",
         "dtype": "float64",
         "stats": {
          "unique_count": 4,
          "nan_count": 0,
          "min": "0.0",
          "max": "0.0208333333333333",
          "histogram": [
           {
            "bin_start": 0,
            "bin_end": 0.0020833333333333303,
            "count": 2
           },
           {
            "bin_start": 0.0020833333333333303,
            "bin_end": 0.0041666666666666605,
            "count": 0
           },
           {
            "bin_start": 0.0041666666666666605,
            "bin_end": 0.006249999999999991,
            "count": 0
           },
           {
            "bin_start": 0.006249999999999991,
            "bin_end": 0.008333333333333321,
            "count": 0
           },
           {
            "bin_start": 0.008333333333333321,
            "bin_end": 0.01041666666666665,
            "count": 0
           },
           {
            "bin_start": 0.01041666666666665,
            "bin_end": 0.012499999999999982,
            "count": 0
           },
           {
            "bin_start": 0.012499999999999982,
            "bin_end": 0.014583333333333313,
            "count": 0
           },
           {
            "bin_start": 0.014583333333333313,
            "bin_end": 0.016666666666666642,
            "count": 0
           },
           {
            "bin_start": 0.016666666666666642,
            "bin_end": 0.01874999999999997,
            "count": 0
           },
           {
            "bin_start": 0.01874999999999997,
            "bin_end": 0.0208333333333333,
            "count": 3
           }
          ]
         }
        },
        {
         "name": "vacant_housing_units_for_sale_normalised",
         "dtype": "float64",
         "stats": {
          "unique_count": 1,
          "nan_count": 0,
          "min": "0.0",
          "max": "0.0",
          "histogram": [
           {
            "bin_start": -0.5,
            "bin_end": -0.4,
            "count": 0
           },
           {
            "bin_start": -0.4,
            "bin_end": -0.3,
            "count": 0
           },
           {
            "bin_start": -0.3,
            "bin_end": -0.19999999999999996,
            "count": 0
           },
           {
            "bin_start": -0.19999999999999996,
            "bin_end": -0.09999999999999998,
            "count": 0
           },
           {
            "bin_start": -0.09999999999999998,
            "bin_end": 0,
            "count": 0
           },
           {
            "bin_start": 0,
            "bin_end": 0.10000000000000009,
            "count": 5
           },
           {
            "bin_start": 0.10000000000000009,
            "bin_end": 0.20000000000000007,
            "count": 0
           },
           {
            "bin_start": 0.20000000000000007,
            "bin_end": 0.30000000000000004,
            "count": 0
           },
           {
            "bin_start": 0.30000000000000004,
            "bin_end": 0.4,
            "count": 0
           },
           {
            "bin_start": 0.4,
            "bin_end": 0.5,
            "count": 0
           }
          ]
         }
        },
        {
         "name": "mobile_homes_normalised",
         "dtype": "float64",
         "stats": {
          "unique_count": 1,
          "nan_count": 0,
          "min": "0.0",
          "max": "0.0",
          "histogram": [
           {
            "bin_start": -0.5,
            "bin_end": -0.4,
            "count": 0
           },
           {
            "bin_start": -0.4,
            "bin_end": -0.3,
            "count": 0
           },
           {
            "bin_start": -0.3,
            "bin_end": -0.19999999999999996,
            "count": 0
           },
           {
            "bin_start": -0.19999999999999996,
            "bin_end": -0.09999999999999998,
            "count": 0
           },
           {
            "bin_start": -0.09999999999999998,
            "bin_end": 0,
            "count": 0
           },
           {
            "bin_start": 0,
            "bin_end": 0.10000000000000009,
            "count": 5
           },
           {
            "bin_start": 0.10000000000000009,
            "bin_end": 0.20000000000000007,
            "count": 0
           },
           {
            "bin_start": 0.20000000000000007,
            "bin_end": 0.30000000000000004,
            "count": 0
           },
           {
            "bin_start": 0.30000000000000004,
            "bin_end": 0.4,
            "count": 0
           },
           {
            "bin_start": 0.4,
            "bin_end": 0.5,
            "count": 0
           }
          ]
         }
        },
        {
         "name": "group_quarters_normalised",
         "dtype": "float64",
         "stats": {
          "unique_count": 4,
          "nan_count": 0,
          "min": "0.0",
          "max": "0.0031304347826086",
          "histogram": [
           {
            "bin_start": 0,
            "bin_end": 0.00031304347826086,
            "count": 2
           },
           {
            "bin_start": 0.00031304347826086,
            "bin_end": 0.00062608695652172,
            "count": 0
           },
           {
            "bin_start": 0.00062608695652172,
            "bin_end": 0.00093913043478258,
            "count": 0
           },
           {
            "bin_start": 0.00093913043478258,
            "bin_end": 0.00125217391304344,
            "count": 0
           },
           {
            "bin_start": 0.00125217391304344,
            "bin_end": 0.0015652173913043,
            "count": 0
           },
           {
            "bin_start": 0.0015652173913043,
            "bin_end": 0.00187826086956516,
            "count": 0
           },
           {
            "bin_start": 0.00187826086956516,
            "bin_end": 0.00219130434782602,
            "count": 0
           },
           {
            "bin_start": 0.00219130434782602,
            "bin_end": 0.00250434782608688,
            "count": 1
           },
           {
            "bin_start": 0.00250434782608688,
            "bin_end": 0.00281739130434774,
            "count": 0
           },
           {
            "bin_start": 0.00281739130434774,
            "bin_end": 0.0031304347826086,
            "count": 2
           }
          ]
         }
        },
        {
         "name": "housing_built_1939_or_earlier_normalised",
         "dtype": "float64",
         "stats": {
          "unique_count": 5,
          "nan_count": 0,
          "min": "0.0151515151515151",
          "max": "0.0904522613065326",
          "histogram": [
           {
            "bin_start": 0.0151515151515151,
            "bin_end": 0.022681589767016848,
            "count": 1
           },
           {
            "bin_start": 0.022681589767016848,
            "bin_end": 0.0302116643825186,
            "count": 1
           },
           {
            "bin_start": 0.0302116643825186,
            "bin_end": 0.037741738998020344,
            "count": 0
           },
           {
            "bin_start": 0.037741738998020344,
            "bin_end": 0.0452718136135221,
            "count": 1
           },
           {
            "bin_start": 0.0452718136135221,
            "bin_end": 0.05280188822902385,
            "count": 0
           },
           {
            "bin_start": 0.05280188822902385,
            "bin_end": 0.06033196284452559,
            "count": 1
           },
           {
            "bin_start": 0.06033196284452559,
            "bin_end": 0.06786203746002735,
            "count": 0
           },
           {
            "bin_start": 0.06786203746002735,
            "bin_end": 0.0753921120755291,
            "count": 0
           },
           {
            "bin_start": 0.0753921120755291,
            "bin_end": 0.08292218669103084,
            "count": 0
           },
           {
            "bin_start": 0.08292218669103084,
            "bin_end": 0.0904522613065326,
            "count": 1
           }
          ]
         }
        },
        {
         "name": "housing_built_2004_or_later_normalised",
         "dtype": "float64",
         "stats": {
          "unique_count": 3,
          "nan_count": 0,
          "min": "0.0",
          "max": "0.1251392499071667",
          "histogram": [
           {
            "bin_start": 0,
            "bin_end": 0.012513924990716671,
            "count": 3
           },
           {
            "bin_start": 0.012513924990716671,
            "bin_end": 0.025027849981433342,
            "count": 0
           },
           {
            "bin_start": 0.025027849981433342,
            "bin_end": 0.03754177497215001,
            "count": 0
           },
           {
            "bin_start": 0.03754177497215001,
            "bin_end": 0.050055699962866684,
            "count": 0
           },
           {
            "bin_start": 0.050055699962866684,
            "bin_end": 0.06256962495358336,
            "count": 1
           },
           {
            "bin_start": 0.06256962495358336,
            "bin_end": 0.07508354994430003,
            "count": 0
           },
           {
            "bin_start": 0.07508354994430003,
            "bin_end": 0.0875974749350167,
            "count": 0
           },
           {
            "bin_start": 0.0875974749350167,
            "bin_end": 0.10011139992573337,
            "count": 0
           },
           {
            "bin_start": 0.10011139992573337,
            "bin_end": 0.11262532491645004,
            "count": 0
           },
           {
            "bin_start": 0.11262532491645004,
            "bin_end": 0.1251392499071667,
            "count": 1
           }
          ]
         }
        },
        {
         "name": "children_in_single_female_hh_normalised",
         "dtype": "float64",
         "stats": {
          "unique_count": 5,
          "nan_count": 0,
          "min": "0.0",
          "max": "0.725925925925926",
          "histogram": [
           {
            "bin_start": 0,
            "bin_end": 0.0725925925925926,
            "count": 1
           },
           {
            "bin_start": 0.0725925925925926,
            "bin_end": 0.1451851851851852,
            "count": 0
           },
           {
            "bin_start": 0.1451851851851852,
            "bin_end": 0.2177777777777778,
            "count": 1
           },
           {
            "bin_start": 0.2177777777777778,
            "bin_end": 0.2903703703703704,
            "count": 0
           },
           {
            "bin_start": 0.2903703703703704,
            "bin_end": 0.362962962962963,
            "count": 0
           },
           {
            "bin_start": 0.362962962962963,
            "bin_end": 0.4355555555555556,
            "count": 1
           },
           {
            "bin_start": 0.4355555555555556,
            "bin_end": 0.5081481481481482,
            "count": 0
           },
           {
            "bin_start": 0.5081481481481482,
            "bin_end": 0.5807407407407408,
            "count": 1
           },
           {
            "bin_start": 0.5807407407407408,
            "bin_end": 0.6533333333333333,
            "count": 0
           },
           {
            "bin_start": 0.6533333333333333,
            "bin_end": 0.725925925925926,
            "count": 1
           }
          ]
         }
        },
        {
         "name": "rent_burden_not_computed_normalised",
         "dtype": "float64",
         "stats": {
          "unique_count": 5,
          "nan_count": 0,
          "min": "0.0180904522613065",
          "max": "0.0542146305235796",
          "histogram": [
           {
            "bin_start": 0.0180904522613065,
            "bin_end": 0.02170287008753381,
            "count": 1
           },
           {
            "bin_start": 0.02170287008753381,
            "bin_end": 0.02531528791376112,
            "count": 1
           },
           {
            "bin_start": 0.02531528791376112,
            "bin_end": 0.02892770573998843,
            "count": 1
           },
           {
            "bin_start": 0.02892770573998843,
            "bin_end": 0.03254012356621574,
            "count": 0
           },
           {
            "bin_start": 0.03254012356621574,
            "bin_end": 0.03615254139244305,
            "count": 1
           },
           {
            "bin_start": 0.03615254139244305,
            "bin_end": 0.03976495921867036,
            "count": 0
           },
           {
            "bin_start": 0.03976495921867036,
            "bin_end": 0.04337737704489767,
            "count": 0
           },
           {
            "bin_start": 0.04337737704489767,
            "bin_end": 0.04698979487112498,
            "count": 0
           },
           {
            "bin_start": 0.04698979487112498,
            "bin_end": 0.050602212697352295,
            "count": 0
           },
           {
            "bin_start": 0.050602212697352295,
            "bin_end": 0.0542146305235796,
            "count": 1
           }
          ]
         }
        },
        {
         "name": "rent_under_30_percent_normalised",
         "dtype": "float64",
         "stats": {
          "unique_count": 5,
          "nan_count": 0,
          "min": "0.1240934730056406",
          "max": "0.3929924242424242",
          "histogram": [
           {
            "bin_start": 0.1240934730056406,
            "bin_end": 0.15098336812931895,
            "count": 1
           },
           {
            "bin_start": 0.15098336812931895,
            "bin_end": 0.17787326325299732,
            "count": 0
           },
           {
            "bin_start": 0.17787326325299732,
            "bin_end": 0.2047631583766757,
            "count": 0
           },
           {
            "bin_start": 0.2047631583766757,
            "bin_end": 0.23165305350035403,
            "count": 0
           },
           {
            "bin_start": 0.23165305350035403,
            "bin_end": 0.2585429486240324,
            "count": 0
           },
           {
            "bin_start": 0.2585429486240324,
            "bin_end": 0.2854328437477108,
            "count": 1
           },
           {
            "bin_start": 0.2854328437477108,
            "bin_end": 0.3123227388713891,
            "count": 0
           },
           {
            "bin_start": 0.3123227388713891,
            "bin_end": 0.33921263399506746,
            "count": 1
           },
           {
            "bin_start": 0.33921263399506746,
            "bin_end": 0.36610252911874586,
            "count": 0
           },
           {
            "bin_start": 0.36610252911874586,
            "bin_end": 0.3929924242424242,
            "count": 2
           }
          ]
         }
        },
        {
         "name": "rent_30_to_50_percent_normalised",
         "dtype": "float64",
         "stats": {
          "unique_count": 5,
          "nan_count": 0,
          "min": "0.0660757453666398",
          "max": "0.2675641564997896",
          "histogram": [
           {
            "bin_start": 0.0660757453666398,
            "bin_end": 0.08622458647995478,
            "count": 1
           },
           {
            "bin_start": 0.08622458647995478,
            "bin_end": 0.10637342759326976,
            "count": 0
           },
           {
            "bin_start": 0.10637342759326976,
            "bin_end": 0.12652226870658473,
            "count": 0
           },
           {
            "bin_start": 0.12652226870658473,
            "bin_end": 0.14667110981989973,
            "count": 2
           },
           {
            "bin_start": 0.14667110981989973,
            "bin_end": 0.1668199509332147,
            "count": 0
           },
           {
            "bin_start": 0.1668199509332147,
            "bin_end": 0.18696879204652966,
            "count": 1
           },
           {
            "bin_start": 0.18696879204652966,
            "bin_end": 0.20711763315984466,
            "count": 0
           },
           {
            "bin_start": 0.20711763315984466,
            "bin_end": 0.22726647427315963,
            "count": 0
           },
           {
            "bin_start": 0.22726647427315963,
            "bin_end": 0.2474153153864746,
            "count": 0
           },
           {
            "bin_start": 0.2474153153864746,
            "bin_end": 0.2675641564997896,
            "count": 1
           }
          ]
         }
        },
        {
         "name": "rent_over_50_percent_normalised",
         "dtype": "float64",
         "stats": {
          "unique_count": 5,
          "nan_count": 0,
          "min": "0.0781627719580983",
          "max": "0.1708035338662179",
          "histogram": [
           {
            "bin_start": 0.0781627719580983,
            "bin_end": 0.08742684814891026,
            "count": 2
           },
           {
            "bin_start": 0.08742684814891026,
            "bin_end": 0.09669092433972222,
            "count": 0
           },
           {
            "bin_start": 0.09669092433972222,
            "bin_end": 0.1059550005305342,
            "count": 0
           },
           {
            "bin_start": 0.1059550005305342,
            "bin_end": 0.11521907672134615,
            "count": 1
           },
           {
            "bin_start": 0.11521907672134615,
            "bin_end": 0.12448315291215811,
            "count": 0
           },
           {
            "bin_start": 0.12448315291215811,
            "bin_end": 0.13374722910297007,
            "count": 0
           },
           {
            "bin_start": 0.13374722910297007,
            "bin_end": 0.14301130529378203,
            "count": 1
           },
           {
            "bin_start": 0.14301130529378203,
            "bin_end": 0.152275381484594,
            "count": 0
           },
           {
            "bin_start": 0.152275381484594,
            "bin_end": 0.16153945767540595,
            "count": 0
           },
           {
            "bin_start": 0.16153945767540595,
            "bin_end": 0.1708035338662179,
            "count": 1
           }
          ]
         }
        },
        {
         "name": "aggregate_travel_time_to_work_normalised",
         "dtype": "float64",
         "stats": {
          "unique_count": 4,
          "nan_count": 1,
          "min": "19.96109958506224",
          "max": "33.09132720105125",
          "histogram": [
           {
            "bin_start": 19.96109958506224,
            "bin_end": 21.27412234666114,
            "count": 2
           },
           {
            "bin_start": 21.27412234666114,
            "bin_end": 22.587145108260042,
            "count": 0
           },
           {
            "bin_start": 22.587145108260042,
            "bin_end": 23.900167869858944,
            "count": 0
           },
           {
            "bin_start": 23.900167869858944,
            "bin_end": 25.21319063145784,
            "count": 0
           },
           {
            "bin_start": 25.21319063145784,
            "bin_end": 26.526213393056743,
            "count": 1
           },
           {
            "bin_start": 26.526213393056743,
            "bin_end": 27.839236154655644,
            "count": 0
           },
           {
            "bin_start": 27.839236154655644,
            "bin_end": 29.152258916254546,
            "count": 0
           },
           {
            "bin_start": 29.152258916254546,
            "bin_end": 30.465281677853447,
            "count": 0
           },
           {
            "bin_start": 30.465281677853447,
            "bin_end": 31.77830443945235,
            "count": 0
           },
           {
            "bin_start": 31.77830443945235,
            "bin_end": 33.09132720105125,
            "count": 1
           }
          ]
         }
        },
        {
         "name": "walked_to_work_normalised",
         "dtype": "float64",
         "stats": {
          "unique_count": 5,
          "nan_count": 0,
          "min": "0.0045992115637319",
          "max": "0.383298755186722",
          "histogram": [
           {
            "bin_start": 0.0045992115637319,
            "bin_end": 0.042469165926030915,
            "count": 2
           },
           {
            "bin_start": 0.042469165926030915,
            "bin_end": 0.08033912028832993,
            "count": 1
           },
           {
            "bin_start": 0.08033912028832993,
            "bin_end": 0.11820907465062895,
            "count": 0
           },
           {
            "bin_start": 0.11820907465062895,
            "bin_end": 0.15607902901292797,
            "count": 0
           },
           {
            "bin_start": 0.15607902901292797,
            "bin_end": 0.19394898337522698,
            "count": 0
           },
           {
            "bin_start": 0.19394898337522698,
            "bin_end": 0.231818937737526,
            "count": 0
           },
           {
            "bin_start": 0.231818937737526,
            "bin_end": 0.269688892099825,
            "count": 0
           },
           {
            "bin_start": 0.269688892099825,
            "bin_end": 0.307558846462124,
            "count": 1
           },
           {
            "bin_start": 0.307558846462124,
            "bin_end": 0.345428800824423,
            "count": 0
           },
           {
            "bin_start": 0.345428800824423,
            "bin_end": 0.383298755186722,
            "count": 1
           }
          ]
         }
        },
        {
         "name": "worked_at_home_normalised",
         "dtype": "float64",
         "stats": {
          "unique_count": 5,
          "nan_count": 0,
          "min": "0.0",
          "max": "0.0746619635508524",
          "histogram": [
           {
            "bin_start": 0,
            "bin_end": 0.00746619635508524,
            "count": 2
           },
           {
            "bin_start": 0.00746619635508524,
            "bin_end": 0.01493239271017048,
            "count": 0
           },
           {
            "bin_start": 0.01493239271017048,
            "bin_end": 0.02239858906525572,
            "count": 1
           },
           {
            "bin_start": 0.02239858906525572,
            "bin_end": 0.02986478542034096,
            "count": 0
           },
           {
            "bin_start": 0.02986478542034096,
            "bin_end": 0.0373309817754262,
            "count": 1
           },
           {
            "bin_start": 0.0373309817754262,
            "bin_end": 0.04479717813051144,
            "count": 0
           },
           {
            "bin_start": 0.04479717813051144,
            "bin_end": 0.05226337448559668,
            "count": 0
           },
           {
            "bin_start": 0.05226337448559668,
            "bin_end": 0.05972957084068192,
            "count": 0
           },
           {
            "bin_start": 0.05972957084068192,
            "bin_end": 0.06719576719576717,
            "count": 0
           },
           {
            "bin_start": 0.06719576719576717,
            "bin_end": 0.0746619635508524,
            "count": 1
           }
          ]
         }
        },
        {
         "name": "no_car_normalised",
         "dtype": "float64",
         "stats": {
          "unique_count": 5,
          "nan_count": 0,
          "min": "0.0308804204993429",
          "max": "0.4211618257261411",
          "histogram": [
           {
            "bin_start": 0.0308804204993429,
            "bin_end": 0.06990856102202272,
            "count": 1
           },
           {
            "bin_start": 0.06990856102202272,
            "bin_end": 0.10893670154470253,
            "count": 0
           },
           {
            "bin_start": 0.10893670154470253,
            "bin_end": 0.14796484206738236,
            "count": 0
           },
           {
            "bin_start": 0.14796484206738236,
            "bin_end": 0.18699298259006217,
            "count": 0
           },
           {
            "bin_start": 0.18699298259006217,
            "bin_end": 0.226021123112742,
            "count": 2
           },
           {
            "bin_start": 0.226021123112742,
            "bin_end": 0.2650492636354218,
            "count": 0
           },
           {
            "bin_start": 0.2650492636354218,
            "bin_end": 0.30407740415810164,
            "count": 0
           },
           {
            "bin_start": 0.30407740415810164,
            "bin_end": 0.34310554468078147,
            "count": 1
           },
           {
            "bin_start": 0.34310554468078147,
            "bin_end": 0.3821336852034613,
            "count": 0
           },
           {
            "bin_start": 0.3821336852034613,
            "bin_end": 0.4211618257261411,
            "count": 1
           }
          ]
         }
        },
        {
         "name": "no_cars_normalised",
         "dtype": "float64",
         "stats": {
          "unique_count": 5,
          "nan_count": 0,
          "min": "0.0871905274488697",
          "max": "0.548804780876494",
          "histogram": [
           {
            "bin_start": 0.0871905274488697,
            "bin_end": 0.13335195279163212,
            "count": 1
           },
           {
            "bin_start": 0.13335195279163212,
            "bin_end": 0.17951337813439455,
            "count": 0
           },
           {
            "bin_start": 0.17951337813439455,
            "bin_end": 0.22567480347715696,
            "count": 0
           },
           {
            "bin_start": 0.22567480347715696,
            "bin_end": 0.2718362288199194,
            "count": 1
           },
           {
            "bin_start": 0.2718362288199194,
            "bin_end": 0.31799765416268183,
            "count": 1
           },
           {
            "bin_start": 0.31799765416268183,
            "bin_end": 0.36415907950544424,
            "count": 0
           },
           {
            "bin_start": 0.36415907950544424,
            "bin_end": 0.4103205048482067,
            "count": 0
           },
           {
            "bin_start": 0.4103205048482067,
            "bin_end": 0.4564819301909691,
            "count": 0
           },
           {
            "bin_start": 0.4564819301909691,
            "bin_end": 0.5026433555337315,
            "count": 0
           },
           {
            "bin_start": 0.5026433555337315,
            "bin_end": 0.548804780876494,
            "count": 2
           }
          ]
         }
        },
        {
         "name": "one_or_more_cars_normalised",
         "dtype": "float64",
         "stats": {
          "unique_count": 5,
          "nan_count": 0,
          "min": "0.4511952191235059",
          "max": "0.9128094725511302",
          "histogram": [
           {
            "bin_start": 0.4511952191235059,
            "bin_end": 0.4973566444662683,
            "count": 2
           },
           {
            "bin_start": 0.4973566444662683,
            "bin_end": 0.5435180698090307,
            "count": 0
           },
           {
            "bin_start": 0.5435180698090307,
            "bin_end": 0.5896794951517932,
            "count": 0
           },
           {
            "bin_start": 0.5896794951517932,
            "bin_end": 0.6358409204945557,
            "count": 0
           },
           {
            "bin_start": 0.6358409204945557,
            "bin_end": 0.6820023458373181,
            "count": 0
           },
           {
            "bin_start": 0.6820023458373181,
            "bin_end": 0.7281637711800805,
            "count": 1
           },
           {
            "bin_start": 0.7281637711800805,
            "bin_end": 0.7743251965228429,
            "count": 1
           },
           {
            "bin_start": 0.7743251965228429,
            "bin_end": 0.8204866218656053,
            "count": 0
           },
           {
            "bin_start": 0.8204866218656053,
            "bin_end": 0.8666480472083677,
            "count": 0
           },
           {
            "bin_start": 0.8666480472083677,
            "bin_end": 0.9128094725511302,
            "count": 1
           }
          ]
         }
        },
        {
         "name": "commuters_by_subway_or_elevated_normalised",
         "dtype": "float64",
         "stats": {
          "unique_count": 5,
          "nan_count": 0,
          "min": "0.0605526161081716",
          "max": "0.3768432550518842",
          "histogram": [
           {
            "bin_start": 0.0605526161081716,
            "bin_end": 0.09218168000254287,
            "count": 1
           },
           {
            "bin_start": 0.09218168000254287,
            "bin_end": 0.12381074389691413,
            "count": 2
           },
           {
            "bin_start": 0.12381074389691413,
            "bin_end": 0.1554398077912854,
            "count": 0
           },
           {
            "bin_start": 0.1554398077912854,
            "bin_end": 0.18706887168565667,
            "count": 0
           },
           {
            "bin_start": 0.18706887168565667,
            "bin_end": 0.21869793558002792,
            "count": 0
           },
           {
            "bin_start": 0.21869793558002792,
            "bin_end": 0.2503269994743992,
            "count": 1
           },
           {
            "bin_start": 0.2503269994743992,
            "bin_end": 0.28195606336877044,
            "count": 0
           },
           {
            "bin_start": 0.28195606336877044,
            "bin_end": 0.3135851272631417,
            "count": 0
           },
           {
            "bin_start": 0.3135851272631417,
            "bin_end": 0.34521419115751295,
            "count": 0
           },
           {
            "bin_start": 0.34521419115751295,
            "bin_end": 0.3768432550518842,
            "count": 1
           }
          ]
         }
        },
        {
         "name": "commuters_by_bus_normalised",
         "dtype": "float64",
         "stats": {
          "unique_count": 5,
          "nan_count": 0,
          "min": "0.033713692946058",
          "max": "0.2992586812329301",
          "histogram": [
           {
            "bin_start": 0.033713692946058,
            "bin_end": 0.06026819177474521,
            "count": 1
           },
           {
            "bin_start": 0.06026819177474521,
            "bin_end": 0.08682269060343242,
            "count": 3
           },
           {
            "bin_start": 0.08682269060343242,
            "bin_end": 0.11337718943211963,
            "count": 0
           },
           {
            "bin_start": 0.11337718943211963,
            "bin_end": 0.13993168826080685,
            "count": 0
           },
           {
            "bin_start": 0.13993168826080685,
            "bin_end": 0.16648618708949406,
            "count": 0
           },
           {
            "bin_start": 0.16648618708949406,
            "bin_end": 0.19304068591818127,
            "count": 0
           },
           {
            "bin_start": 0.19304068591818127,
            "bin_end": 0.21959518474686848,
            "count": 0
           },
           {
            "bin_start": 0.21959518474686848,
            "bin_end": 0.2461496835755557,
            "count": 0
           },
           {
            "bin_start": 0.2461496835755557,
            "bin_end": 0.2727041824042429,
            "count": 0
           },
           {
            "bin_start": 0.2727041824042429,
            "bin_end": 0.2992586812329301,
            "count": 1
           }
          ]
         }
        },
        {
         "name": "commuters_personal_transport_normalised",
         "dtype": "float64",
         "stats": {
          "unique_count": 5,
          "nan_count": 0,
          "min": "0.5103734439834025",
          "max": "1.4783180026281209",
          "histogram": [
           {
            "bin_start": 0.5103734439834025,
            "bin_end": 0.6071678998478743,
            "count": 1
           },
           {
            "bin_start": 0.6071678998478743,
            "bin_end": 0.7039623557123461,
            "count": 2
           },
           {
            "bin_start": 0.7039623557123461,
            "bin_end": 0.800756811576818,
            "count": 1
           },
           {
            "bin_start": 0.800756811576818,
            "bin_end": 0.8975512674412898,
            "count": 0
           },
           {
            "bin_start": 0.8975512674412898,
            "bin_end": 0.9943457233057617,
            "count": 0
           },
           {
            "bin_start": 0.9943457233057617,
            "bin_end": 1.0911401791702335,
            "count": 0
           },
           {
            "bin_start": 1.0911401791702335,
            "bin_end": 1.1879346350347053,
            "count": 0
           },
           {
            "bin_start": 1.1879346350347053,
            "bin_end": 1.284729090899177,
            "count": 0
           },
           {
            "bin_start": 1.284729090899177,
            "bin_end": 1.381523546763649,
            "count": 0
           },
           {
            "bin_start": 1.381523546763649,
            "bin_end": 1.4783180026281209,
            "count": 1
           }
          ]
         }
        },
        {
         "name": "education_high_school_or_less_normalised",
         "dtype": "float64",
         "stats": {
          "unique_count": 5,
          "nan_count": 0,
          "min": "0.0590074247753028",
          "max": "0.6424347826086957",
          "histogram": [
           {
            "bin_start": 0.0590074247753028,
            "bin_end": 0.11735016055864209,
            "count": 1
           },
           {
            "bin_start": 0.11735016055864209,
            "bin_end": 0.17569289634198137,
            "count": 1
           },
           {
            "bin_start": 0.17569289634198137,
            "bin_end": 0.23403563212532064,
            "count": 0
           },
           {
            "bin_start": 0.23403563212532064,
            "bin_end": 0.2923783679086599,
            "count": 0
           },
           {
            "bin_start": 0.2923783679086599,
            "bin_end": 0.3507211036919992,
            "count": 1
           },
           {
            "bin_start": 0.3507211036919992,
            "bin_end": 0.4090638394753385,
            "count": 0
           },
           {
            "bin_start": 0.4090638394753385,
            "bin_end": 0.4674065752586778,
            "count": 0
           },
           {
            "bin_start": 0.4674065752586778,
            "bin_end": 0.525749311042017,
            "count": 1
           },
           {
            "bin_start": 0.525749311042017,
            "bin_end": 0.5840920468253563,
            "count": 0
           },
           {
            "bin_start": 0.5840920468253563,
            "bin_end": 0.6424347826086957,
            "count": 1
           }
          ]
         }
        },
        {
         "name": "education_less_than_bachelors_normalised",
         "dtype": "float64",
         "stats": {
          "unique_count": 5,
          "nan_count": 0,
          "min": "0.1344275107463853",
          "max": "0.4638383838383838",
          "histogram": [
           {
            "bin_start": 0.1344275107463853,
            "bin_end": 0.16736859805558513,
            "count": 2
           },
           {
            "bin_start": 0.16736859805558513,
            "bin_end": 0.200309685364785,
            "count": 0
           },
           {
            "bin_start": 0.200309685364785,
            "bin_end": 0.23325077267398486,
            "count": 1
           },
           {
            "bin_start": 0.23325077267398486,
            "bin_end": 0.26619185998318473,
            "count": 0
           },
           {
            "bin_start": 0.26619185998318473,
            "bin_end": 0.2991329472923846,
            "count": 0
           },
           {
            "bin_start": 0.2991329472923846,
            "bin_end": 0.3320740346015844,
            "count": 1
           },
           {
            "bin_start": 0.3320740346015844,
            "bin_end": 0.3650151219107842,
            "count": 0
           },
           {
            "bin_start": 0.3650151219107842,
            "bin_end": 0.3979562092199841,
            "count": 0
           },
           {
            "bin_start": 0.3979562092199841,
            "bin_end": 0.43089729652918396,
            "count": 0
           },
           {
            "bin_start": 0.43089729652918396,
            "bin_end": 0.4638383838383838,
            "count": 1
           }
          ]
         }
        },
        {
         "name": "education_bachelors_degree_normalised",
         "dtype": "float64",
         "stats": {
          "unique_count": 5,
          "nan_count": 0,
          "min": "0.1008695652173913",
          "max": "0.7002735443532629",
          "histogram": [
           {
            "bin_start": 0.1008695652173913,
            "bin_end": 0.16080996313097845,
            "count": 1
           },
           {
            "bin_start": 0.16080996313097845,
            "bin_end": 0.22075036104456564,
            "count": 0
           },
           {
            "bin_start": 0.22075036104456564,
            "bin_end": 0.28069075895815276,
            "count": 1
           },
           {
            "bin_start": 0.28069075895815276,
            "bin_end": 0.34063115687173995,
            "count": 0
           },
           {
            "bin_start": 0.34063115687173995,
            "bin_end": 0.40057155478532713,
            "count": 0
           },
           {
            "bin_start": 0.40057155478532713,
            "bin_end": 0.4605119526989143,
            "count": 0
           },
           {
            "bin_start": 0.4605119526989143,
            "bin_end": 0.5204523506125014,
            "count": 1
           },
           {
            "bin_start": 0.5204523506125014,
            "bin_end": 0.5803927485260886,
            "count": 0
           },
           {
            "bin_start": 0.5803927485260886,
            "bin_end": 0.6403331464396758,
            "count": 0
           },
           {
            "bin_start": 0.6403331464396758,
            "bin_end": 0.7002735443532629,
            "count": 2
           }
          ]
         }
        },
        {
         "name": "education_graduate_degree_normalised",
         "dtype": "float64",
         "stats": {
          "unique_count": 5,
          "nan_count": 0,
          "min": "0.0954782608695652",
          "max": "0.6581875993640699",
          "histogram": [
           {
            "bin_start": 0.0954782608695652,
            "bin_end": 0.15174919471901566,
            "count": 2
           },
           {
            "bin_start": 0.15174919471901566,
            "bin_end": 0.20802012856846613,
            "count": 0
           },
           {
            "bin_start": 0.20802012856846613,
            "bin_end": 0.26429106241791656,
            "count": 0
           },
           {
            "bin_start": 0.26429106241791656,
            "bin_end": 0.32056199626736703,
            "count": 0
           },
           {
            "bin_start": 0.32056199626736703,
            "bin_end": 0.3768329301168175,
            "count": 1
           },
           {
            "bin_start": 0.3768329301168175,
            "bin_end": 0.433103863966268,
            "count": 0
           },
           {
            "bin_start": 0.433103863966268,
            "bin_end": 0.48937479781571847,
            "count": 0
           },
           {
            "bin_start": 0.48937479781571847,
            "bin_end": 0.5456457316651689,
            "count": 0
           },
           {
            "bin_start": 0.5456457316651689,
            "bin_end": 0.6019166655146194,
            "count": 1
           },
           {
            "bin_start": 0.6019166655146194,
            "bin_end": 0.6581875993640699,
            "count": 1
           }
          ]
         }
        },
        {
         "name": "income_less_14999_normalised",
         "dtype": "float64",
         "stats": {
          "unique_count": 5,
          "nan_count": 0,
          "min": "0.0322854715378079",
          "max": "0.4160139251523063",
          "histogram": [
           {
            "bin_start": 0.0322854715378079,
            "bin_end": 0.07065831689925774,
            "count": 2
           },
           {
            "bin_start": 0.07065831689925774,
            "bin_end": 0.10903116226070758,
            "count": 0
           },
           {
            "bin_start": 0.10903116226070758,
            "bin_end": 0.1474040076221574,
            "count": 0
           },
           {
            "bin_start": 0.1474040076221574,
            "bin_end": 0.18577685298360724,
            "count": 2
           },
           {
            "bin_start": 0.18577685298360724,
            "bin_end": 0.22414969834505707,
            "count": 0
           },
           {
            "bin_start": 0.22414969834505707,
            "bin_end": 0.26252254370650696,
            "count": 0
           },
           {
            "bin_start": 0.26252254370650696,
            "bin_end": 0.30089538906795676,
            "count": 0
           },
           {
            "bin_start": 0.30089538906795676,
            "bin_end": 0.3392682344294066,
            "count": 0
           },
           {
            "bin_start": 0.3392682344294066,
            "bin_end": 0.3776410797908565,
            "count": 0
           },
           {
            "bin_start": 0.3776410797908565,
            "bin_end": 0.4160139251523063,
            "count": 1
           }
          ]
         }
        },
        {
         "name": "income_15000_24999_normalised",
         "dtype": "float64",
         "stats": {
          "unique_count": 5,
          "nan_count": 0,
          "min": "0.0283864541832669",
          "max": "0.1366405570060922",
          "histogram": [
           {
            "bin_start": 0.0283864541832669,
            "bin_end": 0.03921186446554943,
            "count": 2
           },
           {
            "bin_start": 0.03921186446554943,
            "bin_end": 0.050037274747831956,
            "count": 0
           },
           {
            "bin_start": 0.050037274747831956,
            "bin_end": 0.06086268503011449,
            "count": 0
           },
           {
            "bin_start": 0.06086268503011449,
            "bin_end": 0.07168809531239702,
            "count": 1
           },
           {
            "bin_start": 0.07168809531239702,
            "bin_end": 0.08251350559467954,
            "count": 0
           },
           {
            "bin_start": 0.08251350559467954,
            "bin_end": 0.09333891587696208,
            "count": 1
           },
           {
            "bin_start": 0.09333891587696208,
            "bin_end": 0.10416432615924462,
            "count": 0
           },
           {
            "bin_start": 0.10416432615924462,
            "bin_end": 0.11498973644152713,
            "count": 0
           },
           {
            "bin_start": 0.11498973644152713,
            "bin_end": 0.12581514672380967,
            "count": 0
           },
           {
            "bin_start": 0.12581514672380967,
            "bin_end": 0.1366405570060922,
            "count": 1
           }
          ]
         }
        },
        {
         "name": "income_25000_34999_normalised",
         "dtype": "float64",
         "stats": {
          "unique_count": 5,
          "nan_count": 0,
          "min": "0.022090059473237",
          "max": "0.0968783638320775",
          "histogram": [
           {
            "bin_start": 0.022090059473237,
            "bin_end": 0.02956888990912105,
            "count": 1
           },
           {
            "bin_start": 0.02956888990912105,
            "bin_end": 0.0370477203450051,
            "count": 0
           },
           {
            "bin_start": 0.0370477203450051,
            "bin_end": 0.04452655078088915,
            "count": 0
           },
           {
            "bin_start": 0.04452655078088915,
            "bin_end": 0.0520053812167732,
            "count": 1
           },
           {
            "bin_start": 0.0520053812167732,
            "bin_end": 0.05948421165265725,
            "count": 0
           },
           {
            "bin_start": 0.05948421165265725,
            "bin_end": 0.0669630420885413,
            "count": 1
           },
           {
            "bin_start": 0.0669630420885413,
            "bin_end": 0.07444187252442536,
            "count": 1
           },
           {
            "bin_start": 0.07444187252442536,
            "bin_end": 0.0819207029603094,
            "count": 0
           },
           {
            "bin_start": 0.0819207029603094,
            "bin_end": 0.08939953339619344,
            "count": 0
           },
           {
            "bin_start": 0.08939953339619344,
            "bin_end": 0.0968783638320775,
            "count": 1
           }
          ]
         }
        },
        {
         "name": "income_35000_59999_normalised",
         "dtype": "float64",
         "stats": {
          "unique_count": 5,
          "nan_count": 0,
          "min": "0.0526762956669498",
          "max": "0.2099031216361679",
          "histogram": [
           {
            "bin_start": 0.0526762956669498,
            "bin_end": 0.06839897826387162,
            "count": 1
           },
           {
            "bin_start": 0.06839897826387162,
            "bin_end": 0.08412166086079342,
            "count": 1
           },
           {
            "bin_start": 0.08412166086079342,
            "bin_end": 0.09984434345771523,
            "count": 2
           },
           {
            "bin_start": 0.09984434345771523,
            "bin_end": 0.11556702605463705,
            "count": 0
           },
           {
            "bin_start": 0.11556702605463705,
            "bin_end": 0.13128970865155887,
            "count": 0
           },
           {
            "bin_start": 0.13128970865155887,
            "bin_end": 0.14701239124848067,
            "count": 0
           },
           {
            "bin_start": 0.14701239124848067,
            "bin_end": 0.16273507384540248,
            "count": 0
           },
           {
            "bin_start": 0.16273507384540248,
            "bin_end": 0.1784577564423243,
            "count": 0
           },
           {
            "bin_start": 0.1784577564423243,
            "bin_end": 0.1941804390392461,
            "count": 0
           },
           {
            "bin_start": 0.1941804390392461,
            "bin_end": 0.2099031216361679,
            "count": 1
           }
          ]
         }
        },
        {
         "name": "income_60000_99999_normalised",
         "dtype": "float64",
         "stats": {
          "unique_count": 5,
          "nan_count": 0,
          "min": "0.0756159728122344",
          "max": "0.2454251883745963",
          "histogram": [
           {
            "bin_start": 0.0756159728122344,
            "bin_end": 0.09259689436847059,
            "count": 1
           },
           {
            "bin_start": 0.09259689436847059,
            "bin_end": 0.10957781592470678,
            "count": 0
           },
           {
            "bin_start": 0.10957781592470678,
            "bin_end": 0.12655873748094296,
            "count": 0
           },
           {
            "bin_start": 0.12655873748094296,
            "bin_end": 0.14353965903717913,
            "count": 0
           },
           {
            "bin_start": 0.14353965903717913,
            "bin_end": 0.16052058059341534,
            "count": 0
           },
           {
            "bin_start": 0.16052058059341534,
            "bin_end": 0.17750150214965152,
            "count": 1
           },
           {
            "bin_start": 0.17750150214965152,
            "bin_end": 0.1944824237058877,
            "count": 1
           },
           {
            "bin_start": 0.1944824237058877,
            "bin_end": 0.2114633452621239,
            "count": 1
           },
           {
            "bin_start": 0.2114633452621239,
            "bin_end": 0.22844426681836008,
            "count": 0
           },
           {
            "bin_start": 0.22844426681836008,
            "bin_end": 0.2454251883745963,
            "count": 1
           }
          ]
         }
        },
        {
         "name": "income_100000_199999_normalised",
         "dtype": "float64",
         "stats": {
          "unique_count": 5,
          "nan_count": 0,
          "min": "0.1144473455178416",
          "max": "0.3967714528462192",
          "histogram": [
           {
            "bin_start": 0.1144473455178416,
            "bin_end": 0.14267975625067936,
            "count": 1
           },
           {
            "bin_start": 0.14267975625067936,
            "bin_end": 0.1709121669835171,
            "count": 1
           },
           {
            "bin_start": 0.1709121669835171,
            "bin_end": 0.19914457771635485,
            "count": 0
           },
           {
            "bin_start": 0.19914457771635485,
            "bin_end": 0.22737698844919263,
            "count": 0
           },
           {
            "bin_start": 0.22737698844919263,
            "bin_end": 0.2556093991820304,
            "count": 1
           },
           {
            "bin_start": 0.2556093991820304,
            "bin_end": 0.2838418099148681,
            "count": 0
           },
           {
            "bin_start": 0.2838418099148681,
            "bin_end": 0.3120742206477059,
            "count": 1
           },
           {
            "bin_start": 0.3120742206477059,
            "bin_end": 0.3403066313805437,
            "count": 0
           },
           {
            "bin_start": 0.3403066313805437,
            "bin_end": 0.3685390421133814,
            "count": 0
           },
           {
            "bin_start": 0.3685390421133814,
            "bin_end": 0.3967714528462192,
            "count": 1
           }
          ]
         }
        },
        {
         "name": "income_200000_or_more_normalised",
         "dtype": "float64",
         "stats": {
          "unique_count": 5,
          "nan_count": 0,
          "min": "0.0134899912967798",
          "max": "0.3823279524214104",
          "histogram": [
           {
            "bin_start": 0.0134899912967798,
            "bin_end": 0.05037378740924286,
            "count": 1
           },
           {
            "bin_start": 0.05037378740924286,
            "bin_end": 0.08725758352170591,
            "count": 1
           },
           {
            "bin_start": 0.08725758352170591,
            "bin_end": 0.12414137963416896,
            "count": 0
           },
           {
            "bin_start": 0.12414137963416896,
            "bin_end": 0.16102517574663203,
            "count": 1
           },
           {
            "bin_start": 0.16102517574663203,
            "bin_end": 0.1979089718590951,
            "count": 0
           },
           {
            "bin_start": 0.1979089718590951,
            "bin_end": 0.23479276797155813,
            "count": 0
           },
           {
            "bin_start": 0.23479276797155813,
            "bin_end": 0.2716765640840212,
            "count": 0
           },
           {
            "bin_start": 0.2716765640840212,
            "bin_end": 0.30856036019648425,
            "count": 1
           },
           {
            "bin_start": 0.30856036019648425,
            "bin_end": 0.3454441563089473,
            "count": 0
           },
           {
            "bin_start": 0.3454441563089473,
            "bin_end": 0.3823279524214104,
            "count": 1
           }
          ]
         }
        },
        {
         "name": "million_dollar_housing_units_normalised",
         "dtype": "float64",
         "stats": {
          "unique_count": 4,
          "nan_count": 0,
          "min": "0.0",
          "max": "0.0547945205479452",
          "histogram": [
           {
            "bin_start": 0,
            "bin_end": 0.005479452054794521,
            "count": 2
           },
           {
            "bin_start": 0.005479452054794521,
            "bin_end": 0.010958904109589041,
            "count": 1
           },
           {
            "bin_start": 0.010958904109589041,
            "bin_end": 0.016438356164383564,
            "count": 1
           },
           {
            "bin_start": 0.016438356164383564,
            "bin_end": 0.021917808219178082,
            "count": 0
           },
           {
            "bin_start": 0.021917808219178082,
            "bin_end": 0.0273972602739726,
            "count": 0
           },
           {
            "bin_start": 0.0273972602739726,
            "bin_end": 0.03287671232876713,
            "count": 0
           },
           {
            "bin_start": 0.03287671232876713,
            "bin_end": 0.038356164383561646,
            "count": 0
           },
           {
            "bin_start": 0.038356164383561646,
            "bin_end": 0.043835616438356165,
            "count": 0
           },
           {
            "bin_start": 0.043835616438356165,
            "bin_end": 0.049315068493150684,
            "count": 0
           },
           {
            "bin_start": 0.049315068493150684,
            "bin_end": 0.0547945205479452,
            "count": 1
           }
          ]
         }
        },
        {
         "name": "mortgaged_housing_units_normalised",
         "dtype": "float64",
         "stats": {
          "unique_count": 5,
          "nan_count": 0,
          "min": "0.0590419606386929",
          "max": "0.4383561643835616",
          "histogram": [
           {
            "bin_start": 0.0590419606386929,
            "bin_end": 0.09697338101317977,
            "count": 1
           },
           {
            "bin_start": 0.09697338101317977,
            "bin_end": 0.13490480138766664,
            "count": 1
           },
           {
            "bin_start": 0.13490480138766664,
            "bin_end": 0.17283622176215352,
            "count": 0
           },
           {
            "bin_start": 0.17283622176215352,
            "bin_end": 0.2107676421366404,
            "count": 0
           },
           {
            "bin_start": 0.2107676421366404,
            "bin_end": 0.24869906251112728,
            "count": 1
           },
           {
            "bin_start": 0.24869906251112728,
            "bin_end": 0.2866304828856141,
            "count": 0
           },
           {
            "bin_start": 0.2866304828856141,
            "bin_end": 0.324561903260101,
            "count": 1
           },
           {
            "bin_start": 0.324561903260101,
            "bin_end": 0.36249332363458786,
            "count": 0
           },
           {
            "bin_start": 0.36249332363458786,
            "bin_end": 0.40042474400907474,
            "count": 0
           },
           {
            "bin_start": 0.40042474400907474,
            "bin_end": 0.4383561643835616,
            "count": 1
           }
          ]
         }
        },
        {
         "name": "owner_occupied_housing_units_normalised",
         "dtype": "float64",
         "stats": {
          "unique_count": 5,
          "nan_count": 0,
          "min": "0.1132565911622725",
          "max": "0.6462530217566479",
          "histogram": [
           {
            "bin_start": 0.1132565911622725,
            "bin_end": 0.16655623422171004,
            "count": 2
           },
           {
            "bin_start": 0.16655623422171004,
            "bin_end": 0.21985587728114758,
            "count": 0
           },
           {
            "bin_start": 0.21985587728114758,
            "bin_end": 0.2731555203405851,
            "count": 0
           },
           {
            "bin_start": 0.2731555203405851,
            "bin_end": 0.3264551634000227,
            "count": 1
           },
           {
            "bin_start": 0.3264551634000227,
            "bin_end": 0.3797548064594602,
            "count": 0
           },
           {
            "bin_start": 0.3797548064594602,
            "bin_end": 0.4330544495188977,
            "count": 1
           },
           {
            "bin_start": 0.4330544495188977,
            "bin_end": 0.4863540925783353,
            "count": 0
           },
           {
            "bin_start": 0.4863540925783353,
            "bin_end": 0.5396537356377729,
            "count": 0
           },
           {
            "bin_start": 0.5396537356377729,
            "bin_end": 0.5929533786972103,
            "count": 0
           },
           {
            "bin_start": 0.5929533786972103,
            "bin_end": 0.6462530217566479,
            "count": 1
           }
          ]
         }
        },
        {
         "name": "employed_pop_normalised",
         "dtype": "float64",
         "stats": {
          "unique_count": 5,
          "nan_count": 0,
          "min": "0.8903628560280921",
          "max": "0.9829512051734274",
          "histogram": [
           {
            "bin_start": 0.8903628560280921,
            "bin_end": 0.8996216909426256,
            "count": 1
           },
           {
            "bin_start": 0.8996216909426256,
            "bin_end": 0.9088805258571592,
            "count": 0
           },
           {
            "bin_start": 0.9088805258571592,
            "bin_end": 0.9181393607716927,
            "count": 0
           },
           {
            "bin_start": 0.9181393607716927,
            "bin_end": 0.9273981956862262,
            "count": 1
           },
           {
            "bin_start": 0.9273981956862262,
            "bin_end": 0.9366570306007598,
            "count": 0
           },
           {
            "bin_start": 0.9366570306007598,
            "bin_end": 0.9459158655152933,
            "count": 0
           },
           {
            "bin_start": 0.9459158655152933,
            "bin_end": 0.9551747004298268,
            "count": 0
           },
           {
            "bin_start": 0.9551747004298268,
            "bin_end": 0.9644335353443603,
            "count": 0
           },
           {
            "bin_start": 0.9644335353443603,
            "bin_end": 0.9736923702588939,
            "count": 0
           },
           {
            "bin_start": 0.9736923702588939,
            "bin_end": 0.9829512051734274,
            "count": 3
           }
          ]
         }
        },
        {
         "name": "unemployed_pop_normalised",
         "dtype": "float64",
         "stats": {
          "unique_count": 5,
          "nan_count": 0,
          "min": "0.0170487948265726",
          "max": "0.1096371439719079",
          "histogram": [
           {
            "bin_start": 0.0170487948265726,
            "bin_end": 0.02630762974110613,
            "count": 3
           },
           {
            "bin_start": 0.02630762974110613,
            "bin_end": 0.03556646465563966,
            "count": 0
           },
           {
            "bin_start": 0.03556646465563966,
            "bin_end": 0.044825299570173185,
            "count": 0
           },
           {
            "bin_start": 0.044825299570173185,
            "bin_end": 0.05408413448470672,
            "count": 0
           },
           {
            "bin_start": 0.05408413448470672,
            "bin_end": 0.06334296939924025,
            "count": 0
           },
           {
            "bin_start": 0.06334296939924025,
            "bin_end": 0.07260180431377378,
            "count": 0
           },
           {
            "bin_start": 0.07260180431377378,
            "bin_end": 0.0818606392283073,
            "count": 1
           },
           {
            "bin_start": 0.0818606392283073,
            "bin_end": 0.09111947414284083,
            "count": 0
           },
           {
            "bin_start": 0.09111947414284083,
            "bin_end": 0.10037830905737435,
            "count": 0
           },
           {
            "bin_start": 0.10037830905737435,
            "bin_end": 0.1096371439719079,
            "count": 1
           }
          ]
         }
        },
        {
         "name": "reweighted_redline_index_y",
         "dtype": "float64",
         "stats": {
          "unique_count": 4,
          "nan_count": 0,
          "min": "3.0",
          "max": "4.0",
          "histogram": [
           {
            "bin_start": 3,
            "bin_end": 3.1,
            "count": 2
           },
           {
            "bin_start": 3.1,
            "bin_end": 3.2,
            "count": 0
           },
           {
            "bin_start": 3.2,
            "bin_end": 3.3,
            "count": 0
           },
           {
            "bin_start": 3.3,
            "bin_end": 3.4,
            "count": 0
           },
           {
            "bin_start": 3.4,
            "bin_end": 3.5,
            "count": 0
           },
           {
            "bin_start": 3.5,
            "bin_end": 3.6,
            "count": 0
           },
           {
            "bin_start": 3.6,
            "bin_end": 3.7,
            "count": 0
           },
           {
            "bin_start": 3.7,
            "bin_end": 3.8,
            "count": 1
           },
           {
            "bin_start": 3.8,
            "bin_end": 3.9,
            "count": 0
           },
           {
            "bin_start": 3.9,
            "bin_end": 4,
            "count": 2
           }
          ]
         }
        },
        {
         "name": "ordinal_value",
         "dtype": "int64",
         "stats": {
          "unique_count": 2,
          "nan_count": 0,
          "min": "3",
          "max": "4",
          "histogram": [
           {
            "bin_start": 3,
            "bin_end": 3.1,
            "count": 2
           },
           {
            "bin_start": 3.1,
            "bin_end": 3.2,
            "count": 0
           },
           {
            "bin_start": 3.2,
            "bin_end": 3.3,
            "count": 0
           },
           {
            "bin_start": 3.3,
            "bin_end": 3.4,
            "count": 0
           },
           {
            "bin_start": 3.4,
            "bin_end": 3.5,
            "count": 0
           },
           {
            "bin_start": 3.5,
            "bin_end": 3.6,
            "count": 0
           },
           {
            "bin_start": 3.6,
            "bin_end": 3.7,
            "count": 0
           },
           {
            "bin_start": 3.7,
            "bin_end": 3.8,
            "count": 0
           },
           {
            "bin_start": 3.8,
            "bin_end": 3.9,
            "count": 0
           },
           {
            "bin_start": 3.9,
            "bin_end": 4,
            "count": 3
           }
          ]
         }
        },
        {
         "name": "geometry",
         "dtype": "geometry",
         "stats": {
          "unique_count": 5,
          "nan_count": 0,
          "categories": [
           {
            "name": "POINT (-71.07937439522799 42.3476421911972)",
            "count": 1
           },
           {
            "name": "POINT (-71.10420243849772 42.32065871457993)",
            "count": 1
           },
           {
            "name": "3 others",
            "count": 3
           }
          ]
         }
        },
        {
         "name": "longitude",
         "dtype": "float64",
         "stats": {
          "unique_count": 5,
          "nan_count": 0,
          "min": "-71.1299174177476",
          "max": "-71.07538861867775",
          "histogram": [
           {
            "bin_start": -71.1299174177476,
            "bin_end": -71.12446453784062,
            "count": 1
           },
           {
            "bin_start": -71.12446453784062,
            "bin_end": -71.11901165793364,
            "count": 0
           },
           {
            "bin_start": -71.11901165793364,
            "bin_end": -71.11355877802664,
            "count": 0
           },
           {
            "bin_start": -71.11355877802664,
            "bin_end": -71.10810589811966,
            "count": 0
           },
           {
            "bin_start": -71.10810589811966,
            "bin_end": -71.10265301821268,
            "count": 1
           },
           {
            "bin_start": -71.10265301821268,
            "bin_end": -71.0972001383057,
            "count": 0
           },
           {
            "bin_start": -71.0972001383057,
            "bin_end": -71.09174725839871,
            "count": 0
           },
           {
            "bin_start": -71.09174725839871,
            "bin_end": -71.08629437849171,
            "count": 1
           },
           {
            "bin_start": -71.08629437849171,
            "bin_end": -71.08084149858473,
            "count": 0
           },
           {
            "bin_start": -71.08084149858473,
            "bin_end": -71.07538861867775,
            "count": 2
           }
          ]
         }
        },
        {
         "name": "latitude",
         "dtype": "float64",
         "stats": {
          "unique_count": 5,
          "nan_count": 0,
          "min": "42.2370925945962",
          "max": "42.3476421911972",
          "histogram": [
           {
            "bin_start": 42.2370925945962,
            "bin_end": 42.2481475542563,
            "count": 1
           },
           {
            "bin_start": 42.2481475542563,
            "bin_end": 42.2592025139164,
            "count": 0
           },
           {
            "bin_start": 42.2592025139164,
            "bin_end": 42.2702574735765,
            "count": 0
           },
           {
            "bin_start": 42.2702574735765,
            "bin_end": 42.2813124332366,
            "count": 0
           },
           {
            "bin_start": 42.2813124332366,
            "bin_end": 42.2923673928967,
            "count": 0
           },
           {
            "bin_start": 42.2923673928967,
            "bin_end": 42.3034223525568,
            "count": 0
           },
           {
            "bin_start": 42.3034223525568,
            "bin_end": 42.3144773122169,
            "count": 1
           },
           {
            "bin_start": 42.3144773122169,
            "bin_end": 42.325532271877,
            "count": 1
           },
           {
            "bin_start": 42.325532271877,
            "bin_end": 42.3365872315371,
            "count": 0
           },
           {
            "bin_start": 42.3365872315371,
            "bin_end": 42.3476421911972,
            "count": 2
           }
          ]
         }
        },
        {
         "name": "_deepnote_index_column",
         "dtype": "int64"
        }
       ],
       "rows_top": [
        {
         "GEOID": 25025010600,
         "city_name": "boston",
         "reweighted_redline_index_x": 3.9,
         "total_pop": 3145,
         "households": 2008,
         "median_age": 40.8,
         "median_income": 93214,
         "income_per_capita": 125222,
         "gini_index": 0.6152,
         "housing_units": 2693,
         "renter_occupied_housing_units_paying_cash_median_gross_rent": 2723,
         "owner_occupied_housing_units_lower_value_quartile": 828100,
         "owner_occupied_housing_units_median_value": 1171500,
         "owner_occupied_housing_units_upper_value_quartile": 2000001,
         "median_year_structure_built": 1985,
         "median_rent": 2629,
         "percent_income_spent_on_rent": 26.4,
         "bachelors_degree_or_higher_25_64": 1887,
         "aged_65_or_older_normalised": 0.2190779014308426,
         "aged_17_or_younger_normalised": 0.0438791732909379,
         "multi_unit_structures_normalised": 0.921648718900854,
         "poverty_normalised": 0.1268680445151033,
         "households_public_asst_or_food_stamps_normalised": 0.0791832669322709,
         "black_pop_normalised": 0.1046104928457869,
         "asian_pop_normalised": 0.1736089030206677,
         "hispanic_pop_normalised": 0.029570747217806,
         "amerindian_pop_normalised": 0.0047694753577106,
         "white_pop_normalised": 0.6874403815580287,
         "non_white_pop_normalised": 0.3125596184419714,
         "other_race_pop_normalised": 0,
         "male_pop_normalised": 0.4095389507154213,
         "female_pop_normalised": 0.5904610492845787,
         "pop_currently_unmarried_normalised": 0,
         "pop_now_married_normalised": "nan",
         "not_us_citizen_pop_normalised": 0.1605723370429252,
         "children_normalised": 0.0438791732909379,
         "married_households_normalised": 0.2983067729083665,
         "nonfamily_households_normalised": 0.6294820717131474,
         "family_households_normalised": 0.3705179282868526,
         "occupied_housing_units_normalised": 0.7456368362421092,
         "housing_units_renter_occupied_normalised": 0.6323802450798366,
         "vacant_housing_units_normalised": 0.2543631637578908,
         "vacant_housing_units_for_rent_normalised": 0.0207946528035648,
         "vacant_housing_units_for_sale_normalised": 0,
         "mobile_homes_normalised": 0,
         "group_quarters_normalised": 0,
         "housing_built_1939_or_earlier_normalised": 0.0233939844040103,
         "housing_built_2004_or_later_normalised": 0.1251392499071667,
         "children_in_single_female_hh_normalised": 0.572463768115942,
         "rent_burden_not_computed_normalised": 0.0542146305235796,
         "rent_under_30_percent_normalised": 0.3323431117712588,
         "rent_30_to_50_percent_normalised": 0.1314519123653917,
         "rent_over_50_percent_normalised": 0.1143705904196063,
         "aggregate_travel_time_to_work_normalised": 19.96109958506224,
         "walked_to_work_normalised": 0.383298755186722,
         "worked_at_home_normalised": 0.0165975103734439,
         "no_car_normalised": 0.4211618257261411,
         "no_cars_normalised": 0.548804780876494,
         "one_or_more_cars_normalised": 0.4511952191235059,
         "commuters_by_subway_or_elevated_normalised": 0.2188796680497925,
         "commuters_by_bus_normalised": 0.033713692946058,
         "commuters_personal_transport_normalised": 0.5103734439834025,
         "education_high_school_or_less_normalised": 0.1360890302066772,
         "education_less_than_bachelors_normalised": 0.1354531001589825,
         "education_bachelors_degree_normalised": 0.6645468998410174,
         "education_graduate_degree_normalised": 0.6581875993640699,
         "income_less_14999_normalised": 0.1857569721115538,
         "income_15000_24999_normalised": 0.0283864541832669,
         "income_25000_34999_normalised": 0.048804780876494,
         "income_35000_59999_normalised": 0.0816733067729083,
         "income_60000_99999_normalised": 0.1812749003984063,
         "income_100000_199999_normalised": 0.1698207171314741,
         "income_200000_or_more_normalised": 0.3042828685258964,
         "million_dollar_housing_units_normalised": 0.0159673226884515,
         "mortgaged_housing_units_normalised": 0.0590419606386929,
         "owner_occupied_housing_units_normalised": 0.1132565911622725,
         "employed_pop_normalised": 0.975103734439834,
         "unemployed_pop_normalised": 0.0248962655601659,
         "reweighted_redline_index_y": 3.9044884944852996,
         "ordinal_value": 4,
         "geometry": "POINT (-71.07937439522799 42.3476421911972)",
         "longitude": -71.07937439522799,
         "latitude": 42.3476421911972,
         "_deepnote_index_column": 0
        },
        {
         "GEOID": 25025120500,
         "city_name": "boston",
         "reweighted_redline_index_x": 3.73,
         "total_pop": 2817,
         "households": 1024,
         "median_age": 31.8,
         "median_income": 81250,
         "income_per_capita": 39658,
         "gini_index": 0.4873,
         "housing_units": 1056,
         "renter_occupied_housing_units_paying_cash_median_gross_rent": 1446,
         "owner_occupied_housing_units_lower_value_quartile": 400000,
         "owner_occupied_housing_units_median_value": 485900,
         "owner_occupied_housing_units_upper_value_quartile": 652500,
         "median_year_structure_built": 0,
         "median_rent": 1236,
         "percent_income_spent_on_rent": 25.2,
         "bachelors_degree_or_higher_25_64": 1250,
         "aged_65_or_older_normalised": 0.0844870429534966,
         "aged_17_or_younger_normalised": 0.1427050053248136,
         "multi_unit_structures_normalised": 0.1136363636363636,
         "poverty_normalised": 0.1989090909090909,
         "households_public_asst_or_food_stamps_normalised": 0.162109375,
         "black_pop_normalised": 0.1033013844515442,
         "asian_pop_normalised": 0.0837770678026269,
         "hispanic_pop_normalised": 0.4160454384096557,
         "amerindian_pop_normalised": 0,
         "white_pop_normalised": 0.3840965566205183,
         "non_white_pop_normalised": 0.6159034433794817,
         "other_race_pop_normalised": 0.0127795527156549,
         "male_pop_normalised": 0.5193468228611998,
         "female_pop_normalised": 0.4806531771388001,
         "pop_currently_unmarried_normalised": 0,
         "pop_now_married_normalised": "nan",
         "not_us_citizen_pop_normalised": 0.116435924742634,
         "children_normalised": 0.1427050053248136,
         "married_households_normalised": 0.29296875,
         "nonfamily_households_normalised": 0.5126953125,
         "family_households_normalised": 0.4873046875,
         "occupied_housing_units_normalised": 0.9696969696969696,
         "housing_units_renter_occupied_normalised": 0.6931818181818182,
         "vacant_housing_units_normalised": 0.0303030303030303,
         "vacant_housing_units_for_rent_normalised": 0.0208333333333333,
         "vacant_housing_units_for_sale_normalised": 0,
         "mobile_homes_normalised": 0,
         "group_quarters_normalised": 0,
         "housing_built_1939_or_earlier_normalised": 0.0151515151515151,
         "housing_built_2004_or_later_normalised": 0.0501893939393939,
         "children_in_single_female_hh_normalised": 0.4029850746268656,
         "rent_burden_not_computed_normalised": 0.021780303030303,
         "rent_under_30_percent_normalised": 0.3929924242424242,
         "rent_30_to_50_percent_normalised": 0.1363636363636363,
         "rent_over_50_percent_normalised": 0.1420454545454545,
         "aggregate_travel_time_to_work_normalised": 26.297105406881485,
         "walked_to_work_normalised": 0.0387766247951938,
         "worked_at_home_normalised": 0.034407427635172,
         "no_car_normalised": 0.2184598580010923,
         "no_cars_normalised": 0.3095703125,
         "one_or_more_cars_normalised": 0.6904296875,
         "commuters_by_subway_or_elevated_normalised": 0.3768432550518842,
         "commuters_by_bus_normalised": 0.0655379574003277,
         "commuters_personal_transport_normalised": 0.6116876024030584,
         "education_high_school_or_less_normalised": 0.3191338303159389,
         "education_less_than_bachelors_normalised": 0.2087326943556975,
         "education_bachelors_degree_normalised": 0.4927227547035854,
         "education_graduate_degree_normalised": 0.3730919417820376,
         "income_less_14999_normalised": 0.1669921875,
         "income_15000_24999_normalised": 0.0615234375,
         "income_25000_34999_normalised": 0.0595703125,
         "income_35000_59999_normalised": 0.09375,
         "income_60000_99999_normalised": 0.197265625,
         "income_100000_199999_normalised": 0.2919921875,
         "income_200000_or_more_normalised": 0.12890625,
         "million_dollar_housing_units_normalised": 0.0066287878787878,
         "mortgaged_housing_units_normalised": 0.2291666666666666,
         "owner_occupied_housing_units_normalised": 0.2765151515151515,
         "employed_pop_normalised": 0.920808301474604,
         "unemployed_pop_normalised": 0.0791916985253959,
         "reweighted_redline_index_y": 3.725804678620202,
         "ordinal_value": 4,
         "geometry": "POINT (-71.10420243849772 42.32065871457993)",
         "longitude": -71.10420243849772,
         "latitude": 42.320658714579935,
         "_deepnote_index_column": 1
        },
        {
         "GEOID": 25025070600,
         "city_name": "boston",
         "reweighted_redline_index_x": 4,
         "total_pop": 2559,
         "households": 1177,
         "median_age": 35.4,
         "median_income": 154659,
         "income_per_capita": 122822,
         "gini_index": 0.4939,
         "housing_units": 1241,
         "renter_occupied_housing_units_paying_cash_median_gross_rent": 2618,
         "owner_occupied_housing_units_lower_value_quartile": 635900,
         "owner_occupied_housing_units_median_value": 1161000,
         "owner_occupied_housing_units_upper_value_quartile": 2000001,
         "median_year_structure_built": 0,
         "median_rent": 2578,
         "percent_income_spent_on_rent": 31.8,
         "bachelors_degree_or_higher_25_64": 1567,
         "aged_65_or_older_normalised": 0.1148886283704572,
         "aged_17_or_younger_normalised": 0.1570926143024619,
         "multi_unit_structures_normalised": 0.0330378726833199,
         "poverty_normalised": 0.0597889800703399,
         "households_public_asst_or_food_stamps_normalised": 0,
         "black_pop_normalised": 0.050801094177413,
         "asian_pop_normalised": 0.0769831965611567,
         "hispanic_pop_normalised": 0.050801094177413,
         "amerindian_pop_normalised": 0,
         "white_pop_normalised": 0.7960140679953107,
         "non_white_pop_normalised": 0.2039859320046893,
         "other_race_pop_normalised": 0.0254005470887065,
         "male_pop_normalised": 0.4642438452520516,
         "female_pop_normalised": 0.5357561547479485,
         "pop_currently_unmarried_normalised": 0,
         "pop_now_married_normalised": "nan",
         "not_us_citizen_pop_normalised": 0.0168034388432981,
         "children_normalised": 0.1570926143024619,
         "married_households_normalised": 0.4511469838572642,
         "nonfamily_households_normalised": 0.5488530161427357,
         "family_households_normalised": 0.4511469838572642,
         "occupied_housing_units_normalised": 0.9484286865431104,
         "housing_units_renter_occupied_normalised": 0.3021756647864625,
         "vacant_housing_units_normalised": 0.0515713134568896,
         "vacant_housing_units_for_rent_normalised": 0,
         "vacant_housing_units_for_sale_normalised": 0,
         "mobile_homes_normalised": 0,
         "group_quarters_normalised": 0.0023446658851113,
         "housing_built_1939_or_earlier_normalised": 0.0451248992747784,
         "housing_built_2004_or_later_normalised": 0,
         "children_in_single_female_hh_normalised": 0,
         "rent_burden_not_computed_normalised": 0.0338436744560838,
         "rent_under_30_percent_normalised": 0.1240934730056406,
         "rent_30_to_50_percent_normalised": 0.0660757453666398,
         "rent_over_50_percent_normalised": 0.0781627719580983,
         "aggregate_travel_time_to_work_normalised": 20.840681951793066,
         "walked_to_work_normalised": 0.2939447383891828,
         "worked_at_home_normalised": 0.0746619635508524,
         "no_car_normalised": 0.1887125220458553,
         "no_cars_normalised": 0.2574341546304163,
         "one_or_more_cars_normalised": 0.7425658453695837,
         "commuters_by_subway_or_elevated_normalised": 0.0605526161081716,
         "commuters_by_bus_normalised": 0.0711346266901822,
         "commuters_personal_transport_normalised": 0.656084656084656,
         "education_high_school_or_less_normalised": 0.0590074247753028,
         "education_less_than_bachelors_normalised": 0.1344275107463853,
         "education_bachelors_degree_normalised": 0.7002735443532629,
         "education_graduate_degree_normalised": 0.5924189136381399,
         "income_less_14999_normalised": 0.0322854715378079,
         "income_15000_24999_normalised": 0.038232795242141,
         "income_25000_34999_normalised": 0.022090059473237,
         "income_35000_59999_normalised": 0.0526762956669498,
         "income_60000_99999_normalised": 0.0756159728122344,
         "income_100000_199999_normalised": 0.3967714528462192,
         "income_200000_or_more_normalised": 0.3823279524214104,
         "million_dollar_housing_units_normalised": 0.0547945205479452,
         "mortgaged_housing_units_normalised": 0.4383561643835616,
         "owner_occupied_housing_units_normalised": 0.6462530217566479,
         "employed_pop_normalised": 0.9829512051734274,
         "unemployed_pop_normalised": 0.0170487948265726,
         "reweighted_redline_index_y": 4,
         "ordinal_value": 4,
         "geometry": "POINT (-71.07538861867775 42.3432580523292)",
         "longitude": -71.07538861867775,
         "latitude": 42.3432580523292,
         "_deepnote_index_column": 2
        },
        {
         "GEOID": 25025140201,
         "city_name": "boston",
         "reweighted_redline_index_x": 3,
         "total_pop": 2475,
         "households": 929,
         "median_age": 40.3,
         "median_income": 71125,
         "income_per_capita": 33013,
         "gini_index": 0.3703,
         "housing_units": 995,
         "renter_occupied_housing_units_paying_cash_median_gross_rent": 1357,
         "owner_occupied_housing_units_lower_value_quartile": 323800,
         "owner_occupied_housing_units_median_value": 394300,
         "owner_occupied_housing_units_upper_value_quartile": 476300,
         "median_year_structure_built": 1953,
         "median_rent": 1227,
         "percent_income_spent_on_rent": 29.7,
         "bachelors_degree_or_higher_25_64": 463,
         "aged_65_or_older_normalised": 0.1458585858585858,
         "aged_17_or_younger_normalised": 0.183030303030303,
         "multi_unit_structures_normalised": 0.2221105527638191,
         "poverty_normalised": 0.0993939393939394,
         "households_public_asst_or_food_stamps_normalised": 0.1410118406889128,
         "black_pop_normalised": 0.2618181818181818,
         "asian_pop_normalised": 0.0569696969696969,
         "hispanic_pop_normalised": 0.3208080808080808,
         "amerindian_pop_normalised": 0,
         "white_pop_normalised": 0.3361616161616161,
         "non_white_pop_normalised": 0.6638383838383838,
         "other_race_pop_normalised": 0.0242424242424242,
         "male_pop_normalised": 0.5236363636363637,
         "female_pop_normalised": 0.4763636363636364,
         "pop_currently_unmarried_normalised": 0,
         "pop_now_married_normalised": "nan",
         "not_us_citizen_pop_normalised": 0.1272727272727272,
         "children_normalised": 0.183030303030303,
         "married_households_normalised": 0.3767491926803014,
         "nonfamily_households_normalised": 0.3918191603875134,
         "family_households_normalised": 0.6081808396124866,
         "occupied_housing_units_normalised": 0.9336683417085428,
         "housing_units_renter_occupied_normalised": 0.5336683417085427,
         "vacant_housing_units_normalised": 0.0663316582914572,
         "vacant_housing_units_for_rent_normalised": 0,
         "vacant_housing_units_for_sale_normalised": 0,
         "mobile_homes_normalised": 0,
         "group_quarters_normalised": 0.0028282828282828,
         "housing_built_1939_or_earlier_normalised": 0.0904522613065326,
         "housing_built_2004_or_later_normalised": 0,
         "children_in_single_female_hh_normalised": 0.2008830022075055,
         "rent_burden_not_computed_normalised": 0.0180904522613065,
         "rent_under_30_percent_normalised": 0.2603015075376884,
         "rent_30_to_50_percent_normalised": 0.1728643216080402,
         "rent_over_50_percent_normalised": 0.0824120603015075,
         "aggregate_travel_time_to_work_normalised": 33.09132720105125,
         "walked_to_work_normalised": 0.0045992115637319,
         "worked_at_home_normalised": 0,
         "no_car_normalised": 0.0308804204993429,
         "no_cars_normalised": 0.0871905274488697,
         "one_or_more_cars_normalised": 0.9128094725511302,
         "commuters_by_subway_or_elevated_normalised": 0.1051248357424441,
         "commuters_by_bus_normalised": 0.0742444152431011,
         "commuters_personal_transport_normalised": 1.4783180026281209,
         "education_high_school_or_less_normalised": 0.4969696969696969,
         "education_less_than_bachelors_normalised": 0.4638383838383838,
         "education_bachelors_degree_normalised": 0.2674747474747475,
         "education_graduate_degree_normalised": 0.1325252525252525,
         "income_less_14999_normalised": 0.0322927879440258,
         "income_15000_24999_normalised": 0.0871905274488697,
         "income_25000_34999_normalised": 0.0968783638320775,
         "income_35000_59999_normalised": 0.2099031216361679,
         "income_60000_99999_normalised": 0.2454251883745963,
         "income_100000_199999_normalised": 0.255113024757804,
         "income_200000_or_more_normalised": 0.0731969860064585,
         "million_dollar_housing_units_normalised": 0,
         "mortgaged_housing_units_normalised": 0.3135678391959799,
         "owner_occupied_housing_units_normalised": 0.4,
         "employed_pop_normalised": 0.9802890932982916,
         "unemployed_pop_normalised": 0.0197109067017082,
         "reweighted_redline_index_y": 3,
         "ordinal_value": 3,
         "geometry": "POINT (-71.12991741774761 42.2370925945962)",
         "longitude": -71.1299174177476,
         "latitude": 42.2370925945962,
         "_deepnote_index_column": 3
        },
        {
         "GEOID": 25025082100,
         "city_name": "boston",
         "reweighted_redline_index_x": 3,
         "total_pop": 5750,
         "households": 2298,
         "median_age": 31.3,
         "median_income": 20386,
         "income_per_capita": 20995,
         "gini_index": 0.6056,
         "housing_units": 2377,
         "renter_occupied_housing_units_paying_cash_median_gross_rent": 482,
         "owner_occupied_housing_units_lower_value_quartile": 325900,
         "owner_occupied_housing_units_median_value": 545100,
         "owner_occupied_housing_units_upper_value_quartile": 647600,
         "median_year_structure_built": 0,
         "median_rent": 413,
         "percent_income_spent_on_rent": 31.3,
         "bachelors_degree_or_higher_25_64": 495,
         "aged_65_or_older_normalised": 0.1490434782608695,
         "aged_17_or_younger_normalised": 0.2347826086956521,
         "multi_unit_structures_normalised": 0.3807320151451409,
         "poverty_normalised": 0.3601117708697171,
         "households_public_asst_or_food_stamps_normalised": 0.4751958224543081,
         "black_pop_normalised": 0.6015652173913043,
         "asian_pop_normalised": 0.0034782608695652,
         "hispanic_pop_normalised": 0.2911304347826087,
         "amerindian_pop_normalised": 0,
         "white_pop_normalised": 0.0450434782608695,
         "non_white_pop_normalised": 0.9549565217391304,
         "other_race_pop_normalised": 0.0587826086956521,
         "male_pop_normalised": 0.4417391304347826,
         "female_pop_normalised": 0.5582608695652174,
         "pop_currently_unmarried_normalised": 0,
         "pop_now_married_normalised": "nan",
         "not_us_citizen_pop_normalised": 0.1539130434782608,
         "children_normalised": 0.2347826086956521,
         "married_households_normalised": 0.0935596170583115,
         "nonfamily_households_normalised": 0.4560487380330722,
         "family_households_normalised": 0.5439512619669278,
         "occupied_housing_units_normalised": 0.9667648296171644,
         "housing_units_renter_occupied_normalised": 0.850231384097602,
         "vacant_housing_units_normalised": 0.0332351703828355,
         "vacant_housing_units_for_rent_normalised": 0.0189314261674379,
         "vacant_housing_units_for_sale_normalised": 0,
         "mobile_homes_normalised": 0,
         "group_quarters_normalised": 0.0031304347826086,
         "housing_built_1939_or_earlier_normalised": 0.060159865376525,
         "housing_built_2004_or_later_normalised": 0,
         "children_in_single_female_hh_normalised": 0.725925925925926,
         "rent_burden_not_computed_normalised": 0.0286074884307951,
         "rent_under_30_percent_normalised": 0.3832562053007993,
         "rent_30_to_50_percent_normalised": 0.2675641564997896,
         "rent_over_50_percent_normalised": 0.1708035338662179,
         "aggregate_travel_time_to_work_normalised": "nan",
         "walked_to_work_normalised": 0.0635973468591494,
         "worked_at_home_normalised": 0.0054623488099882,
         "no_car_normalised": 0.3250097541943035,
         "no_cars_normalised": 0.5404699738903395,
         "one_or_more_cars_normalised": 0.4595300261096606,
         "commuters_by_subway_or_elevated_normalised": 0.1158798283261802,
         "commuters_by_bus_normalised": 0.2992586812329301,
         "commuters_personal_transport_normalised": 0.7467811158798283,
         "education_high_school_or_less_normalised": 0.6424347826086957,
         "education_less_than_bachelors_normalised": 0.32,
         "education_bachelors_degree_normalised": 0.1008695652173913,
         "education_graduate_degree_normalised": 0.0954782608695652,
         "income_less_14999_normalised": 0.4160139251523063,
         "income_15000_24999_normalised": 0.1366405570060922,
         "income_25000_34999_normalised": 0.0709312445604873,
         "income_35000_59999_normalised": 0.0870322019147084,
         "income_60000_99999_normalised": 0.1614447345517841,
         "income_100000_199999_normalised": 0.1144473455178416,
         "income_200000_or_more_normalised": 0.0134899912967798,
         "million_dollar_housing_units_normalised": 0,
         "mortgaged_housing_units_normalised": 0.1013883045856121,
         "owner_occupied_housing_units_normalised": 0.1165334455195624,
         "employed_pop_normalised": 0.8903628560280921,
         "unemployed_pop_normalised": 0.1096371439719079,
         "reweighted_redline_index_y": 3,
         "ordinal_value": 3,
         "geometry": "POINT (-71.08722921439886 42.3094484840719)",
         "longitude": -71.08722921439886,
         "latitude": 42.3094484840719,
         "_deepnote_index_column": 4
        }
       ],
       "rows_bottom": null
      },
      "text/plain": "          GEOID city_name  reweighted_redline_index_x  total_pop  households  \\\n0  2.502501e+10    boston                        3.90     3145.0      2008.0   \n1  2.502512e+10    boston                        3.73     2817.0      1024.0   \n2  2.502507e+10    boston                        4.00     2559.0      1177.0   \n3  2.502514e+10    boston                        3.00     2475.0       929.0   \n4  2.502508e+10    boston                        3.00     5750.0      2298.0   \n\n   median_age  median_income  income_per_capita  gini_index  housing_units  \\\n0        40.8        93214.0           125222.0      0.6152         2693.0   \n1        31.8        81250.0            39658.0      0.4873         1056.0   \n2        35.4       154659.0           122822.0      0.4939         1241.0   \n3        40.3        71125.0            33013.0      0.3703          995.0   \n4        31.3        20386.0            20995.0      0.6056         2377.0   \n\n   ...  million_dollar_housing_units_normalised  \\\n0  ...                                 0.015967   \n1  ...                                 0.006629   \n2  ...                                 0.054795   \n3  ...                                 0.000000   \n4  ...                                 0.000000   \n\n   mortgaged_housing_units_normalised  \\\n0                            0.059042   \n1                            0.229167   \n2                            0.438356   \n3                            0.313568   \n4                            0.101388   \n\n   owner_occupied_housing_units_normalised  employed_pop_normalised  \\\n0                                 0.113257                 0.975104   \n1                                 0.276515                 0.920808   \n2                                 0.646253                 0.982951   \n3                                 0.400000                 0.980289   \n4                                 0.116533                 0.890363   \n\n   unemployed_pop_normalised  reweighted_redline_index_y  ordinal_value  \\\n0                   0.024896                    3.904488              4   \n1                   0.079192                    3.725805              4   \n2                   0.017049                    4.000000              4   \n3                   0.019711                    3.000000              3   \n4                   0.109637                    3.000000              3   \n\n                     geometry  longitude   latitude  \n0  POINT (-71.07937 42.34764) -71.079374  42.347642  \n1  POINT (-71.10420 42.32066) -71.104202  42.320659  \n2  POINT (-71.07539 42.34326) -71.075389  42.343258  \n3  POINT (-71.12992 42.23709) -71.129917  42.237093  \n4  POINT (-71.08723 42.30945) -71.087229  42.309448  \n\n[5 rows x 83 columns]",
      "text/html": "<div>\n<style scoped>\n    .dataframe tbody tr th:only-of-type {\n        vertical-align: middle;\n    }\n\n    .dataframe tbody tr th {\n        vertical-align: top;\n    }\n\n    .dataframe thead th {\n        text-align: right;\n    }\n</style>\n<table border=\"1\" class=\"dataframe\">\n  <thead>\n    <tr style=\"text-align: right;\">\n      <th></th>\n      <th>GEOID</th>\n      <th>city_name</th>\n      <th>reweighted_redline_index_x</th>\n      <th>total_pop</th>\n      <th>households</th>\n      <th>median_age</th>\n      <th>median_income</th>\n      <th>income_per_capita</th>\n      <th>gini_index</th>\n      <th>housing_units</th>\n      <th>...</th>\n      <th>million_dollar_housing_units_normalised</th>\n      <th>mortgaged_housing_units_normalised</th>\n      <th>owner_occupied_housing_units_normalised</th>\n      <th>employed_pop_normalised</th>\n      <th>unemployed_pop_normalised</th>\n      <th>reweighted_redline_index_y</th>\n      <th>ordinal_value</th>\n      <th>geometry</th>\n      <th>longitude</th>\n      <th>latitude</th>\n    </tr>\n  </thead>\n  <tbody>\n    <tr>\n      <th>0</th>\n      <td>2.502501e+10</td>\n      <td>boston</td>\n      <td>3.90</td>\n      <td>3145.0</td>\n      <td>2008.0</td>\n      <td>40.8</td>\n      <td>93214.0</td>\n      <td>125222.0</td>\n      <td>0.6152</td>\n      <td>2693.0</td>\n      <td>...</td>\n      <td>0.015967</td>\n      <td>0.059042</td>\n      <td>0.113257</td>\n      <td>0.975104</td>\n      <td>0.024896</td>\n      <td>3.904488</td>\n      <td>4</td>\n      <td>POINT (-71.07937 42.34764)</td>\n      <td>-71.079374</td>\n      <td>42.347642</td>\n    </tr>\n    <tr>\n      <th>1</th>\n      <td>2.502512e+10</td>\n      <td>boston</td>\n      <td>3.73</td>\n      <td>2817.0</td>\n      <td>1024.0</td>\n      <td>31.8</td>\n      <td>81250.0</td>\n      <td>39658.0</td>\n      <td>0.4873</td>\n      <td>1056.0</td>\n      <td>...</td>\n      <td>0.006629</td>\n      <td>0.229167</td>\n      <td>0.276515</td>\n      <td>0.920808</td>\n      <td>0.079192</td>\n      <td>3.725805</td>\n      <td>4</td>\n      <td>POINT (-71.10420 42.32066)</td>\n      <td>-71.104202</td>\n      <td>42.320659</td>\n    </tr>\n    <tr>\n      <th>2</th>\n      <td>2.502507e+10</td>\n      <td>boston</td>\n      <td>4.00</td>\n      <td>2559.0</td>\n      <td>1177.0</td>\n      <td>35.4</td>\n      <td>154659.0</td>\n      <td>122822.0</td>\n      <td>0.4939</td>\n      <td>1241.0</td>\n      <td>...</td>\n      <td>0.054795</td>\n      <td>0.438356</td>\n      <td>0.646253</td>\n      <td>0.982951</td>\n      <td>0.017049</td>\n      <td>4.000000</td>\n      <td>4</td>\n      <td>POINT (-71.07539 42.34326)</td>\n      <td>-71.075389</td>\n      <td>42.343258</td>\n    </tr>\n    <tr>\n      <th>3</th>\n      <td>2.502514e+10</td>\n      <td>boston</td>\n      <td>3.00</td>\n      <td>2475.0</td>\n      <td>929.0</td>\n      <td>40.3</td>\n      <td>71125.0</td>\n      <td>33013.0</td>\n      <td>0.3703</td>\n      <td>995.0</td>\n      <td>...</td>\n      <td>0.000000</td>\n      <td>0.313568</td>\n      <td>0.400000</td>\n      <td>0.980289</td>\n      <td>0.019711</td>\n      <td>3.000000</td>\n      <td>3</td>\n      <td>POINT (-71.12992 42.23709)</td>\n      <td>-71.129917</td>\n      <td>42.237093</td>\n    </tr>\n    <tr>\n      <th>4</th>\n      <td>2.502508e+10</td>\n      <td>boston</td>\n      <td>3.00</td>\n      <td>5750.0</td>\n      <td>2298.0</td>\n      <td>31.3</td>\n      <td>20386.0</td>\n      <td>20995.0</td>\n      <td>0.6056</td>\n      <td>2377.0</td>\n      <td>...</td>\n      <td>0.000000</td>\n      <td>0.101388</td>\n      <td>0.116533</td>\n      <td>0.890363</td>\n      <td>0.109637</td>\n      <td>3.000000</td>\n      <td>3</td>\n      <td>POINT (-71.08723 42.30945)</td>\n      <td>-71.087229</td>\n      <td>42.309448</td>\n    </tr>\n  </tbody>\n</table>\n<p>5 rows × 83 columns</p>\n</div>"
     },
     "metadata": {}
    }
   ],
   "execution_count": null
  },
  {
   "cell_type": "markdown",
   "source": "#### Redline Index and All SVI-based ACS variables",
   "metadata": {
    "tags": [],
    "cell_id": "00032-dd92423f-12fb-435c-8c59-834c75d72273",
    "deepnote_cell_type": "markdown"
   }
  },
  {
   "cell_type": "code",
   "metadata": {
    "tags": [],
    "cell_id": "00033-5bd0297c-c3e9-4546-ad07-06cf0aa684dd",
    "deepnote_to_be_reexecuted": false,
    "source_hash": "b2eadfad",
    "execution_start": 1623462885682,
    "execution_millis": 22,
    "deepnote_cell_type": "code"
   },
   "source": "df_Boston = df # Preserve the original dataset as df_Boston\ndf = df_Boston[['reweighted_redline_index','longitude','latitude','poverty_perc_bin','unemployed_pop_perc_bin','median_income', 'income_per_capita','less_than_high_school_graduate_perc_bin','aged_65_or_older_perc_bin','aged_17_or_younger_perc_bin','one_parent_families_with_young_children_perc_bin','non_white_perc_bin','multi_unit_structures_perc_bin','mobile_homes_perc_bin','no_cars_perc_bin','group_quarters_perc_bin','SVI','SVI_1','SVI_2','SVI_3','SVI_4']]\ndf_corr = df_Boston[['reweighted_redline_index','poverty_perc','unemployed_pop_perc','median_income', 'income_per_capita','less_than_high_school_graduate_perc','aged_65_or_older_perc','aged_17_or_younger_perc','one_parent_families_with_young_children_perc','non_white_perc','multi_unit_structures_perc','mobile_homes_perc','no_cars_perc','group_quarters_perc','SVI','SVI_1','SVI_2','SVI_3','SVI_4']]",
   "outputs": [
    {
     "output_type": "error",
     "ename": "KeyError",
     "evalue": "\"['mobile_homes_perc_bin', 'reweighted_redline_index', 'aged_65_or_older_perc_bin', 'poverty_perc_bin', 'group_quarters_perc_bin', 'unemployed_pop_perc_bin', 'SVI_3', 'SVI_4', 'no_cars_perc_bin', 'less_than_high_school_graduate_perc_bin', 'SVI', 'SVI_1', 'aged_17_or_younger_perc_bin', 'one_parent_families_with_young_children_perc_bin', 'non_white_perc_bin', 'multi_unit_structures_perc_bin', 'SVI_2'] not in index\"",
     "traceback": [
      "\u001b[0;31m---------------------------------------------------------------------------\u001b[0m",
      "\u001b[0;31mKeyError\u001b[0m                                  Traceback (most recent call last)",
      "\u001b[0;32m<ipython-input-85-ec9e6b65cea4>\u001b[0m in \u001b[0;36m<module>\u001b[0;34m\u001b[0m\n\u001b[1;32m      1\u001b[0m \u001b[0mdf_Boston\u001b[0m \u001b[0;34m=\u001b[0m \u001b[0mdf\u001b[0m \u001b[0;31m# Preserve the original dataset as df_Boston\u001b[0m\u001b[0;34m\u001b[0m\u001b[0;34m\u001b[0m\u001b[0m\n\u001b[0;32m----> 2\u001b[0;31m \u001b[0mdf\u001b[0m \u001b[0;34m=\u001b[0m \u001b[0mdf_Boston\u001b[0m\u001b[0;34m[\u001b[0m\u001b[0;34m[\u001b[0m\u001b[0;34m'reweighted_redline_index'\u001b[0m\u001b[0;34m,\u001b[0m\u001b[0;34m'longitude'\u001b[0m\u001b[0;34m,\u001b[0m\u001b[0;34m'latitude'\u001b[0m\u001b[0;34m,\u001b[0m\u001b[0;34m'poverty_perc_bin'\u001b[0m\u001b[0;34m,\u001b[0m\u001b[0;34m'unemployed_pop_perc_bin'\u001b[0m\u001b[0;34m,\u001b[0m\u001b[0;34m'median_income'\u001b[0m\u001b[0;34m,\u001b[0m \u001b[0;34m'income_per_capita'\u001b[0m\u001b[0;34m,\u001b[0m\u001b[0;34m'less_than_high_school_graduate_perc_bin'\u001b[0m\u001b[0;34m,\u001b[0m\u001b[0;34m'aged_65_or_older_perc_bin'\u001b[0m\u001b[0;34m,\u001b[0m\u001b[0;34m'aged_17_or_younger_perc_bin'\u001b[0m\u001b[0;34m,\u001b[0m\u001b[0;34m'one_parent_families_with_young_children_perc_bin'\u001b[0m\u001b[0;34m,\u001b[0m\u001b[0;34m'non_white_perc_bin'\u001b[0m\u001b[0;34m,\u001b[0m\u001b[0;34m'multi_unit_structures_perc_bin'\u001b[0m\u001b[0;34m,\u001b[0m\u001b[0;34m'mobile_homes_perc_bin'\u001b[0m\u001b[0;34m,\u001b[0m\u001b[0;34m'no_cars_perc_bin'\u001b[0m\u001b[0;34m,\u001b[0m\u001b[0;34m'group_quarters_perc_bin'\u001b[0m\u001b[0;34m,\u001b[0m\u001b[0;34m'SVI'\u001b[0m\u001b[0;34m,\u001b[0m\u001b[0;34m'SVI_1'\u001b[0m\u001b[0;34m,\u001b[0m\u001b[0;34m'SVI_2'\u001b[0m\u001b[0;34m,\u001b[0m\u001b[0;34m'SVI_3'\u001b[0m\u001b[0;34m,\u001b[0m\u001b[0;34m'SVI_4'\u001b[0m\u001b[0;34m]\u001b[0m\u001b[0;34m]\u001b[0m\u001b[0;34m\u001b[0m\u001b[0;34m\u001b[0m\u001b[0m\n\u001b[0m\u001b[1;32m      3\u001b[0m \u001b[0mdf_corr\u001b[0m \u001b[0;34m=\u001b[0m \u001b[0mdf_Boston\u001b[0m\u001b[0;34m[\u001b[0m\u001b[0;34m[\u001b[0m\u001b[0;34m'reweighted_redline_index'\u001b[0m\u001b[0;34m,\u001b[0m\u001b[0;34m'poverty_perc'\u001b[0m\u001b[0;34m,\u001b[0m\u001b[0;34m'unemployed_pop_perc'\u001b[0m\u001b[0;34m,\u001b[0m\u001b[0;34m'median_income'\u001b[0m\u001b[0;34m,\u001b[0m \u001b[0;34m'income_per_capita'\u001b[0m\u001b[0;34m,\u001b[0m\u001b[0;34m'less_than_high_school_graduate_perc'\u001b[0m\u001b[0;34m,\u001b[0m\u001b[0;34m'aged_65_or_older_perc'\u001b[0m\u001b[0;34m,\u001b[0m\u001b[0;34m'aged_17_or_younger_perc'\u001b[0m\u001b[0;34m,\u001b[0m\u001b[0;34m'one_parent_families_with_young_children_perc'\u001b[0m\u001b[0;34m,\u001b[0m\u001b[0;34m'non_white_perc'\u001b[0m\u001b[0;34m,\u001b[0m\u001b[0;34m'multi_unit_structures_perc'\u001b[0m\u001b[0;34m,\u001b[0m\u001b[0;34m'mobile_homes_perc'\u001b[0m\u001b[0;34m,\u001b[0m\u001b[0;34m'no_cars_perc'\u001b[0m\u001b[0;34m,\u001b[0m\u001b[0;34m'group_quarters_perc'\u001b[0m\u001b[0;34m,\u001b[0m\u001b[0;34m'SVI'\u001b[0m\u001b[0;34m,\u001b[0m\u001b[0;34m'SVI_1'\u001b[0m\u001b[0;34m,\u001b[0m\u001b[0;34m'SVI_2'\u001b[0m\u001b[0;34m,\u001b[0m\u001b[0;34m'SVI_3'\u001b[0m\u001b[0;34m,\u001b[0m\u001b[0;34m'SVI_4'\u001b[0m\u001b[0;34m]\u001b[0m\u001b[0;34m]\u001b[0m\u001b[0;34m\u001b[0m\u001b[0;34m\u001b[0m\u001b[0m\n",
      "\u001b[0;32m/shared-libs/python3.7/py/lib/python3.7/site-packages/pandas/core/frame.py\u001b[0m in \u001b[0;36m__getitem__\u001b[0;34m(self, key)\u001b[0m\n\u001b[1;32m   3028\u001b[0m             \u001b[0;32mif\u001b[0m \u001b[0mis_iterator\u001b[0m\u001b[0;34m(\u001b[0m\u001b[0mkey\u001b[0m\u001b[0;34m)\u001b[0m\u001b[0;34m:\u001b[0m\u001b[0;34m\u001b[0m\u001b[0;34m\u001b[0m\u001b[0m\n\u001b[1;32m   3029\u001b[0m                 \u001b[0mkey\u001b[0m \u001b[0;34m=\u001b[0m \u001b[0mlist\u001b[0m\u001b[0;34m(\u001b[0m\u001b[0mkey\u001b[0m\u001b[0;34m)\u001b[0m\u001b[0;34m\u001b[0m\u001b[0;34m\u001b[0m\u001b[0m\n\u001b[0;32m-> 3030\u001b[0;31m             \u001b[0mindexer\u001b[0m \u001b[0;34m=\u001b[0m \u001b[0mself\u001b[0m\u001b[0;34m.\u001b[0m\u001b[0mloc\u001b[0m\u001b[0;34m.\u001b[0m\u001b[0m_get_listlike_indexer\u001b[0m\u001b[0;34m(\u001b[0m\u001b[0mkey\u001b[0m\u001b[0;34m,\u001b[0m \u001b[0maxis\u001b[0m\u001b[0;34m=\u001b[0m\u001b[0;36m1\u001b[0m\u001b[0;34m,\u001b[0m \u001b[0mraise_missing\u001b[0m\u001b[0;34m=\u001b[0m\u001b[0;32mTrue\u001b[0m\u001b[0;34m)\u001b[0m\u001b[0;34m[\u001b[0m\u001b[0;36m1\u001b[0m\u001b[0;34m]\u001b[0m\u001b[0;34m\u001b[0m\u001b[0;34m\u001b[0m\u001b[0m\n\u001b[0m\u001b[1;32m   3031\u001b[0m \u001b[0;34m\u001b[0m\u001b[0m\n\u001b[1;32m   3032\u001b[0m         \u001b[0;31m# take() does not accept boolean indexers\u001b[0m\u001b[0;34m\u001b[0m\u001b[0;34m\u001b[0m\u001b[0;34m\u001b[0m\u001b[0m\n",
      "\u001b[0;32m/shared-libs/python3.7/py/lib/python3.7/site-packages/pandas/core/indexing.py\u001b[0m in \u001b[0;36m_get_listlike_indexer\u001b[0;34m(self, key, axis, raise_missing)\u001b[0m\n\u001b[1;32m   1264\u001b[0m             \u001b[0mkeyarr\u001b[0m\u001b[0;34m,\u001b[0m \u001b[0mindexer\u001b[0m\u001b[0;34m,\u001b[0m \u001b[0mnew_indexer\u001b[0m \u001b[0;34m=\u001b[0m \u001b[0max\u001b[0m\u001b[0;34m.\u001b[0m\u001b[0m_reindex_non_unique\u001b[0m\u001b[0;34m(\u001b[0m\u001b[0mkeyarr\u001b[0m\u001b[0;34m)\u001b[0m\u001b[0;34m\u001b[0m\u001b[0;34m\u001b[0m\u001b[0m\n\u001b[1;32m   1265\u001b[0m \u001b[0;34m\u001b[0m\u001b[0m\n\u001b[0;32m-> 1266\u001b[0;31m         \u001b[0mself\u001b[0m\u001b[0;34m.\u001b[0m\u001b[0m_validate_read_indexer\u001b[0m\u001b[0;34m(\u001b[0m\u001b[0mkeyarr\u001b[0m\u001b[0;34m,\u001b[0m \u001b[0mindexer\u001b[0m\u001b[0;34m,\u001b[0m \u001b[0maxis\u001b[0m\u001b[0;34m,\u001b[0m \u001b[0mraise_missing\u001b[0m\u001b[0;34m=\u001b[0m\u001b[0mraise_missing\u001b[0m\u001b[0;34m)\u001b[0m\u001b[0;34m\u001b[0m\u001b[0;34m\u001b[0m\u001b[0m\n\u001b[0m\u001b[1;32m   1267\u001b[0m         \u001b[0;32mreturn\u001b[0m \u001b[0mkeyarr\u001b[0m\u001b[0;34m,\u001b[0m \u001b[0mindexer\u001b[0m\u001b[0;34m\u001b[0m\u001b[0;34m\u001b[0m\u001b[0m\n\u001b[1;32m   1268\u001b[0m \u001b[0;34m\u001b[0m\u001b[0m\n",
      "\u001b[0;32m/shared-libs/python3.7/py/lib/python3.7/site-packages/pandas/core/indexing.py\u001b[0m in \u001b[0;36m_validate_read_indexer\u001b[0;34m(self, key, indexer, axis, raise_missing)\u001b[0m\n\u001b[1;32m   1314\u001b[0m             \u001b[0;32mif\u001b[0m \u001b[0mraise_missing\u001b[0m\u001b[0;34m:\u001b[0m\u001b[0;34m\u001b[0m\u001b[0;34m\u001b[0m\u001b[0m\n\u001b[1;32m   1315\u001b[0m                 \u001b[0mnot_found\u001b[0m \u001b[0;34m=\u001b[0m \u001b[0mlist\u001b[0m\u001b[0;34m(\u001b[0m\u001b[0mset\u001b[0m\u001b[0;34m(\u001b[0m\u001b[0mkey\u001b[0m\u001b[0;34m)\u001b[0m \u001b[0;34m-\u001b[0m \u001b[0mset\u001b[0m\u001b[0;34m(\u001b[0m\u001b[0max\u001b[0m\u001b[0;34m)\u001b[0m\u001b[0;34m)\u001b[0m\u001b[0;34m\u001b[0m\u001b[0;34m\u001b[0m\u001b[0m\n\u001b[0;32m-> 1316\u001b[0;31m                 \u001b[0;32mraise\u001b[0m \u001b[0mKeyError\u001b[0m\u001b[0;34m(\u001b[0m\u001b[0;34mf\"{not_found} not in index\"\u001b[0m\u001b[0;34m)\u001b[0m\u001b[0;34m\u001b[0m\u001b[0;34m\u001b[0m\u001b[0m\n\u001b[0m\u001b[1;32m   1317\u001b[0m \u001b[0;34m\u001b[0m\u001b[0m\n\u001b[1;32m   1318\u001b[0m             \u001b[0mnot_found\u001b[0m \u001b[0;34m=\u001b[0m \u001b[0mkey\u001b[0m\u001b[0;34m[\u001b[0m\u001b[0mmissing_mask\u001b[0m\u001b[0;34m]\u001b[0m\u001b[0;34m\u001b[0m\u001b[0;34m\u001b[0m\u001b[0m\n",
      "\u001b[0;31mKeyError\u001b[0m: \"['mobile_homes_perc_bin', 'reweighted_redline_index', 'aged_65_or_older_perc_bin', 'poverty_perc_bin', 'group_quarters_perc_bin', 'unemployed_pop_perc_bin', 'SVI_3', 'SVI_4', 'no_cars_perc_bin', 'less_than_high_school_graduate_perc_bin', 'SVI', 'SVI_1', 'aged_17_or_younger_perc_bin', 'one_parent_families_with_young_children_perc_bin', 'non_white_perc_bin', 'multi_unit_structures_perc_bin', 'SVI_2'] not in index\""
     ]
    }
   ],
   "execution_count": null
  },
  {
   "cell_type": "markdown",
   "source": "#### Subgrouping: Redline Index and 4 Themes of SVI-based variables",
   "metadata": {
    "tags": [],
    "cell_id": "00034-982dd229-f9a3-46e9-87d5-f334107cbb5e",
    "deepnote_cell_type": "markdown"
   }
  },
  {
   "cell_type": "code",
   "metadata": {
    "tags": [],
    "cell_id": "00035-ecabf552-fcb6-46e7-bb37-36a1eef326ad",
    "deepnote_to_be_reexecuted": false,
    "source_hash": "b5341f6f",
    "execution_start": 1623462887734,
    "execution_millis": 31,
    "deepnote_cell_type": "code"
   },
   "source": "# Redlining and ses - ACS variables selected based on Socioeconomic Status\ndf_ses = df_Boston[['reweighted_redline_index','poverty_perc_bin','unemployed_pop_perc_bin','median_income', 'income_per_capita','less_than_high_school_graduate_perc_bin']]\n\n# Redlining and household composition - ACS variables selected based on SVI Household Composition & Disability\ndf_hh_composition_disability = df_Boston[['reweighted_redline_index','aged_65_or_older_perc_bin','aged_17_or_younger_perc_bin','one_parent_families_with_young_children_perc_bin']]\n\n# Redlining and percentage of non-white population - ACS variables selected based on SVI Minority Status & Language\ndf_minority_status = df_Boston[['reweighted_redline_index','non_white_perc_bin']]\n\n# Redlining and housing and transport - ACS variables selected based on SVI Housing Type & Transportation\ndf_housing_transport = df_Boston[['reweighted_redline_index','multi_unit_structures_perc_bin','mobile_homes_perc_bin','no_cars_perc_bin','group_quarters_perc_bin']]",
   "outputs": [
    {
     "output_type": "error",
     "ename": "KeyError",
     "evalue": "\"['poverty_perc_bin', 'less_than_high_school_graduate_perc_bin', 'unemployed_pop_perc_bin', 'reweighted_redline_index'] not in index\"",
     "traceback": [
      "\u001b[0;31m---------------------------------------------------------------------------\u001b[0m",
      "\u001b[0;31mKeyError\u001b[0m                                  Traceback (most recent call last)",
      "\u001b[0;32m<ipython-input-86-209e8992270b>\u001b[0m in \u001b[0;36m<module>\u001b[0;34m\u001b[0m\n\u001b[1;32m      1\u001b[0m \u001b[0;31m# Redlining and ses - ACS variables selected based on Socioeconomic Status\u001b[0m\u001b[0;34m\u001b[0m\u001b[0;34m\u001b[0m\u001b[0;34m\u001b[0m\u001b[0m\n\u001b[0;32m----> 2\u001b[0;31m \u001b[0mdf_ses\u001b[0m \u001b[0;34m=\u001b[0m \u001b[0mdf_Boston\u001b[0m\u001b[0;34m[\u001b[0m\u001b[0;34m[\u001b[0m\u001b[0;34m'reweighted_redline_index'\u001b[0m\u001b[0;34m,\u001b[0m\u001b[0;34m'poverty_perc_bin'\u001b[0m\u001b[0;34m,\u001b[0m\u001b[0;34m'unemployed_pop_perc_bin'\u001b[0m\u001b[0;34m,\u001b[0m\u001b[0;34m'median_income'\u001b[0m\u001b[0;34m,\u001b[0m \u001b[0;34m'income_per_capita'\u001b[0m\u001b[0;34m,\u001b[0m\u001b[0;34m'less_than_high_school_graduate_perc_bin'\u001b[0m\u001b[0;34m]\u001b[0m\u001b[0;34m]\u001b[0m\u001b[0;34m\u001b[0m\u001b[0;34m\u001b[0m\u001b[0m\n\u001b[0m\u001b[1;32m      3\u001b[0m \u001b[0;34m\u001b[0m\u001b[0m\n\u001b[1;32m      4\u001b[0m \u001b[0;31m# Redlining and household composition - ACS variables selected based on SVI Household Composition & Disability\u001b[0m\u001b[0;34m\u001b[0m\u001b[0;34m\u001b[0m\u001b[0;34m\u001b[0m\u001b[0m\n\u001b[1;32m      5\u001b[0m \u001b[0mdf_hh_composition_disability\u001b[0m \u001b[0;34m=\u001b[0m \u001b[0mdf_Boston\u001b[0m\u001b[0;34m[\u001b[0m\u001b[0;34m[\u001b[0m\u001b[0;34m'reweighted_redline_index'\u001b[0m\u001b[0;34m,\u001b[0m\u001b[0;34m'aged_65_or_older_perc_bin'\u001b[0m\u001b[0;34m,\u001b[0m\u001b[0;34m'aged_17_or_younger_perc_bin'\u001b[0m\u001b[0;34m,\u001b[0m\u001b[0;34m'one_parent_families_with_young_children_perc_bin'\u001b[0m\u001b[0;34m]\u001b[0m\u001b[0;34m]\u001b[0m\u001b[0;34m\u001b[0m\u001b[0;34m\u001b[0m\u001b[0m\n",
      "\u001b[0;32m/shared-libs/python3.7/py/lib/python3.7/site-packages/pandas/core/frame.py\u001b[0m in \u001b[0;36m__getitem__\u001b[0;34m(self, key)\u001b[0m\n\u001b[1;32m   3028\u001b[0m             \u001b[0;32mif\u001b[0m \u001b[0mis_iterator\u001b[0m\u001b[0;34m(\u001b[0m\u001b[0mkey\u001b[0m\u001b[0;34m)\u001b[0m\u001b[0;34m:\u001b[0m\u001b[0;34m\u001b[0m\u001b[0;34m\u001b[0m\u001b[0m\n\u001b[1;32m   3029\u001b[0m                 \u001b[0mkey\u001b[0m \u001b[0;34m=\u001b[0m \u001b[0mlist\u001b[0m\u001b[0;34m(\u001b[0m\u001b[0mkey\u001b[0m\u001b[0;34m)\u001b[0m\u001b[0;34m\u001b[0m\u001b[0;34m\u001b[0m\u001b[0m\n\u001b[0;32m-> 3030\u001b[0;31m             \u001b[0mindexer\u001b[0m \u001b[0;34m=\u001b[0m \u001b[0mself\u001b[0m\u001b[0;34m.\u001b[0m\u001b[0mloc\u001b[0m\u001b[0;34m.\u001b[0m\u001b[0m_get_listlike_indexer\u001b[0m\u001b[0;34m(\u001b[0m\u001b[0mkey\u001b[0m\u001b[0;34m,\u001b[0m \u001b[0maxis\u001b[0m\u001b[0;34m=\u001b[0m\u001b[0;36m1\u001b[0m\u001b[0;34m,\u001b[0m \u001b[0mraise_missing\u001b[0m\u001b[0;34m=\u001b[0m\u001b[0;32mTrue\u001b[0m\u001b[0;34m)\u001b[0m\u001b[0;34m[\u001b[0m\u001b[0;36m1\u001b[0m\u001b[0;34m]\u001b[0m\u001b[0;34m\u001b[0m\u001b[0;34m\u001b[0m\u001b[0m\n\u001b[0m\u001b[1;32m   3031\u001b[0m \u001b[0;34m\u001b[0m\u001b[0m\n\u001b[1;32m   3032\u001b[0m         \u001b[0;31m# take() does not accept boolean indexers\u001b[0m\u001b[0;34m\u001b[0m\u001b[0;34m\u001b[0m\u001b[0;34m\u001b[0m\u001b[0m\n",
      "\u001b[0;32m/shared-libs/python3.7/py/lib/python3.7/site-packages/pandas/core/indexing.py\u001b[0m in \u001b[0;36m_get_listlike_indexer\u001b[0;34m(self, key, axis, raise_missing)\u001b[0m\n\u001b[1;32m   1264\u001b[0m             \u001b[0mkeyarr\u001b[0m\u001b[0;34m,\u001b[0m \u001b[0mindexer\u001b[0m\u001b[0;34m,\u001b[0m \u001b[0mnew_indexer\u001b[0m \u001b[0;34m=\u001b[0m \u001b[0max\u001b[0m\u001b[0;34m.\u001b[0m\u001b[0m_reindex_non_unique\u001b[0m\u001b[0;34m(\u001b[0m\u001b[0mkeyarr\u001b[0m\u001b[0;34m)\u001b[0m\u001b[0;34m\u001b[0m\u001b[0;34m\u001b[0m\u001b[0m\n\u001b[1;32m   1265\u001b[0m \u001b[0;34m\u001b[0m\u001b[0m\n\u001b[0;32m-> 1266\u001b[0;31m         \u001b[0mself\u001b[0m\u001b[0;34m.\u001b[0m\u001b[0m_validate_read_indexer\u001b[0m\u001b[0;34m(\u001b[0m\u001b[0mkeyarr\u001b[0m\u001b[0;34m,\u001b[0m \u001b[0mindexer\u001b[0m\u001b[0;34m,\u001b[0m \u001b[0maxis\u001b[0m\u001b[0;34m,\u001b[0m \u001b[0mraise_missing\u001b[0m\u001b[0;34m=\u001b[0m\u001b[0mraise_missing\u001b[0m\u001b[0;34m)\u001b[0m\u001b[0;34m\u001b[0m\u001b[0;34m\u001b[0m\u001b[0m\n\u001b[0m\u001b[1;32m   1267\u001b[0m         \u001b[0;32mreturn\u001b[0m \u001b[0mkeyarr\u001b[0m\u001b[0;34m,\u001b[0m \u001b[0mindexer\u001b[0m\u001b[0;34m\u001b[0m\u001b[0;34m\u001b[0m\u001b[0m\n\u001b[1;32m   1268\u001b[0m \u001b[0;34m\u001b[0m\u001b[0m\n",
      "\u001b[0;32m/shared-libs/python3.7/py/lib/python3.7/site-packages/pandas/core/indexing.py\u001b[0m in \u001b[0;36m_validate_read_indexer\u001b[0;34m(self, key, indexer, axis, raise_missing)\u001b[0m\n\u001b[1;32m   1314\u001b[0m             \u001b[0;32mif\u001b[0m \u001b[0mraise_missing\u001b[0m\u001b[0;34m:\u001b[0m\u001b[0;34m\u001b[0m\u001b[0;34m\u001b[0m\u001b[0m\n\u001b[1;32m   1315\u001b[0m                 \u001b[0mnot_found\u001b[0m \u001b[0;34m=\u001b[0m \u001b[0mlist\u001b[0m\u001b[0;34m(\u001b[0m\u001b[0mset\u001b[0m\u001b[0;34m(\u001b[0m\u001b[0mkey\u001b[0m\u001b[0;34m)\u001b[0m \u001b[0;34m-\u001b[0m \u001b[0mset\u001b[0m\u001b[0;34m(\u001b[0m\u001b[0max\u001b[0m\u001b[0;34m)\u001b[0m\u001b[0;34m)\u001b[0m\u001b[0;34m\u001b[0m\u001b[0;34m\u001b[0m\u001b[0m\n\u001b[0;32m-> 1316\u001b[0;31m                 \u001b[0;32mraise\u001b[0m \u001b[0mKeyError\u001b[0m\u001b[0;34m(\u001b[0m\u001b[0;34mf\"{not_found} not in index\"\u001b[0m\u001b[0;34m)\u001b[0m\u001b[0;34m\u001b[0m\u001b[0;34m\u001b[0m\u001b[0m\n\u001b[0m\u001b[1;32m   1317\u001b[0m \u001b[0;34m\u001b[0m\u001b[0m\n\u001b[1;32m   1318\u001b[0m             \u001b[0mnot_found\u001b[0m \u001b[0;34m=\u001b[0m \u001b[0mkey\u001b[0m\u001b[0;34m[\u001b[0m\u001b[0mmissing_mask\u001b[0m\u001b[0;34m]\u001b[0m\u001b[0;34m\u001b[0m\u001b[0;34m\u001b[0m\u001b[0m\n",
      "\u001b[0;31mKeyError\u001b[0m: \"['poverty_perc_bin', 'less_than_high_school_graduate_perc_bin', 'unemployed_pop_perc_bin', 'reweighted_redline_index'] not in index\""
     ]
    }
   ],
   "execution_count": null
  },
  {
   "cell_type": "markdown",
   "source": "### Summary Statistics\n\nFor the full Boston dataset",
   "metadata": {
    "tags": [],
    "cell_id": "00036-8dbc2abf-8adc-45c8-97e8-283656290b3b",
    "deepnote_cell_type": "markdown"
   }
  },
  {
   "cell_type": "code",
   "metadata": {
    "tags": [],
    "cell_id": "00037-1699c6b3-6ea8-486f-a95a-a7a004a61a4b",
    "deepnote_to_be_reexecuted": false,
    "source_hash": "f88152d9",
    "execution_start": 1623462890130,
    "execution_millis": 310,
    "deepnote_cell_type": "code"
   },
   "source": "df.describe()",
   "outputs": [
    {
     "output_type": "execute_result",
     "execution_count": 87,
     "data": {
      "application/vnd.deepnote.dataframe.v2+json": {
       "row_count": 8,
       "column_count": 81,
       "columns": [
        {
         "name": "GEOID",
         "dtype": "float64",
         "stats": {
          "unique_count": 1,
          "nan_count": 7,
          "min": "0.0",
          "max": "0.0",
          "histogram": [
           {
            "bin_start": -0.5,
            "bin_end": -0.4,
            "count": 0
           },
           {
            "bin_start": -0.4,
            "bin_end": -0.3,
            "count": 0
           },
           {
            "bin_start": -0.3,
            "bin_end": -0.19999999999999996,
            "count": 0
           },
           {
            "bin_start": -0.19999999999999996,
            "bin_end": -0.09999999999999998,
            "count": 0
           },
           {
            "bin_start": -0.09999999999999998,
            "bin_end": 0,
            "count": 0
           },
           {
            "bin_start": 0,
            "bin_end": 0.10000000000000009,
            "count": 1
           },
           {
            "bin_start": 0.10000000000000009,
            "bin_end": 0.20000000000000007,
            "count": 0
           },
           {
            "bin_start": 0.20000000000000007,
            "bin_end": 0.30000000000000004,
            "count": 0
           },
           {
            "bin_start": 0.30000000000000004,
            "bin_end": 0.4,
            "count": 0
           },
           {
            "bin_start": 0.4,
            "bin_end": 0.5,
            "count": 0
           }
          ]
         }
        },
        {
         "name": "reweighted_redline_index_x",
         "dtype": "float64",
         "stats": {
          "unique_count": 1,
          "nan_count": 7,
          "min": "0.0",
          "max": "0.0",
          "histogram": [
           {
            "bin_start": -0.5,
            "bin_end": -0.4,
            "count": 0
           },
           {
            "bin_start": -0.4,
            "bin_end": -0.3,
            "count": 0
           },
           {
            "bin_start": -0.3,
            "bin_end": -0.19999999999999996,
            "count": 0
           },
           {
            "bin_start": -0.19999999999999996,
            "bin_end": -0.09999999999999998,
            "count": 0
           },
           {
            "bin_start": -0.09999999999999998,
            "bin_end": 0,
            "count": 0
           },
           {
            "bin_start": 0,
            "bin_end": 0.10000000000000009,
            "count": 1
           },
           {
            "bin_start": 0.10000000000000009,
            "bin_end": 0.20000000000000007,
            "count": 0
           },
           {
            "bin_start": 0.20000000000000007,
            "bin_end": 0.30000000000000004,
            "count": 0
           },
           {
            "bin_start": 0.30000000000000004,
            "bin_end": 0.4,
            "count": 0
           },
           {
            "bin_start": 0.4,
            "bin_end": 0.5,
            "count": 0
           }
          ]
         }
        },
        {
         "name": "total_pop",
         "dtype": "float64",
         "stats": {
          "unique_count": 1,
          "nan_count": 7,
          "min": "0.0",
          "max": "0.0",
          "histogram": [
           {
            "bin_start": -0.5,
            "bin_end": -0.4,
            "count": 0
           },
           {
            "bin_start": -0.4,
            "bin_end": -0.3,
            "count": 0
           },
           {
            "bin_start": -0.3,
            "bin_end": -0.19999999999999996,
            "count": 0
           },
           {
            "bin_start": -0.19999999999999996,
            "bin_end": -0.09999999999999998,
            "count": 0
           },
           {
            "bin_start": -0.09999999999999998,
            "bin_end": 0,
            "count": 0
           },
           {
            "bin_start": 0,
            "bin_end": 0.10000000000000009,
            "count": 1
           },
           {
            "bin_start": 0.10000000000000009,
            "bin_end": 0.20000000000000007,
            "count": 0
           },
           {
            "bin_start": 0.20000000000000007,
            "bin_end": 0.30000000000000004,
            "count": 0
           },
           {
            "bin_start": 0.30000000000000004,
            "bin_end": 0.4,
            "count": 0
           },
           {
            "bin_start": 0.4,
            "bin_end": 0.5,
            "count": 0
           }
          ]
         }
        },
        {
         "name": "households",
         "dtype": "float64",
         "stats": {
          "unique_count": 1,
          "nan_count": 7,
          "min": "0.0",
          "max": "0.0",
          "histogram": [
           {
            "bin_start": -0.5,
            "bin_end": -0.4,
            "count": 0
           },
           {
            "bin_start": -0.4,
            "bin_end": -0.3,
            "count": 0
           },
           {
            "bin_start": -0.3,
            "bin_end": -0.19999999999999996,
            "count": 0
           },
           {
            "bin_start": -0.19999999999999996,
            "bin_end": -0.09999999999999998,
            "count": 0
           },
           {
            "bin_start": -0.09999999999999998,
            "bin_end": 0,
            "count": 0
           },
           {
            "bin_start": 0,
            "bin_end": 0.10000000000000009,
            "count": 1
           },
           {
            "bin_start": 0.10000000000000009,
            "bin_end": 0.20000000000000007,
            "count": 0
           },
           {
            "bin_start": 0.20000000000000007,
            "bin_end": 0.30000000000000004,
            "count": 0
           },
           {
            "bin_start": 0.30000000000000004,
            "bin_end": 0.4,
            "count": 0
           },
           {
            "bin_start": 0.4,
            "bin_end": 0.5,
            "count": 0
           }
          ]
         }
        },
        {
         "name": "median_age",
         "dtype": "float64",
         "stats": {
          "unique_count": 1,
          "nan_count": 7,
          "min": "0.0",
          "max": "0.0",
          "histogram": [
           {
            "bin_start": -0.5,
            "bin_end": -0.4,
            "count": 0
           },
           {
            "bin_start": -0.4,
            "bin_end": -0.3,
            "count": 0
           },
           {
            "bin_start": -0.3,
            "bin_end": -0.19999999999999996,
            "count": 0
           },
           {
            "bin_start": -0.19999999999999996,
            "bin_end": -0.09999999999999998,
            "count": 0
           },
           {
            "bin_start": -0.09999999999999998,
            "bin_end": 0,
            "count": 0
           },
           {
            "bin_start": 0,
            "bin_end": 0.10000000000000009,
            "count": 1
           },
           {
            "bin_start": 0.10000000000000009,
            "bin_end": 0.20000000000000007,
            "count": 0
           },
           {
            "bin_start": 0.20000000000000007,
            "bin_end": 0.30000000000000004,
            "count": 0
           },
           {
            "bin_start": 0.30000000000000004,
            "bin_end": 0.4,
            "count": 0
           },
           {
            "bin_start": 0.4,
            "bin_end": 0.5,
            "count": 0
           }
          ]
         }
        },
        {
         "name": "median_income",
         "dtype": "float64",
         "stats": {
          "unique_count": 1,
          "nan_count": 7,
          "min": "0.0",
          "max": "0.0",
          "histogram": [
           {
            "bin_start": -0.5,
            "bin_end": -0.4,
            "count": 0
           },
           {
            "bin_start": -0.4,
            "bin_end": -0.3,
            "count": 0
           },
           {
            "bin_start": -0.3,
            "bin_end": -0.19999999999999996,
            "count": 0
           },
           {
            "bin_start": -0.19999999999999996,
            "bin_end": -0.09999999999999998,
            "count": 0
           },
           {
            "bin_start": -0.09999999999999998,
            "bin_end": 0,
            "count": 0
           },
           {
            "bin_start": 0,
            "bin_end": 0.10000000000000009,
            "count": 1
           },
           {
            "bin_start": 0.10000000000000009,
            "bin_end": 0.20000000000000007,
            "count": 0
           },
           {
            "bin_start": 0.20000000000000007,
            "bin_end": 0.30000000000000004,
            "count": 0
           },
           {
            "bin_start": 0.30000000000000004,
            "bin_end": 0.4,
            "count": 0
           },
           {
            "bin_start": 0.4,
            "bin_end": 0.5,
            "count": 0
           }
          ]
         }
        },
        {
         "name": "income_per_capita",
         "dtype": "float64",
         "stats": {
          "unique_count": 1,
          "nan_count": 7,
          "min": "0.0",
          "max": "0.0",
          "histogram": [
           {
            "bin_start": -0.5,
            "bin_end": -0.4,
            "count": 0
           },
           {
            "bin_start": -0.4,
            "bin_end": -0.3,
            "count": 0
           },
           {
            "bin_start": -0.3,
            "bin_end": -0.19999999999999996,
            "count": 0
           },
           {
            "bin_start": -0.19999999999999996,
            "bin_end": -0.09999999999999998,
            "count": 0
           },
           {
            "bin_start": -0.09999999999999998,
            "bin_end": 0,
            "count": 0
           },
           {
            "bin_start": 0,
            "bin_end": 0.10000000000000009,
            "count": 1
           },
           {
            "bin_start": 0.10000000000000009,
            "bin_end": 0.20000000000000007,
            "count": 0
           },
           {
            "bin_start": 0.20000000000000007,
            "bin_end": 0.30000000000000004,
            "count": 0
           },
           {
            "bin_start": 0.30000000000000004,
            "bin_end": 0.4,
            "count": 0
           },
           {
            "bin_start": 0.4,
            "bin_end": 0.5,
            "count": 0
           }
          ]
         }
        },
        {
         "name": "gini_index",
         "dtype": "float64",
         "stats": {
          "unique_count": 1,
          "nan_count": 7,
          "min": "0.0",
          "max": "0.0",
          "histogram": [
           {
            "bin_start": -0.5,
            "bin_end": -0.4,
            "count": 0
           },
           {
            "bin_start": -0.4,
            "bin_end": -0.3,
            "count": 0
           },
           {
            "bin_start": -0.3,
            "bin_end": -0.19999999999999996,
            "count": 0
           },
           {
            "bin_start": -0.19999999999999996,
            "bin_end": -0.09999999999999998,
            "count": 0
           },
           {
            "bin_start": -0.09999999999999998,
            "bin_end": 0,
            "count": 0
           },
           {
            "bin_start": 0,
            "bin_end": 0.10000000000000009,
            "count": 1
           },
           {
            "bin_start": 0.10000000000000009,
            "bin_end": 0.20000000000000007,
            "count": 0
           },
           {
            "bin_start": 0.20000000000000007,
            "bin_end": 0.30000000000000004,
            "count": 0
           },
           {
            "bin_start": 0.30000000000000004,
            "bin_end": 0.4,
            "count": 0
           },
           {
            "bin_start": 0.4,
            "bin_end": 0.5,
            "count": 0
           }
          ]
         }
        },
        {
         "name": "housing_units",
         "dtype": "float64",
         "stats": {
          "unique_count": 1,
          "nan_count": 7,
          "min": "0.0",
          "max": "0.0",
          "histogram": [
           {
            "bin_start": -0.5,
            "bin_end": -0.4,
            "count": 0
           },
           {
            "bin_start": -0.4,
            "bin_end": -0.3,
            "count": 0
           },
           {
            "bin_start": -0.3,
            "bin_end": -0.19999999999999996,
            "count": 0
           },
           {
            "bin_start": -0.19999999999999996,
            "bin_end": -0.09999999999999998,
            "count": 0
           },
           {
            "bin_start": -0.09999999999999998,
            "bin_end": 0,
            "count": 0
           },
           {
            "bin_start": 0,
            "bin_end": 0.10000000000000009,
            "count": 1
           },
           {
            "bin_start": 0.10000000000000009,
            "bin_end": 0.20000000000000007,
            "count": 0
           },
           {
            "bin_start": 0.20000000000000007,
            "bin_end": 0.30000000000000004,
            "count": 0
           },
           {
            "bin_start": 0.30000000000000004,
            "bin_end": 0.4,
            "count": 0
           },
           {
            "bin_start": 0.4,
            "bin_end": 0.5,
            "count": 0
           }
          ]
         }
        },
        {
         "name": "renter_occupied_housing_units_paying_cash_median_gross_rent",
         "dtype": "float64",
         "stats": {
          "unique_count": 1,
          "nan_count": 7,
          "min": "0.0",
          "max": "0.0",
          "histogram": [
           {
            "bin_start": -0.5,
            "bin_end": -0.4,
            "count": 0
           },
           {
            "bin_start": -0.4,
            "bin_end": -0.3,
            "count": 0
           },
           {
            "bin_start": -0.3,
            "bin_end": -0.19999999999999996,
            "count": 0
           },
           {
            "bin_start": -0.19999999999999996,
            "bin_end": -0.09999999999999998,
            "count": 0
           },
           {
            "bin_start": -0.09999999999999998,
            "bin_end": 0,
            "count": 0
           },
           {
            "bin_start": 0,
            "bin_end": 0.10000000000000009,
            "count": 1
           },
           {
            "bin_start": 0.10000000000000009,
            "bin_end": 0.20000000000000007,
            "count": 0
           },
           {
            "bin_start": 0.20000000000000007,
            "bin_end": 0.30000000000000004,
            "count": 0
           },
           {
            "bin_start": 0.30000000000000004,
            "bin_end": 0.4,
            "count": 0
           },
           {
            "bin_start": 0.4,
            "bin_end": 0.5,
            "count": 0
           }
          ]
         }
        },
        {
         "name": "owner_occupied_housing_units_lower_value_quartile",
         "dtype": "float64",
         "stats": {
          "unique_count": 1,
          "nan_count": 7,
          "min": "0.0",
          "max": "0.0",
          "histogram": [
           {
            "bin_start": -0.5,
            "bin_end": -0.4,
            "count": 0
           },
           {
            "bin_start": -0.4,
            "bin_end": -0.3,
            "count": 0
           },
           {
            "bin_start": -0.3,
            "bin_end": -0.19999999999999996,
            "count": 0
           },
           {
            "bin_start": -0.19999999999999996,
            "bin_end": -0.09999999999999998,
            "count": 0
           },
           {
            "bin_start": -0.09999999999999998,
            "bin_end": 0,
            "count": 0
           },
           {
            "bin_start": 0,
            "bin_end": 0.10000000000000009,
            "count": 1
           },
           {
            "bin_start": 0.10000000000000009,
            "bin_end": 0.20000000000000007,
            "count": 0
           },
           {
            "bin_start": 0.20000000000000007,
            "bin_end": 0.30000000000000004,
            "count": 0
           },
           {
            "bin_start": 0.30000000000000004,
            "bin_end": 0.4,
            "count": 0
           },
           {
            "bin_start": 0.4,
            "bin_end": 0.5,
            "count": 0
           }
          ]
         }
        },
        {
         "name": "owner_occupied_housing_units_median_value",
         "dtype": "float64",
         "stats": {
          "unique_count": 1,
          "nan_count": 7,
          "min": "0.0",
          "max": "0.0",
          "histogram": [
           {
            "bin_start": -0.5,
            "bin_end": -0.4,
            "count": 0
           },
           {
            "bin_start": -0.4,
            "bin_end": -0.3,
            "count": 0
           },
           {
            "bin_start": -0.3,
            "bin_end": -0.19999999999999996,
            "count": 0
           },
           {
            "bin_start": -0.19999999999999996,
            "bin_end": -0.09999999999999998,
            "count": 0
           },
           {
            "bin_start": -0.09999999999999998,
            "bin_end": 0,
            "count": 0
           },
           {
            "bin_start": 0,
            "bin_end": 0.10000000000000009,
            "count": 1
           },
           {
            "bin_start": 0.10000000000000009,
            "bin_end": 0.20000000000000007,
            "count": 0
           },
           {
            "bin_start": 0.20000000000000007,
            "bin_end": 0.30000000000000004,
            "count": 0
           },
           {
            "bin_start": 0.30000000000000004,
            "bin_end": 0.4,
            "count": 0
           },
           {
            "bin_start": 0.4,
            "bin_end": 0.5,
            "count": 0
           }
          ]
         }
        },
        {
         "name": "owner_occupied_housing_units_upper_value_quartile",
         "dtype": "float64",
         "stats": {
          "unique_count": 1,
          "nan_count": 7,
          "min": "0.0",
          "max": "0.0",
          "histogram": [
           {
            "bin_start": -0.5,
            "bin_end": -0.4,
            "count": 0
           },
           {
            "bin_start": -0.4,
            "bin_end": -0.3,
            "count": 0
           },
           {
            "bin_start": -0.3,
            "bin_end": -0.19999999999999996,
            "count": 0
           },
           {
            "bin_start": -0.19999999999999996,
            "bin_end": -0.09999999999999998,
            "count": 0
           },
           {
            "bin_start": -0.09999999999999998,
            "bin_end": 0,
            "count": 0
           },
           {
            "bin_start": 0,
            "bin_end": 0.10000000000000009,
            "count": 1
           },
           {
            "bin_start": 0.10000000000000009,
            "bin_end": 0.20000000000000007,
            "count": 0
           },
           {
            "bin_start": 0.20000000000000007,
            "bin_end": 0.30000000000000004,
            "count": 0
           },
           {
            "bin_start": 0.30000000000000004,
            "bin_end": 0.4,
            "count": 0
           },
           {
            "bin_start": 0.4,
            "bin_end": 0.5,
            "count": 0
           }
          ]
         }
        },
        {
         "name": "median_year_structure_built",
         "dtype": "float64",
         "stats": {
          "unique_count": 1,
          "nan_count": 7,
          "min": "0.0",
          "max": "0.0",
          "histogram": [
           {
            "bin_start": -0.5,
            "bin_end": -0.4,
            "count": 0
           },
           {
            "bin_start": -0.4,
            "bin_end": -0.3,
            "count": 0
           },
           {
            "bin_start": -0.3,
            "bin_end": -0.19999999999999996,
            "count": 0
           },
           {
            "bin_start": -0.19999999999999996,
            "bin_end": -0.09999999999999998,
            "count": 0
           },
           {
            "bin_start": -0.09999999999999998,
            "bin_end": 0,
            "count": 0
           },
           {
            "bin_start": 0,
            "bin_end": 0.10000000000000009,
            "count": 1
           },
           {
            "bin_start": 0.10000000000000009,
            "bin_end": 0.20000000000000007,
            "count": 0
           },
           {
            "bin_start": 0.20000000000000007,
            "bin_end": 0.30000000000000004,
            "count": 0
           },
           {
            "bin_start": 0.30000000000000004,
            "bin_end": 0.4,
            "count": 0
           },
           {
            "bin_start": 0.4,
            "bin_end": 0.5,
            "count": 0
           }
          ]
         }
        },
        {
         "name": "median_rent",
         "dtype": "float64",
         "stats": {
          "unique_count": 1,
          "nan_count": 7,
          "min": "0.0",
          "max": "0.0",
          "histogram": [
           {
            "bin_start": -0.5,
            "bin_end": -0.4,
            "count": 0
           },
           {
            "bin_start": -0.4,
            "bin_end": -0.3,
            "count": 0
           },
           {
            "bin_start": -0.3,
            "bin_end": -0.19999999999999996,
            "count": 0
           },
           {
            "bin_start": -0.19999999999999996,
            "bin_end": -0.09999999999999998,
            "count": 0
           },
           {
            "bin_start": -0.09999999999999998,
            "bin_end": 0,
            "count": 0
           },
           {
            "bin_start": 0,
            "bin_end": 0.10000000000000009,
            "count": 1
           },
           {
            "bin_start": 0.10000000000000009,
            "bin_end": 0.20000000000000007,
            "count": 0
           },
           {
            "bin_start": 0.20000000000000007,
            "bin_end": 0.30000000000000004,
            "count": 0
           },
           {
            "bin_start": 0.30000000000000004,
            "bin_end": 0.4,
            "count": 0
           },
           {
            "bin_start": 0.4,
            "bin_end": 0.5,
            "count": 0
           }
          ]
         }
        },
        {
         "name": "percent_income_spent_on_rent",
         "dtype": "float64",
         "stats": {
          "unique_count": 1,
          "nan_count": 7,
          "min": "0.0",
          "max": "0.0",
          "histogram": [
           {
            "bin_start": -0.5,
            "bin_end": -0.4,
            "count": 0
           },
           {
            "bin_start": -0.4,
            "bin_end": -0.3,
            "count": 0
           },
           {
            "bin_start": -0.3,
            "bin_end": -0.19999999999999996,
            "count": 0
           },
           {
            "bin_start": -0.19999999999999996,
            "bin_end": -0.09999999999999998,
            "count": 0
           },
           {
            "bin_start": -0.09999999999999998,
            "bin_end": 0,
            "count": 0
           },
           {
            "bin_start": 0,
            "bin_end": 0.10000000000000009,
            "count": 1
           },
           {
            "bin_start": 0.10000000000000009,
            "bin_end": 0.20000000000000007,
            "count": 0
           },
           {
            "bin_start": 0.20000000000000007,
            "bin_end": 0.30000000000000004,
            "count": 0
           },
           {
            "bin_start": 0.30000000000000004,
            "bin_end": 0.4,
            "count": 0
           },
           {
            "bin_start": 0.4,
            "bin_end": 0.5,
            "count": 0
           }
          ]
         }
        },
        {
         "name": "bachelors_degree_or_higher_25_64",
         "dtype": "float64",
         "stats": {
          "unique_count": 1,
          "nan_count": 7,
          "min": "0.0",
          "max": "0.0",
          "histogram": [
           {
            "bin_start": -0.5,
            "bin_end": -0.4,
            "count": 0
           },
           {
            "bin_start": -0.4,
            "bin_end": -0.3,
            "count": 0
           },
           {
            "bin_start": -0.3,
            "bin_end": -0.19999999999999996,
            "count": 0
           },
           {
            "bin_start": -0.19999999999999996,
            "bin_end": -0.09999999999999998,
            "count": 0
           },
           {
            "bin_start": -0.09999999999999998,
            "bin_end": 0,
            "count": 0
           },
           {
            "bin_start": 0,
            "bin_end": 0.10000000000000009,
            "count": 1
           },
           {
            "bin_start": 0.10000000000000009,
            "bin_end": 0.20000000000000007,
            "count": 0
           },
           {
            "bin_start": 0.20000000000000007,
            "bin_end": 0.30000000000000004,
            "count": 0
           },
           {
            "bin_start": 0.30000000000000004,
            "bin_end": 0.4,
            "count": 0
           },
           {
            "bin_start": 0.4,
            "bin_end": 0.5,
            "count": 0
           }
          ]
         }
        },
        {
         "name": "aged_65_or_older_normalised",
         "dtype": "float64",
         "stats": {
          "unique_count": 1,
          "nan_count": 7,
          "min": "0.0",
          "max": "0.0",
          "histogram": [
           {
            "bin_start": -0.5,
            "bin_end": -0.4,
            "count": 0
           },
           {
            "bin_start": -0.4,
            "bin_end": -0.3,
            "count": 0
           },
           {
            "bin_start": -0.3,
            "bin_end": -0.19999999999999996,
            "count": 0
           },
           {
            "bin_start": -0.19999999999999996,
            "bin_end": -0.09999999999999998,
            "count": 0
           },
           {
            "bin_start": -0.09999999999999998,
            "bin_end": 0,
            "count": 0
           },
           {
            "bin_start": 0,
            "bin_end": 0.10000000000000009,
            "count": 1
           },
           {
            "bin_start": 0.10000000000000009,
            "bin_end": 0.20000000000000007,
            "count": 0
           },
           {
            "bin_start": 0.20000000000000007,
            "bin_end": 0.30000000000000004,
            "count": 0
           },
           {
            "bin_start": 0.30000000000000004,
            "bin_end": 0.4,
            "count": 0
           },
           {
            "bin_start": 0.4,
            "bin_end": 0.5,
            "count": 0
           }
          ]
         }
        },
        {
         "name": "aged_17_or_younger_normalised",
         "dtype": "float64",
         "stats": {
          "unique_count": 1,
          "nan_count": 7,
          "min": "0.0",
          "max": "0.0",
          "histogram": [
           {
            "bin_start": -0.5,
            "bin_end": -0.4,
            "count": 0
           },
           {
            "bin_start": -0.4,
            "bin_end": -0.3,
            "count": 0
           },
           {
            "bin_start": -0.3,
            "bin_end": -0.19999999999999996,
            "count": 0
           },
           {
            "bin_start": -0.19999999999999996,
            "bin_end": -0.09999999999999998,
            "count": 0
           },
           {
            "bin_start": -0.09999999999999998,
            "bin_end": 0,
            "count": 0
           },
           {
            "bin_start": 0,
            "bin_end": 0.10000000000000009,
            "count": 1
           },
           {
            "bin_start": 0.10000000000000009,
            "bin_end": 0.20000000000000007,
            "count": 0
           },
           {
            "bin_start": 0.20000000000000007,
            "bin_end": 0.30000000000000004,
            "count": 0
           },
           {
            "bin_start": 0.30000000000000004,
            "bin_end": 0.4,
            "count": 0
           },
           {
            "bin_start": 0.4,
            "bin_end": 0.5,
            "count": 0
           }
          ]
         }
        },
        {
         "name": "multi_unit_structures_normalised",
         "dtype": "float64",
         "stats": {
          "unique_count": 1,
          "nan_count": 7,
          "min": "0.0",
          "max": "0.0",
          "histogram": [
           {
            "bin_start": -0.5,
            "bin_end": -0.4,
            "count": 0
           },
           {
            "bin_start": -0.4,
            "bin_end": -0.3,
            "count": 0
           },
           {
            "bin_start": -0.3,
            "bin_end": -0.19999999999999996,
            "count": 0
           },
           {
            "bin_start": -0.19999999999999996,
            "bin_end": -0.09999999999999998,
            "count": 0
           },
           {
            "bin_start": -0.09999999999999998,
            "bin_end": 0,
            "count": 0
           },
           {
            "bin_start": 0,
            "bin_end": 0.10000000000000009,
            "count": 1
           },
           {
            "bin_start": 0.10000000000000009,
            "bin_end": 0.20000000000000007,
            "count": 0
           },
           {
            "bin_start": 0.20000000000000007,
            "bin_end": 0.30000000000000004,
            "count": 0
           },
           {
            "bin_start": 0.30000000000000004,
            "bin_end": 0.4,
            "count": 0
           },
           {
            "bin_start": 0.4,
            "bin_end": 0.5,
            "count": 0
           }
          ]
         }
        },
        {
         "name": "poverty_normalised",
         "dtype": "float64",
         "stats": {
          "unique_count": 1,
          "nan_count": 7,
          "min": "0.0",
          "max": "0.0",
          "histogram": [
           {
            "bin_start": -0.5,
            "bin_end": -0.4,
            "count": 0
           },
           {
            "bin_start": -0.4,
            "bin_end": -0.3,
            "count": 0
           },
           {
            "bin_start": -0.3,
            "bin_end": -0.19999999999999996,
            "count": 0
           },
           {
            "bin_start": -0.19999999999999996,
            "bin_end": -0.09999999999999998,
            "count": 0
           },
           {
            "bin_start": -0.09999999999999998,
            "bin_end": 0,
            "count": 0
           },
           {
            "bin_start": 0,
            "bin_end": 0.10000000000000009,
            "count": 1
           },
           {
            "bin_start": 0.10000000000000009,
            "bin_end": 0.20000000000000007,
            "count": 0
           },
           {
            "bin_start": 0.20000000000000007,
            "bin_end": 0.30000000000000004,
            "count": 0
           },
           {
            "bin_start": 0.30000000000000004,
            "bin_end": 0.4,
            "count": 0
           },
           {
            "bin_start": 0.4,
            "bin_end": 0.5,
            "count": 0
           }
          ]
         }
        },
        {
         "name": "households_public_asst_or_food_stamps_normalised",
         "dtype": "float64",
         "stats": {
          "unique_count": 1,
          "nan_count": 7,
          "min": "0.0",
          "max": "0.0",
          "histogram": [
           {
            "bin_start": -0.5,
            "bin_end": -0.4,
            "count": 0
           },
           {
            "bin_start": -0.4,
            "bin_end": -0.3,
            "count": 0
           },
           {
            "bin_start": -0.3,
            "bin_end": -0.19999999999999996,
            "count": 0
           },
           {
            "bin_start": -0.19999999999999996,
            "bin_end": -0.09999999999999998,
            "count": 0
           },
           {
            "bin_start": -0.09999999999999998,
            "bin_end": 0,
            "count": 0
           },
           {
            "bin_start": 0,
            "bin_end": 0.10000000000000009,
            "count": 1
           },
           {
            "bin_start": 0.10000000000000009,
            "bin_end": 0.20000000000000007,
            "count": 0
           },
           {
            "bin_start": 0.20000000000000007,
            "bin_end": 0.30000000000000004,
            "count": 0
           },
           {
            "bin_start": 0.30000000000000004,
            "bin_end": 0.4,
            "count": 0
           },
           {
            "bin_start": 0.4,
            "bin_end": 0.5,
            "count": 0
           }
          ]
         }
        },
        {
         "name": "black_pop_normalised",
         "dtype": "float64",
         "stats": {
          "unique_count": 1,
          "nan_count": 7,
          "min": "0.0",
          "max": "0.0",
          "histogram": [
           {
            "bin_start": -0.5,
            "bin_end": -0.4,
            "count": 0
           },
           {
            "bin_start": -0.4,
            "bin_end": -0.3,
            "count": 0
           },
           {
            "bin_start": -0.3,
            "bin_end": -0.19999999999999996,
            "count": 0
           },
           {
            "bin_start": -0.19999999999999996,
            "bin_end": -0.09999999999999998,
            "count": 0
           },
           {
            "bin_start": -0.09999999999999998,
            "bin_end": 0,
            "count": 0
           },
           {
            "bin_start": 0,
            "bin_end": 0.10000000000000009,
            "count": 1
           },
           {
            "bin_start": 0.10000000000000009,
            "bin_end": 0.20000000000000007,
            "count": 0
           },
           {
            "bin_start": 0.20000000000000007,
            "bin_end": 0.30000000000000004,
            "count": 0
           },
           {
            "bin_start": 0.30000000000000004,
            "bin_end": 0.4,
            "count": 0
           },
           {
            "bin_start": 0.4,
            "bin_end": 0.5,
            "count": 0
           }
          ]
         }
        },
        {
         "name": "asian_pop_normalised",
         "dtype": "float64",
         "stats": {
          "unique_count": 1,
          "nan_count": 7,
          "min": "0.0",
          "max": "0.0",
          "histogram": [
           {
            "bin_start": -0.5,
            "bin_end": -0.4,
            "count": 0
           },
           {
            "bin_start": -0.4,
            "bin_end": -0.3,
            "count": 0
           },
           {
            "bin_start": -0.3,
            "bin_end": -0.19999999999999996,
            "count": 0
           },
           {
            "bin_start": -0.19999999999999996,
            "bin_end": -0.09999999999999998,
            "count": 0
           },
           {
            "bin_start": -0.09999999999999998,
            "bin_end": 0,
            "count": 0
           },
           {
            "bin_start": 0,
            "bin_end": 0.10000000000000009,
            "count": 1
           },
           {
            "bin_start": 0.10000000000000009,
            "bin_end": 0.20000000000000007,
            "count": 0
           },
           {
            "bin_start": 0.20000000000000007,
            "bin_end": 0.30000000000000004,
            "count": 0
           },
           {
            "bin_start": 0.30000000000000004,
            "bin_end": 0.4,
            "count": 0
           },
           {
            "bin_start": 0.4,
            "bin_end": 0.5,
            "count": 0
           }
          ]
         }
        },
        {
         "name": "hispanic_pop_normalised",
         "dtype": "float64",
         "stats": {
          "unique_count": 1,
          "nan_count": 7,
          "min": "0.0",
          "max": "0.0",
          "histogram": [
           {
            "bin_start": -0.5,
            "bin_end": -0.4,
            "count": 0
           },
           {
            "bin_start": -0.4,
            "bin_end": -0.3,
            "count": 0
           },
           {
            "bin_start": -0.3,
            "bin_end": -0.19999999999999996,
            "count": 0
           },
           {
            "bin_start": -0.19999999999999996,
            "bin_end": -0.09999999999999998,
            "count": 0
           },
           {
            "bin_start": -0.09999999999999998,
            "bin_end": 0,
            "count": 0
           },
           {
            "bin_start": 0,
            "bin_end": 0.10000000000000009,
            "count": 1
           },
           {
            "bin_start": 0.10000000000000009,
            "bin_end": 0.20000000000000007,
            "count": 0
           },
           {
            "bin_start": 0.20000000000000007,
            "bin_end": 0.30000000000000004,
            "count": 0
           },
           {
            "bin_start": 0.30000000000000004,
            "bin_end": 0.4,
            "count": 0
           },
           {
            "bin_start": 0.4,
            "bin_end": 0.5,
            "count": 0
           }
          ]
         }
        },
        {
         "name": "amerindian_pop_normalised",
         "dtype": "float64",
         "stats": {
          "unique_count": 1,
          "nan_count": 7,
          "min": "0.0",
          "max": "0.0",
          "histogram": [
           {
            "bin_start": -0.5,
            "bin_end": -0.4,
            "count": 0
           },
           {
            "bin_start": -0.4,
            "bin_end": -0.3,
            "count": 0
           },
           {
            "bin_start": -0.3,
            "bin_end": -0.19999999999999996,
            "count": 0
           },
           {
            "bin_start": -0.19999999999999996,
            "bin_end": -0.09999999999999998,
            "count": 0
           },
           {
            "bin_start": -0.09999999999999998,
            "bin_end": 0,
            "count": 0
           },
           {
            "bin_start": 0,
            "bin_end": 0.10000000000000009,
            "count": 1
           },
           {
            "bin_start": 0.10000000000000009,
            "bin_end": 0.20000000000000007,
            "count": 0
           },
           {
            "bin_start": 0.20000000000000007,
            "bin_end": 0.30000000000000004,
            "count": 0
           },
           {
            "bin_start": 0.30000000000000004,
            "bin_end": 0.4,
            "count": 0
           },
           {
            "bin_start": 0.4,
            "bin_end": 0.5,
            "count": 0
           }
          ]
         }
        },
        {
         "name": "white_pop_normalised",
         "dtype": "float64",
         "stats": {
          "unique_count": 1,
          "nan_count": 7,
          "min": "0.0",
          "max": "0.0",
          "histogram": [
           {
            "bin_start": -0.5,
            "bin_end": -0.4,
            "count": 0
           },
           {
            "bin_start": -0.4,
            "bin_end": -0.3,
            "count": 0
           },
           {
            "bin_start": -0.3,
            "bin_end": -0.19999999999999996,
            "count": 0
           },
           {
            "bin_start": -0.19999999999999996,
            "bin_end": -0.09999999999999998,
            "count": 0
           },
           {
            "bin_start": -0.09999999999999998,
            "bin_end": 0,
            "count": 0
           },
           {
            "bin_start": 0,
            "bin_end": 0.10000000000000009,
            "count": 1
           },
           {
            "bin_start": 0.10000000000000009,
            "bin_end": 0.20000000000000007,
            "count": 0
           },
           {
            "bin_start": 0.20000000000000007,
            "bin_end": 0.30000000000000004,
            "count": 0
           },
           {
            "bin_start": 0.30000000000000004,
            "bin_end": 0.4,
            "count": 0
           },
           {
            "bin_start": 0.4,
            "bin_end": 0.5,
            "count": 0
           }
          ]
         }
        },
        {
         "name": "non_white_pop_normalised",
         "dtype": "float64",
         "stats": {
          "unique_count": 1,
          "nan_count": 7,
          "min": "0.0",
          "max": "0.0",
          "histogram": [
           {
            "bin_start": -0.5,
            "bin_end": -0.4,
            "count": 0
           },
           {
            "bin_start": -0.4,
            "bin_end": -0.3,
            "count": 0
           },
           {
            "bin_start": -0.3,
            "bin_end": -0.19999999999999996,
            "count": 0
           },
           {
            "bin_start": -0.19999999999999996,
            "bin_end": -0.09999999999999998,
            "count": 0
           },
           {
            "bin_start": -0.09999999999999998,
            "bin_end": 0,
            "count": 0
           },
           {
            "bin_start": 0,
            "bin_end": 0.10000000000000009,
            "count": 1
           },
           {
            "bin_start": 0.10000000000000009,
            "bin_end": 0.20000000000000007,
            "count": 0
           },
           {
            "bin_start": 0.20000000000000007,
            "bin_end": 0.30000000000000004,
            "count": 0
           },
           {
            "bin_start": 0.30000000000000004,
            "bin_end": 0.4,
            "count": 0
           },
           {
            "bin_start": 0.4,
            "bin_end": 0.5,
            "count": 0
           }
          ]
         }
        },
        {
         "name": "other_race_pop_normalised",
         "dtype": "float64",
         "stats": {
          "unique_count": 1,
          "nan_count": 7,
          "min": "0.0",
          "max": "0.0",
          "histogram": [
           {
            "bin_start": -0.5,
            "bin_end": -0.4,
            "count": 0
           },
           {
            "bin_start": -0.4,
            "bin_end": -0.3,
            "count": 0
           },
           {
            "bin_start": -0.3,
            "bin_end": -0.19999999999999996,
            "count": 0
           },
           {
            "bin_start": -0.19999999999999996,
            "bin_end": -0.09999999999999998,
            "count": 0
           },
           {
            "bin_start": -0.09999999999999998,
            "bin_end": 0,
            "count": 0
           },
           {
            "bin_start": 0,
            "bin_end": 0.10000000000000009,
            "count": 1
           },
           {
            "bin_start": 0.10000000000000009,
            "bin_end": 0.20000000000000007,
            "count": 0
           },
           {
            "bin_start": 0.20000000000000007,
            "bin_end": 0.30000000000000004,
            "count": 0
           },
           {
            "bin_start": 0.30000000000000004,
            "bin_end": 0.4,
            "count": 0
           },
           {
            "bin_start": 0.4,
            "bin_end": 0.5,
            "count": 0
           }
          ]
         }
        },
        {
         "name": "male_pop_normalised",
         "dtype": "float64",
         "stats": {
          "unique_count": 1,
          "nan_count": 7,
          "min": "0.0",
          "max": "0.0",
          "histogram": [
           {
            "bin_start": -0.5,
            "bin_end": -0.4,
            "count": 0
           },
           {
            "bin_start": -0.4,
            "bin_end": -0.3,
            "count": 0
           },
           {
            "bin_start": -0.3,
            "bin_end": -0.19999999999999996,
            "count": 0
           },
           {
            "bin_start": -0.19999999999999996,
            "bin_end": -0.09999999999999998,
            "count": 0
           },
           {
            "bin_start": -0.09999999999999998,
            "bin_end": 0,
            "count": 0
           },
           {
            "bin_start": 0,
            "bin_end": 0.10000000000000009,
            "count": 1
           },
           {
            "bin_start": 0.10000000000000009,
            "bin_end": 0.20000000000000007,
            "count": 0
           },
           {
            "bin_start": 0.20000000000000007,
            "bin_end": 0.30000000000000004,
            "count": 0
           },
           {
            "bin_start": 0.30000000000000004,
            "bin_end": 0.4,
            "count": 0
           },
           {
            "bin_start": 0.4,
            "bin_end": 0.5,
            "count": 0
           }
          ]
         }
        },
        {
         "name": "female_pop_normalised",
         "dtype": "float64",
         "stats": {
          "unique_count": 1,
          "nan_count": 7,
          "min": "0.0",
          "max": "0.0",
          "histogram": [
           {
            "bin_start": -0.5,
            "bin_end": -0.4,
            "count": 0
           },
           {
            "bin_start": -0.4,
            "bin_end": -0.3,
            "count": 0
           },
           {
            "bin_start": -0.3,
            "bin_end": -0.19999999999999996,
            "count": 0
           },
           {
            "bin_start": -0.19999999999999996,
            "bin_end": -0.09999999999999998,
            "count": 0
           },
           {
            "bin_start": -0.09999999999999998,
            "bin_end": 0,
            "count": 0
           },
           {
            "bin_start": 0,
            "bin_end": 0.10000000000000009,
            "count": 1
           },
           {
            "bin_start": 0.10000000000000009,
            "bin_end": 0.20000000000000007,
            "count": 0
           },
           {
            "bin_start": 0.20000000000000007,
            "bin_end": 0.30000000000000004,
            "count": 0
           },
           {
            "bin_start": 0.30000000000000004,
            "bin_end": 0.4,
            "count": 0
           },
           {
            "bin_start": 0.4,
            "bin_end": 0.5,
            "count": 0
           }
          ]
         }
        },
        {
         "name": "pop_currently_unmarried_normalised",
         "dtype": "float64",
         "stats": {
          "unique_count": 1,
          "nan_count": 7,
          "min": "0.0",
          "max": "0.0",
          "histogram": [
           {
            "bin_start": -0.5,
            "bin_end": -0.4,
            "count": 0
           },
           {
            "bin_start": -0.4,
            "bin_end": -0.3,
            "count": 0
           },
           {
            "bin_start": -0.3,
            "bin_end": -0.19999999999999996,
            "count": 0
           },
           {
            "bin_start": -0.19999999999999996,
            "bin_end": -0.09999999999999998,
            "count": 0
           },
           {
            "bin_start": -0.09999999999999998,
            "bin_end": 0,
            "count": 0
           },
           {
            "bin_start": 0,
            "bin_end": 0.10000000000000009,
            "count": 1
           },
           {
            "bin_start": 0.10000000000000009,
            "bin_end": 0.20000000000000007,
            "count": 0
           },
           {
            "bin_start": 0.20000000000000007,
            "bin_end": 0.30000000000000004,
            "count": 0
           },
           {
            "bin_start": 0.30000000000000004,
            "bin_end": 0.4,
            "count": 0
           },
           {
            "bin_start": 0.4,
            "bin_end": 0.5,
            "count": 0
           }
          ]
         }
        },
        {
         "name": "pop_now_married_normalised",
         "dtype": "float64",
         "stats": {
          "unique_count": 1,
          "nan_count": 7,
          "min": "0.0",
          "max": "0.0",
          "histogram": [
           {
            "bin_start": -0.5,
            "bin_end": -0.4,
            "count": 0
           },
           {
            "bin_start": -0.4,
            "bin_end": -0.3,
            "count": 0
           },
           {
            "bin_start": -0.3,
            "bin_end": -0.19999999999999996,
            "count": 0
           },
           {
            "bin_start": -0.19999999999999996,
            "bin_end": -0.09999999999999998,
            "count": 0
           },
           {
            "bin_start": -0.09999999999999998,
            "bin_end": 0,
            "count": 0
           },
           {
            "bin_start": 0,
            "bin_end": 0.10000000000000009,
            "count": 1
           },
           {
            "bin_start": 0.10000000000000009,
            "bin_end": 0.20000000000000007,
            "count": 0
           },
           {
            "bin_start": 0.20000000000000007,
            "bin_end": 0.30000000000000004,
            "count": 0
           },
           {
            "bin_start": 0.30000000000000004,
            "bin_end": 0.4,
            "count": 0
           },
           {
            "bin_start": 0.4,
            "bin_end": 0.5,
            "count": 0
           }
          ]
         }
        },
        {
         "name": "not_us_citizen_pop_normalised",
         "dtype": "float64",
         "stats": {
          "unique_count": 1,
          "nan_count": 7,
          "min": "0.0",
          "max": "0.0",
          "histogram": [
           {
            "bin_start": -0.5,
            "bin_end": -0.4,
            "count": 0
           },
           {
            "bin_start": -0.4,
            "bin_end": -0.3,
            "count": 0
           },
           {
            "bin_start": -0.3,
            "bin_end": -0.19999999999999996,
            "count": 0
           },
           {
            "bin_start": -0.19999999999999996,
            "bin_end": -0.09999999999999998,
            "count": 0
           },
           {
            "bin_start": -0.09999999999999998,
            "bin_end": 0,
            "count": 0
           },
           {
            "bin_start": 0,
            "bin_end": 0.10000000000000009,
            "count": 1
           },
           {
            "bin_start": 0.10000000000000009,
            "bin_end": 0.20000000000000007,
            "count": 0
           },
           {
            "bin_start": 0.20000000000000007,
            "bin_end": 0.30000000000000004,
            "count": 0
           },
           {
            "bin_start": 0.30000000000000004,
            "bin_end": 0.4,
            "count": 0
           },
           {
            "bin_start": 0.4,
            "bin_end": 0.5,
            "count": 0
           }
          ]
         }
        },
        {
         "name": "children_normalised",
         "dtype": "float64",
         "stats": {
          "unique_count": 1,
          "nan_count": 7,
          "min": "0.0",
          "max": "0.0",
          "histogram": [
           {
            "bin_start": -0.5,
            "bin_end": -0.4,
            "count": 0
           },
           {
            "bin_start": -0.4,
            "bin_end": -0.3,
            "count": 0
           },
           {
            "bin_start": -0.3,
            "bin_end": -0.19999999999999996,
            "count": 0
           },
           {
            "bin_start": -0.19999999999999996,
            "bin_end": -0.09999999999999998,
            "count": 0
           },
           {
            "bin_start": -0.09999999999999998,
            "bin_end": 0,
            "count": 0
           },
           {
            "bin_start": 0,
            "bin_end": 0.10000000000000009,
            "count": 1
           },
           {
            "bin_start": 0.10000000000000009,
            "bin_end": 0.20000000000000007,
            "count": 0
           },
           {
            "bin_start": 0.20000000000000007,
            "bin_end": 0.30000000000000004,
            "count": 0
           },
           {
            "bin_start": 0.30000000000000004,
            "bin_end": 0.4,
            "count": 0
           },
           {
            "bin_start": 0.4,
            "bin_end": 0.5,
            "count": 0
           }
          ]
         }
        },
        {
         "name": "married_households_normalised",
         "dtype": "float64",
         "stats": {
          "unique_count": 1,
          "nan_count": 7,
          "min": "0.0",
          "max": "0.0",
          "histogram": [
           {
            "bin_start": -0.5,
            "bin_end": -0.4,
            "count": 0
           },
           {
            "bin_start": -0.4,
            "bin_end": -0.3,
            "count": 0
           },
           {
            "bin_start": -0.3,
            "bin_end": -0.19999999999999996,
            "count": 0
           },
           {
            "bin_start": -0.19999999999999996,
            "bin_end": -0.09999999999999998,
            "count": 0
           },
           {
            "bin_start": -0.09999999999999998,
            "bin_end": 0,
            "count": 0
           },
           {
            "bin_start": 0,
            "bin_end": 0.10000000000000009,
            "count": 1
           },
           {
            "bin_start": 0.10000000000000009,
            "bin_end": 0.20000000000000007,
            "count": 0
           },
           {
            "bin_start": 0.20000000000000007,
            "bin_end": 0.30000000000000004,
            "count": 0
           },
           {
            "bin_start": 0.30000000000000004,
            "bin_end": 0.4,
            "count": 0
           },
           {
            "bin_start": 0.4,
            "bin_end": 0.5,
            "count": 0
           }
          ]
         }
        },
        {
         "name": "nonfamily_households_normalised",
         "dtype": "float64",
         "stats": {
          "unique_count": 1,
          "nan_count": 7,
          "min": "0.0",
          "max": "0.0",
          "histogram": [
           {
            "bin_start": -0.5,
            "bin_end": -0.4,
            "count": 0
           },
           {
            "bin_start": -0.4,
            "bin_end": -0.3,
            "count": 0
           },
           {
            "bin_start": -0.3,
            "bin_end": -0.19999999999999996,
            "count": 0
           },
           {
            "bin_start": -0.19999999999999996,
            "bin_end": -0.09999999999999998,
            "count": 0
           },
           {
            "bin_start": -0.09999999999999998,
            "bin_end": 0,
            "count": 0
           },
           {
            "bin_start": 0,
            "bin_end": 0.10000000000000009,
            "count": 1
           },
           {
            "bin_start": 0.10000000000000009,
            "bin_end": 0.20000000000000007,
            "count": 0
           },
           {
            "bin_start": 0.20000000000000007,
            "bin_end": 0.30000000000000004,
            "count": 0
           },
           {
            "bin_start": 0.30000000000000004,
            "bin_end": 0.4,
            "count": 0
           },
           {
            "bin_start": 0.4,
            "bin_end": 0.5,
            "count": 0
           }
          ]
         }
        },
        {
         "name": "family_households_normalised",
         "dtype": "float64",
         "stats": {
          "unique_count": 1,
          "nan_count": 7,
          "min": "0.0",
          "max": "0.0",
          "histogram": [
           {
            "bin_start": -0.5,
            "bin_end": -0.4,
            "count": 0
           },
           {
            "bin_start": -0.4,
            "bin_end": -0.3,
            "count": 0
           },
           {
            "bin_start": -0.3,
            "bin_end": -0.19999999999999996,
            "count": 0
           },
           {
            "bin_start": -0.19999999999999996,
            "bin_end": -0.09999999999999998,
            "count": 0
           },
           {
            "bin_start": -0.09999999999999998,
            "bin_end": 0,
            "count": 0
           },
           {
            "bin_start": 0,
            "bin_end": 0.10000000000000009,
            "count": 1
           },
           {
            "bin_start": 0.10000000000000009,
            "bin_end": 0.20000000000000007,
            "count": 0
           },
           {
            "bin_start": 0.20000000000000007,
            "bin_end": 0.30000000000000004,
            "count": 0
           },
           {
            "bin_start": 0.30000000000000004,
            "bin_end": 0.4,
            "count": 0
           },
           {
            "bin_start": 0.4,
            "bin_end": 0.5,
            "count": 0
           }
          ]
         }
        },
        {
         "name": "occupied_housing_units_normalised",
         "dtype": "float64",
         "stats": {
          "unique_count": 1,
          "nan_count": 7,
          "min": "0.0",
          "max": "0.0",
          "histogram": [
           {
            "bin_start": -0.5,
            "bin_end": -0.4,
            "count": 0
           },
           {
            "bin_start": -0.4,
            "bin_end": -0.3,
            "count": 0
           },
           {
            "bin_start": -0.3,
            "bin_end": -0.19999999999999996,
            "count": 0
           },
           {
            "bin_start": -0.19999999999999996,
            "bin_end": -0.09999999999999998,
            "count": 0
           },
           {
            "bin_start": -0.09999999999999998,
            "bin_end": 0,
            "count": 0
           },
           {
            "bin_start": 0,
            "bin_end": 0.10000000000000009,
            "count": 1
           },
           {
            "bin_start": 0.10000000000000009,
            "bin_end": 0.20000000000000007,
            "count": 0
           },
           {
            "bin_start": 0.20000000000000007,
            "bin_end": 0.30000000000000004,
            "count": 0
           },
           {
            "bin_start": 0.30000000000000004,
            "bin_end": 0.4,
            "count": 0
           },
           {
            "bin_start": 0.4,
            "bin_end": 0.5,
            "count": 0
           }
          ]
         }
        },
        {
         "name": "housing_units_renter_occupied_normalised",
         "dtype": "float64",
         "stats": {
          "unique_count": 1,
          "nan_count": 7,
          "min": "0.0",
          "max": "0.0",
          "histogram": [
           {
            "bin_start": -0.5,
            "bin_end": -0.4,
            "count": 0
           },
           {
            "bin_start": -0.4,
            "bin_end": -0.3,
            "count": 0
           },
           {
            "bin_start": -0.3,
            "bin_end": -0.19999999999999996,
            "count": 0
           },
           {
            "bin_start": -0.19999999999999996,
            "bin_end": -0.09999999999999998,
            "count": 0
           },
           {
            "bin_start": -0.09999999999999998,
            "bin_end": 0,
            "count": 0
           },
           {
            "bin_start": 0,
            "bin_end": 0.10000000000000009,
            "count": 1
           },
           {
            "bin_start": 0.10000000000000009,
            "bin_end": 0.20000000000000007,
            "count": 0
           },
           {
            "bin_start": 0.20000000000000007,
            "bin_end": 0.30000000000000004,
            "count": 0
           },
           {
            "bin_start": 0.30000000000000004,
            "bin_end": 0.4,
            "count": 0
           },
           {
            "bin_start": 0.4,
            "bin_end": 0.5,
            "count": 0
           }
          ]
         }
        },
        {
         "name": "vacant_housing_units_normalised",
         "dtype": "float64",
         "stats": {
          "unique_count": 1,
          "nan_count": 7,
          "min": "0.0",
          "max": "0.0",
          "histogram": [
           {
            "bin_start": -0.5,
            "bin_end": -0.4,
            "count": 0
           },
           {
            "bin_start": -0.4,
            "bin_end": -0.3,
            "count": 0
           },
           {
            "bin_start": -0.3,
            "bin_end": -0.19999999999999996,
            "count": 0
           },
           {
            "bin_start": -0.19999999999999996,
            "bin_end": -0.09999999999999998,
            "count": 0
           },
           {
            "bin_start": -0.09999999999999998,
            "bin_end": 0,
            "count": 0
           },
           {
            "bin_start": 0,
            "bin_end": 0.10000000000000009,
            "count": 1
           },
           {
            "bin_start": 0.10000000000000009,
            "bin_end": 0.20000000000000007,
            "count": 0
           },
           {
            "bin_start": 0.20000000000000007,
            "bin_end": 0.30000000000000004,
            "count": 0
           },
           {
            "bin_start": 0.30000000000000004,
            "bin_end": 0.4,
            "count": 0
           },
           {
            "bin_start": 0.4,
            "bin_end": 0.5,
            "count": 0
           }
          ]
         }
        },
        {
         "name": "vacant_housing_units_for_rent_normalised",
         "dtype": "float64",
         "stats": {
          "unique_count": 1,
          "nan_count": 7,
          "min": "0.0",
          "max": "0.0",
          "histogram": [
           {
            "bin_start": -0.5,
            "bin_end": -0.4,
            "count": 0
           },
           {
            "bin_start": -0.4,
            "bin_end": -0.3,
            "count": 0
           },
           {
            "bin_start": -0.3,
            "bin_end": -0.19999999999999996,
            "count": 0
           },
           {
            "bin_start": -0.19999999999999996,
            "bin_end": -0.09999999999999998,
            "count": 0
           },
           {
            "bin_start": -0.09999999999999998,
            "bin_end": 0,
            "count": 0
           },
           {
            "bin_start": 0,
            "bin_end": 0.10000000000000009,
            "count": 1
           },
           {
            "bin_start": 0.10000000000000009,
            "bin_end": 0.20000000000000007,
            "count": 0
           },
           {
            "bin_start": 0.20000000000000007,
            "bin_end": 0.30000000000000004,
            "count": 0
           },
           {
            "bin_start": 0.30000000000000004,
            "bin_end": 0.4,
            "count": 0
           },
           {
            "bin_start": 0.4,
            "bin_end": 0.5,
            "count": 0
           }
          ]
         }
        },
        {
         "name": "vacant_housing_units_for_sale_normalised",
         "dtype": "float64",
         "stats": {
          "unique_count": 1,
          "nan_count": 7,
          "min": "0.0",
          "max": "0.0",
          "histogram": [
           {
            "bin_start": -0.5,
            "bin_end": -0.4,
            "count": 0
           },
           {
            "bin_start": -0.4,
            "bin_end": -0.3,
            "count": 0
           },
           {
            "bin_start": -0.3,
            "bin_end": -0.19999999999999996,
            "count": 0
           },
           {
            "bin_start": -0.19999999999999996,
            "bin_end": -0.09999999999999998,
            "count": 0
           },
           {
            "bin_start": -0.09999999999999998,
            "bin_end": 0,
            "count": 0
           },
           {
            "bin_start": 0,
            "bin_end": 0.10000000000000009,
            "count": 1
           },
           {
            "bin_start": 0.10000000000000009,
            "bin_end": 0.20000000000000007,
            "count": 0
           },
           {
            "bin_start": 0.20000000000000007,
            "bin_end": 0.30000000000000004,
            "count": 0
           },
           {
            "bin_start": 0.30000000000000004,
            "bin_end": 0.4,
            "count": 0
           },
           {
            "bin_start": 0.4,
            "bin_end": 0.5,
            "count": 0
           }
          ]
         }
        },
        {
         "name": "mobile_homes_normalised",
         "dtype": "float64",
         "stats": {
          "unique_count": 1,
          "nan_count": 7,
          "min": "0.0",
          "max": "0.0",
          "histogram": [
           {
            "bin_start": -0.5,
            "bin_end": -0.4,
            "count": 0
           },
           {
            "bin_start": -0.4,
            "bin_end": -0.3,
            "count": 0
           },
           {
            "bin_start": -0.3,
            "bin_end": -0.19999999999999996,
            "count": 0
           },
           {
            "bin_start": -0.19999999999999996,
            "bin_end": -0.09999999999999998,
            "count": 0
           },
           {
            "bin_start": -0.09999999999999998,
            "bin_end": 0,
            "count": 0
           },
           {
            "bin_start": 0,
            "bin_end": 0.10000000000000009,
            "count": 1
           },
           {
            "bin_start": 0.10000000000000009,
            "bin_end": 0.20000000000000007,
            "count": 0
           },
           {
            "bin_start": 0.20000000000000007,
            "bin_end": 0.30000000000000004,
            "count": 0
           },
           {
            "bin_start": 0.30000000000000004,
            "bin_end": 0.4,
            "count": 0
           },
           {
            "bin_start": 0.4,
            "bin_end": 0.5,
            "count": 0
           }
          ]
         }
        },
        {
         "name": "group_quarters_normalised",
         "dtype": "float64",
         "stats": {
          "unique_count": 1,
          "nan_count": 7,
          "min": "0.0",
          "max": "0.0",
          "histogram": [
           {
            "bin_start": -0.5,
            "bin_end": -0.4,
            "count": 0
           },
           {
            "bin_start": -0.4,
            "bin_end": -0.3,
            "count": 0
           },
           {
            "bin_start": -0.3,
            "bin_end": -0.19999999999999996,
            "count": 0
           },
           {
            "bin_start": -0.19999999999999996,
            "bin_end": -0.09999999999999998,
            "count": 0
           },
           {
            "bin_start": -0.09999999999999998,
            "bin_end": 0,
            "count": 0
           },
           {
            "bin_start": 0,
            "bin_end": 0.10000000000000009,
            "count": 1
           },
           {
            "bin_start": 0.10000000000000009,
            "bin_end": 0.20000000000000007,
            "count": 0
           },
           {
            "bin_start": 0.20000000000000007,
            "bin_end": 0.30000000000000004,
            "count": 0
           },
           {
            "bin_start": 0.30000000000000004,
            "bin_end": 0.4,
            "count": 0
           },
           {
            "bin_start": 0.4,
            "bin_end": 0.5,
            "count": 0
           }
          ]
         }
        },
        {
         "name": "housing_built_1939_or_earlier_normalised",
         "dtype": "float64",
         "stats": {
          "unique_count": 1,
          "nan_count": 7,
          "min": "0.0",
          "max": "0.0",
          "histogram": [
           {
            "bin_start": -0.5,
            "bin_end": -0.4,
            "count": 0
           },
           {
            "bin_start": -0.4,
            "bin_end": -0.3,
            "count": 0
           },
           {
            "bin_start": -0.3,
            "bin_end": -0.19999999999999996,
            "count": 0
           },
           {
            "bin_start": -0.19999999999999996,
            "bin_end": -0.09999999999999998,
            "count": 0
           },
           {
            "bin_start": -0.09999999999999998,
            "bin_end": 0,
            "count": 0
           },
           {
            "bin_start": 0,
            "bin_end": 0.10000000000000009,
            "count": 1
           },
           {
            "bin_start": 0.10000000000000009,
            "bin_end": 0.20000000000000007,
            "count": 0
           },
           {
            "bin_start": 0.20000000000000007,
            "bin_end": 0.30000000000000004,
            "count": 0
           },
           {
            "bin_start": 0.30000000000000004,
            "bin_end": 0.4,
            "count": 0
           },
           {
            "bin_start": 0.4,
            "bin_end": 0.5,
            "count": 0
           }
          ]
         }
        },
        {
         "name": "housing_built_2004_or_later_normalised",
         "dtype": "float64",
         "stats": {
          "unique_count": 1,
          "nan_count": 7,
          "min": "0.0",
          "max": "0.0",
          "histogram": [
           {
            "bin_start": -0.5,
            "bin_end": -0.4,
            "count": 0
           },
           {
            "bin_start": -0.4,
            "bin_end": -0.3,
            "count": 0
           },
           {
            "bin_start": -0.3,
            "bin_end": -0.19999999999999996,
            "count": 0
           },
           {
            "bin_start": -0.19999999999999996,
            "bin_end": -0.09999999999999998,
            "count": 0
           },
           {
            "bin_start": -0.09999999999999998,
            "bin_end": 0,
            "count": 0
           },
           {
            "bin_start": 0,
            "bin_end": 0.10000000000000009,
            "count": 1
           },
           {
            "bin_start": 0.10000000000000009,
            "bin_end": 0.20000000000000007,
            "count": 0
           },
           {
            "bin_start": 0.20000000000000007,
            "bin_end": 0.30000000000000004,
            "count": 0
           },
           {
            "bin_start": 0.30000000000000004,
            "bin_end": 0.4,
            "count": 0
           },
           {
            "bin_start": 0.4,
            "bin_end": 0.5,
            "count": 0
           }
          ]
         }
        },
        {
         "name": "children_in_single_female_hh_normalised",
         "dtype": "float64",
         "stats": {
          "unique_count": 1,
          "nan_count": 7,
          "min": "0.0",
          "max": "0.0",
          "histogram": [
           {
            "bin_start": -0.5,
            "bin_end": -0.4,
            "count": 0
           },
           {
            "bin_start": -0.4,
            "bin_end": -0.3,
            "count": 0
           },
           {
            "bin_start": -0.3,
            "bin_end": -0.19999999999999996,
            "count": 0
           },
           {
            "bin_start": -0.19999999999999996,
            "bin_end": -0.09999999999999998,
            "count": 0
           },
           {
            "bin_start": -0.09999999999999998,
            "bin_end": 0,
            "count": 0
           },
           {
            "bin_start": 0,
            "bin_end": 0.10000000000000009,
            "count": 1
           },
           {
            "bin_start": 0.10000000000000009,
            "bin_end": 0.20000000000000007,
            "count": 0
           },
           {
            "bin_start": 0.20000000000000007,
            "bin_end": 0.30000000000000004,
            "count": 0
           },
           {
            "bin_start": 0.30000000000000004,
            "bin_end": 0.4,
            "count": 0
           },
           {
            "bin_start": 0.4,
            "bin_end": 0.5,
            "count": 0
           }
          ]
         }
        },
        {
         "name": "rent_burden_not_computed_normalised",
         "dtype": "float64",
         "stats": {
          "unique_count": 1,
          "nan_count": 7,
          "min": "0.0",
          "max": "0.0",
          "histogram": [
           {
            "bin_start": -0.5,
            "bin_end": -0.4,
            "count": 0
           },
           {
            "bin_start": -0.4,
            "bin_end": -0.3,
            "count": 0
           },
           {
            "bin_start": -0.3,
            "bin_end": -0.19999999999999996,
            "count": 0
           },
           {
            "bin_start": -0.19999999999999996,
            "bin_end": -0.09999999999999998,
            "count": 0
           },
           {
            "bin_start": -0.09999999999999998,
            "bin_end": 0,
            "count": 0
           },
           {
            "bin_start": 0,
            "bin_end": 0.10000000000000009,
            "count": 1
           },
           {
            "bin_start": 0.10000000000000009,
            "bin_end": 0.20000000000000007,
            "count": 0
           },
           {
            "bin_start": 0.20000000000000007,
            "bin_end": 0.30000000000000004,
            "count": 0
           },
           {
            "bin_start": 0.30000000000000004,
            "bin_end": 0.4,
            "count": 0
           },
           {
            "bin_start": 0.4,
            "bin_end": 0.5,
            "count": 0
           }
          ]
         }
        },
        {
         "name": "rent_under_30_percent_normalised",
         "dtype": "float64",
         "stats": {
          "unique_count": 1,
          "nan_count": 7,
          "min": "0.0",
          "max": "0.0",
          "histogram": [
           {
            "bin_start": -0.5,
            "bin_end": -0.4,
            "count": 0
           },
           {
            "bin_start": -0.4,
            "bin_end": -0.3,
            "count": 0
           },
           {
            "bin_start": -0.3,
            "bin_end": -0.19999999999999996,
            "count": 0
           },
           {
            "bin_start": -0.19999999999999996,
            "bin_end": -0.09999999999999998,
            "count": 0
           },
           {
            "bin_start": -0.09999999999999998,
            "bin_end": 0,
            "count": 0
           },
           {
            "bin_start": 0,
            "bin_end": 0.10000000000000009,
            "count": 1
           },
           {
            "bin_start": 0.10000000000000009,
            "bin_end": 0.20000000000000007,
            "count": 0
           },
           {
            "bin_start": 0.20000000000000007,
            "bin_end": 0.30000000000000004,
            "count": 0
           },
           {
            "bin_start": 0.30000000000000004,
            "bin_end": 0.4,
            "count": 0
           },
           {
            "bin_start": 0.4,
            "bin_end": 0.5,
            "count": 0
           }
          ]
         }
        },
        {
         "name": "rent_30_to_50_percent_normalised",
         "dtype": "float64",
         "stats": {
          "unique_count": 1,
          "nan_count": 7,
          "min": "0.0",
          "max": "0.0",
          "histogram": [
           {
            "bin_start": -0.5,
            "bin_end": -0.4,
            "count": 0
           },
           {
            "bin_start": -0.4,
            "bin_end": -0.3,
            "count": 0
           },
           {
            "bin_start": -0.3,
            "bin_end": -0.19999999999999996,
            "count": 0
           },
           {
            "bin_start": -0.19999999999999996,
            "bin_end": -0.09999999999999998,
            "count": 0
           },
           {
            "bin_start": -0.09999999999999998,
            "bin_end": 0,
            "count": 0
           },
           {
            "bin_start": 0,
            "bin_end": 0.10000000000000009,
            "count": 1
           },
           {
            "bin_start": 0.10000000000000009,
            "bin_end": 0.20000000000000007,
            "count": 0
           },
           {
            "bin_start": 0.20000000000000007,
            "bin_end": 0.30000000000000004,
            "count": 0
           },
           {
            "bin_start": 0.30000000000000004,
            "bin_end": 0.4,
            "count": 0
           },
           {
            "bin_start": 0.4,
            "bin_end": 0.5,
            "count": 0
           }
          ]
         }
        },
        {
         "name": "rent_over_50_percent_normalised",
         "dtype": "float64",
         "stats": {
          "unique_count": 1,
          "nan_count": 7,
          "min": "0.0",
          "max": "0.0",
          "histogram": [
           {
            "bin_start": -0.5,
            "bin_end": -0.4,
            "count": 0
           },
           {
            "bin_start": -0.4,
            "bin_end": -0.3,
            "count": 0
           },
           {
            "bin_start": -0.3,
            "bin_end": -0.19999999999999996,
            "count": 0
           },
           {
            "bin_start": -0.19999999999999996,
            "bin_end": -0.09999999999999998,
            "count": 0
           },
           {
            "bin_start": -0.09999999999999998,
            "bin_end": 0,
            "count": 0
           },
           {
            "bin_start": 0,
            "bin_end": 0.10000000000000009,
            "count": 1
           },
           {
            "bin_start": 0.10000000000000009,
            "bin_end": 0.20000000000000007,
            "count": 0
           },
           {
            "bin_start": 0.20000000000000007,
            "bin_end": 0.30000000000000004,
            "count": 0
           },
           {
            "bin_start": 0.30000000000000004,
            "bin_end": 0.4,
            "count": 0
           },
           {
            "bin_start": 0.4,
            "bin_end": 0.5,
            "count": 0
           }
          ]
         }
        },
        {
         "name": "aggregate_travel_time_to_work_normalised",
         "dtype": "float64",
         "stats": {
          "unique_count": 1,
          "nan_count": 7,
          "min": "0.0",
          "max": "0.0",
          "histogram": [
           {
            "bin_start": -0.5,
            "bin_end": -0.4,
            "count": 0
           },
           {
            "bin_start": -0.4,
            "bin_end": -0.3,
            "count": 0
           },
           {
            "bin_start": -0.3,
            "bin_end": -0.19999999999999996,
            "count": 0
           },
           {
            "bin_start": -0.19999999999999996,
            "bin_end": -0.09999999999999998,
            "count": 0
           },
           {
            "bin_start": -0.09999999999999998,
            "bin_end": 0,
            "count": 0
           },
           {
            "bin_start": 0,
            "bin_end": 0.10000000000000009,
            "count": 1
           },
           {
            "bin_start": 0.10000000000000009,
            "bin_end": 0.20000000000000007,
            "count": 0
           },
           {
            "bin_start": 0.20000000000000007,
            "bin_end": 0.30000000000000004,
            "count": 0
           },
           {
            "bin_start": 0.30000000000000004,
            "bin_end": 0.4,
            "count": 0
           },
           {
            "bin_start": 0.4,
            "bin_end": 0.5,
            "count": 0
           }
          ]
         }
        },
        {
         "name": "walked_to_work_normalised",
         "dtype": "float64",
         "stats": {
          "unique_count": 1,
          "nan_count": 7,
          "min": "0.0",
          "max": "0.0",
          "histogram": [
           {
            "bin_start": -0.5,
            "bin_end": -0.4,
            "count": 0
           },
           {
            "bin_start": -0.4,
            "bin_end": -0.3,
            "count": 0
           },
           {
            "bin_start": -0.3,
            "bin_end": -0.19999999999999996,
            "count": 0
           },
           {
            "bin_start": -0.19999999999999996,
            "bin_end": -0.09999999999999998,
            "count": 0
           },
           {
            "bin_start": -0.09999999999999998,
            "bin_end": 0,
            "count": 0
           },
           {
            "bin_start": 0,
            "bin_end": 0.10000000000000009,
            "count": 1
           },
           {
            "bin_start": 0.10000000000000009,
            "bin_end": 0.20000000000000007,
            "count": 0
           },
           {
            "bin_start": 0.20000000000000007,
            "bin_end": 0.30000000000000004,
            "count": 0
           },
           {
            "bin_start": 0.30000000000000004,
            "bin_end": 0.4,
            "count": 0
           },
           {
            "bin_start": 0.4,
            "bin_end": 0.5,
            "count": 0
           }
          ]
         }
        },
        {
         "name": "worked_at_home_normalised",
         "dtype": "float64",
         "stats": {
          "unique_count": 1,
          "nan_count": 7,
          "min": "0.0",
          "max": "0.0",
          "histogram": [
           {
            "bin_start": -0.5,
            "bin_end": -0.4,
            "count": 0
           },
           {
            "bin_start": -0.4,
            "bin_end": -0.3,
            "count": 0
           },
           {
            "bin_start": -0.3,
            "bin_end": -0.19999999999999996,
            "count": 0
           },
           {
            "bin_start": -0.19999999999999996,
            "bin_end": -0.09999999999999998,
            "count": 0
           },
           {
            "bin_start": -0.09999999999999998,
            "bin_end": 0,
            "count": 0
           },
           {
            "bin_start": 0,
            "bin_end": 0.10000000000000009,
            "count": 1
           },
           {
            "bin_start": 0.10000000000000009,
            "bin_end": 0.20000000000000007,
            "count": 0
           },
           {
            "bin_start": 0.20000000000000007,
            "bin_end": 0.30000000000000004,
            "count": 0
           },
           {
            "bin_start": 0.30000000000000004,
            "bin_end": 0.4,
            "count": 0
           },
           {
            "bin_start": 0.4,
            "bin_end": 0.5,
            "count": 0
           }
          ]
         }
        },
        {
         "name": "no_car_normalised",
         "dtype": "float64",
         "stats": {
          "unique_count": 1,
          "nan_count": 7,
          "min": "0.0",
          "max": "0.0",
          "histogram": [
           {
            "bin_start": -0.5,
            "bin_end": -0.4,
            "count": 0
           },
           {
            "bin_start": -0.4,
            "bin_end": -0.3,
            "count": 0
           },
           {
            "bin_start": -0.3,
            "bin_end": -0.19999999999999996,
            "count": 0
           },
           {
            "bin_start": -0.19999999999999996,
            "bin_end": -0.09999999999999998,
            "count": 0
           },
           {
            "bin_start": -0.09999999999999998,
            "bin_end": 0,
            "count": 0
           },
           {
            "bin_start": 0,
            "bin_end": 0.10000000000000009,
            "count": 1
           },
           {
            "bin_start": 0.10000000000000009,
            "bin_end": 0.20000000000000007,
            "count": 0
           },
           {
            "bin_start": 0.20000000000000007,
            "bin_end": 0.30000000000000004,
            "count": 0
           },
           {
            "bin_start": 0.30000000000000004,
            "bin_end": 0.4,
            "count": 0
           },
           {
            "bin_start": 0.4,
            "bin_end": 0.5,
            "count": 0
           }
          ]
         }
        },
        {
         "name": "no_cars_normalised",
         "dtype": "float64",
         "stats": {
          "unique_count": 1,
          "nan_count": 7,
          "min": "0.0",
          "max": "0.0",
          "histogram": [
           {
            "bin_start": -0.5,
            "bin_end": -0.4,
            "count": 0
           },
           {
            "bin_start": -0.4,
            "bin_end": -0.3,
            "count": 0
           },
           {
            "bin_start": -0.3,
            "bin_end": -0.19999999999999996,
            "count": 0
           },
           {
            "bin_start": -0.19999999999999996,
            "bin_end": -0.09999999999999998,
            "count": 0
           },
           {
            "bin_start": -0.09999999999999998,
            "bin_end": 0,
            "count": 0
           },
           {
            "bin_start": 0,
            "bin_end": 0.10000000000000009,
            "count": 1
           },
           {
            "bin_start": 0.10000000000000009,
            "bin_end": 0.20000000000000007,
            "count": 0
           },
           {
            "bin_start": 0.20000000000000007,
            "bin_end": 0.30000000000000004,
            "count": 0
           },
           {
            "bin_start": 0.30000000000000004,
            "bin_end": 0.4,
            "count": 0
           },
           {
            "bin_start": 0.4,
            "bin_end": 0.5,
            "count": 0
           }
          ]
         }
        },
        {
         "name": "one_or_more_cars_normalised",
         "dtype": "float64",
         "stats": {
          "unique_count": 1,
          "nan_count": 7,
          "min": "0.0",
          "max": "0.0",
          "histogram": [
           {
            "bin_start": -0.5,
            "bin_end": -0.4,
            "count": 0
           },
           {
            "bin_start": -0.4,
            "bin_end": -0.3,
            "count": 0
           },
           {
            "bin_start": -0.3,
            "bin_end": -0.19999999999999996,
            "count": 0
           },
           {
            "bin_start": -0.19999999999999996,
            "bin_end": -0.09999999999999998,
            "count": 0
           },
           {
            "bin_start": -0.09999999999999998,
            "bin_end": 0,
            "count": 0
           },
           {
            "bin_start": 0,
            "bin_end": 0.10000000000000009,
            "count": 1
           },
           {
            "bin_start": 0.10000000000000009,
            "bin_end": 0.20000000000000007,
            "count": 0
           },
           {
            "bin_start": 0.20000000000000007,
            "bin_end": 0.30000000000000004,
            "count": 0
           },
           {
            "bin_start": 0.30000000000000004,
            "bin_end": 0.4,
            "count": 0
           },
           {
            "bin_start": 0.4,
            "bin_end": 0.5,
            "count": 0
           }
          ]
         }
        },
        {
         "name": "commuters_by_subway_or_elevated_normalised",
         "dtype": "float64",
         "stats": {
          "unique_count": 1,
          "nan_count": 7,
          "min": "0.0",
          "max": "0.0",
          "histogram": [
           {
            "bin_start": -0.5,
            "bin_end": -0.4,
            "count": 0
           },
           {
            "bin_start": -0.4,
            "bin_end": -0.3,
            "count": 0
           },
           {
            "bin_start": -0.3,
            "bin_end": -0.19999999999999996,
            "count": 0
           },
           {
            "bin_start": -0.19999999999999996,
            "bin_end": -0.09999999999999998,
            "count": 0
           },
           {
            "bin_start": -0.09999999999999998,
            "bin_end": 0,
            "count": 0
           },
           {
            "bin_start": 0,
            "bin_end": 0.10000000000000009,
            "count": 1
           },
           {
            "bin_start": 0.10000000000000009,
            "bin_end": 0.20000000000000007,
            "count": 0
           },
           {
            "bin_start": 0.20000000000000007,
            "bin_end": 0.30000000000000004,
            "count": 0
           },
           {
            "bin_start": 0.30000000000000004,
            "bin_end": 0.4,
            "count": 0
           },
           {
            "bin_start": 0.4,
            "bin_end": 0.5,
            "count": 0
           }
          ]
         }
        },
        {
         "name": "commuters_by_bus_normalised",
         "dtype": "float64",
         "stats": {
          "unique_count": 1,
          "nan_count": 7,
          "min": "0.0",
          "max": "0.0",
          "histogram": [
           {
            "bin_start": -0.5,
            "bin_end": -0.4,
            "count": 0
           },
           {
            "bin_start": -0.4,
            "bin_end": -0.3,
            "count": 0
           },
           {
            "bin_start": -0.3,
            "bin_end": -0.19999999999999996,
            "count": 0
           },
           {
            "bin_start": -0.19999999999999996,
            "bin_end": -0.09999999999999998,
            "count": 0
           },
           {
            "bin_start": -0.09999999999999998,
            "bin_end": 0,
            "count": 0
           },
           {
            "bin_start": 0,
            "bin_end": 0.10000000000000009,
            "count": 1
           },
           {
            "bin_start": 0.10000000000000009,
            "bin_end": 0.20000000000000007,
            "count": 0
           },
           {
            "bin_start": 0.20000000000000007,
            "bin_end": 0.30000000000000004,
            "count": 0
           },
           {
            "bin_start": 0.30000000000000004,
            "bin_end": 0.4,
            "count": 0
           },
           {
            "bin_start": 0.4,
            "bin_end": 0.5,
            "count": 0
           }
          ]
         }
        },
        {
         "name": "commuters_personal_transport_normalised",
         "dtype": "float64",
         "stats": {
          "unique_count": 1,
          "nan_count": 7,
          "min": "0.0",
          "max": "0.0",
          "histogram": [
           {
            "bin_start": -0.5,
            "bin_end": -0.4,
            "count": 0
           },
           {
            "bin_start": -0.4,
            "bin_end": -0.3,
            "count": 0
           },
           {
            "bin_start": -0.3,
            "bin_end": -0.19999999999999996,
            "count": 0
           },
           {
            "bin_start": -0.19999999999999996,
            "bin_end": -0.09999999999999998,
            "count": 0
           },
           {
            "bin_start": -0.09999999999999998,
            "bin_end": 0,
            "count": 0
           },
           {
            "bin_start": 0,
            "bin_end": 0.10000000000000009,
            "count": 1
           },
           {
            "bin_start": 0.10000000000000009,
            "bin_end": 0.20000000000000007,
            "count": 0
           },
           {
            "bin_start": 0.20000000000000007,
            "bin_end": 0.30000000000000004,
            "count": 0
           },
           {
            "bin_start": 0.30000000000000004,
            "bin_end": 0.4,
            "count": 0
           },
           {
            "bin_start": 0.4,
            "bin_end": 0.5,
            "count": 0
           }
          ]
         }
        },
        {
         "name": "education_high_school_or_less_normalised",
         "dtype": "float64",
         "stats": {
          "unique_count": 1,
          "nan_count": 7,
          "min": "0.0",
          "max": "0.0",
          "histogram": [
           {
            "bin_start": -0.5,
            "bin_end": -0.4,
            "count": 0
           },
           {
            "bin_start": -0.4,
            "bin_end": -0.3,
            "count": 0
           },
           {
            "bin_start": -0.3,
            "bin_end": -0.19999999999999996,
            "count": 0
           },
           {
            "bin_start": -0.19999999999999996,
            "bin_end": -0.09999999999999998,
            "count": 0
           },
           {
            "bin_start": -0.09999999999999998,
            "bin_end": 0,
            "count": 0
           },
           {
            "bin_start": 0,
            "bin_end": 0.10000000000000009,
            "count": 1
           },
           {
            "bin_start": 0.10000000000000009,
            "bin_end": 0.20000000000000007,
            "count": 0
           },
           {
            "bin_start": 0.20000000000000007,
            "bin_end": 0.30000000000000004,
            "count": 0
           },
           {
            "bin_start": 0.30000000000000004,
            "bin_end": 0.4,
            "count": 0
           },
           {
            "bin_start": 0.4,
            "bin_end": 0.5,
            "count": 0
           }
          ]
         }
        },
        {
         "name": "education_less_than_bachelors_normalised",
         "dtype": "float64",
         "stats": {
          "unique_count": 1,
          "nan_count": 7,
          "min": "0.0",
          "max": "0.0",
          "histogram": [
           {
            "bin_start": -0.5,
            "bin_end": -0.4,
            "count": 0
           },
           {
            "bin_start": -0.4,
            "bin_end": -0.3,
            "count": 0
           },
           {
            "bin_start": -0.3,
            "bin_end": -0.19999999999999996,
            "count": 0
           },
           {
            "bin_start": -0.19999999999999996,
            "bin_end": -0.09999999999999998,
            "count": 0
           },
           {
            "bin_start": -0.09999999999999998,
            "bin_end": 0,
            "count": 0
           },
           {
            "bin_start": 0,
            "bin_end": 0.10000000000000009,
            "count": 1
           },
           {
            "bin_start": 0.10000000000000009,
            "bin_end": 0.20000000000000007,
            "count": 0
           },
           {
            "bin_start": 0.20000000000000007,
            "bin_end": 0.30000000000000004,
            "count": 0
           },
           {
            "bin_start": 0.30000000000000004,
            "bin_end": 0.4,
            "count": 0
           },
           {
            "bin_start": 0.4,
            "bin_end": 0.5,
            "count": 0
           }
          ]
         }
        },
        {
         "name": "education_bachelors_degree_normalised",
         "dtype": "float64",
         "stats": {
          "unique_count": 1,
          "nan_count": 7,
          "min": "0.0",
          "max": "0.0",
          "histogram": [
           {
            "bin_start": -0.5,
            "bin_end": -0.4,
            "count": 0
           },
           {
            "bin_start": -0.4,
            "bin_end": -0.3,
            "count": 0
           },
           {
            "bin_start": -0.3,
            "bin_end": -0.19999999999999996,
            "count": 0
           },
           {
            "bin_start": -0.19999999999999996,
            "bin_end": -0.09999999999999998,
            "count": 0
           },
           {
            "bin_start": -0.09999999999999998,
            "bin_end": 0,
            "count": 0
           },
           {
            "bin_start": 0,
            "bin_end": 0.10000000000000009,
            "count": 1
           },
           {
            "bin_start": 0.10000000000000009,
            "bin_end": 0.20000000000000007,
            "count": 0
           },
           {
            "bin_start": 0.20000000000000007,
            "bin_end": 0.30000000000000004,
            "count": 0
           },
           {
            "bin_start": 0.30000000000000004,
            "bin_end": 0.4,
            "count": 0
           },
           {
            "bin_start": 0.4,
            "bin_end": 0.5,
            "count": 0
           }
          ]
         }
        },
        {
         "name": "education_graduate_degree_normalised",
         "dtype": "float64",
         "stats": {
          "unique_count": 1,
          "nan_count": 7,
          "min": "0.0",
          "max": "0.0",
          "histogram": [
           {
            "bin_start": -0.5,
            "bin_end": -0.4,
            "count": 0
           },
           {
            "bin_start": -0.4,
            "bin_end": -0.3,
            "count": 0
           },
           {
            "bin_start": -0.3,
            "bin_end": -0.19999999999999996,
            "count": 0
           },
           {
            "bin_start": -0.19999999999999996,
            "bin_end": -0.09999999999999998,
            "count": 0
           },
           {
            "bin_start": -0.09999999999999998,
            "bin_end": 0,
            "count": 0
           },
           {
            "bin_start": 0,
            "bin_end": 0.10000000000000009,
            "count": 1
           },
           {
            "bin_start": 0.10000000000000009,
            "bin_end": 0.20000000000000007,
            "count": 0
           },
           {
            "bin_start": 0.20000000000000007,
            "bin_end": 0.30000000000000004,
            "count": 0
           },
           {
            "bin_start": 0.30000000000000004,
            "bin_end": 0.4,
            "count": 0
           },
           {
            "bin_start": 0.4,
            "bin_end": 0.5,
            "count": 0
           }
          ]
         }
        },
        {
         "name": "income_less_14999_normalised",
         "dtype": "float64",
         "stats": {
          "unique_count": 1,
          "nan_count": 7,
          "min": "0.0",
          "max": "0.0",
          "histogram": [
           {
            "bin_start": -0.5,
            "bin_end": -0.4,
            "count": 0
           },
           {
            "bin_start": -0.4,
            "bin_end": -0.3,
            "count": 0
           },
           {
            "bin_start": -0.3,
            "bin_end": -0.19999999999999996,
            "count": 0
           },
           {
            "bin_start": -0.19999999999999996,
            "bin_end": -0.09999999999999998,
            "count": 0
           },
           {
            "bin_start": -0.09999999999999998,
            "bin_end": 0,
            "count": 0
           },
           {
            "bin_start": 0,
            "bin_end": 0.10000000000000009,
            "count": 1
           },
           {
            "bin_start": 0.10000000000000009,
            "bin_end": 0.20000000000000007,
            "count": 0
           },
           {
            "bin_start": 0.20000000000000007,
            "bin_end": 0.30000000000000004,
            "count": 0
           },
           {
            "bin_start": 0.30000000000000004,
            "bin_end": 0.4,
            "count": 0
           },
           {
            "bin_start": 0.4,
            "bin_end": 0.5,
            "count": 0
           }
          ]
         }
        },
        {
         "name": "income_15000_24999_normalised",
         "dtype": "float64",
         "stats": {
          "unique_count": 1,
          "nan_count": 7,
          "min": "0.0",
          "max": "0.0",
          "histogram": [
           {
            "bin_start": -0.5,
            "bin_end": -0.4,
            "count": 0
           },
           {
            "bin_start": -0.4,
            "bin_end": -0.3,
            "count": 0
           },
           {
            "bin_start": -0.3,
            "bin_end": -0.19999999999999996,
            "count": 0
           },
           {
            "bin_start": -0.19999999999999996,
            "bin_end": -0.09999999999999998,
            "count": 0
           },
           {
            "bin_start": -0.09999999999999998,
            "bin_end": 0,
            "count": 0
           },
           {
            "bin_start": 0,
            "bin_end": 0.10000000000000009,
            "count": 1
           },
           {
            "bin_start": 0.10000000000000009,
            "bin_end": 0.20000000000000007,
            "count": 0
           },
           {
            "bin_start": 0.20000000000000007,
            "bin_end": 0.30000000000000004,
            "count": 0
           },
           {
            "bin_start": 0.30000000000000004,
            "bin_end": 0.4,
            "count": 0
           },
           {
            "bin_start": 0.4,
            "bin_end": 0.5,
            "count": 0
           }
          ]
         }
        },
        {
         "name": "income_25000_34999_normalised",
         "dtype": "float64",
         "stats": {
          "unique_count": 1,
          "nan_count": 7,
          "min": "0.0",
          "max": "0.0",
          "histogram": [
           {
            "bin_start": -0.5,
            "bin_end": -0.4,
            "count": 0
           },
           {
            "bin_start": -0.4,
            "bin_end": -0.3,
            "count": 0
           },
           {
            "bin_start": -0.3,
            "bin_end": -0.19999999999999996,
            "count": 0
           },
           {
            "bin_start": -0.19999999999999996,
            "bin_end": -0.09999999999999998,
            "count": 0
           },
           {
            "bin_start": -0.09999999999999998,
            "bin_end": 0,
            "count": 0
           },
           {
            "bin_start": 0,
            "bin_end": 0.10000000000000009,
            "count": 1
           },
           {
            "bin_start": 0.10000000000000009,
            "bin_end": 0.20000000000000007,
            "count": 0
           },
           {
            "bin_start": 0.20000000000000007,
            "bin_end": 0.30000000000000004,
            "count": 0
           },
           {
            "bin_start": 0.30000000000000004,
            "bin_end": 0.4,
            "count": 0
           },
           {
            "bin_start": 0.4,
            "bin_end": 0.5,
            "count": 0
           }
          ]
         }
        },
        {
         "name": "income_35000_59999_normalised",
         "dtype": "float64",
         "stats": {
          "unique_count": 1,
          "nan_count": 7,
          "min": "0.0",
          "max": "0.0",
          "histogram": [
           {
            "bin_start": -0.5,
            "bin_end": -0.4,
            "count": 0
           },
           {
            "bin_start": -0.4,
            "bin_end": -0.3,
            "count": 0
           },
           {
            "bin_start": -0.3,
            "bin_end": -0.19999999999999996,
            "count": 0
           },
           {
            "bin_start": -0.19999999999999996,
            "bin_end": -0.09999999999999998,
            "count": 0
           },
           {
            "bin_start": -0.09999999999999998,
            "bin_end": 0,
            "count": 0
           },
           {
            "bin_start": 0,
            "bin_end": 0.10000000000000009,
            "count": 1
           },
           {
            "bin_start": 0.10000000000000009,
            "bin_end": 0.20000000000000007,
            "count": 0
           },
           {
            "bin_start": 0.20000000000000007,
            "bin_end": 0.30000000000000004,
            "count": 0
           },
           {
            "bin_start": 0.30000000000000004,
            "bin_end": 0.4,
            "count": 0
           },
           {
            "bin_start": 0.4,
            "bin_end": 0.5,
            "count": 0
           }
          ]
         }
        },
        {
         "name": "income_60000_99999_normalised",
         "dtype": "float64",
         "stats": {
          "unique_count": 1,
          "nan_count": 7,
          "min": "0.0",
          "max": "0.0",
          "histogram": [
           {
            "bin_start": -0.5,
            "bin_end": -0.4,
            "count": 0
           },
           {
            "bin_start": -0.4,
            "bin_end": -0.3,
            "count": 0
           },
           {
            "bin_start": -0.3,
            "bin_end": -0.19999999999999996,
            "count": 0
           },
           {
            "bin_start": -0.19999999999999996,
            "bin_end": -0.09999999999999998,
            "count": 0
           },
           {
            "bin_start": -0.09999999999999998,
            "bin_end": 0,
            "count": 0
           },
           {
            "bin_start": 0,
            "bin_end": 0.10000000000000009,
            "count": 1
           },
           {
            "bin_start": 0.10000000000000009,
            "bin_end": 0.20000000000000007,
            "count": 0
           },
           {
            "bin_start": 0.20000000000000007,
            "bin_end": 0.30000000000000004,
            "count": 0
           },
           {
            "bin_start": 0.30000000000000004,
            "bin_end": 0.4,
            "count": 0
           },
           {
            "bin_start": 0.4,
            "bin_end": 0.5,
            "count": 0
           }
          ]
         }
        },
        {
         "name": "income_100000_199999_normalised",
         "dtype": "float64",
         "stats": {
          "unique_count": 1,
          "nan_count": 7,
          "min": "0.0",
          "max": "0.0",
          "histogram": [
           {
            "bin_start": -0.5,
            "bin_end": -0.4,
            "count": 0
           },
           {
            "bin_start": -0.4,
            "bin_end": -0.3,
            "count": 0
           },
           {
            "bin_start": -0.3,
            "bin_end": -0.19999999999999996,
            "count": 0
           },
           {
            "bin_start": -0.19999999999999996,
            "bin_end": -0.09999999999999998,
            "count": 0
           },
           {
            "bin_start": -0.09999999999999998,
            "bin_end": 0,
            "count": 0
           },
           {
            "bin_start": 0,
            "bin_end": 0.10000000000000009,
            "count": 1
           },
           {
            "bin_start": 0.10000000000000009,
            "bin_end": 0.20000000000000007,
            "count": 0
           },
           {
            "bin_start": 0.20000000000000007,
            "bin_end": 0.30000000000000004,
            "count": 0
           },
           {
            "bin_start": 0.30000000000000004,
            "bin_end": 0.4,
            "count": 0
           },
           {
            "bin_start": 0.4,
            "bin_end": 0.5,
            "count": 0
           }
          ]
         }
        },
        {
         "name": "income_200000_or_more_normalised",
         "dtype": "float64",
         "stats": {
          "unique_count": 1,
          "nan_count": 7,
          "min": "0.0",
          "max": "0.0",
          "histogram": [
           {
            "bin_start": -0.5,
            "bin_end": -0.4,
            "count": 0
           },
           {
            "bin_start": -0.4,
            "bin_end": -0.3,
            "count": 0
           },
           {
            "bin_start": -0.3,
            "bin_end": -0.19999999999999996,
            "count": 0
           },
           {
            "bin_start": -0.19999999999999996,
            "bin_end": -0.09999999999999998,
            "count": 0
           },
           {
            "bin_start": -0.09999999999999998,
            "bin_end": 0,
            "count": 0
           },
           {
            "bin_start": 0,
            "bin_end": 0.10000000000000009,
            "count": 1
           },
           {
            "bin_start": 0.10000000000000009,
            "bin_end": 0.20000000000000007,
            "count": 0
           },
           {
            "bin_start": 0.20000000000000007,
            "bin_end": 0.30000000000000004,
            "count": 0
           },
           {
            "bin_start": 0.30000000000000004,
            "bin_end": 0.4,
            "count": 0
           },
           {
            "bin_start": 0.4,
            "bin_end": 0.5,
            "count": 0
           }
          ]
         }
        },
        {
         "name": "million_dollar_housing_units_normalised",
         "dtype": "float64",
         "stats": {
          "unique_count": 1,
          "nan_count": 7,
          "min": "0.0",
          "max": "0.0",
          "histogram": [
           {
            "bin_start": -0.5,
            "bin_end": -0.4,
            "count": 0
           },
           {
            "bin_start": -0.4,
            "bin_end": -0.3,
            "count": 0
           },
           {
            "bin_start": -0.3,
            "bin_end": -0.19999999999999996,
            "count": 0
           },
           {
            "bin_start": -0.19999999999999996,
            "bin_end": -0.09999999999999998,
            "count": 0
           },
           {
            "bin_start": -0.09999999999999998,
            "bin_end": 0,
            "count": 0
           },
           {
            "bin_start": 0,
            "bin_end": 0.10000000000000009,
            "count": 1
           },
           {
            "bin_start": 0.10000000000000009,
            "bin_end": 0.20000000000000007,
            "count": 0
           },
           {
            "bin_start": 0.20000000000000007,
            "bin_end": 0.30000000000000004,
            "count": 0
           },
           {
            "bin_start": 0.30000000000000004,
            "bin_end": 0.4,
            "count": 0
           },
           {
            "bin_start": 0.4,
            "bin_end": 0.5,
            "count": 0
           }
          ]
         }
        },
        {
         "name": "mortgaged_housing_units_normalised",
         "dtype": "float64",
         "stats": {
          "unique_count": 1,
          "nan_count": 7,
          "min": "0.0",
          "max": "0.0",
          "histogram": [
           {
            "bin_start": -0.5,
            "bin_end": -0.4,
            "count": 0
           },
           {
            "bin_start": -0.4,
            "bin_end": -0.3,
            "count": 0
           },
           {
            "bin_start": -0.3,
            "bin_end": -0.19999999999999996,
            "count": 0
           },
           {
            "bin_start": -0.19999999999999996,
            "bin_end": -0.09999999999999998,
            "count": 0
           },
           {
            "bin_start": -0.09999999999999998,
            "bin_end": 0,
            "count": 0
           },
           {
            "bin_start": 0,
            "bin_end": 0.10000000000000009,
            "count": 1
           },
           {
            "bin_start": 0.10000000000000009,
            "bin_end": 0.20000000000000007,
            "count": 0
           },
           {
            "bin_start": 0.20000000000000007,
            "bin_end": 0.30000000000000004,
            "count": 0
           },
           {
            "bin_start": 0.30000000000000004,
            "bin_end": 0.4,
            "count": 0
           },
           {
            "bin_start": 0.4,
            "bin_end": 0.5,
            "count": 0
           }
          ]
         }
        },
        {
         "name": "owner_occupied_housing_units_normalised",
         "dtype": "float64",
         "stats": {
          "unique_count": 1,
          "nan_count": 7,
          "min": "0.0",
          "max": "0.0",
          "histogram": [
           {
            "bin_start": -0.5,
            "bin_end": -0.4,
            "count": 0
           },
           {
            "bin_start": -0.4,
            "bin_end": -0.3,
            "count": 0
           },
           {
            "bin_start": -0.3,
            "bin_end": -0.19999999999999996,
            "count": 0
           },
           {
            "bin_start": -0.19999999999999996,
            "bin_end": -0.09999999999999998,
            "count": 0
           },
           {
            "bin_start": -0.09999999999999998,
            "bin_end": 0,
            "count": 0
           },
           {
            "bin_start": 0,
            "bin_end": 0.10000000000000009,
            "count": 1
           },
           {
            "bin_start": 0.10000000000000009,
            "bin_end": 0.20000000000000007,
            "count": 0
           },
           {
            "bin_start": 0.20000000000000007,
            "bin_end": 0.30000000000000004,
            "count": 0
           },
           {
            "bin_start": 0.30000000000000004,
            "bin_end": 0.4,
            "count": 0
           },
           {
            "bin_start": 0.4,
            "bin_end": 0.5,
            "count": 0
           }
          ]
         }
        },
        {
         "name": "employed_pop_normalised",
         "dtype": "float64",
         "stats": {
          "unique_count": 1,
          "nan_count": 7,
          "min": "0.0",
          "max": "0.0",
          "histogram": [
           {
            "bin_start": -0.5,
            "bin_end": -0.4,
            "count": 0
           },
           {
            "bin_start": -0.4,
            "bin_end": -0.3,
            "count": 0
           },
           {
            "bin_start": -0.3,
            "bin_end": -0.19999999999999996,
            "count": 0
           },
           {
            "bin_start": -0.19999999999999996,
            "bin_end": -0.09999999999999998,
            "count": 0
           },
           {
            "bin_start": -0.09999999999999998,
            "bin_end": 0,
            "count": 0
           },
           {
            "bin_start": 0,
            "bin_end": 0.10000000000000009,
            "count": 1
           },
           {
            "bin_start": 0.10000000000000009,
            "bin_end": 0.20000000000000007,
            "count": 0
           },
           {
            "bin_start": 0.20000000000000007,
            "bin_end": 0.30000000000000004,
            "count": 0
           },
           {
            "bin_start": 0.30000000000000004,
            "bin_end": 0.4,
            "count": 0
           },
           {
            "bin_start": 0.4,
            "bin_end": 0.5,
            "count": 0
           }
          ]
         }
        },
        {
         "name": "unemployed_pop_normalised",
         "dtype": "float64",
         "stats": {
          "unique_count": 1,
          "nan_count": 7,
          "min": "0.0",
          "max": "0.0",
          "histogram": [
           {
            "bin_start": -0.5,
            "bin_end": -0.4,
            "count": 0
           },
           {
            "bin_start": -0.4,
            "bin_end": -0.3,
            "count": 0
           },
           {
            "bin_start": -0.3,
            "bin_end": -0.19999999999999996,
            "count": 0
           },
           {
            "bin_start": -0.19999999999999996,
            "bin_end": -0.09999999999999998,
            "count": 0
           },
           {
            "bin_start": -0.09999999999999998,
            "bin_end": 0,
            "count": 0
           },
           {
            "bin_start": 0,
            "bin_end": 0.10000000000000009,
            "count": 1
           },
           {
            "bin_start": 0.10000000000000009,
            "bin_end": 0.20000000000000007,
            "count": 0
           },
           {
            "bin_start": 0.20000000000000007,
            "bin_end": 0.30000000000000004,
            "count": 0
           },
           {
            "bin_start": 0.30000000000000004,
            "bin_end": 0.4,
            "count": 0
           },
           {
            "bin_start": 0.4,
            "bin_end": 0.5,
            "count": 0
           }
          ]
         }
        },
        {
         "name": "reweighted_redline_index_y",
         "dtype": "float64",
         "stats": {
          "unique_count": 1,
          "nan_count": 7,
          "min": "0.0",
          "max": "0.0",
          "histogram": [
           {
            "bin_start": -0.5,
            "bin_end": -0.4,
            "count": 0
           },
           {
            "bin_start": -0.4,
            "bin_end": -0.3,
            "count": 0
           },
           {
            "bin_start": -0.3,
            "bin_end": -0.19999999999999996,
            "count": 0
           },
           {
            "bin_start": -0.19999999999999996,
            "bin_end": -0.09999999999999998,
            "count": 0
           },
           {
            "bin_start": -0.09999999999999998,
            "bin_end": 0,
            "count": 0
           },
           {
            "bin_start": 0,
            "bin_end": 0.10000000000000009,
            "count": 1
           },
           {
            "bin_start": 0.10000000000000009,
            "bin_end": 0.20000000000000007,
            "count": 0
           },
           {
            "bin_start": 0.20000000000000007,
            "bin_end": 0.30000000000000004,
            "count": 0
           },
           {
            "bin_start": 0.30000000000000004,
            "bin_end": 0.4,
            "count": 0
           },
           {
            "bin_start": 0.4,
            "bin_end": 0.5,
            "count": 0
           }
          ]
         }
        },
        {
         "name": "ordinal_value",
         "dtype": "float64",
         "stats": {
          "unique_count": 1,
          "nan_count": 7,
          "min": "0.0",
          "max": "0.0",
          "histogram": [
           {
            "bin_start": -0.5,
            "bin_end": -0.4,
            "count": 0
           },
           {
            "bin_start": -0.4,
            "bin_end": -0.3,
            "count": 0
           },
           {
            "bin_start": -0.3,
            "bin_end": -0.19999999999999996,
            "count": 0
           },
           {
            "bin_start": -0.19999999999999996,
            "bin_end": -0.09999999999999998,
            "count": 0
           },
           {
            "bin_start": -0.09999999999999998,
            "bin_end": 0,
            "count": 0
           },
           {
            "bin_start": 0,
            "bin_end": 0.10000000000000009,
            "count": 1
           },
           {
            "bin_start": 0.10000000000000009,
            "bin_end": 0.20000000000000007,
            "count": 0
           },
           {
            "bin_start": 0.20000000000000007,
            "bin_end": 0.30000000000000004,
            "count": 0
           },
           {
            "bin_start": 0.30000000000000004,
            "bin_end": 0.4,
            "count": 0
           },
           {
            "bin_start": 0.4,
            "bin_end": 0.5,
            "count": 0
           }
          ]
         }
        },
        {
         "name": "longitude",
         "dtype": "float64",
         "stats": {
          "unique_count": 1,
          "nan_count": 7,
          "min": "0.0",
          "max": "0.0",
          "histogram": [
           {
            "bin_start": -0.5,
            "bin_end": -0.4,
            "count": 0
           },
           {
            "bin_start": -0.4,
            "bin_end": -0.3,
            "count": 0
           },
           {
            "bin_start": -0.3,
            "bin_end": -0.19999999999999996,
            "count": 0
           },
           {
            "bin_start": -0.19999999999999996,
            "bin_end": -0.09999999999999998,
            "count": 0
           },
           {
            "bin_start": -0.09999999999999998,
            "bin_end": 0,
            "count": 0
           },
           {
            "bin_start": 0,
            "bin_end": 0.10000000000000009,
            "count": 1
           },
           {
            "bin_start": 0.10000000000000009,
            "bin_end": 0.20000000000000007,
            "count": 0
           },
           {
            "bin_start": 0.20000000000000007,
            "bin_end": 0.30000000000000004,
            "count": 0
           },
           {
            "bin_start": 0.30000000000000004,
            "bin_end": 0.4,
            "count": 0
           },
           {
            "bin_start": 0.4,
            "bin_end": 0.5,
            "count": 0
           }
          ]
         }
        },
        {
         "name": "latitude",
         "dtype": "float64",
         "stats": {
          "unique_count": 1,
          "nan_count": 7,
          "min": "0.0",
          "max": "0.0",
          "histogram": [
           {
            "bin_start": -0.5,
            "bin_end": -0.4,
            "count": 0
           },
           {
            "bin_start": -0.4,
            "bin_end": -0.3,
            "count": 0
           },
           {
            "bin_start": -0.3,
            "bin_end": -0.19999999999999996,
            "count": 0
           },
           {
            "bin_start": -0.19999999999999996,
            "bin_end": -0.09999999999999998,
            "count": 0
           },
           {
            "bin_start": -0.09999999999999998,
            "bin_end": 0,
            "count": 0
           },
           {
            "bin_start": 0,
            "bin_end": 0.10000000000000009,
            "count": 1
           },
           {
            "bin_start": 0.10000000000000009,
            "bin_end": 0.20000000000000007,
            "count": 0
           },
           {
            "bin_start": 0.20000000000000007,
            "bin_end": 0.30000000000000004,
            "count": 0
           },
           {
            "bin_start": 0.30000000000000004,
            "bin_end": 0.4,
            "count": 0
           },
           {
            "bin_start": 0.4,
            "bin_end": 0.5,
            "count": 0
           }
          ]
         }
        },
        {
         "name": "_deepnote_index_column",
         "dtype": "object"
        }
       ],
       "rows_top": [
        {
         "GEOID": 0,
         "reweighted_redline_index_x": 0,
         "total_pop": 0,
         "households": 0,
         "median_age": 0,
         "median_income": 0,
         "income_per_capita": 0,
         "gini_index": 0,
         "housing_units": 0,
         "renter_occupied_housing_units_paying_cash_median_gross_rent": 0,
         "owner_occupied_housing_units_lower_value_quartile": 0,
         "owner_occupied_housing_units_median_value": 0,
         "owner_occupied_housing_units_upper_value_quartile": 0,
         "median_year_structure_built": 0,
         "median_rent": 0,
         "percent_income_spent_on_rent": 0,
         "bachelors_degree_or_higher_25_64": 0,
         "aged_65_or_older_normalised": 0,
         "aged_17_or_younger_normalised": 0,
         "multi_unit_structures_normalised": 0,
         "poverty_normalised": 0,
         "households_public_asst_or_food_stamps_normalised": 0,
         "black_pop_normalised": 0,
         "asian_pop_normalised": 0,
         "hispanic_pop_normalised": 0,
         "amerindian_pop_normalised": 0,
         "white_pop_normalised": 0,
         "non_white_pop_normalised": 0,
         "other_race_pop_normalised": 0,
         "male_pop_normalised": 0,
         "female_pop_normalised": 0,
         "pop_currently_unmarried_normalised": 0,
         "pop_now_married_normalised": 0,
         "not_us_citizen_pop_normalised": 0,
         "children_normalised": 0,
         "married_households_normalised": 0,
         "nonfamily_households_normalised": 0,
         "family_households_normalised": 0,
         "occupied_housing_units_normalised": 0,
         "housing_units_renter_occupied_normalised": 0,
         "vacant_housing_units_normalised": 0,
         "vacant_housing_units_for_rent_normalised": 0,
         "vacant_housing_units_for_sale_normalised": 0,
         "mobile_homes_normalised": 0,
         "group_quarters_normalised": 0,
         "housing_built_1939_or_earlier_normalised": 0,
         "housing_built_2004_or_later_normalised": 0,
         "children_in_single_female_hh_normalised": 0,
         "rent_burden_not_computed_normalised": 0,
         "rent_under_30_percent_normalised": 0,
         "rent_30_to_50_percent_normalised": 0,
         "rent_over_50_percent_normalised": 0,
         "aggregate_travel_time_to_work_normalised": 0,
         "walked_to_work_normalised": 0,
         "worked_at_home_normalised": 0,
         "no_car_normalised": 0,
         "no_cars_normalised": 0,
         "one_or_more_cars_normalised": 0,
         "commuters_by_subway_or_elevated_normalised": 0,
         "commuters_by_bus_normalised": 0,
         "commuters_personal_transport_normalised": 0,
         "education_high_school_or_less_normalised": 0,
         "education_less_than_bachelors_normalised": 0,
         "education_bachelors_degree_normalised": 0,
         "education_graduate_degree_normalised": 0,
         "income_less_14999_normalised": 0,
         "income_15000_24999_normalised": 0,
         "income_25000_34999_normalised": 0,
         "income_35000_59999_normalised": 0,
         "income_60000_99999_normalised": 0,
         "income_100000_199999_normalised": 0,
         "income_200000_or_more_normalised": 0,
         "million_dollar_housing_units_normalised": 0,
         "mortgaged_housing_units_normalised": 0,
         "owner_occupied_housing_units_normalised": 0,
         "employed_pop_normalised": 0,
         "unemployed_pop_normalised": 0,
         "reweighted_redline_index_y": 0,
         "ordinal_value": 0,
         "longitude": 0,
         "latitude": 0,
         "_deepnote_index_column": "count"
        },
        {
         "GEOID": "nan",
         "reweighted_redline_index_x": "nan",
         "total_pop": "nan",
         "households": "nan",
         "median_age": "nan",
         "median_income": "nan",
         "income_per_capita": "nan",
         "gini_index": "nan",
         "housing_units": "nan",
         "renter_occupied_housing_units_paying_cash_median_gross_rent": "nan",
         "owner_occupied_housing_units_lower_value_quartile": "nan",
         "owner_occupied_housing_units_median_value": "nan",
         "owner_occupied_housing_units_upper_value_quartile": "nan",
         "median_year_structure_built": "nan",
         "median_rent": "nan",
         "percent_income_spent_on_rent": "nan",
         "bachelors_degree_or_higher_25_64": "nan",
         "aged_65_or_older_normalised": "nan",
         "aged_17_or_younger_normalised": "nan",
         "multi_unit_structures_normalised": "nan",
         "poverty_normalised": "nan",
         "households_public_asst_or_food_stamps_normalised": "nan",
         "black_pop_normalised": "nan",
         "asian_pop_normalised": "nan",
         "hispanic_pop_normalised": "nan",
         "amerindian_pop_normalised": "nan",
         "white_pop_normalised": "nan",
         "non_white_pop_normalised": "nan",
         "other_race_pop_normalised": "nan",
         "male_pop_normalised": "nan",
         "female_pop_normalised": "nan",
         "pop_currently_unmarried_normalised": "nan",
         "pop_now_married_normalised": "nan",
         "not_us_citizen_pop_normalised": "nan",
         "children_normalised": "nan",
         "married_households_normalised": "nan",
         "nonfamily_households_normalised": "nan",
         "family_households_normalised": "nan",
         "occupied_housing_units_normalised": "nan",
         "housing_units_renter_occupied_normalised": "nan",
         "vacant_housing_units_normalised": "nan",
         "vacant_housing_units_for_rent_normalised": "nan",
         "vacant_housing_units_for_sale_normalised": "nan",
         "mobile_homes_normalised": "nan",
         "group_quarters_normalised": "nan",
         "housing_built_1939_or_earlier_normalised": "nan",
         "housing_built_2004_or_later_normalised": "nan",
         "children_in_single_female_hh_normalised": "nan",
         "rent_burden_not_computed_normalised": "nan",
         "rent_under_30_percent_normalised": "nan",
         "rent_30_to_50_percent_normalised": "nan",
         "rent_over_50_percent_normalised": "nan",
         "aggregate_travel_time_to_work_normalised": "nan",
         "walked_to_work_normalised": "nan",
         "worked_at_home_normalised": "nan",
         "no_car_normalised": "nan",
         "no_cars_normalised": "nan",
         "one_or_more_cars_normalised": "nan",
         "commuters_by_subway_or_elevated_normalised": "nan",
         "commuters_by_bus_normalised": "nan",
         "commuters_personal_transport_normalised": "nan",
         "education_high_school_or_less_normalised": "nan",
         "education_less_than_bachelors_normalised": "nan",
         "education_bachelors_degree_normalised": "nan",
         "education_graduate_degree_normalised": "nan",
         "income_less_14999_normalised": "nan",
         "income_15000_24999_normalised": "nan",
         "income_25000_34999_normalised": "nan",
         "income_35000_59999_normalised": "nan",
         "income_60000_99999_normalised": "nan",
         "income_100000_199999_normalised": "nan",
         "income_200000_or_more_normalised": "nan",
         "million_dollar_housing_units_normalised": "nan",
         "mortgaged_housing_units_normalised": "nan",
         "owner_occupied_housing_units_normalised": "nan",
         "employed_pop_normalised": "nan",
         "unemployed_pop_normalised": "nan",
         "reweighted_redline_index_y": "nan",
         "ordinal_value": "nan",
         "longitude": "nan",
         "latitude": "nan",
         "_deepnote_index_column": "mean"
        },
        {
         "GEOID": "nan",
         "reweighted_redline_index_x": "nan",
         "total_pop": "nan",
         "households": "nan",
         "median_age": "nan",
         "median_income": "nan",
         "income_per_capita": "nan",
         "gini_index": "nan",
         "housing_units": "nan",
         "renter_occupied_housing_units_paying_cash_median_gross_rent": "nan",
         "owner_occupied_housing_units_lower_value_quartile": "nan",
         "owner_occupied_housing_units_median_value": "nan",
         "owner_occupied_housing_units_upper_value_quartile": "nan",
         "median_year_structure_built": "nan",
         "median_rent": "nan",
         "percent_income_spent_on_rent": "nan",
         "bachelors_degree_or_higher_25_64": "nan",
         "aged_65_or_older_normalised": "nan",
         "aged_17_or_younger_normalised": "nan",
         "multi_unit_structures_normalised": "nan",
         "poverty_normalised": "nan",
         "households_public_asst_or_food_stamps_normalised": "nan",
         "black_pop_normalised": "nan",
         "asian_pop_normalised": "nan",
         "hispanic_pop_normalised": "nan",
         "amerindian_pop_normalised": "nan",
         "white_pop_normalised": "nan",
         "non_white_pop_normalised": "nan",
         "other_race_pop_normalised": "nan",
         "male_pop_normalised": "nan",
         "female_pop_normalised": "nan",
         "pop_currently_unmarried_normalised": "nan",
         "pop_now_married_normalised": "nan",
         "not_us_citizen_pop_normalised": "nan",
         "children_normalised": "nan",
         "married_households_normalised": "nan",
         "nonfamily_households_normalised": "nan",
         "family_households_normalised": "nan",
         "occupied_housing_units_normalised": "nan",
         "housing_units_renter_occupied_normalised": "nan",
         "vacant_housing_units_normalised": "nan",
         "vacant_housing_units_for_rent_normalised": "nan",
         "vacant_housing_units_for_sale_normalised": "nan",
         "mobile_homes_normalised": "nan",
         "group_quarters_normalised": "nan",
         "housing_built_1939_or_earlier_normalised": "nan",
         "housing_built_2004_or_later_normalised": "nan",
         "children_in_single_female_hh_normalised": "nan",
         "rent_burden_not_computed_normalised": "nan",
         "rent_under_30_percent_normalised": "nan",
         "rent_30_to_50_percent_normalised": "nan",
         "rent_over_50_percent_normalised": "nan",
         "aggregate_travel_time_to_work_normalised": "nan",
         "walked_to_work_normalised": "nan",
         "worked_at_home_normalised": "nan",
         "no_car_normalised": "nan",
         "no_cars_normalised": "nan",
         "one_or_more_cars_normalised": "nan",
         "commuters_by_subway_or_elevated_normalised": "nan",
         "commuters_by_bus_normalised": "nan",
         "commuters_personal_transport_normalised": "nan",
         "education_high_school_or_less_normalised": "nan",
         "education_less_than_bachelors_normalised": "nan",
         "education_bachelors_degree_normalised": "nan",
         "education_graduate_degree_normalised": "nan",
         "income_less_14999_normalised": "nan",
         "income_15000_24999_normalised": "nan",
         "income_25000_34999_normalised": "nan",
         "income_35000_59999_normalised": "nan",
         "income_60000_99999_normalised": "nan",
         "income_100000_199999_normalised": "nan",
         "income_200000_or_more_normalised": "nan",
         "million_dollar_housing_units_normalised": "nan",
         "mortgaged_housing_units_normalised": "nan",
         "owner_occupied_housing_units_normalised": "nan",
         "employed_pop_normalised": "nan",
         "unemployed_pop_normalised": "nan",
         "reweighted_redline_index_y": "nan",
         "ordinal_value": "nan",
         "longitude": "nan",
         "latitude": "nan",
         "_deepnote_index_column": "std"
        },
        {
         "GEOID": "nan",
         "reweighted_redline_index_x": "nan",
         "total_pop": "nan",
         "households": "nan",
         "median_age": "nan",
         "median_income": "nan",
         "income_per_capita": "nan",
         "gini_index": "nan",
         "housing_units": "nan",
         "renter_occupied_housing_units_paying_cash_median_gross_rent": "nan",
         "owner_occupied_housing_units_lower_value_quartile": "nan",
         "owner_occupied_housing_units_median_value": "nan",
         "owner_occupied_housing_units_upper_value_quartile": "nan",
         "median_year_structure_built": "nan",
         "median_rent": "nan",
         "percent_income_spent_on_rent": "nan",
         "bachelors_degree_or_higher_25_64": "nan",
         "aged_65_or_older_normalised": "nan",
         "aged_17_or_younger_normalised": "nan",
         "multi_unit_structures_normalised": "nan",
         "poverty_normalised": "nan",
         "households_public_asst_or_food_stamps_normalised": "nan",
         "black_pop_normalised": "nan",
         "asian_pop_normalised": "nan",
         "hispanic_pop_normalised": "nan",
         "amerindian_pop_normalised": "nan",
         "white_pop_normalised": "nan",
         "non_white_pop_normalised": "nan",
         "other_race_pop_normalised": "nan",
         "male_pop_normalised": "nan",
         "female_pop_normalised": "nan",
         "pop_currently_unmarried_normalised": "nan",
         "pop_now_married_normalised": "nan",
         "not_us_citizen_pop_normalised": "nan",
         "children_normalised": "nan",
         "married_households_normalised": "nan",
         "nonfamily_households_normalised": "nan",
         "family_households_normalised": "nan",
         "occupied_housing_units_normalised": "nan",
         "housing_units_renter_occupied_normalised": "nan",
         "vacant_housing_units_normalised": "nan",
         "vacant_housing_units_for_rent_normalised": "nan",
         "vacant_housing_units_for_sale_normalised": "nan",
         "mobile_homes_normalised": "nan",
         "group_quarters_normalised": "nan",
         "housing_built_1939_or_earlier_normalised": "nan",
         "housing_built_2004_or_later_normalised": "nan",
         "children_in_single_female_hh_normalised": "nan",
         "rent_burden_not_computed_normalised": "nan",
         "rent_under_30_percent_normalised": "nan",
         "rent_30_to_50_percent_normalised": "nan",
         "rent_over_50_percent_normalised": "nan",
         "aggregate_travel_time_to_work_normalised": "nan",
         "walked_to_work_normalised": "nan",
         "worked_at_home_normalised": "nan",
         "no_car_normalised": "nan",
         "no_cars_normalised": "nan",
         "one_or_more_cars_normalised": "nan",
         "commuters_by_subway_or_elevated_normalised": "nan",
         "commuters_by_bus_normalised": "nan",
         "commuters_personal_transport_normalised": "nan",
         "education_high_school_or_less_normalised": "nan",
         "education_less_than_bachelors_normalised": "nan",
         "education_bachelors_degree_normalised": "nan",
         "education_graduate_degree_normalised": "nan",
         "income_less_14999_normalised": "nan",
         "income_15000_24999_normalised": "nan",
         "income_25000_34999_normalised": "nan",
         "income_35000_59999_normalised": "nan",
         "income_60000_99999_normalised": "nan",
         "income_100000_199999_normalised": "nan",
         "income_200000_or_more_normalised": "nan",
         "million_dollar_housing_units_normalised": "nan",
         "mortgaged_housing_units_normalised": "nan",
         "owner_occupied_housing_units_normalised": "nan",
         "employed_pop_normalised": "nan",
         "unemployed_pop_normalised": "nan",
         "reweighted_redline_index_y": "nan",
         "ordinal_value": "nan",
         "longitude": "nan",
         "latitude": "nan",
         "_deepnote_index_column": "min"
        },
        {
         "GEOID": "nan",
         "reweighted_redline_index_x": "nan",
         "total_pop": "nan",
         "households": "nan",
         "median_age": "nan",
         "median_income": "nan",
         "income_per_capita": "nan",
         "gini_index": "nan",
         "housing_units": "nan",
         "renter_occupied_housing_units_paying_cash_median_gross_rent": "nan",
         "owner_occupied_housing_units_lower_value_quartile": "nan",
         "owner_occupied_housing_units_median_value": "nan",
         "owner_occupied_housing_units_upper_value_quartile": "nan",
         "median_year_structure_built": "nan",
         "median_rent": "nan",
         "percent_income_spent_on_rent": "nan",
         "bachelors_degree_or_higher_25_64": "nan",
         "aged_65_or_older_normalised": "nan",
         "aged_17_or_younger_normalised": "nan",
         "multi_unit_structures_normalised": "nan",
         "poverty_normalised": "nan",
         "households_public_asst_or_food_stamps_normalised": "nan",
         "black_pop_normalised": "nan",
         "asian_pop_normalised": "nan",
         "hispanic_pop_normalised": "nan",
         "amerindian_pop_normalised": "nan",
         "white_pop_normalised": "nan",
         "non_white_pop_normalised": "nan",
         "other_race_pop_normalised": "nan",
         "male_pop_normalised": "nan",
         "female_pop_normalised": "nan",
         "pop_currently_unmarried_normalised": "nan",
         "pop_now_married_normalised": "nan",
         "not_us_citizen_pop_normalised": "nan",
         "children_normalised": "nan",
         "married_households_normalised": "nan",
         "nonfamily_households_normalised": "nan",
         "family_households_normalised": "nan",
         "occupied_housing_units_normalised": "nan",
         "housing_units_renter_occupied_normalised": "nan",
         "vacant_housing_units_normalised": "nan",
         "vacant_housing_units_for_rent_normalised": "nan",
         "vacant_housing_units_for_sale_normalised": "nan",
         "mobile_homes_normalised": "nan",
         "group_quarters_normalised": "nan",
         "housing_built_1939_or_earlier_normalised": "nan",
         "housing_built_2004_or_later_normalised": "nan",
         "children_in_single_female_hh_normalised": "nan",
         "rent_burden_not_computed_normalised": "nan",
         "rent_under_30_percent_normalised": "nan",
         "rent_30_to_50_percent_normalised": "nan",
         "rent_over_50_percent_normalised": "nan",
         "aggregate_travel_time_to_work_normalised": "nan",
         "walked_to_work_normalised": "nan",
         "worked_at_home_normalised": "nan",
         "no_car_normalised": "nan",
         "no_cars_normalised": "nan",
         "one_or_more_cars_normalised": "nan",
         "commuters_by_subway_or_elevated_normalised": "nan",
         "commuters_by_bus_normalised": "nan",
         "commuters_personal_transport_normalised": "nan",
         "education_high_school_or_less_normalised": "nan",
         "education_less_than_bachelors_normalised": "nan",
         "education_bachelors_degree_normalised": "nan",
         "education_graduate_degree_normalised": "nan",
         "income_less_14999_normalised": "nan",
         "income_15000_24999_normalised": "nan",
         "income_25000_34999_normalised": "nan",
         "income_35000_59999_normalised": "nan",
         "income_60000_99999_normalised": "nan",
         "income_100000_199999_normalised": "nan",
         "income_200000_or_more_normalised": "nan",
         "million_dollar_housing_units_normalised": "nan",
         "mortgaged_housing_units_normalised": "nan",
         "owner_occupied_housing_units_normalised": "nan",
         "employed_pop_normalised": "nan",
         "unemployed_pop_normalised": "nan",
         "reweighted_redline_index_y": "nan",
         "ordinal_value": "nan",
         "longitude": "nan",
         "latitude": "nan",
         "_deepnote_index_column": "25%"
        },
        {
         "GEOID": "nan",
         "reweighted_redline_index_x": "nan",
         "total_pop": "nan",
         "households": "nan",
         "median_age": "nan",
         "median_income": "nan",
         "income_per_capita": "nan",
         "gini_index": "nan",
         "housing_units": "nan",
         "renter_occupied_housing_units_paying_cash_median_gross_rent": "nan",
         "owner_occupied_housing_units_lower_value_quartile": "nan",
         "owner_occupied_housing_units_median_value": "nan",
         "owner_occupied_housing_units_upper_value_quartile": "nan",
         "median_year_structure_built": "nan",
         "median_rent": "nan",
         "percent_income_spent_on_rent": "nan",
         "bachelors_degree_or_higher_25_64": "nan",
         "aged_65_or_older_normalised": "nan",
         "aged_17_or_younger_normalised": "nan",
         "multi_unit_structures_normalised": "nan",
         "poverty_normalised": "nan",
         "households_public_asst_or_food_stamps_normalised": "nan",
         "black_pop_normalised": "nan",
         "asian_pop_normalised": "nan",
         "hispanic_pop_normalised": "nan",
         "amerindian_pop_normalised": "nan",
         "white_pop_normalised": "nan",
         "non_white_pop_normalised": "nan",
         "other_race_pop_normalised": "nan",
         "male_pop_normalised": "nan",
         "female_pop_normalised": "nan",
         "pop_currently_unmarried_normalised": "nan",
         "pop_now_married_normalised": "nan",
         "not_us_citizen_pop_normalised": "nan",
         "children_normalised": "nan",
         "married_households_normalised": "nan",
         "nonfamily_households_normalised": "nan",
         "family_households_normalised": "nan",
         "occupied_housing_units_normalised": "nan",
         "housing_units_renter_occupied_normalised": "nan",
         "vacant_housing_units_normalised": "nan",
         "vacant_housing_units_for_rent_normalised": "nan",
         "vacant_housing_units_for_sale_normalised": "nan",
         "mobile_homes_normalised": "nan",
         "group_quarters_normalised": "nan",
         "housing_built_1939_or_earlier_normalised": "nan",
         "housing_built_2004_or_later_normalised": "nan",
         "children_in_single_female_hh_normalised": "nan",
         "rent_burden_not_computed_normalised": "nan",
         "rent_under_30_percent_normalised": "nan",
         "rent_30_to_50_percent_normalised": "nan",
         "rent_over_50_percent_normalised": "nan",
         "aggregate_travel_time_to_work_normalised": "nan",
         "walked_to_work_normalised": "nan",
         "worked_at_home_normalised": "nan",
         "no_car_normalised": "nan",
         "no_cars_normalised": "nan",
         "one_or_more_cars_normalised": "nan",
         "commuters_by_subway_or_elevated_normalised": "nan",
         "commuters_by_bus_normalised": "nan",
         "commuters_personal_transport_normalised": "nan",
         "education_high_school_or_less_normalised": "nan",
         "education_less_than_bachelors_normalised": "nan",
         "education_bachelors_degree_normalised": "nan",
         "education_graduate_degree_normalised": "nan",
         "income_less_14999_normalised": "nan",
         "income_15000_24999_normalised": "nan",
         "income_25000_34999_normalised": "nan",
         "income_35000_59999_normalised": "nan",
         "income_60000_99999_normalised": "nan",
         "income_100000_199999_normalised": "nan",
         "income_200000_or_more_normalised": "nan",
         "million_dollar_housing_units_normalised": "nan",
         "mortgaged_housing_units_normalised": "nan",
         "owner_occupied_housing_units_normalised": "nan",
         "employed_pop_normalised": "nan",
         "unemployed_pop_normalised": "nan",
         "reweighted_redline_index_y": "nan",
         "ordinal_value": "nan",
         "longitude": "nan",
         "latitude": "nan",
         "_deepnote_index_column": "50%"
        },
        {
         "GEOID": "nan",
         "reweighted_redline_index_x": "nan",
         "total_pop": "nan",
         "households": "nan",
         "median_age": "nan",
         "median_income": "nan",
         "income_per_capita": "nan",
         "gini_index": "nan",
         "housing_units": "nan",
         "renter_occupied_housing_units_paying_cash_median_gross_rent": "nan",
         "owner_occupied_housing_units_lower_value_quartile": "nan",
         "owner_occupied_housing_units_median_value": "nan",
         "owner_occupied_housing_units_upper_value_quartile": "nan",
         "median_year_structure_built": "nan",
         "median_rent": "nan",
         "percent_income_spent_on_rent": "nan",
         "bachelors_degree_or_higher_25_64": "nan",
         "aged_65_or_older_normalised": "nan",
         "aged_17_or_younger_normalised": "nan",
         "multi_unit_structures_normalised": "nan",
         "poverty_normalised": "nan",
         "households_public_asst_or_food_stamps_normalised": "nan",
         "black_pop_normalised": "nan",
         "asian_pop_normalised": "nan",
         "hispanic_pop_normalised": "nan",
         "amerindian_pop_normalised": "nan",
         "white_pop_normalised": "nan",
         "non_white_pop_normalised": "nan",
         "other_race_pop_normalised": "nan",
         "male_pop_normalised": "nan",
         "female_pop_normalised": "nan",
         "pop_currently_unmarried_normalised": "nan",
         "pop_now_married_normalised": "nan",
         "not_us_citizen_pop_normalised": "nan",
         "children_normalised": "nan",
         "married_households_normalised": "nan",
         "nonfamily_households_normalised": "nan",
         "family_households_normalised": "nan",
         "occupied_housing_units_normalised": "nan",
         "housing_units_renter_occupied_normalised": "nan",
         "vacant_housing_units_normalised": "nan",
         "vacant_housing_units_for_rent_normalised": "nan",
         "vacant_housing_units_for_sale_normalised": "nan",
         "mobile_homes_normalised": "nan",
         "group_quarters_normalised": "nan",
         "housing_built_1939_or_earlier_normalised": "nan",
         "housing_built_2004_or_later_normalised": "nan",
         "children_in_single_female_hh_normalised": "nan",
         "rent_burden_not_computed_normalised": "nan",
         "rent_under_30_percent_normalised": "nan",
         "rent_30_to_50_percent_normalised": "nan",
         "rent_over_50_percent_normalised": "nan",
         "aggregate_travel_time_to_work_normalised": "nan",
         "walked_to_work_normalised": "nan",
         "worked_at_home_normalised": "nan",
         "no_car_normalised": "nan",
         "no_cars_normalised": "nan",
         "one_or_more_cars_normalised": "nan",
         "commuters_by_subway_or_elevated_normalised": "nan",
         "commuters_by_bus_normalised": "nan",
         "commuters_personal_transport_normalised": "nan",
         "education_high_school_or_less_normalised": "nan",
         "education_less_than_bachelors_normalised": "nan",
         "education_bachelors_degree_normalised": "nan",
         "education_graduate_degree_normalised": "nan",
         "income_less_14999_normalised": "nan",
         "income_15000_24999_normalised": "nan",
         "income_25000_34999_normalised": "nan",
         "income_35000_59999_normalised": "nan",
         "income_60000_99999_normalised": "nan",
         "income_100000_199999_normalised": "nan",
         "income_200000_or_more_normalised": "nan",
         "million_dollar_housing_units_normalised": "nan",
         "mortgaged_housing_units_normalised": "nan",
         "owner_occupied_housing_units_normalised": "nan",
         "employed_pop_normalised": "nan",
         "unemployed_pop_normalised": "nan",
         "reweighted_redline_index_y": "nan",
         "ordinal_value": "nan",
         "longitude": "nan",
         "latitude": "nan",
         "_deepnote_index_column": "75%"
        },
        {
         "GEOID": "nan",
         "reweighted_redline_index_x": "nan",
         "total_pop": "nan",
         "households": "nan",
         "median_age": "nan",
         "median_income": "nan",
         "income_per_capita": "nan",
         "gini_index": "nan",
         "housing_units": "nan",
         "renter_occupied_housing_units_paying_cash_median_gross_rent": "nan",
         "owner_occupied_housing_units_lower_value_quartile": "nan",
         "owner_occupied_housing_units_median_value": "nan",
         "owner_occupied_housing_units_upper_value_quartile": "nan",
         "median_year_structure_built": "nan",
         "median_rent": "nan",
         "percent_income_spent_on_rent": "nan",
         "bachelors_degree_or_higher_25_64": "nan",
         "aged_65_or_older_normalised": "nan",
         "aged_17_or_younger_normalised": "nan",
         "multi_unit_structures_normalised": "nan",
         "poverty_normalised": "nan",
         "households_public_asst_or_food_stamps_normalised": "nan",
         "black_pop_normalised": "nan",
         "asian_pop_normalised": "nan",
         "hispanic_pop_normalised": "nan",
         "amerindian_pop_normalised": "nan",
         "white_pop_normalised": "nan",
         "non_white_pop_normalised": "nan",
         "other_race_pop_normalised": "nan",
         "male_pop_normalised": "nan",
         "female_pop_normalised": "nan",
         "pop_currently_unmarried_normalised": "nan",
         "pop_now_married_normalised": "nan",
         "not_us_citizen_pop_normalised": "nan",
         "children_normalised": "nan",
         "married_households_normalised": "nan",
         "nonfamily_households_normalised": "nan",
         "family_households_normalised": "nan",
         "occupied_housing_units_normalised": "nan",
         "housing_units_renter_occupied_normalised": "nan",
         "vacant_housing_units_normalised": "nan",
         "vacant_housing_units_for_rent_normalised": "nan",
         "vacant_housing_units_for_sale_normalised": "nan",
         "mobile_homes_normalised": "nan",
         "group_quarters_normalised": "nan",
         "housing_built_1939_or_earlier_normalised": "nan",
         "housing_built_2004_or_later_normalised": "nan",
         "children_in_single_female_hh_normalised": "nan",
         "rent_burden_not_computed_normalised": "nan",
         "rent_under_30_percent_normalised": "nan",
         "rent_30_to_50_percent_normalised": "nan",
         "rent_over_50_percent_normalised": "nan",
         "aggregate_travel_time_to_work_normalised": "nan",
         "walked_to_work_normalised": "nan",
         "worked_at_home_normalised": "nan",
         "no_car_normalised": "nan",
         "no_cars_normalised": "nan",
         "one_or_more_cars_normalised": "nan",
         "commuters_by_subway_or_elevated_normalised": "nan",
         "commuters_by_bus_normalised": "nan",
         "commuters_personal_transport_normalised": "nan",
         "education_high_school_or_less_normalised": "nan",
         "education_less_than_bachelors_normalised": "nan",
         "education_bachelors_degree_normalised": "nan",
         "education_graduate_degree_normalised": "nan",
         "income_less_14999_normalised": "nan",
         "income_15000_24999_normalised": "nan",
         "income_25000_34999_normalised": "nan",
         "income_35000_59999_normalised": "nan",
         "income_60000_99999_normalised": "nan",
         "income_100000_199999_normalised": "nan",
         "income_200000_or_more_normalised": "nan",
         "million_dollar_housing_units_normalised": "nan",
         "mortgaged_housing_units_normalised": "nan",
         "owner_occupied_housing_units_normalised": "nan",
         "employed_pop_normalised": "nan",
         "unemployed_pop_normalised": "nan",
         "reweighted_redline_index_y": "nan",
         "ordinal_value": "nan",
         "longitude": "nan",
         "latitude": "nan",
         "_deepnote_index_column": "max"
        }
       ],
       "rows_bottom": null
      },
      "text/plain": "       GEOID  reweighted_redline_index_x  total_pop  households  median_age  \\\ncount    0.0                         0.0        0.0         0.0         0.0   \nmean     NaN                         NaN        NaN         NaN         NaN   \nstd      NaN                         NaN        NaN         NaN         NaN   \nmin      NaN                         NaN        NaN         NaN         NaN   \n25%      NaN                         NaN        NaN         NaN         NaN   \n50%      NaN                         NaN        NaN         NaN         NaN   \n75%      NaN                         NaN        NaN         NaN         NaN   \nmax      NaN                         NaN        NaN         NaN         NaN   \n\n       median_income  income_per_capita  gini_index  housing_units  \\\ncount            0.0                0.0         0.0            0.0   \nmean             NaN                NaN         NaN            NaN   \nstd              NaN                NaN         NaN            NaN   \nmin              NaN                NaN         NaN            NaN   \n25%              NaN                NaN         NaN            NaN   \n50%              NaN                NaN         NaN            NaN   \n75%              NaN                NaN         NaN            NaN   \nmax              NaN                NaN         NaN            NaN   \n\n       renter_occupied_housing_units_paying_cash_median_gross_rent  ...  \\\ncount                                                0.0            ...   \nmean                                                 NaN            ...   \nstd                                                  NaN            ...   \nmin                                                  NaN            ...   \n25%                                                  NaN            ...   \n50%                                                  NaN            ...   \n75%                                                  NaN            ...   \nmax                                                  NaN            ...   \n\n       income_200000_or_more_normalised  \\\ncount                               0.0   \nmean                                NaN   \nstd                                 NaN   \nmin                                 NaN   \n25%                                 NaN   \n50%                                 NaN   \n75%                                 NaN   \nmax                                 NaN   \n\n       million_dollar_housing_units_normalised  \\\ncount                                      0.0   \nmean                                       NaN   \nstd                                        NaN   \nmin                                        NaN   \n25%                                        NaN   \n50%                                        NaN   \n75%                                        NaN   \nmax                                        NaN   \n\n       mortgaged_housing_units_normalised  \\\ncount                                 0.0   \nmean                                  NaN   \nstd                                   NaN   \nmin                                   NaN   \n25%                                   NaN   \n50%                                   NaN   \n75%                                   NaN   \nmax                                   NaN   \n\n       owner_occupied_housing_units_normalised  employed_pop_normalised  \\\ncount                                      0.0                      0.0   \nmean                                       NaN                      NaN   \nstd                                        NaN                      NaN   \nmin                                        NaN                      NaN   \n25%                                        NaN                      NaN   \n50%                                        NaN                      NaN   \n75%                                        NaN                      NaN   \nmax                                        NaN                      NaN   \n\n       unemployed_pop_normalised  reweighted_redline_index_y  ordinal_value  \\\ncount                        0.0                         0.0            0.0   \nmean                         NaN                         NaN            NaN   \nstd                          NaN                         NaN            NaN   \nmin                          NaN                         NaN            NaN   \n25%                          NaN                         NaN            NaN   \n50%                          NaN                         NaN            NaN   \n75%                          NaN                         NaN            NaN   \nmax                          NaN                         NaN            NaN   \n\n       longitude  latitude  \ncount        0.0       0.0  \nmean         NaN       NaN  \nstd          NaN       NaN  \nmin          NaN       NaN  \n25%          NaN       NaN  \n50%          NaN       NaN  \n75%          NaN       NaN  \nmax          NaN       NaN  \n\n[8 rows x 81 columns]",
      "text/html": "<div>\n<style scoped>\n    .dataframe tbody tr th:only-of-type {\n        vertical-align: middle;\n    }\n\n    .dataframe tbody tr th {\n        vertical-align: top;\n    }\n\n    .dataframe thead th {\n        text-align: right;\n    }\n</style>\n<table border=\"1\" class=\"dataframe\">\n  <thead>\n    <tr style=\"text-align: right;\">\n      <th></th>\n      <th>GEOID</th>\n      <th>reweighted_redline_index_x</th>\n      <th>total_pop</th>\n      <th>households</th>\n      <th>median_age</th>\n      <th>median_income</th>\n      <th>income_per_capita</th>\n      <th>gini_index</th>\n      <th>housing_units</th>\n      <th>renter_occupied_housing_units_paying_cash_median_gross_rent</th>\n      <th>...</th>\n      <th>income_200000_or_more_normalised</th>\n      <th>million_dollar_housing_units_normalised</th>\n      <th>mortgaged_housing_units_normalised</th>\n      <th>owner_occupied_housing_units_normalised</th>\n      <th>employed_pop_normalised</th>\n      <th>unemployed_pop_normalised</th>\n      <th>reweighted_redline_index_y</th>\n      <th>ordinal_value</th>\n      <th>longitude</th>\n      <th>latitude</th>\n    </tr>\n  </thead>\n  <tbody>\n    <tr>\n      <th>count</th>\n      <td>0.0</td>\n      <td>0.0</td>\n      <td>0.0</td>\n      <td>0.0</td>\n      <td>0.0</td>\n      <td>0.0</td>\n      <td>0.0</td>\n      <td>0.0</td>\n      <td>0.0</td>\n      <td>0.0</td>\n      <td>...</td>\n      <td>0.0</td>\n      <td>0.0</td>\n      <td>0.0</td>\n      <td>0.0</td>\n      <td>0.0</td>\n      <td>0.0</td>\n      <td>0.0</td>\n      <td>0.0</td>\n      <td>0.0</td>\n      <td>0.0</td>\n    </tr>\n    <tr>\n      <th>mean</th>\n      <td>NaN</td>\n      <td>NaN</td>\n      <td>NaN</td>\n      <td>NaN</td>\n      <td>NaN</td>\n      <td>NaN</td>\n      <td>NaN</td>\n      <td>NaN</td>\n      <td>NaN</td>\n      <td>NaN</td>\n      <td>...</td>\n      <td>NaN</td>\n      <td>NaN</td>\n      <td>NaN</td>\n      <td>NaN</td>\n      <td>NaN</td>\n      <td>NaN</td>\n      <td>NaN</td>\n      <td>NaN</td>\n      <td>NaN</td>\n      <td>NaN</td>\n    </tr>\n    <tr>\n      <th>std</th>\n      <td>NaN</td>\n      <td>NaN</td>\n      <td>NaN</td>\n      <td>NaN</td>\n      <td>NaN</td>\n      <td>NaN</td>\n      <td>NaN</td>\n      <td>NaN</td>\n      <td>NaN</td>\n      <td>NaN</td>\n      <td>...</td>\n      <td>NaN</td>\n      <td>NaN</td>\n      <td>NaN</td>\n      <td>NaN</td>\n      <td>NaN</td>\n      <td>NaN</td>\n      <td>NaN</td>\n      <td>NaN</td>\n      <td>NaN</td>\n      <td>NaN</td>\n    </tr>\n    <tr>\n      <th>min</th>\n      <td>NaN</td>\n      <td>NaN</td>\n      <td>NaN</td>\n      <td>NaN</td>\n      <td>NaN</td>\n      <td>NaN</td>\n      <td>NaN</td>\n      <td>NaN</td>\n      <td>NaN</td>\n      <td>NaN</td>\n      <td>...</td>\n      <td>NaN</td>\n      <td>NaN</td>\n      <td>NaN</td>\n      <td>NaN</td>\n      <td>NaN</td>\n      <td>NaN</td>\n      <td>NaN</td>\n      <td>NaN</td>\n      <td>NaN</td>\n      <td>NaN</td>\n    </tr>\n    <tr>\n      <th>25%</th>\n      <td>NaN</td>\n      <td>NaN</td>\n      <td>NaN</td>\n      <td>NaN</td>\n      <td>NaN</td>\n      <td>NaN</td>\n      <td>NaN</td>\n      <td>NaN</td>\n      <td>NaN</td>\n      <td>NaN</td>\n      <td>...</td>\n      <td>NaN</td>\n      <td>NaN</td>\n      <td>NaN</td>\n      <td>NaN</td>\n      <td>NaN</td>\n      <td>NaN</td>\n      <td>NaN</td>\n      <td>NaN</td>\n      <td>NaN</td>\n      <td>NaN</td>\n    </tr>\n    <tr>\n      <th>50%</th>\n      <td>NaN</td>\n      <td>NaN</td>\n      <td>NaN</td>\n      <td>NaN</td>\n      <td>NaN</td>\n      <td>NaN</td>\n      <td>NaN</td>\n      <td>NaN</td>\n      <td>NaN</td>\n      <td>NaN</td>\n      <td>...</td>\n      <td>NaN</td>\n      <td>NaN</td>\n      <td>NaN</td>\n      <td>NaN</td>\n      <td>NaN</td>\n      <td>NaN</td>\n      <td>NaN</td>\n      <td>NaN</td>\n      <td>NaN</td>\n      <td>NaN</td>\n    </tr>\n    <tr>\n      <th>75%</th>\n      <td>NaN</td>\n      <td>NaN</td>\n      <td>NaN</td>\n      <td>NaN</td>\n      <td>NaN</td>\n      <td>NaN</td>\n      <td>NaN</td>\n      <td>NaN</td>\n      <td>NaN</td>\n      <td>NaN</td>\n      <td>...</td>\n      <td>NaN</td>\n      <td>NaN</td>\n      <td>NaN</td>\n      <td>NaN</td>\n      <td>NaN</td>\n      <td>NaN</td>\n      <td>NaN</td>\n      <td>NaN</td>\n      <td>NaN</td>\n      <td>NaN</td>\n    </tr>\n    <tr>\n      <th>max</th>\n      <td>NaN</td>\n      <td>NaN</td>\n      <td>NaN</td>\n      <td>NaN</td>\n      <td>NaN</td>\n      <td>NaN</td>\n      <td>NaN</td>\n      <td>NaN</td>\n      <td>NaN</td>\n      <td>NaN</td>\n      <td>...</td>\n      <td>NaN</td>\n      <td>NaN</td>\n      <td>NaN</td>\n      <td>NaN</td>\n      <td>NaN</td>\n      <td>NaN</td>\n      <td>NaN</td>\n      <td>NaN</td>\n      <td>NaN</td>\n      <td>NaN</td>\n    </tr>\n  </tbody>\n</table>\n<p>8 rows × 81 columns</p>\n</div>"
     },
     "metadata": {}
    }
   ],
   "execution_count": null
  },
  {
   "cell_type": "markdown",
   "source": "### Correlation between SVI Variables (All)\n\nSample size = 168",
   "metadata": {
    "tags": [],
    "cell_id": "00038-0a8d4af7-6568-41ee-953d-06d03147f95d",
    "deepnote_cell_type": "markdown"
   }
  },
  {
   "cell_type": "code",
   "metadata": {
    "tags": [],
    "cell_id": "00039-06543bbb-e23f-4455-9dcf-a5495bc0f75b",
    "deepnote_to_be_reexecuted": false,
    "source_hash": "ce28e3",
    "execution_start": 1623462891459,
    "execution_millis": 18,
    "deepnote_cell_type": "code"
   },
   "source": "plt.figure(figsize=(12,10))\nsns.heatmap(df_corr.astype(float).corr(method='spearman'), linewidth=0.1, linecolor='grey', vmin=-1.0, vmax=1.0, square=True, cmap='coolwarm', annot=True)",
   "outputs": [
    {
     "output_type": "error",
     "ename": "NameError",
     "evalue": "name 'df_corr' is not defined",
     "traceback": [
      "\u001b[0;31m---------------------------------------------------------------------------\u001b[0m",
      "\u001b[0;31mNameError\u001b[0m                                 Traceback (most recent call last)",
      "\u001b[0;32m<ipython-input-88-439335acec56>\u001b[0m in \u001b[0;36m<module>\u001b[0;34m\u001b[0m\n\u001b[1;32m      1\u001b[0m \u001b[0mplt\u001b[0m\u001b[0;34m.\u001b[0m\u001b[0mfigure\u001b[0m\u001b[0;34m(\u001b[0m\u001b[0mfigsize\u001b[0m\u001b[0;34m=\u001b[0m\u001b[0;34m(\u001b[0m\u001b[0;36m12\u001b[0m\u001b[0;34m,\u001b[0m\u001b[0;36m10\u001b[0m\u001b[0;34m)\u001b[0m\u001b[0;34m)\u001b[0m\u001b[0;34m\u001b[0m\u001b[0;34m\u001b[0m\u001b[0m\n\u001b[0;32m----> 2\u001b[0;31m \u001b[0msns\u001b[0m\u001b[0;34m.\u001b[0m\u001b[0mheatmap\u001b[0m\u001b[0;34m(\u001b[0m\u001b[0mdf_corr\u001b[0m\u001b[0;34m.\u001b[0m\u001b[0mastype\u001b[0m\u001b[0;34m(\u001b[0m\u001b[0mfloat\u001b[0m\u001b[0;34m)\u001b[0m\u001b[0;34m.\u001b[0m\u001b[0mcorr\u001b[0m\u001b[0;34m(\u001b[0m\u001b[0mmethod\u001b[0m\u001b[0;34m=\u001b[0m\u001b[0;34m'spearman'\u001b[0m\u001b[0;34m)\u001b[0m\u001b[0;34m,\u001b[0m \u001b[0mlinewidth\u001b[0m\u001b[0;34m=\u001b[0m\u001b[0;36m0.1\u001b[0m\u001b[0;34m,\u001b[0m \u001b[0mlinecolor\u001b[0m\u001b[0;34m=\u001b[0m\u001b[0;34m'grey'\u001b[0m\u001b[0;34m,\u001b[0m \u001b[0mvmin\u001b[0m\u001b[0;34m=\u001b[0m\u001b[0;34m-\u001b[0m\u001b[0;36m1.0\u001b[0m\u001b[0;34m,\u001b[0m \u001b[0mvmax\u001b[0m\u001b[0;34m=\u001b[0m\u001b[0;36m1.0\u001b[0m\u001b[0;34m,\u001b[0m \u001b[0msquare\u001b[0m\u001b[0;34m=\u001b[0m\u001b[0;32mTrue\u001b[0m\u001b[0;34m,\u001b[0m \u001b[0mcmap\u001b[0m\u001b[0;34m=\u001b[0m\u001b[0;34m'coolwarm'\u001b[0m\u001b[0;34m,\u001b[0m \u001b[0mannot\u001b[0m\u001b[0;34m=\u001b[0m\u001b[0;32mTrue\u001b[0m\u001b[0;34m)\u001b[0m\u001b[0;34m\u001b[0m\u001b[0;34m\u001b[0m\u001b[0m\n\u001b[0m",
      "\u001b[0;31mNameError\u001b[0m: name 'df_corr' is not defined"
     ]
    },
    {
     "data": {
      "text/plain": "<Figure size 864x720 with 0 Axes>"
     },
     "metadata": {},
     "output_type": "display_data"
    }
   ],
   "execution_count": null
  },
  {
   "cell_type": "markdown",
   "source": "### Create two dataframes for analyses on (a) Redline vs 5 SVI-based indices; and (b) Minority vs 5 SVI-based indices",
   "metadata": {
    "tags": [],
    "cell_id": "00040-6f07a062-0b27-4f02-8e3c-2905da909ba4",
    "deepnote_cell_type": "markdown"
   }
  },
  {
   "cell_type": "code",
   "metadata": {
    "tags": [],
    "cell_id": "00041-020e9ea6-f14d-4290-b2e6-394bcec1c07b",
    "deepnote_to_be_reexecuted": false,
    "source_hash": "5f95507d",
    "execution_start": 1623462894161,
    "execution_millis": 27,
    "deepnote_cell_type": "code"
   },
   "source": "df_redline_SVI = df[['reweighted_redline_index','longitude','latitude','SVI', 'SVI_1', 'SVI_2', 'SVI_3', 'SVI_4']]\ndf_minority_SVI = df[['non_white_perc_bin','SVI', 'SVI_1', 'SVI_2', 'SVI_3', 'SVI_4']]",
   "outputs": [
    {
     "output_type": "error",
     "ename": "KeyError",
     "evalue": "\"['reweighted_redline_index', 'SVI_4', 'SVI_3', 'SVI', 'SVI_1', 'SVI_2'] not in index\"",
     "traceback": [
      "\u001b[0;31m---------------------------------------------------------------------------\u001b[0m",
      "\u001b[0;31mKeyError\u001b[0m                                  Traceback (most recent call last)",
      "\u001b[0;32m<ipython-input-89-51afcdd06fd1>\u001b[0m in \u001b[0;36m<module>\u001b[0;34m\u001b[0m\n\u001b[0;32m----> 1\u001b[0;31m \u001b[0mdf_redline_SVI\u001b[0m \u001b[0;34m=\u001b[0m \u001b[0mdf\u001b[0m\u001b[0;34m[\u001b[0m\u001b[0;34m[\u001b[0m\u001b[0;34m'reweighted_redline_index'\u001b[0m\u001b[0;34m,\u001b[0m\u001b[0;34m'longitude'\u001b[0m\u001b[0;34m,\u001b[0m\u001b[0;34m'latitude'\u001b[0m\u001b[0;34m,\u001b[0m\u001b[0;34m'SVI'\u001b[0m\u001b[0;34m,\u001b[0m \u001b[0;34m'SVI_1'\u001b[0m\u001b[0;34m,\u001b[0m \u001b[0;34m'SVI_2'\u001b[0m\u001b[0;34m,\u001b[0m \u001b[0;34m'SVI_3'\u001b[0m\u001b[0;34m,\u001b[0m \u001b[0;34m'SVI_4'\u001b[0m\u001b[0;34m]\u001b[0m\u001b[0;34m]\u001b[0m\u001b[0;34m\u001b[0m\u001b[0;34m\u001b[0m\u001b[0m\n\u001b[0m\u001b[1;32m      2\u001b[0m \u001b[0mdf_minority_SVI\u001b[0m \u001b[0;34m=\u001b[0m \u001b[0mdf\u001b[0m\u001b[0;34m[\u001b[0m\u001b[0;34m[\u001b[0m\u001b[0;34m'non_white_perc_bin'\u001b[0m\u001b[0;34m,\u001b[0m\u001b[0;34m'SVI'\u001b[0m\u001b[0;34m,\u001b[0m \u001b[0;34m'SVI_1'\u001b[0m\u001b[0;34m,\u001b[0m \u001b[0;34m'SVI_2'\u001b[0m\u001b[0;34m,\u001b[0m \u001b[0;34m'SVI_3'\u001b[0m\u001b[0;34m,\u001b[0m \u001b[0;34m'SVI_4'\u001b[0m\u001b[0;34m]\u001b[0m\u001b[0;34m]\u001b[0m\u001b[0;34m\u001b[0m\u001b[0;34m\u001b[0m\u001b[0m\n",
      "\u001b[0;32m/shared-libs/python3.7/py/lib/python3.7/site-packages/pandas/core/frame.py\u001b[0m in \u001b[0;36m__getitem__\u001b[0;34m(self, key)\u001b[0m\n\u001b[1;32m   3028\u001b[0m             \u001b[0;32mif\u001b[0m \u001b[0mis_iterator\u001b[0m\u001b[0;34m(\u001b[0m\u001b[0mkey\u001b[0m\u001b[0;34m)\u001b[0m\u001b[0;34m:\u001b[0m\u001b[0;34m\u001b[0m\u001b[0;34m\u001b[0m\u001b[0m\n\u001b[1;32m   3029\u001b[0m                 \u001b[0mkey\u001b[0m \u001b[0;34m=\u001b[0m \u001b[0mlist\u001b[0m\u001b[0;34m(\u001b[0m\u001b[0mkey\u001b[0m\u001b[0;34m)\u001b[0m\u001b[0;34m\u001b[0m\u001b[0;34m\u001b[0m\u001b[0m\n\u001b[0;32m-> 3030\u001b[0;31m             \u001b[0mindexer\u001b[0m \u001b[0;34m=\u001b[0m \u001b[0mself\u001b[0m\u001b[0;34m.\u001b[0m\u001b[0mloc\u001b[0m\u001b[0;34m.\u001b[0m\u001b[0m_get_listlike_indexer\u001b[0m\u001b[0;34m(\u001b[0m\u001b[0mkey\u001b[0m\u001b[0;34m,\u001b[0m \u001b[0maxis\u001b[0m\u001b[0;34m=\u001b[0m\u001b[0;36m1\u001b[0m\u001b[0;34m,\u001b[0m \u001b[0mraise_missing\u001b[0m\u001b[0;34m=\u001b[0m\u001b[0;32mTrue\u001b[0m\u001b[0;34m)\u001b[0m\u001b[0;34m[\u001b[0m\u001b[0;36m1\u001b[0m\u001b[0;34m]\u001b[0m\u001b[0;34m\u001b[0m\u001b[0;34m\u001b[0m\u001b[0m\n\u001b[0m\u001b[1;32m   3031\u001b[0m \u001b[0;34m\u001b[0m\u001b[0m\n\u001b[1;32m   3032\u001b[0m         \u001b[0;31m# take() does not accept boolean indexers\u001b[0m\u001b[0;34m\u001b[0m\u001b[0;34m\u001b[0m\u001b[0;34m\u001b[0m\u001b[0m\n",
      "\u001b[0;32m/shared-libs/python3.7/py/lib/python3.7/site-packages/pandas/core/indexing.py\u001b[0m in \u001b[0;36m_get_listlike_indexer\u001b[0;34m(self, key, axis, raise_missing)\u001b[0m\n\u001b[1;32m   1264\u001b[0m             \u001b[0mkeyarr\u001b[0m\u001b[0;34m,\u001b[0m \u001b[0mindexer\u001b[0m\u001b[0;34m,\u001b[0m \u001b[0mnew_indexer\u001b[0m \u001b[0;34m=\u001b[0m \u001b[0max\u001b[0m\u001b[0;34m.\u001b[0m\u001b[0m_reindex_non_unique\u001b[0m\u001b[0;34m(\u001b[0m\u001b[0mkeyarr\u001b[0m\u001b[0;34m)\u001b[0m\u001b[0;34m\u001b[0m\u001b[0;34m\u001b[0m\u001b[0m\n\u001b[1;32m   1265\u001b[0m \u001b[0;34m\u001b[0m\u001b[0m\n\u001b[0;32m-> 1266\u001b[0;31m         \u001b[0mself\u001b[0m\u001b[0;34m.\u001b[0m\u001b[0m_validate_read_indexer\u001b[0m\u001b[0;34m(\u001b[0m\u001b[0mkeyarr\u001b[0m\u001b[0;34m,\u001b[0m \u001b[0mindexer\u001b[0m\u001b[0;34m,\u001b[0m \u001b[0maxis\u001b[0m\u001b[0;34m,\u001b[0m \u001b[0mraise_missing\u001b[0m\u001b[0;34m=\u001b[0m\u001b[0mraise_missing\u001b[0m\u001b[0;34m)\u001b[0m\u001b[0;34m\u001b[0m\u001b[0;34m\u001b[0m\u001b[0m\n\u001b[0m\u001b[1;32m   1267\u001b[0m         \u001b[0;32mreturn\u001b[0m \u001b[0mkeyarr\u001b[0m\u001b[0;34m,\u001b[0m \u001b[0mindexer\u001b[0m\u001b[0;34m\u001b[0m\u001b[0;34m\u001b[0m\u001b[0m\n\u001b[1;32m   1268\u001b[0m \u001b[0;34m\u001b[0m\u001b[0m\n",
      "\u001b[0;32m/shared-libs/python3.7/py/lib/python3.7/site-packages/pandas/core/indexing.py\u001b[0m in \u001b[0;36m_validate_read_indexer\u001b[0;34m(self, key, indexer, axis, raise_missing)\u001b[0m\n\u001b[1;32m   1314\u001b[0m             \u001b[0;32mif\u001b[0m \u001b[0mraise_missing\u001b[0m\u001b[0;34m:\u001b[0m\u001b[0;34m\u001b[0m\u001b[0;34m\u001b[0m\u001b[0m\n\u001b[1;32m   1315\u001b[0m                 \u001b[0mnot_found\u001b[0m \u001b[0;34m=\u001b[0m \u001b[0mlist\u001b[0m\u001b[0;34m(\u001b[0m\u001b[0mset\u001b[0m\u001b[0;34m(\u001b[0m\u001b[0mkey\u001b[0m\u001b[0;34m)\u001b[0m \u001b[0;34m-\u001b[0m \u001b[0mset\u001b[0m\u001b[0;34m(\u001b[0m\u001b[0max\u001b[0m\u001b[0;34m)\u001b[0m\u001b[0;34m)\u001b[0m\u001b[0;34m\u001b[0m\u001b[0;34m\u001b[0m\u001b[0m\n\u001b[0;32m-> 1316\u001b[0;31m                 \u001b[0;32mraise\u001b[0m \u001b[0mKeyError\u001b[0m\u001b[0;34m(\u001b[0m\u001b[0;34mf\"{not_found} not in index\"\u001b[0m\u001b[0;34m)\u001b[0m\u001b[0;34m\u001b[0m\u001b[0;34m\u001b[0m\u001b[0m\n\u001b[0m\u001b[1;32m   1317\u001b[0m \u001b[0;34m\u001b[0m\u001b[0m\n\u001b[1;32m   1318\u001b[0m             \u001b[0mnot_found\u001b[0m \u001b[0;34m=\u001b[0m \u001b[0mkey\u001b[0m\u001b[0;34m[\u001b[0m\u001b[0mmissing_mask\u001b[0m\u001b[0;34m]\u001b[0m\u001b[0;34m\u001b[0m\u001b[0;34m\u001b[0m\u001b[0m\n",
      "\u001b[0;31mKeyError\u001b[0m: \"['reweighted_redline_index', 'SVI_4', 'SVI_3', 'SVI', 'SVI_1', 'SVI_2'] not in index\""
     ]
    }
   ],
   "execution_count": null
  },
  {
   "cell_type": "markdown",
   "source": "#### New Chart",
   "metadata": {
    "tags": [],
    "cell_id": "00042-2ee0d672-d844-4666-8f2c-2cad9e0f161e",
    "deepnote_cell_type": "markdown"
   }
  },
  {
   "cell_type": "code",
   "metadata": {
    "tags": [],
    "cell_id": "00043-afbb69cf-7834-477f-b7f0-848493ee40f0",
    "deepnote_to_be_reexecuted": false,
    "source_hash": "fcfb6499",
    "execution_start": 1623462895555,
    "execution_millis": 3,
    "deepnote_cell_type": "code"
   },
   "source": "# df_redline_SVI_plot_no_zero = df_redline_SVI_plot[((df_redline_SVI_plot.SVI != 0) & (df_redline_SVI_plot.SVI_1 != 0) & (df_redline_SVI_plot.SVI_2 != 0) & (df_redline_SVI_plot.SVI_3 != 0) & (df_redline_SVI_plot.SVI_4 != 0))]\n",
   "outputs": [],
   "execution_count": null
  },
  {
   "cell_type": "code",
   "metadata": {
    "tags": [],
    "cell_id": "00044-9001730e-a607-4ad2-97c4-5d4d53a4cd68",
    "deepnote_to_be_reexecuted": false,
    "source_hash": "216147ba",
    "execution_start": 1623462896678,
    "execution_millis": 32,
    "deepnote_cell_type": "code"
   },
   "source": "df_redline_SVI_plot = df[['reweighted_redline_index','non_white_perc_bin','longitude','latitude','SVI', 'SVI_1', 'SVI_2', 'SVI_3', 'SVI_4']]\n\ndf_redline_SVI_plot.plot(kind=\"scatter\", x=\"longitude\", y=\"latitude\", alpha=0.5,\n    s=df_redline_SVI_plot[\"reweighted_redline_index\"]*100, label=\"SVI Theme 3 - Minority Status at 90th-percentile\", figsize=(10,7),\n    c=\"SVI_3\", cmap=plt.get_cmap(\"jet\"), colorbar=True,\n    sharex=False)\nplt.legend()\n# save_fig(\"Redline_SVI\")",
   "outputs": [
    {
     "output_type": "error",
     "ename": "KeyError",
     "evalue": "\"['reweighted_redline_index', 'SVI_4', 'SVI_3', 'SVI', 'SVI_1', 'SVI_2', 'non_white_perc_bin'] not in index\"",
     "traceback": [
      "\u001b[0;31m---------------------------------------------------------------------------\u001b[0m",
      "\u001b[0;31mKeyError\u001b[0m                                  Traceback (most recent call last)",
      "\u001b[0;32m<ipython-input-91-1107e04843b8>\u001b[0m in \u001b[0;36m<module>\u001b[0;34m\u001b[0m\n\u001b[0;32m----> 1\u001b[0;31m \u001b[0mdf_redline_SVI_plot\u001b[0m \u001b[0;34m=\u001b[0m \u001b[0mdf\u001b[0m\u001b[0;34m[\u001b[0m\u001b[0;34m[\u001b[0m\u001b[0;34m'reweighted_redline_index'\u001b[0m\u001b[0;34m,\u001b[0m\u001b[0;34m'non_white_perc_bin'\u001b[0m\u001b[0;34m,\u001b[0m\u001b[0;34m'longitude'\u001b[0m\u001b[0;34m,\u001b[0m\u001b[0;34m'latitude'\u001b[0m\u001b[0;34m,\u001b[0m\u001b[0;34m'SVI'\u001b[0m\u001b[0;34m,\u001b[0m \u001b[0;34m'SVI_1'\u001b[0m\u001b[0;34m,\u001b[0m \u001b[0;34m'SVI_2'\u001b[0m\u001b[0;34m,\u001b[0m \u001b[0;34m'SVI_3'\u001b[0m\u001b[0;34m,\u001b[0m \u001b[0;34m'SVI_4'\u001b[0m\u001b[0;34m]\u001b[0m\u001b[0;34m]\u001b[0m\u001b[0;34m\u001b[0m\u001b[0;34m\u001b[0m\u001b[0m\n\u001b[0m\u001b[1;32m      2\u001b[0m \u001b[0;34m\u001b[0m\u001b[0m\n\u001b[1;32m      3\u001b[0m df_redline_SVI_plot.plot(kind=\"scatter\", x=\"longitude\", y=\"latitude\", alpha=0.5,\n\u001b[1;32m      4\u001b[0m     \u001b[0ms\u001b[0m\u001b[0;34m=\u001b[0m\u001b[0mdf_redline_SVI_plot\u001b[0m\u001b[0;34m[\u001b[0m\u001b[0;34m\"reweighted_redline_index\"\u001b[0m\u001b[0;34m]\u001b[0m\u001b[0;34m*\u001b[0m\u001b[0;36m100\u001b[0m\u001b[0;34m,\u001b[0m \u001b[0mlabel\u001b[0m\u001b[0;34m=\u001b[0m\u001b[0;34m\"SVI Theme 3 - Minority Status at 90th-percentile\"\u001b[0m\u001b[0;34m,\u001b[0m \u001b[0mfigsize\u001b[0m\u001b[0;34m=\u001b[0m\u001b[0;34m(\u001b[0m\u001b[0;36m10\u001b[0m\u001b[0;34m,\u001b[0m\u001b[0;36m7\u001b[0m\u001b[0;34m)\u001b[0m\u001b[0;34m,\u001b[0m\u001b[0;34m\u001b[0m\u001b[0;34m\u001b[0m\u001b[0m\n\u001b[1;32m      5\u001b[0m     \u001b[0mc\u001b[0m\u001b[0;34m=\u001b[0m\u001b[0;34m\"SVI_3\"\u001b[0m\u001b[0;34m,\u001b[0m \u001b[0mcmap\u001b[0m\u001b[0;34m=\u001b[0m\u001b[0mplt\u001b[0m\u001b[0;34m.\u001b[0m\u001b[0mget_cmap\u001b[0m\u001b[0;34m(\u001b[0m\u001b[0;34m\"jet\"\u001b[0m\u001b[0;34m)\u001b[0m\u001b[0;34m,\u001b[0m \u001b[0mcolorbar\u001b[0m\u001b[0;34m=\u001b[0m\u001b[0;32mTrue\u001b[0m\u001b[0;34m,\u001b[0m\u001b[0;34m\u001b[0m\u001b[0;34m\u001b[0m\u001b[0m\n",
      "\u001b[0;32m/shared-libs/python3.7/py/lib/python3.7/site-packages/pandas/core/frame.py\u001b[0m in \u001b[0;36m__getitem__\u001b[0;34m(self, key)\u001b[0m\n\u001b[1;32m   3028\u001b[0m             \u001b[0;32mif\u001b[0m \u001b[0mis_iterator\u001b[0m\u001b[0;34m(\u001b[0m\u001b[0mkey\u001b[0m\u001b[0;34m)\u001b[0m\u001b[0;34m:\u001b[0m\u001b[0;34m\u001b[0m\u001b[0;34m\u001b[0m\u001b[0m\n\u001b[1;32m   3029\u001b[0m                 \u001b[0mkey\u001b[0m \u001b[0;34m=\u001b[0m \u001b[0mlist\u001b[0m\u001b[0;34m(\u001b[0m\u001b[0mkey\u001b[0m\u001b[0;34m)\u001b[0m\u001b[0;34m\u001b[0m\u001b[0;34m\u001b[0m\u001b[0m\n\u001b[0;32m-> 3030\u001b[0;31m             \u001b[0mindexer\u001b[0m \u001b[0;34m=\u001b[0m \u001b[0mself\u001b[0m\u001b[0;34m.\u001b[0m\u001b[0mloc\u001b[0m\u001b[0;34m.\u001b[0m\u001b[0m_get_listlike_indexer\u001b[0m\u001b[0;34m(\u001b[0m\u001b[0mkey\u001b[0m\u001b[0;34m,\u001b[0m \u001b[0maxis\u001b[0m\u001b[0;34m=\u001b[0m\u001b[0;36m1\u001b[0m\u001b[0;34m,\u001b[0m \u001b[0mraise_missing\u001b[0m\u001b[0;34m=\u001b[0m\u001b[0;32mTrue\u001b[0m\u001b[0;34m)\u001b[0m\u001b[0;34m[\u001b[0m\u001b[0;36m1\u001b[0m\u001b[0;34m]\u001b[0m\u001b[0;34m\u001b[0m\u001b[0;34m\u001b[0m\u001b[0m\n\u001b[0m\u001b[1;32m   3031\u001b[0m \u001b[0;34m\u001b[0m\u001b[0m\n\u001b[1;32m   3032\u001b[0m         \u001b[0;31m# take() does not accept boolean indexers\u001b[0m\u001b[0;34m\u001b[0m\u001b[0;34m\u001b[0m\u001b[0;34m\u001b[0m\u001b[0m\n",
      "\u001b[0;32m/shared-libs/python3.7/py/lib/python3.7/site-packages/pandas/core/indexing.py\u001b[0m in \u001b[0;36m_get_listlike_indexer\u001b[0;34m(self, key, axis, raise_missing)\u001b[0m\n\u001b[1;32m   1264\u001b[0m             \u001b[0mkeyarr\u001b[0m\u001b[0;34m,\u001b[0m \u001b[0mindexer\u001b[0m\u001b[0;34m,\u001b[0m \u001b[0mnew_indexer\u001b[0m \u001b[0;34m=\u001b[0m \u001b[0max\u001b[0m\u001b[0;34m.\u001b[0m\u001b[0m_reindex_non_unique\u001b[0m\u001b[0;34m(\u001b[0m\u001b[0mkeyarr\u001b[0m\u001b[0;34m)\u001b[0m\u001b[0;34m\u001b[0m\u001b[0;34m\u001b[0m\u001b[0m\n\u001b[1;32m   1265\u001b[0m \u001b[0;34m\u001b[0m\u001b[0m\n\u001b[0;32m-> 1266\u001b[0;31m         \u001b[0mself\u001b[0m\u001b[0;34m.\u001b[0m\u001b[0m_validate_read_indexer\u001b[0m\u001b[0;34m(\u001b[0m\u001b[0mkeyarr\u001b[0m\u001b[0;34m,\u001b[0m \u001b[0mindexer\u001b[0m\u001b[0;34m,\u001b[0m \u001b[0maxis\u001b[0m\u001b[0;34m,\u001b[0m \u001b[0mraise_missing\u001b[0m\u001b[0;34m=\u001b[0m\u001b[0mraise_missing\u001b[0m\u001b[0;34m)\u001b[0m\u001b[0;34m\u001b[0m\u001b[0;34m\u001b[0m\u001b[0m\n\u001b[0m\u001b[1;32m   1267\u001b[0m         \u001b[0;32mreturn\u001b[0m \u001b[0mkeyarr\u001b[0m\u001b[0;34m,\u001b[0m \u001b[0mindexer\u001b[0m\u001b[0;34m\u001b[0m\u001b[0;34m\u001b[0m\u001b[0m\n\u001b[1;32m   1268\u001b[0m \u001b[0;34m\u001b[0m\u001b[0m\n",
      "\u001b[0;32m/shared-libs/python3.7/py/lib/python3.7/site-packages/pandas/core/indexing.py\u001b[0m in \u001b[0;36m_validate_read_indexer\u001b[0;34m(self, key, indexer, axis, raise_missing)\u001b[0m\n\u001b[1;32m   1314\u001b[0m             \u001b[0;32mif\u001b[0m \u001b[0mraise_missing\u001b[0m\u001b[0;34m:\u001b[0m\u001b[0;34m\u001b[0m\u001b[0;34m\u001b[0m\u001b[0m\n\u001b[1;32m   1315\u001b[0m                 \u001b[0mnot_found\u001b[0m \u001b[0;34m=\u001b[0m \u001b[0mlist\u001b[0m\u001b[0;34m(\u001b[0m\u001b[0mset\u001b[0m\u001b[0;34m(\u001b[0m\u001b[0mkey\u001b[0m\u001b[0;34m)\u001b[0m \u001b[0;34m-\u001b[0m \u001b[0mset\u001b[0m\u001b[0;34m(\u001b[0m\u001b[0max\u001b[0m\u001b[0;34m)\u001b[0m\u001b[0;34m)\u001b[0m\u001b[0;34m\u001b[0m\u001b[0;34m\u001b[0m\u001b[0m\n\u001b[0;32m-> 1316\u001b[0;31m                 \u001b[0;32mraise\u001b[0m \u001b[0mKeyError\u001b[0m\u001b[0;34m(\u001b[0m\u001b[0;34mf\"{not_found} not in index\"\u001b[0m\u001b[0;34m)\u001b[0m\u001b[0;34m\u001b[0m\u001b[0;34m\u001b[0m\u001b[0m\n\u001b[0m\u001b[1;32m   1317\u001b[0m \u001b[0;34m\u001b[0m\u001b[0m\n\u001b[1;32m   1318\u001b[0m             \u001b[0mnot_found\u001b[0m \u001b[0;34m=\u001b[0m \u001b[0mkey\u001b[0m\u001b[0;34m[\u001b[0m\u001b[0mmissing_mask\u001b[0m\u001b[0;34m]\u001b[0m\u001b[0;34m\u001b[0m\u001b[0;34m\u001b[0m\u001b[0m\n",
      "\u001b[0;31mKeyError\u001b[0m: \"['reweighted_redline_index', 'SVI_4', 'SVI_3', 'SVI', 'SVI_1', 'SVI_2', 'non_white_perc_bin'] not in index\""
     ]
    }
   ],
   "execution_count": null
  },
  {
   "cell_type": "code",
   "metadata": {
    "tags": [],
    "cell_id": "00045-8e27a20c-55c3-495b-bdf8-f1d949a1b786",
    "deepnote_to_be_reexecuted": false,
    "source_hash": "ef33219d",
    "execution_start": 1623462898649,
    "execution_millis": 17,
    "deepnote_cell_type": "code"
   },
   "source": "sns.violinplot(x=\"non_white_perc_bin\", y=\"SVI\", data=df_redline_SVI_plot,palette='rainbow')",
   "outputs": [
    {
     "output_type": "error",
     "ename": "NameError",
     "evalue": "name 'df_redline_SVI_plot' is not defined",
     "traceback": [
      "\u001b[0;31m---------------------------------------------------------------------------\u001b[0m",
      "\u001b[0;31mNameError\u001b[0m                                 Traceback (most recent call last)",
      "\u001b[0;32m<ipython-input-92-54452ce687ca>\u001b[0m in \u001b[0;36m<module>\u001b[0;34m\u001b[0m\n\u001b[0;32m----> 1\u001b[0;31m \u001b[0msns\u001b[0m\u001b[0;34m.\u001b[0m\u001b[0mviolinplot\u001b[0m\u001b[0;34m(\u001b[0m\u001b[0mx\u001b[0m\u001b[0;34m=\u001b[0m\u001b[0;34m\"non_white_perc_bin\"\u001b[0m\u001b[0;34m,\u001b[0m \u001b[0my\u001b[0m\u001b[0;34m=\u001b[0m\u001b[0;34m\"SVI\"\u001b[0m\u001b[0;34m,\u001b[0m \u001b[0mdata\u001b[0m\u001b[0;34m=\u001b[0m\u001b[0mdf_redline_SVI_plot\u001b[0m\u001b[0;34m,\u001b[0m\u001b[0mpalette\u001b[0m\u001b[0;34m=\u001b[0m\u001b[0;34m'rainbow'\u001b[0m\u001b[0;34m)\u001b[0m\u001b[0;34m\u001b[0m\u001b[0;34m\u001b[0m\u001b[0m\n\u001b[0m",
      "\u001b[0;31mNameError\u001b[0m: name 'df_redline_SVI_plot' is not defined"
     ]
    }
   ],
   "execution_count": null
  },
  {
   "cell_type": "code",
   "metadata": {
    "tags": [],
    "cell_id": "00046-c9110cee-0355-41aa-8101-a58a875ebbcc",
    "deepnote_to_be_reexecuted": false,
    "source_hash": "5f4a82f8",
    "execution_start": 1623462899211,
    "execution_millis": 17,
    "deepnote_cell_type": "code"
   },
   "source": "sns.swarmplot(x=\"non_white_perc_bin\", y=\"SVI\", data=df_redline_SVI_plot)",
   "outputs": [
    {
     "output_type": "error",
     "ename": "NameError",
     "evalue": "name 'df_redline_SVI_plot' is not defined",
     "traceback": [
      "\u001b[0;31m---------------------------------------------------------------------------\u001b[0m",
      "\u001b[0;31mNameError\u001b[0m                                 Traceback (most recent call last)",
      "\u001b[0;32m<ipython-input-93-b11fb13ebc21>\u001b[0m in \u001b[0;36m<module>\u001b[0;34m\u001b[0m\n\u001b[0;32m----> 1\u001b[0;31m \u001b[0msns\u001b[0m\u001b[0;34m.\u001b[0m\u001b[0mswarmplot\u001b[0m\u001b[0;34m(\u001b[0m\u001b[0mx\u001b[0m\u001b[0;34m=\u001b[0m\u001b[0;34m\"non_white_perc_bin\"\u001b[0m\u001b[0;34m,\u001b[0m \u001b[0my\u001b[0m\u001b[0;34m=\u001b[0m\u001b[0;34m\"SVI\"\u001b[0m\u001b[0;34m,\u001b[0m \u001b[0mdata\u001b[0m\u001b[0;34m=\u001b[0m\u001b[0mdf_redline_SVI_plot\u001b[0m\u001b[0;34m)\u001b[0m\u001b[0;34m\u001b[0m\u001b[0;34m\u001b[0m\u001b[0m\n\u001b[0m",
      "\u001b[0;31mNameError\u001b[0m: name 'df_redline_SVI_plot' is not defined"
     ]
    }
   ],
   "execution_count": null
  },
  {
   "cell_type": "markdown",
   "source": "#### Correlation Coefficients (All)\n\nCorrelation for Redline vs 5 SVI-based Indices",
   "metadata": {
    "tags": [],
    "cell_id": "00047-6e900c5a-3516-483a-9d8b-49fe5e5eedc4",
    "deepnote_cell_type": "markdown"
   }
  },
  {
   "cell_type": "code",
   "metadata": {
    "tags": [],
    "cell_id": "00047-373ded4a-fa49-45c9-8e1a-c608dfcaeb34",
    "deepnote_to_be_reexecuted": false,
    "source_hash": "2a1010ed",
    "execution_start": 1623462901241,
    "execution_millis": 28,
    "deepnote_cell_type": "code"
   },
   "source": "plt.figure(figsize=(12,10))\nsns.heatmap(df_redline_SVI.astype(float).corr(method='spearman'), linewidth=0.1, linecolor='grey', vmin=-1.0, vmax=1.0, square=True, cmap='coolwarm', annot=True)\n",
   "outputs": [
    {
     "output_type": "error",
     "ename": "NameError",
     "evalue": "name 'df_redline_SVI' is not defined",
     "traceback": [
      "\u001b[0;31m---------------------------------------------------------------------------\u001b[0m",
      "\u001b[0;31mNameError\u001b[0m                                 Traceback (most recent call last)",
      "\u001b[0;32m<ipython-input-94-c982537e7e94>\u001b[0m in \u001b[0;36m<module>\u001b[0;34m\u001b[0m\n\u001b[1;32m      1\u001b[0m \u001b[0mplt\u001b[0m\u001b[0;34m.\u001b[0m\u001b[0mfigure\u001b[0m\u001b[0;34m(\u001b[0m\u001b[0mfigsize\u001b[0m\u001b[0;34m=\u001b[0m\u001b[0;34m(\u001b[0m\u001b[0;36m12\u001b[0m\u001b[0;34m,\u001b[0m\u001b[0;36m10\u001b[0m\u001b[0;34m)\u001b[0m\u001b[0;34m)\u001b[0m\u001b[0;34m\u001b[0m\u001b[0;34m\u001b[0m\u001b[0m\n\u001b[0;32m----> 2\u001b[0;31m \u001b[0msns\u001b[0m\u001b[0;34m.\u001b[0m\u001b[0mheatmap\u001b[0m\u001b[0;34m(\u001b[0m\u001b[0mdf_redline_SVI\u001b[0m\u001b[0;34m.\u001b[0m\u001b[0mastype\u001b[0m\u001b[0;34m(\u001b[0m\u001b[0mfloat\u001b[0m\u001b[0;34m)\u001b[0m\u001b[0;34m.\u001b[0m\u001b[0mcorr\u001b[0m\u001b[0;34m(\u001b[0m\u001b[0mmethod\u001b[0m\u001b[0;34m=\u001b[0m\u001b[0;34m'spearman'\u001b[0m\u001b[0;34m)\u001b[0m\u001b[0;34m,\u001b[0m \u001b[0mlinewidth\u001b[0m\u001b[0;34m=\u001b[0m\u001b[0;36m0.1\u001b[0m\u001b[0;34m,\u001b[0m \u001b[0mlinecolor\u001b[0m\u001b[0;34m=\u001b[0m\u001b[0;34m'grey'\u001b[0m\u001b[0;34m,\u001b[0m \u001b[0mvmin\u001b[0m\u001b[0;34m=\u001b[0m\u001b[0;34m-\u001b[0m\u001b[0;36m1.0\u001b[0m\u001b[0;34m,\u001b[0m \u001b[0mvmax\u001b[0m\u001b[0;34m=\u001b[0m\u001b[0;36m1.0\u001b[0m\u001b[0;34m,\u001b[0m \u001b[0msquare\u001b[0m\u001b[0;34m=\u001b[0m\u001b[0;32mTrue\u001b[0m\u001b[0;34m,\u001b[0m \u001b[0mcmap\u001b[0m\u001b[0;34m=\u001b[0m\u001b[0;34m'coolwarm'\u001b[0m\u001b[0;34m,\u001b[0m \u001b[0mannot\u001b[0m\u001b[0;34m=\u001b[0m\u001b[0;32mTrue\u001b[0m\u001b[0;34m)\u001b[0m\u001b[0;34m\u001b[0m\u001b[0;34m\u001b[0m\u001b[0m\n\u001b[0m",
      "\u001b[0;31mNameError\u001b[0m: name 'df_redline_SVI' is not defined"
     ]
    },
    {
     "data": {
      "text/plain": "<Figure size 864x720 with 0 Axes>"
     },
     "metadata": {},
     "output_type": "display_data"
    }
   ],
   "execution_count": null
  },
  {
   "cell_type": "markdown",
   "source": "Correlation for Minority vs 5 SVI-based indices",
   "metadata": {
    "tags": [],
    "cell_id": "00049-19d0d113-bd25-41af-9d05-c409065cb7c4",
    "deepnote_cell_type": "markdown"
   }
  },
  {
   "cell_type": "code",
   "metadata": {
    "tags": [],
    "cell_id": "00050-ae3a3925-ed9a-4d45-8876-db98ec0ffbda",
    "deepnote_to_be_reexecuted": false,
    "source_hash": "844813d6",
    "execution_start": 1623462904297,
    "execution_millis": 32,
    "deepnote_cell_type": "code"
   },
   "source": "df_minority_SVI = df[['non_white_perc_bin','SVI', 'SVI_1', 'SVI_2', 'SVI_3', 'SVI_4']]",
   "outputs": [
    {
     "output_type": "error",
     "ename": "KeyError",
     "evalue": "\"None of [Index(['non_white_perc_bin', 'SVI', 'SVI_1', 'SVI_2', 'SVI_3', 'SVI_4'], dtype='object')] are in the [columns]\"",
     "traceback": [
      "\u001b[0;31m---------------------------------------------------------------------------\u001b[0m",
      "\u001b[0;31mKeyError\u001b[0m                                  Traceback (most recent call last)",
      "\u001b[0;32m<ipython-input-95-11a07c9aa046>\u001b[0m in \u001b[0;36m<module>\u001b[0;34m\u001b[0m\n\u001b[0;32m----> 1\u001b[0;31m \u001b[0mdf_minority_SVI\u001b[0m \u001b[0;34m=\u001b[0m \u001b[0mdf\u001b[0m\u001b[0;34m[\u001b[0m\u001b[0;34m[\u001b[0m\u001b[0;34m'non_white_perc_bin'\u001b[0m\u001b[0;34m,\u001b[0m\u001b[0;34m'SVI'\u001b[0m\u001b[0;34m,\u001b[0m \u001b[0;34m'SVI_1'\u001b[0m\u001b[0;34m,\u001b[0m \u001b[0;34m'SVI_2'\u001b[0m\u001b[0;34m,\u001b[0m \u001b[0;34m'SVI_3'\u001b[0m\u001b[0;34m,\u001b[0m \u001b[0;34m'SVI_4'\u001b[0m\u001b[0;34m]\u001b[0m\u001b[0;34m]\u001b[0m\u001b[0;34m\u001b[0m\u001b[0;34m\u001b[0m\u001b[0m\n\u001b[0m",
      "\u001b[0;32m/shared-libs/python3.7/py/lib/python3.7/site-packages/pandas/core/frame.py\u001b[0m in \u001b[0;36m__getitem__\u001b[0;34m(self, key)\u001b[0m\n\u001b[1;32m   3028\u001b[0m             \u001b[0;32mif\u001b[0m \u001b[0mis_iterator\u001b[0m\u001b[0;34m(\u001b[0m\u001b[0mkey\u001b[0m\u001b[0;34m)\u001b[0m\u001b[0;34m:\u001b[0m\u001b[0;34m\u001b[0m\u001b[0;34m\u001b[0m\u001b[0m\n\u001b[1;32m   3029\u001b[0m                 \u001b[0mkey\u001b[0m \u001b[0;34m=\u001b[0m \u001b[0mlist\u001b[0m\u001b[0;34m(\u001b[0m\u001b[0mkey\u001b[0m\u001b[0;34m)\u001b[0m\u001b[0;34m\u001b[0m\u001b[0;34m\u001b[0m\u001b[0m\n\u001b[0;32m-> 3030\u001b[0;31m             \u001b[0mindexer\u001b[0m \u001b[0;34m=\u001b[0m \u001b[0mself\u001b[0m\u001b[0;34m.\u001b[0m\u001b[0mloc\u001b[0m\u001b[0;34m.\u001b[0m\u001b[0m_get_listlike_indexer\u001b[0m\u001b[0;34m(\u001b[0m\u001b[0mkey\u001b[0m\u001b[0;34m,\u001b[0m \u001b[0maxis\u001b[0m\u001b[0;34m=\u001b[0m\u001b[0;36m1\u001b[0m\u001b[0;34m,\u001b[0m \u001b[0mraise_missing\u001b[0m\u001b[0;34m=\u001b[0m\u001b[0;32mTrue\u001b[0m\u001b[0;34m)\u001b[0m\u001b[0;34m[\u001b[0m\u001b[0;36m1\u001b[0m\u001b[0;34m]\u001b[0m\u001b[0;34m\u001b[0m\u001b[0;34m\u001b[0m\u001b[0m\n\u001b[0m\u001b[1;32m   3031\u001b[0m \u001b[0;34m\u001b[0m\u001b[0m\n\u001b[1;32m   3032\u001b[0m         \u001b[0;31m# take() does not accept boolean indexers\u001b[0m\u001b[0;34m\u001b[0m\u001b[0;34m\u001b[0m\u001b[0;34m\u001b[0m\u001b[0m\n",
      "\u001b[0;32m/shared-libs/python3.7/py/lib/python3.7/site-packages/pandas/core/indexing.py\u001b[0m in \u001b[0;36m_get_listlike_indexer\u001b[0;34m(self, key, axis, raise_missing)\u001b[0m\n\u001b[1;32m   1264\u001b[0m             \u001b[0mkeyarr\u001b[0m\u001b[0;34m,\u001b[0m \u001b[0mindexer\u001b[0m\u001b[0;34m,\u001b[0m \u001b[0mnew_indexer\u001b[0m \u001b[0;34m=\u001b[0m \u001b[0max\u001b[0m\u001b[0;34m.\u001b[0m\u001b[0m_reindex_non_unique\u001b[0m\u001b[0;34m(\u001b[0m\u001b[0mkeyarr\u001b[0m\u001b[0;34m)\u001b[0m\u001b[0;34m\u001b[0m\u001b[0;34m\u001b[0m\u001b[0m\n\u001b[1;32m   1265\u001b[0m \u001b[0;34m\u001b[0m\u001b[0m\n\u001b[0;32m-> 1266\u001b[0;31m         \u001b[0mself\u001b[0m\u001b[0;34m.\u001b[0m\u001b[0m_validate_read_indexer\u001b[0m\u001b[0;34m(\u001b[0m\u001b[0mkeyarr\u001b[0m\u001b[0;34m,\u001b[0m \u001b[0mindexer\u001b[0m\u001b[0;34m,\u001b[0m \u001b[0maxis\u001b[0m\u001b[0;34m,\u001b[0m \u001b[0mraise_missing\u001b[0m\u001b[0;34m=\u001b[0m\u001b[0mraise_missing\u001b[0m\u001b[0;34m)\u001b[0m\u001b[0;34m\u001b[0m\u001b[0;34m\u001b[0m\u001b[0m\n\u001b[0m\u001b[1;32m   1267\u001b[0m         \u001b[0;32mreturn\u001b[0m \u001b[0mkeyarr\u001b[0m\u001b[0;34m,\u001b[0m \u001b[0mindexer\u001b[0m\u001b[0;34m\u001b[0m\u001b[0;34m\u001b[0m\u001b[0m\n\u001b[1;32m   1268\u001b[0m \u001b[0;34m\u001b[0m\u001b[0m\n",
      "\u001b[0;32m/shared-libs/python3.7/py/lib/python3.7/site-packages/pandas/core/indexing.py\u001b[0m in \u001b[0;36m_validate_read_indexer\u001b[0;34m(self, key, indexer, axis, raise_missing)\u001b[0m\n\u001b[1;32m   1306\u001b[0m             \u001b[0;32mif\u001b[0m \u001b[0mmissing\u001b[0m \u001b[0;34m==\u001b[0m \u001b[0mlen\u001b[0m\u001b[0;34m(\u001b[0m\u001b[0mindexer\u001b[0m\u001b[0;34m)\u001b[0m\u001b[0;34m:\u001b[0m\u001b[0;34m\u001b[0m\u001b[0;34m\u001b[0m\u001b[0m\n\u001b[1;32m   1307\u001b[0m                 \u001b[0maxis_name\u001b[0m \u001b[0;34m=\u001b[0m \u001b[0mself\u001b[0m\u001b[0;34m.\u001b[0m\u001b[0mobj\u001b[0m\u001b[0;34m.\u001b[0m\u001b[0m_get_axis_name\u001b[0m\u001b[0;34m(\u001b[0m\u001b[0maxis\u001b[0m\u001b[0;34m)\u001b[0m\u001b[0;34m\u001b[0m\u001b[0;34m\u001b[0m\u001b[0m\n\u001b[0;32m-> 1308\u001b[0;31m                 \u001b[0;32mraise\u001b[0m \u001b[0mKeyError\u001b[0m\u001b[0;34m(\u001b[0m\u001b[0;34mf\"None of [{key}] are in the [{axis_name}]\"\u001b[0m\u001b[0;34m)\u001b[0m\u001b[0;34m\u001b[0m\u001b[0;34m\u001b[0m\u001b[0m\n\u001b[0m\u001b[1;32m   1309\u001b[0m \u001b[0;34m\u001b[0m\u001b[0m\n\u001b[1;32m   1310\u001b[0m             \u001b[0max\u001b[0m \u001b[0;34m=\u001b[0m \u001b[0mself\u001b[0m\u001b[0;34m.\u001b[0m\u001b[0mobj\u001b[0m\u001b[0;34m.\u001b[0m\u001b[0m_get_axis\u001b[0m\u001b[0;34m(\u001b[0m\u001b[0maxis\u001b[0m\u001b[0;34m)\u001b[0m\u001b[0;34m\u001b[0m\u001b[0;34m\u001b[0m\u001b[0m\n",
      "\u001b[0;31mKeyError\u001b[0m: \"None of [Index(['non_white_perc_bin', 'SVI', 'SVI_1', 'SVI_2', 'SVI_3', 'SVI_4'], dtype='object')] are in the [columns]\""
     ]
    }
   ],
   "execution_count": null
  },
  {
   "cell_type": "code",
   "metadata": {
    "tags": [],
    "cell_id": "00051-1fc8c369-b8cc-43b7-b718-236d6108ca9f",
    "deepnote_to_be_reexecuted": false,
    "source_hash": "6250d8ad",
    "execution_start": 1623462904686,
    "execution_millis": 29,
    "deepnote_cell_type": "code"
   },
   "source": "plt.figure(figsize=(12,10))\nsns.heatmap(df_minority_SVI.astype(float).corr(method='spearman'), linewidth=0.1, linecolor='grey', vmin=-1.0, vmax=1.0, square=True, cmap='coolwarm', annot=True)",
   "outputs": [
    {
     "output_type": "error",
     "ename": "NameError",
     "evalue": "name 'df_minority_SVI' is not defined",
     "traceback": [
      "\u001b[0;31m---------------------------------------------------------------------------\u001b[0m",
      "\u001b[0;31mNameError\u001b[0m                                 Traceback (most recent call last)",
      "\u001b[0;32m<ipython-input-96-f1f14c5d8579>\u001b[0m in \u001b[0;36m<module>\u001b[0;34m\u001b[0m\n\u001b[1;32m      1\u001b[0m \u001b[0mplt\u001b[0m\u001b[0;34m.\u001b[0m\u001b[0mfigure\u001b[0m\u001b[0;34m(\u001b[0m\u001b[0mfigsize\u001b[0m\u001b[0;34m=\u001b[0m\u001b[0;34m(\u001b[0m\u001b[0;36m12\u001b[0m\u001b[0;34m,\u001b[0m\u001b[0;36m10\u001b[0m\u001b[0;34m)\u001b[0m\u001b[0;34m)\u001b[0m\u001b[0;34m\u001b[0m\u001b[0;34m\u001b[0m\u001b[0m\n\u001b[0;32m----> 2\u001b[0;31m \u001b[0msns\u001b[0m\u001b[0;34m.\u001b[0m\u001b[0mheatmap\u001b[0m\u001b[0;34m(\u001b[0m\u001b[0mdf_minority_SVI\u001b[0m\u001b[0;34m.\u001b[0m\u001b[0mastype\u001b[0m\u001b[0;34m(\u001b[0m\u001b[0mfloat\u001b[0m\u001b[0;34m)\u001b[0m\u001b[0;34m.\u001b[0m\u001b[0mcorr\u001b[0m\u001b[0;34m(\u001b[0m\u001b[0mmethod\u001b[0m\u001b[0;34m=\u001b[0m\u001b[0;34m'spearman'\u001b[0m\u001b[0;34m)\u001b[0m\u001b[0;34m,\u001b[0m \u001b[0mlinewidth\u001b[0m\u001b[0;34m=\u001b[0m\u001b[0;36m0.1\u001b[0m\u001b[0;34m,\u001b[0m \u001b[0mlinecolor\u001b[0m\u001b[0;34m=\u001b[0m\u001b[0;34m'grey'\u001b[0m\u001b[0;34m,\u001b[0m \u001b[0mvmin\u001b[0m\u001b[0;34m=\u001b[0m\u001b[0;34m-\u001b[0m\u001b[0;36m1.0\u001b[0m\u001b[0;34m,\u001b[0m \u001b[0mvmax\u001b[0m\u001b[0;34m=\u001b[0m\u001b[0;36m1.0\u001b[0m\u001b[0;34m,\u001b[0m \u001b[0msquare\u001b[0m\u001b[0;34m=\u001b[0m\u001b[0;32mTrue\u001b[0m\u001b[0;34m,\u001b[0m \u001b[0mcmap\u001b[0m\u001b[0;34m=\u001b[0m\u001b[0;34m'coolwarm'\u001b[0m\u001b[0;34m,\u001b[0m \u001b[0mannot\u001b[0m\u001b[0;34m=\u001b[0m\u001b[0;32mTrue\u001b[0m\u001b[0;34m)\u001b[0m\u001b[0;34m\u001b[0m\u001b[0;34m\u001b[0m\u001b[0m\n\u001b[0m",
      "\u001b[0;31mNameError\u001b[0m: name 'df_minority_SVI' is not defined"
     ]
    },
    {
     "data": {
      "text/plain": "<Figure size 864x720 with 0 Axes>"
     },
     "metadata": {},
     "output_type": "display_data"
    }
   ],
   "execution_count": null
  },
  {
   "cell_type": "markdown",
   "source": "#### Correlation Coefficients, where p-value < 0.05\n\nSample size = 168",
   "metadata": {
    "tags": [],
    "cell_id": "00052-002592e0-9523-4117-bd00-dca3cdce1b06",
    "deepnote_cell_type": "markdown"
   }
  },
  {
   "cell_type": "code",
   "metadata": {
    "tags": [],
    "cell_id": "00053-cec37c6d-12f2-417c-985a-faf6d9e3fa81",
    "deepnote_to_be_reexecuted": false,
    "source_hash": "89ad9c11",
    "execution_start": 1623462907851,
    "execution_millis": 1,
    "deepnote_cell_type": "code"
   },
   "source": "# Define functions to (i) get p-values (to be used to mask out corr coef w p-values >= 0.05); (ii) plot the heat map to show only significant corr coef\n\nfrom scipy import stats\n\ndef corr_sig(df=None):\n    p_matrix = np.zeros(shape=(df.shape[1],df.shape[1]))\n    for col in df.columns:\n        for col2 in df.drop(col,axis=1).columns:\n            _ , p = stats.spearmanr(df[col],df[col2])\n            p_matrix[df.columns.to_list().index(col),df.columns.to_list().index(col2)] = p\n    return p_matrix\n\ndef plot_cor_matrix(corr, mask=None):\n    f, ax = plt.subplots(figsize=(10, 8))\n    sns.heatmap(corr, ax=ax,\n                mask=mask,\n                annot=True, vmin=-1, vmax=1, center=0,\n                cmap='coolwarm', linewidths=0.1, linecolor='grey',square=True, cbar_kws={'orientation': 'vertical'})",
   "outputs": [],
   "execution_count": null
  },
  {
   "cell_type": "markdown",
   "source": "##### Correlation (All)",
   "metadata": {
    "tags": [],
    "cell_id": "00054-1933064a-b7da-49a9-9e64-d71b935c9de0",
    "deepnote_cell_type": "markdown"
   }
  },
  {
   "cell_type": "code",
   "metadata": {
    "tags": [],
    "cell_id": "00055-0310bfdb-97ef-4606-b138-3bd0b23e85e3",
    "deepnote_to_be_reexecuted": false,
    "source_hash": "fb0d9e9a",
    "execution_start": 1623462910000,
    "execution_millis": 42,
    "deepnote_cell_type": "code"
   },
   "source": "df_corr.dropna(inplace=True) # Remove missing values, if any\n\np_values = corr_sig(df_corr.astype(float))  # Convert integer to float before input\nmask = np.invert(p_values<0.05)\n\ncorr = df_corr.corr(method='spearman')                 # All correlation values between the selected variables\np_values = corr_sig(df_corr)          # p-values for correlation between the selected variables\nmask = np.invert(np.tril(p_values<0.05))  # Masking out corr coef w p-values >= 0.05; showing only lower triangle for analysis, as upper triangle is a mirror of the lower\n\n# mask = np.invert(p_values<0.05)         # Un-comment this line to see both triangles (full heat map) \n\n# Plotting\nplot_cor_matrix(corr,mask)",
   "outputs": [
    {
     "output_type": "error",
     "ename": "NameError",
     "evalue": "name 'df_corr' is not defined",
     "traceback": [
      "\u001b[0;31m---------------------------------------------------------------------------\u001b[0m",
      "\u001b[0;31mNameError\u001b[0m                                 Traceback (most recent call last)",
      "\u001b[0;32m<ipython-input-98-afe6b2b0e8d1>\u001b[0m in \u001b[0;36m<module>\u001b[0;34m\u001b[0m\n\u001b[0;32m----> 1\u001b[0;31m \u001b[0mdf_corr\u001b[0m\u001b[0;34m.\u001b[0m\u001b[0mdropna\u001b[0m\u001b[0;34m(\u001b[0m\u001b[0minplace\u001b[0m\u001b[0;34m=\u001b[0m\u001b[0;32mTrue\u001b[0m\u001b[0;34m)\u001b[0m \u001b[0;31m# Remove missing values, if any\u001b[0m\u001b[0;34m\u001b[0m\u001b[0;34m\u001b[0m\u001b[0m\n\u001b[0m\u001b[1;32m      2\u001b[0m \u001b[0;34m\u001b[0m\u001b[0m\n\u001b[1;32m      3\u001b[0m \u001b[0mp_values\u001b[0m \u001b[0;34m=\u001b[0m \u001b[0mcorr_sig\u001b[0m\u001b[0;34m(\u001b[0m\u001b[0mdf_corr\u001b[0m\u001b[0;34m.\u001b[0m\u001b[0mastype\u001b[0m\u001b[0;34m(\u001b[0m\u001b[0mfloat\u001b[0m\u001b[0;34m)\u001b[0m\u001b[0;34m)\u001b[0m  \u001b[0;31m# Convert integer to float before input\u001b[0m\u001b[0;34m\u001b[0m\u001b[0;34m\u001b[0m\u001b[0m\n\u001b[1;32m      4\u001b[0m \u001b[0mmask\u001b[0m \u001b[0;34m=\u001b[0m \u001b[0mnp\u001b[0m\u001b[0;34m.\u001b[0m\u001b[0minvert\u001b[0m\u001b[0;34m(\u001b[0m\u001b[0mp_values\u001b[0m\u001b[0;34m<\u001b[0m\u001b[0;36m0.05\u001b[0m\u001b[0;34m)\u001b[0m\u001b[0;34m\u001b[0m\u001b[0;34m\u001b[0m\u001b[0m\n\u001b[1;32m      5\u001b[0m \u001b[0;34m\u001b[0m\u001b[0m\n",
      "\u001b[0;31mNameError\u001b[0m: name 'df_corr' is not defined"
     ]
    }
   ],
   "execution_count": null
  },
  {
   "cell_type": "markdown",
   "source": "##### Correlation between Redline Index vs 5 SVI-based Indices",
   "metadata": {
    "tags": [],
    "cell_id": "00056-c359aac5-2b6e-4b05-a7fd-29467385b77e",
    "deepnote_cell_type": "markdown"
   }
  },
  {
   "cell_type": "code",
   "metadata": {
    "tags": [],
    "cell_id": "00057-e6e64eef-6ab3-413a-ba77-8e673813e137",
    "deepnote_to_be_reexecuted": false,
    "source_hash": "bdbac493",
    "execution_start": 1623462913068,
    "execution_millis": 17,
    "deepnote_cell_type": "code"
   },
   "source": "df_redline_SVI.dropna(inplace=True) # Remove missing values, if any\n\np_values = corr_sig(df_redline_SVI.astype(float))  # Convert integer to float before input\nmask = np.invert(p_values<0.05)\n\ncorr = df_redline_SVI.corr(method='spearman')                 # All correlation values between the selected variables\np_values = corr_sig(df_redline_SVI)          # p-values for correlation between the selected variables\nmask = np.invert(np.tril(p_values<0.05))  # Masking out corr coef w p-values >= 0.05; showing only lower triangle for analysis, as upper triangle is a mirror of the lower\n\n# mask = np.invert(p_values<0.05)         # Un-comment this line to see both triangles (full heat map) \n\n# Plotting\nplot_cor_matrix(corr,mask)",
   "outputs": [
    {
     "output_type": "error",
     "ename": "NameError",
     "evalue": "name 'df_redline_SVI' is not defined",
     "traceback": [
      "\u001b[0;31m---------------------------------------------------------------------------\u001b[0m",
      "\u001b[0;31mNameError\u001b[0m                                 Traceback (most recent call last)",
      "\u001b[0;32m<ipython-input-99-1ddc683efc7a>\u001b[0m in \u001b[0;36m<module>\u001b[0;34m\u001b[0m\n\u001b[0;32m----> 1\u001b[0;31m \u001b[0mdf_redline_SVI\u001b[0m\u001b[0;34m.\u001b[0m\u001b[0mdropna\u001b[0m\u001b[0;34m(\u001b[0m\u001b[0minplace\u001b[0m\u001b[0;34m=\u001b[0m\u001b[0;32mTrue\u001b[0m\u001b[0;34m)\u001b[0m \u001b[0;31m# Remove missing values, if any\u001b[0m\u001b[0;34m\u001b[0m\u001b[0;34m\u001b[0m\u001b[0m\n\u001b[0m\u001b[1;32m      2\u001b[0m \u001b[0;34m\u001b[0m\u001b[0m\n\u001b[1;32m      3\u001b[0m \u001b[0mp_values\u001b[0m \u001b[0;34m=\u001b[0m \u001b[0mcorr_sig\u001b[0m\u001b[0;34m(\u001b[0m\u001b[0mdf_redline_SVI\u001b[0m\u001b[0;34m.\u001b[0m\u001b[0mastype\u001b[0m\u001b[0;34m(\u001b[0m\u001b[0mfloat\u001b[0m\u001b[0;34m)\u001b[0m\u001b[0;34m)\u001b[0m  \u001b[0;31m# Convert integer to float before input\u001b[0m\u001b[0;34m\u001b[0m\u001b[0;34m\u001b[0m\u001b[0m\n\u001b[1;32m      4\u001b[0m \u001b[0mmask\u001b[0m \u001b[0;34m=\u001b[0m \u001b[0mnp\u001b[0m\u001b[0;34m.\u001b[0m\u001b[0minvert\u001b[0m\u001b[0;34m(\u001b[0m\u001b[0mp_values\u001b[0m\u001b[0;34m<\u001b[0m\u001b[0;36m0.05\u001b[0m\u001b[0;34m)\u001b[0m\u001b[0;34m\u001b[0m\u001b[0;34m\u001b[0m\u001b[0m\n\u001b[1;32m      5\u001b[0m \u001b[0;34m\u001b[0m\u001b[0m\n",
      "\u001b[0;31mNameError\u001b[0m: name 'df_redline_SVI' is not defined"
     ]
    }
   ],
   "execution_count": null
  },
  {
   "cell_type": "markdown",
   "source": "##### Correlation between Minority vs 5 SVI-based Indices",
   "metadata": {
    "tags": [],
    "cell_id": "00058-4fcb077e-4cc9-4c31-90b4-25789dc1c931",
    "deepnote_cell_type": "markdown"
   }
  },
  {
   "cell_type": "code",
   "metadata": {
    "tags": [],
    "cell_id": "00059-a51a8266-da25-4a7c-8ff8-dc16d71f3461",
    "deepnote_to_be_reexecuted": false,
    "source_hash": "9b538661",
    "execution_start": 1623462915023,
    "execution_millis": 17,
    "deepnote_cell_type": "code"
   },
   "source": "df_minority_SVI.dropna(inplace=True) # Remove missing values, if any\n\np_values = corr_sig(df_minority_SVI.astype(float))  # Convert integer to float before input\nmask = np.invert(p_values<0.05)\n\ncorr = df_minority_SVI.corr(method='spearman')                 # All correlation values between the selected variables\np_values = corr_sig(df_minority_SVI)          # p-values for correlation between the selected variables\nmask = np.invert(np.tril(p_values<0.05))  # Masking out corr coef w p-values >= 0.05; showing only lower triangle for analysis, as upper triangle is a mirror of the lower\n\n# mask = np.invert(p_values<0.05)         # Un-comment this line to see both triangles (full heat map) \n\n# Plotting\nplot_cor_matrix(corr,mask)",
   "outputs": [
    {
     "output_type": "error",
     "ename": "NameError",
     "evalue": "name 'df_minority_SVI' is not defined",
     "traceback": [
      "\u001b[0;31m---------------------------------------------------------------------------\u001b[0m",
      "\u001b[0;31mNameError\u001b[0m                                 Traceback (most recent call last)",
      "\u001b[0;32m<ipython-input-100-a05b19e3172c>\u001b[0m in \u001b[0;36m<module>\u001b[0;34m\u001b[0m\n\u001b[0;32m----> 1\u001b[0;31m \u001b[0mdf_minority_SVI\u001b[0m\u001b[0;34m.\u001b[0m\u001b[0mdropna\u001b[0m\u001b[0;34m(\u001b[0m\u001b[0minplace\u001b[0m\u001b[0;34m=\u001b[0m\u001b[0;32mTrue\u001b[0m\u001b[0;34m)\u001b[0m \u001b[0;31m# Remove missing values, if any\u001b[0m\u001b[0;34m\u001b[0m\u001b[0;34m\u001b[0m\u001b[0m\n\u001b[0m\u001b[1;32m      2\u001b[0m \u001b[0;34m\u001b[0m\u001b[0m\n\u001b[1;32m      3\u001b[0m \u001b[0mp_values\u001b[0m \u001b[0;34m=\u001b[0m \u001b[0mcorr_sig\u001b[0m\u001b[0;34m(\u001b[0m\u001b[0mdf_minority_SVI\u001b[0m\u001b[0;34m.\u001b[0m\u001b[0mastype\u001b[0m\u001b[0;34m(\u001b[0m\u001b[0mfloat\u001b[0m\u001b[0;34m)\u001b[0m\u001b[0;34m)\u001b[0m  \u001b[0;31m# Convert integer to float before input\u001b[0m\u001b[0;34m\u001b[0m\u001b[0;34m\u001b[0m\u001b[0m\n\u001b[1;32m      4\u001b[0m \u001b[0mmask\u001b[0m \u001b[0;34m=\u001b[0m \u001b[0mnp\u001b[0m\u001b[0;34m.\u001b[0m\u001b[0minvert\u001b[0m\u001b[0;34m(\u001b[0m\u001b[0mp_values\u001b[0m\u001b[0;34m<\u001b[0m\u001b[0;36m0.05\u001b[0m\u001b[0;34m)\u001b[0m\u001b[0;34m\u001b[0m\u001b[0;34m\u001b[0m\u001b[0m\n\u001b[1;32m      5\u001b[0m \u001b[0;34m\u001b[0m\u001b[0m\n",
      "\u001b[0;31mNameError\u001b[0m: name 'df_minority_SVI' is not defined"
     ]
    }
   ],
   "execution_count": null
  },
  {
   "cell_type": "markdown",
   "source": "## Index-level Visuals",
   "metadata": {
    "tags": [],
    "cell_id": "00060-b661f05b-e6ff-4c65-a6cd-3c94fd712fd6",
    "deepnote_cell_type": "markdown"
   }
  },
  {
   "cell_type": "markdown",
   "source": "### Pair Plots for All SVI-based ACS Variables, as well as SVI-based Indices\n\nSample size = 168",
   "metadata": {
    "tags": [],
    "cell_id": "00061-07fd3def-d70d-4344-a9f3-6d981230ce90",
    "deepnote_cell_type": "markdown"
   }
  },
  {
   "cell_type": "code",
   "metadata": {
    "tags": [],
    "cell_id": "00062-17a60734-9928-4049-bb67-d513b2a7f13c",
    "deepnote_to_be_reexecuted": false,
    "source_hash": "f1e8aec",
    "execution_start": 1623462918078,
    "deepnote_cell_type": "code"
   },
   "source": "sns.pairplot(df, plot_kws = {'alpha': 0.6, 'edgecolor': 'black'}, palette = 'winter')\nplt.savefig(\"pair-plot-all-svig.svg\")",
   "execution_count": null,
   "outputs": [
    {
     "output_type": "error",
     "ename": "KernelInterrupted",
     "evalue": "Execution interrupted by the Jupyter kernel.",
     "traceback": [
      "\u001b[0;31m---------------------------------------------------------------------------\u001b[0m",
      "\u001b[0;31mKernelInterrupted\u001b[0m: Execution interrupted by the Jupyter kernel."
     ]
    }
   ]
  },
  {
   "cell_type": "markdown",
   "source": "### Joint Plots for Redline Index vs 5 SVI-based Indices - SVI and SVI_1 ~ SVI_4\n\nSample size = 168",
   "metadata": {
    "tags": [],
    "cell_id": "00063-9f8b9fc0-27f4-4001-9fb3-0cb25591cbe6",
    "deepnote_cell_type": "markdown"
   }
  },
  {
   "cell_type": "code",
   "metadata": {
    "tags": [],
    "cell_id": "00064-7c93d695-3472-4e94-b302-6fdc15566791",
    "deepnote_to_be_reexecuted": true,
    "source_hash": "82f02710",
    "deepnote_cell_type": "code"
   },
   "source": "sns.pairplot(df_redline_SVI, kind = 'scatter', diag_kind = 'hist', plot_kws = {'alpha': 0.6, 'edgecolor': 'black'}, palette = 'winter')",
   "execution_count": null,
   "outputs": []
  },
  {
   "cell_type": "code",
   "metadata": {
    "tags": [],
    "cell_id": "00065-5d032bea-c498-4f53-a6d1-904fa9cb494e",
    "deepnote_to_be_reexecuted": true,
    "source_hash": "dfc11d45",
    "deepnote_cell_type": "code"
   },
   "source": "sns.pairplot(df_minority_SVI, kind = 'scatter', diag_kind = 'hist', plot_kws = {'alpha': 0.6, 'edgecolor': 'black'}, palette = 'winter')",
   "execution_count": null,
   "outputs": []
  },
  {
   "cell_type": "markdown",
   "source": "#### Redline Index vs SVI (all flags counted)",
   "metadata": {
    "tags": [],
    "cell_id": "00066-fdc97391-e975-40ec-b7c4-ed016ef7259e",
    "deepnote_cell_type": "markdown"
   }
  },
  {
   "cell_type": "code",
   "metadata": {
    "tags": [],
    "cell_id": "00067-28a3d983-4bc3-4411-853b-9018afed611c",
    "deepnote_to_be_reexecuted": true,
    "source_hash": "a1bf458f",
    "deepnote_cell_type": "code"
   },
   "source": "# Use Jointplot to match up two distplots for bivariate data. Options: scatter, reg, resid, kde, hex\n\ndf1 = df_redline_SVI.dropna(subset=['reweighted_redline_index','SVI'])\nsns.jointplot(x='SVI',y='reweighted_redline_index',data=df1,kind='reg')",
   "execution_count": null,
   "outputs": []
  },
  {
   "cell_type": "markdown",
   "source": "#### Redline Index vs SVI_2 (Theme#1 flags: Socioeconomic Status)",
   "metadata": {
    "tags": [],
    "cell_id": "00068-e64bb793-505d-4d2c-b70e-c3b8f55a4c9b",
    "deepnote_cell_type": "markdown"
   }
  },
  {
   "cell_type": "code",
   "metadata": {
    "tags": [],
    "cell_id": "00069-6d4e6b14-b787-48e6-8d21-7164963aa951",
    "deepnote_to_be_reexecuted": true,
    "source_hash": "49fe8b6f",
    "deepnote_cell_type": "code"
   },
   "source": "df1 = df_redline_SVI.dropna(subset=['reweighted_redline_index','SVI_1'])\nsns.jointplot(x='SVI_1',y='reweighted_redline_index',data=df1,kind='reg')",
   "execution_count": null,
   "outputs": []
  },
  {
   "cell_type": "markdown",
   "source": "#### Redline Index vs SVI_2 (Theme#2 flags: Household Composition & Disability)",
   "metadata": {
    "tags": [],
    "cell_id": "00070-89f5ad2a-674a-4df0-b20e-1b3a40a03478",
    "deepnote_cell_type": "markdown"
   }
  },
  {
   "cell_type": "code",
   "metadata": {
    "tags": [],
    "cell_id": "00071-49f72ffe-7d17-4acb-ab88-ed313df5776d",
    "deepnote_to_be_reexecuted": true,
    "source_hash": "c55b6c4f",
    "deepnote_cell_type": "code"
   },
   "source": "df1 = df_redline_SVI.dropna(subset=['reweighted_redline_index','SVI_2'])\nsns.jointplot(x='SVI_2',y='reweighted_redline_index',data=df1,kind='reg')",
   "execution_count": null,
   "outputs": []
  },
  {
   "cell_type": "markdown",
   "source": "#### Redline Index vs SVI_3 (Theme#3 flags: Minority Status & Language)",
   "metadata": {
    "tags": [],
    "cell_id": "00072-fada15e6-af29-4737-8e89-5b890da1c16a",
    "deepnote_cell_type": "markdown"
   }
  },
  {
   "cell_type": "code",
   "metadata": {
    "tags": [],
    "cell_id": "00073-ba3a4667-2449-4a01-9f9f-1c904a07b089",
    "deepnote_to_be_reexecuted": true,
    "source_hash": "7f3d059f",
    "deepnote_cell_type": "code"
   },
   "source": "df1 = df_redline_SVI.dropna(subset=['reweighted_redline_index','SVI_3'])\nsns.jointplot(x='SVI_3',y='reweighted_redline_index',data=df1,kind='reg')",
   "execution_count": null,
   "outputs": []
  },
  {
   "cell_type": "markdown",
   "source": "#### Redline Index vs SVI_4 (Housing Type & Transportation)",
   "metadata": {
    "tags": [],
    "cell_id": "00074-cf6d073d-a4ae-462b-81f4-a0a5c1311b57",
    "deepnote_cell_type": "markdown"
   }
  },
  {
   "cell_type": "code",
   "metadata": {
    "tags": [],
    "cell_id": "00075-a7738601-7c80-4a10-97f3-e8021f75fa69",
    "deepnote_cell_type": "code"
   },
   "source": "df1 = df_redline_SVI.dropna(subset=['reweighted_redline_index','SVI_4'])\nsns.jointplot(x='SVI_4',y='reweighted_redline_index',data=df1,kind='reg')",
   "execution_count": null,
   "outputs": []
  },
  {
   "cell_type": "markdown",
   "source": "## Variable-level Visuals",
   "metadata": {
    "tags": [],
    "cell_id": "00076-7e926da9-046f-4963-bd38-ac4dae4edb3e",
    "deepnote_cell_type": "markdown"
   }
  },
  {
   "cell_type": "markdown",
   "source": "#### Redline Index vs SVI Theme 1 (Socioeconomic Status) Variables",
   "metadata": {
    "tags": [],
    "cell_id": "00077-ca91649c-06b9-4dae-8274-d338c87ceef5",
    "deepnote_cell_type": "markdown"
   }
  },
  {
   "cell_type": "code",
   "metadata": {
    "tags": [],
    "cell_id": "00078-c894d37f-d6b3-44aa-b617-75156ac0162f",
    "deepnote_cell_type": "code"
   },
   "source": "sns.pairplot(df_ses, plot_kws = {'alpha': 0.6, 'edgecolor': 'black'}, palette = 'winter')",
   "execution_count": null,
   "outputs": []
  },
  {
   "cell_type": "markdown",
   "source": "#### Redline Index vs SVI Theme 2 (Household Composition & Disability) Variables",
   "metadata": {
    "tags": [],
    "cell_id": "00079-38906998-30df-4c11-8e46-2cc0717a8c67",
    "deepnote_cell_type": "markdown"
   }
  },
  {
   "cell_type": "code",
   "metadata": {
    "tags": [],
    "cell_id": "00080-053c313f-49e6-41ae-85b1-f8c1f5251148",
    "deepnote_cell_type": "code"
   },
   "source": "sns.pairplot(df_hh_composition_disability, plot_kws = {'alpha': 0.6, 'edgecolor': 'black'}, palette = 'winter')",
   "execution_count": null,
   "outputs": []
  },
  {
   "cell_type": "markdown",
   "source": "#### Redline Index vs SVI Theme 3 (Minority Status) Variables\n\n(Note: Language variables are not available - all-null for 'speak_spanish_at_home_low_english' variable)",
   "metadata": {
    "tags": [],
    "cell_id": "00081-002bfae7-79e9-4450-bbc4-23af893d7aab",
    "deepnote_cell_type": "markdown"
   }
  },
  {
   "cell_type": "code",
   "metadata": {
    "tags": [],
    "cell_id": "00082-82b84d57-0295-4efb-a00f-39f474183a2c",
    "deepnote_cell_type": "code"
   },
   "source": "sns.pairplot(df_minority_status, plot_kws = {'alpha': 0.6, 'edgecolor': 'black'}, palette = 'winter')",
   "execution_count": null,
   "outputs": []
  },
  {
   "cell_type": "markdown",
   "source": "#### Redline Index vs SVI Theme 4 (Housing Type & Transportation) Variables",
   "metadata": {
    "tags": [],
    "cell_id": "00083-965f9bf0-79a2-4d3b-851c-bdbb302ea500",
    "deepnote_cell_type": "markdown"
   }
  },
  {
   "cell_type": "code",
   "metadata": {
    "tags": [],
    "cell_id": "00084-5a89e355-8395-4fa9-8a6b-02c429c8c7a7",
    "deepnote_cell_type": "code"
   },
   "source": "sns.pairplot(df_housing_transport, plot_kws = {'alpha': 0.6, 'edgecolor': 'black'}, palette = 'winter')",
   "execution_count": null,
   "outputs": []
  },
  {
   "cell_type": "code",
   "metadata": {
    "tags": [],
    "cell_id": "00085-223a79ae-3ff0-431c-87d7-ff8fb1d6a2ae",
    "deepnote_cell_type": "code"
   },
   "source": "# fig = px.box(df, x=\"reweighted_redline_index\")\n# fig.show()",
   "execution_count": null,
   "outputs": []
  },
  {
   "cell_type": "markdown",
   "source": "### Joint Plots\n\n##### (Note: To select more variables of interest)",
   "metadata": {
    "tags": [],
    "cell_id": "00086-337f270e-78ee-46a1-aa5b-68c51daaf081",
    "deepnote_cell_type": "markdown"
   }
  },
  {
   "cell_type": "code",
   "metadata": {
    "tags": [],
    "cell_id": "00087-ae889fd9-bafa-4d5f-ab6e-60da417b1772",
    "deepnote_cell_type": "code"
   },
   "source": "# To-dos:\n### [Akash] 5 SVIs vs rental prioritisation\n### [Muhammad] 5 SVIs vs sdoh",
   "execution_count": null,
   "outputs": []
  },
  {
   "cell_type": "markdown",
   "source": "### 5 SVI-based Indices vs Minority (i.e. Non-White percentage, binned)",
   "metadata": {
    "tags": [],
    "cell_id": "00088-eab25a82-8058-4584-9cae-0a7474b7f2f0",
    "deepnote_cell_type": "markdown"
   }
  },
  {
   "cell_type": "markdown",
   "source": "#### SVI (All Flags) vs Minority",
   "metadata": {
    "tags": [],
    "cell_id": "00089-ecd3a572-2f27-45a1-bd9b-b1c8e86ded0c",
    "deepnote_cell_type": "markdown"
   }
  },
  {
   "cell_type": "code",
   "metadata": {
    "tags": [],
    "cell_id": "00090-c9e73afb-9f04-46cb-a0e2-20a7d7420401",
    "deepnote_cell_type": "code"
   },
   "source": "df1 = df.dropna(subset=['SVI','non_white_perc_bin'])\nsns.jointplot(x='non_white_perc_bin',y='SVI',data=df1,kind='reg')",
   "execution_count": null,
   "outputs": []
  },
  {
   "cell_type": "markdown",
   "source": "#### SVI_1 (Theme#1 SES flags) vs Minority",
   "metadata": {
    "tags": [],
    "cell_id": "00091-6e71acf0-7a5c-46cd-af1c-563361dfe6cb",
    "deepnote_cell_type": "markdown"
   }
  },
  {
   "cell_type": "code",
   "metadata": {
    "tags": [],
    "cell_id": "00092-523c161e-c9d6-41f8-9b8e-52fa5cffa67d",
    "deepnote_cell_type": "code"
   },
   "source": "df1 = df.dropna(subset=['SVI_1','non_white_perc_bin'])\nsns.jointplot(x='non_white_perc_bin',y='SVI_1',data=df1,kind='reg')",
   "execution_count": null,
   "outputs": []
  },
  {
   "cell_type": "markdown",
   "source": "#### SVI_2 (Theme#2 Household Composition flags)vs Minority",
   "metadata": {
    "tags": [],
    "cell_id": "00093-1c5dc28b-cd65-4ec1-9b2c-4f648c0f61e6",
    "deepnote_cell_type": "markdown"
   }
  },
  {
   "cell_type": "code",
   "metadata": {
    "tags": [],
    "cell_id": "00094-8b477c33-a776-4d6b-b1be-f8b8a3fa2912",
    "deepnote_cell_type": "code"
   },
   "source": "df1 = df.dropna(subset=['SVI_2','non_white_perc_bin'])\nsns.jointplot(x='non_white_perc_bin',y='SVI_2',data=df1,kind='reg')",
   "execution_count": null,
   "outputs": []
  },
  {
   "cell_type": "markdown",
   "source": "#### SVI_3 (Theme#3 Minority flags) vs Minority\n\n(Note: This is passed - Minority flags are derived from non-white percentage.)",
   "metadata": {
    "tags": [],
    "cell_id": "00095-f78a8d99-e7fa-45ce-81c6-e07b023b9aa0",
    "deepnote_cell_type": "markdown"
   }
  },
  {
   "cell_type": "markdown",
   "source": "#### SVI_4 (Theme#4 Housing flags) vs Minority",
   "metadata": {
    "tags": [],
    "cell_id": "00096-70fb314a-a264-4143-a093-c7ebde9939c9",
    "deepnote_cell_type": "markdown"
   }
  },
  {
   "cell_type": "code",
   "metadata": {
    "tags": [],
    "cell_id": "00097-8a2a9053-46d3-4f7f-8cf1-49601d0758c9",
    "deepnote_cell_type": "code"
   },
   "source": "df1 = df.dropna(subset=['SVI_4','non_white_perc_bin'])\nsns.jointplot(x='non_white_perc_bin',y='SVI_4',data=df1,kind='reg')",
   "execution_count": null,
   "outputs": []
  },
  {
   "cell_type": "markdown",
   "source": "### Redline vs Minority (i.e. Non-White percentage, binned)",
   "metadata": {
    "tags": [],
    "cell_id": "00098-70fc752f-b78b-47b3-b194-8029822941bf",
    "deepnote_cell_type": "markdown"
   }
  },
  {
   "cell_type": "code",
   "metadata": {
    "tags": [],
    "cell_id": "00099-39b20198-3de4-464f-aa9e-e862367eee27",
    "deepnote_cell_type": "code"
   },
   "source": "df1 = df.dropna(subset=['reweighted_redline_index','non_white_perc_bin'])\nsns.jointplot(x='non_white_perc_bin',y='reweighted_redline_index',data=df1,kind='reg')",
   "execution_count": null,
   "outputs": []
  },
  {
   "cell_type": "markdown",
   "source": "## Spatial Correlations/Relationships between SVI variables and Redlining Index",
   "metadata": {
    "tags": [],
    "cell_id": "00100-843a4dcf-aaf0-4ce3-b00d-5a28fa44ad27",
    "deepnote_cell_type": "markdown"
   }
  },
  {
   "cell_type": "code",
   "metadata": {
    "tags": [],
    "cell_id": "00101-af60afe6-6794-4d7a-b901-4eda3058a461",
    "deepnote_cell_type": "code"
   },
   "source": "#Main dataset\ngdf_Boston.head()",
   "execution_count": null,
   "outputs": []
  },
  {
   "cell_type": "code",
   "metadata": {
    "tags": [],
    "cell_id": "00102-6370f457-0241-45ff-9dd6-4df6884815bb",
    "deepnote_cell_type": "code"
   },
   "source": "#Recreating SVI variables for this dataset\nSVI_Vars = ['geo_id','poverty','unemployed_pop','median_income','income_per_capita','less_than_high_school_graduate',\n'aged_65_or_older','aged_17_or_younger','one_parent_families_with_young_children',\n'non_white','multi_unit_structures','mobile_homes','no_cars','group_quarters',\n'pop_determined_poverty_status','total_pop','households','housing_units', 'reweighted_redline_index','ordinal_value']",
   "execution_count": null,
   "outputs": []
  },
  {
   "cell_type": "code",
   "metadata": {
    "tags": [],
    "cell_id": "00103-b841560c-5772-47dd-af30-c7e0560fd944",
    "deepnote_cell_type": "code"
   },
   "source": "#Subsetting SVI variables\ngdf_Boston = gdf_Boston[SVI_Vars]\ngdf_Boston.head()",
   "execution_count": null,
   "outputs": []
  },
  {
   "cell_type": "code",
   "metadata": {
    "tags": [],
    "cell_id": "00104-a02ef050-22e1-40ce-bb6d-6a27dde57af9",
    "deepnote_cell_type": "code"
   },
   "source": "# Remove duplicates and null values from the SVI-based variables dataset before further processing\ngdf_Boston.drop_duplicates(inplace=True)\ngdf_Boston.dropna(inplace=True)",
   "execution_count": null,
   "outputs": []
  },
  {
   "cell_type": "code",
   "metadata": {
    "tags": [],
    "cell_id": "00105-59a0ef15-3c5e-4eb9-a174-aa9216ae0f9f",
    "deepnote_cell_type": "code"
   },
   "source": "# Aggregating variables and normalising them\n# Setting flags for the tracts which are ranked at 90th percentile and above\n\ngdf_Boston['poverty_perc'] = gdf_Boston['poverty']/gdf_Boston['pop_determined_poverty_status']\ngdf_Boston['poverty_perc_bin'] = gdf_Boston['poverty_perc'].apply(perc_bin)\ngdf_Boston.loc[gdf_Boston['poverty_perc'] >= gdf_Boston['poverty_perc'].quantile(0.9), 'poverty_flag'] = 1\ngdf_Boston['poverty_flag'] = gdf_Boston['poverty_flag'].fillna(0)\n\ngdf_Boston['unemployed_pop_perc'] = gdf_Boston['unemployed_pop'] / gdf_Boston['total_pop']\ngdf_Boston['unemployed_pop_perc_bin'] = gdf_Boston['unemployed_pop_perc'].apply(perc_bin)\ngdf_Boston.loc[gdf_Boston['unemployed_pop_perc'] >= gdf_Boston['unemployed_pop_perc'].quantile(0.9), 'unemployed_flag'] = 1\ngdf_Boston['unemployed_flag'] = gdf_Boston['unemployed_flag'].fillna(0)\n\ngdf_Boston['less_than_high_school_graduate_perc'] = gdf_Boston['less_than_high_school_graduate'] / gdf_Boston['total_pop']\ngdf_Boston['less_than_high_school_graduate_perc_bin'] = gdf_Boston['less_than_high_school_graduate_perc'].apply(perc_bin)\ngdf_Boston.loc[gdf_Boston['less_than_high_school_graduate_perc'] >= gdf_Boston['less_than_high_school_graduate_perc'].quantile(0.9), 'less_than_high_school_graduate_flag'] = 1\ngdf_Boston['less_than_high_school_graduate_flag'] = gdf_Boston['less_than_high_school_graduate_flag'].fillna(0)\n\ngdf_Boston['aged_65_or_older_perc'] = gdf_Boston['aged_65_or_older'] / gdf_Boston['total_pop']\ngdf_Boston['aged_65_or_older_perc_bin'] = gdf_Boston['aged_65_or_older_perc'].apply(perc_bin)\ngdf_Boston.loc[gdf_Boston['aged_65_or_older_perc'] >= gdf_Boston['aged_65_or_older_perc'].quantile(0.9), 'aged_65_or_older_flag'] = 1\ngdf_Boston['aged_65_or_older_flag'] = gdf_Boston['aged_65_or_older_flag'].fillna(0)\n\ngdf_Boston['aged_17_or_younger_perc'] = gdf_Boston['aged_17_or_younger'] / gdf_Boston['total_pop']\ngdf_Boston['aged_17_or_younger_perc_bin'] = gdf_Boston['aged_17_or_younger_perc'].apply(perc_bin)\ngdf_Boston.loc[gdf_Boston['aged_17_or_younger_perc'] >= gdf_Boston['aged_17_or_younger_perc'].quantile(0.9), 'aged_17_or_younger_flag'] = 1\ngdf_Boston['aged_17_or_younger_flag'] = gdf_Boston['aged_17_or_younger_flag'].fillna(0)\n\ngdf_Boston['one_parent_families_with_young_children_perc'] = gdf_Boston['one_parent_families_with_young_children'] / gdf_Boston['households']\ngdf_Boston['one_parent_families_with_young_children_perc_bin'] = gdf_Boston['one_parent_families_with_young_children_perc'].apply(perc_bin)\ngdf_Boston.loc[gdf_Boston['one_parent_families_with_young_children_perc'] >= gdf_Boston['one_parent_families_with_young_children_perc'].quantile(0.9), 'one_parent_families_with_young_children_flag'] = 1\ngdf_Boston['one_parent_families_with_young_children_flag'] = gdf_Boston['one_parent_families_with_young_children_flag'].fillna(0)\n\ngdf_Boston['non_white_perc'] = gdf_Boston['non_white'] / gdf_Boston['total_pop']\ngdf_Boston['non_white_perc_bin'] = gdf_Boston['non_white_perc'].apply(perc_bin)\ngdf_Boston.loc[gdf_Boston['non_white_perc'] >= gdf_Boston['non_white_perc'].quantile(0.9), 'non_white_flag'] = 1\ngdf_Boston['non_white_flag'] = gdf_Boston['non_white_flag'].fillna(0)\n\ngdf_Boston['multi_unit_structures_perc'] = gdf_Boston['multi_unit_structures'] / gdf_Boston['housing_units']\ngdf_Boston['multi_unit_structures_perc_bin'] = gdf_Boston['multi_unit_structures_perc'].apply(perc_bin)\ngdf_Boston.loc[gdf_Boston['multi_unit_structures_perc'] >= gdf_Boston['multi_unit_structures_perc'].quantile(0.9), 'multi_unit_structures_flag'] = 1\ngdf_Boston['multi_unit_structures_flag'] = gdf_Boston['multi_unit_structures_flag'].fillna(0)\n\ngdf_Boston['mobile_homes_perc'] = gdf_Boston['mobile_homes'] / gdf_Boston['housing_units']\ngdf_Boston['mobile_homes_perc_bin'] = gdf_Boston['mobile_homes_perc'].apply(perc_bin)\ngdf_Boston.loc[gdf_Boston['mobile_homes_perc'] >= gdf_Boston['mobile_homes_perc'].quantile(0.9), 'mobile_homes_flag'] = 1\ngdf_Boston['mobile_homes_flag'] = gdf_Boston['mobile_homes_flag'].fillna(0)\n\ngdf_Boston['no_cars_perc'] = gdf_Boston['no_cars'] / gdf_Boston['households']\ngdf_Boston['no_cars_perc_bin'] = gdf_Boston['no_cars_perc'].apply(perc_bin)\ngdf_Boston.loc[gdf_Boston['no_cars_perc'] >= gdf_Boston['no_cars_perc'].quantile(0.9), 'no_cars_flag'] = 1\ngdf_Boston['no_cars_flag'] = gdf_Boston['no_cars_flag'].fillna(0)\n\ngdf_Boston['group_quarters_perc'] = gdf_Boston['group_quarters'] / gdf_Boston['total_pop']\ngdf_Boston['group_quarters_perc_bin'] = gdf_Boston['group_quarters_perc'].apply(perc_bin)\ngdf_Boston.loc[gdf_Boston['group_quarters_perc'] >= gdf_Boston['group_quarters_perc'].quantile(0.9), 'group_quarters_flag'] = 1\ngdf_Boston['group_quarters_flag'] = gdf_Boston['group_quarters_flag'].fillna(0)",
   "execution_count": null,
   "outputs": []
  },
  {
   "cell_type": "code",
   "metadata": {
    "tags": [],
    "cell_id": "00106-905c53f6-efad-4fb9-a0ca-a27a33a31f55",
    "deepnote_cell_type": "code"
   },
   "source": "# Repeat flag setting for variables which do not requirea normalisation\n# Setting flags for the tracts which are ranked at 90th percentile and above\n\ngdf_Boston.loc[gdf_Boston['median_income'] <= gdf_Boston['median_income'].quantile(0.1), 'median_income_flag'] = 1\ngdf_Boston['median_income_flag'] = gdf_Boston['median_income_flag'].fillna(0)\n\ngdf_Boston.loc[gdf_Boston['income_per_capita'] <= gdf_Boston['income_per_capita'].quantile(0.1), 'income_per_capita_flag'] = 1\ngdf_Boston['income_per_capita_flag'] = gdf_Boston['income_per_capita_flag'].fillna(0)",
   "execution_count": null,
   "outputs": []
  },
  {
   "cell_type": "code",
   "metadata": {
    "tags": [],
    "cell_id": "00107-764f6c7e-283e-4b29-9c07-b1126ac94f00",
    "deepnote_cell_type": "code"
   },
   "source": "# The number of flags (for each tract), all SVI-based variables\ngdf_Boston['SVI'] = gdf_Boston['poverty_flag'] + gdf_Boston['unemployed_flag'] + gdf_Boston['median_income_flag'] + gdf_Boston['income_per_capita_flag'] + gdf_Boston['less_than_high_school_graduate_flag'] + gdf_Boston['aged_65_or_older_flag'] + gdf_Boston['aged_17_or_younger_flag'] + gdf_Boston['one_parent_families_with_young_children_flag'] + gdf_Boston['non_white_flag'] + gdf_Boston['multi_unit_structures_flag'] + gdf_Boston['mobile_homes_flag'] + gdf_Boston['no_cars_flag'] + gdf_Boston['group_quarters_flag']\n\n# The number of flags (for each tract); Theme#1: Socioeconomic Status\ngdf_Boston['SVI_1'] = gdf_Boston['poverty_flag'] + gdf_Boston['unemployed_flag'] + gdf_Boston['median_income_flag'] + gdf_Boston['income_per_capita_flag'] + gdf_Boston['less_than_high_school_graduate_flag']\n\n# The number of flags (for each tract); Theme#2: Household Composition & Disability\ngdf_Boston['SVI_2'] = gdf_Boston['aged_65_or_older_flag'] + gdf_Boston['aged_17_or_younger_flag'] + gdf_Boston['one_parent_families_with_young_children_flag']\n\n# The number of flags (for each tract); Theme#3: Minority Status & Language\ngdf_Boston['SVI_3'] = gdf_Boston['non_white_flag']\n\n# The number of flags (for each tract); Theme#4: Housing Type & Transportation\ngdf_Boston['SVI_4'] = gdf_Boston['multi_unit_structures_flag'] + gdf_Boston['mobile_homes_flag'] + gdf_Boston['no_cars_flag'] + gdf_Boston['group_quarters_flag']",
   "execution_count": null,
   "outputs": []
  },
  {
   "cell_type": "code",
   "metadata": {
    "tags": [],
    "cell_id": "00108-87261bc4-df43-4df8-a5b7-9b75b210f40a",
    "deepnote_cell_type": "code"
   },
   "source": "gdf_Boston.head()",
   "execution_count": null,
   "outputs": []
  },
  {
   "cell_type": "code",
   "metadata": {
    "tags": [],
    "cell_id": "00109-f959567d-23ea-406a-80e3-55678dac5191",
    "deepnote_cell_type": "code"
   },
   "source": "#Merging with geo file for spatial analysis\n\nimport geopandas as gpd\n#Loading MASS geofile\nboston_geodf = gpd.read_file('/work/COVIDRedlining/data/boston/boston census tracts/tl_2019_25_tract.shp')\n\n#Taking only geo-values for boston\nboston_geoid = list(df_redline['geo_id'])\n\n#Renaming columns \nboston_geodf = boston_geodf.rename(columns={'GEOID':'geo_id'})\n\n#Converting data types\nboston_geodf['geo_id'] = boston_geodf['geo_id'].astype(float) \n\n#Subsetting only boston valyes\nboston_geodf = boston_geodf.loc[boston_geodf['geo_id'].isin(boston_geoid)]\n\n#Merging SVI with geo df \ngdf_Boston = boston_geodf.merge(gdf_Boston, on ='geo_id', how ='left')\ngdf_Boston.head()",
   "execution_count": null,
   "outputs": []
  },
  {
   "cell_type": "code",
   "metadata": {
    "tags": [],
    "cell_id": "00110-5564818b-f759-4f99-a38a-1f83808bff0e",
    "deepnote_cell_type": "code"
   },
   "source": "gdf_Boston.columns",
   "execution_count": null,
   "outputs": []
  },
  {
   "cell_type": "markdown",
   "source": "## SVI + Redlining Index Correlation",
   "metadata": {
    "tags": [],
    "cell_id": "00111-4ec28822-a505-4f1d-8f91-73f0f8e8ba21",
    "deepnote_cell_type": "markdown"
   }
  },
  {
   "cell_type": "code",
   "metadata": {
    "tags": [],
    "cell_id": "00112-89e0af88-e4de-46df-bf4b-2076092abc45",
    "deepnote_cell_type": "code"
   },
   "source": "#Importing spatial libraries\nimport fiona.crs\nfrom libpysal.weights.contiguity import Queen\nfrom libpysal import examples\nfrom libpysal import weights\nimport esda\nfrom esda.moran import Moran, Moran_Local,Moran_BV, Moran_Local_BV\nfrom splot.esda import lisa_cluster, plot_moran_bv_simulation, plot_moran_bv, plot_local_autocorrelation, moran_scatterplot",
   "execution_count": null,
   "outputs": []
  },
  {
   "cell_type": "code",
   "metadata": {
    "tags": [],
    "cell_id": "00113-1d1f0381-911d-47af-8f68-1d1006d93448",
    "deepnote_cell_type": "code"
   },
   "source": "x.shape",
   "execution_count": null,
   "outputs": []
  },
  {
   "cell_type": "code",
   "metadata": {
    "tags": [],
    "cell_id": "00114-18a8f8e3-0fe2-4a1c-8a9e-2b05b2c9d355",
    "deepnote_cell_type": "code"
   },
   "source": "#Creating spatial indices and running correlations\n\n#Creating an empty df for storing the results of the correlation\nspatial_corr = pd.DataFrame(columns=['SVI','SES','Household_Composition','Minority','Housing_Transportation'])\n\n#Dropping null values\ngdf_Boston = gdf_Boston.dropna()\n\n#Renaming columns \ngdf_Boston = gdf_Boston.rename(columns={'ordinal_value':'redlining_index'})\n\n#Getting all SVI columns\nSVI_corr_vars = ['SVI','SVI_1','SVI_2','SVI_3','SVI_4']\n\n#Spatial transformations\nw = Queen.from_dataframe(gdf_Boston)\nw.transform = 'R'\n\n#Storing values of correlation in a list\ncorr_list = []\nfor i in SVI_corr_vars:\n#Running spatial correlations\n    y = gdf_Boston[i].values\n    x = gdf_Boston['reweighted_redline_index'].values\n    moran = Moran(y,w)\n    moran_loc = Moran_Local(y, w)\n    moran_bv = Moran_BV(y, x, w)\n    moran_loc_bv = Moran_Local_BV(y, x, w, permutations = 999)\n    corr_list.append(moran_bv.I)\n    plot_local_autocorrelation(moran_loc_bv, gdf_Boston, 'non_white', figsize=(15,15))\n    #Adding a column for cluster values\n    gdf_Boston['{}_cluster'.format(i)] = moran_loc_bv.q \n    plt.title('{} and Redlining'.format(i), fontdict={'fontsize':20})\n    plt.show()\n\n\ndf_length = len(spatial_corr)\nspatial_corr.loc[df_length] = corr_list",
   "execution_count": null,
   "outputs": []
  },
  {
   "cell_type": "code",
   "metadata": {
    "tags": [],
    "cell_id": "00115-14180bde-4a1f-4bea-b5bc-0794529a1cf4",
    "deepnote_cell_type": "code"
   },
   "source": "spatial_corr.head()",
   "execution_count": null,
   "outputs": []
  },
  {
   "cell_type": "code",
   "metadata": {
    "tags": [],
    "cell_id": "00116-44b30833-5097-4485-b280-4b1f04274f45",
    "deepnote_cell_type": "code"
   },
   "source": "#Reassigning cluster values such that 1 = HH, 2 = HL, 3 = LH, 4 = LL\ndef cluster_assign(row):\n\n    if row == 2:\n        val = 3\n    elif row == 3:\n        val = 4\n    elif row == 4:\n        val = 2\n    else:\n        val = 1\n\n    return val",
   "execution_count": null,
   "outputs": []
  },
  {
   "cell_type": "code",
   "metadata": {
    "tags": [],
    "cell_id": "00117-c54cf204-5528-423d-b531-8c9e2515c1c6",
    "deepnote_cell_type": "code"
   },
   "source": "#Applying clusters\n\ngdf_Boston['SVI'] = gdf_Boston['SVI'].apply(cluster_assign)\ngdf_Boston['SVI_1_cluster'] = gdf_Boston['SVI_1_cluster'].apply(cluster_assign)\ngdf_Boston['SVI_2_cluster'] = gdf_Boston['SVI_2_cluster'].apply(cluster_assign)\ngdf_Boston['SVI_3_cluster'] = gdf_Boston['SVI_3_cluster'].apply(cluster_assign)\ngdf_Boston['SVI_4_cluster'] = gdf_Boston['SVI_4_cluster'].apply(cluster_assign)",
   "execution_count": null,
   "outputs": []
  },
  {
   "cell_type": "code",
   "metadata": {
    "tags": [],
    "cell_id": "00118-6206b706-a4af-45f6-a8fa-6439130c5d42",
    "deepnote_cell_type": "code"
   },
   "source": "gdf_Boston.head()",
   "execution_count": null,
   "outputs": []
  },
  {
   "cell_type": "code",
   "metadata": {
    "tags": [],
    "cell_id": "00119-7562e629-18be-4c6a-9db5-88e10d2a9e27",
    "deepnote_cell_type": "code"
   },
   "source": "ax = gdf_Boston.to_crs('EPSG:3857').plot(column='SVI',figsize=(15, 15), alpha=0.5, edgecolor='k', cmap = \"coolwarm\",legend=True)\nctx.add_basemap(ax, zoom=12, source=ctx.providers.OpenStreetMap.Mapnik)\nax.set_title('{} and Redlining'.format(i))\nax.set_axis_off()",
   "execution_count": null,
   "outputs": []
  },
  {
   "cell_type": "code",
   "metadata": {
    "tags": [],
    "cell_id": "00120-d841948b-1474-4de0-9a80-a7b12033f86f",
    "deepnote_cell_type": "code"
   },
   "source": "#1 = (HH), 2 = (HL), 3 = (LH), 4 = (LL) where HH = High SVI, High Redlining, LH = Low SVI, High Redline\n\nimport contextily as ctx\n\ncluster_list = ['SVI_cluster','SVI_1_cluster','SVI_2_cluster','SVI_3_cluster','SVI_4_cluster']\nfor i in cluster_list:\n    ax = gdf_Boston.to_crs('EPSG:3857').plot(column=i,figsize=(15, 15), alpha=0.5, edgecolor='k', cmap = \"coolwarm_r\",legend=True)\n    ctx.add_basemap(ax, zoom=12, source=ctx.providers.OpenStreetMap.Mapnik)\n    ax.set_title('{} and Redlining'.format(i))\n    ax.set_axis_off()",
   "execution_count": null,
   "outputs": []
  },
  {
   "cell_type": "markdown",
   "source": "Moran's I validity for SVI",
   "metadata": {
    "tags": [],
    "cell_id": "00121-78217bdc-23a8-48c1-ad65-1d70b563a325",
    "deepnote_cell_type": "markdown"
   }
  },
  {
   "cell_type": "code",
   "metadata": {
    "tags": [],
    "cell_id": "00122-b7250c06-e9dd-436a-8d87-18f1c2c8ff92",
    "deepnote_cell_type": "code"
   },
   "source": "import esda\nMoran_SVI = esda.Moran_BV(gdf_Boston.SVI,gdf_Boston.redlining_index, w, permutations=1000)\nprint(\"Moran's I: {0:.{1}f}\".format(Moran_SVI.I, 3))\nprint(\"Moran's E[I]: {0:.{1}f}\".format(Moran_SVI.EI_sim, 3))\nprint(\"Moran's Var[I]: {0:.{1}f}\".format(Moran_SVI.VI_sim, 3))",
   "execution_count": null,
   "outputs": []
  },
  {
   "cell_type": "code",
   "metadata": {
    "tags": [],
    "cell_id": "00123-44f9cf29-7231-4d0c-9727-db6669d4c527",
    "deepnote_cell_type": "code"
   },
   "source": "round(Moran_SVI.p_z_sim, 3)",
   "execution_count": null,
   "outputs": []
  },
  {
   "cell_type": "code",
   "metadata": {
    "tags": [],
    "cell_id": "00124-9884cf00-9ebc-4262-987d-20b28d7896d8",
    "deepnote_cell_type": "code"
   },
   "source": "fig, ax = plt.subplots(1, 1, figsize=(13, 8))\nsns.kdeplot(Moran_SVI.sim, shade=True, ax=ax)\nax.axvline(Moran_SVI.I, 0, 10, color=\"r\")\nax.set_title(\"SVI Moran's I\")\nax.legend([\"1000 random permutations\", \"observed \\nempirical p.value: \" + str(round(Moran_SVI.p_sim,3))])\nax.vlines(Moran_SVI.sim, 0, 0.5)",
   "execution_count": null,
   "outputs": []
  },
  {
   "cell_type": "markdown",
   "source": "<a style='text-decoration:none;line-height:16px;display:flex;color:#5B5B62;padding:10px;justify-content:end;' href='https://deepnote.com?utm_source=created-in-deepnote-cell&projectId=c9a4f701-31a5-4164-b3f3-c09cddf1309e' target=\"_blank\">\n<img alt='Created in deepnote.com' style='display:inline;max-height:16px;margin:0px;margin-right:7.5px;' src='data:image/svg+xml;base64,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' > </img>\nCreated in <span style='font-weight:600;margin-left:4px;'>Deepnote</span></a>",
   "metadata": {
    "tags": [],
    "created_in_deepnote_cell": true,
    "deepnote_cell_type": "markdown"
   }
  }
 ],
 "nbformat": 4,
 "nbformat_minor": 2,
 "metadata": {
  "orig_nbformat": 2,
  "deepnote": {
   "is_reactive": false
  },
  "deepnote_notebook_id": "b341f0f8-aee6-4046-b05d-1fe99d79489a",
  "deepnote_execution_queue": []
 }
}